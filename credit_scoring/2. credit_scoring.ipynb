{
 "cells": [
  {
   "cell_type": "markdown",
   "metadata": {},
   "source": [
    "# Исследование надёжности заёмщиков\n",
    "\n",
    "## Описание проекта\n",
    "\n",
    "**Заказчик** — кредитный отдел банка. Нужно разобраться, влияет ли семейное положение и количество детей клиента на факт погашения кредита в срок. Входные данные от банка — статистика о платёжеспособности клиентов.\n",
    "\n",
    "**Цель исследования** - результаты будут учтены при построении модели **кредитного скоринга** — специальной системы, которая оценивает способность потенциального заёмщика вернуть кредит банку.\n",
    "\n",
    "**Описание данных**\n",
    "- children — количество детей в семье\n",
    "- days_employed — общий трудовой стаж в днях\n",
    "- dob_years — возраст клиента в годах\n",
    "- education — уровень образования клиента\n",
    "- education_id — идентификатор уровня образования\n",
    "- family_status — семейное положение\n",
    "- family_status_id — идентификатор семейного положения\n",
    "- gender — пол клиента\n",
    "- income_type — тип занятости\n",
    "- debt — имел ли задолженность по возврату кредитов\n",
    "- total_income — ежемесячный доход\n",
    "- purpose — цель получения кредита"
   ]
  },
  {
   "cell_type": "markdown",
   "metadata": {},
   "source": [
    "## Шаг 1. Откройте файл с данными и изучите общую информацию"
   ]
  },
  {
   "cell_type": "code",
   "execution_count": 1,
   "metadata": {},
   "outputs": [],
   "source": [
    "# загрузка необходимых библиотек для проведения исследования\n",
    "import pandas as pd\n",
    "from pymystem3 import Mystem\n",
    "from collections import Counter"
   ]
  },
  {
   "cell_type": "code",
   "execution_count": 2,
   "metadata": {},
   "outputs": [
    {
     "name": "stdout",
     "output_type": "stream",
     "text": [
      "<class 'pandas.core.frame.DataFrame'>\n",
      "RangeIndex: 21525 entries, 0 to 21524\n",
      "Data columns (total 12 columns):\n",
      "children            21525 non-null int64\n",
      "days_employed       19351 non-null float64\n",
      "dob_years           21525 non-null int64\n",
      "education           21525 non-null object\n",
      "education_id        21525 non-null int64\n",
      "family_status       21525 non-null object\n",
      "family_status_id    21525 non-null int64\n",
      "gender              21525 non-null object\n",
      "income_type         21525 non-null object\n",
      "debt                21525 non-null int64\n",
      "total_income        19351 non-null float64\n",
      "purpose             21525 non-null object\n",
      "dtypes: float64(2), int64(5), object(5)\n",
      "memory usage: 2.0+ MB\n"
     ]
    }
   ],
   "source": [
    "clients = pd.read_csv('/datasets/data.csv') # откурытие файла с данными и запись его в переменную `clients`\n",
    "clients.info() # вывод общей информации о файле"
   ]
  },
  {
   "cell_type": "markdown",
   "metadata": {},
   "source": [
    "**По общей информации можно сказать:**\n",
    "1. В таблице присутствует 3 типа данных: `int`(целые числа), `float`(дробные) и `object`(может содержать несколько типов данных).\n",
    "2. В столбцах `days_employed` и `total_income` отсутствует часть значений.\n",
    "3. В названии столбцов нарушений нет, можно их не переименовывать."
   ]
  },
  {
   "cell_type": "code",
   "execution_count": 3,
   "metadata": {},
   "outputs": [
    {
     "data": {
      "text/plain": [
       "children               0\n",
       "days_employed       2174\n",
       "dob_years              0\n",
       "education              0\n",
       "education_id           0\n",
       "family_status          0\n",
       "family_status_id       0\n",
       "gender                 0\n",
       "income_type            0\n",
       "debt                   0\n",
       "total_income        2174\n",
       "purpose                0\n",
       "dtype: int64"
      ]
     },
     "execution_count": 3,
     "metadata": {},
     "output_type": "execute_result"
    }
   ],
   "source": [
    "clients.isna().sum() # проверим сколько пропущенных значений, применив метод .isna() и просуммировав значения методом .sum()\n"
   ]
  },
  {
   "cell_type": "markdown",
   "metadata": {},
   "source": [
    "Количество пропущенных значений по столбцам `days_employed` и `total_income` совпадает. 10% пропущенных значений могут повлиять на исследование, их нужно будет обработать."
   ]
  },
  {
   "cell_type": "code",
   "execution_count": 4,
   "metadata": {},
   "outputs": [
    {
     "data": {
      "text/html": [
       "<div>\n",
       "<style scoped>\n",
       "    .dataframe tbody tr th:only-of-type {\n",
       "        vertical-align: middle;\n",
       "    }\n",
       "\n",
       "    .dataframe tbody tr th {\n",
       "        vertical-align: top;\n",
       "    }\n",
       "\n",
       "    .dataframe thead th {\n",
       "        text-align: right;\n",
       "    }\n",
       "</style>\n",
       "<table border=\"1\" class=\"dataframe\">\n",
       "  <thead>\n",
       "    <tr style=\"text-align: right;\">\n",
       "      <th></th>\n",
       "      <th>children</th>\n",
       "      <th>days_employed</th>\n",
       "      <th>dob_years</th>\n",
       "      <th>education</th>\n",
       "      <th>education_id</th>\n",
       "      <th>family_status</th>\n",
       "      <th>family_status_id</th>\n",
       "      <th>gender</th>\n",
       "      <th>income_type</th>\n",
       "      <th>debt</th>\n",
       "      <th>total_income</th>\n",
       "      <th>purpose</th>\n",
       "    </tr>\n",
       "  </thead>\n",
       "  <tbody>\n",
       "    <tr>\n",
       "      <td>0</td>\n",
       "      <td>1</td>\n",
       "      <td>-8437.673028</td>\n",
       "      <td>42</td>\n",
       "      <td>высшее</td>\n",
       "      <td>0</td>\n",
       "      <td>женат / замужем</td>\n",
       "      <td>0</td>\n",
       "      <td>F</td>\n",
       "      <td>сотрудник</td>\n",
       "      <td>0</td>\n",
       "      <td>253875.639453</td>\n",
       "      <td>покупка жилья</td>\n",
       "    </tr>\n",
       "    <tr>\n",
       "      <td>1</td>\n",
       "      <td>1</td>\n",
       "      <td>-4024.803754</td>\n",
       "      <td>36</td>\n",
       "      <td>среднее</td>\n",
       "      <td>1</td>\n",
       "      <td>женат / замужем</td>\n",
       "      <td>0</td>\n",
       "      <td>F</td>\n",
       "      <td>сотрудник</td>\n",
       "      <td>0</td>\n",
       "      <td>112080.014102</td>\n",
       "      <td>приобретение автомобиля</td>\n",
       "    </tr>\n",
       "    <tr>\n",
       "      <td>2</td>\n",
       "      <td>0</td>\n",
       "      <td>-5623.422610</td>\n",
       "      <td>33</td>\n",
       "      <td>Среднее</td>\n",
       "      <td>1</td>\n",
       "      <td>женат / замужем</td>\n",
       "      <td>0</td>\n",
       "      <td>M</td>\n",
       "      <td>сотрудник</td>\n",
       "      <td>0</td>\n",
       "      <td>145885.952297</td>\n",
       "      <td>покупка жилья</td>\n",
       "    </tr>\n",
       "    <tr>\n",
       "      <td>3</td>\n",
       "      <td>3</td>\n",
       "      <td>-4124.747207</td>\n",
       "      <td>32</td>\n",
       "      <td>среднее</td>\n",
       "      <td>1</td>\n",
       "      <td>женат / замужем</td>\n",
       "      <td>0</td>\n",
       "      <td>M</td>\n",
       "      <td>сотрудник</td>\n",
       "      <td>0</td>\n",
       "      <td>267628.550329</td>\n",
       "      <td>дополнительное образование</td>\n",
       "    </tr>\n",
       "    <tr>\n",
       "      <td>4</td>\n",
       "      <td>0</td>\n",
       "      <td>340266.072047</td>\n",
       "      <td>53</td>\n",
       "      <td>среднее</td>\n",
       "      <td>1</td>\n",
       "      <td>гражданский брак</td>\n",
       "      <td>1</td>\n",
       "      <td>F</td>\n",
       "      <td>пенсионер</td>\n",
       "      <td>0</td>\n",
       "      <td>158616.077870</td>\n",
       "      <td>сыграть свадьбу</td>\n",
       "    </tr>\n",
       "    <tr>\n",
       "      <td>5</td>\n",
       "      <td>0</td>\n",
       "      <td>-926.185831</td>\n",
       "      <td>27</td>\n",
       "      <td>высшее</td>\n",
       "      <td>0</td>\n",
       "      <td>гражданский брак</td>\n",
       "      <td>1</td>\n",
       "      <td>M</td>\n",
       "      <td>компаньон</td>\n",
       "      <td>0</td>\n",
       "      <td>255763.565419</td>\n",
       "      <td>покупка жилья</td>\n",
       "    </tr>\n",
       "    <tr>\n",
       "      <td>6</td>\n",
       "      <td>0</td>\n",
       "      <td>-2879.202052</td>\n",
       "      <td>43</td>\n",
       "      <td>высшее</td>\n",
       "      <td>0</td>\n",
       "      <td>женат / замужем</td>\n",
       "      <td>0</td>\n",
       "      <td>F</td>\n",
       "      <td>компаньон</td>\n",
       "      <td>0</td>\n",
       "      <td>240525.971920</td>\n",
       "      <td>операции с жильем</td>\n",
       "    </tr>\n",
       "    <tr>\n",
       "      <td>7</td>\n",
       "      <td>0</td>\n",
       "      <td>-152.779569</td>\n",
       "      <td>50</td>\n",
       "      <td>СРЕДНЕЕ</td>\n",
       "      <td>1</td>\n",
       "      <td>женат / замужем</td>\n",
       "      <td>0</td>\n",
       "      <td>M</td>\n",
       "      <td>сотрудник</td>\n",
       "      <td>0</td>\n",
       "      <td>135823.934197</td>\n",
       "      <td>образование</td>\n",
       "    </tr>\n",
       "    <tr>\n",
       "      <td>8</td>\n",
       "      <td>2</td>\n",
       "      <td>-6929.865299</td>\n",
       "      <td>35</td>\n",
       "      <td>ВЫСШЕЕ</td>\n",
       "      <td>0</td>\n",
       "      <td>гражданский брак</td>\n",
       "      <td>1</td>\n",
       "      <td>F</td>\n",
       "      <td>сотрудник</td>\n",
       "      <td>0</td>\n",
       "      <td>95856.832424</td>\n",
       "      <td>на проведение свадьбы</td>\n",
       "    </tr>\n",
       "    <tr>\n",
       "      <td>9</td>\n",
       "      <td>0</td>\n",
       "      <td>-2188.756445</td>\n",
       "      <td>41</td>\n",
       "      <td>среднее</td>\n",
       "      <td>1</td>\n",
       "      <td>женат / замужем</td>\n",
       "      <td>0</td>\n",
       "      <td>M</td>\n",
       "      <td>сотрудник</td>\n",
       "      <td>0</td>\n",
       "      <td>144425.938277</td>\n",
       "      <td>покупка жилья для семьи</td>\n",
       "    </tr>\n",
       "  </tbody>\n",
       "</table>\n",
       "</div>"
      ],
      "text/plain": [
       "   children  days_employed  dob_years education  education_id  \\\n",
       "0         1   -8437.673028         42    высшее             0   \n",
       "1         1   -4024.803754         36   среднее             1   \n",
       "2         0   -5623.422610         33   Среднее             1   \n",
       "3         3   -4124.747207         32   среднее             1   \n",
       "4         0  340266.072047         53   среднее             1   \n",
       "5         0    -926.185831         27    высшее             0   \n",
       "6         0   -2879.202052         43    высшее             0   \n",
       "7         0    -152.779569         50   СРЕДНЕЕ             1   \n",
       "8         2   -6929.865299         35    ВЫСШЕЕ             0   \n",
       "9         0   -2188.756445         41   среднее             1   \n",
       "\n",
       "      family_status  family_status_id gender income_type  debt   total_income  \\\n",
       "0   женат / замужем                 0      F   сотрудник     0  253875.639453   \n",
       "1   женат / замужем                 0      F   сотрудник     0  112080.014102   \n",
       "2   женат / замужем                 0      M   сотрудник     0  145885.952297   \n",
       "3   женат / замужем                 0      M   сотрудник     0  267628.550329   \n",
       "4  гражданский брак                 1      F   пенсионер     0  158616.077870   \n",
       "5  гражданский брак                 1      M   компаньон     0  255763.565419   \n",
       "6   женат / замужем                 0      F   компаньон     0  240525.971920   \n",
       "7   женат / замужем                 0      M   сотрудник     0  135823.934197   \n",
       "8  гражданский брак                 1      F   сотрудник     0   95856.832424   \n",
       "9   женат / замужем                 0      M   сотрудник     0  144425.938277   \n",
       "\n",
       "                      purpose  \n",
       "0               покупка жилья  \n",
       "1     приобретение автомобиля  \n",
       "2               покупка жилья  \n",
       "3  дополнительное образование  \n",
       "4             сыграть свадьбу  \n",
       "5               покупка жилья  \n",
       "6           операции с жильем  \n",
       "7                 образование  \n",
       "8       на проведение свадьбы  \n",
       "9     покупка жилья для семьи  "
      ]
     },
     "execution_count": 4,
     "metadata": {},
     "output_type": "execute_result"
    }
   ],
   "source": [
    "clients.head(10) # выведем 10 первых строк таблицы"
   ]
  },
  {
   "cell_type": "markdown",
   "metadata": {},
   "source": [
    "**По 10 первым строкам таблицы можно отметить следующее:**\n",
    "- В таблице присутствуют отрицательные значения в столбце `days_employed`. Кроме этого, нереальное значение по строке 4 - 932 года стаж. Т.к.информация по стажу в исследовании мы применять не будем, оставим большие значения без изменений.\n",
    "- В столбце `education` разный регистр записи, что не позволит в дальнейшем группировать данные.\n",
    "- В столбце `purpose` есть похожие значения, но записанные по-разному, требуется приведение их к одной категирии (пример, \"покупка жилья\" и \"покупка жилья для семьи\")."
   ]
  },
  {
   "cell_type": "code",
   "execution_count": 5,
   "metadata": {},
   "outputs": [
    {
     "data": {
      "text/html": [
       "<div>\n",
       "<style scoped>\n",
       "    .dataframe tbody tr th:only-of-type {\n",
       "        vertical-align: middle;\n",
       "    }\n",
       "\n",
       "    .dataframe tbody tr th {\n",
       "        vertical-align: top;\n",
       "    }\n",
       "\n",
       "    .dataframe thead th {\n",
       "        text-align: right;\n",
       "    }\n",
       "</style>\n",
       "<table border=\"1\" class=\"dataframe\">\n",
       "  <thead>\n",
       "    <tr style=\"text-align: right;\">\n",
       "      <th></th>\n",
       "      <th>children</th>\n",
       "      <th>days_employed</th>\n",
       "      <th>dob_years</th>\n",
       "      <th>education</th>\n",
       "      <th>education_id</th>\n",
       "      <th>family_status</th>\n",
       "      <th>family_status_id</th>\n",
       "      <th>gender</th>\n",
       "      <th>income_type</th>\n",
       "      <th>debt</th>\n",
       "      <th>total_income</th>\n",
       "      <th>purpose</th>\n",
       "    </tr>\n",
       "  </thead>\n",
       "  <tbody>\n",
       "    <tr>\n",
       "      <td>21515</td>\n",
       "      <td>1</td>\n",
       "      <td>-467.685130</td>\n",
       "      <td>28</td>\n",
       "      <td>среднее</td>\n",
       "      <td>1</td>\n",
       "      <td>женат / замужем</td>\n",
       "      <td>0</td>\n",
       "      <td>F</td>\n",
       "      <td>сотрудник</td>\n",
       "      <td>1</td>\n",
       "      <td>109486.327999</td>\n",
       "      <td>заняться образованием</td>\n",
       "    </tr>\n",
       "    <tr>\n",
       "      <td>21516</td>\n",
       "      <td>0</td>\n",
       "      <td>-914.391429</td>\n",
       "      <td>42</td>\n",
       "      <td>высшее</td>\n",
       "      <td>0</td>\n",
       "      <td>женат / замужем</td>\n",
       "      <td>0</td>\n",
       "      <td>F</td>\n",
       "      <td>компаньон</td>\n",
       "      <td>0</td>\n",
       "      <td>322807.776603</td>\n",
       "      <td>покупка своего жилья</td>\n",
       "    </tr>\n",
       "    <tr>\n",
       "      <td>21517</td>\n",
       "      <td>0</td>\n",
       "      <td>-404.679034</td>\n",
       "      <td>42</td>\n",
       "      <td>высшее</td>\n",
       "      <td>0</td>\n",
       "      <td>гражданский брак</td>\n",
       "      <td>1</td>\n",
       "      <td>F</td>\n",
       "      <td>компаньон</td>\n",
       "      <td>0</td>\n",
       "      <td>178059.553491</td>\n",
       "      <td>на покупку своего автомобиля</td>\n",
       "    </tr>\n",
       "    <tr>\n",
       "      <td>21518</td>\n",
       "      <td>0</td>\n",
       "      <td>373995.710838</td>\n",
       "      <td>59</td>\n",
       "      <td>СРЕДНЕЕ</td>\n",
       "      <td>1</td>\n",
       "      <td>женат / замужем</td>\n",
       "      <td>0</td>\n",
       "      <td>F</td>\n",
       "      <td>пенсионер</td>\n",
       "      <td>0</td>\n",
       "      <td>153864.650328</td>\n",
       "      <td>сделка с автомобилем</td>\n",
       "    </tr>\n",
       "    <tr>\n",
       "      <td>21519</td>\n",
       "      <td>1</td>\n",
       "      <td>-2351.431934</td>\n",
       "      <td>37</td>\n",
       "      <td>ученая степень</td>\n",
       "      <td>4</td>\n",
       "      <td>в разводе</td>\n",
       "      <td>3</td>\n",
       "      <td>M</td>\n",
       "      <td>сотрудник</td>\n",
       "      <td>0</td>\n",
       "      <td>115949.039788</td>\n",
       "      <td>покупка коммерческой недвижимости</td>\n",
       "    </tr>\n",
       "    <tr>\n",
       "      <td>21520</td>\n",
       "      <td>1</td>\n",
       "      <td>-4529.316663</td>\n",
       "      <td>43</td>\n",
       "      <td>среднее</td>\n",
       "      <td>1</td>\n",
       "      <td>гражданский брак</td>\n",
       "      <td>1</td>\n",
       "      <td>F</td>\n",
       "      <td>компаньон</td>\n",
       "      <td>0</td>\n",
       "      <td>224791.862382</td>\n",
       "      <td>операции с жильем</td>\n",
       "    </tr>\n",
       "    <tr>\n",
       "      <td>21521</td>\n",
       "      <td>0</td>\n",
       "      <td>343937.404131</td>\n",
       "      <td>67</td>\n",
       "      <td>среднее</td>\n",
       "      <td>1</td>\n",
       "      <td>женат / замужем</td>\n",
       "      <td>0</td>\n",
       "      <td>F</td>\n",
       "      <td>пенсионер</td>\n",
       "      <td>0</td>\n",
       "      <td>155999.806512</td>\n",
       "      <td>сделка с автомобилем</td>\n",
       "    </tr>\n",
       "    <tr>\n",
       "      <td>21522</td>\n",
       "      <td>1</td>\n",
       "      <td>-2113.346888</td>\n",
       "      <td>38</td>\n",
       "      <td>среднее</td>\n",
       "      <td>1</td>\n",
       "      <td>гражданский брак</td>\n",
       "      <td>1</td>\n",
       "      <td>M</td>\n",
       "      <td>сотрудник</td>\n",
       "      <td>1</td>\n",
       "      <td>89672.561153</td>\n",
       "      <td>недвижимость</td>\n",
       "    </tr>\n",
       "    <tr>\n",
       "      <td>21523</td>\n",
       "      <td>3</td>\n",
       "      <td>-3112.481705</td>\n",
       "      <td>38</td>\n",
       "      <td>среднее</td>\n",
       "      <td>1</td>\n",
       "      <td>женат / замужем</td>\n",
       "      <td>0</td>\n",
       "      <td>M</td>\n",
       "      <td>сотрудник</td>\n",
       "      <td>1</td>\n",
       "      <td>244093.050500</td>\n",
       "      <td>на покупку своего автомобиля</td>\n",
       "    </tr>\n",
       "    <tr>\n",
       "      <td>21524</td>\n",
       "      <td>2</td>\n",
       "      <td>-1984.507589</td>\n",
       "      <td>40</td>\n",
       "      <td>среднее</td>\n",
       "      <td>1</td>\n",
       "      <td>женат / замужем</td>\n",
       "      <td>0</td>\n",
       "      <td>F</td>\n",
       "      <td>сотрудник</td>\n",
       "      <td>0</td>\n",
       "      <td>82047.418899</td>\n",
       "      <td>на покупку автомобиля</td>\n",
       "    </tr>\n",
       "  </tbody>\n",
       "</table>\n",
       "</div>"
      ],
      "text/plain": [
       "       children  days_employed  dob_years       education  education_id  \\\n",
       "21515         1    -467.685130         28         среднее             1   \n",
       "21516         0    -914.391429         42          высшее             0   \n",
       "21517         0    -404.679034         42          высшее             0   \n",
       "21518         0  373995.710838         59         СРЕДНЕЕ             1   \n",
       "21519         1   -2351.431934         37  ученая степень             4   \n",
       "21520         1   -4529.316663         43         среднее             1   \n",
       "21521         0  343937.404131         67         среднее             1   \n",
       "21522         1   -2113.346888         38         среднее             1   \n",
       "21523         3   -3112.481705         38         среднее             1   \n",
       "21524         2   -1984.507589         40         среднее             1   \n",
       "\n",
       "          family_status  family_status_id gender income_type  debt  \\\n",
       "21515   женат / замужем                 0      F   сотрудник     1   \n",
       "21516   женат / замужем                 0      F   компаньон     0   \n",
       "21517  гражданский брак                 1      F   компаньон     0   \n",
       "21518   женат / замужем                 0      F   пенсионер     0   \n",
       "21519         в разводе                 3      M   сотрудник     0   \n",
       "21520  гражданский брак                 1      F   компаньон     0   \n",
       "21521   женат / замужем                 0      F   пенсионер     0   \n",
       "21522  гражданский брак                 1      M   сотрудник     1   \n",
       "21523   женат / замужем                 0      M   сотрудник     1   \n",
       "21524   женат / замужем                 0      F   сотрудник     0   \n",
       "\n",
       "        total_income                            purpose  \n",
       "21515  109486.327999              заняться образованием  \n",
       "21516  322807.776603               покупка своего жилья  \n",
       "21517  178059.553491       на покупку своего автомобиля  \n",
       "21518  153864.650328               сделка с автомобилем  \n",
       "21519  115949.039788  покупка коммерческой недвижимости  \n",
       "21520  224791.862382                  операции с жильем  \n",
       "21521  155999.806512               сделка с автомобилем  \n",
       "21522   89672.561153                       недвижимость  \n",
       "21523  244093.050500       на покупку своего автомобиля  \n",
       "21524   82047.418899              на покупку автомобиля  "
      ]
     },
     "execution_count": 5,
     "metadata": {},
     "output_type": "execute_result"
    }
   ],
   "source": [
    "clients.tail(10) # выведем 10 последних строк таблицы"
   ]
  },
  {
   "cell_type": "markdown",
   "metadata": {},
   "source": [
    "По последним 10 строкам выводы аналогичные."
   ]
  },
  {
   "cell_type": "markdown",
   "metadata": {},
   "source": [
    "Далее посмотрим в каких категориях присутствуют пропущенные значения:"
   ]
  },
  {
   "cell_type": "code",
   "execution_count": 6,
   "metadata": {},
   "outputs": [
    {
     "name": "stdout",
     "output_type": "stream",
     "text": [
      "сотрудник          1105\n",
      "компаньон           508\n",
      "пенсионер           413\n",
      "госслужащий         147\n",
      "предприниматель       1\n",
      "Name: income_type, dtype: int64\n",
      "2174\n"
     ]
    }
   ],
   "source": [
    "print(clients[(clients['days_employed'].isna()==True) & (clients['total_income'].isna()==True)]['income_type'].value_counts())\n",
    "print(clients[(clients['days_employed'].isna()==True) & (clients['total_income'].isna()==True)]['income_type'].value_counts().sum())\n"
   ]
  },
  {
   "cell_type": "markdown",
   "metadata": {},
   "source": [
    "1. Общее количество пропусков - 2174.\n",
    "2. Пропуски могли возникнуть из-за человеческого фактора, при внесении данных не все строки были заполнены. Или из-за не именеем информации ячейки были оставлены пустыми.\n",
    "3. Т.к. пропущенные значения находятся в разных категориях, то проавильнее их будет заполнить, взяв среднее значение по группам типа занятости."
   ]
  },
  {
   "cell_type": "code",
   "execution_count": 7,
   "metadata": {},
   "outputs": [
    {
     "data": {
      "text/html": [
       "<div>\n",
       "<style scoped>\n",
       "    .dataframe tbody tr th:only-of-type {\n",
       "        vertical-align: middle;\n",
       "    }\n",
       "\n",
       "    .dataframe tbody tr th {\n",
       "        vertical-align: top;\n",
       "    }\n",
       "\n",
       "    .dataframe thead th {\n",
       "        text-align: right;\n",
       "    }\n",
       "</style>\n",
       "<table border=\"1\" class=\"dataframe\">\n",
       "  <thead>\n",
       "    <tr style=\"text-align: right;\">\n",
       "      <th></th>\n",
       "      <th>children</th>\n",
       "      <th>days_employed</th>\n",
       "      <th>dob_years</th>\n",
       "      <th>education_id</th>\n",
       "      <th>family_status_id</th>\n",
       "      <th>debt</th>\n",
       "      <th>total_income</th>\n",
       "    </tr>\n",
       "  </thead>\n",
       "  <tbody>\n",
       "    <tr>\n",
       "      <td>count</td>\n",
       "      <td>21525.000000</td>\n",
       "      <td>19351.000000</td>\n",
       "      <td>21525.000000</td>\n",
       "      <td>21525.000000</td>\n",
       "      <td>21525.000000</td>\n",
       "      <td>21525.000000</td>\n",
       "      <td>1.935100e+04</td>\n",
       "    </tr>\n",
       "    <tr>\n",
       "      <td>mean</td>\n",
       "      <td>0.538908</td>\n",
       "      <td>63046.497661</td>\n",
       "      <td>43.293380</td>\n",
       "      <td>0.817236</td>\n",
       "      <td>0.972544</td>\n",
       "      <td>0.080883</td>\n",
       "      <td>1.674223e+05</td>\n",
       "    </tr>\n",
       "    <tr>\n",
       "      <td>std</td>\n",
       "      <td>1.381587</td>\n",
       "      <td>140827.311974</td>\n",
       "      <td>12.574584</td>\n",
       "      <td>0.548138</td>\n",
       "      <td>1.420324</td>\n",
       "      <td>0.272661</td>\n",
       "      <td>1.029716e+05</td>\n",
       "    </tr>\n",
       "    <tr>\n",
       "      <td>min</td>\n",
       "      <td>-1.000000</td>\n",
       "      <td>-18388.949901</td>\n",
       "      <td>0.000000</td>\n",
       "      <td>0.000000</td>\n",
       "      <td>0.000000</td>\n",
       "      <td>0.000000</td>\n",
       "      <td>2.066726e+04</td>\n",
       "    </tr>\n",
       "    <tr>\n",
       "      <td>25%</td>\n",
       "      <td>0.000000</td>\n",
       "      <td>-2747.423625</td>\n",
       "      <td>33.000000</td>\n",
       "      <td>1.000000</td>\n",
       "      <td>0.000000</td>\n",
       "      <td>0.000000</td>\n",
       "      <td>1.030532e+05</td>\n",
       "    </tr>\n",
       "    <tr>\n",
       "      <td>50%</td>\n",
       "      <td>0.000000</td>\n",
       "      <td>-1203.369529</td>\n",
       "      <td>42.000000</td>\n",
       "      <td>1.000000</td>\n",
       "      <td>0.000000</td>\n",
       "      <td>0.000000</td>\n",
       "      <td>1.450179e+05</td>\n",
       "    </tr>\n",
       "    <tr>\n",
       "      <td>75%</td>\n",
       "      <td>1.000000</td>\n",
       "      <td>-291.095954</td>\n",
       "      <td>53.000000</td>\n",
       "      <td>1.000000</td>\n",
       "      <td>1.000000</td>\n",
       "      <td>0.000000</td>\n",
       "      <td>2.034351e+05</td>\n",
       "    </tr>\n",
       "    <tr>\n",
       "      <td>max</td>\n",
       "      <td>20.000000</td>\n",
       "      <td>401755.400475</td>\n",
       "      <td>75.000000</td>\n",
       "      <td>4.000000</td>\n",
       "      <td>4.000000</td>\n",
       "      <td>1.000000</td>\n",
       "      <td>2.265604e+06</td>\n",
       "    </tr>\n",
       "  </tbody>\n",
       "</table>\n",
       "</div>"
      ],
      "text/plain": [
       "           children  days_employed     dob_years  education_id  \\\n",
       "count  21525.000000   19351.000000  21525.000000  21525.000000   \n",
       "mean       0.538908   63046.497661     43.293380      0.817236   \n",
       "std        1.381587  140827.311974     12.574584      0.548138   \n",
       "min       -1.000000  -18388.949901      0.000000      0.000000   \n",
       "25%        0.000000   -2747.423625     33.000000      1.000000   \n",
       "50%        0.000000   -1203.369529     42.000000      1.000000   \n",
       "75%        1.000000    -291.095954     53.000000      1.000000   \n",
       "max       20.000000  401755.400475     75.000000      4.000000   \n",
       "\n",
       "       family_status_id          debt  total_income  \n",
       "count      21525.000000  21525.000000  1.935100e+04  \n",
       "mean           0.972544      0.080883  1.674223e+05  \n",
       "std            1.420324      0.272661  1.029716e+05  \n",
       "min            0.000000      0.000000  2.066726e+04  \n",
       "25%            0.000000      0.000000  1.030532e+05  \n",
       "50%            0.000000      0.000000  1.450179e+05  \n",
       "75%            1.000000      0.000000  2.034351e+05  \n",
       "max            4.000000      1.000000  2.265604e+06  "
      ]
     },
     "execution_count": 7,
     "metadata": {},
     "output_type": "execute_result"
    }
   ],
   "source": [
    "clients.describe() # для дополнительного анализа данных выведем статистическую таблицу методом .describe()"
   ]
  },
  {
   "cell_type": "markdown",
   "metadata": {},
   "source": [
    "**По статистическим данным можно отметить следующее:**\n",
    "- Столбец `children` - появилось отрицательное значение (-1).\n",
    "- Столбец `days_employed` - присутствуют ошибки, которые были обнаружены выше (нереальные значения при mean - 173 года и max - 1100 лет).\n",
    "- Столбец `dob_years` - есть нулевые значения, возможно, значение не указано при заполнении."
   ]
  },
  {
   "cell_type": "markdown",
   "metadata": {},
   "source": [
    "Посчитаем количество некорректных значений:"
   ]
  },
  {
   "cell_type": "code",
   "execution_count": 8,
   "metadata": {},
   "outputs": [
    {
     "name": "stdout",
     "output_type": "stream",
     "text": [
      "Количество детей с отрицательным значением: 47\n",
      "Количество строк с отрицательным стажем: 15906\n",
      "Количество строк с завышенным стажем: 3445\n",
      "Количество строк с нулевым возрастом: 101\n"
     ]
    }
   ],
   "source": [
    "print('Количество детей с отрицательным значением:', clients[clients['children'] < 0]['children'].count())\n",
    "print('Количество строк с отрицательным стажем:', clients[clients['days_employed'] < 0]['days_employed'].count())\n",
    "print('Количество строк с завышенным стажем:', clients[clients['days_employed'] > 21535]['days_employed'].count())\n",
    "# завышенный стаж сравнивается со значением = 75 (макс.возраст таблицы) - 16 (офиц.возраст начала работы) * 365 дней в году\n",
    "print('Количество строк с нулевым возрастом:', clients[clients['dob_years'] == 0]['dob_years'].count())\n",
    "\n"
   ]
  },
  {
   "cell_type": "markdown",
   "metadata": {},
   "source": [
    "**Выводы**\n",
    "1. В таблице присутствуют пропущенные значения в количестве 2174 (в столбцах `days_employed` и `total_income`), которые нужно будет заполнить. Тип данных также в этих столбцах можно заментить на `int` для удобства дальнейшего анализа.\n",
    "2. Требуется обработка отрицательных значений в столбцах `days_employed` и `children`.\n",
    "3. Столбец `education` следует привести к нижнему регистру данных.\n",
    "4. По таблице требуется проверка и обработка дубликатов.\n",
    "5. Значения столбца `purpose` требуется лемматезировать.\n",
    "6. Т.к.возраст заемщика не будет использован в анализе, не будем менять данные в столбце `dob_years`."
   ]
  },
  {
   "cell_type": "markdown",
   "metadata": {},
   "source": [
    "## Шаг 2. Предобработка данных"
   ]
  },
  {
   "cell_type": "markdown",
   "metadata": {},
   "source": [
    "### Обработка пропусков"
   ]
  },
  {
   "cell_type": "markdown",
   "metadata": {},
   "source": [
    "Уберем отрицательные значения в таблице:"
   ]
  },
  {
   "cell_type": "code",
   "execution_count": 9,
   "metadata": {},
   "outputs": [
    {
     "data": {
      "text/html": [
       "<div>\n",
       "<style scoped>\n",
       "    .dataframe tbody tr th:only-of-type {\n",
       "        vertical-align: middle;\n",
       "    }\n",
       "\n",
       "    .dataframe tbody tr th {\n",
       "        vertical-align: top;\n",
       "    }\n",
       "\n",
       "    .dataframe thead th {\n",
       "        text-align: right;\n",
       "    }\n",
       "</style>\n",
       "<table border=\"1\" class=\"dataframe\">\n",
       "  <thead>\n",
       "    <tr style=\"text-align: right;\">\n",
       "      <th></th>\n",
       "      <th>children</th>\n",
       "      <th>days_employed</th>\n",
       "      <th>dob_years</th>\n",
       "      <th>education_id</th>\n",
       "      <th>family_status_id</th>\n",
       "      <th>debt</th>\n",
       "      <th>total_income</th>\n",
       "    </tr>\n",
       "  </thead>\n",
       "  <tbody>\n",
       "    <tr>\n",
       "      <td>count</td>\n",
       "      <td>21525.000000</td>\n",
       "      <td>19351.000000</td>\n",
       "      <td>21525.000000</td>\n",
       "      <td>21525.000000</td>\n",
       "      <td>21525.000000</td>\n",
       "      <td>21525.000000</td>\n",
       "      <td>1.935100e+04</td>\n",
       "    </tr>\n",
       "    <tr>\n",
       "      <td>mean</td>\n",
       "      <td>0.543275</td>\n",
       "      <td>66914.728907</td>\n",
       "      <td>43.293380</td>\n",
       "      <td>0.817236</td>\n",
       "      <td>0.972544</td>\n",
       "      <td>0.080883</td>\n",
       "      <td>1.674223e+05</td>\n",
       "    </tr>\n",
       "    <tr>\n",
       "      <td>std</td>\n",
       "      <td>1.379876</td>\n",
       "      <td>139030.880527</td>\n",
       "      <td>12.574584</td>\n",
       "      <td>0.548138</td>\n",
       "      <td>1.420324</td>\n",
       "      <td>0.272661</td>\n",
       "      <td>1.029716e+05</td>\n",
       "    </tr>\n",
       "    <tr>\n",
       "      <td>min</td>\n",
       "      <td>0.000000</td>\n",
       "      <td>24.141633</td>\n",
       "      <td>0.000000</td>\n",
       "      <td>0.000000</td>\n",
       "      <td>0.000000</td>\n",
       "      <td>0.000000</td>\n",
       "      <td>2.066726e+04</td>\n",
       "    </tr>\n",
       "    <tr>\n",
       "      <td>25%</td>\n",
       "      <td>0.000000</td>\n",
       "      <td>927.009265</td>\n",
       "      <td>33.000000</td>\n",
       "      <td>1.000000</td>\n",
       "      <td>0.000000</td>\n",
       "      <td>0.000000</td>\n",
       "      <td>1.030532e+05</td>\n",
       "    </tr>\n",
       "    <tr>\n",
       "      <td>50%</td>\n",
       "      <td>0.000000</td>\n",
       "      <td>2194.220567</td>\n",
       "      <td>42.000000</td>\n",
       "      <td>1.000000</td>\n",
       "      <td>0.000000</td>\n",
       "      <td>0.000000</td>\n",
       "      <td>1.450179e+05</td>\n",
       "    </tr>\n",
       "    <tr>\n",
       "      <td>75%</td>\n",
       "      <td>1.000000</td>\n",
       "      <td>5537.882441</td>\n",
       "      <td>53.000000</td>\n",
       "      <td>1.000000</td>\n",
       "      <td>1.000000</td>\n",
       "      <td>0.000000</td>\n",
       "      <td>2.034351e+05</td>\n",
       "    </tr>\n",
       "    <tr>\n",
       "      <td>max</td>\n",
       "      <td>20.000000</td>\n",
       "      <td>401755.400475</td>\n",
       "      <td>75.000000</td>\n",
       "      <td>4.000000</td>\n",
       "      <td>4.000000</td>\n",
       "      <td>1.000000</td>\n",
       "      <td>2.265604e+06</td>\n",
       "    </tr>\n",
       "  </tbody>\n",
       "</table>\n",
       "</div>"
      ],
      "text/plain": [
       "           children  days_employed     dob_years  education_id  \\\n",
       "count  21525.000000   19351.000000  21525.000000  21525.000000   \n",
       "mean       0.543275   66914.728907     43.293380      0.817236   \n",
       "std        1.379876  139030.880527     12.574584      0.548138   \n",
       "min        0.000000      24.141633      0.000000      0.000000   \n",
       "25%        0.000000     927.009265     33.000000      1.000000   \n",
       "50%        0.000000    2194.220567     42.000000      1.000000   \n",
       "75%        1.000000    5537.882441     53.000000      1.000000   \n",
       "max       20.000000  401755.400475     75.000000      4.000000   \n",
       "\n",
       "       family_status_id          debt  total_income  \n",
       "count      21525.000000  21525.000000  1.935100e+04  \n",
       "mean           0.972544      0.080883  1.674223e+05  \n",
       "std            1.420324      0.272661  1.029716e+05  \n",
       "min            0.000000      0.000000  2.066726e+04  \n",
       "25%            0.000000      0.000000  1.030532e+05  \n",
       "50%            0.000000      0.000000  1.450179e+05  \n",
       "75%            1.000000      0.000000  2.034351e+05  \n",
       "max            4.000000      1.000000  2.265604e+06  "
      ]
     },
     "execution_count": 9,
     "metadata": {},
     "output_type": "execute_result"
    }
   ],
   "source": [
    "clients['children'] = abs(clients['children']) # возвращаем значения столбца 'children' по модулю, используя abs()\n",
    "clients['days_employed'] = abs(clients['days_employed']) # возвращаем значения столбца 'days_employed' по модулю\n",
    "# проверяем результат на таблице со статистическими данными\n",
    "clients.describe()\n"
   ]
  },
  {
   "cell_type": "markdown",
   "metadata": {},
   "source": [
    "Отрицательные значения устранены.\n",
    "\n",
    "Далее заполним пропуски в данных средними значениями по каждой группе."
   ]
  },
  {
   "cell_type": "code",
   "execution_count": 10,
   "metadata": {},
   "outputs": [
    {
     "name": "stdout",
     "output_type": "stream",
     "text": [
      "income_type\n",
      "безработный        366413.652744\n",
      "в декрете            3296.759962\n",
      "госслужащий          2689.368353\n",
      "компаньон            1547.382223\n",
      "пенсионер          365213.306266\n",
      "предприниматель       520.848083\n",
      "сотрудник            1574.202821\n",
      "студент               578.751554\n",
      "Name: days_employed, dtype: float64\n",
      "income_type\n",
      "безработный        131339.751676\n",
      "в декрете           53829.130729\n",
      "госслужащий        150447.935283\n",
      "компаньон          172357.950966\n",
      "пенсионер          118514.486412\n",
      "предприниматель    499163.144947\n",
      "сотрудник          142594.396847\n",
      "студент             98201.625314\n",
      "Name: total_income, dtype: float64\n"
     ]
    }
   ],
   "source": [
    "# расчет среднего значения стажа по типам занятости с применением метода .groupby для групировки и метода .mean() для определения среднего значения\n",
    "days_employed_median = clients.groupby('income_type')['days_employed'].median()\n",
    "print(days_employed_median)\n",
    "# расчет медианы дохода по типам занятости\n",
    "total_income_median = clients.groupby('income_type')['total_income'].median()\n",
    "print(total_income_median)\n"
   ]
  },
  {
   "cell_type": "code",
   "execution_count": 11,
   "metadata": {},
   "outputs": [
    {
     "name": "stdout",
     "output_type": "stream",
     "text": [
      "<class 'pandas.core.frame.DataFrame'>\n",
      "RangeIndex: 21525 entries, 0 to 21524\n",
      "Data columns (total 12 columns):\n",
      "children            21525 non-null int64\n",
      "days_employed       21525 non-null float64\n",
      "dob_years           21525 non-null int64\n",
      "education           21525 non-null object\n",
      "education_id        21525 non-null int64\n",
      "family_status       21525 non-null object\n",
      "family_status_id    21525 non-null int64\n",
      "gender              21525 non-null object\n",
      "income_type         21525 non-null object\n",
      "debt                21525 non-null int64\n",
      "total_income        21525 non-null float64\n",
      "purpose             21525 non-null object\n",
      "dtypes: float64(2), int64(5), object(5)\n",
      "memory usage: 2.0+ MB\n"
     ]
    }
   ],
   "source": [
    "# заполняем пропуски данных медианой по группе и выводим общую информацию о данных\n",
    "clients['days_employed'] = clients.groupby('income_type')['days_employed'].transform(lambda x: x.fillna(x.median()))\n",
    "clients['total_income'] = clients.groupby('income_type')['total_income'].transform(lambda x: x.fillna(x.median()))\n",
    "clients.info()\n"
   ]
  },
  {
   "cell_type": "markdown",
   "metadata": {},
   "source": [
    "**Вывод:** пропущенные значения в таблице отсутствуют"
   ]
  },
  {
   "cell_type": "markdown",
   "metadata": {},
   "source": [
    "### Замена типа данных"
   ]
  },
  {
   "cell_type": "markdown",
   "metadata": {},
   "source": [
    "Заменим тип данных в столбцах `days_employed` и `total_income` на целочисленные (тип `int`), применив метод `.astype()`:"
   ]
  },
  {
   "cell_type": "code",
   "execution_count": 12,
   "metadata": {},
   "outputs": [
    {
     "name": "stdout",
     "output_type": "stream",
     "text": [
      "<class 'pandas.core.frame.DataFrame'>\n",
      "RangeIndex: 21525 entries, 0 to 21524\n",
      "Data columns (total 12 columns):\n",
      "children            21525 non-null int64\n",
      "days_employed       21525 non-null int64\n",
      "dob_years           21525 non-null int64\n",
      "education           21525 non-null object\n",
      "education_id        21525 non-null int64\n",
      "family_status       21525 non-null object\n",
      "family_status_id    21525 non-null int64\n",
      "gender              21525 non-null object\n",
      "income_type         21525 non-null object\n",
      "debt                21525 non-null int64\n",
      "total_income        21525 non-null int64\n",
      "purpose             21525 non-null object\n",
      "dtypes: int64(7), object(5)\n",
      "memory usage: 2.0+ MB\n"
     ]
    }
   ],
   "source": [
    "clients['days_employed'] = clients['days_employed'].astype('int') \n",
    "clients['total_income'] = clients['total_income'].astype('int')\n",
    "clients.info()"
   ]
  },
  {
   "cell_type": "markdown",
   "metadata": {},
   "source": [
    "**Вывод:**\n",
    "Произвели замену типа данных в столбцах days_employed и total_income с `float` на целые значения - `int` для удобства дальнейшего анализа."
   ]
  },
  {
   "cell_type": "markdown",
   "metadata": {},
   "source": [
    "### Обработка дубликатов"
   ]
  },
  {
   "cell_type": "markdown",
   "metadata": {},
   "source": [
    "Приведем значения столбца `education` к нижнему регистру, используя метод `.lower()` и выведем 10 первых строк таблицы:"
   ]
  },
  {
   "cell_type": "code",
   "execution_count": 13,
   "metadata": {},
   "outputs": [
    {
     "data": {
      "text/html": [
       "<div>\n",
       "<style scoped>\n",
       "    .dataframe tbody tr th:only-of-type {\n",
       "        vertical-align: middle;\n",
       "    }\n",
       "\n",
       "    .dataframe tbody tr th {\n",
       "        vertical-align: top;\n",
       "    }\n",
       "\n",
       "    .dataframe thead th {\n",
       "        text-align: right;\n",
       "    }\n",
       "</style>\n",
       "<table border=\"1\" class=\"dataframe\">\n",
       "  <thead>\n",
       "    <tr style=\"text-align: right;\">\n",
       "      <th></th>\n",
       "      <th>children</th>\n",
       "      <th>days_employed</th>\n",
       "      <th>dob_years</th>\n",
       "      <th>education</th>\n",
       "      <th>education_id</th>\n",
       "      <th>family_status</th>\n",
       "      <th>family_status_id</th>\n",
       "      <th>gender</th>\n",
       "      <th>income_type</th>\n",
       "      <th>debt</th>\n",
       "      <th>total_income</th>\n",
       "      <th>purpose</th>\n",
       "    </tr>\n",
       "  </thead>\n",
       "  <tbody>\n",
       "    <tr>\n",
       "      <td>0</td>\n",
       "      <td>1</td>\n",
       "      <td>8437</td>\n",
       "      <td>42</td>\n",
       "      <td>высшее</td>\n",
       "      <td>0</td>\n",
       "      <td>женат / замужем</td>\n",
       "      <td>0</td>\n",
       "      <td>F</td>\n",
       "      <td>сотрудник</td>\n",
       "      <td>0</td>\n",
       "      <td>253875</td>\n",
       "      <td>покупка жилья</td>\n",
       "    </tr>\n",
       "    <tr>\n",
       "      <td>1</td>\n",
       "      <td>1</td>\n",
       "      <td>4024</td>\n",
       "      <td>36</td>\n",
       "      <td>среднее</td>\n",
       "      <td>1</td>\n",
       "      <td>женат / замужем</td>\n",
       "      <td>0</td>\n",
       "      <td>F</td>\n",
       "      <td>сотрудник</td>\n",
       "      <td>0</td>\n",
       "      <td>112080</td>\n",
       "      <td>приобретение автомобиля</td>\n",
       "    </tr>\n",
       "    <tr>\n",
       "      <td>2</td>\n",
       "      <td>0</td>\n",
       "      <td>5623</td>\n",
       "      <td>33</td>\n",
       "      <td>среднее</td>\n",
       "      <td>1</td>\n",
       "      <td>женат / замужем</td>\n",
       "      <td>0</td>\n",
       "      <td>M</td>\n",
       "      <td>сотрудник</td>\n",
       "      <td>0</td>\n",
       "      <td>145885</td>\n",
       "      <td>покупка жилья</td>\n",
       "    </tr>\n",
       "    <tr>\n",
       "      <td>3</td>\n",
       "      <td>3</td>\n",
       "      <td>4124</td>\n",
       "      <td>32</td>\n",
       "      <td>среднее</td>\n",
       "      <td>1</td>\n",
       "      <td>женат / замужем</td>\n",
       "      <td>0</td>\n",
       "      <td>M</td>\n",
       "      <td>сотрудник</td>\n",
       "      <td>0</td>\n",
       "      <td>267628</td>\n",
       "      <td>дополнительное образование</td>\n",
       "    </tr>\n",
       "    <tr>\n",
       "      <td>4</td>\n",
       "      <td>0</td>\n",
       "      <td>340266</td>\n",
       "      <td>53</td>\n",
       "      <td>среднее</td>\n",
       "      <td>1</td>\n",
       "      <td>гражданский брак</td>\n",
       "      <td>1</td>\n",
       "      <td>F</td>\n",
       "      <td>пенсионер</td>\n",
       "      <td>0</td>\n",
       "      <td>158616</td>\n",
       "      <td>сыграть свадьбу</td>\n",
       "    </tr>\n",
       "    <tr>\n",
       "      <td>5</td>\n",
       "      <td>0</td>\n",
       "      <td>926</td>\n",
       "      <td>27</td>\n",
       "      <td>высшее</td>\n",
       "      <td>0</td>\n",
       "      <td>гражданский брак</td>\n",
       "      <td>1</td>\n",
       "      <td>M</td>\n",
       "      <td>компаньон</td>\n",
       "      <td>0</td>\n",
       "      <td>255763</td>\n",
       "      <td>покупка жилья</td>\n",
       "    </tr>\n",
       "    <tr>\n",
       "      <td>6</td>\n",
       "      <td>0</td>\n",
       "      <td>2879</td>\n",
       "      <td>43</td>\n",
       "      <td>высшее</td>\n",
       "      <td>0</td>\n",
       "      <td>женат / замужем</td>\n",
       "      <td>0</td>\n",
       "      <td>F</td>\n",
       "      <td>компаньон</td>\n",
       "      <td>0</td>\n",
       "      <td>240525</td>\n",
       "      <td>операции с жильем</td>\n",
       "    </tr>\n",
       "    <tr>\n",
       "      <td>7</td>\n",
       "      <td>0</td>\n",
       "      <td>152</td>\n",
       "      <td>50</td>\n",
       "      <td>среднее</td>\n",
       "      <td>1</td>\n",
       "      <td>женат / замужем</td>\n",
       "      <td>0</td>\n",
       "      <td>M</td>\n",
       "      <td>сотрудник</td>\n",
       "      <td>0</td>\n",
       "      <td>135823</td>\n",
       "      <td>образование</td>\n",
       "    </tr>\n",
       "    <tr>\n",
       "      <td>8</td>\n",
       "      <td>2</td>\n",
       "      <td>6929</td>\n",
       "      <td>35</td>\n",
       "      <td>высшее</td>\n",
       "      <td>0</td>\n",
       "      <td>гражданский брак</td>\n",
       "      <td>1</td>\n",
       "      <td>F</td>\n",
       "      <td>сотрудник</td>\n",
       "      <td>0</td>\n",
       "      <td>95856</td>\n",
       "      <td>на проведение свадьбы</td>\n",
       "    </tr>\n",
       "    <tr>\n",
       "      <td>9</td>\n",
       "      <td>0</td>\n",
       "      <td>2188</td>\n",
       "      <td>41</td>\n",
       "      <td>среднее</td>\n",
       "      <td>1</td>\n",
       "      <td>женат / замужем</td>\n",
       "      <td>0</td>\n",
       "      <td>M</td>\n",
       "      <td>сотрудник</td>\n",
       "      <td>0</td>\n",
       "      <td>144425</td>\n",
       "      <td>покупка жилья для семьи</td>\n",
       "    </tr>\n",
       "  </tbody>\n",
       "</table>\n",
       "</div>"
      ],
      "text/plain": [
       "   children  days_employed  dob_years education  education_id  \\\n",
       "0         1           8437         42    высшее             0   \n",
       "1         1           4024         36   среднее             1   \n",
       "2         0           5623         33   среднее             1   \n",
       "3         3           4124         32   среднее             1   \n",
       "4         0         340266         53   среднее             1   \n",
       "5         0            926         27    высшее             0   \n",
       "6         0           2879         43    высшее             0   \n",
       "7         0            152         50   среднее             1   \n",
       "8         2           6929         35    высшее             0   \n",
       "9         0           2188         41   среднее             1   \n",
       "\n",
       "      family_status  family_status_id gender income_type  debt  total_income  \\\n",
       "0   женат / замужем                 0      F   сотрудник     0        253875   \n",
       "1   женат / замужем                 0      F   сотрудник     0        112080   \n",
       "2   женат / замужем                 0      M   сотрудник     0        145885   \n",
       "3   женат / замужем                 0      M   сотрудник     0        267628   \n",
       "4  гражданский брак                 1      F   пенсионер     0        158616   \n",
       "5  гражданский брак                 1      M   компаньон     0        255763   \n",
       "6   женат / замужем                 0      F   компаньон     0        240525   \n",
       "7   женат / замужем                 0      M   сотрудник     0        135823   \n",
       "8  гражданский брак                 1      F   сотрудник     0         95856   \n",
       "9   женат / замужем                 0      M   сотрудник     0        144425   \n",
       "\n",
       "                      purpose  \n",
       "0               покупка жилья  \n",
       "1     приобретение автомобиля  \n",
       "2               покупка жилья  \n",
       "3  дополнительное образование  \n",
       "4             сыграть свадьбу  \n",
       "5               покупка жилья  \n",
       "6           операции с жильем  \n",
       "7                 образование  \n",
       "8       на проведение свадьбы  \n",
       "9     покупка жилья для семьи  "
      ]
     },
     "execution_count": 13,
     "metadata": {},
     "output_type": "execute_result"
    }
   ],
   "source": [
    "clients['education'] = clients['education'].str.lower()\n",
    "clients.head(10)"
   ]
  },
  {
   "cell_type": "markdown",
   "metadata": {},
   "source": [
    "Проверим наличие в данных дубликатов методом `.duplicated()` и посчитаем их количество методом `.sum()`"
   ]
  },
  {
   "cell_type": "code",
   "execution_count": 14,
   "metadata": {},
   "outputs": [
    {
     "name": "stdout",
     "output_type": "stream",
     "text": [
      "Количество дубликатов: 71\n"
     ]
    }
   ],
   "source": [
    "# проверим наличие дубликатов\n",
    "print('Количество дубликатов:', clients.duplicated().sum())\n"
   ]
  },
  {
   "cell_type": "markdown",
   "metadata": {},
   "source": [
    "В данных присутствует 71 дубликат записи. Рассмотрим их, отсортировав методом `.sort_values` по трем столбцам: 'days_employed', 'total_income', 'purpose'"
   ]
  },
  {
   "cell_type": "code",
   "execution_count": 15,
   "metadata": {},
   "outputs": [
    {
     "data": {
      "text/html": [
       "<div>\n",
       "<style scoped>\n",
       "    .dataframe tbody tr th:only-of-type {\n",
       "        vertical-align: middle;\n",
       "    }\n",
       "\n",
       "    .dataframe tbody tr th {\n",
       "        vertical-align: top;\n",
       "    }\n",
       "\n",
       "    .dataframe thead th {\n",
       "        text-align: right;\n",
       "    }\n",
       "</style>\n",
       "<table border=\"1\" class=\"dataframe\">\n",
       "  <thead>\n",
       "    <tr style=\"text-align: right;\">\n",
       "      <th></th>\n",
       "      <th>children</th>\n",
       "      <th>days_employed</th>\n",
       "      <th>dob_years</th>\n",
       "      <th>education</th>\n",
       "      <th>education_id</th>\n",
       "      <th>family_status</th>\n",
       "      <th>family_status_id</th>\n",
       "      <th>gender</th>\n",
       "      <th>income_type</th>\n",
       "      <th>debt</th>\n",
       "      <th>total_income</th>\n",
       "      <th>purpose</th>\n",
       "    </tr>\n",
       "  </thead>\n",
       "  <tbody>\n",
       "    <tr>\n",
       "      <td>9374</td>\n",
       "      <td>0</td>\n",
       "      <td>1547</td>\n",
       "      <td>38</td>\n",
       "      <td>высшее</td>\n",
       "      <td>0</td>\n",
       "      <td>гражданский брак</td>\n",
       "      <td>1</td>\n",
       "      <td>F</td>\n",
       "      <td>компаньон</td>\n",
       "      <td>0</td>\n",
       "      <td>172357</td>\n",
       "      <td>на проведение свадьбы</td>\n",
       "    </tr>\n",
       "    <tr>\n",
       "      <td>9920</td>\n",
       "      <td>0</td>\n",
       "      <td>1547</td>\n",
       "      <td>51</td>\n",
       "      <td>среднее</td>\n",
       "      <td>1</td>\n",
       "      <td>гражданский брак</td>\n",
       "      <td>1</td>\n",
       "      <td>F</td>\n",
       "      <td>компаньон</td>\n",
       "      <td>0</td>\n",
       "      <td>172357</td>\n",
       "      <td>на проведение свадьбы</td>\n",
       "    </tr>\n",
       "    <tr>\n",
       "      <td>15991</td>\n",
       "      <td>0</td>\n",
       "      <td>1547</td>\n",
       "      <td>51</td>\n",
       "      <td>среднее</td>\n",
       "      <td>1</td>\n",
       "      <td>гражданский брак</td>\n",
       "      <td>1</td>\n",
       "      <td>F</td>\n",
       "      <td>компаньон</td>\n",
       "      <td>0</td>\n",
       "      <td>172357</td>\n",
       "      <td>на проведение свадьбы</td>\n",
       "    </tr>\n",
       "    <tr>\n",
       "      <td>19387</td>\n",
       "      <td>0</td>\n",
       "      <td>1547</td>\n",
       "      <td>38</td>\n",
       "      <td>высшее</td>\n",
       "      <td>0</td>\n",
       "      <td>гражданский брак</td>\n",
       "      <td>1</td>\n",
       "      <td>F</td>\n",
       "      <td>компаньон</td>\n",
       "      <td>0</td>\n",
       "      <td>172357</td>\n",
       "      <td>на проведение свадьбы</td>\n",
       "    </tr>\n",
       "    <tr>\n",
       "      <td>2254</td>\n",
       "      <td>0</td>\n",
       "      <td>1547</td>\n",
       "      <td>54</td>\n",
       "      <td>высшее</td>\n",
       "      <td>0</td>\n",
       "      <td>женат / замужем</td>\n",
       "      <td>0</td>\n",
       "      <td>M</td>\n",
       "      <td>компаньон</td>\n",
       "      <td>0</td>\n",
       "      <td>172357</td>\n",
       "      <td>операции с коммерческой недвижимостью</td>\n",
       "    </tr>\n",
       "    <tr>\n",
       "      <td>...</td>\n",
       "      <td>...</td>\n",
       "      <td>...</td>\n",
       "      <td>...</td>\n",
       "      <td>...</td>\n",
       "      <td>...</td>\n",
       "      <td>...</td>\n",
       "      <td>...</td>\n",
       "      <td>...</td>\n",
       "      <td>...</td>\n",
       "      <td>...</td>\n",
       "      <td>...</td>\n",
       "      <td>...</td>\n",
       "    </tr>\n",
       "    <tr>\n",
       "      <td>5557</td>\n",
       "      <td>0</td>\n",
       "      <td>365213</td>\n",
       "      <td>58</td>\n",
       "      <td>среднее</td>\n",
       "      <td>1</td>\n",
       "      <td>гражданский брак</td>\n",
       "      <td>1</td>\n",
       "      <td>F</td>\n",
       "      <td>пенсионер</td>\n",
       "      <td>0</td>\n",
       "      <td>118514</td>\n",
       "      <td>сыграть свадьбу</td>\n",
       "    </tr>\n",
       "    <tr>\n",
       "      <td>6674</td>\n",
       "      <td>0</td>\n",
       "      <td>365213</td>\n",
       "      <td>64</td>\n",
       "      <td>среднее</td>\n",
       "      <td>1</td>\n",
       "      <td>гражданский брак</td>\n",
       "      <td>1</td>\n",
       "      <td>F</td>\n",
       "      <td>пенсионер</td>\n",
       "      <td>0</td>\n",
       "      <td>118514</td>\n",
       "      <td>сыграть свадьбу</td>\n",
       "    </tr>\n",
       "    <tr>\n",
       "      <td>13035</td>\n",
       "      <td>0</td>\n",
       "      <td>365213</td>\n",
       "      <td>65</td>\n",
       "      <td>среднее</td>\n",
       "      <td>1</td>\n",
       "      <td>гражданский брак</td>\n",
       "      <td>1</td>\n",
       "      <td>F</td>\n",
       "      <td>пенсионер</td>\n",
       "      <td>0</td>\n",
       "      <td>118514</td>\n",
       "      <td>сыграть свадьбу</td>\n",
       "    </tr>\n",
       "    <tr>\n",
       "      <td>17338</td>\n",
       "      <td>0</td>\n",
       "      <td>365213</td>\n",
       "      <td>64</td>\n",
       "      <td>среднее</td>\n",
       "      <td>1</td>\n",
       "      <td>гражданский брак</td>\n",
       "      <td>1</td>\n",
       "      <td>F</td>\n",
       "      <td>пенсионер</td>\n",
       "      <td>0</td>\n",
       "      <td>118514</td>\n",
       "      <td>сыграть свадьбу</td>\n",
       "    </tr>\n",
       "    <tr>\n",
       "      <td>20187</td>\n",
       "      <td>0</td>\n",
       "      <td>365213</td>\n",
       "      <td>65</td>\n",
       "      <td>среднее</td>\n",
       "      <td>1</td>\n",
       "      <td>гражданский брак</td>\n",
       "      <td>1</td>\n",
       "      <td>F</td>\n",
       "      <td>пенсионер</td>\n",
       "      <td>0</td>\n",
       "      <td>118514</td>\n",
       "      <td>сыграть свадьбу</td>\n",
       "    </tr>\n",
       "  </tbody>\n",
       "</table>\n",
       "<p>137 rows × 12 columns</p>\n",
       "</div>"
      ],
      "text/plain": [
       "       children  days_employed  dob_years education  education_id  \\\n",
       "9374          0           1547         38    высшее             0   \n",
       "9920          0           1547         51   среднее             1   \n",
       "15991         0           1547         51   среднее             1   \n",
       "19387         0           1547         38    высшее             0   \n",
       "2254          0           1547         54    высшее             0   \n",
       "...         ...            ...        ...       ...           ...   \n",
       "5557          0         365213         58   среднее             1   \n",
       "6674          0         365213         64   среднее             1   \n",
       "13035         0         365213         65   среднее             1   \n",
       "17338         0         365213         64   среднее             1   \n",
       "20187         0         365213         65   среднее             1   \n",
       "\n",
       "          family_status  family_status_id gender income_type  debt  \\\n",
       "9374   гражданский брак                 1      F   компаньон     0   \n",
       "9920   гражданский брак                 1      F   компаньон     0   \n",
       "15991  гражданский брак                 1      F   компаньон     0   \n",
       "19387  гражданский брак                 1      F   компаньон     0   \n",
       "2254    женат / замужем                 0      M   компаньон     0   \n",
       "...                 ...               ...    ...         ...   ...   \n",
       "5557   гражданский брак                 1      F   пенсионер     0   \n",
       "6674   гражданский брак                 1      F   пенсионер     0   \n",
       "13035  гражданский брак                 1      F   пенсионер     0   \n",
       "17338  гражданский брак                 1      F   пенсионер     0   \n",
       "20187  гражданский брак                 1      F   пенсионер     0   \n",
       "\n",
       "       total_income                                purpose  \n",
       "9374         172357                  на проведение свадьбы  \n",
       "9920         172357                  на проведение свадьбы  \n",
       "15991        172357                  на проведение свадьбы  \n",
       "19387        172357                  на проведение свадьбы  \n",
       "2254         172357  операции с коммерческой недвижимостью  \n",
       "...             ...                                    ...  \n",
       "5557         118514                        сыграть свадьбу  \n",
       "6674         118514                        сыграть свадьбу  \n",
       "13035        118514                        сыграть свадьбу  \n",
       "17338        118514                        сыграть свадьбу  \n",
       "20187        118514                        сыграть свадьбу  \n",
       "\n",
       "[137 rows x 12 columns]"
      ]
     },
     "execution_count": 15,
     "metadata": {},
     "output_type": "execute_result"
    }
   ],
   "source": [
    "clients[clients.duplicated(keep = False)].sort_values(by=['days_employed', 'total_income', 'purpose'])\n"
   ]
  },
  {
   "cell_type": "markdown",
   "metadata": {},
   "source": [
    "В таблице присутствуют явные дубликаты, которые следует удалить."
   ]
  },
  {
   "cell_type": "code",
   "execution_count": 16,
   "metadata": {},
   "outputs": [
    {
     "name": "stdout",
     "output_type": "stream",
     "text": [
      "Количество дубликатов после удаления: 0\n"
     ]
    }
   ],
   "source": [
    "clients = clients.drop_duplicates() # удаление дубликатов и перезапись данных\n",
    "print('Количество дубликатов после удаления:', clients.duplicated().sum()) # подсчет дубликатов в данных"
   ]
  },
  {
   "cell_type": "markdown",
   "metadata": {},
   "source": [
    "**Вывод**\n",
    "- в данных обработаны и удалены дубликаты\n",
    "- данные столбца `education` приведены к нижнему регистру"
   ]
  },
  {
   "cell_type": "markdown",
   "metadata": {},
   "source": [
    "### Лемматизация"
   ]
  },
  {
   "cell_type": "markdown",
   "metadata": {},
   "source": [
    "Как отмечалось ранее, данные в столбце `purpose` имеют схожие категории, но записаны по-разному, необходимо их обработать и привести к единообразию. Для этого можно применить процесс - **Лемматизации**"
   ]
  },
  {
   "cell_type": "markdown",
   "metadata": {},
   "source": [
    "Посчитаем количество записей по группам в столбце `purpose`:"
   ]
  },
  {
   "cell_type": "code",
   "execution_count": 17,
   "metadata": {},
   "outputs": [
    {
     "data": {
      "text/plain": [
       "purpose\n",
       "автомобили                                478\n",
       "автомобиль                                494\n",
       "высшее образование                        452\n",
       "дополнительное образование                460\n",
       "жилье                                     646\n",
       "заняться высшим образованием              496\n",
       "заняться образованием                     408\n",
       "на покупку автомобиля                     471\n",
       "на покупку подержанного автомобиля        478\n",
       "на покупку своего автомобиля              505\n",
       "на проведение свадьбы                     768\n",
       "недвижимость                              633\n",
       "образование                               447\n",
       "операции с жильем                         652\n",
       "операции с коммерческой недвижимостью     650\n",
       "операции с недвижимостью                  675\n",
       "операции со своей недвижимостью           627\n",
       "покупка жилой недвижимости                606\n",
       "покупка жилья                             646\n",
       "покупка жилья для сдачи                   651\n",
       "покупка жилья для семьи                   638\n",
       "покупка коммерческой недвижимости         661\n",
       "покупка недвижимости                      621\n",
       "покупка своего жилья                      620\n",
       "получение высшего образования             426\n",
       "получение дополнительного образования     446\n",
       "получение образования                     442\n",
       "приобретение автомобиля                   461\n",
       "профильное образование                    436\n",
       "ремонт жилью                              607\n",
       "свадьба                                   791\n",
       "свой автомобиль                           478\n",
       "сделка с автомобилем                      455\n",
       "сделка с подержанным автомобилем          486\n",
       "строительство жилой недвижимости          624\n",
       "строительство недвижимости                619\n",
       "строительство собственной недвижимости    635\n",
       "сыграть свадьбу                           765\n",
       "Name: purpose, dtype: int64"
      ]
     },
     "metadata": {},
     "output_type": "display_data"
    }
   ],
   "source": [
    "purpose_grouped = clients.groupby('purpose')['purpose'].count()\n",
    "display(purpose_grouped)"
   ]
  },
  {
   "cell_type": "markdown",
   "metadata": {},
   "source": [
    "Разобъем цели на \"леммы\" и определим их частоту методом Counter:"
   ]
  },
  {
   "cell_type": "code",
   "execution_count": 18,
   "metadata": {},
   "outputs": [
    {
     "name": "stdout",
     "output_type": "stream",
     "text": [
      "Counter({' ': 33570, '\\n': 21454, 'недвижимость': 6351, 'покупка': 5897, 'жилье': 4460, 'автомобиль': 4306, 'образование': 4013, 'с': 2918, 'операция': 2604, 'свадьба': 2324, 'свой': 2230, 'на': 2222, 'строительство': 1878, 'высокий': 1374, 'получение': 1314, 'коммерческий': 1311, 'для': 1289, 'жилой': 1230, 'сделка': 941, 'дополнительный': 906, 'заниматься': 904, 'проведение': 768, 'сыграть': 765, 'сдача': 651, 'семья': 638, 'собственный': 635, 'со': 627, 'ремонт': 607, 'подержанный': 486, 'подержать': 478, 'приобретение': 461, 'профильный': 436})\n"
     ]
    }
   ],
   "source": [
    "m = Mystem()\n",
    "lemmas_list = [] # создаем новый список\n",
    "for element in clients['purpose']:\n",
    "    lemmas = m.lemmatize(element)\n",
    "    lemmas_list.extend(lemmas) # дополняем список элементами из объекта lemmas\n",
    "print(Counter(lemmas_list)) # определяем частоту встречаемости каждой леммы"
   ]
  },
  {
   "cell_type": "markdown",
   "metadata": {},
   "source": [
    "По выведенным данным можно определить следующие цели кредита: \"жилье\", \"недвижимость\", \"автомобиль\", \"свадьба\" и \"образование\"."
   ]
  },
  {
   "cell_type": "markdown",
   "metadata": {},
   "source": [
    "Сохраним цели кредита в новом списке `categories`"
   ]
  },
  {
   "cell_type": "code",
   "execution_count": 19,
   "metadata": {},
   "outputs": [],
   "source": [
    "categories = ['жилье', 'недвижимость', 'автомобиль', 'свадьба', 'образование']"
   ]
  },
  {
   "cell_type": "markdown",
   "metadata": {},
   "source": [
    "Лемматизируем данные и добавим новые цели в столбец `purpose_group`:"
   ]
  },
  {
   "cell_type": "code",
   "execution_count": 20,
   "metadata": {},
   "outputs": [
    {
     "data": {
      "text/html": [
       "<div>\n",
       "<style scoped>\n",
       "    .dataframe tbody tr th:only-of-type {\n",
       "        vertical-align: middle;\n",
       "    }\n",
       "\n",
       "    .dataframe tbody tr th {\n",
       "        vertical-align: top;\n",
       "    }\n",
       "\n",
       "    .dataframe thead th {\n",
       "        text-align: right;\n",
       "    }\n",
       "</style>\n",
       "<table border=\"1\" class=\"dataframe\">\n",
       "  <thead>\n",
       "    <tr style=\"text-align: right;\">\n",
       "      <th></th>\n",
       "      <th>children</th>\n",
       "      <th>days_employed</th>\n",
       "      <th>dob_years</th>\n",
       "      <th>education</th>\n",
       "      <th>education_id</th>\n",
       "      <th>family_status</th>\n",
       "      <th>family_status_id</th>\n",
       "      <th>gender</th>\n",
       "      <th>income_type</th>\n",
       "      <th>debt</th>\n",
       "      <th>total_income</th>\n",
       "      <th>purpose</th>\n",
       "      <th>purpose_group</th>\n",
       "    </tr>\n",
       "  </thead>\n",
       "  <tbody>\n",
       "    <tr>\n",
       "      <td>0</td>\n",
       "      <td>1</td>\n",
       "      <td>8437</td>\n",
       "      <td>42</td>\n",
       "      <td>высшее</td>\n",
       "      <td>0</td>\n",
       "      <td>женат / замужем</td>\n",
       "      <td>0</td>\n",
       "      <td>F</td>\n",
       "      <td>сотрудник</td>\n",
       "      <td>0</td>\n",
       "      <td>253875</td>\n",
       "      <td>покупка жилья</td>\n",
       "      <td>жилье</td>\n",
       "    </tr>\n",
       "    <tr>\n",
       "      <td>1</td>\n",
       "      <td>1</td>\n",
       "      <td>4024</td>\n",
       "      <td>36</td>\n",
       "      <td>среднее</td>\n",
       "      <td>1</td>\n",
       "      <td>женат / замужем</td>\n",
       "      <td>0</td>\n",
       "      <td>F</td>\n",
       "      <td>сотрудник</td>\n",
       "      <td>0</td>\n",
       "      <td>112080</td>\n",
       "      <td>приобретение автомобиля</td>\n",
       "      <td>автомобиль</td>\n",
       "    </tr>\n",
       "    <tr>\n",
       "      <td>2</td>\n",
       "      <td>0</td>\n",
       "      <td>5623</td>\n",
       "      <td>33</td>\n",
       "      <td>среднее</td>\n",
       "      <td>1</td>\n",
       "      <td>женат / замужем</td>\n",
       "      <td>0</td>\n",
       "      <td>M</td>\n",
       "      <td>сотрудник</td>\n",
       "      <td>0</td>\n",
       "      <td>145885</td>\n",
       "      <td>покупка жилья</td>\n",
       "      <td>жилье</td>\n",
       "    </tr>\n",
       "    <tr>\n",
       "      <td>3</td>\n",
       "      <td>3</td>\n",
       "      <td>4124</td>\n",
       "      <td>32</td>\n",
       "      <td>среднее</td>\n",
       "      <td>1</td>\n",
       "      <td>женат / замужем</td>\n",
       "      <td>0</td>\n",
       "      <td>M</td>\n",
       "      <td>сотрудник</td>\n",
       "      <td>0</td>\n",
       "      <td>267628</td>\n",
       "      <td>дополнительное образование</td>\n",
       "      <td>образование</td>\n",
       "    </tr>\n",
       "    <tr>\n",
       "      <td>4</td>\n",
       "      <td>0</td>\n",
       "      <td>340266</td>\n",
       "      <td>53</td>\n",
       "      <td>среднее</td>\n",
       "      <td>1</td>\n",
       "      <td>гражданский брак</td>\n",
       "      <td>1</td>\n",
       "      <td>F</td>\n",
       "      <td>пенсионер</td>\n",
       "      <td>0</td>\n",
       "      <td>158616</td>\n",
       "      <td>сыграть свадьбу</td>\n",
       "      <td>свадьба</td>\n",
       "    </tr>\n",
       "    <tr>\n",
       "      <td>5</td>\n",
       "      <td>0</td>\n",
       "      <td>926</td>\n",
       "      <td>27</td>\n",
       "      <td>высшее</td>\n",
       "      <td>0</td>\n",
       "      <td>гражданский брак</td>\n",
       "      <td>1</td>\n",
       "      <td>M</td>\n",
       "      <td>компаньон</td>\n",
       "      <td>0</td>\n",
       "      <td>255763</td>\n",
       "      <td>покупка жилья</td>\n",
       "      <td>жилье</td>\n",
       "    </tr>\n",
       "    <tr>\n",
       "      <td>6</td>\n",
       "      <td>0</td>\n",
       "      <td>2879</td>\n",
       "      <td>43</td>\n",
       "      <td>высшее</td>\n",
       "      <td>0</td>\n",
       "      <td>женат / замужем</td>\n",
       "      <td>0</td>\n",
       "      <td>F</td>\n",
       "      <td>компаньон</td>\n",
       "      <td>0</td>\n",
       "      <td>240525</td>\n",
       "      <td>операции с жильем</td>\n",
       "      <td>жилье</td>\n",
       "    </tr>\n",
       "    <tr>\n",
       "      <td>7</td>\n",
       "      <td>0</td>\n",
       "      <td>152</td>\n",
       "      <td>50</td>\n",
       "      <td>среднее</td>\n",
       "      <td>1</td>\n",
       "      <td>женат / замужем</td>\n",
       "      <td>0</td>\n",
       "      <td>M</td>\n",
       "      <td>сотрудник</td>\n",
       "      <td>0</td>\n",
       "      <td>135823</td>\n",
       "      <td>образование</td>\n",
       "      <td>образование</td>\n",
       "    </tr>\n",
       "    <tr>\n",
       "      <td>8</td>\n",
       "      <td>2</td>\n",
       "      <td>6929</td>\n",
       "      <td>35</td>\n",
       "      <td>высшее</td>\n",
       "      <td>0</td>\n",
       "      <td>гражданский брак</td>\n",
       "      <td>1</td>\n",
       "      <td>F</td>\n",
       "      <td>сотрудник</td>\n",
       "      <td>0</td>\n",
       "      <td>95856</td>\n",
       "      <td>на проведение свадьбы</td>\n",
       "      <td>свадьба</td>\n",
       "    </tr>\n",
       "    <tr>\n",
       "      <td>9</td>\n",
       "      <td>0</td>\n",
       "      <td>2188</td>\n",
       "      <td>41</td>\n",
       "      <td>среднее</td>\n",
       "      <td>1</td>\n",
       "      <td>женат / замужем</td>\n",
       "      <td>0</td>\n",
       "      <td>M</td>\n",
       "      <td>сотрудник</td>\n",
       "      <td>0</td>\n",
       "      <td>144425</td>\n",
       "      <td>покупка жилья для семьи</td>\n",
       "      <td>жилье</td>\n",
       "    </tr>\n",
       "    <tr>\n",
       "      <td>10</td>\n",
       "      <td>2</td>\n",
       "      <td>4171</td>\n",
       "      <td>36</td>\n",
       "      <td>высшее</td>\n",
       "      <td>0</td>\n",
       "      <td>женат / замужем</td>\n",
       "      <td>0</td>\n",
       "      <td>M</td>\n",
       "      <td>компаньон</td>\n",
       "      <td>0</td>\n",
       "      <td>113943</td>\n",
       "      <td>покупка недвижимости</td>\n",
       "      <td>недвижимость</td>\n",
       "    </tr>\n",
       "    <tr>\n",
       "      <td>11</td>\n",
       "      <td>0</td>\n",
       "      <td>792</td>\n",
       "      <td>40</td>\n",
       "      <td>среднее</td>\n",
       "      <td>1</td>\n",
       "      <td>женат / замужем</td>\n",
       "      <td>0</td>\n",
       "      <td>F</td>\n",
       "      <td>сотрудник</td>\n",
       "      <td>0</td>\n",
       "      <td>77069</td>\n",
       "      <td>покупка коммерческой недвижимости</td>\n",
       "      <td>недвижимость</td>\n",
       "    </tr>\n",
       "    <tr>\n",
       "      <td>12</td>\n",
       "      <td>0</td>\n",
       "      <td>365213</td>\n",
       "      <td>65</td>\n",
       "      <td>среднее</td>\n",
       "      <td>1</td>\n",
       "      <td>гражданский брак</td>\n",
       "      <td>1</td>\n",
       "      <td>M</td>\n",
       "      <td>пенсионер</td>\n",
       "      <td>0</td>\n",
       "      <td>118514</td>\n",
       "      <td>сыграть свадьбу</td>\n",
       "      <td>свадьба</td>\n",
       "    </tr>\n",
       "    <tr>\n",
       "      <td>13</td>\n",
       "      <td>0</td>\n",
       "      <td>1846</td>\n",
       "      <td>54</td>\n",
       "      <td>неоконченное высшее</td>\n",
       "      <td>2</td>\n",
       "      <td>женат / замужем</td>\n",
       "      <td>0</td>\n",
       "      <td>F</td>\n",
       "      <td>сотрудник</td>\n",
       "      <td>0</td>\n",
       "      <td>130458</td>\n",
       "      <td>приобретение автомобиля</td>\n",
       "      <td>автомобиль</td>\n",
       "    </tr>\n",
       "    <tr>\n",
       "      <td>14</td>\n",
       "      <td>0</td>\n",
       "      <td>1844</td>\n",
       "      <td>56</td>\n",
       "      <td>высшее</td>\n",
       "      <td>0</td>\n",
       "      <td>гражданский брак</td>\n",
       "      <td>1</td>\n",
       "      <td>F</td>\n",
       "      <td>компаньон</td>\n",
       "      <td>1</td>\n",
       "      <td>165127</td>\n",
       "      <td>покупка жилой недвижимости</td>\n",
       "      <td>недвижимость</td>\n",
       "    </tr>\n",
       "  </tbody>\n",
       "</table>\n",
       "</div>"
      ],
      "text/plain": [
       "    children  days_employed  dob_years            education  education_id  \\\n",
       "0          1           8437         42               высшее             0   \n",
       "1          1           4024         36              среднее             1   \n",
       "2          0           5623         33              среднее             1   \n",
       "3          3           4124         32              среднее             1   \n",
       "4          0         340266         53              среднее             1   \n",
       "5          0            926         27               высшее             0   \n",
       "6          0           2879         43               высшее             0   \n",
       "7          0            152         50              среднее             1   \n",
       "8          2           6929         35               высшее             0   \n",
       "9          0           2188         41              среднее             1   \n",
       "10         2           4171         36               высшее             0   \n",
       "11         0            792         40              среднее             1   \n",
       "12         0         365213         65              среднее             1   \n",
       "13         0           1846         54  неоконченное высшее             2   \n",
       "14         0           1844         56               высшее             0   \n",
       "\n",
       "       family_status  family_status_id gender income_type  debt  total_income  \\\n",
       "0    женат / замужем                 0      F   сотрудник     0        253875   \n",
       "1    женат / замужем                 0      F   сотрудник     0        112080   \n",
       "2    женат / замужем                 0      M   сотрудник     0        145885   \n",
       "3    женат / замужем                 0      M   сотрудник     0        267628   \n",
       "4   гражданский брак                 1      F   пенсионер     0        158616   \n",
       "5   гражданский брак                 1      M   компаньон     0        255763   \n",
       "6    женат / замужем                 0      F   компаньон     0        240525   \n",
       "7    женат / замужем                 0      M   сотрудник     0        135823   \n",
       "8   гражданский брак                 1      F   сотрудник     0         95856   \n",
       "9    женат / замужем                 0      M   сотрудник     0        144425   \n",
       "10   женат / замужем                 0      M   компаньон     0        113943   \n",
       "11   женат / замужем                 0      F   сотрудник     0         77069   \n",
       "12  гражданский брак                 1      M   пенсионер     0        118514   \n",
       "13   женат / замужем                 0      F   сотрудник     0        130458   \n",
       "14  гражданский брак                 1      F   компаньон     1        165127   \n",
       "\n",
       "                              purpose purpose_group  \n",
       "0                       покупка жилья         жилье  \n",
       "1             приобретение автомобиля    автомобиль  \n",
       "2                       покупка жилья         жилье  \n",
       "3          дополнительное образование   образование  \n",
       "4                     сыграть свадьбу       свадьба  \n",
       "5                       покупка жилья         жилье  \n",
       "6                   операции с жильем         жилье  \n",
       "7                         образование   образование  \n",
       "8               на проведение свадьбы       свадьба  \n",
       "9             покупка жилья для семьи         жилье  \n",
       "10               покупка недвижимости  недвижимость  \n",
       "11  покупка коммерческой недвижимости  недвижимость  \n",
       "12                    сыграть свадьбу       свадьба  \n",
       "13            приобретение автомобиля    автомобиль  \n",
       "14         покупка жилой недвижимости  недвижимость  "
      ]
     },
     "execution_count": 20,
     "metadata": {},
     "output_type": "execute_result"
    }
   ],
   "source": [
    "# запишем функцию для лемматизации\n",
    "def lemmatize(text):\n",
    "    lemma = m.lemmatize(text)\n",
    "    for word in categories:\n",
    "        if word in lemma:\n",
    "            lemma = word\n",
    "    return lemma\n",
    "# создадим новый столбец, куда запишем \"леммы\"\n",
    "clients['purpose_group'] = clients['purpose'].apply(lemmatize)        \n",
    "# выведем первые 15 строк таблицы\n",
    "clients.head(15)"
   ]
  },
  {
   "cell_type": "markdown",
   "metadata": {},
   "source": [
    "из вывода видим, что \"жилье\" также может относиться к \"недвижимости\". Заменим цель \"жилье\" на \"недвижимость\" для одинакового трактования цели. В цели \"недвижимость\" будет находиться как коммерческая, так и жилая недвижимость."
   ]
  },
  {
   "cell_type": "code",
   "execution_count": 21,
   "metadata": {},
   "outputs": [],
   "source": [
    "# заменим значение 'жилье' на 'недвижимость' в столбце 'purpose_group', применив метод .loc[]\n",
    "clients.loc[clients['purpose_group'] == 'жилье', 'purpose_group'] = 'недвижимость'"
   ]
  },
  {
   "cell_type": "code",
   "execution_count": 22,
   "metadata": {},
   "outputs": [
    {
     "data": {
      "text/plain": [
       "недвижимость    10811\n",
       "автомобиль       4306\n",
       "образование      4013\n",
       "свадьба          2324\n",
       "Name: purpose_group, dtype: int64"
      ]
     },
     "execution_count": 22,
     "metadata": {},
     "output_type": "execute_result"
    }
   ],
   "source": [
    "clients['purpose_group'].value_counts() # посчитаем количество записей в каждой категории"
   ]
  },
  {
   "cell_type": "markdown",
   "metadata": {},
   "source": [
    "**Вывод**\n",
    "Для анализа данные столбца `purpose` были лемматизированы в 4 категории в столбце `purpose_group`. Теперь с ними можно работать."
   ]
  },
  {
   "cell_type": "markdown",
   "metadata": {},
   "source": [
    "### Категоризация данных"
   ]
  },
  {
   "cell_type": "markdown",
   "metadata": {},
   "source": [
    "Разобъем данные в столбцах на группы:"
   ]
  },
  {
   "cell_type": "raw",
   "metadata": {},
   "source": [
    "1. категоризируем данные по наличию детей:\n",
    "   - \"бездетные\" = 0\n",
    "   - \"есть дети\" = 1"
   ]
  },
  {
   "cell_type": "code",
   "execution_count": 23,
   "metadata": {},
   "outputs": [
    {
     "data": {
      "text/html": [
       "<div>\n",
       "<style scoped>\n",
       "    .dataframe tbody tr th:only-of-type {\n",
       "        vertical-align: middle;\n",
       "    }\n",
       "\n",
       "    .dataframe tbody tr th {\n",
       "        vertical-align: top;\n",
       "    }\n",
       "\n",
       "    .dataframe thead th {\n",
       "        text-align: right;\n",
       "    }\n",
       "</style>\n",
       "<table border=\"1\" class=\"dataframe\">\n",
       "  <thead>\n",
       "    <tr style=\"text-align: right;\">\n",
       "      <th></th>\n",
       "      <th>children</th>\n",
       "      <th>days_employed</th>\n",
       "      <th>dob_years</th>\n",
       "      <th>education</th>\n",
       "      <th>education_id</th>\n",
       "      <th>family_status</th>\n",
       "      <th>family_status_id</th>\n",
       "      <th>gender</th>\n",
       "      <th>income_type</th>\n",
       "      <th>debt</th>\n",
       "      <th>total_income</th>\n",
       "      <th>purpose</th>\n",
       "      <th>purpose_group</th>\n",
       "      <th>having_children</th>\n",
       "    </tr>\n",
       "  </thead>\n",
       "  <tbody>\n",
       "    <tr>\n",
       "      <td>0</td>\n",
       "      <td>1</td>\n",
       "      <td>8437</td>\n",
       "      <td>42</td>\n",
       "      <td>высшее</td>\n",
       "      <td>0</td>\n",
       "      <td>женат / замужем</td>\n",
       "      <td>0</td>\n",
       "      <td>F</td>\n",
       "      <td>сотрудник</td>\n",
       "      <td>0</td>\n",
       "      <td>253875</td>\n",
       "      <td>покупка жилья</td>\n",
       "      <td>недвижимость</td>\n",
       "      <td>1</td>\n",
       "    </tr>\n",
       "    <tr>\n",
       "      <td>1</td>\n",
       "      <td>1</td>\n",
       "      <td>4024</td>\n",
       "      <td>36</td>\n",
       "      <td>среднее</td>\n",
       "      <td>1</td>\n",
       "      <td>женат / замужем</td>\n",
       "      <td>0</td>\n",
       "      <td>F</td>\n",
       "      <td>сотрудник</td>\n",
       "      <td>0</td>\n",
       "      <td>112080</td>\n",
       "      <td>приобретение автомобиля</td>\n",
       "      <td>автомобиль</td>\n",
       "      <td>1</td>\n",
       "    </tr>\n",
       "    <tr>\n",
       "      <td>2</td>\n",
       "      <td>0</td>\n",
       "      <td>5623</td>\n",
       "      <td>33</td>\n",
       "      <td>среднее</td>\n",
       "      <td>1</td>\n",
       "      <td>женат / замужем</td>\n",
       "      <td>0</td>\n",
       "      <td>M</td>\n",
       "      <td>сотрудник</td>\n",
       "      <td>0</td>\n",
       "      <td>145885</td>\n",
       "      <td>покупка жилья</td>\n",
       "      <td>недвижимость</td>\n",
       "      <td>0</td>\n",
       "    </tr>\n",
       "    <tr>\n",
       "      <td>3</td>\n",
       "      <td>3</td>\n",
       "      <td>4124</td>\n",
       "      <td>32</td>\n",
       "      <td>среднее</td>\n",
       "      <td>1</td>\n",
       "      <td>женат / замужем</td>\n",
       "      <td>0</td>\n",
       "      <td>M</td>\n",
       "      <td>сотрудник</td>\n",
       "      <td>0</td>\n",
       "      <td>267628</td>\n",
       "      <td>дополнительное образование</td>\n",
       "      <td>образование</td>\n",
       "      <td>1</td>\n",
       "    </tr>\n",
       "    <tr>\n",
       "      <td>4</td>\n",
       "      <td>0</td>\n",
       "      <td>340266</td>\n",
       "      <td>53</td>\n",
       "      <td>среднее</td>\n",
       "      <td>1</td>\n",
       "      <td>гражданский брак</td>\n",
       "      <td>1</td>\n",
       "      <td>F</td>\n",
       "      <td>пенсионер</td>\n",
       "      <td>0</td>\n",
       "      <td>158616</td>\n",
       "      <td>сыграть свадьбу</td>\n",
       "      <td>свадьба</td>\n",
       "      <td>0</td>\n",
       "    </tr>\n",
       "  </tbody>\n",
       "</table>\n",
       "</div>"
      ],
      "text/plain": [
       "   children  days_employed  dob_years education  education_id  \\\n",
       "0         1           8437         42    высшее             0   \n",
       "1         1           4024         36   среднее             1   \n",
       "2         0           5623         33   среднее             1   \n",
       "3         3           4124         32   среднее             1   \n",
       "4         0         340266         53   среднее             1   \n",
       "\n",
       "      family_status  family_status_id gender income_type  debt  total_income  \\\n",
       "0   женат / замужем                 0      F   сотрудник     0        253875   \n",
       "1   женат / замужем                 0      F   сотрудник     0        112080   \n",
       "2   женат / замужем                 0      M   сотрудник     0        145885   \n",
       "3   женат / замужем                 0      M   сотрудник     0        267628   \n",
       "4  гражданский брак                 1      F   пенсионер     0        158616   \n",
       "\n",
       "                      purpose purpose_group  having_children  \n",
       "0               покупка жилья  недвижимость                1  \n",
       "1     приобретение автомобиля    автомобиль                1  \n",
       "2               покупка жилья  недвижимость                0  \n",
       "3  дополнительное образование   образование                1  \n",
       "4             сыграть свадьбу       свадьба                0  "
      ]
     },
     "execution_count": 23,
     "metadata": {},
     "output_type": "execute_result"
    }
   ],
   "source": [
    "# запишем функцию для катигоризации данных по наличию детей\n",
    "def having_children(row):\n",
    "    if row['children'] == 0:\n",
    "        return 0\n",
    "    return 1\n",
    "clients['having_children'] = clients.apply(having_children, axis=1)\n",
    "clients.head()"
   ]
  },
  {
   "cell_type": "markdown",
   "metadata": {},
   "source": [
    "Для категоризации данных по уровню дохода проанализируем данные:"
   ]
  },
  {
   "cell_type": "code",
   "execution_count": 24,
   "metadata": {},
   "outputs": [
    {
     "data": {
      "text/plain": [
       "income_type\n",
       "безработный        131339.000000\n",
       "в декрете           53829.000000\n",
       "госслужащий        168862.543583\n",
       "компаньон          199451.225089\n",
       "пенсионер          135250.604597\n",
       "предприниматель    499163.000000\n",
       "сотрудник          159566.262901\n",
       "студент             98201.000000\n",
       "Name: total_income, dtype: float64"
      ]
     },
     "execution_count": 24,
     "metadata": {},
     "output_type": "execute_result"
    }
   ],
   "source": [
    "clients.groupby('income_type')['total_income'].mean() # найдем среднее значение дохода в каждой категории"
   ]
  },
  {
   "cell_type": "code",
   "execution_count": 25,
   "metadata": {},
   "outputs": [
    {
     "data": {
      "text/plain": [
       "income_type\n",
       "безработный         202722\n",
       "в декрете            53829\n",
       "госслужащий         910451\n",
       "компаньон          2265604\n",
       "пенсионер           735103\n",
       "предприниматель     499163\n",
       "сотрудник          1726276\n",
       "студент              98201\n",
       "Name: total_income, dtype: int64"
      ]
     },
     "execution_count": 25,
     "metadata": {},
     "output_type": "execute_result"
    }
   ],
   "source": [
    "clients.groupby('income_type')['total_income'].max() # найдем максимальные значения дохода в каждой категории"
   ]
  },
  {
   "cell_type": "code",
   "execution_count": 26,
   "metadata": {
    "scrolled": true
   },
   "outputs": [
    {
     "data": {
      "text/plain": [
       "income_type\n",
       "безработный         59956\n",
       "в декрете           53829\n",
       "госслужащий         29200\n",
       "компаньон           28702\n",
       "пенсионер           20667\n",
       "предприниматель    499163\n",
       "сотрудник           21367\n",
       "студент             98201\n",
       "Name: total_income, dtype: int64"
      ]
     },
     "execution_count": 26,
     "metadata": {},
     "output_type": "execute_result"
    }
   ],
   "source": [
    "clients.groupby('income_type')['total_income'].min() # найдем минимальные значения дохода в каждой категории"
   ]
  },
  {
   "cell_type": "markdown",
   "metadata": {},
   "source": [
    "2. Катигоризируем данные по уровню дохода:\n",
    "    - \"низкий доход\" - менее 50000 (исходя из минимального среднего по группам)\n",
    "    - \"средний доход\" - от 50000 до 200000 (диапазон определен исходя из данных по среднему уровню)\n",
    "    - \"выше среднего\" - от 200000 до 1000000\n",
    "    - \"миллионер\" - более 1000000 (присутствуют в категориях данных)"
   ]
  },
  {
   "cell_type": "code",
   "execution_count": 27,
   "metadata": {},
   "outputs": [
    {
     "data": {
      "text/html": [
       "<div>\n",
       "<style scoped>\n",
       "    .dataframe tbody tr th:only-of-type {\n",
       "        vertical-align: middle;\n",
       "    }\n",
       "\n",
       "    .dataframe tbody tr th {\n",
       "        vertical-align: top;\n",
       "    }\n",
       "\n",
       "    .dataframe thead th {\n",
       "        text-align: right;\n",
       "    }\n",
       "</style>\n",
       "<table border=\"1\" class=\"dataframe\">\n",
       "  <thead>\n",
       "    <tr style=\"text-align: right;\">\n",
       "      <th></th>\n",
       "      <th>children</th>\n",
       "      <th>days_employed</th>\n",
       "      <th>dob_years</th>\n",
       "      <th>education</th>\n",
       "      <th>education_id</th>\n",
       "      <th>family_status</th>\n",
       "      <th>family_status_id</th>\n",
       "      <th>gender</th>\n",
       "      <th>income_type</th>\n",
       "      <th>debt</th>\n",
       "      <th>total_income</th>\n",
       "      <th>purpose</th>\n",
       "      <th>purpose_group</th>\n",
       "      <th>having_children</th>\n",
       "      <th>salary_amount</th>\n",
       "    </tr>\n",
       "  </thead>\n",
       "  <tbody>\n",
       "    <tr>\n",
       "      <td>0</td>\n",
       "      <td>1</td>\n",
       "      <td>8437</td>\n",
       "      <td>42</td>\n",
       "      <td>высшее</td>\n",
       "      <td>0</td>\n",
       "      <td>женат / замужем</td>\n",
       "      <td>0</td>\n",
       "      <td>F</td>\n",
       "      <td>сотрудник</td>\n",
       "      <td>0</td>\n",
       "      <td>253875</td>\n",
       "      <td>покупка жилья</td>\n",
       "      <td>недвижимость</td>\n",
       "      <td>1</td>\n",
       "      <td>выше среднего</td>\n",
       "    </tr>\n",
       "    <tr>\n",
       "      <td>1</td>\n",
       "      <td>1</td>\n",
       "      <td>4024</td>\n",
       "      <td>36</td>\n",
       "      <td>среднее</td>\n",
       "      <td>1</td>\n",
       "      <td>женат / замужем</td>\n",
       "      <td>0</td>\n",
       "      <td>F</td>\n",
       "      <td>сотрудник</td>\n",
       "      <td>0</td>\n",
       "      <td>112080</td>\n",
       "      <td>приобретение автомобиля</td>\n",
       "      <td>автомобиль</td>\n",
       "      <td>1</td>\n",
       "      <td>средний доход</td>\n",
       "    </tr>\n",
       "    <tr>\n",
       "      <td>2</td>\n",
       "      <td>0</td>\n",
       "      <td>5623</td>\n",
       "      <td>33</td>\n",
       "      <td>среднее</td>\n",
       "      <td>1</td>\n",
       "      <td>женат / замужем</td>\n",
       "      <td>0</td>\n",
       "      <td>M</td>\n",
       "      <td>сотрудник</td>\n",
       "      <td>0</td>\n",
       "      <td>145885</td>\n",
       "      <td>покупка жилья</td>\n",
       "      <td>недвижимость</td>\n",
       "      <td>0</td>\n",
       "      <td>средний доход</td>\n",
       "    </tr>\n",
       "    <tr>\n",
       "      <td>3</td>\n",
       "      <td>3</td>\n",
       "      <td>4124</td>\n",
       "      <td>32</td>\n",
       "      <td>среднее</td>\n",
       "      <td>1</td>\n",
       "      <td>женат / замужем</td>\n",
       "      <td>0</td>\n",
       "      <td>M</td>\n",
       "      <td>сотрудник</td>\n",
       "      <td>0</td>\n",
       "      <td>267628</td>\n",
       "      <td>дополнительное образование</td>\n",
       "      <td>образование</td>\n",
       "      <td>1</td>\n",
       "      <td>выше среднего</td>\n",
       "    </tr>\n",
       "    <tr>\n",
       "      <td>4</td>\n",
       "      <td>0</td>\n",
       "      <td>340266</td>\n",
       "      <td>53</td>\n",
       "      <td>среднее</td>\n",
       "      <td>1</td>\n",
       "      <td>гражданский брак</td>\n",
       "      <td>1</td>\n",
       "      <td>F</td>\n",
       "      <td>пенсионер</td>\n",
       "      <td>0</td>\n",
       "      <td>158616</td>\n",
       "      <td>сыграть свадьбу</td>\n",
       "      <td>свадьба</td>\n",
       "      <td>0</td>\n",
       "      <td>средний доход</td>\n",
       "    </tr>\n",
       "  </tbody>\n",
       "</table>\n",
       "</div>"
      ],
      "text/plain": [
       "   children  days_employed  dob_years education  education_id  \\\n",
       "0         1           8437         42    высшее             0   \n",
       "1         1           4024         36   среднее             1   \n",
       "2         0           5623         33   среднее             1   \n",
       "3         3           4124         32   среднее             1   \n",
       "4         0         340266         53   среднее             1   \n",
       "\n",
       "      family_status  family_status_id gender income_type  debt  total_income  \\\n",
       "0   женат / замужем                 0      F   сотрудник     0        253875   \n",
       "1   женат / замужем                 0      F   сотрудник     0        112080   \n",
       "2   женат / замужем                 0      M   сотрудник     0        145885   \n",
       "3   женат / замужем                 0      M   сотрудник     0        267628   \n",
       "4  гражданский брак                 1      F   пенсионер     0        158616   \n",
       "\n",
       "                      purpose purpose_group  having_children  salary_amount  \n",
       "0               покупка жилья  недвижимость                1  выше среднего  \n",
       "1     приобретение автомобиля    автомобиль                1  средний доход  \n",
       "2               покупка жилья  недвижимость                0  средний доход  \n",
       "3  дополнительное образование   образование                1  выше среднего  \n",
       "4             сыграть свадьбу       свадьба                0  средний доход  "
      ]
     },
     "execution_count": 27,
     "metadata": {},
     "output_type": "execute_result"
    }
   ],
   "source": [
    "# запишем функцию для катигоризации данных по уровню дохода\n",
    "def salary_amount(row):\n",
    "    if row['total_income'] <= 50000:\n",
    "        return \"низкий доход\"\n",
    "    if row['total_income'] >= 1000000:\n",
    "        return \"миллионер\"\n",
    "    if row['total_income'] >= 50000 and row['total_income'] <= 200000:\n",
    "        return \"средний доход\"\n",
    "    return \"выше среднего\"\n",
    "clients['salary_amount'] = clients.apply(salary_amount, axis=1)\n",
    "clients.head()"
   ]
  },
  {
   "cell_type": "markdown",
   "metadata": {},
   "source": [
    "**Вывод**\n",
    "для ответов на вопросы мы катекогизировали следующие данные заемщикам:\n",
    "- данные по наличию детей\n",
    "- данные по уровню дохода\n",
    "- данные о семейном положении уже были категоризированы"
   ]
  },
  {
   "cell_type": "markdown",
   "metadata": {},
   "source": [
    "## Шаг 3. Ответьте на вопросы"
   ]
  },
  {
   "cell_type": "markdown",
   "metadata": {},
   "source": [
    "- Есть ли зависимость между наличием детей и возвратом кредита в срок?"
   ]
  },
  {
   "cell_type": "markdown",
   "metadata": {},
   "source": [
    "Для ответа на вопрос построим сводную таблицу, применив `.pivot_table()`:"
   ]
  },
  {
   "cell_type": "code",
   "execution_count": 28,
   "metadata": {},
   "outputs": [
    {
     "data": {
      "text/html": [
       "<div>\n",
       "<style scoped>\n",
       "    .dataframe tbody tr th:only-of-type {\n",
       "        vertical-align: middle;\n",
       "    }\n",
       "\n",
       "    .dataframe tbody tr th {\n",
       "        vertical-align: top;\n",
       "    }\n",
       "\n",
       "    .dataframe thead th {\n",
       "        text-align: right;\n",
       "    }\n",
       "</style>\n",
       "<table border=\"1\" class=\"dataframe\">\n",
       "  <thead>\n",
       "    <tr style=\"text-align: right;\">\n",
       "      <th>debt</th>\n",
       "      <th>0</th>\n",
       "      <th>1</th>\n",
       "      <th>loan_default</th>\n",
       "    </tr>\n",
       "    <tr>\n",
       "      <th>having_children</th>\n",
       "      <th></th>\n",
       "      <th></th>\n",
       "      <th></th>\n",
       "    </tr>\n",
       "  </thead>\n",
       "  <tbody>\n",
       "    <tr>\n",
       "      <td>0</td>\n",
       "      <td>13028</td>\n",
       "      <td>1063</td>\n",
       "      <td>7.5</td>\n",
       "    </tr>\n",
       "    <tr>\n",
       "      <td>1</td>\n",
       "      <td>6685</td>\n",
       "      <td>678</td>\n",
       "      <td>9.2</td>\n",
       "    </tr>\n",
       "  </tbody>\n",
       "</table>\n",
       "</div>"
      ],
      "text/plain": [
       "debt                 0     1  loan_default\n",
       "having_children                           \n",
       "0                13028  1063           7.5\n",
       "1                 6685   678           9.2"
      ]
     },
     "execution_count": 28,
     "metadata": {},
     "output_type": "execute_result"
    }
   ],
   "source": [
    "# составим сводную таблицу и посчитаем количество людей по каждой группе\n",
    "data_pivot = clients.pivot_table(index = ['having_children'], columns = 'debt', values = 'gender', aggfunc = 'count') \n",
    "# посчитаем вероятность задолженности и применим метод .round() для округления до 1 знака\n",
    "data_pivot['loan_default'] = (data_pivot[1] / (data_pivot[0] + data_pivot[1])*100).round(1)\n",
    "data_pivot.head()\n"
   ]
  },
  {
   "cell_type": "markdown",
   "metadata": {},
   "source": [
    "**Вывод**\n",
    "- вероятность задолженности при наличии детей выше (9,2%), чем при их отсутствии (7,5%)"
   ]
  },
  {
   "cell_type": "markdown",
   "metadata": {},
   "source": []
  },
  {
   "cell_type": "markdown",
   "metadata": {},
   "source": [
    "- Есть ли зависимость между семейным положением и возвратом кредита в срок?"
   ]
  },
  {
   "cell_type": "markdown",
   "metadata": {},
   "source": [
    "Построим аналогичную таблицу"
   ]
  },
  {
   "cell_type": "code",
   "execution_count": 29,
   "metadata": {},
   "outputs": [
    {
     "data": {
      "text/html": [
       "<div>\n",
       "<style scoped>\n",
       "    .dataframe tbody tr th:only-of-type {\n",
       "        vertical-align: middle;\n",
       "    }\n",
       "\n",
       "    .dataframe tbody tr th {\n",
       "        vertical-align: top;\n",
       "    }\n",
       "\n",
       "    .dataframe thead th {\n",
       "        text-align: right;\n",
       "    }\n",
       "</style>\n",
       "<table border=\"1\" class=\"dataframe\">\n",
       "  <thead>\n",
       "    <tr style=\"text-align: right;\">\n",
       "      <th>debt</th>\n",
       "      <th>0</th>\n",
       "      <th>1</th>\n",
       "      <th>loan_default</th>\n",
       "    </tr>\n",
       "    <tr>\n",
       "      <th>family_status</th>\n",
       "      <th></th>\n",
       "      <th></th>\n",
       "      <th></th>\n",
       "    </tr>\n",
       "  </thead>\n",
       "  <tbody>\n",
       "    <tr>\n",
       "      <td>Не женат / не замужем</td>\n",
       "      <td>2536</td>\n",
       "      <td>274</td>\n",
       "      <td>9.8</td>\n",
       "    </tr>\n",
       "    <tr>\n",
       "      <td>гражданский брак</td>\n",
       "      <td>3763</td>\n",
       "      <td>388</td>\n",
       "      <td>9.3</td>\n",
       "    </tr>\n",
       "    <tr>\n",
       "      <td>женат / замужем</td>\n",
       "      <td>11408</td>\n",
       "      <td>931</td>\n",
       "      <td>7.5</td>\n",
       "    </tr>\n",
       "    <tr>\n",
       "      <td>в разводе</td>\n",
       "      <td>1110</td>\n",
       "      <td>85</td>\n",
       "      <td>7.1</td>\n",
       "    </tr>\n",
       "    <tr>\n",
       "      <td>вдовец / вдова</td>\n",
       "      <td>896</td>\n",
       "      <td>63</td>\n",
       "      <td>6.6</td>\n",
       "    </tr>\n",
       "  </tbody>\n",
       "</table>\n",
       "</div>"
      ],
      "text/plain": [
       "debt                       0    1  loan_default\n",
       "family_status                                  \n",
       "Не женат / не замужем   2536  274           9.8\n",
       "гражданский брак        3763  388           9.3\n",
       "женат / замужем        11408  931           7.5\n",
       "в разводе               1110   85           7.1\n",
       "вдовец / вдова           896   63           6.6"
      ]
     },
     "execution_count": 29,
     "metadata": {},
     "output_type": "execute_result"
    }
   ],
   "source": [
    "data_pivot = clients.pivot_table(index = ['family_status'], columns = 'debt', values = 'gender', aggfunc = 'count')\n",
    "data_pivot['loan_default'] = (data_pivot[1] / (data_pivot[0] + data_pivot[1])*100).round(1)\n",
    "data_pivot.sort_values('loan_default', ascending = False) # отсортируем значения вероятности задолженности по убыванию\n"
   ]
  },
  {
   "cell_type": "markdown",
   "metadata": {},
   "source": [
    "**Вывод**\n",
    "- наиболее высокая вероятность появления задолженности у категорий людей не состоящих в браке или проживающих в гражданском браке\n",
    "- заемщики, состоящие в браке, разведенные или вдовцы имеют вероятность намного ниже."
   ]
  },
  {
   "cell_type": "markdown",
   "metadata": {},
   "source": []
  },
  {
   "cell_type": "markdown",
   "metadata": {},
   "source": [
    "- Есть ли зависимость между уровнем дохода и возвратом кредита в срок?"
   ]
  },
  {
   "cell_type": "code",
   "execution_count": 30,
   "metadata": {},
   "outputs": [
    {
     "data": {
      "text/html": [
       "<div>\n",
       "<style scoped>\n",
       "    .dataframe tbody tr th:only-of-type {\n",
       "        vertical-align: middle;\n",
       "    }\n",
       "\n",
       "    .dataframe tbody tr th {\n",
       "        vertical-align: top;\n",
       "    }\n",
       "\n",
       "    .dataframe thead th {\n",
       "        text-align: right;\n",
       "    }\n",
       "</style>\n",
       "<table border=\"1\" class=\"dataframe\">\n",
       "  <thead>\n",
       "    <tr style=\"text-align: right;\">\n",
       "      <th>debt</th>\n",
       "      <th>0</th>\n",
       "      <th>1</th>\n",
       "      <th>loan_default</th>\n",
       "    </tr>\n",
       "    <tr>\n",
       "      <th>salary_amount</th>\n",
       "      <th></th>\n",
       "      <th></th>\n",
       "      <th></th>\n",
       "    </tr>\n",
       "  </thead>\n",
       "  <tbody>\n",
       "    <tr>\n",
       "      <td>средний доход</td>\n",
       "      <td>14655</td>\n",
       "      <td>1360</td>\n",
       "      <td>8.5</td>\n",
       "    </tr>\n",
       "    <tr>\n",
       "      <td>миллионер</td>\n",
       "      <td>23</td>\n",
       "      <td>2</td>\n",
       "      <td>8.0</td>\n",
       "    </tr>\n",
       "    <tr>\n",
       "      <td>выше среднего</td>\n",
       "      <td>4686</td>\n",
       "      <td>356</td>\n",
       "      <td>7.1</td>\n",
       "    </tr>\n",
       "    <tr>\n",
       "      <td>низкий доход</td>\n",
       "      <td>349</td>\n",
       "      <td>23</td>\n",
       "      <td>6.2</td>\n",
       "    </tr>\n",
       "  </tbody>\n",
       "</table>\n",
       "</div>"
      ],
      "text/plain": [
       "debt               0     1  loan_default\n",
       "salary_amount                           \n",
       "средний доход  14655  1360           8.5\n",
       "миллионер         23     2           8.0\n",
       "выше среднего   4686   356           7.1\n",
       "низкий доход     349    23           6.2"
      ]
     },
     "execution_count": 30,
     "metadata": {},
     "output_type": "execute_result"
    }
   ],
   "source": [
    "data_pivot = clients.pivot_table(index = ['salary_amount'], columns = 'debt', values = 'gender', aggfunc = 'count')\n",
    "data_pivot['loan_default'] = (data_pivot[1] / (data_pivot[0] + data_pivot[1])*100).round(1)\n",
    "data_pivot.sort_values('loan_default', ascending = False)\n"
   ]
  },
  {
   "cell_type": "markdown",
   "metadata": {},
   "source": [
    "**Вывод**\n",
    "- наибольший процент по просрочке задолженности у людей со среднем достатком от 50 до 200 т.руб - самая массовая категория\n",
    "- наименьший процент - у людей с доходом менее 50 т.руб, скорее всего в виду ограниченности финансов люди наиболее осознанно подходят к взятию кредита и его возврата."
   ]
  },
  {
   "cell_type": "markdown",
   "metadata": {},
   "source": []
  },
  {
   "cell_type": "markdown",
   "metadata": {},
   "source": [
    "- Как разные цели кредита влияют на его возврат в срок?"
   ]
  },
  {
   "cell_type": "code",
   "execution_count": 31,
   "metadata": {},
   "outputs": [
    {
     "data": {
      "text/html": [
       "<div>\n",
       "<style scoped>\n",
       "    .dataframe tbody tr th:only-of-type {\n",
       "        vertical-align: middle;\n",
       "    }\n",
       "\n",
       "    .dataframe tbody tr th {\n",
       "        vertical-align: top;\n",
       "    }\n",
       "\n",
       "    .dataframe thead th {\n",
       "        text-align: right;\n",
       "    }\n",
       "</style>\n",
       "<table border=\"1\" class=\"dataframe\">\n",
       "  <thead>\n",
       "    <tr style=\"text-align: right;\">\n",
       "      <th>debt</th>\n",
       "      <th>0</th>\n",
       "      <th>1</th>\n",
       "      <th>loan_default</th>\n",
       "    </tr>\n",
       "    <tr>\n",
       "      <th>purpose_group</th>\n",
       "      <th></th>\n",
       "      <th></th>\n",
       "      <th></th>\n",
       "    </tr>\n",
       "  </thead>\n",
       "  <tbody>\n",
       "    <tr>\n",
       "      <td>автомобиль</td>\n",
       "      <td>3903</td>\n",
       "      <td>403</td>\n",
       "      <td>9.4</td>\n",
       "    </tr>\n",
       "    <tr>\n",
       "      <td>образование</td>\n",
       "      <td>3643</td>\n",
       "      <td>370</td>\n",
       "      <td>9.2</td>\n",
       "    </tr>\n",
       "    <tr>\n",
       "      <td>свадьба</td>\n",
       "      <td>2138</td>\n",
       "      <td>186</td>\n",
       "      <td>8.0</td>\n",
       "    </tr>\n",
       "    <tr>\n",
       "      <td>недвижимость</td>\n",
       "      <td>10029</td>\n",
       "      <td>782</td>\n",
       "      <td>7.2</td>\n",
       "    </tr>\n",
       "  </tbody>\n",
       "</table>\n",
       "</div>"
      ],
      "text/plain": [
       "debt               0    1  loan_default\n",
       "purpose_group                          \n",
       "автомобиль      3903  403           9.4\n",
       "образование     3643  370           9.2\n",
       "свадьба         2138  186           8.0\n",
       "недвижимость   10029  782           7.2"
      ]
     },
     "execution_count": 31,
     "metadata": {},
     "output_type": "execute_result"
    }
   ],
   "source": [
    "data_pivot = clients.pivot_table(index = ['purpose_group'], columns = 'debt', values = 'gender', aggfunc = 'count')\n",
    "data_pivot['loan_default'] = (data_pivot[1] / (data_pivot[0] + data_pivot[1])*100).round(1)\n",
    "data_pivot.sort_values('loan_default', ascending = False)\n"
   ]
  },
  {
   "cell_type": "markdown",
   "metadata": {},
   "source": [
    "**Вывод**\n",
    "- наиболее ответственные заемщики, которые берут кредит на недвижимость (7,2% просрочек)\n",
    "- чуть менее ответственны те, кто берут кредит на свадьбу (8%)\n",
    "- и наименее ответственные из выборки - кто берут кредит на покупку автомобиля, либо на образование"
   ]
  },
  {
   "cell_type": "markdown",
   "metadata": {},
   "source": [
    "## Шаг 4. Общий вывод\n",
    "\n"
   ]
  },
  {
   "cell_type": "markdown",
   "metadata": {},
   "source": [
    "Проведя обработку и анализ представленных данных, можно выделить следующие типы заемщиков:\n",
    "1. **ответственный заемщик** - человек, не имеющий детей, состоящий в официальном браке, либо ранее состоявший в браке, с уровнем дохода выше менее 50 тыс.руб, либо более 200 тыс.руб, берущие кредит на покупку недвижимости\n",
    "2. **менее ответственный заемщик** - человек с детьми, не состоящий никогда в официальном браке, с уровнем дохода от 50 до 200 тыс.руб и открывающий кредит на приобретение автомобиля или образование.\n",
    "- Что говорит о том, что люди в официальном браке и не имеющие иждевенцев имеют больше финансовых возможностей для обслуживания своих кредитов. "
   ]
  }
 ],
 "metadata": {
  "ExecuteTimeLog": [
   {
    "duration": 854,
    "start_time": "2021-12-09T21:26:13.896Z"
   },
   {
    "duration": 91,
    "start_time": "2021-12-09T21:26:49.725Z"
   },
   {
    "duration": 78,
    "start_time": "2021-12-09T21:29:40.080Z"
   },
   {
    "duration": 86,
    "start_time": "2021-12-09T21:32:00.180Z"
   },
   {
    "duration": 90,
    "start_time": "2021-12-09T21:33:24.599Z"
   },
   {
    "duration": 75,
    "start_time": "2021-12-09T21:38:01.207Z"
   },
   {
    "duration": 90,
    "start_time": "2021-12-09T21:38:11.324Z"
   },
   {
    "duration": 81,
    "start_time": "2021-12-09T21:40:02.534Z"
   },
   {
    "duration": 355,
    "start_time": "2021-12-11T10:22:31.666Z"
   },
   {
    "duration": 2036,
    "start_time": "2021-12-11T10:22:43.781Z"
   },
   {
    "duration": 56,
    "start_time": "2021-12-11T10:22:45.764Z"
   },
   {
    "duration": 335,
    "start_time": "2021-12-11T10:22:55.621Z"
   },
   {
    "duration": 1531,
    "start_time": "2021-12-11T10:23:39.408Z"
   },
   {
    "duration": 73,
    "start_time": "2021-12-11T10:23:44.244Z"
   },
   {
    "duration": 32,
    "start_time": "2021-12-11T10:52:47.909Z"
   },
   {
    "duration": 20,
    "start_time": "2021-12-11T11:13:01.829Z"
   },
   {
    "duration": 19,
    "start_time": "2021-12-11T11:13:20.030Z"
   },
   {
    "duration": 18,
    "start_time": "2021-12-11T11:13:32.585Z"
   },
   {
    "duration": 69,
    "start_time": "2021-12-11T11:19:42.389Z"
   },
   {
    "duration": 20,
    "start_time": "2021-12-11T11:19:48.001Z"
   },
   {
    "duration": 21,
    "start_time": "2021-12-11T11:19:52.906Z"
   },
   {
    "duration": 49,
    "start_time": "2021-12-11T11:20:38.261Z"
   },
   {
    "duration": 13,
    "start_time": "2021-12-11T11:52:05.098Z"
   },
   {
    "duration": 554,
    "start_time": "2021-12-11T12:33:06.488Z"
   },
   {
    "duration": 29,
    "start_time": "2021-12-11T12:34:07.313Z"
   },
   {
    "duration": 96,
    "start_time": "2021-12-11T12:34:53.444Z"
   },
   {
    "duration": 361,
    "start_time": "2021-12-11T12:35:00.032Z"
   },
   {
    "duration": 8,
    "start_time": "2021-12-11T12:38:34.995Z"
   },
   {
    "duration": 8,
    "start_time": "2021-12-11T12:39:24.838Z"
   },
   {
    "duration": 48,
    "start_time": "2021-12-11T12:39:27.423Z"
   },
   {
    "duration": 108,
    "start_time": "2021-12-11T12:39:46.299Z"
   },
   {
    "duration": 32,
    "start_time": "2021-12-11T12:39:52.637Z"
   },
   {
    "duration": 94,
    "start_time": "2021-12-11T12:40:57.997Z"
   },
   {
    "duration": 38,
    "start_time": "2021-12-11T12:41:50.553Z"
   },
   {
    "duration": 12,
    "start_time": "2021-12-11T12:43:30.736Z"
   },
   {
    "duration": 12,
    "start_time": "2021-12-11T12:45:16.204Z"
   },
   {
    "duration": 13,
    "start_time": "2021-12-11T12:45:20.962Z"
   },
   {
    "duration": 37,
    "start_time": "2021-12-11T12:46:48.939Z"
   },
   {
    "duration": 10,
    "start_time": "2021-12-11T12:47:15.517Z"
   },
   {
    "duration": 425,
    "start_time": "2021-12-11T12:48:37.937Z"
   },
   {
    "duration": 38,
    "start_time": "2021-12-11T12:49:00.348Z"
   },
   {
    "duration": 392,
    "start_time": "2021-12-11T12:49:20.023Z"
   },
   {
    "duration": 13,
    "start_time": "2021-12-11T12:49:31.415Z"
   },
   {
    "duration": 11,
    "start_time": "2021-12-11T12:51:50.879Z"
   },
   {
    "duration": 16,
    "start_time": "2021-12-11T12:52:12.379Z"
   },
   {
    "duration": 17,
    "start_time": "2021-12-11T12:52:42.338Z"
   },
   {
    "duration": 9,
    "start_time": "2021-12-11T13:02:02.684Z"
   },
   {
    "duration": 8,
    "start_time": "2021-12-11T13:02:18.127Z"
   },
   {
    "duration": 312,
    "start_time": "2021-12-11T13:02:45.361Z"
   },
   {
    "duration": 6,
    "start_time": "2021-12-11T13:03:38.095Z"
   },
   {
    "duration": 128,
    "start_time": "2021-12-11T13:05:38.510Z"
   },
   {
    "duration": 10,
    "start_time": "2021-12-11T13:05:42.888Z"
   },
   {
    "duration": 15,
    "start_time": "2021-12-11T13:07:59.779Z"
   },
   {
    "duration": 17,
    "start_time": "2021-12-11T13:11:52.678Z"
   },
   {
    "duration": 20,
    "start_time": "2021-12-11T13:15:41.170Z"
   },
   {
    "duration": 17,
    "start_time": "2021-12-11T13:15:58.373Z"
   },
   {
    "duration": 17,
    "start_time": "2021-12-11T13:16:08.959Z"
   },
   {
    "duration": 21,
    "start_time": "2021-12-11T13:17:36.985Z"
   },
   {
    "duration": 7303,
    "start_time": "2021-12-11T13:25:23.346Z"
   },
   {
    "duration": 25,
    "start_time": "2021-12-11T13:26:11.621Z"
   },
   {
    "duration": 23,
    "start_time": "2021-12-11T13:26:32.829Z"
   },
   {
    "duration": 25,
    "start_time": "2021-12-11T13:27:57.476Z"
   },
   {
    "duration": 26,
    "start_time": "2021-12-11T13:28:17.398Z"
   },
   {
    "duration": 299,
    "start_time": "2021-12-11T13:30:35.632Z"
   },
   {
    "duration": 346,
    "start_time": "2021-12-11T13:30:46.510Z"
   },
   {
    "duration": 25,
    "start_time": "2021-12-11T13:36:03.187Z"
   },
   {
    "duration": 26,
    "start_time": "2021-12-11T13:37:02.657Z"
   },
   {
    "duration": 9,
    "start_time": "2021-12-11T13:38:25.040Z"
   },
   {
    "duration": 11,
    "start_time": "2021-12-11T13:39:20.649Z"
   },
   {
    "duration": 1179,
    "start_time": "2021-12-11T13:40:38.093Z"
   },
   {
    "duration": 51,
    "start_time": "2021-12-11T13:41:37.694Z"
   },
   {
    "duration": 50,
    "start_time": "2021-12-11T13:42:55.944Z"
   },
   {
    "duration": 308,
    "start_time": "2021-12-11T13:48:56.277Z"
   },
   {
    "duration": 337,
    "start_time": "2021-12-11T13:49:49.929Z"
   },
   {
    "duration": 49,
    "start_time": "2021-12-11T13:50:25.006Z"
   },
   {
    "duration": 325,
    "start_time": "2021-12-11T13:50:35.986Z"
   },
   {
    "duration": 299,
    "start_time": "2021-12-11T13:51:03.545Z"
   },
   {
    "duration": 37,
    "start_time": "2021-12-11T13:58:48.866Z"
   },
   {
    "duration": 30,
    "start_time": "2021-12-11T13:59:04.646Z"
   },
   {
    "duration": 8,
    "start_time": "2021-12-11T14:13:07.921Z"
   },
   {
    "duration": 21,
    "start_time": "2021-12-11T14:13:59.462Z"
   },
   {
    "duration": 12,
    "start_time": "2021-12-11T14:14:14.820Z"
   },
   {
    "duration": 21,
    "start_time": "2021-12-11T14:18:19.356Z"
   },
   {
    "duration": 32,
    "start_time": "2021-12-11T14:18:48.065Z"
   },
   {
    "duration": 34,
    "start_time": "2021-12-11T14:18:58.922Z"
   },
   {
    "duration": 50,
    "start_time": "2021-12-11T14:20:56.014Z"
   },
   {
    "duration": 25,
    "start_time": "2021-12-11T14:21:22.980Z"
   },
   {
    "duration": 6,
    "start_time": "2021-12-11T14:24:41.658Z"
   },
   {
    "duration": 25,
    "start_time": "2021-12-11T14:24:46.340Z"
   },
   {
    "duration": 5,
    "start_time": "2021-12-11T14:25:02.083Z"
   },
   {
    "duration": 5,
    "start_time": "2021-12-11T14:26:12.042Z"
   },
   {
    "duration": 17,
    "start_time": "2021-12-11T14:26:42.114Z"
   },
   {
    "duration": 32,
    "start_time": "2021-12-11T14:32:56.013Z"
   },
   {
    "duration": 303,
    "start_time": "2021-12-11T14:35:48.346Z"
   },
   {
    "duration": 348,
    "start_time": "2021-12-11T14:37:30.063Z"
   },
   {
    "duration": 24,
    "start_time": "2021-12-11T14:37:54.180Z"
   },
   {
    "duration": 24,
    "start_time": "2021-12-11T14:38:05.478Z"
   },
   {
    "duration": 21,
    "start_time": "2021-12-11T14:38:21.247Z"
   },
   {
    "duration": 328,
    "start_time": "2021-12-11T14:40:24.444Z"
   },
   {
    "duration": 34,
    "start_time": "2021-12-11T14:40:35.772Z"
   },
   {
    "duration": 45,
    "start_time": "2021-12-11T14:41:23.171Z"
   },
   {
    "duration": 12,
    "start_time": "2021-12-11T14:50:10.068Z"
   },
   {
    "duration": 23,
    "start_time": "2021-12-11T14:50:18.294Z"
   },
   {
    "duration": 14,
    "start_time": "2021-12-11T14:51:02.051Z"
   },
   {
    "duration": 46,
    "start_time": "2021-12-11T14:51:57.256Z"
   },
   {
    "duration": 23,
    "start_time": "2021-12-11T14:52:13.001Z"
   },
   {
    "duration": 49,
    "start_time": "2021-12-11T14:52:16.367Z"
   },
   {
    "duration": 11,
    "start_time": "2021-12-11T14:52:43.779Z"
   },
   {
    "duration": 12,
    "start_time": "2021-12-11T14:53:18.037Z"
   },
   {
    "duration": 14,
    "start_time": "2021-12-11T14:53:36.870Z"
   },
   {
    "duration": 20,
    "start_time": "2021-12-11T15:00:38.235Z"
   },
   {
    "duration": 21,
    "start_time": "2021-12-11T15:00:44.105Z"
   },
   {
    "duration": 34,
    "start_time": "2021-12-11T15:00:52.885Z"
   },
   {
    "duration": 34,
    "start_time": "2021-12-11T15:01:43.037Z"
   },
   {
    "duration": 397,
    "start_time": "2021-12-11T15:03:47.818Z"
   },
   {
    "duration": 296,
    "start_time": "2021-12-11T15:04:53.410Z"
   },
   {
    "duration": 302,
    "start_time": "2021-12-11T15:05:09.734Z"
   },
   {
    "duration": 98,
    "start_time": "2021-12-11T15:05:32.102Z"
   },
   {
    "duration": 32,
    "start_time": "2021-12-11T15:05:43.238Z"
   },
   {
    "duration": 15,
    "start_time": "2021-12-11T15:07:02.441Z"
   },
   {
    "duration": 4618,
    "start_time": "2021-12-11T15:16:25.297Z"
   },
   {
    "duration": 5569,
    "start_time": "2021-12-11T15:18:14.097Z"
   },
   {
    "duration": 4577,
    "start_time": "2021-12-11T15:20:29.233Z"
   },
   {
    "duration": 4784,
    "start_time": "2021-12-11T15:21:00.884Z"
   },
   {
    "duration": 49,
    "start_time": "2021-12-11T15:24:43.205Z"
   },
   {
    "duration": 19,
    "start_time": "2021-12-11T15:25:05.409Z"
   },
   {
    "duration": 34,
    "start_time": "2021-12-11T15:25:09.440Z"
   },
   {
    "duration": 28,
    "start_time": "2021-12-11T15:25:13.489Z"
   },
   {
    "duration": 49,
    "start_time": "2021-12-11T15:25:16.556Z"
   },
   {
    "duration": 1477,
    "start_time": "2021-12-11T15:25:42.772Z"
   },
   {
    "duration": 71,
    "start_time": "2021-12-11T15:25:46.308Z"
   },
   {
    "duration": 3,
    "start_time": "2021-12-11T15:25:57.921Z"
   },
   {
    "duration": 74,
    "start_time": "2021-12-11T15:25:57.927Z"
   },
   {
    "duration": 1517,
    "start_time": "2021-12-11T15:26:09.524Z"
   },
   {
    "duration": 79,
    "start_time": "2021-12-11T15:26:11.044Z"
   },
   {
    "duration": 22,
    "start_time": "2021-12-11T15:26:11.127Z"
   },
   {
    "duration": 20,
    "start_time": "2021-12-11T15:26:11.152Z"
   },
   {
    "duration": 55,
    "start_time": "2021-12-11T15:26:11.174Z"
   },
   {
    "duration": 19,
    "start_time": "2021-12-11T15:26:11.231Z"
   },
   {
    "duration": 68,
    "start_time": "2021-12-11T15:26:11.252Z"
   },
   {
    "duration": 20,
    "start_time": "2021-12-11T15:26:11.324Z"
   },
   {
    "duration": 71,
    "start_time": "2021-12-11T15:26:11.346Z"
   },
   {
    "duration": 14,
    "start_time": "2021-12-11T15:26:11.419Z"
   },
   {
    "duration": 49,
    "start_time": "2021-12-11T15:26:11.435Z"
   },
   {
    "duration": 44,
    "start_time": "2021-12-11T15:26:11.487Z"
   },
   {
    "duration": 30,
    "start_time": "2021-12-11T15:26:11.533Z"
   },
   {
    "duration": 54,
    "start_time": "2021-12-11T15:26:11.565Z"
   },
   {
    "duration": 42,
    "start_time": "2021-12-11T15:26:11.621Z"
   },
   {
    "duration": 474,
    "start_time": "2021-12-11T15:27:50.349Z"
   },
   {
    "duration": 44,
    "start_time": "2021-12-11T15:28:31.992Z"
   },
   {
    "duration": 50,
    "start_time": "2021-12-11T15:31:39.298Z"
   },
   {
    "duration": 22,
    "start_time": "2021-12-11T15:32:34.219Z"
   },
   {
    "duration": 45,
    "start_time": "2021-12-11T15:32:39.825Z"
   },
   {
    "duration": 49,
    "start_time": "2021-12-11T15:33:01.554Z"
   },
   {
    "duration": 47,
    "start_time": "2021-12-11T15:33:28.009Z"
   },
   {
    "duration": 50,
    "start_time": "2021-12-11T15:34:03.010Z"
   },
   {
    "duration": 47,
    "start_time": "2021-12-11T15:35:33.234Z"
   },
   {
    "duration": 51,
    "start_time": "2021-12-11T15:36:38.272Z"
   },
   {
    "duration": 51,
    "start_time": "2021-12-11T15:38:51.321Z"
   },
   {
    "duration": 48,
    "start_time": "2021-12-11T15:39:16.489Z"
   },
   {
    "duration": 42,
    "start_time": "2021-12-11T15:40:00.529Z"
   },
   {
    "duration": 47,
    "start_time": "2021-12-11T15:40:27.213Z"
   },
   {
    "duration": 305,
    "start_time": "2021-12-12T10:02:46.959Z"
   },
   {
    "duration": 1133,
    "start_time": "2021-12-12T10:03:06.765Z"
   },
   {
    "duration": 55,
    "start_time": "2021-12-12T10:03:07.900Z"
   },
   {
    "duration": 13,
    "start_time": "2021-12-12T10:03:07.957Z"
   },
   {
    "duration": 12,
    "start_time": "2021-12-12T10:03:07.972Z"
   },
   {
    "duration": 12,
    "start_time": "2021-12-12T10:03:07.985Z"
   },
   {
    "duration": 11,
    "start_time": "2021-12-12T10:03:07.999Z"
   },
   {
    "duration": 53,
    "start_time": "2021-12-12T10:03:08.011Z"
   },
   {
    "duration": 9,
    "start_time": "2021-12-12T10:03:08.067Z"
   },
   {
    "duration": 29,
    "start_time": "2021-12-12T10:03:08.078Z"
   },
   {
    "duration": 8,
    "start_time": "2021-12-12T10:03:08.108Z"
   },
   {
    "duration": 53,
    "start_time": "2021-12-12T10:03:08.118Z"
   },
   {
    "duration": 12,
    "start_time": "2021-12-12T10:03:08.172Z"
   },
   {
    "duration": 18,
    "start_time": "2021-12-12T10:03:08.185Z"
   },
   {
    "duration": 39,
    "start_time": "2021-12-12T10:03:08.205Z"
   },
   {
    "duration": 29,
    "start_time": "2021-12-12T10:03:08.246Z"
   },
   {
    "duration": 27,
    "start_time": "2021-12-12T10:05:05.937Z"
   },
   {
    "duration": 28,
    "start_time": "2021-12-12T10:10:42.627Z"
   },
   {
    "duration": 5,
    "start_time": "2021-12-12T10:44:08.985Z"
   },
   {
    "duration": 6,
    "start_time": "2021-12-12T10:46:03.816Z"
   },
   {
    "duration": 382,
    "start_time": "2021-12-12T10:47:04.193Z"
   },
   {
    "duration": 260,
    "start_time": "2021-12-12T10:47:15.288Z"
   },
   {
    "duration": 277,
    "start_time": "2021-12-12T10:47:42.645Z"
   },
   {
    "duration": 5,
    "start_time": "2021-12-12T10:47:50.060Z"
   },
   {
    "duration": 5,
    "start_time": "2021-12-12T10:50:06.129Z"
   },
   {
    "duration": 5,
    "start_time": "2021-12-12T10:50:12.679Z"
   },
   {
    "duration": 279,
    "start_time": "2021-12-12T10:51:41.878Z"
   },
   {
    "duration": 5,
    "start_time": "2021-12-12T10:52:15.889Z"
   },
   {
    "duration": 16,
    "start_time": "2021-12-12T10:52:20.515Z"
   },
   {
    "duration": 6,
    "start_time": "2021-12-12T10:52:33.972Z"
   },
   {
    "duration": 5,
    "start_time": "2021-12-12T10:53:25.405Z"
   },
   {
    "duration": 5,
    "start_time": "2021-12-12T10:53:29.758Z"
   },
   {
    "duration": 5,
    "start_time": "2021-12-12T10:53:34.324Z"
   },
   {
    "duration": 7,
    "start_time": "2021-12-12T10:54:54.797Z"
   },
   {
    "duration": 11,
    "start_time": "2021-12-12T11:00:12.238Z"
   },
   {
    "duration": 18,
    "start_time": "2021-12-12T11:00:22.031Z"
   },
   {
    "duration": 8,
    "start_time": "2021-12-12T11:01:57.371Z"
   },
   {
    "duration": 272,
    "start_time": "2021-12-12T11:02:30.361Z"
   },
   {
    "duration": 291,
    "start_time": "2021-12-12T11:02:43.235Z"
   },
   {
    "duration": 319,
    "start_time": "2021-12-12T11:04:32.990Z"
   },
   {
    "duration": 515,
    "start_time": "2021-12-12T11:05:06.830Z"
   },
   {
    "duration": 292,
    "start_time": "2021-12-12T11:06:37.793Z"
   },
   {
    "duration": 311,
    "start_time": "2021-12-12T11:06:41.493Z"
   },
   {
    "duration": 9,
    "start_time": "2021-12-12T11:07:17.994Z"
   },
   {
    "duration": 8,
    "start_time": "2021-12-12T11:07:20.940Z"
   },
   {
    "duration": 1146,
    "start_time": "2021-12-12T11:10:46.866Z"
   },
   {
    "duration": 58,
    "start_time": "2021-12-12T11:10:48.014Z"
   },
   {
    "duration": 15,
    "start_time": "2021-12-12T11:10:48.074Z"
   },
   {
    "duration": 21,
    "start_time": "2021-12-12T11:10:48.090Z"
   },
   {
    "duration": 25,
    "start_time": "2021-12-12T11:10:48.113Z"
   },
   {
    "duration": 33,
    "start_time": "2021-12-12T11:10:48.140Z"
   },
   {
    "duration": 39,
    "start_time": "2021-12-12T11:10:48.174Z"
   },
   {
    "duration": 11,
    "start_time": "2021-12-12T11:10:48.215Z"
   },
   {
    "duration": 41,
    "start_time": "2021-12-12T11:10:48.228Z"
   },
   {
    "duration": 17,
    "start_time": "2021-12-12T11:10:48.271Z"
   },
   {
    "duration": 29,
    "start_time": "2021-12-12T11:10:48.289Z"
   },
   {
    "duration": 28,
    "start_time": "2021-12-12T11:10:48.320Z"
   },
   {
    "duration": 22,
    "start_time": "2021-12-12T11:10:48.349Z"
   },
   {
    "duration": 40,
    "start_time": "2021-12-12T11:10:48.373Z"
   },
   {
    "duration": 39,
    "start_time": "2021-12-12T11:10:48.415Z"
   },
   {
    "duration": 29,
    "start_time": "2021-12-12T11:10:48.456Z"
   },
   {
    "duration": 8,
    "start_time": "2021-12-12T11:10:48.487Z"
   },
   {
    "duration": 559,
    "start_time": "2021-12-12T11:10:48.496Z"
   },
   {
    "duration": 5988,
    "start_time": "2021-12-12T11:17:43.107Z"
   },
   {
    "duration": 1169,
    "start_time": "2021-12-12T11:25:32.921Z"
   },
   {
    "duration": 54,
    "start_time": "2021-12-12T11:25:34.092Z"
   },
   {
    "duration": 14,
    "start_time": "2021-12-12T11:25:34.150Z"
   },
   {
    "duration": 28,
    "start_time": "2021-12-12T11:25:34.165Z"
   },
   {
    "duration": 13,
    "start_time": "2021-12-12T11:25:34.195Z"
   },
   {
    "duration": 25,
    "start_time": "2021-12-12T11:25:34.209Z"
   },
   {
    "duration": 40,
    "start_time": "2021-12-12T11:25:34.237Z"
   },
   {
    "duration": 10,
    "start_time": "2021-12-12T11:25:34.279Z"
   },
   {
    "duration": 43,
    "start_time": "2021-12-12T11:25:34.291Z"
   },
   {
    "duration": 10,
    "start_time": "2021-12-12T11:25:34.336Z"
   },
   {
    "duration": 28,
    "start_time": "2021-12-12T11:25:34.348Z"
   },
   {
    "duration": 13,
    "start_time": "2021-12-12T11:25:34.378Z"
   },
   {
    "duration": 20,
    "start_time": "2021-12-12T11:25:34.392Z"
   },
   {
    "duration": 42,
    "start_time": "2021-12-12T11:25:34.413Z"
   },
   {
    "duration": 30,
    "start_time": "2021-12-12T11:25:34.457Z"
   },
   {
    "duration": 27,
    "start_time": "2021-12-12T11:25:34.488Z"
   },
   {
    "duration": 28,
    "start_time": "2021-12-12T11:25:34.517Z"
   },
   {
    "duration": 6445,
    "start_time": "2021-12-12T11:25:34.547Z"
   },
   {
    "duration": 9,
    "start_time": "2021-12-12T11:25:40.994Z"
   },
   {
    "duration": 6457,
    "start_time": "2021-12-12T11:26:37.630Z"
   },
   {
    "duration": 6025,
    "start_time": "2021-12-12T11:28:06.775Z"
   },
   {
    "duration": 6139,
    "start_time": "2021-12-12T11:29:28.970Z"
   },
   {
    "duration": 6371,
    "start_time": "2021-12-12T11:31:41.462Z"
   },
   {
    "duration": 6278,
    "start_time": "2021-12-12T11:32:01.534Z"
   },
   {
    "duration": 6300,
    "start_time": "2021-12-12T11:32:26.708Z"
   },
   {
    "duration": 6243,
    "start_time": "2021-12-12T11:53:47.709Z"
   },
   {
    "duration": 6137,
    "start_time": "2021-12-12T11:54:12.229Z"
   },
   {
    "duration": 431,
    "start_time": "2021-12-12T11:55:14.791Z"
   },
   {
    "duration": 375,
    "start_time": "2021-12-12T11:55:29.067Z"
   },
   {
    "duration": 269,
    "start_time": "2021-12-12T11:56:21.425Z"
   },
   {
    "duration": 272,
    "start_time": "2021-12-12T11:56:45.440Z"
   },
   {
    "duration": 275,
    "start_time": "2021-12-12T11:57:49.241Z"
   },
   {
    "duration": 7245,
    "start_time": "2021-12-12T11:58:19.780Z"
   },
   {
    "duration": 299,
    "start_time": "2021-12-12T11:58:32.601Z"
   },
   {
    "duration": 6350,
    "start_time": "2021-12-12T11:59:44.438Z"
   },
   {
    "duration": 279,
    "start_time": "2021-12-12T11:59:53.943Z"
   },
   {
    "duration": 284,
    "start_time": "2021-12-12T12:00:25.569Z"
   },
   {
    "duration": 51808,
    "start_time": "2021-12-12T12:01:28.522Z"
   },
   {
    "duration": 3649,
    "start_time": "2021-12-12T12:02:57.882Z"
   },
   {
    "duration": 3624,
    "start_time": "2021-12-12T12:03:39.063Z"
   },
   {
    "duration": 3658,
    "start_time": "2021-12-12T12:04:09.951Z"
   },
   {
    "duration": 4061,
    "start_time": "2021-12-12T12:05:23.796Z"
   },
   {
    "duration": 3547,
    "start_time": "2021-12-12T12:05:39.249Z"
   },
   {
    "duration": 1289,
    "start_time": "2021-12-12T12:06:24.522Z"
   },
   {
    "duration": 57,
    "start_time": "2021-12-12T12:06:25.813Z"
   },
   {
    "duration": 15,
    "start_time": "2021-12-12T12:06:25.872Z"
   },
   {
    "duration": 13,
    "start_time": "2021-12-12T12:06:25.889Z"
   },
   {
    "duration": 11,
    "start_time": "2021-12-12T12:06:25.903Z"
   },
   {
    "duration": 29,
    "start_time": "2021-12-12T12:06:25.916Z"
   },
   {
    "duration": 31,
    "start_time": "2021-12-12T12:06:25.947Z"
   },
   {
    "duration": 11,
    "start_time": "2021-12-12T12:06:25.981Z"
   },
   {
    "duration": 51,
    "start_time": "2021-12-12T12:06:25.994Z"
   },
   {
    "duration": 9,
    "start_time": "2021-12-12T12:06:26.047Z"
   },
   {
    "duration": 28,
    "start_time": "2021-12-12T12:06:26.058Z"
   },
   {
    "duration": 12,
    "start_time": "2021-12-12T12:06:26.088Z"
   },
   {
    "duration": 50,
    "start_time": "2021-12-12T12:06:26.102Z"
   },
   {
    "duration": 18,
    "start_time": "2021-12-12T12:06:26.154Z"
   },
   {
    "duration": 29,
    "start_time": "2021-12-12T12:06:26.174Z"
   },
   {
    "duration": 52,
    "start_time": "2021-12-12T12:06:26.205Z"
   },
   {
    "duration": 7,
    "start_time": "2021-12-12T12:06:26.259Z"
   },
   {
    "duration": 1016,
    "start_time": "2021-12-12T12:06:26.268Z"
   },
   {
    "duration": -28,
    "start_time": "2021-12-12T12:06:27.314Z"
   },
   {
    "duration": -29,
    "start_time": "2021-12-12T12:06:27.317Z"
   },
   {
    "duration": 3657,
    "start_time": "2021-12-12T12:06:51.264Z"
   },
   {
    "duration": 479,
    "start_time": "2021-12-12T12:07:48.502Z"
   },
   {
    "duration": 3,
    "start_time": "2021-12-12T12:08:09.458Z"
   },
   {
    "duration": 520,
    "start_time": "2021-12-12T12:13:08.045Z"
   },
   {
    "duration": 4,
    "start_time": "2021-12-12T12:13:22.549Z"
   },
   {
    "duration": 6562,
    "start_time": "2021-12-12T12:19:21.953Z"
   },
   {
    "duration": 5794,
    "start_time": "2021-12-12T12:19:59.442Z"
   },
   {
    "duration": 6511,
    "start_time": "2021-12-12T12:20:21.196Z"
   },
   {
    "duration": 111,
    "start_time": "2021-12-12T12:21:31.390Z"
   },
   {
    "duration": 1099,
    "start_time": "2021-12-12T12:23:41.903Z"
   },
   {
    "duration": 57,
    "start_time": "2021-12-12T12:23:43.004Z"
   },
   {
    "duration": 14,
    "start_time": "2021-12-12T12:23:43.064Z"
   },
   {
    "duration": 13,
    "start_time": "2021-12-12T12:23:43.081Z"
   },
   {
    "duration": 12,
    "start_time": "2021-12-12T12:23:43.096Z"
   },
   {
    "duration": 41,
    "start_time": "2021-12-12T12:23:43.110Z"
   },
   {
    "duration": 30,
    "start_time": "2021-12-12T12:23:43.153Z"
   },
   {
    "duration": 12,
    "start_time": "2021-12-12T12:23:43.184Z"
   },
   {
    "duration": 51,
    "start_time": "2021-12-12T12:23:43.199Z"
   },
   {
    "duration": 9,
    "start_time": "2021-12-12T12:23:43.253Z"
   },
   {
    "duration": 29,
    "start_time": "2021-12-12T12:23:43.264Z"
   },
   {
    "duration": 12,
    "start_time": "2021-12-12T12:23:43.294Z"
   },
   {
    "duration": 47,
    "start_time": "2021-12-12T12:23:43.308Z"
   },
   {
    "duration": 18,
    "start_time": "2021-12-12T12:23:43.358Z"
   },
   {
    "duration": 28,
    "start_time": "2021-12-12T12:23:43.378Z"
   },
   {
    "duration": 58,
    "start_time": "2021-12-12T12:23:43.408Z"
   },
   {
    "duration": 7,
    "start_time": "2021-12-12T12:23:43.468Z"
   },
   {
    "duration": 86,
    "start_time": "2021-12-12T12:25:32.172Z"
   },
   {
    "duration": 76,
    "start_time": "2021-12-12T12:25:32.183Z"
   },
   {
    "duration": 73,
    "start_time": "2021-12-12T12:25:32.186Z"
   },
   {
    "duration": 71,
    "start_time": "2021-12-12T12:25:32.189Z"
   },
   {
    "duration": 65,
    "start_time": "2021-12-12T12:25:32.199Z"
   },
   {
    "duration": 3508,
    "start_time": "2021-12-12T12:25:37.493Z"
   },
   {
    "duration": 3,
    "start_time": "2021-12-12T12:25:42.081Z"
   },
   {
    "duration": 920,
    "start_time": "2021-12-12T13:25:38.566Z"
   },
   {
    "duration": -51,
    "start_time": "2021-12-12T13:30:35.662Z"
   },
   {
    "duration": 1152,
    "start_time": "2021-12-12T13:31:41.903Z"
   },
   {
    "duration": 63,
    "start_time": "2021-12-12T13:31:43.056Z"
   },
   {
    "duration": 15,
    "start_time": "2021-12-12T13:31:43.121Z"
   },
   {
    "duration": 28,
    "start_time": "2021-12-12T13:31:43.137Z"
   },
   {
    "duration": 19,
    "start_time": "2021-12-12T13:31:43.167Z"
   },
   {
    "duration": 34,
    "start_time": "2021-12-12T13:31:43.188Z"
   },
   {
    "duration": 29,
    "start_time": "2021-12-12T13:31:43.224Z"
   },
   {
    "duration": 11,
    "start_time": "2021-12-12T13:31:43.254Z"
   },
   {
    "duration": 48,
    "start_time": "2021-12-12T13:31:43.268Z"
   },
   {
    "duration": 8,
    "start_time": "2021-12-12T13:31:43.318Z"
   },
   {
    "duration": 50,
    "start_time": "2021-12-12T13:31:43.328Z"
   },
   {
    "duration": 13,
    "start_time": "2021-12-12T13:31:43.379Z"
   },
   {
    "duration": 35,
    "start_time": "2021-12-12T13:31:43.393Z"
   },
   {
    "duration": 44,
    "start_time": "2021-12-12T13:31:43.429Z"
   },
   {
    "duration": 36,
    "start_time": "2021-12-12T13:31:43.475Z"
   },
   {
    "duration": 27,
    "start_time": "2021-12-12T13:31:43.513Z"
   },
   {
    "duration": 7,
    "start_time": "2021-12-12T13:31:43.542Z"
   },
   {
    "duration": -56,
    "start_time": "2021-12-12T13:46:18.629Z"
   },
   {
    "duration": -59,
    "start_time": "2021-12-12T13:46:18.635Z"
   },
   {
    "duration": -57,
    "start_time": "2021-12-12T13:46:18.640Z"
   },
   {
    "duration": 346,
    "start_time": "2021-12-12T13:46:20.858Z"
   },
   {
    "duration": 7198,
    "start_time": "2021-12-12T13:46:39.460Z"
   },
   {
    "duration": 14523,
    "start_time": "2021-12-12T13:46:51.917Z"
   },
   {
    "duration": 6503,
    "start_time": "2021-12-12T13:47:18.711Z"
   },
   {
    "duration": 3481,
    "start_time": "2021-12-12T13:52:12.630Z"
   },
   {
    "duration": 310,
    "start_time": "2021-12-12T13:58:17.766Z"
   },
   {
    "duration": 7023,
    "start_time": "2021-12-12T13:59:21.400Z"
   },
   {
    "duration": 293,
    "start_time": "2021-12-12T13:59:49.353Z"
   },
   {
    "duration": 5804,
    "start_time": "2021-12-12T14:00:37.460Z"
   },
   {
    "duration": 294,
    "start_time": "2021-12-12T14:01:01.257Z"
   },
   {
    "duration": 6232,
    "start_time": "2021-12-12T14:01:39.848Z"
   },
   {
    "duration": 723,
    "start_time": "2021-12-12T14:02:01.004Z"
   },
   {
    "duration": 86,
    "start_time": "2021-12-12T14:02:23.996Z"
   },
   {
    "duration": 4486,
    "start_time": "2021-12-12T14:02:37.214Z"
   },
   {
    "duration": 6068,
    "start_time": "2021-12-12T14:02:49.978Z"
   },
   {
    "duration": 354,
    "start_time": "2021-12-13T17:24:31.881Z"
   },
   {
    "duration": 1715,
    "start_time": "2021-12-13T17:25:55.030Z"
   },
   {
    "duration": 84,
    "start_time": "2021-12-13T17:25:56.748Z"
   },
   {
    "duration": 37,
    "start_time": "2021-12-13T17:25:56.835Z"
   },
   {
    "duration": 24,
    "start_time": "2021-12-13T17:25:56.876Z"
   },
   {
    "duration": 20,
    "start_time": "2021-12-13T17:25:56.903Z"
   },
   {
    "duration": 54,
    "start_time": "2021-12-13T17:25:56.926Z"
   },
   {
    "duration": 52,
    "start_time": "2021-12-13T17:25:56.983Z"
   },
   {
    "duration": 48,
    "start_time": "2021-12-13T17:25:57.037Z"
   },
   {
    "duration": 49,
    "start_time": "2021-12-13T17:25:57.089Z"
   },
   {
    "duration": 37,
    "start_time": "2021-12-13T17:25:57.141Z"
   },
   {
    "duration": 48,
    "start_time": "2021-12-13T17:25:57.181Z"
   },
   {
    "duration": 51,
    "start_time": "2021-12-13T17:25:57.232Z"
   },
   {
    "duration": 40,
    "start_time": "2021-12-13T17:25:57.286Z"
   },
   {
    "duration": 60,
    "start_time": "2021-12-13T17:25:57.329Z"
   },
   {
    "duration": 50,
    "start_time": "2021-12-13T17:25:57.392Z"
   },
   {
    "duration": 57,
    "start_time": "2021-12-13T17:25:57.445Z"
   },
   {
    "duration": 10,
    "start_time": "2021-12-13T17:25:57.504Z"
   },
   {
    "duration": 8967,
    "start_time": "2021-12-13T17:25:57.517Z"
   },
   {
    "duration": 4835,
    "start_time": "2021-12-13T17:26:06.487Z"
   },
   {
    "duration": 108,
    "start_time": "2021-12-13T17:26:11.325Z"
   },
   {
    "duration": 47,
    "start_time": "2021-12-13T17:26:11.390Z"
   },
   {
    "duration": 45,
    "start_time": "2021-12-13T17:26:11.394Z"
   },
   {
    "duration": 46,
    "start_time": "2021-12-13T17:26:11.396Z"
   },
   {
    "duration": 1635,
    "start_time": "2021-12-13T17:26:16.780Z"
   },
   {
    "duration": 1318,
    "start_time": "2021-12-13T17:27:39.591Z"
   },
   {
    "duration": 4558,
    "start_time": "2021-12-13T17:28:03.667Z"
   },
   {
    "duration": 3049,
    "start_time": "2021-12-13T17:28:41.292Z"
   },
   {
    "duration": 480,
    "start_time": "2021-12-13T17:29:23.500Z"
   },
   {
    "duration": 484,
    "start_time": "2021-12-13T17:29:38.596Z"
   },
   {
    "duration": 509,
    "start_time": "2021-12-13T17:29:47.908Z"
   },
   {
    "duration": 11,
    "start_time": "2021-12-13T17:36:45.712Z"
   },
   {
    "duration": 10,
    "start_time": "2021-12-13T17:38:32.132Z"
   },
   {
    "duration": 11,
    "start_time": "2021-12-13T17:38:49.443Z"
   },
   {
    "duration": 1146,
    "start_time": "2021-12-13T17:51:27.565Z"
   },
   {
    "duration": 1542,
    "start_time": "2021-12-13T18:00:45.092Z"
   },
   {
    "duration": 76,
    "start_time": "2021-12-13T18:00:46.637Z"
   },
   {
    "duration": 21,
    "start_time": "2021-12-13T18:00:46.716Z"
   },
   {
    "duration": 43,
    "start_time": "2021-12-13T18:00:46.740Z"
   },
   {
    "duration": 21,
    "start_time": "2021-12-13T18:00:46.785Z"
   },
   {
    "duration": 18,
    "start_time": "2021-12-13T18:00:46.809Z"
   },
   {
    "duration": 78,
    "start_time": "2021-12-13T18:00:46.830Z"
   },
   {
    "duration": 18,
    "start_time": "2021-12-13T18:00:46.910Z"
   },
   {
    "duration": 81,
    "start_time": "2021-12-13T18:00:46.932Z"
   },
   {
    "duration": 18,
    "start_time": "2021-12-13T18:00:47.016Z"
   },
   {
    "duration": 79,
    "start_time": "2021-12-13T18:00:47.037Z"
   },
   {
    "duration": 18,
    "start_time": "2021-12-13T18:00:47.119Z"
   },
   {
    "duration": 58,
    "start_time": "2021-12-13T18:00:47.139Z"
   },
   {
    "duration": 32,
    "start_time": "2021-12-13T18:00:47.199Z"
   },
   {
    "duration": 73,
    "start_time": "2021-12-13T18:00:47.234Z"
   },
   {
    "duration": 59,
    "start_time": "2021-12-13T18:00:47.309Z"
   },
   {
    "duration": 12,
    "start_time": "2021-12-13T18:00:47.371Z"
   },
   {
    "duration": 9216,
    "start_time": "2021-12-13T18:00:47.385Z"
   },
   {
    "duration": 93,
    "start_time": "2021-12-13T18:00:56.604Z"
   },
   {
    "duration": -29,
    "start_time": "2021-12-13T18:00:56.729Z"
   },
   {
    "duration": -36,
    "start_time": "2021-12-13T18:00:56.738Z"
   },
   {
    "duration": -57,
    "start_time": "2021-12-13T18:00:56.760Z"
   },
   {
    "duration": -62,
    "start_time": "2021-12-13T18:00:56.767Z"
   },
   {
    "duration": -71,
    "start_time": "2021-12-13T18:00:56.777Z"
   },
   {
    "duration": -88,
    "start_time": "2021-12-13T18:00:56.796Z"
   },
   {
    "duration": -91,
    "start_time": "2021-12-13T18:00:56.800Z"
   },
   {
    "duration": -99,
    "start_time": "2021-12-13T18:00:56.809Z"
   },
   {
    "duration": -103,
    "start_time": "2021-12-13T18:00:56.814Z"
   },
   {
    "duration": -105,
    "start_time": "2021-12-13T18:00:56.817Z"
   },
   {
    "duration": 4,
    "start_time": "2021-12-13T18:01:13.949Z"
   },
   {
    "duration": 3731,
    "start_time": "2021-12-13T18:01:17.564Z"
   },
   {
    "duration": 11,
    "start_time": "2021-12-13T18:04:08.847Z"
   },
   {
    "duration": 380,
    "start_time": "2021-12-13T18:04:26.318Z"
   },
   {
    "duration": 11,
    "start_time": "2021-12-13T18:04:37.158Z"
   },
   {
    "duration": 9,
    "start_time": "2021-12-13T18:04:46.986Z"
   },
   {
    "duration": 13,
    "start_time": "2021-12-13T18:04:58.520Z"
   },
   {
    "duration": 10,
    "start_time": "2021-12-13T18:05:04.016Z"
   },
   {
    "duration": 15,
    "start_time": "2021-12-13T18:10:50.458Z"
   },
   {
    "duration": 11,
    "start_time": "2021-12-13T18:10:53.039Z"
   },
   {
    "duration": 788,
    "start_time": "2021-12-13T18:23:27.758Z"
   },
   {
    "duration": 966,
    "start_time": "2021-12-13T18:23:44.543Z"
   },
   {
    "duration": 1726,
    "start_time": "2021-12-13T18:24:29.405Z"
   },
   {
    "duration": 96,
    "start_time": "2021-12-13T18:24:31.134Z"
   },
   {
    "duration": 22,
    "start_time": "2021-12-13T18:24:31.233Z"
   },
   {
    "duration": 37,
    "start_time": "2021-12-13T18:24:31.267Z"
   },
   {
    "duration": 21,
    "start_time": "2021-12-13T18:24:31.307Z"
   },
   {
    "duration": 55,
    "start_time": "2021-12-13T18:24:31.331Z"
   },
   {
    "duration": 74,
    "start_time": "2021-12-13T18:24:31.388Z"
   },
   {
    "duration": 19,
    "start_time": "2021-12-13T18:24:31.465Z"
   },
   {
    "duration": 68,
    "start_time": "2021-12-13T18:24:31.491Z"
   },
   {
    "duration": 26,
    "start_time": "2021-12-13T18:24:31.567Z"
   },
   {
    "duration": 71,
    "start_time": "2021-12-13T18:24:31.596Z"
   },
   {
    "duration": 26,
    "start_time": "2021-12-13T18:24:31.670Z"
   },
   {
    "duration": 36,
    "start_time": "2021-12-13T18:24:31.699Z"
   },
   {
    "duration": 67,
    "start_time": "2021-12-13T18:24:31.738Z"
   },
   {
    "duration": 77,
    "start_time": "2021-12-13T18:24:31.807Z"
   },
   {
    "duration": 50,
    "start_time": "2021-12-13T18:24:31.887Z"
   },
   {
    "duration": 39,
    "start_time": "2021-12-13T18:24:31.939Z"
   },
   {
    "duration": 10156,
    "start_time": "2021-12-13T18:24:31.981Z"
   },
   {
    "duration": 5,
    "start_time": "2021-12-13T18:24:42.141Z"
   },
   {
    "duration": 4900,
    "start_time": "2021-12-13T18:24:42.148Z"
   },
   {
    "duration": 17,
    "start_time": "2021-12-13T18:24:47.050Z"
   },
   {
    "duration": 26,
    "start_time": "2021-12-13T18:24:47.070Z"
   },
   {
    "duration": 546,
    "start_time": "2021-12-13T18:24:47.099Z"
   },
   {
    "duration": 36,
    "start_time": "2021-12-13T18:24:47.647Z"
   },
   {
    "duration": 15,
    "start_time": "2021-12-13T18:24:47.687Z"
   },
   {
    "duration": 24,
    "start_time": "2021-12-13T18:24:47.705Z"
   },
   {
    "duration": 1274,
    "start_time": "2021-12-13T18:24:47.734Z"
   },
   {
    "duration": 1137,
    "start_time": "2021-12-13T18:24:49.011Z"
   },
   {
    "duration": 461,
    "start_time": "2021-12-13T18:29:53.139Z"
   },
   {
    "duration": 629,
    "start_time": "2021-12-13T18:33:48.413Z"
   },
   {
    "duration": 1080,
    "start_time": "2021-12-13T18:41:51.716Z"
   },
   {
    "duration": 7996,
    "start_time": "2021-12-13T18:42:58.279Z"
   },
   {
    "duration": 16,
    "start_time": "2021-12-13T18:46:01.443Z"
   },
   {
    "duration": 32,
    "start_time": "2021-12-13T18:46:16.982Z"
   },
   {
    "duration": 27,
    "start_time": "2021-12-13T18:46:28.908Z"
   },
   {
    "duration": 21,
    "start_time": "2021-12-13T18:46:36.906Z"
   },
   {
    "duration": 48,
    "start_time": "2021-12-13T18:56:34.666Z"
   },
   {
    "duration": 38,
    "start_time": "2021-12-13T18:58:08.425Z"
   },
   {
    "duration": 58,
    "start_time": "2021-12-13T18:59:16.089Z"
   },
   {
    "duration": 319,
    "start_time": "2021-12-13T19:04:14.582Z"
   },
   {
    "duration": 88,
    "start_time": "2021-12-13T19:04:37.299Z"
   },
   {
    "duration": 36,
    "start_time": "2021-12-13T19:05:58.455Z"
   },
   {
    "duration": 384,
    "start_time": "2021-12-13T19:26:17.376Z"
   },
   {
    "duration": 34,
    "start_time": "2021-12-13T19:27:19.101Z"
   },
   {
    "duration": 329,
    "start_time": "2021-12-13T19:27:42.456Z"
   },
   {
    "duration": 21,
    "start_time": "2021-12-13T19:28:06.404Z"
   },
   {
    "duration": 35,
    "start_time": "2021-12-13T19:30:08.922Z"
   },
   {
    "duration": 29,
    "start_time": "2021-12-13T19:30:37.404Z"
   },
   {
    "duration": 34,
    "start_time": "2021-12-13T19:31:51.590Z"
   },
   {
    "duration": 33,
    "start_time": "2021-12-13T19:32:04.048Z"
   },
   {
    "duration": 33,
    "start_time": "2021-12-13T19:32:17.680Z"
   },
   {
    "duration": 32,
    "start_time": "2021-12-13T19:34:51.207Z"
   },
   {
    "duration": 33,
    "start_time": "2021-12-13T19:37:45.432Z"
   },
   {
    "duration": 35,
    "start_time": "2021-12-13T19:38:21.731Z"
   },
   {
    "duration": 31,
    "start_time": "2021-12-13T19:40:36.428Z"
   },
   {
    "duration": 43,
    "start_time": "2021-12-13T19:50:27.349Z"
   },
   {
    "duration": 39,
    "start_time": "2021-12-13T19:52:32.049Z"
   },
   {
    "duration": 102,
    "start_time": "2021-12-13T19:53:33.157Z"
   },
   {
    "duration": 351,
    "start_time": "2021-12-13T19:53:49.134Z"
   },
   {
    "duration": 51,
    "start_time": "2021-12-13T19:53:54.779Z"
   },
   {
    "duration": 38,
    "start_time": "2021-12-13T19:55:13.979Z"
   },
   {
    "duration": 39,
    "start_time": "2021-12-13T19:55:24.589Z"
   },
   {
    "duration": 34,
    "start_time": "2021-12-13T19:55:39.399Z"
   },
   {
    "duration": 66,
    "start_time": "2021-12-13T19:56:12.653Z"
   },
   {
    "duration": 46,
    "start_time": "2021-12-13T19:57:18.420Z"
   },
   {
    "duration": 353,
    "start_time": "2021-12-14T18:10:31.105Z"
   },
   {
    "duration": 1241,
    "start_time": "2021-12-14T18:10:41.312Z"
   },
   {
    "duration": 61,
    "start_time": "2021-12-14T18:10:42.555Z"
   },
   {
    "duration": 17,
    "start_time": "2021-12-14T18:10:42.618Z"
   },
   {
    "duration": 15,
    "start_time": "2021-12-14T18:10:42.646Z"
   },
   {
    "duration": 18,
    "start_time": "2021-12-14T18:10:42.663Z"
   },
   {
    "duration": 19,
    "start_time": "2021-12-14T18:10:42.683Z"
   },
   {
    "duration": 64,
    "start_time": "2021-12-14T18:10:42.704Z"
   },
   {
    "duration": 15,
    "start_time": "2021-12-14T18:10:42.770Z"
   },
   {
    "duration": 57,
    "start_time": "2021-12-14T18:10:42.789Z"
   },
   {
    "duration": 12,
    "start_time": "2021-12-14T18:10:42.849Z"
   },
   {
    "duration": 33,
    "start_time": "2021-12-14T18:10:42.863Z"
   },
   {
    "duration": 14,
    "start_time": "2021-12-14T18:10:42.899Z"
   },
   {
    "duration": 22,
    "start_time": "2021-12-14T18:10:42.945Z"
   },
   {
    "duration": 18,
    "start_time": "2021-12-14T18:10:42.969Z"
   },
   {
    "duration": 60,
    "start_time": "2021-12-14T18:10:42.988Z"
   },
   {
    "duration": 30,
    "start_time": "2021-12-14T18:10:43.050Z"
   },
   {
    "duration": 9,
    "start_time": "2021-12-14T18:10:43.082Z"
   },
   {
    "duration": 7579,
    "start_time": "2021-12-14T18:10:43.092Z"
   },
   {
    "duration": 3,
    "start_time": "2021-12-14T18:10:50.674Z"
   },
   {
    "duration": 3418,
    "start_time": "2021-12-14T18:10:50.679Z"
   },
   {
    "duration": 12,
    "start_time": "2021-12-14T18:10:54.099Z"
   },
   {
    "duration": 30,
    "start_time": "2021-12-14T18:10:54.113Z"
   },
   {
    "duration": 256,
    "start_time": "2021-12-14T18:10:54.144Z"
   },
   {
    "duration": 11,
    "start_time": "2021-12-14T18:10:54.402Z"
   },
   {
    "duration": 24,
    "start_time": "2021-12-14T18:10:54.415Z"
   },
   {
    "duration": 10,
    "start_time": "2021-12-14T18:10:54.445Z"
   },
   {
    "duration": 552,
    "start_time": "2021-12-14T18:10:54.458Z"
   },
   {
    "duration": 35,
    "start_time": "2021-12-14T18:10:55.012Z"
   },
   {
    "duration": 23,
    "start_time": "2021-12-14T18:10:55.049Z"
   },
   {
    "duration": 23,
    "start_time": "2021-12-14T18:10:55.073Z"
   },
   {
    "duration": 47,
    "start_time": "2021-12-14T18:10:55.098Z"
   },
   {
    "duration": 820,
    "start_time": "2021-12-14T18:13:30.473Z"
   },
   {
    "duration": 23,
    "start_time": "2021-12-14T18:13:39.088Z"
   },
   {
    "duration": 1142,
    "start_time": "2021-12-14T18:23:42.070Z"
   },
   {
    "duration": 58,
    "start_time": "2021-12-14T18:23:43.214Z"
   },
   {
    "duration": 15,
    "start_time": "2021-12-14T18:23:43.275Z"
   },
   {
    "duration": 14,
    "start_time": "2021-12-14T18:23:43.292Z"
   },
   {
    "duration": 11,
    "start_time": "2021-12-14T18:23:43.308Z"
   },
   {
    "duration": 12,
    "start_time": "2021-12-14T18:23:43.345Z"
   },
   {
    "duration": 31,
    "start_time": "2021-12-14T18:23:43.358Z"
   },
   {
    "duration": 15,
    "start_time": "2021-12-14T18:23:43.393Z"
   },
   {
    "duration": 61,
    "start_time": "2021-12-14T18:23:43.410Z"
   },
   {
    "duration": 9,
    "start_time": "2021-12-14T18:23:43.473Z"
   },
   {
    "duration": 29,
    "start_time": "2021-12-14T18:23:43.483Z"
   },
   {
    "duration": 33,
    "start_time": "2021-12-14T18:23:43.514Z"
   },
   {
    "duration": 20,
    "start_time": "2021-12-14T18:23:43.549Z"
   },
   {
    "duration": 16,
    "start_time": "2021-12-14T18:23:43.571Z"
   },
   {
    "duration": 57,
    "start_time": "2021-12-14T18:23:43.589Z"
   },
   {
    "duration": 30,
    "start_time": "2021-12-14T18:23:43.647Z"
   },
   {
    "duration": 8,
    "start_time": "2021-12-14T18:23:43.679Z"
   },
   {
    "duration": 6604,
    "start_time": "2021-12-14T18:23:43.689Z"
   },
   {
    "duration": 4,
    "start_time": "2021-12-14T18:23:50.296Z"
   },
   {
    "duration": 3090,
    "start_time": "2021-12-14T18:23:50.302Z"
   },
   {
    "duration": 10,
    "start_time": "2021-12-14T18:23:53.394Z"
   },
   {
    "duration": 7,
    "start_time": "2021-12-14T18:23:53.406Z"
   },
   {
    "duration": 248,
    "start_time": "2021-12-14T18:23:53.415Z"
   },
   {
    "duration": 9,
    "start_time": "2021-12-14T18:23:53.665Z"
   },
   {
    "duration": 7,
    "start_time": "2021-12-14T18:23:53.676Z"
   },
   {
    "duration": 7,
    "start_time": "2021-12-14T18:23:53.685Z"
   },
   {
    "duration": 86,
    "start_time": "2021-12-14T18:23:53.694Z"
   },
   {
    "duration": 109,
    "start_time": "2021-12-14T18:23:53.673Z"
   },
   {
    "duration": 106,
    "start_time": "2021-12-14T18:23:53.678Z"
   },
   {
    "duration": 104,
    "start_time": "2021-12-14T18:23:53.681Z"
   },
   {
    "duration": 102,
    "start_time": "2021-12-14T18:23:53.684Z"
   },
   {
    "duration": 98,
    "start_time": "2021-12-14T18:23:53.690Z"
   },
   {
    "duration": 626,
    "start_time": "2021-12-14T18:25:13.916Z"
   },
   {
    "duration": 69,
    "start_time": "2021-12-14T18:25:14.544Z"
   },
   {
    "duration": 16,
    "start_time": "2021-12-14T18:25:14.615Z"
   },
   {
    "duration": 24,
    "start_time": "2021-12-14T18:25:14.633Z"
   },
   {
    "duration": 13,
    "start_time": "2021-12-14T18:25:14.659Z"
   },
   {
    "duration": 12,
    "start_time": "2021-12-14T18:25:14.673Z"
   },
   {
    "duration": 34,
    "start_time": "2021-12-14T18:25:14.686Z"
   },
   {
    "duration": 35,
    "start_time": "2021-12-14T18:25:14.722Z"
   },
   {
    "duration": 32,
    "start_time": "2021-12-14T18:25:14.760Z"
   },
   {
    "duration": 9,
    "start_time": "2021-12-14T18:25:14.794Z"
   },
   {
    "duration": 68,
    "start_time": "2021-12-14T18:25:14.804Z"
   },
   {
    "duration": 13,
    "start_time": "2021-12-14T18:25:14.874Z"
   },
   {
    "duration": 19,
    "start_time": "2021-12-14T18:25:14.889Z"
   },
   {
    "duration": 37,
    "start_time": "2021-12-14T18:25:14.909Z"
   },
   {
    "duration": 37,
    "start_time": "2021-12-14T18:25:14.949Z"
   },
   {
    "duration": 28,
    "start_time": "2021-12-14T18:25:14.987Z"
   },
   {
    "duration": 32,
    "start_time": "2021-12-14T18:25:15.017Z"
   },
   {
    "duration": 7354,
    "start_time": "2021-12-14T18:25:15.051Z"
   },
   {
    "duration": 3,
    "start_time": "2021-12-14T18:25:22.407Z"
   },
   {
    "duration": 3581,
    "start_time": "2021-12-14T18:25:22.411Z"
   },
   {
    "duration": 11,
    "start_time": "2021-12-14T18:25:25.994Z"
   },
   {
    "duration": 23,
    "start_time": "2021-12-14T18:25:26.006Z"
   },
   {
    "duration": 275,
    "start_time": "2021-12-14T18:25:26.030Z"
   },
   {
    "duration": 9,
    "start_time": "2021-12-14T18:25:26.307Z"
   },
   {
    "duration": 30,
    "start_time": "2021-12-14T18:25:26.317Z"
   },
   {
    "duration": 20,
    "start_time": "2021-12-14T18:25:26.349Z"
   },
   {
    "duration": 135,
    "start_time": "2021-12-14T18:25:26.372Z"
   },
   {
    "duration": 122,
    "start_time": "2021-12-14T18:25:26.387Z"
   },
   {
    "duration": 112,
    "start_time": "2021-12-14T18:25:26.398Z"
   },
   {
    "duration": 111,
    "start_time": "2021-12-14T18:25:26.401Z"
   },
   {
    "duration": 108,
    "start_time": "2021-12-14T18:25:26.405Z"
   },
   {
    "duration": 102,
    "start_time": "2021-12-14T18:25:26.413Z"
   },
   {
    "duration": 2,
    "start_time": "2021-12-14T18:26:03.917Z"
   },
   {
    "duration": 632,
    "start_time": "2021-12-14T18:26:18.651Z"
   },
   {
    "duration": 60,
    "start_time": "2021-12-14T18:26:19.285Z"
   },
   {
    "duration": 23,
    "start_time": "2021-12-14T18:26:19.347Z"
   },
   {
    "duration": 15,
    "start_time": "2021-12-14T18:26:19.372Z"
   },
   {
    "duration": 17,
    "start_time": "2021-12-14T18:26:19.389Z"
   },
   {
    "duration": 12,
    "start_time": "2021-12-14T18:26:19.408Z"
   },
   {
    "duration": 38,
    "start_time": "2021-12-14T18:26:19.450Z"
   },
   {
    "duration": 11,
    "start_time": "2021-12-14T18:26:19.490Z"
   },
   {
    "duration": 53,
    "start_time": "2021-12-14T18:26:19.504Z"
   },
   {
    "duration": 10,
    "start_time": "2021-12-14T18:26:19.559Z"
   },
   {
    "duration": 36,
    "start_time": "2021-12-14T18:26:19.571Z"
   },
   {
    "duration": 14,
    "start_time": "2021-12-14T18:26:19.609Z"
   },
   {
    "duration": 30,
    "start_time": "2021-12-14T18:26:19.644Z"
   },
   {
    "duration": 22,
    "start_time": "2021-12-14T18:26:19.676Z"
   },
   {
    "duration": 60,
    "start_time": "2021-12-14T18:26:19.700Z"
   },
   {
    "duration": 30,
    "start_time": "2021-12-14T18:26:19.762Z"
   },
   {
    "duration": 8,
    "start_time": "2021-12-14T18:26:19.794Z"
   },
   {
    "duration": 7329,
    "start_time": "2021-12-14T18:26:19.803Z"
   },
   {
    "duration": 12,
    "start_time": "2021-12-14T18:26:27.134Z"
   },
   {
    "duration": 3017,
    "start_time": "2021-12-14T18:26:27.148Z"
   },
   {
    "duration": 11,
    "start_time": "2021-12-14T18:26:30.167Z"
   },
   {
    "duration": 35,
    "start_time": "2021-12-14T18:26:30.179Z"
   },
   {
    "duration": 254,
    "start_time": "2021-12-14T18:26:30.216Z"
   },
   {
    "duration": 8,
    "start_time": "2021-12-14T18:26:30.472Z"
   },
   {
    "duration": 28,
    "start_time": "2021-12-14T18:26:30.482Z"
   },
   {
    "duration": 20,
    "start_time": "2021-12-14T18:26:30.512Z"
   },
   {
    "duration": 137,
    "start_time": "2021-12-14T18:26:30.535Z"
   },
   {
    "duration": 136,
    "start_time": "2021-12-14T18:26:30.538Z"
   },
   {
    "duration": 133,
    "start_time": "2021-12-14T18:26:30.542Z"
   },
   {
    "duration": 131,
    "start_time": "2021-12-14T18:26:30.545Z"
   },
   {
    "duration": 126,
    "start_time": "2021-12-14T18:26:30.551Z"
   },
   {
    "duration": 124,
    "start_time": "2021-12-14T18:26:30.554Z"
   },
   {
    "duration": 43,
    "start_time": "2021-12-14T19:13:22.538Z"
   },
   {
    "duration": 22,
    "start_time": "2021-12-14T19:13:27.954Z"
   },
   {
    "duration": 21,
    "start_time": "2021-12-14T19:15:32.517Z"
   },
   {
    "duration": 382,
    "start_time": "2021-12-14T19:15:35.733Z"
   },
   {
    "duration": 589,
    "start_time": "2021-12-14T19:16:20.266Z"
   },
   {
    "duration": 41,
    "start_time": "2021-12-14T19:16:29.661Z"
   },
   {
    "duration": 618,
    "start_time": "2021-12-14T19:17:14.432Z"
   },
   {
    "duration": 58,
    "start_time": "2021-12-14T19:17:15.052Z"
   },
   {
    "duration": 13,
    "start_time": "2021-12-14T19:17:15.112Z"
   },
   {
    "duration": 25,
    "start_time": "2021-12-14T19:17:15.127Z"
   },
   {
    "duration": 23,
    "start_time": "2021-12-14T19:17:15.154Z"
   },
   {
    "duration": 29,
    "start_time": "2021-12-14T19:17:15.179Z"
   },
   {
    "duration": 37,
    "start_time": "2021-12-14T19:17:15.210Z"
   },
   {
    "duration": 13,
    "start_time": "2021-12-14T19:17:15.249Z"
   },
   {
    "duration": 37,
    "start_time": "2021-12-14T19:17:15.265Z"
   },
   {
    "duration": 9,
    "start_time": "2021-12-14T19:17:15.304Z"
   },
   {
    "duration": 52,
    "start_time": "2021-12-14T19:17:15.315Z"
   },
   {
    "duration": 13,
    "start_time": "2021-12-14T19:17:15.369Z"
   },
   {
    "duration": 20,
    "start_time": "2021-12-14T19:17:15.384Z"
   },
   {
    "duration": 41,
    "start_time": "2021-12-14T19:17:15.406Z"
   },
   {
    "duration": 32,
    "start_time": "2021-12-14T19:17:15.449Z"
   },
   {
    "duration": 28,
    "start_time": "2021-12-14T19:17:15.483Z"
   },
   {
    "duration": 33,
    "start_time": "2021-12-14T19:17:15.513Z"
   },
   {
    "duration": 6951,
    "start_time": "2021-12-14T19:17:15.548Z"
   },
   {
    "duration": 2,
    "start_time": "2021-12-14T19:17:22.502Z"
   },
   {
    "duration": 3202,
    "start_time": "2021-12-14T19:17:22.506Z"
   },
   {
    "duration": 11,
    "start_time": "2021-12-14T19:17:25.710Z"
   },
   {
    "duration": 24,
    "start_time": "2021-12-14T19:17:25.723Z"
   },
   {
    "duration": 243,
    "start_time": "2021-12-14T19:17:25.751Z"
   },
   {
    "duration": 12,
    "start_time": "2021-12-14T19:17:25.997Z"
   },
   {
    "duration": 9,
    "start_time": "2021-12-14T19:17:26.011Z"
   },
   {
    "duration": 29,
    "start_time": "2021-12-14T19:17:26.022Z"
   },
   {
    "duration": 613,
    "start_time": "2021-12-14T19:17:26.054Z"
   },
   {
    "duration": 29,
    "start_time": "2021-12-14T19:17:26.669Z"
   },
   {
    "duration": 22,
    "start_time": "2021-12-14T19:17:26.699Z"
   },
   {
    "duration": 38,
    "start_time": "2021-12-14T19:17:26.722Z"
   },
   {
    "duration": 22,
    "start_time": "2021-12-14T19:17:26.762Z"
   },
   {
    "duration": 218,
    "start_time": "2021-12-15T11:20:25.576Z"
   },
   {
    "duration": 538,
    "start_time": "2021-12-15T11:20:33.102Z"
   },
   {
    "duration": 56,
    "start_time": "2021-12-15T11:20:33.642Z"
   },
   {
    "duration": 12,
    "start_time": "2021-12-15T11:20:33.700Z"
   },
   {
    "duration": 13,
    "start_time": "2021-12-15T11:20:33.714Z"
   },
   {
    "duration": 14,
    "start_time": "2021-12-15T11:20:33.728Z"
   },
   {
    "duration": 10,
    "start_time": "2021-12-15T11:20:33.744Z"
   },
   {
    "duration": 58,
    "start_time": "2021-12-15T11:20:33.755Z"
   },
   {
    "duration": 11,
    "start_time": "2021-12-15T11:20:33.814Z"
   },
   {
    "duration": 30,
    "start_time": "2021-12-15T11:20:33.828Z"
   },
   {
    "duration": 32,
    "start_time": "2021-12-15T11:20:33.860Z"
   },
   {
    "duration": 28,
    "start_time": "2021-12-15T11:20:33.893Z"
   },
   {
    "duration": 12,
    "start_time": "2021-12-15T11:20:33.923Z"
   },
   {
    "duration": 19,
    "start_time": "2021-12-15T11:20:33.937Z"
   },
   {
    "duration": 41,
    "start_time": "2021-12-15T11:20:33.958Z"
   },
   {
    "duration": 28,
    "start_time": "2021-12-15T11:20:34.001Z"
   },
   {
    "duration": 26,
    "start_time": "2021-12-15T11:20:34.031Z"
   },
   {
    "duration": 8,
    "start_time": "2021-12-15T11:20:34.058Z"
   },
   {
    "duration": 6093,
    "start_time": "2021-12-15T11:20:34.068Z"
   },
   {
    "duration": 3,
    "start_time": "2021-12-15T11:20:40.163Z"
   },
   {
    "duration": 2631,
    "start_time": "2021-12-15T11:20:40.168Z"
   },
   {
    "duration": 11,
    "start_time": "2021-12-15T11:20:42.800Z"
   },
   {
    "duration": 21,
    "start_time": "2021-12-15T11:20:42.812Z"
   },
   {
    "duration": 245,
    "start_time": "2021-12-15T11:20:42.835Z"
   },
   {
    "duration": 13,
    "start_time": "2021-12-15T11:20:43.081Z"
   },
   {
    "duration": 16,
    "start_time": "2021-12-15T11:20:43.095Z"
   },
   {
    "duration": 20,
    "start_time": "2021-12-15T11:20:43.113Z"
   },
   {
    "duration": 581,
    "start_time": "2021-12-15T11:20:43.136Z"
   },
   {
    "duration": 24,
    "start_time": "2021-12-15T11:20:43.718Z"
   },
   {
    "duration": 19,
    "start_time": "2021-12-15T11:20:43.744Z"
   },
   {
    "duration": 39,
    "start_time": "2021-12-15T11:20:43.764Z"
   },
   {
    "duration": 20,
    "start_time": "2021-12-15T11:20:43.804Z"
   },
   {
    "duration": 1783,
    "start_time": "2021-12-15T11:21:27.746Z"
   },
   {
    "duration": 532,
    "start_time": "2021-12-15T11:21:51.121Z"
   },
   {
    "duration": 59,
    "start_time": "2021-12-15T11:21:51.655Z"
   },
   {
    "duration": 16,
    "start_time": "2021-12-15T11:21:51.718Z"
   },
   {
    "duration": 14,
    "start_time": "2021-12-15T11:21:51.736Z"
   },
   {
    "duration": 15,
    "start_time": "2021-12-15T11:21:51.751Z"
   },
   {
    "duration": 39,
    "start_time": "2021-12-15T11:21:51.768Z"
   },
   {
    "duration": 30,
    "start_time": "2021-12-15T11:21:51.809Z"
   },
   {
    "duration": 10,
    "start_time": "2021-12-15T11:21:51.841Z"
   },
   {
    "duration": 53,
    "start_time": "2021-12-15T11:21:51.854Z"
   },
   {
    "duration": 10,
    "start_time": "2021-12-15T11:21:51.909Z"
   },
   {
    "duration": 29,
    "start_time": "2021-12-15T11:21:51.920Z"
   },
   {
    "duration": 12,
    "start_time": "2021-12-15T11:21:51.950Z"
   },
   {
    "duration": 46,
    "start_time": "2021-12-15T11:21:51.964Z"
   },
   {
    "duration": 18,
    "start_time": "2021-12-15T11:21:52.012Z"
   },
   {
    "duration": 31,
    "start_time": "2021-12-15T11:21:52.032Z"
   },
   {
    "duration": 53,
    "start_time": "2021-12-15T11:21:52.065Z"
   },
   {
    "duration": 9,
    "start_time": "2021-12-15T11:21:52.120Z"
   },
   {
    "duration": 6419,
    "start_time": "2021-12-15T11:21:52.131Z"
   },
   {
    "duration": 3,
    "start_time": "2021-12-15T11:21:58.552Z"
   },
   {
    "duration": 2697,
    "start_time": "2021-12-15T11:21:58.557Z"
   },
   {
    "duration": 10,
    "start_time": "2021-12-15T11:22:01.256Z"
   },
   {
    "duration": 8,
    "start_time": "2021-12-15T11:22:01.268Z"
   },
   {
    "duration": 245,
    "start_time": "2021-12-15T11:22:01.292Z"
   },
   {
    "duration": 9,
    "start_time": "2021-12-15T11:22:01.538Z"
   },
   {
    "duration": 15,
    "start_time": "2021-12-15T11:22:01.549Z"
   },
   {
    "duration": 15,
    "start_time": "2021-12-15T11:22:01.566Z"
   },
   {
    "duration": 576,
    "start_time": "2021-12-15T11:22:01.592Z"
   },
   {
    "duration": 32,
    "start_time": "2021-12-15T11:22:02.170Z"
   },
   {
    "duration": 20,
    "start_time": "2021-12-15T11:22:02.204Z"
   },
   {
    "duration": 19,
    "start_time": "2021-12-15T11:22:02.226Z"
   },
   {
    "duration": 19,
    "start_time": "2021-12-15T11:22:02.247Z"
   },
   {
    "duration": 64,
    "start_time": "2021-12-15T11:22:30.686Z"
   },
   {
    "duration": 11,
    "start_time": "2021-12-15T11:25:04.279Z"
   },
   {
    "duration": 11,
    "start_time": "2021-12-15T11:25:26.934Z"
   },
   {
    "duration": 11,
    "start_time": "2021-12-15T11:25:34.135Z"
   },
   {
    "duration": 32,
    "start_time": "2021-12-15T11:25:38.487Z"
   },
   {
    "duration": 61,
    "start_time": "2021-12-15T11:26:26.660Z"
   },
   {
    "duration": 550,
    "start_time": "2021-12-15T15:03:51.402Z"
   },
   {
    "duration": 57,
    "start_time": "2021-12-15T15:03:51.953Z"
   },
   {
    "duration": 14,
    "start_time": "2021-12-15T15:03:52.012Z"
   },
   {
    "duration": 14,
    "start_time": "2021-12-15T15:03:52.027Z"
   },
   {
    "duration": 15,
    "start_time": "2021-12-15T15:03:52.042Z"
   },
   {
    "duration": 11,
    "start_time": "2021-12-15T15:03:52.058Z"
   },
   {
    "duration": 30,
    "start_time": "2021-12-15T15:03:52.092Z"
   },
   {
    "duration": 11,
    "start_time": "2021-12-15T15:03:52.125Z"
   },
   {
    "duration": 31,
    "start_time": "2021-12-15T15:03:52.137Z"
   },
   {
    "duration": 9,
    "start_time": "2021-12-15T15:03:52.192Z"
   },
   {
    "duration": 31,
    "start_time": "2021-12-15T15:03:52.203Z"
   },
   {
    "duration": 12,
    "start_time": "2021-12-15T15:03:52.236Z"
   },
   {
    "duration": 45,
    "start_time": "2021-12-15T15:03:52.250Z"
   },
   {
    "duration": 17,
    "start_time": "2021-12-15T15:03:52.297Z"
   },
   {
    "duration": 28,
    "start_time": "2021-12-15T15:03:52.316Z"
   },
   {
    "duration": 51,
    "start_time": "2021-12-15T15:03:52.346Z"
   },
   {
    "duration": 8,
    "start_time": "2021-12-15T15:03:52.399Z"
   },
   {
    "duration": 6610,
    "start_time": "2021-12-15T15:03:52.408Z"
   },
   {
    "duration": -19,
    "start_time": "2021-12-15T15:03:59.039Z"
   },
   {
    "duration": -23,
    "start_time": "2021-12-15T15:03:59.044Z"
   },
   {
    "duration": -33,
    "start_time": "2021-12-15T15:03:59.055Z"
   },
   {
    "duration": -38,
    "start_time": "2021-12-15T15:03:59.061Z"
   },
   {
    "duration": -47,
    "start_time": "2021-12-15T15:03:59.071Z"
   },
   {
    "duration": -51,
    "start_time": "2021-12-15T15:03:59.076Z"
   },
   {
    "duration": -61,
    "start_time": "2021-12-15T15:03:59.087Z"
   },
   {
    "duration": -65,
    "start_time": "2021-12-15T15:03:59.093Z"
   },
   {
    "duration": -75,
    "start_time": "2021-12-15T15:03:59.104Z"
   },
   {
    "duration": -79,
    "start_time": "2021-12-15T15:03:59.109Z"
   },
   {
    "duration": -89,
    "start_time": "2021-12-15T15:03:59.120Z"
   },
   {
    "duration": -93,
    "start_time": "2021-12-15T15:03:59.125Z"
   },
   {
    "duration": -101,
    "start_time": "2021-12-15T15:03:59.134Z"
   },
   {
    "duration": 6189,
    "start_time": "2021-12-15T15:04:33.147Z"
   },
   {
    "duration": 6313,
    "start_time": "2021-12-15T15:05:09.018Z"
   },
   {
    "duration": 3734,
    "start_time": "2021-12-15T15:06:27.780Z"
   },
   {
    "duration": -157,
    "start_time": "2021-12-15T15:07:32.501Z"
   },
   {
    "duration": 6188,
    "start_time": "2021-12-15T15:07:32.752Z"
   },
   {
    "duration": 841,
    "start_time": "2021-12-15T15:09:00.219Z"
   },
   {
    "duration": 3442,
    "start_time": "2021-12-15T15:09:25.869Z"
   },
   {
    "duration": 846,
    "start_time": "2021-12-15T15:11:09.562Z"
   },
   {
    "duration": 3575,
    "start_time": "2021-12-15T15:11:18.798Z"
   },
   {
    "duration": 862,
    "start_time": "2021-12-15T15:11:39.559Z"
   },
   {
    "duration": 3513,
    "start_time": "2021-12-15T15:12:06.027Z"
   },
   {
    "duration": 627,
    "start_time": "2021-12-15T17:51:57.016Z"
   },
   {
    "duration": 78,
    "start_time": "2021-12-15T17:51:57.645Z"
   },
   {
    "duration": 21,
    "start_time": "2021-12-15T17:51:57.726Z"
   },
   {
    "duration": 20,
    "start_time": "2021-12-15T17:51:57.750Z"
   },
   {
    "duration": 18,
    "start_time": "2021-12-15T17:51:57.772Z"
   },
   {
    "duration": 15,
    "start_time": "2021-12-15T17:51:57.793Z"
   },
   {
    "duration": 70,
    "start_time": "2021-12-15T17:51:57.810Z"
   },
   {
    "duration": 15,
    "start_time": "2021-12-15T17:51:57.882Z"
   },
   {
    "duration": 54,
    "start_time": "2021-12-15T17:51:57.900Z"
   },
   {
    "duration": 10,
    "start_time": "2021-12-15T17:51:57.956Z"
   },
   {
    "duration": 38,
    "start_time": "2021-12-15T17:51:57.968Z"
   },
   {
    "duration": 12,
    "start_time": "2021-12-15T17:51:58.008Z"
   },
   {
    "duration": 40,
    "start_time": "2021-12-15T17:51:58.021Z"
   },
   {
    "duration": 16,
    "start_time": "2021-12-15T17:51:58.062Z"
   },
   {
    "duration": 29,
    "start_time": "2021-12-15T17:51:58.080Z"
   },
   {
    "duration": 47,
    "start_time": "2021-12-15T17:51:58.110Z"
   },
   {
    "duration": 8,
    "start_time": "2021-12-15T17:51:58.159Z"
   },
   {
    "duration": 4418,
    "start_time": "2021-12-15T17:51:58.169Z"
   },
   {
    "duration": 3,
    "start_time": "2021-12-15T17:52:02.589Z"
   },
   {
    "duration": 3101,
    "start_time": "2021-12-15T17:52:02.594Z"
   },
   {
    "duration": 10,
    "start_time": "2021-12-15T17:52:05.697Z"
   },
   {
    "duration": 7,
    "start_time": "2021-12-15T17:52:05.708Z"
   },
   {
    "duration": 257,
    "start_time": "2021-12-15T17:52:05.717Z"
   },
   {
    "duration": 9,
    "start_time": "2021-12-15T17:52:05.976Z"
   },
   {
    "duration": 11,
    "start_time": "2021-12-15T17:52:05.987Z"
   },
   {
    "duration": 11,
    "start_time": "2021-12-15T17:52:06.000Z"
   },
   {
    "duration": 612,
    "start_time": "2021-12-15T17:52:06.014Z"
   },
   {
    "duration": 35,
    "start_time": "2021-12-15T17:52:06.628Z"
   },
   {
    "duration": 31,
    "start_time": "2021-12-15T17:52:06.666Z"
   },
   {
    "duration": 46,
    "start_time": "2021-12-15T17:52:06.700Z"
   },
   {
    "duration": 33,
    "start_time": "2021-12-15T17:52:06.748Z"
   },
   {
    "duration": 6941,
    "start_time": "2021-12-15T17:53:00.744Z"
   },
   {
    "duration": 7109,
    "start_time": "2021-12-15T17:53:56.804Z"
   },
   {
    "duration": 4277,
    "start_time": "2021-12-15T17:54:16.532Z"
   },
   {
    "duration": 7683,
    "start_time": "2021-12-15T17:54:24.177Z"
   },
   {
    "duration": 87,
    "start_time": "2021-12-15T17:58:43.465Z"
   },
   {
    "duration": 35,
    "start_time": "2021-12-15T17:58:51.649Z"
   },
   {
    "duration": 7623,
    "start_time": "2021-12-15T17:59:53.184Z"
   },
   {
    "duration": 6671,
    "start_time": "2021-12-15T18:00:54.173Z"
   },
   {
    "duration": 9467,
    "start_time": "2021-12-15T18:01:24.433Z"
   },
   {
    "duration": 4058,
    "start_time": "2021-12-15T18:02:46.847Z"
   },
   {
    "duration": 7042,
    "start_time": "2021-12-15T18:03:13.623Z"
   },
   {
    "duration": 7139,
    "start_time": "2021-12-15T18:03:29.490Z"
   },
   {
    "duration": 27,
    "start_time": "2021-12-15T18:06:10.962Z"
   },
   {
    "duration": 24,
    "start_time": "2021-12-15T18:06:10.968Z"
   },
   {
    "duration": 3777,
    "start_time": "2021-12-15T18:06:17.151Z"
   },
   {
    "duration": 1006,
    "start_time": "2021-12-15T18:06:49.494Z"
   },
   {
    "duration": 953,
    "start_time": "2021-12-15T18:07:03.840Z"
   },
   {
    "duration": 979,
    "start_time": "2021-12-15T18:07:32.343Z"
   },
   {
    "duration": 4282,
    "start_time": "2021-12-15T18:08:49.597Z"
   },
   {
    "duration": 4746,
    "start_time": "2021-12-15T18:09:32.873Z"
   },
   {
    "duration": 3979,
    "start_time": "2021-12-15T18:11:47.719Z"
   },
   {
    "duration": 1024,
    "start_time": "2021-12-15T18:12:06.994Z"
   },
   {
    "duration": 4059,
    "start_time": "2021-12-15T18:12:19.277Z"
   },
   {
    "duration": 4176,
    "start_time": "2021-12-15T18:12:54.544Z"
   },
   {
    "duration": 633,
    "start_time": "2021-12-15T18:18:41.833Z"
   },
   {
    "duration": 58,
    "start_time": "2021-12-15T18:18:42.468Z"
   },
   {
    "duration": 13,
    "start_time": "2021-12-15T18:18:42.528Z"
   },
   {
    "duration": 24,
    "start_time": "2021-12-15T18:18:42.544Z"
   },
   {
    "duration": 36,
    "start_time": "2021-12-15T18:18:42.570Z"
   },
   {
    "duration": 19,
    "start_time": "2021-12-15T18:18:42.608Z"
   },
   {
    "duration": 65,
    "start_time": "2021-12-15T18:18:42.629Z"
   },
   {
    "duration": 14,
    "start_time": "2021-12-15T18:18:42.696Z"
   },
   {
    "duration": 70,
    "start_time": "2021-12-15T18:18:42.714Z"
   },
   {
    "duration": 10,
    "start_time": "2021-12-15T18:18:42.786Z"
   },
   {
    "duration": 67,
    "start_time": "2021-12-15T18:18:42.798Z"
   },
   {
    "duration": 22,
    "start_time": "2021-12-15T18:18:42.867Z"
   },
   {
    "duration": 43,
    "start_time": "2021-12-15T18:18:42.891Z"
   },
   {
    "duration": 41,
    "start_time": "2021-12-15T18:18:42.936Z"
   },
   {
    "duration": 58,
    "start_time": "2021-12-15T18:18:42.979Z"
   },
   {
    "duration": 34,
    "start_time": "2021-12-15T18:18:43.038Z"
   },
   {
    "duration": 7,
    "start_time": "2021-12-15T18:18:43.074Z"
   },
   {
    "duration": 3684,
    "start_time": "2021-12-15T18:18:43.082Z"
   },
   {
    "duration": 2,
    "start_time": "2021-12-15T18:18:46.768Z"
   },
   {
    "duration": 3027,
    "start_time": "2021-12-15T18:18:46.772Z"
   },
   {
    "duration": 11,
    "start_time": "2021-12-15T18:18:49.801Z"
   },
   {
    "duration": 9,
    "start_time": "2021-12-15T18:18:49.813Z"
   },
   {
    "duration": 279,
    "start_time": "2021-12-15T18:18:49.825Z"
   },
   {
    "duration": 11,
    "start_time": "2021-12-15T18:18:50.107Z"
   },
   {
    "duration": 28,
    "start_time": "2021-12-15T18:18:50.119Z"
   },
   {
    "duration": 8,
    "start_time": "2021-12-15T18:18:50.150Z"
   },
   {
    "duration": 684,
    "start_time": "2021-12-15T18:18:50.163Z"
   },
   {
    "duration": 33,
    "start_time": "2021-12-15T18:18:50.850Z"
   },
   {
    "duration": 30,
    "start_time": "2021-12-15T18:18:50.885Z"
   },
   {
    "duration": 44,
    "start_time": "2021-12-15T18:18:50.917Z"
   },
   {
    "duration": 22,
    "start_time": "2021-12-15T18:18:50.963Z"
   },
   {
    "duration": 11,
    "start_time": "2021-12-15T18:20:39.197Z"
   },
   {
    "duration": 667,
    "start_time": "2021-12-15T18:22:01.902Z"
   },
   {
    "duration": 61,
    "start_time": "2021-12-15T18:22:02.572Z"
   },
   {
    "duration": 24,
    "start_time": "2021-12-15T18:22:02.636Z"
   },
   {
    "duration": 21,
    "start_time": "2021-12-15T18:22:02.662Z"
   },
   {
    "duration": 19,
    "start_time": "2021-12-15T18:22:02.686Z"
   },
   {
    "duration": 45,
    "start_time": "2021-12-15T18:22:02.707Z"
   },
   {
    "duration": 32,
    "start_time": "2021-12-15T18:22:02.754Z"
   },
   {
    "duration": 13,
    "start_time": "2021-12-15T18:22:02.787Z"
   },
   {
    "duration": 58,
    "start_time": "2021-12-15T18:22:02.803Z"
   },
   {
    "duration": 13,
    "start_time": "2021-12-15T18:22:02.863Z"
   },
   {
    "duration": 34,
    "start_time": "2021-12-15T18:22:02.878Z"
   },
   {
    "duration": 39,
    "start_time": "2021-12-15T18:22:02.913Z"
   },
   {
    "duration": 21,
    "start_time": "2021-12-15T18:22:02.954Z"
   },
   {
    "duration": 19,
    "start_time": "2021-12-15T18:22:02.976Z"
   },
   {
    "duration": 55,
    "start_time": "2021-12-15T18:22:02.997Z"
   },
   {
    "duration": 29,
    "start_time": "2021-12-15T18:22:03.054Z"
   },
   {
    "duration": 9,
    "start_time": "2021-12-15T18:22:03.084Z"
   },
   {
    "duration": 3880,
    "start_time": "2021-12-15T18:22:03.094Z"
   },
   {
    "duration": 3,
    "start_time": "2021-12-15T18:22:06.976Z"
   },
   {
    "duration": 3135,
    "start_time": "2021-12-15T18:22:06.981Z"
   },
   {
    "duration": 11,
    "start_time": "2021-12-15T18:22:10.117Z"
   },
   {
    "duration": 23,
    "start_time": "2021-12-15T18:22:10.130Z"
   },
   {
    "duration": 265,
    "start_time": "2021-12-15T18:22:10.156Z"
   },
   {
    "duration": 9,
    "start_time": "2021-12-15T18:22:10.423Z"
   },
   {
    "duration": 18,
    "start_time": "2021-12-15T18:22:10.433Z"
   },
   {
    "duration": 9,
    "start_time": "2021-12-15T18:22:10.453Z"
   },
   {
    "duration": 639,
    "start_time": "2021-12-15T18:22:10.466Z"
   },
   {
    "duration": 30,
    "start_time": "2021-12-15T18:22:11.106Z"
   },
   {
    "duration": 30,
    "start_time": "2021-12-15T18:22:11.137Z"
   },
   {
    "duration": 21,
    "start_time": "2021-12-15T18:22:11.168Z"
   },
   {
    "duration": 20,
    "start_time": "2021-12-15T18:22:11.190Z"
   }
  ],
  "kernelspec": {
   "display_name": "Python 3 (ipykernel)",
   "language": "python",
   "name": "python3"
  },
  "language_info": {
   "codemirror_mode": {
    "name": "ipython",
    "version": 3
   },
   "file_extension": ".py",
   "mimetype": "text/x-python",
   "name": "python",
   "nbconvert_exporter": "python",
   "pygments_lexer": "ipython3",
   "version": "3.9.7"
  },
  "toc": {
   "base_numbering": 1,
   "nav_menu": {},
   "number_sections": true,
   "sideBar": true,
   "skip_h1_title": true,
   "title_cell": "Table of Contents",
   "title_sidebar": "Contents",
   "toc_cell": false,
   "toc_position": {
    "height": "calc(100% - 180px)",
    "left": "10px",
    "top": "150px",
    "width": "270.391px"
   },
   "toc_section_display": true,
   "toc_window_display": true
  }
 },
 "nbformat": 4,
 "nbformat_minor": 2
}
