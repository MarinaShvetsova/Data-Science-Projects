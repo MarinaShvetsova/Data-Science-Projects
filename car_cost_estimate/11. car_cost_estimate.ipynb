{
 "cells": [
  {
   "cell_type": "markdown",
   "metadata": {},
   "source": [
    "# Определение стоимости автомобилей"
   ]
  },
  {
   "cell_type": "markdown",
   "metadata": {},
   "source": [
    "**Этапы проекта:**\n",
    " 1. Обзор данных\n",
    " 2. Предобработка данных\n",
    " 3. Построение и анализ моделей машинного обучения\n",
    " 4. Выводы"
   ]
  },
  {
   "cell_type": "markdown",
   "metadata": {},
   "source": [
    "## Подготовка данных"
   ]
  },
  {
   "cell_type": "markdown",
   "metadata": {},
   "source": [
    "### Открытие и изучение данных"
   ]
  },
  {
   "cell_type": "code",
   "execution_count": 1,
   "metadata": {},
   "outputs": [],
   "source": [
    "# загрузим библиотеки для работы\n",
    "import pandas as pd\n",
    "import numpy as np\n",
    "\n",
    "from sklearn.metrics import mean_squared_error\n",
    "from sklearn.preprocessing import StandardScaler\n",
    "from sklearn.model_selection import train_test_split, cross_val_score, GridSearchCV\n",
    "\n",
    "from catboost import CatBoostRegressor\n",
    "from sklearn.tree import DecisionTreeRegressor\n",
    "from sklearn.dummy import DummyRegressor\n",
    "from lightgbm import LGBMRegressor\n",
    "from sklearn.linear_model import LinearRegression\n",
    "\n",
    "import matplotlib.pyplot as plt\n",
    "import seaborn as sns\n",
    "\n",
    "import time"
   ]
  },
  {
   "cell_type": "code",
   "execution_count": 2,
   "metadata": {},
   "outputs": [],
   "source": [
    "# загрузим данные\n",
    "data = pd.read_csv(\"/datasets/autos.csv\")"
   ]
  },
  {
   "cell_type": "code",
   "execution_count": 3,
   "metadata": {},
   "outputs": [
    {
     "name": "stdout",
     "output_type": "stream",
     "text": [
      "<class 'pandas.core.frame.DataFrame'>\n",
      "RangeIndex: 354369 entries, 0 to 354368\n",
      "Data columns (total 16 columns):\n",
      " #   Column             Non-Null Count   Dtype \n",
      "---  ------             --------------   ----- \n",
      " 0   DateCrawled        354369 non-null  object\n",
      " 1   Price              354369 non-null  int64 \n",
      " 2   VehicleType        316879 non-null  object\n",
      " 3   RegistrationYear   354369 non-null  int64 \n",
      " 4   Gearbox            334536 non-null  object\n",
      " 5   Power              354369 non-null  int64 \n",
      " 6   Model              334664 non-null  object\n",
      " 7   Kilometer          354369 non-null  int64 \n",
      " 8   RegistrationMonth  354369 non-null  int64 \n",
      " 9   FuelType           321474 non-null  object\n",
      " 10  Brand              354369 non-null  object\n",
      " 11  NotRepaired        283215 non-null  object\n",
      " 12  DateCreated        354369 non-null  object\n",
      " 13  NumberOfPictures   354369 non-null  int64 \n",
      " 14  PostalCode         354369 non-null  int64 \n",
      " 15  LastSeen           354369 non-null  object\n",
      "dtypes: int64(7), object(9)\n",
      "memory usage: 43.3+ MB\n"
     ]
    }
   ],
   "source": [
    "# изучим структуру таблицы\n",
    "data.info()"
   ]
  },
  {
   "cell_type": "code",
   "execution_count": 4,
   "metadata": {},
   "outputs": [
    {
     "data": {
      "text/html": [
       "<div>\n",
       "<style scoped>\n",
       "    .dataframe tbody tr th:only-of-type {\n",
       "        vertical-align: middle;\n",
       "    }\n",
       "\n",
       "    .dataframe tbody tr th {\n",
       "        vertical-align: top;\n",
       "    }\n",
       "\n",
       "    .dataframe thead th {\n",
       "        text-align: right;\n",
       "    }\n",
       "</style>\n",
       "<table border=\"1\" class=\"dataframe\">\n",
       "  <thead>\n",
       "    <tr style=\"text-align: right;\">\n",
       "      <th></th>\n",
       "      <th>DateCrawled</th>\n",
       "      <th>Price</th>\n",
       "      <th>VehicleType</th>\n",
       "      <th>RegistrationYear</th>\n",
       "      <th>Gearbox</th>\n",
       "      <th>Power</th>\n",
       "      <th>Model</th>\n",
       "      <th>Kilometer</th>\n",
       "      <th>RegistrationMonth</th>\n",
       "      <th>FuelType</th>\n",
       "      <th>Brand</th>\n",
       "      <th>NotRepaired</th>\n",
       "      <th>DateCreated</th>\n",
       "      <th>NumberOfPictures</th>\n",
       "      <th>PostalCode</th>\n",
       "      <th>LastSeen</th>\n",
       "    </tr>\n",
       "  </thead>\n",
       "  <tbody>\n",
       "    <tr>\n",
       "      <th>0</th>\n",
       "      <td>2016-03-24 11:52:17</td>\n",
       "      <td>480</td>\n",
       "      <td>NaN</td>\n",
       "      <td>1993</td>\n",
       "      <td>manual</td>\n",
       "      <td>0</td>\n",
       "      <td>golf</td>\n",
       "      <td>150000</td>\n",
       "      <td>0</td>\n",
       "      <td>petrol</td>\n",
       "      <td>volkswagen</td>\n",
       "      <td>NaN</td>\n",
       "      <td>2016-03-24 00:00:00</td>\n",
       "      <td>0</td>\n",
       "      <td>70435</td>\n",
       "      <td>2016-04-07 03:16:57</td>\n",
       "    </tr>\n",
       "    <tr>\n",
       "      <th>1</th>\n",
       "      <td>2016-03-24 10:58:45</td>\n",
       "      <td>18300</td>\n",
       "      <td>coupe</td>\n",
       "      <td>2011</td>\n",
       "      <td>manual</td>\n",
       "      <td>190</td>\n",
       "      <td>NaN</td>\n",
       "      <td>125000</td>\n",
       "      <td>5</td>\n",
       "      <td>gasoline</td>\n",
       "      <td>audi</td>\n",
       "      <td>yes</td>\n",
       "      <td>2016-03-24 00:00:00</td>\n",
       "      <td>0</td>\n",
       "      <td>66954</td>\n",
       "      <td>2016-04-07 01:46:50</td>\n",
       "    </tr>\n",
       "    <tr>\n",
       "      <th>2</th>\n",
       "      <td>2016-03-14 12:52:21</td>\n",
       "      <td>9800</td>\n",
       "      <td>suv</td>\n",
       "      <td>2004</td>\n",
       "      <td>auto</td>\n",
       "      <td>163</td>\n",
       "      <td>grand</td>\n",
       "      <td>125000</td>\n",
       "      <td>8</td>\n",
       "      <td>gasoline</td>\n",
       "      <td>jeep</td>\n",
       "      <td>NaN</td>\n",
       "      <td>2016-03-14 00:00:00</td>\n",
       "      <td>0</td>\n",
       "      <td>90480</td>\n",
       "      <td>2016-04-05 12:47:46</td>\n",
       "    </tr>\n",
       "    <tr>\n",
       "      <th>3</th>\n",
       "      <td>2016-03-17 16:54:04</td>\n",
       "      <td>1500</td>\n",
       "      <td>small</td>\n",
       "      <td>2001</td>\n",
       "      <td>manual</td>\n",
       "      <td>75</td>\n",
       "      <td>golf</td>\n",
       "      <td>150000</td>\n",
       "      <td>6</td>\n",
       "      <td>petrol</td>\n",
       "      <td>volkswagen</td>\n",
       "      <td>no</td>\n",
       "      <td>2016-03-17 00:00:00</td>\n",
       "      <td>0</td>\n",
       "      <td>91074</td>\n",
       "      <td>2016-03-17 17:40:17</td>\n",
       "    </tr>\n",
       "    <tr>\n",
       "      <th>4</th>\n",
       "      <td>2016-03-31 17:25:20</td>\n",
       "      <td>3600</td>\n",
       "      <td>small</td>\n",
       "      <td>2008</td>\n",
       "      <td>manual</td>\n",
       "      <td>69</td>\n",
       "      <td>fabia</td>\n",
       "      <td>90000</td>\n",
       "      <td>7</td>\n",
       "      <td>gasoline</td>\n",
       "      <td>skoda</td>\n",
       "      <td>no</td>\n",
       "      <td>2016-03-31 00:00:00</td>\n",
       "      <td>0</td>\n",
       "      <td>60437</td>\n",
       "      <td>2016-04-06 10:17:21</td>\n",
       "    </tr>\n",
       "  </tbody>\n",
       "</table>\n",
       "</div>"
      ],
      "text/plain": [
       "           DateCrawled  Price VehicleType  RegistrationYear Gearbox  Power  \\\n",
       "0  2016-03-24 11:52:17    480         NaN              1993  manual      0   \n",
       "1  2016-03-24 10:58:45  18300       coupe              2011  manual    190   \n",
       "2  2016-03-14 12:52:21   9800         suv              2004    auto    163   \n",
       "3  2016-03-17 16:54:04   1500       small              2001  manual     75   \n",
       "4  2016-03-31 17:25:20   3600       small              2008  manual     69   \n",
       "\n",
       "   Model  Kilometer  RegistrationMonth  FuelType       Brand NotRepaired  \\\n",
       "0   golf     150000                  0    petrol  volkswagen         NaN   \n",
       "1    NaN     125000                  5  gasoline        audi         yes   \n",
       "2  grand     125000                  8  gasoline        jeep         NaN   \n",
       "3   golf     150000                  6    petrol  volkswagen          no   \n",
       "4  fabia      90000                  7  gasoline       skoda          no   \n",
       "\n",
       "           DateCreated  NumberOfPictures  PostalCode             LastSeen  \n",
       "0  2016-03-24 00:00:00                 0       70435  2016-04-07 03:16:57  \n",
       "1  2016-03-24 00:00:00                 0       66954  2016-04-07 01:46:50  \n",
       "2  2016-03-14 00:00:00                 0       90480  2016-04-05 12:47:46  \n",
       "3  2016-03-17 00:00:00                 0       91074  2016-03-17 17:40:17  \n",
       "4  2016-03-31 00:00:00                 0       60437  2016-04-06 10:17:21  "
      ]
     },
     "execution_count": 4,
     "metadata": {},
     "output_type": "execute_result"
    }
   ],
   "source": [
    "# посмотрим 5 строк таблицы\n",
    "data.head()"
   ]
  },
  {
   "cell_type": "code",
   "execution_count": 5,
   "metadata": {},
   "outputs": [
    {
     "data": {
      "text/html": [
       "<div>\n",
       "<style scoped>\n",
       "    .dataframe tbody tr th:only-of-type {\n",
       "        vertical-align: middle;\n",
       "    }\n",
       "\n",
       "    .dataframe tbody tr th {\n",
       "        vertical-align: top;\n",
       "    }\n",
       "\n",
       "    .dataframe thead th {\n",
       "        text-align: right;\n",
       "    }\n",
       "</style>\n",
       "<table border=\"1\" class=\"dataframe\">\n",
       "  <thead>\n",
       "    <tr style=\"text-align: right;\">\n",
       "      <th></th>\n",
       "      <th>DateCrawled</th>\n",
       "      <th>Price</th>\n",
       "      <th>VehicleType</th>\n",
       "      <th>RegistrationYear</th>\n",
       "      <th>Gearbox</th>\n",
       "      <th>Power</th>\n",
       "      <th>Model</th>\n",
       "      <th>Kilometer</th>\n",
       "      <th>RegistrationMonth</th>\n",
       "      <th>FuelType</th>\n",
       "      <th>Brand</th>\n",
       "      <th>NotRepaired</th>\n",
       "      <th>DateCreated</th>\n",
       "      <th>NumberOfPictures</th>\n",
       "      <th>PostalCode</th>\n",
       "      <th>LastSeen</th>\n",
       "    </tr>\n",
       "  </thead>\n",
       "  <tbody>\n",
       "    <tr>\n",
       "      <th>count</th>\n",
       "      <td>354369</td>\n",
       "      <td>354369.000000</td>\n",
       "      <td>316879</td>\n",
       "      <td>354369.000000</td>\n",
       "      <td>334536</td>\n",
       "      <td>354369.000000</td>\n",
       "      <td>334664</td>\n",
       "      <td>354369.000000</td>\n",
       "      <td>354369.000000</td>\n",
       "      <td>321474</td>\n",
       "      <td>354369</td>\n",
       "      <td>283215</td>\n",
       "      <td>354369</td>\n",
       "      <td>354369.0</td>\n",
       "      <td>354369.000000</td>\n",
       "      <td>354369</td>\n",
       "    </tr>\n",
       "    <tr>\n",
       "      <th>unique</th>\n",
       "      <td>271174</td>\n",
       "      <td>NaN</td>\n",
       "      <td>8</td>\n",
       "      <td>NaN</td>\n",
       "      <td>2</td>\n",
       "      <td>NaN</td>\n",
       "      <td>250</td>\n",
       "      <td>NaN</td>\n",
       "      <td>NaN</td>\n",
       "      <td>7</td>\n",
       "      <td>40</td>\n",
       "      <td>2</td>\n",
       "      <td>109</td>\n",
       "      <td>NaN</td>\n",
       "      <td>NaN</td>\n",
       "      <td>179150</td>\n",
       "    </tr>\n",
       "    <tr>\n",
       "      <th>top</th>\n",
       "      <td>2016-03-24 14:49:47</td>\n",
       "      <td>NaN</td>\n",
       "      <td>sedan</td>\n",
       "      <td>NaN</td>\n",
       "      <td>manual</td>\n",
       "      <td>NaN</td>\n",
       "      <td>golf</td>\n",
       "      <td>NaN</td>\n",
       "      <td>NaN</td>\n",
       "      <td>petrol</td>\n",
       "      <td>volkswagen</td>\n",
       "      <td>no</td>\n",
       "      <td>2016-04-03 00:00:00</td>\n",
       "      <td>NaN</td>\n",
       "      <td>NaN</td>\n",
       "      <td>2016-04-06 13:45:54</td>\n",
       "    </tr>\n",
       "    <tr>\n",
       "      <th>freq</th>\n",
       "      <td>7</td>\n",
       "      <td>NaN</td>\n",
       "      <td>91457</td>\n",
       "      <td>NaN</td>\n",
       "      <td>268251</td>\n",
       "      <td>NaN</td>\n",
       "      <td>29232</td>\n",
       "      <td>NaN</td>\n",
       "      <td>NaN</td>\n",
       "      <td>216352</td>\n",
       "      <td>77013</td>\n",
       "      <td>247161</td>\n",
       "      <td>13719</td>\n",
       "      <td>NaN</td>\n",
       "      <td>NaN</td>\n",
       "      <td>17</td>\n",
       "    </tr>\n",
       "    <tr>\n",
       "      <th>mean</th>\n",
       "      <td>NaN</td>\n",
       "      <td>4416.656776</td>\n",
       "      <td>NaN</td>\n",
       "      <td>2004.234448</td>\n",
       "      <td>NaN</td>\n",
       "      <td>110.094337</td>\n",
       "      <td>NaN</td>\n",
       "      <td>128211.172535</td>\n",
       "      <td>5.714645</td>\n",
       "      <td>NaN</td>\n",
       "      <td>NaN</td>\n",
       "      <td>NaN</td>\n",
       "      <td>NaN</td>\n",
       "      <td>0.0</td>\n",
       "      <td>50508.689087</td>\n",
       "      <td>NaN</td>\n",
       "    </tr>\n",
       "    <tr>\n",
       "      <th>std</th>\n",
       "      <td>NaN</td>\n",
       "      <td>4514.158514</td>\n",
       "      <td>NaN</td>\n",
       "      <td>90.227958</td>\n",
       "      <td>NaN</td>\n",
       "      <td>189.850405</td>\n",
       "      <td>NaN</td>\n",
       "      <td>37905.341530</td>\n",
       "      <td>3.726421</td>\n",
       "      <td>NaN</td>\n",
       "      <td>NaN</td>\n",
       "      <td>NaN</td>\n",
       "      <td>NaN</td>\n",
       "      <td>0.0</td>\n",
       "      <td>25783.096248</td>\n",
       "      <td>NaN</td>\n",
       "    </tr>\n",
       "    <tr>\n",
       "      <th>min</th>\n",
       "      <td>NaN</td>\n",
       "      <td>0.000000</td>\n",
       "      <td>NaN</td>\n",
       "      <td>1000.000000</td>\n",
       "      <td>NaN</td>\n",
       "      <td>0.000000</td>\n",
       "      <td>NaN</td>\n",
       "      <td>5000.000000</td>\n",
       "      <td>0.000000</td>\n",
       "      <td>NaN</td>\n",
       "      <td>NaN</td>\n",
       "      <td>NaN</td>\n",
       "      <td>NaN</td>\n",
       "      <td>0.0</td>\n",
       "      <td>1067.000000</td>\n",
       "      <td>NaN</td>\n",
       "    </tr>\n",
       "    <tr>\n",
       "      <th>25%</th>\n",
       "      <td>NaN</td>\n",
       "      <td>1050.000000</td>\n",
       "      <td>NaN</td>\n",
       "      <td>1999.000000</td>\n",
       "      <td>NaN</td>\n",
       "      <td>69.000000</td>\n",
       "      <td>NaN</td>\n",
       "      <td>125000.000000</td>\n",
       "      <td>3.000000</td>\n",
       "      <td>NaN</td>\n",
       "      <td>NaN</td>\n",
       "      <td>NaN</td>\n",
       "      <td>NaN</td>\n",
       "      <td>0.0</td>\n",
       "      <td>30165.000000</td>\n",
       "      <td>NaN</td>\n",
       "    </tr>\n",
       "    <tr>\n",
       "      <th>50%</th>\n",
       "      <td>NaN</td>\n",
       "      <td>2700.000000</td>\n",
       "      <td>NaN</td>\n",
       "      <td>2003.000000</td>\n",
       "      <td>NaN</td>\n",
       "      <td>105.000000</td>\n",
       "      <td>NaN</td>\n",
       "      <td>150000.000000</td>\n",
       "      <td>6.000000</td>\n",
       "      <td>NaN</td>\n",
       "      <td>NaN</td>\n",
       "      <td>NaN</td>\n",
       "      <td>NaN</td>\n",
       "      <td>0.0</td>\n",
       "      <td>49413.000000</td>\n",
       "      <td>NaN</td>\n",
       "    </tr>\n",
       "    <tr>\n",
       "      <th>75%</th>\n",
       "      <td>NaN</td>\n",
       "      <td>6400.000000</td>\n",
       "      <td>NaN</td>\n",
       "      <td>2008.000000</td>\n",
       "      <td>NaN</td>\n",
       "      <td>143.000000</td>\n",
       "      <td>NaN</td>\n",
       "      <td>150000.000000</td>\n",
       "      <td>9.000000</td>\n",
       "      <td>NaN</td>\n",
       "      <td>NaN</td>\n",
       "      <td>NaN</td>\n",
       "      <td>NaN</td>\n",
       "      <td>0.0</td>\n",
       "      <td>71083.000000</td>\n",
       "      <td>NaN</td>\n",
       "    </tr>\n",
       "    <tr>\n",
       "      <th>max</th>\n",
       "      <td>NaN</td>\n",
       "      <td>20000.000000</td>\n",
       "      <td>NaN</td>\n",
       "      <td>9999.000000</td>\n",
       "      <td>NaN</td>\n",
       "      <td>20000.000000</td>\n",
       "      <td>NaN</td>\n",
       "      <td>150000.000000</td>\n",
       "      <td>12.000000</td>\n",
       "      <td>NaN</td>\n",
       "      <td>NaN</td>\n",
       "      <td>NaN</td>\n",
       "      <td>NaN</td>\n",
       "      <td>0.0</td>\n",
       "      <td>99998.000000</td>\n",
       "      <td>NaN</td>\n",
       "    </tr>\n",
       "  </tbody>\n",
       "</table>\n",
       "</div>"
      ],
      "text/plain": [
       "                DateCrawled          Price VehicleType  RegistrationYear  \\\n",
       "count                354369  354369.000000      316879     354369.000000   \n",
       "unique               271174            NaN           8               NaN   \n",
       "top     2016-03-24 14:49:47            NaN       sedan               NaN   \n",
       "freq                      7            NaN       91457               NaN   \n",
       "mean                    NaN    4416.656776         NaN       2004.234448   \n",
       "std                     NaN    4514.158514         NaN         90.227958   \n",
       "min                     NaN       0.000000         NaN       1000.000000   \n",
       "25%                     NaN    1050.000000         NaN       1999.000000   \n",
       "50%                     NaN    2700.000000         NaN       2003.000000   \n",
       "75%                     NaN    6400.000000         NaN       2008.000000   \n",
       "max                     NaN   20000.000000         NaN       9999.000000   \n",
       "\n",
       "       Gearbox          Power   Model      Kilometer  RegistrationMonth  \\\n",
       "count   334536  354369.000000  334664  354369.000000      354369.000000   \n",
       "unique       2            NaN     250            NaN                NaN   \n",
       "top     manual            NaN    golf            NaN                NaN   \n",
       "freq    268251            NaN   29232            NaN                NaN   \n",
       "mean       NaN     110.094337     NaN  128211.172535           5.714645   \n",
       "std        NaN     189.850405     NaN   37905.341530           3.726421   \n",
       "min        NaN       0.000000     NaN    5000.000000           0.000000   \n",
       "25%        NaN      69.000000     NaN  125000.000000           3.000000   \n",
       "50%        NaN     105.000000     NaN  150000.000000           6.000000   \n",
       "75%        NaN     143.000000     NaN  150000.000000           9.000000   \n",
       "max        NaN   20000.000000     NaN  150000.000000          12.000000   \n",
       "\n",
       "       FuelType       Brand NotRepaired          DateCreated  \\\n",
       "count    321474      354369      283215               354369   \n",
       "unique        7          40           2                  109   \n",
       "top      petrol  volkswagen          no  2016-04-03 00:00:00   \n",
       "freq     216352       77013      247161                13719   \n",
       "mean        NaN         NaN         NaN                  NaN   \n",
       "std         NaN         NaN         NaN                  NaN   \n",
       "min         NaN         NaN         NaN                  NaN   \n",
       "25%         NaN         NaN         NaN                  NaN   \n",
       "50%         NaN         NaN         NaN                  NaN   \n",
       "75%         NaN         NaN         NaN                  NaN   \n",
       "max         NaN         NaN         NaN                  NaN   \n",
       "\n",
       "        NumberOfPictures     PostalCode             LastSeen  \n",
       "count           354369.0  354369.000000               354369  \n",
       "unique               NaN            NaN               179150  \n",
       "top                  NaN            NaN  2016-04-06 13:45:54  \n",
       "freq                 NaN            NaN                   17  \n",
       "mean                 0.0   50508.689087                  NaN  \n",
       "std                  0.0   25783.096248                  NaN  \n",
       "min                  0.0    1067.000000                  NaN  \n",
       "25%                  0.0   30165.000000                  NaN  \n",
       "50%                  0.0   49413.000000                  NaN  \n",
       "75%                  0.0   71083.000000                  NaN  \n",
       "max                  0.0   99998.000000                  NaN  "
      ]
     },
     "execution_count": 5,
     "metadata": {},
     "output_type": "execute_result"
    }
   ],
   "source": [
    "# посмотрим на статистические данные\n",
    "data.describe(include='all')"
   ]
  },
  {
   "cell_type": "code",
   "execution_count": 6,
   "metadata": {},
   "outputs": [
    {
     "name": "stdout",
     "output_type": "stream",
     "text": [
      "Количество дубликатов: 4\n"
     ]
    }
   ],
   "source": [
    "# проверим дубликаты\n",
    "print('Количество дубликатов:', sum(data.duplicated()))"
   ]
  },
  {
   "cell_type": "code",
   "execution_count": 7,
   "metadata": {},
   "outputs": [
    {
     "data": {
      "text/html": [
       "<div>\n",
       "<style scoped>\n",
       "    .dataframe tbody tr th:only-of-type {\n",
       "        vertical-align: middle;\n",
       "    }\n",
       "\n",
       "    .dataframe tbody tr th {\n",
       "        vertical-align: top;\n",
       "    }\n",
       "\n",
       "    .dataframe thead th {\n",
       "        text-align: right;\n",
       "    }\n",
       "</style>\n",
       "<table border=\"1\" class=\"dataframe\">\n",
       "  <thead>\n",
       "    <tr style=\"text-align: right;\">\n",
       "      <th></th>\n",
       "      <th>К-во пропусков</th>\n",
       "      <th>Доля пропусков, %</th>\n",
       "    </tr>\n",
       "  </thead>\n",
       "  <tbody>\n",
       "    <tr>\n",
       "      <th>DateCrawled</th>\n",
       "      <td>0</td>\n",
       "      <td>0.000000</td>\n",
       "    </tr>\n",
       "    <tr>\n",
       "      <th>Price</th>\n",
       "      <td>0</td>\n",
       "      <td>0.000000</td>\n",
       "    </tr>\n",
       "    <tr>\n",
       "      <th>RegistrationYear</th>\n",
       "      <td>0</td>\n",
       "      <td>0.000000</td>\n",
       "    </tr>\n",
       "    <tr>\n",
       "      <th>Power</th>\n",
       "      <td>0</td>\n",
       "      <td>0.000000</td>\n",
       "    </tr>\n",
       "    <tr>\n",
       "      <th>Kilometer</th>\n",
       "      <td>0</td>\n",
       "      <td>0.000000</td>\n",
       "    </tr>\n",
       "    <tr>\n",
       "      <th>RegistrationMonth</th>\n",
       "      <td>0</td>\n",
       "      <td>0.000000</td>\n",
       "    </tr>\n",
       "    <tr>\n",
       "      <th>Brand</th>\n",
       "      <td>0</td>\n",
       "      <td>0.000000</td>\n",
       "    </tr>\n",
       "    <tr>\n",
       "      <th>DateCreated</th>\n",
       "      <td>0</td>\n",
       "      <td>0.000000</td>\n",
       "    </tr>\n",
       "    <tr>\n",
       "      <th>NumberOfPictures</th>\n",
       "      <td>0</td>\n",
       "      <td>0.000000</td>\n",
       "    </tr>\n",
       "    <tr>\n",
       "      <th>PostalCode</th>\n",
       "      <td>0</td>\n",
       "      <td>0.000000</td>\n",
       "    </tr>\n",
       "    <tr>\n",
       "      <th>LastSeen</th>\n",
       "      <td>0</td>\n",
       "      <td>0.000000</td>\n",
       "    </tr>\n",
       "    <tr>\n",
       "      <th>Model</th>\n",
       "      <td>19705</td>\n",
       "      <td>5.560588</td>\n",
       "    </tr>\n",
       "    <tr>\n",
       "      <th>Gearbox</th>\n",
       "      <td>19833</td>\n",
       "      <td>5.596709</td>\n",
       "    </tr>\n",
       "    <tr>\n",
       "      <th>FuelType</th>\n",
       "      <td>32895</td>\n",
       "      <td>9.282697</td>\n",
       "    </tr>\n",
       "    <tr>\n",
       "      <th>VehicleType</th>\n",
       "      <td>37490</td>\n",
       "      <td>10.579368</td>\n",
       "    </tr>\n",
       "    <tr>\n",
       "      <th>NotRepaired</th>\n",
       "      <td>71154</td>\n",
       "      <td>20.079070</td>\n",
       "    </tr>\n",
       "  </tbody>\n",
       "</table>\n",
       "</div>"
      ],
      "text/plain": [
       "                   К-во пропусков  Доля пропусков, %\n",
       "DateCrawled                     0           0.000000\n",
       "Price                           0           0.000000\n",
       "RegistrationYear                0           0.000000\n",
       "Power                           0           0.000000\n",
       "Kilometer                       0           0.000000\n",
       "RegistrationMonth               0           0.000000\n",
       "Brand                           0           0.000000\n",
       "DateCreated                     0           0.000000\n",
       "NumberOfPictures                0           0.000000\n",
       "PostalCode                      0           0.000000\n",
       "LastSeen                        0           0.000000\n",
       "Model                       19705           5.560588\n",
       "Gearbox                     19833           5.596709\n",
       "FuelType                    32895           9.282697\n",
       "VehicleType                 37490          10.579368\n",
       "NotRepaired                 71154          20.079070"
      ]
     },
     "execution_count": 7,
     "metadata": {},
     "output_type": "execute_result"
    }
   ],
   "source": [
    "missing_data = {'К-во пропусков': data.isna().sum().sort_values(), 'Доля пропусков, %': data.isna().sum().sort_values() / len(data) * 100}\n",
    "pd.DataFrame(missing_data)\n"
   ]
  },
  {
   "cell_type": "markdown",
   "metadata": {},
   "source": [
    "В итоге имеем:\n",
    "- данные содержат 354 тыс.записей\n",
    "- наличие пропусков в данных от 5,6 до 20% в категориальных данных\n",
    "- 4 дубликата, которые удалим при обработке\n",
    "- данные в `DateCrawled` и в `DateCreated` повторяют друг друга и для оценки стоимости авто они вряд ли понадобятся, удалим их\n",
    "- признаки `NumberOfPictures`, `PostalCode`, `LastSeen` и `\tRegistrationMonth` не влияют на расчет стоимости автомобиля, их можно будет удалить\n",
    "- в данных есть нулевые значения по цене и мощности автомобиля\n",
    "- в `RegistrationYear` и в `Power` есть аномальные значения (например, 1000 год - мин. год регистрации, 9999 год, как максимальный или 20000 л.с. - макс. мощность автомобиля), нужно будет отчистить данные от явных выбросов"
   ]
  },
  {
   "cell_type": "markdown",
   "metadata": {},
   "source": [
    "### Предобработка данных"
   ]
  },
  {
   "cell_type": "code",
   "execution_count": 8,
   "metadata": {},
   "outputs": [
    {
     "name": "stdout",
     "output_type": "stream",
     "text": [
      "Количество дубликатов: 0\n"
     ]
    }
   ],
   "source": [
    "# удалим дубликаты в данных\n",
    "data = data.drop_duplicates()\n",
    "print('Количество дубликатов:', sum(data.duplicated()))"
   ]
  },
  {
   "cell_type": "code",
   "execution_count": 9,
   "metadata": {
    "scrolled": false
   },
   "outputs": [
    {
     "name": "stdout",
     "output_type": "stream",
     "text": [
      "<class 'pandas.core.frame.DataFrame'>\n",
      "Int64Index: 354365 entries, 0 to 354368\n",
      "Data columns (total 10 columns):\n",
      " #   Column            Non-Null Count   Dtype \n",
      "---  ------            --------------   ----- \n",
      " 0   Price             354365 non-null  int64 \n",
      " 1   VehicleType       316875 non-null  object\n",
      " 2   RegistrationYear  354365 non-null  int64 \n",
      " 3   Gearbox           334532 non-null  object\n",
      " 4   Power             354365 non-null  int64 \n",
      " 5   Model             334660 non-null  object\n",
      " 6   Kilometer         354365 non-null  int64 \n",
      " 7   FuelType          321470 non-null  object\n",
      " 8   Brand             354365 non-null  object\n",
      " 9   NotRepaired       283211 non-null  object\n",
      "dtypes: int64(4), object(6)\n",
      "memory usage: 29.7+ MB\n"
     ]
    }
   ],
   "source": [
    "# удалим лишние столбцы\n",
    "data = data.drop(['DateCrawled', 'NumberOfPictures', 'PostalCode', 'LastSeen', 'RegistrationMonth', 'DateCreated'], axis=1)\n",
    "data.info()\n"
   ]
  },
  {
   "cell_type": "code",
   "execution_count": 10,
   "metadata": {
    "scrolled": false
   },
   "outputs": [
    {
     "data": {
      "image/png": "[encoded data removed]",
      "text/plain": [
       "<Figure size 1440x576 with 1 Axes>"
      ]
     },
     "metadata": {
      "needs_background": "light"
     },
     "output_type": "display_data"
    }
   ],
   "source": [
    "# построим гистограмму по мощности, чтобы посмотреть на выбросы\n",
    "data[data['Power'] < 2500]['Power'].plot(kind='hist', bins=200, figsize=(20,8))\n",
    "plt.title('Распределение по мощности двигателя')\n",
    "plt.xlabel('Мощность')\n",
    "plt.ylabel('Кол-во');"
   ]
  },
  {
   "cell_type": "markdown",
   "metadata": {},
   "source": [
    "Все значения больше 500 можно считать выбросами. Есть также большое кол-во нулевых значений"
   ]
  },
  {
   "cell_type": "markdown",
   "metadata": {},
   "source": [
    "Посчитаем кол-во выбросов и нулевых значений в данных"
   ]
  },
  {
   "cell_type": "code",
   "execution_count": 11,
   "metadata": {
    "scrolled": false
   },
   "outputs": [
    {
     "name": "stdout",
     "output_type": "stream",
     "text": [
      "Количество нулевых значений по цене: 10772\n",
      "Количество нулевых значений по мощности: 40225\n",
      "Мощность более 500: 459\n",
      "Год регистрации ранее 1950: 246\n",
      "Год регистрации позже 2022: 105\n"
     ]
    }
   ],
   "source": [
    "print('Количество нулевых значений по цене:', data[data['Price'] == 0]['Price'].count())\n",
    "print('Количество нулевых значений по мощности:', data[data['Power'] == 0]['Power'].count())\n",
    "print('Мощность более 500:', data[data['Power'] > 500]['Power'].count())\n",
    "print('Год регистрации ранее 1950:', data[data['RegistrationYear'] < 1950]['RegistrationYear'].count())\n",
    "print('Год регистрации позже 2022:', data[data['RegistrationYear'] > 2022]['RegistrationYear'].count())\n"
   ]
  },
  {
   "cell_type": "code",
   "execution_count": 12,
   "metadata": {
    "scrolled": false
   },
   "outputs": [
    {
     "data": {
      "image/png": "[encoded data removed]",
      "text/plain": [
       "<Figure size 1440x576 with 1 Axes>"
      ]
     },
     "metadata": {
      "needs_background": "light"
     },
     "output_type": "display_data"
    }
   ],
   "source": [
    "# построим гистограмму по мощности, чтобы посмотреть на выбросы\n",
    "data[(data['RegistrationYear'] > 1950) & (data['RegistrationYear'] < 2022)]['RegistrationYear'].plot(kind='hist', bins=200, figsize=(20,8))\n",
    "plt.title('Распределение по году регистрации')\n",
    "plt.xlabel('Год регистрации')\n",
    "plt.ylabel('Кол-во');\n"
   ]
  },
  {
   "cell_type": "code",
   "execution_count": 13,
   "metadata": {},
   "outputs": [
    {
     "data": {
      "image/png": "[encoded data removed]",
      "text/plain": [
       "<Figure size 1440x576 with 1 Axes>"
      ]
     },
     "metadata": {
      "needs_background": "light"
     },
     "output_type": "display_data"
    }
   ],
   "source": [
    "# построим гистограмму по мощности, чтобы посмотреть на выбросы\n",
    "data[(data['RegistrationYear'] > 2015) & (data['RegistrationYear'] < 2022)]['RegistrationYear'].plot(kind='hist', bins=200, figsize=(20,8))\n",
    "plt.title('Распределение по году регистрации')\n",
    "plt.xlabel('Год регистрации')\n",
    "plt.ylabel('Кол-во');"
   ]
  },
  {
   "cell_type": "code",
   "execution_count": 14,
   "metadata": {},
   "outputs": [
    {
     "data": {
      "image/png": "[encoded data removed]",
      "text/plain": [
       "<Figure size 432x288 with 1 Axes>"
      ]
     },
     "metadata": {
      "needs_background": "light"
     },
     "output_type": "display_data"
    }
   ],
   "source": [
    "sns.boxplot(data=data[(data['RegistrationYear'] > 1980) & \n",
    "                      (data['RegistrationYear'] < 2022)]['RegistrationYear']);\n"
   ]
  },
  {
   "cell_type": "markdown",
   "metadata": {},
   "source": [
    "удалим выбросы и строки с нулевыми значениями по цене"
   ]
  },
  {
   "cell_type": "code",
   "execution_count": 15,
   "metadata": {},
   "outputs": [],
   "source": [
    "# удалим записи с нулевой ценой\n",
    "data = data.loc[data['Price'] != 0]"
   ]
  },
  {
   "cell_type": "code",
   "execution_count": 16,
   "metadata": {},
   "outputs": [],
   "source": [
    "# исключим записи с отсутствием модели\n",
    "data = data.loc[~data['Model'].isna()]"
   ]
  },
  {
   "cell_type": "code",
   "execution_count": 17,
   "metadata": {},
   "outputs": [],
   "source": [
    "# удалим выбросы по дате регистрации\n",
    "data = data.query('RegistrationYear < 2016 and RegistrationYear >= 1950')"
   ]
  },
  {
   "cell_type": "code",
   "execution_count": 18,
   "metadata": {},
   "outputs": [],
   "source": [
    "# заполним пропуски по наличию ремонта авто значением - unknown\n",
    "data['NotRepaired'] = data['NotRepaired'].fillna('unknown')"
   ]
  },
  {
   "cell_type": "code",
   "execution_count": 19,
   "metadata": {},
   "outputs": [],
   "source": [
    "# для мощности проведем следующую обработку пропусков и аномальных значений:\n",
    "# для выбросов устанавливаем отсутствующие значения None\n",
    "data.loc[(data['Power'] > 1000) | (data['Power'] <= 0), 'Power'] = None\n",
    "# заполняем пропуски средним значением из соответствующих моделей авто\n",
    "data['Power'] = data['Power'].fillna(data.groupby('Model')['Power'].transform('median'))\n",
    "# исключаем пропущенные значения, где не удолось посчитать мощность\n",
    "data = data.loc[~data['Power'].isna()]\n",
    "# меняем тип данных на целочисленный\n",
    "data['Power'] = data['Power'].astype('int64')"
   ]
  },
  {
   "cell_type": "code",
   "execution_count": 20,
   "metadata": {},
   "outputs": [],
   "source": [
    "# создадим список из столбцов для дальнейшей обработки пропусков\n",
    "list_col = ['VehicleType','Gearbox', 'FuelType']"
   ]
  },
  {
   "cell_type": "code",
   "execution_count": 21,
   "metadata": {},
   "outputs": [],
   "source": [
    "# с помощью цикла заполним пропуски наиболее частыми значениями по идентичным моделям авто\n",
    "for col in list_col:\n",
    "    data[col] = data[col].fillna(data.groupby('Model')['VehicleType']\n",
    "                            .transform(lambda x: x.value_counts().idxmax()))"
   ]
  },
  {
   "cell_type": "code",
   "execution_count": 22,
   "metadata": {},
   "outputs": [
    {
     "name": "stdout",
     "output_type": "stream",
     "text": [
      "<class 'pandas.core.frame.DataFrame'>\n",
      "Int64Index: 306291 entries, 0 to 354368\n",
      "Data columns (total 10 columns):\n",
      " #   Column            Non-Null Count   Dtype \n",
      "---  ------            --------------   ----- \n",
      " 0   Price             306291 non-null  int64 \n",
      " 1   VehicleType       306291 non-null  object\n",
      " 2   RegistrationYear  306291 non-null  int64 \n",
      " 3   Gearbox           306291 non-null  object\n",
      " 4   Power             306291 non-null  int64 \n",
      " 5   Model             306291 non-null  object\n",
      " 6   Kilometer         306291 non-null  int64 \n",
      " 7   FuelType          306291 non-null  object\n",
      " 8   Brand             306291 non-null  object\n",
      " 9   NotRepaired       306291 non-null  object\n",
      "dtypes: int64(4), object(6)\n",
      "memory usage: 25.7+ MB\n"
     ]
    }
   ],
   "source": [
    "data.info()"
   ]
  },
  {
   "cell_type": "code",
   "execution_count": 23,
   "metadata": {},
   "outputs": [
    {
     "data": {
      "text/html": [
       "<div>\n",
       "<style scoped>\n",
       "    .dataframe tbody tr th:only-of-type {\n",
       "        vertical-align: middle;\n",
       "    }\n",
       "\n",
       "    .dataframe tbody tr th {\n",
       "        vertical-align: top;\n",
       "    }\n",
       "\n",
       "    .dataframe thead th {\n",
       "        text-align: right;\n",
       "    }\n",
       "</style>\n",
       "<table border=\"1\" class=\"dataframe\">\n",
       "  <thead>\n",
       "    <tr style=\"text-align: right;\">\n",
       "      <th></th>\n",
       "      <th>Price</th>\n",
       "      <th>VehicleType</th>\n",
       "      <th>RegistrationYear</th>\n",
       "      <th>Gearbox</th>\n",
       "      <th>Power</th>\n",
       "      <th>Model</th>\n",
       "      <th>Kilometer</th>\n",
       "      <th>FuelType</th>\n",
       "      <th>Brand</th>\n",
       "      <th>NotRepaired</th>\n",
       "    </tr>\n",
       "  </thead>\n",
       "  <tbody>\n",
       "    <tr>\n",
       "      <th>0</th>\n",
       "      <td>480</td>\n",
       "      <td>sedan</td>\n",
       "      <td>1993</td>\n",
       "      <td>manual</td>\n",
       "      <td>101</td>\n",
       "      <td>golf</td>\n",
       "      <td>150000</td>\n",
       "      <td>petrol</td>\n",
       "      <td>volkswagen</td>\n",
       "      <td>unknown</td>\n",
       "    </tr>\n",
       "    <tr>\n",
       "      <th>2</th>\n",
       "      <td>9800</td>\n",
       "      <td>suv</td>\n",
       "      <td>2004</td>\n",
       "      <td>auto</td>\n",
       "      <td>163</td>\n",
       "      <td>grand</td>\n",
       "      <td>125000</td>\n",
       "      <td>gasoline</td>\n",
       "      <td>jeep</td>\n",
       "      <td>unknown</td>\n",
       "    </tr>\n",
       "    <tr>\n",
       "      <th>3</th>\n",
       "      <td>1500</td>\n",
       "      <td>small</td>\n",
       "      <td>2001</td>\n",
       "      <td>manual</td>\n",
       "      <td>75</td>\n",
       "      <td>golf</td>\n",
       "      <td>150000</td>\n",
       "      <td>petrol</td>\n",
       "      <td>volkswagen</td>\n",
       "      <td>no</td>\n",
       "    </tr>\n",
       "    <tr>\n",
       "      <th>4</th>\n",
       "      <td>3600</td>\n",
       "      <td>small</td>\n",
       "      <td>2008</td>\n",
       "      <td>manual</td>\n",
       "      <td>69</td>\n",
       "      <td>fabia</td>\n",
       "      <td>90000</td>\n",
       "      <td>gasoline</td>\n",
       "      <td>skoda</td>\n",
       "      <td>no</td>\n",
       "    </tr>\n",
       "    <tr>\n",
       "      <th>5</th>\n",
       "      <td>650</td>\n",
       "      <td>sedan</td>\n",
       "      <td>1995</td>\n",
       "      <td>manual</td>\n",
       "      <td>102</td>\n",
       "      <td>3er</td>\n",
       "      <td>150000</td>\n",
       "      <td>petrol</td>\n",
       "      <td>bmw</td>\n",
       "      <td>yes</td>\n",
       "    </tr>\n",
       "    <tr>\n",
       "      <th>6</th>\n",
       "      <td>2200</td>\n",
       "      <td>convertible</td>\n",
       "      <td>2004</td>\n",
       "      <td>manual</td>\n",
       "      <td>109</td>\n",
       "      <td>2_reihe</td>\n",
       "      <td>150000</td>\n",
       "      <td>petrol</td>\n",
       "      <td>peugeot</td>\n",
       "      <td>no</td>\n",
       "    </tr>\n",
       "    <tr>\n",
       "      <th>8</th>\n",
       "      <td>14500</td>\n",
       "      <td>bus</td>\n",
       "      <td>2014</td>\n",
       "      <td>manual</td>\n",
       "      <td>125</td>\n",
       "      <td>c_max</td>\n",
       "      <td>30000</td>\n",
       "      <td>petrol</td>\n",
       "      <td>ford</td>\n",
       "      <td>unknown</td>\n",
       "    </tr>\n",
       "    <tr>\n",
       "      <th>9</th>\n",
       "      <td>999</td>\n",
       "      <td>small</td>\n",
       "      <td>1998</td>\n",
       "      <td>manual</td>\n",
       "      <td>101</td>\n",
       "      <td>golf</td>\n",
       "      <td>150000</td>\n",
       "      <td>sedan</td>\n",
       "      <td>volkswagen</td>\n",
       "      <td>unknown</td>\n",
       "    </tr>\n",
       "    <tr>\n",
       "      <th>10</th>\n",
       "      <td>2000</td>\n",
       "      <td>sedan</td>\n",
       "      <td>2004</td>\n",
       "      <td>manual</td>\n",
       "      <td>105</td>\n",
       "      <td>3_reihe</td>\n",
       "      <td>150000</td>\n",
       "      <td>petrol</td>\n",
       "      <td>mazda</td>\n",
       "      <td>no</td>\n",
       "    </tr>\n",
       "    <tr>\n",
       "      <th>11</th>\n",
       "      <td>2799</td>\n",
       "      <td>wagon</td>\n",
       "      <td>2005</td>\n",
       "      <td>manual</td>\n",
       "      <td>140</td>\n",
       "      <td>passat</td>\n",
       "      <td>150000</td>\n",
       "      <td>gasoline</td>\n",
       "      <td>volkswagen</td>\n",
       "      <td>yes</td>\n",
       "    </tr>\n",
       "  </tbody>\n",
       "</table>\n",
       "</div>"
      ],
      "text/plain": [
       "    Price  VehicleType  RegistrationYear Gearbox  Power    Model  Kilometer  \\\n",
       "0     480        sedan              1993  manual    101     golf     150000   \n",
       "2    9800          suv              2004    auto    163    grand     125000   \n",
       "3    1500        small              2001  manual     75     golf     150000   \n",
       "4    3600        small              2008  manual     69    fabia      90000   \n",
       "5     650        sedan              1995  manual    102      3er     150000   \n",
       "6    2200  convertible              2004  manual    109  2_reihe     150000   \n",
       "8   14500          bus              2014  manual    125    c_max      30000   \n",
       "9     999        small              1998  manual    101     golf     150000   \n",
       "10   2000        sedan              2004  manual    105  3_reihe     150000   \n",
       "11   2799        wagon              2005  manual    140   passat     150000   \n",
       "\n",
       "    FuelType       Brand NotRepaired  \n",
       "0     petrol  volkswagen     unknown  \n",
       "2   gasoline        jeep     unknown  \n",
       "3     petrol  volkswagen          no  \n",
       "4   gasoline       skoda          no  \n",
       "5     petrol         bmw         yes  \n",
       "6     petrol     peugeot          no  \n",
       "8     petrol        ford     unknown  \n",
       "9      sedan  volkswagen     unknown  \n",
       "10    petrol       mazda          no  \n",
       "11  gasoline  volkswagen         yes  "
      ]
     },
     "execution_count": 23,
     "metadata": {},
     "output_type": "execute_result"
    }
   ],
   "source": [
    "data.head(10)"
   ]
  },
  {
   "cell_type": "markdown",
   "metadata": {},
   "source": [
    "**Выводы:**\n",
    "\n",
    "в результате предобработки данных (с пропусками до 20%) удалось обработать и отсечь только 8% данных (включая 3% - объявления с нулевой ценой и 5% - объявления без указания модели авто, что непосредственно оказывает влияние на расчет цены), остальные выбросы и пропуски значений были обработаны без потери данных."
   ]
  },
  {
   "cell_type": "markdown",
   "metadata": {},
   "source": [
    "## Обучение моделей"
   ]
  },
  {
   "cell_type": "markdown",
   "metadata": {},
   "source": [
    "### Кодирование данных"
   ]
  },
  {
   "cell_type": "markdown",
   "metadata": {},
   "source": [
    "Данные подготовим методом OHE (прямой метод, который позволит все признаки сделать количественными), это позволит нам использовать модель линейной регрессии"
   ]
  },
  {
   "cell_type": "code",
   "execution_count": 24,
   "metadata": {},
   "outputs": [
    {
     "data": {
      "text/html": [
       "<div>\n",
       "<style scoped>\n",
       "    .dataframe tbody tr th:only-of-type {\n",
       "        vertical-align: middle;\n",
       "    }\n",
       "\n",
       "    .dataframe tbody tr th {\n",
       "        vertical-align: top;\n",
       "    }\n",
       "\n",
       "    .dataframe thead th {\n",
       "        text-align: right;\n",
       "    }\n",
       "</style>\n",
       "<table border=\"1\" class=\"dataframe\">\n",
       "  <thead>\n",
       "    <tr style=\"text-align: right;\">\n",
       "      <th></th>\n",
       "      <th>Price</th>\n",
       "      <th>RegistrationYear</th>\n",
       "      <th>Power</th>\n",
       "      <th>Kilometer</th>\n",
       "      <th>VehicleType_convertible</th>\n",
       "      <th>VehicleType_coupe</th>\n",
       "      <th>VehicleType_other</th>\n",
       "      <th>VehicleType_sedan</th>\n",
       "      <th>VehicleType_small</th>\n",
       "      <th>VehicleType_suv</th>\n",
       "      <th>...</th>\n",
       "      <th>Brand_skoda</th>\n",
       "      <th>Brand_smart</th>\n",
       "      <th>Brand_subaru</th>\n",
       "      <th>Brand_suzuki</th>\n",
       "      <th>Brand_toyota</th>\n",
       "      <th>Brand_trabant</th>\n",
       "      <th>Brand_volkswagen</th>\n",
       "      <th>Brand_volvo</th>\n",
       "      <th>NotRepaired_unknown</th>\n",
       "      <th>NotRepaired_yes</th>\n",
       "    </tr>\n",
       "  </thead>\n",
       "  <tbody>\n",
       "    <tr>\n",
       "      <th>0</th>\n",
       "      <td>480</td>\n",
       "      <td>1993</td>\n",
       "      <td>101</td>\n",
       "      <td>150000</td>\n",
       "      <td>0</td>\n",
       "      <td>0</td>\n",
       "      <td>0</td>\n",
       "      <td>1</td>\n",
       "      <td>0</td>\n",
       "      <td>0</td>\n",
       "      <td>...</td>\n",
       "      <td>0</td>\n",
       "      <td>0</td>\n",
       "      <td>0</td>\n",
       "      <td>0</td>\n",
       "      <td>0</td>\n",
       "      <td>0</td>\n",
       "      <td>1</td>\n",
       "      <td>0</td>\n",
       "      <td>1</td>\n",
       "      <td>0</td>\n",
       "    </tr>\n",
       "    <tr>\n",
       "      <th>2</th>\n",
       "      <td>9800</td>\n",
       "      <td>2004</td>\n",
       "      <td>163</td>\n",
       "      <td>125000</td>\n",
       "      <td>0</td>\n",
       "      <td>0</td>\n",
       "      <td>0</td>\n",
       "      <td>0</td>\n",
       "      <td>0</td>\n",
       "      <td>1</td>\n",
       "      <td>...</td>\n",
       "      <td>0</td>\n",
       "      <td>0</td>\n",
       "      <td>0</td>\n",
       "      <td>0</td>\n",
       "      <td>0</td>\n",
       "      <td>0</td>\n",
       "      <td>0</td>\n",
       "      <td>0</td>\n",
       "      <td>1</td>\n",
       "      <td>0</td>\n",
       "    </tr>\n",
       "    <tr>\n",
       "      <th>3</th>\n",
       "      <td>1500</td>\n",
       "      <td>2001</td>\n",
       "      <td>75</td>\n",
       "      <td>150000</td>\n",
       "      <td>0</td>\n",
       "      <td>0</td>\n",
       "      <td>0</td>\n",
       "      <td>0</td>\n",
       "      <td>1</td>\n",
       "      <td>0</td>\n",
       "      <td>...</td>\n",
       "      <td>0</td>\n",
       "      <td>0</td>\n",
       "      <td>0</td>\n",
       "      <td>0</td>\n",
       "      <td>0</td>\n",
       "      <td>0</td>\n",
       "      <td>1</td>\n",
       "      <td>0</td>\n",
       "      <td>0</td>\n",
       "      <td>0</td>\n",
       "    </tr>\n",
       "    <tr>\n",
       "      <th>4</th>\n",
       "      <td>3600</td>\n",
       "      <td>2008</td>\n",
       "      <td>69</td>\n",
       "      <td>90000</td>\n",
       "      <td>0</td>\n",
       "      <td>0</td>\n",
       "      <td>0</td>\n",
       "      <td>0</td>\n",
       "      <td>1</td>\n",
       "      <td>0</td>\n",
       "      <td>...</td>\n",
       "      <td>1</td>\n",
       "      <td>0</td>\n",
       "      <td>0</td>\n",
       "      <td>0</td>\n",
       "      <td>0</td>\n",
       "      <td>0</td>\n",
       "      <td>0</td>\n",
       "      <td>0</td>\n",
       "      <td>0</td>\n",
       "      <td>0</td>\n",
       "    </tr>\n",
       "    <tr>\n",
       "      <th>5</th>\n",
       "      <td>650</td>\n",
       "      <td>1995</td>\n",
       "      <td>102</td>\n",
       "      <td>150000</td>\n",
       "      <td>0</td>\n",
       "      <td>0</td>\n",
       "      <td>0</td>\n",
       "      <td>1</td>\n",
       "      <td>0</td>\n",
       "      <td>0</td>\n",
       "      <td>...</td>\n",
       "      <td>0</td>\n",
       "      <td>0</td>\n",
       "      <td>0</td>\n",
       "      <td>0</td>\n",
       "      <td>0</td>\n",
       "      <td>0</td>\n",
       "      <td>0</td>\n",
       "      <td>0</td>\n",
       "      <td>0</td>\n",
       "      <td>1</td>\n",
       "    </tr>\n",
       "  </tbody>\n",
       "</table>\n",
       "<p>5 rows × 320 columns</p>\n",
       "</div>"
      ],
      "text/plain": [
       "   Price  RegistrationYear  Power  Kilometer  VehicleType_convertible  \\\n",
       "0    480              1993    101     150000                        0   \n",
       "2   9800              2004    163     125000                        0   \n",
       "3   1500              2001     75     150000                        0   \n",
       "4   3600              2008     69      90000                        0   \n",
       "5    650              1995    102     150000                        0   \n",
       "\n",
       "   VehicleType_coupe  VehicleType_other  VehicleType_sedan  VehicleType_small  \\\n",
       "0                  0                  0                  1                  0   \n",
       "2                  0                  0                  0                  0   \n",
       "3                  0                  0                  0                  1   \n",
       "4                  0                  0                  0                  1   \n",
       "5                  0                  0                  1                  0   \n",
       "\n",
       "   VehicleType_suv  ...  Brand_skoda  Brand_smart  Brand_subaru  Brand_suzuki  \\\n",
       "0                0  ...            0            0             0             0   \n",
       "2                1  ...            0            0             0             0   \n",
       "3                0  ...            0            0             0             0   \n",
       "4                0  ...            1            0             0             0   \n",
       "5                0  ...            0            0             0             0   \n",
       "\n",
       "   Brand_toyota  Brand_trabant  Brand_volkswagen  Brand_volvo  \\\n",
       "0             0              0                 1            0   \n",
       "2             0              0                 0            0   \n",
       "3             0              0                 1            0   \n",
       "4             0              0                 0            0   \n",
       "5             0              0                 0            0   \n",
       "\n",
       "   NotRepaired_unknown  NotRepaired_yes  \n",
       "0                    1                0  \n",
       "2                    1                0  \n",
       "3                    0                0  \n",
       "4                    0                0  \n",
       "5                    0                1  \n",
       "\n",
       "[5 rows x 320 columns]"
      ]
     },
     "execution_count": 24,
     "metadata": {},
     "output_type": "execute_result"
    }
   ],
   "source": [
    "data_ohe = pd.get_dummies(data, drop_first=True)\n",
    "data_ohe.head()"
   ]
  },
  {
   "cell_type": "code",
   "execution_count": 25,
   "metadata": {},
   "outputs": [
    {
     "data": {
      "text/plain": [
       "(306291, 320)"
      ]
     },
     "execution_count": 25,
     "metadata": {},
     "output_type": "execute_result"
    }
   ],
   "source": [
    "# посмотрим размер данных\n",
    "data_ohe.shape"
   ]
  },
  {
   "cell_type": "code",
   "execution_count": 26,
   "metadata": {},
   "outputs": [],
   "source": [
    "# выделим в отдельный лист категориальные признаки\n",
    "categorical_list = ['VehicleType', 'Gearbox', 'Model', 'FuelType', 'Brand', 'NotRepaired']"
   ]
  },
  {
   "cell_type": "code",
   "execution_count": 27,
   "metadata": {
    "scrolled": true
   },
   "outputs": [
    {
     "name": "stdout",
     "output_type": "stream",
     "text": [
      "<class 'pandas.core.frame.DataFrame'>\n",
      "Int64Index: 306291 entries, 0 to 354368\n",
      "Data columns (total 10 columns):\n",
      " #   Column            Non-Null Count   Dtype   \n",
      "---  ------            --------------   -----   \n",
      " 0   Price             306291 non-null  int64   \n",
      " 1   VehicleType       306291 non-null  category\n",
      " 2   RegistrationYear  306291 non-null  int64   \n",
      " 3   Gearbox           306291 non-null  category\n",
      " 4   Power             306291 non-null  int64   \n",
      " 5   Model             306291 non-null  category\n",
      " 6   Kilometer         306291 non-null  int64   \n",
      " 7   FuelType          306291 non-null  category\n",
      " 8   Brand             306291 non-null  category\n",
      " 9   NotRepaired       306291 non-null  category\n",
      "dtypes: category(6), int64(4)\n",
      "memory usage: 13.7 MB\n"
     ]
    }
   ],
   "source": [
    "# изменим тип данных с object на category\n",
    "for col in categorical_list:\n",
    "    data[col] = data[col].astype('category')\n",
    "data.info()"
   ]
  },
  {
   "cell_type": "markdown",
   "metadata": {},
   "source": [
    "**Вывод:** для возможности использования модели линейной регрессии применили метод Ohe, перекодировав категориальные признаки."
   ]
  },
  {
   "cell_type": "markdown",
   "metadata": {},
   "source": [
    "### Создание выборок"
   ]
  },
  {
   "cell_type": "code",
   "execution_count": 28,
   "metadata": {},
   "outputs": [],
   "source": [
    "# создадим признаки для обучения модели линейной регрессии\n",
    "features = data_ohe.drop(['Price'], axis = 1)\n",
    "target = data_ohe['Price']"
   ]
  },
  {
   "cell_type": "code",
   "execution_count": 29,
   "metadata": {},
   "outputs": [],
   "source": [
    "# разделим выборки на обучающую и тестовую для остальных моделей\n",
    "features_train, features_test, target_train, target_test = train_test_split(\n",
    "    features, target, test_size=.25, random_state=12345)\n"
   ]
  },
  {
   "cell_type": "code",
   "execution_count": 30,
   "metadata": {},
   "outputs": [],
   "source": [
    "# масштабируем выборки\n",
    "scaler = StandardScaler()\n",
    "scaler.fit_transform(features_train)\n",
    "features_train = scaler.transform(features_train)\n",
    "features_test = scaler.transform(features_test)"
   ]
  },
  {
   "cell_type": "markdown",
   "metadata": {},
   "source": [
    "По условию задания качество моделей будем определять метрикой RMSE. \n",
    "<br> Запишем функцию для расчета rmse."
   ]
  },
  {
   "cell_type": "code",
   "execution_count": 31,
   "metadata": {},
   "outputs": [],
   "source": [
    "def rmse (target, predictions):\n",
    "    rmse =  mean_squared_error(target, predictions, squared= False)\n",
    "    return rmse"
   ]
  },
  {
   "cell_type": "markdown",
   "metadata": {},
   "source": [
    "**Вывод:** выборки подготовлены для обучения моделей"
   ]
  },
  {
   "cell_type": "markdown",
   "metadata": {},
   "source": [
    "### Обучение моделей"
   ]
  },
  {
   "cell_type": "markdown",
   "metadata": {},
   "source": [
    "#### Константная модель"
   ]
  },
  {
   "cell_type": "code",
   "execution_count": 32,
   "metadata": {},
   "outputs": [
    {
     "name": "stdout",
     "output_type": "stream",
     "text": [
      "RMSE для константной модели: 4576.33\n"
     ]
    }
   ],
   "source": [
    "constant_model = DummyRegressor(strategy='mean')\n",
    "constant_model.fit(features_train,target_train)\n",
    "constant_pred = constant_model.predict(features_test)\n",
    "print('RMSE для константной модели:', rmse(target_test,constant_pred).round(2))"
   ]
  },
  {
   "cell_type": "markdown",
   "metadata": {},
   "source": [
    "#### LinearRegression"
   ]
  },
  {
   "cell_type": "code",
   "execution_count": 33,
   "metadata": {},
   "outputs": [],
   "source": [
    "model_lr = LinearRegression()"
   ]
  },
  {
   "cell_type": "code",
   "execution_count": 34,
   "metadata": {},
   "outputs": [
    {
     "name": "stdout",
     "output_type": "stream",
     "text": [
      "CPU times: user 18.3 s, sys: 7.6 s, total: 25.9 s\n",
      "Wall time: 27.3 s\n"
     ]
    },
    {
     "data": {
      "text/plain": [
       "LinearRegression()"
      ]
     },
     "execution_count": 34,
     "metadata": {},
     "output_type": "execute_result"
    }
   ],
   "source": [
    "%%time\n",
    "model_lr.fit(features_train, target_train)"
   ]
  },
  {
   "cell_type": "code",
   "execution_count": 35,
   "metadata": {},
   "outputs": [
    {
     "name": "stdout",
     "output_type": "stream",
     "text": [
      "CPU times: user 55.5 ms, sys: 39 ms, total: 94.5 ms\n",
      "Wall time: 95.3 ms\n"
     ]
    }
   ],
   "source": [
    "%%time\n",
    "predicted_lr = pd.Series(model_lr.predict(features_test))"
   ]
  },
  {
   "cell_type": "code",
   "execution_count": 36,
   "metadata": {},
   "outputs": [
    {
     "name": "stdout",
     "output_type": "stream",
     "text": [
      "RMSE - LinearRegression: 2575.45\n"
     ]
    }
   ],
   "source": [
    "print('RMSE - LinearRegression:', rmse(target_test, predicted_lr).round(2))"
   ]
  },
  {
   "cell_type": "markdown",
   "metadata": {},
   "source": [
    "#### CatBoostRegressor"
   ]
  },
  {
   "cell_type": "code",
   "execution_count": 37,
   "metadata": {},
   "outputs": [],
   "source": [
    "model_cbr = CatBoostRegressor(loss_function='RMSE', \n",
    "                              iterations=100, \n",
    "                              learning_rate=0.2, \n",
    "                              thread_count=-1, \n",
    "                              random_state=18, \n",
    "                              max_depth=10, \n",
    "                              l2_leaf_reg=3.5\n",
    "                              )"
   ]
  },
  {
   "cell_type": "code",
   "execution_count": 38,
   "metadata": {},
   "outputs": [
    {
     "name": "stdout",
     "output_type": "stream",
     "text": [
      "0:\tlearn: 3919.6731600\ttotal: 119ms\tremaining: 11.8s\n",
      "1:\tlearn: 3414.1948761\ttotal: 184ms\tremaining: 9.02s\n",
      "2:\tlearn: 3035.8938979\ttotal: 245ms\tremaining: 7.92s\n",
      "3:\tlearn: 2748.2977129\ttotal: 306ms\tremaining: 7.34s\n",
      "4:\tlearn: 2538.5595134\ttotal: 371ms\tremaining: 7.04s\n",
      "5:\tlearn: 2374.9484760\ttotal: 434ms\tremaining: 6.79s\n",
      "6:\tlearn: 2239.5396233\ttotal: 497ms\tremaining: 6.6s\n",
      "7:\tlearn: 2147.7151994\ttotal: 561ms\tremaining: 6.45s\n",
      "8:\tlearn: 2070.2587662\ttotal: 622ms\tremaining: 6.29s\n",
      "9:\tlearn: 2016.0361680\ttotal: 687ms\tremaining: 6.18s\n",
      "10:\tlearn: 1970.4773898\ttotal: 750ms\tremaining: 6.07s\n",
      "11:\tlearn: 1929.1597056\ttotal: 814ms\tremaining: 5.96s\n",
      "12:\tlearn: 1900.1048477\ttotal: 880ms\tremaining: 5.89s\n",
      "13:\tlearn: 1875.5751597\ttotal: 944ms\tremaining: 5.8s\n",
      "14:\tlearn: 1856.7066443\ttotal: 1.01s\tremaining: 5.71s\n",
      "15:\tlearn: 1840.2218563\ttotal: 1.07s\tremaining: 5.64s\n",
      "16:\tlearn: 1825.8393179\ttotal: 1.15s\tremaining: 5.61s\n",
      "17:\tlearn: 1813.5227566\ttotal: 1.21s\tremaining: 5.53s\n",
      "18:\tlearn: 1800.4882925\ttotal: 1.28s\tremaining: 5.45s\n",
      "19:\tlearn: 1790.7476102\ttotal: 1.34s\tremaining: 5.36s\n",
      "20:\tlearn: 1782.6495640\ttotal: 1.4s\tremaining: 5.29s\n",
      "21:\tlearn: 1775.3371194\ttotal: 1.47s\tremaining: 5.22s\n",
      "22:\tlearn: 1768.0050528\ttotal: 1.54s\tremaining: 5.15s\n",
      "23:\tlearn: 1761.3212355\ttotal: 1.6s\tremaining: 5.07s\n",
      "24:\tlearn: 1755.3386929\ttotal: 1.67s\tremaining: 5.01s\n",
      "25:\tlearn: 1750.8828061\ttotal: 1.74s\tremaining: 4.94s\n",
      "26:\tlearn: 1743.7281573\ttotal: 1.8s\tremaining: 4.87s\n",
      "27:\tlearn: 1738.9995875\ttotal: 1.87s\tremaining: 4.81s\n",
      "28:\tlearn: 1735.1709053\ttotal: 1.94s\tremaining: 4.75s\n",
      "29:\tlearn: 1730.3193686\ttotal: 2.01s\tremaining: 4.68s\n",
      "30:\tlearn: 1725.9493620\ttotal: 2.07s\tremaining: 4.62s\n",
      "31:\tlearn: 1721.4779599\ttotal: 2.15s\tremaining: 4.56s\n",
      "32:\tlearn: 1716.9354328\ttotal: 2.21s\tremaining: 4.48s\n",
      "33:\tlearn: 1714.0022396\ttotal: 2.27s\tremaining: 4.41s\n",
      "34:\tlearn: 1711.5002101\ttotal: 2.34s\tremaining: 4.35s\n",
      "35:\tlearn: 1708.8451649\ttotal: 2.41s\tremaining: 4.29s\n",
      "36:\tlearn: 1705.1849328\ttotal: 2.48s\tremaining: 4.22s\n",
      "37:\tlearn: 1702.3979494\ttotal: 2.55s\tremaining: 4.16s\n",
      "38:\tlearn: 1698.6575019\ttotal: 2.62s\tremaining: 4.09s\n",
      "39:\tlearn: 1695.1930413\ttotal: 2.68s\tremaining: 4.03s\n",
      "40:\tlearn: 1691.8816560\ttotal: 2.76s\tremaining: 3.97s\n",
      "41:\tlearn: 1688.0329405\ttotal: 2.83s\tremaining: 3.9s\n",
      "42:\tlearn: 1685.6594207\ttotal: 2.89s\tremaining: 3.83s\n",
      "43:\tlearn: 1683.3186229\ttotal: 2.96s\tremaining: 3.77s\n",
      "44:\tlearn: 1680.4683053\ttotal: 3.03s\tremaining: 3.7s\n",
      "45:\tlearn: 1674.9536888\ttotal: 3.09s\tremaining: 3.63s\n",
      "46:\tlearn: 1672.7178975\ttotal: 3.16s\tremaining: 3.56s\n",
      "47:\tlearn: 1669.2001391\ttotal: 3.22s\tremaining: 3.49s\n",
      "48:\tlearn: 1666.2424014\ttotal: 3.29s\tremaining: 3.42s\n",
      "49:\tlearn: 1663.3551157\ttotal: 3.35s\tremaining: 3.35s\n",
      "50:\tlearn: 1661.1687755\ttotal: 3.42s\tremaining: 3.29s\n",
      "51:\tlearn: 1659.4767299\ttotal: 3.49s\tremaining: 3.22s\n",
      "52:\tlearn: 1656.9835342\ttotal: 3.56s\tremaining: 3.16s\n",
      "53:\tlearn: 1654.5800947\ttotal: 3.63s\tremaining: 3.09s\n",
      "54:\tlearn: 1652.2761439\ttotal: 3.69s\tremaining: 3.02s\n",
      "55:\tlearn: 1650.1873738\ttotal: 3.76s\tremaining: 2.96s\n",
      "56:\tlearn: 1647.2199482\ttotal: 3.83s\tremaining: 2.89s\n",
      "57:\tlearn: 1645.3867259\ttotal: 3.9s\tremaining: 2.83s\n",
      "58:\tlearn: 1642.4887314\ttotal: 3.97s\tremaining: 2.76s\n",
      "59:\tlearn: 1640.3122526\ttotal: 4.04s\tremaining: 2.69s\n",
      "60:\tlearn: 1639.1502662\ttotal: 4.12s\tremaining: 2.63s\n",
      "61:\tlearn: 1636.7050126\ttotal: 4.18s\tremaining: 2.56s\n",
      "62:\tlearn: 1634.8042539\ttotal: 4.25s\tremaining: 2.5s\n",
      "63:\tlearn: 1632.8403810\ttotal: 4.32s\tremaining: 2.43s\n",
      "64:\tlearn: 1630.5378710\ttotal: 4.38s\tremaining: 2.36s\n",
      "65:\tlearn: 1629.0183994\ttotal: 4.46s\tremaining: 2.29s\n",
      "66:\tlearn: 1626.8994413\ttotal: 4.52s\tremaining: 2.23s\n",
      "67:\tlearn: 1624.0852967\ttotal: 4.59s\tremaining: 2.16s\n",
      "68:\tlearn: 1622.8295860\ttotal: 4.66s\tremaining: 2.09s\n",
      "69:\tlearn: 1620.4748630\ttotal: 4.73s\tremaining: 2.03s\n",
      "70:\tlearn: 1619.1300813\ttotal: 4.8s\tremaining: 1.96s\n",
      "71:\tlearn: 1617.5670088\ttotal: 4.87s\tremaining: 1.89s\n",
      "72:\tlearn: 1615.0477588\ttotal: 4.93s\tremaining: 1.82s\n",
      "73:\tlearn: 1613.3344099\ttotal: 5s\tremaining: 1.76s\n",
      "74:\tlearn: 1612.0917965\ttotal: 5.07s\tremaining: 1.69s\n",
      "75:\tlearn: 1610.3557132\ttotal: 5.14s\tremaining: 1.62s\n",
      "76:\tlearn: 1609.1117284\ttotal: 5.21s\tremaining: 1.55s\n",
      "77:\tlearn: 1606.9596675\ttotal: 5.27s\tremaining: 1.49s\n",
      "78:\tlearn: 1605.0691450\ttotal: 5.34s\tremaining: 1.42s\n",
      "79:\tlearn: 1603.3067886\ttotal: 5.41s\tremaining: 1.35s\n",
      "80:\tlearn: 1601.4759447\ttotal: 5.47s\tremaining: 1.28s\n",
      "81:\tlearn: 1599.7505638\ttotal: 5.54s\tremaining: 1.22s\n",
      "82:\tlearn: 1597.9673621\ttotal: 5.62s\tremaining: 1.15s\n",
      "83:\tlearn: 1596.4547328\ttotal: 5.68s\tremaining: 1.08s\n",
      "84:\tlearn: 1594.8254427\ttotal: 5.75s\tremaining: 1.01s\n",
      "85:\tlearn: 1593.3468750\ttotal: 5.82s\tremaining: 948ms\n",
      "86:\tlearn: 1591.9842443\ttotal: 5.89s\tremaining: 880ms\n",
      "87:\tlearn: 1590.0824916\ttotal: 5.96s\tremaining: 812ms\n",
      "88:\tlearn: 1588.8991737\ttotal: 6.03s\tremaining: 745ms\n",
      "89:\tlearn: 1587.6446506\ttotal: 6.1s\tremaining: 678ms\n",
      "90:\tlearn: 1586.2527998\ttotal: 6.17s\tremaining: 610ms\n",
      "91:\tlearn: 1585.0979322\ttotal: 6.24s\tremaining: 542ms\n",
      "92:\tlearn: 1583.1303887\ttotal: 6.3s\tremaining: 475ms\n",
      "93:\tlearn: 1581.2774908\ttotal: 6.38s\tremaining: 407ms\n",
      "94:\tlearn: 1580.3490201\ttotal: 6.44s\tremaining: 339ms\n",
      "95:\tlearn: 1578.6579827\ttotal: 6.51s\tremaining: 271ms\n",
      "96:\tlearn: 1577.7937925\ttotal: 6.58s\tremaining: 204ms\n",
      "97:\tlearn: 1576.6126149\ttotal: 6.65s\tremaining: 136ms\n",
      "98:\tlearn: 1575.3770264\ttotal: 6.71s\tremaining: 67.8ms\n",
      "99:\tlearn: 1574.1683453\ttotal: 6.78s\tremaining: 0us\n",
      "CPU times: user 8.21 s, sys: 0 ns, total: 8.21 s\n",
      "Wall time: 9.01 s\n"
     ]
    },
    {
     "data": {
      "text/plain": [
       "<catboost.core.CatBoostRegressor at 0x7ff02a2a5b80>"
      ]
     },
     "execution_count": 38,
     "metadata": {},
     "output_type": "execute_result"
    }
   ],
   "source": [
    "%%time\n",
    "model_cbr.fit(features_train, target_train)"
   ]
  },
  {
   "cell_type": "code",
   "execution_count": 39,
   "metadata": {
    "scrolled": true
   },
   "outputs": [
    {
     "name": "stdout",
     "output_type": "stream",
     "text": [
      "CPU times: user 63.6 ms, sys: 0 ns, total: 63.6 ms\n",
      "Wall time: 61.9 ms\n"
     ]
    }
   ],
   "source": [
    "%%time\n",
    "predict_cbr = model_cbr.predict(features_test, verbose = 2)"
   ]
  },
  {
   "cell_type": "code",
   "execution_count": 40,
   "metadata": {},
   "outputs": [
    {
     "name": "stdout",
     "output_type": "stream",
     "text": [
      "RMSE - CatBoostRegressor: 1628.31\n"
     ]
    }
   ],
   "source": [
    "print('RMSE - CatBoostRegressor:', rmse(target_test, predict_cbr).round(2))"
   ]
  },
  {
   "cell_type": "markdown",
   "metadata": {},
   "source": [
    "#### LightGBM"
   ]
  },
  {
   "cell_type": "code",
   "execution_count": 41,
   "metadata": {},
   "outputs": [],
   "source": [
    "parameters = {'boosting_type': 'gbdt', \n",
    "              'max_depth': 7,\n",
    "              'n_estimators': 100, \n",
    "              'learning_rate': 0.2,\n",
    "              'random_state': 12345}"
   ]
  },
  {
   "cell_type": "code",
   "execution_count": 42,
   "metadata": {},
   "outputs": [],
   "source": [
    "model_lgbm = LGBMRegressor(**parameters)"
   ]
  },
  {
   "cell_type": "code",
   "execution_count": 43,
   "metadata": {},
   "outputs": [
    {
     "name": "stdout",
     "output_type": "stream",
     "text": [
      "CPU times: user 16.8 s, sys: 408 ms, total: 17.2 s\n",
      "Wall time: 17.3 s\n"
     ]
    },
    {
     "data": {
      "text/plain": [
       "LGBMRegressor(learning_rate=0.2, max_depth=7, random_state=12345)"
      ]
     },
     "execution_count": 43,
     "metadata": {},
     "output_type": "execute_result"
    }
   ],
   "source": [
    "%%time\n",
    "model_lgbm.fit(features_train, target_train)"
   ]
  },
  {
   "cell_type": "code",
   "execution_count": 44,
   "metadata": {},
   "outputs": [
    {
     "name": "stdout",
     "output_type": "stream",
     "text": [
      "CPU times: user 716 ms, sys: 49.8 ms, total: 766 ms\n",
      "Wall time: 711 ms\n"
     ]
    }
   ],
   "source": [
    "%%time\n",
    "predict_lgbm = model_lgbm.predict(features_test, verbose = 2)"
   ]
  },
  {
   "cell_type": "code",
   "execution_count": 45,
   "metadata": {},
   "outputs": [
    {
     "name": "stdout",
     "output_type": "stream",
     "text": [
      "RMSE - LGBMRegressor: 1645.18\n"
     ]
    }
   ],
   "source": [
    "print('RMSE - LGBMRegressor:', rmse(target_test, predict_lgbm).round(2))"
   ]
  },
  {
   "cell_type": "markdown",
   "metadata": {},
   "source": [
    "#### DecisionTreeRegressor"
   ]
  },
  {
   "cell_type": "code",
   "execution_count": 46,
   "metadata": {},
   "outputs": [
    {
     "name": "stdout",
     "output_type": "stream",
     "text": [
      "RMSE при depth = 5 : 2344.813399766717\n",
      "RMSE при depth = 10 : 1986.7162650268956\n",
      "RMSE при depth = 15 : 1882.5260439414199\n",
      "RMSE при depth = 20 : 1891.4496113729388\n",
      "RMSE при depth = 25 : 1914.3189107263088\n"
     ]
    }
   ],
   "source": [
    "for depth in range(5, 30, 5):\n",
    "    model = DecisionTreeRegressor(max_depth=depth, splitter='best', random_state=12345, min_samples_split=2)\n",
    "    mse = cross_val_score(model, features_train, target_train, cv=3, scoring='neg_mean_squared_error')\n",
    "    print(\"RMSE при depth =\", depth, \":\", (-mse.mean()) ** 0.5)\n"
   ]
  },
  {
   "cell_type": "code",
   "execution_count": 47,
   "metadata": {},
   "outputs": [],
   "source": [
    "parameters = {'max_depth': 15,\n",
    "              'random_state': 12345}"
   ]
  },
  {
   "cell_type": "code",
   "execution_count": 48,
   "metadata": {},
   "outputs": [],
   "source": [
    "DTR_model = DecisionTreeRegressor(**parameters)"
   ]
  },
  {
   "cell_type": "code",
   "execution_count": 49,
   "metadata": {},
   "outputs": [
    {
     "name": "stdout",
     "output_type": "stream",
     "text": [
      "CPU times: user 5.33 s, sys: 62.9 ms, total: 5.4 s\n",
      "Wall time: 5.4 s\n"
     ]
    },
    {
     "data": {
      "text/plain": [
       "DecisionTreeRegressor(max_depth=15, random_state=12345)"
      ]
     },
     "execution_count": 49,
     "metadata": {},
     "output_type": "execute_result"
    }
   ],
   "source": [
    "%%time\n",
    "DTR_model.fit(features_train, target_train)"
   ]
  },
  {
   "cell_type": "code",
   "execution_count": 50,
   "metadata": {},
   "outputs": [
    {
     "name": "stdout",
     "output_type": "stream",
     "text": [
      "CPU times: user 50.1 ms, sys: 28.7 ms, total: 78.8 ms\n",
      "Wall time: 81.7 ms\n"
     ]
    }
   ],
   "source": [
    "%%time\n",
    "predict_DTR = DTR_model.predict(features_test)"
   ]
  },
  {
   "cell_type": "code",
   "execution_count": 51,
   "metadata": {},
   "outputs": [
    {
     "name": "stdout",
     "output_type": "stream",
     "text": [
      "RMSE - DecisionTreeRegressor: 1838.51\n"
     ]
    }
   ],
   "source": [
    "print('RMSE - DecisionTreeRegressor:', rmse(target_test, predict_DTR).round(2))"
   ]
  },
  {
   "cell_type": "markdown",
   "metadata": {},
   "source": [
    "## Анализ моделей"
   ]
  },
  {
   "cell_type": "markdown",
   "metadata": {},
   "source": [
    "Сравним расчеты по каждой модели"
   ]
  },
  {
   "cell_type": "code",
   "execution_count": 53,
   "metadata": {
    "scrolled": true
   },
   "outputs": [
    {
     "data": {
      "text/html": [
       "<div>\n",
       "<style scoped>\n",
       "    .dataframe tbody tr th:only-of-type {\n",
       "        vertical-align: middle;\n",
       "    }\n",
       "\n",
       "    .dataframe tbody tr th {\n",
       "        vertical-align: top;\n",
       "    }\n",
       "\n",
       "    .dataframe thead th {\n",
       "        text-align: right;\n",
       "    }\n",
       "</style>\n",
       "<table border=\"1\" class=\"dataframe\">\n",
       "  <thead>\n",
       "    <tr style=\"text-align: right;\">\n",
       "      <th></th>\n",
       "      <th>model</th>\n",
       "      <th>train_time, sec</th>\n",
       "      <th>predict_time, msec</th>\n",
       "      <th>rmse</th>\n",
       "    </tr>\n",
       "  </thead>\n",
       "  <tbody>\n",
       "    <tr>\n",
       "      <th>0</th>\n",
       "      <td>LR</td>\n",
       "      <td>27</td>\n",
       "      <td>95</td>\n",
       "      <td>2575</td>\n",
       "    </tr>\n",
       "    <tr>\n",
       "      <th>1</th>\n",
       "      <td>CBR</td>\n",
       "      <td>9</td>\n",
       "      <td>62</td>\n",
       "      <td>1628</td>\n",
       "    </tr>\n",
       "    <tr>\n",
       "      <th>2</th>\n",
       "      <td>LGB</td>\n",
       "      <td>17</td>\n",
       "      <td>711</td>\n",
       "      <td>1645</td>\n",
       "    </tr>\n",
       "    <tr>\n",
       "      <th>3</th>\n",
       "      <td>DTR</td>\n",
       "      <td>5</td>\n",
       "      <td>82</td>\n",
       "      <td>1839</td>\n",
       "    </tr>\n",
       "  </tbody>\n",
       "</table>\n",
       "</div>"
      ],
      "text/plain": [
       "  model  train_time, sec  predict_time, msec  rmse\n",
       "0    LR               27                  95  2575\n",
       "1   CBR                9                  62  1628\n",
       "2   LGB               17                 711  1645\n",
       "3   DTR                5                  82  1839"
      ]
     },
     "execution_count": 53,
     "metadata": {},
     "output_type": "execute_result"
    }
   ],
   "source": [
    "models = [['LR', 27, 95, 2575], \n",
    "          ['CBR', 9, 62, 1628],\n",
    "          ['LGB', 17, 711, 1645],\n",
    "          ['DTR', 5, 82, 1839]] \n",
    "    \n",
    "df = pd.DataFrame(models, columns =['model', 'train_time, sec', 'predict_time, msec', 'rmse']) \n",
    "df \n"
   ]
  },
  {
   "cell_type": "markdown",
   "metadata": {},
   "source": [
    "**Вывод:**\n",
    "Глядя на результаты, можно сказать, что градиентный бустинг показывает лучше результаты, чем линейные модели. \n",
    "Лучшая модель - CatBoostRegressor и по метрике RMSE и по скорости обучения и предсказания."
   ]
  },
  {
   "cell_type": "markdown",
   "metadata": {},
   "source": [
    "## Вывод"
   ]
  },
  {
   "cell_type": "markdown",
   "metadata": {},
   "source": [
    "**Общие выводы по проекту:**\n",
    "\n",
    "В ходе проекта было сделано:\n",
    "1. проведен анализ данных с выявлением аномалий, пропусков, которые в последствии были отработаны. 8% данных пришлось отбросить в связи с отсутствием информации по цене, либо модели авто.\n",
    "2. Данные были подготовлены для обучения моделей (категориальные признаки были закодированы, созданы обучающая и тестовая выборки в отношении 75% и 25%)\n",
    "3. Для обучения были выбраны 4 модели: `LinearRegression`, `CatBoostRegressor`, `LightGBM` и `DecisionTreeRegressor`, в которых были выставлены гиперпараметры с целью получения наилучшей метрики RMSE\n",
    "4. Все модели получили RMSE лучше в сравнении с константной моделью, у которой RMSE = 4576\n",
    "5. По сравнению результатов моделей можно сказать, что время предсказания любой модели значительно меньше, чем её обучение. К минимизации времени предсказания нужно стремиться, т.к. модель обучается 1 раз, а предсказывать она может множество раз не переобучиваясь.\n",
    "6. Лушие показатели дала модель `CatBoostRegressor` со значением RMSE = 1628 (что значительно лучше константной модели), ее и рекомендуется выбрать для предсказания цен авто."
   ]
  }
 ],
 "metadata": {
  "ExecuteTimeLog": [
   {
    "duration": 1733,
    "start_time": "2022-04-23T08:55:17.971Z"
   },
   {
    "duration": 791,
    "start_time": "2022-04-23T08:55:19.706Z"
   },
   {
    "duration": 153,
    "start_time": "2022-04-23T08:56:02.847Z"
   },
   {
    "duration": 16,
    "start_time": "2022-04-23T08:56:41.882Z"
   },
   {
    "duration": 83,
    "start_time": "2022-04-23T08:58:13.154Z"
   },
   {
    "duration": 480,
    "start_time": "2022-04-23T08:59:18.220Z"
   },
   {
    "duration": 136,
    "start_time": "2022-04-23T09:01:12.391Z"
   },
   {
    "duration": 939,
    "start_time": "2022-04-23T09:25:42.508Z"
   },
   {
    "duration": 1078,
    "start_time": "2022-04-23T09:25:59.511Z"
   },
   {
    "duration": 140,
    "start_time": "2022-04-23T09:27:53.581Z"
   },
   {
    "duration": 18,
    "start_time": "2022-04-23T09:42:13.422Z"
   },
   {
    "duration": 2350,
    "start_time": "2022-04-23T09:42:54.968Z"
   },
   {
    "duration": 1201,
    "start_time": "2022-04-23T09:43:13.609Z"
   },
   {
    "duration": 18,
    "start_time": "2022-04-23T09:43:22.094Z"
   },
   {
    "duration": 20,
    "start_time": "2022-04-23T09:43:26.654Z"
   },
   {
    "duration": 39,
    "start_time": "2022-04-23T09:43:38.828Z"
   },
   {
    "duration": 11,
    "start_time": "2022-04-23T09:50:33.790Z"
   },
   {
    "duration": 21,
    "start_time": "2022-04-23T09:50:53.790Z"
   },
   {
    "duration": 32,
    "start_time": "2022-04-23T09:52:31.328Z"
   },
   {
    "duration": 21,
    "start_time": "2022-04-23T09:54:14.968Z"
   },
   {
    "duration": 26,
    "start_time": "2022-04-23T09:54:40.014Z"
   },
   {
    "duration": 345,
    "start_time": "2022-04-23T09:56:34.367Z"
   },
   {
    "duration": 512,
    "start_time": "2022-04-23T09:57:06.429Z"
   },
   {
    "duration": 504,
    "start_time": "2022-04-23T09:57:16.391Z"
   },
   {
    "duration": 416,
    "start_time": "2022-04-23T09:57:21.326Z"
   },
   {
    "duration": 481,
    "start_time": "2022-04-23T09:57:25.490Z"
   },
   {
    "duration": 142,
    "start_time": "2022-04-23T09:57:52.510Z"
   },
   {
    "duration": 579,
    "start_time": "2022-04-23T09:57:57.323Z"
   },
   {
    "duration": 623,
    "start_time": "2022-04-23T09:58:03.999Z"
   },
   {
    "duration": 108,
    "start_time": "2022-04-23T10:00:18.053Z"
   },
   {
    "duration": 27,
    "start_time": "2022-04-23T10:00:27.929Z"
   },
   {
    "duration": 418,
    "start_time": "2022-04-23T10:02:27.805Z"
   },
   {
    "duration": 9,
    "start_time": "2022-04-23T10:04:19.884Z"
   },
   {
    "duration": 411,
    "start_time": "2022-04-23T10:04:29.597Z"
   },
   {
    "duration": 41,
    "start_time": "2022-04-23T10:06:32.211Z"
   },
   {
    "duration": 41,
    "start_time": "2022-04-23T10:07:33.268Z"
   },
   {
    "duration": 176,
    "start_time": "2022-04-23T10:09:24.689Z"
   },
   {
    "duration": 22,
    "start_time": "2022-04-23T10:10:11.294Z"
   },
   {
    "duration": 19,
    "start_time": "2022-04-23T10:10:24.968Z"
   },
   {
    "duration": 378,
    "start_time": "2022-04-23T10:13:16.799Z"
   },
   {
    "duration": 465,
    "start_time": "2022-04-23T10:13:43.268Z"
   },
   {
    "duration": 248,
    "start_time": "2022-04-23T10:13:49.048Z"
   },
   {
    "duration": 224,
    "start_time": "2022-04-23T10:13:55.568Z"
   },
   {
    "duration": 402,
    "start_time": "2022-04-23T10:14:58.617Z"
   },
   {
    "duration": 19,
    "start_time": "2022-04-23T10:15:34.944Z"
   },
   {
    "duration": 513,
    "start_time": "2022-04-23T10:16:31.598Z"
   },
   {
    "duration": 324,
    "start_time": "2022-04-23T10:16:38.878Z"
   },
   {
    "duration": 52,
    "start_time": "2022-04-23T10:27:40.176Z"
   },
   {
    "duration": 29,
    "start_time": "2022-04-23T10:27:49.219Z"
   },
   {
    "duration": 40,
    "start_time": "2022-04-23T10:46:14.168Z"
   },
   {
    "duration": 83,
    "start_time": "2022-04-23T10:47:15.212Z"
   },
   {
    "duration": 91,
    "start_time": "2022-04-23T10:47:41.586Z"
   },
   {
    "duration": 93,
    "start_time": "2022-04-23T10:47:49.817Z"
   },
   {
    "duration": 78,
    "start_time": "2022-04-23T10:48:18.298Z"
   },
   {
    "duration": 20,
    "start_time": "2022-04-23T10:48:48.726Z"
   },
   {
    "duration": 13,
    "start_time": "2022-04-23T10:53:11.747Z"
   },
   {
    "duration": 1792,
    "start_time": "2022-04-23T10:53:39.266Z"
   },
   {
    "duration": 1226,
    "start_time": "2022-04-23T10:53:41.061Z"
   },
   {
    "duration": 285,
    "start_time": "2022-04-23T10:53:42.289Z"
   },
   {
    "duration": 17,
    "start_time": "2022-04-23T10:53:42.577Z"
   },
   {
    "duration": 304,
    "start_time": "2022-04-23T10:53:42.596Z"
   },
   {
    "duration": 1048,
    "start_time": "2022-04-23T10:53:42.902Z"
   },
   {
    "duration": 141,
    "start_time": "2022-04-23T10:53:43.952Z"
   },
   {
    "duration": 1046,
    "start_time": "2022-04-23T10:53:44.095Z"
   },
   {
    "duration": 156,
    "start_time": "2022-04-23T10:53:45.142Z"
   },
   {
    "duration": 21,
    "start_time": "2022-04-23T10:53:45.300Z"
   },
   {
    "duration": 471,
    "start_time": "2022-04-23T10:53:45.323Z"
   },
   {
    "duration": 398,
    "start_time": "2022-04-23T10:53:45.796Z"
   },
   {
    "duration": 27,
    "start_time": "2022-04-23T10:53:46.196Z"
   },
   {
    "duration": 56,
    "start_time": "2022-04-23T10:53:46.225Z"
   },
   {
    "duration": 281,
    "start_time": "2022-04-23T10:54:09.643Z"
   },
   {
    "duration": 304,
    "start_time": "2022-04-23T10:54:36.823Z"
   },
   {
    "duration": 296,
    "start_time": "2022-04-23T10:54:47.180Z"
   },
   {
    "duration": 80,
    "start_time": "2022-04-23T11:04:03.956Z"
   },
   {
    "duration": 106,
    "start_time": "2022-04-23T11:04:18.028Z"
   },
   {
    "duration": 59,
    "start_time": "2022-04-23T11:04:47.440Z"
   },
   {
    "duration": 10,
    "start_time": "2022-04-23T11:04:49.047Z"
   },
   {
    "duration": 8,
    "start_time": "2022-04-23T11:05:19.035Z"
   },
   {
    "duration": 9,
    "start_time": "2022-04-23T11:05:20.320Z"
   },
   {
    "duration": 7,
    "start_time": "2022-04-23T11:06:01.785Z"
   },
   {
    "duration": 9,
    "start_time": "2022-04-23T11:06:02.511Z"
   },
   {
    "duration": 1538,
    "start_time": "2022-04-23T11:06:11.692Z"
   },
   {
    "duration": 1154,
    "start_time": "2022-04-23T11:06:13.232Z"
   },
   {
    "duration": 479,
    "start_time": "2022-04-23T11:06:14.388Z"
   },
   {
    "duration": 15,
    "start_time": "2022-04-23T11:06:14.870Z"
   },
   {
    "duration": 191,
    "start_time": "2022-04-23T11:06:14.887Z"
   },
   {
    "duration": 918,
    "start_time": "2022-04-23T11:06:15.080Z"
   },
   {
    "duration": 147,
    "start_time": "2022-04-23T11:06:16.000Z"
   },
   {
    "duration": 1078,
    "start_time": "2022-04-23T11:06:16.148Z"
   },
   {
    "duration": 135,
    "start_time": "2022-04-23T11:06:17.228Z"
   },
   {
    "duration": 20,
    "start_time": "2022-04-23T11:06:17.365Z"
   },
   {
    "duration": 439,
    "start_time": "2022-04-23T11:06:17.386Z"
   },
   {
    "duration": 369,
    "start_time": "2022-04-23T11:06:17.827Z"
   },
   {
    "duration": 26,
    "start_time": "2022-04-23T11:06:18.197Z"
   },
   {
    "duration": 53,
    "start_time": "2022-04-23T11:06:18.226Z"
   },
   {
    "duration": 74,
    "start_time": "2022-04-23T11:06:18.281Z"
   },
   {
    "duration": 98,
    "start_time": "2022-04-23T11:06:18.363Z"
   },
   {
    "duration": 41,
    "start_time": "2022-04-23T11:09:38.825Z"
   },
   {
    "duration": 100,
    "start_time": "2022-04-23T11:09:41.848Z"
   },
   {
    "duration": 1779,
    "start_time": "2022-04-23T11:09:53.991Z"
   },
   {
    "duration": 794,
    "start_time": "2022-04-23T11:09:55.773Z"
   },
   {
    "duration": 134,
    "start_time": "2022-04-23T11:09:56.569Z"
   },
   {
    "duration": 15,
    "start_time": "2022-04-23T11:09:56.705Z"
   },
   {
    "duration": 95,
    "start_time": "2022-04-23T11:09:56.723Z"
   },
   {
    "duration": 496,
    "start_time": "2022-04-23T11:09:56.820Z"
   },
   {
    "duration": 139,
    "start_time": "2022-04-23T11:09:57.318Z"
   },
   {
    "duration": 934,
    "start_time": "2022-04-23T11:09:57.459Z"
   },
   {
    "duration": 301,
    "start_time": "2022-04-23T11:09:58.395Z"
   },
   {
    "duration": 84,
    "start_time": "2022-04-23T11:09:58.698Z"
   },
   {
    "duration": 1093,
    "start_time": "2022-04-23T11:09:58.784Z"
   },
   {
    "duration": 698,
    "start_time": "2022-04-23T11:09:59.879Z"
   },
   {
    "duration": 27,
    "start_time": "2022-04-23T11:10:00.578Z"
   },
   {
    "duration": 57,
    "start_time": "2022-04-23T11:10:00.608Z"
   },
   {
    "duration": 46,
    "start_time": "2022-04-23T11:10:00.668Z"
   },
   {
    "duration": 105,
    "start_time": "2022-04-23T11:10:00.716Z"
   },
   {
    "duration": 128,
    "start_time": "2022-04-23T11:14:07.644Z"
   },
   {
    "duration": 10,
    "start_time": "2022-04-23T11:14:23.779Z"
   },
   {
    "duration": 10,
    "start_time": "2022-04-23T11:14:34.572Z"
   },
   {
    "duration": 10,
    "start_time": "2022-04-23T11:14:51.510Z"
   },
   {
    "duration": 10,
    "start_time": "2022-04-23T11:14:58.520Z"
   },
   {
    "duration": 9,
    "start_time": "2022-04-23T11:15:04.087Z"
   },
   {
    "duration": 12,
    "start_time": "2022-04-23T11:17:47.076Z"
   },
   {
    "duration": 1573,
    "start_time": "2022-04-23T11:17:57.244Z"
   },
   {
    "duration": 1156,
    "start_time": "2022-04-23T11:17:58.819Z"
   },
   {
    "duration": 305,
    "start_time": "2022-04-23T11:17:59.977Z"
   },
   {
    "duration": 16,
    "start_time": "2022-04-23T11:18:00.284Z"
   },
   {
    "duration": 202,
    "start_time": "2022-04-23T11:18:00.358Z"
   },
   {
    "duration": 1175,
    "start_time": "2022-04-23T11:18:00.562Z"
   },
   {
    "duration": 153,
    "start_time": "2022-04-23T11:18:01.739Z"
   },
   {
    "duration": 1047,
    "start_time": "2022-04-23T11:18:01.894Z"
   },
   {
    "duration": 139,
    "start_time": "2022-04-23T11:18:02.942Z"
   },
   {
    "duration": 20,
    "start_time": "2022-04-23T11:18:03.083Z"
   },
   {
    "duration": 447,
    "start_time": "2022-04-23T11:18:03.105Z"
   },
   {
    "duration": 373,
    "start_time": "2022-04-23T11:18:03.555Z"
   },
   {
    "duration": 47,
    "start_time": "2022-04-23T11:18:03.929Z"
   },
   {
    "duration": 36,
    "start_time": "2022-04-23T11:18:03.980Z"
   },
   {
    "duration": 91,
    "start_time": "2022-04-23T11:18:04.018Z"
   },
   {
    "duration": 109,
    "start_time": "2022-04-23T11:18:04.111Z"
   },
   {
    "duration": 75,
    "start_time": "2022-04-23T11:19:51.548Z"
   },
   {
    "duration": 102,
    "start_time": "2022-04-23T11:19:55.008Z"
   },
   {
    "duration": 278,
    "start_time": "2022-04-23T11:49:40.906Z"
   },
   {
    "duration": 149,
    "start_time": "2022-04-23T11:53:50.077Z"
   },
   {
    "duration": 82,
    "start_time": "2022-04-23T11:54:11.282Z"
   },
   {
    "duration": 1575,
    "start_time": "2022-04-23T11:54:25.411Z"
   },
   {
    "duration": 1470,
    "start_time": "2022-04-23T11:54:26.988Z"
   },
   {
    "duration": 302,
    "start_time": "2022-04-23T11:54:28.460Z"
   },
   {
    "duration": 21,
    "start_time": "2022-04-23T11:54:28.764Z"
   },
   {
    "duration": 237,
    "start_time": "2022-04-23T11:54:28.787Z"
   },
   {
    "duration": 476,
    "start_time": "2022-04-23T11:54:29.057Z"
   },
   {
    "duration": 240,
    "start_time": "2022-04-23T11:54:29.535Z"
   },
   {
    "duration": 1083,
    "start_time": "2022-04-23T11:54:29.776Z"
   },
   {
    "duration": 149,
    "start_time": "2022-04-23T11:54:30.861Z"
   },
   {
    "duration": 34,
    "start_time": "2022-04-23T11:54:31.012Z"
   },
   {
    "duration": 469,
    "start_time": "2022-04-23T11:54:31.047Z"
   },
   {
    "duration": 42,
    "start_time": "2022-04-23T11:54:31.518Z"
   },
   {
    "duration": 41,
    "start_time": "2022-04-23T11:54:31.562Z"
   },
   {
    "duration": 217,
    "start_time": "2022-04-23T11:54:31.606Z"
   },
   {
    "duration": 0,
    "start_time": "2022-04-23T11:54:31.824Z"
   },
   {
    "duration": 11,
    "start_time": "2022-04-23T11:56:13.968Z"
   },
   {
    "duration": 1524,
    "start_time": "2022-04-23T11:57:14.801Z"
   },
   {
    "duration": 1334,
    "start_time": "2022-04-23T11:57:16.327Z"
   },
   {
    "duration": 310,
    "start_time": "2022-04-23T11:57:17.665Z"
   },
   {
    "duration": 16,
    "start_time": "2022-04-23T11:57:17.977Z"
   },
   {
    "duration": 262,
    "start_time": "2022-04-23T11:57:17.995Z"
   },
   {
    "duration": 652,
    "start_time": "2022-04-23T11:57:18.259Z"
   },
   {
    "duration": 149,
    "start_time": "2022-04-23T11:57:18.914Z"
   },
   {
    "duration": 946,
    "start_time": "2022-04-23T11:57:19.065Z"
   },
   {
    "duration": 150,
    "start_time": "2022-04-23T11:57:20.013Z"
   },
   {
    "duration": 20,
    "start_time": "2022-04-23T11:57:20.166Z"
   },
   {
    "duration": 460,
    "start_time": "2022-04-23T11:57:20.188Z"
   },
   {
    "duration": 31,
    "start_time": "2022-04-23T11:57:20.649Z"
   },
   {
    "duration": 38,
    "start_time": "2022-04-23T11:57:20.682Z"
   },
   {
    "duration": 108,
    "start_time": "2022-04-23T11:57:20.722Z"
   },
   {
    "duration": 125,
    "start_time": "2022-04-23T11:57:20.832Z"
   },
   {
    "duration": 9,
    "start_time": "2022-04-23T11:58:09.403Z"
   },
   {
    "duration": 1547,
    "start_time": "2022-04-23T11:58:50.368Z"
   },
   {
    "duration": 803,
    "start_time": "2022-04-23T11:58:51.917Z"
   },
   {
    "duration": 141,
    "start_time": "2022-04-23T11:58:52.722Z"
   },
   {
    "duration": 23,
    "start_time": "2022-04-23T11:58:52.865Z"
   },
   {
    "duration": 125,
    "start_time": "2022-04-23T11:58:52.890Z"
   },
   {
    "duration": 493,
    "start_time": "2022-04-23T11:58:53.017Z"
   },
   {
    "duration": 133,
    "start_time": "2022-04-23T11:58:53.512Z"
   },
   {
    "duration": 1166,
    "start_time": "2022-04-23T11:58:53.647Z"
   },
   {
    "duration": 144,
    "start_time": "2022-04-23T11:58:54.815Z"
   },
   {
    "duration": 22,
    "start_time": "2022-04-23T11:58:54.961Z"
   },
   {
    "duration": 502,
    "start_time": "2022-04-23T11:58:54.984Z"
   },
   {
    "duration": 27,
    "start_time": "2022-04-23T11:58:55.487Z"
   },
   {
    "duration": 54,
    "start_time": "2022-04-23T11:58:55.516Z"
   },
   {
    "duration": 115,
    "start_time": "2022-04-23T11:58:55.574Z"
   },
   {
    "duration": 11,
    "start_time": "2022-04-23T11:58:55.690Z"
   },
   {
    "duration": 123,
    "start_time": "2022-04-23T12:01:06.928Z"
   },
   {
    "duration": 14,
    "start_time": "2022-04-23T12:01:18.879Z"
   },
   {
    "duration": 15,
    "start_time": "2022-04-23T12:01:26.883Z"
   },
   {
    "duration": 21,
    "start_time": "2022-04-23T12:02:20.548Z"
   },
   {
    "duration": 5,
    "start_time": "2022-04-23T12:02:34.424Z"
   },
   {
    "duration": 5,
    "start_time": "2022-04-23T12:02:44.233Z"
   },
   {
    "duration": 4,
    "start_time": "2022-04-23T12:04:04.238Z"
   },
   {
    "duration": 5,
    "start_time": "2022-04-23T12:04:30.443Z"
   },
   {
    "duration": 5,
    "start_time": "2022-04-23T12:04:48.524Z"
   },
   {
    "duration": 7,
    "start_time": "2022-04-23T12:04:49.879Z"
   },
   {
    "duration": 5,
    "start_time": "2022-04-23T12:05:30.807Z"
   },
   {
    "duration": 1638,
    "start_time": "2022-04-23T12:05:37.105Z"
   },
   {
    "duration": 1614,
    "start_time": "2022-04-23T12:05:38.745Z"
   },
   {
    "duration": 306,
    "start_time": "2022-04-23T12:05:40.364Z"
   },
   {
    "duration": 15,
    "start_time": "2022-04-23T12:05:40.673Z"
   },
   {
    "duration": 139,
    "start_time": "2022-04-23T12:05:40.691Z"
   },
   {
    "duration": 537,
    "start_time": "2022-04-23T12:05:40.832Z"
   },
   {
    "duration": 132,
    "start_time": "2022-04-23T12:05:41.371Z"
   },
   {
    "duration": 1036,
    "start_time": "2022-04-23T12:05:41.505Z"
   },
   {
    "duration": 148,
    "start_time": "2022-04-23T12:05:42.543Z"
   },
   {
    "duration": 24,
    "start_time": "2022-04-23T12:05:42.693Z"
   },
   {
    "duration": 451,
    "start_time": "2022-04-23T12:05:42.718Z"
   },
   {
    "duration": 27,
    "start_time": "2022-04-23T12:05:43.171Z"
   },
   {
    "duration": 39,
    "start_time": "2022-04-23T12:05:43.200Z"
   },
   {
    "duration": 33,
    "start_time": "2022-04-23T12:05:43.242Z"
   },
   {
    "duration": 3,
    "start_time": "2022-04-23T12:05:43.277Z"
   },
   {
    "duration": 10,
    "start_time": "2022-04-23T12:05:43.282Z"
   },
   {
    "duration": 13,
    "start_time": "2022-04-23T12:05:43.293Z"
   },
   {
    "duration": 9,
    "start_time": "2022-04-23T12:05:43.307Z"
   },
   {
    "duration": 8,
    "start_time": "2022-04-23T12:05:43.318Z"
   },
   {
    "duration": 9,
    "start_time": "2022-04-23T12:05:43.328Z"
   },
   {
    "duration": 9,
    "start_time": "2022-04-23T12:05:43.339Z"
   },
   {
    "duration": 10,
    "start_time": "2022-04-23T12:06:20.468Z"
   },
   {
    "duration": 1546,
    "start_time": "2022-04-23T12:06:57.590Z"
   },
   {
    "duration": 1560,
    "start_time": "2022-04-23T12:06:59.138Z"
   },
   {
    "duration": 369,
    "start_time": "2022-04-23T12:07:00.700Z"
   },
   {
    "duration": 15,
    "start_time": "2022-04-23T12:07:01.074Z"
   },
   {
    "duration": 265,
    "start_time": "2022-04-23T12:07:01.091Z"
   },
   {
    "duration": 557,
    "start_time": "2022-04-23T12:07:01.359Z"
   },
   {
    "duration": 154,
    "start_time": "2022-04-23T12:07:01.918Z"
   },
   {
    "duration": 1002,
    "start_time": "2022-04-23T12:07:02.074Z"
   },
   {
    "duration": 134,
    "start_time": "2022-04-23T12:07:03.078Z"
   },
   {
    "duration": 20,
    "start_time": "2022-04-23T12:07:03.215Z"
   },
   {
    "duration": 461,
    "start_time": "2022-04-23T12:07:03.237Z"
   },
   {
    "duration": 27,
    "start_time": "2022-04-23T12:07:03.699Z"
   },
   {
    "duration": 53,
    "start_time": "2022-04-23T12:07:03.728Z"
   },
   {
    "duration": 3,
    "start_time": "2022-04-23T12:07:03.783Z"
   },
   {
    "duration": 25,
    "start_time": "2022-04-23T12:07:03.787Z"
   },
   {
    "duration": 80,
    "start_time": "2022-04-23T12:07:03.814Z"
   },
   {
    "duration": 1101,
    "start_time": "2022-04-23T12:07:03.896Z"
   },
   {
    "duration": 0,
    "start_time": "2022-04-23T12:07:04.998Z"
   },
   {
    "duration": 0,
    "start_time": "2022-04-23T12:07:04.999Z"
   },
   {
    "duration": 0,
    "start_time": "2022-04-23T12:07:05.000Z"
   },
   {
    "duration": 0,
    "start_time": "2022-04-23T12:07:05.001Z"
   },
   {
    "duration": 45,
    "start_time": "2022-04-23T12:09:13.901Z"
   },
   {
    "duration": 93,
    "start_time": "2022-04-23T12:09:22.966Z"
   },
   {
    "duration": 332,
    "start_time": "2022-04-23T12:09:38.050Z"
   },
   {
    "duration": 254,
    "start_time": "2022-04-23T12:09:43.031Z"
   },
   {
    "duration": 268,
    "start_time": "2022-04-23T12:09:47.268Z"
   },
   {
    "duration": 97,
    "start_time": "2022-04-23T12:09:57.510Z"
   },
   {
    "duration": 12,
    "start_time": "2022-04-23T12:11:28.123Z"
   },
   {
    "duration": 71,
    "start_time": "2022-04-23T12:13:26.007Z"
   },
   {
    "duration": 258,
    "start_time": "2022-04-23T12:13:32.513Z"
   },
   {
    "duration": 240,
    "start_time": "2022-04-23T12:13:34.204Z"
   },
   {
    "duration": 257,
    "start_time": "2022-04-23T12:13:35.046Z"
   },
   {
    "duration": 88,
    "start_time": "2022-04-23T12:13:36.386Z"
   },
   {
    "duration": 13,
    "start_time": "2022-04-23T12:13:38.368Z"
   },
   {
    "duration": 98,
    "start_time": "2022-04-24T08:53:26.901Z"
   },
   {
    "duration": 68,
    "start_time": "2022-04-24T08:53:47.882Z"
   },
   {
    "duration": 2611,
    "start_time": "2022-04-24T08:53:56.381Z"
   },
   {
    "duration": 2129,
    "start_time": "2022-04-24T08:53:58.995Z"
   },
   {
    "duration": 199,
    "start_time": "2022-04-24T08:54:01.126Z"
   },
   {
    "duration": 38,
    "start_time": "2022-04-24T08:54:01.327Z"
   },
   {
    "duration": 134,
    "start_time": "2022-04-24T08:54:01.369Z"
   },
   {
    "duration": 801,
    "start_time": "2022-04-24T08:54:01.506Z"
   },
   {
    "duration": 334,
    "start_time": "2022-04-24T08:54:02.309Z"
   },
   {
    "duration": 165,
    "start_time": "2022-04-24T08:54:02.645Z"
   },
   {
    "duration": 1483,
    "start_time": "2022-04-24T08:54:02.813Z"
   },
   {
    "duration": 183,
    "start_time": "2022-04-24T08:54:04.298Z"
   },
   {
    "duration": 29,
    "start_time": "2022-04-24T08:54:04.483Z"
   },
   {
    "duration": 999,
    "start_time": "2022-04-24T08:54:04.514Z"
   },
   {
    "duration": 51,
    "start_time": "2022-04-24T08:54:05.515Z"
   },
   {
    "duration": 62,
    "start_time": "2022-04-24T08:54:05.571Z"
   },
   {
    "duration": 82,
    "start_time": "2022-04-24T08:54:05.636Z"
   },
   {
    "duration": 4,
    "start_time": "2022-04-24T08:54:05.720Z"
   },
   {
    "duration": 55,
    "start_time": "2022-04-24T08:54:05.726Z"
   },
   {
    "duration": 132,
    "start_time": "2022-04-24T08:54:05.784Z"
   },
   {
    "duration": 448,
    "start_time": "2022-04-24T08:54:05.918Z"
   },
   {
    "duration": 573,
    "start_time": "2022-04-24T08:54:06.369Z"
   },
   {
    "duration": 552,
    "start_time": "2022-04-24T08:54:06.945Z"
   },
   {
    "duration": 203,
    "start_time": "2022-04-24T08:54:07.500Z"
   },
   {
    "duration": 34,
    "start_time": "2022-04-24T08:54:07.706Z"
   },
   {
    "duration": 223,
    "start_time": "2022-04-24T08:55:11.282Z"
   },
   {
    "duration": 2404,
    "start_time": "2022-04-24T08:55:41.982Z"
   },
   {
    "duration": 1911,
    "start_time": "2022-04-24T08:55:44.388Z"
   },
   {
    "duration": 171,
    "start_time": "2022-04-24T08:55:46.302Z"
   },
   {
    "duration": 26,
    "start_time": "2022-04-24T08:55:46.476Z"
   },
   {
    "duration": 137,
    "start_time": "2022-04-24T08:55:46.506Z"
   },
   {
    "duration": 708,
    "start_time": "2022-04-24T08:55:46.645Z"
   },
   {
    "duration": 317,
    "start_time": "2022-04-24T08:55:47.355Z"
   },
   {
    "duration": 162,
    "start_time": "2022-04-24T08:55:47.674Z"
   },
   {
    "duration": 1434,
    "start_time": "2022-04-24T08:55:47.838Z"
   },
   {
    "duration": 183,
    "start_time": "2022-04-24T08:55:49.274Z"
   },
   {
    "duration": 29,
    "start_time": "2022-04-24T08:55:49.459Z"
   },
   {
    "duration": 786,
    "start_time": "2022-04-24T08:55:49.490Z"
   },
   {
    "duration": 35,
    "start_time": "2022-04-24T08:55:50.279Z"
   },
   {
    "duration": 85,
    "start_time": "2022-04-24T08:55:50.318Z"
   },
   {
    "duration": 75,
    "start_time": "2022-04-24T08:55:50.405Z"
   },
   {
    "duration": 3,
    "start_time": "2022-04-24T08:55:50.482Z"
   },
   {
    "duration": 37,
    "start_time": "2022-04-24T08:55:50.487Z"
   },
   {
    "duration": 126,
    "start_time": "2022-04-24T08:55:50.526Z"
   },
   {
    "duration": 494,
    "start_time": "2022-04-24T08:55:50.654Z"
   },
   {
    "duration": 403,
    "start_time": "2022-04-24T08:55:51.151Z"
   },
   {
    "duration": 406,
    "start_time": "2022-04-24T08:55:51.556Z"
   },
   {
    "duration": 115,
    "start_time": "2022-04-24T08:55:51.964Z"
   },
   {
    "duration": 20,
    "start_time": "2022-04-24T08:55:52.081Z"
   },
   {
    "duration": 215,
    "start_time": "2022-04-24T08:56:28.099Z"
   },
   {
    "duration": 2484,
    "start_time": "2022-04-24T08:56:35.568Z"
   },
   {
    "duration": 1905,
    "start_time": "2022-04-24T08:56:38.055Z"
   },
   {
    "duration": 186,
    "start_time": "2022-04-24T08:56:39.962Z"
   },
   {
    "duration": 451,
    "start_time": "2022-04-24T08:56:40.152Z"
   },
   {
    "duration": 462,
    "start_time": "2022-04-24T08:56:40.605Z"
   },
   {
    "duration": 796,
    "start_time": "2022-04-24T08:56:41.069Z"
   },
   {
    "duration": 329,
    "start_time": "2022-04-24T08:56:41.867Z"
   },
   {
    "duration": 165,
    "start_time": "2022-04-24T08:56:42.198Z"
   },
   {
    "duration": 1375,
    "start_time": "2022-04-24T08:56:42.365Z"
   },
   {
    "duration": 181,
    "start_time": "2022-04-24T08:56:43.751Z"
   },
   {
    "duration": 33,
    "start_time": "2022-04-24T08:56:43.935Z"
   },
   {
    "duration": 840,
    "start_time": "2022-04-24T08:56:43.970Z"
   },
   {
    "duration": 52,
    "start_time": "2022-04-24T08:56:44.813Z"
   },
   {
    "duration": 83,
    "start_time": "2022-04-24T08:56:44.868Z"
   },
   {
    "duration": 98,
    "start_time": "2022-04-24T08:56:44.954Z"
   },
   {
    "duration": 4,
    "start_time": "2022-04-24T08:56:45.055Z"
   },
   {
    "duration": 33,
    "start_time": "2022-04-24T08:56:45.061Z"
   },
   {
    "duration": 130,
    "start_time": "2022-04-24T08:56:45.096Z"
   },
   {
    "duration": 510,
    "start_time": "2022-04-24T08:56:45.228Z"
   },
   {
    "duration": 423,
    "start_time": "2022-04-24T08:56:45.740Z"
   },
   {
    "duration": 425,
    "start_time": "2022-04-24T08:56:46.166Z"
   },
   {
    "duration": 122,
    "start_time": "2022-04-24T08:56:46.594Z"
   },
   {
    "duration": 36,
    "start_time": "2022-04-24T08:56:46.718Z"
   },
   {
    "duration": 2431,
    "start_time": "2022-04-24T08:57:18.924Z"
   },
   {
    "duration": 1971,
    "start_time": "2022-04-24T08:57:21.357Z"
   },
   {
    "duration": 170,
    "start_time": "2022-04-24T08:57:23.330Z"
   },
   {
    "duration": 25,
    "start_time": "2022-04-24T08:57:23.502Z"
   },
   {
    "duration": 170,
    "start_time": "2022-04-24T08:57:23.553Z"
   },
   {
    "duration": 710,
    "start_time": "2022-04-24T08:57:23.725Z"
   },
   {
    "duration": 485,
    "start_time": "2022-04-24T08:57:24.438Z"
   },
   {
    "duration": 0,
    "start_time": "2022-04-24T08:57:24.926Z"
   },
   {
    "duration": 0,
    "start_time": "2022-04-24T08:57:24.927Z"
   },
   {
    "duration": 0,
    "start_time": "2022-04-24T08:57:24.929Z"
   },
   {
    "duration": 0,
    "start_time": "2022-04-24T08:57:24.930Z"
   },
   {
    "duration": 0,
    "start_time": "2022-04-24T08:57:24.933Z"
   },
   {
    "duration": 0,
    "start_time": "2022-04-24T08:57:24.934Z"
   },
   {
    "duration": 0,
    "start_time": "2022-04-24T08:57:24.952Z"
   },
   {
    "duration": 0,
    "start_time": "2022-04-24T08:57:24.953Z"
   },
   {
    "duration": 0,
    "start_time": "2022-04-24T08:57:24.955Z"
   },
   {
    "duration": 0,
    "start_time": "2022-04-24T08:57:24.957Z"
   },
   {
    "duration": 0,
    "start_time": "2022-04-24T08:57:24.958Z"
   },
   {
    "duration": 0,
    "start_time": "2022-04-24T08:57:24.959Z"
   },
   {
    "duration": 0,
    "start_time": "2022-04-24T08:57:24.961Z"
   },
   {
    "duration": 0,
    "start_time": "2022-04-24T08:57:24.962Z"
   },
   {
    "duration": 0,
    "start_time": "2022-04-24T08:57:24.963Z"
   },
   {
    "duration": 0,
    "start_time": "2022-04-24T08:57:24.965Z"
   },
   {
    "duration": 312,
    "start_time": "2022-04-24T08:57:50.928Z"
   },
   {
    "duration": 308,
    "start_time": "2022-04-24T08:58:04.504Z"
   },
   {
    "duration": 316,
    "start_time": "2022-04-24T08:58:17.685Z"
   },
   {
    "duration": 309,
    "start_time": "2022-04-24T08:59:36.421Z"
   },
   {
    "duration": 1448,
    "start_time": "2022-04-24T09:02:26.257Z"
   },
   {
    "duration": 187,
    "start_time": "2022-04-24T09:02:30.997Z"
   },
   {
    "duration": 12,
    "start_time": "2022-04-24T09:05:17.192Z"
   },
   {
    "duration": 230,
    "start_time": "2022-04-24T09:05:30.624Z"
   },
   {
    "duration": 233,
    "start_time": "2022-04-24T09:06:05.181Z"
   },
   {
    "duration": 237,
    "start_time": "2022-04-24T09:06:16.306Z"
   },
   {
    "duration": 822,
    "start_time": "2022-04-24T09:06:29.936Z"
   },
   {
    "duration": 219,
    "start_time": "2022-04-24T09:07:22.367Z"
   },
   {
    "duration": 150,
    "start_time": "2022-04-24T09:09:41.414Z"
   },
   {
    "duration": 660,
    "start_time": "2022-04-24T09:10:44.753Z"
   },
   {
    "duration": 36,
    "start_time": "2022-04-24T09:16:59.505Z"
   },
   {
    "duration": 63,
    "start_time": "2022-04-24T09:17:18.091Z"
   },
   {
    "duration": 73,
    "start_time": "2022-04-24T09:18:55.328Z"
   },
   {
    "duration": 219,
    "start_time": "2022-04-24T09:27:01.862Z"
   },
   {
    "duration": 844,
    "start_time": "2022-04-24T09:28:55.711Z"
   },
   {
    "duration": 478,
    "start_time": "2022-04-24T09:29:52.989Z"
   },
   {
    "duration": 1280,
    "start_time": "2022-04-24T09:30:25.700Z"
   },
   {
    "duration": 286,
    "start_time": "2022-04-24T09:31:23.174Z"
   },
   {
    "duration": 605,
    "start_time": "2022-04-24T09:31:55.336Z"
   },
   {
    "duration": 604,
    "start_time": "2022-04-24T09:32:06.260Z"
   },
   {
    "duration": 240,
    "start_time": "2022-04-24T09:32:18.237Z"
   },
   {
    "duration": 316,
    "start_time": "2022-04-24T09:32:22.715Z"
   },
   {
    "duration": 22,
    "start_time": "2022-04-24T09:32:47.720Z"
   },
   {
    "duration": 14,
    "start_time": "2022-04-24T09:33:00.694Z"
   },
   {
    "duration": 204,
    "start_time": "2022-04-24T09:37:02.289Z"
   },
   {
    "duration": 208,
    "start_time": "2022-04-24T09:37:11.711Z"
   },
   {
    "duration": 174,
    "start_time": "2022-04-24T09:37:28.492Z"
   },
   {
    "duration": 93,
    "start_time": "2022-04-24T09:52:08.557Z"
   },
   {
    "duration": 17,
    "start_time": "2022-04-24T09:52:22.092Z"
   },
   {
    "duration": 856,
    "start_time": "2022-04-24T09:53:34.999Z"
   },
   {
    "duration": 874,
    "start_time": "2022-04-24T09:54:02.407Z"
   },
   {
    "duration": 641,
    "start_time": "2022-04-24T09:54:37.839Z"
   },
   {
    "duration": 787,
    "start_time": "2022-04-24T09:54:58.837Z"
   },
   {
    "duration": 946,
    "start_time": "2022-04-24T09:55:29.265Z"
   },
   {
    "duration": 325,
    "start_time": "2022-04-24T09:56:32.894Z"
   },
   {
    "duration": 60,
    "start_time": "2022-04-24T09:57:13.429Z"
   },
   {
    "duration": 44,
    "start_time": "2022-04-24T09:57:23.522Z"
   },
   {
    "duration": 126,
    "start_time": "2022-04-24T09:58:34.267Z"
   },
   {
    "duration": 115,
    "start_time": "2022-04-24T09:58:40.515Z"
   },
   {
    "duration": 4,
    "start_time": "2022-04-24T10:02:56.453Z"
   },
   {
    "duration": 1910,
    "start_time": "2022-04-24T10:02:58.888Z"
   },
   {
    "duration": 3,
    "start_time": "2022-04-24T10:03:56.828Z"
   },
   {
    "duration": 1041,
    "start_time": "2022-04-24T10:03:58.196Z"
   },
   {
    "duration": 1184,
    "start_time": "2022-04-24T10:04:19.948Z"
   },
   {
    "duration": 1730,
    "start_time": "2022-04-24T10:04:56.140Z"
   },
   {
    "duration": 4,
    "start_time": "2022-04-24T10:05:01.363Z"
   },
   {
    "duration": 1435,
    "start_time": "2022-04-24T10:05:02.303Z"
   },
   {
    "duration": 13,
    "start_time": "2022-04-24T10:05:43.319Z"
   },
   {
    "duration": 4,
    "start_time": "2022-04-24T10:05:48.162Z"
   },
   {
    "duration": 1112,
    "start_time": "2022-04-24T10:05:48.955Z"
   },
   {
    "duration": 1175,
    "start_time": "2022-04-24T10:06:29.084Z"
   },
   {
    "duration": 1060,
    "start_time": "2022-04-24T10:07:08.689Z"
   },
   {
    "duration": 1131,
    "start_time": "2022-04-24T10:07:42.599Z"
   },
   {
    "duration": 1091,
    "start_time": "2022-04-24T10:07:52.693Z"
   },
   {
    "duration": 4,
    "start_time": "2022-04-24T10:09:02.973Z"
   },
   {
    "duration": 1057,
    "start_time": "2022-04-24T10:09:03.999Z"
   },
   {
    "duration": 2742,
    "start_time": "2022-04-24T10:09:21.012Z"
   },
   {
    "duration": 2797,
    "start_time": "2022-04-24T10:09:23.757Z"
   },
   {
    "duration": 183,
    "start_time": "2022-04-24T10:09:26.556Z"
   },
   {
    "duration": 27,
    "start_time": "2022-04-24T10:09:26.751Z"
   },
   {
    "duration": 179,
    "start_time": "2022-04-24T10:09:26.782Z"
   },
   {
    "duration": 699,
    "start_time": "2022-04-24T10:09:26.963Z"
   },
   {
    "duration": 329,
    "start_time": "2022-04-24T10:09:27.664Z"
   },
   {
    "duration": 1438,
    "start_time": "2022-04-24T10:09:27.995Z"
   },
   {
    "duration": 300,
    "start_time": "2022-04-24T10:09:29.436Z"
   },
   {
    "duration": 1099,
    "start_time": "2022-04-24T10:09:29.739Z"
   },
   {
    "duration": 51,
    "start_time": "2022-04-24T10:09:30.840Z"
   },
   {
    "duration": 970,
    "start_time": "2022-04-24T10:09:30.894Z"
   },
   {
    "duration": 89,
    "start_time": "2022-04-24T10:09:31.867Z"
   },
   {
    "duration": 109,
    "start_time": "2022-04-24T10:09:31.962Z"
   },
   {
    "duration": 60,
    "start_time": "2022-04-24T10:09:32.073Z"
   },
   {
    "duration": 42,
    "start_time": "2022-04-24T10:09:32.135Z"
   },
   {
    "duration": 144,
    "start_time": "2022-04-24T10:09:32.180Z"
   },
   {
    "duration": 5,
    "start_time": "2022-04-24T10:09:32.327Z"
   },
   {
    "duration": 1246,
    "start_time": "2022-04-24T10:09:32.334Z"
   },
   {
    "duration": 570,
    "start_time": "2022-04-24T10:09:33.582Z"
   },
   {
    "duration": 564,
    "start_time": "2022-04-24T10:09:34.154Z"
   },
   {
    "duration": 580,
    "start_time": "2022-04-24T10:09:34.722Z"
   },
   {
    "duration": 200,
    "start_time": "2022-04-24T10:09:35.305Z"
   },
   {
    "duration": 19,
    "start_time": "2022-04-24T10:09:35.508Z"
   },
   {
    "duration": 2627,
    "start_time": "2022-04-24T10:09:57.726Z"
   },
   {
    "duration": 3300,
    "start_time": "2022-04-24T10:10:00.357Z"
   },
   {
    "duration": 306,
    "start_time": "2022-04-24T10:10:03.660Z"
   },
   {
    "duration": 35,
    "start_time": "2022-04-24T10:10:03.969Z"
   },
   {
    "duration": 192,
    "start_time": "2022-04-24T10:10:04.008Z"
   },
   {
    "duration": 1090,
    "start_time": "2022-04-24T10:10:04.203Z"
   },
   {
    "duration": 415,
    "start_time": "2022-04-24T10:10:05.296Z"
   },
   {
    "duration": 1576,
    "start_time": "2022-04-24T10:10:05.714Z"
   },
   {
    "duration": 290,
    "start_time": "2022-04-24T10:10:07.293Z"
   },
   {
    "duration": 1085,
    "start_time": "2022-04-24T10:10:07.586Z"
   },
   {
    "duration": 35,
    "start_time": "2022-04-24T10:10:08.673Z"
   },
   {
    "duration": 977,
    "start_time": "2022-04-24T10:10:08.710Z"
   },
   {
    "duration": 66,
    "start_time": "2022-04-24T10:10:09.690Z"
   },
   {
    "duration": 72,
    "start_time": "2022-04-24T10:10:09.762Z"
   },
   {
    "duration": 85,
    "start_time": "2022-04-24T10:10:09.836Z"
   },
   {
    "duration": 52,
    "start_time": "2022-04-24T10:10:09.923Z"
   },
   {
    "duration": 133,
    "start_time": "2022-04-24T10:10:09.978Z"
   },
   {
    "duration": 4,
    "start_time": "2022-04-24T10:10:10.114Z"
   },
   {
    "duration": 1316,
    "start_time": "2022-04-24T10:10:10.121Z"
   },
   {
    "duration": 13,
    "start_time": "2022-04-24T10:10:11.440Z"
   },
   {
    "duration": 0,
    "start_time": "2022-04-24T10:10:11.456Z"
   },
   {
    "duration": 0,
    "start_time": "2022-04-24T10:10:11.458Z"
   },
   {
    "duration": 0,
    "start_time": "2022-04-24T10:10:11.460Z"
   },
   {
    "duration": 0,
    "start_time": "2022-04-24T10:10:11.463Z"
   },
   {
    "duration": 137,
    "start_time": "2022-04-24T10:10:16.372Z"
   },
   {
    "duration": 26,
    "start_time": "2022-04-24T10:10:27.252Z"
   },
   {
    "duration": 1079,
    "start_time": "2022-04-24T10:32:56.800Z"
   },
   {
    "duration": 2507,
    "start_time": "2022-04-24T10:41:43.308Z"
   },
   {
    "duration": 3140,
    "start_time": "2022-04-24T10:41:45.817Z"
   },
   {
    "duration": 528,
    "start_time": "2022-04-24T10:41:48.961Z"
   },
   {
    "duration": 94,
    "start_time": "2022-04-24T10:41:49.494Z"
   },
   {
    "duration": 239,
    "start_time": "2022-04-24T10:41:49.592Z"
   },
   {
    "duration": 1127,
    "start_time": "2022-04-24T10:41:49.834Z"
   },
   {
    "duration": 621,
    "start_time": "2022-04-24T10:41:50.964Z"
   },
   {
    "duration": 1629,
    "start_time": "2022-04-24T10:41:51.588Z"
   },
   {
    "duration": 247,
    "start_time": "2022-04-24T10:41:53.221Z"
   },
   {
    "duration": 1050,
    "start_time": "2022-04-24T10:41:53.473Z"
   },
   {
    "duration": 50,
    "start_time": "2022-04-24T10:41:54.526Z"
   },
   {
    "duration": 1101,
    "start_time": "2022-04-24T10:41:54.582Z"
   },
   {
    "duration": 67,
    "start_time": "2022-04-24T10:41:55.686Z"
   },
   {
    "duration": 78,
    "start_time": "2022-04-24T10:41:55.756Z"
   },
   {
    "duration": 57,
    "start_time": "2022-04-24T10:41:55.837Z"
   },
   {
    "duration": 56,
    "start_time": "2022-04-24T10:41:55.897Z"
   },
   {
    "duration": 156,
    "start_time": "2022-04-24T10:41:55.959Z"
   },
   {
    "duration": 23,
    "start_time": "2022-04-24T10:41:56.117Z"
   },
   {
    "duration": 2016,
    "start_time": "2022-04-24T10:41:56.142Z"
   },
   {
    "duration": 204,
    "start_time": "2022-04-24T10:41:58.161Z"
   },
   {
    "duration": 27,
    "start_time": "2022-04-24T10:41:58.369Z"
   },
   {
    "duration": 1590,
    "start_time": "2022-04-24T10:41:58.400Z"
   },
   {
    "duration": 6,
    "start_time": "2022-04-24T10:41:59.994Z"
   },
   {
    "duration": 5,
    "start_time": "2022-04-24T10:49:02.659Z"
   },
   {
    "duration": 1685,
    "start_time": "2022-04-24T10:50:19.150Z"
   },
   {
    "duration": 2913,
    "start_time": "2022-04-24T10:51:23.758Z"
   },
   {
    "duration": 2926,
    "start_time": "2022-04-24T10:51:26.674Z"
   },
   {
    "duration": 313,
    "start_time": "2022-04-24T10:51:29.603Z"
   },
   {
    "duration": 50,
    "start_time": "2022-04-24T10:51:29.919Z"
   },
   {
    "duration": 168,
    "start_time": "2022-04-24T10:51:29.974Z"
   },
   {
    "duration": 967,
    "start_time": "2022-04-24T10:51:30.151Z"
   },
   {
    "duration": 400,
    "start_time": "2022-04-24T10:51:31.121Z"
   },
   {
    "duration": 1689,
    "start_time": "2022-04-24T10:51:31.524Z"
   },
   {
    "duration": 179,
    "start_time": "2022-04-24T10:51:33.216Z"
   },
   {
    "duration": 1237,
    "start_time": "2022-04-24T10:51:33.397Z"
   },
   {
    "duration": 51,
    "start_time": "2022-04-24T10:51:34.638Z"
   },
   {
    "duration": 1154,
    "start_time": "2022-04-24T10:51:34.692Z"
   },
   {
    "duration": 48,
    "start_time": "2022-04-24T10:51:35.852Z"
   },
   {
    "duration": 84,
    "start_time": "2022-04-24T10:51:35.904Z"
   },
   {
    "duration": 49,
    "start_time": "2022-04-24T10:51:35.992Z"
   },
   {
    "duration": 34,
    "start_time": "2022-04-24T10:51:36.044Z"
   },
   {
    "duration": 125,
    "start_time": "2022-04-24T10:51:36.081Z"
   },
   {
    "duration": 4,
    "start_time": "2022-04-24T10:51:36.208Z"
   },
   {
    "duration": 1310,
    "start_time": "2022-04-24T10:51:36.215Z"
   },
   {
    "duration": 102,
    "start_time": "2022-04-24T10:51:37.528Z"
   },
   {
    "duration": 35,
    "start_time": "2022-04-24T10:51:37.632Z"
   },
   {
    "duration": 1637,
    "start_time": "2022-04-24T10:51:37.670Z"
   },
   {
    "duration": 6,
    "start_time": "2022-04-24T10:51:39.310Z"
   },
   {
    "duration": 6,
    "start_time": "2022-04-24T10:51:39.319Z"
   },
   {
    "duration": 436,
    "start_time": "2022-04-24T10:51:39.328Z"
   },
   {
    "duration": 1100,
    "start_time": "2022-04-24T10:52:28.940Z"
   },
   {
    "duration": 6,
    "start_time": "2022-04-24T10:52:36.331Z"
   },
   {
    "duration": 4,
    "start_time": "2022-04-24T10:52:39.647Z"
   },
   {
    "duration": 37,
    "start_time": "2022-04-24T10:52:40.694Z"
   },
   {
    "duration": 268,
    "start_time": "2022-04-24T11:20:36.192Z"
   },
   {
    "duration": 208,
    "start_time": "2022-04-24T11:20:46.097Z"
   },
   {
    "duration": 462,
    "start_time": "2022-04-24T11:21:07.603Z"
   },
   {
    "duration": 10,
    "start_time": "2022-04-24T11:21:13.360Z"
   },
   {
    "duration": 72,
    "start_time": "2022-04-24T11:21:15.882Z"
   },
   {
    "duration": 5,
    "start_time": "2022-04-24T11:21:19.490Z"
   },
   {
    "duration": 127,
    "start_time": "2022-04-24T11:34:15.562Z"
   },
   {
    "duration": 675,
    "start_time": "2022-04-24T11:34:16.280Z"
   },
   {
    "duration": 8,
    "start_time": "2022-04-24T11:34:18.158Z"
   },
   {
    "duration": 46,
    "start_time": "2022-04-24T11:34:32.801Z"
   },
   {
    "duration": 5,
    "start_time": "2022-04-24T11:34:35.683Z"
   },
   {
    "duration": 15,
    "start_time": "2022-04-24T11:34:47.499Z"
   },
   {
    "duration": 13,
    "start_time": "2022-04-24T11:35:40.320Z"
   },
   {
    "duration": 6,
    "start_time": "2022-04-24T11:35:45.179Z"
   },
   {
    "duration": 53182,
    "start_time": "2022-04-24T11:35:50.584Z"
   },
   {
    "duration": 1191725,
    "start_time": "2022-04-24T11:37:56.850Z"
   },
   {
    "duration": 0,
    "start_time": "2022-04-24T11:57:48.591Z"
   },
   {
    "duration": 1537,
    "start_time": "2022-04-24T11:58:01.085Z"
   },
   {
    "duration": 14,
    "start_time": "2022-04-24T12:00:35.623Z"
   },
   {
    "duration": 3,
    "start_time": "2022-04-24T12:01:04.822Z"
   },
   {
    "duration": 789355,
    "start_time": "2022-04-24T12:01:05.407Z"
   },
   {
    "duration": 0,
    "start_time": "2022-04-24T12:14:14.766Z"
   },
   {
    "duration": 13,
    "start_time": "2022-04-24T12:14:20.496Z"
   },
   {
    "duration": 4,
    "start_time": "2022-04-24T12:14:45.152Z"
   },
   {
    "duration": 18,
    "start_time": "2022-04-24T12:14:46.069Z"
   },
   {
    "duration": 14,
    "start_time": "2022-04-24T12:15:15.578Z"
   },
   {
    "duration": 11,
    "start_time": "2022-04-24T12:15:57.079Z"
   },
   {
    "duration": 4,
    "start_time": "2022-04-24T12:23:33.512Z"
   },
   {
    "duration": 5,
    "start_time": "2022-04-24T12:23:35.832Z"
   },
   {
    "duration": 8,
    "start_time": "2022-04-24T12:23:46.543Z"
   },
   {
    "duration": 16,
    "start_time": "2022-04-24T12:26:10.548Z"
   },
   {
    "duration": 15,
    "start_time": "2022-04-24T12:27:32.947Z"
   },
   {
    "duration": 13,
    "start_time": "2022-04-24T12:27:49.443Z"
   },
   {
    "duration": 12,
    "start_time": "2022-04-24T12:28:59.241Z"
   },
   {
    "duration": 13,
    "start_time": "2022-04-24T12:30:23.234Z"
   },
   {
    "duration": 6,
    "start_time": "2022-04-24T12:31:24.587Z"
   },
   {
    "duration": 6,
    "start_time": "2022-04-24T12:31:44.724Z"
   },
   {
    "duration": 5,
    "start_time": "2022-04-24T12:33:06.851Z"
   },
   {
    "duration": 16,
    "start_time": "2022-04-24T12:33:19.729Z"
   },
   {
    "duration": 3,
    "start_time": "2022-04-24T12:34:03.736Z"
   },
   {
    "duration": 5,
    "start_time": "2022-04-24T12:34:04.786Z"
   },
   {
    "duration": 18,
    "start_time": "2022-04-24T12:34:05.619Z"
   },
   {
    "duration": 17,
    "start_time": "2022-04-24T12:35:17.177Z"
   },
   {
    "duration": 5,
    "start_time": "2022-04-24T12:35:44.625Z"
   },
   {
    "duration": 6,
    "start_time": "2022-04-24T12:35:45.263Z"
   },
   {
    "duration": 5,
    "start_time": "2022-04-24T12:36:00.309Z"
   },
   {
    "duration": 5,
    "start_time": "2022-04-24T12:36:09.376Z"
   },
   {
    "duration": 94271,
    "start_time": "2022-04-24T12:36:10.223Z"
   },
   {
    "duration": 15,
    "start_time": "2022-04-24T12:37:56.883Z"
   },
   {
    "duration": 4,
    "start_time": "2022-04-24T12:38:19.205Z"
   },
   {
    "duration": 4,
    "start_time": "2022-04-24T12:38:20.357Z"
   },
   {
    "duration": 2310,
    "start_time": "2022-04-24T12:38:21.301Z"
   },
   {
    "duration": 12,
    "start_time": "2022-04-24T12:38:33.344Z"
   },
   {
    "duration": 2051,
    "start_time": "2022-04-24T12:38:43.956Z"
   },
   {
    "duration": 24,
    "start_time": "2022-04-24T12:39:25.061Z"
   },
   {
    "duration": 8,
    "start_time": "2022-04-24T12:39:36.492Z"
   },
   {
    "duration": 6,
    "start_time": "2022-04-24T12:39:38.515Z"
   },
   {
    "duration": 4,
    "start_time": "2022-04-24T12:39:45.473Z"
   },
   {
    "duration": 2164,
    "start_time": "2022-04-24T12:39:46.770Z"
   },
   {
    "duration": 2228,
    "start_time": "2022-04-24T12:41:27.389Z"
   },
   {
    "duration": 699924,
    "start_time": "2022-04-24T12:42:06.100Z"
   },
   {
    "duration": 0,
    "start_time": "2022-04-24T12:53:46.033Z"
   },
   {
    "duration": 4,
    "start_time": "2022-04-24T12:54:20.789Z"
   },
   {
    "duration": 39260,
    "start_time": "2022-04-24T12:54:41.202Z"
   },
   {
    "duration": 14,
    "start_time": "2022-04-24T14:49:55.830Z"
   },
   {
    "duration": 402,
    "start_time": "2022-04-24T14:50:11.051Z"
   },
   {
    "duration": 6,
    "start_time": "2022-04-24T14:50:28.663Z"
   },
   {
    "duration": 6,
    "start_time": "2022-04-24T14:51:07.876Z"
   },
   {
    "duration": 95,
    "start_time": "2022-04-24T14:54:35.798Z"
   },
   {
    "duration": 15,
    "start_time": "2022-04-24T14:55:19.383Z"
   },
   {
    "duration": 19,
    "start_time": "2022-04-24T14:56:24.795Z"
   },
   {
    "duration": 19,
    "start_time": "2022-04-24T14:56:29.609Z"
   },
   {
    "duration": 16,
    "start_time": "2022-04-24T14:56:38.492Z"
   },
   {
    "duration": 19,
    "start_time": "2022-04-24T14:57:13.421Z"
   },
   {
    "duration": 1165,
    "start_time": "2022-04-24T14:57:21.687Z"
   },
   {
    "duration": 9759,
    "start_time": "2022-04-24T14:57:35.671Z"
   },
   {
    "duration": 15,
    "start_time": "2022-04-24T14:58:31.786Z"
   },
   {
    "duration": 4,
    "start_time": "2022-04-24T15:00:21.746Z"
   },
   {
    "duration": 4,
    "start_time": "2022-04-24T15:00:22.669Z"
   },
   {
    "duration": 180,
    "start_time": "2022-04-24T15:03:13.106Z"
   },
   {
    "duration": 12,
    "start_time": "2022-04-24T15:03:13.289Z"
   },
   {
    "duration": 0,
    "start_time": "2022-04-24T15:03:13.304Z"
   },
   {
    "duration": 276240,
    "start_time": "2022-04-24T15:03:20.736Z"
   },
   {
    "duration": 112324,
    "start_time": "2022-04-24T15:07:56.979Z"
   },
   {
    "duration": 7,
    "start_time": "2022-04-24T15:11:03.103Z"
   },
   {
    "duration": 74913,
    "start_time": "2022-04-24T15:11:36.141Z"
   },
   {
    "duration": 9,
    "start_time": "2022-04-24T15:12:51.057Z"
   },
   {
    "duration": 110,
    "start_time": "2022-04-24T15:13:10.221Z"
   },
   {
    "duration": 1574,
    "start_time": "2022-04-24T15:13:18.375Z"
   },
   {
    "duration": 114,
    "start_time": "2022-04-24T15:14:16.543Z"
   },
   {
    "duration": 7,
    "start_time": "2022-04-24T15:14:35.447Z"
   },
   {
    "duration": 1550,
    "start_time": "2022-04-24T15:14:42.659Z"
   },
   {
    "duration": 7,
    "start_time": "2022-04-24T15:15:41.381Z"
   },
   {
    "duration": 5789,
    "start_time": "2022-04-24T15:17:24.157Z"
   },
   {
    "duration": 7,
    "start_time": "2022-04-24T15:17:29.949Z"
   },
   {
    "duration": 7,
    "start_time": "2022-04-24T15:17:34.491Z"
   },
   {
    "duration": 6,
    "start_time": "2022-04-24T15:17:42.894Z"
   },
   {
    "duration": 29167,
    "start_time": "2022-04-24T15:17:46.620Z"
   },
   {
    "duration": 6,
    "start_time": "2022-04-24T15:19:44.046Z"
   },
   {
    "duration": 10405,
    "start_time": "2022-04-24T15:19:45.569Z"
   },
   {
    "duration": 129492,
    "start_time": "2022-04-24T15:20:05.635Z"
   },
   {
    "duration": 0,
    "start_time": "2022-04-24T15:22:15.130Z"
   },
   {
    "duration": 474159,
    "start_time": "2022-04-24T15:22:18.414Z"
   },
   {
    "duration": 6,
    "start_time": "2022-04-24T15:30:12.576Z"
   },
   {
    "duration": 6,
    "start_time": "2022-04-24T15:30:14.669Z"
   },
   {
    "duration": 133632,
    "start_time": "2022-04-24T15:30:23.956Z"
   },
   {
    "duration": 4,
    "start_time": "2022-04-24T15:32:50.978Z"
   },
   {
    "duration": 4,
    "start_time": "2022-04-24T15:32:59.670Z"
   },
   {
    "duration": 45477,
    "start_time": "2022-04-24T15:33:09.612Z"
   },
   {
    "duration": 125,
    "start_time": "2022-04-24T15:33:55.092Z"
   },
   {
    "duration": 209224,
    "start_time": "2022-04-24T15:34:20.638Z"
   },
   {
    "duration": 0,
    "start_time": "2022-04-24T15:37:49.964Z"
   },
   {
    "duration": 5,
    "start_time": "2022-04-24T15:37:53.821Z"
   },
   {
    "duration": 3,
    "start_time": "2022-04-24T15:37:55.886Z"
   },
   {
    "duration": 165404,
    "start_time": "2022-04-24T15:38:00.873Z"
   },
   {
    "duration": 5,
    "start_time": "2022-04-24T15:41:09.878Z"
   },
   {
    "duration": 4,
    "start_time": "2022-04-24T15:41:11.321Z"
   },
   {
    "duration": 249041,
    "start_time": "2022-04-24T15:41:13.025Z"
   },
   {
    "duration": 997,
    "start_time": "2022-04-24T15:45:49.480Z"
   },
   {
    "duration": 7,
    "start_time": "2022-04-24T15:47:06.059Z"
   },
   {
    "duration": 320430,
    "start_time": "2022-04-24T15:49:09.281Z"
   },
   {
    "duration": 4,
    "start_time": "2022-04-24T15:54:37.711Z"
   },
   {
    "duration": 673500,
    "start_time": "2022-04-24T15:55:33.287Z"
   },
   {
    "duration": 104,
    "start_time": "2022-04-24T16:35:54.522Z"
   },
   {
    "duration": 967,
    "start_time": "2022-04-24T16:37:04.008Z"
   },
   {
    "duration": 13,
    "start_time": "2022-04-24T16:37:08.409Z"
   },
   {
    "duration": 1016,
    "start_time": "2022-04-24T16:37:21.625Z"
   },
   {
    "duration": 1027,
    "start_time": "2022-04-24T16:37:33.036Z"
   },
   {
    "duration": 7,
    "start_time": "2022-04-24T16:37:40.057Z"
   },
   {
    "duration": 6,
    "start_time": "2022-04-24T16:38:04.224Z"
   },
   {
    "duration": 1039,
    "start_time": "2022-04-24T16:38:09.901Z"
   },
   {
    "duration": 1148,
    "start_time": "2022-04-24T16:38:17.228Z"
   },
   {
    "duration": 5,
    "start_time": "2022-04-24T16:38:26.621Z"
   },
   {
    "duration": 1192,
    "start_time": "2022-04-24T16:38:37.372Z"
   },
   {
    "duration": 7,
    "start_time": "2022-04-24T16:38:43.444Z"
   },
   {
    "duration": 5,
    "start_time": "2022-04-24T17:29:04.216Z"
   },
   {
    "duration": 3,
    "start_time": "2022-04-24T17:29:08.812Z"
   },
   {
    "duration": 203093,
    "start_time": "2022-04-24T17:29:50.381Z"
   },
   {
    "duration": 467843,
    "start_time": "2022-04-24T17:33:19.641Z"
   },
   {
    "duration": 1472,
    "start_time": "2022-04-24T17:41:38.088Z"
   },
   {
    "duration": 7,
    "start_time": "2022-04-24T17:41:42.110Z"
   },
   {
    "duration": 6,
    "start_time": "2022-04-24T17:42:07.510Z"
   },
   {
    "duration": 6,
    "start_time": "2022-04-24T17:42:52.012Z"
   },
   {
    "duration": 327597,
    "start_time": "2022-04-24T17:42:54.364Z"
   },
   {
    "duration": 13,
    "start_time": "2022-04-24T17:56:01.307Z"
   },
   {
    "duration": 14,
    "start_time": "2022-04-24T17:56:14.624Z"
   },
   {
    "duration": 21,
    "start_time": "2022-04-24T17:56:52.431Z"
   },
   {
    "duration": 13,
    "start_time": "2022-04-24T17:57:22.328Z"
   },
   {
    "duration": 14,
    "start_time": "2022-04-24T17:58:10.057Z"
   },
   {
    "duration": 15,
    "start_time": "2022-04-24T18:01:01.279Z"
   },
   {
    "duration": 13,
    "start_time": "2022-04-24T18:01:42.937Z"
   },
   {
    "duration": 114,
    "start_time": "2022-04-24T18:02:52.883Z"
   },
   {
    "duration": 442,
    "start_time": "2022-04-24T18:02:55.792Z"
   },
   {
    "duration": 4449,
    "start_time": "2022-04-24T18:03:18.579Z"
   },
   {
    "duration": 6,
    "start_time": "2022-04-24T18:04:02.461Z"
   },
   {
    "duration": 6,
    "start_time": "2022-04-24T18:04:49.042Z"
   },
   {
    "duration": 4,
    "start_time": "2022-04-24T18:05:04.535Z"
   },
   {
    "duration": 18,
    "start_time": "2022-04-24T18:05:25.255Z"
   },
   {
    "duration": 5,
    "start_time": "2022-04-24T18:05:50.934Z"
   },
   {
    "duration": 4,
    "start_time": "2022-04-24T18:05:51.957Z"
   },
   {
    "duration": 81,
    "start_time": "2022-04-24T18:06:06.642Z"
   },
   {
    "duration": 5,
    "start_time": "2022-04-24T18:06:48.057Z"
   },
   {
    "duration": 9,
    "start_time": "2022-04-24T18:06:49.635Z"
   },
   {
    "duration": 10,
    "start_time": "2022-04-24T18:07:57.136Z"
   },
   {
    "duration": 2105,
    "start_time": "2022-04-24T18:08:13.097Z"
   },
   {
    "duration": 1090,
    "start_time": "2022-04-24T18:08:17.098Z"
   },
   {
    "duration": 176,
    "start_time": "2022-04-24T18:08:18.776Z"
   },
   {
    "duration": 26,
    "start_time": "2022-04-24T18:08:24.658Z"
   },
   {
    "duration": 110,
    "start_time": "2022-04-24T18:08:25.886Z"
   },
   {
    "duration": 673,
    "start_time": "2022-04-24T18:08:28.596Z"
   },
   {
    "duration": 323,
    "start_time": "2022-04-24T18:08:29.371Z"
   },
   {
    "duration": 1478,
    "start_time": "2022-04-24T18:08:35.040Z"
   },
   {
    "duration": 152,
    "start_time": "2022-04-24T18:08:37.635Z"
   },
   {
    "duration": 774,
    "start_time": "2022-04-24T18:08:38.826Z"
   },
   {
    "duration": 36,
    "start_time": "2022-04-24T18:08:42.879Z"
   },
   {
    "duration": 959,
    "start_time": "2022-04-24T18:08:43.929Z"
   },
   {
    "duration": 46,
    "start_time": "2022-04-24T18:08:47.468Z"
   },
   {
    "duration": 59,
    "start_time": "2022-04-24T18:08:48.125Z"
   },
   {
    "duration": 49,
    "start_time": "2022-04-24T18:08:48.863Z"
   },
   {
    "duration": 29,
    "start_time": "2022-04-24T18:08:51.711Z"
   },
   {
    "duration": 102,
    "start_time": "2022-04-24T18:08:52.332Z"
   },
   {
    "duration": 4,
    "start_time": "2022-04-24T18:08:53.020Z"
   },
   {
    "duration": 1314,
    "start_time": "2022-04-24T18:08:53.588Z"
   },
   {
    "duration": 102,
    "start_time": "2022-04-24T18:08:55.682Z"
   },
   {
    "duration": 19,
    "start_time": "2022-04-24T18:08:58.348Z"
   },
   {
    "duration": 1060,
    "start_time": "2022-04-24T18:09:03.635Z"
   },
   {
    "duration": 6,
    "start_time": "2022-04-24T18:09:07.116Z"
   },
   {
    "duration": 4,
    "start_time": "2022-04-24T18:09:09.185Z"
   },
   {
    "duration": 258,
    "start_time": "2022-04-24T18:09:11.948Z"
   },
   {
    "duration": 221,
    "start_time": "2022-04-24T18:09:28.590Z"
   },
   {
    "duration": 452,
    "start_time": "2022-04-24T18:09:32.559Z"
   },
   {
    "duration": 164,
    "start_time": "2022-04-24T18:09:33.608Z"
   },
   {
    "duration": 21,
    "start_time": "2022-04-24T18:09:56.283Z"
   },
   {
    "duration": 8,
    "start_time": "2022-04-24T18:10:04.495Z"
   },
   {
    "duration": 4111,
    "start_time": "2022-04-24T18:10:07.057Z"
   },
   {
    "duration": 4,
    "start_time": "2022-04-24T18:10:17.505Z"
   },
   {
    "duration": 5,
    "start_time": "2022-04-24T18:10:20.953Z"
   },
   {
    "duration": 4,
    "start_time": "2022-04-24T18:10:22.729Z"
   },
   {
    "duration": 160952,
    "start_time": "2022-04-24T18:10:25.646Z"
   },
   {
    "duration": 0,
    "start_time": "2022-04-24T18:13:06.604Z"
   },
   {
    "duration": 4,
    "start_time": "2022-04-24T18:13:16.201Z"
   },
   {
    "duration": 12,
    "start_time": "2022-04-24T18:13:17.677Z"
   },
   {
    "duration": 5,
    "start_time": "2022-04-24T18:32:10.327Z"
   },
   {
    "duration": 7,
    "start_time": "2022-04-24T18:32:24.180Z"
   },
   {
    "duration": 4,
    "start_time": "2022-04-24T18:32:34.203Z"
   },
   {
    "duration": 73,
    "start_time": "2022-04-24T18:32:47.483Z"
   },
   {
    "duration": 2081,
    "start_time": "2022-04-24T18:32:59.369Z"
   },
   {
    "duration": 1502,
    "start_time": "2022-04-24T18:33:01.453Z"
   },
   {
    "duration": 2575,
    "start_time": "2022-04-24T18:33:13.602Z"
   },
   {
    "duration": 1085,
    "start_time": "2022-04-24T18:33:16.181Z"
   },
   {
    "duration": 327,
    "start_time": "2022-04-24T18:33:17.269Z"
   },
   {
    "duration": 74,
    "start_time": "2022-04-24T18:33:17.598Z"
   },
   {
    "duration": 214,
    "start_time": "2022-04-24T18:33:17.675Z"
   },
   {
    "duration": 1366,
    "start_time": "2022-04-24T18:33:17.891Z"
   },
   {
    "duration": 894,
    "start_time": "2022-04-24T18:33:19.259Z"
   },
   {
    "duration": 1975,
    "start_time": "2022-04-24T18:33:20.156Z"
   },
   {
    "duration": 244,
    "start_time": "2022-04-24T18:33:22.134Z"
   },
   {
    "duration": 1069,
    "start_time": "2022-04-24T18:33:22.380Z"
   },
   {
    "duration": 38,
    "start_time": "2022-04-24T18:33:23.453Z"
   },
   {
    "duration": 859,
    "start_time": "2022-04-24T18:33:23.493Z"
   },
   {
    "duration": 46,
    "start_time": "2022-04-24T18:33:24.354Z"
   },
   {
    "duration": 78,
    "start_time": "2022-04-24T18:33:24.404Z"
   },
   {
    "duration": 45,
    "start_time": "2022-04-24T18:33:24.484Z"
   },
   {
    "duration": 28,
    "start_time": "2022-04-24T18:33:24.551Z"
   },
   {
    "duration": 121,
    "start_time": "2022-04-24T18:33:24.581Z"
   },
   {
    "duration": 3,
    "start_time": "2022-04-24T18:33:24.705Z"
   },
   {
    "duration": 1236,
    "start_time": "2022-04-24T18:33:24.710Z"
   },
   {
    "duration": 112,
    "start_time": "2022-04-24T18:33:25.948Z"
   },
   {
    "duration": 17,
    "start_time": "2022-04-24T18:33:26.062Z"
   },
   {
    "duration": 1206,
    "start_time": "2022-04-24T18:33:26.081Z"
   },
   {
    "duration": 4,
    "start_time": "2022-04-24T18:33:27.289Z"
   },
   {
    "duration": 5,
    "start_time": "2022-04-24T18:33:27.296Z"
   },
   {
    "duration": 282,
    "start_time": "2022-04-24T18:33:27.303Z"
   },
   {
    "duration": 214,
    "start_time": "2022-04-24T18:33:27.587Z"
   },
   {
    "duration": 4,
    "start_time": "2022-04-24T18:33:27.803Z"
   },
   {
    "duration": 6,
    "start_time": "2022-04-24T18:33:27.809Z"
   },
   {
    "duration": 471,
    "start_time": "2022-04-24T18:33:27.818Z"
   },
   {
    "duration": 9,
    "start_time": "2022-04-24T18:33:28.291Z"
   },
   {
    "duration": 4540,
    "start_time": "2022-04-24T18:33:28.304Z"
   },
   {
    "duration": 4,
    "start_time": "2022-04-24T18:33:32.851Z"
   },
   {
    "duration": 12,
    "start_time": "2022-04-24T18:33:32.857Z"
   },
   {
    "duration": 23,
    "start_time": "2022-04-24T18:33:32.871Z"
   },
   {
    "duration": 126630,
    "start_time": "2022-04-24T18:33:32.897Z"
   },
   {
    "duration": 0,
    "start_time": "2022-04-24T18:35:39.532Z"
   },
   {
    "duration": 0,
    "start_time": "2022-04-24T18:35:39.534Z"
   },
   {
    "duration": 0,
    "start_time": "2022-04-24T18:35:39.535Z"
   },
   {
    "duration": 0,
    "start_time": "2022-04-24T18:35:39.537Z"
   },
   {
    "duration": 0,
    "start_time": "2022-04-24T18:35:39.551Z"
   },
   {
    "duration": 0,
    "start_time": "2022-04-24T18:35:39.553Z"
   },
   {
    "duration": 0,
    "start_time": "2022-04-24T18:35:39.555Z"
   },
   {
    "duration": 0,
    "start_time": "2022-04-24T18:35:39.556Z"
   },
   {
    "duration": 0,
    "start_time": "2022-04-24T18:35:39.558Z"
   },
   {
    "duration": 0,
    "start_time": "2022-04-24T18:35:39.560Z"
   },
   {
    "duration": 0,
    "start_time": "2022-04-24T18:35:39.562Z"
   },
   {
    "duration": 0,
    "start_time": "2022-04-24T18:35:39.564Z"
   },
   {
    "duration": 0,
    "start_time": "2022-04-24T18:35:39.566Z"
   },
   {
    "duration": 0,
    "start_time": "2022-04-24T18:35:39.568Z"
   },
   {
    "duration": 0,
    "start_time": "2022-04-24T18:35:39.570Z"
   },
   {
    "duration": 0,
    "start_time": "2022-04-24T18:35:39.572Z"
   },
   {
    "duration": 0,
    "start_time": "2022-04-24T18:35:39.573Z"
   },
   {
    "duration": 0,
    "start_time": "2022-04-24T18:35:39.575Z"
   },
   {
    "duration": 0,
    "start_time": "2022-04-24T18:35:39.577Z"
   },
   {
    "duration": 0,
    "start_time": "2022-04-24T18:35:39.579Z"
   },
   {
    "duration": 0,
    "start_time": "2022-04-24T18:35:39.581Z"
   },
   {
    "duration": 0,
    "start_time": "2022-04-24T18:35:39.582Z"
   },
   {
    "duration": 0,
    "start_time": "2022-04-24T18:35:39.584Z"
   },
   {
    "duration": 0,
    "start_time": "2022-04-24T18:35:39.586Z"
   },
   {
    "duration": 0,
    "start_time": "2022-04-24T18:35:39.588Z"
   },
   {
    "duration": 0,
    "start_time": "2022-04-24T18:35:39.590Z"
   },
   {
    "duration": 6,
    "start_time": "2022-04-24T18:35:46.102Z"
   },
   {
    "duration": 141505,
    "start_time": "2022-04-24T18:35:47.927Z"
   },
   {
    "duration": 4,
    "start_time": "2022-04-24T18:38:13.306Z"
   },
   {
    "duration": 13,
    "start_time": "2022-04-24T18:42:14.169Z"
   },
   {
    "duration": 2102,
    "start_time": "2022-04-24T18:44:16.128Z"
   },
   {
    "duration": 1089,
    "start_time": "2022-04-24T18:44:18.233Z"
   },
   {
    "duration": 194,
    "start_time": "2022-04-24T18:44:19.325Z"
   },
   {
    "duration": 38,
    "start_time": "2022-04-24T18:44:19.521Z"
   },
   {
    "duration": 133,
    "start_time": "2022-04-24T18:44:19.562Z"
   },
   {
    "duration": 1176,
    "start_time": "2022-04-24T18:44:19.697Z"
   },
   {
    "duration": 611,
    "start_time": "2022-04-24T18:44:20.875Z"
   },
   {
    "duration": 2574,
    "start_time": "2022-04-24T18:44:21.488Z"
   },
   {
    "duration": 300,
    "start_time": "2022-04-24T18:44:24.064Z"
   },
   {
    "duration": 1531,
    "start_time": "2022-04-24T18:44:24.366Z"
   },
   {
    "duration": 81,
    "start_time": "2022-04-24T18:44:25.900Z"
   },
   {
    "duration": 921,
    "start_time": "2022-04-24T18:44:25.983Z"
   },
   {
    "duration": 64,
    "start_time": "2022-04-24T18:44:26.906Z"
   },
   {
    "duration": 60,
    "start_time": "2022-04-24T18:44:26.974Z"
   },
   {
    "duration": 59,
    "start_time": "2022-04-24T18:44:27.037Z"
   },
   {
    "duration": 28,
    "start_time": "2022-04-24T18:44:27.099Z"
   },
   {
    "duration": 131,
    "start_time": "2022-04-24T18:44:27.129Z"
   },
   {
    "duration": 4,
    "start_time": "2022-04-24T18:44:27.262Z"
   },
   {
    "duration": 1242,
    "start_time": "2022-04-24T18:44:27.268Z"
   },
   {
    "duration": 102,
    "start_time": "2022-04-24T18:44:28.512Z"
   },
   {
    "duration": 34,
    "start_time": "2022-04-24T18:44:28.617Z"
   },
   {
    "duration": 1197,
    "start_time": "2022-04-24T18:44:28.654Z"
   },
   {
    "duration": 5,
    "start_time": "2022-04-24T18:44:29.854Z"
   },
   {
    "duration": 6,
    "start_time": "2022-04-24T18:44:29.861Z"
   },
   {
    "duration": 278,
    "start_time": "2022-04-24T18:44:29.869Z"
   },
   {
    "duration": 219,
    "start_time": "2022-04-24T18:44:30.152Z"
   },
   {
    "duration": 3,
    "start_time": "2022-04-24T18:44:30.373Z"
   },
   {
    "duration": 20,
    "start_time": "2022-04-24T18:44:30.378Z"
   },
   {
    "duration": 461,
    "start_time": "2022-04-24T18:44:30.400Z"
   },
   {
    "duration": 9,
    "start_time": "2022-04-24T18:44:30.863Z"
   },
   {
    "duration": 4212,
    "start_time": "2022-04-24T18:44:30.874Z"
   },
   {
    "duration": 4,
    "start_time": "2022-04-24T18:44:35.088Z"
   },
   {
    "duration": 15,
    "start_time": "2022-04-24T18:44:35.094Z"
   },
   {
    "duration": 268856,
    "start_time": "2022-04-24T18:44:35.111Z"
   },
   {
    "duration": 6,
    "start_time": "2022-04-24T18:49:03.969Z"
   },
   {
    "duration": 6,
    "start_time": "2022-04-24T18:49:03.978Z"
   },
   {
    "duration": 2528,
    "start_time": "2022-04-24T19:20:34.141Z"
   },
   {
    "duration": 7,
    "start_time": "2022-04-24T19:20:36.673Z"
   },
   {
    "duration": 2912,
    "start_time": "2022-04-24T19:20:36.683Z"
   },
   {
    "duration": 185,
    "start_time": "2022-04-24T19:20:39.598Z"
   },
   {
    "duration": 26,
    "start_time": "2022-04-24T19:20:39.788Z"
   },
   {
    "duration": 143,
    "start_time": "2022-04-24T19:20:39.816Z"
   },
   {
    "duration": 708,
    "start_time": "2022-04-24T19:20:39.962Z"
   },
   {
    "duration": 334,
    "start_time": "2022-04-24T19:20:40.673Z"
   },
   {
    "duration": 1433,
    "start_time": "2022-04-24T19:20:41.010Z"
   },
   {
    "duration": 161,
    "start_time": "2022-04-24T19:20:42.452Z"
   },
   {
    "duration": 770,
    "start_time": "2022-04-24T19:20:42.617Z"
   },
   {
    "duration": 33,
    "start_time": "2022-04-24T19:20:43.390Z"
   },
   {
    "duration": 848,
    "start_time": "2022-04-24T19:20:43.426Z"
   },
   {
    "duration": 44,
    "start_time": "2022-04-24T19:20:44.279Z"
   },
   {
    "duration": 72,
    "start_time": "2022-04-24T19:20:44.325Z"
   },
   {
    "duration": 65,
    "start_time": "2022-04-24T19:20:44.399Z"
   },
   {
    "duration": 28,
    "start_time": "2022-04-24T19:20:44.466Z"
   },
   {
    "duration": 115,
    "start_time": "2022-04-24T19:20:44.496Z"
   },
   {
    "duration": 4,
    "start_time": "2022-04-24T19:20:44.613Z"
   },
   {
    "duration": 1195,
    "start_time": "2022-04-24T19:20:44.619Z"
   },
   {
    "duration": 102,
    "start_time": "2022-04-24T19:20:45.816Z"
   },
   {
    "duration": 33,
    "start_time": "2022-04-24T19:20:45.920Z"
   },
   {
    "duration": 932,
    "start_time": "2022-04-24T19:20:45.955Z"
   },
   {
    "duration": 5,
    "start_time": "2022-04-24T19:20:46.889Z"
   },
   {
    "duration": 25,
    "start_time": "2022-04-24T19:20:46.896Z"
   },
   {
    "duration": 268,
    "start_time": "2022-04-24T19:20:46.923Z"
   },
   {
    "duration": 218,
    "start_time": "2022-04-24T19:20:47.193Z"
   },
   {
    "duration": 473,
    "start_time": "2022-04-24T19:20:47.413Z"
   },
   {
    "duration": 177,
    "start_time": "2022-04-24T19:20:47.888Z"
   },
   {
    "duration": 0,
    "start_time": "2022-04-24T19:20:48.069Z"
   },
   {
    "duration": 0,
    "start_time": "2022-04-24T19:20:48.071Z"
   },
   {
    "duration": 0,
    "start_time": "2022-04-24T19:20:48.073Z"
   },
   {
    "duration": 0,
    "start_time": "2022-04-24T19:20:48.076Z"
   },
   {
    "duration": 0,
    "start_time": "2022-04-24T19:20:48.077Z"
   },
   {
    "duration": 0,
    "start_time": "2022-04-24T19:20:48.079Z"
   },
   {
    "duration": 0,
    "start_time": "2022-04-24T19:20:48.081Z"
   },
   {
    "duration": 0,
    "start_time": "2022-04-24T19:20:48.083Z"
   },
   {
    "duration": 0,
    "start_time": "2022-04-24T19:20:48.085Z"
   },
   {
    "duration": 0,
    "start_time": "2022-04-24T19:20:48.087Z"
   },
   {
    "duration": 0,
    "start_time": "2022-04-24T19:20:48.089Z"
   },
   {
    "duration": 0,
    "start_time": "2022-04-24T19:20:48.091Z"
   },
   {
    "duration": 0,
    "start_time": "2022-04-24T19:20:48.093Z"
   },
   {
    "duration": 0,
    "start_time": "2022-04-24T19:20:48.095Z"
   },
   {
    "duration": 0,
    "start_time": "2022-04-24T19:20:48.097Z"
   },
   {
    "duration": 0,
    "start_time": "2022-04-24T19:20:48.099Z"
   },
   {
    "duration": 0,
    "start_time": "2022-04-24T19:20:48.152Z"
   },
   {
    "duration": 4,
    "start_time": "2022-04-24T19:21:20.901Z"
   },
   {
    "duration": 3155,
    "start_time": "2022-04-24T19:21:21.765Z"
   },
   {
    "duration": 3306,
    "start_time": "2022-04-24T19:21:39.841Z"
   },
   {
    "duration": 4,
    "start_time": "2022-04-24T19:21:51.700Z"
   },
   {
    "duration": 3,
    "start_time": "2022-04-24T19:21:55.255Z"
   },
   {
    "duration": 14,
    "start_time": "2022-04-24T19:21:55.963Z"
   },
   {
    "duration": 8,
    "start_time": "2022-04-24T19:22:07.203Z"
   },
   {
    "duration": 3,
    "start_time": "2022-04-24T19:22:17.577Z"
   },
   {
    "duration": 30471,
    "start_time": "2022-04-24T19:22:18.383Z"
   },
   {
    "duration": 4,
    "start_time": "2022-04-24T19:22:54.040Z"
   },
   {
    "duration": 40,
    "start_time": "2022-04-24T19:22:58.813Z"
   },
   {
    "duration": 14,
    "start_time": "2022-04-24T19:23:01.015Z"
   },
   {
    "duration": 6,
    "start_time": "2022-04-24T19:23:10.234Z"
   },
   {
    "duration": 7,
    "start_time": "2022-04-24T19:23:20.634Z"
   },
   {
    "duration": 63213,
    "start_time": "2022-04-24T19:23:23.173Z"
   },
   {
    "duration": 7,
    "start_time": "2022-04-24T19:25:13.693Z"
   },
   {
    "duration": 132,
    "start_time": "2022-04-24T19:25:16.598Z"
   },
   {
    "duration": 386686,
    "start_time": "2022-04-24T19:25:25.968Z"
   },
   {
    "duration": 13,
    "start_time": "2022-04-24T19:33:04.524Z"
   },
   {
    "duration": 5,
    "start_time": "2022-04-24T19:33:13.369Z"
   },
   {
    "duration": 106,
    "start_time": "2022-04-24T19:33:48.163Z"
   },
   {
    "duration": 4,
    "start_time": "2022-04-24T19:34:29.149Z"
   },
   {
    "duration": 19200,
    "start_time": "2022-04-24T19:34:30.702Z"
   },
   {
    "duration": 103,
    "start_time": "2022-04-24T19:35:39.294Z"
   },
   {
    "duration": 81,
    "start_time": "2022-04-24T19:35:54.888Z"
   },
   {
    "duration": 7,
    "start_time": "2022-04-24T19:36:09.473Z"
   },
   {
    "duration": 79,
    "start_time": "2022-04-24T19:36:22.735Z"
   },
   {
    "duration": 6,
    "start_time": "2022-04-24T19:36:30.822Z"
   },
   {
    "duration": 6,
    "start_time": "2022-04-24T19:37:14.875Z"
   },
   {
    "duration": 4,
    "start_time": "2022-04-24T19:37:40.791Z"
   },
   {
    "duration": 4,
    "start_time": "2022-04-24T19:37:42.906Z"
   },
   {
    "duration": 22556,
    "start_time": "2022-04-24T19:37:46.603Z"
   },
   {
    "duration": 1671,
    "start_time": "2022-04-24T19:38:11.996Z"
   },
   {
    "duration": 12,
    "start_time": "2022-04-24T19:38:25.992Z"
   },
   {
    "duration": 6,
    "start_time": "2022-04-24T19:38:32.741Z"
   },
   {
    "duration": 4,
    "start_time": "2022-04-24T19:40:37.164Z"
   },
   {
    "duration": 4,
    "start_time": "2022-04-24T19:40:40.018Z"
   },
   {
    "duration": 20873,
    "start_time": "2022-04-24T19:40:44.591Z"
   },
   {
    "duration": 1198,
    "start_time": "2022-04-24T19:42:12.377Z"
   },
   {
    "duration": 6,
    "start_time": "2022-04-24T19:42:14.674Z"
   },
   {
    "duration": 4,
    "start_time": "2022-04-24T19:42:44.411Z"
   },
   {
    "duration": 4,
    "start_time": "2022-04-24T19:42:45.460Z"
   },
   {
    "duration": 25915,
    "start_time": "2022-04-24T19:42:48.261Z"
   },
   {
    "duration": 4,
    "start_time": "2022-04-24T19:43:24.725Z"
   },
   {
    "duration": 4,
    "start_time": "2022-04-24T19:43:26.087Z"
   },
   {
    "duration": 20558,
    "start_time": "2022-04-24T19:43:27.402Z"
   },
   {
    "duration": 1183,
    "start_time": "2022-04-24T19:44:07.987Z"
   },
   {
    "duration": 6,
    "start_time": "2022-04-24T19:44:13.547Z"
   },
   {
    "duration": 5,
    "start_time": "2022-04-24T19:44:22.629Z"
   },
   {
    "duration": 4,
    "start_time": "2022-04-24T19:44:24.422Z"
   },
   {
    "duration": 21398,
    "start_time": "2022-04-24T19:44:25.471Z"
   },
   {
    "duration": 1103,
    "start_time": "2022-04-24T19:44:48.862Z"
   },
   {
    "duration": 7,
    "start_time": "2022-04-24T19:44:52.982Z"
   },
   {
    "duration": 4,
    "start_time": "2022-04-24T19:45:01.781Z"
   },
   {
    "duration": 3,
    "start_time": "2022-04-24T19:45:02.829Z"
   },
   {
    "duration": 20482,
    "start_time": "2022-04-24T19:45:03.878Z"
   },
   {
    "duration": 1191,
    "start_time": "2022-04-24T19:45:24.363Z"
   },
   {
    "duration": 6,
    "start_time": "2022-04-24T19:45:25.557Z"
   },
   {
    "duration": 5,
    "start_time": "2022-04-24T19:45:31.399Z"
   },
   {
    "duration": 3,
    "start_time": "2022-04-24T19:45:32.636Z"
   },
   {
    "duration": 23998,
    "start_time": "2022-04-24T19:45:33.478Z"
   },
   {
    "duration": 1287,
    "start_time": "2022-04-24T19:45:57.479Z"
   },
   {
    "duration": 87,
    "start_time": "2022-04-24T19:45:58.769Z"
   },
   {
    "duration": 14,
    "start_time": "2022-04-24T19:49:34.423Z"
   },
   {
    "duration": 4,
    "start_time": "2022-04-24T19:49:53.487Z"
   },
   {
    "duration": 13,
    "start_time": "2022-04-24T19:49:54.461Z"
   },
   {
    "duration": 4,
    "start_time": "2022-04-24T19:51:55.154Z"
   },
   {
    "duration": 5,
    "start_time": "2022-04-24T19:51:55.989Z"
   },
   {
    "duration": 5497,
    "start_time": "2022-04-24T19:52:10.681Z"
   },
   {
    "duration": 12,
    "start_time": "2022-04-24T19:52:40.197Z"
   },
   {
    "duration": 99,
    "start_time": "2022-04-24T19:52:46.323Z"
   },
   {
    "duration": 6,
    "start_time": "2022-04-24T19:53:10.203Z"
   },
   {
    "duration": 27,
    "start_time": "2022-04-24T20:03:29.381Z"
   },
   {
    "duration": 1184,
    "start_time": "2022-04-24T20:06:11.494Z"
   },
   {
    "duration": 98,
    "start_time": "2022-04-24T20:06:43.259Z"
   },
   {
    "duration": 14,
    "start_time": "2022-04-24T20:08:46.345Z"
   },
   {
    "duration": 20,
    "start_time": "2022-04-24T20:10:26.525Z"
   },
   {
    "duration": 15,
    "start_time": "2022-04-24T20:10:32.110Z"
   },
   {
    "duration": 3,
    "start_time": "2022-04-24T20:31:36.997Z"
   },
   {
    "duration": 4,
    "start_time": "2022-04-24T20:31:38.086Z"
   },
   {
    "duration": 5404,
    "start_time": "2022-04-24T20:31:39.081Z"
   },
   {
    "duration": 99,
    "start_time": "2022-04-24T20:31:47.237Z"
   },
   {
    "duration": 2027,
    "start_time": "2022-04-24T20:32:29.352Z"
   },
   {
    "duration": 1114,
    "start_time": "2022-04-24T20:32:31.383Z"
   },
   {
    "duration": 194,
    "start_time": "2022-04-24T20:32:32.500Z"
   },
   {
    "duration": 26,
    "start_time": "2022-04-24T20:32:32.697Z"
   },
   {
    "duration": 148,
    "start_time": "2022-04-24T20:32:32.727Z"
   },
   {
    "duration": 760,
    "start_time": "2022-04-24T20:32:32.878Z"
   },
   {
    "duration": 338,
    "start_time": "2022-04-24T20:32:33.641Z"
   },
   {
    "duration": 1557,
    "start_time": "2022-04-24T20:32:33.981Z"
   },
   {
    "duration": 282,
    "start_time": "2022-04-24T20:32:35.541Z"
   },
   {
    "duration": 1274,
    "start_time": "2022-04-24T20:32:35.826Z"
   },
   {
    "duration": 55,
    "start_time": "2022-04-24T20:32:37.103Z"
   },
   {
    "duration": 1372,
    "start_time": "2022-04-24T20:32:37.161Z"
   },
   {
    "duration": 68,
    "start_time": "2022-04-24T20:32:38.536Z"
   },
   {
    "duration": 90,
    "start_time": "2022-04-24T20:32:38.612Z"
   },
   {
    "duration": 69,
    "start_time": "2022-04-24T20:32:38.705Z"
   },
   {
    "duration": 41,
    "start_time": "2022-04-24T20:32:38.776Z"
   },
   {
    "duration": 126,
    "start_time": "2022-04-24T20:32:38.820Z"
   },
   {
    "duration": 4,
    "start_time": "2022-04-24T20:32:38.948Z"
   },
   {
    "duration": 1226,
    "start_time": "2022-04-24T20:32:38.954Z"
   },
   {
    "duration": 110,
    "start_time": "2022-04-24T20:32:40.182Z"
   },
   {
    "duration": 17,
    "start_time": "2022-04-24T20:32:40.295Z"
   },
   {
    "duration": 1173,
    "start_time": "2022-04-24T20:32:40.314Z"
   },
   {
    "duration": 5,
    "start_time": "2022-04-24T20:32:41.489Z"
   },
   {
    "duration": 8,
    "start_time": "2022-04-24T20:32:41.496Z"
   },
   {
    "duration": 274,
    "start_time": "2022-04-24T20:32:41.506Z"
   },
   {
    "duration": 225,
    "start_time": "2022-04-24T20:32:41.783Z"
   },
   {
    "duration": 460,
    "start_time": "2022-04-24T20:32:42.010Z"
   },
   {
    "duration": 4248,
    "start_time": "2022-04-24T20:32:42.473Z"
   },
   {
    "duration": 4,
    "start_time": "2022-04-24T20:32:46.723Z"
   },
   {
    "duration": 22,
    "start_time": "2022-04-24T20:32:46.730Z"
   },
   {
    "duration": 3,
    "start_time": "2022-04-24T20:32:46.754Z"
   },
   {
    "duration": 35297,
    "start_time": "2022-04-24T20:32:46.759Z"
   },
   {
    "duration": 196,
    "start_time": "2022-04-24T20:33:22.058Z"
   },
   {
    "duration": 95,
    "start_time": "2022-04-24T20:33:22.258Z"
   },
   {
    "duration": 7,
    "start_time": "2022-04-24T20:33:22.355Z"
   },
   {
    "duration": 20283,
    "start_time": "2022-04-24T20:33:22.364Z"
   },
   {
    "duration": 75,
    "start_time": "2022-04-24T20:33:42.650Z"
   },
   {
    "duration": 5,
    "start_time": "2022-04-24T20:33:42.728Z"
   },
   {
    "duration": 18,
    "start_time": "2022-04-24T20:33:42.735Z"
   },
   {
    "duration": 8,
    "start_time": "2022-04-24T20:33:42.755Z"
   },
   {
    "duration": 19990,
    "start_time": "2022-04-24T20:33:42.769Z"
   },
   {
    "duration": 1210,
    "start_time": "2022-04-24T20:34:02.761Z"
   },
   {
    "duration": 83,
    "start_time": "2022-04-24T20:34:03.974Z"
   },
   {
    "duration": 9,
    "start_time": "2022-04-24T20:34:04.059Z"
   },
   {
    "duration": 12,
    "start_time": "2022-04-24T20:34:04.070Z"
   },
   {
    "duration": 5702,
    "start_time": "2022-04-24T20:34:04.084Z"
   },
   {
    "duration": 109,
    "start_time": "2022-04-24T20:34:09.788Z"
   },
   {
    "duration": 6,
    "start_time": "2022-04-24T20:34:09.900Z"
   },
   {
    "duration": 20,
    "start_time": "2022-04-24T20:34:09.908Z"
   },
   {
    "duration": 2598,
    "start_time": "2022-04-24T20:35:42.282Z"
   },
   {
    "duration": 1973,
    "start_time": "2022-04-24T20:35:44.884Z"
   },
   {
    "duration": 184,
    "start_time": "2022-04-24T20:35:46.859Z"
   },
   {
    "duration": 28,
    "start_time": "2022-04-24T20:35:47.045Z"
   },
   {
    "duration": 139,
    "start_time": "2022-04-24T20:35:47.076Z"
   },
   {
    "duration": 754,
    "start_time": "2022-04-24T20:35:47.218Z"
   },
   {
    "duration": 351,
    "start_time": "2022-04-24T20:35:47.975Z"
   },
   {
    "duration": 1541,
    "start_time": "2022-04-24T20:35:48.328Z"
   },
   {
    "duration": 180,
    "start_time": "2022-04-24T20:35:49.872Z"
   },
   {
    "duration": 1092,
    "start_time": "2022-04-24T20:35:50.054Z"
   },
   {
    "duration": 40,
    "start_time": "2022-04-24T20:35:51.152Z"
   },
   {
    "duration": 1097,
    "start_time": "2022-04-24T20:35:51.195Z"
   },
   {
    "duration": 57,
    "start_time": "2022-04-24T20:35:52.295Z"
   },
   {
    "duration": 102,
    "start_time": "2022-04-24T20:35:52.359Z"
   },
   {
    "duration": 52,
    "start_time": "2022-04-24T20:35:52.464Z"
   },
   {
    "duration": 46,
    "start_time": "2022-04-24T20:35:52.519Z"
   },
   {
    "duration": 135,
    "start_time": "2022-04-24T20:35:52.568Z"
   },
   {
    "duration": 4,
    "start_time": "2022-04-24T20:35:52.705Z"
   },
   {
    "duration": 1733,
    "start_time": "2022-04-24T20:35:52.711Z"
   },
   {
    "duration": 184,
    "start_time": "2022-04-24T20:35:54.446Z"
   },
   {
    "duration": 41,
    "start_time": "2022-04-24T20:35:54.632Z"
   },
   {
    "duration": 1406,
    "start_time": "2022-04-24T20:35:54.675Z"
   },
   {
    "duration": 8,
    "start_time": "2022-04-24T20:35:56.083Z"
   },
   {
    "duration": 28,
    "start_time": "2022-04-24T20:35:56.093Z"
   },
   {
    "duration": 267,
    "start_time": "2022-04-24T20:35:56.124Z"
   },
   {
    "duration": 218,
    "start_time": "2022-04-24T20:35:56.393Z"
   },
   {
    "duration": 448,
    "start_time": "2022-04-24T20:35:56.614Z"
   },
   {
    "duration": 4279,
    "start_time": "2022-04-24T20:35:57.064Z"
   },
   {
    "duration": 6,
    "start_time": "2022-04-24T20:36:01.346Z"
   },
   {
    "duration": 12,
    "start_time": "2022-04-24T20:36:01.354Z"
   },
   {
    "duration": 5,
    "start_time": "2022-04-24T20:36:01.368Z"
   },
   {
    "duration": 40989,
    "start_time": "2022-04-24T20:36:01.376Z"
   },
   {
    "duration": 186,
    "start_time": "2022-04-24T20:36:42.367Z"
   },
   {
    "duration": 96,
    "start_time": "2022-04-24T20:36:42.557Z"
   },
   {
    "duration": 6,
    "start_time": "2022-04-24T20:36:42.655Z"
   },
   {
    "duration": 20196,
    "start_time": "2022-04-24T20:36:42.663Z"
   },
   {
    "duration": 99,
    "start_time": "2022-04-24T20:37:02.862Z"
   },
   {
    "duration": 7,
    "start_time": "2022-04-24T20:37:02.964Z"
   },
   {
    "duration": 13,
    "start_time": "2022-04-24T20:37:02.973Z"
   },
   {
    "duration": 14,
    "start_time": "2022-04-24T20:37:02.989Z"
   },
   {
    "duration": 171910,
    "start_time": "2022-04-24T20:37:03.013Z"
   },
   {
    "duration": 179,
    "start_time": "2022-04-24T20:39:54.926Z"
   },
   {
    "duration": 12,
    "start_time": "2022-04-24T20:39:55.108Z"
   },
   {
    "duration": 0,
    "start_time": "2022-04-24T20:39:55.122Z"
   },
   {
    "duration": 0,
    "start_time": "2022-04-24T20:39:55.124Z"
   },
   {
    "duration": 0,
    "start_time": "2022-04-24T20:39:55.126Z"
   },
   {
    "duration": 0,
    "start_time": "2022-04-24T20:39:55.127Z"
   },
   {
    "duration": 0,
    "start_time": "2022-04-24T20:39:55.129Z"
   },
   {
    "duration": 0,
    "start_time": "2022-04-24T20:39:55.130Z"
   },
   {
    "duration": 21112,
    "start_time": "2022-04-24T20:42:09.976Z"
   },
   {
    "duration": 11,
    "start_time": "2022-04-24T20:42:31.102Z"
   },
   {
    "duration": 13,
    "start_time": "2022-04-24T20:42:31.115Z"
   },
   {
    "duration": 7809,
    "start_time": "2022-04-24T20:42:40.133Z"
   },
   {
    "duration": 100,
    "start_time": "2022-04-24T20:42:52.720Z"
   },
   {
    "duration": 7,
    "start_time": "2022-04-24T20:42:57.311Z"
   },
   {
    "duration": 20,
    "start_time": "2022-04-24T20:43:04.252Z"
   },
   {
    "duration": 2339,
    "start_time": "2022-04-24T20:43:11.732Z"
   },
   {
    "duration": 1647,
    "start_time": "2022-04-24T20:43:14.075Z"
   },
   {
    "duration": 183,
    "start_time": "2022-04-24T20:43:15.725Z"
   },
   {
    "duration": 41,
    "start_time": "2022-04-24T20:43:15.911Z"
   },
   {
    "duration": 167,
    "start_time": "2022-04-24T20:43:15.955Z"
   },
   {
    "duration": 715,
    "start_time": "2022-04-24T20:43:16.124Z"
   },
   {
    "duration": 335,
    "start_time": "2022-04-24T20:43:16.842Z"
   },
   {
    "duration": 1436,
    "start_time": "2022-04-24T20:43:17.179Z"
   },
   {
    "duration": 180,
    "start_time": "2022-04-24T20:43:18.618Z"
   },
   {
    "duration": 780,
    "start_time": "2022-04-24T20:43:18.801Z"
   },
   {
    "duration": 33,
    "start_time": "2022-04-24T20:43:19.584Z"
   },
   {
    "duration": 868,
    "start_time": "2022-04-24T20:43:19.620Z"
   },
   {
    "duration": 66,
    "start_time": "2022-04-24T20:43:20.491Z"
   },
   {
    "duration": 67,
    "start_time": "2022-04-24T20:43:20.564Z"
   },
   {
    "duration": 65,
    "start_time": "2022-04-24T20:43:20.633Z"
   },
   {
    "duration": 27,
    "start_time": "2022-04-24T20:43:20.701Z"
   },
   {
    "duration": 138,
    "start_time": "2022-04-24T20:43:20.731Z"
   },
   {
    "duration": 4,
    "start_time": "2022-04-24T20:43:20.872Z"
   },
   {
    "duration": 3275,
    "start_time": "2022-04-24T20:43:20.878Z"
   },
   {
    "duration": 396,
    "start_time": "2022-04-24T20:43:24.156Z"
   },
   {
    "duration": 26,
    "start_time": "2022-04-24T20:43:24.555Z"
   },
   {
    "duration": 1563,
    "start_time": "2022-04-24T20:43:24.583Z"
   },
   {
    "duration": 5,
    "start_time": "2022-04-24T20:43:26.151Z"
   },
   {
    "duration": 8,
    "start_time": "2022-04-24T20:43:26.158Z"
   },
   {
    "duration": 280,
    "start_time": "2022-04-24T20:43:26.168Z"
   },
   {
    "duration": 218,
    "start_time": "2022-04-24T20:43:26.452Z"
   },
   {
    "duration": 455,
    "start_time": "2022-04-24T20:43:26.672Z"
   },
   {
    "duration": 4272,
    "start_time": "2022-04-24T20:43:27.129Z"
   },
   {
    "duration": 3,
    "start_time": "2022-04-24T20:43:31.404Z"
   },
   {
    "duration": 14,
    "start_time": "2022-04-24T20:43:31.409Z"
   },
   {
    "duration": 3,
    "start_time": "2022-04-24T20:43:31.426Z"
   },
   {
    "duration": 39532,
    "start_time": "2022-04-24T20:43:31.431Z"
   },
   {
    "duration": 193,
    "start_time": "2022-04-24T20:44:10.965Z"
   },
   {
    "duration": 96,
    "start_time": "2022-04-24T20:44:11.162Z"
   },
   {
    "duration": 5,
    "start_time": "2022-04-24T20:44:11.260Z"
   },
   {
    "duration": 20016,
    "start_time": "2022-04-24T20:44:11.267Z"
   },
   {
    "duration": 80,
    "start_time": "2022-04-24T20:44:31.285Z"
   },
   {
    "duration": 6,
    "start_time": "2022-04-24T20:44:31.367Z"
   },
   {
    "duration": 7,
    "start_time": "2022-04-24T20:44:31.375Z"
   },
   {
    "duration": 15,
    "start_time": "2022-04-24T20:44:31.384Z"
   },
   {
    "duration": 308930,
    "start_time": "2022-04-24T20:44:31.406Z"
   },
   {
    "duration": 147,
    "start_time": "2022-04-24T20:49:40.339Z"
   },
   {
    "duration": 14,
    "start_time": "2022-04-24T20:49:40.488Z"
   },
   {
    "duration": 0,
    "start_time": "2022-04-24T20:49:40.504Z"
   },
   {
    "duration": 0,
    "start_time": "2022-04-24T20:49:40.506Z"
   },
   {
    "duration": 0,
    "start_time": "2022-04-24T20:49:40.508Z"
   },
   {
    "duration": 0,
    "start_time": "2022-04-24T20:49:40.509Z"
   },
   {
    "duration": 0,
    "start_time": "2022-04-24T20:49:40.511Z"
   },
   {
    "duration": 0,
    "start_time": "2022-04-24T20:49:40.512Z"
   },
   {
    "duration": 1,
    "start_time": "2022-04-24T20:49:40.513Z"
   },
   {
    "duration": 4,
    "start_time": "2022-04-24T20:49:45.553Z"
   },
   {
    "duration": 4,
    "start_time": "2022-04-24T20:49:46.675Z"
   },
   {
    "duration": 5,
    "start_time": "2022-04-24T20:50:47.646Z"
   },
   {
    "duration": 6,
    "start_time": "2022-04-24T20:50:47.653Z"
   },
   {
    "duration": 2188,
    "start_time": "2022-04-24T20:52:29.187Z"
   },
   {
    "duration": 2498,
    "start_time": "2022-04-24T20:52:31.378Z"
   },
   {
    "duration": 426,
    "start_time": "2022-04-24T20:52:33.880Z"
   },
   {
    "duration": 25,
    "start_time": "2022-04-24T20:52:34.308Z"
   },
   {
    "duration": 126,
    "start_time": "2022-04-24T20:52:34.355Z"
   },
   {
    "duration": 762,
    "start_time": "2022-04-24T20:52:34.483Z"
   },
   {
    "duration": 378,
    "start_time": "2022-04-24T20:52:35.253Z"
   },
   {
    "duration": 1602,
    "start_time": "2022-04-24T20:52:35.633Z"
   },
   {
    "duration": 171,
    "start_time": "2022-04-24T20:52:37.237Z"
   },
   {
    "duration": 798,
    "start_time": "2022-04-24T20:52:37.410Z"
   },
   {
    "duration": 33,
    "start_time": "2022-04-24T20:52:38.210Z"
   },
   {
    "duration": 874,
    "start_time": "2022-04-24T20:52:38.245Z"
   },
   {
    "duration": 57,
    "start_time": "2022-04-24T20:52:39.122Z"
   },
   {
    "duration": 68,
    "start_time": "2022-04-24T20:52:39.184Z"
   },
   {
    "duration": 47,
    "start_time": "2022-04-24T20:52:39.255Z"
   },
   {
    "duration": 28,
    "start_time": "2022-04-24T20:52:39.304Z"
   },
   {
    "duration": 134,
    "start_time": "2022-04-24T20:52:39.333Z"
   },
   {
    "duration": 4,
    "start_time": "2022-04-24T20:52:39.469Z"
   },
   {
    "duration": 1223,
    "start_time": "2022-04-24T20:52:39.475Z"
   },
   {
    "duration": 113,
    "start_time": "2022-04-24T20:52:40.700Z"
   },
   {
    "duration": 18,
    "start_time": "2022-04-24T20:52:40.815Z"
   },
   {
    "duration": 1246,
    "start_time": "2022-04-24T20:52:40.835Z"
   },
   {
    "duration": 5,
    "start_time": "2022-04-24T20:52:42.083Z"
   },
   {
    "duration": 10,
    "start_time": "2022-04-24T20:52:42.089Z"
   },
   {
    "duration": 278,
    "start_time": "2022-04-24T20:52:42.101Z"
   },
   {
    "duration": 219,
    "start_time": "2022-04-24T20:52:42.381Z"
   },
   {
    "duration": 476,
    "start_time": "2022-04-24T20:52:42.603Z"
   },
   {
    "duration": 4221,
    "start_time": "2022-04-24T20:52:43.081Z"
   },
   {
    "duration": 4,
    "start_time": "2022-04-24T20:52:47.304Z"
   },
   {
    "duration": 22,
    "start_time": "2022-04-24T20:52:47.310Z"
   },
   {
    "duration": 31,
    "start_time": "2022-04-24T20:52:47.335Z"
   },
   {
    "duration": 40296,
    "start_time": "2022-04-24T20:52:47.368Z"
   },
   {
    "duration": 189,
    "start_time": "2022-04-24T20:53:27.667Z"
   },
   {
    "duration": 94,
    "start_time": "2022-04-24T20:53:27.864Z"
   },
   {
    "duration": 17,
    "start_time": "2022-04-24T20:53:27.961Z"
   },
   {
    "duration": 19435,
    "start_time": "2022-04-24T20:53:27.980Z"
   },
   {
    "duration": 84,
    "start_time": "2022-04-24T20:53:47.417Z"
   },
   {
    "duration": 6,
    "start_time": "2022-04-24T20:53:47.503Z"
   },
   {
    "duration": 7,
    "start_time": "2022-04-24T20:53:47.511Z"
   },
   {
    "duration": 8,
    "start_time": "2022-04-24T20:53:47.520Z"
   },
   {
    "duration": 47927,
    "start_time": "2022-04-24T20:53:47.534Z"
   },
   {
    "duration": 1114,
    "start_time": "2022-04-24T20:54:35.463Z"
   },
   {
    "duration": 81,
    "start_time": "2022-04-24T20:54:36.579Z"
   },
   {
    "duration": 12,
    "start_time": "2022-04-24T20:54:36.667Z"
   },
   {
    "duration": 8,
    "start_time": "2022-04-24T20:54:36.681Z"
   },
   {
    "duration": 5622,
    "start_time": "2022-04-24T20:54:36.691Z"
   },
   {
    "duration": 116,
    "start_time": "2022-04-24T20:54:42.315Z"
   },
   {
    "duration": 19,
    "start_time": "2022-04-24T20:54:42.433Z"
   },
   {
    "duration": 17,
    "start_time": "2022-04-24T20:54:42.454Z"
   },
   {
    "duration": 15,
    "start_time": "2022-04-24T20:56:47.480Z"
   },
   {
    "duration": 111,
    "start_time": "2022-04-25T19:50:59.098Z"
   },
   {
    "duration": 1767,
    "start_time": "2022-04-26T05:34:10.240Z"
   },
   {
    "duration": 756,
    "start_time": "2022-04-26T05:34:14.574Z"
   },
   {
    "duration": 115,
    "start_time": "2022-04-26T05:34:16.363Z"
   },
   {
    "duration": 17,
    "start_time": "2022-04-26T05:34:18.913Z"
   },
   {
    "duration": 797,
    "start_time": "2022-04-26T05:34:21.390Z"
   },
   {
    "duration": 658,
    "start_time": "2022-04-26T05:35:24.182Z"
   },
   {
    "duration": 375,
    "start_time": "2022-04-26T05:35:26.971Z"
   },
   {
    "duration": 1396,
    "start_time": "2022-04-26T05:35:36.764Z"
   },
   {
    "duration": 171,
    "start_time": "2022-04-26T05:35:39.553Z"
   },
   {
    "duration": 508,
    "start_time": "2022-04-26T05:37:40.986Z"
   },
   {
    "duration": 23,
    "start_time": "2022-04-26T05:37:46.326Z"
   },
   {
    "duration": 376,
    "start_time": "2022-04-26T05:37:56.802Z"
   },
   {
    "duration": 388,
    "start_time": "2022-04-26T05:38:22.886Z"
   },
   {
    "duration": 138,
    "start_time": "2022-04-26T05:40:33.527Z"
   },
   {
    "duration": 139,
    "start_time": "2022-04-26T05:41:03.106Z"
   },
   {
    "duration": 478,
    "start_time": "2022-04-26T05:42:24.349Z"
   },
   {
    "duration": 32,
    "start_time": "2022-04-26T05:44:59.766Z"
   },
   {
    "duration": 40,
    "start_time": "2022-04-26T05:45:00.407Z"
   },
   {
    "duration": 27,
    "start_time": "2022-04-26T05:45:01.259Z"
   },
   {
    "duration": 19,
    "start_time": "2022-04-26T05:45:03.146Z"
   },
   {
    "duration": 68,
    "start_time": "2022-04-26T05:45:05.151Z"
   },
   {
    "duration": 3,
    "start_time": "2022-04-26T05:45:06.160Z"
   },
   {
    "duration": 745,
    "start_time": "2022-04-26T05:45:07.122Z"
   },
   {
    "duration": 66,
    "start_time": "2022-04-26T05:45:10.510Z"
   },
   {
    "duration": 12,
    "start_time": "2022-04-26T05:45:13.771Z"
   },
   {
    "duration": 710,
    "start_time": "2022-04-26T05:45:36.430Z"
   },
   {
    "duration": 4,
    "start_time": "2022-04-26T05:45:38.981Z"
   },
   {
    "duration": 2,
    "start_time": "2022-04-26T05:45:41.864Z"
   },
   {
    "duration": 153,
    "start_time": "2022-04-26T05:45:42.843Z"
   },
   {
    "duration": 182,
    "start_time": "2022-04-26T05:45:48.165Z"
   },
   {
    "duration": 298,
    "start_time": "2022-04-26T05:45:49.694Z"
   },
   {
    "duration": 2316,
    "start_time": "2022-04-26T05:45:56.898Z"
   },
   {
    "duration": 137,
    "start_time": "2022-04-26T05:47:06.508Z"
   },
   {
    "duration": 4,
    "start_time": "2022-04-26T05:48:26.396Z"
   },
   {
    "duration": 4,
    "start_time": "2022-04-26T06:07:14.784Z"
   },
   {
    "duration": 109,
    "start_time": "2022-04-26T06:07:22.584Z"
   },
   {
    "duration": 2653,
    "start_time": "2022-04-26T06:07:48.284Z"
   },
   {
    "duration": 27700,
    "start_time": "2022-04-26T06:08:11.243Z"
   },
   {
    "duration": 3,
    "start_time": "2022-04-26T06:09:09.661Z"
   },
   {
    "duration": 3,
    "start_time": "2022-04-26T06:09:10.781Z"
   },
   {
    "duration": 4903,
    "start_time": "2022-04-26T06:09:13.239Z"
   },
   {
    "duration": 133,
    "start_time": "2022-04-26T06:09:23.003Z"
   },
   {
    "duration": 5,
    "start_time": "2022-04-26T06:09:25.306Z"
   },
   {
    "duration": 28122,
    "start_time": "2022-04-26T06:10:13.881Z"
   },
   {
    "duration": 2,
    "start_time": "2022-04-26T06:10:46.603Z"
   },
   {
    "duration": 2,
    "start_time": "2022-04-26T06:11:14.433Z"
   },
   {
    "duration": 7265,
    "start_time": "2022-04-26T06:11:15.661Z"
   },
   {
    "duration": 156,
    "start_time": "2022-04-26T06:11:24.637Z"
   },
   {
    "duration": 6,
    "start_time": "2022-04-26T06:11:27.204Z"
   },
   {
    "duration": 1547,
    "start_time": "2022-04-26T06:13:04.543Z"
   },
   {
    "duration": 744,
    "start_time": "2022-04-26T06:13:06.092Z"
   },
   {
    "duration": 124,
    "start_time": "2022-04-26T06:13:06.837Z"
   },
   {
    "duration": 16,
    "start_time": "2022-04-26T06:13:06.964Z"
   },
   {
    "duration": 869,
    "start_time": "2022-04-26T06:13:06.981Z"
   },
   {
    "duration": 478,
    "start_time": "2022-04-26T06:13:07.852Z"
   },
   {
    "duration": 212,
    "start_time": "2022-04-26T06:13:08.332Z"
   },
   {
    "duration": 916,
    "start_time": "2022-04-26T06:13:08.546Z"
   },
   {
    "duration": 109,
    "start_time": "2022-04-26T06:13:09.464Z"
   },
   {
    "duration": 428,
    "start_time": "2022-04-26T06:13:09.576Z"
   },
   {
    "duration": 34,
    "start_time": "2022-04-26T06:13:10.006Z"
   },
   {
    "duration": 495,
    "start_time": "2022-04-26T06:13:10.042Z"
   },
   {
    "duration": 377,
    "start_time": "2022-04-26T06:13:10.539Z"
   },
   {
    "duration": 142,
    "start_time": "2022-04-26T06:13:10.918Z"
   },
   {
    "duration": 24,
    "start_time": "2022-04-26T06:13:11.061Z"
   },
   {
    "duration": 55,
    "start_time": "2022-04-26T06:13:11.087Z"
   },
   {
    "duration": 24,
    "start_time": "2022-04-26T06:13:11.144Z"
   },
   {
    "duration": 21,
    "start_time": "2022-04-26T06:13:11.169Z"
   },
   {
    "duration": 77,
    "start_time": "2022-04-26T06:13:11.192Z"
   },
   {
    "duration": 3,
    "start_time": "2022-04-26T06:13:11.271Z"
   },
   {
    "duration": 706,
    "start_time": "2022-04-26T06:13:11.275Z"
   },
   {
    "duration": 66,
    "start_time": "2022-04-26T06:13:11.983Z"
   },
   {
    "duration": 18,
    "start_time": "2022-04-26T06:13:12.050Z"
   },
   {
    "duration": 723,
    "start_time": "2022-04-26T06:13:12.070Z"
   },
   {
    "duration": 3,
    "start_time": "2022-04-26T06:13:12.795Z"
   },
   {
    "duration": 5,
    "start_time": "2022-04-26T06:13:12.800Z"
   },
   {
    "duration": 163,
    "start_time": "2022-04-26T06:13:12.807Z"
   },
   {
    "duration": 186,
    "start_time": "2022-04-26T06:13:12.974Z"
   },
   {
    "duration": 310,
    "start_time": "2022-04-26T06:13:13.162Z"
   },
   {
    "duration": 2306,
    "start_time": "2022-04-26T06:13:13.474Z"
   },
   {
    "duration": 3,
    "start_time": "2022-04-26T06:13:15.782Z"
   },
   {
    "duration": 8,
    "start_time": "2022-04-26T06:13:15.786Z"
   },
   {
    "duration": 5,
    "start_time": "2022-04-26T06:13:15.795Z"
   },
   {
    "duration": 30230,
    "start_time": "2022-04-26T06:13:15.801Z"
   },
   {
    "duration": 321,
    "start_time": "2022-04-26T06:13:46.033Z"
   },
   {
    "duration": 6,
    "start_time": "2022-04-26T06:13:46.424Z"
   },
   {
    "duration": 92,
    "start_time": "2022-04-26T06:13:46.432Z"
   },
   {
    "duration": 11257,
    "start_time": "2022-04-26T06:13:46.527Z"
   },
   {
    "duration": 74,
    "start_time": "2022-04-26T06:13:57.785Z"
   },
   {
    "duration": 4,
    "start_time": "2022-04-26T06:13:57.861Z"
   },
   {
    "duration": 4,
    "start_time": "2022-04-26T06:13:57.867Z"
   },
   {
    "duration": 5,
    "start_time": "2022-04-26T06:13:57.873Z"
   },
   {
    "duration": 172856,
    "start_time": "2022-04-26T06:13:57.879Z"
   },
   {
    "duration": 756,
    "start_time": "2022-04-26T06:16:50.737Z"
   },
   {
    "duration": 31,
    "start_time": "2022-04-26T06:16:51.495Z"
   },
   {
    "duration": 28212,
    "start_time": "2022-04-26T06:16:51.528Z"
   },
   {
    "duration": 3,
    "start_time": "2022-04-26T06:17:19.741Z"
   },
   {
    "duration": 6,
    "start_time": "2022-04-26T06:17:19.745Z"
   },
   {
    "duration": 5108,
    "start_time": "2022-04-26T06:17:19.752Z"
   },
   {
    "duration": 119,
    "start_time": "2022-04-26T06:17:24.861Z"
   },
   {
    "duration": 4,
    "start_time": "2022-04-26T06:17:24.982Z"
   },
   {
    "duration": 12,
    "start_time": "2022-04-26T06:17:24.987Z"
   },
   {
    "duration": 4,
    "start_time": "2022-04-26T06:21:48.220Z"
   },
   {
    "duration": 4,
    "start_time": "2022-04-26T06:21:58.390Z"
   },
   {
    "duration": 674,
    "start_time": "2022-04-26T06:21:58.396Z"
   },
   {
    "duration": 108,
    "start_time": "2022-04-26T06:21:59.071Z"
   },
   {
    "duration": 13,
    "start_time": "2022-04-26T06:21:59.181Z"
   },
   {
    "duration": 844,
    "start_time": "2022-04-26T06:21:59.196Z"
   },
   {
    "duration": 403,
    "start_time": "2022-04-26T06:22:00.042Z"
   },
   {
    "duration": 208,
    "start_time": "2022-04-26T06:22:00.447Z"
   },
   {
    "duration": 828,
    "start_time": "2022-04-26T06:22:00.657Z"
   },
   {
    "duration": 106,
    "start_time": "2022-04-26T06:22:01.487Z"
   },
   {
    "duration": 509,
    "start_time": "2022-04-26T06:22:01.594Z"
   },
   {
    "duration": 36,
    "start_time": "2022-04-26T06:22:02.105Z"
   },
   {
    "duration": 441,
    "start_time": "2022-04-26T06:22:02.143Z"
   },
   {
    "duration": 385,
    "start_time": "2022-04-26T06:22:02.585Z"
   },
   {
    "duration": 148,
    "start_time": "2022-04-26T06:22:02.973Z"
   },
   {
    "duration": 24,
    "start_time": "2022-04-26T06:22:03.123Z"
   },
   {
    "duration": 33,
    "start_time": "2022-04-26T06:22:03.149Z"
   },
   {
    "duration": 45,
    "start_time": "2022-04-26T06:22:03.183Z"
   },
   {
    "duration": 21,
    "start_time": "2022-04-26T06:22:03.230Z"
   },
   {
    "duration": 77,
    "start_time": "2022-04-26T06:22:03.253Z"
   },
   {
    "duration": 3,
    "start_time": "2022-04-26T06:22:03.332Z"
   },
   {
    "duration": 710,
    "start_time": "2022-04-26T06:22:03.337Z"
   },
   {
    "duration": 75,
    "start_time": "2022-04-26T06:22:04.049Z"
   },
   {
    "duration": 13,
    "start_time": "2022-04-26T06:22:04.125Z"
   },
   {
    "duration": 755,
    "start_time": "2022-04-26T06:22:04.139Z"
   },
   {
    "duration": 3,
    "start_time": "2022-04-26T06:22:04.896Z"
   },
   {
    "duration": 24,
    "start_time": "2022-04-26T06:22:04.901Z"
   },
   {
    "duration": 162,
    "start_time": "2022-04-26T06:22:04.927Z"
   },
   {
    "duration": 152,
    "start_time": "2022-04-26T06:22:05.091Z"
   },
   {
    "duration": 320,
    "start_time": "2022-04-26T06:22:05.244Z"
   },
   {
    "duration": 2431,
    "start_time": "2022-04-26T06:22:05.566Z"
   },
   {
    "duration": 3,
    "start_time": "2022-04-26T06:22:07.999Z"
   },
   {
    "duration": 9,
    "start_time": "2022-04-26T06:22:08.004Z"
   },
   {
    "duration": 9,
    "start_time": "2022-04-26T06:22:08.015Z"
   },
   {
    "duration": 27301,
    "start_time": "2022-04-26T06:22:08.026Z"
   },
   {
    "duration": 397,
    "start_time": "2022-04-26T06:22:35.328Z"
   },
   {
    "duration": 7,
    "start_time": "2022-04-26T06:22:35.727Z"
   },
   {
    "duration": 9,
    "start_time": "2022-04-26T06:22:35.825Z"
   },
   {
    "duration": 8744,
    "start_time": "2022-04-26T06:22:35.836Z"
   },
   {
    "duration": 69,
    "start_time": "2022-04-26T06:22:44.581Z"
   },
   {
    "duration": 4,
    "start_time": "2022-04-26T06:22:44.651Z"
   },
   {
    "duration": 4,
    "start_time": "2022-04-26T06:22:44.659Z"
   },
   {
    "duration": 9,
    "start_time": "2022-04-26T06:22:44.664Z"
   },
   {
    "duration": 39664,
    "start_time": "2022-04-26T06:22:44.675Z"
   },
   {
    "duration": 700,
    "start_time": "2022-04-26T06:23:24.340Z"
   },
   {
    "duration": 5,
    "start_time": "2022-04-26T06:23:25.041Z"
   },
   {
    "duration": 27529,
    "start_time": "2022-04-26T06:23:25.123Z"
   },
   {
    "duration": 2,
    "start_time": "2022-04-26T06:23:52.654Z"
   },
   {
    "duration": 6,
    "start_time": "2022-04-26T06:23:52.658Z"
   },
   {
    "duration": 5239,
    "start_time": "2022-04-26T06:23:52.666Z"
   },
   {
    "duration": 145,
    "start_time": "2022-04-26T06:23:57.907Z"
   },
   {
    "duration": 4,
    "start_time": "2022-04-26T06:23:58.054Z"
   },
   {
    "duration": 14,
    "start_time": "2022-04-26T06:23:58.060Z"
   },
   {
    "duration": 2,
    "start_time": "2022-04-26T06:24:17.928Z"
   },
   {
    "duration": 6,
    "start_time": "2022-04-26T06:24:21.058Z"
   },
   {
    "duration": 3,
    "start_time": "2022-04-26T06:24:31.031Z"
   },
   {
    "duration": 2,
    "start_time": "2022-04-26T06:26:33.812Z"
   },
   {
    "duration": 3,
    "start_time": "2022-04-26T06:26:39.473Z"
   },
   {
    "duration": 21372,
    "start_time": "2022-04-26T06:26:40.253Z"
   },
   {
    "duration": 230,
    "start_time": "2022-04-26T06:27:06.119Z"
   },
   {
    "duration": 4,
    "start_time": "2022-04-26T06:27:07.951Z"
   },
   {
    "duration": 2533,
    "start_time": "2022-04-26T06:30:00.431Z"
   },
   {
    "duration": 3,
    "start_time": "2022-04-26T06:30:06.498Z"
   },
   {
    "duration": 3,
    "start_time": "2022-04-26T06:30:11.319Z"
   },
   {
    "duration": 22798,
    "start_time": "2022-04-26T06:30:12.133Z"
   },
   {
    "duration": 31,
    "start_time": "2022-04-26T06:30:37.317Z"
   },
   {
    "duration": 5,
    "start_time": "2022-04-26T06:30:39.049Z"
   },
   {
    "duration": 1630,
    "start_time": "2022-04-26T06:31:06.066Z"
   },
   {
    "duration": 3,
    "start_time": "2022-04-26T06:31:09.882Z"
   },
   {
    "duration": 3,
    "start_time": "2022-04-26T06:31:13.424Z"
   },
   {
    "duration": 25082,
    "start_time": "2022-04-26T06:31:14.244Z"
   },
   {
    "duration": 79,
    "start_time": "2022-04-26T06:31:52.249Z"
   },
   {
    "duration": 5,
    "start_time": "2022-04-26T06:31:53.921Z"
   },
   {
    "duration": 5,
    "start_time": "2022-04-26T06:32:32.848Z"
   },
   {
    "duration": 758,
    "start_time": "2022-04-26T06:32:32.855Z"
   },
   {
    "duration": 115,
    "start_time": "2022-04-26T06:32:33.615Z"
   },
   {
    "duration": 14,
    "start_time": "2022-04-26T06:32:33.731Z"
   },
   {
    "duration": 902,
    "start_time": "2022-04-26T06:32:33.748Z"
   },
   {
    "duration": 558,
    "start_time": "2022-04-26T06:32:34.652Z"
   },
   {
    "duration": 214,
    "start_time": "2022-04-26T06:32:35.212Z"
   },
   {
    "duration": 1290,
    "start_time": "2022-04-26T06:32:35.427Z"
   },
   {
    "duration": 159,
    "start_time": "2022-04-26T06:32:36.723Z"
   },
   {
    "duration": 785,
    "start_time": "2022-04-26T06:32:36.885Z"
   },
   {
    "duration": 21,
    "start_time": "2022-04-26T06:32:37.672Z"
   },
   {
    "duration": 462,
    "start_time": "2022-04-26T06:32:37.695Z"
   },
   {
    "duration": 397,
    "start_time": "2022-04-26T06:32:38.158Z"
   },
   {
    "duration": 141,
    "start_time": "2022-04-26T06:32:38.559Z"
   },
   {
    "duration": 31,
    "start_time": "2022-04-26T06:32:38.702Z"
   },
   {
    "duration": 34,
    "start_time": "2022-04-26T06:32:38.735Z"
   },
   {
    "duration": 31,
    "start_time": "2022-04-26T06:32:38.771Z"
   },
   {
    "duration": 38,
    "start_time": "2022-04-26T06:32:38.803Z"
   },
   {
    "duration": 62,
    "start_time": "2022-04-26T06:32:38.842Z"
   },
   {
    "duration": 18,
    "start_time": "2022-04-26T06:32:38.906Z"
   },
   {
    "duration": 1130,
    "start_time": "2022-04-26T06:32:38.926Z"
   },
   {
    "duration": 123,
    "start_time": "2022-04-26T06:32:40.058Z"
   },
   {
    "duration": 12,
    "start_time": "2022-04-26T06:32:40.183Z"
   },
   {
    "duration": 732,
    "start_time": "2022-04-26T06:32:40.197Z"
   },
   {
    "duration": 5,
    "start_time": "2022-04-26T06:32:40.930Z"
   },
   {
    "duration": 6,
    "start_time": "2022-04-26T06:32:40.936Z"
   },
   {
    "duration": 179,
    "start_time": "2022-04-26T06:32:40.944Z"
   },
   {
    "duration": 191,
    "start_time": "2022-04-26T06:32:41.125Z"
   },
   {
    "duration": 310,
    "start_time": "2022-04-26T06:32:41.319Z"
   },
   {
    "duration": 2386,
    "start_time": "2022-04-26T06:32:41.631Z"
   },
   {
    "duration": 3,
    "start_time": "2022-04-26T06:32:44.023Z"
   },
   {
    "duration": 9,
    "start_time": "2022-04-26T06:32:44.028Z"
   },
   {
    "duration": 5,
    "start_time": "2022-04-26T06:32:44.039Z"
   },
   {
    "duration": 25781,
    "start_time": "2022-04-26T06:32:44.046Z"
   },
   {
    "duration": 302,
    "start_time": "2022-04-26T06:33:09.830Z"
   },
   {
    "duration": 96,
    "start_time": "2022-04-26T06:33:10.134Z"
   },
   {
    "duration": 101,
    "start_time": "2022-04-26T06:33:10.232Z"
   },
   {
    "duration": 9074,
    "start_time": "2022-04-26T06:33:10.335Z"
   },
   {
    "duration": 73,
    "start_time": "2022-04-26T06:33:19.412Z"
   },
   {
    "duration": 4,
    "start_time": "2022-04-26T06:33:19.487Z"
   },
   {
    "duration": 3,
    "start_time": "2022-04-26T06:33:19.496Z"
   },
   {
    "duration": 23,
    "start_time": "2022-04-26T06:33:19.501Z"
   },
   {
    "duration": 14001,
    "start_time": "2022-04-26T06:33:19.526Z"
   },
   {
    "duration": 705,
    "start_time": "2022-04-26T06:33:33.529Z"
   },
   {
    "duration": 5,
    "start_time": "2022-04-26T06:33:34.236Z"
   },
   {
    "duration": 28490,
    "start_time": "2022-04-26T06:33:34.243Z"
   },
   {
    "duration": 3,
    "start_time": "2022-04-26T06:34:02.735Z"
   },
   {
    "duration": 15,
    "start_time": "2022-04-26T06:34:02.740Z"
   },
   {
    "duration": 5107,
    "start_time": "2022-04-26T06:34:02.756Z"
   },
   {
    "duration": 149,
    "start_time": "2022-04-26T06:34:07.864Z"
   },
   {
    "duration": 10,
    "start_time": "2022-04-26T06:34:08.014Z"
   },
   {
    "duration": 12,
    "start_time": "2022-04-26T06:34:08.026Z"
   },
   {
    "duration": 1618,
    "start_time": "2022-04-26T06:34:49.706Z"
   },
   {
    "duration": 803,
    "start_time": "2022-04-26T06:34:51.326Z"
   },
   {
    "duration": 114,
    "start_time": "2022-04-26T06:34:52.131Z"
   },
   {
    "duration": 17,
    "start_time": "2022-04-26T06:34:52.248Z"
   },
   {
    "duration": 1473,
    "start_time": "2022-04-26T06:34:52.266Z"
   },
   {
    "duration": 737,
    "start_time": "2022-04-26T06:34:53.740Z"
   },
   {
    "duration": 226,
    "start_time": "2022-04-26T06:34:54.479Z"
   },
   {
    "duration": 1000,
    "start_time": "2022-04-26T06:34:54.706Z"
   },
   {
    "duration": 117,
    "start_time": "2022-04-26T06:34:55.708Z"
   },
   {
    "duration": 443,
    "start_time": "2022-04-26T06:34:55.827Z"
   },
   {
    "duration": 22,
    "start_time": "2022-04-26T06:34:56.271Z"
   },
   {
    "duration": 512,
    "start_time": "2022-04-26T06:34:56.295Z"
   },
   {
    "duration": 388,
    "start_time": "2022-04-26T06:34:56.809Z"
   },
   {
    "duration": 148,
    "start_time": "2022-04-26T06:34:57.199Z"
   },
   {
    "duration": 24,
    "start_time": "2022-04-26T06:34:57.349Z"
   },
   {
    "duration": 53,
    "start_time": "2022-04-26T06:34:57.375Z"
   },
   {
    "duration": 26,
    "start_time": "2022-04-26T06:34:57.429Z"
   },
   {
    "duration": 19,
    "start_time": "2022-04-26T06:34:57.457Z"
   },
   {
    "duration": 82,
    "start_time": "2022-04-26T06:34:57.478Z"
   },
   {
    "duration": 2,
    "start_time": "2022-04-26T06:34:57.562Z"
   },
   {
    "duration": 742,
    "start_time": "2022-04-26T06:34:57.566Z"
   },
   {
    "duration": 74,
    "start_time": "2022-04-26T06:34:58.311Z"
   },
   {
    "duration": 11,
    "start_time": "2022-04-26T06:34:58.387Z"
   },
   {
    "duration": 724,
    "start_time": "2022-04-26T06:34:58.400Z"
   },
   {
    "duration": 4,
    "start_time": "2022-04-26T06:34:59.126Z"
   },
   {
    "duration": 8,
    "start_time": "2022-04-26T06:34:59.131Z"
   },
   {
    "duration": 161,
    "start_time": "2022-04-26T06:34:59.140Z"
   },
   {
    "duration": 194,
    "start_time": "2022-04-26T06:34:59.305Z"
   },
   {
    "duration": 317,
    "start_time": "2022-04-26T06:34:59.501Z"
   },
   {
    "duration": 2366,
    "start_time": "2022-04-26T06:34:59.819Z"
   },
   {
    "duration": 3,
    "start_time": "2022-04-26T06:35:02.187Z"
   },
   {
    "duration": 32,
    "start_time": "2022-04-26T06:35:02.192Z"
   },
   {
    "duration": 22,
    "start_time": "2022-04-26T06:35:02.226Z"
   },
   {
    "duration": 22784,
    "start_time": "2022-04-26T06:35:02.250Z"
   },
   {
    "duration": 394,
    "start_time": "2022-04-26T06:35:25.037Z"
   },
   {
    "duration": 5,
    "start_time": "2022-04-26T06:35:25.523Z"
   },
   {
    "duration": 6,
    "start_time": "2022-04-26T06:35:25.530Z"
   },
   {
    "duration": 8990,
    "start_time": "2022-04-26T06:35:25.537Z"
   },
   {
    "duration": 74,
    "start_time": "2022-04-26T06:35:34.529Z"
   },
   {
    "duration": 18,
    "start_time": "2022-04-26T06:35:34.605Z"
   },
   {
    "duration": 3,
    "start_time": "2022-04-26T06:35:34.625Z"
   },
   {
    "duration": 9,
    "start_time": "2022-04-26T06:35:34.630Z"
   },
   {
    "duration": 14088,
    "start_time": "2022-04-26T06:35:34.641Z"
   },
   {
    "duration": 793,
    "start_time": "2022-04-26T06:35:48.731Z"
   },
   {
    "duration": 5,
    "start_time": "2022-04-26T06:35:49.526Z"
   },
   {
    "duration": 28611,
    "start_time": "2022-04-26T06:35:49.533Z"
   },
   {
    "duration": 2,
    "start_time": "2022-04-26T06:36:18.146Z"
   },
   {
    "duration": 6,
    "start_time": "2022-04-26T06:36:18.150Z"
   },
   {
    "duration": 5019,
    "start_time": "2022-04-26T06:36:18.157Z"
   },
   {
    "duration": 147,
    "start_time": "2022-04-26T06:36:23.178Z"
   },
   {
    "duration": 4,
    "start_time": "2022-04-26T06:36:23.327Z"
   },
   {
    "duration": 11,
    "start_time": "2022-04-26T06:36:23.333Z"
   },
   {
    "duration": 10,
    "start_time": "2022-04-26T06:40:49.105Z"
   },
   {
    "duration": 8,
    "start_time": "2022-04-26T15:04:29.026Z"
   },
   {
    "duration": 1665,
    "start_time": "2022-04-26T15:11:25.092Z"
   },
   {
    "duration": 848,
    "start_time": "2022-04-26T15:11:26.759Z"
   },
   {
    "duration": 148,
    "start_time": "2022-04-26T15:11:27.608Z"
   },
   {
    "duration": 17,
    "start_time": "2022-04-26T15:11:27.757Z"
   },
   {
    "duration": 892,
    "start_time": "2022-04-26T15:11:27.776Z"
   },
   {
    "duration": 473,
    "start_time": "2022-04-26T15:11:28.670Z"
   },
   {
    "duration": 270,
    "start_time": "2022-04-26T15:11:29.145Z"
   },
   {
    "duration": 983,
    "start_time": "2022-04-26T15:11:29.418Z"
   },
   {
    "duration": 143,
    "start_time": "2022-04-26T15:11:30.403Z"
   },
   {
    "duration": 557,
    "start_time": "2022-04-26T15:11:30.548Z"
   },
   {
    "duration": 21,
    "start_time": "2022-04-26T15:11:31.107Z"
   },
   {
    "duration": 470,
    "start_time": "2022-04-26T15:11:31.130Z"
   },
   {
    "duration": 422,
    "start_time": "2022-04-26T15:11:31.602Z"
   },
   {
    "duration": 161,
    "start_time": "2022-04-26T15:11:32.027Z"
   },
   {
    "duration": 35,
    "start_time": "2022-04-26T15:11:32.190Z"
   },
   {
    "duration": 44,
    "start_time": "2022-04-26T15:11:32.227Z"
   },
   {
    "duration": 35,
    "start_time": "2022-04-26T15:11:32.272Z"
   },
   {
    "duration": 20,
    "start_time": "2022-04-26T15:11:32.309Z"
   },
   {
    "duration": 62,
    "start_time": "2022-04-26T15:11:32.331Z"
   },
   {
    "duration": 14,
    "start_time": "2022-04-26T15:11:32.394Z"
   },
   {
    "duration": 735,
    "start_time": "2022-04-26T15:11:32.410Z"
   },
   {
    "duration": 89,
    "start_time": "2022-04-26T15:11:33.146Z"
   },
   {
    "duration": 12,
    "start_time": "2022-04-26T15:11:33.237Z"
   },
   {
    "duration": 948,
    "start_time": "2022-04-26T15:11:33.251Z"
   },
   {
    "duration": 3,
    "start_time": "2022-04-26T15:11:34.201Z"
   },
   {
    "duration": 9,
    "start_time": "2022-04-26T15:11:34.207Z"
   },
   {
    "duration": 159,
    "start_time": "2022-04-26T15:11:34.217Z"
   },
   {
    "duration": 590,
    "start_time": "2022-04-26T15:11:34.377Z"
   },
   {
    "duration": 384,
    "start_time": "2022-04-26T15:11:34.969Z"
   },
   {
    "duration": 2073,
    "start_time": "2022-04-26T15:11:35.354Z"
   },
   {
    "duration": 0,
    "start_time": "2022-04-26T15:11:37.429Z"
   },
   {
    "duration": 0,
    "start_time": "2022-04-26T15:11:37.430Z"
   },
   {
    "duration": 0,
    "start_time": "2022-04-26T15:11:37.432Z"
   },
   {
    "duration": 0,
    "start_time": "2022-04-26T15:11:37.433Z"
   },
   {
    "duration": 0,
    "start_time": "2022-04-26T15:11:37.434Z"
   },
   {
    "duration": 0,
    "start_time": "2022-04-26T15:11:37.436Z"
   },
   {
    "duration": 0,
    "start_time": "2022-04-26T15:11:37.437Z"
   },
   {
    "duration": 0,
    "start_time": "2022-04-26T15:11:37.438Z"
   },
   {
    "duration": 0,
    "start_time": "2022-04-26T15:11:37.440Z"
   },
   {
    "duration": 0,
    "start_time": "2022-04-26T15:11:37.440Z"
   },
   {
    "duration": 0,
    "start_time": "2022-04-26T15:11:37.441Z"
   },
   {
    "duration": 0,
    "start_time": "2022-04-26T15:11:37.442Z"
   },
   {
    "duration": 0,
    "start_time": "2022-04-26T15:11:37.443Z"
   },
   {
    "duration": 0,
    "start_time": "2022-04-26T15:11:37.444Z"
   },
   {
    "duration": 0,
    "start_time": "2022-04-26T15:11:37.445Z"
   },
   {
    "duration": 0,
    "start_time": "2022-04-26T15:11:37.446Z"
   },
   {
    "duration": 0,
    "start_time": "2022-04-26T15:11:37.447Z"
   },
   {
    "duration": 0,
    "start_time": "2022-04-26T15:11:37.448Z"
   },
   {
    "duration": 0,
    "start_time": "2022-04-26T15:11:37.449Z"
   },
   {
    "duration": 0,
    "start_time": "2022-04-26T15:11:37.450Z"
   },
   {
    "duration": 0,
    "start_time": "2022-04-26T15:11:37.451Z"
   },
   {
    "duration": 0,
    "start_time": "2022-04-26T15:11:37.452Z"
   },
   {
    "duration": 1594,
    "start_time": "2022-04-26T15:18:11.220Z"
   },
   {
    "duration": 4224,
    "start_time": "2022-04-26T15:18:12.818Z"
   },
   {
    "duration": 139,
    "start_time": "2022-04-26T15:18:17.043Z"
   },
   {
    "duration": 26,
    "start_time": "2022-04-26T15:18:17.184Z"
   },
   {
    "duration": 980,
    "start_time": "2022-04-26T15:18:17.212Z"
   },
   {
    "duration": 525,
    "start_time": "2022-04-26T15:18:18.194Z"
   },
   {
    "duration": 275,
    "start_time": "2022-04-26T15:18:18.721Z"
   },
   {
    "duration": 1043,
    "start_time": "2022-04-26T15:18:18.997Z"
   },
   {
    "duration": 134,
    "start_time": "2022-04-26T15:18:20.042Z"
   },
   {
    "duration": 529,
    "start_time": "2022-04-26T15:18:20.179Z"
   },
   {
    "duration": 24,
    "start_time": "2022-04-26T15:18:20.709Z"
   },
   {
    "duration": 592,
    "start_time": "2022-04-26T15:18:20.735Z"
   },
   {
    "duration": 448,
    "start_time": "2022-04-26T15:18:21.329Z"
   },
   {
    "duration": 164,
    "start_time": "2022-04-26T15:18:21.778Z"
   },
   {
    "duration": 23,
    "start_time": "2022-04-26T15:18:21.944Z"
   },
   {
    "duration": 59,
    "start_time": "2022-04-26T15:18:21.969Z"
   },
   {
    "duration": 24,
    "start_time": "2022-04-26T15:18:22.030Z"
   },
   {
    "duration": 21,
    "start_time": "2022-04-26T15:18:22.056Z"
   },
   {
    "duration": 83,
    "start_time": "2022-04-26T15:18:22.079Z"
   },
   {
    "duration": 3,
    "start_time": "2022-04-26T15:18:22.164Z"
   },
   {
    "duration": 807,
    "start_time": "2022-04-26T15:18:22.168Z"
   },
   {
    "duration": 142,
    "start_time": "2022-04-26T15:18:22.977Z"
   },
   {
    "duration": 12,
    "start_time": "2022-04-26T15:18:23.121Z"
   },
   {
    "duration": 926,
    "start_time": "2022-04-26T15:18:23.134Z"
   },
   {
    "duration": 4,
    "start_time": "2022-04-26T15:18:24.062Z"
   },
   {
    "duration": 5,
    "start_time": "2022-04-26T15:18:24.068Z"
   },
   {
    "duration": 180,
    "start_time": "2022-04-26T15:18:24.075Z"
   },
   {
    "duration": 470,
    "start_time": "2022-04-26T15:18:24.259Z"
   },
   {
    "duration": 343,
    "start_time": "2022-04-26T15:18:24.731Z"
   },
   {
    "duration": 5825,
    "start_time": "2022-04-26T15:18:25.076Z"
   },
   {
    "duration": 0,
    "start_time": "2022-04-26T15:18:30.903Z"
   },
   {
    "duration": 0,
    "start_time": "2022-04-26T15:18:30.904Z"
   },
   {
    "duration": 0,
    "start_time": "2022-04-26T15:18:30.905Z"
   },
   {
    "duration": 0,
    "start_time": "2022-04-26T15:18:30.907Z"
   },
   {
    "duration": 0,
    "start_time": "2022-04-26T15:18:30.908Z"
   },
   {
    "duration": 0,
    "start_time": "2022-04-26T15:18:30.909Z"
   },
   {
    "duration": 0,
    "start_time": "2022-04-26T15:18:30.910Z"
   },
   {
    "duration": 0,
    "start_time": "2022-04-26T15:18:30.911Z"
   },
   {
    "duration": 0,
    "start_time": "2022-04-26T15:18:30.912Z"
   },
   {
    "duration": 0,
    "start_time": "2022-04-26T15:18:30.913Z"
   },
   {
    "duration": 0,
    "start_time": "2022-04-26T15:18:30.915Z"
   },
   {
    "duration": 0,
    "start_time": "2022-04-26T15:18:30.916Z"
   },
   {
    "duration": 0,
    "start_time": "2022-04-26T15:18:30.917Z"
   },
   {
    "duration": 0,
    "start_time": "2022-04-26T15:18:30.918Z"
   },
   {
    "duration": 0,
    "start_time": "2022-04-26T15:18:30.919Z"
   },
   {
    "duration": 0,
    "start_time": "2022-04-26T15:18:30.920Z"
   },
   {
    "duration": 0,
    "start_time": "2022-04-26T15:18:30.921Z"
   },
   {
    "duration": 0,
    "start_time": "2022-04-26T15:18:30.923Z"
   },
   {
    "duration": 0,
    "start_time": "2022-04-26T15:18:30.924Z"
   },
   {
    "duration": 0,
    "start_time": "2022-04-26T15:18:30.925Z"
   },
   {
    "duration": 0,
    "start_time": "2022-04-26T15:18:30.926Z"
   },
   {
    "duration": 0,
    "start_time": "2022-04-26T15:18:30.927Z"
   },
   {
    "duration": 3258,
    "start_time": "2022-04-26T15:18:59.365Z"
   },
   {
    "duration": 3,
    "start_time": "2022-04-26T15:19:09.350Z"
   },
   {
    "duration": 6,
    "start_time": "2022-04-26T15:19:13.481Z"
   },
   {
    "duration": 3,
    "start_time": "2022-04-26T15:19:18.734Z"
   },
   {
    "duration": 24391,
    "start_time": "2022-04-26T15:19:19.620Z"
   },
   {
    "duration": 98,
    "start_time": "2022-04-26T15:20:08.710Z"
   },
   {
    "duration": 5,
    "start_time": "2022-04-26T15:20:09.829Z"
   },
   {
    "duration": 1847,
    "start_time": "2022-04-26T15:20:44.560Z"
   },
   {
    "duration": 1846,
    "start_time": "2022-04-26T15:21:20.266Z"
   },
   {
    "duration": 3,
    "start_time": "2022-04-26T15:21:25.326Z"
   },
   {
    "duration": 5,
    "start_time": "2022-04-26T15:21:37.036Z"
   },
   {
    "duration": 24060,
    "start_time": "2022-04-26T15:21:39.448Z"
   },
   {
    "duration": 2226,
    "start_time": "2022-04-26T15:24:52.273Z"
   },
   {
    "duration": 3,
    "start_time": "2022-04-26T15:24:59.423Z"
   },
   {
    "duration": 22029,
    "start_time": "2022-04-26T15:25:01.079Z"
   },
   {
    "duration": 52,
    "start_time": "2022-04-26T15:25:24.955Z"
   },
   {
    "duration": 5,
    "start_time": "2022-04-26T15:25:26.244Z"
   },
   {
    "duration": 1606,
    "start_time": "2022-04-26T15:25:52.981Z"
   },
   {
    "duration": 1642,
    "start_time": "2022-04-26T15:25:54.589Z"
   },
   {
    "duration": 241,
    "start_time": "2022-04-26T15:25:56.232Z"
   },
   {
    "duration": 18,
    "start_time": "2022-04-26T15:25:56.475Z"
   },
   {
    "duration": 1695,
    "start_time": "2022-04-26T15:25:56.509Z"
   },
   {
    "duration": 501,
    "start_time": "2022-04-26T15:25:58.205Z"
   },
   {
    "duration": 274,
    "start_time": "2022-04-26T15:25:58.708Z"
   },
   {
    "duration": 1041,
    "start_time": "2022-04-26T15:25:58.984Z"
   },
   {
    "duration": 134,
    "start_time": "2022-04-26T15:26:00.027Z"
   },
   {
    "duration": 480,
    "start_time": "2022-04-26T15:26:00.163Z"
   },
   {
    "duration": 23,
    "start_time": "2022-04-26T15:26:00.645Z"
   },
   {
    "duration": 560,
    "start_time": "2022-04-26T15:26:00.669Z"
   },
   {
    "duration": 421,
    "start_time": "2022-04-26T15:26:01.230Z"
   },
   {
    "duration": 155,
    "start_time": "2022-04-26T15:26:01.655Z"
   },
   {
    "duration": 27,
    "start_time": "2022-04-26T15:26:01.812Z"
   },
   {
    "duration": 44,
    "start_time": "2022-04-26T15:26:01.841Z"
   },
   {
    "duration": 43,
    "start_time": "2022-04-26T15:26:01.887Z"
   },
   {
    "duration": 20,
    "start_time": "2022-04-26T15:26:01.932Z"
   },
   {
    "duration": 79,
    "start_time": "2022-04-26T15:26:01.954Z"
   },
   {
    "duration": 3,
    "start_time": "2022-04-26T15:26:02.034Z"
   },
   {
    "duration": 724,
    "start_time": "2022-04-26T15:26:02.039Z"
   },
   {
    "duration": 77,
    "start_time": "2022-04-26T15:26:02.765Z"
   },
   {
    "duration": 13,
    "start_time": "2022-04-26T15:26:02.843Z"
   },
   {
    "duration": 700,
    "start_time": "2022-04-26T15:26:02.857Z"
   },
   {
    "duration": 4,
    "start_time": "2022-04-26T15:26:03.559Z"
   },
   {
    "duration": 12,
    "start_time": "2022-04-26T15:26:03.565Z"
   },
   {
    "duration": 169,
    "start_time": "2022-04-26T15:26:03.579Z"
   },
   {
    "duration": 199,
    "start_time": "2022-04-26T15:26:03.750Z"
   },
   {
    "duration": 294,
    "start_time": "2022-04-26T15:26:03.950Z"
   },
   {
    "duration": 3436,
    "start_time": "2022-04-26T15:26:04.246Z"
   },
   {
    "duration": 3,
    "start_time": "2022-04-26T15:26:07.684Z"
   },
   {
    "duration": 8,
    "start_time": "2022-04-26T15:26:07.688Z"
   },
   {
    "duration": 11,
    "start_time": "2022-04-26T15:26:07.697Z"
   },
   {
    "duration": 21107,
    "start_time": "2022-04-26T15:26:07.709Z"
   },
   {
    "duration": 95,
    "start_time": "2022-04-26T15:26:28.818Z"
   },
   {
    "duration": 93,
    "start_time": "2022-04-26T15:26:28.916Z"
   },
   {
    "duration": 5,
    "start_time": "2022-04-26T15:26:29.011Z"
   },
   {
    "duration": 8964,
    "start_time": "2022-04-26T15:26:29.018Z"
   },
   {
    "duration": 59,
    "start_time": "2022-04-26T15:26:37.984Z"
   },
   {
    "duration": 4,
    "start_time": "2022-04-26T15:26:38.045Z"
   },
   {
    "duration": 3,
    "start_time": "2022-04-26T15:26:38.053Z"
   },
   {
    "duration": 4,
    "start_time": "2022-04-26T15:26:38.057Z"
   },
   {
    "duration": 14060,
    "start_time": "2022-04-26T15:26:38.063Z"
   },
   {
    "duration": 786,
    "start_time": "2022-04-26T15:26:52.125Z"
   },
   {
    "duration": 5,
    "start_time": "2022-04-26T15:26:52.913Z"
   },
   {
    "duration": 2418,
    "start_time": "2022-04-26T15:26:52.919Z"
   },
   {
    "duration": 0,
    "start_time": "2022-04-26T15:26:55.339Z"
   },
   {
    "duration": 0,
    "start_time": "2022-04-26T15:26:55.341Z"
   },
   {
    "duration": 0,
    "start_time": "2022-04-26T15:26:55.343Z"
   },
   {
    "duration": 0,
    "start_time": "2022-04-26T15:26:55.344Z"
   },
   {
    "duration": 0,
    "start_time": "2022-04-26T15:26:55.346Z"
   },
   {
    "duration": 0,
    "start_time": "2022-04-26T15:26:55.347Z"
   },
   {
    "duration": 4,
    "start_time": "2022-04-26T15:27:56.343Z"
   },
   {
    "duration": 96802,
    "start_time": "2022-04-26T15:28:02.656Z"
   },
   {
    "duration": 31167,
    "start_time": "2022-04-26T15:32:24.660Z"
   },
   {
    "duration": 194837,
    "start_time": "2022-04-26T15:36:13.225Z"
   },
   {
    "duration": 118200,
    "start_time": "2022-04-26T15:43:14.195Z"
   },
   {
    "duration": 1553,
    "start_time": "2022-04-26T15:45:17.271Z"
   },
   {
    "duration": 898,
    "start_time": "2022-04-26T15:45:18.826Z"
   },
   {
    "duration": 136,
    "start_time": "2022-04-26T15:45:19.726Z"
   },
   {
    "duration": 16,
    "start_time": "2022-04-26T15:45:19.865Z"
   },
   {
    "duration": 963,
    "start_time": "2022-04-26T15:45:19.882Z"
   },
   {
    "duration": 525,
    "start_time": "2022-04-26T15:45:20.847Z"
   },
   {
    "duration": 267,
    "start_time": "2022-04-26T15:45:21.374Z"
   },
   {
    "duration": 1063,
    "start_time": "2022-04-26T15:45:21.643Z"
   },
   {
    "duration": 131,
    "start_time": "2022-04-26T15:45:22.708Z"
   },
   {
    "duration": 515,
    "start_time": "2022-04-26T15:45:22.842Z"
   },
   {
    "duration": 23,
    "start_time": "2022-04-26T15:45:23.359Z"
   },
   {
    "duration": 568,
    "start_time": "2022-04-26T15:45:23.384Z"
   },
   {
    "duration": 428,
    "start_time": "2022-04-26T15:45:23.953Z"
   },
   {
    "duration": 163,
    "start_time": "2022-04-26T15:45:24.383Z"
   },
   {
    "duration": 24,
    "start_time": "2022-04-26T15:45:24.548Z"
   },
   {
    "duration": 60,
    "start_time": "2022-04-26T15:45:24.573Z"
   },
   {
    "duration": 25,
    "start_time": "2022-04-26T15:45:24.635Z"
   },
   {
    "duration": 20,
    "start_time": "2022-04-26T15:45:24.662Z"
   },
   {
    "duration": 79,
    "start_time": "2022-04-26T15:45:24.683Z"
   },
   {
    "duration": 3,
    "start_time": "2022-04-26T15:45:24.764Z"
   },
   {
    "duration": 750,
    "start_time": "2022-04-26T15:45:24.768Z"
   },
   {
    "duration": 76,
    "start_time": "2022-04-26T15:45:25.520Z"
   },
   {
    "duration": 21,
    "start_time": "2022-04-26T15:45:25.598Z"
   },
   {
    "duration": 678,
    "start_time": "2022-04-26T15:45:25.620Z"
   },
   {
    "duration": 8,
    "start_time": "2022-04-26T15:45:26.300Z"
   },
   {
    "duration": 3,
    "start_time": "2022-04-26T15:45:26.309Z"
   },
   {
    "duration": 169,
    "start_time": "2022-04-26T15:45:26.313Z"
   },
   {
    "duration": 188,
    "start_time": "2022-04-26T15:45:26.486Z"
   },
   {
    "duration": 294,
    "start_time": "2022-04-26T15:45:26.676Z"
   },
   {
    "duration": 3414,
    "start_time": "2022-04-26T15:45:26.971Z"
   },
   {
    "duration": 3,
    "start_time": "2022-04-26T15:45:30.386Z"
   },
   {
    "duration": 16,
    "start_time": "2022-04-26T15:45:30.391Z"
   },
   {
    "duration": 16,
    "start_time": "2022-04-26T15:45:30.409Z"
   },
   {
    "duration": 27287,
    "start_time": "2022-04-26T15:45:30.426Z"
   },
   {
    "duration": 194,
    "start_time": "2022-04-26T15:45:57.714Z"
   },
   {
    "duration": 7,
    "start_time": "2022-04-26T15:45:57.910Z"
   },
   {
    "duration": 6,
    "start_time": "2022-04-26T15:45:58.007Z"
   },
   {
    "duration": 9021,
    "start_time": "2022-04-26T15:45:58.015Z"
   },
   {
    "duration": 65,
    "start_time": "2022-04-26T15:46:07.038Z"
   },
   {
    "duration": 5,
    "start_time": "2022-04-26T15:46:07.105Z"
   },
   {
    "duration": 10,
    "start_time": "2022-04-26T15:46:07.112Z"
   },
   {
    "duration": 10,
    "start_time": "2022-04-26T15:46:07.124Z"
   },
   {
    "duration": 17284,
    "start_time": "2022-04-26T15:46:07.136Z"
   },
   {
    "duration": 800,
    "start_time": "2022-04-26T15:46:24.421Z"
   },
   {
    "duration": 5,
    "start_time": "2022-04-26T15:46:25.223Z"
   },
   {
    "duration": 89345,
    "start_time": "2022-04-26T15:46:25.308Z"
   },
   {
    "duration": 3,
    "start_time": "2022-04-26T15:47:54.654Z"
   },
   {
    "duration": 6,
    "start_time": "2022-04-26T15:47:54.658Z"
   },
   {
    "duration": 5415,
    "start_time": "2022-04-26T15:47:54.665Z"
   },
   {
    "duration": 85,
    "start_time": "2022-04-26T15:48:00.082Z"
   },
   {
    "duration": 4,
    "start_time": "2022-04-26T15:48:00.169Z"
   },
   {
    "duration": 33,
    "start_time": "2022-04-26T15:48:00.174Z"
   },
   {
    "duration": 9,
    "start_time": "2022-04-26T15:49:24.353Z"
   }
  ],
  "kernelspec": {
   "display_name": "Python 3 (ipykernel)",
   "language": "python",
   "name": "python3"
  },
  "language_info": {
   "codemirror_mode": {
    "name": "ipython",
    "version": 3
   },
   "file_extension": ".py",
   "mimetype": "text/x-python",
   "name": "python",
   "nbconvert_exporter": "python",
   "pygments_lexer": "ipython3",
   "version": "3.9.7"
  },
  "toc": {
   "base_numbering": 1,
   "nav_menu": {},
   "number_sections": true,
   "sideBar": true,
   "skip_h1_title": true,
   "title_cell": "Table of Contents",
   "title_sidebar": "Contents",
   "toc_cell": false,
   "toc_position": {
    "height": "calc(100% - 180px)",
    "left": "10px",
    "top": "150px",
    "width": "176.391px"
   },
   "toc_section_display": true,
   "toc_window_display": true
  }
 },
 "nbformat": 4,
 "nbformat_minor": 2
}
