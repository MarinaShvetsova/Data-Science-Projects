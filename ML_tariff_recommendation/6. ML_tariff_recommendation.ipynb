{
 "cells": [
  {
   "cell_type": "markdown",
   "metadata": {},
   "source": [
    "# Рекомендация тарифов"
   ]
  },
  {
   "cell_type": "markdown",
   "metadata": {},
   "source": [
    "В вашем распоряжении данные о поведении клиентов, которые уже перешли на эти тарифы (из проекта курса «Статистический анализ данных»). Нужно построить модель для задачи классификации, которая выберет подходящий тариф. Предобработка данных не понадобится — вы её уже сделали.\n",
    "\n",
    "Постройте модель с максимально большим значением *accuracy*. Чтобы сдать проект успешно, нужно довести долю правильных ответов по крайней мере до 0.75. Проверьте *accuracy* на тестовой выборке самостоятельно."
   ]
  },
  {
   "cell_type": "markdown",
   "metadata": {},
   "source": [
    "# Описание данных\n",
    "<br> Каждый объект в наборе данных — это информация о поведении одного пользователя за месяц.\n",
    "<br> Описание столбцов:\n",
    "- `сalls` — количество звонков\n",
    "- `minutes`— суммарная длительность звонков в минутах\n",
    "- `messages` — количество sms-сообщений\n",
    "- `mb_used` — израсходованный интернет-трафик в Мб\n",
    "- `is_ultra` — каким тарифом пользовался в течение месяца («Ультра» — 1, «Смарт» — 0)"
   ]
  },
  {
   "cell_type": "markdown",
   "metadata": {},
   "source": [
    "## Откройте и изучите файл"
   ]
  },
  {
   "cell_type": "code",
   "execution_count": 1,
   "metadata": {},
   "outputs": [],
   "source": [
    "# Импортируем библиотеки\n",
    "import pandas as pd\n",
    "\n",
    "from sklearn.model_selection import train_test_split\n",
    "from sklearn.tree import DecisionTreeClassifier\n",
    "from sklearn.linear_model import LogisticRegression\n",
    "from sklearn.ensemble import RandomForestClassifier\n",
    "from sklearn.metrics import accuracy_score"
   ]
  },
  {
   "cell_type": "code",
   "execution_count": 2,
   "metadata": {},
   "outputs": [],
   "source": [
    "# открываем файл\n",
    "df = pd.read_csv('/datasets/users_behavior.csv')"
   ]
  },
  {
   "cell_type": "code",
   "execution_count": 3,
   "metadata": {
    "scrolled": true
   },
   "outputs": [
    {
     "name": "stdout",
     "output_type": "stream",
     "text": [
      "<class 'pandas.core.frame.DataFrame'>\n",
      "RangeIndex: 3214 entries, 0 to 3213\n",
      "Data columns (total 5 columns):\n",
      "calls       3214 non-null float64\n",
      "minutes     3214 non-null float64\n",
      "messages    3214 non-null float64\n",
      "mb_used     3214 non-null float64\n",
      "is_ultra    3214 non-null int64\n",
      "dtypes: float64(4), int64(1)\n",
      "memory usage: 125.7 KB\n"
     ]
    }
   ],
   "source": [
    "# выведем основную информацию о файле\n",
    "df.info()"
   ]
  },
  {
   "cell_type": "markdown",
   "metadata": {},
   "source": [
    "Таблица состоит из 3214 строк и 5ти столбцов, пропуски отсутствуют."
   ]
  },
  {
   "cell_type": "code",
   "execution_count": 4,
   "metadata": {
    "scrolled": false
   },
   "outputs": [
    {
     "data": {
      "text/html": [
       "<div>\n",
       "<style scoped>\n",
       "    .dataframe tbody tr th:only-of-type {\n",
       "        vertical-align: middle;\n",
       "    }\n",
       "\n",
       "    .dataframe tbody tr th {\n",
       "        vertical-align: top;\n",
       "    }\n",
       "\n",
       "    .dataframe thead th {\n",
       "        text-align: right;\n",
       "    }\n",
       "</style>\n",
       "<table border=\"1\" class=\"dataframe\">\n",
       "  <thead>\n",
       "    <tr style=\"text-align: right;\">\n",
       "      <th></th>\n",
       "      <th>calls</th>\n",
       "      <th>minutes</th>\n",
       "      <th>messages</th>\n",
       "      <th>mb_used</th>\n",
       "      <th>is_ultra</th>\n",
       "    </tr>\n",
       "  </thead>\n",
       "  <tbody>\n",
       "    <tr>\n",
       "      <td>0</td>\n",
       "      <td>40.0</td>\n",
       "      <td>311.90</td>\n",
       "      <td>83.0</td>\n",
       "      <td>19915.42</td>\n",
       "      <td>0</td>\n",
       "    </tr>\n",
       "    <tr>\n",
       "      <td>1</td>\n",
       "      <td>85.0</td>\n",
       "      <td>516.75</td>\n",
       "      <td>56.0</td>\n",
       "      <td>22696.96</td>\n",
       "      <td>0</td>\n",
       "    </tr>\n",
       "    <tr>\n",
       "      <td>2</td>\n",
       "      <td>77.0</td>\n",
       "      <td>467.66</td>\n",
       "      <td>86.0</td>\n",
       "      <td>21060.45</td>\n",
       "      <td>0</td>\n",
       "    </tr>\n",
       "    <tr>\n",
       "      <td>3</td>\n",
       "      <td>106.0</td>\n",
       "      <td>745.53</td>\n",
       "      <td>81.0</td>\n",
       "      <td>8437.39</td>\n",
       "      <td>1</td>\n",
       "    </tr>\n",
       "    <tr>\n",
       "      <td>4</td>\n",
       "      <td>66.0</td>\n",
       "      <td>418.74</td>\n",
       "      <td>1.0</td>\n",
       "      <td>14502.75</td>\n",
       "      <td>0</td>\n",
       "    </tr>\n",
       "    <tr>\n",
       "      <td>5</td>\n",
       "      <td>58.0</td>\n",
       "      <td>344.56</td>\n",
       "      <td>21.0</td>\n",
       "      <td>15823.37</td>\n",
       "      <td>0</td>\n",
       "    </tr>\n",
       "    <tr>\n",
       "      <td>6</td>\n",
       "      <td>57.0</td>\n",
       "      <td>431.64</td>\n",
       "      <td>20.0</td>\n",
       "      <td>3738.90</td>\n",
       "      <td>1</td>\n",
       "    </tr>\n",
       "    <tr>\n",
       "      <td>7</td>\n",
       "      <td>15.0</td>\n",
       "      <td>132.40</td>\n",
       "      <td>6.0</td>\n",
       "      <td>21911.60</td>\n",
       "      <td>0</td>\n",
       "    </tr>\n",
       "    <tr>\n",
       "      <td>8</td>\n",
       "      <td>7.0</td>\n",
       "      <td>43.39</td>\n",
       "      <td>3.0</td>\n",
       "      <td>2538.67</td>\n",
       "      <td>1</td>\n",
       "    </tr>\n",
       "    <tr>\n",
       "      <td>9</td>\n",
       "      <td>90.0</td>\n",
       "      <td>665.41</td>\n",
       "      <td>38.0</td>\n",
       "      <td>17358.61</td>\n",
       "      <td>0</td>\n",
       "    </tr>\n",
       "  </tbody>\n",
       "</table>\n",
       "</div>"
      ],
      "text/plain": [
       "   calls  minutes  messages   mb_used  is_ultra\n",
       "0   40.0   311.90      83.0  19915.42         0\n",
       "1   85.0   516.75      56.0  22696.96         0\n",
       "2   77.0   467.66      86.0  21060.45         0\n",
       "3  106.0   745.53      81.0   8437.39         1\n",
       "4   66.0   418.74       1.0  14502.75         0\n",
       "5   58.0   344.56      21.0  15823.37         0\n",
       "6   57.0   431.64      20.0   3738.90         1\n",
       "7   15.0   132.40       6.0  21911.60         0\n",
       "8    7.0    43.39       3.0   2538.67         1\n",
       "9   90.0   665.41      38.0  17358.61         0"
      ]
     },
     "execution_count": 4,
     "metadata": {},
     "output_type": "execute_result"
    }
   ],
   "source": [
    "# изучаем первые 10 строк\n",
    "df.head(10)"
   ]
  },
  {
   "cell_type": "code",
   "execution_count": 5,
   "metadata": {
    "scrolled": false
   },
   "outputs": [
    {
     "data": {
      "text/html": [
       "<div>\n",
       "<style scoped>\n",
       "    .dataframe tbody tr th:only-of-type {\n",
       "        vertical-align: middle;\n",
       "    }\n",
       "\n",
       "    .dataframe tbody tr th {\n",
       "        vertical-align: top;\n",
       "    }\n",
       "\n",
       "    .dataframe thead th {\n",
       "        text-align: right;\n",
       "    }\n",
       "</style>\n",
       "<table border=\"1\" class=\"dataframe\">\n",
       "  <thead>\n",
       "    <tr style=\"text-align: right;\">\n",
       "      <th></th>\n",
       "      <th>calls</th>\n",
       "      <th>minutes</th>\n",
       "      <th>messages</th>\n",
       "      <th>mb_used</th>\n",
       "      <th>is_ultra</th>\n",
       "    </tr>\n",
       "  </thead>\n",
       "  <tbody>\n",
       "    <tr>\n",
       "      <td>count</td>\n",
       "      <td>3214.000000</td>\n",
       "      <td>3214.000000</td>\n",
       "      <td>3214.000000</td>\n",
       "      <td>3214.000000</td>\n",
       "      <td>3214.000000</td>\n",
       "    </tr>\n",
       "    <tr>\n",
       "      <td>mean</td>\n",
       "      <td>63.038892</td>\n",
       "      <td>438.208787</td>\n",
       "      <td>38.281269</td>\n",
       "      <td>17207.673836</td>\n",
       "      <td>0.306472</td>\n",
       "    </tr>\n",
       "    <tr>\n",
       "      <td>std</td>\n",
       "      <td>33.236368</td>\n",
       "      <td>234.569872</td>\n",
       "      <td>36.148326</td>\n",
       "      <td>7570.968246</td>\n",
       "      <td>0.461100</td>\n",
       "    </tr>\n",
       "    <tr>\n",
       "      <td>min</td>\n",
       "      <td>0.000000</td>\n",
       "      <td>0.000000</td>\n",
       "      <td>0.000000</td>\n",
       "      <td>0.000000</td>\n",
       "      <td>0.000000</td>\n",
       "    </tr>\n",
       "    <tr>\n",
       "      <td>25%</td>\n",
       "      <td>40.000000</td>\n",
       "      <td>274.575000</td>\n",
       "      <td>9.000000</td>\n",
       "      <td>12491.902500</td>\n",
       "      <td>0.000000</td>\n",
       "    </tr>\n",
       "    <tr>\n",
       "      <td>50%</td>\n",
       "      <td>62.000000</td>\n",
       "      <td>430.600000</td>\n",
       "      <td>30.000000</td>\n",
       "      <td>16943.235000</td>\n",
       "      <td>0.000000</td>\n",
       "    </tr>\n",
       "    <tr>\n",
       "      <td>75%</td>\n",
       "      <td>82.000000</td>\n",
       "      <td>571.927500</td>\n",
       "      <td>57.000000</td>\n",
       "      <td>21424.700000</td>\n",
       "      <td>1.000000</td>\n",
       "    </tr>\n",
       "    <tr>\n",
       "      <td>max</td>\n",
       "      <td>244.000000</td>\n",
       "      <td>1632.060000</td>\n",
       "      <td>224.000000</td>\n",
       "      <td>49745.730000</td>\n",
       "      <td>1.000000</td>\n",
       "    </tr>\n",
       "  </tbody>\n",
       "</table>\n",
       "</div>"
      ],
      "text/plain": [
       "             calls      minutes     messages       mb_used     is_ultra\n",
       "count  3214.000000  3214.000000  3214.000000   3214.000000  3214.000000\n",
       "mean     63.038892   438.208787    38.281269  17207.673836     0.306472\n",
       "std      33.236368   234.569872    36.148326   7570.968246     0.461100\n",
       "min       0.000000     0.000000     0.000000      0.000000     0.000000\n",
       "25%      40.000000   274.575000     9.000000  12491.902500     0.000000\n",
       "50%      62.000000   430.600000    30.000000  16943.235000     0.000000\n",
       "75%      82.000000   571.927500    57.000000  21424.700000     1.000000\n",
       "max     244.000000  1632.060000   224.000000  49745.730000     1.000000"
      ]
     },
     "execution_count": 5,
     "metadata": {},
     "output_type": "execute_result"
    }
   ],
   "source": [
    "# выведем основные параметры\n",
    "df.describe()"
   ]
  },
  {
   "cell_type": "markdown",
   "metadata": {},
   "source": [
    "**Вывод**\n",
    "<br> С данными ознакомились, они готовы для дальнейшей работы"
   ]
  },
  {
   "cell_type": "markdown",
   "metadata": {},
   "source": [
    "## Разбейте данные на выборки"
   ]
  },
  {
   "cell_type": "markdown",
   "metadata": {},
   "source": [
    "Спрятанной тестовой выборки нет, Значит данные будем разбивать на 3 части:\n",
    "- обучающую (60%)\n",
    "- тестовую (20%)\n",
    "- валидационную (20%)"
   ]
  },
  {
   "cell_type": "code",
   "execution_count": 6,
   "metadata": {},
   "outputs": [],
   "source": [
    "# разделим данные на 2 набора: обучающий и тестовый, присвоив размер тестового 40%\n",
    "train, test = train_test_split(df, test_size=0.4, random_state=12345)"
   ]
  },
  {
   "cell_type": "code",
   "execution_count": 7,
   "metadata": {},
   "outputs": [],
   "source": [
    "features = test.drop('is_ultra', axis=1) # выделим в данных признаки\n",
    "target = test['is_ultra'] # выделим из данных целевой признак - столбец с тарифом"
   ]
  },
  {
   "cell_type": "code",
   "execution_count": 8,
   "metadata": {},
   "outputs": [],
   "source": [
    "# разделим тестовый набор данных, полученный ранее, еще на 2 набора: вылидационный и тестовый, 50% от 40% присвоенных ранее (т.е. будет по 20% для выборок)\n",
    "features_val, features_test, target_val, target_test = train_test_split(\n",
    "    features, target, test_size=0.5, random_state=12345)\n"
   ]
  },
  {
   "cell_type": "code",
   "execution_count": 9,
   "metadata": {},
   "outputs": [],
   "source": [
    "features_train = train.drop('is_ultra', axis=1)  # выделим в обучающих данных признаки\n",
    "target_train = train['is_ultra'] # выделим из обучающих данных целевой признак"
   ]
  },
  {
   "cell_type": "code",
   "execution_count": 10,
   "metadata": {
    "scrolled": true
   },
   "outputs": [
    {
     "data": {
      "text/plain": [
       "((1928, 4), (643, 4), (643, 4))"
      ]
     },
     "execution_count": 10,
     "metadata": {},
     "output_type": "execute_result"
    }
   ],
   "source": [
    "# проверим размеры данных\n",
    "features_train.shape, features_test.shape, features_val.shape "
   ]
  },
  {
   "cell_type": "code",
   "execution_count": 11,
   "metadata": {},
   "outputs": [
    {
     "name": "stdout",
     "output_type": "stream",
     "text": [
      "train = 60.0%\n",
      "val = 20.0%\n",
      "test = 20.0%\n"
     ]
    }
   ],
   "source": [
    "# проверим распределение данных по выборкам в %\n",
    "print(f\"train = {100*len(train)/len(df):.1f}%\")\n",
    "print(f\"val = {100*len(features_val)/len(df):.1f}%\")\n",
    "print(f\"test = {100*len(features_test)/len(df):.1f}%\")"
   ]
  },
  {
   "cell_type": "markdown",
   "metadata": {},
   "source": [
    "**Вывод**\n",
    "<br> разбили данные на следующие выборки:\n",
    "- features_train, target_train - обучающая выборка - 60% данных\n",
    "- features_test, target_test - тестовая выборка - 20% данных\n",
    "- features_val, target_val - валидационная выборка - 20% данных"
   ]
  },
  {
   "cell_type": "markdown",
   "metadata": {},
   "source": [
    "## Исследуйте модели"
   ]
  },
  {
   "cell_type": "markdown",
   "metadata": {},
   "source": [
    "### Дерево решений"
   ]
  },
  {
   "cell_type": "code",
   "execution_count": 12,
   "metadata": {},
   "outputs": [
    {
     "name": "stdout",
     "output_type": "stream",
     "text": [
      "Глубина дерева: 3  Точность модели: 0.7853810264385692\n"
     ]
    }
   ],
   "source": [
    "best_result = 0 # счетчик точности модели\n",
    "best_depth = 0 # счетчик глубины дерева\n",
    "# создадим цикл для max_depth от 1 до 10\n",
    "for depth in range(1,10):\n",
    "    model = DecisionTreeClassifier(max_depth=depth, splitter='best', random_state=12345, min_samples_split=2) # создаем объект дерева решений\n",
    "    model.fit(features_train, target_train) # обучим модель на тренировочной выборке\n",
    "    result = model.score(features_val, target_val) # получим предсказания модели на валидационной выборке\n",
    "    if result > best_result:\n",
    "        best_result = result\n",
    "        best_depth = depth\n",
    "print(\"Глубина дерева:\", best_depth, \" Точность модели:\", best_result)\n"
   ]
  },
  {
   "cell_type": "markdown",
   "metadata": {},
   "source": [
    "### Случайный лес"
   ]
  },
  {
   "cell_type": "code",
   "execution_count": 13,
   "metadata": {},
   "outputs": [
    {
     "name": "stdout",
     "output_type": "stream",
     "text": [
      "Глубина дерева: 8  Количество деревьев: 40  Качество: 0.8087091757387247\n"
     ]
    }
   ],
   "source": [
    "# проверим модель на алгоритме случайного леса (параметры глубины дерева от 1 до 10, леса: кол-во деревьев от 10 до 50 с шагом 10)\n",
    "best_result = 0\n",
    "best_depth = 0\n",
    "for depth in range(1,10):\n",
    "    for est in range(10,50,10):\n",
    "        model = RandomForestClassifier(max_depth=depth, n_estimators=est, random_state=12345)\n",
    "        model.fit(features_train, target_train)\n",
    "        result = model.score(features_val, target_val)\n",
    "        if result > best_result:\n",
    "            best_result = result\n",
    "            best_depth = depth\n",
    "            best_est = est\n",
    "print(\"Глубина дерева:\", best_depth, \" Количество деревьев:\", best_est, \" Качество:\", best_result)\n"
   ]
  },
  {
   "cell_type": "markdown",
   "metadata": {},
   "source": [
    "### Логистическая регрессия"
   ]
  },
  {
   "cell_type": "code",
   "execution_count": 14,
   "metadata": {
    "scrolled": true
   },
   "outputs": [
    {
     "name": "stdout",
     "output_type": "stream",
     "text": [
      "Точность модели: 0.7589424572317263\n"
     ]
    }
   ],
   "source": [
    "# проверим модель алгоритмом логистической регрессии\n",
    "model = LogisticRegression(random_state=12345, solver='liblinear') # инициализируем модель логистической регрессии с параметром random_state=12345\n",
    "model.fit(features_train, target_train) # обучим модель на тренировочной выборке\n",
    "result = model.score(features_val, target_val) # получим метрику качества модели на валидационной выборке\n",
    "\n",
    "print(\"Точность модели:\", result)\n"
   ]
  },
  {
   "cell_type": "markdown",
   "metadata": {},
   "source": [
    "### Вывод"
   ]
  },
  {
   "cell_type": "markdown",
   "metadata": {},
   "source": [
    "Наибольшая точность модели на валидационной выборке достигается при применении алгоритма RandomForestClassifier (случайный лес) с показтелем 0.81\n",
    "\n"
   ]
  },
  {
   "cell_type": "markdown",
   "metadata": {},
   "source": [
    "## Проверьте модель на тестовой выборке"
   ]
  },
  {
   "cell_type": "markdown",
   "metadata": {},
   "source": [
    "### Дерево решений"
   ]
  },
  {
   "cell_type": "code",
   "execution_count": 15,
   "metadata": {},
   "outputs": [
    {
     "name": "stdout",
     "output_type": "stream",
     "text": [
      "Качество: 0.7791601866251944\n"
     ]
    }
   ],
   "source": [
    "model = DecisionTreeClassifier(max_depth=3, random_state=12345)\n",
    "model.fit(features_train, target_train)\n",
    "result = model.score(features_test, target_test)\n",
    "print(\"Качество:\", result)"
   ]
  },
  {
   "cell_type": "markdown",
   "metadata": {},
   "source": [
    "### Случайный лес"
   ]
  },
  {
   "cell_type": "code",
   "execution_count": 16,
   "metadata": {},
   "outputs": [
    {
     "name": "stdout",
     "output_type": "stream",
     "text": [
      "Качество: 0.7962674961119751\n"
     ]
    }
   ],
   "source": [
    "model = RandomForestClassifier(max_depth=8, n_estimators=40, random_state=12345)\n",
    "model.fit(features_train, target_train)\n",
    "result = model.score(features_test, target_test)\n",
    "print(\"Качество:\", result)"
   ]
  },
  {
   "cell_type": "markdown",
   "metadata": {},
   "source": [
    "### Логистическая регрессия"
   ]
  },
  {
   "cell_type": "code",
   "execution_count": 17,
   "metadata": {},
   "outputs": [
    {
     "name": "stdout",
     "output_type": "stream",
     "text": [
      "Качество: 0.7402799377916018\n"
     ]
    }
   ],
   "source": [
    "model = LogisticRegression(solver='liblinear')\n",
    "model.fit(features_train, target_train)\n",
    "result = model.score(features_test, target_test)\n",
    "print(\"Качество:\", result)"
   ]
  },
  {
   "cell_type": "markdown",
   "metadata": {},
   "source": [
    "### Вывод"
   ]
  },
  {
   "cell_type": "markdown",
   "metadata": {},
   "source": [
    "Наибольшая точность модели на тестовой выборке достигается при применении алгоритма RandomForestClassifier (случайный лес) с показтелем 0.793, точность чуть меньше, чем по валидационной выборке\n",
    " "
   ]
  },
  {
   "cell_type": "markdown",
   "metadata": {},
   "source": [
    "## (бонус) Проверьте модели на адекватность"
   ]
  },
  {
   "cell_type": "markdown",
   "metadata": {},
   "source": [
    "Повторим расчет точности каждой из моделей с помощью функции"
   ]
  },
  {
   "cell_type": "code",
   "execution_count": 18,
   "metadata": {},
   "outputs": [
    {
     "name": "stdout",
     "output_type": "stream",
     "text": [
      "Точность:- дерево решений 0.7853810264385692\n",
      "Точность:- случайный лес  0.8087091757387247\n",
      "Точность:- логистческая регрессия 0.7589424572317263\n"
     ]
    }
   ],
   "source": [
    "def all_models_accuracy(features_train, target_train, features_val, target_val):\n",
    "    model_DTC = DecisionTreeClassifier(random_state=12345, max_depth=3)\n",
    "    DTC_score = model_DTC.fit(features_train, target_train).score(features_val, target_val)\n",
    "    \n",
    "    model_RFC = RandomForestClassifier(random_state=12345, max_depth=8, n_estimators = 40)\n",
    "    RFC_score = model_RFC.fit(features_train, target_train).score(features_val, target_val)\n",
    "    \n",
    "    model_LgR = LogisticRegression(solver = 'liblinear')\n",
    "    LgR_score = model_LgR.fit(features_train, target_train).score(features_val, target_val)\n",
    "    print(\"Точность:\" \"- дерево решений\", DTC_score)\n",
    "    print(\"Точность:\" \"- случайный лес \", RFC_score)\n",
    "    print(\"Точность:\" \"- логистческая регрессия\", LgR_score)\n",
    "all_models_accuracy(features_train, target_train, features_val, target_val)\n"
   ]
  },
  {
   "cell_type": "markdown",
   "metadata": {},
   "source": [
    "Случайный лес показывал самую высокую точность по валидационной выборке - 0.81\n",
    "\n",
    "<br> Сравним качество предсказаний с новой постоянной моделью. "
   ]
  },
  {
   "cell_type": "code",
   "execution_count": 19,
   "metadata": {},
   "outputs": [
    {
     "data": {
      "text/plain": [
       "(643,)"
      ]
     },
     "execution_count": 19,
     "metadata": {},
     "output_type": "execute_result"
    }
   ],
   "source": [
    "#Создадим постаянную модель для проверки адекватности наших моделей, за константу примем 0\n",
    "target_predict_const = pd.Series([0]*len(target_val))\n",
    "target_predict_const.shape"
   ]
  },
  {
   "cell_type": "code",
   "execution_count": 20,
   "metadata": {
    "scrolled": true
   },
   "outputs": [
    {
     "data": {
      "text/plain": [
       "0.7060653188180405"
      ]
     },
     "execution_count": 20,
     "metadata": {},
     "output_type": "execute_result"
    }
   ],
   "source": [
    "accuracy_score_const = accuracy_score(target_val, target_predict_const)\n",
    "accuracy_score_const"
   ]
  },
  {
   "cell_type": "markdown",
   "metadata": {},
   "source": [
    "Точность постоянной модели = 0.7, что ниже всех оценных нами моделей. Соответственно, все модели являются адекватными."
   ]
  },
  {
   "cell_type": "markdown",
   "metadata": {},
   "source": [
    "## Вывод"
   ]
  },
  {
   "cell_type": "markdown",
   "metadata": {},
   "source": [
    "- В ходе проекта мы разделили данные на 3 выборки в соотношении 3:1:1 (обучающую с 60% данными, валидационную и тестовую по 20% данных)\n",
    "- Построили 3 модели для задачи классификации и выбора подходящего тарифа для пользователей\n",
    "- Обучили модели и проверили их точность на валидационной и тестовой выборках\n",
    "- Наилучший результат показала модель \"Случайного леса\" с показателем 0.81 по валидачионной выборке\n",
    "- В заключении подтвердили адекватность всех построенных моделей, сравних их с постоянной моделью\n",
    "\n",
    "Для выполнения задачи классификации по тарифам и отбора подходящего рекомендуется к применению модель \"Случайного леса\" с точностью более 80%"
   ]
  }
 ],
 "metadata": {
  "ExecuteTimeLog": [
   {
    "duration": 703,
    "start_time": "2022-02-09T12:40:50.191Z"
   },
   {
    "duration": 1231,
    "start_time": "2022-02-09T12:40:55.024Z"
   },
   {
    "duration": 19,
    "start_time": "2022-02-09T12:40:57.711Z"
   },
   {
    "duration": 18,
    "start_time": "2022-02-09T12:40:58.878Z"
   },
   {
    "duration": 328,
    "start_time": "2022-02-09T12:42:17.459Z"
   },
   {
    "duration": 27,
    "start_time": "2022-02-09T12:42:44.722Z"
   },
   {
    "duration": 8,
    "start_time": "2022-02-09T12:43:33.838Z"
   },
   {
    "duration": 34,
    "start_time": "2022-02-09T12:44:55.568Z"
   },
   {
    "duration": 296,
    "start_time": "2022-02-09T15:48:02.248Z"
   },
   {
    "duration": 6,
    "start_time": "2022-02-09T15:48:07.786Z"
   },
   {
    "duration": 5,
    "start_time": "2022-02-09T15:48:09.899Z"
   },
   {
    "duration": 6,
    "start_time": "2022-02-09T15:48:11.037Z"
   },
   {
    "duration": 37,
    "start_time": "2022-02-09T15:48:14.112Z"
   },
   {
    "duration": 6,
    "start_time": "2022-02-09T15:51:00.296Z"
   },
   {
    "duration": 35,
    "start_time": "2022-02-09T15:51:03.527Z"
   },
   {
    "duration": 5,
    "start_time": "2022-02-09T15:59:11.413Z"
   },
   {
    "duration": 7,
    "start_time": "2022-02-09T15:59:13.175Z"
   },
   {
    "duration": 44,
    "start_time": "2022-02-09T15:59:19.802Z"
   },
   {
    "duration": 677,
    "start_time": "2022-02-09T16:03:05.903Z"
   },
   {
    "duration": 291,
    "start_time": "2022-02-09T16:06:25.703Z"
   },
   {
    "duration": 282,
    "start_time": "2022-02-09T16:06:57.781Z"
   },
   {
    "duration": 295,
    "start_time": "2022-02-09T16:07:21.335Z"
   },
   {
    "duration": 299,
    "start_time": "2022-02-09T16:07:57.411Z"
   },
   {
    "duration": 2156,
    "start_time": "2022-02-09T16:08:05.388Z"
   },
   {
    "duration": 2091,
    "start_time": "2022-02-09T16:09:00.401Z"
   },
   {
    "duration": 1815,
    "start_time": "2022-02-09T16:09:04.912Z"
   },
   {
    "duration": 1773,
    "start_time": "2022-02-09T16:09:23.787Z"
   },
   {
    "duration": 1804,
    "start_time": "2022-02-09T16:10:43.826Z"
   },
   {
    "duration": 10353,
    "start_time": "2022-02-09T16:11:20.390Z"
   },
   {
    "duration": 3397,
    "start_time": "2022-02-09T16:12:48.972Z"
   },
   {
    "duration": 1542,
    "start_time": "2022-02-09T16:13:03.223Z"
   },
   {
    "duration": 1645,
    "start_time": "2022-02-09T16:13:37.263Z"
   },
   {
    "duration": 1576,
    "start_time": "2022-02-09T16:14:19.850Z"
   },
   {
    "duration": 279,
    "start_time": "2022-02-09T16:16:56.386Z"
   },
   {
    "duration": 73,
    "start_time": "2022-02-09T16:17:03.129Z"
   },
   {
    "duration": 13,
    "start_time": "2022-02-09T16:17:45.014Z"
   },
   {
    "duration": 13,
    "start_time": "2022-02-09T16:17:51.348Z"
   },
   {
    "duration": 9,
    "start_time": "2022-02-09T17:05:30.237Z"
   },
   {
    "duration": 82,
    "start_time": "2022-02-09T17:05:56.898Z"
   },
   {
    "duration": 12,
    "start_time": "2022-02-09T17:06:47.753Z"
   },
   {
    "duration": 4,
    "start_time": "2022-02-09T17:25:45.218Z"
   },
   {
    "duration": 6,
    "start_time": "2022-02-09T17:26:05.742Z"
   },
   {
    "duration": 4,
    "start_time": "2022-02-09T17:26:06.503Z"
   },
   {
    "duration": 5,
    "start_time": "2022-02-09T17:26:17.126Z"
   },
   {
    "duration": 4,
    "start_time": "2022-02-09T17:26:17.933Z"
   },
   {
    "duration": 5,
    "start_time": "2022-02-09T17:26:19.375Z"
   },
   {
    "duration": 4,
    "start_time": "2022-02-09T17:26:20.053Z"
   },
   {
    "duration": 5,
    "start_time": "2022-02-09T17:26:58.559Z"
   },
   {
    "duration": 5,
    "start_time": "2022-02-09T17:27:25.316Z"
   },
   {
    "duration": 4,
    "start_time": "2022-02-09T17:27:34.872Z"
   },
   {
    "duration": 1140,
    "start_time": "2022-02-09T17:27:47.329Z"
   },
   {
    "duration": 21,
    "start_time": "2022-02-09T17:27:48.471Z"
   },
   {
    "duration": 7,
    "start_time": "2022-02-09T17:27:48.497Z"
   },
   {
    "duration": 23,
    "start_time": "2022-02-09T17:27:48.507Z"
   },
   {
    "duration": 30,
    "start_time": "2022-02-09T17:27:48.533Z"
   },
   {
    "duration": 6,
    "start_time": "2022-02-09T17:27:48.566Z"
   },
   {
    "duration": 5,
    "start_time": "2022-02-09T17:27:48.598Z"
   },
   {
    "duration": 8,
    "start_time": "2022-02-09T17:27:48.605Z"
   },
   {
    "duration": 370,
    "start_time": "2022-02-09T17:27:48.616Z"
   },
   {
    "duration": -151,
    "start_time": "2022-02-09T17:27:49.140Z"
   },
   {
    "duration": -153,
    "start_time": "2022-02-09T17:27:49.143Z"
   },
   {
    "duration": -154,
    "start_time": "2022-02-09T17:27:49.145Z"
   },
   {
    "duration": -165,
    "start_time": "2022-02-09T17:27:49.158Z"
   },
   {
    "duration": -167,
    "start_time": "2022-02-09T17:27:49.161Z"
   },
   {
    "duration": -168,
    "start_time": "2022-02-09T17:27:49.164Z"
   },
   {
    "duration": 255,
    "start_time": "2022-02-09T17:28:18.523Z"
   },
   {
    "duration": 4,
    "start_time": "2022-02-09T17:28:38.447Z"
   },
   {
    "duration": 5,
    "start_time": "2022-02-09T17:29:17.064Z"
   },
   {
    "duration": 252,
    "start_time": "2022-02-09T17:29:24.735Z"
   },
   {
    "duration": 4,
    "start_time": "2022-02-09T17:29:44.903Z"
   },
   {
    "duration": 6,
    "start_time": "2022-02-09T17:30:18.195Z"
   },
   {
    "duration": 4,
    "start_time": "2022-02-09T17:30:19.504Z"
   },
   {
    "duration": 5,
    "start_time": "2022-02-09T17:30:20.217Z"
   },
   {
    "duration": 4,
    "start_time": "2022-02-09T17:30:20.860Z"
   },
   {
    "duration": 8,
    "start_time": "2022-02-09T17:31:29.482Z"
   },
   {
    "duration": 4,
    "start_time": "2022-02-09T17:31:30.414Z"
   },
   {
    "duration": 6,
    "start_time": "2022-02-09T17:31:31.463Z"
   },
   {
    "duration": 5,
    "start_time": "2022-02-09T17:31:32.098Z"
   },
   {
    "duration": 5,
    "start_time": "2022-02-09T17:31:49.387Z"
   },
   {
    "duration": 7,
    "start_time": "2022-02-09T17:31:50.338Z"
   },
   {
    "duration": 6,
    "start_time": "2022-02-09T17:31:50.914Z"
   },
   {
    "duration": 4,
    "start_time": "2022-02-09T17:31:51.779Z"
   },
   {
    "duration": 5,
    "start_time": "2022-02-09T17:33:51.971Z"
   },
   {
    "duration": 4,
    "start_time": "2022-02-09T17:33:52.598Z"
   },
   {
    "duration": 5,
    "start_time": "2022-02-09T17:33:56.686Z"
   },
   {
    "duration": 5,
    "start_time": "2022-02-09T17:33:57.423Z"
   },
   {
    "duration": 4,
    "start_time": "2022-02-09T17:34:15.840Z"
   },
   {
    "duration": 6,
    "start_time": "2022-02-09T17:35:40.739Z"
   },
   {
    "duration": 4,
    "start_time": "2022-02-09T17:35:42.279Z"
   },
   {
    "duration": 4,
    "start_time": "2022-02-09T17:35:50.221Z"
   },
   {
    "duration": 5,
    "start_time": "2022-02-09T17:35:50.911Z"
   },
   {
    "duration": 6,
    "start_time": "2022-02-09T17:35:51.581Z"
   },
   {
    "duration": 4,
    "start_time": "2022-02-09T17:35:52.267Z"
   },
   {
    "duration": 4,
    "start_time": "2022-02-09T17:36:33.475Z"
   },
   {
    "duration": 65,
    "start_time": "2022-02-09T17:37:17.111Z"
   },
   {
    "duration": 2739,
    "start_time": "2022-02-09T17:37:23.551Z"
   },
   {
    "duration": 12,
    "start_time": "2022-02-09T17:37:31.271Z"
   },
   {
    "duration": 5,
    "start_time": "2022-02-09T17:38:38.295Z"
   },
   {
    "duration": 4,
    "start_time": "2022-02-09T17:38:47.861Z"
   },
   {
    "duration": 4,
    "start_time": "2022-02-09T17:39:01.308Z"
   },
   {
    "duration": 4,
    "start_time": "2022-02-09T17:39:11.793Z"
   },
   {
    "duration": 6,
    "start_time": "2022-02-09T17:39:21.728Z"
   },
   {
    "duration": 6,
    "start_time": "2022-02-09T17:39:22.769Z"
   },
   {
    "duration": 4,
    "start_time": "2022-02-09T17:39:23.578Z"
   },
   {
    "duration": 3,
    "start_time": "2022-02-09T17:39:42.310Z"
   },
   {
    "duration": 865,
    "start_time": "2022-02-09T17:40:14.502Z"
   },
   {
    "duration": 5,
    "start_time": "2022-02-09T17:40:24.148Z"
   },
   {
    "duration": 5,
    "start_time": "2022-02-09T17:40:25.301Z"
   },
   {
    "duration": 4,
    "start_time": "2022-02-09T17:40:26.243Z"
   },
   {
    "duration": 5,
    "start_time": "2022-02-09T17:41:56.421Z"
   },
   {
    "duration": 9,
    "start_time": "2022-02-09T17:43:29.746Z"
   },
   {
    "duration": 4,
    "start_time": "2022-02-09T17:43:30.882Z"
   },
   {
    "duration": 4,
    "start_time": "2022-02-09T17:43:32.558Z"
   },
   {
    "duration": 261,
    "start_time": "2022-02-09T17:44:23.323Z"
   },
   {
    "duration": 13,
    "start_time": "2022-02-09T17:45:05.654Z"
   },
   {
    "duration": 5,
    "start_time": "2022-02-09T17:45:15.701Z"
   },
   {
    "duration": 8,
    "start_time": "2022-02-09T17:45:37.725Z"
   },
   {
    "duration": 5,
    "start_time": "2022-02-09T17:45:38.722Z"
   },
   {
    "duration": 4,
    "start_time": "2022-02-09T17:45:39.491Z"
   },
   {
    "duration": 5,
    "start_time": "2022-02-09T17:46:13.544Z"
   },
   {
    "duration": 12,
    "start_time": "2022-02-09T17:46:39.987Z"
   },
   {
    "duration": 11,
    "start_time": "2022-02-09T17:46:49.525Z"
   },
   {
    "duration": 13,
    "start_time": "2022-02-09T17:47:11.391Z"
   },
   {
    "duration": 3,
    "start_time": "2022-02-09T17:47:16.634Z"
   },
   {
    "duration": 5,
    "start_time": "2022-02-09T17:47:50.846Z"
   },
   {
    "duration": 11,
    "start_time": "2022-02-09T17:47:52.572Z"
   },
   {
    "duration": 12,
    "start_time": "2022-02-09T17:48:04.951Z"
   },
   {
    "duration": 11,
    "start_time": "2022-02-09T17:48:10.441Z"
   },
   {
    "duration": 7,
    "start_time": "2022-02-09T17:49:42.883Z"
   },
   {
    "duration": 9,
    "start_time": "2022-02-09T17:49:44.733Z"
   },
   {
    "duration": 5,
    "start_time": "2022-02-09T17:49:45.610Z"
   },
   {
    "duration": 4,
    "start_time": "2022-02-09T17:49:59.633Z"
   },
   {
    "duration": 7,
    "start_time": "2022-02-09T17:50:18.417Z"
   },
   {
    "duration": 10,
    "start_time": "2022-02-09T17:50:19.212Z"
   },
   {
    "duration": 5,
    "start_time": "2022-02-09T17:50:19.862Z"
   },
   {
    "duration": 6,
    "start_time": "2022-02-09T17:50:33.137Z"
   },
   {
    "duration": 9,
    "start_time": "2022-02-09T17:50:33.903Z"
   },
   {
    "duration": 268,
    "start_time": "2022-02-09T17:50:34.557Z"
   },
   {
    "duration": 9,
    "start_time": "2022-02-09T17:52:58.808Z"
   },
   {
    "duration": 271,
    "start_time": "2022-02-09T17:53:01.226Z"
   },
   {
    "duration": 4,
    "start_time": "2022-02-09T17:53:12.461Z"
   },
   {
    "duration": 4,
    "start_time": "2022-02-09T17:53:14.666Z"
   },
   {
    "duration": 8,
    "start_time": "2022-02-09T17:53:33.827Z"
   },
   {
    "duration": 4,
    "start_time": "2022-02-09T17:53:34.437Z"
   },
   {
    "duration": 4,
    "start_time": "2022-02-09T17:53:35.441Z"
   },
   {
    "duration": 8,
    "start_time": "2022-02-09T17:53:45.050Z"
   },
   {
    "duration": 5,
    "start_time": "2022-02-09T17:53:45.712Z"
   },
   {
    "duration": 4,
    "start_time": "2022-02-09T17:53:46.839Z"
   },
   {
    "duration": 9,
    "start_time": "2022-02-09T17:53:58.979Z"
   },
   {
    "duration": 6,
    "start_time": "2022-02-09T17:53:59.539Z"
   },
   {
    "duration": 7,
    "start_time": "2022-02-09T17:54:00.468Z"
   },
   {
    "duration": 6,
    "start_time": "2022-02-09T17:54:10.435Z"
   },
   {
    "duration": 5,
    "start_time": "2022-02-09T17:54:54.909Z"
   },
   {
    "duration": 5,
    "start_time": "2022-02-09T17:54:55.579Z"
   },
   {
    "duration": 9,
    "start_time": "2022-02-09T17:54:56.339Z"
   },
   {
    "duration": 5,
    "start_time": "2022-02-09T17:54:57.170Z"
   },
   {
    "duration": 4,
    "start_time": "2022-02-09T17:54:58.415Z"
   },
   {
    "duration": 5,
    "start_time": "2022-02-09T17:55:24.040Z"
   },
   {
    "duration": 5,
    "start_time": "2022-02-09T17:55:24.674Z"
   },
   {
    "duration": 4,
    "start_time": "2022-02-09T17:55:25.473Z"
   },
   {
    "duration": 1121,
    "start_time": "2022-02-09T17:55:37.043Z"
   },
   {
    "duration": 20,
    "start_time": "2022-02-09T17:55:38.166Z"
   },
   {
    "duration": 7,
    "start_time": "2022-02-09T17:55:38.188Z"
   },
   {
    "duration": 21,
    "start_time": "2022-02-09T17:55:38.197Z"
   },
   {
    "duration": 26,
    "start_time": "2022-02-09T17:55:38.220Z"
   },
   {
    "duration": 4,
    "start_time": "2022-02-09T17:55:38.249Z"
   },
   {
    "duration": 9,
    "start_time": "2022-02-09T17:55:38.255Z"
   },
   {
    "duration": 31,
    "start_time": "2022-02-09T17:55:38.267Z"
   },
   {
    "duration": 361,
    "start_time": "2022-02-09T17:55:38.300Z"
   },
   {
    "duration": 87,
    "start_time": "2022-02-09T17:55:38.576Z"
   },
   {
    "duration": 86,
    "start_time": "2022-02-09T17:55:38.578Z"
   },
   {
    "duration": 84,
    "start_time": "2022-02-09T17:55:38.581Z"
   },
   {
    "duration": 80,
    "start_time": "2022-02-09T17:55:38.586Z"
   },
   {
    "duration": 79,
    "start_time": "2022-02-09T17:55:38.588Z"
   },
   {
    "duration": 78,
    "start_time": "2022-02-09T17:55:38.590Z"
   },
   {
    "duration": 75,
    "start_time": "2022-02-09T17:55:38.594Z"
   },
   {
    "duration": 4,
    "start_time": "2022-02-09T17:55:52.672Z"
   },
   {
    "duration": 274,
    "start_time": "2022-02-09T17:56:08.526Z"
   },
   {
    "duration": 8,
    "start_time": "2022-02-09T17:56:16.881Z"
   },
   {
    "duration": 4,
    "start_time": "2022-02-09T17:56:18.149Z"
   },
   {
    "duration": 265,
    "start_time": "2022-02-09T17:56:22.248Z"
   },
   {
    "duration": 4,
    "start_time": "2022-02-09T17:56:32.848Z"
   },
   {
    "duration": 10,
    "start_time": "2022-02-09T17:57:35.297Z"
   },
   {
    "duration": 6,
    "start_time": "2022-02-09T17:57:35.953Z"
   },
   {
    "duration": 5,
    "start_time": "2022-02-09T17:57:37.001Z"
   },
   {
    "duration": 8,
    "start_time": "2022-02-09T17:58:29.837Z"
   },
   {
    "duration": 4,
    "start_time": "2022-02-09T17:58:30.479Z"
   },
   {
    "duration": 4,
    "start_time": "2022-02-09T17:58:31.126Z"
   },
   {
    "duration": 261,
    "start_time": "2022-02-09T18:02:51.803Z"
   },
   {
    "duration": 9,
    "start_time": "2022-02-09T18:03:00.047Z"
   },
   {
    "duration": 7,
    "start_time": "2022-02-09T18:03:09.053Z"
   },
   {
    "duration": 10,
    "start_time": "2022-02-09T18:03:09.974Z"
   },
   {
    "duration": 5,
    "start_time": "2022-02-09T18:03:11.154Z"
   },
   {
    "duration": 5,
    "start_time": "2022-02-09T18:03:14.416Z"
   },
   {
    "duration": 9,
    "start_time": "2022-02-09T18:03:22.129Z"
   },
   {
    "duration": 4,
    "start_time": "2022-02-09T18:03:23.037Z"
   },
   {
    "duration": 4,
    "start_time": "2022-02-09T18:03:24.090Z"
   },
   {
    "duration": 5,
    "start_time": "2022-02-09T18:03:32.570Z"
   },
   {
    "duration": 8,
    "start_time": "2022-02-09T18:03:33.522Z"
   },
   {
    "duration": 5,
    "start_time": "2022-02-09T18:03:34.398Z"
   },
   {
    "duration": 4,
    "start_time": "2022-02-09T18:03:36.669Z"
   },
   {
    "duration": 287,
    "start_time": "2022-02-09T18:04:14.977Z"
   },
   {
    "duration": 4,
    "start_time": "2022-02-09T18:04:15.610Z"
   },
   {
    "duration": 5,
    "start_time": "2022-02-09T18:04:42.729Z"
   },
   {
    "duration": 349,
    "start_time": "2022-02-09T18:04:43.988Z"
   },
   {
    "duration": 260,
    "start_time": "2022-02-09T18:05:07.601Z"
   },
   {
    "duration": 4,
    "start_time": "2022-02-09T18:05:20.870Z"
   },
   {
    "duration": 6,
    "start_time": "2022-02-09T18:05:21.526Z"
   },
   {
    "duration": 276,
    "start_time": "2022-02-09T18:05:22.967Z"
   },
   {
    "duration": 260,
    "start_time": "2022-02-09T18:05:44.594Z"
   },
   {
    "duration": 1173,
    "start_time": "2022-02-09T18:06:03.994Z"
   },
   {
    "duration": 21,
    "start_time": "2022-02-09T18:06:05.170Z"
   },
   {
    "duration": 8,
    "start_time": "2022-02-09T18:06:05.194Z"
   },
   {
    "duration": 19,
    "start_time": "2022-02-09T18:06:05.204Z"
   },
   {
    "duration": 52,
    "start_time": "2022-02-09T18:06:05.225Z"
   },
   {
    "duration": 3,
    "start_time": "2022-02-09T18:06:05.279Z"
   },
   {
    "duration": 23,
    "start_time": "2022-02-09T18:06:05.284Z"
   },
   {
    "duration": 393,
    "start_time": "2022-02-09T18:06:05.309Z"
   },
   {
    "duration": 87,
    "start_time": "2022-02-09T18:06:05.617Z"
   },
   {
    "duration": 86,
    "start_time": "2022-02-09T18:06:05.619Z"
   },
   {
    "duration": 84,
    "start_time": "2022-02-09T18:06:05.622Z"
   },
   {
    "duration": 84,
    "start_time": "2022-02-09T18:06:05.623Z"
   },
   {
    "duration": 83,
    "start_time": "2022-02-09T18:06:05.625Z"
   },
   {
    "duration": 81,
    "start_time": "2022-02-09T18:06:05.628Z"
   },
   {
    "duration": 80,
    "start_time": "2022-02-09T18:06:05.630Z"
   },
   {
    "duration": 78,
    "start_time": "2022-02-09T18:06:05.632Z"
   },
   {
    "duration": 5,
    "start_time": "2022-02-09T18:06:53.327Z"
   },
   {
    "duration": 285,
    "start_time": "2022-02-09T18:06:54.503Z"
   },
   {
    "duration": 11898,
    "start_time": "2022-02-09T18:07:12.101Z"
   },
   {
    "duration": 277,
    "start_time": "2022-02-09T18:07:36.791Z"
   },
   {
    "duration": 1107,
    "start_time": "2022-02-09T18:07:58.555Z"
   },
   {
    "duration": 20,
    "start_time": "2022-02-09T18:07:59.664Z"
   },
   {
    "duration": 8,
    "start_time": "2022-02-09T18:07:59.686Z"
   },
   {
    "duration": 18,
    "start_time": "2022-02-09T18:07:59.698Z"
   },
   {
    "duration": 27,
    "start_time": "2022-02-09T18:07:59.718Z"
   },
   {
    "duration": 4,
    "start_time": "2022-02-09T18:07:59.747Z"
   },
   {
    "duration": 9,
    "start_time": "2022-02-09T18:07:59.753Z"
   },
   {
    "duration": 36,
    "start_time": "2022-02-09T18:07:59.764Z"
   },
   {
    "duration": 4,
    "start_time": "2022-02-09T18:07:59.803Z"
   },
   {
    "duration": 5,
    "start_time": "2022-02-09T18:07:59.809Z"
   },
   {
    "duration": 62,
    "start_time": "2022-02-09T18:07:59.815Z"
   },
   {
    "duration": 2746,
    "start_time": "2022-02-09T18:07:59.878Z"
   },
   {
    "duration": 14,
    "start_time": "2022-02-09T18:08:02.626Z"
   },
   {
    "duration": 369,
    "start_time": "2022-02-09T18:08:02.642Z"
   },
   {
    "duration": 94,
    "start_time": "2022-02-09T18:08:02.919Z"
   },
   {
    "duration": 85,
    "start_time": "2022-02-09T18:08:02.929Z"
   },
   {
    "duration": 1156,
    "start_time": "2022-02-09T18:09:55.122Z"
   },
   {
    "duration": 20,
    "start_time": "2022-02-09T18:09:56.281Z"
   },
   {
    "duration": 7,
    "start_time": "2022-02-09T18:09:56.306Z"
   },
   {
    "duration": 19,
    "start_time": "2022-02-09T18:09:56.315Z"
   },
   {
    "duration": 28,
    "start_time": "2022-02-09T18:09:56.336Z"
   },
   {
    "duration": 34,
    "start_time": "2022-02-09T18:09:56.367Z"
   },
   {
    "duration": 10,
    "start_time": "2022-02-09T18:09:56.403Z"
   },
   {
    "duration": 4,
    "start_time": "2022-02-09T18:09:56.417Z"
   },
   {
    "duration": 7,
    "start_time": "2022-02-09T18:09:56.424Z"
   },
   {
    "duration": 5,
    "start_time": "2022-02-09T18:09:56.433Z"
   },
   {
    "duration": 5,
    "start_time": "2022-02-09T18:09:56.440Z"
   },
   {
    "duration": 94,
    "start_time": "2022-02-09T18:09:56.447Z"
   },
   {
    "duration": 1905,
    "start_time": "2022-02-09T18:09:56.543Z"
   },
   {
    "duration": 14,
    "start_time": "2022-02-09T18:09:58.450Z"
   },
   {
    "duration": 371,
    "start_time": "2022-02-09T18:09:58.466Z"
   },
   {
    "duration": 115,
    "start_time": "2022-02-09T18:09:58.724Z"
   },
   {
    "duration": 113,
    "start_time": "2022-02-09T18:09:58.727Z"
   },
   {
    "duration": 1110,
    "start_time": "2022-02-09T18:11:09.655Z"
   },
   {
    "duration": 20,
    "start_time": "2022-02-09T18:11:10.767Z"
   },
   {
    "duration": 7,
    "start_time": "2022-02-09T18:11:10.789Z"
   },
   {
    "duration": 18,
    "start_time": "2022-02-09T18:11:10.798Z"
   },
   {
    "duration": 27,
    "start_time": "2022-02-09T18:11:10.818Z"
   },
   {
    "duration": 4,
    "start_time": "2022-02-09T18:11:10.847Z"
   },
   {
    "duration": 11,
    "start_time": "2022-02-09T18:11:10.852Z"
   },
   {
    "duration": 4,
    "start_time": "2022-02-09T18:11:10.866Z"
   },
   {
    "duration": 28,
    "start_time": "2022-02-09T18:11:10.872Z"
   },
   {
    "duration": 4,
    "start_time": "2022-02-09T18:11:10.902Z"
   },
   {
    "duration": 12,
    "start_time": "2022-02-09T18:11:10.908Z"
   },
   {
    "duration": 60,
    "start_time": "2022-02-09T18:11:10.922Z"
   },
   {
    "duration": 2417,
    "start_time": "2022-02-09T18:11:10.984Z"
   },
   {
    "duration": 12,
    "start_time": "2022-02-09T18:11:13.403Z"
   },
   {
    "duration": 386,
    "start_time": "2022-02-09T18:11:13.417Z"
   },
   {
    "duration": -23,
    "start_time": "2022-02-09T18:11:13.828Z"
   },
   {
    "duration": -25,
    "start_time": "2022-02-09T18:11:13.831Z"
   },
   {
    "duration": 1168,
    "start_time": "2022-02-09T18:14:52.079Z"
   },
   {
    "duration": 19,
    "start_time": "2022-02-09T18:14:53.250Z"
   },
   {
    "duration": 8,
    "start_time": "2022-02-09T18:14:53.271Z"
   },
   {
    "duration": 27,
    "start_time": "2022-02-09T18:14:53.281Z"
   },
   {
    "duration": 26,
    "start_time": "2022-02-09T18:14:53.310Z"
   },
   {
    "duration": 4,
    "start_time": "2022-02-09T18:14:53.338Z"
   },
   {
    "duration": 13,
    "start_time": "2022-02-09T18:14:53.344Z"
   },
   {
    "duration": 4,
    "start_time": "2022-02-09T18:14:53.361Z"
   },
   {
    "duration": 32,
    "start_time": "2022-02-09T18:14:53.367Z"
   },
   {
    "duration": 10,
    "start_time": "2022-02-09T18:14:53.401Z"
   },
   {
    "duration": 9,
    "start_time": "2022-02-09T18:14:53.414Z"
   },
   {
    "duration": 11,
    "start_time": "2022-02-09T18:14:53.425Z"
   },
   {
    "duration": 10,
    "start_time": "2022-02-09T18:14:53.438Z"
   },
   {
    "duration": 54,
    "start_time": "2022-02-09T18:14:53.450Z"
   },
   {
    "duration": 1881,
    "start_time": "2022-02-09T18:14:53.506Z"
   },
   {
    "duration": 14,
    "start_time": "2022-02-09T18:14:55.390Z"
   },
   {
    "duration": 17,
    "start_time": "2022-02-09T18:14:55.406Z"
   },
   {
    "duration": 85,
    "start_time": "2022-02-09T18:14:55.425Z"
   },
   {
    "duration": 9,
    "start_time": "2022-02-09T18:14:55.512Z"
   },
   {
    "duration": 1207,
    "start_time": "2022-02-09T18:38:00.664Z"
   },
   {
    "duration": 20,
    "start_time": "2022-02-09T18:38:01.873Z"
   },
   {
    "duration": 9,
    "start_time": "2022-02-09T18:38:01.895Z"
   },
   {
    "duration": 27,
    "start_time": "2022-02-09T18:38:01.906Z"
   },
   {
    "duration": 35,
    "start_time": "2022-02-09T18:38:01.935Z"
   },
   {
    "duration": 371,
    "start_time": "2022-02-09T18:38:01.972Z"
   },
   {
    "duration": -15,
    "start_time": "2022-02-09T18:38:02.361Z"
   },
   {
    "duration": -17,
    "start_time": "2022-02-09T18:38:02.364Z"
   },
   {
    "duration": -18,
    "start_time": "2022-02-09T18:38:02.366Z"
   },
   {
    "duration": -20,
    "start_time": "2022-02-09T18:38:02.369Z"
   },
   {
    "duration": -26,
    "start_time": "2022-02-09T18:38:02.377Z"
   },
   {
    "duration": -27,
    "start_time": "2022-02-09T18:38:02.379Z"
   },
   {
    "duration": -28,
    "start_time": "2022-02-09T18:38:02.381Z"
   },
   {
    "duration": -28,
    "start_time": "2022-02-09T18:38:02.382Z"
   },
   {
    "duration": -29,
    "start_time": "2022-02-09T18:38:02.385Z"
   },
   {
    "duration": -30,
    "start_time": "2022-02-09T18:38:02.387Z"
   },
   {
    "duration": -30,
    "start_time": "2022-02-09T18:38:02.388Z"
   },
   {
    "duration": 1148,
    "start_time": "2022-02-09T18:38:37.406Z"
   },
   {
    "duration": 21,
    "start_time": "2022-02-09T18:38:38.556Z"
   },
   {
    "duration": 7,
    "start_time": "2022-02-09T18:38:38.579Z"
   },
   {
    "duration": 20,
    "start_time": "2022-02-09T18:38:38.589Z"
   },
   {
    "duration": 37,
    "start_time": "2022-02-09T18:38:38.611Z"
   },
   {
    "duration": 6,
    "start_time": "2022-02-09T18:38:38.649Z"
   },
   {
    "duration": 11,
    "start_time": "2022-02-09T18:38:38.657Z"
   },
   {
    "duration": 8,
    "start_time": "2022-02-09T18:38:38.670Z"
   },
   {
    "duration": 7,
    "start_time": "2022-02-09T18:38:38.698Z"
   },
   {
    "duration": 8,
    "start_time": "2022-02-09T18:38:38.707Z"
   },
   {
    "duration": 350,
    "start_time": "2022-02-09T18:38:38.717Z"
   },
   {
    "duration": -13,
    "start_time": "2022-02-09T18:38:39.083Z"
   },
   {
    "duration": -14,
    "start_time": "2022-02-09T18:38:39.085Z"
   },
   {
    "duration": -16,
    "start_time": "2022-02-09T18:38:39.089Z"
   },
   {
    "duration": -16,
    "start_time": "2022-02-09T18:38:39.090Z"
   },
   {
    "duration": -17,
    "start_time": "2022-02-09T18:38:39.092Z"
   },
   {
    "duration": -17,
    "start_time": "2022-02-09T18:38:39.094Z"
   },
   {
    "duration": 5,
    "start_time": "2022-02-09T18:38:56.891Z"
   },
   {
    "duration": 4,
    "start_time": "2022-02-09T18:39:13.950Z"
   },
   {
    "duration": 1704,
    "start_time": "2022-02-09T18:40:07.050Z"
   },
   {
    "duration": 20,
    "start_time": "2022-02-09T18:40:08.757Z"
   },
   {
    "duration": 8,
    "start_time": "2022-02-09T18:40:08.781Z"
   },
   {
    "duration": 18,
    "start_time": "2022-02-09T18:40:08.799Z"
   },
   {
    "duration": 29,
    "start_time": "2022-02-09T18:40:08.819Z"
   },
   {
    "duration": 15,
    "start_time": "2022-02-09T18:40:08.850Z"
   },
   {
    "duration": 11,
    "start_time": "2022-02-09T18:40:08.869Z"
   },
   {
    "duration": 7,
    "start_time": "2022-02-09T18:40:08.900Z"
   },
   {
    "duration": 5,
    "start_time": "2022-02-09T18:40:08.909Z"
   },
   {
    "duration": 8,
    "start_time": "2022-02-09T18:40:08.916Z"
   },
   {
    "duration": 7,
    "start_time": "2022-02-09T18:40:08.926Z"
   },
   {
    "duration": 104,
    "start_time": "2022-02-09T18:40:08.935Z"
   },
   {
    "duration": 2212,
    "start_time": "2022-02-09T18:40:09.041Z"
   },
   {
    "duration": 17,
    "start_time": "2022-02-09T18:40:11.255Z"
   },
   {
    "duration": 29,
    "start_time": "2022-02-09T18:40:11.273Z"
   },
   {
    "duration": 132,
    "start_time": "2022-02-09T18:40:11.304Z"
   },
   {
    "duration": 14,
    "start_time": "2022-02-09T18:40:11.438Z"
   },
   {
    "duration": 5,
    "start_time": "2022-02-09T18:47:16.596Z"
   },
   {
    "duration": 1211,
    "start_time": "2022-02-09T18:48:03.647Z"
   },
   {
    "duration": 19,
    "start_time": "2022-02-09T18:48:04.861Z"
   },
   {
    "duration": 7,
    "start_time": "2022-02-09T18:48:04.882Z"
   },
   {
    "duration": 18,
    "start_time": "2022-02-09T18:48:04.899Z"
   },
   {
    "duration": 25,
    "start_time": "2022-02-09T18:48:04.919Z"
   },
   {
    "duration": 6,
    "start_time": "2022-02-09T18:48:04.946Z"
   },
   {
    "duration": 10,
    "start_time": "2022-02-09T18:48:04.953Z"
   },
   {
    "duration": 35,
    "start_time": "2022-02-09T18:48:04.965Z"
   },
   {
    "duration": 4,
    "start_time": "2022-02-09T18:48:05.004Z"
   },
   {
    "duration": 16,
    "start_time": "2022-02-09T18:48:05.010Z"
   },
   {
    "duration": 14,
    "start_time": "2022-02-09T18:48:05.028Z"
   },
   {
    "duration": 70,
    "start_time": "2022-02-09T18:48:05.044Z"
   },
   {
    "duration": 2507,
    "start_time": "2022-02-09T18:48:05.116Z"
   },
   {
    "duration": 16,
    "start_time": "2022-02-09T18:48:07.625Z"
   },
   {
    "duration": 13,
    "start_time": "2022-02-09T18:48:07.643Z"
   },
   {
    "duration": 144,
    "start_time": "2022-02-09T18:48:07.658Z"
   },
   {
    "duration": 17,
    "start_time": "2022-02-09T18:48:07.805Z"
   },
   {
    "duration": 55,
    "start_time": "2022-02-09T18:55:16.963Z"
   },
   {
    "duration": 58,
    "start_time": "2022-02-09T18:55:22.254Z"
   },
   {
    "duration": 2286,
    "start_time": "2022-02-09T18:57:58.315Z"
   },
   {
    "duration": 17,
    "start_time": "2022-02-09T18:59:07.022Z"
   },
   {
    "duration": 15,
    "start_time": "2022-02-09T19:00:38.678Z"
   },
   {
    "duration": 13,
    "start_time": "2022-02-09T19:02:41.939Z"
   },
   {
    "duration": 117,
    "start_time": "2022-02-09T19:02:45.226Z"
   },
   {
    "duration": 15,
    "start_time": "2022-02-09T19:02:57.939Z"
   },
   {
    "duration": 4,
    "start_time": "2022-02-09T19:24:09.654Z"
   },
   {
    "duration": 4,
    "start_time": "2022-02-09T19:24:20.683Z"
   },
   {
    "duration": 416,
    "start_time": "2022-02-09T19:30:22.962Z"
   },
   {
    "duration": 2219,
    "start_time": "2022-02-09T19:30:33.611Z"
   },
   {
    "duration": 1814,
    "start_time": "2022-02-09T19:30:43.474Z"
   },
   {
    "duration": 9645,
    "start_time": "2022-02-09T19:31:33.994Z"
   },
   {
    "duration": 1920,
    "start_time": "2022-02-09T19:32:05.683Z"
   },
   {
    "duration": 2764,
    "start_time": "2022-02-09T19:32:13.548Z"
   },
   {
    "duration": 2235,
    "start_time": "2022-02-09T19:32:26.676Z"
   },
   {
    "duration": 4882,
    "start_time": "2022-02-09T19:32:38.878Z"
   },
   {
    "duration": 2212,
    "start_time": "2022-02-09T19:32:48.675Z"
   },
   {
    "duration": 54,
    "start_time": "2022-02-09T19:47:16.908Z"
   },
   {
    "duration": 53,
    "start_time": "2022-02-09T19:47:22.801Z"
   },
   {
    "duration": 53,
    "start_time": "2022-02-09T19:47:26.343Z"
   },
   {
    "duration": 51,
    "start_time": "2022-02-09T19:48:19.849Z"
   },
   {
    "duration": 1176,
    "start_time": "2022-02-09T19:48:42.101Z"
   },
   {
    "duration": 20,
    "start_time": "2022-02-09T19:48:43.279Z"
   },
   {
    "duration": 7,
    "start_time": "2022-02-09T19:48:43.301Z"
   },
   {
    "duration": 18,
    "start_time": "2022-02-09T19:48:43.310Z"
   },
   {
    "duration": 27,
    "start_time": "2022-02-09T19:48:43.330Z"
   },
   {
    "duration": 5,
    "start_time": "2022-02-09T19:48:43.359Z"
   },
   {
    "duration": 33,
    "start_time": "2022-02-09T19:48:43.366Z"
   },
   {
    "duration": 5,
    "start_time": "2022-02-09T19:48:43.401Z"
   },
   {
    "duration": 8,
    "start_time": "2022-02-09T19:48:43.409Z"
   },
   {
    "duration": 9,
    "start_time": "2022-02-09T19:48:43.418Z"
   },
   {
    "duration": 9,
    "start_time": "2022-02-09T19:48:43.429Z"
   },
   {
    "duration": 64,
    "start_time": "2022-02-09T19:48:43.440Z"
   },
   {
    "duration": 2447,
    "start_time": "2022-02-09T19:48:43.506Z"
   },
   {
    "duration": 13,
    "start_time": "2022-02-09T19:48:45.956Z"
   },
   {
    "duration": 36,
    "start_time": "2022-02-09T19:48:45.971Z"
   },
   {
    "duration": 125,
    "start_time": "2022-02-09T19:48:46.009Z"
   },
   {
    "duration": 14,
    "start_time": "2022-02-09T19:48:46.136Z"
   },
   {
    "duration": 367,
    "start_time": "2022-02-09T19:49:05.089Z"
   },
   {
    "duration": 54,
    "start_time": "2022-02-09T19:49:09.589Z"
   },
   {
    "duration": 54,
    "start_time": "2022-02-09T19:49:14.459Z"
   },
   {
    "duration": 60,
    "start_time": "2022-02-09T19:49:19.144Z"
   },
   {
    "duration": 8,
    "start_time": "2022-02-09T20:02:21.185Z"
   },
   {
    "duration": 7,
    "start_time": "2022-02-09T20:03:59.528Z"
   },
   {
    "duration": 440,
    "start_time": "2022-02-09T20:11:38.859Z"
   },
   {
    "duration": 232,
    "start_time": "2022-02-09T20:11:53.128Z"
   },
   {
    "duration": 5,
    "start_time": "2022-02-09T20:16:10.982Z"
   },
   {
    "duration": 265,
    "start_time": "2022-02-09T20:17:11.048Z"
   },
   {
    "duration": 1153,
    "start_time": "2022-02-09T20:17:57.310Z"
   },
   {
    "duration": 22,
    "start_time": "2022-02-09T20:17:58.465Z"
   },
   {
    "duration": 10,
    "start_time": "2022-02-09T20:17:58.489Z"
   },
   {
    "duration": 18,
    "start_time": "2022-02-09T20:17:58.502Z"
   },
   {
    "duration": 26,
    "start_time": "2022-02-09T20:17:58.522Z"
   },
   {
    "duration": 5,
    "start_time": "2022-02-09T20:17:58.550Z"
   },
   {
    "duration": 6,
    "start_time": "2022-02-09T20:17:58.557Z"
   },
   {
    "duration": 35,
    "start_time": "2022-02-09T20:17:58.565Z"
   },
   {
    "duration": 4,
    "start_time": "2022-02-09T20:17:58.603Z"
   },
   {
    "duration": 7,
    "start_time": "2022-02-09T20:17:58.609Z"
   },
   {
    "duration": 9,
    "start_time": "2022-02-09T20:17:58.618Z"
   },
   {
    "duration": 72,
    "start_time": "2022-02-09T20:17:58.629Z"
   },
   {
    "duration": 2447,
    "start_time": "2022-02-09T20:17:58.703Z"
   },
   {
    "duration": 16,
    "start_time": "2022-02-09T20:18:01.152Z"
   },
   {
    "duration": 22,
    "start_time": "2022-02-09T20:18:01.169Z"
   },
   {
    "duration": 127,
    "start_time": "2022-02-09T20:18:01.199Z"
   },
   {
    "duration": 15,
    "start_time": "2022-02-09T20:18:01.327Z"
   },
   {
    "duration": 259,
    "start_time": "2022-02-09T20:18:01.344Z"
   },
   {
    "duration": 5,
    "start_time": "2022-02-09T20:18:01.605Z"
   },
   {
    "duration": 21,
    "start_time": "2022-02-09T20:18:01.612Z"
   },
   {
    "duration": 9,
    "start_time": "2022-02-09T20:32:19.801Z"
   },
   {
    "duration": 14,
    "start_time": "2022-02-09T20:32:24.210Z"
   },
   {
    "duration": 9,
    "start_time": "2022-02-09T20:32:28.979Z"
   },
   {
    "duration": 95,
    "start_time": "2022-02-09T20:33:04.630Z"
   },
   {
    "duration": 86,
    "start_time": "2022-02-09T20:34:30.242Z"
   },
   {
    "duration": 2111,
    "start_time": "2022-02-09T20:34:45.973Z"
   },
   {
    "duration": 89,
    "start_time": "2022-02-09T20:34:53.290Z"
   },
   {
    "duration": 122,
    "start_time": "2022-02-09T20:35:36.678Z"
   },
   {
    "duration": 129,
    "start_time": "2022-02-09T20:36:02.501Z"
   },
   {
    "duration": 6,
    "start_time": "2022-02-09T20:42:22.122Z"
   },
   {
    "duration": 5,
    "start_time": "2022-02-09T20:48:29.747Z"
   },
   {
    "duration": 166,
    "start_time": "2022-02-09T20:49:00.555Z"
   },
   {
    "duration": 112,
    "start_time": "2022-02-09T20:49:47.957Z"
   },
   {
    "duration": 2130,
    "start_time": "2022-02-09T20:50:10.838Z"
   },
   {
    "duration": 129,
    "start_time": "2022-02-09T20:50:26.027Z"
   },
   {
    "duration": 119,
    "start_time": "2022-02-09T20:50:30.733Z"
   },
   {
    "duration": 1104,
    "start_time": "2022-02-09T20:50:46.853Z"
   },
   {
    "duration": 21,
    "start_time": "2022-02-09T20:50:47.959Z"
   },
   {
    "duration": 7,
    "start_time": "2022-02-09T20:50:47.982Z"
   },
   {
    "duration": 23,
    "start_time": "2022-02-09T20:50:47.991Z"
   },
   {
    "duration": 31,
    "start_time": "2022-02-09T20:50:48.016Z"
   },
   {
    "duration": 5,
    "start_time": "2022-02-09T20:50:48.049Z"
   },
   {
    "duration": 7,
    "start_time": "2022-02-09T20:50:48.056Z"
   },
   {
    "duration": 7,
    "start_time": "2022-02-09T20:50:48.065Z"
   },
   {
    "duration": 26,
    "start_time": "2022-02-09T20:50:48.075Z"
   },
   {
    "duration": 12,
    "start_time": "2022-02-09T20:50:48.103Z"
   },
   {
    "duration": 11,
    "start_time": "2022-02-09T20:50:48.117Z"
   },
   {
    "duration": 56,
    "start_time": "2022-02-09T20:50:48.130Z"
   },
   {
    "duration": 2442,
    "start_time": "2022-02-09T20:50:48.198Z"
   },
   {
    "duration": 14,
    "start_time": "2022-02-09T20:50:50.642Z"
   },
   {
    "duration": 16,
    "start_time": "2022-02-09T20:50:50.658Z"
   },
   {
    "duration": 135,
    "start_time": "2022-02-09T20:50:50.676Z"
   },
   {
    "duration": 14,
    "start_time": "2022-02-09T20:50:50.812Z"
   },
   {
    "duration": 129,
    "start_time": "2022-02-09T20:50:50.828Z"
   },
   {
    "duration": 4,
    "start_time": "2022-02-09T20:50:50.959Z"
   },
   {
    "duration": 8,
    "start_time": "2022-02-09T20:50:50.965Z"
   },
   {
    "duration": 25,
    "start_time": "2022-02-09T20:50:50.975Z"
   },
   {
    "duration": 134,
    "start_time": "2022-02-09T20:51:01.137Z"
   },
   {
    "duration": 1175,
    "start_time": "2022-02-09T21:07:11.094Z"
   },
   {
    "duration": 20,
    "start_time": "2022-02-09T21:07:12.271Z"
   },
   {
    "duration": 6,
    "start_time": "2022-02-09T21:07:12.294Z"
   },
   {
    "duration": 20,
    "start_time": "2022-02-09T21:07:12.302Z"
   },
   {
    "duration": 24,
    "start_time": "2022-02-09T21:07:12.324Z"
   },
   {
    "duration": 5,
    "start_time": "2022-02-09T21:07:12.350Z"
   },
   {
    "duration": 6,
    "start_time": "2022-02-09T21:07:12.357Z"
   },
   {
    "duration": 8,
    "start_time": "2022-02-09T21:07:12.364Z"
   },
   {
    "duration": 4,
    "start_time": "2022-02-09T21:07:12.400Z"
   },
   {
    "duration": 6,
    "start_time": "2022-02-09T21:07:12.406Z"
   },
   {
    "duration": 5,
    "start_time": "2022-02-09T21:07:12.414Z"
   },
   {
    "duration": 77,
    "start_time": "2022-02-09T21:07:12.422Z"
   },
   {
    "duration": 2240,
    "start_time": "2022-02-09T21:07:12.501Z"
   },
   {
    "duration": 15,
    "start_time": "2022-02-09T21:07:14.743Z"
   },
   {
    "duration": 9,
    "start_time": "2022-02-09T21:07:14.759Z"
   },
   {
    "duration": 143,
    "start_time": "2022-02-09T21:07:14.770Z"
   },
   {
    "duration": 15,
    "start_time": "2022-02-09T21:07:14.914Z"
   },
   {
    "duration": 155,
    "start_time": "2022-02-09T21:07:14.931Z"
   },
   {
    "duration": 12,
    "start_time": "2022-02-09T21:07:15.089Z"
   },
   {
    "duration": 7,
    "start_time": "2022-02-09T21:07:15.103Z"
   },
   {
    "duration": 1160,
    "start_time": "2022-02-09T21:11:07.698Z"
   },
   {
    "duration": 21,
    "start_time": "2022-02-09T21:11:08.860Z"
   },
   {
    "duration": 8,
    "start_time": "2022-02-09T21:11:08.883Z"
   },
   {
    "duration": 25,
    "start_time": "2022-02-09T21:11:08.894Z"
   },
   {
    "duration": 27,
    "start_time": "2022-02-09T21:11:08.921Z"
   },
   {
    "duration": 5,
    "start_time": "2022-02-09T21:11:08.950Z"
   },
   {
    "duration": 15,
    "start_time": "2022-02-09T21:11:08.957Z"
   },
   {
    "duration": 23,
    "start_time": "2022-02-09T21:11:08.975Z"
   },
   {
    "duration": 4,
    "start_time": "2022-02-09T21:11:09.001Z"
   },
   {
    "duration": 6,
    "start_time": "2022-02-09T21:11:09.006Z"
   },
   {
    "duration": 6,
    "start_time": "2022-02-09T21:11:09.014Z"
   },
   {
    "duration": 56,
    "start_time": "2022-02-09T21:11:09.021Z"
   },
   {
    "duration": 2370,
    "start_time": "2022-02-09T21:11:09.099Z"
   },
   {
    "duration": 15,
    "start_time": "2022-02-09T21:11:11.471Z"
   },
   {
    "duration": 10,
    "start_time": "2022-02-09T21:11:11.498Z"
   },
   {
    "duration": 134,
    "start_time": "2022-02-09T21:11:11.509Z"
   },
   {
    "duration": 14,
    "start_time": "2022-02-09T21:11:11.645Z"
   },
   {
    "duration": 153,
    "start_time": "2022-02-09T21:11:11.660Z"
   },
   {
    "duration": 5,
    "start_time": "2022-02-09T21:11:11.815Z"
   },
   {
    "duration": 19,
    "start_time": "2022-02-09T21:11:11.821Z"
   }
  ],
  "kernelspec": {
   "display_name": "Python 3 (ipykernel)",
   "language": "python",
   "name": "python3"
  },
  "language_info": {
   "codemirror_mode": {
    "name": "ipython",
    "version": 3
   },
   "file_extension": ".py",
   "mimetype": "text/x-python",
   "name": "python",
   "nbconvert_exporter": "python",
   "pygments_lexer": "ipython3",
   "version": "3.9.7"
  },
  "toc": {
   "base_numbering": 1,
   "nav_menu": {},
   "number_sections": true,
   "sideBar": true,
   "skip_h1_title": true,
   "title_cell": "Table of Contents",
   "title_sidebar": "Contents",
   "toc_cell": false,
   "toc_position": {},
   "toc_section_display": true,
   "toc_window_display": false
  }
 },
 "nbformat": 4,
 "nbformat_minor": 2
}
