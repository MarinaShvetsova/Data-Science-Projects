{
 "cells": [
  {
   "cell_type": "markdown",
   "metadata": {
    "toc": true
   },
   "source": [
    "<h1>Содержание<span class=\"tocSkip\"></span></h1>\n",
    "<div class=\"toc\"><ul class=\"toc-item\"><li><span><a href=\"#Подготовка\" data-toc-modified-id=\"Подготовка-1\"><span class=\"toc-item-num\">1&nbsp;&nbsp;</span>Подготовка</a></span></li><li><span><a href=\"#Обучение\" data-toc-modified-id=\"Обучение-2\"><span class=\"toc-item-num\">2&nbsp;&nbsp;</span>Обучение</a></span><ul class=\"toc-item\"><li><span><a href=\"#LogisticRegression\" data-toc-modified-id=\"LogisticRegression-2.1\"><span class=\"toc-item-num\">2.1&nbsp;&nbsp;</span>LogisticRegression</a></span></li><li><span><a href=\"#DecisionTreeClassifier\" data-toc-modified-id=\"DecisionTreeClassifier-2.2\"><span class=\"toc-item-num\">2.2&nbsp;&nbsp;</span>DecisionTreeClassifier</a></span></li><li><span><a href=\"#RandomForestClassifier\" data-toc-modified-id=\"RandomForestClassifier-2.3\"><span class=\"toc-item-num\">2.3&nbsp;&nbsp;</span>RandomForestClassifier</a></span></li><li><span><a href=\"#Матрица-ошибок\" data-toc-modified-id=\"Матрица-ошибок-2.4\"><span class=\"toc-item-num\">2.4&nbsp;&nbsp;</span>Матрица ошибок</a></span></li></ul></li><li><span><a href=\"#Выводы\" data-toc-modified-id=\"Выводы-3\"><span class=\"toc-item-num\">3&nbsp;&nbsp;</span>Выводы</a></span></li><li><span><a href=\"#Чек-лист-проверки\" data-toc-modified-id=\"Чек-лист-проверки-4\"><span class=\"toc-item-num\">4&nbsp;&nbsp;</span>Чек-лист проверки</a></span></li></ul></div>"
   ]
  },
  {
   "cell_type": "markdown",
   "metadata": {},
   "source": [
    "# Определение токсичности комментариев"
   ]
  },
  {
   "cell_type": "markdown",
   "metadata": {},
   "source": [
    "**Инструкция по выполнению проекта:**\n",
    "\n",
    "1. Загрузить и подготовить данные\n",
    "2. Обучить разные модели\n",
    "3. Сделайть выводы"
   ]
  },
  {
   "cell_type": "markdown",
   "metadata": {},
   "source": [
    "## Подготовка"
   ]
  },
  {
   "cell_type": "markdown",
   "metadata": {},
   "source": [
    "Загрузим библиотеки и инструменты для проекта"
   ]
  },
  {
   "cell_type": "code",
   "execution_count": 1,
   "metadata": {},
   "outputs": [],
   "source": [
    "import pandas as pd\n",
    "import numpy as np\n",
    "\n",
    "import matplotlib.pyplot as plt\n",
    "import seaborn as sns\n",
    "\n",
    "import torch\n",
    "import transformers\n",
    "\n",
    "import re\n",
    "import nltk\n",
    "from nltk.stem import WordNetLemmatizer\n",
    "from nltk.corpus import stopwords as nltk_stopwords\n",
    "from sklearn.feature_extraction.text import TfidfVectorizer, CountVectorizer\n",
    "\n",
    "from sklearn.tree import DecisionTreeClassifier\n",
    "from sklearn.linear_model import LogisticRegression\n",
    "from sklearn.ensemble import RandomForestClassifier\n",
    "\n",
    "from sklearn.metrics import f1_score, confusion_matrix\n",
    "from sklearn.model_selection import train_test_split, cross_val_score"
   ]
  },
  {
   "cell_type": "markdown",
   "metadata": {},
   "source": [
    "Загрузим данные и рассмотрим их"
   ]
  },
  {
   "cell_type": "code",
   "execution_count": 2,
   "metadata": {},
   "outputs": [],
   "source": [
    "data = pd.read_csv('/datasets/toxic_comments.csv')"
   ]
  },
  {
   "cell_type": "code",
   "execution_count": 3,
   "metadata": {},
   "outputs": [
    {
     "name": "stdout",
     "output_type": "stream",
     "text": [
      "<class 'pandas.core.frame.DataFrame'>\n",
      "RangeIndex: 159571 entries, 0 to 159570\n",
      "Data columns (total 2 columns):\n",
      " #   Column  Non-Null Count   Dtype \n",
      "---  ------  --------------   ----- \n",
      " 0   text    159571 non-null  object\n",
      " 1   toxic   159571 non-null  int64 \n",
      "dtypes: int64(1), object(1)\n",
      "memory usage: 2.4+ MB\n"
     ]
    }
   ],
   "source": [
    "data.info()"
   ]
  },
  {
   "cell_type": "code",
   "execution_count": 4,
   "metadata": {
    "scrolled": false
   },
   "outputs": [
    {
     "data": {
      "text/html": [
       "<div>\n",
       "<style scoped>\n",
       "    .dataframe tbody tr th:only-of-type {\n",
       "        vertical-align: middle;\n",
       "    }\n",
       "\n",
       "    .dataframe tbody tr th {\n",
       "        vertical-align: top;\n",
       "    }\n",
       "\n",
       "    .dataframe thead th {\n",
       "        text-align: right;\n",
       "    }\n",
       "</style>\n",
       "<table border=\"1\" class=\"dataframe\">\n",
       "  <thead>\n",
       "    <tr style=\"text-align: right;\">\n",
       "      <th></th>\n",
       "      <th>text</th>\n",
       "      <th>toxic</th>\n",
       "    </tr>\n",
       "  </thead>\n",
       "  <tbody>\n",
       "    <tr>\n",
       "      <th>0</th>\n",
       "      <td>Explanation\\nWhy the edits made under my usern...</td>\n",
       "      <td>0</td>\n",
       "    </tr>\n",
       "    <tr>\n",
       "      <th>1</th>\n",
       "      <td>D'aww! He matches this background colour I'm s...</td>\n",
       "      <td>0</td>\n",
       "    </tr>\n",
       "    <tr>\n",
       "      <th>2</th>\n",
       "      <td>Hey man, I'm really not trying to edit war. It...</td>\n",
       "      <td>0</td>\n",
       "    </tr>\n",
       "    <tr>\n",
       "      <th>3</th>\n",
       "      <td>\"\\nMore\\nI can't make any real suggestions on ...</td>\n",
       "      <td>0</td>\n",
       "    </tr>\n",
       "    <tr>\n",
       "      <th>4</th>\n",
       "      <td>You, sir, are my hero. Any chance you remember...</td>\n",
       "      <td>0</td>\n",
       "    </tr>\n",
       "    <tr>\n",
       "      <th>5</th>\n",
       "      <td>\"\\n\\nCongratulations from me as well, use the ...</td>\n",
       "      <td>0</td>\n",
       "    </tr>\n",
       "    <tr>\n",
       "      <th>6</th>\n",
       "      <td>COCKSUCKER BEFORE YOU PISS AROUND ON MY WORK</td>\n",
       "      <td>1</td>\n",
       "    </tr>\n",
       "    <tr>\n",
       "      <th>7</th>\n",
       "      <td>Your vandalism to the Matt Shirvington article...</td>\n",
       "      <td>0</td>\n",
       "    </tr>\n",
       "    <tr>\n",
       "      <th>8</th>\n",
       "      <td>Sorry if the word 'nonsense' was offensive to ...</td>\n",
       "      <td>0</td>\n",
       "    </tr>\n",
       "    <tr>\n",
       "      <th>9</th>\n",
       "      <td>alignment on this subject and which are contra...</td>\n",
       "      <td>0</td>\n",
       "    </tr>\n",
       "  </tbody>\n",
       "</table>\n",
       "</div>"
      ],
      "text/plain": [
       "                                                text  toxic\n",
       "0  Explanation\\nWhy the edits made under my usern...      0\n",
       "1  D'aww! He matches this background colour I'm s...      0\n",
       "2  Hey man, I'm really not trying to edit war. It...      0\n",
       "3  \"\\nMore\\nI can't make any real suggestions on ...      0\n",
       "4  You, sir, are my hero. Any chance you remember...      0\n",
       "5  \"\\n\\nCongratulations from me as well, use the ...      0\n",
       "6       COCKSUCKER BEFORE YOU PISS AROUND ON MY WORK      1\n",
       "7  Your vandalism to the Matt Shirvington article...      0\n",
       "8  Sorry if the word 'nonsense' was offensive to ...      0\n",
       "9  alignment on this subject and which are contra...      0"
      ]
     },
     "execution_count": 4,
     "metadata": {},
     "output_type": "execute_result"
    }
   ],
   "source": [
    "data.head(10)"
   ]
  },
  {
   "cell_type": "markdown",
   "metadata": {},
   "source": [
    "в комментариях присутствуют спец.символы, разный регистр написания"
   ]
  },
  {
   "cell_type": "code",
   "execution_count": 5,
   "metadata": {},
   "outputs": [
    {
     "data": {
      "text/plain": [
       "(159571, 2)"
      ]
     },
     "execution_count": 5,
     "metadata": {},
     "output_type": "execute_result"
    }
   ],
   "source": [
    "data.shape"
   ]
  },
  {
   "cell_type": "code",
   "execution_count": 6,
   "metadata": {},
   "outputs": [
    {
     "data": {
      "text/plain": [
       "0    143346\n",
       "1     16225\n",
       "Name: toxic, dtype: int64"
      ]
     },
     "execution_count": 6,
     "metadata": {},
     "output_type": "execute_result"
    }
   ],
   "source": [
    "# посмотрим на кол-во комментариев\n",
    "data['toxic'].value_counts()"
   ]
  },
  {
   "cell_type": "code",
   "execution_count": 7,
   "metadata": {
    "scrolled": true
   },
   "outputs": [
    {
     "data": {
      "image/png": "[encoded data removed]",
      "text/plain": [
       "<Figure size 360x360 with 1 Axes>"
      ]
     },
     "metadata": {},
     "output_type": "display_data"
    }
   ],
   "source": [
    "# построим график с долевым распределением комментариев\n",
    "data['toxic'].value_counts().plot(kind='pie', autopct='%1.0f%%', shadow=True, figsize=(5,5))\n",
    "plt.legend(['text','toxic'])\n",
    "plt.title('Доли комментариев в данных')\n",
    "plt.tight_layout()\n"
   ]
  },
  {
   "cell_type": "markdown",
   "metadata": {},
   "source": [
    "Данные содержат:\n",
    "- 2 столбца и 159571 записей\n",
    "- 10% - токсичные комментарии"
   ]
  },
  {
   "cell_type": "markdown",
   "metadata": {},
   "source": [
    "Очистим данные с помощью функций от спец.символов и цифр, удалим стоп-слова и лемматизируем данные для дальнейшей работы"
   ]
  },
  {
   "cell_type": "code",
   "execution_count": 8,
   "metadata": {},
   "outputs": [],
   "source": [
    "# функция удаления спец.символов и цифр из данных\n",
    "def clear_text(text):\n",
    "    text = re.sub(r'[^a-zA-Z ]', ' ', text)\n",
    "    return \" \".join(text.lower().split())"
   ]
  },
  {
   "cell_type": "code",
   "execution_count": 9,
   "metadata": {},
   "outputs": [
    {
     "name": "stderr",
     "output_type": "stream",
     "text": [
      "[nltk_data] Downloading package stopwords to /home/jovyan/nltk_data...\n",
      "[nltk_data]   Package stopwords is already up-to-date!\n"
     ]
    }
   ],
   "source": [
    "# функция удаления стоп-слов\n",
    "nltk.download('stopwords')\n",
    "stopwords = set(nltk_stopwords.words('english'))\n",
    "\n",
    "def remove_stopwords(text):\n",
    "    clean_text = [w for w in text.lower().split() if not w in stopwords]  \n",
    "    return clean_text"
   ]
  },
  {
   "cell_type": "code",
   "execution_count": 10,
   "metadata": {},
   "outputs": [],
   "source": [
    "# лемматизируем текст\n",
    "lemmatizer = nltk.WordNetLemmatizer()\n",
    "\n",
    "def lemmatize(text):\n",
    "    clean_text = [lemmatizer.lemmatize(word) for word in text]\n",
    "    return clean_text"
   ]
  },
  {
   "cell_type": "code",
   "execution_count": 11,
   "metadata": {
    "scrolled": true
   },
   "outputs": [
    {
     "data": {
      "text/html": [
       "<div>\n",
       "<style scoped>\n",
       "    .dataframe tbody tr th:only-of-type {\n",
       "        vertical-align: middle;\n",
       "    }\n",
       "\n",
       "    .dataframe tbody tr th {\n",
       "        vertical-align: top;\n",
       "    }\n",
       "\n",
       "    .dataframe thead th {\n",
       "        text-align: right;\n",
       "    }\n",
       "</style>\n",
       "<table border=\"1\" class=\"dataframe\">\n",
       "  <thead>\n",
       "    <tr style=\"text-align: right;\">\n",
       "      <th></th>\n",
       "      <th>text</th>\n",
       "      <th>toxic</th>\n",
       "      <th>clear_text</th>\n",
       "      <th>without_stopwords</th>\n",
       "      <th>lemma</th>\n",
       "    </tr>\n",
       "  </thead>\n",
       "  <tbody>\n",
       "    <tr>\n",
       "      <th>0</th>\n",
       "      <td>Explanation\\nWhy the edits made under my usern...</td>\n",
       "      <td>0</td>\n",
       "      <td>explanation why the edits made under my userna...</td>\n",
       "      <td>[explanation, edits, made, username, hardcore,...</td>\n",
       "      <td>[explanation, edits, made, username, hardcore,...</td>\n",
       "    </tr>\n",
       "    <tr>\n",
       "      <th>1</th>\n",
       "      <td>D'aww! He matches this background colour I'm s...</td>\n",
       "      <td>0</td>\n",
       "      <td>d aww he matches this background colour i m se...</td>\n",
       "      <td>[aww, matches, background, colour, seemingly, ...</td>\n",
       "      <td>[aww, match, background, colour, seemingly, st...</td>\n",
       "    </tr>\n",
       "    <tr>\n",
       "      <th>2</th>\n",
       "      <td>Hey man, I'm really not trying to edit war. It...</td>\n",
       "      <td>0</td>\n",
       "      <td>hey man i m really not trying to edit war it s...</td>\n",
       "      <td>[hey, man, really, trying, edit, war, guy, con...</td>\n",
       "      <td>[hey, man, really, trying, edit, war, guy, con...</td>\n",
       "    </tr>\n",
       "  </tbody>\n",
       "</table>\n",
       "</div>"
      ],
      "text/plain": [
       "                                                text  toxic  \\\n",
       "0  Explanation\\nWhy the edits made under my usern...      0   \n",
       "1  D'aww! He matches this background colour I'm s...      0   \n",
       "2  Hey man, I'm really not trying to edit war. It...      0   \n",
       "\n",
       "                                          clear_text  \\\n",
       "0  explanation why the edits made under my userna...   \n",
       "1  d aww he matches this background colour i m se...   \n",
       "2  hey man i m really not trying to edit war it s...   \n",
       "\n",
       "                                   without_stopwords  \\\n",
       "0  [explanation, edits, made, username, hardcore,...   \n",
       "1  [aww, matches, background, colour, seemingly, ...   \n",
       "2  [hey, man, really, trying, edit, war, guy, con...   \n",
       "\n",
       "                                               lemma  \n",
       "0  [explanation, edits, made, username, hardcore,...  \n",
       "1  [aww, match, background, colour, seemingly, st...  \n",
       "2  [hey, man, really, trying, edit, war, guy, con...  "
      ]
     },
     "execution_count": 11,
     "metadata": {},
     "output_type": "execute_result"
    }
   ],
   "source": [
    "# добавим новые столбцы в таблицу\n",
    "data['clear_text'] = data['text'].apply(lambda x: clear_text(x))\n",
    "data['without_stopwords'] = data['clear_text'].apply(lambda x: remove_stopwords(x))\n",
    "data['lemma'] = data['without_stopwords'].apply(lambda x: lemmatize(x))\n",
    "data.head(3)"
   ]
  },
  {
   "cell_type": "markdown",
   "metadata": {},
   "source": [
    "Подготовим данные для обучения моделей"
   ]
  },
  {
   "cell_type": "code",
   "execution_count": 12,
   "metadata": {},
   "outputs": [
    {
     "name": "stdout",
     "output_type": "stream",
     "text": [
      "Целевой признак: (159571,)\n",
      "Признаки: (159571, 4)\n"
     ]
    }
   ],
   "source": [
    "# выделим признаки и посмотрим их размер\n",
    "target = data['toxic']\n",
    "features = data.drop('toxic', axis = 1)\n",
    "\n",
    "print('Целевой признак:', target.shape)\n",
    "print('Признаки:', features.shape)\n"
   ]
  },
  {
   "cell_type": "code",
   "execution_count": 13,
   "metadata": {},
   "outputs": [],
   "source": [
    "# разделим данные на обучающую (75%) и тестовую выборки (25%)\n",
    "features_train, features_test, target_train, target_test = train_test_split(features, \n",
    "                                                                            target,\n",
    "                                                                            test_size=0.25, \n",
    "                                                                            random_state=12345)"
   ]
  },
  {
   "cell_type": "code",
   "execution_count": 14,
   "metadata": {},
   "outputs": [
    {
     "name": "stdout",
     "output_type": "stream",
     "text": [
      "Размер обучающей выборки: (119678, 4)\n",
      "Размер тестовой выборки: (39893, 4)\n"
     ]
    }
   ],
   "source": [
    "# посмотрим на размер полученных выборок\n",
    "samples = {'Размер обучающей выборки' : features_train, \n",
    "          'Размер тестовой выборки': features_test}\n",
    "\n",
    "for key, value in samples.items():\n",
    "    print(key + ':', value.shape)"
   ]
  },
  {
   "cell_type": "code",
   "execution_count": 15,
   "metadata": {
    "scrolled": true
   },
   "outputs": [
    {
     "data": {
      "text/plain": [
       "146790    ['ahh', 'shut', 'fuck', 'douchebag', 'sand', '...\n",
       "2941      ['reply', 'thing', 'texas', 'commerce', 'bank'...\n",
       "115087    ['reply', 'hey', 'could', 'least', 'mention', ...\n",
       "Name: without_stopwords, dtype: object"
      ]
     },
     "execution_count": 15,
     "metadata": {},
     "output_type": "execute_result"
    }
   ],
   "source": [
    "# преобразуем данные к типу U\n",
    "corpus_train = features_train['without_stopwords'].astype('U')\n",
    "corpus_test = features_test['without_stopwords'].astype('U')\n",
    "corpus_test[:3]"
   ]
  },
  {
   "cell_type": "markdown",
   "metadata": {},
   "source": [
    "Вычислим **TF-IDF** для корпуса текстов"
   ]
  },
  {
   "cell_type": "code",
   "execution_count": 16,
   "metadata": {},
   "outputs": [],
   "source": [
    "count_tf_idf = TfidfVectorizer(stop_words=stopwords)\n",
    "tf_idf = count_tf_idf.fit(corpus_train)"
   ]
  },
  {
   "cell_type": "code",
   "execution_count": 17,
   "metadata": {},
   "outputs": [],
   "source": [
    "features_train = tf_idf.transform(corpus_train)\n",
    "features_test = tf_idf.transform(corpus_test)"
   ]
  },
  {
   "cell_type": "markdown",
   "metadata": {},
   "source": [
    "**Вывод:**\n",
    "- данные загружены и рассмотрены\n",
    "- комментарии очищены от спец.символов, стоп-слов и лемматизированы для дальнейшего обучения моделей\n",
    "- подготовлены признаки и выделены выборки в данных в отношении 75% (обучающая) и 25% (тестовая)\n",
    "\n",
    "Данные подготовлены для обучения моделей."
   ]
  },
  {
   "cell_type": "markdown",
   "metadata": {},
   "source": [
    "## Обучение"
   ]
  },
  {
   "cell_type": "markdown",
   "metadata": {},
   "source": [
    "### LogisticRegression"
   ]
  },
  {
   "cell_type": "code",
   "execution_count": 18,
   "metadata": {},
   "outputs": [
    {
     "name": "stdout",
     "output_type": "stream",
     "text": [
      "F1 LogisticRegression: 0.76\n",
      "CPU times: user 7.2 s, sys: 6.17 s, total: 13.4 s\n",
      "Wall time: 13.4 s\n"
     ]
    }
   ],
   "source": [
    "%%time\n",
    "model = LogisticRegression(random_state=12345, solver = 'liblinear', class_weight='balanced') \n",
    "model.fit(features_train, target_train)\n",
    "predictions_lr = model.predict(features_test)\n",
    "\n",
    "f1_lr = f1_score(target_test, predictions_lr)\n",
    "print('F1 LogisticRegression:', f1_lr.round(2))"
   ]
  },
  {
   "cell_type": "markdown",
   "metadata": {},
   "source": [
    "### DecisionTreeClassifier"
   ]
  },
  {
   "cell_type": "markdown",
   "metadata": {},
   "source": [
    "Подберем параметры модели"
   ]
  },
  {
   "cell_type": "code",
   "execution_count": 19,
   "metadata": {
    "scrolled": true
   },
   "outputs": [
    {
     "name": "stdout",
     "output_type": "stream",
     "text": [
      "F1 при depth = 10 : [0.54428086 0.54232684]\n",
      "F1 при depth = 20 : [0.59885057 0.59330498]\n",
      "F1 при depth = 30 : [0.61575606 0.60587622]\n",
      "F1 при depth = 40 : [0.62239057 0.6072673 ]\n",
      "F1 при depth = 50 : [0.61378038 0.59864678]\n",
      "CPU times: user 2min 39s, sys: 0 ns, total: 2min 39s\n",
      "Wall time: 2min 40s\n"
     ]
    }
   ],
   "source": [
    "%%time\n",
    "for depth in range(10, 51, 10):\n",
    "    model_dtc = DecisionTreeClassifier(random_state=12345, max_depth=depth, class_weight = 'balanced')\n",
    "    f1 = cross_val_score(model_dtc, features_train, target_train, cv=2, scoring='f1')\n",
    "    print(\"F1 при depth =\", depth, \":\", f1)\n"
   ]
  },
  {
   "cell_type": "markdown",
   "metadata": {},
   "source": [
    "Применим наилучший параметр глубины для предсказания модели"
   ]
  },
  {
   "cell_type": "code",
   "execution_count": 20,
   "metadata": {},
   "outputs": [
    {
     "name": "stdout",
     "output_type": "stream",
     "text": [
      "F1 DecisionTreeClassifier:  0.59\n",
      "CPU times: user 39.5 s, sys: 0 ns, total: 39.5 s\n",
      "Wall time: 39.7 s\n"
     ]
    }
   ],
   "source": [
    "%%time\n",
    "model_dtc = DecisionTreeClassifier(random_state=12345, max_depth=40, class_weight = 'balanced')\n",
    "model_dtc.fit(features_train, target_train)\n",
    "predictions_dtc = model_dtc.predict(features_test)\n",
    "f1_dtc = f1_score(target_test, predictions_dtc)\n",
    "print(\"F1 DecisionTreeClassifier: \", f1_dtc.round(2))"
   ]
  },
  {
   "cell_type": "markdown",
   "metadata": {},
   "source": [
    "### RandomForestClassifier"
   ]
  },
  {
   "cell_type": "markdown",
   "metadata": {},
   "source": [
    "Подберем параметры модели"
   ]
  },
  {
   "cell_type": "code",
   "execution_count": 21,
   "metadata": {},
   "outputs": [
    {
     "name": "stdout",
     "output_type": "stream",
     "text": [
      "F1 при depth = 10 : при estimator = 30 : [0.31565239 0.32866344]\n",
      "F1 при depth = 10 : при estimator = 60 : [0.33954035 0.34749906]\n",
      "F1 при depth = 20 : при estimator = 30 : [0.35236635 0.39240094]\n",
      "F1 при depth = 20 : при estimator = 60 : [0.37979613 0.40306914]\n",
      "F1 при depth = 30 : при estimator = 30 : [0.38524823 0.41502762]\n",
      "F1 при depth = 30 : при estimator = 60 : [0.41690068 0.42334218]\n",
      "F1 при depth = 40 : при estimator = 30 : [0.419716   0.44479738]\n",
      "F1 при depth = 40 : при estimator = 60 : [0.43794733 0.45306754]\n",
      "F1 при depth = 50 : при estimator = 30 : [0.44374724 0.45348837]\n",
      "F1 при depth = 50 : при estimator = 60 : [0.45777912 0.47079355]\n",
      "CPU times: user 5min 37s, sys: 285 ms, total: 5min 38s\n",
      "Wall time: 5min 40s\n"
     ]
    }
   ],
   "source": [
    "%%time\n",
    "for depth in range(10, 51, 10):\n",
    "    for estimator in range(30, 61, 30):\n",
    "        model_rfc = RandomForestClassifier(random_state=12345, max_depth=depth, class_weight = 'balanced', n_estimators=estimator)\n",
    "        f1 = cross_val_score(model_rfc, features_train, target_train, cv=2, scoring='f1')\n",
    "        print(\"F1 при depth =\", depth, \":\", \"при estimator =\", estimator, \":\", f1)\n"
   ]
  },
  {
   "cell_type": "markdown",
   "metadata": {},
   "source": [
    "Применим наилучший параметр глубины для предсказания модели"
   ]
  },
  {
   "cell_type": "code",
   "execution_count": 22,
   "metadata": {},
   "outputs": [
    {
     "name": "stdout",
     "output_type": "stream",
     "text": [
      "F1 RandomForestClassifier:  0.47\n",
      "CPU times: user 30.5 s, sys: 23.1 ms, total: 30.6 s\n",
      "Wall time: 30.7 s\n"
     ]
    }
   ],
   "source": [
    "%%time\n",
    "model_rfc = RandomForestClassifier(random_state=12345, max_depth=50, n_estimators=60, class_weight = 'balanced')\n",
    "model_rfc.fit(features_train, target_train)\n",
    "predictions_rfc = model_rfc.predict(features_test)\n",
    "f1_rfc = f1_score(target_test, predictions_rfc)\n",
    "print(\"F1 RandomForestClassifier: \", f1_rfc.round(2))\n"
   ]
  },
  {
   "cell_type": "markdown",
   "metadata": {},
   "source": [
    "### Матрица ошибок"
   ]
  },
  {
   "cell_type": "markdown",
   "metadata": {},
   "source": [
    "Построим матрицу ошибок по наилучшей модели (LogisticRegression), которая удовлетворяет условию задания (f1>0,75)"
   ]
  },
  {
   "cell_type": "code",
   "execution_count": 23,
   "metadata": {},
   "outputs": [
    {
     "data": {
      "image/png": "[encoded data removed]",
      "text/plain": [
       "<Figure size 720x576 with 2 Axes>"
      ]
     },
     "metadata": {
      "needs_background": "light"
     },
     "output_type": "display_data"
    }
   ],
   "source": [
    "plt.figure(figsize=(10,8))\n",
    "sns.heatmap(confusion_matrix(target_test, predictions_lr, normalize='true'),annot=True,fmt='.0%',cmap=\"winter\")\n",
    "plt.title('Матрица ошибок', y=1.05, size=15);\n"
   ]
  },
  {
   "cell_type": "markdown",
   "metadata": {},
   "source": [
    "## Выводы"
   ]
  },
  {
   "cell_type": "markdown",
   "metadata": {},
   "source": [
    "В ходе работы:\n",
    "- проанализировали данные (10% данных составляют токсичные комментарии)\n",
    "- подготовлили текст для обучения моделей (привели к нижнему регистру, очистили от символов и стоп-слов, лемматизировали)\n",
    "- выделили признаки и разделили данные на 2 выборки: обучающую (75%) и тестовую (25%)\n",
    "- обучили 3 модели: LogisticRegression, DecisionTreeClassifier и RandomForestClassifier\n",
    "- наилучшую метрику F1 показывает модель LogisticRegression = 0,76, что удовлетворяет условию задачи\n",
    "- матрица ошибок, построенная на моделе LogisticRegression, также соответствует условию по ошибкам\n",
    "\n",
    "Цель проекта достигнута, для дальнейшего использования рекомендуется модель LogisticRegression с F1 = 0,76 и максимальной скоростью работы."
   ]
  }
 ],
 "metadata": {
  "ExecuteTimeLog": [
   {
    "duration": 4993,
    "start_time": "2022-05-12T18:02:05.313Z"
   },
   {
    "duration": 3864,
    "start_time": "2022-05-12T18:02:42.684Z"
   },
   {
    "duration": 4640,
    "start_time": "2022-05-12T18:33:33.461Z"
   },
   {
    "duration": 4261,
    "start_time": "2022-05-12T18:33:38.103Z"
   },
   {
    "duration": 35,
    "start_time": "2022-05-12T18:33:42.367Z"
   },
   {
    "duration": 20,
    "start_time": "2022-05-12T18:33:42.408Z"
   },
   {
    "duration": 4,
    "start_time": "2022-05-12T18:34:20.982Z"
   },
   {
    "duration": 621,
    "start_time": "2022-05-12T18:34:56.874Z"
   },
   {
    "duration": 6,
    "start_time": "2022-05-12T18:35:08.485Z"
   },
   {
    "duration": 6,
    "start_time": "2022-05-12T18:40:30.325Z"
   },
   {
    "duration": 765,
    "start_time": "2022-05-12T18:44:30.448Z"
   },
   {
    "duration": 4,
    "start_time": "2022-05-12T18:45:18.345Z"
   },
   {
    "duration": 156,
    "start_time": "2022-05-12T18:45:22.693Z"
   },
   {
    "duration": 394,
    "start_time": "2022-05-12T18:45:34.005Z"
   },
   {
    "duration": 303,
    "start_time": "2022-05-12T18:45:41.958Z"
   },
   {
    "duration": 358,
    "start_time": "2022-05-12T18:46:05.879Z"
   },
   {
    "duration": 375,
    "start_time": "2022-05-12T18:46:12.409Z"
   },
   {
    "duration": 356,
    "start_time": "2022-05-12T18:46:29.990Z"
   },
   {
    "duration": 445,
    "start_time": "2022-05-12T18:46:35.950Z"
   },
   {
    "duration": 317,
    "start_time": "2022-05-12T18:46:41.677Z"
   },
   {
    "duration": 6152,
    "start_time": "2022-05-12T19:31:56.655Z"
   },
   {
    "duration": 3564,
    "start_time": "2022-05-12T19:32:02.809Z"
   },
   {
    "duration": 31,
    "start_time": "2022-05-12T19:32:06.375Z"
   },
   {
    "duration": 11,
    "start_time": "2022-05-12T19:32:06.408Z"
   },
   {
    "duration": 5,
    "start_time": "2022-05-12T19:32:06.424Z"
   },
   {
    "duration": 37,
    "start_time": "2022-05-12T19:32:06.431Z"
   },
   {
    "duration": 446,
    "start_time": "2022-05-12T19:32:06.470Z"
   },
   {
    "duration": 3,
    "start_time": "2022-05-12T19:32:06.919Z"
   },
   {
    "duration": 195,
    "start_time": "2022-05-12T19:32:06.924Z"
   },
   {
    "duration": 0,
    "start_time": "2022-05-12T19:32:07.121Z"
   },
   {
    "duration": 0,
    "start_time": "2022-05-12T19:32:07.122Z"
   },
   {
    "duration": 0,
    "start_time": "2022-05-12T19:32:07.123Z"
   },
   {
    "duration": 13,
    "start_time": "2022-05-12T19:33:28.227Z"
   },
   {
    "duration": 5,
    "start_time": "2022-05-12T19:34:13.976Z"
   },
   {
    "duration": 3,
    "start_time": "2022-05-12T19:34:17.536Z"
   },
   {
    "duration": 10546,
    "start_time": "2022-05-12T19:34:22.785Z"
   },
   {
    "duration": 0,
    "start_time": "2022-05-12T19:34:33.334Z"
   },
   {
    "duration": 9,
    "start_time": "2022-05-12T19:34:34.733Z"
   },
   {
    "duration": 194,
    "start_time": "2022-05-12T19:38:36.539Z"
   },
   {
    "duration": 14,
    "start_time": "2022-05-12T19:39:20.158Z"
   },
   {
    "duration": 6,
    "start_time": "2022-05-12T19:39:47.224Z"
   },
   {
    "duration": 6,
    "start_time": "2022-05-12T19:39:53.923Z"
   },
   {
    "duration": 2397,
    "start_time": "2022-05-12T19:40:15.986Z"
   },
   {
    "duration": 2389,
    "start_time": "2022-05-12T19:40:19.928Z"
   },
   {
    "duration": 2580,
    "start_time": "2022-05-12T19:40:59.775Z"
   },
   {
    "duration": 13,
    "start_time": "2022-05-12T19:41:55.348Z"
   },
   {
    "duration": 628,
    "start_time": "2022-05-12T19:42:03.458Z"
   },
   {
    "duration": 805,
    "start_time": "2022-05-12T19:42:20.913Z"
   },
   {
    "duration": 624,
    "start_time": "2022-05-12T19:42:33.835Z"
   },
   {
    "duration": 648,
    "start_time": "2022-05-12T19:44:54.960Z"
   },
   {
    "duration": 5035,
    "start_time": "2022-05-12T19:45:05.734Z"
   },
   {
    "duration": 52693,
    "start_time": "2022-05-12T19:45:33.850Z"
   },
   {
    "duration": 173194,
    "start_time": "2022-05-12T19:46:36.825Z"
   },
   {
    "duration": 750,
    "start_time": "2022-05-12T19:53:03.502Z"
   },
   {
    "duration": 3,
    "start_time": "2022-05-12T19:57:39.111Z"
   },
   {
    "duration": 4,
    "start_time": "2022-05-12T19:57:41.706Z"
   },
   {
    "duration": 4,
    "start_time": "2022-05-12T19:57:42.618Z"
   },
   {
    "duration": 634,
    "start_time": "2022-05-12T19:57:46.099Z"
   },
   {
    "duration": 766,
    "start_time": "2022-05-12T19:58:37.145Z"
   },
   {
    "duration": 739,
    "start_time": "2022-05-12T19:59:54.563Z"
   },
   {
    "duration": 4,
    "start_time": "2022-05-12T20:00:48.288Z"
   },
   {
    "duration": 6,
    "start_time": "2022-05-12T20:00:49.293Z"
   },
   {
    "duration": 3,
    "start_time": "2022-05-12T20:00:50.431Z"
   },
   {
    "duration": 48730,
    "start_time": "2022-05-12T20:00:51.366Z"
   },
   {
    "duration": 146129,
    "start_time": "2022-05-12T20:01:49.331Z"
   },
   {
    "duration": 2343,
    "start_time": "2022-05-12T20:05:25.705Z"
   },
   {
    "duration": 3848,
    "start_time": "2022-05-12T20:06:04.515Z"
   },
   {
    "duration": 3885,
    "start_time": "2022-05-12T20:06:08.365Z"
   },
   {
    "duration": 45,
    "start_time": "2022-05-12T20:06:12.251Z"
   },
   {
    "duration": 12,
    "start_time": "2022-05-12T20:06:12.298Z"
   },
   {
    "duration": 5,
    "start_time": "2022-05-12T20:06:12.312Z"
   },
   {
    "duration": 18,
    "start_time": "2022-05-12T20:06:12.318Z"
   },
   {
    "duration": 388,
    "start_time": "2022-05-12T20:06:12.338Z"
   },
   {
    "duration": 3,
    "start_time": "2022-05-12T20:06:12.728Z"
   },
   {
    "duration": 117,
    "start_time": "2022-05-12T20:06:12.733Z"
   },
   {
    "duration": 3,
    "start_time": "2022-05-12T20:06:12.852Z"
   },
   {
    "duration": 2317,
    "start_time": "2022-05-12T20:06:12.857Z"
   },
   {
    "duration": 38,
    "start_time": "2022-05-12T20:08:01.477Z"
   },
   {
    "duration": 5,
    "start_time": "2022-05-12T20:12:00.369Z"
   },
   {
    "duration": 4381,
    "start_time": "2022-05-12T20:12:30.533Z"
   },
   {
    "duration": 5637,
    "start_time": "2022-05-12T20:13:38.245Z"
   },
   {
    "duration": 5441,
    "start_time": "2022-05-12T20:14:17.438Z"
   },
   {
    "duration": 5355,
    "start_time": "2022-05-12T20:14:36.330Z"
   },
   {
    "duration": 5172,
    "start_time": "2022-05-12T20:15:02.429Z"
   },
   {
    "duration": 4,
    "start_time": "2022-05-12T20:15:28.695Z"
   },
   {
    "duration": 5848,
    "start_time": "2022-05-12T20:15:30.555Z"
   },
   {
    "duration": 3,
    "start_time": "2022-05-12T20:16:13.448Z"
   },
   {
    "duration": 6299,
    "start_time": "2022-05-12T20:16:16.466Z"
   },
   {
    "duration": 4,
    "start_time": "2022-05-12T20:16:59.871Z"
   },
   {
    "duration": 6186,
    "start_time": "2022-05-12T20:17:04.239Z"
   },
   {
    "duration": 155206,
    "start_time": "2022-05-12T20:17:35.013Z"
   },
   {
    "duration": 135,
    "start_time": "2022-05-12T20:20:58.605Z"
   },
   {
    "duration": 59,
    "start_time": "2022-05-12T20:21:16.177Z"
   },
   {
    "duration": 5,
    "start_time": "2022-05-12T20:21:34.741Z"
   },
   {
    "duration": 2687,
    "start_time": "2022-05-12T20:21:52.539Z"
   },
   {
    "duration": 577,
    "start_time": "2022-05-12T20:22:15.645Z"
   },
   {
    "duration": 1900,
    "start_time": "2022-05-12T20:23:06.657Z"
   },
   {
    "duration": 14,
    "start_time": "2022-05-12T20:25:10.613Z"
   },
   {
    "duration": 18,
    "start_time": "2022-05-12T20:25:24.726Z"
   },
   {
    "duration": 5,
    "start_time": "2022-05-12T20:25:56.094Z"
   },
   {
    "duration": 6,
    "start_time": "2022-05-12T20:26:59.766Z"
   },
   {
    "duration": 3805,
    "start_time": "2022-05-12T21:03:25.270Z"
   },
   {
    "duration": 813,
    "start_time": "2022-05-12T21:03:29.077Z"
   },
   {
    "duration": 36,
    "start_time": "2022-05-12T21:03:29.892Z"
   },
   {
    "duration": 28,
    "start_time": "2022-05-12T21:03:29.930Z"
   },
   {
    "duration": 28,
    "start_time": "2022-05-12T21:03:29.960Z"
   },
   {
    "duration": 42,
    "start_time": "2022-05-12T21:03:29.990Z"
   },
   {
    "duration": 461,
    "start_time": "2022-05-12T21:03:30.034Z"
   },
   {
    "duration": 4,
    "start_time": "2022-05-12T21:03:30.496Z"
   },
   {
    "duration": 154,
    "start_time": "2022-05-12T21:03:30.501Z"
   },
   {
    "duration": 4,
    "start_time": "2022-05-12T21:03:30.657Z"
   },
   {
    "duration": 135352,
    "start_time": "2022-05-12T21:03:30.662Z"
   },
   {
    "duration": 89,
    "start_time": "2022-05-12T21:05:46.016Z"
   },
   {
    "duration": 33,
    "start_time": "2022-05-12T21:05:46.106Z"
   },
   {
    "duration": 4,
    "start_time": "2022-05-12T21:05:46.142Z"
   },
   {
    "duration": 606,
    "start_time": "2022-05-12T21:05:46.167Z"
   },
   {
    "duration": 5,
    "start_time": "2022-05-12T21:05:46.775Z"
   },
   {
    "duration": 13,
    "start_time": "2022-05-12T21:05:46.782Z"
   },
   {
    "duration": 224,
    "start_time": "2022-05-12T21:05:46.797Z"
   },
   {
    "duration": 0,
    "start_time": "2022-05-12T21:05:47.023Z"
   },
   {
    "duration": 0,
    "start_time": "2022-05-12T21:05:47.025Z"
   },
   {
    "duration": 0,
    "start_time": "2022-05-12T21:05:47.026Z"
   },
   {
    "duration": 0,
    "start_time": "2022-05-12T21:05:47.027Z"
   },
   {
    "duration": 60478,
    "start_time": "2022-05-12T21:06:31.502Z"
   },
   {
    "duration": 134545,
    "start_time": "2022-05-12T21:07:38.083Z"
   },
   {
    "duration": 4,
    "start_time": "2022-05-12T21:13:16.040Z"
   },
   {
    "duration": 3975,
    "start_time": "2022-05-12T21:14:54.204Z"
   },
   {
    "duration": 967,
    "start_time": "2022-05-12T21:14:58.187Z"
   },
   {
    "duration": 43,
    "start_time": "2022-05-12T21:14:59.156Z"
   },
   {
    "duration": 10,
    "start_time": "2022-05-12T21:14:59.201Z"
   },
   {
    "duration": 4,
    "start_time": "2022-05-12T21:14:59.214Z"
   },
   {
    "duration": 9,
    "start_time": "2022-05-12T21:14:59.220Z"
   },
   {
    "duration": 392,
    "start_time": "2022-05-12T21:14:59.231Z"
   },
   {
    "duration": 3,
    "start_time": "2022-05-12T21:14:59.625Z"
   },
   {
    "duration": 247,
    "start_time": "2022-05-12T21:14:59.630Z"
   },
   {
    "duration": 19,
    "start_time": "2022-05-12T21:14:59.879Z"
   },
   {
    "duration": 175474,
    "start_time": "2022-05-12T21:14:59.904Z"
   },
   {
    "duration": 71,
    "start_time": "2022-05-12T21:17:55.379Z"
   },
   {
    "duration": 30,
    "start_time": "2022-05-12T21:17:55.467Z"
   },
   {
    "duration": 5,
    "start_time": "2022-05-12T21:17:55.500Z"
   },
   {
    "duration": 3732,
    "start_time": "2022-05-12T21:17:55.506Z"
   },
   {
    "duration": 5,
    "start_time": "2022-05-12T21:17:59.240Z"
   },
   {
    "duration": 10,
    "start_time": "2022-05-12T21:17:59.246Z"
   },
   {
    "duration": 173,
    "start_time": "2022-05-12T21:17:59.267Z"
   },
   {
    "duration": 0,
    "start_time": "2022-05-12T21:17:59.442Z"
   },
   {
    "duration": 0,
    "start_time": "2022-05-12T21:17:59.443Z"
   },
   {
    "duration": 0,
    "start_time": "2022-05-12T21:17:59.444Z"
   },
   {
    "duration": 0,
    "start_time": "2022-05-12T21:17:59.445Z"
   },
   {
    "duration": 3,
    "start_time": "2022-05-12T21:21:16.307Z"
   },
   {
    "duration": 177202,
    "start_time": "2022-05-12T21:21:17.637Z"
   },
   {
    "duration": 3,
    "start_time": "2022-05-12T21:24:55.836Z"
   },
   {
    "duration": 68,
    "start_time": "2022-05-12T21:25:17.238Z"
   },
   {
    "duration": 10245,
    "start_time": "2022-05-12T21:25:23.329Z"
   },
   {
    "duration": 3828,
    "start_time": "2022-05-12T21:25:33.577Z"
   },
   {
    "duration": 35,
    "start_time": "2022-05-12T21:25:37.407Z"
   },
   {
    "duration": 25,
    "start_time": "2022-05-12T21:25:37.443Z"
   },
   {
    "duration": 5,
    "start_time": "2022-05-12T21:25:37.471Z"
   },
   {
    "duration": 11,
    "start_time": "2022-05-12T21:25:37.478Z"
   },
   {
    "duration": 578,
    "start_time": "2022-05-12T21:25:37.491Z"
   },
   {
    "duration": 3,
    "start_time": "2022-05-12T21:25:38.072Z"
   },
   {
    "duration": 127,
    "start_time": "2022-05-12T21:25:38.078Z"
   },
   {
    "duration": 4,
    "start_time": "2022-05-12T21:25:38.207Z"
   },
   {
    "duration": 196109,
    "start_time": "2022-05-12T21:25:38.213Z"
   },
   {
    "duration": 86,
    "start_time": "2022-05-12T21:28:54.323Z"
   },
   {
    "duration": 31,
    "start_time": "2022-05-12T21:28:54.411Z"
   },
   {
    "duration": 5,
    "start_time": "2022-05-12T21:28:54.445Z"
   },
   {
    "duration": 3967,
    "start_time": "2022-05-12T21:28:54.471Z"
   },
   {
    "duration": 4,
    "start_time": "2022-05-12T21:28:58.440Z"
   },
   {
    "duration": 7,
    "start_time": "2022-05-12T21:28:58.446Z"
   },
   {
    "duration": 224,
    "start_time": "2022-05-12T21:28:58.454Z"
   },
   {
    "duration": 0,
    "start_time": "2022-05-12T21:28:58.680Z"
   },
   {
    "duration": 0,
    "start_time": "2022-05-12T21:28:58.682Z"
   },
   {
    "duration": 0,
    "start_time": "2022-05-12T21:28:58.683Z"
   },
   {
    "duration": 0,
    "start_time": "2022-05-12T21:28:58.684Z"
   },
   {
    "duration": 22081,
    "start_time": "2022-05-12T21:30:44.197Z"
   },
   {
    "duration": 35,
    "start_time": "2022-05-12T21:34:41.473Z"
   },
   {
    "duration": 62,
    "start_time": "2022-05-12T21:34:49.636Z"
   },
   {
    "duration": 16,
    "start_time": "2022-05-12T21:34:51.008Z"
   },
   {
    "duration": 1780,
    "start_time": "2022-05-12T21:34:54.534Z"
   },
   {
    "duration": 5,
    "start_time": "2022-05-12T21:35:09.049Z"
   },
   {
    "duration": 4,
    "start_time": "2022-05-12T21:35:10.103Z"
   },
   {
    "duration": 18,
    "start_time": "2022-05-12T21:35:13.125Z"
   },
   {
    "duration": 25,
    "start_time": "2022-05-12T21:36:32.014Z"
   },
   {
    "duration": 19,
    "start_time": "2022-05-12T21:36:46.643Z"
   },
   {
    "duration": 24,
    "start_time": "2022-05-12T21:37:14.272Z"
   },
   {
    "duration": 15,
    "start_time": "2022-05-12T21:37:27.097Z"
   },
   {
    "duration": 3764,
    "start_time": "2022-05-12T21:37:38.777Z"
   },
   {
    "duration": 790,
    "start_time": "2022-05-12T21:37:42.543Z"
   },
   {
    "duration": 34,
    "start_time": "2022-05-12T21:37:43.335Z"
   },
   {
    "duration": 10,
    "start_time": "2022-05-12T21:37:43.371Z"
   },
   {
    "duration": 4,
    "start_time": "2022-05-12T21:37:43.384Z"
   },
   {
    "duration": 8,
    "start_time": "2022-05-12T21:37:43.389Z"
   },
   {
    "duration": 404,
    "start_time": "2022-05-12T21:37:43.398Z"
   },
   {
    "duration": 3,
    "start_time": "2022-05-12T21:37:43.804Z"
   },
   {
    "duration": 199,
    "start_time": "2022-05-12T21:37:43.808Z"
   },
   {
    "duration": 4,
    "start_time": "2022-05-12T21:37:44.008Z"
   },
   {
    "duration": 24155,
    "start_time": "2022-05-12T21:37:44.013Z"
   },
   {
    "duration": 79,
    "start_time": "2022-05-12T21:38:08.169Z"
   },
   {
    "duration": 80,
    "start_time": "2022-05-12T21:38:08.249Z"
   },
   {
    "duration": 3,
    "start_time": "2022-05-12T21:38:08.332Z"
   },
   {
    "duration": 865,
    "start_time": "2022-05-12T21:38:08.337Z"
   },
   {
    "duration": 4465,
    "start_time": "2022-05-12T21:38:09.204Z"
   },
   {
    "duration": 5261,
    "start_time": "2022-05-12T21:38:13.671Z"
   },
   {
    "duration": 12135,
    "start_time": "2022-05-12T21:38:18.934Z"
   },
   {
    "duration": 26116,
    "start_time": "2022-05-12T21:38:31.071Z"
   },
   {
    "duration": 5,
    "start_time": "2022-05-12T21:38:57.189Z"
   },
   {
    "duration": 22009,
    "start_time": "2022-05-12T21:38:57.195Z"
   },
   {
    "duration": 8,
    "start_time": "2022-05-12T21:39:19.206Z"
   },
   {
    "duration": 5,
    "start_time": "2022-05-12T21:40:17.986Z"
   },
   {
    "duration": 3,
    "start_time": "2022-05-12T21:40:57.626Z"
   },
   {
    "duration": 15,
    "start_time": "2022-05-12T21:41:21.355Z"
   },
   {
    "duration": 53,
    "start_time": "2022-05-12T21:41:55.696Z"
   },
   {
    "duration": 0,
    "start_time": "2022-05-12T21:44:04.616Z"
   },
   {
    "duration": 14,
    "start_time": "2022-05-12T21:44:11.614Z"
   },
   {
    "duration": 56464,
    "start_time": "2022-05-12T21:44:54.350Z"
   },
   {
    "duration": 14,
    "start_time": "2022-05-12T21:46:44.226Z"
   },
   {
    "duration": 16,
    "start_time": "2022-05-12T21:47:26.803Z"
   },
   {
    "duration": 41058,
    "start_time": "2022-05-12T21:48:00.597Z"
   },
   {
    "duration": 15,
    "start_time": "2022-05-12T21:49:02.730Z"
   },
   {
    "duration": 59943,
    "start_time": "2022-05-12T21:49:52.405Z"
   },
   {
    "duration": 15,
    "start_time": "2022-05-12T21:51:52.334Z"
   },
   {
    "duration": 12,
    "start_time": "2022-05-12T21:52:02.825Z"
   },
   {
    "duration": 70310,
    "start_time": "2022-05-12T21:52:46.114Z"
   },
   {
    "duration": 14,
    "start_time": "2022-05-12T21:54:13.323Z"
   },
   {
    "duration": 127726,
    "start_time": "2022-05-12T21:54:27.292Z"
   },
   {
    "duration": 13,
    "start_time": "2022-05-12T21:56:35.020Z"
   },
   {
    "duration": 55786,
    "start_time": "2022-05-12T21:57:20.994Z"
   },
   {
    "duration": 10,
    "start_time": "2022-05-12T21:58:44.040Z"
   },
   {
    "duration": 29258,
    "start_time": "2022-05-12T21:58:59.845Z"
   },
   {
    "duration": 15,
    "start_time": "2022-05-12T21:59:46.726Z"
   },
   {
    "duration": 38594,
    "start_time": "2022-05-12T22:00:13.580Z"
   },
   {
    "duration": 4,
    "start_time": "2022-05-12T22:00:52.176Z"
   },
   {
    "duration": 1577,
    "start_time": "2022-05-12T22:01:04.975Z"
   },
   {
    "duration": 11944,
    "start_time": "2022-05-12T22:01:30.768Z"
   },
   {
    "duration": 4,
    "start_time": "2022-05-12T22:02:31.283Z"
   },
   {
    "duration": 1526,
    "start_time": "2022-05-12T22:02:32.904Z"
   },
   {
    "duration": 115143,
    "start_time": "2022-05-12T22:03:06.709Z"
   },
   {
    "duration": 11,
    "start_time": "2022-05-12T22:14:01.298Z"
   },
   {
    "duration": 414525,
    "start_time": "2022-05-12T22:14:27.109Z"
   },
   {
    "duration": 55333,
    "start_time": "2022-05-12T22:21:21.639Z"
   },
   {
    "duration": 13,
    "start_time": "2022-05-12T22:22:43.505Z"
   },
   {
    "duration": 6690,
    "start_time": "2022-05-12T22:23:18.612Z"
   },
   {
    "duration": 25531,
    "start_time": "2022-05-12T22:23:47.091Z"
   },
   {
    "duration": 136308,
    "start_time": "2022-05-12T22:24:32.448Z"
   },
   {
    "duration": 12,
    "start_time": "2022-05-12T22:26:56.732Z"
   },
   {
    "duration": 392734,
    "start_time": "2022-05-12T22:27:42.243Z"
   },
   {
    "duration": 112730,
    "start_time": "2022-05-12T22:34:20.750Z"
   },
   {
    "duration": 11,
    "start_time": "2022-05-12T22:36:20.867Z"
   },
   {
    "duration": 44848,
    "start_time": "2022-05-12T22:36:43.030Z"
   },
   {
    "duration": 14,
    "start_time": "2022-05-12T22:37:49.816Z"
   },
   {
    "duration": 358042,
    "start_time": "2022-05-12T22:38:21.602Z"
   },
   {
    "duration": 3896,
    "start_time": "2022-05-12T22:52:55.764Z"
   },
   {
    "duration": 847,
    "start_time": "2022-05-12T22:52:59.663Z"
   },
   {
    "duration": 35,
    "start_time": "2022-05-12T22:53:00.512Z"
   },
   {
    "duration": 26,
    "start_time": "2022-05-12T22:53:00.548Z"
   },
   {
    "duration": 5,
    "start_time": "2022-05-12T22:53:00.576Z"
   },
   {
    "duration": 20,
    "start_time": "2022-05-12T22:53:00.583Z"
   },
   {
    "duration": 434,
    "start_time": "2022-05-12T22:53:00.605Z"
   },
   {
    "duration": 4,
    "start_time": "2022-05-12T22:53:01.041Z"
   },
   {
    "duration": 184,
    "start_time": "2022-05-12T22:53:01.048Z"
   },
   {
    "duration": 4,
    "start_time": "2022-05-12T22:53:01.234Z"
   },
   {
    "duration": 25093,
    "start_time": "2022-05-12T22:53:01.240Z"
   },
   {
    "duration": 92,
    "start_time": "2022-05-12T22:53:26.334Z"
   },
   {
    "duration": 104,
    "start_time": "2022-05-12T22:53:26.428Z"
   },
   {
    "duration": 5,
    "start_time": "2022-05-12T22:53:26.536Z"
   },
   {
    "duration": 990,
    "start_time": "2022-05-12T22:53:26.542Z"
   },
   {
    "duration": 4470,
    "start_time": "2022-05-12T22:53:27.533Z"
   },
   {
    "duration": 5291,
    "start_time": "2022-05-12T22:53:32.005Z"
   },
   {
    "duration": 11904,
    "start_time": "2022-05-12T22:53:37.298Z"
   },
   {
    "duration": 129863,
    "start_time": "2022-05-12T22:53:49.204Z"
   },
   {
    "duration": 55,
    "start_time": "2022-05-12T22:55:59.069Z"
   },
   {
    "duration": 351376,
    "start_time": "2022-05-12T22:55:59.126Z"
   },
   {
    "duration": 11,
    "start_time": "2022-05-12T23:01:50.504Z"
   },
   {
    "duration": 48,
    "start_time": "2022-05-12T23:15:28.964Z"
   },
   {
    "duration": 8767,
    "start_time": "2022-05-12T23:15:49.543Z"
   },
   {
    "duration": 817,
    "start_time": "2022-05-12T23:15:58.312Z"
   },
   {
    "duration": 37,
    "start_time": "2022-05-12T23:15:59.131Z"
   },
   {
    "duration": 18,
    "start_time": "2022-05-12T23:15:59.170Z"
   },
   {
    "duration": 3,
    "start_time": "2022-05-12T23:15:59.190Z"
   },
   {
    "duration": 9,
    "start_time": "2022-05-12T23:15:59.195Z"
   },
   {
    "duration": 443,
    "start_time": "2022-05-12T23:15:59.205Z"
   },
   {
    "duration": 3,
    "start_time": "2022-05-12T23:15:59.649Z"
   },
   {
    "duration": 120,
    "start_time": "2022-05-12T23:15:59.654Z"
   },
   {
    "duration": 3,
    "start_time": "2022-05-12T23:15:59.776Z"
   },
   {
    "duration": 22429,
    "start_time": "2022-05-12T23:15:59.780Z"
   },
   {
    "duration": 98,
    "start_time": "2022-05-12T23:16:22.211Z"
   },
   {
    "duration": 87,
    "start_time": "2022-05-12T23:16:22.310Z"
   },
   {
    "duration": 4,
    "start_time": "2022-05-12T23:16:22.398Z"
   },
   {
    "duration": 937,
    "start_time": "2022-05-12T23:16:22.403Z"
   },
   {
    "duration": 4087,
    "start_time": "2022-05-12T23:16:23.341Z"
   },
   {
    "duration": 4993,
    "start_time": "2022-05-12T23:16:27.431Z"
   },
   {
    "duration": 13510,
    "start_time": "2022-05-12T23:16:32.426Z"
   },
   {
    "duration": 124562,
    "start_time": "2022-05-12T23:16:45.938Z"
   },
   {
    "duration": 46,
    "start_time": "2022-05-12T23:18:50.502Z"
   },
   {
    "duration": 130574,
    "start_time": "2022-05-12T23:18:50.550Z"
   },
   {
    "duration": 13,
    "start_time": "2022-05-12T23:21:01.126Z"
   },
   {
    "duration": 160,
    "start_time": "2022-05-12T23:21:25.942Z"
   },
   {
    "duration": 28,
    "start_time": "2022-05-12T23:21:31.384Z"
   },
   {
    "duration": 255,
    "start_time": "2022-05-12T23:21:35.609Z"
   },
   {
    "duration": 277,
    "start_time": "2022-05-12T23:21:46.914Z"
   },
   {
    "duration": 272,
    "start_time": "2022-05-12T23:22:22.579Z"
   },
   {
    "duration": 306,
    "start_time": "2022-05-12T23:23:29.114Z"
   },
   {
    "duration": 258,
    "start_time": "2022-05-12T23:23:36.404Z"
   },
   {
    "duration": 306,
    "start_time": "2022-05-12T23:23:41.846Z"
   },
   {
    "duration": 201503,
    "start_time": "2022-05-12T23:24:28.174Z"
   },
   {
    "duration": 29,
    "start_time": "2022-05-12T23:27:49.679Z"
   },
   {
    "duration": 12,
    "start_time": "2022-05-12T23:28:04.029Z"
   },
   {
    "duration": 102361,
    "start_time": "2022-05-12T23:28:30.178Z"
   },
   {
    "duration": 12,
    "start_time": "2022-05-12T23:30:16.621Z"
   },
   {
    "duration": 290,
    "start_time": "2022-05-12T23:30:24.476Z"
   },
   {
    "duration": 13820,
    "start_time": "2022-05-12T23:32:51.272Z"
   },
   {
    "duration": 286,
    "start_time": "2022-05-12T23:33:10.818Z"
   },
   {
    "duration": 5247,
    "start_time": "2022-05-13T10:03:22.522Z"
   },
   {
    "duration": 905,
    "start_time": "2022-05-13T10:03:27.771Z"
   },
   {
    "duration": 21,
    "start_time": "2022-05-13T10:03:28.677Z"
   },
   {
    "duration": 12,
    "start_time": "2022-05-13T10:03:28.700Z"
   },
   {
    "duration": 37,
    "start_time": "2022-05-13T10:03:28.714Z"
   },
   {
    "duration": 20,
    "start_time": "2022-05-13T10:03:28.752Z"
   },
   {
    "duration": 404,
    "start_time": "2022-05-13T10:03:28.774Z"
   },
   {
    "duration": 3,
    "start_time": "2022-05-13T10:03:29.179Z"
   },
   {
    "duration": 153,
    "start_time": "2022-05-13T10:03:29.184Z"
   },
   {
    "duration": 4,
    "start_time": "2022-05-13T10:03:29.339Z"
   },
   {
    "duration": 24741,
    "start_time": "2022-05-13T10:03:29.344Z"
   },
   {
    "duration": 73,
    "start_time": "2022-05-13T10:03:54.086Z"
   },
   {
    "duration": 69,
    "start_time": "2022-05-13T10:03:54.160Z"
   },
   {
    "duration": 3,
    "start_time": "2022-05-13T10:03:54.232Z"
   },
   {
    "duration": 857,
    "start_time": "2022-05-13T10:03:54.237Z"
   },
   {
    "duration": 4451,
    "start_time": "2022-05-13T10:03:55.095Z"
   },
   {
    "duration": 5796,
    "start_time": "2022-05-13T10:03:59.547Z"
   },
   {
    "duration": 11097,
    "start_time": "2022-05-13T10:04:05.344Z"
   },
   {
    "duration": 144627,
    "start_time": "2022-05-13T10:04:16.443Z"
   },
   {
    "duration": 69,
    "start_time": "2022-05-13T10:06:41.072Z"
   },
   {
    "duration": 106649,
    "start_time": "2022-05-13T10:06:41.143Z"
   },
   {
    "duration": 16,
    "start_time": "2022-05-13T10:08:27.801Z"
   },
   {
    "duration": 366,
    "start_time": "2022-05-13T10:08:27.820Z"
   },
   {
    "duration": 336,
    "start_time": "2022-05-13T11:17:12.847Z"
   },
   {
    "duration": 4,
    "start_time": "2022-05-13T11:17:29.155Z"
   },
   {
    "duration": 173430,
    "start_time": "2022-05-13T11:17:42.960Z"
   },
   {
    "duration": 12,
    "start_time": "2022-05-13T11:22:40.043Z"
   },
   {
    "duration": 12825,
    "start_time": "2022-05-13T11:22:52.146Z"
   },
   {
    "duration": 303653,
    "start_time": "2022-05-13T11:25:35.574Z"
   },
   {
    "duration": 108,
    "start_time": "2022-05-13T11:31:07.513Z"
   },
   {
    "duration": 296256,
    "start_time": "2022-05-13T11:31:24.019Z"
   },
   {
    "duration": 20076,
    "start_time": "2022-05-13T11:36:46.391Z"
   },
   {
    "duration": 161227,
    "start_time": "2022-05-13T11:38:25.963Z"
   },
   {
    "duration": 36967,
    "start_time": "2022-05-13T11:41:41.713Z"
   },
   {
    "duration": 25356,
    "start_time": "2022-05-13T11:42:31.368Z"
   },
   {
    "duration": 4242,
    "start_time": "2022-05-13T11:47:40.575Z"
   },
   {
    "duration": 735,
    "start_time": "2022-05-13T11:47:44.818Z"
   },
   {
    "duration": 24,
    "start_time": "2022-05-13T11:47:45.557Z"
   },
   {
    "duration": 23,
    "start_time": "2022-05-13T11:47:45.583Z"
   },
   {
    "duration": 14,
    "start_time": "2022-05-13T11:47:45.607Z"
   },
   {
    "duration": 11,
    "start_time": "2022-05-13T11:47:45.622Z"
   },
   {
    "duration": 366,
    "start_time": "2022-05-13T11:47:45.634Z"
   },
   {
    "duration": 6,
    "start_time": "2022-05-13T11:47:46.003Z"
   },
   {
    "duration": 214,
    "start_time": "2022-05-13T11:47:46.013Z"
   },
   {
    "duration": 3,
    "start_time": "2022-05-13T11:47:46.228Z"
   },
   {
    "duration": 23781,
    "start_time": "2022-05-13T11:47:46.233Z"
   },
   {
    "duration": 88,
    "start_time": "2022-05-13T11:48:10.016Z"
   },
   {
    "duration": 62,
    "start_time": "2022-05-13T11:48:10.107Z"
   },
   {
    "duration": 4,
    "start_time": "2022-05-13T11:48:10.171Z"
   },
   {
    "duration": 944,
    "start_time": "2022-05-13T11:48:10.176Z"
   },
   {
    "duration": 4159,
    "start_time": "2022-05-13T11:48:11.124Z"
   },
   {
    "duration": 5408,
    "start_time": "2022-05-13T11:48:15.284Z"
   },
   {
    "duration": 11140,
    "start_time": "2022-05-13T11:48:20.693Z"
   },
   {
    "duration": 146214,
    "start_time": "2022-05-13T11:48:31.835Z"
   },
   {
    "duration": 37207,
    "start_time": "2022-05-13T11:50:58.051Z"
   },
   {
    "duration": 332310,
    "start_time": "2022-05-13T11:51:35.259Z"
   },
   {
    "duration": 40670,
    "start_time": "2022-05-13T11:57:07.572Z"
   },
   {
    "duration": 371,
    "start_time": "2022-05-13T11:57:48.244Z"
   },
   {
    "duration": 3927,
    "start_time": "2022-05-13T14:22:36.266Z"
   },
   {
    "duration": 836,
    "start_time": "2022-05-13T14:22:40.195Z"
   },
   {
    "duration": 33,
    "start_time": "2022-05-13T14:22:42.582Z"
   },
   {
    "duration": 11,
    "start_time": "2022-05-13T14:22:43.406Z"
   },
   {
    "duration": 4,
    "start_time": "2022-05-13T14:22:46.054Z"
   },
   {
    "duration": 7,
    "start_time": "2022-05-13T14:22:46.246Z"
   },
   {
    "duration": 432,
    "start_time": "2022-05-13T14:22:46.759Z"
   },
   {
    "duration": 3,
    "start_time": "2022-05-13T14:22:48.615Z"
   },
   {
    "duration": 158,
    "start_time": "2022-05-13T14:22:49.367Z"
   },
   {
    "duration": 3,
    "start_time": "2022-05-13T14:22:50.318Z"
   },
   {
    "duration": 25928,
    "start_time": "2022-05-13T14:22:51.168Z"
   },
   {
    "duration": 81,
    "start_time": "2022-05-13T14:23:27.798Z"
   },
   {
    "duration": 69,
    "start_time": "2022-05-13T14:23:28.410Z"
   },
   {
    "duration": 4,
    "start_time": "2022-05-13T14:23:29.022Z"
   },
   {
    "duration": 948,
    "start_time": "2022-05-13T14:23:29.694Z"
   },
   {
    "duration": 4543,
    "start_time": "2022-05-13T14:23:32.806Z"
   },
   {
    "duration": 5602,
    "start_time": "2022-05-13T14:23:38.118Z"
   },
   {
    "duration": 13436,
    "start_time": "2022-05-13T14:23:45.733Z"
   },
   {
    "duration": 160256,
    "start_time": "2022-05-13T14:24:04.213Z"
   },
   {
    "duration": 39660,
    "start_time": "2022-05-13T14:29:54.265Z"
   },
   {
    "duration": 340016,
    "start_time": "2022-05-13T14:30:33.927Z"
   },
   {
    "duration": 30732,
    "start_time": "2022-05-13T14:36:13.946Z"
   }
  ],
  "kernelspec": {
   "display_name": "Python 3 (ipykernel)",
   "language": "python",
   "name": "python3"
  },
  "language_info": {
   "codemirror_mode": {
    "name": "ipython",
    "version": 3
   },
   "file_extension": ".py",
   "mimetype": "text/x-python",
   "name": "python",
   "nbconvert_exporter": "python",
   "pygments_lexer": "ipython3",
   "version": "3.9.7"
  },
  "toc": {
   "base_numbering": 1,
   "nav_menu": {},
   "number_sections": true,
   "sideBar": true,
   "skip_h1_title": true,
   "title_cell": "Содержание",
   "title_sidebar": "Contents",
   "toc_cell": true,
   "toc_position": {
    "height": "calc(100% - 180px)",
    "left": "10px",
    "top": "150px",
    "width": "302.391px"
   },
   "toc_section_display": true,
   "toc_window_display": true
  }
 },
 "nbformat": 4,
 "nbformat_minor": 2
}
