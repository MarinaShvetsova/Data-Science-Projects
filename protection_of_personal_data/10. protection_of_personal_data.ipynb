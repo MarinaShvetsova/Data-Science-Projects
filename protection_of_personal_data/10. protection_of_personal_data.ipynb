{
 "cells": [
  {
   "cell_type": "markdown",
   "metadata": {
    "toc": true
   },
   "source": [
    "<h1>Содержание<span class=\"tocSkip\"></span></h1>\n",
    "<div class=\"toc\"><ul class=\"toc-item\"><li><span><a href=\"#Загрузка-данных\" data-toc-modified-id=\"Загрузка-данных-1\"><span class=\"toc-item-num\">1&nbsp;&nbsp;</span>Загрузка данных</a></span></li><li><span><a href=\"#Умножение-матриц\" data-toc-modified-id=\"Умножение-матриц-2\"><span class=\"toc-item-num\">2&nbsp;&nbsp;</span>Умножение матриц</a></span></li><li><span><a href=\"#Алгоритм-преобразования\" data-toc-modified-id=\"Алгоритм-преобразования-3\"><span class=\"toc-item-num\">3&nbsp;&nbsp;</span>Алгоритм преобразования</a></span></li><li><span><a href=\"#Проверка-алгоритма\" data-toc-modified-id=\"Проверка-алгоритма-4\"><span class=\"toc-item-num\">4&nbsp;&nbsp;</span>Проверка алгоритма</a></span></li><li><span><a href=\"#Чек-лист-проверки\" data-toc-modified-id=\"Чек-лист-проверки-5\"><span class=\"toc-item-num\">5&nbsp;&nbsp;</span>Чек-лист проверки</a></span></li></ul></div>"
   ]
  },
  {
   "cell_type": "markdown",
   "metadata": {},
   "source": [
    "# Защита персональных данных клиентов"
   ]
  },
  {
   "cell_type": "markdown",
   "metadata": {},
   "source": [
    "Вам нужно защитить данные клиентов страховой компании «Хоть потоп». Разработайте такой метод преобразования данных, чтобы по ним было сложно восстановить персональную информацию. Обоснуйте корректность его работы.\n",
    "\n",
    "Нужно защитить данные, чтобы при преобразовании качество моделей машинного обучения не ухудшилось. Подбирать наилучшую модель не требуется."
   ]
  },
  {
   "cell_type": "markdown",
   "metadata": {},
   "source": [
    "# Описание данных"
   ]
  },
  {
   "cell_type": "markdown",
   "metadata": {},
   "source": [
    "Набор данных содержит: \n",
    "1. `Признаки`: пол, возраст и зарплата застрахованного, количество членов его семьи.\n",
    "2. `Целевой признак`: количество страховых выплат клиенту за последние 5 лет."
   ]
  },
  {
   "cell_type": "markdown",
   "metadata": {},
   "source": [
    "## Загрузка данных"
   ]
  },
  {
   "cell_type": "code",
   "execution_count": 1,
   "metadata": {},
   "outputs": [],
   "source": [
    "# загрузим необходимые библиотеки\n",
    "import pandas as pd\n",
    "import numpy as np\n",
    "from sklearn.model_selection import train_test_split\n",
    "from sklearn.linear_model import LinearRegression\n",
    "from sklearn.metrics import r2_score"
   ]
  },
  {
   "cell_type": "code",
   "execution_count": 2,
   "metadata": {},
   "outputs": [
    {
     "data": {
      "text/html": [
       "<div>\n",
       "<style scoped>\n",
       "    .dataframe tbody tr th:only-of-type {\n",
       "        vertical-align: middle;\n",
       "    }\n",
       "\n",
       "    .dataframe tbody tr th {\n",
       "        vertical-align: top;\n",
       "    }\n",
       "\n",
       "    .dataframe thead th {\n",
       "        text-align: right;\n",
       "    }\n",
       "</style>\n",
       "<table border=\"1\" class=\"dataframe\">\n",
       "  <thead>\n",
       "    <tr style=\"text-align: right;\">\n",
       "      <th></th>\n",
       "      <th>Пол</th>\n",
       "      <th>Возраст</th>\n",
       "      <th>Зарплата</th>\n",
       "      <th>Члены семьи</th>\n",
       "      <th>Страховые выплаты</th>\n",
       "    </tr>\n",
       "  </thead>\n",
       "  <tbody>\n",
       "    <tr>\n",
       "      <th>0</th>\n",
       "      <td>1</td>\n",
       "      <td>41.0</td>\n",
       "      <td>49600.0</td>\n",
       "      <td>1</td>\n",
       "      <td>0</td>\n",
       "    </tr>\n",
       "    <tr>\n",
       "      <th>1</th>\n",
       "      <td>0</td>\n",
       "      <td>46.0</td>\n",
       "      <td>38000.0</td>\n",
       "      <td>1</td>\n",
       "      <td>1</td>\n",
       "    </tr>\n",
       "    <tr>\n",
       "      <th>2</th>\n",
       "      <td>0</td>\n",
       "      <td>29.0</td>\n",
       "      <td>21000.0</td>\n",
       "      <td>0</td>\n",
       "      <td>0</td>\n",
       "    </tr>\n",
       "    <tr>\n",
       "      <th>3</th>\n",
       "      <td>0</td>\n",
       "      <td>21.0</td>\n",
       "      <td>41700.0</td>\n",
       "      <td>2</td>\n",
       "      <td>0</td>\n",
       "    </tr>\n",
       "    <tr>\n",
       "      <th>4</th>\n",
       "      <td>1</td>\n",
       "      <td>28.0</td>\n",
       "      <td>26100.0</td>\n",
       "      <td>0</td>\n",
       "      <td>0</td>\n",
       "    </tr>\n",
       "  </tbody>\n",
       "</table>\n",
       "</div>"
      ],
      "text/plain": [
       "   Пол  Возраст  Зарплата  Члены семьи  Страховые выплаты\n",
       "0    1     41.0   49600.0            1                  0\n",
       "1    0     46.0   38000.0            1                  1\n",
       "2    0     29.0   21000.0            0                  0\n",
       "3    0     21.0   41700.0            2                  0\n",
       "4    1     28.0   26100.0            0                  0"
      ]
     },
     "execution_count": 2,
     "metadata": {},
     "output_type": "execute_result"
    }
   ],
   "source": [
    "# откроем файл с данными и выведем на экран 5 строк\n",
    "data = pd.read_csv(\"/datasets/insurance.csv\")\n",
    "data.head()"
   ]
  },
  {
   "cell_type": "code",
   "execution_count": 3,
   "metadata": {
    "scrolled": false
   },
   "outputs": [
    {
     "name": "stdout",
     "output_type": "stream",
     "text": [
      "<class 'pandas.core.frame.DataFrame'>\n",
      "RangeIndex: 5000 entries, 0 to 4999\n",
      "Data columns (total 5 columns):\n",
      " #   Column             Non-Null Count  Dtype  \n",
      "---  ------             --------------  -----  \n",
      " 0   Пол                5000 non-null   int64  \n",
      " 1   Возраст            5000 non-null   float64\n",
      " 2   Зарплата           5000 non-null   float64\n",
      " 3   Члены семьи        5000 non-null   int64  \n",
      " 4   Страховые выплаты  5000 non-null   int64  \n",
      "dtypes: float64(2), int64(3)\n",
      "memory usage: 195.4 KB\n"
     ]
    }
   ],
   "source": [
    "data.info()"
   ]
  },
  {
   "cell_type": "code",
   "execution_count": 4,
   "metadata": {},
   "outputs": [
    {
     "data": {
      "text/html": [
       "<div>\n",
       "<style scoped>\n",
       "    .dataframe tbody tr th:only-of-type {\n",
       "        vertical-align: middle;\n",
       "    }\n",
       "\n",
       "    .dataframe tbody tr th {\n",
       "        vertical-align: top;\n",
       "    }\n",
       "\n",
       "    .dataframe thead th {\n",
       "        text-align: right;\n",
       "    }\n",
       "</style>\n",
       "<table border=\"1\" class=\"dataframe\">\n",
       "  <thead>\n",
       "    <tr style=\"text-align: right;\">\n",
       "      <th></th>\n",
       "      <th>Пол</th>\n",
       "      <th>Возраст</th>\n",
       "      <th>Зарплата</th>\n",
       "      <th>Члены семьи</th>\n",
       "      <th>Страховые выплаты</th>\n",
       "    </tr>\n",
       "  </thead>\n",
       "  <tbody>\n",
       "    <tr>\n",
       "      <th>count</th>\n",
       "      <td>5000.000000</td>\n",
       "      <td>5000.000000</td>\n",
       "      <td>5000.000000</td>\n",
       "      <td>5000.000000</td>\n",
       "      <td>5000.000000</td>\n",
       "    </tr>\n",
       "    <tr>\n",
       "      <th>mean</th>\n",
       "      <td>0.499000</td>\n",
       "      <td>30.952800</td>\n",
       "      <td>39916.360000</td>\n",
       "      <td>1.194200</td>\n",
       "      <td>0.148000</td>\n",
       "    </tr>\n",
       "    <tr>\n",
       "      <th>std</th>\n",
       "      <td>0.500049</td>\n",
       "      <td>8.440807</td>\n",
       "      <td>9900.083569</td>\n",
       "      <td>1.091387</td>\n",
       "      <td>0.463183</td>\n",
       "    </tr>\n",
       "    <tr>\n",
       "      <th>min</th>\n",
       "      <td>0.000000</td>\n",
       "      <td>18.000000</td>\n",
       "      <td>5300.000000</td>\n",
       "      <td>0.000000</td>\n",
       "      <td>0.000000</td>\n",
       "    </tr>\n",
       "    <tr>\n",
       "      <th>25%</th>\n",
       "      <td>0.000000</td>\n",
       "      <td>24.000000</td>\n",
       "      <td>33300.000000</td>\n",
       "      <td>0.000000</td>\n",
       "      <td>0.000000</td>\n",
       "    </tr>\n",
       "    <tr>\n",
       "      <th>50%</th>\n",
       "      <td>0.000000</td>\n",
       "      <td>30.000000</td>\n",
       "      <td>40200.000000</td>\n",
       "      <td>1.000000</td>\n",
       "      <td>0.000000</td>\n",
       "    </tr>\n",
       "    <tr>\n",
       "      <th>75%</th>\n",
       "      <td>1.000000</td>\n",
       "      <td>37.000000</td>\n",
       "      <td>46600.000000</td>\n",
       "      <td>2.000000</td>\n",
       "      <td>0.000000</td>\n",
       "    </tr>\n",
       "    <tr>\n",
       "      <th>max</th>\n",
       "      <td>1.000000</td>\n",
       "      <td>65.000000</td>\n",
       "      <td>79000.000000</td>\n",
       "      <td>6.000000</td>\n",
       "      <td>5.000000</td>\n",
       "    </tr>\n",
       "  </tbody>\n",
       "</table>\n",
       "</div>"
      ],
      "text/plain": [
       "               Пол      Возраст      Зарплата  Члены семьи  Страховые выплаты\n",
       "count  5000.000000  5000.000000   5000.000000  5000.000000        5000.000000\n",
       "mean      0.499000    30.952800  39916.360000     1.194200           0.148000\n",
       "std       0.500049     8.440807   9900.083569     1.091387           0.463183\n",
       "min       0.000000    18.000000   5300.000000     0.000000           0.000000\n",
       "25%       0.000000    24.000000  33300.000000     0.000000           0.000000\n",
       "50%       0.000000    30.000000  40200.000000     1.000000           0.000000\n",
       "75%       1.000000    37.000000  46600.000000     2.000000           0.000000\n",
       "max       1.000000    65.000000  79000.000000     6.000000           5.000000"
      ]
     },
     "execution_count": 4,
     "metadata": {},
     "output_type": "execute_result"
    }
   ],
   "source": [
    "data.describe()"
   ]
  },
  {
   "cell_type": "code",
   "execution_count": 5,
   "metadata": {
    "scrolled": true
   },
   "outputs": [
    {
     "name": "stdout",
     "output_type": "stream",
     "text": [
      "Количество дубликатов: 153\n"
     ]
    }
   ],
   "source": [
    "# проверим данные на наличие дубликатов\n",
    "print('Количество дубликатов:', data.duplicated().sum())"
   ]
  },
  {
   "cell_type": "code",
   "execution_count": 6,
   "metadata": {},
   "outputs": [],
   "source": [
    "# удаленим найденые дубликаты в данных\n",
    "\n",
    "data = data.drop_duplicates().reset_index(drop = True)"
   ]
  },
  {
   "cell_type": "code",
   "execution_count": 7,
   "metadata": {},
   "outputs": [
    {
     "name": "stdout",
     "output_type": "stream",
     "text": [
      "Количество дубликатов: 0\n"
     ]
    }
   ],
   "source": [
    "# проверим данные на наличие дубликатов\n",
    "print('Количество дубликатов:', data.duplicated().sum())"
   ]
  },
  {
   "cell_type": "markdown",
   "metadata": {},
   "source": [
    "**Вывод:**\n",
    "- таблица содержит 5000 строк без пропусков\n",
    "- нашли и удалили дубликаты в данных\n",
    "- данные готовы для работы"
   ]
  },
  {
   "cell_type": "markdown",
   "metadata": {},
   "source": [
    "## Умножение матриц"
   ]
  },
  {
   "cell_type": "markdown",
   "metadata": {},
   "source": [
    "В этом задании вы можете записывать формулы в *Jupyter Notebook.*\n",
    "\n",
    "Чтобы записать формулу внутри текста, окружите её символами доллара \\\\$; если снаружи —  двойными символами \\\\$\\\\$. Эти формулы записываются на языке вёрстки *LaTeX.* \n",
    "\n",
    "Для примера мы записали формулы линейной регрессии. Можете их скопировать и отредактировать, чтобы решить задачу.\n",
    "\n",
    "Работать в *LaTeX* необязательно."
   ]
  },
  {
   "cell_type": "markdown",
   "metadata": {},
   "source": [
    "Обозначения:\n",
    "\n",
    "- $X$ — матрица признаков (нулевой столбец состоит из единиц)\n",
    "\n",
    "- $y$ — вектор целевого признака\n",
    "\n",
    "- $P$ — матрица, на которую умножаются признаки\n",
    "\n",
    "- $w$ — вектор весов линейной регрессии (нулевой элемент равен сдвигу)"
   ]
  },
  {
   "cell_type": "markdown",
   "metadata": {},
   "source": [
    "Предсказания:\n",
    "\n",
    "$$\n",
    "a = Xw\n",
    "$$\n",
    "$$\n",
    "a_1 = XPw_1\n",
    "$$\n",
    "\n",
    "Задача обучения:\n",
    "\n",
    "$$\n",
    "w = \\arg\\min_w MSE(Xw, y)\n",
    "$$\n",
    "\n",
    "Формула обучения:\n",
    "\n",
    "$$\n",
    "w = (X^T X)^{-1} X^T y\n",
    "$$\n",
    "$$\n",
    "w_1 = ((XP)^T (XP))^{-1} (XP)^T y\n",
    "$$"
   ]
  },
  {
   "cell_type": "markdown",
   "metadata": {},
   "source": [
    "**Задание:**\n",
    "<br> Ответьте на вопрос и обоснуйте решение.\n",
    "<br> Признаки умножают на обратимую матрицу. Изменится ли качество линейной регрессии? (Её можно обучить заново.)\n",
    "<br> a. Изменится. Приведите примеры матриц.\n",
    "<br> b. Не изменится. Укажите, как связаны параметры линейной регрессии в исходной задаче и в преобразованной."
   ]
  },
  {
   "cell_type": "markdown",
   "metadata": {},
   "source": [
    "**Ответ:** качество линейной регрессии не изменится при умножении признаков на обратимую матрицу"
   ]
  },
  {
   "cell_type": "markdown",
   "metadata": {},
   "source": [
    "**Обоснование:** \n",
    "\n",
    "$$\n",
    "a = Xw = X(X^T X)^{-1}X^T y\n",
    "$$\n",
    "\n",
    "$$\n",
    "a_1 = XPw_1 = XP((XP)^T (XP))^{-1} (XP)^T y\n",
    "$$\n",
    "\n",
    "для решения понадобятся следующие свойства умножения матриц:\n",
    "$$\n",
    "(AB)^T = B^TA^T\n",
    "$$\n",
    "$$\n",
    "AA^{-1} = E\n",
    "$$\n",
    "$$\n",
    "AE = EA = A\n",
    "$$\n",
    "\n",
    "$$\n",
    "a_1 = XPw_1 = XP((XP)^T (XP))^{-1} (XP)^T y = XPP^{-1}((XP)^TX)^{-1}(XP)^Ty = XPP^{-1}((XP)^TX)^{-1}(P)^T(X)^T y = XPP^{-1}(P^TX^TX)^{-1}(P)^T(X)^T y = XPP^{-1}(X^TX)^{-1}(P^T)^{-1}(P^T)(X)^T y = XE(X^TX)^{-1}E(X)^T y = X(X^TX)^{-1}(X)^T y = Xw = a\n",
    "$$"
   ]
  },
  {
   "cell_type": "markdown",
   "metadata": {},
   "source": [
    "**Вывод:** получили из формулы предсказания $a_1$ формулу предсказания $a$, что говорит о том, что линейная регрессия не изменится при умножении признаков на обратимую матрицу $P$"
   ]
  },
  {
   "cell_type": "markdown",
   "metadata": {},
   "source": [
    "## Алгоритм преобразования"
   ]
  },
  {
   "cell_type": "markdown",
   "metadata": {},
   "source": [
    "**Задание:**\n",
    "Предложите алгоритм преобразования данных для решения задачи. Обоснуйте, почему качество линейной регрессии не поменяется."
   ]
  },
  {
   "cell_type": "markdown",
   "metadata": {},
   "source": [
    "**Алгоритм**\n",
    "<br> Для решения задачи по защите информации предлагается использовать следующие этапы:\n",
    "\n",
    "1. Выделить в наборе данных признаки\n",
    "2. Разделить данные на выборки\n",
    "3. Составить случайную квадратную матрицу $P$\n",
    "4. Провести проверку матрицы $P$ на обратимость\n",
    "5. Рассчитать матрицу преобразованных признаков $R = features*P$\n",
    "6. Применить предложенный алгоритм на преобразованных признаках $R$\n",
    "7. Рассчитать качество моделей на признаках без преобразований и приобразованных"
   ]
  },
  {
   "cell_type": "markdown",
   "metadata": {},
   "source": [
    "**Обоснование**\n",
    "<br> Матрица $P$ должна иметь необходимую размерность с $(n*n)$, $n$ - количество признаков для регрессии. \n",
    "<br> Соответственно, матрица $R$ будет иметь туже размерность, что и матрица признаков.\n",
    "<br> Исходя из теоретического доказательства выше, предсказания не должны будут различаться. \n",
    "<br> Проверим данную теорию на практике ниже:"
   ]
  },
  {
   "cell_type": "markdown",
   "metadata": {},
   "source": [
    "## Проверка алгоритма"
   ]
  },
  {
   "cell_type": "markdown",
   "metadata": {},
   "source": [
    "**Задание:**\n",
    "\n",
    "Запрограммируйте алгоритм, применив матричные операции. \n",
    "<br>Проверьте, что качество линейной регрессии из sklearn не отличается до и после преобразования. Примените метрику R2"
   ]
  },
  {
   "cell_type": "code",
   "execution_count": 8,
   "metadata": {},
   "outputs": [],
   "source": [
    "# запишем признаки:\n",
    "features = data.drop('Страховые выплаты',axis=1)\n",
    "target = data['Страховые выплаты']"
   ]
  },
  {
   "cell_type": "code",
   "execution_count": 9,
   "metadata": {},
   "outputs": [],
   "source": [
    "# разделим данные на обучающую и тестовую выборки\n",
    "features_train, features_test, target_train, target_test = train_test_split(\n",
    "    features, target, test_size=0.25, random_state=12345)"
   ]
  },
  {
   "cell_type": "code",
   "execution_count": 10,
   "metadata": {},
   "outputs": [],
   "source": [
    "# создадим матрицу по кол-ву признаков - 4х4\n",
    "P = np.random.rand(4,4)"
   ]
  },
  {
   "cell_type": "code",
   "execution_count": 11,
   "metadata": {},
   "outputs": [
    {
     "data": {
      "text/plain": [
       "array([[ 2.39830795,  7.72386665, -0.93667607, -6.64436028],\n",
       "       [ 0.71475219, -0.63511053,  3.61407107, -3.46605069],\n",
       "       [-1.08451793,  3.88501911, -4.54399415,  3.97467668],\n",
       "       [-0.54757351, -5.57480944,  0.39303037,  4.62012233]])"
      ]
     },
     "execution_count": 11,
     "metadata": {},
     "output_type": "execute_result"
    }
   ],
   "source": [
    "# проверим, является ли созданная матрица обратимой\n",
    "np.linalg.inv(P)"
   ]
  },
  {
   "cell_type": "code",
   "execution_count": 12,
   "metadata": {},
   "outputs": [],
   "source": [
    "# рассчитаем матрицу преобразованных признаков\n",
    "R = features @ P"
   ]
  },
  {
   "cell_type": "code",
   "execution_count": 13,
   "metadata": {},
   "outputs": [
    {
     "data": {
      "text/html": [
       "<div>\n",
       "<style scoped>\n",
       "    .dataframe tbody tr th:only-of-type {\n",
       "        vertical-align: middle;\n",
       "    }\n",
       "\n",
       "    .dataframe tbody tr th {\n",
       "        vertical-align: top;\n",
       "    }\n",
       "\n",
       "    .dataframe thead th {\n",
       "        text-align: right;\n",
       "    }\n",
       "</style>\n",
       "<table border=\"1\" class=\"dataframe\">\n",
       "  <thead>\n",
       "    <tr style=\"text-align: right;\">\n",
       "      <th></th>\n",
       "      <th>Пол</th>\n",
       "      <th>Возраст</th>\n",
       "      <th>Зарплата</th>\n",
       "      <th>Члены семьи</th>\n",
       "    </tr>\n",
       "  </thead>\n",
       "  <tbody>\n",
       "    <tr>\n",
       "      <th>0</th>\n",
       "      <td>1</td>\n",
       "      <td>41.0</td>\n",
       "      <td>49600.0</td>\n",
       "      <td>1</td>\n",
       "    </tr>\n",
       "    <tr>\n",
       "      <th>1</th>\n",
       "      <td>0</td>\n",
       "      <td>46.0</td>\n",
       "      <td>38000.0</td>\n",
       "      <td>1</td>\n",
       "    </tr>\n",
       "    <tr>\n",
       "      <th>2</th>\n",
       "      <td>0</td>\n",
       "      <td>29.0</td>\n",
       "      <td>21000.0</td>\n",
       "      <td>0</td>\n",
       "    </tr>\n",
       "    <tr>\n",
       "      <th>3</th>\n",
       "      <td>0</td>\n",
       "      <td>21.0</td>\n",
       "      <td>41700.0</td>\n",
       "      <td>2</td>\n",
       "    </tr>\n",
       "    <tr>\n",
       "      <th>4</th>\n",
       "      <td>1</td>\n",
       "      <td>28.0</td>\n",
       "      <td>26100.0</td>\n",
       "      <td>0</td>\n",
       "    </tr>\n",
       "  </tbody>\n",
       "</table>\n",
       "</div>"
      ],
      "text/plain": [
       "   Пол  Возраст  Зарплата  Члены семьи\n",
       "0    1     41.0   49600.0            1\n",
       "1    0     46.0   38000.0            1\n",
       "2    0     29.0   21000.0            0\n",
       "3    0     21.0   41700.0            2\n",
       "4    1     28.0   26100.0            0"
      ]
     },
     "metadata": {},
     "output_type": "display_data"
    },
    {
     "data": {
      "text/html": [
       "<div>\n",
       "<style scoped>\n",
       "    .dataframe tbody tr th:only-of-type {\n",
       "        vertical-align: middle;\n",
       "    }\n",
       "\n",
       "    .dataframe tbody tr th {\n",
       "        vertical-align: top;\n",
       "    }\n",
       "\n",
       "    .dataframe thead th {\n",
       "        text-align: right;\n",
       "    }\n",
       "</style>\n",
       "<table border=\"1\" class=\"dataframe\">\n",
       "  <thead>\n",
       "    <tr style=\"text-align: right;\">\n",
       "      <th></th>\n",
       "      <th>0</th>\n",
       "      <th>1</th>\n",
       "      <th>2</th>\n",
       "      <th>3</th>\n",
       "    </tr>\n",
       "  </thead>\n",
       "  <tbody>\n",
       "    <tr>\n",
       "      <th>0</th>\n",
       "      <td>960.908537</td>\n",
       "      <td>41793.781993</td>\n",
       "      <td>23230.073853</td>\n",
       "      <td>12751.384619</td>\n",
       "    </tr>\n",
       "    <tr>\n",
       "      <th>1</th>\n",
       "      <td>736.539577</td>\n",
       "      <td>32026.545239</td>\n",
       "      <td>17802.907812</td>\n",
       "      <td>9770.230733</td>\n",
       "    </tr>\n",
       "    <tr>\n",
       "      <th>2</th>\n",
       "      <td>407.156705</td>\n",
       "      <td>17700.339018</td>\n",
       "      <td>9839.598136</td>\n",
       "      <td>5399.499225</td>\n",
       "    </tr>\n",
       "    <tr>\n",
       "      <th>3</th>\n",
       "      <td>806.738698</td>\n",
       "      <td>35130.868503</td>\n",
       "      <td>19525.229945</td>\n",
       "      <td>10718.581474</td>\n",
       "    </tr>\n",
       "    <tr>\n",
       "      <th>4</th>\n",
       "      <td>506.224547</td>\n",
       "      <td>21995.306012</td>\n",
       "      <td>12226.248750</td>\n",
       "      <td>6710.860872</td>\n",
       "    </tr>\n",
       "  </tbody>\n",
       "</table>\n",
       "</div>"
      ],
      "text/plain": [
       "            0             1             2             3\n",
       "0  960.908537  41793.781993  23230.073853  12751.384619\n",
       "1  736.539577  32026.545239  17802.907812   9770.230733\n",
       "2  407.156705  17700.339018   9839.598136   5399.499225\n",
       "3  806.738698  35130.868503  19525.229945  10718.581474\n",
       "4  506.224547  21995.306012  12226.248750   6710.860872"
      ]
     },
     "metadata": {},
     "output_type": "display_data"
    }
   ],
   "source": [
    "# посмотрим как выглядят данные в оригинальном виде и в зашифрованном\n",
    "display(features.head())\n",
    "display(R.head())"
   ]
  },
  {
   "cell_type": "code",
   "execution_count": 14,
   "metadata": {},
   "outputs": [
    {
     "name": "stdout",
     "output_type": "stream",
     "text": [
      "R2 = 0.42308\n"
     ]
    }
   ],
   "source": [
    "# обучим модель на оригинальных данных\n",
    "model = LinearRegression()\n",
    "model.fit(features_train, target_train)\n",
    "r2_origin = r2_score(target_test, model.predict(features_test))\n",
    "print(\"R2 =\", r2_origin.round(5))"
   ]
  },
  {
   "cell_type": "code",
   "execution_count": 15,
   "metadata": {},
   "outputs": [],
   "source": [
    "# разделим данные на обучающую и тестовую выборки\n",
    "r_train, r_test, target_r_train, target_r_test = train_test_split(\n",
    "    R, target, test_size=0.25, random_state=12345)"
   ]
  },
  {
   "cell_type": "code",
   "execution_count": 16,
   "metadata": {},
   "outputs": [
    {
     "name": "stdout",
     "output_type": "stream",
     "text": [
      "R2 = 0.42308\n"
     ]
    }
   ],
   "source": [
    "# обучим модель на преобразованных данных\n",
    "lr = LinearRegression()\n",
    "lr.fit(r_train, target_r_train)\n",
    "r2_new_data = r2_score(target_r_test, lr.predict(r_test))\n",
    "print(\"R2 =\", r2_new_data.round(5))"
   ]
  },
  {
   "cell_type": "markdown",
   "metadata": {},
   "source": [
    "**Вывод:** качество моделей на обычных и преобразованных данных не изменилось"
   ]
  },
  {
   "cell_type": "markdown",
   "metadata": {},
   "source": [
    "# Вывод\n",
    "\n",
    "В ходе работы было сделано следующее:\n",
    "\n",
    "1. Загружены и изучены данные, в них выявлены дубликаты и удалены. Других аномалей не было выявлено\n",
    "2. Качество линейной регресии никак не меняется от применения исходных признаков и признаков, умноженных на обратимую случайную матрицу\n",
    "3. Создали алгоритм преобразования - зашифровки персональных данных\n",
    "4. Проверили работу алгоритма на оригинальных и преобразованных данных, проверили метрику R2 на обоих наборах данных (с преобразованием и без)\n",
    "\n",
    "На выходе получили модель для работы с зашифрованными данными посредством применения матричных операций."
   ]
  }
 ],
 "metadata": {
  "ExecuteTimeLog": [
   {
    "duration": 1253,
    "start_time": "2022-04-10T09:21:47.906Z"
   },
   {
    "duration": 28,
    "start_time": "2022-04-10T09:22:41.777Z"
   },
   {
    "duration": 13,
    "start_time": "2022-04-10T09:24:07.225Z"
   },
   {
    "duration": 24,
    "start_time": "2022-04-10T09:27:01.900Z"
   },
   {
    "duration": 6,
    "start_time": "2022-04-10T09:28:23.005Z"
   },
   {
    "duration": 6,
    "start_time": "2022-04-10T09:32:19.539Z"
   },
   {
    "duration": 7,
    "start_time": "2022-04-10T09:32:27.451Z"
   },
   {
    "duration": 5,
    "start_time": "2022-04-10T09:42:52.618Z"
   },
   {
    "duration": 3,
    "start_time": "2022-04-10T10:02:10.468Z"
   },
   {
    "duration": 2,
    "start_time": "2022-04-10T10:04:42.780Z"
   },
   {
    "duration": 5,
    "start_time": "2022-04-10T10:04:44.109Z"
   },
   {
    "duration": 116,
    "start_time": "2022-04-10T10:06:36.353Z"
   },
   {
    "duration": 8,
    "start_time": "2022-04-10T10:06:42.299Z"
   },
   {
    "duration": 4,
    "start_time": "2022-04-10T10:06:55.066Z"
   },
   {
    "duration": 10,
    "start_time": "2022-04-10T10:06:56.070Z"
   },
   {
    "duration": 9,
    "start_time": "2022-04-10T10:06:57.576Z"
   },
   {
    "duration": 16,
    "start_time": "2022-04-10T10:07:02.387Z"
   },
   {
    "duration": 10,
    "start_time": "2022-04-10T10:25:01.256Z"
   },
   {
    "duration": 11,
    "start_time": "2022-04-10T10:25:12.778Z"
   },
   {
    "duration": 7,
    "start_time": "2022-04-10T10:26:32.699Z"
   },
   {
    "duration": 8,
    "start_time": "2022-04-10T10:26:36.380Z"
   },
   {
    "duration": 8,
    "start_time": "2022-04-10T10:27:01.431Z"
   },
   {
    "duration": 5,
    "start_time": "2022-04-10T10:27:10.152Z"
   },
   {
    "duration": 2,
    "start_time": "2022-04-10T10:27:11.410Z"
   },
   {
    "duration": 6,
    "start_time": "2022-04-10T10:27:12.692Z"
   },
   {
    "duration": 12,
    "start_time": "2022-04-10T10:27:13.704Z"
   },
   {
    "duration": 12,
    "start_time": "2022-04-10T10:27:14.760Z"
   },
   {
    "duration": 1267,
    "start_time": "2022-04-10T10:27:33.129Z"
   },
   {
    "duration": 31,
    "start_time": "2022-04-10T10:27:34.398Z"
   },
   {
    "duration": 13,
    "start_time": "2022-04-10T10:27:34.430Z"
   },
   {
    "duration": 42,
    "start_time": "2022-04-10T10:27:34.445Z"
   },
   {
    "duration": 6,
    "start_time": "2022-04-10T10:27:34.489Z"
   },
   {
    "duration": 10,
    "start_time": "2022-04-10T10:27:34.497Z"
   },
   {
    "duration": 12,
    "start_time": "2022-04-10T10:27:34.509Z"
   },
   {
    "duration": 8,
    "start_time": "2022-04-10T10:27:34.523Z"
   },
   {
    "duration": 16,
    "start_time": "2022-04-10T10:27:34.541Z"
   },
   {
    "duration": 16,
    "start_time": "2022-04-10T10:27:34.559Z"
   },
   {
    "duration": 85,
    "start_time": "2022-04-10T10:27:34.578Z"
   },
   {
    "duration": 118,
    "start_time": "2022-04-10T10:27:34.740Z"
   },
   {
    "duration": 181,
    "start_time": "2022-04-10T10:27:34.860Z"
   },
   {
    "duration": 120,
    "start_time": "2022-04-10T10:27:35.046Z"
   },
   {
    "duration": 0,
    "start_time": "2022-04-10T10:27:35.168Z"
   },
   {
    "duration": 11,
    "start_time": "2022-04-10T10:28:22.839Z"
   },
   {
    "duration": 12,
    "start_time": "2022-04-10T10:28:26.970Z"
   },
   {
    "duration": 12,
    "start_time": "2022-04-10T10:28:27.919Z"
   },
   {
    "duration": 4,
    "start_time": "2022-04-10T10:29:30.999Z"
   },
   {
    "duration": 11,
    "start_time": "2022-04-10T10:29:38.763Z"
   },
   {
    "duration": 12,
    "start_time": "2022-04-10T10:30:06.505Z"
   },
   {
    "duration": 12,
    "start_time": "2022-04-10T10:30:23.951Z"
   },
   {
    "duration": 13,
    "start_time": "2022-04-10T10:30:34.555Z"
   },
   {
    "duration": 1271,
    "start_time": "2022-04-10T10:32:46.106Z"
   },
   {
    "duration": 26,
    "start_time": "2022-04-10T10:32:47.380Z"
   },
   {
    "duration": 14,
    "start_time": "2022-04-10T10:32:47.408Z"
   },
   {
    "duration": 38,
    "start_time": "2022-04-10T10:32:47.424Z"
   },
   {
    "duration": 5,
    "start_time": "2022-04-10T10:32:47.466Z"
   },
   {
    "duration": 10,
    "start_time": "2022-04-10T10:32:47.473Z"
   },
   {
    "duration": 10,
    "start_time": "2022-04-10T10:32:47.485Z"
   },
   {
    "duration": 14,
    "start_time": "2022-04-10T10:32:47.497Z"
   },
   {
    "duration": 9,
    "start_time": "2022-04-10T10:32:47.513Z"
   },
   {
    "duration": 6,
    "start_time": "2022-04-10T10:32:47.538Z"
   },
   {
    "duration": 11,
    "start_time": "2022-04-10T10:32:47.547Z"
   },
   {
    "duration": 286,
    "start_time": "2022-04-10T10:32:47.560Z"
   },
   {
    "duration": 104,
    "start_time": "2022-04-10T10:32:47.849Z"
   },
   {
    "duration": 3,
    "start_time": "2022-04-10T10:36:50.051Z"
   },
   {
    "duration": 10,
    "start_time": "2022-04-10T10:36:50.843Z"
   },
   {
    "duration": 3,
    "start_time": "2022-04-10T10:36:51.735Z"
   },
   {
    "duration": 15,
    "start_time": "2022-04-10T10:36:52.518Z"
   },
   {
    "duration": 10,
    "start_time": "2022-04-10T10:36:53.251Z"
   },
   {
    "duration": 169,
    "start_time": "2022-04-10T11:47:08.831Z"
   },
   {
    "duration": 1441,
    "start_time": "2022-04-10T11:50:33.286Z"
   },
   {
    "duration": 33,
    "start_time": "2022-04-10T11:50:34.729Z"
   },
   {
    "duration": 11,
    "start_time": "2022-04-10T11:50:34.764Z"
   },
   {
    "duration": 30,
    "start_time": "2022-04-10T11:50:34.777Z"
   },
   {
    "duration": 6,
    "start_time": "2022-04-10T11:50:34.809Z"
   },
   {
    "duration": 23,
    "start_time": "2022-04-10T11:50:34.816Z"
   },
   {
    "duration": 7,
    "start_time": "2022-04-10T11:50:34.841Z"
   },
   {
    "duration": 9,
    "start_time": "2022-04-10T11:50:34.850Z"
   },
   {
    "duration": 128,
    "start_time": "2022-04-10T11:50:34.860Z"
   },
   {
    "duration": 0,
    "start_time": "2022-04-10T11:50:34.990Z"
   },
   {
    "duration": 0,
    "start_time": "2022-04-10T11:50:34.992Z"
   },
   {
    "duration": 0,
    "start_time": "2022-04-10T11:50:34.993Z"
   },
   {
    "duration": 0,
    "start_time": "2022-04-10T11:50:34.994Z"
   },
   {
    "duration": 0,
    "start_time": "2022-04-10T11:50:34.995Z"
   },
   {
    "duration": 1,
    "start_time": "2022-04-10T11:50:34.996Z"
   },
   {
    "duration": 0,
    "start_time": "2022-04-10T11:50:34.998Z"
   },
   {
    "duration": 1223,
    "start_time": "2022-04-10T11:51:25.460Z"
   },
   {
    "duration": 26,
    "start_time": "2022-04-10T11:51:26.686Z"
   },
   {
    "duration": 12,
    "start_time": "2022-04-10T11:51:26.714Z"
   },
   {
    "duration": 48,
    "start_time": "2022-04-10T11:51:26.728Z"
   },
   {
    "duration": 7,
    "start_time": "2022-04-10T11:51:26.779Z"
   },
   {
    "duration": 16,
    "start_time": "2022-04-10T11:51:26.788Z"
   },
   {
    "duration": 10,
    "start_time": "2022-04-10T11:51:26.807Z"
   },
   {
    "duration": 20,
    "start_time": "2022-04-10T11:51:26.819Z"
   },
   {
    "duration": 7,
    "start_time": "2022-04-10T11:51:26.841Z"
   },
   {
    "duration": 16,
    "start_time": "2022-04-10T11:51:26.850Z"
   },
   {
    "duration": 18,
    "start_time": "2022-04-10T11:51:26.868Z"
   },
   {
    "duration": 304,
    "start_time": "2022-04-10T11:51:26.888Z"
   },
   {
    "duration": 0,
    "start_time": "2022-04-10T11:51:27.195Z"
   },
   {
    "duration": 0,
    "start_time": "2022-04-10T11:51:27.196Z"
   },
   {
    "duration": 0,
    "start_time": "2022-04-10T11:51:27.197Z"
   },
   {
    "duration": 0,
    "start_time": "2022-04-10T11:51:27.199Z"
   },
   {
    "duration": 13,
    "start_time": "2022-04-10T11:51:40.814Z"
   },
   {
    "duration": 155,
    "start_time": "2022-04-10T11:52:02.144Z"
   },
   {
    "duration": 11,
    "start_time": "2022-04-10T11:52:08.246Z"
   },
   {
    "duration": 3,
    "start_time": "2022-04-10T11:56:37.307Z"
   },
   {
    "duration": 5,
    "start_time": "2022-04-10T11:56:37.959Z"
   },
   {
    "duration": 5,
    "start_time": "2022-04-10T11:56:38.633Z"
   },
   {
    "duration": 10,
    "start_time": "2022-04-10T11:56:40.911Z"
   },
   {
    "duration": 4,
    "start_time": "2022-04-10T11:59:58.204Z"
   },
   {
    "duration": 3,
    "start_time": "2022-04-10T11:59:59.024Z"
   },
   {
    "duration": 5,
    "start_time": "2022-04-10T11:59:59.868Z"
   },
   {
    "duration": 4,
    "start_time": "2022-04-10T12:00:02.108Z"
   },
   {
    "duration": 3,
    "start_time": "2022-04-10T12:00:03.147Z"
   },
   {
    "duration": 12,
    "start_time": "2022-04-10T12:00:03.937Z"
   },
   {
    "duration": 12,
    "start_time": "2022-04-10T12:00:04.822Z"
   },
   {
    "duration": 7,
    "start_time": "2022-04-10T12:00:49.288Z"
   },
   {
    "duration": 25,
    "start_time": "2022-04-10T12:04:14.414Z"
   },
   {
    "duration": 22,
    "start_time": "2022-04-10T12:05:43.549Z"
   },
   {
    "duration": 1534,
    "start_time": "2022-04-10T12:07:01.666Z"
   },
   {
    "duration": 27,
    "start_time": "2022-04-10T12:07:03.203Z"
   },
   {
    "duration": 12,
    "start_time": "2022-04-10T12:07:03.238Z"
   },
   {
    "duration": 35,
    "start_time": "2022-04-10T12:07:03.252Z"
   },
   {
    "duration": 5,
    "start_time": "2022-04-10T12:07:03.290Z"
   },
   {
    "duration": 11,
    "start_time": "2022-04-10T12:07:03.297Z"
   },
   {
    "duration": 32,
    "start_time": "2022-04-10T12:07:03.310Z"
   },
   {
    "duration": 10,
    "start_time": "2022-04-10T12:07:03.344Z"
   },
   {
    "duration": 15,
    "start_time": "2022-04-10T12:07:03.356Z"
   },
   {
    "duration": 31,
    "start_time": "2022-04-10T12:07:03.373Z"
   },
   {
    "duration": 35,
    "start_time": "2022-04-10T12:07:03.407Z"
   },
   {
    "duration": 8,
    "start_time": "2022-04-10T12:07:03.445Z"
   },
   {
    "duration": 92,
    "start_time": "2022-04-10T12:07:03.457Z"
   },
   {
    "duration": 197,
    "start_time": "2022-04-10T12:07:03.554Z"
   },
   {
    "duration": 200,
    "start_time": "2022-04-10T12:07:03.754Z"
   },
   {
    "duration": 216,
    "start_time": "2022-04-10T12:07:03.956Z"
   },
   {
    "duration": 23,
    "start_time": "2022-04-10T12:07:15.172Z"
   },
   {
    "duration": 1280,
    "start_time": "2022-04-10T12:10:01.808Z"
   },
   {
    "duration": 33,
    "start_time": "2022-04-10T12:10:03.090Z"
   },
   {
    "duration": 14,
    "start_time": "2022-04-10T12:10:03.125Z"
   },
   {
    "duration": 31,
    "start_time": "2022-04-10T12:10:03.141Z"
   },
   {
    "duration": 7,
    "start_time": "2022-04-10T12:10:03.174Z"
   },
   {
    "duration": 10,
    "start_time": "2022-04-10T12:10:03.183Z"
   },
   {
    "duration": 12,
    "start_time": "2022-04-10T12:10:03.196Z"
   },
   {
    "duration": 28,
    "start_time": "2022-04-10T12:10:03.211Z"
   },
   {
    "duration": 9,
    "start_time": "2022-04-10T12:10:03.242Z"
   },
   {
    "duration": 14,
    "start_time": "2022-04-10T12:10:03.253Z"
   },
   {
    "duration": 68,
    "start_time": "2022-04-10T12:10:03.272Z"
   },
   {
    "duration": 16,
    "start_time": "2022-04-10T12:10:03.344Z"
   },
   {
    "duration": 175,
    "start_time": "2022-04-10T12:10:03.363Z"
   },
   {
    "duration": 98,
    "start_time": "2022-04-10T12:10:03.548Z"
   },
   {
    "duration": 100,
    "start_time": "2022-04-10T12:10:03.648Z"
   },
   {
    "duration": 13,
    "start_time": "2022-04-10T12:10:03.838Z"
   },
   {
    "duration": 105,
    "start_time": "2022-04-10T12:10:36.454Z"
   },
   {
    "duration": 1279,
    "start_time": "2022-04-10T12:11:26.207Z"
   },
   {
    "duration": 32,
    "start_time": "2022-04-10T12:11:27.488Z"
   },
   {
    "duration": 13,
    "start_time": "2022-04-10T12:11:27.522Z"
   },
   {
    "duration": 33,
    "start_time": "2022-04-10T12:11:27.536Z"
   },
   {
    "duration": 6,
    "start_time": "2022-04-10T12:11:27.571Z"
   },
   {
    "duration": 11,
    "start_time": "2022-04-10T12:11:27.579Z"
   },
   {
    "duration": 9,
    "start_time": "2022-04-10T12:11:27.592Z"
   },
   {
    "duration": 12,
    "start_time": "2022-04-10T12:11:27.603Z"
   },
   {
    "duration": 8,
    "start_time": "2022-04-10T12:11:27.617Z"
   },
   {
    "duration": 16,
    "start_time": "2022-04-10T12:11:27.627Z"
   },
   {
    "duration": 9,
    "start_time": "2022-04-10T12:11:27.645Z"
   },
   {
    "duration": 84,
    "start_time": "2022-04-10T12:11:27.656Z"
   },
   {
    "duration": 199,
    "start_time": "2022-04-10T12:11:27.743Z"
   },
   {
    "duration": 16,
    "start_time": "2022-04-10T12:11:27.944Z"
   },
   {
    "duration": 98,
    "start_time": "2022-04-10T12:11:28.041Z"
   },
   {
    "duration": 10,
    "start_time": "2022-04-10T12:11:28.141Z"
   },
   {
    "duration": 14,
    "start_time": "2022-04-10T12:11:28.153Z"
   },
   {
    "duration": 5,
    "start_time": "2022-04-10T12:11:50.237Z"
   },
   {
    "duration": 21,
    "start_time": "2022-04-10T12:11:59.265Z"
   },
   {
    "duration": 11,
    "start_time": "2022-04-10T12:13:04.082Z"
   },
   {
    "duration": 106,
    "start_time": "2022-04-10T12:13:14.115Z"
   },
   {
    "duration": 11,
    "start_time": "2022-04-10T12:13:25.293Z"
   },
   {
    "duration": 9,
    "start_time": "2022-04-10T12:13:36.742Z"
   },
   {
    "duration": 7,
    "start_time": "2022-04-10T12:17:13.278Z"
   },
   {
    "duration": 9,
    "start_time": "2022-04-10T12:17:35.702Z"
   },
   {
    "duration": 4,
    "start_time": "2022-04-10T12:19:47.896Z"
   },
   {
    "duration": 6,
    "start_time": "2022-04-10T12:19:49.024Z"
   },
   {
    "duration": 3,
    "start_time": "2022-04-10T12:19:51.819Z"
   },
   {
    "duration": 6,
    "start_time": "2022-04-10T12:19:53.829Z"
   },
   {
    "duration": 3,
    "start_time": "2022-04-10T12:28:29.948Z"
   },
   {
    "duration": 9,
    "start_time": "2022-04-10T12:28:30.980Z"
   },
   {
    "duration": 5,
    "start_time": "2022-04-10T12:28:41.985Z"
   },
   {
    "duration": 5,
    "start_time": "2022-04-10T12:28:50.580Z"
   },
   {
    "duration": 9,
    "start_time": "2022-04-10T12:28:56.868Z"
   },
   {
    "duration": 4,
    "start_time": "2022-04-10T12:29:05.502Z"
   },
   {
    "duration": 6,
    "start_time": "2022-04-10T12:29:06.733Z"
   },
   {
    "duration": 3,
    "start_time": "2022-04-10T12:29:07.595Z"
   },
   {
    "duration": 7,
    "start_time": "2022-04-10T12:29:08.470Z"
   },
   {
    "duration": 4,
    "start_time": "2022-04-10T12:29:09.647Z"
   },
   {
    "duration": 10,
    "start_time": "2022-04-10T12:29:11.095Z"
   },
   {
    "duration": 11,
    "start_time": "2022-04-10T12:30:47.911Z"
   },
   {
    "duration": 11,
    "start_time": "2022-04-10T12:33:17.747Z"
   },
   {
    "duration": 5,
    "start_time": "2022-04-10T12:33:22.034Z"
   },
   {
    "duration": 11,
    "start_time": "2022-04-10T12:33:22.877Z"
   },
   {
    "duration": 10,
    "start_time": "2022-04-10T12:34:25.975Z"
   },
   {
    "duration": 10,
    "start_time": "2022-04-10T12:35:00.898Z"
   },
   {
    "duration": 10,
    "start_time": "2022-04-10T12:35:05.750Z"
   },
   {
    "duration": 14,
    "start_time": "2022-04-10T12:35:25.502Z"
   },
   {
    "duration": 1282,
    "start_time": "2022-04-10T12:36:03.602Z"
   },
   {
    "duration": 26,
    "start_time": "2022-04-10T12:36:04.887Z"
   },
   {
    "duration": 11,
    "start_time": "2022-04-10T12:36:04.915Z"
   },
   {
    "duration": 27,
    "start_time": "2022-04-10T12:36:04.929Z"
   },
   {
    "duration": 5,
    "start_time": "2022-04-10T12:36:04.958Z"
   },
   {
    "duration": 13,
    "start_time": "2022-04-10T12:36:04.965Z"
   },
   {
    "duration": 9,
    "start_time": "2022-04-10T12:36:04.980Z"
   },
   {
    "duration": 11,
    "start_time": "2022-04-10T12:36:04.990Z"
   },
   {
    "duration": 14,
    "start_time": "2022-04-10T12:36:05.003Z"
   },
   {
    "duration": 22,
    "start_time": "2022-04-10T12:36:05.020Z"
   },
   {
    "duration": 4,
    "start_time": "2022-04-10T12:36:05.043Z"
   },
   {
    "duration": 100,
    "start_time": "2022-04-10T12:36:05.049Z"
   },
   {
    "duration": 88,
    "start_time": "2022-04-10T12:36:05.151Z"
   },
   {
    "duration": 19,
    "start_time": "2022-04-10T12:36:05.241Z"
   },
   {
    "duration": 177,
    "start_time": "2022-04-10T12:36:05.262Z"
   },
   {
    "duration": 97,
    "start_time": "2022-04-10T12:36:05.442Z"
   },
   {
    "duration": 20,
    "start_time": "2022-04-10T12:36:05.541Z"
   },
   {
    "duration": 12,
    "start_time": "2022-04-10T12:36:05.563Z"
   },
   {
    "duration": 12,
    "start_time": "2022-04-10T12:36:05.577Z"
   },
   {
    "duration": 48,
    "start_time": "2022-04-10T12:36:05.592Z"
   },
   {
    "duration": 103,
    "start_time": "2022-04-10T12:36:05.643Z"
   },
   {
    "duration": 10,
    "start_time": "2022-04-10T12:36:05.748Z"
   },
   {
    "duration": 14,
    "start_time": "2022-04-10T12:36:05.761Z"
   },
   {
    "duration": 17,
    "start_time": "2022-04-10T12:36:05.777Z"
   },
   {
    "duration": 1228,
    "start_time": "2022-04-10T12:51:48.141Z"
   },
   {
    "duration": 27,
    "start_time": "2022-04-10T12:51:49.371Z"
   },
   {
    "duration": 12,
    "start_time": "2022-04-10T12:51:49.400Z"
   },
   {
    "duration": 34,
    "start_time": "2022-04-10T12:51:49.414Z"
   },
   {
    "duration": 6,
    "start_time": "2022-04-10T12:51:49.451Z"
   },
   {
    "duration": 13,
    "start_time": "2022-04-10T12:51:49.459Z"
   },
   {
    "duration": 8,
    "start_time": "2022-04-10T12:51:49.474Z"
   },
   {
    "duration": 8,
    "start_time": "2022-04-10T12:51:49.486Z"
   },
   {
    "duration": 11,
    "start_time": "2022-04-10T12:51:49.495Z"
   },
   {
    "duration": 8,
    "start_time": "2022-04-10T12:51:49.507Z"
   },
   {
    "duration": 30,
    "start_time": "2022-04-10T12:51:49.516Z"
   },
   {
    "duration": 10,
    "start_time": "2022-04-10T12:51:49.548Z"
   },
   {
    "duration": 179,
    "start_time": "2022-04-10T12:51:49.560Z"
   },
   {
    "duration": 10,
    "start_time": "2022-04-10T12:51:49.742Z"
   },
   {
    "duration": 9,
    "start_time": "2022-04-10T12:51:49.753Z"
   },
   {
    "duration": 13,
    "start_time": "2022-04-10T12:51:49.764Z"
   },
   {
    "duration": 1285,
    "start_time": "2022-04-10T13:00:07.909Z"
   },
   {
    "duration": 32,
    "start_time": "2022-04-10T13:00:09.196Z"
   },
   {
    "duration": 13,
    "start_time": "2022-04-10T13:00:09.229Z"
   },
   {
    "duration": 30,
    "start_time": "2022-04-10T13:00:09.244Z"
   },
   {
    "duration": 6,
    "start_time": "2022-04-10T13:00:09.277Z"
   },
   {
    "duration": 15,
    "start_time": "2022-04-10T13:00:09.285Z"
   },
   {
    "duration": 16,
    "start_time": "2022-04-10T13:00:09.302Z"
   },
   {
    "duration": 19,
    "start_time": "2022-04-10T13:00:09.320Z"
   },
   {
    "duration": 18,
    "start_time": "2022-04-10T13:00:09.342Z"
   },
   {
    "duration": 9,
    "start_time": "2022-04-10T13:00:09.362Z"
   },
   {
    "duration": 15,
    "start_time": "2022-04-10T13:00:09.373Z"
   },
   {
    "duration": 49,
    "start_time": "2022-04-10T13:00:09.390Z"
   },
   {
    "duration": 98,
    "start_time": "2022-04-10T13:00:09.442Z"
   },
   {
    "duration": 10,
    "start_time": "2022-04-10T13:00:09.544Z"
   },
   {
    "duration": 13,
    "start_time": "2022-04-10T13:00:09.556Z"
   },
   {
    "duration": 15,
    "start_time": "2022-04-10T13:00:09.571Z"
   },
   {
    "duration": 1257,
    "start_time": "2022-04-10T13:03:37.018Z"
   },
   {
    "duration": 25,
    "start_time": "2022-04-10T13:03:38.277Z"
   },
   {
    "duration": 12,
    "start_time": "2022-04-10T13:03:38.304Z"
   },
   {
    "duration": 29,
    "start_time": "2022-04-10T13:03:38.318Z"
   },
   {
    "duration": 6,
    "start_time": "2022-04-10T13:03:38.349Z"
   },
   {
    "duration": 19,
    "start_time": "2022-04-10T13:03:38.357Z"
   },
   {
    "duration": 10,
    "start_time": "2022-04-10T13:03:38.378Z"
   },
   {
    "duration": 8,
    "start_time": "2022-04-10T13:03:38.390Z"
   },
   {
    "duration": 10,
    "start_time": "2022-04-10T13:03:38.400Z"
   },
   {
    "duration": 7,
    "start_time": "2022-04-10T13:03:38.412Z"
   },
   {
    "duration": 27,
    "start_time": "2022-04-10T13:03:38.421Z"
   },
   {
    "duration": 5,
    "start_time": "2022-04-10T13:03:38.451Z"
   },
   {
    "duration": 182,
    "start_time": "2022-04-10T13:03:38.458Z"
   },
   {
    "duration": 208,
    "start_time": "2022-04-10T13:03:38.643Z"
   },
   {
    "duration": 0,
    "start_time": "2022-04-10T13:03:38.852Z"
   },
   {
    "duration": 0,
    "start_time": "2022-04-10T13:03:38.854Z"
   },
   {
    "duration": 11,
    "start_time": "2022-04-10T13:04:15.017Z"
   },
   {
    "duration": 5,
    "start_time": "2022-04-10T13:04:18.061Z"
   },
   {
    "duration": 10,
    "start_time": "2022-04-10T13:04:20.790Z"
   },
   {
    "duration": 1258,
    "start_time": "2022-04-10T13:04:28.819Z"
   },
   {
    "duration": 26,
    "start_time": "2022-04-10T13:04:30.080Z"
   },
   {
    "duration": 13,
    "start_time": "2022-04-10T13:04:30.108Z"
   },
   {
    "duration": 40,
    "start_time": "2022-04-10T13:04:30.123Z"
   },
   {
    "duration": 6,
    "start_time": "2022-04-10T13:04:30.166Z"
   },
   {
    "duration": 32,
    "start_time": "2022-04-10T13:04:30.174Z"
   },
   {
    "duration": 13,
    "start_time": "2022-04-10T13:04:30.208Z"
   },
   {
    "duration": 18,
    "start_time": "2022-04-10T13:04:30.223Z"
   },
   {
    "duration": 24,
    "start_time": "2022-04-10T13:04:30.243Z"
   },
   {
    "duration": 18,
    "start_time": "2022-04-10T13:04:30.270Z"
   },
   {
    "duration": 26,
    "start_time": "2022-04-10T13:04:30.290Z"
   },
   {
    "duration": 23,
    "start_time": "2022-04-10T13:04:30.318Z"
   },
   {
    "duration": 111,
    "start_time": "2022-04-10T13:04:30.343Z"
   },
   {
    "duration": 11,
    "start_time": "2022-04-10T13:04:30.457Z"
   },
   {
    "duration": 16,
    "start_time": "2022-04-10T13:04:30.470Z"
   },
   {
    "duration": 59,
    "start_time": "2022-04-10T13:04:30.488Z"
   },
   {
    "duration": 1325,
    "start_time": "2022-04-10T13:08:08.345Z"
   },
   {
    "duration": 31,
    "start_time": "2022-04-10T13:08:09.673Z"
   },
   {
    "duration": 12,
    "start_time": "2022-04-10T13:08:09.706Z"
   },
   {
    "duration": 32,
    "start_time": "2022-04-10T13:08:09.720Z"
   },
   {
    "duration": 6,
    "start_time": "2022-04-10T13:08:09.754Z"
   },
   {
    "duration": 15,
    "start_time": "2022-04-10T13:08:09.762Z"
   },
   {
    "duration": 10,
    "start_time": "2022-04-10T13:08:09.779Z"
   },
   {
    "duration": 10,
    "start_time": "2022-04-10T13:08:09.791Z"
   },
   {
    "duration": 11,
    "start_time": "2022-04-10T13:08:09.803Z"
   },
   {
    "duration": 12,
    "start_time": "2022-04-10T13:08:09.816Z"
   },
   {
    "duration": 10,
    "start_time": "2022-04-10T13:08:09.838Z"
   },
   {
    "duration": 88,
    "start_time": "2022-04-10T13:08:09.851Z"
   },
   {
    "duration": 97,
    "start_time": "2022-04-10T13:08:09.942Z"
   },
   {
    "duration": 17,
    "start_time": "2022-04-10T13:08:10.043Z"
   },
   {
    "duration": 21,
    "start_time": "2022-04-10T13:08:10.062Z"
   },
   {
    "duration": 55,
    "start_time": "2022-04-10T13:08:10.086Z"
   },
   {
    "duration": 10,
    "start_time": "2022-04-10T13:09:11.415Z"
   },
   {
    "duration": 9,
    "start_time": "2022-04-10T13:09:21.783Z"
   },
   {
    "duration": 1197,
    "start_time": "2022-04-10T13:09:29.383Z"
   },
   {
    "duration": 27,
    "start_time": "2022-04-10T13:09:30.582Z"
   },
   {
    "duration": 12,
    "start_time": "2022-04-10T13:09:30.610Z"
   },
   {
    "duration": 33,
    "start_time": "2022-04-10T13:09:30.624Z"
   },
   {
    "duration": 7,
    "start_time": "2022-04-10T13:09:30.658Z"
   },
   {
    "duration": 13,
    "start_time": "2022-04-10T13:09:30.667Z"
   },
   {
    "duration": 16,
    "start_time": "2022-04-10T13:09:30.682Z"
   },
   {
    "duration": 11,
    "start_time": "2022-04-10T13:09:30.700Z"
   },
   {
    "duration": 30,
    "start_time": "2022-04-10T13:09:30.714Z"
   },
   {
    "duration": 12,
    "start_time": "2022-04-10T13:09:30.747Z"
   },
   {
    "duration": 21,
    "start_time": "2022-04-10T13:09:30.762Z"
   },
   {
    "duration": 53,
    "start_time": "2022-04-10T13:09:30.786Z"
   },
   {
    "duration": 98,
    "start_time": "2022-04-10T13:09:30.842Z"
   },
   {
    "duration": 12,
    "start_time": "2022-04-10T13:09:30.942Z"
   },
   {
    "duration": 12,
    "start_time": "2022-04-10T13:09:30.956Z"
   },
   {
    "duration": 20,
    "start_time": "2022-04-10T13:09:30.970Z"
   },
   {
    "duration": 124,
    "start_time": "2022-04-11T18:16:44.367Z"
   }
  ],
  "kernelspec": {
   "display_name": "Python 3 (ipykernel)",
   "language": "python",
   "name": "python3"
  },
  "language_info": {
   "codemirror_mode": {
    "name": "ipython",
    "version": 3
   },
   "file_extension": ".py",
   "mimetype": "text/x-python",
   "name": "python",
   "nbconvert_exporter": "python",
   "pygments_lexer": "ipython3",
   "version": "3.9.7"
  },
  "toc": {
   "base_numbering": 1,
   "nav_menu": {},
   "number_sections": true,
   "sideBar": true,
   "skip_h1_title": true,
   "title_cell": "Содержание",
   "title_sidebar": "Contents",
   "toc_cell": true,
   "toc_position": {
    "height": "calc(100% - 180px)",
    "left": "10px",
    "top": "150px",
    "width": "270.398px"
   },
   "toc_section_display": true,
   "toc_window_display": true
  }
 },
 "nbformat": 4,
 "nbformat_minor": 2
}
