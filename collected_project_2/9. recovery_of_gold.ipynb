{
 "cells": [
  {
   "cell_type": "markdown",
   "metadata": {
    "toc": true
   },
   "source": [
    "<h1>Содержание<span class=\"tocSkip\"></span></h1>\n",
    "<div class=\"toc\"><ul class=\"toc-item\"><li><span><a href=\"#Подготовка-данных\" data-toc-modified-id=\"Подготовка-данных-1\"><span class=\"toc-item-num\">1&nbsp;&nbsp;</span>Подготовка данных</a></span><ul class=\"toc-item\"><li><span><a href=\"#Открытие-данных\" data-toc-modified-id=\"Открытие-данных-1.1\"><span class=\"toc-item-num\">1.1&nbsp;&nbsp;</span>Открытие данных</a></span></li><li><span><a href=\"#-Комментарий-ревьюера-v1\" data-toc-modified-id=\"-Комментарий-ревьюера-v1-1.2\"><span class=\"toc-item-num\">1.2&nbsp;&nbsp;</span> Комментарий ревьюера v1</a></span></li><li><span><a href=\"#Проверка-расчета-эффективности-обогащения\" data-toc-modified-id=\"Проверка-расчета-эффективности-обогащения-1.3\"><span class=\"toc-item-num\">1.3&nbsp;&nbsp;</span>Проверка расчета эффективности обогащения</a></span></li><li><span><a href=\"#-Комментарий-ревьюера-v1\" data-toc-modified-id=\"-Комментарий-ревьюера-v1-1.4\"><span class=\"toc-item-num\">1.4&nbsp;&nbsp;</span> Комментарий ревьюера v1</a></span></li><li><span><a href=\"#Анализ-тестовой-выборки\" data-toc-modified-id=\"Анализ-тестовой-выборки-1.5\"><span class=\"toc-item-num\">1.5&nbsp;&nbsp;</span>Анализ тестовой выборки</a></span></li><li><span><a href=\"#Предобработка-данных\" data-toc-modified-id=\"Предобработка-данных-1.6\"><span class=\"toc-item-num\">1.6&nbsp;&nbsp;</span>Предобработка данных</a></span></li><li><span><a href=\"#-Комментарий-ревьюера-v1\" data-toc-modified-id=\"-Комментарий-ревьюера-v1-1.7\"><span class=\"toc-item-num\">1.7&nbsp;&nbsp;</span> Комментарий ревьюера v1</a></span></li><li><span><a href=\"#Вывод\" data-toc-modified-id=\"Вывод-1.8\"><span class=\"toc-item-num\">1.8&nbsp;&nbsp;</span>Вывод</a></span></li><li><span><a href=\"#-Комментарий-ревьюера-v1\" data-toc-modified-id=\"-Комментарий-ревьюера-v1-1.9\"><span class=\"toc-item-num\">1.9&nbsp;&nbsp;</span> Комментарий ревьюера v1</a></span></li></ul></li><li><span><a href=\"#Анализ-данных\" data-toc-modified-id=\"Анализ-данных-2\"><span class=\"toc-item-num\">2&nbsp;&nbsp;</span>Анализ данных</a></span><ul class=\"toc-item\"><li><span><a href=\"#Концентрация-металлов-на-этапах-очистки\" data-toc-modified-id=\"Концентрация-металлов-на-этапах-очистки-2.1\"><span class=\"toc-item-num\">2.1&nbsp;&nbsp;</span>Концентрация металлов на этапах очистки</a></span></li><li><span><a href=\"#-Комментарий-ревьюера-v1\" data-toc-modified-id=\"-Комментарий-ревьюера-v1-2.2\"><span class=\"toc-item-num\">2.2&nbsp;&nbsp;</span> Комментарий ревьюера v1</a></span></li><li><span><a href=\"#Распределение-размера-гранул-сырья\" data-toc-modified-id=\"Распределение-размера-гранул-сырья-2.3\"><span class=\"toc-item-num\">2.3&nbsp;&nbsp;</span>Распределение размера гранул сырья</a></span></li><li><span><a href=\"#-Комментарий-ревьюера-v1\" data-toc-modified-id=\"-Комментарий-ревьюера-v1-2.4\"><span class=\"toc-item-num\">2.4&nbsp;&nbsp;</span> Комментарий ревьюера v1</a></span></li><li><span><a href=\"#-Комментарий-ревьюера-v2\" data-toc-modified-id=\"-Комментарий-ревьюера-v2-2.5\"><span class=\"toc-item-num\">2.5&nbsp;&nbsp;</span> Комментарий ревьюера v2</a></span></li><li><span><a href=\"#Суммарная-концентрация-веществ-на-разных-этапах\" data-toc-modified-id=\"Суммарная-концентрация-веществ-на-разных-этапах-2.6\"><span class=\"toc-item-num\">2.6&nbsp;&nbsp;</span>Суммарная концентрация веществ на разных этапах</a></span></li><li><span><a href=\"#-Комментарий-ревьюера-v1\" data-toc-modified-id=\"-Комментарий-ревьюера-v1-2.7\"><span class=\"toc-item-num\">2.7&nbsp;&nbsp;</span> Комментарий ревьюера v1</a></span></li><li><span><a href=\"#Вывод\" data-toc-modified-id=\"Вывод-2.8\"><span class=\"toc-item-num\">2.8&nbsp;&nbsp;</span>Вывод</a></span></li></ul></li><li><span><a href=\"#Модель\" data-toc-modified-id=\"Модель-3\"><span class=\"toc-item-num\">3&nbsp;&nbsp;</span>Модель</a></span><ul class=\"toc-item\"><li><span><a href=\"#Функция-sMAPE\" data-toc-modified-id=\"Функция-sMAPE-3.1\"><span class=\"toc-item-num\">3.1&nbsp;&nbsp;</span>Функция sMAPE</a></span></li><li><span><a href=\"#-Комментарий-ревьюера-v1\" data-toc-modified-id=\"-Комментарий-ревьюера-v1-3.2\"><span class=\"toc-item-num\">3.2&nbsp;&nbsp;</span> Комментарий ревьюера v1</a></span></li><li><span><a href=\"#-Комментарий-ревьюера-v1\" data-toc-modified-id=\"-Комментарий-ревьюера-v1-3.3\"><span class=\"toc-item-num\">3.3&nbsp;&nbsp;</span> Комментарий ревьюера v1</a></span></li><li><span><a href=\"#Подготовка-признаков\" data-toc-modified-id=\"Подготовка-признаков-3.4\"><span class=\"toc-item-num\">3.4&nbsp;&nbsp;</span>Подготовка признаков</a></span></li><li><span><a href=\"#Построение-моделей-и-выбор-лучшей\" data-toc-modified-id=\"Построение-моделей-и-выбор-лучшей-3.5\"><span class=\"toc-item-num\">3.5&nbsp;&nbsp;</span>Построение моделей и выбор лучшей</a></span></li><li><span><a href=\"#-Комментарий-ревьюера-v1\" data-toc-modified-id=\"-Комментарий-ревьюера-v1-3.6\"><span class=\"toc-item-num\">3.6&nbsp;&nbsp;</span> Комментарий ревьюера v1</a></span></li><li><span><a href=\"#-Комментарий-ревьюера-v1\" data-toc-modified-id=\"-Комментарий-ревьюера-v1-3.7\"><span class=\"toc-item-num\">3.7&nbsp;&nbsp;</span> Комментарий ревьюера v1</a></span></li><li><span><a href=\"#Проверка-на-тестовой-выборке\" data-toc-modified-id=\"Проверка-на-тестовой-выборке-3.8\"><span class=\"toc-item-num\">3.8&nbsp;&nbsp;</span>Проверка на тестовой выборке</a></span></li><li><span><a href=\"#Выводы\" data-toc-modified-id=\"Выводы-3.9\"><span class=\"toc-item-num\">3.9&nbsp;&nbsp;</span>Выводы</a></span></li></ul></li><li><span><a href=\"#Вывод-по-проекту\" data-toc-modified-id=\"Вывод-по-проекту-4\"><span class=\"toc-item-num\">4&nbsp;&nbsp;</span>Вывод по проекту</a></span></li><li><span><a href=\"#Чек-лист-готовности-проекта\" data-toc-modified-id=\"Чек-лист-готовности-проекта-5\"><span class=\"toc-item-num\">5&nbsp;&nbsp;</span>Чек-лист готовности проекта</a></span><ul class=\"toc-item\"><li><span><a href=\"#-Итоговый-комментарий\" data-toc-modified-id=\"-Итоговый-комментарий-5.1\"><span class=\"toc-item-num\">5.1&nbsp;&nbsp;</span> Итоговый комментарий</a></span></li><li><span><a href=\"#-Комментарий-ревьюера-v1\" data-toc-modified-id=\"-Комментарий-ревьюера-v1-5.2\"><span class=\"toc-item-num\">5.2&nbsp;&nbsp;</span> Комментарий ревьюера v1</a></span></li></ul></li></ul></div>"
   ]
  },
  {
   "cell_type": "markdown",
   "metadata": {},
   "source": [
    "# Восстановление золота из руды"
   ]
  },
  {
   "cell_type": "markdown",
   "metadata": {},
   "source": [
    "Подготовьте прототип модели машинного обучения для «Цифры». Компания разрабатывает решения для эффективной работы промышленных предприятий.\n",
    "\n",
    "Модель должна предсказать коэффициент восстановления золота из золотосодержащей руды. Используйте данные с параметрами добычи и очистки. \n",
    "\n",
    "Модель поможет оптимизировать производство, чтобы не запускать предприятие с убыточными характеристиками.\n",
    "\n",
    "Вам нужно:\n",
    "\n",
    "1. Подготовить данные;\n",
    "2. Провести исследовательский анализ данных;\n",
    "3. Построить и обучить модель.\n",
    "\n",
    "Чтобы выполнить проект, обращайтесь к библиотекам *pandas*, *matplotlib* и *sklearn.* Вам поможет их документация."
   ]
  },
  {
   "cell_type": "markdown",
   "metadata": {},
   "source": [
    "**Технологический процесс**\n",
    "<br> Когда добытая руда проходит первичную обработку, получается дроблёная смесь. Её отправляют на флотацию (обогащение) и двухэтапную очистку.\n",
    "<br> **Флотация**\n",
    "<br> Во флотационную установку подаётся смесь золотосодержащей руды. После обогащения получается черновой концентрат и «отвальные хвосты», то есть остатки продукта с низкой концентрацией ценных металлов.\n",
    "<br> На стабильность этого процесса влияет непостоянное и неоптимальное физико-химическое состояние флотационной пульпы (смеси твёрдых частиц и жидкости).\n",
    "<br> **Очистка**\n",
    "<br> Черновой концентрат проходит две очистки. \n",
    "<br>На выходе получается финальный концентрат и новые отвальные хвосты."
   ]
  },
  {
   "cell_type": "markdown",
   "metadata": {},
   "source": [
    "# Описание проекта"
   ]
  },
  {
   "cell_type": "markdown",
   "metadata": {},
   "source": [
    "Данные находятся в трёх файлах:\n",
    "- `gold_recovery_train_new.csv` — обучающая выборка\n",
    "- `gold_recovery_test_new.csv` — тестовая выборка\n",
    "- `gold_recovery_full_new.csv` — исходные данные\n",
    "<br> Данные индексируются датой и временем получения информации (признак date). Соседние по времени параметры часто похожи.\n",
    "<br> Некоторые параметры недоступны, потому что замеряются и/или рассчитываются значительно позже. Из-за этого в тестовой выборке отсутствуют некоторые признаки, которые могут быть в обучающей. Также в тестовом наборе нет целевых признаков.\n",
    "<br> Исходный датасет содержит обучающую и тестовую выборки со всеми признаками.\n",
    "<br> В вашем распоряжении сырые данные: их просто выгрузили из хранилища. Прежде чем приступить к построению модели, проверьте по нашей инструкции их на корректность."
   ]
  },
  {
   "cell_type": "markdown",
   "metadata": {},
   "source": [
    "# Описание данных"
   ]
  },
  {
   "cell_type": "markdown",
   "metadata": {},
   "source": [
    "**Технологический процесс**\n",
    "\n",
    "- `Rougher feed` — исходное сырье\n",
    "- `Rougher additions` (или `reagent additions`) — флотационные реагенты: Xanthate, Sulphate, Depressant\n",
    "- `Xanthate` — ксантогенат (промотер, или активатор флотации)\n",
    "- `Sulphate` — сульфат (на данном производстве сульфид натрия)\n",
    "- `Depressant` — депрессант (силикат натрия)\n",
    "\n",
    "- `Rougher process` (англ. «грубый процесс») — флотация\n",
    "- `Rougher tails` — отвальные хвосты\n",
    "- `Float banks` — флотационная установка\n",
    "- `Cleaner process` — очистка\n",
    "- `Rougher Au` — черновой концентрат золота\n",
    "- `Final Au` — финальный концентрат золота\n",
    "\n",
    "**Параметры этапов**\n",
    "\n",
    "- `air amount` — объём воздуха\n",
    "- `fluid levels` — уровень жидкости\n",
    "- `feed size` — размер гранул сырья\n",
    "- `feed rate` — скорость подачи\n",
    "\n",
    "Принцип заприси наименования признаков:\n",
    "[этап].[тип_параметра].[название_параметра]\n",
    "Пример: rougher.input.feed_ag\n",
    "\n",
    "Возможные значения для блока [этап]:\n",
    "- `rougher` — флотация\n",
    "- `primary_cleaner` — первичная очистка\n",
    "- `secondary_cleaner` — вторичная очистка\n",
    "- `final` — финальные характеристики\n",
    "\n",
    "Возможные значения для блока [тип_параметра]:\n",
    "- `input` — параметры сырья\n",
    "- `output` — параметры продукта\n",
    "- `state` — параметры, характеризующие текущее состояние этапа\n",
    "- `calculation` — расчётные характеристики"
   ]
  },
  {
   "cell_type": "markdown",
   "metadata": {},
   "source": [
    "# Расчет эффективности"
   ]
  },
  {
   "cell_type": "markdown",
   "metadata": {},
   "source": [
    "Эффективность обогащения рассчитывается по формуле\n",
    "\n",
    "**Recovery = (C x (F-T)) / (F x (C-T)) x 100%**\n",
    "\n",
    "где:\n",
    "- C — доля золота в концентрате после флотации/очистки;\n",
    "- F — доля золота в сырье/концентрате до флотации/очистки;\n",
    "- T — доля золота в отвальных хвостах после флотации/очистки.\n",
    "\n",
    "Для прогноза коэффициента нужно найти долю золота в концентратах и хвостах."
   ]
  },
  {
   "cell_type": "markdown",
   "metadata": {},
   "source": [
    "## Подготовка данных"
   ]
  },
  {
   "cell_type": "markdown",
   "metadata": {},
   "source": [
    "**В ходе этапа выполним следующее:**\n",
    "\n",
    "1. Откроем файлы и изучим их.\n",
    "2. Проверим, что эффективность обогащения рассчитана правильно. \n",
    "<br> Вычислим её на обучающей выборке для признака `rougher.output.recovery`. \n",
    "<br> Найдием **MAE** между расчётами и значением признака. \n",
    "<br> Опишем выводы.\n",
    "3. Проанализируем признаки, недоступные в тестовой выборке.\n",
    "4. Проведем предобработку данных."
   ]
  },
  {
   "cell_type": "markdown",
   "metadata": {},
   "source": [
    "### Открытие данных"
   ]
  },
  {
   "cell_type": "code",
   "execution_count": 1,
   "metadata": {},
   "outputs": [],
   "source": [
    "# загрузим библиотеки, которые пригодятся при анализе и построинии модели\n",
    "\n",
    "import pandas as pd\n",
    "import numpy as np\n",
    "import scipy.stats as st\n",
    "from pandas import Series\n",
    "from numpy.random import randn\n",
    "\n",
    "from sklearn.utils import shuffle\n",
    "from sklearn.preprocessing import StandardScaler, MinMaxScaler\n",
    "from sklearn.tree import DecisionTreeRegressor\n",
    "from sklearn.ensemble import RandomForestRegressor\n",
    "from sklearn.linear_model import LinearRegression\n",
    "from sklearn.dummy import DummyRegressor\n",
    "from sklearn.pipeline import  make_pipeline\n",
    "from sklearn.model_selection import train_test_split\n",
    "from sklearn.metrics import mean_squared_error, r2_score, mean_absolute_error, make_scorer\n",
    "from sklearn.pipeline import Pipeline\n",
    "from sklearn.model_selection import cross_val_score, KFold\n",
    "\n",
    "import matplotlib.pyplot as plt"
   ]
  },
  {
   "cell_type": "code",
   "execution_count": 2,
   "metadata": {},
   "outputs": [],
   "source": [
    "# загрузим данные из трех файлов\n",
    "full_data = pd.read_csv('/datasets/gold_recovery_full.csv',parse_dates=True, index_col=0) # исходные данные\n",
    "train_data = pd.read_csv('/datasets/gold_recovery_train.csv',parse_dates=True, index_col=0) # обучающая выборка\n",
    "test_data = pd.read_csv('/datasets/gold_recovery_test.csv',parse_dates=True, index_col=0) # тестовая выборка\n"
   ]
  },
  {
   "cell_type": "code",
   "execution_count": 3,
   "metadata": {},
   "outputs": [
    {
     "name": "stdout",
     "output_type": "stream",
     "text": [
      "<class 'pandas.core.frame.DataFrame'>\n",
      "DatetimeIndex: 22716 entries, 2016-01-15 00:00:00 to 2018-08-18 10:59:59\n",
      "Data columns (total 86 columns):\n",
      " #   Column                                              Non-Null Count  Dtype  \n",
      "---  ------                                              --------------  -----  \n",
      " 0   final.output.concentrate_ag                         22627 non-null  float64\n",
      " 1   final.output.concentrate_pb                         22629 non-null  float64\n",
      " 2   final.output.concentrate_sol                        22331 non-null  float64\n",
      " 3   final.output.concentrate_au                         22630 non-null  float64\n",
      " 4   final.output.recovery                               20753 non-null  float64\n",
      " 5   final.output.tail_ag                                22633 non-null  float64\n",
      " 6   final.output.tail_pb                                22516 non-null  float64\n",
      " 7   final.output.tail_sol                               22445 non-null  float64\n",
      " 8   final.output.tail_au                                22635 non-null  float64\n",
      " 9   primary_cleaner.input.sulfate                       21107 non-null  float64\n",
      " 10  primary_cleaner.input.depressant                    21170 non-null  float64\n",
      " 11  primary_cleaner.input.feed_size                     22716 non-null  float64\n",
      " 12  primary_cleaner.input.xanthate                      21565 non-null  float64\n",
      " 13  primary_cleaner.output.concentrate_ag               22618 non-null  float64\n",
      " 14  primary_cleaner.output.concentrate_pb               22268 non-null  float64\n",
      " 15  primary_cleaner.output.concentrate_sol              21918 non-null  float64\n",
      " 16  primary_cleaner.output.concentrate_au               22618 non-null  float64\n",
      " 17  primary_cleaner.output.tail_ag                      22614 non-null  float64\n",
      " 18  primary_cleaner.output.tail_pb                      22594 non-null  float64\n",
      " 19  primary_cleaner.output.tail_sol                     22365 non-null  float64\n",
      " 20  primary_cleaner.output.tail_au                      22617 non-null  float64\n",
      " 21  primary_cleaner.state.floatbank8_a_air              22660 non-null  float64\n",
      " 22  primary_cleaner.state.floatbank8_a_level            22667 non-null  float64\n",
      " 23  primary_cleaner.state.floatbank8_b_air              22660 non-null  float64\n",
      " 24  primary_cleaner.state.floatbank8_b_level            22673 non-null  float64\n",
      " 25  primary_cleaner.state.floatbank8_c_air              22662 non-null  float64\n",
      " 26  primary_cleaner.state.floatbank8_c_level            22673 non-null  float64\n",
      " 27  primary_cleaner.state.floatbank8_d_air              22661 non-null  float64\n",
      " 28  primary_cleaner.state.floatbank8_d_level            22673 non-null  float64\n",
      " 29  rougher.calculation.sulfate_to_au_concentrate       22672 non-null  float64\n",
      " 30  rougher.calculation.floatbank10_sulfate_to_au_feed  22672 non-null  float64\n",
      " 31  rougher.calculation.floatbank11_sulfate_to_au_feed  22672 non-null  float64\n",
      " 32  rougher.calculation.au_pb_ratio                     21089 non-null  float64\n",
      " 33  rougher.input.feed_ag                               22618 non-null  float64\n",
      " 34  rougher.input.feed_pb                               22472 non-null  float64\n",
      " 35  rougher.input.feed_rate                             22163 non-null  float64\n",
      " 36  rougher.input.feed_size                             22277 non-null  float64\n",
      " 37  rougher.input.feed_sol                              22357 non-null  float64\n",
      " 38  rougher.input.feed_au                               22617 non-null  float64\n",
      " 39  rougher.input.floatbank10_sulfate                   21415 non-null  float64\n",
      " 40  rougher.input.floatbank10_xanthate                  22247 non-null  float64\n",
      " 41  rougher.input.floatbank11_sulfate                   22038 non-null  float64\n",
      " 42  rougher.input.floatbank11_xanthate                  20459 non-null  float64\n",
      " 43  rougher.output.concentrate_ag                       22618 non-null  float64\n",
      " 44  rougher.output.concentrate_pb                       22618 non-null  float64\n",
      " 45  rougher.output.concentrate_sol                      22526 non-null  float64\n",
      " 46  rougher.output.concentrate_au                       22618 non-null  float64\n",
      " 47  rougher.output.recovery                             19597 non-null  float64\n",
      " 48  rougher.output.tail_ag                              19979 non-null  float64\n",
      " 49  rougher.output.tail_pb                              22618 non-null  float64\n",
      " 50  rougher.output.tail_sol                             19980 non-null  float64\n",
      " 51  rougher.output.tail_au                              19980 non-null  float64\n",
      " 52  rougher.state.floatbank10_a_air                     22646 non-null  float64\n",
      " 53  rougher.state.floatbank10_a_level                   22647 non-null  float64\n",
      " 54  rougher.state.floatbank10_b_air                     22646 non-null  float64\n",
      " 55  rougher.state.floatbank10_b_level                   22647 non-null  float64\n",
      " 56  rougher.state.floatbank10_c_air                     22646 non-null  float64\n",
      " 57  rougher.state.floatbank10_c_level                   22654 non-null  float64\n",
      " 58  rougher.state.floatbank10_d_air                     22641 non-null  float64\n",
      " 59  rougher.state.floatbank10_d_level                   22649 non-null  float64\n",
      " 60  rougher.state.floatbank10_e_air                     22096 non-null  float64\n",
      " 61  rougher.state.floatbank10_e_level                   22649 non-null  float64\n",
      " 62  rougher.state.floatbank10_f_air                     22641 non-null  float64\n",
      " 63  rougher.state.floatbank10_f_level                   22642 non-null  float64\n",
      " 64  secondary_cleaner.output.tail_ag                    22616 non-null  float64\n",
      " 65  secondary_cleaner.output.tail_pb                    22600 non-null  float64\n",
      " 66  secondary_cleaner.output.tail_sol                   20501 non-null  float64\n",
      " 67  secondary_cleaner.output.tail_au                    22618 non-null  float64\n",
      " 68  secondary_cleaner.state.floatbank2_a_air            22333 non-null  float64\n",
      " 69  secondary_cleaner.state.floatbank2_a_level          22591 non-null  float64\n",
      " 70  secondary_cleaner.state.floatbank2_b_air            22538 non-null  float64\n",
      " 71  secondary_cleaner.state.floatbank2_b_level          22588 non-null  float64\n",
      " 72  secondary_cleaner.state.floatbank3_a_air            22585 non-null  float64\n",
      " 73  secondary_cleaner.state.floatbank3_a_level          22587 non-null  float64\n",
      " 74  secondary_cleaner.state.floatbank3_b_air            22592 non-null  float64\n",
      " 75  secondary_cleaner.state.floatbank3_b_level          22590 non-null  float64\n",
      " 76  secondary_cleaner.state.floatbank4_a_air            22571 non-null  float64\n",
      " 77  secondary_cleaner.state.floatbank4_a_level          22587 non-null  float64\n",
      " 78  secondary_cleaner.state.floatbank4_b_air            22608 non-null  float64\n",
      " 79  secondary_cleaner.state.floatbank4_b_level          22607 non-null  float64\n",
      " 80  secondary_cleaner.state.floatbank5_a_air            22615 non-null  float64\n",
      " 81  secondary_cleaner.state.floatbank5_a_level          22615 non-null  float64\n",
      " 82  secondary_cleaner.state.floatbank5_b_air            22615 non-null  float64\n",
      " 83  secondary_cleaner.state.floatbank5_b_level          22616 non-null  float64\n",
      " 84  secondary_cleaner.state.floatbank6_a_air            22597 non-null  float64\n",
      " 85  secondary_cleaner.state.floatbank6_a_level          22615 non-null  float64\n",
      "dtypes: float64(86)\n",
      "memory usage: 15.1 MB\n"
     ]
    }
   ],
   "source": [
    "full_data.info()"
   ]
  },
  {
   "cell_type": "code",
   "execution_count": 4,
   "metadata": {
    "scrolled": true
   },
   "outputs": [
    {
     "data": {
      "text/html": [
       "<div>\n",
       "<style scoped>\n",
       "    .dataframe tbody tr th:only-of-type {\n",
       "        vertical-align: middle;\n",
       "    }\n",
       "\n",
       "    .dataframe tbody tr th {\n",
       "        vertical-align: top;\n",
       "    }\n",
       "\n",
       "    .dataframe thead th {\n",
       "        text-align: right;\n",
       "    }\n",
       "</style>\n",
       "<table border=\"1\" class=\"dataframe\">\n",
       "  <thead>\n",
       "    <tr style=\"text-align: right;\">\n",
       "      <th></th>\n",
       "      <th>final.output.concentrate_ag</th>\n",
       "      <th>final.output.concentrate_pb</th>\n",
       "      <th>final.output.concentrate_sol</th>\n",
       "      <th>final.output.concentrate_au</th>\n",
       "      <th>final.output.recovery</th>\n",
       "      <th>final.output.tail_ag</th>\n",
       "      <th>final.output.tail_pb</th>\n",
       "      <th>final.output.tail_sol</th>\n",
       "      <th>final.output.tail_au</th>\n",
       "      <th>primary_cleaner.input.sulfate</th>\n",
       "      <th>...</th>\n",
       "      <th>secondary_cleaner.state.floatbank4_a_air</th>\n",
       "      <th>secondary_cleaner.state.floatbank4_a_level</th>\n",
       "      <th>secondary_cleaner.state.floatbank4_b_air</th>\n",
       "      <th>secondary_cleaner.state.floatbank4_b_level</th>\n",
       "      <th>secondary_cleaner.state.floatbank5_a_air</th>\n",
       "      <th>secondary_cleaner.state.floatbank5_a_level</th>\n",
       "      <th>secondary_cleaner.state.floatbank5_b_air</th>\n",
       "      <th>secondary_cleaner.state.floatbank5_b_level</th>\n",
       "      <th>secondary_cleaner.state.floatbank6_a_air</th>\n",
       "      <th>secondary_cleaner.state.floatbank6_a_level</th>\n",
       "    </tr>\n",
       "    <tr>\n",
       "      <th>date</th>\n",
       "      <th></th>\n",
       "      <th></th>\n",
       "      <th></th>\n",
       "      <th></th>\n",
       "      <th></th>\n",
       "      <th></th>\n",
       "      <th></th>\n",
       "      <th></th>\n",
       "      <th></th>\n",
       "      <th></th>\n",
       "      <th></th>\n",
       "      <th></th>\n",
       "      <th></th>\n",
       "      <th></th>\n",
       "      <th></th>\n",
       "      <th></th>\n",
       "      <th></th>\n",
       "      <th></th>\n",
       "      <th></th>\n",
       "      <th></th>\n",
       "      <th></th>\n",
       "    </tr>\n",
       "  </thead>\n",
       "  <tbody>\n",
       "    <tr>\n",
       "      <th>2016-01-15 00:00:00</th>\n",
       "      <td>6.055403</td>\n",
       "      <td>9.889648</td>\n",
       "      <td>5.507324</td>\n",
       "      <td>42.192020</td>\n",
       "      <td>70.541216</td>\n",
       "      <td>10.411962</td>\n",
       "      <td>0.895447</td>\n",
       "      <td>16.904297</td>\n",
       "      <td>2.143149</td>\n",
       "      <td>127.092003</td>\n",
       "      <td>...</td>\n",
       "      <td>14.016835</td>\n",
       "      <td>-502.488007</td>\n",
       "      <td>12.099931</td>\n",
       "      <td>-504.715942</td>\n",
       "      <td>9.925633</td>\n",
       "      <td>-498.310211</td>\n",
       "      <td>8.079666</td>\n",
       "      <td>-500.470978</td>\n",
       "      <td>14.151341</td>\n",
       "      <td>-605.841980</td>\n",
       "    </tr>\n",
       "    <tr>\n",
       "      <th>2016-01-15 01:00:00</th>\n",
       "      <td>6.029369</td>\n",
       "      <td>9.968944</td>\n",
       "      <td>5.257781</td>\n",
       "      <td>42.701629</td>\n",
       "      <td>69.266198</td>\n",
       "      <td>10.462676</td>\n",
       "      <td>0.927452</td>\n",
       "      <td>16.634514</td>\n",
       "      <td>2.224930</td>\n",
       "      <td>125.629232</td>\n",
       "      <td>...</td>\n",
       "      <td>13.992281</td>\n",
       "      <td>-505.503262</td>\n",
       "      <td>11.950531</td>\n",
       "      <td>-501.331529</td>\n",
       "      <td>10.039245</td>\n",
       "      <td>-500.169983</td>\n",
       "      <td>7.984757</td>\n",
       "      <td>-500.582168</td>\n",
       "      <td>13.998353</td>\n",
       "      <td>-599.787184</td>\n",
       "    </tr>\n",
       "    <tr>\n",
       "      <th>2016-01-15 02:00:00</th>\n",
       "      <td>6.055926</td>\n",
       "      <td>10.213995</td>\n",
       "      <td>5.383759</td>\n",
       "      <td>42.657501</td>\n",
       "      <td>68.116445</td>\n",
       "      <td>10.507046</td>\n",
       "      <td>0.953716</td>\n",
       "      <td>16.208849</td>\n",
       "      <td>2.257889</td>\n",
       "      <td>123.819808</td>\n",
       "      <td>...</td>\n",
       "      <td>14.015015</td>\n",
       "      <td>-502.520901</td>\n",
       "      <td>11.912783</td>\n",
       "      <td>-501.133383</td>\n",
       "      <td>10.070913</td>\n",
       "      <td>-500.129135</td>\n",
       "      <td>8.013877</td>\n",
       "      <td>-500.517572</td>\n",
       "      <td>14.028663</td>\n",
       "      <td>-601.427363</td>\n",
       "    </tr>\n",
       "    <tr>\n",
       "      <th>2016-01-15 03:00:00</th>\n",
       "      <td>6.047977</td>\n",
       "      <td>9.977019</td>\n",
       "      <td>4.858634</td>\n",
       "      <td>42.689819</td>\n",
       "      <td>68.347543</td>\n",
       "      <td>10.422762</td>\n",
       "      <td>0.883763</td>\n",
       "      <td>16.532835</td>\n",
       "      <td>2.146849</td>\n",
       "      <td>122.270188</td>\n",
       "      <td>...</td>\n",
       "      <td>14.036510</td>\n",
       "      <td>-500.857308</td>\n",
       "      <td>11.999550</td>\n",
       "      <td>-501.193686</td>\n",
       "      <td>9.970366</td>\n",
       "      <td>-499.201640</td>\n",
       "      <td>7.977324</td>\n",
       "      <td>-500.255908</td>\n",
       "      <td>14.005551</td>\n",
       "      <td>-599.996129</td>\n",
       "    </tr>\n",
       "  </tbody>\n",
       "</table>\n",
       "<p>4 rows × 86 columns</p>\n",
       "</div>"
      ],
      "text/plain": [
       "                     final.output.concentrate_ag  final.output.concentrate_pb  \\\n",
       "date                                                                            \n",
       "2016-01-15 00:00:00                     6.055403                     9.889648   \n",
       "2016-01-15 01:00:00                     6.029369                     9.968944   \n",
       "2016-01-15 02:00:00                     6.055926                    10.213995   \n",
       "2016-01-15 03:00:00                     6.047977                     9.977019   \n",
       "\n",
       "                     final.output.concentrate_sol  \\\n",
       "date                                                \n",
       "2016-01-15 00:00:00                      5.507324   \n",
       "2016-01-15 01:00:00                      5.257781   \n",
       "2016-01-15 02:00:00                      5.383759   \n",
       "2016-01-15 03:00:00                      4.858634   \n",
       "\n",
       "                     final.output.concentrate_au  final.output.recovery  \\\n",
       "date                                                                      \n",
       "2016-01-15 00:00:00                    42.192020              70.541216   \n",
       "2016-01-15 01:00:00                    42.701629              69.266198   \n",
       "2016-01-15 02:00:00                    42.657501              68.116445   \n",
       "2016-01-15 03:00:00                    42.689819              68.347543   \n",
       "\n",
       "                     final.output.tail_ag  final.output.tail_pb  \\\n",
       "date                                                              \n",
       "2016-01-15 00:00:00             10.411962              0.895447   \n",
       "2016-01-15 01:00:00             10.462676              0.927452   \n",
       "2016-01-15 02:00:00             10.507046              0.953716   \n",
       "2016-01-15 03:00:00             10.422762              0.883763   \n",
       "\n",
       "                     final.output.tail_sol  final.output.tail_au  \\\n",
       "date                                                               \n",
       "2016-01-15 00:00:00              16.904297              2.143149   \n",
       "2016-01-15 01:00:00              16.634514              2.224930   \n",
       "2016-01-15 02:00:00              16.208849              2.257889   \n",
       "2016-01-15 03:00:00              16.532835              2.146849   \n",
       "\n",
       "                     primary_cleaner.input.sulfate  ...  \\\n",
       "date                                                ...   \n",
       "2016-01-15 00:00:00                     127.092003  ...   \n",
       "2016-01-15 01:00:00                     125.629232  ...   \n",
       "2016-01-15 02:00:00                     123.819808  ...   \n",
       "2016-01-15 03:00:00                     122.270188  ...   \n",
       "\n",
       "                     secondary_cleaner.state.floatbank4_a_air  \\\n",
       "date                                                            \n",
       "2016-01-15 00:00:00                                 14.016835   \n",
       "2016-01-15 01:00:00                                 13.992281   \n",
       "2016-01-15 02:00:00                                 14.015015   \n",
       "2016-01-15 03:00:00                                 14.036510   \n",
       "\n",
       "                     secondary_cleaner.state.floatbank4_a_level  \\\n",
       "date                                                              \n",
       "2016-01-15 00:00:00                                 -502.488007   \n",
       "2016-01-15 01:00:00                                 -505.503262   \n",
       "2016-01-15 02:00:00                                 -502.520901   \n",
       "2016-01-15 03:00:00                                 -500.857308   \n",
       "\n",
       "                     secondary_cleaner.state.floatbank4_b_air  \\\n",
       "date                                                            \n",
       "2016-01-15 00:00:00                                 12.099931   \n",
       "2016-01-15 01:00:00                                 11.950531   \n",
       "2016-01-15 02:00:00                                 11.912783   \n",
       "2016-01-15 03:00:00                                 11.999550   \n",
       "\n",
       "                     secondary_cleaner.state.floatbank4_b_level  \\\n",
       "date                                                              \n",
       "2016-01-15 00:00:00                                 -504.715942   \n",
       "2016-01-15 01:00:00                                 -501.331529   \n",
       "2016-01-15 02:00:00                                 -501.133383   \n",
       "2016-01-15 03:00:00                                 -501.193686   \n",
       "\n",
       "                     secondary_cleaner.state.floatbank5_a_air  \\\n",
       "date                                                            \n",
       "2016-01-15 00:00:00                                  9.925633   \n",
       "2016-01-15 01:00:00                                 10.039245   \n",
       "2016-01-15 02:00:00                                 10.070913   \n",
       "2016-01-15 03:00:00                                  9.970366   \n",
       "\n",
       "                     secondary_cleaner.state.floatbank5_a_level  \\\n",
       "date                                                              \n",
       "2016-01-15 00:00:00                                 -498.310211   \n",
       "2016-01-15 01:00:00                                 -500.169983   \n",
       "2016-01-15 02:00:00                                 -500.129135   \n",
       "2016-01-15 03:00:00                                 -499.201640   \n",
       "\n",
       "                     secondary_cleaner.state.floatbank5_b_air  \\\n",
       "date                                                            \n",
       "2016-01-15 00:00:00                                  8.079666   \n",
       "2016-01-15 01:00:00                                  7.984757   \n",
       "2016-01-15 02:00:00                                  8.013877   \n",
       "2016-01-15 03:00:00                                  7.977324   \n",
       "\n",
       "                     secondary_cleaner.state.floatbank5_b_level  \\\n",
       "date                                                              \n",
       "2016-01-15 00:00:00                                 -500.470978   \n",
       "2016-01-15 01:00:00                                 -500.582168   \n",
       "2016-01-15 02:00:00                                 -500.517572   \n",
       "2016-01-15 03:00:00                                 -500.255908   \n",
       "\n",
       "                     secondary_cleaner.state.floatbank6_a_air  \\\n",
       "date                                                            \n",
       "2016-01-15 00:00:00                                 14.151341   \n",
       "2016-01-15 01:00:00                                 13.998353   \n",
       "2016-01-15 02:00:00                                 14.028663   \n",
       "2016-01-15 03:00:00                                 14.005551   \n",
       "\n",
       "                     secondary_cleaner.state.floatbank6_a_level  \n",
       "date                                                             \n",
       "2016-01-15 00:00:00                                 -605.841980  \n",
       "2016-01-15 01:00:00                                 -599.787184  \n",
       "2016-01-15 02:00:00                                 -601.427363  \n",
       "2016-01-15 03:00:00                                 -599.996129  \n",
       "\n",
       "[4 rows x 86 columns]"
      ]
     },
     "execution_count": 4,
     "metadata": {},
     "output_type": "execute_result"
    }
   ],
   "source": [
    "full_data.head(4)"
   ]
  },
  {
   "cell_type": "code",
   "execution_count": 5,
   "metadata": {},
   "outputs": [
    {
     "data": {
      "text/plain": [
       "primary_cleaner.input.feed_size                   0.0\n",
       "primary_cleaner.state.floatbank8_c_level          0.2\n",
       "primary_cleaner.state.floatbank8_b_level          0.2\n",
       "primary_cleaner.state.floatbank8_d_level          0.2\n",
       "rougher.calculation.sulfate_to_au_concentrate     0.2\n",
       "                                                 ... \n",
       "rougher.input.floatbank11_xanthate                9.9\n",
       "rougher.output.tail_au                           12.0\n",
       "rougher.output.tail_sol                          12.0\n",
       "rougher.output.tail_ag                           12.0\n",
       "rougher.output.recovery                          13.7\n",
       "Length: 86, dtype: float64"
      ]
     },
     "execution_count": 5,
     "metadata": {},
     "output_type": "execute_result"
    }
   ],
   "source": [
    "# посчитаем пропуски в процентах от всех записей\n",
    "full_data.isna().mean().sort_values().round(3)*100"
   ]
  },
  {
   "cell_type": "code",
   "execution_count": 6,
   "metadata": {},
   "outputs": [
    {
     "name": "stdout",
     "output_type": "stream",
     "text": [
      "<class 'pandas.core.frame.DataFrame'>\n",
      "DatetimeIndex: 16860 entries, 2016-01-15 00:00:00 to 2018-08-18 10:59:59\n",
      "Data columns (total 86 columns):\n",
      " #   Column                                              Non-Null Count  Dtype  \n",
      "---  ------                                              --------------  -----  \n",
      " 0   final.output.concentrate_ag                         16788 non-null  float64\n",
      " 1   final.output.concentrate_pb                         16788 non-null  float64\n",
      " 2   final.output.concentrate_sol                        16490 non-null  float64\n",
      " 3   final.output.concentrate_au                         16789 non-null  float64\n",
      " 4   final.output.recovery                               15339 non-null  float64\n",
      " 5   final.output.tail_ag                                16794 non-null  float64\n",
      " 6   final.output.tail_pb                                16677 non-null  float64\n",
      " 7   final.output.tail_sol                               16715 non-null  float64\n",
      " 8   final.output.tail_au                                16794 non-null  float64\n",
      " 9   primary_cleaner.input.sulfate                       15553 non-null  float64\n",
      " 10  primary_cleaner.input.depressant                    15598 non-null  float64\n",
      " 11  primary_cleaner.input.feed_size                     16860 non-null  float64\n",
      " 12  primary_cleaner.input.xanthate                      15875 non-null  float64\n",
      " 13  primary_cleaner.output.concentrate_ag               16778 non-null  float64\n",
      " 14  primary_cleaner.output.concentrate_pb               16502 non-null  float64\n",
      " 15  primary_cleaner.output.concentrate_sol              16224 non-null  float64\n",
      " 16  primary_cleaner.output.concentrate_au               16778 non-null  float64\n",
      " 17  primary_cleaner.output.tail_ag                      16777 non-null  float64\n",
      " 18  primary_cleaner.output.tail_pb                      16761 non-null  float64\n",
      " 19  primary_cleaner.output.tail_sol                     16579 non-null  float64\n",
      " 20  primary_cleaner.output.tail_au                      16777 non-null  float64\n",
      " 21  primary_cleaner.state.floatbank8_a_air              16820 non-null  float64\n",
      " 22  primary_cleaner.state.floatbank8_a_level            16827 non-null  float64\n",
      " 23  primary_cleaner.state.floatbank8_b_air              16820 non-null  float64\n",
      " 24  primary_cleaner.state.floatbank8_b_level            16833 non-null  float64\n",
      " 25  primary_cleaner.state.floatbank8_c_air              16822 non-null  float64\n",
      " 26  primary_cleaner.state.floatbank8_c_level            16833 non-null  float64\n",
      " 27  primary_cleaner.state.floatbank8_d_air              16821 non-null  float64\n",
      " 28  primary_cleaner.state.floatbank8_d_level            16833 non-null  float64\n",
      " 29  rougher.calculation.sulfate_to_au_concentrate       16833 non-null  float64\n",
      " 30  rougher.calculation.floatbank10_sulfate_to_au_feed  16833 non-null  float64\n",
      " 31  rougher.calculation.floatbank11_sulfate_to_au_feed  16833 non-null  float64\n",
      " 32  rougher.calculation.au_pb_ratio                     15618 non-null  float64\n",
      " 33  rougher.input.feed_ag                               16778 non-null  float64\n",
      " 34  rougher.input.feed_pb                               16632 non-null  float64\n",
      " 35  rougher.input.feed_rate                             16347 non-null  float64\n",
      " 36  rougher.input.feed_size                             16443 non-null  float64\n",
      " 37  rougher.input.feed_sol                              16568 non-null  float64\n",
      " 38  rougher.input.feed_au                               16777 non-null  float64\n",
      " 39  rougher.input.floatbank10_sulfate                   15816 non-null  float64\n",
      " 40  rougher.input.floatbank10_xanthate                  16514 non-null  float64\n",
      " 41  rougher.input.floatbank11_sulfate                   16237 non-null  float64\n",
      " 42  rougher.input.floatbank11_xanthate                  14956 non-null  float64\n",
      " 43  rougher.output.concentrate_ag                       16778 non-null  float64\n",
      " 44  rougher.output.concentrate_pb                       16778 non-null  float64\n",
      " 45  rougher.output.concentrate_sol                      16698 non-null  float64\n",
      " 46  rougher.output.concentrate_au                       16778 non-null  float64\n",
      " 47  rougher.output.recovery                             14287 non-null  float64\n",
      " 48  rougher.output.tail_ag                              14610 non-null  float64\n",
      " 49  rougher.output.tail_pb                              16778 non-null  float64\n",
      " 50  rougher.output.tail_sol                             14611 non-null  float64\n",
      " 51  rougher.output.tail_au                              14611 non-null  float64\n",
      " 52  rougher.state.floatbank10_a_air                     16807 non-null  float64\n",
      " 53  rougher.state.floatbank10_a_level                   16807 non-null  float64\n",
      " 54  rougher.state.floatbank10_b_air                     16807 non-null  float64\n",
      " 55  rougher.state.floatbank10_b_level                   16807 non-null  float64\n",
      " 56  rougher.state.floatbank10_c_air                     16807 non-null  float64\n",
      " 57  rougher.state.floatbank10_c_level                   16814 non-null  float64\n",
      " 58  rougher.state.floatbank10_d_air                     16802 non-null  float64\n",
      " 59  rougher.state.floatbank10_d_level                   16809 non-null  float64\n",
      " 60  rougher.state.floatbank10_e_air                     16257 non-null  float64\n",
      " 61  rougher.state.floatbank10_e_level                   16809 non-null  float64\n",
      " 62  rougher.state.floatbank10_f_air                     16802 non-null  float64\n",
      " 63  rougher.state.floatbank10_f_level                   16802 non-null  float64\n",
      " 64  secondary_cleaner.output.tail_ag                    16776 non-null  float64\n",
      " 65  secondary_cleaner.output.tail_pb                    16764 non-null  float64\n",
      " 66  secondary_cleaner.output.tail_sol                   14874 non-null  float64\n",
      " 67  secondary_cleaner.output.tail_au                    16778 non-null  float64\n",
      " 68  secondary_cleaner.state.floatbank2_a_air            16497 non-null  float64\n",
      " 69  secondary_cleaner.state.floatbank2_a_level          16751 non-null  float64\n",
      " 70  secondary_cleaner.state.floatbank2_b_air            16705 non-null  float64\n",
      " 71  secondary_cleaner.state.floatbank2_b_level          16748 non-null  float64\n",
      " 72  secondary_cleaner.state.floatbank3_a_air            16763 non-null  float64\n",
      " 73  secondary_cleaner.state.floatbank3_a_level          16747 non-null  float64\n",
      " 74  secondary_cleaner.state.floatbank3_b_air            16752 non-null  float64\n",
      " 75  secondary_cleaner.state.floatbank3_b_level          16750 non-null  float64\n",
      " 76  secondary_cleaner.state.floatbank4_a_air            16731 non-null  float64\n",
      " 77  secondary_cleaner.state.floatbank4_a_level          16747 non-null  float64\n",
      " 78  secondary_cleaner.state.floatbank4_b_air            16768 non-null  float64\n",
      " 79  secondary_cleaner.state.floatbank4_b_level          16767 non-null  float64\n",
      " 80  secondary_cleaner.state.floatbank5_a_air            16775 non-null  float64\n",
      " 81  secondary_cleaner.state.floatbank5_a_level          16775 non-null  float64\n",
      " 82  secondary_cleaner.state.floatbank5_b_air            16775 non-null  float64\n",
      " 83  secondary_cleaner.state.floatbank5_b_level          16776 non-null  float64\n",
      " 84  secondary_cleaner.state.floatbank6_a_air            16757 non-null  float64\n",
      " 85  secondary_cleaner.state.floatbank6_a_level          16775 non-null  float64\n",
      "dtypes: float64(86)\n",
      "memory usage: 11.2 MB\n"
     ]
    }
   ],
   "source": [
    "train_data.info()"
   ]
  },
  {
   "cell_type": "code",
   "execution_count": 7,
   "metadata": {
    "scrolled": true
   },
   "outputs": [
    {
     "data": {
      "text/html": [
       "<div>\n",
       "<style scoped>\n",
       "    .dataframe tbody tr th:only-of-type {\n",
       "        vertical-align: middle;\n",
       "    }\n",
       "\n",
       "    .dataframe tbody tr th {\n",
       "        vertical-align: top;\n",
       "    }\n",
       "\n",
       "    .dataframe thead th {\n",
       "        text-align: right;\n",
       "    }\n",
       "</style>\n",
       "<table border=\"1\" class=\"dataframe\">\n",
       "  <thead>\n",
       "    <tr style=\"text-align: right;\">\n",
       "      <th></th>\n",
       "      <th>final.output.concentrate_ag</th>\n",
       "      <th>final.output.concentrate_pb</th>\n",
       "      <th>final.output.concentrate_sol</th>\n",
       "      <th>final.output.concentrate_au</th>\n",
       "      <th>final.output.recovery</th>\n",
       "      <th>final.output.tail_ag</th>\n",
       "      <th>final.output.tail_pb</th>\n",
       "      <th>final.output.tail_sol</th>\n",
       "      <th>final.output.tail_au</th>\n",
       "      <th>primary_cleaner.input.sulfate</th>\n",
       "      <th>...</th>\n",
       "      <th>secondary_cleaner.state.floatbank4_a_air</th>\n",
       "      <th>secondary_cleaner.state.floatbank4_a_level</th>\n",
       "      <th>secondary_cleaner.state.floatbank4_b_air</th>\n",
       "      <th>secondary_cleaner.state.floatbank4_b_level</th>\n",
       "      <th>secondary_cleaner.state.floatbank5_a_air</th>\n",
       "      <th>secondary_cleaner.state.floatbank5_a_level</th>\n",
       "      <th>secondary_cleaner.state.floatbank5_b_air</th>\n",
       "      <th>secondary_cleaner.state.floatbank5_b_level</th>\n",
       "      <th>secondary_cleaner.state.floatbank6_a_air</th>\n",
       "      <th>secondary_cleaner.state.floatbank6_a_level</th>\n",
       "    </tr>\n",
       "    <tr>\n",
       "      <th>date</th>\n",
       "      <th></th>\n",
       "      <th></th>\n",
       "      <th></th>\n",
       "      <th></th>\n",
       "      <th></th>\n",
       "      <th></th>\n",
       "      <th></th>\n",
       "      <th></th>\n",
       "      <th></th>\n",
       "      <th></th>\n",
       "      <th></th>\n",
       "      <th></th>\n",
       "      <th></th>\n",
       "      <th></th>\n",
       "      <th></th>\n",
       "      <th></th>\n",
       "      <th></th>\n",
       "      <th></th>\n",
       "      <th></th>\n",
       "      <th></th>\n",
       "      <th></th>\n",
       "    </tr>\n",
       "  </thead>\n",
       "  <tbody>\n",
       "    <tr>\n",
       "      <th>2016-01-15 00:00:00</th>\n",
       "      <td>6.055403</td>\n",
       "      <td>9.889648</td>\n",
       "      <td>5.507324</td>\n",
       "      <td>42.192020</td>\n",
       "      <td>70.541216</td>\n",
       "      <td>10.411962</td>\n",
       "      <td>0.895447</td>\n",
       "      <td>16.904297</td>\n",
       "      <td>2.143149</td>\n",
       "      <td>127.092003</td>\n",
       "      <td>...</td>\n",
       "      <td>14.016835</td>\n",
       "      <td>-502.488007</td>\n",
       "      <td>12.099931</td>\n",
       "      <td>-504.715942</td>\n",
       "      <td>9.925633</td>\n",
       "      <td>-498.310211</td>\n",
       "      <td>8.079666</td>\n",
       "      <td>-500.470978</td>\n",
       "      <td>14.151341</td>\n",
       "      <td>-605.841980</td>\n",
       "    </tr>\n",
       "    <tr>\n",
       "      <th>2016-01-15 01:00:00</th>\n",
       "      <td>6.029369</td>\n",
       "      <td>9.968944</td>\n",
       "      <td>5.257781</td>\n",
       "      <td>42.701629</td>\n",
       "      <td>69.266198</td>\n",
       "      <td>10.462676</td>\n",
       "      <td>0.927452</td>\n",
       "      <td>16.634514</td>\n",
       "      <td>2.224930</td>\n",
       "      <td>125.629232</td>\n",
       "      <td>...</td>\n",
       "      <td>13.992281</td>\n",
       "      <td>-505.503262</td>\n",
       "      <td>11.950531</td>\n",
       "      <td>-501.331529</td>\n",
       "      <td>10.039245</td>\n",
       "      <td>-500.169983</td>\n",
       "      <td>7.984757</td>\n",
       "      <td>-500.582168</td>\n",
       "      <td>13.998353</td>\n",
       "      <td>-599.787184</td>\n",
       "    </tr>\n",
       "    <tr>\n",
       "      <th>2016-01-15 02:00:00</th>\n",
       "      <td>6.055926</td>\n",
       "      <td>10.213995</td>\n",
       "      <td>5.383759</td>\n",
       "      <td>42.657501</td>\n",
       "      <td>68.116445</td>\n",
       "      <td>10.507046</td>\n",
       "      <td>0.953716</td>\n",
       "      <td>16.208849</td>\n",
       "      <td>2.257889</td>\n",
       "      <td>123.819808</td>\n",
       "      <td>...</td>\n",
       "      <td>14.015015</td>\n",
       "      <td>-502.520901</td>\n",
       "      <td>11.912783</td>\n",
       "      <td>-501.133383</td>\n",
       "      <td>10.070913</td>\n",
       "      <td>-500.129135</td>\n",
       "      <td>8.013877</td>\n",
       "      <td>-500.517572</td>\n",
       "      <td>14.028663</td>\n",
       "      <td>-601.427363</td>\n",
       "    </tr>\n",
       "    <tr>\n",
       "      <th>2016-01-15 03:00:00</th>\n",
       "      <td>6.047977</td>\n",
       "      <td>9.977019</td>\n",
       "      <td>4.858634</td>\n",
       "      <td>42.689819</td>\n",
       "      <td>68.347543</td>\n",
       "      <td>10.422762</td>\n",
       "      <td>0.883763</td>\n",
       "      <td>16.532835</td>\n",
       "      <td>2.146849</td>\n",
       "      <td>122.270188</td>\n",
       "      <td>...</td>\n",
       "      <td>14.036510</td>\n",
       "      <td>-500.857308</td>\n",
       "      <td>11.999550</td>\n",
       "      <td>-501.193686</td>\n",
       "      <td>9.970366</td>\n",
       "      <td>-499.201640</td>\n",
       "      <td>7.977324</td>\n",
       "      <td>-500.255908</td>\n",
       "      <td>14.005551</td>\n",
       "      <td>-599.996129</td>\n",
       "    </tr>\n",
       "  </tbody>\n",
       "</table>\n",
       "<p>4 rows × 86 columns</p>\n",
       "</div>"
      ],
      "text/plain": [
       "                     final.output.concentrate_ag  final.output.concentrate_pb  \\\n",
       "date                                                                            \n",
       "2016-01-15 00:00:00                     6.055403                     9.889648   \n",
       "2016-01-15 01:00:00                     6.029369                     9.968944   \n",
       "2016-01-15 02:00:00                     6.055926                    10.213995   \n",
       "2016-01-15 03:00:00                     6.047977                     9.977019   \n",
       "\n",
       "                     final.output.concentrate_sol  \\\n",
       "date                                                \n",
       "2016-01-15 00:00:00                      5.507324   \n",
       "2016-01-15 01:00:00                      5.257781   \n",
       "2016-01-15 02:00:00                      5.383759   \n",
       "2016-01-15 03:00:00                      4.858634   \n",
       "\n",
       "                     final.output.concentrate_au  final.output.recovery  \\\n",
       "date                                                                      \n",
       "2016-01-15 00:00:00                    42.192020              70.541216   \n",
       "2016-01-15 01:00:00                    42.701629              69.266198   \n",
       "2016-01-15 02:00:00                    42.657501              68.116445   \n",
       "2016-01-15 03:00:00                    42.689819              68.347543   \n",
       "\n",
       "                     final.output.tail_ag  final.output.tail_pb  \\\n",
       "date                                                              \n",
       "2016-01-15 00:00:00             10.411962              0.895447   \n",
       "2016-01-15 01:00:00             10.462676              0.927452   \n",
       "2016-01-15 02:00:00             10.507046              0.953716   \n",
       "2016-01-15 03:00:00             10.422762              0.883763   \n",
       "\n",
       "                     final.output.tail_sol  final.output.tail_au  \\\n",
       "date                                                               \n",
       "2016-01-15 00:00:00              16.904297              2.143149   \n",
       "2016-01-15 01:00:00              16.634514              2.224930   \n",
       "2016-01-15 02:00:00              16.208849              2.257889   \n",
       "2016-01-15 03:00:00              16.532835              2.146849   \n",
       "\n",
       "                     primary_cleaner.input.sulfate  ...  \\\n",
       "date                                                ...   \n",
       "2016-01-15 00:00:00                     127.092003  ...   \n",
       "2016-01-15 01:00:00                     125.629232  ...   \n",
       "2016-01-15 02:00:00                     123.819808  ...   \n",
       "2016-01-15 03:00:00                     122.270188  ...   \n",
       "\n",
       "                     secondary_cleaner.state.floatbank4_a_air  \\\n",
       "date                                                            \n",
       "2016-01-15 00:00:00                                 14.016835   \n",
       "2016-01-15 01:00:00                                 13.992281   \n",
       "2016-01-15 02:00:00                                 14.015015   \n",
       "2016-01-15 03:00:00                                 14.036510   \n",
       "\n",
       "                     secondary_cleaner.state.floatbank4_a_level  \\\n",
       "date                                                              \n",
       "2016-01-15 00:00:00                                 -502.488007   \n",
       "2016-01-15 01:00:00                                 -505.503262   \n",
       "2016-01-15 02:00:00                                 -502.520901   \n",
       "2016-01-15 03:00:00                                 -500.857308   \n",
       "\n",
       "                     secondary_cleaner.state.floatbank4_b_air  \\\n",
       "date                                                            \n",
       "2016-01-15 00:00:00                                 12.099931   \n",
       "2016-01-15 01:00:00                                 11.950531   \n",
       "2016-01-15 02:00:00                                 11.912783   \n",
       "2016-01-15 03:00:00                                 11.999550   \n",
       "\n",
       "                     secondary_cleaner.state.floatbank4_b_level  \\\n",
       "date                                                              \n",
       "2016-01-15 00:00:00                                 -504.715942   \n",
       "2016-01-15 01:00:00                                 -501.331529   \n",
       "2016-01-15 02:00:00                                 -501.133383   \n",
       "2016-01-15 03:00:00                                 -501.193686   \n",
       "\n",
       "                     secondary_cleaner.state.floatbank5_a_air  \\\n",
       "date                                                            \n",
       "2016-01-15 00:00:00                                  9.925633   \n",
       "2016-01-15 01:00:00                                 10.039245   \n",
       "2016-01-15 02:00:00                                 10.070913   \n",
       "2016-01-15 03:00:00                                  9.970366   \n",
       "\n",
       "                     secondary_cleaner.state.floatbank5_a_level  \\\n",
       "date                                                              \n",
       "2016-01-15 00:00:00                                 -498.310211   \n",
       "2016-01-15 01:00:00                                 -500.169983   \n",
       "2016-01-15 02:00:00                                 -500.129135   \n",
       "2016-01-15 03:00:00                                 -499.201640   \n",
       "\n",
       "                     secondary_cleaner.state.floatbank5_b_air  \\\n",
       "date                                                            \n",
       "2016-01-15 00:00:00                                  8.079666   \n",
       "2016-01-15 01:00:00                                  7.984757   \n",
       "2016-01-15 02:00:00                                  8.013877   \n",
       "2016-01-15 03:00:00                                  7.977324   \n",
       "\n",
       "                     secondary_cleaner.state.floatbank5_b_level  \\\n",
       "date                                                              \n",
       "2016-01-15 00:00:00                                 -500.470978   \n",
       "2016-01-15 01:00:00                                 -500.582168   \n",
       "2016-01-15 02:00:00                                 -500.517572   \n",
       "2016-01-15 03:00:00                                 -500.255908   \n",
       "\n",
       "                     secondary_cleaner.state.floatbank6_a_air  \\\n",
       "date                                                            \n",
       "2016-01-15 00:00:00                                 14.151341   \n",
       "2016-01-15 01:00:00                                 13.998353   \n",
       "2016-01-15 02:00:00                                 14.028663   \n",
       "2016-01-15 03:00:00                                 14.005551   \n",
       "\n",
       "                     secondary_cleaner.state.floatbank6_a_level  \n",
       "date                                                             \n",
       "2016-01-15 00:00:00                                 -605.841980  \n",
       "2016-01-15 01:00:00                                 -599.787184  \n",
       "2016-01-15 02:00:00                                 -601.427363  \n",
       "2016-01-15 03:00:00                                 -599.996129  \n",
       "\n",
       "[4 rows x 86 columns]"
      ]
     },
     "execution_count": 7,
     "metadata": {},
     "output_type": "execute_result"
    }
   ],
   "source": [
    "train_data.head(4)"
   ]
  },
  {
   "cell_type": "code",
   "execution_count": 8,
   "metadata": {},
   "outputs": [
    {
     "data": {
      "text/plain": [
       "primary_cleaner.input.feed_size                        0.0\n",
       "primary_cleaner.state.floatbank8_c_level               0.2\n",
       "primary_cleaner.state.floatbank8_d_level               0.2\n",
       "rougher.calculation.sulfate_to_au_concentrate          0.2\n",
       "rougher.calculation.floatbank10_sulfate_to_au_feed     0.2\n",
       "                                                      ... \n",
       "secondary_cleaner.output.tail_sol                     11.8\n",
       "rougher.output.tail_au                                13.3\n",
       "rougher.output.tail_sol                               13.3\n",
       "rougher.output.tail_ag                                13.3\n",
       "rougher.output.recovery                               15.3\n",
       "Length: 86, dtype: float64"
      ]
     },
     "execution_count": 8,
     "metadata": {},
     "output_type": "execute_result"
    }
   ],
   "source": [
    "# посчитаем пропуски в процентах от всех записей\n",
    "train_data.isna().mean().sort_values().round(3)*100"
   ]
  },
  {
   "cell_type": "code",
   "execution_count": 9,
   "metadata": {},
   "outputs": [
    {
     "name": "stdout",
     "output_type": "stream",
     "text": [
      "<class 'pandas.core.frame.DataFrame'>\n",
      "DatetimeIndex: 5856 entries, 2016-09-01 00:59:59 to 2017-12-31 23:59:59\n",
      "Data columns (total 52 columns):\n",
      " #   Column                                      Non-Null Count  Dtype  \n",
      "---  ------                                      --------------  -----  \n",
      " 0   primary_cleaner.input.sulfate               5554 non-null   float64\n",
      " 1   primary_cleaner.input.depressant            5572 non-null   float64\n",
      " 2   primary_cleaner.input.feed_size             5856 non-null   float64\n",
      " 3   primary_cleaner.input.xanthate              5690 non-null   float64\n",
      " 4   primary_cleaner.state.floatbank8_a_air      5840 non-null   float64\n",
      " 5   primary_cleaner.state.floatbank8_a_level    5840 non-null   float64\n",
      " 6   primary_cleaner.state.floatbank8_b_air      5840 non-null   float64\n",
      " 7   primary_cleaner.state.floatbank8_b_level    5840 non-null   float64\n",
      " 8   primary_cleaner.state.floatbank8_c_air      5840 non-null   float64\n",
      " 9   primary_cleaner.state.floatbank8_c_level    5840 non-null   float64\n",
      " 10  primary_cleaner.state.floatbank8_d_air      5840 non-null   float64\n",
      " 11  primary_cleaner.state.floatbank8_d_level    5840 non-null   float64\n",
      " 12  rougher.input.feed_ag                       5840 non-null   float64\n",
      " 13  rougher.input.feed_pb                       5840 non-null   float64\n",
      " 14  rougher.input.feed_rate                     5816 non-null   float64\n",
      " 15  rougher.input.feed_size                     5834 non-null   float64\n",
      " 16  rougher.input.feed_sol                      5789 non-null   float64\n",
      " 17  rougher.input.feed_au                       5840 non-null   float64\n",
      " 18  rougher.input.floatbank10_sulfate           5599 non-null   float64\n",
      " 19  rougher.input.floatbank10_xanthate          5733 non-null   float64\n",
      " 20  rougher.input.floatbank11_sulfate           5801 non-null   float64\n",
      " 21  rougher.input.floatbank11_xanthate          5503 non-null   float64\n",
      " 22  rougher.state.floatbank10_a_air             5839 non-null   float64\n",
      " 23  rougher.state.floatbank10_a_level           5840 non-null   float64\n",
      " 24  rougher.state.floatbank10_b_air             5839 non-null   float64\n",
      " 25  rougher.state.floatbank10_b_level           5840 non-null   float64\n",
      " 26  rougher.state.floatbank10_c_air             5839 non-null   float64\n",
      " 27  rougher.state.floatbank10_c_level           5840 non-null   float64\n",
      " 28  rougher.state.floatbank10_d_air             5839 non-null   float64\n",
      " 29  rougher.state.floatbank10_d_level           5840 non-null   float64\n",
      " 30  rougher.state.floatbank10_e_air             5839 non-null   float64\n",
      " 31  rougher.state.floatbank10_e_level           5840 non-null   float64\n",
      " 32  rougher.state.floatbank10_f_air             5839 non-null   float64\n",
      " 33  rougher.state.floatbank10_f_level           5840 non-null   float64\n",
      " 34  secondary_cleaner.state.floatbank2_a_air    5836 non-null   float64\n",
      " 35  secondary_cleaner.state.floatbank2_a_level  5840 non-null   float64\n",
      " 36  secondary_cleaner.state.floatbank2_b_air    5833 non-null   float64\n",
      " 37  secondary_cleaner.state.floatbank2_b_level  5840 non-null   float64\n",
      " 38  secondary_cleaner.state.floatbank3_a_air    5822 non-null   float64\n",
      " 39  secondary_cleaner.state.floatbank3_a_level  5840 non-null   float64\n",
      " 40  secondary_cleaner.state.floatbank3_b_air    5840 non-null   float64\n",
      " 41  secondary_cleaner.state.floatbank3_b_level  5840 non-null   float64\n",
      " 42  secondary_cleaner.state.floatbank4_a_air    5840 non-null   float64\n",
      " 43  secondary_cleaner.state.floatbank4_a_level  5840 non-null   float64\n",
      " 44  secondary_cleaner.state.floatbank4_b_air    5840 non-null   float64\n",
      " 45  secondary_cleaner.state.floatbank4_b_level  5840 non-null   float64\n",
      " 46  secondary_cleaner.state.floatbank5_a_air    5840 non-null   float64\n",
      " 47  secondary_cleaner.state.floatbank5_a_level  5840 non-null   float64\n",
      " 48  secondary_cleaner.state.floatbank5_b_air    5840 non-null   float64\n",
      " 49  secondary_cleaner.state.floatbank5_b_level  5840 non-null   float64\n",
      " 50  secondary_cleaner.state.floatbank6_a_air    5840 non-null   float64\n",
      " 51  secondary_cleaner.state.floatbank6_a_level  5840 non-null   float64\n",
      "dtypes: float64(52)\n",
      "memory usage: 2.4 MB\n"
     ]
    }
   ],
   "source": [
    "test_data.info()"
   ]
  },
  {
   "cell_type": "code",
   "execution_count": 10,
   "metadata": {},
   "outputs": [
    {
     "data": {
      "text/html": [
       "<div>\n",
       "<style scoped>\n",
       "    .dataframe tbody tr th:only-of-type {\n",
       "        vertical-align: middle;\n",
       "    }\n",
       "\n",
       "    .dataframe tbody tr th {\n",
       "        vertical-align: top;\n",
       "    }\n",
       "\n",
       "    .dataframe thead th {\n",
       "        text-align: right;\n",
       "    }\n",
       "</style>\n",
       "<table border=\"1\" class=\"dataframe\">\n",
       "  <thead>\n",
       "    <tr style=\"text-align: right;\">\n",
       "      <th></th>\n",
       "      <th>primary_cleaner.input.sulfate</th>\n",
       "      <th>primary_cleaner.input.depressant</th>\n",
       "      <th>primary_cleaner.input.feed_size</th>\n",
       "      <th>primary_cleaner.input.xanthate</th>\n",
       "      <th>primary_cleaner.state.floatbank8_a_air</th>\n",
       "      <th>primary_cleaner.state.floatbank8_a_level</th>\n",
       "      <th>primary_cleaner.state.floatbank8_b_air</th>\n",
       "      <th>primary_cleaner.state.floatbank8_b_level</th>\n",
       "      <th>primary_cleaner.state.floatbank8_c_air</th>\n",
       "      <th>primary_cleaner.state.floatbank8_c_level</th>\n",
       "      <th>...</th>\n",
       "      <th>secondary_cleaner.state.floatbank4_a_air</th>\n",
       "      <th>secondary_cleaner.state.floatbank4_a_level</th>\n",
       "      <th>secondary_cleaner.state.floatbank4_b_air</th>\n",
       "      <th>secondary_cleaner.state.floatbank4_b_level</th>\n",
       "      <th>secondary_cleaner.state.floatbank5_a_air</th>\n",
       "      <th>secondary_cleaner.state.floatbank5_a_level</th>\n",
       "      <th>secondary_cleaner.state.floatbank5_b_air</th>\n",
       "      <th>secondary_cleaner.state.floatbank5_b_level</th>\n",
       "      <th>secondary_cleaner.state.floatbank6_a_air</th>\n",
       "      <th>secondary_cleaner.state.floatbank6_a_level</th>\n",
       "    </tr>\n",
       "    <tr>\n",
       "      <th>date</th>\n",
       "      <th></th>\n",
       "      <th></th>\n",
       "      <th></th>\n",
       "      <th></th>\n",
       "      <th></th>\n",
       "      <th></th>\n",
       "      <th></th>\n",
       "      <th></th>\n",
       "      <th></th>\n",
       "      <th></th>\n",
       "      <th></th>\n",
       "      <th></th>\n",
       "      <th></th>\n",
       "      <th></th>\n",
       "      <th></th>\n",
       "      <th></th>\n",
       "      <th></th>\n",
       "      <th></th>\n",
       "      <th></th>\n",
       "      <th></th>\n",
       "      <th></th>\n",
       "    </tr>\n",
       "  </thead>\n",
       "  <tbody>\n",
       "    <tr>\n",
       "      <th>2016-09-01 00:59:59</th>\n",
       "      <td>210.800909</td>\n",
       "      <td>14.993118</td>\n",
       "      <td>8.080000</td>\n",
       "      <td>1.005021</td>\n",
       "      <td>1398.981301</td>\n",
       "      <td>-500.225577</td>\n",
       "      <td>1399.144926</td>\n",
       "      <td>-499.919735</td>\n",
       "      <td>1400.102998</td>\n",
       "      <td>-500.704369</td>\n",
       "      <td>...</td>\n",
       "      <td>12.023554</td>\n",
       "      <td>-497.795834</td>\n",
       "      <td>8.016656</td>\n",
       "      <td>-501.289139</td>\n",
       "      <td>7.946562</td>\n",
       "      <td>-432.317850</td>\n",
       "      <td>4.872511</td>\n",
       "      <td>-500.037437</td>\n",
       "      <td>26.705889</td>\n",
       "      <td>-499.709414</td>\n",
       "    </tr>\n",
       "    <tr>\n",
       "      <th>2016-09-01 01:59:59</th>\n",
       "      <td>215.392455</td>\n",
       "      <td>14.987471</td>\n",
       "      <td>8.080000</td>\n",
       "      <td>0.990469</td>\n",
       "      <td>1398.777912</td>\n",
       "      <td>-500.057435</td>\n",
       "      <td>1398.055362</td>\n",
       "      <td>-499.778182</td>\n",
       "      <td>1396.151033</td>\n",
       "      <td>-499.240168</td>\n",
       "      <td>...</td>\n",
       "      <td>12.058140</td>\n",
       "      <td>-498.695773</td>\n",
       "      <td>8.130979</td>\n",
       "      <td>-499.634209</td>\n",
       "      <td>7.958270</td>\n",
       "      <td>-525.839648</td>\n",
       "      <td>4.878850</td>\n",
       "      <td>-500.162375</td>\n",
       "      <td>25.019940</td>\n",
       "      <td>-499.819438</td>\n",
       "    </tr>\n",
       "    <tr>\n",
       "      <th>2016-09-01 02:59:59</th>\n",
       "      <td>215.259946</td>\n",
       "      <td>12.884934</td>\n",
       "      <td>7.786667</td>\n",
       "      <td>0.996043</td>\n",
       "      <td>1398.493666</td>\n",
       "      <td>-500.868360</td>\n",
       "      <td>1398.860436</td>\n",
       "      <td>-499.764529</td>\n",
       "      <td>1398.075709</td>\n",
       "      <td>-502.151509</td>\n",
       "      <td>...</td>\n",
       "      <td>11.962366</td>\n",
       "      <td>-498.767484</td>\n",
       "      <td>8.096893</td>\n",
       "      <td>-500.827423</td>\n",
       "      <td>8.071056</td>\n",
       "      <td>-500.801673</td>\n",
       "      <td>4.905125</td>\n",
       "      <td>-499.828510</td>\n",
       "      <td>24.994862</td>\n",
       "      <td>-500.622559</td>\n",
       "    </tr>\n",
       "    <tr>\n",
       "      <th>2016-09-01 03:59:59</th>\n",
       "      <td>215.336236</td>\n",
       "      <td>12.006805</td>\n",
       "      <td>7.640000</td>\n",
       "      <td>0.863514</td>\n",
       "      <td>1399.618111</td>\n",
       "      <td>-498.863574</td>\n",
       "      <td>1397.440120</td>\n",
       "      <td>-499.211024</td>\n",
       "      <td>1400.129303</td>\n",
       "      <td>-498.355873</td>\n",
       "      <td>...</td>\n",
       "      <td>12.033091</td>\n",
       "      <td>-498.350935</td>\n",
       "      <td>8.074946</td>\n",
       "      <td>-499.474407</td>\n",
       "      <td>7.897085</td>\n",
       "      <td>-500.868509</td>\n",
       "      <td>4.931400</td>\n",
       "      <td>-499.963623</td>\n",
       "      <td>24.948919</td>\n",
       "      <td>-498.709987</td>\n",
       "    </tr>\n",
       "  </tbody>\n",
       "</table>\n",
       "<p>4 rows × 52 columns</p>\n",
       "</div>"
      ],
      "text/plain": [
       "                     primary_cleaner.input.sulfate  \\\n",
       "date                                                 \n",
       "2016-09-01 00:59:59                     210.800909   \n",
       "2016-09-01 01:59:59                     215.392455   \n",
       "2016-09-01 02:59:59                     215.259946   \n",
       "2016-09-01 03:59:59                     215.336236   \n",
       "\n",
       "                     primary_cleaner.input.depressant  \\\n",
       "date                                                    \n",
       "2016-09-01 00:59:59                         14.993118   \n",
       "2016-09-01 01:59:59                         14.987471   \n",
       "2016-09-01 02:59:59                         12.884934   \n",
       "2016-09-01 03:59:59                         12.006805   \n",
       "\n",
       "                     primary_cleaner.input.feed_size  \\\n",
       "date                                                   \n",
       "2016-09-01 00:59:59                         8.080000   \n",
       "2016-09-01 01:59:59                         8.080000   \n",
       "2016-09-01 02:59:59                         7.786667   \n",
       "2016-09-01 03:59:59                         7.640000   \n",
       "\n",
       "                     primary_cleaner.input.xanthate  \\\n",
       "date                                                  \n",
       "2016-09-01 00:59:59                        1.005021   \n",
       "2016-09-01 01:59:59                        0.990469   \n",
       "2016-09-01 02:59:59                        0.996043   \n",
       "2016-09-01 03:59:59                        0.863514   \n",
       "\n",
       "                     primary_cleaner.state.floatbank8_a_air  \\\n",
       "date                                                          \n",
       "2016-09-01 00:59:59                             1398.981301   \n",
       "2016-09-01 01:59:59                             1398.777912   \n",
       "2016-09-01 02:59:59                             1398.493666   \n",
       "2016-09-01 03:59:59                             1399.618111   \n",
       "\n",
       "                     primary_cleaner.state.floatbank8_a_level  \\\n",
       "date                                                            \n",
       "2016-09-01 00:59:59                               -500.225577   \n",
       "2016-09-01 01:59:59                               -500.057435   \n",
       "2016-09-01 02:59:59                               -500.868360   \n",
       "2016-09-01 03:59:59                               -498.863574   \n",
       "\n",
       "                     primary_cleaner.state.floatbank8_b_air  \\\n",
       "date                                                          \n",
       "2016-09-01 00:59:59                             1399.144926   \n",
       "2016-09-01 01:59:59                             1398.055362   \n",
       "2016-09-01 02:59:59                             1398.860436   \n",
       "2016-09-01 03:59:59                             1397.440120   \n",
       "\n",
       "                     primary_cleaner.state.floatbank8_b_level  \\\n",
       "date                                                            \n",
       "2016-09-01 00:59:59                               -499.919735   \n",
       "2016-09-01 01:59:59                               -499.778182   \n",
       "2016-09-01 02:59:59                               -499.764529   \n",
       "2016-09-01 03:59:59                               -499.211024   \n",
       "\n",
       "                     primary_cleaner.state.floatbank8_c_air  \\\n",
       "date                                                          \n",
       "2016-09-01 00:59:59                             1400.102998   \n",
       "2016-09-01 01:59:59                             1396.151033   \n",
       "2016-09-01 02:59:59                             1398.075709   \n",
       "2016-09-01 03:59:59                             1400.129303   \n",
       "\n",
       "                     primary_cleaner.state.floatbank8_c_level  ...  \\\n",
       "date                                                           ...   \n",
       "2016-09-01 00:59:59                               -500.704369  ...   \n",
       "2016-09-01 01:59:59                               -499.240168  ...   \n",
       "2016-09-01 02:59:59                               -502.151509  ...   \n",
       "2016-09-01 03:59:59                               -498.355873  ...   \n",
       "\n",
       "                     secondary_cleaner.state.floatbank4_a_air  \\\n",
       "date                                                            \n",
       "2016-09-01 00:59:59                                 12.023554   \n",
       "2016-09-01 01:59:59                                 12.058140   \n",
       "2016-09-01 02:59:59                                 11.962366   \n",
       "2016-09-01 03:59:59                                 12.033091   \n",
       "\n",
       "                     secondary_cleaner.state.floatbank4_a_level  \\\n",
       "date                                                              \n",
       "2016-09-01 00:59:59                                 -497.795834   \n",
       "2016-09-01 01:59:59                                 -498.695773   \n",
       "2016-09-01 02:59:59                                 -498.767484   \n",
       "2016-09-01 03:59:59                                 -498.350935   \n",
       "\n",
       "                     secondary_cleaner.state.floatbank4_b_air  \\\n",
       "date                                                            \n",
       "2016-09-01 00:59:59                                  8.016656   \n",
       "2016-09-01 01:59:59                                  8.130979   \n",
       "2016-09-01 02:59:59                                  8.096893   \n",
       "2016-09-01 03:59:59                                  8.074946   \n",
       "\n",
       "                     secondary_cleaner.state.floatbank4_b_level  \\\n",
       "date                                                              \n",
       "2016-09-01 00:59:59                                 -501.289139   \n",
       "2016-09-01 01:59:59                                 -499.634209   \n",
       "2016-09-01 02:59:59                                 -500.827423   \n",
       "2016-09-01 03:59:59                                 -499.474407   \n",
       "\n",
       "                     secondary_cleaner.state.floatbank5_a_air  \\\n",
       "date                                                            \n",
       "2016-09-01 00:59:59                                  7.946562   \n",
       "2016-09-01 01:59:59                                  7.958270   \n",
       "2016-09-01 02:59:59                                  8.071056   \n",
       "2016-09-01 03:59:59                                  7.897085   \n",
       "\n",
       "                     secondary_cleaner.state.floatbank5_a_level  \\\n",
       "date                                                              \n",
       "2016-09-01 00:59:59                                 -432.317850   \n",
       "2016-09-01 01:59:59                                 -525.839648   \n",
       "2016-09-01 02:59:59                                 -500.801673   \n",
       "2016-09-01 03:59:59                                 -500.868509   \n",
       "\n",
       "                     secondary_cleaner.state.floatbank5_b_air  \\\n",
       "date                                                            \n",
       "2016-09-01 00:59:59                                  4.872511   \n",
       "2016-09-01 01:59:59                                  4.878850   \n",
       "2016-09-01 02:59:59                                  4.905125   \n",
       "2016-09-01 03:59:59                                  4.931400   \n",
       "\n",
       "                     secondary_cleaner.state.floatbank5_b_level  \\\n",
       "date                                                              \n",
       "2016-09-01 00:59:59                                 -500.037437   \n",
       "2016-09-01 01:59:59                                 -500.162375   \n",
       "2016-09-01 02:59:59                                 -499.828510   \n",
       "2016-09-01 03:59:59                                 -499.963623   \n",
       "\n",
       "                     secondary_cleaner.state.floatbank6_a_air  \\\n",
       "date                                                            \n",
       "2016-09-01 00:59:59                                 26.705889   \n",
       "2016-09-01 01:59:59                                 25.019940   \n",
       "2016-09-01 02:59:59                                 24.994862   \n",
       "2016-09-01 03:59:59                                 24.948919   \n",
       "\n",
       "                     secondary_cleaner.state.floatbank6_a_level  \n",
       "date                                                             \n",
       "2016-09-01 00:59:59                                 -499.709414  \n",
       "2016-09-01 01:59:59                                 -499.819438  \n",
       "2016-09-01 02:59:59                                 -500.622559  \n",
       "2016-09-01 03:59:59                                 -498.709987  \n",
       "\n",
       "[4 rows x 52 columns]"
      ]
     },
     "execution_count": 10,
     "metadata": {},
     "output_type": "execute_result"
    }
   ],
   "source": [
    "test_data.head(4)"
   ]
  },
  {
   "cell_type": "code",
   "execution_count": 11,
   "metadata": {
    "scrolled": false
   },
   "outputs": [
    {
     "data": {
      "text/plain": [
       "primary_cleaner.input.feed_size               0.0\n",
       "rougher.state.floatbank10_b_level             0.3\n",
       "rougher.state.floatbank10_c_level             0.3\n",
       "rougher.state.floatbank10_d_level             0.3\n",
       "rougher.state.floatbank10_e_level             0.3\n",
       "rougher.state.floatbank10_f_level             0.3\n",
       "secondary_cleaner.state.floatbank2_a_level    0.3\n",
       "secondary_cleaner.state.floatbank2_b_level    0.3\n",
       "secondary_cleaner.state.floatbank3_a_level    0.3\n",
       "secondary_cleaner.state.floatbank3_b_air      0.3\n",
       "secondary_cleaner.state.floatbank3_b_level    0.3\n",
       "secondary_cleaner.state.floatbank4_a_air      0.3\n",
       "secondary_cleaner.state.floatbank4_a_level    0.3\n",
       "secondary_cleaner.state.floatbank4_b_air      0.3\n",
       "secondary_cleaner.state.floatbank4_b_level    0.3\n",
       "secondary_cleaner.state.floatbank5_a_air      0.3\n",
       "secondary_cleaner.state.floatbank5_a_level    0.3\n",
       "secondary_cleaner.state.floatbank5_b_air      0.3\n",
       "secondary_cleaner.state.floatbank5_b_level    0.3\n",
       "secondary_cleaner.state.floatbank6_a_air      0.3\n",
       "rougher.state.floatbank10_a_level             0.3\n",
       "secondary_cleaner.state.floatbank6_a_level    0.3\n",
       "primary_cleaner.state.floatbank8_b_level      0.3\n",
       "primary_cleaner.state.floatbank8_d_air        0.3\n",
       "rougher.input.feed_pb                         0.3\n",
       "primary_cleaner.state.floatbank8_c_level      0.3\n",
       "primary_cleaner.state.floatbank8_c_air        0.3\n",
       "rougher.input.feed_ag                         0.3\n",
       "rougher.input.feed_au                         0.3\n",
       "primary_cleaner.state.floatbank8_d_level      0.3\n",
       "primary_cleaner.state.floatbank8_b_air        0.3\n",
       "primary_cleaner.state.floatbank8_a_level      0.3\n",
       "primary_cleaner.state.floatbank8_a_air        0.3\n",
       "rougher.state.floatbank10_e_air               0.3\n",
       "rougher.state.floatbank10_f_air               0.3\n",
       "rougher.state.floatbank10_c_air               0.3\n",
       "rougher.state.floatbank10_b_air               0.3\n",
       "rougher.state.floatbank10_d_air               0.3\n",
       "rougher.state.floatbank10_a_air               0.3\n",
       "secondary_cleaner.state.floatbank2_a_air      0.3\n",
       "rougher.input.feed_size                       0.4\n",
       "secondary_cleaner.state.floatbank2_b_air      0.4\n",
       "secondary_cleaner.state.floatbank3_a_air      0.6\n",
       "rougher.input.feed_rate                       0.7\n",
       "rougher.input.floatbank11_sulfate             0.9\n",
       "rougher.input.feed_sol                        1.1\n",
       "rougher.input.floatbank10_xanthate            2.1\n",
       "primary_cleaner.input.xanthate                2.8\n",
       "rougher.input.floatbank10_sulfate             4.4\n",
       "primary_cleaner.input.depressant              4.8\n",
       "primary_cleaner.input.sulfate                 5.2\n",
       "rougher.input.floatbank11_xanthate            6.0\n",
       "dtype: float64"
      ]
     },
     "execution_count": 11,
     "metadata": {},
     "output_type": "execute_result"
    }
   ],
   "source": [
    "# посчитаем пропуски в процентах от всех записей\n",
    "test_data.isna().mean().sort_values().round(3)*100"
   ]
  },
  {
   "cell_type": "markdown",
   "metadata": {},
   "source": [
    "**Вывод по данным**\n",
    "<br> Имеем три файла с данными:\n",
    "1. общий файл, содержащий 22716 записей и 87 столбца. Присутствуют пропуски во всех столбцах , кроме 2х с датой и `primary_cleaner.input.feed_size`, в остальных столбцах пропуски от 0,2 до 14% от количества общих записей.\n",
    "2. обучающая выборка состоит из 16860 записей и 87 столбцов. Пропуски по аналогии с общим файлом в тех же столбцах от 0,2 до 15%\n",
    "3. тестовая выборка состоит из 5856 записей и 53 столбцов, что говорит о возможной нехватке данных для дальнейшего анализа и необходимости предобработке. Пропуски присутствуют от 0,3 до 6%"
   ]
  },
  {
   "cell_type": "markdown",
   "metadata": {},
   "source": [
    "### Проверка расчета эффективности обогащения"
   ]
  },
  {
   "cell_type": "markdown",
   "metadata": {},
   "source": [
    "Проверим, что эффективность обогащения рассчитана правильно.\n",
    "Вычислим её на обучающей выборке для признака rougher.output.recovery.\n",
    "Найдием MAE между расчётами и значением признака.\n",
    "Опишем выводы."
   ]
  },
  {
   "cell_type": "markdown",
   "metadata": {},
   "source": [
    "Формула расчета эффективности обогащения:\n",
    "<br> Recovery = (concentrate_au x (feed_au-tail_au)) / (feed_au x (concentrate_au - tail_au)) x 100%"
   ]
  },
  {
   "cell_type": "code",
   "execution_count": 12,
   "metadata": {},
   "outputs": [],
   "source": [
    "# удалим пропуски в данных для расчета\n",
    "\n",
    "train_data.dropna(subset=['rougher.output.concentrate_au', 'rougher.input.feed_au',\n",
    "                                   'rougher.output.tail_au','rougher.output.recovery'], inplace=True)"
   ]
  },
  {
   "cell_type": "code",
   "execution_count": 13,
   "metadata": {},
   "outputs": [],
   "source": [
    "# рассчитаем эффективность обогащения по формуле, приведенной в начале проекта на обучающей выборке для признака rougher.output.recovery\n",
    "\n",
    "train_data['recovery_calculated'] = (train_data['rougher.output.concentrate_au'] * (\n",
    "    train_data['rougher.input.feed_au'] - train_data['rougher.output.tail_au'])) / (\n",
    "    train_data['rougher.input.feed_au'] * (\n",
    "        train_data['rougher.output.concentrate_au'] - train_data['rougher.output.tail_au'])) * 100\n"
   ]
  },
  {
   "cell_type": "code",
   "execution_count": 14,
   "metadata": {
    "scrolled": true
   },
   "outputs": [
    {
     "data": {
      "text/plain": [
       "9.303415616264301e-15"
      ]
     },
     "execution_count": 14,
     "metadata": {},
     "output_type": "execute_result"
    }
   ],
   "source": [
    "# расчитаем среднее абсолютное отклонение (MAE) \n",
    "mean_absolute_error(train_data['rougher.output.recovery'], train_data['recovery_calculated'])\n"
   ]
  },
  {
   "cell_type": "code",
   "execution_count": 15,
   "metadata": {},
   "outputs": [
    {
     "data": {
      "text/html": [
       "<div>\n",
       "<style scoped>\n",
       "    .dataframe tbody tr th:only-of-type {\n",
       "        vertical-align: middle;\n",
       "    }\n",
       "\n",
       "    .dataframe tbody tr th {\n",
       "        vertical-align: top;\n",
       "    }\n",
       "\n",
       "    .dataframe thead th {\n",
       "        text-align: right;\n",
       "    }\n",
       "</style>\n",
       "<table border=\"1\" class=\"dataframe\">\n",
       "  <thead>\n",
       "    <tr style=\"text-align: right;\">\n",
       "      <th></th>\n",
       "      <th>rougher.output.concentrate_au</th>\n",
       "      <th>rougher.input.feed_au</th>\n",
       "      <th>rougher.output.tail_au</th>\n",
       "      <th>rougher.output.recovery</th>\n",
       "      <th>recovery_calculated</th>\n",
       "    </tr>\n",
       "    <tr>\n",
       "      <th>date</th>\n",
       "      <th></th>\n",
       "      <th></th>\n",
       "      <th></th>\n",
       "      <th></th>\n",
       "      <th></th>\n",
       "    </tr>\n",
       "  </thead>\n",
       "  <tbody>\n",
       "    <tr>\n",
       "      <th>2016-01-15 00:00:00</th>\n",
       "      <td>19.793808</td>\n",
       "      <td>6.486150</td>\n",
       "      <td>1.170244</td>\n",
       "      <td>87.107763</td>\n",
       "      <td>87.107763</td>\n",
       "    </tr>\n",
       "    <tr>\n",
       "      <th>2016-01-15 01:00:00</th>\n",
       "      <td>20.050975</td>\n",
       "      <td>6.478583</td>\n",
       "      <td>1.184827</td>\n",
       "      <td>86.843261</td>\n",
       "      <td>86.843261</td>\n",
       "    </tr>\n",
       "    <tr>\n",
       "      <th>2016-01-15 02:00:00</th>\n",
       "      <td>19.737170</td>\n",
       "      <td>6.362222</td>\n",
       "      <td>1.162562</td>\n",
       "      <td>86.842308</td>\n",
       "      <td>86.842308</td>\n",
       "    </tr>\n",
       "    <tr>\n",
       "      <th>2016-01-15 03:00:00</th>\n",
       "      <td>19.320810</td>\n",
       "      <td>6.118189</td>\n",
       "      <td>1.079755</td>\n",
       "      <td>87.226430</td>\n",
       "      <td>87.226430</td>\n",
       "    </tr>\n",
       "    <tr>\n",
       "      <th>2016-01-15 04:00:00</th>\n",
       "      <td>19.216101</td>\n",
       "      <td>5.663707</td>\n",
       "      <td>1.012642</td>\n",
       "      <td>86.688794</td>\n",
       "      <td>86.688794</td>\n",
       "    </tr>\n",
       "    <tr>\n",
       "      <th>2016-01-15 05:00:00</th>\n",
       "      <td>18.950385</td>\n",
       "      <td>5.687168</td>\n",
       "      <td>0.915835</td>\n",
       "      <td>88.156912</td>\n",
       "      <td>88.156912</td>\n",
       "    </tr>\n",
       "    <tr>\n",
       "      <th>2016-01-15 06:00:00</th>\n",
       "      <td>19.319591</td>\n",
       "      <td>6.038436</td>\n",
       "      <td>0.986248</td>\n",
       "      <td>88.168065</td>\n",
       "      <td>88.168065</td>\n",
       "    </tr>\n",
       "    <tr>\n",
       "      <th>2016-01-15 07:00:00</th>\n",
       "      <td>19.507897</td>\n",
       "      <td>6.433854</td>\n",
       "      <td>1.116110</td>\n",
       "      <td>87.668336</td>\n",
       "      <td>87.668336</td>\n",
       "    </tr>\n",
       "    <tr>\n",
       "      <th>2016-01-15 08:00:00</th>\n",
       "      <td>19.789465</td>\n",
       "      <td>6.526612</td>\n",
       "      <td>1.186780</td>\n",
       "      <td>87.035862</td>\n",
       "      <td>87.035862</td>\n",
       "    </tr>\n",
       "    <tr>\n",
       "      <th>2016-01-15 09:00:00</th>\n",
       "      <td>19.497669</td>\n",
       "      <td>6.633002</td>\n",
       "      <td>1.167140</td>\n",
       "      <td>87.650868</td>\n",
       "      <td>87.650868</td>\n",
       "    </tr>\n",
       "  </tbody>\n",
       "</table>\n",
       "</div>"
      ],
      "text/plain": [
       "                     rougher.output.concentrate_au  rougher.input.feed_au  \\\n",
       "date                                                                        \n",
       "2016-01-15 00:00:00                      19.793808               6.486150   \n",
       "2016-01-15 01:00:00                      20.050975               6.478583   \n",
       "2016-01-15 02:00:00                      19.737170               6.362222   \n",
       "2016-01-15 03:00:00                      19.320810               6.118189   \n",
       "2016-01-15 04:00:00                      19.216101               5.663707   \n",
       "2016-01-15 05:00:00                      18.950385               5.687168   \n",
       "2016-01-15 06:00:00                      19.319591               6.038436   \n",
       "2016-01-15 07:00:00                      19.507897               6.433854   \n",
       "2016-01-15 08:00:00                      19.789465               6.526612   \n",
       "2016-01-15 09:00:00                      19.497669               6.633002   \n",
       "\n",
       "                     rougher.output.tail_au  rougher.output.recovery  \\\n",
       "date                                                                   \n",
       "2016-01-15 00:00:00                1.170244                87.107763   \n",
       "2016-01-15 01:00:00                1.184827                86.843261   \n",
       "2016-01-15 02:00:00                1.162562                86.842308   \n",
       "2016-01-15 03:00:00                1.079755                87.226430   \n",
       "2016-01-15 04:00:00                1.012642                86.688794   \n",
       "2016-01-15 05:00:00                0.915835                88.156912   \n",
       "2016-01-15 06:00:00                0.986248                88.168065   \n",
       "2016-01-15 07:00:00                1.116110                87.668336   \n",
       "2016-01-15 08:00:00                1.186780                87.035862   \n",
       "2016-01-15 09:00:00                1.167140                87.650868   \n",
       "\n",
       "                     recovery_calculated  \n",
       "date                                      \n",
       "2016-01-15 00:00:00            87.107763  \n",
       "2016-01-15 01:00:00            86.843261  \n",
       "2016-01-15 02:00:00            86.842308  \n",
       "2016-01-15 03:00:00            87.226430  \n",
       "2016-01-15 04:00:00            86.688794  \n",
       "2016-01-15 05:00:00            88.156912  \n",
       "2016-01-15 06:00:00            88.168065  \n",
       "2016-01-15 07:00:00            87.668336  \n",
       "2016-01-15 08:00:00            87.035862  \n",
       "2016-01-15 09:00:00            87.650868  "
      ]
     },
     "execution_count": 15,
     "metadata": {},
     "output_type": "execute_result"
    }
   ],
   "source": [
    "# выведем 10 строк данных, используемых в расчете, на экран\n",
    "train_data[['rougher.output.concentrate_au',  'rougher.input.feed_au', 'rougher.output.tail_au', \n",
    "            'rougher.output.recovery', 'recovery_calculated']].head(10)\n"
   ]
  },
  {
   "cell_type": "markdown",
   "metadata": {},
   "source": [
    "**Вывод**\n",
    "<br> значение MAE очень низкое, что говорит о том, что расчет `rougher.output.recovery` расчитан корректно."
   ]
  },
  {
   "cell_type": "markdown",
   "metadata": {},
   "source": [
    "### Анализ тестовой выборки"
   ]
  },
  {
   "cell_type": "markdown",
   "metadata": {},
   "source": [
    "Проанализируем признаки, недоступные в тестовой выборке в сравнении с обучающей выборкой"
   ]
  },
  {
   "cell_type": "code",
   "execution_count": 16,
   "metadata": {},
   "outputs": [
    {
     "name": "stdout",
     "output_type": "stream",
     "text": [
      "Недоступные признаки в тестовой выборке: 35\n",
      "['final.output.concentrate_ag' 'final.output.concentrate_au'\n",
      " 'final.output.concentrate_pb' 'final.output.concentrate_sol'\n",
      " 'final.output.recovery' 'final.output.tail_ag' 'final.output.tail_au'\n",
      " 'final.output.tail_pb' 'final.output.tail_sol'\n",
      " 'primary_cleaner.output.concentrate_ag'\n",
      " 'primary_cleaner.output.concentrate_au'\n",
      " 'primary_cleaner.output.concentrate_pb'\n",
      " 'primary_cleaner.output.concentrate_sol' 'primary_cleaner.output.tail_ag'\n",
      " 'primary_cleaner.output.tail_au' 'primary_cleaner.output.tail_pb'\n",
      " 'primary_cleaner.output.tail_sol' 'recovery_calculated'\n",
      " 'rougher.calculation.au_pb_ratio'\n",
      " 'rougher.calculation.floatbank10_sulfate_to_au_feed'\n",
      " 'rougher.calculation.floatbank11_sulfate_to_au_feed'\n",
      " 'rougher.calculation.sulfate_to_au_concentrate'\n",
      " 'rougher.output.concentrate_ag' 'rougher.output.concentrate_au'\n",
      " 'rougher.output.concentrate_pb' 'rougher.output.concentrate_sol'\n",
      " 'rougher.output.recovery' 'rougher.output.tail_ag'\n",
      " 'rougher.output.tail_au' 'rougher.output.tail_pb'\n",
      " 'rougher.output.tail_sol' 'secondary_cleaner.output.tail_ag'\n",
      " 'secondary_cleaner.output.tail_au' 'secondary_cleaner.output.tail_pb'\n",
      " 'secondary_cleaner.output.tail_sol']\n"
     ]
    }
   ],
   "source": [
    "# найдем отличия обучающей и тестовой выборок по столбцам\n",
    "differences = (list(set(train_data.columns) - set(test_data.columns)))\n",
    "print('Недоступные признаки в тестовой выборке:', len(differences))\n",
    "print(np.sort(differences))"
   ]
  },
  {
   "cell_type": "markdown",
   "metadata": {},
   "source": [
    "**Вывод**\n",
    "<br> В тестовой выборке в сравнении с обучающей отсутствуют 35 столбцов с признаками черновой и финальной концентраций элементов, расчетные характеристики процесса, данные отвальных хвостов и общая эффективность обогащения. \n",
    "<br> Отсутствие может быть связано с тем, что эти данные рассчитываются позже, либо просто не были занесены в тестовую выборку.\n",
    "\n",
    "Целевые признаки, которые есть в обучающей выборке - `rougher.output.recovery` и `final.output.recovery` также отсутствуют в тестовой. Но их можно будет подтянуть из общего файла по дате."
   ]
  },
  {
   "cell_type": "markdown",
   "metadata": {},
   "source": [
    "### Предобработка данных"
   ]
  },
  {
   "cell_type": "markdown",
   "metadata": {},
   "source": [
    "Удалим пропуски в целевых признаках общего файла"
   ]
  },
  {
   "cell_type": "code",
   "execution_count": 17,
   "metadata": {},
   "outputs": [],
   "source": [
    "full_data = full_data.dropna(subset=['rougher.output.recovery', 'final.output.recovery'])\n"
   ]
  },
  {
   "cell_type": "markdown",
   "metadata": {},
   "source": [
    "Остальные пропуски по подсказке из задания заполним ближайшими (верхними) значениями по столбцам, применив метод `ffill`, который заполняет пропуски на основе значения в предыдущей строке."
   ]
  },
  {
   "cell_type": "code",
   "execution_count": 18,
   "metadata": {},
   "outputs": [],
   "source": [
    "full_data = full_data.fillna(method='ffill')\n",
    "train_data = train_data.fillna(method='ffill')\n",
    "test_data = test_data.fillna(method='ffill')"
   ]
  },
  {
   "cell_type": "code",
   "execution_count": 19,
   "metadata": {},
   "outputs": [
    {
     "name": "stdout",
     "output_type": "stream",
     "text": [
      "final.output.concentrate_ag                   0\n",
      "final.output.concentrate_pb                   0\n",
      "final.output.concentrate_sol                  0\n",
      "final.output.concentrate_au                   0\n",
      "final.output.recovery                         0\n",
      "                                             ..\n",
      "secondary_cleaner.state.floatbank5_a_level    0\n",
      "secondary_cleaner.state.floatbank5_b_air      0\n",
      "secondary_cleaner.state.floatbank5_b_level    0\n",
      "secondary_cleaner.state.floatbank6_a_air      0\n",
      "secondary_cleaner.state.floatbank6_a_level    0\n",
      "Length: 86, dtype: int64\n"
     ]
    }
   ],
   "source": [
    "print(full_data.isna().sum())"
   ]
  },
  {
   "cell_type": "code",
   "execution_count": 20,
   "metadata": {},
   "outputs": [
    {
     "name": "stdout",
     "output_type": "stream",
     "text": [
      "final.output.concentrate_ag                   0\n",
      "final.output.concentrate_pb                   0\n",
      "final.output.concentrate_sol                  0\n",
      "final.output.concentrate_au                   0\n",
      "final.output.recovery                         0\n",
      "                                             ..\n",
      "secondary_cleaner.state.floatbank5_b_air      0\n",
      "secondary_cleaner.state.floatbank5_b_level    0\n",
      "secondary_cleaner.state.floatbank6_a_air      0\n",
      "secondary_cleaner.state.floatbank6_a_level    0\n",
      "recovery_calculated                           0\n",
      "Length: 87, dtype: int64\n"
     ]
    }
   ],
   "source": [
    "print(train_data.isna().sum())"
   ]
  },
  {
   "cell_type": "code",
   "execution_count": 21,
   "metadata": {},
   "outputs": [
    {
     "name": "stdout",
     "output_type": "stream",
     "text": [
      "primary_cleaner.input.sulfate                 0\n",
      "primary_cleaner.input.depressant              0\n",
      "primary_cleaner.input.feed_size               0\n",
      "primary_cleaner.input.xanthate                0\n",
      "primary_cleaner.state.floatbank8_a_air        0\n",
      "primary_cleaner.state.floatbank8_a_level      0\n",
      "primary_cleaner.state.floatbank8_b_air        0\n",
      "primary_cleaner.state.floatbank8_b_level      0\n",
      "primary_cleaner.state.floatbank8_c_air        0\n",
      "primary_cleaner.state.floatbank8_c_level      0\n",
      "primary_cleaner.state.floatbank8_d_air        0\n",
      "primary_cleaner.state.floatbank8_d_level      0\n",
      "rougher.input.feed_ag                         0\n",
      "rougher.input.feed_pb                         0\n",
      "rougher.input.feed_rate                       0\n",
      "rougher.input.feed_size                       0\n",
      "rougher.input.feed_sol                        0\n",
      "rougher.input.feed_au                         0\n",
      "rougher.input.floatbank10_sulfate             0\n",
      "rougher.input.floatbank10_xanthate            0\n",
      "rougher.input.floatbank11_sulfate             0\n",
      "rougher.input.floatbank11_xanthate            0\n",
      "rougher.state.floatbank10_a_air               0\n",
      "rougher.state.floatbank10_a_level             0\n",
      "rougher.state.floatbank10_b_air               0\n",
      "rougher.state.floatbank10_b_level             0\n",
      "rougher.state.floatbank10_c_air               0\n",
      "rougher.state.floatbank10_c_level             0\n",
      "rougher.state.floatbank10_d_air               0\n",
      "rougher.state.floatbank10_d_level             0\n",
      "rougher.state.floatbank10_e_air               0\n",
      "rougher.state.floatbank10_e_level             0\n",
      "rougher.state.floatbank10_f_air               0\n",
      "rougher.state.floatbank10_f_level             0\n",
      "secondary_cleaner.state.floatbank2_a_air      0\n",
      "secondary_cleaner.state.floatbank2_a_level    0\n",
      "secondary_cleaner.state.floatbank2_b_air      0\n",
      "secondary_cleaner.state.floatbank2_b_level    0\n",
      "secondary_cleaner.state.floatbank3_a_air      0\n",
      "secondary_cleaner.state.floatbank3_a_level    0\n",
      "secondary_cleaner.state.floatbank3_b_air      0\n",
      "secondary_cleaner.state.floatbank3_b_level    0\n",
      "secondary_cleaner.state.floatbank4_a_air      0\n",
      "secondary_cleaner.state.floatbank4_a_level    0\n",
      "secondary_cleaner.state.floatbank4_b_air      0\n",
      "secondary_cleaner.state.floatbank4_b_level    0\n",
      "secondary_cleaner.state.floatbank5_a_air      0\n",
      "secondary_cleaner.state.floatbank5_a_level    0\n",
      "secondary_cleaner.state.floatbank5_b_air      0\n",
      "secondary_cleaner.state.floatbank5_b_level    0\n",
      "secondary_cleaner.state.floatbank6_a_air      0\n",
      "secondary_cleaner.state.floatbank6_a_level    0\n",
      "dtype: int64\n"
     ]
    }
   ],
   "source": [
    "print(test_data.isna().sum())"
   ]
  },
  {
   "cell_type": "markdown",
   "metadata": {},
   "source": [
    "Пропуски в данных обработаны."
   ]
  },
  {
   "cell_type": "markdown",
   "metadata": {},
   "source": [
    "Добавим в тестовую выборку целевые признаки из общего файла."
   ]
  },
  {
   "cell_type": "code",
   "execution_count": 22,
   "metadata": {},
   "outputs": [],
   "source": [
    "test_data = test_data.join(full_data[['rougher.output.recovery', 'final.output.recovery']])"
   ]
  },
  {
   "cell_type": "code",
   "execution_count": 23,
   "metadata": {},
   "outputs": [
    {
     "data": {
      "text/html": [
       "<div>\n",
       "<style scoped>\n",
       "    .dataframe tbody tr th:only-of-type {\n",
       "        vertical-align: middle;\n",
       "    }\n",
       "\n",
       "    .dataframe tbody tr th {\n",
       "        vertical-align: top;\n",
       "    }\n",
       "\n",
       "    .dataframe thead th {\n",
       "        text-align: right;\n",
       "    }\n",
       "</style>\n",
       "<table border=\"1\" class=\"dataframe\">\n",
       "  <thead>\n",
       "    <tr style=\"text-align: right;\">\n",
       "      <th></th>\n",
       "      <th>primary_cleaner.input.sulfate</th>\n",
       "      <th>primary_cleaner.input.depressant</th>\n",
       "      <th>primary_cleaner.input.feed_size</th>\n",
       "      <th>primary_cleaner.input.xanthate</th>\n",
       "      <th>primary_cleaner.state.floatbank8_a_air</th>\n",
       "      <th>primary_cleaner.state.floatbank8_a_level</th>\n",
       "      <th>primary_cleaner.state.floatbank8_b_air</th>\n",
       "      <th>primary_cleaner.state.floatbank8_b_level</th>\n",
       "      <th>primary_cleaner.state.floatbank8_c_air</th>\n",
       "      <th>primary_cleaner.state.floatbank8_c_level</th>\n",
       "      <th>...</th>\n",
       "      <th>secondary_cleaner.state.floatbank4_b_air</th>\n",
       "      <th>secondary_cleaner.state.floatbank4_b_level</th>\n",
       "      <th>secondary_cleaner.state.floatbank5_a_air</th>\n",
       "      <th>secondary_cleaner.state.floatbank5_a_level</th>\n",
       "      <th>secondary_cleaner.state.floatbank5_b_air</th>\n",
       "      <th>secondary_cleaner.state.floatbank5_b_level</th>\n",
       "      <th>secondary_cleaner.state.floatbank6_a_air</th>\n",
       "      <th>secondary_cleaner.state.floatbank6_a_level</th>\n",
       "      <th>rougher.output.recovery</th>\n",
       "      <th>final.output.recovery</th>\n",
       "    </tr>\n",
       "    <tr>\n",
       "      <th>date</th>\n",
       "      <th></th>\n",
       "      <th></th>\n",
       "      <th></th>\n",
       "      <th></th>\n",
       "      <th></th>\n",
       "      <th></th>\n",
       "      <th></th>\n",
       "      <th></th>\n",
       "      <th></th>\n",
       "      <th></th>\n",
       "      <th></th>\n",
       "      <th></th>\n",
       "      <th></th>\n",
       "      <th></th>\n",
       "      <th></th>\n",
       "      <th></th>\n",
       "      <th></th>\n",
       "      <th></th>\n",
       "      <th></th>\n",
       "      <th></th>\n",
       "      <th></th>\n",
       "    </tr>\n",
       "  </thead>\n",
       "  <tbody>\n",
       "    <tr>\n",
       "      <th>2016-09-01 00:59:59</th>\n",
       "      <td>210.800909</td>\n",
       "      <td>14.993118</td>\n",
       "      <td>8.080000</td>\n",
       "      <td>1.005021</td>\n",
       "      <td>1398.981301</td>\n",
       "      <td>-500.225577</td>\n",
       "      <td>1399.144926</td>\n",
       "      <td>-499.919735</td>\n",
       "      <td>1400.102998</td>\n",
       "      <td>-500.704369</td>\n",
       "      <td>...</td>\n",
       "      <td>8.016656</td>\n",
       "      <td>-501.289139</td>\n",
       "      <td>7.946562</td>\n",
       "      <td>-432.317850</td>\n",
       "      <td>4.872511</td>\n",
       "      <td>-500.037437</td>\n",
       "      <td>26.705889</td>\n",
       "      <td>-499.709414</td>\n",
       "      <td>89.993421</td>\n",
       "      <td>70.273583</td>\n",
       "    </tr>\n",
       "    <tr>\n",
       "      <th>2016-09-01 01:59:59</th>\n",
       "      <td>215.392455</td>\n",
       "      <td>14.987471</td>\n",
       "      <td>8.080000</td>\n",
       "      <td>0.990469</td>\n",
       "      <td>1398.777912</td>\n",
       "      <td>-500.057435</td>\n",
       "      <td>1398.055362</td>\n",
       "      <td>-499.778182</td>\n",
       "      <td>1396.151033</td>\n",
       "      <td>-499.240168</td>\n",
       "      <td>...</td>\n",
       "      <td>8.130979</td>\n",
       "      <td>-499.634209</td>\n",
       "      <td>7.958270</td>\n",
       "      <td>-525.839648</td>\n",
       "      <td>4.878850</td>\n",
       "      <td>-500.162375</td>\n",
       "      <td>25.019940</td>\n",
       "      <td>-499.819438</td>\n",
       "      <td>88.089657</td>\n",
       "      <td>68.910432</td>\n",
       "    </tr>\n",
       "    <tr>\n",
       "      <th>2016-09-01 02:59:59</th>\n",
       "      <td>215.259946</td>\n",
       "      <td>12.884934</td>\n",
       "      <td>7.786667</td>\n",
       "      <td>0.996043</td>\n",
       "      <td>1398.493666</td>\n",
       "      <td>-500.868360</td>\n",
       "      <td>1398.860436</td>\n",
       "      <td>-499.764529</td>\n",
       "      <td>1398.075709</td>\n",
       "      <td>-502.151509</td>\n",
       "      <td>...</td>\n",
       "      <td>8.096893</td>\n",
       "      <td>-500.827423</td>\n",
       "      <td>8.071056</td>\n",
       "      <td>-500.801673</td>\n",
       "      <td>4.905125</td>\n",
       "      <td>-499.828510</td>\n",
       "      <td>24.994862</td>\n",
       "      <td>-500.622559</td>\n",
       "      <td>88.412756</td>\n",
       "      <td>68.143213</td>\n",
       "    </tr>\n",
       "    <tr>\n",
       "      <th>2016-09-01 03:59:59</th>\n",
       "      <td>215.336236</td>\n",
       "      <td>12.006805</td>\n",
       "      <td>7.640000</td>\n",
       "      <td>0.863514</td>\n",
       "      <td>1399.618111</td>\n",
       "      <td>-498.863574</td>\n",
       "      <td>1397.440120</td>\n",
       "      <td>-499.211024</td>\n",
       "      <td>1400.129303</td>\n",
       "      <td>-498.355873</td>\n",
       "      <td>...</td>\n",
       "      <td>8.074946</td>\n",
       "      <td>-499.474407</td>\n",
       "      <td>7.897085</td>\n",
       "      <td>-500.868509</td>\n",
       "      <td>4.931400</td>\n",
       "      <td>-499.963623</td>\n",
       "      <td>24.948919</td>\n",
       "      <td>-498.709987</td>\n",
       "      <td>87.360133</td>\n",
       "      <td>67.776393</td>\n",
       "    </tr>\n",
       "    <tr>\n",
       "      <th>2016-09-01 04:59:59</th>\n",
       "      <td>199.099327</td>\n",
       "      <td>10.682530</td>\n",
       "      <td>7.530000</td>\n",
       "      <td>0.805575</td>\n",
       "      <td>1401.268123</td>\n",
       "      <td>-500.808305</td>\n",
       "      <td>1398.128818</td>\n",
       "      <td>-499.504543</td>\n",
       "      <td>1402.172226</td>\n",
       "      <td>-500.810606</td>\n",
       "      <td>...</td>\n",
       "      <td>8.054678</td>\n",
       "      <td>-500.397500</td>\n",
       "      <td>8.107890</td>\n",
       "      <td>-509.526725</td>\n",
       "      <td>4.957674</td>\n",
       "      <td>-500.360026</td>\n",
       "      <td>25.003331</td>\n",
       "      <td>-500.856333</td>\n",
       "      <td>83.236367</td>\n",
       "      <td>61.467078</td>\n",
       "    </tr>\n",
       "  </tbody>\n",
       "</table>\n",
       "<p>5 rows × 54 columns</p>\n",
       "</div>"
      ],
      "text/plain": [
       "                     primary_cleaner.input.sulfate  \\\n",
       "date                                                 \n",
       "2016-09-01 00:59:59                     210.800909   \n",
       "2016-09-01 01:59:59                     215.392455   \n",
       "2016-09-01 02:59:59                     215.259946   \n",
       "2016-09-01 03:59:59                     215.336236   \n",
       "2016-09-01 04:59:59                     199.099327   \n",
       "\n",
       "                     primary_cleaner.input.depressant  \\\n",
       "date                                                    \n",
       "2016-09-01 00:59:59                         14.993118   \n",
       "2016-09-01 01:59:59                         14.987471   \n",
       "2016-09-01 02:59:59                         12.884934   \n",
       "2016-09-01 03:59:59                         12.006805   \n",
       "2016-09-01 04:59:59                         10.682530   \n",
       "\n",
       "                     primary_cleaner.input.feed_size  \\\n",
       "date                                                   \n",
       "2016-09-01 00:59:59                         8.080000   \n",
       "2016-09-01 01:59:59                         8.080000   \n",
       "2016-09-01 02:59:59                         7.786667   \n",
       "2016-09-01 03:59:59                         7.640000   \n",
       "2016-09-01 04:59:59                         7.530000   \n",
       "\n",
       "                     primary_cleaner.input.xanthate  \\\n",
       "date                                                  \n",
       "2016-09-01 00:59:59                        1.005021   \n",
       "2016-09-01 01:59:59                        0.990469   \n",
       "2016-09-01 02:59:59                        0.996043   \n",
       "2016-09-01 03:59:59                        0.863514   \n",
       "2016-09-01 04:59:59                        0.805575   \n",
       "\n",
       "                     primary_cleaner.state.floatbank8_a_air  \\\n",
       "date                                                          \n",
       "2016-09-01 00:59:59                             1398.981301   \n",
       "2016-09-01 01:59:59                             1398.777912   \n",
       "2016-09-01 02:59:59                             1398.493666   \n",
       "2016-09-01 03:59:59                             1399.618111   \n",
       "2016-09-01 04:59:59                             1401.268123   \n",
       "\n",
       "                     primary_cleaner.state.floatbank8_a_level  \\\n",
       "date                                                            \n",
       "2016-09-01 00:59:59                               -500.225577   \n",
       "2016-09-01 01:59:59                               -500.057435   \n",
       "2016-09-01 02:59:59                               -500.868360   \n",
       "2016-09-01 03:59:59                               -498.863574   \n",
       "2016-09-01 04:59:59                               -500.808305   \n",
       "\n",
       "                     primary_cleaner.state.floatbank8_b_air  \\\n",
       "date                                                          \n",
       "2016-09-01 00:59:59                             1399.144926   \n",
       "2016-09-01 01:59:59                             1398.055362   \n",
       "2016-09-01 02:59:59                             1398.860436   \n",
       "2016-09-01 03:59:59                             1397.440120   \n",
       "2016-09-01 04:59:59                             1398.128818   \n",
       "\n",
       "                     primary_cleaner.state.floatbank8_b_level  \\\n",
       "date                                                            \n",
       "2016-09-01 00:59:59                               -499.919735   \n",
       "2016-09-01 01:59:59                               -499.778182   \n",
       "2016-09-01 02:59:59                               -499.764529   \n",
       "2016-09-01 03:59:59                               -499.211024   \n",
       "2016-09-01 04:59:59                               -499.504543   \n",
       "\n",
       "                     primary_cleaner.state.floatbank8_c_air  \\\n",
       "date                                                          \n",
       "2016-09-01 00:59:59                             1400.102998   \n",
       "2016-09-01 01:59:59                             1396.151033   \n",
       "2016-09-01 02:59:59                             1398.075709   \n",
       "2016-09-01 03:59:59                             1400.129303   \n",
       "2016-09-01 04:59:59                             1402.172226   \n",
       "\n",
       "                     primary_cleaner.state.floatbank8_c_level  ...  \\\n",
       "date                                                           ...   \n",
       "2016-09-01 00:59:59                               -500.704369  ...   \n",
       "2016-09-01 01:59:59                               -499.240168  ...   \n",
       "2016-09-01 02:59:59                               -502.151509  ...   \n",
       "2016-09-01 03:59:59                               -498.355873  ...   \n",
       "2016-09-01 04:59:59                               -500.810606  ...   \n",
       "\n",
       "                     secondary_cleaner.state.floatbank4_b_air  \\\n",
       "date                                                            \n",
       "2016-09-01 00:59:59                                  8.016656   \n",
       "2016-09-01 01:59:59                                  8.130979   \n",
       "2016-09-01 02:59:59                                  8.096893   \n",
       "2016-09-01 03:59:59                                  8.074946   \n",
       "2016-09-01 04:59:59                                  8.054678   \n",
       "\n",
       "                     secondary_cleaner.state.floatbank4_b_level  \\\n",
       "date                                                              \n",
       "2016-09-01 00:59:59                                 -501.289139   \n",
       "2016-09-01 01:59:59                                 -499.634209   \n",
       "2016-09-01 02:59:59                                 -500.827423   \n",
       "2016-09-01 03:59:59                                 -499.474407   \n",
       "2016-09-01 04:59:59                                 -500.397500   \n",
       "\n",
       "                     secondary_cleaner.state.floatbank5_a_air  \\\n",
       "date                                                            \n",
       "2016-09-01 00:59:59                                  7.946562   \n",
       "2016-09-01 01:59:59                                  7.958270   \n",
       "2016-09-01 02:59:59                                  8.071056   \n",
       "2016-09-01 03:59:59                                  7.897085   \n",
       "2016-09-01 04:59:59                                  8.107890   \n",
       "\n",
       "                     secondary_cleaner.state.floatbank5_a_level  \\\n",
       "date                                                              \n",
       "2016-09-01 00:59:59                                 -432.317850   \n",
       "2016-09-01 01:59:59                                 -525.839648   \n",
       "2016-09-01 02:59:59                                 -500.801673   \n",
       "2016-09-01 03:59:59                                 -500.868509   \n",
       "2016-09-01 04:59:59                                 -509.526725   \n",
       "\n",
       "                     secondary_cleaner.state.floatbank5_b_air  \\\n",
       "date                                                            \n",
       "2016-09-01 00:59:59                                  4.872511   \n",
       "2016-09-01 01:59:59                                  4.878850   \n",
       "2016-09-01 02:59:59                                  4.905125   \n",
       "2016-09-01 03:59:59                                  4.931400   \n",
       "2016-09-01 04:59:59                                  4.957674   \n",
       "\n",
       "                     secondary_cleaner.state.floatbank5_b_level  \\\n",
       "date                                                              \n",
       "2016-09-01 00:59:59                                 -500.037437   \n",
       "2016-09-01 01:59:59                                 -500.162375   \n",
       "2016-09-01 02:59:59                                 -499.828510   \n",
       "2016-09-01 03:59:59                                 -499.963623   \n",
       "2016-09-01 04:59:59                                 -500.360026   \n",
       "\n",
       "                     secondary_cleaner.state.floatbank6_a_air  \\\n",
       "date                                                            \n",
       "2016-09-01 00:59:59                                 26.705889   \n",
       "2016-09-01 01:59:59                                 25.019940   \n",
       "2016-09-01 02:59:59                                 24.994862   \n",
       "2016-09-01 03:59:59                                 24.948919   \n",
       "2016-09-01 04:59:59                                 25.003331   \n",
       "\n",
       "                     secondary_cleaner.state.floatbank6_a_level  \\\n",
       "date                                                              \n",
       "2016-09-01 00:59:59                                 -499.709414   \n",
       "2016-09-01 01:59:59                                 -499.819438   \n",
       "2016-09-01 02:59:59                                 -500.622559   \n",
       "2016-09-01 03:59:59                                 -498.709987   \n",
       "2016-09-01 04:59:59                                 -500.856333   \n",
       "\n",
       "                     rougher.output.recovery  final.output.recovery  \n",
       "date                                                                 \n",
       "2016-09-01 00:59:59                89.993421              70.273583  \n",
       "2016-09-01 01:59:59                88.089657              68.910432  \n",
       "2016-09-01 02:59:59                88.412756              68.143213  \n",
       "2016-09-01 03:59:59                87.360133              67.776393  \n",
       "2016-09-01 04:59:59                83.236367              61.467078  \n",
       "\n",
       "[5 rows x 54 columns]"
      ]
     },
     "execution_count": 23,
     "metadata": {},
     "output_type": "execute_result"
    }
   ],
   "source": [
    "test_data.head()"
   ]
  },
  {
   "cell_type": "code",
   "execution_count": 24,
   "metadata": {},
   "outputs": [
    {
     "data": {
      "text/plain": [
       "final.output.recovery    70.273583\n",
       "Name: 2016-09-01 00:59:59, dtype: float64"
      ]
     },
     "metadata": {},
     "output_type": "display_data"
    },
    {
     "data": {
      "text/plain": [
       "final.output.recovery    70.273583\n",
       "Name: 2016-09-01 00:59:59, dtype: float64"
      ]
     },
     "metadata": {},
     "output_type": "display_data"
    }
   ],
   "source": [
    "# проверим правильность соединения целевых признаков\n",
    "display(test_data.loc['2016-09-01 00:59:59'][['final.output.recovery']])\n",
    "display(full_data.loc['2016-09-01 00:59:59'][['final.output.recovery']])"
   ]
  },
  {
   "cell_type": "markdown",
   "metadata": {},
   "source": [
    "Целевые признаки включены в тестовую выборку корректно"
   ]
  },
  {
   "cell_type": "markdown",
   "metadata": {},
   "source": [
    "Для дальнейших расчетов удалим из обучающей выборке признаки, которых нет в тестовой выборке"
   ]
  },
  {
   "cell_type": "code",
   "execution_count": 25,
   "metadata": {
    "scrolled": true
   },
   "outputs": [],
   "source": [
    "differences_2 = (list(set(train_data.columns) - set(test_data.columns)))\n",
    "train_data = train_data.drop(differences_2, axis=1)"
   ]
  },
  {
   "cell_type": "code",
   "execution_count": 26,
   "metadata": {},
   "outputs": [
    {
     "name": "stdout",
     "output_type": "stream",
     "text": [
      "[]\n"
     ]
    }
   ],
   "source": [
    "# проверим удаление признаков\n",
    "train_drop = (list(set(train_data.columns) - set(test_data.columns)))\n",
    "print(np.sort(train_drop))"
   ]
  },
  {
   "cell_type": "code",
   "execution_count": 27,
   "metadata": {
    "scrolled": true
   },
   "outputs": [
    {
     "data": {
      "text/plain": [
       "(54, 54)"
      ]
     },
     "execution_count": 27,
     "metadata": {},
     "output_type": "execute_result"
    }
   ],
   "source": [
    "# проверим кол-во столбцов в выборках\n",
    "train_data.shape[1], test_data.shape[1]\n"
   ]
  },
  {
   "cell_type": "markdown",
   "metadata": {},
   "source": [
    "Кол-во столбцов в выборках совпадает, все сделано правильно"
   ]
  },
  {
   "cell_type": "code",
   "execution_count": 28,
   "metadata": {},
   "outputs": [
    {
     "name": "stdout",
     "output_type": "stream",
     "text": [
      "primary_cleaner.input.sulfate                   0\n",
      "primary_cleaner.input.depressant                0\n",
      "primary_cleaner.input.feed_size                 0\n",
      "primary_cleaner.input.xanthate                  0\n",
      "primary_cleaner.state.floatbank8_a_air          0\n",
      "primary_cleaner.state.floatbank8_a_level        0\n",
      "primary_cleaner.state.floatbank8_b_air          0\n",
      "primary_cleaner.state.floatbank8_b_level        0\n",
      "primary_cleaner.state.floatbank8_c_air          0\n",
      "primary_cleaner.state.floatbank8_c_level        0\n",
      "primary_cleaner.state.floatbank8_d_air          0\n",
      "primary_cleaner.state.floatbank8_d_level        0\n",
      "rougher.input.feed_ag                           0\n",
      "rougher.input.feed_pb                           0\n",
      "rougher.input.feed_rate                         0\n",
      "rougher.input.feed_size                         0\n",
      "rougher.input.feed_sol                          0\n",
      "rougher.input.feed_au                           0\n",
      "rougher.input.floatbank10_sulfate               0\n",
      "rougher.input.floatbank10_xanthate              0\n",
      "rougher.input.floatbank11_sulfate               0\n",
      "rougher.input.floatbank11_xanthate              0\n",
      "rougher.state.floatbank10_a_air                 0\n",
      "rougher.state.floatbank10_a_level               0\n",
      "rougher.state.floatbank10_b_air                 0\n",
      "rougher.state.floatbank10_b_level               0\n",
      "rougher.state.floatbank10_c_air                 0\n",
      "rougher.state.floatbank10_c_level               0\n",
      "rougher.state.floatbank10_d_air                 0\n",
      "rougher.state.floatbank10_d_level               0\n",
      "rougher.state.floatbank10_e_air                 0\n",
      "rougher.state.floatbank10_e_level               0\n",
      "rougher.state.floatbank10_f_air                 0\n",
      "rougher.state.floatbank10_f_level               0\n",
      "secondary_cleaner.state.floatbank2_a_air        0\n",
      "secondary_cleaner.state.floatbank2_a_level      0\n",
      "secondary_cleaner.state.floatbank2_b_air        0\n",
      "secondary_cleaner.state.floatbank2_b_level      0\n",
      "secondary_cleaner.state.floatbank3_a_air        0\n",
      "secondary_cleaner.state.floatbank3_a_level      0\n",
      "secondary_cleaner.state.floatbank3_b_air        0\n",
      "secondary_cleaner.state.floatbank3_b_level      0\n",
      "secondary_cleaner.state.floatbank4_a_air        0\n",
      "secondary_cleaner.state.floatbank4_a_level      0\n",
      "secondary_cleaner.state.floatbank4_b_air        0\n",
      "secondary_cleaner.state.floatbank4_b_level      0\n",
      "secondary_cleaner.state.floatbank5_a_air        0\n",
      "secondary_cleaner.state.floatbank5_a_level      0\n",
      "secondary_cleaner.state.floatbank5_b_air        0\n",
      "secondary_cleaner.state.floatbank5_b_level      0\n",
      "secondary_cleaner.state.floatbank6_a_air        0\n",
      "secondary_cleaner.state.floatbank6_a_level      0\n",
      "rougher.output.recovery                       566\n",
      "final.output.recovery                         566\n",
      "dtype: int64\n"
     ]
    }
   ],
   "source": [
    "# еще раз проверим пустые значения тестовой выборки\n",
    "print(test_data.isna().sum())"
   ]
  },
  {
   "cell_type": "code",
   "execution_count": 29,
   "metadata": {},
   "outputs": [],
   "source": [
    "# удалим пропуски в тестовой выборке в добавленных целевых признаках\n",
    "test_data = test_data.dropna(subset=['rougher.output.recovery', 'final.output.recovery'])"
   ]
  },
  {
   "cell_type": "markdown",
   "metadata": {},
   "source": [
    "**Вывод:**\n",
    "- удалили пропуски в целевых признаках\n",
    "- заполнили остальные пропуски соседними значениями методам `ffill`\n",
    "- в тестовую выборку добавили целевые признаки\n",
    "- удалили в обучающей выборке признаки, отсутствующие в тестовой выборке\n"
   ]
  },
  {
   "cell_type": "markdown",
   "metadata": {},
   "source": [
    "### Вывод"
   ]
  },
  {
   "cell_type": "markdown",
   "metadata": {},
   "source": [
    "В результате проделанной работы мы открыли файлы с выборками, изучили их, определили наличие пропусков, которые обработали для дальнейшей работы. Проверили корректность расчета эффективности обогащения. Изучили тестовую выборку на предмет отсутствующих данных, добавили в нее целевые признаки, необходимые для проекта. Очистили обучающую выборку от ненужных признаков для дальнейшей работы."
   ]
  },
  {
   "cell_type": "markdown",
   "metadata": {},
   "source": [
    "## Анализ данных"
   ]
  },
  {
   "cell_type": "markdown",
   "metadata": {},
   "source": [
    "**В ходе этапа выполним следующее:**\n",
    "\n",
    "1. определим, как меняется концентрация металлов (Au, Ag, Pb) на различных этапах очистки, опишем выводы.\n",
    "2. сравним распределения размеров гранул сырья на обучающей и тестовой выборках. Если распределения сильно отличаются друг от друга, оценка модели будет неправильной.\n",
    "3. исследуем суммарную концентрацию всех веществ на разных стадиях: в сырье, в черновом и финальном концентратах."
   ]
  },
  {
   "cell_type": "markdown",
   "metadata": {},
   "source": [
    "### Концентрация металлов на этапах очистки"
   ]
  },
  {
   "cell_type": "code",
   "execution_count": 30,
   "metadata": {},
   "outputs": [
    {
     "name": "stdout",
     "output_type": "stream",
     "text": [
      "<class 'pandas.core.frame.DataFrame'>\n",
      "DatetimeIndex: 19439 entries, 2016-01-15 00:00:00 to 2018-08-18 10:59:59\n",
      "Data columns (total 86 columns):\n",
      " #   Column                                              Non-Null Count  Dtype  \n",
      "---  ------                                              --------------  -----  \n",
      " 0   final.output.concentrate_ag                         19439 non-null  float64\n",
      " 1   final.output.concentrate_pb                         19439 non-null  float64\n",
      " 2   final.output.concentrate_sol                        19439 non-null  float64\n",
      " 3   final.output.concentrate_au                         19439 non-null  float64\n",
      " 4   final.output.recovery                               19439 non-null  float64\n",
      " 5   final.output.tail_ag                                19439 non-null  float64\n",
      " 6   final.output.tail_pb                                19439 non-null  float64\n",
      " 7   final.output.tail_sol                               19439 non-null  float64\n",
      " 8   final.output.tail_au                                19439 non-null  float64\n",
      " 9   primary_cleaner.input.sulfate                       19439 non-null  float64\n",
      " 10  primary_cleaner.input.depressant                    19439 non-null  float64\n",
      " 11  primary_cleaner.input.feed_size                     19439 non-null  float64\n",
      " 12  primary_cleaner.input.xanthate                      19439 non-null  float64\n",
      " 13  primary_cleaner.output.concentrate_ag               19439 non-null  float64\n",
      " 14  primary_cleaner.output.concentrate_pb               19439 non-null  float64\n",
      " 15  primary_cleaner.output.concentrate_sol              19439 non-null  float64\n",
      " 16  primary_cleaner.output.concentrate_au               19439 non-null  float64\n",
      " 17  primary_cleaner.output.tail_ag                      19439 non-null  float64\n",
      " 18  primary_cleaner.output.tail_pb                      19439 non-null  float64\n",
      " 19  primary_cleaner.output.tail_sol                     19439 non-null  float64\n",
      " 20  primary_cleaner.output.tail_au                      19439 non-null  float64\n",
      " 21  primary_cleaner.state.floatbank8_a_air              19439 non-null  float64\n",
      " 22  primary_cleaner.state.floatbank8_a_level            19439 non-null  float64\n",
      " 23  primary_cleaner.state.floatbank8_b_air              19439 non-null  float64\n",
      " 24  primary_cleaner.state.floatbank8_b_level            19439 non-null  float64\n",
      " 25  primary_cleaner.state.floatbank8_c_air              19439 non-null  float64\n",
      " 26  primary_cleaner.state.floatbank8_c_level            19439 non-null  float64\n",
      " 27  primary_cleaner.state.floatbank8_d_air              19439 non-null  float64\n",
      " 28  primary_cleaner.state.floatbank8_d_level            19439 non-null  float64\n",
      " 29  rougher.calculation.sulfate_to_au_concentrate       19439 non-null  float64\n",
      " 30  rougher.calculation.floatbank10_sulfate_to_au_feed  19439 non-null  float64\n",
      " 31  rougher.calculation.floatbank11_sulfate_to_au_feed  19439 non-null  float64\n",
      " 32  rougher.calculation.au_pb_ratio                     19439 non-null  float64\n",
      " 33  rougher.input.feed_ag                               19439 non-null  float64\n",
      " 34  rougher.input.feed_pb                               19439 non-null  float64\n",
      " 35  rougher.input.feed_rate                             19439 non-null  float64\n",
      " 36  rougher.input.feed_size                             19439 non-null  float64\n",
      " 37  rougher.input.feed_sol                              19439 non-null  float64\n",
      " 38  rougher.input.feed_au                               19439 non-null  float64\n",
      " 39  rougher.input.floatbank10_sulfate                   19439 non-null  float64\n",
      " 40  rougher.input.floatbank10_xanthate                  19439 non-null  float64\n",
      " 41  rougher.input.floatbank11_sulfate                   19439 non-null  float64\n",
      " 42  rougher.input.floatbank11_xanthate                  19439 non-null  float64\n",
      " 43  rougher.output.concentrate_ag                       19439 non-null  float64\n",
      " 44  rougher.output.concentrate_pb                       19439 non-null  float64\n",
      " 45  rougher.output.concentrate_sol                      19439 non-null  float64\n",
      " 46  rougher.output.concentrate_au                       19439 non-null  float64\n",
      " 47  rougher.output.recovery                             19439 non-null  float64\n",
      " 48  rougher.output.tail_ag                              19439 non-null  float64\n",
      " 49  rougher.output.tail_pb                              19439 non-null  float64\n",
      " 50  rougher.output.tail_sol                             19439 non-null  float64\n",
      " 51  rougher.output.tail_au                              19439 non-null  float64\n",
      " 52  rougher.state.floatbank10_a_air                     19439 non-null  float64\n",
      " 53  rougher.state.floatbank10_a_level                   19439 non-null  float64\n",
      " 54  rougher.state.floatbank10_b_air                     19439 non-null  float64\n",
      " 55  rougher.state.floatbank10_b_level                   19439 non-null  float64\n",
      " 56  rougher.state.floatbank10_c_air                     19439 non-null  float64\n",
      " 57  rougher.state.floatbank10_c_level                   19439 non-null  float64\n",
      " 58  rougher.state.floatbank10_d_air                     19439 non-null  float64\n",
      " 59  rougher.state.floatbank10_d_level                   19439 non-null  float64\n",
      " 60  rougher.state.floatbank10_e_air                     19439 non-null  float64\n",
      " 61  rougher.state.floatbank10_e_level                   19439 non-null  float64\n",
      " 62  rougher.state.floatbank10_f_air                     19439 non-null  float64\n",
      " 63  rougher.state.floatbank10_f_level                   19439 non-null  float64\n",
      " 64  secondary_cleaner.output.tail_ag                    19439 non-null  float64\n",
      " 65  secondary_cleaner.output.tail_pb                    19439 non-null  float64\n",
      " 66  secondary_cleaner.output.tail_sol                   19439 non-null  float64\n",
      " 67  secondary_cleaner.output.tail_au                    19439 non-null  float64\n",
      " 68  secondary_cleaner.state.floatbank2_a_air            19439 non-null  float64\n",
      " 69  secondary_cleaner.state.floatbank2_a_level          19439 non-null  float64\n",
      " 70  secondary_cleaner.state.floatbank2_b_air            19439 non-null  float64\n",
      " 71  secondary_cleaner.state.floatbank2_b_level          19439 non-null  float64\n",
      " 72  secondary_cleaner.state.floatbank3_a_air            19439 non-null  float64\n",
      " 73  secondary_cleaner.state.floatbank3_a_level          19439 non-null  float64\n",
      " 74  secondary_cleaner.state.floatbank3_b_air            19439 non-null  float64\n",
      " 75  secondary_cleaner.state.floatbank3_b_level          19439 non-null  float64\n",
      " 76  secondary_cleaner.state.floatbank4_a_air            19439 non-null  float64\n",
      " 77  secondary_cleaner.state.floatbank4_a_level          19439 non-null  float64\n",
      " 78  secondary_cleaner.state.floatbank4_b_air            19439 non-null  float64\n",
      " 79  secondary_cleaner.state.floatbank4_b_level          19439 non-null  float64\n",
      " 80  secondary_cleaner.state.floatbank5_a_air            19439 non-null  float64\n",
      " 81  secondary_cleaner.state.floatbank5_a_level          19439 non-null  float64\n",
      " 82  secondary_cleaner.state.floatbank5_b_air            19439 non-null  float64\n",
      " 83  secondary_cleaner.state.floatbank5_b_level          19439 non-null  float64\n",
      " 84  secondary_cleaner.state.floatbank6_a_air            19439 non-null  float64\n",
      " 85  secondary_cleaner.state.floatbank6_a_level          19439 non-null  float64\n",
      "dtypes: float64(86)\n",
      "memory usage: 13.4 MB\n"
     ]
    }
   ],
   "source": [
    "full_data.info()"
   ]
  },
  {
   "cell_type": "markdown",
   "metadata": {},
   "source": [
    "Посмотрим на концентрацию золота (Au) на технологических этапах"
   ]
  },
  {
   "cell_type": "code",
   "execution_count": 31,
   "metadata": {
    "scrolled": false
   },
   "outputs": [
    {
     "data": {
      "image/png": "[encoded data removed]",
      "text/plain": [
       "<Figure size 1080x576 with 1 Axes>"
      ]
     },
     "metadata": {
      "needs_background": "light"
     },
     "output_type": "display_data"
    }
   ],
   "source": [
    "plt.figure(figsize=[15,8])\n",
    "plt.hist(full_data['rougher.input.feed_au'], bins=100, label = 'исходное сырье', alpha=0.5)\n",
    "plt.hist(full_data['rougher.output.concentrate_au'], bins=100, label = 'флотация', alpha=0.5)\n",
    "plt.hist(full_data['primary_cleaner.output.concentrate_au'], \n",
    "         bins=100, label = 'первичная очистка', alpha=0.5)\n",
    "plt.hist(full_data['final.output.concentrate_au'], bins=100, label = 'финальная стадия', alpha=0.5)\n",
    "plt.xlim([0, 60])\n",
    "plt.ylim([0, 3000])\n",
    "plt.xlabel(\"Концентрация золота на этапах\")\n",
    "plt.ylabel(\"Количество\")\n",
    "plt.legend(loc='upper left', fontsize='x-large')\n",
    "plt.title(\"Распределение концентрации золота\")\n",
    "plt.show()"
   ]
  },
  {
   "cell_type": "markdown",
   "metadata": {},
   "source": [
    "Как видно из графика, концентрация золота повышается после каждого этапа."
   ]
  },
  {
   "cell_type": "markdown",
   "metadata": {},
   "source": [
    "Посмотрим на концентрацию серебра (Ag) на технологических этапах"
   ]
  },
  {
   "cell_type": "code",
   "execution_count": 32,
   "metadata": {
    "scrolled": true
   },
   "outputs": [
    {
     "data": {
      "image/png": "[encoded data removed]",
      "text/plain": [
       "<Figure size 1080x576 with 1 Axes>"
      ]
     },
     "metadata": {
      "needs_background": "light"
     },
     "output_type": "display_data"
    }
   ],
   "source": [
    "plt.figure(figsize=[15,8])\n",
    "plt.hist(full_data['rougher.input.feed_ag'], bins=100, label = 'исходное сырье', alpha=0.5)\n",
    "plt.hist(full_data['rougher.output.concentrate_ag'], bins=100, label = 'флотация', alpha=0.5)\n",
    "plt.hist(full_data['primary_cleaner.output.concentrate_ag'], \n",
    "         bins=100, label = 'первичная очистка', alpha=0.5)\n",
    "plt.hist(full_data['final.output.concentrate_ag'], bins=100, label = 'финальная стадия', alpha=0.5)\n",
    "plt.xlim([0, 30])\n",
    "plt.ylim([0, 1200])\n",
    "plt.xlabel(\"Концентрация серебра на этапах\")\n",
    "plt.ylabel(\"Количество\")\n",
    "plt.legend(loc='upper left', fontsize='x-large')\n",
    "plt.title(\"Распределение концентрации серебра\")\n",
    "plt.show()"
   ]
  },
  {
   "cell_type": "markdown",
   "metadata": {},
   "source": [
    "Концентрация серебра наоборот в финальном продукте меньше, связано, скорее всего, с преобладанием золота в сырье"
   ]
  },
  {
   "cell_type": "markdown",
   "metadata": {},
   "source": [
    "Посмотрим на концентрацию свинца (Pb) на технологических этапах"
   ]
  },
  {
   "cell_type": "code",
   "execution_count": 33,
   "metadata": {},
   "outputs": [
    {
     "data": {
      "image/png": "[encoded data removed]",
      "text/plain": [
       "<Figure size 1080x576 with 1 Axes>"
      ]
     },
     "metadata": {
      "needs_background": "light"
     },
     "output_type": "display_data"
    }
   ],
   "source": [
    "plt.figure(figsize=[15,8])\n",
    "plt.hist(full_data['rougher.input.feed_pb'], bins=100, label = 'исходное сырье', alpha=0.5)\n",
    "plt.hist(full_data['rougher.output.concentrate_pb'], bins=100, label = 'флотация', alpha=0.5)\n",
    "plt.hist(full_data['primary_cleaner.output.concentrate_pb'], \n",
    "         bins=100, label = 'первичная очистка', alpha=0.5)\n",
    "plt.hist(full_data['final.output.concentrate_pb'], bins=100, label = 'финальная стадия', alpha=0.5)\n",
    "plt.xlim([0, 30])\n",
    "plt.ylim([0, 1200])\n",
    "plt.xlabel(\"Концентрация свинца на этапах\")\n",
    "plt.ylabel(\"Количество\")\n",
    "plt.legend(loc='upper left', fontsize='x-large')\n",
    "plt.title(\"Распределение концентрации свинца\")\n",
    "plt.show()"
   ]
  },
  {
   "cell_type": "markdown",
   "metadata": {},
   "source": [
    "Концентрация свинца увеличивается немного после флотации и практически не меняется после последующих очисток"
   ]
  },
  {
   "cell_type": "markdown",
   "metadata": {},
   "source": [
    "### Распределение размера гранул сырья"
   ]
  },
  {
   "cell_type": "markdown",
   "metadata": {},
   "source": [
    "Сравним распределения размеров гранул сырья на обучающей и тестовой выборках"
   ]
  },
  {
   "cell_type": "code",
   "execution_count": 34,
   "metadata": {},
   "outputs": [
    {
     "data": {
      "image/png": "[encoded data removed]",
      "text/plain": [
       "<Figure size 720x576 with 1 Axes>"
      ]
     },
     "metadata": {
      "needs_background": "light"
     },
     "output_type": "display_data"
    }
   ],
   "source": [
    "plt.figure(figsize=[10,8])\n",
    "\n",
    "plt.hist(train_data['rougher.input.feed_size'], bins=200, label = 'Размер гранул на обучающей выборке', alpha=0.5)\n",
    "plt.hist(test_data['rougher.input.feed_size'], bins=200, label = 'Размер гранул на тестовой выборке', alpha=0.5)\n",
    "plt.xlim([0, 600])\n",
    "plt.ylim([0, 2000])\n",
    "plt.xlabel(\"Размер гранул сырья\")\n",
    "plt.ylabel(\"Количество\")\n",
    "plt.legend(loc='upper left', fontsize='x-large')\n",
    "plt.title(\"Распределение гранул исходного сырья\")\n",
    "plt.show()\n"
   ]
  },
  {
   "cell_type": "markdown",
   "metadata": {},
   "source": [
    "Распределения по выборкам похожи, существуют выбросы с размером гранул более 100."
   ]
  },
  {
   "cell_type": "markdown",
   "metadata": {},
   "source": [
    "Сравним статистические параметры выборок по размеру гранул"
   ]
  },
  {
   "cell_type": "code",
   "execution_count": 35,
   "metadata": {},
   "outputs": [
    {
     "data": {
      "text/html": [
       "<div>\n",
       "<style scoped>\n",
       "    .dataframe tbody tr th:only-of-type {\n",
       "        vertical-align: middle;\n",
       "    }\n",
       "\n",
       "    .dataframe tbody tr th {\n",
       "        vertical-align: top;\n",
       "    }\n",
       "\n",
       "    .dataframe thead th {\n",
       "        text-align: right;\n",
       "    }\n",
       "</style>\n",
       "<table border=\"1\" class=\"dataframe\">\n",
       "  <thead>\n",
       "    <tr style=\"text-align: right;\">\n",
       "      <th></th>\n",
       "      <th>rougher.input.feed_size</th>\n",
       "    </tr>\n",
       "  </thead>\n",
       "  <tbody>\n",
       "    <tr>\n",
       "      <th>count</th>\n",
       "      <td>14287.000000</td>\n",
       "    </tr>\n",
       "    <tr>\n",
       "      <th>mean</th>\n",
       "      <td>60.179089</td>\n",
       "    </tr>\n",
       "    <tr>\n",
       "      <th>std</th>\n",
       "      <td>22.985089</td>\n",
       "    </tr>\n",
       "    <tr>\n",
       "      <th>min</th>\n",
       "      <td>9.659576</td>\n",
       "    </tr>\n",
       "    <tr>\n",
       "      <th>25%</th>\n",
       "      <td>48.932377</td>\n",
       "    </tr>\n",
       "    <tr>\n",
       "      <th>50%</th>\n",
       "      <td>55.251872</td>\n",
       "    </tr>\n",
       "    <tr>\n",
       "      <th>75%</th>\n",
       "      <td>65.976914</td>\n",
       "    </tr>\n",
       "    <tr>\n",
       "      <th>max</th>\n",
       "      <td>484.967466</td>\n",
       "    </tr>\n",
       "  </tbody>\n",
       "</table>\n",
       "</div>"
      ],
      "text/plain": [
       "       rougher.input.feed_size\n",
       "count             14287.000000\n",
       "mean                 60.179089\n",
       "std                  22.985089\n",
       "min                   9.659576\n",
       "25%                  48.932377\n",
       "50%                  55.251872\n",
       "75%                  65.976914\n",
       "max                 484.967466"
      ]
     },
     "execution_count": 35,
     "metadata": {},
     "output_type": "execute_result"
    }
   ],
   "source": [
    "train_data[['rougher.input.feed_size']].dropna().describe()"
   ]
  },
  {
   "cell_type": "code",
   "execution_count": 36,
   "metadata": {},
   "outputs": [
    {
     "data": {
      "text/html": [
       "<div>\n",
       "<style scoped>\n",
       "    .dataframe tbody tr th:only-of-type {\n",
       "        vertical-align: middle;\n",
       "    }\n",
       "\n",
       "    .dataframe tbody tr th {\n",
       "        vertical-align: top;\n",
       "    }\n",
       "\n",
       "    .dataframe thead th {\n",
       "        text-align: right;\n",
       "    }\n",
       "</style>\n",
       "<table border=\"1\" class=\"dataframe\">\n",
       "  <thead>\n",
       "    <tr style=\"text-align: right;\">\n",
       "      <th></th>\n",
       "      <th>rougher.input.feed_size</th>\n",
       "    </tr>\n",
       "  </thead>\n",
       "  <tbody>\n",
       "    <tr>\n",
       "      <th>count</th>\n",
       "      <td>5290.000000</td>\n",
       "    </tr>\n",
       "    <tr>\n",
       "      <th>mean</th>\n",
       "      <td>55.952754</td>\n",
       "    </tr>\n",
       "    <tr>\n",
       "      <th>std</th>\n",
       "      <td>19.080334</td>\n",
       "    </tr>\n",
       "    <tr>\n",
       "      <th>min</th>\n",
       "      <td>0.046369</td>\n",
       "    </tr>\n",
       "    <tr>\n",
       "      <th>25%</th>\n",
       "      <td>43.906504</td>\n",
       "    </tr>\n",
       "    <tr>\n",
       "      <th>50%</th>\n",
       "      <td>50.846843</td>\n",
       "    </tr>\n",
       "    <tr>\n",
       "      <th>75%</th>\n",
       "      <td>62.451165</td>\n",
       "    </tr>\n",
       "    <tr>\n",
       "      <th>max</th>\n",
       "      <td>392.494040</td>\n",
       "    </tr>\n",
       "  </tbody>\n",
       "</table>\n",
       "</div>"
      ],
      "text/plain": [
       "       rougher.input.feed_size\n",
       "count              5290.000000\n",
       "mean                 55.952754\n",
       "std                  19.080334\n",
       "min                   0.046369\n",
       "25%                  43.906504\n",
       "50%                  50.846843\n",
       "75%                  62.451165\n",
       "max                 392.494040"
      ]
     },
     "execution_count": 36,
     "metadata": {},
     "output_type": "execute_result"
    }
   ],
   "source": [
    "test_data[['rougher.input.feed_size']].dropna().describe()"
   ]
  },
  {
   "cell_type": "markdown",
   "metadata": {},
   "source": [
    "Статистические данные отличаются не сильно, можно применять данные для построения моделей"
   ]
  },
  {
   "cell_type": "markdown",
   "metadata": {},
   "source": [
    "### Суммарная концентрация веществ на разных этапах"
   ]
  },
  {
   "cell_type": "markdown",
   "metadata": {},
   "source": [
    "Исследуем суммарную концентрацию всех веществ на разных стадиях: в сырье, в черновом и финальном концентратах."
   ]
  },
  {
   "cell_type": "code",
   "execution_count": 37,
   "metadata": {},
   "outputs": [],
   "source": [
    "# расчитаем сумму концентраций всех веществ на разных этапах обработки\n",
    "sum_metals = {'rougher':[x for x in full_data.columns if x.startswith('rougher.output.concentrate')],\n",
    "               'primary_cleaner':[x for x in full_data.columns if x.startswith('primary_cleaner.output.concentrate')],\n",
    "               'final':[x for x in full_data.columns if x.startswith('final.output.concentrate')]}\n"
   ]
  },
  {
   "cell_type": "code",
   "execution_count": 38,
   "metadata": {},
   "outputs": [
    {
     "data": {
      "image/png": "[encoded data removed]",
      "text/plain": [
       "<Figure size 1080x576 with 1 Axes>"
      ]
     },
     "metadata": {
      "needs_background": "light"
     },
     "output_type": "display_data"
    }
   ],
   "source": [
    "plt.figure(figsize=[15,8])\n",
    "\n",
    "for key in sum_metals:\n",
    "    np.sum(full_data[sum_metals[key]], axis=1).hist(bins = 200, alpha = 0.5)\n",
    "    \n",
    "plt.xlim([0, 100])\n",
    "plt.ylim([0, 1500])\n",
    "plt.xlabel(\"Концентрация веществ\")\n",
    "plt.ylabel(\"Количество\")\n",
    "plt.legend(['Сырье', 'Черновая очистка', 'Финальная стадия'], loc='upper left', fontsize='x-large')\n",
    "plt.title(\"Распределение концентраций на разных этапах очистки\")\n",
    "plt.show()"
   ]
  },
  {
   "cell_type": "markdown",
   "metadata": {},
   "source": [
    "Из графика суммарной концентрации веществ видим, что она от этапа к этапу сужается, как и должно быть.\n",
    "<br> Также в общем файле присутствуют нулевые аномальные значения."
   ]
  },
  {
   "cell_type": "markdown",
   "metadata": {},
   "source": [
    "Проверим сколько нулевых значений в тренировочной выборке, на которой будем обучать нашу модель."
   ]
  },
  {
   "cell_type": "code",
   "execution_count": 39,
   "metadata": {
    "scrolled": true
   },
   "outputs": [
    {
     "data": {
      "text/plain": [
       "final.output.recovery                          63\n",
       "primary_cleaner.input.sulfate                   0\n",
       "primary_cleaner.input.depressant               20\n",
       "primary_cleaner.input.feed_size                 0\n",
       "primary_cleaner.input.xanthate                  0\n",
       "primary_cleaner.state.floatbank8_a_air          0\n",
       "primary_cleaner.state.floatbank8_a_level        0\n",
       "primary_cleaner.state.floatbank8_b_air          0\n",
       "primary_cleaner.state.floatbank8_b_level        0\n",
       "primary_cleaner.state.floatbank8_c_air          0\n",
       "primary_cleaner.state.floatbank8_c_level        0\n",
       "primary_cleaner.state.floatbank8_d_air          0\n",
       "primary_cleaner.state.floatbank8_d_level        0\n",
       "rougher.input.feed_ag                           0\n",
       "rougher.input.feed_pb                           0\n",
       "rougher.input.feed_rate                         0\n",
       "rougher.input.feed_size                         0\n",
       "rougher.input.feed_sol                          0\n",
       "rougher.input.feed_au                           0\n",
       "rougher.input.floatbank10_sulfate               0\n",
       "rougher.input.floatbank10_xanthate              0\n",
       "rougher.input.floatbank11_sulfate               0\n",
       "rougher.input.floatbank11_xanthate              0\n",
       "rougher.output.recovery                       320\n",
       "rougher.state.floatbank10_a_air                 0\n",
       "rougher.state.floatbank10_a_level               0\n",
       "rougher.state.floatbank10_b_air                 0\n",
       "rougher.state.floatbank10_b_level               0\n",
       "rougher.state.floatbank10_c_air                 0\n",
       "rougher.state.floatbank10_c_level               0\n",
       "rougher.state.floatbank10_d_air                 0\n",
       "rougher.state.floatbank10_d_level               0\n",
       "rougher.state.floatbank10_e_air                 0\n",
       "rougher.state.floatbank10_e_level               0\n",
       "rougher.state.floatbank10_f_air                 0\n",
       "rougher.state.floatbank10_f_level               0\n",
       "secondary_cleaner.state.floatbank2_a_air        0\n",
       "secondary_cleaner.state.floatbank2_a_level      0\n",
       "secondary_cleaner.state.floatbank2_b_air        8\n",
       "secondary_cleaner.state.floatbank2_b_level      0\n",
       "secondary_cleaner.state.floatbank3_a_air        1\n",
       "secondary_cleaner.state.floatbank3_a_level      0\n",
       "secondary_cleaner.state.floatbank3_b_air        1\n",
       "secondary_cleaner.state.floatbank3_b_level      0\n",
       "secondary_cleaner.state.floatbank4_a_air        1\n",
       "secondary_cleaner.state.floatbank4_a_level      0\n",
       "secondary_cleaner.state.floatbank4_b_air        1\n",
       "secondary_cleaner.state.floatbank4_b_level      0\n",
       "secondary_cleaner.state.floatbank5_a_air        0\n",
       "secondary_cleaner.state.floatbank5_a_level      0\n",
       "secondary_cleaner.state.floatbank5_b_air        0\n",
       "secondary_cleaner.state.floatbank5_b_level      0\n",
       "secondary_cleaner.state.floatbank6_a_air        0\n",
       "secondary_cleaner.state.floatbank6_a_level      0\n",
       "dtype: int64"
      ]
     },
     "execution_count": 39,
     "metadata": {},
     "output_type": "execute_result"
    }
   ],
   "source": [
    "train_data.eq(0).sum()"
   ]
  },
  {
   "cell_type": "markdown",
   "metadata": {},
   "source": [
    "Нулевые значения также присутствуют в целевых признаках. Отбросим их в обучающей выборке для дальнейшего построения моделей"
   ]
  },
  {
   "cell_type": "code",
   "execution_count": 40,
   "metadata": {},
   "outputs": [],
   "source": [
    "train_data[train_data.eq(0)]=np.nan\n",
    "train_data.dropna(axis=0, inplace=True)"
   ]
  },
  {
   "cell_type": "code",
   "execution_count": 41,
   "metadata": {
    "scrolled": false
   },
   "outputs": [
    {
     "data": {
      "text/plain": [
       "final.output.recovery                         0\n",
       "primary_cleaner.input.sulfate                 0\n",
       "primary_cleaner.input.depressant              0\n",
       "primary_cleaner.input.feed_size               0\n",
       "primary_cleaner.input.xanthate                0\n",
       "primary_cleaner.state.floatbank8_a_air        0\n",
       "primary_cleaner.state.floatbank8_a_level      0\n",
       "primary_cleaner.state.floatbank8_b_air        0\n",
       "primary_cleaner.state.floatbank8_b_level      0\n",
       "primary_cleaner.state.floatbank8_c_air        0\n",
       "primary_cleaner.state.floatbank8_c_level      0\n",
       "primary_cleaner.state.floatbank8_d_air        0\n",
       "primary_cleaner.state.floatbank8_d_level      0\n",
       "rougher.input.feed_ag                         0\n",
       "rougher.input.feed_pb                         0\n",
       "rougher.input.feed_rate                       0\n",
       "rougher.input.feed_size                       0\n",
       "rougher.input.feed_sol                        0\n",
       "rougher.input.feed_au                         0\n",
       "rougher.input.floatbank10_sulfate             0\n",
       "rougher.input.floatbank10_xanthate            0\n",
       "rougher.input.floatbank11_sulfate             0\n",
       "rougher.input.floatbank11_xanthate            0\n",
       "rougher.output.recovery                       0\n",
       "rougher.state.floatbank10_a_air               0\n",
       "rougher.state.floatbank10_a_level             0\n",
       "rougher.state.floatbank10_b_air               0\n",
       "rougher.state.floatbank10_b_level             0\n",
       "rougher.state.floatbank10_c_air               0\n",
       "rougher.state.floatbank10_c_level             0\n",
       "rougher.state.floatbank10_d_air               0\n",
       "rougher.state.floatbank10_d_level             0\n",
       "rougher.state.floatbank10_e_air               0\n",
       "rougher.state.floatbank10_e_level             0\n",
       "rougher.state.floatbank10_f_air               0\n",
       "rougher.state.floatbank10_f_level             0\n",
       "secondary_cleaner.state.floatbank2_a_air      0\n",
       "secondary_cleaner.state.floatbank2_a_level    0\n",
       "secondary_cleaner.state.floatbank2_b_air      0\n",
       "secondary_cleaner.state.floatbank2_b_level    0\n",
       "secondary_cleaner.state.floatbank3_a_air      0\n",
       "secondary_cleaner.state.floatbank3_a_level    0\n",
       "secondary_cleaner.state.floatbank3_b_air      0\n",
       "secondary_cleaner.state.floatbank3_b_level    0\n",
       "secondary_cleaner.state.floatbank4_a_air      0\n",
       "secondary_cleaner.state.floatbank4_a_level    0\n",
       "secondary_cleaner.state.floatbank4_b_air      0\n",
       "secondary_cleaner.state.floatbank4_b_level    0\n",
       "secondary_cleaner.state.floatbank5_a_air      0\n",
       "secondary_cleaner.state.floatbank5_a_level    0\n",
       "secondary_cleaner.state.floatbank5_b_air      0\n",
       "secondary_cleaner.state.floatbank5_b_level    0\n",
       "secondary_cleaner.state.floatbank6_a_air      0\n",
       "secondary_cleaner.state.floatbank6_a_level    0\n",
       "dtype: int64"
      ]
     },
     "execution_count": 41,
     "metadata": {},
     "output_type": "execute_result"
    }
   ],
   "source": [
    "train_data.eq(0).sum()"
   ]
  },
  {
   "cell_type": "markdown",
   "metadata": {},
   "source": [
    "Избавились в тестовой выборке от аномальных (нулевых) значений."
   ]
  },
  {
   "cell_type": "markdown",
   "metadata": {},
   "source": [
    "### Вывод"
   ]
  },
  {
   "cell_type": "markdown",
   "metadata": {},
   "source": [
    "На данном шаге мы:\n",
    "- определили концентрацию веществ в исходном сырье и на каждом этапе технологической обработке\n",
    "- проверили распределение гранул веществ на тестовой и обучающей выборке, сделали вывод, что они похоже и не испортят нашу модель в дальнейшем\n",
    "- определили суммарную концентрацию веществ в сурье и на этапах обработки\n",
    "- удалили из обучающей выборки концентрацию веществ с нулевыми значениями\n",
    "<br> Данные готовы для построения модели."
   ]
  },
  {
   "cell_type": "markdown",
   "metadata": {},
   "source": [
    "## Модель"
   ]
  },
  {
   "cell_type": "markdown",
   "metadata": {},
   "source": [
    "**В ходе этапа выполним следующее:**\n",
    "\n",
    "1. Напишем функцию для вычисления итоговой sMAPE.\n",
    "2. Обучим разные модели и оценим их качество кросс-валидацией. \n",
    "3. Выберем лучшую модель и проверим её на тестовой выборке.\n",
    "4. Опишем выводы."
   ]
  },
  {
   "cell_type": "markdown",
   "metadata": {},
   "source": [
    "### Функция sMAPE"
   ]
  },
  {
   "cell_type": "markdown",
   "metadata": {},
   "source": [
    "Напишем функцию для вычисления итоговой sMAPE (симметричного среднего абсолютного процентного отклонения)\n",
    "<br> Итоговый sMAPE = 25% * sMAPE(rougher) + 75% * sMAPE(final)"
   ]
  },
  {
   "cell_type": "code",
   "execution_count": 42,
   "metadata": {},
   "outputs": [],
   "source": [
    "def smape(y_target, y_pred):\n",
    "    return ((1/len(y_target)) * np.sum(2 * np.abs(y_target - y_pred) / (np.abs(y_target) + np.abs(y_pred)))) * 100\n"
   ]
  },
  {
   "cell_type": "code",
   "execution_count": 43,
   "metadata": {},
   "outputs": [],
   "source": [
    "def smape_final(rough, final):\n",
    "    return 0.25*rough+0.75*final"
   ]
  },
  {
   "cell_type": "markdown",
   "metadata": {},
   "source": [
    "Для тестирования моделей кросс-валидацией создадим scorer, который будет высчитывать sMAPЕ. \n",
    "<br> Для этого применим метод make_scorer"
   ]
  },
  {
   "cell_type": "code",
   "execution_count": 44,
   "metadata": {},
   "outputs": [],
   "source": [
    "smape_scoring = make_scorer(smape, greater_is_better=False)"
   ]
  },
  {
   "cell_type": "markdown",
   "metadata": {},
   "source": [
    "### Подготовка признаков"
   ]
  },
  {
   "cell_type": "markdown",
   "metadata": {},
   "source": [
    "Наши целевые признаки: `rougher.output.recovery`, `final.output.recovery`"
   ]
  },
  {
   "cell_type": "markdown",
   "metadata": {},
   "source": [
    "Выделим признаки для двух этапов процесса отдельно"
   ]
  },
  {
   "cell_type": "code",
   "execution_count": 45,
   "metadata": {
    "scrolled": false
   },
   "outputs": [
    {
     "data": {
      "text/plain": [
       "['rougher.input.feed_ag',\n",
       " 'rougher.input.feed_pb',\n",
       " 'rougher.input.feed_rate',\n",
       " 'rougher.input.feed_size',\n",
       " 'rougher.input.feed_sol',\n",
       " 'rougher.input.feed_au',\n",
       " 'rougher.input.floatbank10_sulfate',\n",
       " 'rougher.input.floatbank10_xanthate',\n",
       " 'rougher.input.floatbank11_sulfate',\n",
       " 'rougher.input.floatbank11_xanthate',\n",
       " 'rougher.output.recovery',\n",
       " 'rougher.state.floatbank10_a_air',\n",
       " 'rougher.state.floatbank10_a_level',\n",
       " 'rougher.state.floatbank10_b_air',\n",
       " 'rougher.state.floatbank10_b_level',\n",
       " 'rougher.state.floatbank10_c_air',\n",
       " 'rougher.state.floatbank10_c_level',\n",
       " 'rougher.state.floatbank10_d_air',\n",
       " 'rougher.state.floatbank10_d_level',\n",
       " 'rougher.state.floatbank10_e_air',\n",
       " 'rougher.state.floatbank10_e_level',\n",
       " 'rougher.state.floatbank10_f_air',\n",
       " 'rougher.state.floatbank10_f_level']"
      ]
     },
     "execution_count": 45,
     "metadata": {},
     "output_type": "execute_result"
    }
   ],
   "source": [
    "# вытащим все признаки с принадлежностью к rougher\n",
    "rougher_features = []\n",
    "for column in train_data.columns:\n",
    "    if (\"rougher\" in column):\n",
    "        rougher_features.append(column)\n",
    "rougher_features "
   ]
  },
  {
   "cell_type": "code",
   "execution_count": 46,
   "metadata": {},
   "outputs": [],
   "source": [
    "# перезапишем признаки, отбросив целевой\n",
    "rougher_features = ['rougher.input.feed_ag',\n",
    " 'rougher.input.feed_pb',\n",
    " 'rougher.input.feed_rate',\n",
    " 'rougher.input.feed_size',\n",
    " 'rougher.input.feed_sol',\n",
    " 'rougher.input.feed_au',\n",
    " 'rougher.input.floatbank10_sulfate',\n",
    " 'rougher.input.floatbank10_xanthate',\n",
    " 'rougher.input.floatbank11_sulfate',\n",
    " 'rougher.input.floatbank11_xanthate',\n",
    " 'rougher.state.floatbank10_a_air',\n",
    " 'rougher.state.floatbank10_a_level',\n",
    " 'rougher.state.floatbank10_b_air',\n",
    " 'rougher.state.floatbank10_b_level',\n",
    " 'rougher.state.floatbank10_c_air',\n",
    " 'rougher.state.floatbank10_c_level',\n",
    " 'rougher.state.floatbank10_d_air',\n",
    " 'rougher.state.floatbank10_d_level',\n",
    " 'rougher.state.floatbank10_e_air',\n",
    " 'rougher.state.floatbank10_e_level',\n",
    " 'rougher.state.floatbank10_f_air',\n",
    " 'rougher.state.floatbank10_f_level']"
   ]
  },
  {
   "cell_type": "code",
   "execution_count": 47,
   "metadata": {
    "scrolled": false
   },
   "outputs": [
    {
     "data": {
      "text/plain": [
       "['final.output.recovery',\n",
       " 'primary_cleaner.input.sulfate',\n",
       " 'primary_cleaner.input.depressant',\n",
       " 'primary_cleaner.input.feed_size',\n",
       " 'primary_cleaner.input.xanthate',\n",
       " 'primary_cleaner.state.floatbank8_a_air',\n",
       " 'primary_cleaner.state.floatbank8_a_level',\n",
       " 'primary_cleaner.state.floatbank8_b_air',\n",
       " 'primary_cleaner.state.floatbank8_b_level',\n",
       " 'primary_cleaner.state.floatbank8_c_air',\n",
       " 'primary_cleaner.state.floatbank8_c_level',\n",
       " 'primary_cleaner.state.floatbank8_d_air',\n",
       " 'primary_cleaner.state.floatbank8_d_level',\n",
       " 'secondary_cleaner.state.floatbank2_a_air',\n",
       " 'secondary_cleaner.state.floatbank2_a_level',\n",
       " 'secondary_cleaner.state.floatbank2_b_air',\n",
       " 'secondary_cleaner.state.floatbank2_b_level',\n",
       " 'secondary_cleaner.state.floatbank3_a_air',\n",
       " 'secondary_cleaner.state.floatbank3_a_level',\n",
       " 'secondary_cleaner.state.floatbank3_b_air',\n",
       " 'secondary_cleaner.state.floatbank3_b_level',\n",
       " 'secondary_cleaner.state.floatbank4_a_air',\n",
       " 'secondary_cleaner.state.floatbank4_a_level',\n",
       " 'secondary_cleaner.state.floatbank4_b_air',\n",
       " 'secondary_cleaner.state.floatbank4_b_level',\n",
       " 'secondary_cleaner.state.floatbank5_a_air',\n",
       " 'secondary_cleaner.state.floatbank5_a_level',\n",
       " 'secondary_cleaner.state.floatbank5_b_air',\n",
       " 'secondary_cleaner.state.floatbank5_b_level',\n",
       " 'secondary_cleaner.state.floatbank6_a_air',\n",
       " 'secondary_cleaner.state.floatbank6_a_level']"
      ]
     },
     "execution_count": 47,
     "metadata": {},
     "output_type": "execute_result"
    }
   ],
   "source": [
    "# вытащим все признаки не относящиеся к rougher\n",
    "final_features = []\n",
    "for column in train_data.columns:\n",
    "    if not(\"rougher\" in column):\n",
    "        final_features.append(column)\n",
    "final_features"
   ]
  },
  {
   "cell_type": "code",
   "execution_count": 48,
   "metadata": {},
   "outputs": [],
   "source": [
    "# перезапишем признаки, отбросив целевой\n",
    "final_features = ['primary_cleaner.input.sulfate',\n",
    " 'primary_cleaner.input.depressant',\n",
    " 'primary_cleaner.input.feed_size',\n",
    " 'primary_cleaner.input.xanthate',\n",
    " 'primary_cleaner.state.floatbank8_a_air',\n",
    " 'primary_cleaner.state.floatbank8_a_level',\n",
    " 'primary_cleaner.state.floatbank8_b_air',\n",
    " 'primary_cleaner.state.floatbank8_b_level',\n",
    " 'primary_cleaner.state.floatbank8_c_air',\n",
    " 'primary_cleaner.state.floatbank8_c_level',\n",
    " 'primary_cleaner.state.floatbank8_d_air',\n",
    " 'primary_cleaner.state.floatbank8_d_level',\n",
    " 'secondary_cleaner.state.floatbank2_a_air',\n",
    " 'secondary_cleaner.state.floatbank2_a_level',\n",
    " 'secondary_cleaner.state.floatbank2_b_air',\n",
    " 'secondary_cleaner.state.floatbank2_b_level',\n",
    " 'secondary_cleaner.state.floatbank3_a_air',\n",
    " 'secondary_cleaner.state.floatbank3_a_level',\n",
    " 'secondary_cleaner.state.floatbank3_b_air',\n",
    " 'secondary_cleaner.state.floatbank3_b_level',\n",
    " 'secondary_cleaner.state.floatbank4_a_air',\n",
    " 'secondary_cleaner.state.floatbank4_a_level',\n",
    " 'secondary_cleaner.state.floatbank4_b_air',\n",
    " 'secondary_cleaner.state.floatbank4_b_level',\n",
    " 'secondary_cleaner.state.floatbank5_a_air',\n",
    " 'secondary_cleaner.state.floatbank5_a_level',\n",
    " 'secondary_cleaner.state.floatbank5_b_air',\n",
    " 'secondary_cleaner.state.floatbank5_b_level',\n",
    " 'secondary_cleaner.state.floatbank6_a_air',\n",
    " 'secondary_cleaner.state.floatbank6_a_level']"
   ]
  },
  {
   "cell_type": "code",
   "execution_count": 49,
   "metadata": {},
   "outputs": [],
   "source": [
    "# обозначим признаки для обучения моделей\n",
    "\n",
    "train_rougher_features = train_data[rougher_features]\n",
    "train_rougher_target = train_data['rougher.output.recovery']\n",
    "test_rougher_features = test_data[rougher_features]\n",
    "test_rougher_target = test_data['rougher.output.recovery']\n",
    "\n",
    "train_final_features = train_data[final_features+rougher_features]\n",
    "train_final_target = train_data['final.output.recovery']\n",
    "test_final_features = test_data[final_features+rougher_features]\n",
    "test_final_target = test_data['final.output.recovery']\n"
   ]
  },
  {
   "cell_type": "markdown",
   "metadata": {},
   "source": [
    "Признаки подготовили для построения моделей"
   ]
  },
  {
   "cell_type": "markdown",
   "metadata": {},
   "source": [
    "### Построение моделей и выбор лучшей"
   ]
  },
  {
   "cell_type": "markdown",
   "metadata": {},
   "source": [
    "Построим три модели для оценки на них sMAPE и выбора наилучшей:\n",
    "- модель линейной регрессии `LinearRegression`\n",
    "- модель случайного леса `RandomForestRegressor`\n",
    "- модель дерева решений `DecisionTreeRegressor`"
   ]
  },
  {
   "cell_type": "code",
   "execution_count": 50,
   "metadata": {
    "scrolled": true
   },
   "outputs": [
    {
     "name": "stdout",
     "output_type": "stream",
     "text": [
      "Linear Regression: 7.673664\n",
      "Random Forest Regressor: 5.331627\n",
      "Decision Tree Regressor: 7.609402\n"
     ]
    }
   ],
   "source": [
    "pipelines = []\n",
    "rand = 1\n",
    "pipelines.append(('Linear Regression',\n",
    "                  (Pipeline([('scaled', MinMaxScaler()),\n",
    "                             ('LR', LinearRegression())]))))\n",
    "pipelines.append(('Random Forest Regressor',\n",
    "                  (Pipeline([#('scaled', MinMaxScaler()),#\n",
    "                             ('RFR', RandomForestRegressor(random_state=rand))]))))\n",
    "pipelines.append(('Decision Tree Regressor',\n",
    "                  (Pipeline([#('scaled', MinMaxScaler()),#\n",
    "                             ('DT', DecisionTreeRegressor(random_state=rand))]))))\n",
    "\n",
    "model_name = []\n",
    "results = []\n",
    "for pipe, model in pipelines:\n",
    "    kfold = KFold(n_splits=3, shuffle= True)\n",
    "    crossv_results_rougher = cross_val_score(model, train_rougher_features, train_rougher_target, cv = kfold, scoring=smape_scoring)\n",
    "    crossv_results_final = cross_val_score(model, train_final_features, train_final_target, cv = kfold, scoring=smape_scoring)\n",
    "    results.append(abs(smape_final(crossv_results_rougher, crossv_results_final)))\n",
    "    model_name.append(pipe)\n",
    "    msg = \"%s: %f\" % (pipe, np.mean(results[-1]))\n",
    "    print(msg)\n",
    "    "
   ]
  },
  {
   "cell_type": "markdown",
   "metadata": {},
   "source": [
    "Наилучший показатель дает модель Random Forest Regressor - 5,3"
   ]
  },
  {
   "cell_type": "markdown",
   "metadata": {},
   "source": [
    "Построим константную модель и на ней тоже расчитаем sMAPE"
   ]
  },
  {
   "cell_type": "code",
   "execution_count": 51,
   "metadata": {},
   "outputs": [
    {
     "data": {
      "text/plain": [
       "9.451852503803497"
      ]
     },
     "execution_count": 51,
     "metadata": {},
     "output_type": "execute_result"
    }
   ],
   "source": [
    "base_rougher = DummyRegressor(strategy=\"median\")\n",
    "base_final = DummyRegressor(strategy=\"median\")\n",
    "base_rougher.fit(train_rougher_features, train_rougher_target)\n",
    "base_final.fit(train_final_features, train_final_target)\n",
    "base_rougher_pred = base_rougher.predict(test_rougher_target)\n",
    "base_final_pred = base_final.predict(test_final_target)\n",
    "rough = smape(test_rougher_target, base_rougher_pred) \n",
    "final = smape(test_final_target, base_final_pred)\n",
    "dummy_smape_final = smape_final(rough, final)\n",
    "dummy_smape_final\n"
   ]
  },
  {
   "cell_type": "markdown",
   "metadata": {},
   "source": [
    "Значение на константной модели выше всех обученных нами моделей, что говорит о том, что наши модели корректны."
   ]
  },
  {
   "cell_type": "markdown",
   "metadata": {},
   "source": [
    "### Проверка на тестовой выборке"
   ]
  },
  {
   "cell_type": "markdown",
   "metadata": {},
   "source": [
    "Как и на обучающей выборке перемешаем признаки тестовой выборки"
   ]
  },
  {
   "cell_type": "code",
   "execution_count": 52,
   "metadata": {},
   "outputs": [],
   "source": [
    "train_rougher_features_shuffled = shuffle(train_rougher_features, random_state = 1)\n",
    "test_rougher_features_shuffled = shuffle(test_rougher_features, random_state = 1)\n",
    "train_rougher_target_shuffled = shuffle(train_rougher_target, random_state = 1)\n",
    "test_rougher_target_shuffled = shuffle(test_rougher_target, random_state = 1)\n",
    "\n",
    "train_final_features_shuffled = shuffle(train_final_features, random_state = 1)\n",
    "test_final_features_shuffled = shuffle(test_final_features, random_state = 1)\n",
    "train_final_target_shuffled = shuffle(train_final_target, random_state = 1)\n",
    "test_final_target_shuffled = shuffle(test_final_target, random_state = 1)"
   ]
  },
  {
   "cell_type": "markdown",
   "metadata": {},
   "source": [
    "Построим модель и расчитаем sMAPE по тестовой выборке"
   ]
  },
  {
   "cell_type": "code",
   "execution_count": 53,
   "metadata": {},
   "outputs": [],
   "source": [
    "pipe = Pipeline([('scaled', MinMaxScaler()), ('RFR', RandomForestRegressor(random_state=rand))])\n",
    "pipe.fit(train_rougher_features_shuffled, train_rougher_target_shuffled)\n",
    "pred_rougher = pipe.predict(test_rougher_features_shuffled)\n",
    "rougher = smape(test_rougher_target_shuffled, pred_rougher)"
   ]
  },
  {
   "cell_type": "code",
   "execution_count": 54,
   "metadata": {},
   "outputs": [],
   "source": [
    "pipe_final = Pipeline([('scaled', MinMaxScaler()), ('RFR', RandomForestRegressor(random_state=rand))])\n",
    "pipe_final.fit(train_final_features_shuffled, train_final_target_shuffled)\n",
    "pred_final = pipe_final.predict(test_final_features_shuffled)\n",
    "final = smape(test_final_target_shuffled, pred_final)"
   ]
  },
  {
   "cell_type": "code",
   "execution_count": 55,
   "metadata": {},
   "outputs": [
    {
     "data": {
      "text/plain": [
       "9.244047383867542"
      ]
     },
     "execution_count": 55,
     "metadata": {},
     "output_type": "execute_result"
    }
   ],
   "source": [
    "smape_final(rougher, final)"
   ]
  },
  {
   "cell_type": "markdown",
   "metadata": {},
   "source": [
    "Результат нашей метрики на тестовой модели получился меньше на 0.2 , чем на константной, что говорит о корректности расчетов"
   ]
  },
  {
   "cell_type": "markdown",
   "metadata": {},
   "source": [
    "### Выводы"
   ]
  },
  {
   "cell_type": "markdown",
   "metadata": {},
   "source": [
    "В ходе этапа сделали следующее:\n",
    "- записали функцию с расчетов необходимой метрики sMAPE, по которой оценивали качество моделей\n",
    "- подготовили признаки для обучения моделей по двум этапам процесса в отдельности\n",
    "- построили три модели: линейная регрессия, случайный лес и дерево решений.\n",
    "- расчитали для каждой модели метрику sMAPE и по наименьшему значению определили как наилучшую - модель случайного леса с показателем sMAPE = 5,3\n",
    "- проверили также sMAPE на константной модели (значение - 9,45)\n",
    "- и проверили расчет модели случайного леса на тестовой выборке, sMAPE показал результат 9,2, что лучше константной модели."
   ]
  },
  {
   "cell_type": "markdown",
   "metadata": {},
   "source": [
    "## Вывод по проекту"
   ]
  },
  {
   "cell_type": "markdown",
   "metadata": {},
   "source": [
    "В целом по проекту была проделана большая работа, в результате которой:\n",
    "- изучен процесс добычи золота из руды\n",
    "- изучены представленные данные: общие, обучающая и тестовые выборки. Проведен их анализ, определены отсутствующие признаки в тестовой выборке\n",
    "- выполнена предобработка данных в проекте: обработаны пропуски и нулевые значения, лишние признаки удалены из обучающей выборке, в тестовую выборку добавлены целевые признаки\n",
    "- проведен анализ данных проекта: определены концентрации металлов на разных этапах обработки, изучены распределения гранул сырья на обучающей и тестовой выборках (установлено, что они похожи), расчитана суммарная концентрация веществ на разных этапах обработки\n",
    "- в результате проведенной масштабной работы и анализа, данные были подготовлены для построения моделей и выбора наиболее оптимальной\n",
    "- в проекте были построены 3 модели методом pipeline (в виду большого кол-ва признаков, расчет их происходит медленно). По итогам определения значений sMAPE наилучшей моделью со значением 5,3 была выбрана модель RandomForestRegressor. Ее адекватность была проверена на константной модели и тестовой выборке.\n",
    "\n",
    "В результате всей проделанной работы можно рекомендовать RandomForestRegressor как прототип модели машинного обучения для «Цифры» для целей предсказания коэффициента восстановления золота из золотосодержащей руды.\n",
    "\n",
    "Данная модель позволит оптимизировать производство, исключив убыточную добычу."
   ]
  }
 ],
 "metadata": {
  "ExecuteTimeLog": [
   {
    "duration": 3179,
    "start_time": "2022-03-21T18:10:35.388Z"
   },
   {
    "duration": 869,
    "start_time": "2022-03-21T18:10:39.653Z"
   },
   {
    "duration": 817,
    "start_time": "2022-03-21T18:13:34.281Z"
   },
   {
    "duration": 20,
    "start_time": "2022-03-21T18:44:11.634Z"
   },
   {
    "duration": 50,
    "start_time": "2022-03-22T17:45:25.578Z"
   },
   {
    "duration": 1838,
    "start_time": "2022-03-22T17:45:34.588Z"
   },
   {
    "duration": 2241,
    "start_time": "2022-03-22T17:45:36.428Z"
   },
   {
    "duration": 24,
    "start_time": "2022-03-22T17:45:38.672Z"
   },
   {
    "duration": 88,
    "start_time": "2022-03-22T17:45:38.698Z"
   },
   {
    "duration": 8,
    "start_time": "2022-03-22T17:45:46.175Z"
   },
   {
    "duration": 37,
    "start_time": "2022-03-22T17:45:59.261Z"
   },
   {
    "duration": 24,
    "start_time": "2022-03-22T17:46:12.428Z"
   },
   {
    "duration": 22,
    "start_time": "2022-03-22T17:46:22.991Z"
   },
   {
    "duration": 26,
    "start_time": "2022-03-22T17:46:28.183Z"
   },
   {
    "duration": 28,
    "start_time": "2022-03-22T17:46:33.044Z"
   },
   {
    "duration": 19,
    "start_time": "2022-03-22T17:46:51.418Z"
   },
   {
    "duration": 25,
    "start_time": "2022-03-22T17:47:11.151Z"
   },
   {
    "duration": 20,
    "start_time": "2022-03-22T17:47:22.860Z"
   },
   {
    "duration": 21,
    "start_time": "2022-03-22T17:47:36.418Z"
   },
   {
    "duration": 28,
    "start_time": "2022-03-22T17:47:42.058Z"
   },
   {
    "duration": 17,
    "start_time": "2022-03-22T17:50:10.999Z"
   },
   {
    "duration": 14,
    "start_time": "2022-03-22T17:50:44.117Z"
   },
   {
    "duration": 10,
    "start_time": "2022-03-22T17:51:08.285Z"
   },
   {
    "duration": 1957,
    "start_time": "2022-03-22T18:42:59.545Z"
   },
   {
    "duration": 1818,
    "start_time": "2022-03-22T18:43:01.505Z"
   },
   {
    "duration": 22,
    "start_time": "2022-03-22T18:43:03.325Z"
   },
   {
    "duration": 26,
    "start_time": "2022-03-22T18:43:03.350Z"
   },
   {
    "duration": 38,
    "start_time": "2022-03-22T18:43:03.378Z"
   },
   {
    "duration": 20,
    "start_time": "2022-03-22T18:43:03.419Z"
   },
   {
    "duration": 22,
    "start_time": "2022-03-22T18:43:03.441Z"
   },
   {
    "duration": 47,
    "start_time": "2022-03-22T18:43:03.465Z"
   },
   {
    "duration": 15,
    "start_time": "2022-03-22T18:43:03.514Z"
   },
   {
    "duration": 25,
    "start_time": "2022-03-22T18:43:03.533Z"
   },
   {
    "duration": 41,
    "start_time": "2022-03-22T18:43:03.561Z"
   },
   {
    "duration": 38,
    "start_time": "2022-03-22T18:59:24.172Z"
   },
   {
    "duration": 12,
    "start_time": "2022-03-22T19:00:10.100Z"
   },
   {
    "duration": 215,
    "start_time": "2022-03-22T19:03:00.212Z"
   },
   {
    "duration": 224,
    "start_time": "2022-03-22T19:03:27.904Z"
   },
   {
    "duration": 200,
    "start_time": "2022-03-22T19:03:58.035Z"
   },
   {
    "duration": 5,
    "start_time": "2022-03-22T19:04:48.082Z"
   },
   {
    "duration": 7,
    "start_time": "2022-03-22T19:05:16.430Z"
   },
   {
    "duration": 6,
    "start_time": "2022-03-22T19:06:32.954Z"
   },
   {
    "duration": 119,
    "start_time": "2022-03-22T19:06:34.402Z"
   },
   {
    "duration": 1803,
    "start_time": "2022-03-22T19:07:15.506Z"
   },
   {
    "duration": 924,
    "start_time": "2022-03-22T19:07:17.311Z"
   },
   {
    "duration": 21,
    "start_time": "2022-03-22T19:07:18.237Z"
   },
   {
    "duration": 46,
    "start_time": "2022-03-22T19:07:18.260Z"
   },
   {
    "duration": 13,
    "start_time": "2022-03-22T19:07:18.308Z"
   },
   {
    "duration": 18,
    "start_time": "2022-03-22T19:07:18.323Z"
   },
   {
    "duration": 21,
    "start_time": "2022-03-22T19:07:18.343Z"
   },
   {
    "duration": 18,
    "start_time": "2022-03-22T19:07:18.366Z"
   },
   {
    "duration": 28,
    "start_time": "2022-03-22T19:07:18.386Z"
   },
   {
    "duration": 22,
    "start_time": "2022-03-22T19:07:18.415Z"
   },
   {
    "duration": 10,
    "start_time": "2022-03-22T19:07:18.439Z"
   },
   {
    "duration": 11,
    "start_time": "2022-03-22T19:07:18.451Z"
   },
   {
    "duration": 9,
    "start_time": "2022-03-22T19:07:18.464Z"
   },
   {
    "duration": 9,
    "start_time": "2022-03-22T19:07:18.476Z"
   },
   {
    "duration": 4250,
    "start_time": "2022-03-22T19:08:45.345Z"
   },
   {
    "duration": 26,
    "start_time": "2022-03-22T19:09:05.576Z"
   },
   {
    "duration": 20,
    "start_time": "2022-03-22T19:10:37.060Z"
   },
   {
    "duration": 13,
    "start_time": "2022-03-22T19:10:50.534Z"
   },
   {
    "duration": 11,
    "start_time": "2022-03-22T19:14:28.674Z"
   },
   {
    "duration": 3,
    "start_time": "2022-03-22T19:50:42.680Z"
   },
   {
    "duration": 5,
    "start_time": "2022-03-22T19:52:07.424Z"
   },
   {
    "duration": 4,
    "start_time": "2022-03-22T19:52:35.774Z"
   },
   {
    "duration": 4,
    "start_time": "2022-03-22T19:52:39.545Z"
   },
   {
    "duration": 5,
    "start_time": "2022-03-22T19:52:49.287Z"
   },
   {
    "duration": 4,
    "start_time": "2022-03-22T19:55:11.769Z"
   },
   {
    "duration": 3159,
    "start_time": "2022-03-24T17:35:36.138Z"
   },
   {
    "duration": 1208,
    "start_time": "2022-03-24T17:35:39.300Z"
   },
   {
    "duration": 19,
    "start_time": "2022-03-24T17:35:40.510Z"
   },
   {
    "duration": 25,
    "start_time": "2022-03-24T17:35:40.531Z"
   },
   {
    "duration": 12,
    "start_time": "2022-03-24T17:35:40.558Z"
   },
   {
    "duration": 16,
    "start_time": "2022-03-24T17:35:40.571Z"
   },
   {
    "duration": 18,
    "start_time": "2022-03-24T17:35:40.589Z"
   },
   {
    "duration": 33,
    "start_time": "2022-03-24T17:35:40.609Z"
   },
   {
    "duration": 13,
    "start_time": "2022-03-24T17:35:40.644Z"
   },
   {
    "duration": 19,
    "start_time": "2022-03-24T17:35:40.659Z"
   },
   {
    "duration": 12,
    "start_time": "2022-03-24T17:35:40.680Z"
   },
   {
    "duration": 44,
    "start_time": "2022-03-24T17:35:40.694Z"
   },
   {
    "duration": 5,
    "start_time": "2022-03-24T17:35:40.740Z"
   },
   {
    "duration": 11,
    "start_time": "2022-03-24T17:35:40.747Z"
   },
   {
    "duration": 22,
    "start_time": "2022-03-24T17:35:40.760Z"
   },
   {
    "duration": 4,
    "start_time": "2022-03-24T17:35:40.784Z"
   },
   {
    "duration": 16,
    "start_time": "2022-03-24T17:35:40.790Z"
   },
   {
    "duration": 104,
    "start_time": "2022-03-24T17:39:28.110Z"
   },
   {
    "duration": 1346,
    "start_time": "2022-03-24T17:40:36.568Z"
   },
   {
    "duration": 1495,
    "start_time": "2022-03-24T17:40:37.916Z"
   },
   {
    "duration": 20,
    "start_time": "2022-03-24T17:40:39.412Z"
   },
   {
    "duration": 21,
    "start_time": "2022-03-24T17:40:39.434Z"
   },
   {
    "duration": 12,
    "start_time": "2022-03-24T17:40:39.457Z"
   },
   {
    "duration": 16,
    "start_time": "2022-03-24T17:40:39.471Z"
   },
   {
    "duration": 47,
    "start_time": "2022-03-24T17:40:39.488Z"
   },
   {
    "duration": 10,
    "start_time": "2022-03-24T17:40:39.537Z"
   },
   {
    "duration": 11,
    "start_time": "2022-03-24T17:40:39.549Z"
   },
   {
    "duration": 19,
    "start_time": "2022-03-24T17:40:39.563Z"
   },
   {
    "duration": 8,
    "start_time": "2022-03-24T17:40:39.583Z"
   },
   {
    "duration": 44,
    "start_time": "2022-03-24T17:40:39.593Z"
   },
   {
    "duration": 6,
    "start_time": "2022-03-24T17:40:39.639Z"
   },
   {
    "duration": 11,
    "start_time": "2022-03-24T17:40:39.646Z"
   },
   {
    "duration": 25,
    "start_time": "2022-03-24T17:40:39.659Z"
   },
   {
    "duration": 4,
    "start_time": "2022-03-24T17:40:39.686Z"
   },
   {
    "duration": 17,
    "start_time": "2022-03-24T17:40:39.692Z"
   },
   {
    "duration": 122,
    "start_time": "2022-03-24T17:40:39.711Z"
   },
   {
    "duration": 9,
    "start_time": "2022-03-24T17:42:54.822Z"
   },
   {
    "duration": 10,
    "start_time": "2022-03-24T17:43:01.836Z"
   },
   {
    "duration": 9,
    "start_time": "2022-03-24T17:43:14.311Z"
   },
   {
    "duration": 10,
    "start_time": "2022-03-24T17:43:26.180Z"
   },
   {
    "duration": 12,
    "start_time": "2022-03-24T17:43:36.626Z"
   },
   {
    "duration": 6,
    "start_time": "2022-03-24T17:43:38.736Z"
   },
   {
    "duration": 9,
    "start_time": "2022-03-24T17:44:02.540Z"
   },
   {
    "duration": 9,
    "start_time": "2022-03-24T17:44:44.588Z"
   },
   {
    "duration": 9,
    "start_time": "2022-03-24T17:45:03.013Z"
   },
   {
    "duration": 9,
    "start_time": "2022-03-24T17:46:01.890Z"
   },
   {
    "duration": 11,
    "start_time": "2022-03-24T17:46:41.441Z"
   },
   {
    "duration": 9,
    "start_time": "2022-03-24T17:46:45.211Z"
   },
   {
    "duration": 1425,
    "start_time": "2022-03-24T17:46:55.217Z"
   },
   {
    "duration": 1020,
    "start_time": "2022-03-24T17:46:56.645Z"
   },
   {
    "duration": 68,
    "start_time": "2022-03-24T17:46:57.667Z"
   },
   {
    "duration": 24,
    "start_time": "2022-03-24T17:46:57.736Z"
   },
   {
    "duration": 13,
    "start_time": "2022-03-24T17:46:57.762Z"
   },
   {
    "duration": 69,
    "start_time": "2022-03-24T17:46:57.777Z"
   },
   {
    "duration": 21,
    "start_time": "2022-03-24T17:46:57.847Z"
   },
   {
    "duration": 69,
    "start_time": "2022-03-24T17:46:57.870Z"
   },
   {
    "duration": 14,
    "start_time": "2022-03-24T17:46:57.940Z"
   },
   {
    "duration": 78,
    "start_time": "2022-03-24T17:46:57.956Z"
   },
   {
    "duration": 12,
    "start_time": "2022-03-24T17:46:58.037Z"
   },
   {
    "duration": 11,
    "start_time": "2022-03-24T17:46:58.051Z"
   },
   {
    "duration": 5,
    "start_time": "2022-03-24T17:46:58.064Z"
   },
   {
    "duration": 63,
    "start_time": "2022-03-24T17:46:58.072Z"
   },
   {
    "duration": 21,
    "start_time": "2022-03-24T17:46:58.137Z"
   },
   {
    "duration": 4,
    "start_time": "2022-03-24T17:46:58.160Z"
   },
   {
    "duration": 71,
    "start_time": "2022-03-24T17:46:58.166Z"
   },
   {
    "duration": 24,
    "start_time": "2022-03-24T17:46:58.240Z"
   },
   {
    "duration": 8,
    "start_time": "2022-03-24T18:02:55.965Z"
   },
   {
    "duration": 9,
    "start_time": "2022-03-24T18:03:15.315Z"
   },
   {
    "duration": 16,
    "start_time": "2022-03-24T18:03:54.973Z"
   },
   {
    "duration": 9,
    "start_time": "2022-03-24T18:04:22.505Z"
   },
   {
    "duration": 8,
    "start_time": "2022-03-24T18:04:30.578Z"
   },
   {
    "duration": 7,
    "start_time": "2022-03-24T18:04:34.229Z"
   },
   {
    "duration": 8,
    "start_time": "2022-03-24T18:09:27.882Z"
   },
   {
    "duration": 12,
    "start_time": "2022-03-24T18:11:33.116Z"
   },
   {
    "duration": 12,
    "start_time": "2022-03-24T18:11:56.263Z"
   },
   {
    "duration": 15,
    "start_time": "2022-03-24T18:12:12.275Z"
   },
   {
    "duration": 16,
    "start_time": "2022-03-24T18:12:16.954Z"
   },
   {
    "duration": 15,
    "start_time": "2022-03-24T18:12:23.364Z"
   },
   {
    "duration": 2036,
    "start_time": "2022-03-24T18:13:42.386Z"
   },
   {
    "duration": 1758,
    "start_time": "2022-03-24T18:13:52.315Z"
   },
   {
    "duration": 3,
    "start_time": "2022-03-24T18:14:59.582Z"
   },
   {
    "duration": 12,
    "start_time": "2022-03-24T18:15:13.439Z"
   },
   {
    "duration": 14,
    "start_time": "2022-03-24T18:15:45.506Z"
   },
   {
    "duration": 17,
    "start_time": "2022-03-24T18:16:23.754Z"
   },
   {
    "duration": 13,
    "start_time": "2022-03-24T18:16:47.704Z"
   },
   {
    "duration": 13,
    "start_time": "2022-03-24T18:16:57.674Z"
   },
   {
    "duration": 13,
    "start_time": "2022-03-24T18:17:14.435Z"
   },
   {
    "duration": 15,
    "start_time": "2022-03-24T18:18:55.719Z"
   },
   {
    "duration": 13,
    "start_time": "2022-03-24T18:19:27.730Z"
   },
   {
    "duration": 12,
    "start_time": "2022-03-24T18:20:57.588Z"
   },
   {
    "duration": 11,
    "start_time": "2022-03-24T18:21:22.569Z"
   },
   {
    "duration": 11,
    "start_time": "2022-03-24T18:22:20.026Z"
   },
   {
    "duration": 730,
    "start_time": "2022-03-24T18:25:23.774Z"
   },
   {
    "duration": 19,
    "start_time": "2022-03-24T18:25:27.714Z"
   },
   {
    "duration": 724,
    "start_time": "2022-03-24T18:26:05.502Z"
   },
   {
    "duration": 19,
    "start_time": "2022-03-24T18:26:07.224Z"
   },
   {
    "duration": 1413,
    "start_time": "2022-03-24T18:26:48.701Z"
   },
   {
    "duration": 740,
    "start_time": "2022-03-24T18:26:50.116Z"
   },
   {
    "duration": 18,
    "start_time": "2022-03-24T18:26:50.858Z"
   },
   {
    "duration": 23,
    "start_time": "2022-03-24T18:26:50.878Z"
   },
   {
    "duration": 35,
    "start_time": "2022-03-24T18:26:50.902Z"
   },
   {
    "duration": 16,
    "start_time": "2022-03-24T18:26:50.939Z"
   },
   {
    "duration": 20,
    "start_time": "2022-03-24T18:26:50.956Z"
   },
   {
    "duration": 11,
    "start_time": "2022-03-24T18:26:50.978Z"
   },
   {
    "duration": 43,
    "start_time": "2022-03-24T18:26:50.991Z"
   },
   {
    "duration": 20,
    "start_time": "2022-03-24T18:26:51.037Z"
   },
   {
    "duration": 12,
    "start_time": "2022-03-24T18:26:51.058Z"
   },
   {
    "duration": 120,
    "start_time": "2022-03-24T18:26:51.071Z"
   },
   {
    "duration": 0,
    "start_time": "2022-03-24T18:26:51.193Z"
   },
   {
    "duration": 0,
    "start_time": "2022-03-24T18:26:51.194Z"
   },
   {
    "duration": 0,
    "start_time": "2022-03-24T18:26:51.194Z"
   },
   {
    "duration": 0,
    "start_time": "2022-03-24T18:26:51.196Z"
   },
   {
    "duration": 0,
    "start_time": "2022-03-24T18:26:51.197Z"
   },
   {
    "duration": 0,
    "start_time": "2022-03-24T18:26:51.198Z"
   },
   {
    "duration": 0,
    "start_time": "2022-03-24T18:26:51.199Z"
   },
   {
    "duration": 0,
    "start_time": "2022-03-24T18:26:51.200Z"
   },
   {
    "duration": 0,
    "start_time": "2022-03-24T18:26:51.201Z"
   },
   {
    "duration": 0,
    "start_time": "2022-03-24T18:26:51.202Z"
   },
   {
    "duration": 0,
    "start_time": "2022-03-24T18:26:51.203Z"
   },
   {
    "duration": 0,
    "start_time": "2022-03-24T18:26:51.204Z"
   },
   {
    "duration": 0,
    "start_time": "2022-03-24T18:26:51.205Z"
   },
   {
    "duration": 4,
    "start_time": "2022-03-24T18:27:15.417Z"
   },
   {
    "duration": 773,
    "start_time": "2022-03-24T18:27:15.423Z"
   },
   {
    "duration": 17,
    "start_time": "2022-03-24T18:27:16.198Z"
   },
   {
    "duration": 28,
    "start_time": "2022-03-24T18:27:16.217Z"
   },
   {
    "duration": 14,
    "start_time": "2022-03-24T18:27:16.246Z"
   },
   {
    "duration": 16,
    "start_time": "2022-03-24T18:27:16.262Z"
   },
   {
    "duration": 21,
    "start_time": "2022-03-24T18:27:16.279Z"
   },
   {
    "duration": 37,
    "start_time": "2022-03-24T18:27:16.302Z"
   },
   {
    "duration": 14,
    "start_time": "2022-03-24T18:27:16.340Z"
   },
   {
    "duration": 20,
    "start_time": "2022-03-24T18:27:16.357Z"
   },
   {
    "duration": 12,
    "start_time": "2022-03-24T18:27:16.379Z"
   },
   {
    "duration": 11,
    "start_time": "2022-03-24T18:27:16.393Z"
   },
   {
    "duration": 9,
    "start_time": "2022-03-24T18:27:16.433Z"
   },
   {
    "duration": 13,
    "start_time": "2022-03-24T18:27:16.444Z"
   },
   {
    "duration": 23,
    "start_time": "2022-03-24T18:27:16.459Z"
   },
   {
    "duration": 5,
    "start_time": "2022-03-24T18:27:16.484Z"
   },
   {
    "duration": 20,
    "start_time": "2022-03-24T18:27:16.491Z"
   },
   {
    "duration": 39,
    "start_time": "2022-03-24T18:27:16.513Z"
   },
   {
    "duration": 7,
    "start_time": "2022-03-24T18:27:16.554Z"
   },
   {
    "duration": 7,
    "start_time": "2022-03-24T18:27:16.563Z"
   },
   {
    "duration": 5,
    "start_time": "2022-03-24T18:27:16.572Z"
   },
   {
    "duration": 14,
    "start_time": "2022-03-24T18:27:16.579Z"
   },
   {
    "duration": 44,
    "start_time": "2022-03-24T18:27:16.595Z"
   },
   {
    "duration": 0,
    "start_time": "2022-03-24T18:27:16.641Z"
   },
   {
    "duration": 13,
    "start_time": "2022-03-24T18:27:32.328Z"
   },
   {
    "duration": 15,
    "start_time": "2022-03-24T18:27:57.510Z"
   },
   {
    "duration": 16,
    "start_time": "2022-03-24T18:28:14.228Z"
   },
   {
    "duration": 15,
    "start_time": "2022-03-24T18:28:37.505Z"
   },
   {
    "duration": 16,
    "start_time": "2022-03-24T18:29:57.232Z"
   },
   {
    "duration": 18,
    "start_time": "2022-03-24T18:31:06.135Z"
   },
   {
    "duration": 17,
    "start_time": "2022-03-24T18:31:16.005Z"
   },
   {
    "duration": 18,
    "start_time": "2022-03-24T18:31:26.517Z"
   },
   {
    "duration": 2481,
    "start_time": "2022-03-24T18:31:37.088Z"
   },
   {
    "duration": 2403,
    "start_time": "2022-03-24T18:32:45.700Z"
   },
   {
    "duration": 2476,
    "start_time": "2022-03-24T18:34:01.361Z"
   },
   {
    "duration": 10,
    "start_time": "2022-03-24T18:34:31.741Z"
   },
   {
    "duration": 20,
    "start_time": "2022-03-24T18:34:54.333Z"
   },
   {
    "duration": 10,
    "start_time": "2022-03-24T18:35:19.925Z"
   },
   {
    "duration": 7,
    "start_time": "2022-03-24T18:41:27.685Z"
   },
   {
    "duration": 108,
    "start_time": "2022-03-24T18:41:52.807Z"
   },
   {
    "duration": 3,
    "start_time": "2022-03-24T18:42:00.425Z"
   },
   {
    "duration": 3,
    "start_time": "2022-03-24T18:42:33.518Z"
   },
   {
    "duration": 3,
    "start_time": "2022-03-24T18:42:51.731Z"
   },
   {
    "duration": 3,
    "start_time": "2022-03-24T18:43:41.379Z"
   },
   {
    "duration": 4,
    "start_time": "2022-03-24T18:44:33.484Z"
   },
   {
    "duration": 115,
    "start_time": "2022-03-24T18:44:42.522Z"
   },
   {
    "duration": 4,
    "start_time": "2022-03-24T18:44:48.765Z"
   },
   {
    "duration": 4,
    "start_time": "2022-03-24T18:44:57.058Z"
   },
   {
    "duration": 4,
    "start_time": "2022-03-24T18:45:10.447Z"
   },
   {
    "duration": 20,
    "start_time": "2022-03-24T18:45:28.900Z"
   },
   {
    "duration": 13,
    "start_time": "2022-03-24T18:45:38.369Z"
   },
   {
    "duration": 12,
    "start_time": "2022-03-24T18:46:15.351Z"
   },
   {
    "duration": 1376,
    "start_time": "2022-03-24T18:48:55.271Z"
   },
   {
    "duration": 788,
    "start_time": "2022-03-24T18:48:56.649Z"
   },
   {
    "duration": 17,
    "start_time": "2022-03-24T18:48:57.439Z"
   },
   {
    "duration": 22,
    "start_time": "2022-03-24T18:48:57.458Z"
   },
   {
    "duration": 12,
    "start_time": "2022-03-24T18:48:57.483Z"
   },
   {
    "duration": 49,
    "start_time": "2022-03-24T18:48:57.497Z"
   },
   {
    "duration": 20,
    "start_time": "2022-03-24T18:48:57.548Z"
   },
   {
    "duration": 12,
    "start_time": "2022-03-24T18:48:57.570Z"
   },
   {
    "duration": 12,
    "start_time": "2022-03-24T18:48:57.584Z"
   },
   {
    "duration": 50,
    "start_time": "2022-03-24T18:48:57.598Z"
   },
   {
    "duration": 12,
    "start_time": "2022-03-24T18:48:57.651Z"
   },
   {
    "duration": 12,
    "start_time": "2022-03-24T18:48:57.664Z"
   },
   {
    "duration": 9,
    "start_time": "2022-03-24T18:48:57.678Z"
   },
   {
    "duration": 6,
    "start_time": "2022-03-24T18:48:57.689Z"
   },
   {
    "duration": 51,
    "start_time": "2022-03-24T18:48:57.697Z"
   },
   {
    "duration": 4,
    "start_time": "2022-03-24T18:48:57.750Z"
   },
   {
    "duration": 19,
    "start_time": "2022-03-24T18:48:57.755Z"
   },
   {
    "duration": 19,
    "start_time": "2022-03-24T18:48:57.776Z"
   },
   {
    "duration": 7,
    "start_time": "2022-03-24T18:48:57.797Z"
   },
   {
    "duration": 29,
    "start_time": "2022-03-24T18:48:57.806Z"
   },
   {
    "duration": 5,
    "start_time": "2022-03-24T18:48:57.837Z"
   },
   {
    "duration": 10,
    "start_time": "2022-03-24T18:48:57.843Z"
   },
   {
    "duration": 22,
    "start_time": "2022-03-24T18:48:57.855Z"
   },
   {
    "duration": 16,
    "start_time": "2022-03-24T18:48:57.879Z"
   },
   {
    "duration": 7,
    "start_time": "2022-03-24T18:48:57.897Z"
   },
   {
    "duration": 30,
    "start_time": "2022-03-24T18:48:57.905Z"
   },
   {
    "duration": 9,
    "start_time": "2022-03-24T18:48:57.937Z"
   },
   {
    "duration": 19,
    "start_time": "2022-03-24T18:48:57.948Z"
   },
   {
    "duration": 11,
    "start_time": "2022-03-24T18:48:57.969Z"
   },
   {
    "duration": 1369,
    "start_time": "2022-03-24T18:52:28.175Z"
   },
   {
    "duration": 1123,
    "start_time": "2022-03-24T18:52:29.546Z"
   },
   {
    "duration": 71,
    "start_time": "2022-03-24T18:52:30.671Z"
   },
   {
    "duration": 22,
    "start_time": "2022-03-24T18:52:30.743Z"
   },
   {
    "duration": 73,
    "start_time": "2022-03-24T18:52:30.767Z"
   },
   {
    "duration": 16,
    "start_time": "2022-03-24T18:52:30.841Z"
   },
   {
    "duration": 21,
    "start_time": "2022-03-24T18:52:30.859Z"
   },
   {
    "duration": 10,
    "start_time": "2022-03-24T18:52:30.933Z"
   },
   {
    "duration": 24,
    "start_time": "2022-03-24T18:52:30.944Z"
   },
   {
    "duration": 79,
    "start_time": "2022-03-24T18:52:30.970Z"
   },
   {
    "duration": 37,
    "start_time": "2022-03-24T18:52:31.051Z"
   },
   {
    "duration": 13,
    "start_time": "2022-03-24T18:52:31.134Z"
   },
   {
    "duration": 24,
    "start_time": "2022-03-24T18:52:31.149Z"
   },
   {
    "duration": 57,
    "start_time": "2022-03-24T18:52:31.177Z"
   },
   {
    "duration": 25,
    "start_time": "2022-03-24T18:52:31.236Z"
   },
   {
    "duration": 5,
    "start_time": "2022-03-24T18:52:31.263Z"
   },
   {
    "duration": 72,
    "start_time": "2022-03-24T18:52:31.270Z"
   },
   {
    "duration": 26,
    "start_time": "2022-03-24T18:52:31.344Z"
   },
   {
    "duration": 62,
    "start_time": "2022-03-24T18:52:31.371Z"
   },
   {
    "duration": 7,
    "start_time": "2022-03-24T18:52:31.434Z"
   },
   {
    "duration": 9,
    "start_time": "2022-03-24T18:52:31.443Z"
   },
   {
    "duration": 12,
    "start_time": "2022-03-24T18:52:31.453Z"
   },
   {
    "duration": 68,
    "start_time": "2022-03-24T18:52:31.467Z"
   },
   {
    "duration": 25,
    "start_time": "2022-03-24T18:52:31.537Z"
   },
   {
    "duration": 115,
    "start_time": "2022-03-24T18:52:31.563Z"
   },
   {
    "duration": 0,
    "start_time": "2022-03-24T18:52:31.679Z"
   },
   {
    "duration": 0,
    "start_time": "2022-03-24T18:52:31.680Z"
   },
   {
    "duration": 0,
    "start_time": "2022-03-24T18:52:31.682Z"
   },
   {
    "duration": 0,
    "start_time": "2022-03-24T18:52:31.683Z"
   },
   {
    "duration": 128,
    "start_time": "2022-03-24T18:53:07.142Z"
   },
   {
    "duration": 111,
    "start_time": "2022-03-24T18:53:30.738Z"
   },
   {
    "duration": 103,
    "start_time": "2022-03-24T18:53:38.721Z"
   },
   {
    "duration": 107,
    "start_time": "2022-03-24T18:53:47.778Z"
   },
   {
    "duration": 3,
    "start_time": "2022-03-24T18:54:16.767Z"
   },
   {
    "duration": 3,
    "start_time": "2022-03-24T18:54:22.378Z"
   },
   {
    "duration": 7,
    "start_time": "2022-03-24T18:54:29.446Z"
   },
   {
    "duration": 4,
    "start_time": "2022-03-24T18:54:34.595Z"
   },
   {
    "duration": 4,
    "start_time": "2022-03-24T18:54:36.029Z"
   },
   {
    "duration": 4,
    "start_time": "2022-03-24T18:55:10.546Z"
   },
   {
    "duration": 2206,
    "start_time": "2022-03-26T03:57:42.156Z"
   },
   {
    "duration": 9059,
    "start_time": "2022-03-26T03:57:44.365Z"
   },
   {
    "duration": 36,
    "start_time": "2022-03-26T03:57:53.426Z"
   },
   {
    "duration": 48,
    "start_time": "2022-03-26T03:57:53.466Z"
   },
   {
    "duration": 39,
    "start_time": "2022-03-26T03:57:53.517Z"
   },
   {
    "duration": 32,
    "start_time": "2022-03-26T03:57:53.558Z"
   },
   {
    "duration": 62,
    "start_time": "2022-03-26T03:57:53.593Z"
   },
   {
    "duration": 17,
    "start_time": "2022-03-26T03:57:53.658Z"
   },
   {
    "duration": 18,
    "start_time": "2022-03-26T03:57:53.677Z"
   },
   {
    "duration": 59,
    "start_time": "2022-03-26T03:57:53.699Z"
   },
   {
    "duration": 12,
    "start_time": "2022-03-26T03:57:53.760Z"
   },
   {
    "duration": 20,
    "start_time": "2022-03-26T03:57:53.774Z"
   },
   {
    "duration": 10,
    "start_time": "2022-03-26T03:57:53.797Z"
   },
   {
    "duration": 40,
    "start_time": "2022-03-26T03:57:53.809Z"
   },
   {
    "duration": 29,
    "start_time": "2022-03-26T03:57:53.851Z"
   },
   {
    "duration": 7,
    "start_time": "2022-03-26T03:57:53.882Z"
   },
   {
    "duration": 60,
    "start_time": "2022-03-26T03:57:53.891Z"
   },
   {
    "duration": 23,
    "start_time": "2022-03-26T03:57:53.953Z"
   },
   {
    "duration": 11,
    "start_time": "2022-03-26T03:57:53.978Z"
   },
   {
    "duration": 9,
    "start_time": "2022-03-26T03:57:53.991Z"
   },
   {
    "duration": 43,
    "start_time": "2022-03-26T03:57:54.003Z"
   },
   {
    "duration": 12,
    "start_time": "2022-03-26T03:57:54.048Z"
   },
   {
    "duration": 34,
    "start_time": "2022-03-26T03:57:54.062Z"
   },
   {
    "duration": 51,
    "start_time": "2022-03-26T03:57:54.098Z"
   },
   {
    "duration": 9,
    "start_time": "2022-03-26T03:57:54.151Z"
   },
   {
    "duration": 14,
    "start_time": "2022-03-26T03:57:54.162Z"
   },
   {
    "duration": 8,
    "start_time": "2022-03-26T03:57:54.178Z"
   },
   {
    "duration": 30,
    "start_time": "2022-03-26T04:04:49.228Z"
   },
   {
    "duration": 30,
    "start_time": "2022-03-26T04:04:55.214Z"
   },
   {
    "duration": 34,
    "start_time": "2022-03-26T04:09:06.989Z"
   },
   {
    "duration": 583,
    "start_time": "2022-03-26T04:17:07.096Z"
   },
   {
    "duration": 928,
    "start_time": "2022-03-26T04:17:22.844Z"
   },
   {
    "duration": 1199,
    "start_time": "2022-03-26T04:17:49.944Z"
   },
   {
    "duration": 852,
    "start_time": "2022-03-26T04:17:58.905Z"
   },
   {
    "duration": 1471,
    "start_time": "2022-03-26T04:18:11.079Z"
   },
   {
    "duration": 864,
    "start_time": "2022-03-26T04:18:21.159Z"
   },
   {
    "duration": 850,
    "start_time": "2022-03-26T04:18:26.178Z"
   },
   {
    "duration": 963,
    "start_time": "2022-03-26T04:23:13.980Z"
   },
   {
    "duration": 846,
    "start_time": "2022-03-26T04:23:47.995Z"
   },
   {
    "duration": 880,
    "start_time": "2022-03-26T04:23:58.837Z"
   },
   {
    "duration": 985,
    "start_time": "2022-03-26T04:24:06.275Z"
   },
   {
    "duration": 852,
    "start_time": "2022-03-26T04:24:34.295Z"
   },
   {
    "duration": 939,
    "start_time": "2022-03-26T04:26:53.554Z"
   },
   {
    "duration": 1382,
    "start_time": "2022-03-26T04:28:53.670Z"
   },
   {
    "duration": 1043,
    "start_time": "2022-03-26T04:34:29.514Z"
   },
   {
    "duration": 1199,
    "start_time": "2022-03-26T04:34:52.608Z"
   },
   {
    "duration": 1086,
    "start_time": "2022-03-26T04:35:16.201Z"
   },
   {
    "duration": 1772,
    "start_time": "2022-03-26T04:41:56.030Z"
   },
   {
    "duration": 1039,
    "start_time": "2022-03-26T04:42:13.099Z"
   },
   {
    "duration": 1154,
    "start_time": "2022-03-26T04:42:32.380Z"
   },
   {
    "duration": 1004,
    "start_time": "2022-03-26T04:42:57.117Z"
   },
   {
    "duration": 1134,
    "start_time": "2022-03-26T04:46:46.365Z"
   },
   {
    "duration": 634,
    "start_time": "2022-03-26T04:54:33.875Z"
   },
   {
    "duration": 652,
    "start_time": "2022-03-26T04:54:43.318Z"
   },
   {
    "duration": 664,
    "start_time": "2022-03-26T04:54:49.213Z"
   },
   {
    "duration": 771,
    "start_time": "2022-03-26T04:54:59.058Z"
   },
   {
    "duration": 652,
    "start_time": "2022-03-26T04:55:11.558Z"
   },
   {
    "duration": 27,
    "start_time": "2022-03-26T04:56:55.784Z"
   },
   {
    "duration": 26,
    "start_time": "2022-03-26T04:57:00.171Z"
   },
   {
    "duration": 27,
    "start_time": "2022-03-26T04:57:25.615Z"
   },
   {
    "duration": 24,
    "start_time": "2022-03-26T05:32:38.368Z"
   },
   {
    "duration": 18,
    "start_time": "2022-03-26T05:32:46.400Z"
   },
   {
    "duration": 6,
    "start_time": "2022-03-26T05:33:08.759Z"
   },
   {
    "duration": 1646,
    "start_time": "2022-03-26T05:33:20.309Z"
   },
   {
    "duration": 1418,
    "start_time": "2022-03-26T05:34:00.990Z"
   },
   {
    "duration": 1555,
    "start_time": "2022-03-26T05:34:21.800Z"
   },
   {
    "duration": 1557,
    "start_time": "2022-03-26T05:38:51.087Z"
   },
   {
    "duration": 1408,
    "start_time": "2022-03-26T05:39:12.923Z"
   },
   {
    "duration": 27,
    "start_time": "2022-03-26T05:48:11.835Z"
   },
   {
    "duration": 260,
    "start_time": "2022-03-26T05:49:15.379Z"
   },
   {
    "duration": 5,
    "start_time": "2022-03-26T05:51:29.157Z"
   },
   {
    "duration": 1641,
    "start_time": "2022-03-26T05:52:10.955Z"
   },
   {
    "duration": 94,
    "start_time": "2022-03-26T06:04:28.015Z"
   },
   {
    "duration": 1267,
    "start_time": "2022-03-26T06:04:31.185Z"
   },
   {
    "duration": 17,
    "start_time": "2022-03-26T06:07:03.972Z"
   },
   {
    "duration": 16,
    "start_time": "2022-03-26T06:07:29.408Z"
   },
   {
    "duration": 1770,
    "start_time": "2022-03-26T06:28:19.084Z"
   },
   {
    "duration": 1530,
    "start_time": "2022-03-26T14:00:37.938Z"
   },
   {
    "duration": 738,
    "start_time": "2022-03-26T14:00:39.470Z"
   },
   {
    "duration": 15,
    "start_time": "2022-03-26T14:00:40.210Z"
   },
   {
    "duration": 20,
    "start_time": "2022-03-26T14:00:40.226Z"
   },
   {
    "duration": 11,
    "start_time": "2022-03-26T14:00:40.248Z"
   },
   {
    "duration": 25,
    "start_time": "2022-03-26T14:00:40.260Z"
   },
   {
    "duration": 17,
    "start_time": "2022-03-26T14:00:40.286Z"
   },
   {
    "duration": 10,
    "start_time": "2022-03-26T14:00:40.304Z"
   },
   {
    "duration": 10,
    "start_time": "2022-03-26T14:00:40.315Z"
   },
   {
    "duration": 16,
    "start_time": "2022-03-26T14:00:40.326Z"
   },
   {
    "duration": 39,
    "start_time": "2022-03-26T14:00:40.344Z"
   },
   {
    "duration": 9,
    "start_time": "2022-03-26T14:00:40.384Z"
   },
   {
    "duration": 6,
    "start_time": "2022-03-26T14:00:40.395Z"
   },
   {
    "duration": 5,
    "start_time": "2022-03-26T14:00:40.403Z"
   },
   {
    "duration": 16,
    "start_time": "2022-03-26T14:00:40.409Z"
   },
   {
    "duration": 4,
    "start_time": "2022-03-26T14:00:40.427Z"
   },
   {
    "duration": 13,
    "start_time": "2022-03-26T14:00:40.432Z"
   },
   {
    "duration": 45,
    "start_time": "2022-03-26T14:00:40.446Z"
   },
   {
    "duration": 7,
    "start_time": "2022-03-26T14:00:40.493Z"
   },
   {
    "duration": 6,
    "start_time": "2022-03-26T14:00:40.501Z"
   },
   {
    "duration": 7,
    "start_time": "2022-03-26T14:00:40.509Z"
   },
   {
    "duration": 7,
    "start_time": "2022-03-26T14:00:40.517Z"
   },
   {
    "duration": 17,
    "start_time": "2022-03-26T14:00:40.525Z"
   },
   {
    "duration": 42,
    "start_time": "2022-03-26T14:00:40.544Z"
   },
   {
    "duration": 6,
    "start_time": "2022-03-26T14:00:40.587Z"
   },
   {
    "duration": 8,
    "start_time": "2022-03-26T14:00:40.594Z"
   },
   {
    "duration": 5,
    "start_time": "2022-03-26T14:00:40.603Z"
   },
   {
    "duration": 13,
    "start_time": "2022-03-26T14:00:40.610Z"
   },
   {
    "duration": 3361,
    "start_time": "2022-03-26T14:00:40.624Z"
   },
   {
    "duration": 0,
    "start_time": "2022-03-26T14:00:43.987Z"
   },
   {
    "duration": 0,
    "start_time": "2022-03-26T14:00:43.988Z"
   },
   {
    "duration": 0,
    "start_time": "2022-03-26T14:00:43.989Z"
   },
   {
    "duration": 0,
    "start_time": "2022-03-26T14:00:43.990Z"
   },
   {
    "duration": 0,
    "start_time": "2022-03-26T14:00:43.991Z"
   },
   {
    "duration": 0,
    "start_time": "2022-03-26T14:00:43.991Z"
   },
   {
    "duration": 0,
    "start_time": "2022-03-26T14:00:43.993Z"
   },
   {
    "duration": 0,
    "start_time": "2022-03-26T14:00:43.994Z"
   },
   {
    "duration": 0,
    "start_time": "2022-03-26T14:00:43.995Z"
   },
   {
    "duration": 0,
    "start_time": "2022-03-26T14:00:43.996Z"
   },
   {
    "duration": 0,
    "start_time": "2022-03-26T14:00:43.997Z"
   },
   {
    "duration": 0,
    "start_time": "2022-03-26T14:00:43.998Z"
   },
   {
    "duration": 0,
    "start_time": "2022-03-26T14:00:44.000Z"
   },
   {
    "duration": 0,
    "start_time": "2022-03-26T14:00:44.001Z"
   },
   {
    "duration": 605,
    "start_time": "2022-03-26T14:02:57.398Z"
   },
   {
    "duration": 562,
    "start_time": "2022-03-26T14:03:19.979Z"
   },
   {
    "duration": 639,
    "start_time": "2022-03-26T14:03:41.998Z"
   },
   {
    "duration": 563,
    "start_time": "2022-03-26T14:04:03.219Z"
   },
   {
    "duration": 565,
    "start_time": "2022-03-26T14:04:50.306Z"
   },
   {
    "duration": 13,
    "start_time": "2022-03-26T14:04:56.978Z"
   },
   {
    "duration": 12,
    "start_time": "2022-03-26T14:05:00.938Z"
   },
   {
    "duration": 3,
    "start_time": "2022-03-26T14:05:27.018Z"
   },
   {
    "duration": 887,
    "start_time": "2022-03-26T14:05:29.017Z"
   },
   {
    "duration": 4,
    "start_time": "2022-03-26T14:05:58.757Z"
   },
   {
    "duration": 829,
    "start_time": "2022-03-26T14:06:12.478Z"
   },
   {
    "duration": 748,
    "start_time": "2022-03-26T14:07:43.677Z"
   },
   {
    "duration": 4,
    "start_time": "2022-03-26T14:08:10.590Z"
   },
   {
    "duration": 860,
    "start_time": "2022-03-26T14:08:11.499Z"
   },
   {
    "duration": 7,
    "start_time": "2022-03-26T14:10:38.497Z"
   },
   {
    "duration": 8,
    "start_time": "2022-03-26T14:10:49.017Z"
   },
   {
    "duration": 7,
    "start_time": "2022-03-26T14:10:54.957Z"
   },
   {
    "duration": 19,
    "start_time": "2022-03-26T14:17:21.051Z"
   },
   {
    "duration": 10,
    "start_time": "2022-03-26T14:17:38.591Z"
   },
   {
    "duration": 4,
    "start_time": "2022-03-26T14:17:46.871Z"
   },
   {
    "duration": 8,
    "start_time": "2022-03-26T14:18:11.111Z"
   },
   {
    "duration": 1959,
    "start_time": "2022-03-26T14:20:02.394Z"
   },
   {
    "duration": 719,
    "start_time": "2022-03-26T14:20:04.355Z"
   },
   {
    "duration": 16,
    "start_time": "2022-03-26T14:20:05.075Z"
   },
   {
    "duration": 21,
    "start_time": "2022-03-26T14:20:05.092Z"
   },
   {
    "duration": 11,
    "start_time": "2022-03-26T14:20:05.115Z"
   },
   {
    "duration": 13,
    "start_time": "2022-03-26T14:20:05.128Z"
   },
   {
    "duration": 39,
    "start_time": "2022-03-26T14:20:05.142Z"
   },
   {
    "duration": 8,
    "start_time": "2022-03-26T14:20:05.182Z"
   },
   {
    "duration": 10,
    "start_time": "2022-03-26T14:20:05.191Z"
   },
   {
    "duration": 16,
    "start_time": "2022-03-26T14:20:05.202Z"
   },
   {
    "duration": 11,
    "start_time": "2022-03-26T14:20:05.219Z"
   },
   {
    "duration": 9,
    "start_time": "2022-03-26T14:20:05.231Z"
   },
   {
    "duration": 7,
    "start_time": "2022-03-26T14:20:05.241Z"
   },
   {
    "duration": 4,
    "start_time": "2022-03-26T14:20:05.282Z"
   },
   {
    "duration": 20,
    "start_time": "2022-03-26T14:20:05.288Z"
   },
   {
    "duration": 3,
    "start_time": "2022-03-26T14:20:05.310Z"
   },
   {
    "duration": 11,
    "start_time": "2022-03-26T14:20:05.315Z"
   },
   {
    "duration": 16,
    "start_time": "2022-03-26T14:20:05.327Z"
   },
   {
    "duration": 39,
    "start_time": "2022-03-26T14:20:05.345Z"
   },
   {
    "duration": 7,
    "start_time": "2022-03-26T14:20:05.385Z"
   },
   {
    "duration": 5,
    "start_time": "2022-03-26T14:20:05.393Z"
   },
   {
    "duration": 6,
    "start_time": "2022-03-26T14:20:05.399Z"
   },
   {
    "duration": 19,
    "start_time": "2022-03-26T14:20:05.406Z"
   },
   {
    "duration": 11,
    "start_time": "2022-03-26T14:20:05.427Z"
   },
   {
    "duration": 6,
    "start_time": "2022-03-26T14:20:05.440Z"
   },
   {
    "duration": 35,
    "start_time": "2022-03-26T14:20:05.447Z"
   },
   {
    "duration": 6,
    "start_time": "2022-03-26T14:20:05.484Z"
   },
   {
    "duration": 17,
    "start_time": "2022-03-26T14:20:05.491Z"
   },
   {
    "duration": 573,
    "start_time": "2022-03-26T14:20:05.509Z"
   },
   {
    "duration": 616,
    "start_time": "2022-03-26T14:20:06.084Z"
   },
   {
    "duration": 576,
    "start_time": "2022-03-26T14:20:06.701Z"
   },
   {
    "duration": 647,
    "start_time": "2022-03-26T14:20:07.280Z"
   },
   {
    "duration": 565,
    "start_time": "2022-03-26T14:20:07.928Z"
   },
   {
    "duration": 13,
    "start_time": "2022-03-26T14:20:08.495Z"
   },
   {
    "duration": 11,
    "start_time": "2022-03-26T14:20:08.510Z"
   },
   {
    "duration": 3,
    "start_time": "2022-03-26T14:20:08.523Z"
   },
   {
    "duration": 868,
    "start_time": "2022-03-26T14:20:08.527Z"
   },
   {
    "duration": 6,
    "start_time": "2022-03-26T14:20:09.397Z"
   },
   {
    "duration": 31,
    "start_time": "2022-03-26T14:20:09.404Z"
   },
   {
    "duration": 24,
    "start_time": "2022-03-26T14:20:09.437Z"
   },
   {
    "duration": 21,
    "start_time": "2022-03-26T14:20:09.464Z"
   },
   {
    "duration": 137,
    "start_time": "2022-03-26T14:20:09.486Z"
   },
   {
    "duration": 0,
    "start_time": "2022-03-26T14:20:09.624Z"
   },
   {
    "duration": 1391,
    "start_time": "2022-03-26T14:22:25.936Z"
   },
   {
    "duration": 701,
    "start_time": "2022-03-26T14:22:27.329Z"
   },
   {
    "duration": 16,
    "start_time": "2022-03-26T14:22:28.032Z"
   },
   {
    "duration": 20,
    "start_time": "2022-03-26T14:22:28.050Z"
   },
   {
    "duration": 12,
    "start_time": "2022-03-26T14:22:28.081Z"
   },
   {
    "duration": 15,
    "start_time": "2022-03-26T14:22:28.094Z"
   },
   {
    "duration": 18,
    "start_time": "2022-03-26T14:22:28.110Z"
   },
   {
    "duration": 8,
    "start_time": "2022-03-26T14:22:28.129Z"
   },
   {
    "duration": 11,
    "start_time": "2022-03-26T14:22:28.138Z"
   },
   {
    "duration": 19,
    "start_time": "2022-03-26T14:22:28.180Z"
   },
   {
    "duration": 8,
    "start_time": "2022-03-26T14:22:28.201Z"
   },
   {
    "duration": 10,
    "start_time": "2022-03-26T14:22:28.210Z"
   },
   {
    "duration": 7,
    "start_time": "2022-03-26T14:22:28.222Z"
   },
   {
    "duration": 5,
    "start_time": "2022-03-26T14:22:28.231Z"
   },
   {
    "duration": 57,
    "start_time": "2022-03-26T14:22:28.237Z"
   },
   {
    "duration": 5,
    "start_time": "2022-03-26T14:22:28.296Z"
   },
   {
    "duration": 16,
    "start_time": "2022-03-26T14:22:28.302Z"
   },
   {
    "duration": 19,
    "start_time": "2022-03-26T14:22:28.320Z"
   },
   {
    "duration": 9,
    "start_time": "2022-03-26T14:22:28.340Z"
   },
   {
    "duration": 36,
    "start_time": "2022-03-26T14:22:28.350Z"
   },
   {
    "duration": 4,
    "start_time": "2022-03-26T14:22:28.388Z"
   },
   {
    "duration": 11,
    "start_time": "2022-03-26T14:22:28.394Z"
   },
   {
    "duration": 19,
    "start_time": "2022-03-26T14:22:28.407Z"
   },
   {
    "duration": 15,
    "start_time": "2022-03-26T14:22:28.428Z"
   },
   {
    "duration": 6,
    "start_time": "2022-03-26T14:22:28.445Z"
   },
   {
    "duration": 4,
    "start_time": "2022-03-26T14:22:28.481Z"
   },
   {
    "duration": 9,
    "start_time": "2022-03-26T14:22:28.486Z"
   },
   {
    "duration": 17,
    "start_time": "2022-03-26T14:22:28.498Z"
   },
   {
    "duration": 592,
    "start_time": "2022-03-26T14:22:28.516Z"
   },
   {
    "duration": 625,
    "start_time": "2022-03-26T14:22:29.110Z"
   },
   {
    "duration": 576,
    "start_time": "2022-03-26T14:22:29.736Z"
   },
   {
    "duration": 897,
    "start_time": "2022-03-26T14:22:30.314Z"
   },
   {
    "duration": 767,
    "start_time": "2022-03-26T14:22:31.214Z"
   },
   {
    "duration": 18,
    "start_time": "2022-03-26T14:22:31.983Z"
   },
   {
    "duration": 16,
    "start_time": "2022-03-26T14:22:32.003Z"
   },
   {
    "duration": 4,
    "start_time": "2022-03-26T14:22:32.021Z"
   },
   {
    "duration": 955,
    "start_time": "2022-03-26T14:22:32.026Z"
   },
   {
    "duration": 7,
    "start_time": "2022-03-26T14:22:32.982Z"
   },
   {
    "duration": 24,
    "start_time": "2022-03-26T14:22:32.991Z"
   },
   {
    "duration": 9,
    "start_time": "2022-03-26T14:22:33.017Z"
   },
   {
    "duration": 5,
    "start_time": "2022-03-26T14:22:33.028Z"
   },
   {
    "duration": 7,
    "start_time": "2022-03-26T14:22:33.034Z"
   },
   {
    "duration": 8,
    "start_time": "2022-03-26T14:22:33.042Z"
   },
   {
    "duration": 9,
    "start_time": "2022-03-26T14:29:00.015Z"
   },
   {
    "duration": 10,
    "start_time": "2022-03-26T14:30:27.096Z"
   },
   {
    "duration": 97,
    "start_time": "2022-03-26T14:38:29.716Z"
   },
   {
    "duration": 1467,
    "start_time": "2022-03-26T14:40:28.261Z"
   },
   {
    "duration": 712,
    "start_time": "2022-03-26T14:40:29.730Z"
   },
   {
    "duration": 16,
    "start_time": "2022-03-26T14:40:30.443Z"
   },
   {
    "duration": 24,
    "start_time": "2022-03-26T14:40:30.460Z"
   },
   {
    "duration": 12,
    "start_time": "2022-03-26T14:40:30.486Z"
   },
   {
    "duration": 14,
    "start_time": "2022-03-26T14:40:30.499Z"
   },
   {
    "duration": 18,
    "start_time": "2022-03-26T14:40:30.515Z"
   },
   {
    "duration": 14,
    "start_time": "2022-03-26T14:40:30.534Z"
   },
   {
    "duration": 33,
    "start_time": "2022-03-26T14:40:30.549Z"
   },
   {
    "duration": 18,
    "start_time": "2022-03-26T14:40:30.583Z"
   },
   {
    "duration": 14,
    "start_time": "2022-03-26T14:40:30.603Z"
   },
   {
    "duration": 23,
    "start_time": "2022-03-26T14:40:30.619Z"
   },
   {
    "duration": 9,
    "start_time": "2022-03-26T14:40:30.644Z"
   },
   {
    "duration": 13,
    "start_time": "2022-03-26T14:40:30.656Z"
   },
   {
    "duration": 39,
    "start_time": "2022-03-26T14:40:30.671Z"
   },
   {
    "duration": 10,
    "start_time": "2022-03-26T14:40:30.712Z"
   },
   {
    "duration": 49,
    "start_time": "2022-03-26T14:40:30.724Z"
   },
   {
    "duration": 27,
    "start_time": "2022-03-26T14:40:30.775Z"
   },
   {
    "duration": 9,
    "start_time": "2022-03-26T14:40:30.803Z"
   },
   {
    "duration": 21,
    "start_time": "2022-03-26T14:40:30.814Z"
   },
   {
    "duration": 13,
    "start_time": "2022-03-26T14:40:30.837Z"
   },
   {
    "duration": 21,
    "start_time": "2022-03-26T14:40:30.852Z"
   },
   {
    "duration": 35,
    "start_time": "2022-03-26T14:40:30.875Z"
   },
   {
    "duration": 35,
    "start_time": "2022-03-26T14:40:30.912Z"
   },
   {
    "duration": 7,
    "start_time": "2022-03-26T14:40:30.949Z"
   },
   {
    "duration": 15,
    "start_time": "2022-03-26T14:40:30.958Z"
   },
   {
    "duration": 11,
    "start_time": "2022-03-26T14:40:30.975Z"
   },
   {
    "duration": 27,
    "start_time": "2022-03-26T14:40:30.988Z"
   },
   {
    "duration": 634,
    "start_time": "2022-03-26T14:40:31.017Z"
   },
   {
    "duration": 573,
    "start_time": "2022-03-26T14:40:31.653Z"
   },
   {
    "duration": 558,
    "start_time": "2022-03-26T14:40:32.227Z"
   },
   {
    "duration": 686,
    "start_time": "2022-03-26T14:40:32.786Z"
   },
   {
    "duration": 727,
    "start_time": "2022-03-26T14:40:33.473Z"
   },
   {
    "duration": 17,
    "start_time": "2022-03-26T14:40:34.203Z"
   },
   {
    "duration": 67,
    "start_time": "2022-03-26T14:40:34.221Z"
   },
   {
    "duration": 5,
    "start_time": "2022-03-26T14:40:34.290Z"
   },
   {
    "duration": 1510,
    "start_time": "2022-03-26T14:40:34.297Z"
   },
   {
    "duration": 7,
    "start_time": "2022-03-26T14:40:35.808Z"
   },
   {
    "duration": 18,
    "start_time": "2022-03-26T14:40:35.816Z"
   },
   {
    "duration": 6,
    "start_time": "2022-03-26T14:40:35.836Z"
   },
   {
    "duration": 12,
    "start_time": "2022-03-26T14:40:35.845Z"
   },
   {
    "duration": 4,
    "start_time": "2022-03-26T14:40:35.859Z"
   },
   {
    "duration": 17,
    "start_time": "2022-03-26T14:40:35.864Z"
   },
   {
    "duration": 10,
    "start_time": "2022-03-26T14:40:35.882Z"
   },
   {
    "duration": 1075,
    "start_time": "2022-03-26T14:40:35.893Z"
   },
   {
    "duration": 1461,
    "start_time": "2022-03-26T14:42:16.473Z"
   },
   {
    "duration": 709,
    "start_time": "2022-03-26T14:42:17.936Z"
   },
   {
    "duration": 18,
    "start_time": "2022-03-26T14:42:18.646Z"
   },
   {
    "duration": 29,
    "start_time": "2022-03-26T14:42:18.665Z"
   },
   {
    "duration": 18,
    "start_time": "2022-03-26T14:42:18.696Z"
   },
   {
    "duration": 14,
    "start_time": "2022-03-26T14:42:18.715Z"
   },
   {
    "duration": 16,
    "start_time": "2022-03-26T14:42:18.730Z"
   },
   {
    "duration": 11,
    "start_time": "2022-03-26T14:42:18.748Z"
   },
   {
    "duration": 29,
    "start_time": "2022-03-26T14:42:18.760Z"
   },
   {
    "duration": 17,
    "start_time": "2022-03-26T14:42:18.790Z"
   },
   {
    "duration": 10,
    "start_time": "2022-03-26T14:42:18.808Z"
   },
   {
    "duration": 10,
    "start_time": "2022-03-26T14:42:18.819Z"
   },
   {
    "duration": 8,
    "start_time": "2022-03-26T14:42:18.831Z"
   },
   {
    "duration": 6,
    "start_time": "2022-03-26T14:42:18.880Z"
   },
   {
    "duration": 25,
    "start_time": "2022-03-26T14:42:18.888Z"
   },
   {
    "duration": 5,
    "start_time": "2022-03-26T14:42:18.914Z"
   },
   {
    "duration": 67,
    "start_time": "2022-03-26T14:42:18.920Z"
   },
   {
    "duration": 17,
    "start_time": "2022-03-26T14:42:18.989Z"
   },
   {
    "duration": 6,
    "start_time": "2022-03-26T14:42:19.007Z"
   },
   {
    "duration": 5,
    "start_time": "2022-03-26T14:42:19.015Z"
   },
   {
    "duration": 59,
    "start_time": "2022-03-26T14:42:19.022Z"
   },
   {
    "duration": 5,
    "start_time": "2022-03-26T14:42:19.082Z"
   },
   {
    "duration": 17,
    "start_time": "2022-03-26T14:42:19.089Z"
   },
   {
    "duration": 12,
    "start_time": "2022-03-26T14:42:19.108Z"
   },
   {
    "duration": 5,
    "start_time": "2022-03-26T14:42:19.122Z"
   },
   {
    "duration": 55,
    "start_time": "2022-03-26T14:42:19.128Z"
   },
   {
    "duration": 9,
    "start_time": "2022-03-26T14:42:19.184Z"
   },
   {
    "duration": 20,
    "start_time": "2022-03-26T14:42:19.194Z"
   },
   {
    "duration": 1304,
    "start_time": "2022-03-26T14:42:19.215Z"
   },
   {
    "duration": 571,
    "start_time": "2022-03-26T14:42:20.521Z"
   },
   {
    "duration": 574,
    "start_time": "2022-03-26T14:42:21.093Z"
   },
   {
    "duration": 680,
    "start_time": "2022-03-26T14:42:21.670Z"
   },
   {
    "duration": 533,
    "start_time": "2022-03-26T14:42:22.352Z"
   },
   {
    "duration": 12,
    "start_time": "2022-03-26T14:42:22.887Z"
   },
   {
    "duration": 11,
    "start_time": "2022-03-26T14:42:22.901Z"
   },
   {
    "duration": 3,
    "start_time": "2022-03-26T14:42:22.914Z"
   },
   {
    "duration": 863,
    "start_time": "2022-03-26T14:42:22.918Z"
   },
   {
    "duration": 7,
    "start_time": "2022-03-26T14:42:23.783Z"
   },
   {
    "duration": 21,
    "start_time": "2022-03-26T14:42:23.791Z"
   },
   {
    "duration": 6,
    "start_time": "2022-03-26T14:42:23.814Z"
   },
   {
    "duration": 4,
    "start_time": "2022-03-26T14:42:23.824Z"
   },
   {
    "duration": 11,
    "start_time": "2022-03-26T14:42:23.829Z"
   },
   {
    "duration": 7,
    "start_time": "2022-03-26T14:42:23.841Z"
   },
   {
    "duration": 11,
    "start_time": "2022-03-26T14:42:23.850Z"
   },
   {
    "duration": 1103,
    "start_time": "2022-03-26T14:42:23.880Z"
   },
   {
    "duration": 1014,
    "start_time": "2022-03-26T14:45:28.171Z"
   },
   {
    "duration": 190,
    "start_time": "2022-03-26T14:45:52.311Z"
   },
   {
    "duration": 1018,
    "start_time": "2022-03-26T14:46:00.692Z"
   },
   {
    "duration": 1010,
    "start_time": "2022-03-26T14:46:40.072Z"
   },
   {
    "duration": 1001,
    "start_time": "2022-03-26T14:46:53.454Z"
   },
   {
    "duration": 1043,
    "start_time": "2022-03-26T14:51:43.598Z"
   },
   {
    "duration": 1052,
    "start_time": "2022-03-26T14:52:22.208Z"
   },
   {
    "duration": 1024,
    "start_time": "2022-03-26T15:01:52.446Z"
   },
   {
    "duration": 1010,
    "start_time": "2022-03-26T15:03:04.816Z"
   },
   {
    "duration": 9,
    "start_time": "2022-03-26T15:07:01.379Z"
   },
   {
    "duration": 2480,
    "start_time": "2022-03-26T15:07:09.897Z"
   },
   {
    "duration": 4,
    "start_time": "2022-03-26T15:08:47.446Z"
   },
   {
    "duration": 2,
    "start_time": "2022-03-26T15:08:48.517Z"
   },
   {
    "duration": 8,
    "start_time": "2022-03-26T15:08:52.535Z"
   },
   {
    "duration": 1021,
    "start_time": "2022-03-26T15:08:57.024Z"
   },
   {
    "duration": 1026,
    "start_time": "2022-03-26T15:09:23.724Z"
   },
   {
    "duration": 1201,
    "start_time": "2022-03-26T15:10:25.154Z"
   },
   {
    "duration": 1016,
    "start_time": "2022-03-26T15:10:34.726Z"
   },
   {
    "duration": 8,
    "start_time": "2022-03-26T15:11:26.989Z"
   },
   {
    "duration": 1103,
    "start_time": "2022-03-26T15:11:30.535Z"
   },
   {
    "duration": 9,
    "start_time": "2022-03-26T15:11:51.555Z"
   },
   {
    "duration": 1012,
    "start_time": "2022-03-26T15:11:54.544Z"
   },
   {
    "duration": 10,
    "start_time": "2022-03-26T15:14:28.335Z"
   },
   {
    "duration": 173,
    "start_time": "2022-03-26T15:14:35.009Z"
   },
   {
    "duration": 1496,
    "start_time": "2022-03-26T15:18:22.752Z"
   },
   {
    "duration": 736,
    "start_time": "2022-03-26T15:18:24.250Z"
   },
   {
    "duration": 15,
    "start_time": "2022-03-26T15:18:24.988Z"
   },
   {
    "duration": 21,
    "start_time": "2022-03-26T15:18:25.005Z"
   },
   {
    "duration": 13,
    "start_time": "2022-03-26T15:18:25.081Z"
   },
   {
    "duration": 14,
    "start_time": "2022-03-26T15:18:25.095Z"
   },
   {
    "duration": 71,
    "start_time": "2022-03-26T15:18:25.111Z"
   },
   {
    "duration": 9,
    "start_time": "2022-03-26T15:18:25.183Z"
   },
   {
    "duration": 11,
    "start_time": "2022-03-26T15:18:25.193Z"
   },
   {
    "duration": 18,
    "start_time": "2022-03-26T15:18:25.205Z"
   },
   {
    "duration": 8,
    "start_time": "2022-03-26T15:18:25.281Z"
   },
   {
    "duration": 10,
    "start_time": "2022-03-26T15:18:25.291Z"
   },
   {
    "duration": 6,
    "start_time": "2022-03-26T15:18:25.303Z"
   },
   {
    "duration": 5,
    "start_time": "2022-03-26T15:18:25.311Z"
   },
   {
    "duration": 72,
    "start_time": "2022-03-26T15:18:25.317Z"
   },
   {
    "duration": 4,
    "start_time": "2022-03-26T15:18:25.391Z"
   },
   {
    "duration": 13,
    "start_time": "2022-03-26T15:18:25.397Z"
   },
   {
    "duration": 74,
    "start_time": "2022-03-26T15:18:25.412Z"
   },
   {
    "duration": 7,
    "start_time": "2022-03-26T15:18:25.488Z"
   },
   {
    "duration": 7,
    "start_time": "2022-03-26T15:18:25.496Z"
   },
   {
    "duration": 13,
    "start_time": "2022-03-26T15:18:25.504Z"
   },
   {
    "duration": 14,
    "start_time": "2022-03-26T15:18:25.518Z"
   },
   {
    "duration": 20,
    "start_time": "2022-03-26T15:18:25.581Z"
   },
   {
    "duration": 18,
    "start_time": "2022-03-26T15:18:25.602Z"
   },
   {
    "duration": 6,
    "start_time": "2022-03-26T15:18:25.621Z"
   },
   {
    "duration": 3,
    "start_time": "2022-03-26T15:18:25.682Z"
   },
   {
    "duration": 6,
    "start_time": "2022-03-26T15:18:25.686Z"
   },
   {
    "duration": 18,
    "start_time": "2022-03-26T15:18:25.693Z"
   },
   {
    "duration": 1122,
    "start_time": "2022-03-26T15:18:25.712Z"
   },
   {
    "duration": 553,
    "start_time": "2022-03-26T15:18:26.836Z"
   },
   {
    "duration": 575,
    "start_time": "2022-03-26T15:18:27.391Z"
   },
   {
    "duration": 698,
    "start_time": "2022-03-26T15:18:27.968Z"
   },
   {
    "duration": 548,
    "start_time": "2022-03-26T15:18:28.668Z"
   },
   {
    "duration": 14,
    "start_time": "2022-03-26T15:18:29.218Z"
   },
   {
    "duration": 12,
    "start_time": "2022-03-26T15:18:29.233Z"
   },
   {
    "duration": 3,
    "start_time": "2022-03-26T15:18:29.246Z"
   },
   {
    "duration": 872,
    "start_time": "2022-03-26T15:18:29.250Z"
   },
   {
    "duration": 6,
    "start_time": "2022-03-26T15:18:30.124Z"
   },
   {
    "duration": 17,
    "start_time": "2022-03-26T15:18:30.131Z"
   },
   {
    "duration": 6,
    "start_time": "2022-03-26T15:18:30.150Z"
   },
   {
    "duration": 24,
    "start_time": "2022-03-26T15:18:30.160Z"
   },
   {
    "duration": 8,
    "start_time": "2022-03-26T15:18:30.186Z"
   },
   {
    "duration": 11,
    "start_time": "2022-03-26T15:18:30.195Z"
   },
   {
    "duration": 1013,
    "start_time": "2022-03-26T15:18:30.208Z"
   },
   {
    "duration": 260,
    "start_time": "2022-03-26T15:18:31.222Z"
   },
   {
    "duration": 96,
    "start_time": "2022-03-26T15:20:01.571Z"
   },
   {
    "duration": 1878,
    "start_time": "2022-03-26T15:20:09.038Z"
   },
   {
    "duration": 738,
    "start_time": "2022-03-26T15:20:10.918Z"
   },
   {
    "duration": 17,
    "start_time": "2022-03-26T15:20:11.657Z"
   },
   {
    "duration": 22,
    "start_time": "2022-03-26T15:20:11.675Z"
   },
   {
    "duration": 12,
    "start_time": "2022-03-26T15:20:11.699Z"
   },
   {
    "duration": 13,
    "start_time": "2022-03-26T15:20:11.712Z"
   },
   {
    "duration": 17,
    "start_time": "2022-03-26T15:20:11.727Z"
   },
   {
    "duration": 35,
    "start_time": "2022-03-26T15:20:11.746Z"
   },
   {
    "duration": 11,
    "start_time": "2022-03-26T15:20:11.783Z"
   },
   {
    "duration": 17,
    "start_time": "2022-03-26T15:20:11.795Z"
   },
   {
    "duration": 8,
    "start_time": "2022-03-26T15:20:11.813Z"
   },
   {
    "duration": 9,
    "start_time": "2022-03-26T15:20:11.822Z"
   },
   {
    "duration": 6,
    "start_time": "2022-03-26T15:20:11.832Z"
   },
   {
    "duration": 4,
    "start_time": "2022-03-26T15:20:11.841Z"
   },
   {
    "duration": 17,
    "start_time": "2022-03-26T15:20:11.881Z"
   },
   {
    "duration": 3,
    "start_time": "2022-03-26T15:20:11.900Z"
   },
   {
    "duration": 15,
    "start_time": "2022-03-26T15:20:11.905Z"
   },
   {
    "duration": 18,
    "start_time": "2022-03-26T15:20:11.921Z"
   },
   {
    "duration": 7,
    "start_time": "2022-03-26T15:20:11.940Z"
   },
   {
    "duration": 32,
    "start_time": "2022-03-26T15:20:11.949Z"
   },
   {
    "duration": 4,
    "start_time": "2022-03-26T15:20:11.983Z"
   },
   {
    "duration": 8,
    "start_time": "2022-03-26T15:20:11.988Z"
   },
   {
    "duration": 18,
    "start_time": "2022-03-26T15:20:11.997Z"
   },
   {
    "duration": 10,
    "start_time": "2022-03-26T15:20:12.017Z"
   },
   {
    "duration": 5,
    "start_time": "2022-03-26T15:20:12.029Z"
   },
   {
    "duration": 11,
    "start_time": "2022-03-26T15:20:12.035Z"
   },
   {
    "duration": 11,
    "start_time": "2022-03-26T15:20:12.047Z"
   },
   {
    "duration": 34,
    "start_time": "2022-03-26T15:20:12.060Z"
   },
   {
    "duration": 1111,
    "start_time": "2022-03-26T15:20:12.095Z"
   },
   {
    "duration": 829,
    "start_time": "2022-03-26T15:20:13.208Z"
   },
   {
    "duration": 569,
    "start_time": "2022-03-26T15:20:14.039Z"
   },
   {
    "duration": 671,
    "start_time": "2022-03-26T15:20:14.610Z"
   },
   {
    "duration": 535,
    "start_time": "2022-03-26T15:20:15.282Z"
   },
   {
    "duration": 13,
    "start_time": "2022-03-26T15:20:15.818Z"
   },
   {
    "duration": 11,
    "start_time": "2022-03-26T15:20:15.832Z"
   },
   {
    "duration": 3,
    "start_time": "2022-03-26T15:20:15.845Z"
   },
   {
    "duration": 908,
    "start_time": "2022-03-26T15:20:15.849Z"
   },
   {
    "duration": 7,
    "start_time": "2022-03-26T15:20:16.758Z"
   },
   {
    "duration": 30,
    "start_time": "2022-03-26T15:20:16.766Z"
   },
   {
    "duration": 6,
    "start_time": "2022-03-26T15:20:16.797Z"
   },
   {
    "duration": 4,
    "start_time": "2022-03-26T15:20:16.807Z"
   },
   {
    "duration": 6,
    "start_time": "2022-03-26T15:20:16.813Z"
   },
   {
    "duration": 10,
    "start_time": "2022-03-26T15:20:16.821Z"
   },
   {
    "duration": 1025,
    "start_time": "2022-03-26T15:20:16.833Z"
   },
   {
    "duration": 106,
    "start_time": "2022-03-26T15:20:17.859Z"
   },
   {
    "duration": 0,
    "start_time": "2022-03-26T15:20:17.967Z"
   },
   {
    "duration": 1486,
    "start_time": "2022-03-26T15:21:11.635Z"
   },
   {
    "duration": 709,
    "start_time": "2022-03-26T15:21:13.123Z"
   },
   {
    "duration": 16,
    "start_time": "2022-03-26T15:21:13.834Z"
   },
   {
    "duration": 38,
    "start_time": "2022-03-26T15:21:13.852Z"
   },
   {
    "duration": 12,
    "start_time": "2022-03-26T15:21:13.893Z"
   },
   {
    "duration": 14,
    "start_time": "2022-03-26T15:21:13.907Z"
   },
   {
    "duration": 16,
    "start_time": "2022-03-26T15:21:13.923Z"
   },
   {
    "duration": 41,
    "start_time": "2022-03-26T15:21:13.941Z"
   },
   {
    "duration": 11,
    "start_time": "2022-03-26T15:21:13.984Z"
   },
   {
    "duration": 17,
    "start_time": "2022-03-26T15:21:13.996Z"
   },
   {
    "duration": 8,
    "start_time": "2022-03-26T15:21:14.014Z"
   },
   {
    "duration": 9,
    "start_time": "2022-03-26T15:21:14.024Z"
   },
   {
    "duration": 6,
    "start_time": "2022-03-26T15:21:14.034Z"
   },
   {
    "duration": 38,
    "start_time": "2022-03-26T15:21:14.043Z"
   },
   {
    "duration": 18,
    "start_time": "2022-03-26T15:21:14.082Z"
   },
   {
    "duration": 4,
    "start_time": "2022-03-26T15:21:14.101Z"
   },
   {
    "duration": 13,
    "start_time": "2022-03-26T15:21:14.107Z"
   },
   {
    "duration": 19,
    "start_time": "2022-03-26T15:21:14.122Z"
   },
   {
    "duration": 39,
    "start_time": "2022-03-26T15:21:14.143Z"
   },
   {
    "duration": 10,
    "start_time": "2022-03-26T15:21:14.183Z"
   },
   {
    "duration": 5,
    "start_time": "2022-03-26T15:21:14.195Z"
   },
   {
    "duration": 6,
    "start_time": "2022-03-26T15:21:14.202Z"
   },
   {
    "duration": 20,
    "start_time": "2022-03-26T15:21:14.209Z"
   },
   {
    "duration": 16,
    "start_time": "2022-03-26T15:21:14.230Z"
   },
   {
    "duration": 34,
    "start_time": "2022-03-26T15:21:14.247Z"
   },
   {
    "duration": 5,
    "start_time": "2022-03-26T15:21:14.283Z"
   },
   {
    "duration": 5,
    "start_time": "2022-03-26T15:21:14.290Z"
   },
   {
    "duration": 18,
    "start_time": "2022-03-26T15:21:14.297Z"
   },
   {
    "duration": 1270,
    "start_time": "2022-03-26T15:21:14.316Z"
   },
   {
    "duration": 766,
    "start_time": "2022-03-26T15:21:15.588Z"
   },
   {
    "duration": 580,
    "start_time": "2022-03-26T15:21:16.356Z"
   },
   {
    "duration": 692,
    "start_time": "2022-03-26T15:21:16.938Z"
   },
   {
    "duration": 562,
    "start_time": "2022-03-26T15:21:17.633Z"
   },
   {
    "duration": 13,
    "start_time": "2022-03-26T15:21:18.197Z"
   },
   {
    "duration": 12,
    "start_time": "2022-03-26T15:21:18.211Z"
   },
   {
    "duration": 3,
    "start_time": "2022-03-26T15:21:18.225Z"
   },
   {
    "duration": 877,
    "start_time": "2022-03-26T15:21:18.229Z"
   },
   {
    "duration": 7,
    "start_time": "2022-03-26T15:21:19.108Z"
   },
   {
    "duration": 16,
    "start_time": "2022-03-26T15:21:19.116Z"
   },
   {
    "duration": 7,
    "start_time": "2022-03-26T15:21:19.133Z"
   },
   {
    "duration": 3,
    "start_time": "2022-03-26T15:21:19.144Z"
   },
   {
    "duration": 32,
    "start_time": "2022-03-26T15:21:19.149Z"
   },
   {
    "duration": 11,
    "start_time": "2022-03-26T15:21:19.183Z"
   },
   {
    "duration": 1120,
    "start_time": "2022-03-26T15:21:19.195Z"
   },
   {
    "duration": 119,
    "start_time": "2022-03-26T15:21:20.317Z"
   },
   {
    "duration": 0,
    "start_time": "2022-03-26T15:21:20.438Z"
   },
   {
    "duration": 1452,
    "start_time": "2022-03-26T15:22:18.881Z"
   },
   {
    "duration": 1258,
    "start_time": "2022-03-26T15:22:20.335Z"
   },
   {
    "duration": 16,
    "start_time": "2022-03-26T15:22:21.594Z"
   },
   {
    "duration": 75,
    "start_time": "2022-03-26T15:22:21.611Z"
   },
   {
    "duration": 12,
    "start_time": "2022-03-26T15:22:21.688Z"
   },
   {
    "duration": 17,
    "start_time": "2022-03-26T15:22:21.702Z"
   },
   {
    "duration": 71,
    "start_time": "2022-03-26T15:22:21.721Z"
   },
   {
    "duration": 17,
    "start_time": "2022-03-26T15:22:21.793Z"
   },
   {
    "duration": 12,
    "start_time": "2022-03-26T15:22:21.812Z"
   },
   {
    "duration": 66,
    "start_time": "2022-03-26T15:22:21.825Z"
   },
   {
    "duration": 9,
    "start_time": "2022-03-26T15:22:21.893Z"
   },
   {
    "duration": 14,
    "start_time": "2022-03-26T15:22:21.903Z"
   },
   {
    "duration": 6,
    "start_time": "2022-03-26T15:22:21.919Z"
   },
   {
    "duration": 55,
    "start_time": "2022-03-26T15:22:21.928Z"
   },
   {
    "duration": 18,
    "start_time": "2022-03-26T15:22:21.985Z"
   },
   {
    "duration": 4,
    "start_time": "2022-03-26T15:22:22.004Z"
   },
   {
    "duration": 15,
    "start_time": "2022-03-26T15:22:22.010Z"
   },
   {
    "duration": 18,
    "start_time": "2022-03-26T15:22:22.081Z"
   },
   {
    "duration": 6,
    "start_time": "2022-03-26T15:22:22.101Z"
   },
   {
    "duration": 6,
    "start_time": "2022-03-26T15:22:22.109Z"
   },
   {
    "duration": 5,
    "start_time": "2022-03-26T15:22:22.116Z"
   },
   {
    "duration": 60,
    "start_time": "2022-03-26T15:22:22.123Z"
   },
   {
    "duration": 20,
    "start_time": "2022-03-26T15:22:22.185Z"
   },
   {
    "duration": 12,
    "start_time": "2022-03-26T15:22:22.207Z"
   },
   {
    "duration": 7,
    "start_time": "2022-03-26T15:22:22.221Z"
   },
   {
    "duration": 3,
    "start_time": "2022-03-26T15:22:22.281Z"
   },
   {
    "duration": 7,
    "start_time": "2022-03-26T15:22:22.286Z"
   },
   {
    "duration": 20,
    "start_time": "2022-03-26T15:22:22.294Z"
   },
   {
    "duration": 691,
    "start_time": "2022-03-26T15:22:22.316Z"
   },
   {
    "duration": 576,
    "start_time": "2022-03-26T15:22:23.009Z"
   },
   {
    "duration": 565,
    "start_time": "2022-03-26T15:22:23.587Z"
   },
   {
    "duration": 692,
    "start_time": "2022-03-26T15:22:24.154Z"
   },
   {
    "duration": 537,
    "start_time": "2022-03-26T15:22:24.848Z"
   },
   {
    "duration": 13,
    "start_time": "2022-03-26T15:22:25.386Z"
   },
   {
    "duration": 12,
    "start_time": "2022-03-26T15:22:25.400Z"
   },
   {
    "duration": 3,
    "start_time": "2022-03-26T15:22:25.413Z"
   },
   {
    "duration": 898,
    "start_time": "2022-03-26T15:22:25.418Z"
   },
   {
    "duration": 7,
    "start_time": "2022-03-26T15:22:26.317Z"
   },
   {
    "duration": 15,
    "start_time": "2022-03-26T15:22:26.325Z"
   },
   {
    "duration": 6,
    "start_time": "2022-03-26T15:22:26.342Z"
   },
   {
    "duration": 3,
    "start_time": "2022-03-26T15:22:26.351Z"
   },
   {
    "duration": 2,
    "start_time": "2022-03-26T15:22:26.381Z"
   },
   {
    "duration": 9,
    "start_time": "2022-03-26T15:22:26.385Z"
   },
   {
    "duration": 1002,
    "start_time": "2022-03-26T15:22:26.395Z"
   },
   {
    "duration": 111,
    "start_time": "2022-03-26T15:22:27.399Z"
   },
   {
    "duration": 0,
    "start_time": "2022-03-26T15:22:27.511Z"
   },
   {
    "duration": 17,
    "start_time": "2022-03-26T15:25:20.666Z"
   },
   {
    "duration": 17,
    "start_time": "2022-03-26T15:25:52.290Z"
   },
   {
    "duration": 18,
    "start_time": "2022-03-26T15:26:40.717Z"
   },
   {
    "duration": 18,
    "start_time": "2022-03-26T15:26:58.031Z"
   },
   {
    "duration": 18,
    "start_time": "2022-03-26T15:27:19.037Z"
   },
   {
    "duration": 215,
    "start_time": "2022-03-26T15:34:37.069Z"
   },
   {
    "duration": 8,
    "start_time": "2022-03-26T15:34:39.815Z"
   },
   {
    "duration": 4,
    "start_time": "2022-03-26T15:35:29.647Z"
   },
   {
    "duration": 1850,
    "start_time": "2022-03-26T15:35:38.173Z"
   },
   {
    "duration": 1480,
    "start_time": "2022-03-26T15:35:40.025Z"
   },
   {
    "duration": 15,
    "start_time": "2022-03-26T15:35:41.507Z"
   },
   {
    "duration": 20,
    "start_time": "2022-03-26T15:35:41.524Z"
   },
   {
    "duration": 11,
    "start_time": "2022-03-26T15:35:41.545Z"
   },
   {
    "duration": 33,
    "start_time": "2022-03-26T15:35:41.557Z"
   },
   {
    "duration": 17,
    "start_time": "2022-03-26T15:35:41.592Z"
   },
   {
    "duration": 12,
    "start_time": "2022-03-26T15:35:41.610Z"
   },
   {
    "duration": 9,
    "start_time": "2022-03-26T15:35:41.624Z"
   },
   {
    "duration": 19,
    "start_time": "2022-03-26T15:35:41.634Z"
   },
   {
    "duration": 28,
    "start_time": "2022-03-26T15:35:41.655Z"
   },
   {
    "duration": 9,
    "start_time": "2022-03-26T15:35:41.685Z"
   },
   {
    "duration": 6,
    "start_time": "2022-03-26T15:35:41.696Z"
   },
   {
    "duration": 4,
    "start_time": "2022-03-26T15:35:41.703Z"
   },
   {
    "duration": 18,
    "start_time": "2022-03-26T15:35:41.709Z"
   },
   {
    "duration": 4,
    "start_time": "2022-03-26T15:35:41.728Z"
   },
   {
    "duration": 13,
    "start_time": "2022-03-26T15:35:41.733Z"
   },
   {
    "duration": 48,
    "start_time": "2022-03-26T15:35:41.747Z"
   },
   {
    "duration": 7,
    "start_time": "2022-03-26T15:35:41.796Z"
   },
   {
    "duration": 8,
    "start_time": "2022-03-26T15:35:41.805Z"
   },
   {
    "duration": 4,
    "start_time": "2022-03-26T15:35:41.815Z"
   },
   {
    "duration": 8,
    "start_time": "2022-03-26T15:35:41.820Z"
   },
   {
    "duration": 20,
    "start_time": "2022-03-26T15:35:41.829Z"
   },
   {
    "duration": 40,
    "start_time": "2022-03-26T15:35:41.851Z"
   },
   {
    "duration": 8,
    "start_time": "2022-03-26T15:35:41.892Z"
   },
   {
    "duration": 8,
    "start_time": "2022-03-26T15:35:41.901Z"
   },
   {
    "duration": 5,
    "start_time": "2022-03-26T15:35:41.910Z"
   },
   {
    "duration": 17,
    "start_time": "2022-03-26T15:35:41.917Z"
   },
   {
    "duration": 638,
    "start_time": "2022-03-26T15:35:41.936Z"
   },
   {
    "duration": 562,
    "start_time": "2022-03-26T15:35:42.581Z"
   },
   {
    "duration": 559,
    "start_time": "2022-03-26T15:35:43.145Z"
   },
   {
    "duration": 664,
    "start_time": "2022-03-26T15:35:43.705Z"
   },
   {
    "duration": 543,
    "start_time": "2022-03-26T15:35:44.370Z"
   },
   {
    "duration": 12,
    "start_time": "2022-03-26T15:35:44.915Z"
   },
   {
    "duration": 10,
    "start_time": "2022-03-26T15:35:44.929Z"
   },
   {
    "duration": 3,
    "start_time": "2022-03-26T15:35:44.941Z"
   },
   {
    "duration": 875,
    "start_time": "2022-03-26T15:35:44.945Z"
   },
   {
    "duration": 7,
    "start_time": "2022-03-26T15:35:45.821Z"
   },
   {
    "duration": 15,
    "start_time": "2022-03-26T15:35:45.830Z"
   },
   {
    "duration": 6,
    "start_time": "2022-03-26T15:35:45.849Z"
   },
   {
    "duration": 26,
    "start_time": "2022-03-26T15:35:45.856Z"
   },
   {
    "duration": 7,
    "start_time": "2022-03-26T15:35:45.883Z"
   },
   {
    "duration": 10,
    "start_time": "2022-03-26T15:35:45.891Z"
   },
   {
    "duration": 1018,
    "start_time": "2022-03-26T15:35:45.902Z"
   },
   {
    "duration": 111,
    "start_time": "2022-03-26T15:35:46.922Z"
   },
   {
    "duration": 0,
    "start_time": "2022-03-26T15:35:47.034Z"
   },
   {
    "duration": 0,
    "start_time": "2022-03-26T15:35:47.035Z"
   },
   {
    "duration": 231,
    "start_time": "2022-03-26T15:35:53.251Z"
   },
   {
    "duration": 15,
    "start_time": "2022-03-26T15:35:55.578Z"
   },
   {
    "duration": 16,
    "start_time": "2022-03-26T15:38:18.830Z"
   },
   {
    "duration": 12,
    "start_time": "2022-03-26T15:38:54.310Z"
   },
   {
    "duration": 9,
    "start_time": "2022-03-26T15:39:24.460Z"
   },
   {
    "duration": 988,
    "start_time": "2022-03-26T15:39:43.290Z"
   },
   {
    "duration": 200,
    "start_time": "2022-03-26T15:40:17.093Z"
   },
   {
    "duration": 13,
    "start_time": "2022-03-26T15:40:21.325Z"
   },
   {
    "duration": 1500,
    "start_time": "2022-03-26T18:40:06.994Z"
   },
   {
    "duration": 1142,
    "start_time": "2022-03-26T18:40:08.497Z"
   },
   {
    "duration": 19,
    "start_time": "2022-03-26T18:40:09.641Z"
   },
   {
    "duration": 78,
    "start_time": "2022-03-26T18:40:09.661Z"
   },
   {
    "duration": 13,
    "start_time": "2022-03-26T18:40:09.741Z"
   },
   {
    "duration": 45,
    "start_time": "2022-03-26T18:40:09.755Z"
   },
   {
    "duration": 20,
    "start_time": "2022-03-26T18:40:09.838Z"
   },
   {
    "duration": 80,
    "start_time": "2022-03-26T18:40:09.860Z"
   },
   {
    "duration": 11,
    "start_time": "2022-03-26T18:40:09.942Z"
   },
   {
    "duration": 26,
    "start_time": "2022-03-26T18:40:09.955Z"
   },
   {
    "duration": 61,
    "start_time": "2022-03-26T18:40:09.983Z"
   },
   {
    "duration": 12,
    "start_time": "2022-03-26T18:40:10.046Z"
   },
   {
    "duration": 7,
    "start_time": "2022-03-26T18:40:10.060Z"
   },
   {
    "duration": 9,
    "start_time": "2022-03-26T18:40:10.071Z"
   },
   {
    "duration": 77,
    "start_time": "2022-03-26T18:40:10.081Z"
   },
   {
    "duration": 4,
    "start_time": "2022-03-26T18:40:10.160Z"
   },
   {
    "duration": 15,
    "start_time": "2022-03-26T18:40:10.166Z"
   },
   {
    "duration": 23,
    "start_time": "2022-03-26T18:40:10.238Z"
   },
   {
    "duration": 9,
    "start_time": "2022-03-26T18:40:10.263Z"
   },
   {
    "duration": 8,
    "start_time": "2022-03-26T18:40:10.273Z"
   },
   {
    "duration": 59,
    "start_time": "2022-03-26T18:40:10.282Z"
   },
   {
    "duration": 7,
    "start_time": "2022-03-26T18:40:10.343Z"
   },
   {
    "duration": 22,
    "start_time": "2022-03-26T18:40:10.352Z"
   },
   {
    "duration": 14,
    "start_time": "2022-03-26T18:40:10.375Z"
   },
   {
    "duration": 7,
    "start_time": "2022-03-26T18:40:10.391Z"
   },
   {
    "duration": 3,
    "start_time": "2022-03-26T18:40:10.437Z"
   },
   {
    "duration": 6,
    "start_time": "2022-03-26T18:40:10.442Z"
   },
   {
    "duration": 19,
    "start_time": "2022-03-26T18:40:10.449Z"
   },
   {
    "duration": 760,
    "start_time": "2022-03-26T18:40:10.470Z"
   },
   {
    "duration": 647,
    "start_time": "2022-03-26T18:40:11.231Z"
   },
   {
    "duration": 779,
    "start_time": "2022-03-26T18:40:11.880Z"
   },
   {
    "duration": 913,
    "start_time": "2022-03-26T18:40:12.660Z"
   },
   {
    "duration": 1072,
    "start_time": "2022-03-26T18:40:13.574Z"
   },
   {
    "duration": 16,
    "start_time": "2022-03-26T18:40:14.648Z"
   },
   {
    "duration": 15,
    "start_time": "2022-03-26T18:40:14.666Z"
   },
   {
    "duration": 3,
    "start_time": "2022-03-26T18:40:14.683Z"
   },
   {
    "duration": 1061,
    "start_time": "2022-03-26T18:40:14.688Z"
   },
   {
    "duration": 8,
    "start_time": "2022-03-26T18:40:15.751Z"
   },
   {
    "duration": 21,
    "start_time": "2022-03-26T18:40:15.760Z"
   },
   {
    "duration": 7,
    "start_time": "2022-03-26T18:40:15.783Z"
   },
   {
    "duration": 4,
    "start_time": "2022-03-26T18:40:15.794Z"
   },
   {
    "duration": 8,
    "start_time": "2022-03-26T18:40:15.799Z"
   },
   {
    "duration": 31,
    "start_time": "2022-03-26T18:40:15.809Z"
   },
   {
    "duration": 1053,
    "start_time": "2022-03-26T18:40:15.842Z"
   },
   {
    "duration": 135,
    "start_time": "2022-03-26T18:40:16.897Z"
   },
   {
    "duration": 0,
    "start_time": "2022-03-26T18:40:17.037Z"
   },
   {
    "duration": 0,
    "start_time": "2022-03-26T18:40:17.039Z"
   },
   {
    "duration": 0,
    "start_time": "2022-03-26T18:40:17.040Z"
   },
   {
    "duration": 0,
    "start_time": "2022-03-26T18:40:17.041Z"
   },
   {
    "duration": 288,
    "start_time": "2022-03-26T18:42:19.751Z"
   },
   {
    "duration": 18,
    "start_time": "2022-03-26T18:42:22.493Z"
   },
   {
    "duration": 13,
    "start_time": "2022-03-26T18:42:34.813Z"
   },
   {
    "duration": 12,
    "start_time": "2022-03-26T18:42:38.194Z"
   },
   {
    "duration": 74,
    "start_time": "2022-03-26T18:42:51.766Z"
   },
   {
    "duration": 108,
    "start_time": "2022-03-26T18:43:01.632Z"
   },
   {
    "duration": 45,
    "start_time": "2022-03-26T18:43:11.093Z"
   },
   {
    "duration": 10,
    "start_time": "2022-03-26T18:53:31.834Z"
   },
   {
    "duration": 7,
    "start_time": "2022-03-26T18:53:41.272Z"
   },
   {
    "duration": 3,
    "start_time": "2022-03-26T18:53:43.912Z"
   },
   {
    "duration": 3,
    "start_time": "2022-03-26T18:53:45.491Z"
   },
   {
    "duration": 3,
    "start_time": "2022-03-26T18:53:46.751Z"
   },
   {
    "duration": 9,
    "start_time": "2022-03-26T18:53:48.113Z"
   },
   {
    "duration": 1387,
    "start_time": "2022-03-26T18:54:25.012Z"
   },
   {
    "duration": 712,
    "start_time": "2022-03-26T18:54:26.401Z"
   },
   {
    "duration": 17,
    "start_time": "2022-03-26T18:54:27.114Z"
   },
   {
    "duration": 22,
    "start_time": "2022-03-26T18:54:27.133Z"
   },
   {
    "duration": 11,
    "start_time": "2022-03-26T18:54:27.156Z"
   },
   {
    "duration": 15,
    "start_time": "2022-03-26T18:54:27.168Z"
   },
   {
    "duration": 18,
    "start_time": "2022-03-26T18:54:27.184Z"
   },
   {
    "duration": 42,
    "start_time": "2022-03-26T18:54:27.204Z"
   },
   {
    "duration": 11,
    "start_time": "2022-03-26T18:54:27.248Z"
   },
   {
    "duration": 19,
    "start_time": "2022-03-26T18:54:27.261Z"
   },
   {
    "duration": 10,
    "start_time": "2022-03-26T18:54:27.281Z"
   },
   {
    "duration": 12,
    "start_time": "2022-03-26T18:54:27.293Z"
   },
   {
    "duration": 34,
    "start_time": "2022-03-26T18:54:27.307Z"
   },
   {
    "duration": 13,
    "start_time": "2022-03-26T18:54:27.343Z"
   },
   {
    "duration": 25,
    "start_time": "2022-03-26T18:54:27.357Z"
   },
   {
    "duration": 3,
    "start_time": "2022-03-26T18:54:27.384Z"
   },
   {
    "duration": 17,
    "start_time": "2022-03-26T18:54:27.389Z"
   },
   {
    "duration": 38,
    "start_time": "2022-03-26T18:54:27.408Z"
   },
   {
    "duration": 8,
    "start_time": "2022-03-26T18:54:27.447Z"
   },
   {
    "duration": 9,
    "start_time": "2022-03-26T18:54:27.456Z"
   },
   {
    "duration": 6,
    "start_time": "2022-03-26T18:54:27.466Z"
   },
   {
    "duration": 7,
    "start_time": "2022-03-26T18:54:27.474Z"
   },
   {
    "duration": 21,
    "start_time": "2022-03-26T18:54:27.482Z"
   },
   {
    "duration": 14,
    "start_time": "2022-03-26T18:54:27.537Z"
   },
   {
    "duration": 7,
    "start_time": "2022-03-26T18:54:27.552Z"
   },
   {
    "duration": 6,
    "start_time": "2022-03-26T18:54:27.560Z"
   },
   {
    "duration": 6,
    "start_time": "2022-03-26T18:54:27.567Z"
   },
   {
    "duration": 16,
    "start_time": "2022-03-26T18:54:27.577Z"
   },
   {
    "duration": 773,
    "start_time": "2022-03-26T18:54:27.595Z"
   },
   {
    "duration": 650,
    "start_time": "2022-03-26T18:54:28.370Z"
   },
   {
    "duration": 853,
    "start_time": "2022-03-26T18:54:29.021Z"
   },
   {
    "duration": 1433,
    "start_time": "2022-03-26T18:54:29.875Z"
   },
   {
    "duration": 621,
    "start_time": "2022-03-26T18:54:31.310Z"
   },
   {
    "duration": 15,
    "start_time": "2022-03-26T18:54:31.933Z"
   },
   {
    "duration": 14,
    "start_time": "2022-03-26T18:54:31.949Z"
   },
   {
    "duration": 3,
    "start_time": "2022-03-26T18:54:31.964Z"
   },
   {
    "duration": 1025,
    "start_time": "2022-03-26T18:54:31.969Z"
   },
   {
    "duration": 8,
    "start_time": "2022-03-26T18:54:32.995Z"
   },
   {
    "duration": 33,
    "start_time": "2022-03-26T18:54:33.005Z"
   },
   {
    "duration": 8,
    "start_time": "2022-03-26T18:54:33.039Z"
   },
   {
    "duration": 4,
    "start_time": "2022-03-26T18:54:33.048Z"
   },
   {
    "duration": 5,
    "start_time": "2022-03-26T18:54:33.053Z"
   },
   {
    "duration": 10,
    "start_time": "2022-03-26T18:54:33.059Z"
   },
   {
    "duration": 1050,
    "start_time": "2022-03-26T18:54:33.071Z"
   },
   {
    "duration": 117,
    "start_time": "2022-03-26T18:54:34.124Z"
   },
   {
    "duration": 0,
    "start_time": "2022-03-26T18:54:34.243Z"
   },
   {
    "duration": 0,
    "start_time": "2022-03-26T18:54:34.244Z"
   },
   {
    "duration": 0,
    "start_time": "2022-03-26T18:54:34.245Z"
   },
   {
    "duration": 0,
    "start_time": "2022-03-26T18:54:34.246Z"
   },
   {
    "duration": 0,
    "start_time": "2022-03-26T18:54:34.247Z"
   },
   {
    "duration": 0,
    "start_time": "2022-03-26T18:54:34.248Z"
   },
   {
    "duration": 0,
    "start_time": "2022-03-26T18:54:34.249Z"
   },
   {
    "duration": 0,
    "start_time": "2022-03-26T18:54:34.250Z"
   },
   {
    "duration": 0,
    "start_time": "2022-03-26T18:54:34.251Z"
   },
   {
    "duration": 0,
    "start_time": "2022-03-26T18:54:34.252Z"
   },
   {
    "duration": 0,
    "start_time": "2022-03-26T18:54:34.253Z"
   },
   {
    "duration": 0,
    "start_time": "2022-03-26T18:54:34.254Z"
   },
   {
    "duration": 0,
    "start_time": "2022-03-26T18:54:34.255Z"
   },
   {
    "duration": 0,
    "start_time": "2022-03-26T18:54:34.256Z"
   },
   {
    "duration": 0,
    "start_time": "2022-03-26T18:54:34.257Z"
   },
   {
    "duration": 0,
    "start_time": "2022-03-26T18:54:34.258Z"
   },
   {
    "duration": 0,
    "start_time": "2022-03-26T18:54:34.259Z"
   },
   {
    "duration": 0,
    "start_time": "2022-03-26T18:54:34.260Z"
   },
   {
    "duration": 0,
    "start_time": "2022-03-26T18:54:34.261Z"
   },
   {
    "duration": 0,
    "start_time": "2022-03-26T18:54:34.262Z"
   },
   {
    "duration": 0,
    "start_time": "2022-03-26T18:54:34.263Z"
   },
   {
    "duration": 0,
    "start_time": "2022-03-26T18:54:34.264Z"
   },
   {
    "duration": 0,
    "start_time": "2022-03-26T18:54:34.265Z"
   },
   {
    "duration": 0,
    "start_time": "2022-03-26T18:54:34.266Z"
   },
   {
    "duration": 176,
    "start_time": "2022-03-26T18:54:41.775Z"
   },
   {
    "duration": 15,
    "start_time": "2022-03-26T18:54:42.790Z"
   },
   {
    "duration": 19,
    "start_time": "2022-03-26T18:54:44.002Z"
   },
   {
    "duration": 7,
    "start_time": "2022-03-26T18:54:47.370Z"
   },
   {
    "duration": 3,
    "start_time": "2022-03-26T18:54:48.270Z"
   },
   {
    "duration": 3,
    "start_time": "2022-03-26T18:54:49.090Z"
   },
   {
    "duration": 3,
    "start_time": "2022-03-26T18:54:49.950Z"
   },
   {
    "duration": 10,
    "start_time": "2022-03-26T18:54:50.770Z"
   },
   {
    "duration": 10,
    "start_time": "2022-03-26T18:55:09.550Z"
   },
   {
    "duration": 2,
    "start_time": "2022-03-26T18:55:19.173Z"
   },
   {
    "duration": 9,
    "start_time": "2022-03-26T18:55:20.170Z"
   },
   {
    "duration": 2,
    "start_time": "2022-03-26T18:55:42.031Z"
   },
   {
    "duration": 3,
    "start_time": "2022-03-26T18:55:42.872Z"
   },
   {
    "duration": 3,
    "start_time": "2022-03-26T18:55:45.123Z"
   },
   {
    "duration": 10,
    "start_time": "2022-03-26T18:55:46.630Z"
   },
   {
    "duration": 3,
    "start_time": "2022-03-26T18:56:08.314Z"
   },
   {
    "duration": 3,
    "start_time": "2022-03-26T18:56:10.151Z"
   },
   {
    "duration": 3,
    "start_time": "2022-03-26T18:56:10.832Z"
   },
   {
    "duration": 3,
    "start_time": "2022-03-26T18:56:11.571Z"
   },
   {
    "duration": 0,
    "start_time": "2022-03-26T18:58:19.014Z"
   },
   {
    "duration": 0,
    "start_time": "2022-03-26T18:58:19.015Z"
   },
   {
    "duration": 0,
    "start_time": "2022-03-26T18:58:19.017Z"
   },
   {
    "duration": 0,
    "start_time": "2022-03-26T18:58:19.018Z"
   },
   {
    "duration": 2,
    "start_time": "2022-03-26T18:58:27.511Z"
   },
   {
    "duration": 269,
    "start_time": "2022-03-26T18:58:32.070Z"
   },
   {
    "duration": 35057,
    "start_time": "2022-03-26T18:58:37.550Z"
   },
   {
    "duration": 41442,
    "start_time": "2022-03-26T18:59:24.530Z"
   },
   {
    "duration": 26788,
    "start_time": "2022-03-26T19:00:21.150Z"
   },
   {
    "duration": 3,
    "start_time": "2022-03-26T19:01:58.210Z"
   },
   {
    "duration": 6502,
    "start_time": "2022-03-26T19:02:09.549Z"
   },
   {
    "duration": 6,
    "start_time": "2022-03-26T19:02:55.928Z"
   },
   {
    "duration": 3,
    "start_time": "2022-03-26T19:03:05.309Z"
   },
   {
    "duration": 13,
    "start_time": "2022-03-26T19:03:07.249Z"
   },
   {
    "duration": 5,
    "start_time": "2022-03-26T19:04:11.407Z"
   },
   {
    "duration": 10,
    "start_time": "2022-03-26T19:04:28.392Z"
   },
   {
    "duration": 3,
    "start_time": "2022-03-26T19:05:48.287Z"
   },
   {
    "duration": 4,
    "start_time": "2022-03-26T19:06:53.015Z"
   },
   {
    "duration": 3,
    "start_time": "2022-03-26T19:06:53.816Z"
   },
   {
    "duration": 3,
    "start_time": "2022-03-26T19:06:55.407Z"
   },
   {
    "duration": 24,
    "start_time": "2022-03-26T19:07:14.163Z"
   },
   {
    "duration": 4,
    "start_time": "2022-03-26T19:19:34.262Z"
   },
   {
    "duration": 3,
    "start_time": "2022-03-26T19:19:35.782Z"
   },
   {
    "duration": 4,
    "start_time": "2022-03-26T19:19:37.202Z"
   },
   {
    "duration": 4,
    "start_time": "2022-03-26T19:26:27.862Z"
   },
   {
    "duration": 1384,
    "start_time": "2022-03-26T19:26:36.752Z"
   },
   {
    "duration": 732,
    "start_time": "2022-03-26T19:26:38.138Z"
   },
   {
    "duration": 18,
    "start_time": "2022-03-26T19:26:38.872Z"
   },
   {
    "duration": 22,
    "start_time": "2022-03-26T19:26:38.892Z"
   },
   {
    "duration": 28,
    "start_time": "2022-03-26T19:26:38.917Z"
   },
   {
    "duration": 16,
    "start_time": "2022-03-26T19:26:38.947Z"
   },
   {
    "duration": 19,
    "start_time": "2022-03-26T19:26:38.965Z"
   },
   {
    "duration": 13,
    "start_time": "2022-03-26T19:26:38.986Z"
   },
   {
    "duration": 47,
    "start_time": "2022-03-26T19:26:39.000Z"
   },
   {
    "duration": 19,
    "start_time": "2022-03-26T19:26:39.049Z"
   },
   {
    "duration": 9,
    "start_time": "2022-03-26T19:26:39.070Z"
   },
   {
    "duration": 11,
    "start_time": "2022-03-26T19:26:39.081Z"
   },
   {
    "duration": 8,
    "start_time": "2022-03-26T19:26:39.093Z"
   },
   {
    "duration": 6,
    "start_time": "2022-03-26T19:26:39.137Z"
   },
   {
    "duration": 24,
    "start_time": "2022-03-26T19:26:39.145Z"
   },
   {
    "duration": 4,
    "start_time": "2022-03-26T19:26:39.170Z"
   },
   {
    "duration": 16,
    "start_time": "2022-03-26T19:26:39.175Z"
   },
   {
    "duration": 50,
    "start_time": "2022-03-26T19:26:39.193Z"
   },
   {
    "duration": 8,
    "start_time": "2022-03-26T19:26:39.245Z"
   },
   {
    "duration": 6,
    "start_time": "2022-03-26T19:26:39.255Z"
   },
   {
    "duration": 5,
    "start_time": "2022-03-26T19:26:39.263Z"
   },
   {
    "duration": 8,
    "start_time": "2022-03-26T19:26:39.270Z"
   },
   {
    "duration": 20,
    "start_time": "2022-03-26T19:26:39.279Z"
   },
   {
    "duration": 13,
    "start_time": "2022-03-26T19:26:39.338Z"
   },
   {
    "duration": 7,
    "start_time": "2022-03-26T19:26:39.353Z"
   },
   {
    "duration": 6,
    "start_time": "2022-03-26T19:26:39.362Z"
   },
   {
    "duration": 5,
    "start_time": "2022-03-26T19:26:39.369Z"
   },
   {
    "duration": 19,
    "start_time": "2022-03-26T19:26:39.376Z"
   },
   {
    "duration": 768,
    "start_time": "2022-03-26T19:26:39.396Z"
   },
   {
    "duration": 615,
    "start_time": "2022-03-26T19:26:40.165Z"
   },
   {
    "duration": 1192,
    "start_time": "2022-03-26T19:26:40.781Z"
   },
   {
    "duration": 879,
    "start_time": "2022-03-26T19:26:41.975Z"
   },
   {
    "duration": 611,
    "start_time": "2022-03-26T19:26:42.855Z"
   },
   {
    "duration": 15,
    "start_time": "2022-03-26T19:26:43.468Z"
   },
   {
    "duration": 13,
    "start_time": "2022-03-26T19:26:43.485Z"
   },
   {
    "duration": 3,
    "start_time": "2022-03-26T19:26:43.500Z"
   },
   {
    "duration": 996,
    "start_time": "2022-03-26T19:26:43.505Z"
   },
   {
    "duration": 7,
    "start_time": "2022-03-26T19:26:44.503Z"
   },
   {
    "duration": 39,
    "start_time": "2022-03-26T19:26:44.512Z"
   },
   {
    "duration": 7,
    "start_time": "2022-03-26T19:26:44.553Z"
   },
   {
    "duration": 4,
    "start_time": "2022-03-26T19:26:44.564Z"
   },
   {
    "duration": 13,
    "start_time": "2022-03-26T19:26:44.569Z"
   },
   {
    "duration": 23,
    "start_time": "2022-03-26T19:26:44.584Z"
   },
   {
    "duration": 1027,
    "start_time": "2022-03-26T19:26:44.609Z"
   },
   {
    "duration": 3,
    "start_time": "2022-03-26T19:26:45.638Z"
   },
   {
    "duration": 308,
    "start_time": "2022-03-26T19:26:45.643Z"
   },
   {
    "duration": 15,
    "start_time": "2022-03-26T19:26:46.038Z"
   },
   {
    "duration": 84,
    "start_time": "2022-03-26T19:26:46.055Z"
   },
   {
    "duration": 102,
    "start_time": "2022-03-26T19:26:46.141Z"
   },
   {
    "duration": 7,
    "start_time": "2022-03-26T19:26:46.245Z"
   },
   {
    "duration": 6,
    "start_time": "2022-03-26T19:26:46.253Z"
   },
   {
    "duration": 6,
    "start_time": "2022-03-26T19:26:46.261Z"
   },
   {
    "duration": 7,
    "start_time": "2022-03-26T19:26:46.268Z"
   },
   {
    "duration": 7,
    "start_time": "2022-03-26T19:26:46.277Z"
   },
   {
    "duration": 5,
    "start_time": "2022-03-26T19:26:46.286Z"
   },
   {
    "duration": 7,
    "start_time": "2022-03-26T19:26:46.292Z"
   },
   {
    "duration": 150,
    "start_time": "2022-03-26T19:26:46.300Z"
   },
   {
    "duration": 0,
    "start_time": "2022-03-26T19:26:46.452Z"
   },
   {
    "duration": 0,
    "start_time": "2022-03-26T19:26:46.453Z"
   },
   {
    "duration": 0,
    "start_time": "2022-03-26T19:26:46.454Z"
   },
   {
    "duration": 0,
    "start_time": "2022-03-26T19:26:46.455Z"
   },
   {
    "duration": 0,
    "start_time": "2022-03-26T19:26:46.456Z"
   },
   {
    "duration": 0,
    "start_time": "2022-03-26T19:26:46.457Z"
   },
   {
    "duration": 0,
    "start_time": "2022-03-26T19:26:46.458Z"
   },
   {
    "duration": 0,
    "start_time": "2022-03-26T19:26:46.458Z"
   },
   {
    "duration": 0,
    "start_time": "2022-03-26T19:26:46.459Z"
   },
   {
    "duration": 0,
    "start_time": "2022-03-26T19:26:46.460Z"
   },
   {
    "duration": 0,
    "start_time": "2022-03-26T19:26:46.461Z"
   },
   {
    "duration": 0,
    "start_time": "2022-03-26T19:26:46.462Z"
   },
   {
    "duration": 0,
    "start_time": "2022-03-26T19:26:46.463Z"
   },
   {
    "duration": 12,
    "start_time": "2022-03-26T19:27:46.360Z"
   },
   {
    "duration": 4,
    "start_time": "2022-03-26T19:28:54.956Z"
   },
   {
    "duration": 3,
    "start_time": "2022-03-26T19:28:55.713Z"
   },
   {
    "duration": 3,
    "start_time": "2022-03-26T19:28:56.453Z"
   },
   {
    "duration": 24,
    "start_time": "2022-03-26T19:28:57.803Z"
   },
   {
    "duration": 4,
    "start_time": "2022-03-26T19:31:17.057Z"
   },
   {
    "duration": 3,
    "start_time": "2022-03-26T19:31:18.396Z"
   },
   {
    "duration": 3,
    "start_time": "2022-03-26T19:31:46.190Z"
   },
   {
    "duration": 3,
    "start_time": "2022-03-26T19:31:49.377Z"
   },
   {
    "duration": 3,
    "start_time": "2022-03-26T19:32:03.799Z"
   },
   {
    "duration": 3,
    "start_time": "2022-03-26T19:32:05.895Z"
   },
   {
    "duration": 4,
    "start_time": "2022-03-26T19:32:07.636Z"
   },
   {
    "duration": 343,
    "start_time": "2022-03-26T19:32:10.196Z"
   },
   {
    "duration": 4,
    "start_time": "2022-03-26T19:35:59.015Z"
   },
   {
    "duration": 10,
    "start_time": "2022-03-26T19:37:41.169Z"
   },
   {
    "duration": 11,
    "start_time": "2022-03-26T19:38:32.166Z"
   },
   {
    "duration": 3,
    "start_time": "2022-03-26T19:38:53.484Z"
   },
   {
    "duration": 3,
    "start_time": "2022-03-26T19:42:40.211Z"
   },
   {
    "duration": 4,
    "start_time": "2022-03-26T19:42:46.568Z"
   },
   {
    "duration": 3,
    "start_time": "2022-03-26T19:42:54.213Z"
   },
   {
    "duration": 10,
    "start_time": "2022-03-26T19:43:06.609Z"
   },
   {
    "duration": 24,
    "start_time": "2022-03-26T19:43:27.168Z"
   },
   {
    "duration": 3,
    "start_time": "2022-03-26T19:45:00.375Z"
   },
   {
    "duration": 3,
    "start_time": "2022-03-26T19:45:06.608Z"
   },
   {
    "duration": 50040,
    "start_time": "2022-03-26T19:45:07.729Z"
   },
   {
    "duration": 0,
    "start_time": "2022-03-26T19:45:57.771Z"
   },
   {
    "duration": 3,
    "start_time": "2022-03-26T19:46:01.689Z"
   },
   {
    "duration": 3,
    "start_time": "2022-03-26T19:46:04.555Z"
   },
   {
    "duration": 40927,
    "start_time": "2022-03-26T19:46:05.648Z"
   },
   {
    "duration": 0,
    "start_time": "2022-03-26T19:46:46.578Z"
   },
   {
    "duration": 3,
    "start_time": "2022-03-26T19:47:17.668Z"
   },
   {
    "duration": 3,
    "start_time": "2022-03-26T19:47:21.288Z"
   },
   {
    "duration": 2853,
    "start_time": "2022-03-26T19:48:15.554Z"
   },
   {
    "duration": 5730,
    "start_time": "2022-03-26T19:48:28.875Z"
   },
   {
    "duration": 3,
    "start_time": "2022-03-26T19:48:40.965Z"
   },
   {
    "duration": 3,
    "start_time": "2022-03-26T19:48:42.027Z"
   },
   {
    "duration": 7028,
    "start_time": "2022-03-26T19:48:44.057Z"
   },
   {
    "duration": 45432,
    "start_time": "2022-03-26T19:49:13.438Z"
   },
   {
    "duration": 10,
    "start_time": "2022-03-26T19:50:04.439Z"
   },
   {
    "duration": 9,
    "start_time": "2022-03-26T19:50:27.864Z"
   },
   {
    "duration": 14,
    "start_time": "2022-03-26T19:50:47.437Z"
   },
   {
    "duration": 4,
    "start_time": "2022-03-26T19:51:02.917Z"
   },
   {
    "duration": 4,
    "start_time": "2022-03-26T19:51:36.791Z"
   },
   {
    "duration": 6,
    "start_time": "2022-03-26T19:51:37.675Z"
   },
   {
    "duration": 4,
    "start_time": "2022-03-26T19:51:59.404Z"
   },
   {
    "duration": 5,
    "start_time": "2022-03-26T19:52:01.822Z"
   },
   {
    "duration": 10,
    "start_time": "2022-03-26T19:52:06.743Z"
   },
   {
    "duration": 27,
    "start_time": "2022-03-26T19:52:13.094Z"
   },
   {
    "duration": 10,
    "start_time": "2022-03-26T19:52:58.155Z"
   },
   {
    "duration": 23,
    "start_time": "2022-03-26T19:53:03.071Z"
   },
   {
    "duration": 10,
    "start_time": "2022-03-26T19:53:08.843Z"
   },
   {
    "duration": 3,
    "start_time": "2022-03-26T19:53:11.312Z"
   },
   {
    "duration": 6,
    "start_time": "2022-03-26T19:53:12.284Z"
   },
   {
    "duration": 4,
    "start_time": "2022-03-26T19:53:16.183Z"
   },
   {
    "duration": 14,
    "start_time": "2022-03-26T19:53:18.074Z"
   },
   {
    "duration": 3,
    "start_time": "2022-03-26T19:55:06.074Z"
   },
   {
    "duration": 9,
    "start_time": "2022-03-26T19:55:07.353Z"
   },
   {
    "duration": 4,
    "start_time": "2022-03-26T19:56:35.275Z"
   },
   {
    "duration": 7,
    "start_time": "2022-03-26T19:56:36.123Z"
   },
   {
    "duration": 4,
    "start_time": "2022-03-26T19:56:37.152Z"
   },
   {
    "duration": 3,
    "start_time": "2022-03-26T19:56:38.034Z"
   },
   {
    "duration": 8,
    "start_time": "2022-03-26T19:56:38.695Z"
   },
   {
    "duration": 1500,
    "start_time": "2022-03-26T19:57:44.941Z"
   },
   {
    "duration": 745,
    "start_time": "2022-03-26T19:57:46.443Z"
   },
   {
    "duration": 17,
    "start_time": "2022-03-26T19:57:47.190Z"
   },
   {
    "duration": 33,
    "start_time": "2022-03-26T19:57:47.209Z"
   },
   {
    "duration": 29,
    "start_time": "2022-03-26T19:57:47.243Z"
   },
   {
    "duration": 54,
    "start_time": "2022-03-26T19:57:47.274Z"
   },
   {
    "duration": 53,
    "start_time": "2022-03-26T19:57:47.329Z"
   },
   {
    "duration": 30,
    "start_time": "2022-03-26T19:57:47.384Z"
   },
   {
    "duration": 42,
    "start_time": "2022-03-26T19:57:47.415Z"
   },
   {
    "duration": 41,
    "start_time": "2022-03-26T19:57:47.459Z"
   },
   {
    "duration": 51,
    "start_time": "2022-03-26T19:57:47.501Z"
   },
   {
    "duration": 43,
    "start_time": "2022-03-26T19:57:47.553Z"
   },
   {
    "duration": 22,
    "start_time": "2022-03-26T19:57:47.598Z"
   },
   {
    "duration": 25,
    "start_time": "2022-03-26T19:57:47.621Z"
   },
   {
    "duration": 53,
    "start_time": "2022-03-26T19:57:47.647Z"
   },
   {
    "duration": 11,
    "start_time": "2022-03-26T19:57:47.702Z"
   },
   {
    "duration": 38,
    "start_time": "2022-03-26T19:57:47.715Z"
   },
   {
    "duration": 44,
    "start_time": "2022-03-26T19:57:47.755Z"
   },
   {
    "duration": 14,
    "start_time": "2022-03-26T19:57:47.801Z"
   },
   {
    "duration": 38,
    "start_time": "2022-03-26T19:57:47.817Z"
   },
   {
    "duration": 37,
    "start_time": "2022-03-26T19:57:47.857Z"
   },
   {
    "duration": 39,
    "start_time": "2022-03-26T19:57:47.895Z"
   },
   {
    "duration": 38,
    "start_time": "2022-03-26T19:57:47.936Z"
   },
   {
    "duration": 54,
    "start_time": "2022-03-26T19:57:47.976Z"
   },
   {
    "duration": 29,
    "start_time": "2022-03-26T19:57:48.032Z"
   },
   {
    "duration": 26,
    "start_time": "2022-03-26T19:57:48.063Z"
   },
   {
    "duration": 31,
    "start_time": "2022-03-26T19:57:48.090Z"
   },
   {
    "duration": 43,
    "start_time": "2022-03-26T19:57:48.126Z"
   },
   {
    "duration": 752,
    "start_time": "2022-03-26T19:57:48.171Z"
   },
   {
    "duration": 631,
    "start_time": "2022-03-26T19:57:48.925Z"
   },
   {
    "duration": 651,
    "start_time": "2022-03-26T19:57:49.558Z"
   },
   {
    "duration": 805,
    "start_time": "2022-03-26T19:57:50.211Z"
   },
   {
    "duration": 615,
    "start_time": "2022-03-26T19:57:51.018Z"
   },
   {
    "duration": 15,
    "start_time": "2022-03-26T19:57:51.635Z"
   },
   {
    "duration": 24,
    "start_time": "2022-03-26T19:57:51.652Z"
   },
   {
    "duration": 26,
    "start_time": "2022-03-26T19:57:51.678Z"
   },
   {
    "duration": 1001,
    "start_time": "2022-03-26T19:57:51.706Z"
   },
   {
    "duration": 8,
    "start_time": "2022-03-26T19:57:52.709Z"
   },
   {
    "duration": 34,
    "start_time": "2022-03-26T19:57:52.719Z"
   },
   {
    "duration": 7,
    "start_time": "2022-03-26T19:57:52.755Z"
   },
   {
    "duration": 23,
    "start_time": "2022-03-26T19:57:52.764Z"
   },
   {
    "duration": 13,
    "start_time": "2022-03-26T19:57:52.788Z"
   },
   {
    "duration": 23,
    "start_time": "2022-03-26T19:57:52.803Z"
   },
   {
    "duration": 1050,
    "start_time": "2022-03-26T19:57:52.828Z"
   },
   {
    "duration": 3,
    "start_time": "2022-03-26T19:57:53.879Z"
   },
   {
    "duration": 462,
    "start_time": "2022-03-26T19:57:53.883Z"
   },
   {
    "duration": 98,
    "start_time": "2022-03-26T19:57:54.350Z"
   },
   {
    "duration": 91,
    "start_time": "2022-03-26T19:57:54.450Z"
   },
   {
    "duration": 108,
    "start_time": "2022-03-26T19:57:54.543Z"
   },
   {
    "duration": 16,
    "start_time": "2022-03-26T19:57:54.653Z"
   },
   {
    "duration": 16,
    "start_time": "2022-03-26T19:57:54.670Z"
   },
   {
    "duration": 10,
    "start_time": "2022-03-26T19:57:54.688Z"
   },
   {
    "duration": 10,
    "start_time": "2022-03-26T19:57:54.700Z"
   },
   {
    "duration": 12,
    "start_time": "2022-03-26T19:57:54.713Z"
   },
   {
    "duration": 16,
    "start_time": "2022-03-26T19:57:54.727Z"
   },
   {
    "duration": 10,
    "start_time": "2022-03-26T19:57:54.745Z"
   },
   {
    "duration": 47793,
    "start_time": "2022-03-26T19:57:54.757Z"
   },
   {
    "duration": 7328,
    "start_time": "2022-03-26T19:58:42.552Z"
   },
   {
    "duration": 12,
    "start_time": "2022-03-26T19:58:49.882Z"
   },
   {
    "duration": 7,
    "start_time": "2022-03-26T19:58:49.896Z"
   },
   {
    "duration": 34,
    "start_time": "2022-03-26T19:58:49.905Z"
   },
   {
    "duration": 5,
    "start_time": "2022-03-26T19:58:49.941Z"
   },
   {
    "duration": 8,
    "start_time": "2022-03-26T19:58:49.948Z"
   },
   {
    "duration": 149,
    "start_time": "2022-03-26T19:58:49.958Z"
   },
   {
    "duration": 0,
    "start_time": "2022-03-26T19:58:50.109Z"
   },
   {
    "duration": 0,
    "start_time": "2022-03-26T19:58:50.110Z"
   },
   {
    "duration": 0,
    "start_time": "2022-03-26T19:58:50.112Z"
   },
   {
    "duration": 0,
    "start_time": "2022-03-26T19:58:50.113Z"
   },
   {
    "duration": 0,
    "start_time": "2022-03-26T19:58:50.114Z"
   },
   {
    "duration": 0,
    "start_time": "2022-03-26T19:58:50.115Z"
   },
   {
    "duration": 0,
    "start_time": "2022-03-26T19:58:50.117Z"
   },
   {
    "duration": 1030,
    "start_time": "2022-03-26T19:58:54.236Z"
   },
   {
    "duration": 1073,
    "start_time": "2022-03-26T19:59:32.328Z"
   },
   {
    "duration": 3,
    "start_time": "2022-03-26T20:00:36.539Z"
   },
   {
    "duration": 3,
    "start_time": "2022-03-26T20:00:40.227Z"
   },
   {
    "duration": 21,
    "start_time": "2022-03-26T20:00:49.696Z"
   },
   {
    "duration": 3,
    "start_time": "2022-03-26T20:01:29.199Z"
   },
   {
    "duration": 3,
    "start_time": "2022-03-26T20:01:30.290Z"
   },
   {
    "duration": 4,
    "start_time": "2022-03-26T20:01:31.907Z"
   },
   {
    "duration": 234158,
    "start_time": "2022-03-26T20:01:33.546Z"
   },
   {
    "duration": 0,
    "start_time": "2022-03-26T20:05:27.706Z"
   },
   {
    "duration": 6593,
    "start_time": "2022-03-26T20:05:36.577Z"
   },
   {
    "duration": 3,
    "start_time": "2022-03-26T20:06:17.618Z"
   },
   {
    "duration": 4,
    "start_time": "2022-03-26T20:06:18.397Z"
   },
   {
    "duration": 201400,
    "start_time": "2022-03-26T20:06:19.247Z"
   },
   {
    "duration": 11,
    "start_time": "2022-03-26T20:12:21.277Z"
   },
   {
    "duration": 14,
    "start_time": "2022-03-26T20:12:37.569Z"
   },
   {
    "duration": 9,
    "start_time": "2022-03-26T20:13:30.311Z"
   },
   {
    "duration": 11,
    "start_time": "2022-03-26T20:14:00.860Z"
   },
   {
    "duration": 14,
    "start_time": "2022-03-26T20:14:11.813Z"
   },
   {
    "duration": 13,
    "start_time": "2022-03-26T20:14:25.167Z"
   },
   {
    "duration": 13,
    "start_time": "2022-03-26T20:16:08.195Z"
   },
   {
    "duration": 7,
    "start_time": "2022-03-26T20:16:13.754Z"
   },
   {
    "duration": 10,
    "start_time": "2022-03-26T20:16:20.064Z"
   },
   {
    "duration": 3,
    "start_time": "2022-03-26T20:16:25.824Z"
   },
   {
    "duration": 4,
    "start_time": "2022-03-26T20:16:39.885Z"
   },
   {
    "duration": 4,
    "start_time": "2022-03-26T20:16:42.397Z"
   },
   {
    "duration": 2,
    "start_time": "2022-03-26T20:17:36.306Z"
   },
   {
    "duration": 6,
    "start_time": "2022-03-26T20:17:37.657Z"
   },
   {
    "duration": 3,
    "start_time": "2022-03-26T20:17:38.866Z"
   },
   {
    "duration": 3,
    "start_time": "2022-03-26T20:17:39.946Z"
   },
   {
    "duration": 7,
    "start_time": "2022-03-26T20:17:43.481Z"
   },
   {
    "duration": 22,
    "start_time": "2022-03-26T20:31:09.228Z"
   },
   {
    "duration": 10,
    "start_time": "2022-03-26T20:31:14.448Z"
   },
   {
    "duration": 3,
    "start_time": "2022-03-26T20:31:17.928Z"
   },
   {
    "duration": 3,
    "start_time": "2022-03-26T20:31:19.087Z"
   },
   {
    "duration": 3,
    "start_time": "2022-03-26T20:31:20.018Z"
   },
   {
    "duration": 15,
    "start_time": "2022-03-26T20:31:20.998Z"
   },
   {
    "duration": 3,
    "start_time": "2022-03-26T20:31:31.757Z"
   },
   {
    "duration": 2,
    "start_time": "2022-03-26T20:31:36.049Z"
   },
   {
    "duration": 3,
    "start_time": "2022-03-26T20:31:42.120Z"
   },
   {
    "duration": 3,
    "start_time": "2022-03-26T20:31:44.268Z"
   },
   {
    "duration": 17,
    "start_time": "2022-03-26T20:32:27.250Z"
   },
   {
    "duration": 14,
    "start_time": "2022-03-26T20:32:55.260Z"
   },
   {
    "duration": 3,
    "start_time": "2022-03-26T20:33:58.968Z"
   },
   {
    "duration": 17,
    "start_time": "2022-03-26T20:33:59.900Z"
   },
   {
    "duration": 3,
    "start_time": "2022-03-26T20:34:25.336Z"
   },
   {
    "duration": 14,
    "start_time": "2022-03-26T20:34:26.193Z"
   },
   {
    "duration": 59,
    "start_time": "2022-03-26T20:34:45.309Z"
   },
   {
    "duration": 103265,
    "start_time": "2022-03-26T20:34:46.182Z"
   },
   {
    "duration": 485,
    "start_time": "2022-03-26T20:36:29.449Z"
   },
   {
    "duration": 10,
    "start_time": "2022-03-26T20:37:14.019Z"
   },
   {
    "duration": 296,
    "start_time": "2022-03-26T20:37:17.728Z"
   },
   {
    "duration": 12,
    "start_time": "2022-03-26T20:38:07.059Z"
   },
   {
    "duration": 11248,
    "start_time": "2022-03-26T20:38:08.158Z"
   },
   {
    "duration": 22232,
    "start_time": "2022-03-26T20:38:21.120Z"
   },
   {
    "duration": 3,
    "start_time": "2022-03-26T20:38:45.150Z"
   },
   {
    "duration": 607,
    "start_time": "2022-03-26T20:39:30.672Z"
   },
   {
    "duration": 2728,
    "start_time": "2022-03-26T20:39:32.500Z"
   },
   {
    "duration": 4,
    "start_time": "2022-03-26T20:39:36.868Z"
   },
   {
    "duration": 11108,
    "start_time": "2022-03-26T20:41:38.104Z"
   },
   {
    "duration": 22220,
    "start_time": "2022-03-26T20:42:01.841Z"
   },
   {
    "duration": 5,
    "start_time": "2022-03-26T20:42:36.897Z"
   },
   {
    "duration": 3,
    "start_time": "2022-03-26T20:46:11.075Z"
   },
   {
    "duration": 5,
    "start_time": "2022-03-26T20:46:11.921Z"
   },
   {
    "duration": 2,
    "start_time": "2022-03-26T20:46:12.961Z"
   },
   {
    "duration": 3,
    "start_time": "2022-03-26T20:46:16.211Z"
   },
   {
    "duration": 9,
    "start_time": "2022-03-26T20:46:21.120Z"
   },
   {
    "duration": 10,
    "start_time": "2022-03-26T20:47:21.758Z"
   },
   {
    "duration": 936,
    "start_time": "2022-03-26T20:50:10.801Z"
   },
   {
    "duration": 101096,
    "start_time": "2022-03-26T20:50:27.941Z"
   },
   {
    "duration": 12,
    "start_time": "2022-03-26T21:07:32.675Z"
   },
   {
    "duration": 13,
    "start_time": "2022-03-26T21:09:56.006Z"
   },
   {
    "duration": 21,
    "start_time": "2022-03-26T21:11:25.166Z"
   },
   {
    "duration": 13,
    "start_time": "2022-03-26T21:11:37.647Z"
   },
   {
    "duration": 694,
    "start_time": "2022-03-26T21:21:47.150Z"
   },
   {
    "duration": 730,
    "start_time": "2022-03-26T21:24:56.309Z"
   },
   {
    "duration": 13,
    "start_time": "2022-03-26T21:26:35.027Z"
   },
   {
    "duration": 11,
    "start_time": "2022-03-26T21:26:38.387Z"
   },
   {
    "duration": 293826,
    "start_time": "2022-03-26T21:27:28.711Z"
   },
   {
    "duration": 9,
    "start_time": "2022-03-26T21:43:17.437Z"
   },
   {
    "duration": 9,
    "start_time": "2022-03-26T21:45:07.665Z"
   },
   {
    "duration": 10,
    "start_time": "2022-03-26T21:46:04.963Z"
   },
   {
    "duration": 18,
    "start_time": "2022-03-26T21:51:51.389Z"
   },
   {
    "duration": 55037,
    "start_time": "2022-03-26T21:53:20.192Z"
   },
   {
    "duration": 64005,
    "start_time": "2022-03-26T21:55:48.700Z"
   },
   {
    "duration": 1399,
    "start_time": "2022-03-26T21:58:16.264Z"
   },
   {
    "duration": 773,
    "start_time": "2022-03-26T21:58:17.665Z"
   },
   {
    "duration": 19,
    "start_time": "2022-03-26T21:58:18.439Z"
   },
   {
    "duration": 24,
    "start_time": "2022-03-26T21:58:18.459Z"
   },
   {
    "duration": 12,
    "start_time": "2022-03-26T21:58:18.485Z"
   },
   {
    "duration": 49,
    "start_time": "2022-03-26T21:58:18.499Z"
   },
   {
    "duration": 21,
    "start_time": "2022-03-26T21:58:18.550Z"
   },
   {
    "duration": 14,
    "start_time": "2022-03-26T21:58:18.572Z"
   },
   {
    "duration": 14,
    "start_time": "2022-03-26T21:58:18.587Z"
   },
   {
    "duration": 53,
    "start_time": "2022-03-26T21:58:18.602Z"
   },
   {
    "duration": 11,
    "start_time": "2022-03-26T21:58:18.657Z"
   },
   {
    "duration": 13,
    "start_time": "2022-03-26T21:58:18.669Z"
   },
   {
    "duration": 8,
    "start_time": "2022-03-26T21:58:18.683Z"
   },
   {
    "duration": 5,
    "start_time": "2022-03-26T21:58:18.694Z"
   },
   {
    "duration": 23,
    "start_time": "2022-03-26T21:58:18.738Z"
   },
   {
    "duration": 10,
    "start_time": "2022-03-26T21:58:18.762Z"
   },
   {
    "duration": 15,
    "start_time": "2022-03-26T21:58:18.774Z"
   },
   {
    "duration": 56,
    "start_time": "2022-03-26T21:58:18.791Z"
   },
   {
    "duration": 8,
    "start_time": "2022-03-26T21:58:18.849Z"
   },
   {
    "duration": 12,
    "start_time": "2022-03-26T21:58:18.859Z"
   },
   {
    "duration": 5,
    "start_time": "2022-03-26T21:58:18.872Z"
   },
   {
    "duration": 6,
    "start_time": "2022-03-26T21:58:18.879Z"
   },
   {
    "duration": 53,
    "start_time": "2022-03-26T21:58:18.887Z"
   },
   {
    "duration": 13,
    "start_time": "2022-03-26T21:58:18.941Z"
   },
   {
    "duration": 7,
    "start_time": "2022-03-26T21:58:18.956Z"
   },
   {
    "duration": 6,
    "start_time": "2022-03-26T21:58:18.964Z"
   },
   {
    "duration": 6,
    "start_time": "2022-03-26T21:58:18.972Z"
   },
   {
    "duration": 18,
    "start_time": "2022-03-26T21:58:18.979Z"
   },
   {
    "duration": 776,
    "start_time": "2022-03-26T21:58:18.999Z"
   },
   {
    "duration": 641,
    "start_time": "2022-03-26T21:58:19.777Z"
   },
   {
    "duration": 670,
    "start_time": "2022-03-26T21:58:20.419Z"
   },
   {
    "duration": 884,
    "start_time": "2022-03-26T21:58:21.091Z"
   },
   {
    "duration": 1002,
    "start_time": "2022-03-26T21:58:21.976Z"
   },
   {
    "duration": 68,
    "start_time": "2022-03-26T21:58:22.981Z"
   },
   {
    "duration": 12,
    "start_time": "2022-03-26T21:58:23.051Z"
   },
   {
    "duration": 3,
    "start_time": "2022-03-26T21:58:23.065Z"
   },
   {
    "duration": 1306,
    "start_time": "2022-03-26T21:58:23.069Z"
   },
   {
    "duration": 7,
    "start_time": "2022-03-26T21:58:24.377Z"
   },
   {
    "duration": 31,
    "start_time": "2022-03-26T21:58:24.386Z"
   },
   {
    "duration": 20,
    "start_time": "2022-03-26T21:58:24.419Z"
   },
   {
    "duration": 2,
    "start_time": "2022-03-26T21:58:24.444Z"
   },
   {
    "duration": 6,
    "start_time": "2022-03-26T21:58:24.448Z"
   },
   {
    "duration": 5,
    "start_time": "2022-03-26T21:58:24.456Z"
   },
   {
    "duration": 6,
    "start_time": "2022-03-26T21:58:24.463Z"
   },
   {
    "duration": 5,
    "start_time": "2022-03-26T21:58:24.471Z"
   },
   {
    "duration": 5,
    "start_time": "2022-03-26T21:58:24.477Z"
   },
   {
    "duration": 6,
    "start_time": "2022-03-26T21:58:24.484Z"
   },
   {
    "duration": 48,
    "start_time": "2022-03-26T21:58:24.491Z"
   },
   {
    "duration": 11,
    "start_time": "2022-03-26T21:58:24.540Z"
   },
   {
    "duration": 3,
    "start_time": "2022-03-26T21:58:24.552Z"
   },
   {
    "duration": 5,
    "start_time": "2022-03-26T21:58:24.557Z"
   },
   {
    "duration": 4,
    "start_time": "2022-03-26T21:58:24.564Z"
   },
   {
    "duration": 5,
    "start_time": "2022-03-26T21:58:24.570Z"
   },
   {
    "duration": 5,
    "start_time": "2022-03-26T21:58:24.577Z"
   },
   {
    "duration": 98,
    "start_time": "2022-03-26T21:58:24.584Z"
   },
   {
    "duration": 1740,
    "start_time": "2022-03-26T21:58:24.684Z"
   },
   {
    "duration": 0,
    "start_time": "2022-03-26T21:58:26.426Z"
   },
   {
    "duration": 0,
    "start_time": "2022-03-26T21:58:26.427Z"
   },
   {
    "duration": 0,
    "start_time": "2022-03-26T21:58:26.428Z"
   },
   {
    "duration": 0,
    "start_time": "2022-03-26T21:58:26.428Z"
   },
   {
    "duration": 0,
    "start_time": "2022-03-26T21:58:26.437Z"
   },
   {
    "duration": 0,
    "start_time": "2022-03-26T21:58:26.438Z"
   },
   {
    "duration": 0,
    "start_time": "2022-03-26T21:58:26.439Z"
   },
   {
    "duration": 0,
    "start_time": "2022-03-26T21:58:26.440Z"
   },
   {
    "duration": 9726,
    "start_time": "2022-03-26T21:59:19.615Z"
   },
   {
    "duration": 1323,
    "start_time": "2022-03-26T21:59:34.071Z"
   },
   {
    "duration": 785,
    "start_time": "2022-03-26T21:59:35.396Z"
   },
   {
    "duration": 19,
    "start_time": "2022-03-26T21:59:36.182Z"
   },
   {
    "duration": 39,
    "start_time": "2022-03-26T21:59:36.204Z"
   },
   {
    "duration": 11,
    "start_time": "2022-03-26T21:59:36.244Z"
   },
   {
    "duration": 15,
    "start_time": "2022-03-26T21:59:36.256Z"
   },
   {
    "duration": 19,
    "start_time": "2022-03-26T21:59:36.272Z"
   },
   {
    "duration": 8,
    "start_time": "2022-03-26T21:59:36.292Z"
   },
   {
    "duration": 13,
    "start_time": "2022-03-26T21:59:36.337Z"
   },
   {
    "duration": 20,
    "start_time": "2022-03-26T21:59:36.352Z"
   },
   {
    "duration": 10,
    "start_time": "2022-03-26T21:59:36.373Z"
   },
   {
    "duration": 11,
    "start_time": "2022-03-26T21:59:36.384Z"
   },
   {
    "duration": 42,
    "start_time": "2022-03-26T21:59:36.396Z"
   },
   {
    "duration": 5,
    "start_time": "2022-03-26T21:59:36.440Z"
   },
   {
    "duration": 22,
    "start_time": "2022-03-26T21:59:36.446Z"
   },
   {
    "duration": 4,
    "start_time": "2022-03-26T21:59:36.470Z"
   },
   {
    "duration": 14,
    "start_time": "2022-03-26T21:59:36.476Z"
   },
   {
    "duration": 54,
    "start_time": "2022-03-26T21:59:36.492Z"
   },
   {
    "duration": 8,
    "start_time": "2022-03-26T21:59:36.548Z"
   },
   {
    "duration": 6,
    "start_time": "2022-03-26T21:59:36.558Z"
   },
   {
    "duration": 5,
    "start_time": "2022-03-26T21:59:36.566Z"
   },
   {
    "duration": 5,
    "start_time": "2022-03-26T21:59:36.573Z"
   },
   {
    "duration": 59,
    "start_time": "2022-03-26T21:59:36.580Z"
   },
   {
    "duration": 13,
    "start_time": "2022-03-26T21:59:36.641Z"
   },
   {
    "duration": 7,
    "start_time": "2022-03-26T21:59:36.656Z"
   },
   {
    "duration": 6,
    "start_time": "2022-03-26T21:59:36.665Z"
   },
   {
    "duration": 6,
    "start_time": "2022-03-26T21:59:36.672Z"
   },
   {
    "duration": 16,
    "start_time": "2022-03-26T21:59:36.682Z"
   },
   {
    "duration": 1442,
    "start_time": "2022-03-26T21:59:36.737Z"
   },
   {
    "duration": 636,
    "start_time": "2022-03-26T21:59:38.181Z"
   },
   {
    "duration": 628,
    "start_time": "2022-03-26T21:59:38.819Z"
   },
   {
    "duration": 764,
    "start_time": "2022-03-26T21:59:39.448Z"
   },
   {
    "duration": 588,
    "start_time": "2022-03-26T21:59:40.213Z"
   },
   {
    "duration": 14,
    "start_time": "2022-03-26T21:59:40.803Z"
   },
   {
    "duration": 28,
    "start_time": "2022-03-26T21:59:40.818Z"
   },
   {
    "duration": 3,
    "start_time": "2022-03-26T21:59:40.848Z"
   },
   {
    "duration": 964,
    "start_time": "2022-03-26T21:59:40.853Z"
   },
   {
    "duration": 18,
    "start_time": "2022-03-26T21:59:41.819Z"
   },
   {
    "duration": 20,
    "start_time": "2022-03-26T21:59:41.839Z"
   },
   {
    "duration": 7,
    "start_time": "2022-03-26T21:59:41.861Z"
   },
   {
    "duration": 3,
    "start_time": "2022-03-26T21:59:41.869Z"
   },
   {
    "duration": 4,
    "start_time": "2022-03-26T21:59:41.874Z"
   },
   {
    "duration": 5,
    "start_time": "2022-03-26T21:59:41.879Z"
   },
   {
    "duration": 5,
    "start_time": "2022-03-26T21:59:41.885Z"
   },
   {
    "duration": 6,
    "start_time": "2022-03-26T21:59:41.892Z"
   },
   {
    "duration": 40,
    "start_time": "2022-03-26T21:59:41.900Z"
   },
   {
    "duration": 8,
    "start_time": "2022-03-26T21:59:41.942Z"
   },
   {
    "duration": 15,
    "start_time": "2022-03-26T21:59:41.951Z"
   },
   {
    "duration": 13,
    "start_time": "2022-03-26T21:59:41.968Z"
   },
   {
    "duration": 9,
    "start_time": "2022-03-26T21:59:41.982Z"
   },
   {
    "duration": 14,
    "start_time": "2022-03-26T21:59:41.993Z"
   },
   {
    "duration": 29,
    "start_time": "2022-03-26T21:59:42.009Z"
   },
   {
    "duration": 8,
    "start_time": "2022-03-26T21:59:42.040Z"
   },
   {
    "duration": 8,
    "start_time": "2022-03-26T21:59:42.049Z"
   },
   {
    "duration": 61,
    "start_time": "2022-03-26T21:59:42.058Z"
   },
   {
    "duration": 229696,
    "start_time": "2022-03-26T21:59:42.121Z"
   },
   {
    "duration": 22,
    "start_time": "2022-03-26T22:03:31.819Z"
   },
   {
    "duration": 20,
    "start_time": "2022-03-26T22:03:31.843Z"
   },
   {
    "duration": 3,
    "start_time": "2022-03-26T22:03:31.865Z"
   },
   {
    "duration": 56419,
    "start_time": "2022-03-26T22:03:31.870Z"
   },
   {
    "duration": 0,
    "start_time": "2022-03-26T22:04:28.290Z"
   },
   {
    "duration": 0,
    "start_time": "2022-03-26T22:04:28.292Z"
   },
   {
    "duration": 0,
    "start_time": "2022-03-26T22:04:28.293Z"
   },
   {
    "duration": 0,
    "start_time": "2022-03-26T22:04:28.294Z"
   },
   {
    "duration": 55126,
    "start_time": "2022-03-26T22:05:54.733Z"
   },
   {
    "duration": 54019,
    "start_time": "2022-03-26T22:09:05.392Z"
   },
   {
    "duration": 64395,
    "start_time": "2022-03-26T22:13:44.392Z"
   },
   {
    "duration": 6,
    "start_time": "2022-03-26T22:16:41.543Z"
   },
   {
    "duration": 7,
    "start_time": "2022-03-26T22:17:42.117Z"
   },
   {
    "duration": 5,
    "start_time": "2022-03-26T22:17:57.287Z"
   },
   {
    "duration": 35109,
    "start_time": "2022-03-26T22:18:02.611Z"
   },
   {
    "duration": 0,
    "start_time": "2022-03-26T22:18:37.722Z"
   },
   {
    "duration": 18490,
    "start_time": "2022-03-26T22:18:41.502Z"
   },
   {
    "duration": 55600,
    "start_time": "2022-03-26T22:19:11.233Z"
   },
   {
    "duration": 15,
    "start_time": "2022-03-26T22:21:00.334Z"
   },
   {
    "duration": 11,
    "start_time": "2022-03-26T22:21:02.733Z"
   },
   {
    "duration": 18,
    "start_time": "2022-03-26T22:21:15.873Z"
   },
   {
    "duration": 55629,
    "start_time": "2022-03-26T22:21:23.397Z"
   },
   {
    "duration": 64076,
    "start_time": "2022-03-26T22:22:25.352Z"
   },
   {
    "duration": 4,
    "start_time": "2022-03-26T22:24:34.101Z"
   },
   {
    "duration": 1394,
    "start_time": "2022-03-26T22:34:58.258Z"
   },
   {
    "duration": 791,
    "start_time": "2022-03-26T22:34:59.654Z"
   },
   {
    "duration": 19,
    "start_time": "2022-03-26T22:35:00.446Z"
   },
   {
    "duration": 22,
    "start_time": "2022-03-26T22:35:00.466Z"
   },
   {
    "duration": 12,
    "start_time": "2022-03-26T22:35:00.491Z"
   },
   {
    "duration": 46,
    "start_time": "2022-03-26T22:35:00.504Z"
   },
   {
    "duration": 19,
    "start_time": "2022-03-26T22:35:00.552Z"
   },
   {
    "duration": 36,
    "start_time": "2022-03-26T22:35:00.572Z"
   },
   {
    "duration": 14,
    "start_time": "2022-03-26T22:35:00.610Z"
   },
   {
    "duration": 27,
    "start_time": "2022-03-26T22:35:00.626Z"
   },
   {
    "duration": 15,
    "start_time": "2022-03-26T22:35:00.655Z"
   },
   {
    "duration": 12,
    "start_time": "2022-03-26T22:35:00.672Z"
   },
   {
    "duration": 8,
    "start_time": "2022-03-26T22:35:00.686Z"
   },
   {
    "duration": 8,
    "start_time": "2022-03-26T22:35:00.697Z"
   },
   {
    "duration": 47,
    "start_time": "2022-03-26T22:35:00.707Z"
   },
   {
    "duration": 4,
    "start_time": "2022-03-26T22:35:00.756Z"
   },
   {
    "duration": 27,
    "start_time": "2022-03-26T22:35:00.762Z"
   },
   {
    "duration": 26,
    "start_time": "2022-03-26T22:35:00.791Z"
   },
   {
    "duration": 8,
    "start_time": "2022-03-26T22:35:00.837Z"
   },
   {
    "duration": 15,
    "start_time": "2022-03-26T22:35:00.847Z"
   },
   {
    "duration": 14,
    "start_time": "2022-03-26T22:35:00.863Z"
   },
   {
    "duration": 16,
    "start_time": "2022-03-26T22:35:00.879Z"
   },
   {
    "duration": 30,
    "start_time": "2022-03-26T22:35:00.897Z"
   },
   {
    "duration": 25,
    "start_time": "2022-03-26T22:35:00.928Z"
   },
   {
    "duration": 6,
    "start_time": "2022-03-26T22:35:00.955Z"
   },
   {
    "duration": 28,
    "start_time": "2022-03-26T22:35:00.963Z"
   },
   {
    "duration": 14,
    "start_time": "2022-03-26T22:35:00.993Z"
   },
   {
    "duration": 13,
    "start_time": "2022-03-26T22:35:01.009Z"
   },
   {
    "duration": 12,
    "start_time": "2022-03-26T22:35:01.025Z"
   },
   {
    "duration": 18,
    "start_time": "2022-03-26T22:35:01.039Z"
   },
   {
    "duration": 769,
    "start_time": "2022-03-26T22:35:01.059Z"
   },
   {
    "duration": 676,
    "start_time": "2022-03-26T22:35:01.830Z"
   },
   {
    "duration": 640,
    "start_time": "2022-03-26T22:35:02.508Z"
   },
   {
    "duration": 796,
    "start_time": "2022-03-26T22:35:03.149Z"
   },
   {
    "duration": 996,
    "start_time": "2022-03-26T22:35:03.946Z"
   },
   {
    "duration": 14,
    "start_time": "2022-03-26T22:35:04.944Z"
   },
   {
    "duration": 24,
    "start_time": "2022-03-26T22:35:04.959Z"
   },
   {
    "duration": 54,
    "start_time": "2022-03-26T22:35:04.984Z"
   },
   {
    "duration": 1263,
    "start_time": "2022-03-26T22:35:05.040Z"
   },
   {
    "duration": 7,
    "start_time": "2022-03-26T22:35:06.305Z"
   },
   {
    "duration": 41,
    "start_time": "2022-03-26T22:35:06.316Z"
   },
   {
    "duration": 12,
    "start_time": "2022-03-26T22:35:06.358Z"
   },
   {
    "duration": 31,
    "start_time": "2022-03-26T22:35:06.371Z"
   },
   {
    "duration": 23,
    "start_time": "2022-03-26T22:35:06.403Z"
   },
   {
    "duration": 19,
    "start_time": "2022-03-26T22:35:06.428Z"
   },
   {
    "duration": 20,
    "start_time": "2022-03-26T22:35:06.449Z"
   },
   {
    "duration": 27,
    "start_time": "2022-03-26T22:35:06.471Z"
   },
   {
    "duration": 8,
    "start_time": "2022-03-26T22:35:06.500Z"
   },
   {
    "duration": 32,
    "start_time": "2022-03-26T22:35:06.510Z"
   },
   {
    "duration": 33,
    "start_time": "2022-03-26T22:35:06.544Z"
   },
   {
    "duration": 39,
    "start_time": "2022-03-26T22:35:06.579Z"
   },
   {
    "duration": 24,
    "start_time": "2022-03-26T22:35:06.619Z"
   },
   {
    "duration": 26,
    "start_time": "2022-03-26T22:35:06.645Z"
   },
   {
    "duration": 37,
    "start_time": "2022-03-26T22:35:06.673Z"
   },
   {
    "duration": 23,
    "start_time": "2022-03-26T22:35:06.712Z"
   },
   {
    "duration": 34,
    "start_time": "2022-03-26T22:35:06.736Z"
   },
   {
    "duration": 223271,
    "start_time": "2022-03-26T22:35:06.771Z"
   },
   {
    "duration": 9,
    "start_time": "2022-03-26T22:38:50.044Z"
   },
   {
    "duration": 16,
    "start_time": "2022-03-26T22:38:50.055Z"
   },
   {
    "duration": 12,
    "start_time": "2022-03-26T22:38:50.072Z"
   },
   {
    "duration": 2,
    "start_time": "2022-03-26T22:38:50.085Z"
   },
   {
    "duration": 5,
    "start_time": "2022-03-26T22:38:50.089Z"
   },
   {
    "duration": 10836,
    "start_time": "2022-03-26T22:38:50.096Z"
   },
   {
    "duration": 21644,
    "start_time": "2022-03-26T22:39:00.934Z"
   },
   {
    "duration": 4,
    "start_time": "2022-03-26T22:39:22.580Z"
   },
   {
    "duration": 10977,
    "start_time": "2022-03-26T22:42:24.807Z"
   },
   {
    "duration": 21603,
    "start_time": "2022-03-26T22:43:02.207Z"
   },
   {
    "duration": 4,
    "start_time": "2022-03-26T22:43:26.466Z"
   },
   {
    "duration": 55464,
    "start_time": "2022-03-26T22:43:52.546Z"
   },
   {
    "duration": 64015,
    "start_time": "2022-03-26T22:44:54.269Z"
   },
   {
    "duration": 4,
    "start_time": "2022-03-26T22:47:17.055Z"
   },
   {
    "duration": 4,
    "start_time": "2022-03-26T22:53:12.524Z"
   },
   {
    "duration": 5,
    "start_time": "2022-03-26T22:54:24.804Z"
   },
   {
    "duration": 3,
    "start_time": "2022-03-26T22:55:55.204Z"
   },
   {
    "duration": 5,
    "start_time": "2022-03-26T22:57:06.145Z"
   },
   {
    "duration": 5,
    "start_time": "2022-03-26T22:58:25.044Z"
   },
   {
    "duration": 23,
    "start_time": "2022-03-26T23:04:17.485Z"
   },
   {
    "duration": 16,
    "start_time": "2022-03-26T23:05:40.362Z"
   },
   {
    "duration": 17650,
    "start_time": "2022-03-26T23:05:46.577Z"
   },
   {
    "duration": 41789,
    "start_time": "2022-03-26T23:06:06.445Z"
   },
   {
    "duration": 4,
    "start_time": "2022-03-26T23:06:50.265Z"
   },
   {
    "duration": 3,
    "start_time": "2022-03-26T23:08:19.165Z"
   },
   {
    "duration": 5,
    "start_time": "2022-03-26T23:12:16.252Z"
   },
   {
    "duration": 4,
    "start_time": "2022-03-26T23:12:20.792Z"
   },
   {
    "duration": 5,
    "start_time": "2022-03-26T23:12:28.291Z"
   },
   {
    "duration": 4,
    "start_time": "2022-03-26T23:12:31.932Z"
   },
   {
    "duration": 21,
    "start_time": "2022-03-26T23:12:37.873Z"
   },
   {
    "duration": 10,
    "start_time": "2022-03-26T23:13:14.913Z"
   },
   {
    "duration": 15,
    "start_time": "2022-03-26T23:13:21.213Z"
   },
   {
    "duration": 23168,
    "start_time": "2022-03-26T23:13:24.868Z"
   },
   {
    "duration": 65034,
    "start_time": "2022-03-26T23:14:00.112Z"
   },
   {
    "duration": 4,
    "start_time": "2022-03-26T23:15:08.822Z"
   },
   {
    "duration": 164367,
    "start_time": "2022-03-26T23:17:18.963Z"
   },
   {
    "duration": 1367,
    "start_time": "2022-03-26T23:21:53.988Z"
   },
   {
    "duration": 771,
    "start_time": "2022-03-26T23:21:55.358Z"
   },
   {
    "duration": 18,
    "start_time": "2022-03-26T23:21:56.130Z"
   },
   {
    "duration": 22,
    "start_time": "2022-03-26T23:21:56.150Z"
   },
   {
    "duration": 12,
    "start_time": "2022-03-26T23:21:56.174Z"
   },
   {
    "duration": 20,
    "start_time": "2022-03-26T23:21:56.188Z"
   },
   {
    "duration": 20,
    "start_time": "2022-03-26T23:21:56.238Z"
   },
   {
    "duration": 27,
    "start_time": "2022-03-26T23:21:56.259Z"
   },
   {
    "duration": 19,
    "start_time": "2022-03-26T23:21:56.288Z"
   },
   {
    "duration": 28,
    "start_time": "2022-03-26T23:21:56.309Z"
   },
   {
    "duration": 13,
    "start_time": "2022-03-26T23:21:56.339Z"
   },
   {
    "duration": 22,
    "start_time": "2022-03-26T23:21:56.353Z"
   },
   {
    "duration": 9,
    "start_time": "2022-03-26T23:21:56.378Z"
   },
   {
    "duration": 13,
    "start_time": "2022-03-26T23:21:56.390Z"
   },
   {
    "duration": 38,
    "start_time": "2022-03-26T23:21:56.404Z"
   },
   {
    "duration": 4,
    "start_time": "2022-03-26T23:21:56.444Z"
   },
   {
    "duration": 19,
    "start_time": "2022-03-26T23:21:56.450Z"
   },
   {
    "duration": 27,
    "start_time": "2022-03-26T23:21:56.471Z"
   },
   {
    "duration": 8,
    "start_time": "2022-03-26T23:21:56.500Z"
   },
   {
    "duration": 33,
    "start_time": "2022-03-26T23:21:56.509Z"
   },
   {
    "duration": 9,
    "start_time": "2022-03-26T23:21:56.543Z"
   },
   {
    "duration": 10,
    "start_time": "2022-03-26T23:21:56.554Z"
   },
   {
    "duration": 30,
    "start_time": "2022-03-26T23:21:56.566Z"
   },
   {
    "duration": 25,
    "start_time": "2022-03-26T23:21:56.598Z"
   },
   {
    "duration": 16,
    "start_time": "2022-03-26T23:21:56.624Z"
   },
   {
    "duration": 15,
    "start_time": "2022-03-26T23:21:56.641Z"
   },
   {
    "duration": 10,
    "start_time": "2022-03-26T23:21:56.657Z"
   },
   {
    "duration": 23,
    "start_time": "2022-03-26T23:21:56.669Z"
   },
   {
    "duration": 7,
    "start_time": "2022-03-26T23:21:56.693Z"
   },
   {
    "duration": 24,
    "start_time": "2022-03-26T23:21:56.701Z"
   },
   {
    "duration": 744,
    "start_time": "2022-03-26T23:21:56.727Z"
   },
   {
    "duration": 635,
    "start_time": "2022-03-26T23:21:57.472Z"
   },
   {
    "duration": 623,
    "start_time": "2022-03-26T23:21:58.109Z"
   },
   {
    "duration": 769,
    "start_time": "2022-03-26T23:21:58.738Z"
   },
   {
    "duration": 616,
    "start_time": "2022-03-26T23:21:59.509Z"
   },
   {
    "duration": 17,
    "start_time": "2022-03-26T23:22:00.127Z"
   },
   {
    "duration": 13,
    "start_time": "2022-03-26T23:22:00.145Z"
   },
   {
    "duration": 4,
    "start_time": "2022-03-26T23:22:00.160Z"
   },
   {
    "duration": 1016,
    "start_time": "2022-03-26T23:22:00.165Z"
   },
   {
    "duration": 8,
    "start_time": "2022-03-26T23:22:01.183Z"
   },
   {
    "duration": 44,
    "start_time": "2022-03-26T23:22:01.194Z"
   },
   {
    "duration": 7,
    "start_time": "2022-03-26T23:22:01.240Z"
   },
   {
    "duration": 16,
    "start_time": "2022-03-26T23:22:01.248Z"
   },
   {
    "duration": 17,
    "start_time": "2022-03-26T23:22:01.266Z"
   },
   {
    "duration": 38,
    "start_time": "2022-03-26T23:22:01.285Z"
   },
   {
    "duration": 24,
    "start_time": "2022-03-26T23:22:01.325Z"
   },
   {
    "duration": 23,
    "start_time": "2022-03-26T23:22:01.351Z"
   },
   {
    "duration": 25,
    "start_time": "2022-03-26T23:22:01.376Z"
   },
   {
    "duration": 28,
    "start_time": "2022-03-26T23:22:01.404Z"
   },
   {
    "duration": 62,
    "start_time": "2022-03-26T23:22:01.434Z"
   },
   {
    "duration": 120,
    "start_time": "2022-03-26T23:22:01.498Z"
   },
   {
    "duration": 0,
    "start_time": "2022-03-26T23:22:01.620Z"
   },
   {
    "duration": 0,
    "start_time": "2022-03-26T23:22:01.622Z"
   },
   {
    "duration": 0,
    "start_time": "2022-03-26T23:22:01.624Z"
   },
   {
    "duration": 0,
    "start_time": "2022-03-26T23:22:01.625Z"
   },
   {
    "duration": 0,
    "start_time": "2022-03-26T23:22:01.627Z"
   },
   {
    "duration": 166311,
    "start_time": "2022-03-26T23:23:57.448Z"
   },
   {
    "duration": 9,
    "start_time": "2022-03-26T23:26:43.761Z"
   },
   {
    "duration": 14,
    "start_time": "2022-03-26T23:26:43.772Z"
   },
   {
    "duration": 23481,
    "start_time": "2022-03-26T23:26:43.788Z"
   },
   {
    "duration": 64429,
    "start_time": "2022-03-26T23:27:07.271Z"
   },
   {
    "duration": 4,
    "start_time": "2022-03-26T23:28:11.701Z"
   },
   {
    "duration": 1376,
    "start_time": "2022-03-27T00:03:39.035Z"
   },
   {
    "duration": 777,
    "start_time": "2022-03-27T00:03:40.413Z"
   },
   {
    "duration": 18,
    "start_time": "2022-03-27T00:03:41.191Z"
   },
   {
    "duration": 36,
    "start_time": "2022-03-27T00:03:41.211Z"
   },
   {
    "duration": 13,
    "start_time": "2022-03-27T00:03:41.249Z"
   },
   {
    "duration": 17,
    "start_time": "2022-03-27T00:03:41.263Z"
   },
   {
    "duration": 19,
    "start_time": "2022-03-27T00:03:41.282Z"
   },
   {
    "duration": 43,
    "start_time": "2022-03-27T00:03:41.303Z"
   },
   {
    "duration": 11,
    "start_time": "2022-03-27T00:03:41.348Z"
   },
   {
    "duration": 19,
    "start_time": "2022-03-27T00:03:41.360Z"
   },
   {
    "duration": 8,
    "start_time": "2022-03-27T00:03:41.381Z"
   },
   {
    "duration": 53,
    "start_time": "2022-03-27T00:03:41.391Z"
   },
   {
    "duration": 7,
    "start_time": "2022-03-27T00:03:41.446Z"
   },
   {
    "duration": 5,
    "start_time": "2022-03-27T00:03:41.455Z"
   },
   {
    "duration": 21,
    "start_time": "2022-03-27T00:03:41.461Z"
   },
   {
    "duration": 4,
    "start_time": "2022-03-27T00:03:41.484Z"
   },
   {
    "duration": 49,
    "start_time": "2022-03-27T00:03:41.489Z"
   },
   {
    "duration": 24,
    "start_time": "2022-03-27T00:03:41.540Z"
   },
   {
    "duration": 7,
    "start_time": "2022-03-27T00:03:41.566Z"
   },
   {
    "duration": 6,
    "start_time": "2022-03-27T00:03:41.575Z"
   },
   {
    "duration": 5,
    "start_time": "2022-03-27T00:03:41.583Z"
   },
   {
    "duration": 9,
    "start_time": "2022-03-27T00:03:41.589Z"
   },
   {
    "duration": 56,
    "start_time": "2022-03-27T00:03:41.599Z"
   },
   {
    "duration": 17,
    "start_time": "2022-03-27T00:03:41.657Z"
   },
   {
    "duration": 7,
    "start_time": "2022-03-27T00:03:41.676Z"
   },
   {
    "duration": 13,
    "start_time": "2022-03-27T00:03:41.685Z"
   },
   {
    "duration": 8,
    "start_time": "2022-03-27T00:03:41.700Z"
   },
   {
    "duration": 29,
    "start_time": "2022-03-27T00:03:41.709Z"
   },
   {
    "duration": 7,
    "start_time": "2022-03-27T00:03:41.739Z"
   },
   {
    "duration": 19,
    "start_time": "2022-03-27T00:03:41.747Z"
   },
   {
    "duration": 723,
    "start_time": "2022-03-27T00:03:41.768Z"
   },
   {
    "duration": 614,
    "start_time": "2022-03-27T00:03:42.493Z"
   },
   {
    "duration": 624,
    "start_time": "2022-03-27T00:03:43.109Z"
   },
   {
    "duration": 773,
    "start_time": "2022-03-27T00:03:43.735Z"
   },
   {
    "duration": 592,
    "start_time": "2022-03-27T00:03:44.510Z"
   },
   {
    "duration": 14,
    "start_time": "2022-03-27T00:03:45.104Z"
   },
   {
    "duration": 24,
    "start_time": "2022-03-27T00:03:45.120Z"
   },
   {
    "duration": 4,
    "start_time": "2022-03-27T00:03:45.146Z"
   },
   {
    "duration": 981,
    "start_time": "2022-03-27T00:03:45.151Z"
   },
   {
    "duration": 8,
    "start_time": "2022-03-27T00:03:46.136Z"
   },
   {
    "duration": 18,
    "start_time": "2022-03-27T00:03:46.147Z"
   },
   {
    "duration": 7,
    "start_time": "2022-03-27T00:03:46.167Z"
   },
   {
    "duration": 3,
    "start_time": "2022-03-27T00:03:46.175Z"
   },
   {
    "duration": 5,
    "start_time": "2022-03-27T00:03:46.180Z"
   },
   {
    "duration": 7,
    "start_time": "2022-03-27T00:03:46.186Z"
   },
   {
    "duration": 5,
    "start_time": "2022-03-27T00:03:46.195Z"
   },
   {
    "duration": 37,
    "start_time": "2022-03-27T00:03:46.201Z"
   },
   {
    "duration": 8,
    "start_time": "2022-03-27T00:03:46.240Z"
   },
   {
    "duration": 4,
    "start_time": "2022-03-27T00:03:46.250Z"
   },
   {
    "duration": 13,
    "start_time": "2022-03-27T00:03:46.256Z"
   },
   {
    "duration": 166240,
    "start_time": "2022-03-27T00:03:46.271Z"
   },
   {
    "duration": 9,
    "start_time": "2022-03-27T00:06:32.513Z"
   },
   {
    "duration": 25,
    "start_time": "2022-03-27T00:06:32.524Z"
   },
   {
    "duration": 24334,
    "start_time": "2022-03-27T00:06:32.550Z"
   },
   {
    "duration": 64639,
    "start_time": "2022-03-27T00:06:56.886Z"
   },
   {
    "duration": 3,
    "start_time": "2022-03-27T00:08:01.527Z"
   },
   {
    "duration": 1742,
    "start_time": "2022-03-27T11:59:21.569Z"
   },
   {
    "duration": 1289,
    "start_time": "2022-03-27T11:59:23.313Z"
   },
   {
    "duration": 17,
    "start_time": "2022-03-27T11:59:24.603Z"
   },
   {
    "duration": 21,
    "start_time": "2022-03-27T11:59:24.621Z"
   },
   {
    "duration": 64,
    "start_time": "2022-03-27T11:59:24.644Z"
   },
   {
    "duration": 14,
    "start_time": "2022-03-27T11:59:24.710Z"
   },
   {
    "duration": 17,
    "start_time": "2022-03-27T11:59:24.726Z"
   },
   {
    "duration": 64,
    "start_time": "2022-03-27T11:59:24.745Z"
   },
   {
    "duration": 11,
    "start_time": "2022-03-27T11:59:24.811Z"
   },
   {
    "duration": 16,
    "start_time": "2022-03-27T11:59:24.823Z"
   },
   {
    "duration": 8,
    "start_time": "2022-03-27T11:59:24.840Z"
   },
   {
    "duration": 11,
    "start_time": "2022-03-27T11:59:24.900Z"
   },
   {
    "duration": 7,
    "start_time": "2022-03-27T11:59:24.912Z"
   },
   {
    "duration": 5,
    "start_time": "2022-03-27T11:59:24.922Z"
   },
   {
    "duration": 19,
    "start_time": "2022-03-27T11:59:24.928Z"
   },
   {
    "duration": 54,
    "start_time": "2022-03-27T11:59:24.949Z"
   },
   {
    "duration": 12,
    "start_time": "2022-03-27T11:59:25.005Z"
   },
   {
    "duration": 21,
    "start_time": "2022-03-27T11:59:25.019Z"
   },
   {
    "duration": 64,
    "start_time": "2022-03-27T11:59:25.042Z"
   },
   {
    "duration": 6,
    "start_time": "2022-03-27T11:59:25.107Z"
   },
   {
    "duration": 4,
    "start_time": "2022-03-27T11:59:25.114Z"
   },
   {
    "duration": 6,
    "start_time": "2022-03-27T11:59:25.119Z"
   },
   {
    "duration": 80,
    "start_time": "2022-03-27T11:59:25.127Z"
   },
   {
    "duration": 14,
    "start_time": "2022-03-27T11:59:25.209Z"
   },
   {
    "duration": 7,
    "start_time": "2022-03-27T11:59:25.225Z"
   },
   {
    "duration": 8,
    "start_time": "2022-03-27T11:59:25.234Z"
   },
   {
    "duration": 58,
    "start_time": "2022-03-27T11:59:25.244Z"
   },
   {
    "duration": 5,
    "start_time": "2022-03-27T11:59:25.304Z"
   },
   {
    "duration": 6,
    "start_time": "2022-03-27T11:59:25.310Z"
   },
   {
    "duration": 18,
    "start_time": "2022-03-27T11:59:25.317Z"
   },
   {
    "duration": 1140,
    "start_time": "2022-03-27T11:59:25.336Z"
   },
   {
    "duration": 607,
    "start_time": "2022-03-27T11:59:26.478Z"
   },
   {
    "duration": 985,
    "start_time": "2022-03-27T11:59:27.087Z"
   },
   {
    "duration": 567,
    "start_time": "2022-03-27T11:59:28.073Z"
   },
   {
    "duration": 5,
    "start_time": "2022-03-27T11:59:28.642Z"
   },
   {
    "duration": 8,
    "start_time": "2022-03-27T11:59:28.648Z"
   },
   {
    "duration": 566,
    "start_time": "2022-03-27T11:59:28.657Z"
   },
   {
    "duration": 14,
    "start_time": "2022-03-27T11:59:29.225Z"
   },
   {
    "duration": 13,
    "start_time": "2022-03-27T11:59:29.241Z"
   },
   {
    "duration": 4,
    "start_time": "2022-03-27T11:59:29.256Z"
   },
   {
    "duration": 907,
    "start_time": "2022-03-27T11:59:29.264Z"
   },
   {
    "duration": 7,
    "start_time": "2022-03-27T11:59:30.173Z"
   },
   {
    "duration": 29,
    "start_time": "2022-03-27T11:59:30.182Z"
   },
   {
    "duration": 6,
    "start_time": "2022-03-27T11:59:30.213Z"
   },
   {
    "duration": 12,
    "start_time": "2022-03-27T11:59:30.221Z"
   },
   {
    "duration": 11,
    "start_time": "2022-03-27T11:59:30.235Z"
   },
   {
    "duration": 14,
    "start_time": "2022-03-27T11:59:30.248Z"
   },
   {
    "duration": 11,
    "start_time": "2022-03-27T11:59:30.264Z"
   },
   {
    "duration": 12,
    "start_time": "2022-03-27T11:59:30.277Z"
   },
   {
    "duration": 12,
    "start_time": "2022-03-27T11:59:30.290Z"
   },
   {
    "duration": 12,
    "start_time": "2022-03-27T11:59:30.303Z"
   },
   {
    "duration": 23,
    "start_time": "2022-03-27T11:59:30.316Z"
   },
   {
    "duration": 174595,
    "start_time": "2022-03-27T11:59:30.341Z"
   },
   {
    "duration": 9,
    "start_time": "2022-03-27T12:02:24.940Z"
   },
   {
    "duration": 20,
    "start_time": "2022-03-27T12:02:24.950Z"
   },
   {
    "duration": 24205,
    "start_time": "2022-03-27T12:02:24.972Z"
   },
   {
    "duration": 66198,
    "start_time": "2022-03-27T12:02:49.178Z"
   },
   {
    "duration": 3,
    "start_time": "2022-03-27T12:03:55.378Z"
   },
   {
    "duration": 339,
    "start_time": "2022-03-27T12:08:50.299Z"
   },
   {
    "duration": 101,
    "start_time": "2022-03-27T12:14:15.447Z"
   },
   {
    "duration": 541,
    "start_time": "2022-03-27T12:14:40.533Z"
   },
   {
    "duration": 8,
    "start_time": "2022-03-27T12:16:22.996Z"
   },
   {
    "duration": 1009,
    "start_time": "2022-03-27T12:16:23.942Z"
   },
   {
    "duration": 518,
    "start_time": "2022-03-27T12:17:41.537Z"
   },
   {
    "duration": 3274,
    "start_time": "2022-03-27T12:38:13.711Z"
   },
   {
    "duration": 1699,
    "start_time": "2022-03-27T12:38:16.988Z"
   },
   {
    "duration": 67,
    "start_time": "2022-03-27T12:38:18.689Z"
   },
   {
    "duration": 88,
    "start_time": "2022-03-27T12:38:18.758Z"
   },
   {
    "duration": 17,
    "start_time": "2022-03-27T12:38:18.849Z"
   },
   {
    "duration": 74,
    "start_time": "2022-03-27T12:38:18.869Z"
   },
   {
    "duration": 39,
    "start_time": "2022-03-27T12:38:18.945Z"
   },
   {
    "duration": 68,
    "start_time": "2022-03-27T12:38:18.986Z"
   },
   {
    "duration": 17,
    "start_time": "2022-03-27T12:38:19.056Z"
   },
   {
    "duration": 80,
    "start_time": "2022-03-27T12:38:19.075Z"
   },
   {
    "duration": 31,
    "start_time": "2022-03-27T12:38:19.158Z"
   },
   {
    "duration": 68,
    "start_time": "2022-03-27T12:38:19.192Z"
   },
   {
    "duration": 87,
    "start_time": "2022-03-27T12:38:19.263Z"
   },
   {
    "duration": 9,
    "start_time": "2022-03-27T12:38:19.357Z"
   },
   {
    "duration": 90,
    "start_time": "2022-03-27T12:38:19.369Z"
   },
   {
    "duration": 6,
    "start_time": "2022-03-27T12:38:19.461Z"
   },
   {
    "duration": 73,
    "start_time": "2022-03-27T12:38:19.470Z"
   },
   {
    "duration": 29,
    "start_time": "2022-03-27T12:38:19.546Z"
   },
   {
    "duration": 69,
    "start_time": "2022-03-27T12:38:19.578Z"
   },
   {
    "duration": 11,
    "start_time": "2022-03-27T12:38:19.650Z"
   },
   {
    "duration": 7,
    "start_time": "2022-03-27T12:38:19.664Z"
   },
   {
    "duration": 11,
    "start_time": "2022-03-27T12:38:19.674Z"
   },
   {
    "duration": 36,
    "start_time": "2022-03-27T12:38:19.744Z"
   },
   {
    "duration": 74,
    "start_time": "2022-03-27T12:38:19.783Z"
   },
   {
    "duration": 10,
    "start_time": "2022-03-27T12:38:19.860Z"
   },
   {
    "duration": 6,
    "start_time": "2022-03-27T12:38:19.874Z"
   },
   {
    "duration": 62,
    "start_time": "2022-03-27T12:38:19.883Z"
   },
   {
    "duration": 10,
    "start_time": "2022-03-27T12:38:19.947Z"
   },
   {
    "duration": 12,
    "start_time": "2022-03-27T12:38:19.959Z"
   },
   {
    "duration": 77,
    "start_time": "2022-03-27T12:38:19.973Z"
   },
   {
    "duration": 3301,
    "start_time": "2022-03-27T12:38:20.053Z"
   },
   {
    "duration": 3711,
    "start_time": "2022-03-27T12:38:23.357Z"
   },
   {
    "duration": 3049,
    "start_time": "2022-03-27T12:38:27.071Z"
   },
   {
    "duration": 1136,
    "start_time": "2022-03-27T12:38:30.122Z"
   },
   {
    "duration": 6,
    "start_time": "2022-03-27T12:38:31.262Z"
   },
   {
    "duration": 16,
    "start_time": "2022-03-27T12:38:31.271Z"
   },
   {
    "duration": 182,
    "start_time": "2022-03-27T12:38:31.289Z"
   },
   {
    "duration": 0,
    "start_time": "2022-03-27T12:38:31.474Z"
   },
   {
    "duration": 0,
    "start_time": "2022-03-27T12:38:31.476Z"
   },
   {
    "duration": 0,
    "start_time": "2022-03-27T12:38:31.478Z"
   },
   {
    "duration": 0,
    "start_time": "2022-03-27T12:38:31.479Z"
   },
   {
    "duration": 0,
    "start_time": "2022-03-27T12:38:31.481Z"
   },
   {
    "duration": 0,
    "start_time": "2022-03-27T12:38:31.483Z"
   },
   {
    "duration": 0,
    "start_time": "2022-03-27T12:38:31.484Z"
   },
   {
    "duration": 0,
    "start_time": "2022-03-27T12:38:31.486Z"
   },
   {
    "duration": 0,
    "start_time": "2022-03-27T12:38:31.488Z"
   },
   {
    "duration": 0,
    "start_time": "2022-03-27T12:38:31.489Z"
   },
   {
    "duration": 0,
    "start_time": "2022-03-27T12:38:31.491Z"
   },
   {
    "duration": 0,
    "start_time": "2022-03-27T12:38:31.493Z"
   },
   {
    "duration": 0,
    "start_time": "2022-03-27T12:38:31.494Z"
   },
   {
    "duration": 0,
    "start_time": "2022-03-27T12:38:31.496Z"
   },
   {
    "duration": 0,
    "start_time": "2022-03-27T12:38:31.497Z"
   },
   {
    "duration": 0,
    "start_time": "2022-03-27T12:38:31.499Z"
   },
   {
    "duration": 0,
    "start_time": "2022-03-27T12:38:31.501Z"
   },
   {
    "duration": 0,
    "start_time": "2022-03-27T12:38:31.544Z"
   },
   {
    "duration": 0,
    "start_time": "2022-03-27T12:38:31.545Z"
   },
   {
    "duration": 0,
    "start_time": "2022-03-27T12:38:31.547Z"
   },
   {
    "duration": 0,
    "start_time": "2022-03-27T12:38:31.548Z"
   },
   {
    "duration": 1,
    "start_time": "2022-03-27T12:38:31.549Z"
   },
   {
    "duration": 0,
    "start_time": "2022-03-27T12:38:31.552Z"
   },
   {
    "duration": 0,
    "start_time": "2022-03-27T12:38:31.553Z"
   },
   {
    "duration": 1448,
    "start_time": "2022-03-27T12:40:05.830Z"
   },
   {
    "duration": 1260,
    "start_time": "2022-03-27T12:40:13.750Z"
   },
   {
    "duration": 451,
    "start_time": "2022-03-27T12:40:34.536Z"
   },
   {
    "duration": 1536,
    "start_time": "2022-03-27T12:50:24.543Z"
   },
   {
    "duration": 2049,
    "start_time": "2022-03-27T12:50:53.563Z"
   },
   {
    "duration": 18,
    "start_time": "2022-03-27T12:52:11.455Z"
   },
   {
    "duration": 12,
    "start_time": "2022-03-27T12:52:23.227Z"
   },
   {
    "duration": 3032,
    "start_time": "2022-03-27T12:52:26.733Z"
   },
   {
    "duration": 415,
    "start_time": "2022-03-27T12:52:58.788Z"
   },
   {
    "duration": 25,
    "start_time": "2022-03-27T12:56:20.042Z"
   },
   {
    "duration": 694,
    "start_time": "2022-03-27T12:56:42.409Z"
   },
   {
    "duration": 758,
    "start_time": "2022-03-27T12:56:53.817Z"
   },
   {
    "duration": 1915,
    "start_time": "2022-03-27T13:07:52.040Z"
   },
   {
    "duration": 1035,
    "start_time": "2022-03-27T13:07:53.958Z"
   },
   {
    "duration": 31,
    "start_time": "2022-03-27T13:07:54.996Z"
   },
   {
    "duration": 60,
    "start_time": "2022-03-27T13:07:55.030Z"
   },
   {
    "duration": 29,
    "start_time": "2022-03-27T13:07:55.094Z"
   },
   {
    "duration": 37,
    "start_time": "2022-03-27T13:07:55.142Z"
   },
   {
    "duration": 66,
    "start_time": "2022-03-27T13:07:55.182Z"
   },
   {
    "duration": 26,
    "start_time": "2022-03-27T13:07:55.250Z"
   },
   {
    "duration": 19,
    "start_time": "2022-03-27T13:07:55.279Z"
   },
   {
    "duration": 60,
    "start_time": "2022-03-27T13:07:55.300Z"
   },
   {
    "duration": 12,
    "start_time": "2022-03-27T13:07:55.362Z"
   },
   {
    "duration": 19,
    "start_time": "2022-03-27T13:07:55.377Z"
   },
   {
    "duration": 49,
    "start_time": "2022-03-27T13:07:55.399Z"
   },
   {
    "duration": 7,
    "start_time": "2022-03-27T13:07:55.454Z"
   },
   {
    "duration": 28,
    "start_time": "2022-03-27T13:07:55.464Z"
   },
   {
    "duration": 7,
    "start_time": "2022-03-27T13:07:55.494Z"
   },
   {
    "duration": 54,
    "start_time": "2022-03-27T13:07:55.504Z"
   },
   {
    "duration": 22,
    "start_time": "2022-03-27T13:07:55.560Z"
   },
   {
    "duration": 11,
    "start_time": "2022-03-27T13:07:55.584Z"
   },
   {
    "duration": 55,
    "start_time": "2022-03-27T13:07:55.597Z"
   },
   {
    "duration": 8,
    "start_time": "2022-03-27T13:07:55.654Z"
   },
   {
    "duration": 11,
    "start_time": "2022-03-27T13:07:55.664Z"
   },
   {
    "duration": 33,
    "start_time": "2022-03-27T13:07:55.678Z"
   },
   {
    "duration": 18,
    "start_time": "2022-03-27T13:07:55.744Z"
   },
   {
    "duration": 10,
    "start_time": "2022-03-27T13:07:55.764Z"
   },
   {
    "duration": 8,
    "start_time": "2022-03-27T13:07:55.777Z"
   },
   {
    "duration": 9,
    "start_time": "2022-03-27T13:07:55.787Z"
   },
   {
    "duration": 47,
    "start_time": "2022-03-27T13:07:55.798Z"
   },
   {
    "duration": 8,
    "start_time": "2022-03-27T13:07:55.848Z"
   },
   {
    "duration": 25,
    "start_time": "2022-03-27T13:07:55.859Z"
   },
   {
    "duration": 1383,
    "start_time": "2022-03-27T13:07:55.887Z"
   },
   {
    "duration": 1143,
    "start_time": "2022-03-27T13:07:57.273Z"
   },
   {
    "duration": 1165,
    "start_time": "2022-03-27T13:07:58.419Z"
   },
   {
    "duration": 1259,
    "start_time": "2022-03-27T13:07:59.586Z"
   },
   {
    "duration": 20,
    "start_time": "2022-03-27T13:08:00.848Z"
   },
   {
    "duration": 22,
    "start_time": "2022-03-27T13:08:00.870Z"
   },
   {
    "duration": 5,
    "start_time": "2022-03-27T13:08:00.894Z"
   },
   {
    "duration": 1687,
    "start_time": "2022-03-27T13:08:00.901Z"
   },
   {
    "duration": 10,
    "start_time": "2022-03-27T13:08:02.590Z"
   },
   {
    "duration": 49,
    "start_time": "2022-03-27T13:08:02.602Z"
   },
   {
    "duration": 10,
    "start_time": "2022-03-27T13:08:02.656Z"
   },
   {
    "duration": 5,
    "start_time": "2022-03-27T13:08:02.668Z"
   },
   {
    "duration": 6,
    "start_time": "2022-03-27T13:08:02.675Z"
   },
   {
    "duration": 7,
    "start_time": "2022-03-27T13:08:02.684Z"
   },
   {
    "duration": 9,
    "start_time": "2022-03-27T13:08:02.694Z"
   },
   {
    "duration": 39,
    "start_time": "2022-03-27T13:08:02.705Z"
   },
   {
    "duration": 11,
    "start_time": "2022-03-27T13:08:02.747Z"
   },
   {
    "duration": 7,
    "start_time": "2022-03-27T13:08:02.760Z"
   },
   {
    "duration": 15,
    "start_time": "2022-03-27T13:08:02.770Z"
   },
   {
    "duration": 226262,
    "start_time": "2022-03-27T13:08:02.787Z"
   },
   {
    "duration": 15,
    "start_time": "2022-03-27T13:11:49.051Z"
   },
   {
    "duration": 23,
    "start_time": "2022-03-27T13:11:49.068Z"
   },
   {
    "duration": 31932,
    "start_time": "2022-03-27T13:11:49.093Z"
   },
   {
    "duration": 86571,
    "start_time": "2022-03-27T13:12:21.028Z"
   },
   {
    "duration": 5,
    "start_time": "2022-03-27T13:13:47.601Z"
   }
  ],
  "kernelspec": {
   "display_name": "Python 3 (ipykernel)",
   "language": "python",
   "name": "python3"
  },
  "language_info": {
   "codemirror_mode": {
    "name": "ipython",
    "version": 3
   },
   "file_extension": ".py",
   "mimetype": "text/x-python",
   "name": "python",
   "nbconvert_exporter": "python",
   "pygments_lexer": "ipython3",
   "version": "3.9.7"
  },
  "toc": {
   "base_numbering": 1,
   "nav_menu": {},
   "number_sections": true,
   "sideBar": true,
   "skip_h1_title": true,
   "title_cell": "Содержание",
   "title_sidebar": "Contents",
   "toc_cell": true,
   "toc_position": {
    "height": "calc(100% - 180px)",
    "left": "10px",
    "top": "150px",
    "width": "270.391px"
   },
   "toc_section_display": true,
   "toc_window_display": true
  }
 },
 "nbformat": 4,
 "nbformat_minor": 2
}
