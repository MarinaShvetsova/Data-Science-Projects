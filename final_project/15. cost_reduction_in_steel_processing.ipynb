{
 "cells": [
  {
   "cell_type": "markdown",
   "metadata": {},
   "source": [
    "## Проект - Снижение затрат на электроэнергию при обработке стали"
   ]
  },
  {
   "cell_type": "markdown",
   "metadata": {},
   "source": [
    "### План работы над проектом"
   ]
  },
  {
   "cell_type": "markdown",
   "metadata": {},
   "source": [
    "**1.Исследовательский анализ данных** \n",
    "- загрузить данные\n",
    "- проверить данные на пропуски, дубликаты, типы данных, выбросы / аномалии\n",
    "\n",
    "**2. Уточнить задачу проекта на основе анализа**\n",
    "\n",
    "**3. Предобработка данных**\n",
    "- дополнить данные расчетами\n",
    "- объединить данные в один датафрейм\n",
    "- подготовить данные для работы над проектом (очистить от пропусков и выбросов)\n",
    "- исключить ненужные данные\n",
    "\n",
    "**4. Подготовка данных для обучения**\n",
    "- выделение выборок обучающей и тестовой\n",
    "- определение необходимых признаков для построения модели (целевой признак: конечная температура стали каждой партии)\n",
    "\n",
    "**5. Обучение и тестирование модели**\n",
    "- выбор моделей для обучения\n",
    "- обучение моделей\n",
    "- проверка качества моделей по скорости обучения и качеству метрики\n",
    "- проверка моделей на тестовой выборки\n",
    "- выбор лучшей модели\n",
    "\n",
    "**6. Заключение / отчет по проекту и достижению цели**"
   ]
  },
  {
   "cell_type": "markdown",
   "metadata": {},
   "source": [
    "### Метрика проекта"
   ]
  },
  {
   "cell_type": "markdown",
   "metadata": {},
   "source": [
    "**Метрика качества: MAE**\n",
    "\n",
    "**Критерии оценки проекта:**\n",
    "<br> MAE > 8.7 — 0 sp\n",
    "<br> 6 ≤ MAE ≤ 8.7 — 4 - 5.9 sp\n",
    "<br> MAE < 6.0 — 6 sp"
   ]
  },
  {
   "cell_type": "markdown",
   "metadata": {},
   "source": [
    "## Исследовательский анализ данных"
   ]
  },
  {
   "cell_type": "markdown",
   "metadata": {},
   "source": [
    "### Загрузка данных"
   ]
  },
  {
   "cell_type": "markdown",
   "metadata": {},
   "source": [
    "Импортируем необходимые библиотеки для работы над проектом"
   ]
  },
  {
   "cell_type": "code",
   "execution_count": 59,
   "metadata": {},
   "outputs": [],
   "source": [
    "import pandas as pd\n",
    "import numpy as np\n",
    "\n",
    "from sklearn.metrics import mean_absolute_error\n",
    "from sklearn.preprocessing import StandardScaler\n",
    "from sklearn.model_selection import train_test_split, cross_val_score, GridSearchCV\n",
    "\n",
    "from catboost import CatBoostRegressor\n",
    "from sklearn.tree import DecisionTreeRegressor\n",
    "from sklearn.dummy import DummyRegressor\n",
    "from sklearn.linear_model import LinearRegression\n",
    "from sklearn.ensemble import RandomForestRegressor\n",
    "\n",
    "import matplotlib.pyplot as plt\n",
    "import seaborn as sns\n",
    "\n",
    "import time as tm"
   ]
  },
  {
   "cell_type": "markdown",
   "metadata": {},
   "source": [
    "Загрузим данные проекта"
   ]
  },
  {
   "cell_type": "code",
   "execution_count": 60,
   "metadata": {},
   "outputs": [],
   "source": [
    "DS = '/datasets/final_steel/'"
   ]
  },
  {
   "cell_type": "code",
   "execution_count": 61,
   "metadata": {},
   "outputs": [],
   "source": [
    "arc = pd.read_csv(DS + 'data_arc.csv')\n",
    "bulk = pd.read_csv(DS + 'data_bulk.csv')\n",
    "bulk_time = pd.read_csv(DS + 'data_bulk_time.csv')\n",
    "gas = pd.read_csv(DS + 'data_gas.csv')\n",
    "temp = pd.read_csv(DS + 'data_temp.csv')\n",
    "wire = pd.read_csv(DS + 'data_wire.csv')\n",
    "wire_time = pd.read_csv(DS + 'data_wire_time.csv')"
   ]
  },
  {
   "cell_type": "markdown",
   "metadata": {},
   "source": [
    "### Анализ данных"
   ]
  },
  {
   "cell_type": "markdown",
   "metadata": {},
   "source": [
    "#### Данные об электродах"
   ]
  },
  {
   "cell_type": "code",
   "execution_count": 62,
   "metadata": {},
   "outputs": [
    {
     "name": "stdout",
     "output_type": "stream",
     "text": [
      "<class 'pandas.core.frame.DataFrame'>\n",
      "RangeIndex: 14876 entries, 0 to 14875\n",
      "Data columns (total 5 columns):\n",
      " #   Column                Non-Null Count  Dtype  \n",
      "---  ------                --------------  -----  \n",
      " 0   key                   14876 non-null  int64  \n",
      " 1   Начало нагрева дугой  14876 non-null  object \n",
      " 2   Конец нагрева дугой   14876 non-null  object \n",
      " 3   Активная мощность     14876 non-null  float64\n",
      " 4   Реактивная мощность   14876 non-null  float64\n",
      "dtypes: float64(2), int64(1), object(2)\n",
      "memory usage: 581.2+ KB\n"
     ]
    }
   ],
   "source": [
    "arc.info()"
   ]
  },
  {
   "cell_type": "code",
   "execution_count": 63,
   "metadata": {},
   "outputs": [
    {
     "data": {
      "text/html": [
       "<div>\n",
       "<style scoped>\n",
       "    .dataframe tbody tr th:only-of-type {\n",
       "        vertical-align: middle;\n",
       "    }\n",
       "\n",
       "    .dataframe tbody tr th {\n",
       "        vertical-align: top;\n",
       "    }\n",
       "\n",
       "    .dataframe thead th {\n",
       "        text-align: right;\n",
       "    }\n",
       "</style>\n",
       "<table border=\"1\" class=\"dataframe\">\n",
       "  <thead>\n",
       "    <tr style=\"text-align: right;\">\n",
       "      <th></th>\n",
       "      <th>key</th>\n",
       "      <th>Начало нагрева дугой</th>\n",
       "      <th>Конец нагрева дугой</th>\n",
       "      <th>Активная мощность</th>\n",
       "      <th>Реактивная мощность</th>\n",
       "    </tr>\n",
       "  </thead>\n",
       "  <tbody>\n",
       "    <tr>\n",
       "      <th>0</th>\n",
       "      <td>1</td>\n",
       "      <td>2019-05-03 11:02:14</td>\n",
       "      <td>2019-05-03 11:06:02</td>\n",
       "      <td>0.976059</td>\n",
       "      <td>0.687084</td>\n",
       "    </tr>\n",
       "    <tr>\n",
       "      <th>1</th>\n",
       "      <td>1</td>\n",
       "      <td>2019-05-03 11:07:28</td>\n",
       "      <td>2019-05-03 11:10:33</td>\n",
       "      <td>0.805607</td>\n",
       "      <td>0.520285</td>\n",
       "    </tr>\n",
       "    <tr>\n",
       "      <th>2</th>\n",
       "      <td>1</td>\n",
       "      <td>2019-05-03 11:11:44</td>\n",
       "      <td>2019-05-03 11:14:36</td>\n",
       "      <td>0.744363</td>\n",
       "      <td>0.498805</td>\n",
       "    </tr>\n",
       "    <tr>\n",
       "      <th>3</th>\n",
       "      <td>1</td>\n",
       "      <td>2019-05-03 11:18:14</td>\n",
       "      <td>2019-05-03 11:24:19</td>\n",
       "      <td>1.659363</td>\n",
       "      <td>1.062669</td>\n",
       "    </tr>\n",
       "    <tr>\n",
       "      <th>4</th>\n",
       "      <td>1</td>\n",
       "      <td>2019-05-03 11:26:09</td>\n",
       "      <td>2019-05-03 11:28:37</td>\n",
       "      <td>0.692755</td>\n",
       "      <td>0.414397</td>\n",
       "    </tr>\n",
       "    <tr>\n",
       "      <th>5</th>\n",
       "      <td>2</td>\n",
       "      <td>2019-05-03 11:34:14</td>\n",
       "      <td>2019-05-03 11:36:31</td>\n",
       "      <td>0.438063</td>\n",
       "      <td>0.283043</td>\n",
       "    </tr>\n",
       "    <tr>\n",
       "      <th>6</th>\n",
       "      <td>2</td>\n",
       "      <td>2019-05-03 11:38:50</td>\n",
       "      <td>2019-05-03 11:44:28</td>\n",
       "      <td>1.296415</td>\n",
       "      <td>0.892914</td>\n",
       "    </tr>\n",
       "    <tr>\n",
       "      <th>7</th>\n",
       "      <td>2</td>\n",
       "      <td>2019-05-03 11:46:19</td>\n",
       "      <td>2019-05-03 11:48:25</td>\n",
       "      <td>0.490377</td>\n",
       "      <td>0.305281</td>\n",
       "    </tr>\n",
       "    <tr>\n",
       "      <th>8</th>\n",
       "      <td>2</td>\n",
       "      <td>2019-05-03 11:49:48</td>\n",
       "      <td>2019-05-03 11:53:18</td>\n",
       "      <td>0.827743</td>\n",
       "      <td>0.516874</td>\n",
       "    </tr>\n",
       "    <tr>\n",
       "      <th>9</th>\n",
       "      <td>3</td>\n",
       "      <td>2019-05-03 12:06:54</td>\n",
       "      <td>2019-05-03 12:11:34</td>\n",
       "      <td>1.062053</td>\n",
       "      <td>0.671494</td>\n",
       "    </tr>\n",
       "  </tbody>\n",
       "</table>\n",
       "</div>"
      ],
      "text/plain": [
       "   key Начало нагрева дугой  Конец нагрева дугой  Активная мощность  \\\n",
       "0    1  2019-05-03 11:02:14  2019-05-03 11:06:02           0.976059   \n",
       "1    1  2019-05-03 11:07:28  2019-05-03 11:10:33           0.805607   \n",
       "2    1  2019-05-03 11:11:44  2019-05-03 11:14:36           0.744363   \n",
       "3    1  2019-05-03 11:18:14  2019-05-03 11:24:19           1.659363   \n",
       "4    1  2019-05-03 11:26:09  2019-05-03 11:28:37           0.692755   \n",
       "5    2  2019-05-03 11:34:14  2019-05-03 11:36:31           0.438063   \n",
       "6    2  2019-05-03 11:38:50  2019-05-03 11:44:28           1.296415   \n",
       "7    2  2019-05-03 11:46:19  2019-05-03 11:48:25           0.490377   \n",
       "8    2  2019-05-03 11:49:48  2019-05-03 11:53:18           0.827743   \n",
       "9    3  2019-05-03 12:06:54  2019-05-03 12:11:34           1.062053   \n",
       "\n",
       "   Реактивная мощность  \n",
       "0             0.687084  \n",
       "1             0.520285  \n",
       "2             0.498805  \n",
       "3             1.062669  \n",
       "4             0.414397  \n",
       "5             0.283043  \n",
       "6             0.892914  \n",
       "7             0.305281  \n",
       "8             0.516874  \n",
       "9             0.671494  "
      ]
     },
     "execution_count": 63,
     "metadata": {},
     "output_type": "execute_result"
    }
   ],
   "source": [
    "arc.head(10)"
   ]
  },
  {
   "cell_type": "code",
   "execution_count": 64,
   "metadata": {},
   "outputs": [
    {
     "data": {
      "text/html": [
       "<div>\n",
       "<style scoped>\n",
       "    .dataframe tbody tr th:only-of-type {\n",
       "        vertical-align: middle;\n",
       "    }\n",
       "\n",
       "    .dataframe tbody tr th {\n",
       "        vertical-align: top;\n",
       "    }\n",
       "\n",
       "    .dataframe thead th {\n",
       "        text-align: right;\n",
       "    }\n",
       "</style>\n",
       "<table border=\"1\" class=\"dataframe\">\n",
       "  <thead>\n",
       "    <tr style=\"text-align: right;\">\n",
       "      <th></th>\n",
       "      <th>key</th>\n",
       "      <th>Активная мощность</th>\n",
       "      <th>Реактивная мощность</th>\n",
       "    </tr>\n",
       "  </thead>\n",
       "  <tbody>\n",
       "    <tr>\n",
       "      <th>count</th>\n",
       "      <td>14876.000000</td>\n",
       "      <td>14876.000000</td>\n",
       "      <td>14876.000000</td>\n",
       "    </tr>\n",
       "    <tr>\n",
       "      <th>mean</th>\n",
       "      <td>1615.220422</td>\n",
       "      <td>0.670441</td>\n",
       "      <td>0.452592</td>\n",
       "    </tr>\n",
       "    <tr>\n",
       "      <th>std</th>\n",
       "      <td>934.571502</td>\n",
       "      <td>0.408159</td>\n",
       "      <td>5.878702</td>\n",
       "    </tr>\n",
       "    <tr>\n",
       "      <th>min</th>\n",
       "      <td>1.000000</td>\n",
       "      <td>0.030002</td>\n",
       "      <td>-715.504924</td>\n",
       "    </tr>\n",
       "    <tr>\n",
       "      <th>25%</th>\n",
       "      <td>806.000000</td>\n",
       "      <td>0.395297</td>\n",
       "      <td>0.290991</td>\n",
       "    </tr>\n",
       "    <tr>\n",
       "      <th>50%</th>\n",
       "      <td>1617.000000</td>\n",
       "      <td>0.555517</td>\n",
       "      <td>0.415962</td>\n",
       "    </tr>\n",
       "    <tr>\n",
       "      <th>75%</th>\n",
       "      <td>2429.000000</td>\n",
       "      <td>0.857034</td>\n",
       "      <td>0.637371</td>\n",
       "    </tr>\n",
       "    <tr>\n",
       "      <th>max</th>\n",
       "      <td>3241.000000</td>\n",
       "      <td>3.731596</td>\n",
       "      <td>2.676388</td>\n",
       "    </tr>\n",
       "  </tbody>\n",
       "</table>\n",
       "</div>"
      ],
      "text/plain": [
       "                key  Активная мощность  Реактивная мощность\n",
       "count  14876.000000       14876.000000         14876.000000\n",
       "mean    1615.220422           0.670441             0.452592\n",
       "std      934.571502           0.408159             5.878702\n",
       "min        1.000000           0.030002          -715.504924\n",
       "25%      806.000000           0.395297             0.290991\n",
       "50%     1617.000000           0.555517             0.415962\n",
       "75%     2429.000000           0.857034             0.637371\n",
       "max     3241.000000           3.731596             2.676388"
      ]
     },
     "execution_count": 64,
     "metadata": {},
     "output_type": "execute_result"
    }
   ],
   "source": [
    "arc.describe()"
   ]
  },
  {
   "cell_type": "markdown",
   "metadata": {},
   "source": [
    "По электродам пропусков нет, есть странные отрицательные значения в реактивной мощности (аномальные значения отбросим при обработке)"
   ]
  },
  {
   "cell_type": "code",
   "execution_count": 65,
   "metadata": {},
   "outputs": [
    {
     "data": {
      "image/png": "[encoded data removed]",
      "text/plain": [
       "<Figure size 432x288 with 1 Axes>"
      ]
     },
     "metadata": {
      "needs_background": "light"
     },
     "output_type": "display_data"
    }
   ],
   "source": [
    "# построим гистограмму по кол-ву партий\n",
    "plt.hist((list(arc['key'].value_counts())), bins=30)\n",
    "plt.show()"
   ]
  },
  {
   "cell_type": "code",
   "execution_count": 66,
   "metadata": {},
   "outputs": [
    {
     "data": {
      "text/plain": [
       "count    3214.000000\n",
       "mean        4.628500\n",
       "std         1.608647\n",
       "min         1.000000\n",
       "25%         4.000000\n",
       "50%         4.000000\n",
       "75%         6.000000\n",
       "max        16.000000\n",
       "Name: key, dtype: float64"
      ]
     },
     "execution_count": 66,
     "metadata": {},
     "output_type": "execute_result"
    }
   ],
   "source": [
    "arc['key'].value_counts().describe()"
   ]
  },
  {
   "cell_type": "markdown",
   "metadata": {},
   "source": [
    "Кол-во партий - 3214. \n",
    "<br> Кол-во интераций обработок партии от 1 до 16, среднее кол-во обработок - 4,6"
   ]
  },
  {
   "cell_type": "markdown",
   "metadata": {},
   "source": [
    "#### Данные о подаче сыпучих материалов (объём)"
   ]
  },
  {
   "cell_type": "code",
   "execution_count": 67,
   "metadata": {},
   "outputs": [
    {
     "name": "stdout",
     "output_type": "stream",
     "text": [
      "<class 'pandas.core.frame.DataFrame'>\n",
      "RangeIndex: 3129 entries, 0 to 3128\n",
      "Data columns (total 16 columns):\n",
      " #   Column   Non-Null Count  Dtype  \n",
      "---  ------   --------------  -----  \n",
      " 0   key      3129 non-null   int64  \n",
      " 1   Bulk 1   252 non-null    float64\n",
      " 2   Bulk 2   22 non-null     float64\n",
      " 3   Bulk 3   1298 non-null   float64\n",
      " 4   Bulk 4   1014 non-null   float64\n",
      " 5   Bulk 5   77 non-null     float64\n",
      " 6   Bulk 6   576 non-null    float64\n",
      " 7   Bulk 7   25 non-null     float64\n",
      " 8   Bulk 8   1 non-null      float64\n",
      " 9   Bulk 9   19 non-null     float64\n",
      " 10  Bulk 10  176 non-null    float64\n",
      " 11  Bulk 11  177 non-null    float64\n",
      " 12  Bulk 12  2450 non-null   float64\n",
      " 13  Bulk 13  18 non-null     float64\n",
      " 14  Bulk 14  2806 non-null   float64\n",
      " 15  Bulk 15  2248 non-null   float64\n",
      "dtypes: float64(15), int64(1)\n",
      "memory usage: 391.2 KB\n"
     ]
    }
   ],
   "source": [
    "bulk.info()"
   ]
  },
  {
   "cell_type": "code",
   "execution_count": 68,
   "metadata": {},
   "outputs": [
    {
     "data": {
      "text/plain": [
       "key          0.0\n",
       "Bulk 14     10.3\n",
       "Bulk 12     21.7\n",
       "Bulk 15     28.2\n",
       "Bulk 3      58.5\n",
       "Bulk 4      67.6\n",
       "Bulk 6      81.6\n",
       "Bulk 1      91.9\n",
       "Bulk 11     94.3\n",
       "Bulk 10     94.4\n",
       "Bulk 5      97.5\n",
       "Bulk 7      99.2\n",
       "Bulk 2      99.3\n",
       "Bulk 9      99.4\n",
       "Bulk 13     99.4\n",
       "Bulk 8     100.0\n",
       "dtype: float64"
      ]
     },
     "execution_count": 68,
     "metadata": {},
     "output_type": "execute_result"
    }
   ],
   "source": [
    "# посчитаем пропуски в процентах от всех записей\n",
    "bulk.isna().mean().sort_values().round(3)*100"
   ]
  },
  {
   "cell_type": "code",
   "execution_count": 69,
   "metadata": {},
   "outputs": [
    {
     "data": {
      "text/html": [
       "<div>\n",
       "<style scoped>\n",
       "    .dataframe tbody tr th:only-of-type {\n",
       "        vertical-align: middle;\n",
       "    }\n",
       "\n",
       "    .dataframe tbody tr th {\n",
       "        vertical-align: top;\n",
       "    }\n",
       "\n",
       "    .dataframe thead th {\n",
       "        text-align: right;\n",
       "    }\n",
       "</style>\n",
       "<table border=\"1\" class=\"dataframe\">\n",
       "  <thead>\n",
       "    <tr style=\"text-align: right;\">\n",
       "      <th></th>\n",
       "      <th>key</th>\n",
       "      <th>Bulk 1</th>\n",
       "      <th>Bulk 2</th>\n",
       "      <th>Bulk 3</th>\n",
       "      <th>Bulk 4</th>\n",
       "      <th>Bulk 5</th>\n",
       "      <th>Bulk 6</th>\n",
       "      <th>Bulk 7</th>\n",
       "      <th>Bulk 8</th>\n",
       "      <th>Bulk 9</th>\n",
       "      <th>Bulk 10</th>\n",
       "      <th>Bulk 11</th>\n",
       "      <th>Bulk 12</th>\n",
       "      <th>Bulk 13</th>\n",
       "      <th>Bulk 14</th>\n",
       "      <th>Bulk 15</th>\n",
       "    </tr>\n",
       "  </thead>\n",
       "  <tbody>\n",
       "    <tr>\n",
       "      <th>0</th>\n",
       "      <td>1</td>\n",
       "      <td>NaN</td>\n",
       "      <td>NaN</td>\n",
       "      <td>NaN</td>\n",
       "      <td>43.0</td>\n",
       "      <td>NaN</td>\n",
       "      <td>NaN</td>\n",
       "      <td>NaN</td>\n",
       "      <td>NaN</td>\n",
       "      <td>NaN</td>\n",
       "      <td>NaN</td>\n",
       "      <td>NaN</td>\n",
       "      <td>206.0</td>\n",
       "      <td>NaN</td>\n",
       "      <td>150.0</td>\n",
       "      <td>154.0</td>\n",
       "    </tr>\n",
       "    <tr>\n",
       "      <th>1</th>\n",
       "      <td>2</td>\n",
       "      <td>NaN</td>\n",
       "      <td>NaN</td>\n",
       "      <td>NaN</td>\n",
       "      <td>73.0</td>\n",
       "      <td>NaN</td>\n",
       "      <td>NaN</td>\n",
       "      <td>NaN</td>\n",
       "      <td>NaN</td>\n",
       "      <td>NaN</td>\n",
       "      <td>NaN</td>\n",
       "      <td>NaN</td>\n",
       "      <td>206.0</td>\n",
       "      <td>NaN</td>\n",
       "      <td>149.0</td>\n",
       "      <td>154.0</td>\n",
       "    </tr>\n",
       "    <tr>\n",
       "      <th>2</th>\n",
       "      <td>3</td>\n",
       "      <td>NaN</td>\n",
       "      <td>NaN</td>\n",
       "      <td>NaN</td>\n",
       "      <td>34.0</td>\n",
       "      <td>NaN</td>\n",
       "      <td>NaN</td>\n",
       "      <td>NaN</td>\n",
       "      <td>NaN</td>\n",
       "      <td>NaN</td>\n",
       "      <td>NaN</td>\n",
       "      <td>NaN</td>\n",
       "      <td>205.0</td>\n",
       "      <td>NaN</td>\n",
       "      <td>152.0</td>\n",
       "      <td>153.0</td>\n",
       "    </tr>\n",
       "    <tr>\n",
       "      <th>3</th>\n",
       "      <td>4</td>\n",
       "      <td>NaN</td>\n",
       "      <td>NaN</td>\n",
       "      <td>NaN</td>\n",
       "      <td>81.0</td>\n",
       "      <td>NaN</td>\n",
       "      <td>NaN</td>\n",
       "      <td>NaN</td>\n",
       "      <td>NaN</td>\n",
       "      <td>NaN</td>\n",
       "      <td>NaN</td>\n",
       "      <td>NaN</td>\n",
       "      <td>207.0</td>\n",
       "      <td>NaN</td>\n",
       "      <td>153.0</td>\n",
       "      <td>154.0</td>\n",
       "    </tr>\n",
       "    <tr>\n",
       "      <th>4</th>\n",
       "      <td>5</td>\n",
       "      <td>NaN</td>\n",
       "      <td>NaN</td>\n",
       "      <td>NaN</td>\n",
       "      <td>78.0</td>\n",
       "      <td>NaN</td>\n",
       "      <td>NaN</td>\n",
       "      <td>NaN</td>\n",
       "      <td>NaN</td>\n",
       "      <td>NaN</td>\n",
       "      <td>NaN</td>\n",
       "      <td>NaN</td>\n",
       "      <td>203.0</td>\n",
       "      <td>NaN</td>\n",
       "      <td>151.0</td>\n",
       "      <td>152.0</td>\n",
       "    </tr>\n",
       "  </tbody>\n",
       "</table>\n",
       "</div>"
      ],
      "text/plain": [
       "   key  Bulk 1  Bulk 2  Bulk 3  Bulk 4  Bulk 5  Bulk 6  Bulk 7  Bulk 8  \\\n",
       "0    1     NaN     NaN     NaN    43.0     NaN     NaN     NaN     NaN   \n",
       "1    2     NaN     NaN     NaN    73.0     NaN     NaN     NaN     NaN   \n",
       "2    3     NaN     NaN     NaN    34.0     NaN     NaN     NaN     NaN   \n",
       "3    4     NaN     NaN     NaN    81.0     NaN     NaN     NaN     NaN   \n",
       "4    5     NaN     NaN     NaN    78.0     NaN     NaN     NaN     NaN   \n",
       "\n",
       "   Bulk 9  Bulk 10  Bulk 11  Bulk 12  Bulk 13  Bulk 14  Bulk 15  \n",
       "0     NaN      NaN      NaN    206.0      NaN    150.0    154.0  \n",
       "1     NaN      NaN      NaN    206.0      NaN    149.0    154.0  \n",
       "2     NaN      NaN      NaN    205.0      NaN    152.0    153.0  \n",
       "3     NaN      NaN      NaN    207.0      NaN    153.0    154.0  \n",
       "4     NaN      NaN      NaN    203.0      NaN    151.0    152.0  "
      ]
     },
     "execution_count": 69,
     "metadata": {},
     "output_type": "execute_result"
    }
   ],
   "source": [
    "bulk.head()"
   ]
  },
  {
   "cell_type": "code",
   "execution_count": 70,
   "metadata": {},
   "outputs": [
    {
     "data": {
      "text/html": [
       "<div>\n",
       "<style scoped>\n",
       "    .dataframe tbody tr th:only-of-type {\n",
       "        vertical-align: middle;\n",
       "    }\n",
       "\n",
       "    .dataframe tbody tr th {\n",
       "        vertical-align: top;\n",
       "    }\n",
       "\n",
       "    .dataframe thead th {\n",
       "        text-align: right;\n",
       "    }\n",
       "</style>\n",
       "<table border=\"1\" class=\"dataframe\">\n",
       "  <thead>\n",
       "    <tr style=\"text-align: right;\">\n",
       "      <th></th>\n",
       "      <th>key</th>\n",
       "      <th>Bulk 1</th>\n",
       "      <th>Bulk 2</th>\n",
       "      <th>Bulk 3</th>\n",
       "      <th>Bulk 4</th>\n",
       "      <th>Bulk 5</th>\n",
       "      <th>Bulk 6</th>\n",
       "      <th>Bulk 7</th>\n",
       "      <th>Bulk 8</th>\n",
       "      <th>Bulk 9</th>\n",
       "      <th>Bulk 10</th>\n",
       "      <th>Bulk 11</th>\n",
       "      <th>Bulk 12</th>\n",
       "      <th>Bulk 13</th>\n",
       "      <th>Bulk 14</th>\n",
       "      <th>Bulk 15</th>\n",
       "    </tr>\n",
       "  </thead>\n",
       "  <tbody>\n",
       "    <tr>\n",
       "      <th>count</th>\n",
       "      <td>3129.000000</td>\n",
       "      <td>252.000000</td>\n",
       "      <td>22.000000</td>\n",
       "      <td>1298.000000</td>\n",
       "      <td>1014.000000</td>\n",
       "      <td>77.000000</td>\n",
       "      <td>576.000000</td>\n",
       "      <td>25.000000</td>\n",
       "      <td>1.0</td>\n",
       "      <td>19.000000</td>\n",
       "      <td>176.000000</td>\n",
       "      <td>177.000000</td>\n",
       "      <td>2450.000000</td>\n",
       "      <td>18.000000</td>\n",
       "      <td>2806.000000</td>\n",
       "      <td>2248.000000</td>\n",
       "    </tr>\n",
       "    <tr>\n",
       "      <th>mean</th>\n",
       "      <td>1624.383509</td>\n",
       "      <td>39.242063</td>\n",
       "      <td>253.045455</td>\n",
       "      <td>113.879045</td>\n",
       "      <td>104.394477</td>\n",
       "      <td>107.025974</td>\n",
       "      <td>118.925347</td>\n",
       "      <td>305.600000</td>\n",
       "      <td>49.0</td>\n",
       "      <td>76.315789</td>\n",
       "      <td>83.284091</td>\n",
       "      <td>76.819209</td>\n",
       "      <td>260.471020</td>\n",
       "      <td>181.111111</td>\n",
       "      <td>170.284747</td>\n",
       "      <td>160.513345</td>\n",
       "    </tr>\n",
       "    <tr>\n",
       "      <th>std</th>\n",
       "      <td>933.337642</td>\n",
       "      <td>18.277654</td>\n",
       "      <td>21.180578</td>\n",
       "      <td>75.483494</td>\n",
       "      <td>48.184126</td>\n",
       "      <td>81.790646</td>\n",
       "      <td>72.057776</td>\n",
       "      <td>191.022904</td>\n",
       "      <td>NaN</td>\n",
       "      <td>21.720581</td>\n",
       "      <td>26.060347</td>\n",
       "      <td>59.655365</td>\n",
       "      <td>120.649269</td>\n",
       "      <td>46.088009</td>\n",
       "      <td>65.868652</td>\n",
       "      <td>51.765319</td>\n",
       "    </tr>\n",
       "    <tr>\n",
       "      <th>min</th>\n",
       "      <td>1.000000</td>\n",
       "      <td>10.000000</td>\n",
       "      <td>228.000000</td>\n",
       "      <td>6.000000</td>\n",
       "      <td>12.000000</td>\n",
       "      <td>11.000000</td>\n",
       "      <td>17.000000</td>\n",
       "      <td>47.000000</td>\n",
       "      <td>49.0</td>\n",
       "      <td>63.000000</td>\n",
       "      <td>24.000000</td>\n",
       "      <td>8.000000</td>\n",
       "      <td>53.000000</td>\n",
       "      <td>151.000000</td>\n",
       "      <td>16.000000</td>\n",
       "      <td>1.000000</td>\n",
       "    </tr>\n",
       "    <tr>\n",
       "      <th>25%</th>\n",
       "      <td>816.000000</td>\n",
       "      <td>27.000000</td>\n",
       "      <td>242.000000</td>\n",
       "      <td>58.000000</td>\n",
       "      <td>72.000000</td>\n",
       "      <td>70.000000</td>\n",
       "      <td>69.750000</td>\n",
       "      <td>155.000000</td>\n",
       "      <td>49.0</td>\n",
       "      <td>66.000000</td>\n",
       "      <td>64.000000</td>\n",
       "      <td>25.000000</td>\n",
       "      <td>204.000000</td>\n",
       "      <td>153.250000</td>\n",
       "      <td>119.000000</td>\n",
       "      <td>105.000000</td>\n",
       "    </tr>\n",
       "    <tr>\n",
       "      <th>50%</th>\n",
       "      <td>1622.000000</td>\n",
       "      <td>31.000000</td>\n",
       "      <td>251.500000</td>\n",
       "      <td>97.500000</td>\n",
       "      <td>102.000000</td>\n",
       "      <td>86.000000</td>\n",
       "      <td>100.000000</td>\n",
       "      <td>298.000000</td>\n",
       "      <td>49.0</td>\n",
       "      <td>68.000000</td>\n",
       "      <td>86.500000</td>\n",
       "      <td>64.000000</td>\n",
       "      <td>208.000000</td>\n",
       "      <td>155.500000</td>\n",
       "      <td>151.000000</td>\n",
       "      <td>160.000000</td>\n",
       "    </tr>\n",
       "    <tr>\n",
       "      <th>75%</th>\n",
       "      <td>2431.000000</td>\n",
       "      <td>46.000000</td>\n",
       "      <td>257.750000</td>\n",
       "      <td>152.000000</td>\n",
       "      <td>133.000000</td>\n",
       "      <td>132.000000</td>\n",
       "      <td>157.000000</td>\n",
       "      <td>406.000000</td>\n",
       "      <td>49.0</td>\n",
       "      <td>70.500000</td>\n",
       "      <td>102.000000</td>\n",
       "      <td>106.000000</td>\n",
       "      <td>316.000000</td>\n",
       "      <td>203.500000</td>\n",
       "      <td>205.750000</td>\n",
       "      <td>205.000000</td>\n",
       "    </tr>\n",
       "    <tr>\n",
       "      <th>max</th>\n",
       "      <td>3241.000000</td>\n",
       "      <td>185.000000</td>\n",
       "      <td>325.000000</td>\n",
       "      <td>454.000000</td>\n",
       "      <td>281.000000</td>\n",
       "      <td>603.000000</td>\n",
       "      <td>503.000000</td>\n",
       "      <td>772.000000</td>\n",
       "      <td>49.0</td>\n",
       "      <td>147.000000</td>\n",
       "      <td>159.000000</td>\n",
       "      <td>313.000000</td>\n",
       "      <td>1849.000000</td>\n",
       "      <td>305.000000</td>\n",
       "      <td>636.000000</td>\n",
       "      <td>405.000000</td>\n",
       "    </tr>\n",
       "  </tbody>\n",
       "</table>\n",
       "</div>"
      ],
      "text/plain": [
       "               key      Bulk 1      Bulk 2       Bulk 3       Bulk 4  \\\n",
       "count  3129.000000  252.000000   22.000000  1298.000000  1014.000000   \n",
       "mean   1624.383509   39.242063  253.045455   113.879045   104.394477   \n",
       "std     933.337642   18.277654   21.180578    75.483494    48.184126   \n",
       "min       1.000000   10.000000  228.000000     6.000000    12.000000   \n",
       "25%     816.000000   27.000000  242.000000    58.000000    72.000000   \n",
       "50%    1622.000000   31.000000  251.500000    97.500000   102.000000   \n",
       "75%    2431.000000   46.000000  257.750000   152.000000   133.000000   \n",
       "max    3241.000000  185.000000  325.000000   454.000000   281.000000   \n",
       "\n",
       "           Bulk 5      Bulk 6      Bulk 7  Bulk 8      Bulk 9     Bulk 10  \\\n",
       "count   77.000000  576.000000   25.000000     1.0   19.000000  176.000000   \n",
       "mean   107.025974  118.925347  305.600000    49.0   76.315789   83.284091   \n",
       "std     81.790646   72.057776  191.022904     NaN   21.720581   26.060347   \n",
       "min     11.000000   17.000000   47.000000    49.0   63.000000   24.000000   \n",
       "25%     70.000000   69.750000  155.000000    49.0   66.000000   64.000000   \n",
       "50%     86.000000  100.000000  298.000000    49.0   68.000000   86.500000   \n",
       "75%    132.000000  157.000000  406.000000    49.0   70.500000  102.000000   \n",
       "max    603.000000  503.000000  772.000000    49.0  147.000000  159.000000   \n",
       "\n",
       "          Bulk 11      Bulk 12     Bulk 13      Bulk 14      Bulk 15  \n",
       "count  177.000000  2450.000000   18.000000  2806.000000  2248.000000  \n",
       "mean    76.819209   260.471020  181.111111   170.284747   160.513345  \n",
       "std     59.655365   120.649269   46.088009    65.868652    51.765319  \n",
       "min      8.000000    53.000000  151.000000    16.000000     1.000000  \n",
       "25%     25.000000   204.000000  153.250000   119.000000   105.000000  \n",
       "50%     64.000000   208.000000  155.500000   151.000000   160.000000  \n",
       "75%    106.000000   316.000000  203.500000   205.750000   205.000000  \n",
       "max    313.000000  1849.000000  305.000000   636.000000   405.000000  "
      ]
     },
     "execution_count": 70,
     "metadata": {},
     "output_type": "execute_result"
    }
   ],
   "source": [
    "bulk.describe()"
   ]
  },
  {
   "cell_type": "markdown",
   "metadata": {},
   "source": [
    "Кол-во партий - 3129 (что меньше на 85 в сравнении с записями по электродам). \n",
    "<br> Очень много пропусков в данных, это может быть связано с технологическим процессом (добавляется разное кол-во легирующих материалов). Пропуски можно будет заполнить нулями."
   ]
  },
  {
   "cell_type": "markdown",
   "metadata": {},
   "source": [
    "#### Данные о подаче сыпучих материалов (время)"
   ]
  },
  {
   "cell_type": "code",
   "execution_count": 71,
   "metadata": {},
   "outputs": [
    {
     "name": "stdout",
     "output_type": "stream",
     "text": [
      "<class 'pandas.core.frame.DataFrame'>\n",
      "RangeIndex: 3129 entries, 0 to 3128\n",
      "Data columns (total 16 columns):\n",
      " #   Column   Non-Null Count  Dtype \n",
      "---  ------   --------------  ----- \n",
      " 0   key      3129 non-null   int64 \n",
      " 1   Bulk 1   252 non-null    object\n",
      " 2   Bulk 2   22 non-null     object\n",
      " 3   Bulk 3   1298 non-null   object\n",
      " 4   Bulk 4   1014 non-null   object\n",
      " 5   Bulk 5   77 non-null     object\n",
      " 6   Bulk 6   576 non-null    object\n",
      " 7   Bulk 7   25 non-null     object\n",
      " 8   Bulk 8   1 non-null      object\n",
      " 9   Bulk 9   19 non-null     object\n",
      " 10  Bulk 10  176 non-null    object\n",
      " 11  Bulk 11  177 non-null    object\n",
      " 12  Bulk 12  2450 non-null   object\n",
      " 13  Bulk 13  18 non-null     object\n",
      " 14  Bulk 14  2806 non-null   object\n",
      " 15  Bulk 15  2248 non-null   object\n",
      "dtypes: int64(1), object(15)\n",
      "memory usage: 391.2+ KB\n"
     ]
    }
   ],
   "source": [
    "bulk_time.info()"
   ]
  },
  {
   "cell_type": "code",
   "execution_count": 72,
   "metadata": {},
   "outputs": [
    {
     "data": {
      "text/plain": [
       "key          0.0\n",
       "Bulk 14     10.3\n",
       "Bulk 12     21.7\n",
       "Bulk 15     28.2\n",
       "Bulk 3      58.5\n",
       "Bulk 4      67.6\n",
       "Bulk 6      81.6\n",
       "Bulk 1      91.9\n",
       "Bulk 11     94.3\n",
       "Bulk 10     94.4\n",
       "Bulk 5      97.5\n",
       "Bulk 7      99.2\n",
       "Bulk 2      99.3\n",
       "Bulk 9      99.4\n",
       "Bulk 13     99.4\n",
       "Bulk 8     100.0\n",
       "dtype: float64"
      ]
     },
     "execution_count": 72,
     "metadata": {},
     "output_type": "execute_result"
    }
   ],
   "source": [
    "# посчитаем пропуски в процентах от всех записей\n",
    "bulk_time.isna().mean().sort_values().round(3)*100"
   ]
  },
  {
   "cell_type": "code",
   "execution_count": 73,
   "metadata": {},
   "outputs": [
    {
     "data": {
      "text/html": [
       "<div>\n",
       "<style scoped>\n",
       "    .dataframe tbody tr th:only-of-type {\n",
       "        vertical-align: middle;\n",
       "    }\n",
       "\n",
       "    .dataframe tbody tr th {\n",
       "        vertical-align: top;\n",
       "    }\n",
       "\n",
       "    .dataframe thead th {\n",
       "        text-align: right;\n",
       "    }\n",
       "</style>\n",
       "<table border=\"1\" class=\"dataframe\">\n",
       "  <thead>\n",
       "    <tr style=\"text-align: right;\">\n",
       "      <th></th>\n",
       "      <th>key</th>\n",
       "      <th>Bulk 1</th>\n",
       "      <th>Bulk 2</th>\n",
       "      <th>Bulk 3</th>\n",
       "      <th>Bulk 4</th>\n",
       "      <th>Bulk 5</th>\n",
       "      <th>Bulk 6</th>\n",
       "      <th>Bulk 7</th>\n",
       "      <th>Bulk 8</th>\n",
       "      <th>Bulk 9</th>\n",
       "      <th>Bulk 10</th>\n",
       "      <th>Bulk 11</th>\n",
       "      <th>Bulk 12</th>\n",
       "      <th>Bulk 13</th>\n",
       "      <th>Bulk 14</th>\n",
       "      <th>Bulk 15</th>\n",
       "    </tr>\n",
       "  </thead>\n",
       "  <tbody>\n",
       "    <tr>\n",
       "      <th>0</th>\n",
       "      <td>1</td>\n",
       "      <td>NaN</td>\n",
       "      <td>NaN</td>\n",
       "      <td>NaN</td>\n",
       "      <td>2019-05-03 11:21:30</td>\n",
       "      <td>NaN</td>\n",
       "      <td>NaN</td>\n",
       "      <td>NaN</td>\n",
       "      <td>NaN</td>\n",
       "      <td>NaN</td>\n",
       "      <td>NaN</td>\n",
       "      <td>NaN</td>\n",
       "      <td>2019-05-03 11:03:52</td>\n",
       "      <td>NaN</td>\n",
       "      <td>2019-05-03 11:03:52</td>\n",
       "      <td>2019-05-03 11:03:52</td>\n",
       "    </tr>\n",
       "    <tr>\n",
       "      <th>1</th>\n",
       "      <td>2</td>\n",
       "      <td>NaN</td>\n",
       "      <td>NaN</td>\n",
       "      <td>NaN</td>\n",
       "      <td>2019-05-03 11:46:38</td>\n",
       "      <td>NaN</td>\n",
       "      <td>NaN</td>\n",
       "      <td>NaN</td>\n",
       "      <td>NaN</td>\n",
       "      <td>NaN</td>\n",
       "      <td>NaN</td>\n",
       "      <td>NaN</td>\n",
       "      <td>2019-05-03 11:40:20</td>\n",
       "      <td>NaN</td>\n",
       "      <td>2019-05-03 11:40:20</td>\n",
       "      <td>2019-05-03 11:40:20</td>\n",
       "    </tr>\n",
       "    <tr>\n",
       "      <th>2</th>\n",
       "      <td>3</td>\n",
       "      <td>NaN</td>\n",
       "      <td>NaN</td>\n",
       "      <td>NaN</td>\n",
       "      <td>2019-05-03 12:31:06</td>\n",
       "      <td>NaN</td>\n",
       "      <td>NaN</td>\n",
       "      <td>NaN</td>\n",
       "      <td>NaN</td>\n",
       "      <td>NaN</td>\n",
       "      <td>NaN</td>\n",
       "      <td>NaN</td>\n",
       "      <td>2019-05-03 12:09:40</td>\n",
       "      <td>NaN</td>\n",
       "      <td>2019-05-03 12:09:40</td>\n",
       "      <td>2019-05-03 12:09:40</td>\n",
       "    </tr>\n",
       "    <tr>\n",
       "      <th>3</th>\n",
       "      <td>4</td>\n",
       "      <td>NaN</td>\n",
       "      <td>NaN</td>\n",
       "      <td>NaN</td>\n",
       "      <td>2019-05-03 12:48:43</td>\n",
       "      <td>NaN</td>\n",
       "      <td>NaN</td>\n",
       "      <td>NaN</td>\n",
       "      <td>NaN</td>\n",
       "      <td>NaN</td>\n",
       "      <td>NaN</td>\n",
       "      <td>NaN</td>\n",
       "      <td>2019-05-03 12:41:24</td>\n",
       "      <td>NaN</td>\n",
       "      <td>2019-05-03 12:41:24</td>\n",
       "      <td>2019-05-03 12:41:24</td>\n",
       "    </tr>\n",
       "    <tr>\n",
       "      <th>4</th>\n",
       "      <td>5</td>\n",
       "      <td>NaN</td>\n",
       "      <td>NaN</td>\n",
       "      <td>NaN</td>\n",
       "      <td>2019-05-03 13:18:50</td>\n",
       "      <td>NaN</td>\n",
       "      <td>NaN</td>\n",
       "      <td>NaN</td>\n",
       "      <td>NaN</td>\n",
       "      <td>NaN</td>\n",
       "      <td>NaN</td>\n",
       "      <td>NaN</td>\n",
       "      <td>2019-05-03 13:12:56</td>\n",
       "      <td>NaN</td>\n",
       "      <td>2019-05-03 13:12:56</td>\n",
       "      <td>2019-05-03 13:12:56</td>\n",
       "    </tr>\n",
       "  </tbody>\n",
       "</table>\n",
       "</div>"
      ],
      "text/plain": [
       "   key Bulk 1 Bulk 2 Bulk 3               Bulk 4 Bulk 5 Bulk 6 Bulk 7 Bulk 8  \\\n",
       "0    1    NaN    NaN    NaN  2019-05-03 11:21:30    NaN    NaN    NaN    NaN   \n",
       "1    2    NaN    NaN    NaN  2019-05-03 11:46:38    NaN    NaN    NaN    NaN   \n",
       "2    3    NaN    NaN    NaN  2019-05-03 12:31:06    NaN    NaN    NaN    NaN   \n",
       "3    4    NaN    NaN    NaN  2019-05-03 12:48:43    NaN    NaN    NaN    NaN   \n",
       "4    5    NaN    NaN    NaN  2019-05-03 13:18:50    NaN    NaN    NaN    NaN   \n",
       "\n",
       "  Bulk 9 Bulk 10 Bulk 11              Bulk 12 Bulk 13              Bulk 14  \\\n",
       "0    NaN     NaN     NaN  2019-05-03 11:03:52     NaN  2019-05-03 11:03:52   \n",
       "1    NaN     NaN     NaN  2019-05-03 11:40:20     NaN  2019-05-03 11:40:20   \n",
       "2    NaN     NaN     NaN  2019-05-03 12:09:40     NaN  2019-05-03 12:09:40   \n",
       "3    NaN     NaN     NaN  2019-05-03 12:41:24     NaN  2019-05-03 12:41:24   \n",
       "4    NaN     NaN     NaN  2019-05-03 13:12:56     NaN  2019-05-03 13:12:56   \n",
       "\n",
       "               Bulk 15  \n",
       "0  2019-05-03 11:03:52  \n",
       "1  2019-05-03 11:40:20  \n",
       "2  2019-05-03 12:09:40  \n",
       "3  2019-05-03 12:41:24  \n",
       "4  2019-05-03 13:12:56  "
      ]
     },
     "execution_count": 73,
     "metadata": {},
     "output_type": "execute_result"
    }
   ],
   "source": [
    "bulk_time.head()"
   ]
  },
  {
   "cell_type": "code",
   "execution_count": 74,
   "metadata": {},
   "outputs": [
    {
     "data": {
      "text/html": [
       "<div>\n",
       "<style scoped>\n",
       "    .dataframe tbody tr th:only-of-type {\n",
       "        vertical-align: middle;\n",
       "    }\n",
       "\n",
       "    .dataframe tbody tr th {\n",
       "        vertical-align: top;\n",
       "    }\n",
       "\n",
       "    .dataframe thead th {\n",
       "        text-align: right;\n",
       "    }\n",
       "</style>\n",
       "<table border=\"1\" class=\"dataframe\">\n",
       "  <thead>\n",
       "    <tr style=\"text-align: right;\">\n",
       "      <th></th>\n",
       "      <th>key</th>\n",
       "    </tr>\n",
       "  </thead>\n",
       "  <tbody>\n",
       "    <tr>\n",
       "      <th>count</th>\n",
       "      <td>3129.000000</td>\n",
       "    </tr>\n",
       "    <tr>\n",
       "      <th>mean</th>\n",
       "      <td>1624.383509</td>\n",
       "    </tr>\n",
       "    <tr>\n",
       "      <th>std</th>\n",
       "      <td>933.337642</td>\n",
       "    </tr>\n",
       "    <tr>\n",
       "      <th>min</th>\n",
       "      <td>1.000000</td>\n",
       "    </tr>\n",
       "    <tr>\n",
       "      <th>25%</th>\n",
       "      <td>816.000000</td>\n",
       "    </tr>\n",
       "    <tr>\n",
       "      <th>50%</th>\n",
       "      <td>1622.000000</td>\n",
       "    </tr>\n",
       "    <tr>\n",
       "      <th>75%</th>\n",
       "      <td>2431.000000</td>\n",
       "    </tr>\n",
       "    <tr>\n",
       "      <th>max</th>\n",
       "      <td>3241.000000</td>\n",
       "    </tr>\n",
       "  </tbody>\n",
       "</table>\n",
       "</div>"
      ],
      "text/plain": [
       "               key\n",
       "count  3129.000000\n",
       "mean   1624.383509\n",
       "std     933.337642\n",
       "min       1.000000\n",
       "25%     816.000000\n",
       "50%    1622.000000\n",
       "75%    2431.000000\n",
       "max    3241.000000"
      ]
     },
     "execution_count": 74,
     "metadata": {},
     "output_type": "execute_result"
    }
   ],
   "source": [
    "bulk_time.describe()"
   ]
  },
  {
   "cell_type": "markdown",
   "metadata": {},
   "source": [
    "Пропуски по времени аналогичны с данными по объему сыпучих материалов.\n",
    "<br> Тип данных нужно будет скорректировать на `datetime`"
   ]
  },
  {
   "cell_type": "markdown",
   "metadata": {},
   "source": [
    "#### Данные о продувке сплава газом"
   ]
  },
  {
   "cell_type": "code",
   "execution_count": 75,
   "metadata": {},
   "outputs": [
    {
     "name": "stdout",
     "output_type": "stream",
     "text": [
      "<class 'pandas.core.frame.DataFrame'>\n",
      "RangeIndex: 3239 entries, 0 to 3238\n",
      "Data columns (total 2 columns):\n",
      " #   Column  Non-Null Count  Dtype  \n",
      "---  ------  --------------  -----  \n",
      " 0   key     3239 non-null   int64  \n",
      " 1   Газ 1   3239 non-null   float64\n",
      "dtypes: float64(1), int64(1)\n",
      "memory usage: 50.7 KB\n"
     ]
    }
   ],
   "source": [
    "gas.info()"
   ]
  },
  {
   "cell_type": "code",
   "execution_count": 76,
   "metadata": {},
   "outputs": [
    {
     "data": {
      "text/html": [
       "<div>\n",
       "<style scoped>\n",
       "    .dataframe tbody tr th:only-of-type {\n",
       "        vertical-align: middle;\n",
       "    }\n",
       "\n",
       "    .dataframe tbody tr th {\n",
       "        vertical-align: top;\n",
       "    }\n",
       "\n",
       "    .dataframe thead th {\n",
       "        text-align: right;\n",
       "    }\n",
       "</style>\n",
       "<table border=\"1\" class=\"dataframe\">\n",
       "  <thead>\n",
       "    <tr style=\"text-align: right;\">\n",
       "      <th></th>\n",
       "      <th>key</th>\n",
       "      <th>Газ 1</th>\n",
       "    </tr>\n",
       "  </thead>\n",
       "  <tbody>\n",
       "    <tr>\n",
       "      <th>0</th>\n",
       "      <td>1</td>\n",
       "      <td>29.749986</td>\n",
       "    </tr>\n",
       "    <tr>\n",
       "      <th>1</th>\n",
       "      <td>2</td>\n",
       "      <td>12.555561</td>\n",
       "    </tr>\n",
       "    <tr>\n",
       "      <th>2</th>\n",
       "      <td>3</td>\n",
       "      <td>28.554793</td>\n",
       "    </tr>\n",
       "    <tr>\n",
       "      <th>3</th>\n",
       "      <td>4</td>\n",
       "      <td>18.841219</td>\n",
       "    </tr>\n",
       "    <tr>\n",
       "      <th>4</th>\n",
       "      <td>5</td>\n",
       "      <td>5.413692</td>\n",
       "    </tr>\n",
       "  </tbody>\n",
       "</table>\n",
       "</div>"
      ],
      "text/plain": [
       "   key      Газ 1\n",
       "0    1  29.749986\n",
       "1    2  12.555561\n",
       "2    3  28.554793\n",
       "3    4  18.841219\n",
       "4    5   5.413692"
      ]
     },
     "execution_count": 76,
     "metadata": {},
     "output_type": "execute_result"
    }
   ],
   "source": [
    "gas.head()"
   ]
  },
  {
   "cell_type": "code",
   "execution_count": 77,
   "metadata": {},
   "outputs": [
    {
     "data": {
      "text/html": [
       "<div>\n",
       "<style scoped>\n",
       "    .dataframe tbody tr th:only-of-type {\n",
       "        vertical-align: middle;\n",
       "    }\n",
       "\n",
       "    .dataframe tbody tr th {\n",
       "        vertical-align: top;\n",
       "    }\n",
       "\n",
       "    .dataframe thead th {\n",
       "        text-align: right;\n",
       "    }\n",
       "</style>\n",
       "<table border=\"1\" class=\"dataframe\">\n",
       "  <thead>\n",
       "    <tr style=\"text-align: right;\">\n",
       "      <th></th>\n",
       "      <th>key</th>\n",
       "      <th>Газ 1</th>\n",
       "    </tr>\n",
       "  </thead>\n",
       "  <tbody>\n",
       "    <tr>\n",
       "      <th>count</th>\n",
       "      <td>3239.000000</td>\n",
       "      <td>3239.000000</td>\n",
       "    </tr>\n",
       "    <tr>\n",
       "      <th>mean</th>\n",
       "      <td>1621.861377</td>\n",
       "      <td>11.002062</td>\n",
       "    </tr>\n",
       "    <tr>\n",
       "      <th>std</th>\n",
       "      <td>935.386334</td>\n",
       "      <td>6.220327</td>\n",
       "    </tr>\n",
       "    <tr>\n",
       "      <th>min</th>\n",
       "      <td>1.000000</td>\n",
       "      <td>0.008399</td>\n",
       "    </tr>\n",
       "    <tr>\n",
       "      <th>25%</th>\n",
       "      <td>812.500000</td>\n",
       "      <td>7.043089</td>\n",
       "    </tr>\n",
       "    <tr>\n",
       "      <th>50%</th>\n",
       "      <td>1622.000000</td>\n",
       "      <td>9.836267</td>\n",
       "    </tr>\n",
       "    <tr>\n",
       "      <th>75%</th>\n",
       "      <td>2431.500000</td>\n",
       "      <td>13.769915</td>\n",
       "    </tr>\n",
       "    <tr>\n",
       "      <th>max</th>\n",
       "      <td>3241.000000</td>\n",
       "      <td>77.995040</td>\n",
       "    </tr>\n",
       "  </tbody>\n",
       "</table>\n",
       "</div>"
      ],
      "text/plain": [
       "               key        Газ 1\n",
       "count  3239.000000  3239.000000\n",
       "mean   1621.861377    11.002062\n",
       "std     935.386334     6.220327\n",
       "min       1.000000     0.008399\n",
       "25%     812.500000     7.043089\n",
       "50%    1622.000000     9.836267\n",
       "75%    2431.500000    13.769915\n",
       "max    3241.000000    77.995040"
      ]
     },
     "execution_count": 77,
     "metadata": {},
     "output_type": "execute_result"
    }
   ],
   "source": [
    "gas.describe()"
   ]
  },
  {
   "cell_type": "code",
   "execution_count": 78,
   "metadata": {},
   "outputs": [
    {
     "data": {
      "text/plain": [
       "count    3239.0\n",
       "mean        1.0\n",
       "std         0.0\n",
       "min         1.0\n",
       "25%         1.0\n",
       "50%         1.0\n",
       "75%         1.0\n",
       "max         1.0\n",
       "Name: key, dtype: float64"
      ]
     },
     "execution_count": 78,
     "metadata": {},
     "output_type": "execute_result"
    }
   ],
   "source": [
    "gas['key'].value_counts().describe()"
   ]
  },
  {
   "cell_type": "markdown",
   "metadata": {},
   "source": [
    "Пропуски и отклонения отсутствуют. \n",
    "<br> Нет данных по 2м партиям.\n",
    "<br> Газом продувается каждая партия."
   ]
  },
  {
   "cell_type": "markdown",
   "metadata": {},
   "source": [
    "#### Результаты измерения температуры"
   ]
  },
  {
   "cell_type": "code",
   "execution_count": 79,
   "metadata": {},
   "outputs": [
    {
     "name": "stdout",
     "output_type": "stream",
     "text": [
      "<class 'pandas.core.frame.DataFrame'>\n",
      "RangeIndex: 15907 entries, 0 to 15906\n",
      "Data columns (total 3 columns):\n",
      " #   Column        Non-Null Count  Dtype  \n",
      "---  ------        --------------  -----  \n",
      " 0   key           15907 non-null  int64  \n",
      " 1   Время замера  15907 non-null  object \n",
      " 2   Температура   13006 non-null  float64\n",
      "dtypes: float64(1), int64(1), object(1)\n",
      "memory usage: 372.9+ KB\n"
     ]
    }
   ],
   "source": [
    "temp.info()"
   ]
  },
  {
   "cell_type": "code",
   "execution_count": 80,
   "metadata": {},
   "outputs": [
    {
     "data": {
      "text/plain": [
       "key              0.0\n",
       "Время замера     0.0\n",
       "Температура     18.2\n",
       "dtype: float64"
      ]
     },
     "execution_count": 80,
     "metadata": {},
     "output_type": "execute_result"
    }
   ],
   "source": [
    "temp.isna().mean().sort_values().round(3)*100"
   ]
  },
  {
   "cell_type": "code",
   "execution_count": 81,
   "metadata": {},
   "outputs": [
    {
     "data": {
      "text/html": [
       "<div>\n",
       "<style scoped>\n",
       "    .dataframe tbody tr th:only-of-type {\n",
       "        vertical-align: middle;\n",
       "    }\n",
       "\n",
       "    .dataframe tbody tr th {\n",
       "        vertical-align: top;\n",
       "    }\n",
       "\n",
       "    .dataframe thead th {\n",
       "        text-align: right;\n",
       "    }\n",
       "</style>\n",
       "<table border=\"1\" class=\"dataframe\">\n",
       "  <thead>\n",
       "    <tr style=\"text-align: right;\">\n",
       "      <th></th>\n",
       "      <th>key</th>\n",
       "      <th>Время замера</th>\n",
       "      <th>Температура</th>\n",
       "    </tr>\n",
       "  </thead>\n",
       "  <tbody>\n",
       "    <tr>\n",
       "      <th>0</th>\n",
       "      <td>1</td>\n",
       "      <td>2019-05-03 11:16:18</td>\n",
       "      <td>1571.0</td>\n",
       "    </tr>\n",
       "    <tr>\n",
       "      <th>1</th>\n",
       "      <td>1</td>\n",
       "      <td>2019-05-03 11:25:53</td>\n",
       "      <td>1604.0</td>\n",
       "    </tr>\n",
       "    <tr>\n",
       "      <th>2</th>\n",
       "      <td>1</td>\n",
       "      <td>2019-05-03 11:29:11</td>\n",
       "      <td>1618.0</td>\n",
       "    </tr>\n",
       "    <tr>\n",
       "      <th>3</th>\n",
       "      <td>1</td>\n",
       "      <td>2019-05-03 11:30:01</td>\n",
       "      <td>1601.0</td>\n",
       "    </tr>\n",
       "    <tr>\n",
       "      <th>4</th>\n",
       "      <td>1</td>\n",
       "      <td>2019-05-03 11:30:39</td>\n",
       "      <td>1613.0</td>\n",
       "    </tr>\n",
       "    <tr>\n",
       "      <th>5</th>\n",
       "      <td>2</td>\n",
       "      <td>2019-05-03 11:37:27</td>\n",
       "      <td>1581.0</td>\n",
       "    </tr>\n",
       "    <tr>\n",
       "      <th>6</th>\n",
       "      <td>2</td>\n",
       "      <td>2019-05-03 11:38:00</td>\n",
       "      <td>1577.0</td>\n",
       "    </tr>\n",
       "    <tr>\n",
       "      <th>7</th>\n",
       "      <td>2</td>\n",
       "      <td>2019-05-03 11:49:38</td>\n",
       "      <td>1589.0</td>\n",
       "    </tr>\n",
       "    <tr>\n",
       "      <th>8</th>\n",
       "      <td>2</td>\n",
       "      <td>2019-05-03 11:55:50</td>\n",
       "      <td>1604.0</td>\n",
       "    </tr>\n",
       "    <tr>\n",
       "      <th>9</th>\n",
       "      <td>2</td>\n",
       "      <td>2019-05-03 11:58:24</td>\n",
       "      <td>1608.0</td>\n",
       "    </tr>\n",
       "    <tr>\n",
       "      <th>10</th>\n",
       "      <td>2</td>\n",
       "      <td>2019-05-03 11:59:12</td>\n",
       "      <td>1602.0</td>\n",
       "    </tr>\n",
       "    <tr>\n",
       "      <th>11</th>\n",
       "      <td>3</td>\n",
       "      <td>2019-05-03 12:13:17</td>\n",
       "      <td>1596.0</td>\n",
       "    </tr>\n",
       "    <tr>\n",
       "      <th>12</th>\n",
       "      <td>3</td>\n",
       "      <td>2019-05-03 12:18:36</td>\n",
       "      <td>1597.0</td>\n",
       "    </tr>\n",
       "    <tr>\n",
       "      <th>13</th>\n",
       "      <td>3</td>\n",
       "      <td>2019-05-03 12:25:06</td>\n",
       "      <td>1598.0</td>\n",
       "    </tr>\n",
       "    <tr>\n",
       "      <th>14</th>\n",
       "      <td>3</td>\n",
       "      <td>2019-05-03 12:30:48</td>\n",
       "      <td>1599.0</td>\n",
       "    </tr>\n",
       "  </tbody>\n",
       "</table>\n",
       "</div>"
      ],
      "text/plain": [
       "    key         Время замера  Температура\n",
       "0     1  2019-05-03 11:16:18       1571.0\n",
       "1     1  2019-05-03 11:25:53       1604.0\n",
       "2     1  2019-05-03 11:29:11       1618.0\n",
       "3     1  2019-05-03 11:30:01       1601.0\n",
       "4     1  2019-05-03 11:30:39       1613.0\n",
       "5     2  2019-05-03 11:37:27       1581.0\n",
       "6     2  2019-05-03 11:38:00       1577.0\n",
       "7     2  2019-05-03 11:49:38       1589.0\n",
       "8     2  2019-05-03 11:55:50       1604.0\n",
       "9     2  2019-05-03 11:58:24       1608.0\n",
       "10    2  2019-05-03 11:59:12       1602.0\n",
       "11    3  2019-05-03 12:13:17       1596.0\n",
       "12    3  2019-05-03 12:18:36       1597.0\n",
       "13    3  2019-05-03 12:25:06       1598.0\n",
       "14    3  2019-05-03 12:30:48       1599.0"
      ]
     },
     "execution_count": 81,
     "metadata": {},
     "output_type": "execute_result"
    }
   ],
   "source": [
    "temp.head(15)"
   ]
  },
  {
   "cell_type": "code",
   "execution_count": 82,
   "metadata": {},
   "outputs": [
    {
     "data": {
      "text/html": [
       "<div>\n",
       "<style scoped>\n",
       "    .dataframe tbody tr th:only-of-type {\n",
       "        vertical-align: middle;\n",
       "    }\n",
       "\n",
       "    .dataframe tbody tr th {\n",
       "        vertical-align: top;\n",
       "    }\n",
       "\n",
       "    .dataframe thead th {\n",
       "        text-align: right;\n",
       "    }\n",
       "</style>\n",
       "<table border=\"1\" class=\"dataframe\">\n",
       "  <thead>\n",
       "    <tr style=\"text-align: right;\">\n",
       "      <th></th>\n",
       "      <th>key</th>\n",
       "      <th>Температура</th>\n",
       "    </tr>\n",
       "  </thead>\n",
       "  <tbody>\n",
       "    <tr>\n",
       "      <th>count</th>\n",
       "      <td>15907.000000</td>\n",
       "      <td>13006.000000</td>\n",
       "    </tr>\n",
       "    <tr>\n",
       "      <th>mean</th>\n",
       "      <td>1607.880870</td>\n",
       "      <td>1591.840920</td>\n",
       "    </tr>\n",
       "    <tr>\n",
       "      <th>std</th>\n",
       "      <td>942.212073</td>\n",
       "      <td>21.375851</td>\n",
       "    </tr>\n",
       "    <tr>\n",
       "      <th>min</th>\n",
       "      <td>1.000000</td>\n",
       "      <td>1191.000000</td>\n",
       "    </tr>\n",
       "    <tr>\n",
       "      <th>25%</th>\n",
       "      <td>790.000000</td>\n",
       "      <td>1581.000000</td>\n",
       "    </tr>\n",
       "    <tr>\n",
       "      <th>50%</th>\n",
       "      <td>1618.000000</td>\n",
       "      <td>1591.000000</td>\n",
       "    </tr>\n",
       "    <tr>\n",
       "      <th>75%</th>\n",
       "      <td>2427.000000</td>\n",
       "      <td>1601.000000</td>\n",
       "    </tr>\n",
       "    <tr>\n",
       "      <th>max</th>\n",
       "      <td>3241.000000</td>\n",
       "      <td>1705.000000</td>\n",
       "    </tr>\n",
       "  </tbody>\n",
       "</table>\n",
       "</div>"
      ],
      "text/plain": [
       "                key   Температура\n",
       "count  15907.000000  13006.000000\n",
       "mean    1607.880870   1591.840920\n",
       "std      942.212073     21.375851\n",
       "min        1.000000   1191.000000\n",
       "25%      790.000000   1581.000000\n",
       "50%     1618.000000   1591.000000\n",
       "75%     2427.000000   1601.000000\n",
       "max     3241.000000   1705.000000"
      ]
     },
     "execution_count": 82,
     "metadata": {},
     "output_type": "execute_result"
    }
   ],
   "source": [
    "temp.describe()"
   ]
  },
  {
   "cell_type": "code",
   "execution_count": 83,
   "metadata": {},
   "outputs": [
    {
     "data": {
      "image/png": "[encoded data removed]",
      "text/plain": [
       "<Figure size 432x288 with 1 Axes>"
      ]
     },
     "metadata": {
      "needs_background": "light"
     },
     "output_type": "display_data"
    }
   ],
   "source": [
    "plt.hist((list(temp['key'].value_counts())), bins=30)\n",
    "plt.show()"
   ]
  },
  {
   "cell_type": "code",
   "execution_count": 84,
   "metadata": {},
   "outputs": [
    {
     "data": {
      "text/plain": [
       "count    3216.000000\n",
       "mean        4.946206\n",
       "std         1.793169\n",
       "min         1.000000\n",
       "25%         4.000000\n",
       "50%         5.000000\n",
       "75%         6.000000\n",
       "max        16.000000\n",
       "Name: key, dtype: float64"
      ]
     },
     "execution_count": 84,
     "metadata": {},
     "output_type": "execute_result"
    }
   ],
   "source": [
    "temp['key'].value_counts().describe()"
   ]
  },
  {
   "cell_type": "code",
   "execution_count": 85,
   "metadata": {},
   "outputs": [
    {
     "data": {
      "image/png": "[encoded data removed]",
      "text/plain": [
       "<Figure size 432x288 with 1 Axes>"
      ]
     },
     "metadata": {
      "needs_background": "light"
     },
     "output_type": "display_data"
    }
   ],
   "source": [
    "plt.hist((list(temp['Температура'])), bins=50)\n",
    "plt.show()"
   ]
  },
  {
   "cell_type": "markdown",
   "metadata": {},
   "source": [
    "Есть пропуски - 18% по температуре, придется их отбросить, т.к. температура является целевым признаком\n",
    "<br>Замеряемая температура находится в диапазоне от 1500 до 1705\n",
    "<br>Для модели нам важны только начальная и конечная температуры, промежуточные замеры можно будет удалить."
   ]
  },
  {
   "cell_type": "markdown",
   "metadata": {},
   "source": [
    "#### Данные о проволочных материалах (объём)"
   ]
  },
  {
   "cell_type": "code",
   "execution_count": 86,
   "metadata": {},
   "outputs": [
    {
     "name": "stdout",
     "output_type": "stream",
     "text": [
      "<class 'pandas.core.frame.DataFrame'>\n",
      "RangeIndex: 3081 entries, 0 to 3080\n",
      "Data columns (total 10 columns):\n",
      " #   Column  Non-Null Count  Dtype  \n",
      "---  ------  --------------  -----  \n",
      " 0   key     3081 non-null   int64  \n",
      " 1   Wire 1  3055 non-null   float64\n",
      " 2   Wire 2  1079 non-null   float64\n",
      " 3   Wire 3  63 non-null     float64\n",
      " 4   Wire 4  14 non-null     float64\n",
      " 5   Wire 5  1 non-null      float64\n",
      " 6   Wire 6  73 non-null     float64\n",
      " 7   Wire 7  11 non-null     float64\n",
      " 8   Wire 8  19 non-null     float64\n",
      " 9   Wire 9  29 non-null     float64\n",
      "dtypes: float64(9), int64(1)\n",
      "memory usage: 240.8 KB\n"
     ]
    }
   ],
   "source": [
    "wire.info()"
   ]
  },
  {
   "cell_type": "code",
   "execution_count": 87,
   "metadata": {},
   "outputs": [
    {
     "data": {
      "text/plain": [
       "key         0.0\n",
       "Wire 1      0.8\n",
       "Wire 2     65.0\n",
       "Wire 6     97.6\n",
       "Wire 3     98.0\n",
       "Wire 9     99.1\n",
       "Wire 8     99.4\n",
       "Wire 4     99.5\n",
       "Wire 7     99.6\n",
       "Wire 5    100.0\n",
       "dtype: float64"
      ]
     },
     "execution_count": 87,
     "metadata": {},
     "output_type": "execute_result"
    }
   ],
   "source": [
    "wire.isna().mean().sort_values().round(3)*100"
   ]
  },
  {
   "cell_type": "code",
   "execution_count": 88,
   "metadata": {},
   "outputs": [
    {
     "data": {
      "text/html": [
       "<div>\n",
       "<style scoped>\n",
       "    .dataframe tbody tr th:only-of-type {\n",
       "        vertical-align: middle;\n",
       "    }\n",
       "\n",
       "    .dataframe tbody tr th {\n",
       "        vertical-align: top;\n",
       "    }\n",
       "\n",
       "    .dataframe thead th {\n",
       "        text-align: right;\n",
       "    }\n",
       "</style>\n",
       "<table border=\"1\" class=\"dataframe\">\n",
       "  <thead>\n",
       "    <tr style=\"text-align: right;\">\n",
       "      <th></th>\n",
       "      <th>key</th>\n",
       "      <th>Wire 1</th>\n",
       "      <th>Wire 2</th>\n",
       "      <th>Wire 3</th>\n",
       "      <th>Wire 4</th>\n",
       "      <th>Wire 5</th>\n",
       "      <th>Wire 6</th>\n",
       "      <th>Wire 7</th>\n",
       "      <th>Wire 8</th>\n",
       "      <th>Wire 9</th>\n",
       "    </tr>\n",
       "  </thead>\n",
       "  <tbody>\n",
       "    <tr>\n",
       "      <th>0</th>\n",
       "      <td>1</td>\n",
       "      <td>60.059998</td>\n",
       "      <td>NaN</td>\n",
       "      <td>NaN</td>\n",
       "      <td>NaN</td>\n",
       "      <td>NaN</td>\n",
       "      <td>NaN</td>\n",
       "      <td>NaN</td>\n",
       "      <td>NaN</td>\n",
       "      <td>NaN</td>\n",
       "    </tr>\n",
       "    <tr>\n",
       "      <th>1</th>\n",
       "      <td>2</td>\n",
       "      <td>96.052315</td>\n",
       "      <td>NaN</td>\n",
       "      <td>NaN</td>\n",
       "      <td>NaN</td>\n",
       "      <td>NaN</td>\n",
       "      <td>NaN</td>\n",
       "      <td>NaN</td>\n",
       "      <td>NaN</td>\n",
       "      <td>NaN</td>\n",
       "    </tr>\n",
       "    <tr>\n",
       "      <th>2</th>\n",
       "      <td>3</td>\n",
       "      <td>91.160157</td>\n",
       "      <td>NaN</td>\n",
       "      <td>NaN</td>\n",
       "      <td>NaN</td>\n",
       "      <td>NaN</td>\n",
       "      <td>NaN</td>\n",
       "      <td>NaN</td>\n",
       "      <td>NaN</td>\n",
       "      <td>NaN</td>\n",
       "    </tr>\n",
       "    <tr>\n",
       "      <th>3</th>\n",
       "      <td>4</td>\n",
       "      <td>89.063515</td>\n",
       "      <td>NaN</td>\n",
       "      <td>NaN</td>\n",
       "      <td>NaN</td>\n",
       "      <td>NaN</td>\n",
       "      <td>NaN</td>\n",
       "      <td>NaN</td>\n",
       "      <td>NaN</td>\n",
       "      <td>NaN</td>\n",
       "    </tr>\n",
       "    <tr>\n",
       "      <th>4</th>\n",
       "      <td>5</td>\n",
       "      <td>89.238236</td>\n",
       "      <td>9.11456</td>\n",
       "      <td>NaN</td>\n",
       "      <td>NaN</td>\n",
       "      <td>NaN</td>\n",
       "      <td>NaN</td>\n",
       "      <td>NaN</td>\n",
       "      <td>NaN</td>\n",
       "      <td>NaN</td>\n",
       "    </tr>\n",
       "  </tbody>\n",
       "</table>\n",
       "</div>"
      ],
      "text/plain": [
       "   key     Wire 1   Wire 2  Wire 3  Wire 4  Wire 5  Wire 6  Wire 7  Wire 8  \\\n",
       "0    1  60.059998      NaN     NaN     NaN     NaN     NaN     NaN     NaN   \n",
       "1    2  96.052315      NaN     NaN     NaN     NaN     NaN     NaN     NaN   \n",
       "2    3  91.160157      NaN     NaN     NaN     NaN     NaN     NaN     NaN   \n",
       "3    4  89.063515      NaN     NaN     NaN     NaN     NaN     NaN     NaN   \n",
       "4    5  89.238236  9.11456     NaN     NaN     NaN     NaN     NaN     NaN   \n",
       "\n",
       "   Wire 9  \n",
       "0     NaN  \n",
       "1     NaN  \n",
       "2     NaN  \n",
       "3     NaN  \n",
       "4     NaN  "
      ]
     },
     "execution_count": 88,
     "metadata": {},
     "output_type": "execute_result"
    }
   ],
   "source": [
    "wire.head()"
   ]
  },
  {
   "cell_type": "code",
   "execution_count": 89,
   "metadata": {},
   "outputs": [
    {
     "data": {
      "text/html": [
       "<div>\n",
       "<style scoped>\n",
       "    .dataframe tbody tr th:only-of-type {\n",
       "        vertical-align: middle;\n",
       "    }\n",
       "\n",
       "    .dataframe tbody tr th {\n",
       "        vertical-align: top;\n",
       "    }\n",
       "\n",
       "    .dataframe thead th {\n",
       "        text-align: right;\n",
       "    }\n",
       "</style>\n",
       "<table border=\"1\" class=\"dataframe\">\n",
       "  <thead>\n",
       "    <tr style=\"text-align: right;\">\n",
       "      <th></th>\n",
       "      <th>key</th>\n",
       "      <th>Wire 1</th>\n",
       "      <th>Wire 2</th>\n",
       "      <th>Wire 3</th>\n",
       "      <th>Wire 4</th>\n",
       "      <th>Wire 5</th>\n",
       "      <th>Wire 6</th>\n",
       "      <th>Wire 7</th>\n",
       "      <th>Wire 8</th>\n",
       "      <th>Wire 9</th>\n",
       "    </tr>\n",
       "  </thead>\n",
       "  <tbody>\n",
       "    <tr>\n",
       "      <th>count</th>\n",
       "      <td>3081.000000</td>\n",
       "      <td>3055.000000</td>\n",
       "      <td>1079.000000</td>\n",
       "      <td>63.000000</td>\n",
       "      <td>14.000000</td>\n",
       "      <td>1.000</td>\n",
       "      <td>73.000000</td>\n",
       "      <td>11.000000</td>\n",
       "      <td>19.000000</td>\n",
       "      <td>29.000000</td>\n",
       "    </tr>\n",
       "    <tr>\n",
       "      <th>mean</th>\n",
       "      <td>1623.426485</td>\n",
       "      <td>100.895853</td>\n",
       "      <td>50.577323</td>\n",
       "      <td>189.482681</td>\n",
       "      <td>57.442841</td>\n",
       "      <td>15.132</td>\n",
       "      <td>48.016974</td>\n",
       "      <td>10.039007</td>\n",
       "      <td>53.625193</td>\n",
       "      <td>34.155752</td>\n",
       "    </tr>\n",
       "    <tr>\n",
       "      <th>std</th>\n",
       "      <td>932.996726</td>\n",
       "      <td>42.012518</td>\n",
       "      <td>39.320216</td>\n",
       "      <td>99.513444</td>\n",
       "      <td>28.824667</td>\n",
       "      <td>NaN</td>\n",
       "      <td>33.919845</td>\n",
       "      <td>8.610584</td>\n",
       "      <td>16.881728</td>\n",
       "      <td>19.931616</td>\n",
       "    </tr>\n",
       "    <tr>\n",
       "      <th>min</th>\n",
       "      <td>1.000000</td>\n",
       "      <td>1.918800</td>\n",
       "      <td>0.030160</td>\n",
       "      <td>0.144144</td>\n",
       "      <td>24.148801</td>\n",
       "      <td>15.132</td>\n",
       "      <td>0.034320</td>\n",
       "      <td>0.234208</td>\n",
       "      <td>45.076721</td>\n",
       "      <td>4.622800</td>\n",
       "    </tr>\n",
       "    <tr>\n",
       "      <th>25%</th>\n",
       "      <td>823.000000</td>\n",
       "      <td>72.115684</td>\n",
       "      <td>20.193680</td>\n",
       "      <td>95.135044</td>\n",
       "      <td>40.807002</td>\n",
       "      <td>15.132</td>\n",
       "      <td>25.053600</td>\n",
       "      <td>6.762756</td>\n",
       "      <td>46.094879</td>\n",
       "      <td>22.058401</td>\n",
       "    </tr>\n",
       "    <tr>\n",
       "      <th>50%</th>\n",
       "      <td>1619.000000</td>\n",
       "      <td>100.158234</td>\n",
       "      <td>40.142956</td>\n",
       "      <td>235.194977</td>\n",
       "      <td>45.234282</td>\n",
       "      <td>15.132</td>\n",
       "      <td>42.076324</td>\n",
       "      <td>9.017009</td>\n",
       "      <td>46.279999</td>\n",
       "      <td>30.066399</td>\n",
       "    </tr>\n",
       "    <tr>\n",
       "      <th>75%</th>\n",
       "      <td>2434.000000</td>\n",
       "      <td>126.060483</td>\n",
       "      <td>70.227558</td>\n",
       "      <td>276.252014</td>\n",
       "      <td>76.124619</td>\n",
       "      <td>15.132</td>\n",
       "      <td>64.212723</td>\n",
       "      <td>11.886057</td>\n",
       "      <td>48.089603</td>\n",
       "      <td>43.862003</td>\n",
       "    </tr>\n",
       "    <tr>\n",
       "      <th>max</th>\n",
       "      <td>3241.000000</td>\n",
       "      <td>330.314424</td>\n",
       "      <td>282.780152</td>\n",
       "      <td>385.008668</td>\n",
       "      <td>113.231044</td>\n",
       "      <td>15.132</td>\n",
       "      <td>180.454575</td>\n",
       "      <td>32.847674</td>\n",
       "      <td>102.762401</td>\n",
       "      <td>90.053604</td>\n",
       "    </tr>\n",
       "  </tbody>\n",
       "</table>\n",
       "</div>"
      ],
      "text/plain": [
       "               key       Wire 1       Wire 2      Wire 3      Wire 4  Wire 5  \\\n",
       "count  3081.000000  3055.000000  1079.000000   63.000000   14.000000   1.000   \n",
       "mean   1623.426485   100.895853    50.577323  189.482681   57.442841  15.132   \n",
       "std     932.996726    42.012518    39.320216   99.513444   28.824667     NaN   \n",
       "min       1.000000     1.918800     0.030160    0.144144   24.148801  15.132   \n",
       "25%     823.000000    72.115684    20.193680   95.135044   40.807002  15.132   \n",
       "50%    1619.000000   100.158234    40.142956  235.194977   45.234282  15.132   \n",
       "75%    2434.000000   126.060483    70.227558  276.252014   76.124619  15.132   \n",
       "max    3241.000000   330.314424   282.780152  385.008668  113.231044  15.132   \n",
       "\n",
       "           Wire 6     Wire 7      Wire 8     Wire 9  \n",
       "count   73.000000  11.000000   19.000000  29.000000  \n",
       "mean    48.016974  10.039007   53.625193  34.155752  \n",
       "std     33.919845   8.610584   16.881728  19.931616  \n",
       "min      0.034320   0.234208   45.076721   4.622800  \n",
       "25%     25.053600   6.762756   46.094879  22.058401  \n",
       "50%     42.076324   9.017009   46.279999  30.066399  \n",
       "75%     64.212723  11.886057   48.089603  43.862003  \n",
       "max    180.454575  32.847674  102.762401  90.053604  "
      ]
     },
     "execution_count": 89,
     "metadata": {},
     "output_type": "execute_result"
    }
   ],
   "source": [
    "wire.describe()"
   ]
  },
  {
   "cell_type": "markdown",
   "metadata": {},
   "source": [
    "Большое кол-во пропусков, что также может быть связано с тех.процессом."
   ]
  },
  {
   "cell_type": "markdown",
   "metadata": {},
   "source": [
    "#### Данные о проволочных материалах (время)"
   ]
  },
  {
   "cell_type": "code",
   "execution_count": 90,
   "metadata": {},
   "outputs": [
    {
     "name": "stdout",
     "output_type": "stream",
     "text": [
      "<class 'pandas.core.frame.DataFrame'>\n",
      "RangeIndex: 3081 entries, 0 to 3080\n",
      "Data columns (total 10 columns):\n",
      " #   Column  Non-Null Count  Dtype \n",
      "---  ------  --------------  ----- \n",
      " 0   key     3081 non-null   int64 \n",
      " 1   Wire 1  3055 non-null   object\n",
      " 2   Wire 2  1079 non-null   object\n",
      " 3   Wire 3  63 non-null     object\n",
      " 4   Wire 4  14 non-null     object\n",
      " 5   Wire 5  1 non-null      object\n",
      " 6   Wire 6  73 non-null     object\n",
      " 7   Wire 7  11 non-null     object\n",
      " 8   Wire 8  19 non-null     object\n",
      " 9   Wire 9  29 non-null     object\n",
      "dtypes: int64(1), object(9)\n",
      "memory usage: 240.8+ KB\n"
     ]
    }
   ],
   "source": [
    "wire_time.info()"
   ]
  },
  {
   "cell_type": "code",
   "execution_count": 91,
   "metadata": {},
   "outputs": [
    {
     "data": {
      "text/plain": [
       "key         0.0\n",
       "Wire 1      0.8\n",
       "Wire 2     65.0\n",
       "Wire 6     97.6\n",
       "Wire 3     98.0\n",
       "Wire 9     99.1\n",
       "Wire 8     99.4\n",
       "Wire 4     99.5\n",
       "Wire 7     99.6\n",
       "Wire 5    100.0\n",
       "dtype: float64"
      ]
     },
     "execution_count": 91,
     "metadata": {},
     "output_type": "execute_result"
    }
   ],
   "source": [
    "wire_time.isna().mean().sort_values().round(3)*100"
   ]
  },
  {
   "cell_type": "code",
   "execution_count": 92,
   "metadata": {},
   "outputs": [
    {
     "data": {
      "text/html": [
       "<div>\n",
       "<style scoped>\n",
       "    .dataframe tbody tr th:only-of-type {\n",
       "        vertical-align: middle;\n",
       "    }\n",
       "\n",
       "    .dataframe tbody tr th {\n",
       "        vertical-align: top;\n",
       "    }\n",
       "\n",
       "    .dataframe thead th {\n",
       "        text-align: right;\n",
       "    }\n",
       "</style>\n",
       "<table border=\"1\" class=\"dataframe\">\n",
       "  <thead>\n",
       "    <tr style=\"text-align: right;\">\n",
       "      <th></th>\n",
       "      <th>key</th>\n",
       "      <th>Wire 1</th>\n",
       "      <th>Wire 2</th>\n",
       "      <th>Wire 3</th>\n",
       "      <th>Wire 4</th>\n",
       "      <th>Wire 5</th>\n",
       "      <th>Wire 6</th>\n",
       "      <th>Wire 7</th>\n",
       "      <th>Wire 8</th>\n",
       "      <th>Wire 9</th>\n",
       "    </tr>\n",
       "  </thead>\n",
       "  <tbody>\n",
       "    <tr>\n",
       "      <th>0</th>\n",
       "      <td>1</td>\n",
       "      <td>2019-05-03 11:11:41</td>\n",
       "      <td>NaN</td>\n",
       "      <td>NaN</td>\n",
       "      <td>NaN</td>\n",
       "      <td>NaN</td>\n",
       "      <td>NaN</td>\n",
       "      <td>NaN</td>\n",
       "      <td>NaN</td>\n",
       "      <td>NaN</td>\n",
       "    </tr>\n",
       "    <tr>\n",
       "      <th>1</th>\n",
       "      <td>2</td>\n",
       "      <td>2019-05-03 11:46:10</td>\n",
       "      <td>NaN</td>\n",
       "      <td>NaN</td>\n",
       "      <td>NaN</td>\n",
       "      <td>NaN</td>\n",
       "      <td>NaN</td>\n",
       "      <td>NaN</td>\n",
       "      <td>NaN</td>\n",
       "      <td>NaN</td>\n",
       "    </tr>\n",
       "    <tr>\n",
       "      <th>2</th>\n",
       "      <td>3</td>\n",
       "      <td>2019-05-03 12:13:47</td>\n",
       "      <td>NaN</td>\n",
       "      <td>NaN</td>\n",
       "      <td>NaN</td>\n",
       "      <td>NaN</td>\n",
       "      <td>NaN</td>\n",
       "      <td>NaN</td>\n",
       "      <td>NaN</td>\n",
       "      <td>NaN</td>\n",
       "    </tr>\n",
       "    <tr>\n",
       "      <th>3</th>\n",
       "      <td>4</td>\n",
       "      <td>2019-05-03 12:48:05</td>\n",
       "      <td>NaN</td>\n",
       "      <td>NaN</td>\n",
       "      <td>NaN</td>\n",
       "      <td>NaN</td>\n",
       "      <td>NaN</td>\n",
       "      <td>NaN</td>\n",
       "      <td>NaN</td>\n",
       "      <td>NaN</td>\n",
       "    </tr>\n",
       "    <tr>\n",
       "      <th>4</th>\n",
       "      <td>5</td>\n",
       "      <td>2019-05-03 13:18:15</td>\n",
       "      <td>2019-05-03 13:32:06</td>\n",
       "      <td>NaN</td>\n",
       "      <td>NaN</td>\n",
       "      <td>NaN</td>\n",
       "      <td>NaN</td>\n",
       "      <td>NaN</td>\n",
       "      <td>NaN</td>\n",
       "      <td>NaN</td>\n",
       "    </tr>\n",
       "  </tbody>\n",
       "</table>\n",
       "</div>"
      ],
      "text/plain": [
       "   key               Wire 1               Wire 2 Wire 3 Wire 4 Wire 5 Wire 6  \\\n",
       "0    1  2019-05-03 11:11:41                  NaN    NaN    NaN    NaN    NaN   \n",
       "1    2  2019-05-03 11:46:10                  NaN    NaN    NaN    NaN    NaN   \n",
       "2    3  2019-05-03 12:13:47                  NaN    NaN    NaN    NaN    NaN   \n",
       "3    4  2019-05-03 12:48:05                  NaN    NaN    NaN    NaN    NaN   \n",
       "4    5  2019-05-03 13:18:15  2019-05-03 13:32:06    NaN    NaN    NaN    NaN   \n",
       "\n",
       "  Wire 7 Wire 8 Wire 9  \n",
       "0    NaN    NaN    NaN  \n",
       "1    NaN    NaN    NaN  \n",
       "2    NaN    NaN    NaN  \n",
       "3    NaN    NaN    NaN  \n",
       "4    NaN    NaN    NaN  "
      ]
     },
     "execution_count": 92,
     "metadata": {},
     "output_type": "execute_result"
    }
   ],
   "source": [
    "wire_time.head()"
   ]
  },
  {
   "cell_type": "code",
   "execution_count": 93,
   "metadata": {},
   "outputs": [
    {
     "data": {
      "text/html": [
       "<div>\n",
       "<style scoped>\n",
       "    .dataframe tbody tr th:only-of-type {\n",
       "        vertical-align: middle;\n",
       "    }\n",
       "\n",
       "    .dataframe tbody tr th {\n",
       "        vertical-align: top;\n",
       "    }\n",
       "\n",
       "    .dataframe thead th {\n",
       "        text-align: right;\n",
       "    }\n",
       "</style>\n",
       "<table border=\"1\" class=\"dataframe\">\n",
       "  <thead>\n",
       "    <tr style=\"text-align: right;\">\n",
       "      <th></th>\n",
       "      <th>key</th>\n",
       "    </tr>\n",
       "  </thead>\n",
       "  <tbody>\n",
       "    <tr>\n",
       "      <th>count</th>\n",
       "      <td>3081.000000</td>\n",
       "    </tr>\n",
       "    <tr>\n",
       "      <th>mean</th>\n",
       "      <td>1623.426485</td>\n",
       "    </tr>\n",
       "    <tr>\n",
       "      <th>std</th>\n",
       "      <td>932.996726</td>\n",
       "    </tr>\n",
       "    <tr>\n",
       "      <th>min</th>\n",
       "      <td>1.000000</td>\n",
       "    </tr>\n",
       "    <tr>\n",
       "      <th>25%</th>\n",
       "      <td>823.000000</td>\n",
       "    </tr>\n",
       "    <tr>\n",
       "      <th>50%</th>\n",
       "      <td>1619.000000</td>\n",
       "    </tr>\n",
       "    <tr>\n",
       "      <th>75%</th>\n",
       "      <td>2434.000000</td>\n",
       "    </tr>\n",
       "    <tr>\n",
       "      <th>max</th>\n",
       "      <td>3241.000000</td>\n",
       "    </tr>\n",
       "  </tbody>\n",
       "</table>\n",
       "</div>"
      ],
      "text/plain": [
       "               key\n",
       "count  3081.000000\n",
       "mean   1623.426485\n",
       "std     932.996726\n",
       "min       1.000000\n",
       "25%     823.000000\n",
       "50%    1619.000000\n",
       "75%    2434.000000\n",
       "max    3241.000000"
      ]
     },
     "execution_count": 93,
     "metadata": {},
     "output_type": "execute_result"
    }
   ],
   "source": [
    "wire_time.describe()"
   ]
  },
  {
   "cell_type": "markdown",
   "metadata": {},
   "source": [
    "Аналогичные пропуск, как и по объему.\n",
    "<br>Тип данных нужно будет скорректировать на `datetime`"
   ]
  },
  {
   "cell_type": "markdown",
   "metadata": {},
   "source": [
    "#### Выводы"
   ]
  },
  {
   "cell_type": "markdown",
   "metadata": {},
   "source": [
    "1. Данные содержат пропуски, которые можно заполнить нулями (по сыпучим и проволочным материалам)\n",
    "2. Пропуски с целевым признаком (температурой) стоит удалить, не имея возможности заполнить их корректно\n",
    "3. Тип временных данных нужно изменить на тип `datetime`\n",
    "4. Все данные (очищенные и подготовленные) стоит объеденить в один датасет по ключевому столбцу `key` с номером партии"
   ]
  },
  {
   "cell_type": "markdown",
   "metadata": {},
   "source": [
    "## Предобработка данных"
   ]
  },
  {
   "cell_type": "markdown",
   "metadata": {},
   "source": [
    "### Дополнительные расчеты"
   ]
  },
  {
   "cell_type": "markdown",
   "metadata": {},
   "source": [
    "#### Температура"
   ]
  },
  {
   "cell_type": "code",
   "execution_count": 94,
   "metadata": {},
   "outputs": [],
   "source": [
    "# изменим тип данных\n",
    "temp['Время замера'] = pd.to_datetime(temp['Время замера'])"
   ]
  },
  {
   "cell_type": "code",
   "execution_count": 95,
   "metadata": {},
   "outputs": [],
   "source": [
    "# выделим начальную и конечную температуры и вытащим данные в новую таблицу\n",
    "first_temp = pd.merge(temp.groupby('key')['Время замера'].agg('min'), temp, how=\"left\", on=\"Время замера\")\n",
    "last_temp = pd.merge(temp.groupby('key')['Время замера'].agg('max'), temp, how=\"left\", on=\"Время замера\")\n",
    "data = pd.merge(first_temp[['key','Температура']], last_temp[['key','Температура']], how=\"outer\", on=\"key\")\n",
    "data = data.rename(columns={'Температура_x': 'first_temp', 'Температура_y': 'last_temp'})"
   ]
  },
  {
   "cell_type": "code",
   "execution_count": 96,
   "metadata": {
    "scrolled": true
   },
   "outputs": [
    {
     "data": {
      "text/html": [
       "<div>\n",
       "<style scoped>\n",
       "    .dataframe tbody tr th:only-of-type {\n",
       "        vertical-align: middle;\n",
       "    }\n",
       "\n",
       "    .dataframe tbody tr th {\n",
       "        vertical-align: top;\n",
       "    }\n",
       "\n",
       "    .dataframe thead th {\n",
       "        text-align: right;\n",
       "    }\n",
       "</style>\n",
       "<table border=\"1\" class=\"dataframe\">\n",
       "  <thead>\n",
       "    <tr style=\"text-align: right;\">\n",
       "      <th></th>\n",
       "      <th>key</th>\n",
       "      <th>first_temp</th>\n",
       "      <th>last_temp</th>\n",
       "      <th>cycle_time</th>\n",
       "    </tr>\n",
       "  </thead>\n",
       "  <tbody>\n",
       "    <tr>\n",
       "      <th>0</th>\n",
       "      <td>1</td>\n",
       "      <td>1571.0</td>\n",
       "      <td>1613.0</td>\n",
       "      <td>861.0</td>\n",
       "    </tr>\n",
       "    <tr>\n",
       "      <th>1</th>\n",
       "      <td>2</td>\n",
       "      <td>1581.0</td>\n",
       "      <td>1602.0</td>\n",
       "      <td>1305.0</td>\n",
       "    </tr>\n",
       "    <tr>\n",
       "      <th>2</th>\n",
       "      <td>3</td>\n",
       "      <td>1596.0</td>\n",
       "      <td>1599.0</td>\n",
       "      <td>1300.0</td>\n",
       "    </tr>\n",
       "    <tr>\n",
       "      <th>3</th>\n",
       "      <td>4</td>\n",
       "      <td>1601.0</td>\n",
       "      <td>1625.0</td>\n",
       "      <td>388.0</td>\n",
       "    </tr>\n",
       "    <tr>\n",
       "      <th>4</th>\n",
       "      <td>5</td>\n",
       "      <td>1576.0</td>\n",
       "      <td>1602.0</td>\n",
       "      <td>762.0</td>\n",
       "    </tr>\n",
       "  </tbody>\n",
       "</table>\n",
       "</div>"
      ],
      "text/plain": [
       "   key  first_temp  last_temp  cycle_time\n",
       "0    1      1571.0     1613.0       861.0\n",
       "1    2      1581.0     1602.0      1305.0\n",
       "2    3      1596.0     1599.0      1300.0\n",
       "3    4      1601.0     1625.0       388.0\n",
       "4    5      1576.0     1602.0       762.0"
      ]
     },
     "execution_count": 96,
     "metadata": {},
     "output_type": "execute_result"
    }
   ],
   "source": [
    "# расчитаем длительность времени между первым и последним замером температуры\n",
    "data = pd.merge(data, temp[['key','Время замера']].groupby('key')['Время замера']\n",
    "                .agg(lambda x: x.max()-x.min()).dt.total_seconds(), how='left', on='key')\n",
    "data = data.rename(columns={'Время замера': 'cycle_time'})\n",
    "data.head()\n"
   ]
  },
  {
   "cell_type": "code",
   "execution_count": 97,
   "metadata": {
    "scrolled": false
   },
   "outputs": [
    {
     "name": "stdout",
     "output_type": "stream",
     "text": [
      "<class 'pandas.core.frame.DataFrame'>\n",
      "Int64Index: 3216 entries, 0 to 3215\n",
      "Data columns (total 4 columns):\n",
      " #   Column      Non-Null Count  Dtype  \n",
      "---  ------      --------------  -----  \n",
      " 0   key         3216 non-null   int64  \n",
      " 1   first_temp  3216 non-null   float64\n",
      " 2   last_temp   2477 non-null   float64\n",
      " 3   cycle_time  3216 non-null   float64\n",
      "dtypes: float64(3), int64(1)\n",
      "memory usage: 125.6 KB\n"
     ]
    }
   ],
   "source": [
    "data.info()"
   ]
  },
  {
   "cell_type": "code",
   "execution_count": 98,
   "metadata": {},
   "outputs": [
    {
     "data": {
      "text/html": [
       "<div>\n",
       "<style scoped>\n",
       "    .dataframe tbody tr th:only-of-type {\n",
       "        vertical-align: middle;\n",
       "    }\n",
       "\n",
       "    .dataframe tbody tr th {\n",
       "        vertical-align: top;\n",
       "    }\n",
       "\n",
       "    .dataframe thead th {\n",
       "        text-align: right;\n",
       "    }\n",
       "</style>\n",
       "<table border=\"1\" class=\"dataframe\">\n",
       "  <thead>\n",
       "    <tr style=\"text-align: right;\">\n",
       "      <th></th>\n",
       "      <th>key</th>\n",
       "      <th>first_temp</th>\n",
       "      <th>last_temp</th>\n",
       "      <th>cycle_time</th>\n",
       "    </tr>\n",
       "  </thead>\n",
       "  <tbody>\n",
       "    <tr>\n",
       "      <th>count</th>\n",
       "      <td>3216.000000</td>\n",
       "      <td>3216.000000</td>\n",
       "      <td>2477.000000</td>\n",
       "      <td>3216.000000</td>\n",
       "    </tr>\n",
       "    <tr>\n",
       "      <th>mean</th>\n",
       "      <td>1622.199316</td>\n",
       "      <td>1588.592040</td>\n",
       "      <td>1595.334275</td>\n",
       "      <td>1839.861629</td>\n",
       "    </tr>\n",
       "    <tr>\n",
       "      <th>std</th>\n",
       "      <td>935.088523</td>\n",
       "      <td>29.137454</td>\n",
       "      <td>16.019339</td>\n",
       "      <td>1246.950298</td>\n",
       "    </tr>\n",
       "    <tr>\n",
       "      <th>min</th>\n",
       "      <td>1.000000</td>\n",
       "      <td>1191.000000</td>\n",
       "      <td>1541.000000</td>\n",
       "      <td>0.000000</td>\n",
       "    </tr>\n",
       "    <tr>\n",
       "      <th>25%</th>\n",
       "      <td>815.750000</td>\n",
       "      <td>1572.000000</td>\n",
       "      <td>1587.000000</td>\n",
       "      <td>1177.000000</td>\n",
       "    </tr>\n",
       "    <tr>\n",
       "      <th>50%</th>\n",
       "      <td>1622.500000</td>\n",
       "      <td>1588.000000</td>\n",
       "      <td>1593.000000</td>\n",
       "      <td>1581.000000</td>\n",
       "    </tr>\n",
       "    <tr>\n",
       "      <th>75%</th>\n",
       "      <td>2431.250000</td>\n",
       "      <td>1606.000000</td>\n",
       "      <td>1599.000000</td>\n",
       "      <td>2235.000000</td>\n",
       "    </tr>\n",
       "    <tr>\n",
       "      <th>max</th>\n",
       "      <td>3241.000000</td>\n",
       "      <td>1684.000000</td>\n",
       "      <td>1700.000000</td>\n",
       "      <td>23537.000000</td>\n",
       "    </tr>\n",
       "  </tbody>\n",
       "</table>\n",
       "</div>"
      ],
      "text/plain": [
       "               key   first_temp    last_temp    cycle_time\n",
       "count  3216.000000  3216.000000  2477.000000   3216.000000\n",
       "mean   1622.199316  1588.592040  1595.334275   1839.861629\n",
       "std     935.088523    29.137454    16.019339   1246.950298\n",
       "min       1.000000  1191.000000  1541.000000      0.000000\n",
       "25%     815.750000  1572.000000  1587.000000   1177.000000\n",
       "50%    1622.500000  1588.000000  1593.000000   1581.000000\n",
       "75%    2431.250000  1606.000000  1599.000000   2235.000000\n",
       "max    3241.000000  1684.000000  1700.000000  23537.000000"
      ]
     },
     "execution_count": 98,
     "metadata": {},
     "output_type": "execute_result"
    }
   ],
   "source": [
    "data.describe()"
   ]
  },
  {
   "cell_type": "markdown",
   "metadata": {},
   "source": [
    "Таблица создана с начальной и конечной температурами и длительностью времени между замерами"
   ]
  },
  {
   "cell_type": "markdown",
   "metadata": {},
   "source": [
    "#### Время нагрева электродами и кол-во нагревов"
   ]
  },
  {
   "cell_type": "code",
   "execution_count": 99,
   "metadata": {},
   "outputs": [],
   "source": [
    "# удалим записи с отрицательной реактивной мощностью\n",
    "arc = arc[arc['Реактивная мощность'] > 0]"
   ]
  },
  {
   "cell_type": "code",
   "execution_count": 100,
   "metadata": {},
   "outputs": [],
   "source": [
    "# изменим тип данных\n",
    "arc['Начало нагрева дугой'] = pd.to_datetime(arc['Начало нагрева дугой'])\n",
    "arc['Конец нагрева дугой'] = pd.to_datetime(arc['Конец нагрева дугой'])"
   ]
  },
  {
   "cell_type": "code",
   "execution_count": 101,
   "metadata": {},
   "outputs": [
    {
     "data": {
      "text/html": [
       "<div>\n",
       "<style scoped>\n",
       "    .dataframe tbody tr th:only-of-type {\n",
       "        vertical-align: middle;\n",
       "    }\n",
       "\n",
       "    .dataframe tbody tr th {\n",
       "        vertical-align: top;\n",
       "    }\n",
       "\n",
       "    .dataframe thead th {\n",
       "        text-align: right;\n",
       "    }\n",
       "</style>\n",
       "<table border=\"1\" class=\"dataframe\">\n",
       "  <thead>\n",
       "    <tr style=\"text-align: right;\">\n",
       "      <th></th>\n",
       "      <th>Время нагрева</th>\n",
       "      <th>Кол-во нагревов</th>\n",
       "    </tr>\n",
       "    <tr>\n",
       "      <th>key</th>\n",
       "      <th></th>\n",
       "      <th></th>\n",
       "    </tr>\n",
       "  </thead>\n",
       "  <tbody>\n",
       "    <tr>\n",
       "      <th>1</th>\n",
       "      <td>1098.0</td>\n",
       "      <td>5</td>\n",
       "    </tr>\n",
       "    <tr>\n",
       "      <th>2</th>\n",
       "      <td>811.0</td>\n",
       "      <td>4</td>\n",
       "    </tr>\n",
       "    <tr>\n",
       "      <th>3</th>\n",
       "      <td>655.0</td>\n",
       "      <td>5</td>\n",
       "    </tr>\n",
       "    <tr>\n",
       "      <th>4</th>\n",
       "      <td>741.0</td>\n",
       "      <td>4</td>\n",
       "    </tr>\n",
       "    <tr>\n",
       "      <th>5</th>\n",
       "      <td>869.0</td>\n",
       "      <td>4</td>\n",
       "    </tr>\n",
       "  </tbody>\n",
       "</table>\n",
       "</div>"
      ],
      "text/plain": [
       "     Время нагрева  Кол-во нагревов\n",
       "key                                \n",
       "1           1098.0                5\n",
       "2            811.0                4\n",
       "3            655.0                5\n",
       "4            741.0                4\n",
       "5            869.0                4"
      ]
     },
     "execution_count": 101,
     "metadata": {},
     "output_type": "execute_result"
    }
   ],
   "source": [
    "# расчитаем время нагрева и количество нагревов\n",
    "arc['Время нагрева'] = (arc['Конец нагрева дугой'] - arc['Начало нагрева дугой']).dt.total_seconds()\n",
    "arc_1 = arc[['key','Время нагрева']].groupby('key', as_index=False).agg(['sum','count'])\n",
    "arc_1.columns = ['Время нагрева', 'Кол-во нагревов']\n",
    "arc_1.head()"
   ]
  },
  {
   "cell_type": "code",
   "execution_count": 102,
   "metadata": {},
   "outputs": [
    {
     "data": {
      "text/html": [
       "<div>\n",
       "<style scoped>\n",
       "    .dataframe tbody tr th:only-of-type {\n",
       "        vertical-align: middle;\n",
       "    }\n",
       "\n",
       "    .dataframe tbody tr th {\n",
       "        vertical-align: top;\n",
       "    }\n",
       "\n",
       "    .dataframe thead th {\n",
       "        text-align: right;\n",
       "    }\n",
       "</style>\n",
       "<table border=\"1\" class=\"dataframe\">\n",
       "  <thead>\n",
       "    <tr style=\"text-align: right;\">\n",
       "      <th></th>\n",
       "      <th>key</th>\n",
       "      <th>first_temp</th>\n",
       "      <th>last_temp</th>\n",
       "      <th>cycle_time</th>\n",
       "      <th>Время нагрева</th>\n",
       "      <th>Кол-во нагревов</th>\n",
       "    </tr>\n",
       "  </thead>\n",
       "  <tbody>\n",
       "    <tr>\n",
       "      <th>0</th>\n",
       "      <td>1</td>\n",
       "      <td>1571.0</td>\n",
       "      <td>1613.0</td>\n",
       "      <td>861.0</td>\n",
       "      <td>1098.0</td>\n",
       "      <td>5.0</td>\n",
       "    </tr>\n",
       "    <tr>\n",
       "      <th>1</th>\n",
       "      <td>2</td>\n",
       "      <td>1581.0</td>\n",
       "      <td>1602.0</td>\n",
       "      <td>1305.0</td>\n",
       "      <td>811.0</td>\n",
       "      <td>4.0</td>\n",
       "    </tr>\n",
       "    <tr>\n",
       "      <th>2</th>\n",
       "      <td>3</td>\n",
       "      <td>1596.0</td>\n",
       "      <td>1599.0</td>\n",
       "      <td>1300.0</td>\n",
       "      <td>655.0</td>\n",
       "      <td>5.0</td>\n",
       "    </tr>\n",
       "    <tr>\n",
       "      <th>3</th>\n",
       "      <td>4</td>\n",
       "      <td>1601.0</td>\n",
       "      <td>1625.0</td>\n",
       "      <td>388.0</td>\n",
       "      <td>741.0</td>\n",
       "      <td>4.0</td>\n",
       "    </tr>\n",
       "    <tr>\n",
       "      <th>4</th>\n",
       "      <td>5</td>\n",
       "      <td>1576.0</td>\n",
       "      <td>1602.0</td>\n",
       "      <td>762.0</td>\n",
       "      <td>869.0</td>\n",
       "      <td>4.0</td>\n",
       "    </tr>\n",
       "  </tbody>\n",
       "</table>\n",
       "</div>"
      ],
      "text/plain": [
       "   key  first_temp  last_temp  cycle_time  Время нагрева  Кол-во нагревов\n",
       "0    1      1571.0     1613.0       861.0         1098.0              5.0\n",
       "1    2      1581.0     1602.0      1305.0          811.0              4.0\n",
       "2    3      1596.0     1599.0      1300.0          655.0              5.0\n",
       "3    4      1601.0     1625.0       388.0          741.0              4.0\n",
       "4    5      1576.0     1602.0       762.0          869.0              4.0"
      ]
     },
     "execution_count": 102,
     "metadata": {},
     "output_type": "execute_result"
    }
   ],
   "source": [
    "# добавим данные в нашу новую таблицу\n",
    "data = pd.merge(data, arc_1, how='left', on='key')\n",
    "data.head()"
   ]
  },
  {
   "cell_type": "markdown",
   "metadata": {},
   "source": [
    "#### Среднее соотношение потребления активной и реактивной мощности"
   ]
  },
  {
   "cell_type": "code",
   "execution_count": 103,
   "metadata": {},
   "outputs": [],
   "source": [
    "# расчитаем отношение активной мощности к реактивной\n",
    "arc['Соотношение мощностей'] = arc['Реактивная мощность'] / arc['Активная мощность']"
   ]
  },
  {
   "cell_type": "code",
   "execution_count": 104,
   "metadata": {
    "scrolled": true
   },
   "outputs": [
    {
     "data": {
      "text/html": [
       "<div>\n",
       "<style scoped>\n",
       "    .dataframe tbody tr th:only-of-type {\n",
       "        vertical-align: middle;\n",
       "    }\n",
       "\n",
       "    .dataframe tbody tr th {\n",
       "        vertical-align: top;\n",
       "    }\n",
       "\n",
       "    .dataframe thead th {\n",
       "        text-align: right;\n",
       "    }\n",
       "</style>\n",
       "<table border=\"1\" class=\"dataframe\">\n",
       "  <thead>\n",
       "    <tr style=\"text-align: right;\">\n",
       "      <th></th>\n",
       "      <th>key</th>\n",
       "      <th>Начало нагрева дугой</th>\n",
       "      <th>Конец нагрева дугой</th>\n",
       "      <th>Активная мощность</th>\n",
       "      <th>Реактивная мощность</th>\n",
       "      <th>Время нагрева</th>\n",
       "      <th>Соотношение мощностей</th>\n",
       "    </tr>\n",
       "  </thead>\n",
       "  <tbody>\n",
       "    <tr>\n",
       "      <th>0</th>\n",
       "      <td>1</td>\n",
       "      <td>2019-05-03 11:02:14</td>\n",
       "      <td>2019-05-03 11:06:02</td>\n",
       "      <td>0.976059</td>\n",
       "      <td>0.687084</td>\n",
       "      <td>228.0</td>\n",
       "      <td>0.703937</td>\n",
       "    </tr>\n",
       "    <tr>\n",
       "      <th>1</th>\n",
       "      <td>1</td>\n",
       "      <td>2019-05-03 11:07:28</td>\n",
       "      <td>2019-05-03 11:10:33</td>\n",
       "      <td>0.805607</td>\n",
       "      <td>0.520285</td>\n",
       "      <td>185.0</td>\n",
       "      <td>0.645830</td>\n",
       "    </tr>\n",
       "    <tr>\n",
       "      <th>2</th>\n",
       "      <td>1</td>\n",
       "      <td>2019-05-03 11:11:44</td>\n",
       "      <td>2019-05-03 11:14:36</td>\n",
       "      <td>0.744363</td>\n",
       "      <td>0.498805</td>\n",
       "      <td>172.0</td>\n",
       "      <td>0.670110</td>\n",
       "    </tr>\n",
       "    <tr>\n",
       "      <th>3</th>\n",
       "      <td>1</td>\n",
       "      <td>2019-05-03 11:18:14</td>\n",
       "      <td>2019-05-03 11:24:19</td>\n",
       "      <td>1.659363</td>\n",
       "      <td>1.062669</td>\n",
       "      <td>365.0</td>\n",
       "      <td>0.640408</td>\n",
       "    </tr>\n",
       "    <tr>\n",
       "      <th>4</th>\n",
       "      <td>1</td>\n",
       "      <td>2019-05-03 11:26:09</td>\n",
       "      <td>2019-05-03 11:28:37</td>\n",
       "      <td>0.692755</td>\n",
       "      <td>0.414397</td>\n",
       "      <td>148.0</td>\n",
       "      <td>0.598188</td>\n",
       "    </tr>\n",
       "  </tbody>\n",
       "</table>\n",
       "</div>"
      ],
      "text/plain": [
       "   key Начало нагрева дугой Конец нагрева дугой  Активная мощность  \\\n",
       "0    1  2019-05-03 11:02:14 2019-05-03 11:06:02           0.976059   \n",
       "1    1  2019-05-03 11:07:28 2019-05-03 11:10:33           0.805607   \n",
       "2    1  2019-05-03 11:11:44 2019-05-03 11:14:36           0.744363   \n",
       "3    1  2019-05-03 11:18:14 2019-05-03 11:24:19           1.659363   \n",
       "4    1  2019-05-03 11:26:09 2019-05-03 11:28:37           0.692755   \n",
       "\n",
       "   Реактивная мощность  Время нагрева  Соотношение мощностей  \n",
       "0             0.687084          228.0               0.703937  \n",
       "1             0.520285          185.0               0.645830  \n",
       "2             0.498805          172.0               0.670110  \n",
       "3             1.062669          365.0               0.640408  \n",
       "4             0.414397          148.0               0.598188  "
      ]
     },
     "execution_count": 104,
     "metadata": {},
     "output_type": "execute_result"
    }
   ],
   "source": [
    "arc.head()"
   ]
  },
  {
   "cell_type": "code",
   "execution_count": 105,
   "metadata": {},
   "outputs": [
    {
     "data": {
      "text/html": [
       "<div>\n",
       "<style scoped>\n",
       "    .dataframe tbody tr th:only-of-type {\n",
       "        vertical-align: middle;\n",
       "    }\n",
       "\n",
       "    .dataframe tbody tr th {\n",
       "        vertical-align: top;\n",
       "    }\n",
       "\n",
       "    .dataframe thead th {\n",
       "        text-align: right;\n",
       "    }\n",
       "</style>\n",
       "<table border=\"1\" class=\"dataframe\">\n",
       "  <thead>\n",
       "    <tr style=\"text-align: right;\">\n",
       "      <th></th>\n",
       "      <th>Среднее соотношение мощностей</th>\n",
       "    </tr>\n",
       "    <tr>\n",
       "      <th>key</th>\n",
       "      <th></th>\n",
       "    </tr>\n",
       "  </thead>\n",
       "  <tbody>\n",
       "    <tr>\n",
       "      <th>1</th>\n",
       "      <td>0.645830</td>\n",
       "    </tr>\n",
       "    <tr>\n",
       "      <th>2</th>\n",
       "      <td>0.635281</td>\n",
       "    </tr>\n",
       "    <tr>\n",
       "      <th>3</th>\n",
       "      <td>0.632261</td>\n",
       "    </tr>\n",
       "    <tr>\n",
       "      <th>4</th>\n",
       "      <td>0.624417</td>\n",
       "    </tr>\n",
       "    <tr>\n",
       "      <th>5</th>\n",
       "      <td>0.667329</td>\n",
       "    </tr>\n",
       "  </tbody>\n",
       "</table>\n",
       "</div>"
      ],
      "text/plain": [
       "     Среднее соотношение мощностей\n",
       "key                               \n",
       "1                         0.645830\n",
       "2                         0.635281\n",
       "3                         0.632261\n",
       "4                         0.624417\n",
       "5                         0.667329"
      ]
     },
     "execution_count": 105,
     "metadata": {},
     "output_type": "execute_result"
    }
   ],
   "source": [
    "# расчитаем среднее соотношение\n",
    "arc_2 = arc[['key','Соотношение мощностей']].groupby('key', as_index=False).agg(['median'])\n",
    "arc_2.columns = ['Среднее соотношение мощностей']\n",
    "arc_2.head()"
   ]
  },
  {
   "cell_type": "code",
   "execution_count": 106,
   "metadata": {},
   "outputs": [
    {
     "data": {
      "text/html": [
       "<div>\n",
       "<style scoped>\n",
       "    .dataframe tbody tr th:only-of-type {\n",
       "        vertical-align: middle;\n",
       "    }\n",
       "\n",
       "    .dataframe tbody tr th {\n",
       "        vertical-align: top;\n",
       "    }\n",
       "\n",
       "    .dataframe thead th {\n",
       "        text-align: right;\n",
       "    }\n",
       "</style>\n",
       "<table border=\"1\" class=\"dataframe\">\n",
       "  <thead>\n",
       "    <tr style=\"text-align: right;\">\n",
       "      <th></th>\n",
       "      <th>key</th>\n",
       "      <th>first_temp</th>\n",
       "      <th>last_temp</th>\n",
       "      <th>cycle_time</th>\n",
       "      <th>Время нагрева</th>\n",
       "      <th>Кол-во нагревов</th>\n",
       "      <th>Среднее соотношение мощностей</th>\n",
       "    </tr>\n",
       "  </thead>\n",
       "  <tbody>\n",
       "    <tr>\n",
       "      <th>0</th>\n",
       "      <td>1</td>\n",
       "      <td>1571.0</td>\n",
       "      <td>1613.0</td>\n",
       "      <td>861.0</td>\n",
       "      <td>1098.0</td>\n",
       "      <td>5.0</td>\n",
       "      <td>0.645830</td>\n",
       "    </tr>\n",
       "    <tr>\n",
       "      <th>1</th>\n",
       "      <td>2</td>\n",
       "      <td>1581.0</td>\n",
       "      <td>1602.0</td>\n",
       "      <td>1305.0</td>\n",
       "      <td>811.0</td>\n",
       "      <td>4.0</td>\n",
       "      <td>0.635281</td>\n",
       "    </tr>\n",
       "    <tr>\n",
       "      <th>2</th>\n",
       "      <td>3</td>\n",
       "      <td>1596.0</td>\n",
       "      <td>1599.0</td>\n",
       "      <td>1300.0</td>\n",
       "      <td>655.0</td>\n",
       "      <td>5.0</td>\n",
       "      <td>0.632261</td>\n",
       "    </tr>\n",
       "    <tr>\n",
       "      <th>3</th>\n",
       "      <td>4</td>\n",
       "      <td>1601.0</td>\n",
       "      <td>1625.0</td>\n",
       "      <td>388.0</td>\n",
       "      <td>741.0</td>\n",
       "      <td>4.0</td>\n",
       "      <td>0.624417</td>\n",
       "    </tr>\n",
       "    <tr>\n",
       "      <th>4</th>\n",
       "      <td>5</td>\n",
       "      <td>1576.0</td>\n",
       "      <td>1602.0</td>\n",
       "      <td>762.0</td>\n",
       "      <td>869.0</td>\n",
       "      <td>4.0</td>\n",
       "      <td>0.667329</td>\n",
       "    </tr>\n",
       "  </tbody>\n",
       "</table>\n",
       "</div>"
      ],
      "text/plain": [
       "   key  first_temp  last_temp  cycle_time  Время нагрева  Кол-во нагревов  \\\n",
       "0    1      1571.0     1613.0       861.0         1098.0              5.0   \n",
       "1    2      1581.0     1602.0      1305.0          811.0              4.0   \n",
       "2    3      1596.0     1599.0      1300.0          655.0              5.0   \n",
       "3    4      1601.0     1625.0       388.0          741.0              4.0   \n",
       "4    5      1576.0     1602.0       762.0          869.0              4.0   \n",
       "\n",
       "   Среднее соотношение мощностей  \n",
       "0                       0.645830  \n",
       "1                       0.635281  \n",
       "2                       0.632261  \n",
       "3                       0.624417  \n",
       "4                       0.667329  "
      ]
     },
     "execution_count": 106,
     "metadata": {},
     "output_type": "execute_result"
    }
   ],
   "source": [
    "# добавим значения в наш датасет\n",
    "data = pd.merge(data, arc_2, how='left', on='key')\n",
    "data.head()"
   ]
  },
  {
   "cell_type": "code",
   "execution_count": 107,
   "metadata": {
    "scrolled": true
   },
   "outputs": [
    {
     "data": {
      "text/plain": [
       "count    3214.000000\n",
       "mean        0.739504\n",
       "std         0.094250\n",
       "min         0.527969\n",
       "25%         0.684551\n",
       "50%         0.722446\n",
       "75%         0.771296\n",
       "max         1.690754\n",
       "Name: Среднее соотношение мощностей, dtype: float64"
      ]
     },
     "execution_count": 107,
     "metadata": {},
     "output_type": "execute_result"
    }
   ],
   "source": [
    "data['Среднее соотношение мощностей'].describe()"
   ]
  },
  {
   "cell_type": "markdown",
   "metadata": {},
   "source": [
    "#### Вывод"
   ]
  },
  {
   "cell_type": "markdown",
   "metadata": {},
   "source": [
    "1. выделили в данных целевой признак - конечную температура\n",
    "2. создали новые признаки, которые будут использоваться в обучении и предстказании модели"
   ]
  },
  {
   "cell_type": "markdown",
   "metadata": {},
   "source": [
    "### Объединение данных"
   ]
  },
  {
   "cell_type": "markdown",
   "metadata": {},
   "source": [
    "Объеденим данные в один датасет, после чего будет обрабатывать их. Данные со временем добавления проволоки и сыпучих материалов добавлять не будем в итоговый датасет, не нужны для расчетов модели."
   ]
  },
  {
   "cell_type": "code",
   "execution_count": 108,
   "metadata": {
    "scrolled": true
   },
   "outputs": [
    {
     "data": {
      "text/html": [
       "<div>\n",
       "<style scoped>\n",
       "    .dataframe tbody tr th:only-of-type {\n",
       "        vertical-align: middle;\n",
       "    }\n",
       "\n",
       "    .dataframe tbody tr th {\n",
       "        vertical-align: top;\n",
       "    }\n",
       "\n",
       "    .dataframe thead th {\n",
       "        text-align: right;\n",
       "    }\n",
       "</style>\n",
       "<table border=\"1\" class=\"dataframe\">\n",
       "  <thead>\n",
       "    <tr style=\"text-align: right;\">\n",
       "      <th></th>\n",
       "      <th>first_temp</th>\n",
       "      <th>last_temp</th>\n",
       "      <th>cycle_time</th>\n",
       "      <th>Время нагрева</th>\n",
       "      <th>Кол-во нагревов</th>\n",
       "      <th>Среднее соотношение мощностей</th>\n",
       "      <th>Активная мощность</th>\n",
       "      <th>Реактивная мощность</th>\n",
       "      <th>Газ 1</th>\n",
       "      <th>Wire 1</th>\n",
       "      <th>...</th>\n",
       "      <th>Bulk 6</th>\n",
       "      <th>Bulk 7</th>\n",
       "      <th>Bulk 8</th>\n",
       "      <th>Bulk 9</th>\n",
       "      <th>Bulk 10</th>\n",
       "      <th>Bulk 11</th>\n",
       "      <th>Bulk 12</th>\n",
       "      <th>Bulk 13</th>\n",
       "      <th>Bulk 14</th>\n",
       "      <th>Bulk 15</th>\n",
       "    </tr>\n",
       "    <tr>\n",
       "      <th>key</th>\n",
       "      <th></th>\n",
       "      <th></th>\n",
       "      <th></th>\n",
       "      <th></th>\n",
       "      <th></th>\n",
       "      <th></th>\n",
       "      <th></th>\n",
       "      <th></th>\n",
       "      <th></th>\n",
       "      <th></th>\n",
       "      <th></th>\n",
       "      <th></th>\n",
       "      <th></th>\n",
       "      <th></th>\n",
       "      <th></th>\n",
       "      <th></th>\n",
       "      <th></th>\n",
       "      <th></th>\n",
       "      <th></th>\n",
       "      <th></th>\n",
       "      <th></th>\n",
       "    </tr>\n",
       "  </thead>\n",
       "  <tbody>\n",
       "    <tr>\n",
       "      <th>1</th>\n",
       "      <td>1571.0</td>\n",
       "      <td>1613.0</td>\n",
       "      <td>861.0</td>\n",
       "      <td>1098.0</td>\n",
       "      <td>5.0</td>\n",
       "      <td>0.645830</td>\n",
       "      <td>4.878147</td>\n",
       "      <td>3.183241</td>\n",
       "      <td>29.749986</td>\n",
       "      <td>60.059998</td>\n",
       "      <td>...</td>\n",
       "      <td>NaN</td>\n",
       "      <td>NaN</td>\n",
       "      <td>NaN</td>\n",
       "      <td>NaN</td>\n",
       "      <td>NaN</td>\n",
       "      <td>NaN</td>\n",
       "      <td>206.0</td>\n",
       "      <td>NaN</td>\n",
       "      <td>150.0</td>\n",
       "      <td>154.0</td>\n",
       "    </tr>\n",
       "    <tr>\n",
       "      <th>2</th>\n",
       "      <td>1581.0</td>\n",
       "      <td>1602.0</td>\n",
       "      <td>1305.0</td>\n",
       "      <td>811.0</td>\n",
       "      <td>4.0</td>\n",
       "      <td>0.635281</td>\n",
       "      <td>3.052598</td>\n",
       "      <td>1.998112</td>\n",
       "      <td>12.555561</td>\n",
       "      <td>96.052315</td>\n",
       "      <td>...</td>\n",
       "      <td>NaN</td>\n",
       "      <td>NaN</td>\n",
       "      <td>NaN</td>\n",
       "      <td>NaN</td>\n",
       "      <td>NaN</td>\n",
       "      <td>NaN</td>\n",
       "      <td>206.0</td>\n",
       "      <td>NaN</td>\n",
       "      <td>149.0</td>\n",
       "      <td>154.0</td>\n",
       "    </tr>\n",
       "    <tr>\n",
       "      <th>3</th>\n",
       "      <td>1596.0</td>\n",
       "      <td>1599.0</td>\n",
       "      <td>1300.0</td>\n",
       "      <td>655.0</td>\n",
       "      <td>5.0</td>\n",
       "      <td>0.632261</td>\n",
       "      <td>2.525882</td>\n",
       "      <td>1.599076</td>\n",
       "      <td>28.554793</td>\n",
       "      <td>91.160157</td>\n",
       "      <td>...</td>\n",
       "      <td>NaN</td>\n",
       "      <td>NaN</td>\n",
       "      <td>NaN</td>\n",
       "      <td>NaN</td>\n",
       "      <td>NaN</td>\n",
       "      <td>NaN</td>\n",
       "      <td>205.0</td>\n",
       "      <td>NaN</td>\n",
       "      <td>152.0</td>\n",
       "      <td>153.0</td>\n",
       "    </tr>\n",
       "    <tr>\n",
       "      <th>4</th>\n",
       "      <td>1601.0</td>\n",
       "      <td>1625.0</td>\n",
       "      <td>388.0</td>\n",
       "      <td>741.0</td>\n",
       "      <td>4.0</td>\n",
       "      <td>0.624417</td>\n",
       "      <td>3.209250</td>\n",
       "      <td>2.060298</td>\n",
       "      <td>18.841219</td>\n",
       "      <td>89.063515</td>\n",
       "      <td>...</td>\n",
       "      <td>NaN</td>\n",
       "      <td>NaN</td>\n",
       "      <td>NaN</td>\n",
       "      <td>NaN</td>\n",
       "      <td>NaN</td>\n",
       "      <td>NaN</td>\n",
       "      <td>207.0</td>\n",
       "      <td>NaN</td>\n",
       "      <td>153.0</td>\n",
       "      <td>154.0</td>\n",
       "    </tr>\n",
       "    <tr>\n",
       "      <th>5</th>\n",
       "      <td>1576.0</td>\n",
       "      <td>1602.0</td>\n",
       "      <td>762.0</td>\n",
       "      <td>869.0</td>\n",
       "      <td>4.0</td>\n",
       "      <td>0.667329</td>\n",
       "      <td>3.347173</td>\n",
       "      <td>2.252643</td>\n",
       "      <td>5.413692</td>\n",
       "      <td>89.238236</td>\n",
       "      <td>...</td>\n",
       "      <td>NaN</td>\n",
       "      <td>NaN</td>\n",
       "      <td>NaN</td>\n",
       "      <td>NaN</td>\n",
       "      <td>NaN</td>\n",
       "      <td>NaN</td>\n",
       "      <td>203.0</td>\n",
       "      <td>NaN</td>\n",
       "      <td>151.0</td>\n",
       "      <td>152.0</td>\n",
       "    </tr>\n",
       "  </tbody>\n",
       "</table>\n",
       "<p>5 rows × 33 columns</p>\n",
       "</div>"
      ],
      "text/plain": [
       "     first_temp  last_temp  cycle_time  Время нагрева  Кол-во нагревов  \\\n",
       "key                                                                      \n",
       "1        1571.0     1613.0       861.0         1098.0              5.0   \n",
       "2        1581.0     1602.0      1305.0          811.0              4.0   \n",
       "3        1596.0     1599.0      1300.0          655.0              5.0   \n",
       "4        1601.0     1625.0       388.0          741.0              4.0   \n",
       "5        1576.0     1602.0       762.0          869.0              4.0   \n",
       "\n",
       "     Среднее соотношение мощностей  Активная мощность  Реактивная мощность  \\\n",
       "key                                                                          \n",
       "1                         0.645830           4.878147             3.183241   \n",
       "2                         0.635281           3.052598             1.998112   \n",
       "3                         0.632261           2.525882             1.599076   \n",
       "4                         0.624417           3.209250             2.060298   \n",
       "5                         0.667329           3.347173             2.252643   \n",
       "\n",
       "         Газ 1     Wire 1  ...  Bulk 6  Bulk 7  Bulk 8  Bulk 9  Bulk 10  \\\n",
       "key                        ...                                            \n",
       "1    29.749986  60.059998  ...     NaN     NaN     NaN     NaN      NaN   \n",
       "2    12.555561  96.052315  ...     NaN     NaN     NaN     NaN      NaN   \n",
       "3    28.554793  91.160157  ...     NaN     NaN     NaN     NaN      NaN   \n",
       "4    18.841219  89.063515  ...     NaN     NaN     NaN     NaN      NaN   \n",
       "5     5.413692  89.238236  ...     NaN     NaN     NaN     NaN      NaN   \n",
       "\n",
       "     Bulk 11  Bulk 12  Bulk 13  Bulk 14  Bulk 15  \n",
       "key                                               \n",
       "1        NaN    206.0      NaN    150.0    154.0  \n",
       "2        NaN    206.0      NaN    149.0    154.0  \n",
       "3        NaN    205.0      NaN    152.0    153.0  \n",
       "4        NaN    207.0      NaN    153.0    154.0  \n",
       "5        NaN    203.0      NaN    151.0    152.0  \n",
       "\n",
       "[5 rows x 33 columns]"
      ]
     },
     "execution_count": 108,
     "metadata": {},
     "output_type": "execute_result"
    }
   ],
   "source": [
    "data = pd.merge(data, arc[['key', 'Активная мощность','Реактивная мощность']].groupby('key').sum(), how=\"left\", on=[\"key\"])\n",
    "data = pd.merge(data, gas, how=\"left\", on=[\"key\"])\n",
    "data = pd.merge(data, wire, how=\"left\", on=[\"key\"])\n",
    "data = pd.merge(data, bulk, how=\"left\", on=[\"key\"])\n",
    "data = data.set_index('key')\n",
    "data.head(5)\n"
   ]
  },
  {
   "cell_type": "markdown",
   "metadata": {},
   "source": [
    "Столбцы имеют разный вид написания, исправим это"
   ]
  },
  {
   "cell_type": "code",
   "execution_count": 109,
   "metadata": {},
   "outputs": [
    {
     "data": {
      "text/plain": [
       "Index(['first_temp', 'last_temp', 'cycle_time', 'Время нагрева',\n",
       "       'Кол-во нагревов', 'Среднее соотношение мощностей', 'Активная мощность',\n",
       "       'Реактивная мощность', 'Газ 1', 'Wire 1', 'Wire 2', 'Wire 3', 'Wire 4',\n",
       "       'Wire 5', 'Wire 6', 'Wire 7', 'Wire 8', 'Wire 9', 'Bulk 1', 'Bulk 2',\n",
       "       'Bulk 3', 'Bulk 4', 'Bulk 5', 'Bulk 6', 'Bulk 7', 'Bulk 8', 'Bulk 9',\n",
       "       'Bulk 10', 'Bulk 11', 'Bulk 12', 'Bulk 13', 'Bulk 14', 'Bulk 15'],\n",
       "      dtype='object')"
      ]
     },
     "execution_count": 109,
     "metadata": {},
     "output_type": "execute_result"
    }
   ],
   "source": [
    "data.columns"
   ]
  },
  {
   "cell_type": "code",
   "execution_count": 110,
   "metadata": {
    "scrolled": true
   },
   "outputs": [],
   "source": [
    "# переименуем столбцы\n",
    "data=data.rename(columns={'Время нагрева': 'heating_time', 'Кол-во нагревов': 'heating_count'\n",
    "                          , 'Газ 1': 'gas 1', 'Активная мощность': 'active_power',\n",
    "                          'Реактивная мощность': 'reactive_power',\n",
    "                          'Среднее соотношение мощностей': 'power_ratio_median'})"
   ]
  },
  {
   "cell_type": "code",
   "execution_count": 111,
   "metadata": {},
   "outputs": [],
   "source": [
    "# приведем названия столбцов к нижнему регистру и заменим пробелы на подчеркивание\n",
    "data.columns = data.columns.str.lower()\n",
    "data.columns = data.columns.str.replace(\" \", \"_\")"
   ]
  },
  {
   "cell_type": "code",
   "execution_count": 112,
   "metadata": {
    "scrolled": false
   },
   "outputs": [
    {
     "data": {
      "text/html": [
       "<div>\n",
       "<style scoped>\n",
       "    .dataframe tbody tr th:only-of-type {\n",
       "        vertical-align: middle;\n",
       "    }\n",
       "\n",
       "    .dataframe tbody tr th {\n",
       "        vertical-align: top;\n",
       "    }\n",
       "\n",
       "    .dataframe thead th {\n",
       "        text-align: right;\n",
       "    }\n",
       "</style>\n",
       "<table border=\"1\" class=\"dataframe\">\n",
       "  <thead>\n",
       "    <tr style=\"text-align: right;\">\n",
       "      <th></th>\n",
       "      <th>first_temp</th>\n",
       "      <th>last_temp</th>\n",
       "      <th>cycle_time</th>\n",
       "      <th>heating_time</th>\n",
       "      <th>heating_count</th>\n",
       "      <th>power_ratio_median</th>\n",
       "      <th>active_power</th>\n",
       "      <th>reactive_power</th>\n",
       "      <th>gas_1</th>\n",
       "      <th>wire_1</th>\n",
       "      <th>...</th>\n",
       "      <th>bulk_6</th>\n",
       "      <th>bulk_7</th>\n",
       "      <th>bulk_8</th>\n",
       "      <th>bulk_9</th>\n",
       "      <th>bulk_10</th>\n",
       "      <th>bulk_11</th>\n",
       "      <th>bulk_12</th>\n",
       "      <th>bulk_13</th>\n",
       "      <th>bulk_14</th>\n",
       "      <th>bulk_15</th>\n",
       "    </tr>\n",
       "    <tr>\n",
       "      <th>key</th>\n",
       "      <th></th>\n",
       "      <th></th>\n",
       "      <th></th>\n",
       "      <th></th>\n",
       "      <th></th>\n",
       "      <th></th>\n",
       "      <th></th>\n",
       "      <th></th>\n",
       "      <th></th>\n",
       "      <th></th>\n",
       "      <th></th>\n",
       "      <th></th>\n",
       "      <th></th>\n",
       "      <th></th>\n",
       "      <th></th>\n",
       "      <th></th>\n",
       "      <th></th>\n",
       "      <th></th>\n",
       "      <th></th>\n",
       "      <th></th>\n",
       "      <th></th>\n",
       "    </tr>\n",
       "  </thead>\n",
       "  <tbody>\n",
       "    <tr>\n",
       "      <th>1</th>\n",
       "      <td>1571.0</td>\n",
       "      <td>1613.0</td>\n",
       "      <td>861.0</td>\n",
       "      <td>1098.0</td>\n",
       "      <td>5.0</td>\n",
       "      <td>0.645830</td>\n",
       "      <td>4.878147</td>\n",
       "      <td>3.183241</td>\n",
       "      <td>29.749986</td>\n",
       "      <td>60.059998</td>\n",
       "      <td>...</td>\n",
       "      <td>NaN</td>\n",
       "      <td>NaN</td>\n",
       "      <td>NaN</td>\n",
       "      <td>NaN</td>\n",
       "      <td>NaN</td>\n",
       "      <td>NaN</td>\n",
       "      <td>206.0</td>\n",
       "      <td>NaN</td>\n",
       "      <td>150.0</td>\n",
       "      <td>154.0</td>\n",
       "    </tr>\n",
       "    <tr>\n",
       "      <th>2</th>\n",
       "      <td>1581.0</td>\n",
       "      <td>1602.0</td>\n",
       "      <td>1305.0</td>\n",
       "      <td>811.0</td>\n",
       "      <td>4.0</td>\n",
       "      <td>0.635281</td>\n",
       "      <td>3.052598</td>\n",
       "      <td>1.998112</td>\n",
       "      <td>12.555561</td>\n",
       "      <td>96.052315</td>\n",
       "      <td>...</td>\n",
       "      <td>NaN</td>\n",
       "      <td>NaN</td>\n",
       "      <td>NaN</td>\n",
       "      <td>NaN</td>\n",
       "      <td>NaN</td>\n",
       "      <td>NaN</td>\n",
       "      <td>206.0</td>\n",
       "      <td>NaN</td>\n",
       "      <td>149.0</td>\n",
       "      <td>154.0</td>\n",
       "    </tr>\n",
       "    <tr>\n",
       "      <th>3</th>\n",
       "      <td>1596.0</td>\n",
       "      <td>1599.0</td>\n",
       "      <td>1300.0</td>\n",
       "      <td>655.0</td>\n",
       "      <td>5.0</td>\n",
       "      <td>0.632261</td>\n",
       "      <td>2.525882</td>\n",
       "      <td>1.599076</td>\n",
       "      <td>28.554793</td>\n",
       "      <td>91.160157</td>\n",
       "      <td>...</td>\n",
       "      <td>NaN</td>\n",
       "      <td>NaN</td>\n",
       "      <td>NaN</td>\n",
       "      <td>NaN</td>\n",
       "      <td>NaN</td>\n",
       "      <td>NaN</td>\n",
       "      <td>205.0</td>\n",
       "      <td>NaN</td>\n",
       "      <td>152.0</td>\n",
       "      <td>153.0</td>\n",
       "    </tr>\n",
       "    <tr>\n",
       "      <th>4</th>\n",
       "      <td>1601.0</td>\n",
       "      <td>1625.0</td>\n",
       "      <td>388.0</td>\n",
       "      <td>741.0</td>\n",
       "      <td>4.0</td>\n",
       "      <td>0.624417</td>\n",
       "      <td>3.209250</td>\n",
       "      <td>2.060298</td>\n",
       "      <td>18.841219</td>\n",
       "      <td>89.063515</td>\n",
       "      <td>...</td>\n",
       "      <td>NaN</td>\n",
       "      <td>NaN</td>\n",
       "      <td>NaN</td>\n",
       "      <td>NaN</td>\n",
       "      <td>NaN</td>\n",
       "      <td>NaN</td>\n",
       "      <td>207.0</td>\n",
       "      <td>NaN</td>\n",
       "      <td>153.0</td>\n",
       "      <td>154.0</td>\n",
       "    </tr>\n",
       "    <tr>\n",
       "      <th>5</th>\n",
       "      <td>1576.0</td>\n",
       "      <td>1602.0</td>\n",
       "      <td>762.0</td>\n",
       "      <td>869.0</td>\n",
       "      <td>4.0</td>\n",
       "      <td>0.667329</td>\n",
       "      <td>3.347173</td>\n",
       "      <td>2.252643</td>\n",
       "      <td>5.413692</td>\n",
       "      <td>89.238236</td>\n",
       "      <td>...</td>\n",
       "      <td>NaN</td>\n",
       "      <td>NaN</td>\n",
       "      <td>NaN</td>\n",
       "      <td>NaN</td>\n",
       "      <td>NaN</td>\n",
       "      <td>NaN</td>\n",
       "      <td>203.0</td>\n",
       "      <td>NaN</td>\n",
       "      <td>151.0</td>\n",
       "      <td>152.0</td>\n",
       "    </tr>\n",
       "  </tbody>\n",
       "</table>\n",
       "<p>5 rows × 33 columns</p>\n",
       "</div>"
      ],
      "text/plain": [
       "     first_temp  last_temp  cycle_time  heating_time  heating_count  \\\n",
       "key                                                                   \n",
       "1        1571.0     1613.0       861.0        1098.0            5.0   \n",
       "2        1581.0     1602.0      1305.0         811.0            4.0   \n",
       "3        1596.0     1599.0      1300.0         655.0            5.0   \n",
       "4        1601.0     1625.0       388.0         741.0            4.0   \n",
       "5        1576.0     1602.0       762.0         869.0            4.0   \n",
       "\n",
       "     power_ratio_median  active_power  reactive_power      gas_1     wire_1  \\\n",
       "key                                                                           \n",
       "1              0.645830      4.878147        3.183241  29.749986  60.059998   \n",
       "2              0.635281      3.052598        1.998112  12.555561  96.052315   \n",
       "3              0.632261      2.525882        1.599076  28.554793  91.160157   \n",
       "4              0.624417      3.209250        2.060298  18.841219  89.063515   \n",
       "5              0.667329      3.347173        2.252643   5.413692  89.238236   \n",
       "\n",
       "     ...  bulk_6  bulk_7  bulk_8  bulk_9  bulk_10  bulk_11  bulk_12  bulk_13  \\\n",
       "key  ...                                                                       \n",
       "1    ...     NaN     NaN     NaN     NaN      NaN      NaN    206.0      NaN   \n",
       "2    ...     NaN     NaN     NaN     NaN      NaN      NaN    206.0      NaN   \n",
       "3    ...     NaN     NaN     NaN     NaN      NaN      NaN    205.0      NaN   \n",
       "4    ...     NaN     NaN     NaN     NaN      NaN      NaN    207.0      NaN   \n",
       "5    ...     NaN     NaN     NaN     NaN      NaN      NaN    203.0      NaN   \n",
       "\n",
       "     bulk_14  bulk_15  \n",
       "key                    \n",
       "1      150.0    154.0  \n",
       "2      149.0    154.0  \n",
       "3      152.0    153.0  \n",
       "4      153.0    154.0  \n",
       "5      151.0    152.0  \n",
       "\n",
       "[5 rows x 33 columns]"
      ]
     },
     "execution_count": 112,
     "metadata": {},
     "output_type": "execute_result"
    }
   ],
   "source": [
    "data.head(5)"
   ]
  },
  {
   "cell_type": "code",
   "execution_count": 113,
   "metadata": {},
   "outputs": [
    {
     "name": "stdout",
     "output_type": "stream",
     "text": [
      "<class 'pandas.core.frame.DataFrame'>\n",
      "Int64Index: 3216 entries, 1 to 3241\n",
      "Data columns (total 33 columns):\n",
      " #   Column              Non-Null Count  Dtype  \n",
      "---  ------              --------------  -----  \n",
      " 0   first_temp          3216 non-null   float64\n",
      " 1   last_temp           2477 non-null   float64\n",
      " 2   cycle_time          3216 non-null   float64\n",
      " 3   heating_time        3214 non-null   float64\n",
      " 4   heating_count       3214 non-null   float64\n",
      " 5   power_ratio_median  3214 non-null   float64\n",
      " 6   active_power        3214 non-null   float64\n",
      " 7   reactive_power      3214 non-null   float64\n",
      " 8   gas_1               3214 non-null   float64\n",
      " 9   wire_1              3055 non-null   float64\n",
      " 10  wire_2              1079 non-null   float64\n",
      " 11  wire_3              63 non-null     float64\n",
      " 12  wire_4              14 non-null     float64\n",
      " 13  wire_5              1 non-null      float64\n",
      " 14  wire_6              73 non-null     float64\n",
      " 15  wire_7              11 non-null     float64\n",
      " 16  wire_8              19 non-null     float64\n",
      " 17  wire_9              29 non-null     float64\n",
      " 18  bulk_1              252 non-null    float64\n",
      " 19  bulk_2              22 non-null     float64\n",
      " 20  bulk_3              1298 non-null   float64\n",
      " 21  bulk_4              1014 non-null   float64\n",
      " 22  bulk_5              77 non-null     float64\n",
      " 23  bulk_6              576 non-null    float64\n",
      " 24  bulk_7              25 non-null     float64\n",
      " 25  bulk_8              1 non-null      float64\n",
      " 26  bulk_9              19 non-null     float64\n",
      " 27  bulk_10             176 non-null    float64\n",
      " 28  bulk_11             177 non-null    float64\n",
      " 29  bulk_12             2450 non-null   float64\n",
      " 30  bulk_13             18 non-null     float64\n",
      " 31  bulk_14             2806 non-null   float64\n",
      " 32  bulk_15             2248 non-null   float64\n",
      "dtypes: float64(33)\n",
      "memory usage: 854.2 KB\n"
     ]
    }
   ],
   "source": [
    "data.info()"
   ]
  },
  {
   "cell_type": "markdown",
   "metadata": {},
   "source": [
    "в данных остались пропуски, обработаем их далее"
   ]
  },
  {
   "cell_type": "markdown",
   "metadata": {},
   "source": [
    "### Обработка пропусков"
   ]
  },
  {
   "cell_type": "code",
   "execution_count": 114,
   "metadata": {},
   "outputs": [],
   "source": [
    "# отбросим пустые значения с конечной температурой, газом и мощностью\n",
    "data=data.dropna(subset=['last_temp', 'gas_1', 'active_power'])"
   ]
  },
  {
   "cell_type": "code",
   "execution_count": 115,
   "metadata": {
    "scrolled": true
   },
   "outputs": [
    {
     "name": "stdout",
     "output_type": "stream",
     "text": [
      "<class 'pandas.core.frame.DataFrame'>\n",
      "Int64Index: 2473 entries, 1 to 2499\n",
      "Data columns (total 33 columns):\n",
      " #   Column              Non-Null Count  Dtype  \n",
      "---  ------              --------------  -----  \n",
      " 0   first_temp          2473 non-null   float64\n",
      " 1   last_temp           2473 non-null   float64\n",
      " 2   cycle_time          2473 non-null   float64\n",
      " 3   heating_time        2473 non-null   float64\n",
      " 4   heating_count       2473 non-null   float64\n",
      " 5   power_ratio_median  2473 non-null   float64\n",
      " 6   active_power        2473 non-null   float64\n",
      " 7   reactive_power      2473 non-null   float64\n",
      " 8   gas_1               2473 non-null   float64\n",
      " 9   wire_1              2346 non-null   float64\n",
      " 10  wire_2              833 non-null    float64\n",
      " 11  wire_3              39 non-null     float64\n",
      " 12  wire_4              12 non-null     float64\n",
      " 13  wire_5              0 non-null      float64\n",
      " 14  wire_6              45 non-null     float64\n",
      " 15  wire_7              4 non-null      float64\n",
      " 16  wire_8              13 non-null     float64\n",
      " 17  wire_9              28 non-null     float64\n",
      " 18  bulk_1              199 non-null    float64\n",
      " 19  bulk_2              13 non-null     float64\n",
      " 20  bulk_3              965 non-null    float64\n",
      " 21  bulk_4              813 non-null    float64\n",
      " 22  bulk_5              53 non-null     float64\n",
      " 23  bulk_6              442 non-null    float64\n",
      " 24  bulk_7              14 non-null     float64\n",
      " 25  bulk_8              1 non-null      float64\n",
      " 26  bulk_9              13 non-null     float64\n",
      " 27  bulk_10             143 non-null    float64\n",
      " 28  bulk_11             130 non-null    float64\n",
      " 29  bulk_12             1880 non-null   float64\n",
      " 30  bulk_13             14 non-null     float64\n",
      " 31  bulk_14             2135 non-null   float64\n",
      " 32  bulk_15             1711 non-null   float64\n",
      "dtypes: float64(33)\n",
      "memory usage: 656.9 KB\n"
     ]
    }
   ],
   "source": [
    "data.info()"
   ]
  },
  {
   "cell_type": "code",
   "execution_count": 116,
   "metadata": {},
   "outputs": [],
   "source": [
    "# заполним нулями оставшиеся пропуски, т.к. они связаны скорее всего с технологическим процессом\n",
    "data = data.fillna(0)"
   ]
  },
  {
   "cell_type": "code",
   "execution_count": 117,
   "metadata": {
    "scrolled": true
   },
   "outputs": [
    {
     "name": "stdout",
     "output_type": "stream",
     "text": [
      "<class 'pandas.core.frame.DataFrame'>\n",
      "Int64Index: 2473 entries, 1 to 2499\n",
      "Data columns (total 33 columns):\n",
      " #   Column              Non-Null Count  Dtype  \n",
      "---  ------              --------------  -----  \n",
      " 0   first_temp          2473 non-null   float64\n",
      " 1   last_temp           2473 non-null   float64\n",
      " 2   cycle_time          2473 non-null   float64\n",
      " 3   heating_time        2473 non-null   float64\n",
      " 4   heating_count       2473 non-null   float64\n",
      " 5   power_ratio_median  2473 non-null   float64\n",
      " 6   active_power        2473 non-null   float64\n",
      " 7   reactive_power      2473 non-null   float64\n",
      " 8   gas_1               2473 non-null   float64\n",
      " 9   wire_1              2473 non-null   float64\n",
      " 10  wire_2              2473 non-null   float64\n",
      " 11  wire_3              2473 non-null   float64\n",
      " 12  wire_4              2473 non-null   float64\n",
      " 13  wire_5              2473 non-null   float64\n",
      " 14  wire_6              2473 non-null   float64\n",
      " 15  wire_7              2473 non-null   float64\n",
      " 16  wire_8              2473 non-null   float64\n",
      " 17  wire_9              2473 non-null   float64\n",
      " 18  bulk_1              2473 non-null   float64\n",
      " 19  bulk_2              2473 non-null   float64\n",
      " 20  bulk_3              2473 non-null   float64\n",
      " 21  bulk_4              2473 non-null   float64\n",
      " 22  bulk_5              2473 non-null   float64\n",
      " 23  bulk_6              2473 non-null   float64\n",
      " 24  bulk_7              2473 non-null   float64\n",
      " 25  bulk_8              2473 non-null   float64\n",
      " 26  bulk_9              2473 non-null   float64\n",
      " 27  bulk_10             2473 non-null   float64\n",
      " 28  bulk_11             2473 non-null   float64\n",
      " 29  bulk_12             2473 non-null   float64\n",
      " 30  bulk_13             2473 non-null   float64\n",
      " 31  bulk_14             2473 non-null   float64\n",
      " 32  bulk_15             2473 non-null   float64\n",
      "dtypes: float64(33)\n",
      "memory usage: 656.9 KB\n"
     ]
    }
   ],
   "source": [
    "data.info()"
   ]
  },
  {
   "cell_type": "code",
   "execution_count": 118,
   "metadata": {},
   "outputs": [
    {
     "name": "stdout",
     "output_type": "stream",
     "text": [
      "Кол-во дубликатов: 0\n"
     ]
    }
   ],
   "source": [
    "print('Кол-во дубликатов:', data.duplicated().sum())"
   ]
  },
  {
   "cell_type": "markdown",
   "metadata": {},
   "source": [
    "**Вывод:** Пропуски обработали. Дубликатов в данных нет."
   ]
  },
  {
   "cell_type": "markdown",
   "metadata": {},
   "source": [
    "## Создание выборок"
   ]
  },
  {
   "cell_type": "markdown",
   "metadata": {},
   "source": [
    "Создадим признаки и выделим обучающую и тестовую выборки в соотношении 75:25"
   ]
  },
  {
   "cell_type": "code",
   "execution_count": 119,
   "metadata": {},
   "outputs": [],
   "source": [
    "# выделим признаки\n",
    "target = data['last_temp']\n",
    "features = data.drop('last_temp', axis=1)\n",
    "\n",
    "# разделим выборки на обучающую и тестовую\n",
    "features_train, features_test, target_train, target_test = train_test_split(\n",
    "    features, target, test_size=.25, random_state=12345)"
   ]
  },
  {
   "cell_type": "markdown",
   "metadata": {},
   "source": [
    "<font color='steelblue'><b>Комментарий ревьюера: </b></font> ✔️ <br>\n",
    "<font color='green'>Выборки готовы.</font>"
   ]
  },
  {
   "cell_type": "markdown",
   "metadata": {},
   "source": [
    "Масштабируем выборки"
   ]
  },
  {
   "cell_type": "code",
   "execution_count": 120,
   "metadata": {},
   "outputs": [],
   "source": [
    "scaler = StandardScaler()\n",
    "scaler.fit_transform(features_train)\n",
    "features_train_lr = scaler.transform(features_train)\n",
    "features_test_lr = scaler.transform(features_test)"
   ]
  },
  {
   "cell_type": "markdown",
   "metadata": {},
   "source": [
    "## Обучение и выбор лучшей модели"
   ]
  },
  {
   "cell_type": "markdown",
   "metadata": {},
   "source": [
    "### Константная модель"
   ]
  },
  {
   "cell_type": "code",
   "execution_count": 63,
   "metadata": {},
   "outputs": [
    {
     "name": "stdout",
     "output_type": "stream",
     "text": [
      "MAE константной модели: 9.31\n"
     ]
    }
   ],
   "source": [
    "constant_model = DummyRegressor(strategy='mean')\n",
    "constant_model.fit(features_train,target_train)\n",
    "constant_pred = constant_model.predict(features_test)\n",
    "print('MAE константной модели:', mean_absolute_error(target_test,constant_pred).round(2))"
   ]
  },
  {
   "cell_type": "markdown",
   "metadata": {},
   "source": [
    "### LinearRegression"
   ]
  },
  {
   "cell_type": "code",
   "execution_count": 64,
   "metadata": {},
   "outputs": [
    {
     "name": "stdout",
     "output_type": "stream",
     "text": [
      "MAE - LinearRegression:  8.18\n",
      "{'fit_intercept': True, 'normalize': True}\n",
      "training time - 2.788100242614746 sec\n"
     ]
    }
   ],
   "source": [
    "start = tm.time()\n",
    "parameters = {'fit_intercept':[True,False], 'normalize':[True,False]}\n",
    "grid_lr = GridSearchCV(LinearRegression(), parameters, cv=5, scoring='neg_mean_absolute_error')\n",
    "grid_lr.fit(features_train_lr, target_train)\n",
    "mae_lr = abs(grid_lr.best_score_).round(2)\n",
    "time_lr = tm.time() - start\n",
    "print('MAE - LinearRegression: ', mae_lr)\n",
    "params_lr = grid_lr.best_params_\n",
    "print(params_lr)\n",
    "print('training time -', time_lr, 'sec')"
   ]
  },
  {
   "cell_type": "markdown",
   "metadata": {},
   "source": [
    "### DecisionTreeRegressor"
   ]
  },
  {
   "cell_type": "code",
   "execution_count": 65,
   "metadata": {},
   "outputs": [],
   "source": [
    "tree_params = {'max_depth': [2, 4, 6],\n",
    "               'min_samples_split': [2, 5, 8, 10]}"
   ]
  },
  {
   "cell_type": "code",
   "execution_count": 66,
   "metadata": {
    "scrolled": true
   },
   "outputs": [
    {
     "name": "stdout",
     "output_type": "stream",
     "text": [
      "MAE - DecisionTreeRegressor:  7.43\n",
      "{'max_depth': 6, 'min_samples_split': 2}\n",
      "training time - 0.9822602272033691 sec\n"
     ]
    }
   ],
   "source": [
    "start = tm.time()\n",
    "grid_dtr = GridSearchCV(DecisionTreeRegressor(random_state=12345), \n",
    "                        tree_params, refit=False, cv=5, scoring='neg_mean_absolute_error') \n",
    "grid_dtr.fit(features_train, target_train)\n",
    "mae_dtr = abs(grid_dtr.best_score_).round(2)\n",
    "time_dtr = tm.time() - start\n",
    "print('MAE - DecisionTreeRegressor: ', mae_dtr)\n",
    "params_dtr = grid_dtr.best_params_\n",
    "print(params_dtr)\n",
    "print('training time -', time_dtr, 'sec')"
   ]
  },
  {
   "cell_type": "markdown",
   "metadata": {},
   "source": [
    "### RandomForestRegressor"
   ]
  },
  {
   "cell_type": "code",
   "execution_count": 67,
   "metadata": {},
   "outputs": [],
   "source": [
    "tree_params = {'n_estimators': [200], \n",
    "               'max_depth': [2, 4, 6],\n",
    "               'min_samples_split': [2, 5, 8, 10]}"
   ]
  },
  {
   "cell_type": "code",
   "execution_count": 68,
   "metadata": {},
   "outputs": [
    {
     "name": "stdout",
     "output_type": "stream",
     "text": [
      "MAE - RandomForestRegressor:  6.71\n",
      "{'max_depth': 6, 'min_samples_split': 2, 'n_estimators': 200}\n",
      "training time - 55.08039450645447 sec\n"
     ]
    }
   ],
   "source": [
    "start = tm.time()\n",
    "grid_rfr = GridSearchCV(RandomForestRegressor(random_state=12345), \n",
    "                        tree_params, refit=False, cv=5, scoring='neg_mean_absolute_error') \n",
    "grid_rfr.fit(features_train, target_train)\n",
    "mae_rfr = abs(grid_rfr.best_score_).round(2)\n",
    "time_rfr = tm.time() - start\n",
    "print('MAE - RandomForestRegressor: ', mae_rfr)\n",
    "params_rfr = grid_rfr.best_params_\n",
    "print(params_rfr)\n",
    "print('training time -', time_rfr, 'sec')"
   ]
  },
  {
   "cell_type": "markdown",
   "metadata": {},
   "source": [
    "### CatBoostRegressor"
   ]
  },
  {
   "cell_type": "code",
   "execution_count": 69,
   "metadata": {},
   "outputs": [],
   "source": [
    "param_grid_ctb = {'n_estimators': [300],  \n",
    "                  'learning_rate': [0.03, 0.1, 0.15],\n",
    "                  'depth': [4, 6]}"
   ]
  },
  {
   "cell_type": "code",
   "execution_count": 70,
   "metadata": {},
   "outputs": [
    {
     "name": "stdout",
     "output_type": "stream",
     "text": [
      "MAE - CatBoostRegressor:  5.67\n",
      "{'depth': 6, 'learning_rate': 0.1, 'n_estimators': 300}\n",
      "training time - 59.850666522979736 sec\n"
     ]
    }
   ],
   "source": [
    "start = tm.time()\n",
    "grid_ctb = GridSearchCV(CatBoostRegressor(random_state=12345, silent=True), \n",
    "                    param_grid_ctb, cv=5, scoring='neg_mean_absolute_error') \n",
    "grid_ctb.fit(features_train, target_train)\n",
    "mae_cbr = abs(grid_ctb.best_score_).round(2)\n",
    "time_cbr = tm.time() - start\n",
    "print('MAE - CatBoostRegressor: ', mae_cbr)\n",
    "params_cbr = grid_ctb.best_params_\n",
    "print(params_cbr)\n",
    "print('training time -', time_cbr, 'sec')"
   ]
  },
  {
   "cell_type": "markdown",
   "metadata": {},
   "source": [
    "### Выбор модели"
   ]
  },
  {
   "cell_type": "markdown",
   "metadata": {},
   "source": [
    "Сравним расчеты по каждой модели"
   ]
  },
  {
   "cell_type": "code",
   "execution_count": 71,
   "metadata": {},
   "outputs": [
    {
     "data": {
      "text/html": [
       "<div>\n",
       "<style scoped>\n",
       "    .dataframe tbody tr th:only-of-type {\n",
       "        vertical-align: middle;\n",
       "    }\n",
       "\n",
       "    .dataframe tbody tr th {\n",
       "        vertical-align: top;\n",
       "    }\n",
       "\n",
       "    .dataframe thead th {\n",
       "        text-align: right;\n",
       "    }\n",
       "</style>\n",
       "<table border=\"1\" class=\"dataframe\">\n",
       "  <thead>\n",
       "    <tr style=\"text-align: right;\">\n",
       "      <th></th>\n",
       "      <th>model</th>\n",
       "      <th>MAE</th>\n",
       "      <th>training_time, sec</th>\n",
       "      <th>parametrs</th>\n",
       "    </tr>\n",
       "  </thead>\n",
       "  <tbody>\n",
       "    <tr>\n",
       "      <th>0</th>\n",
       "      <td>LR</td>\n",
       "      <td>8.18</td>\n",
       "      <td>2.788100</td>\n",
       "      <td>{'fit_intercept': True, 'normalize': True}</td>\n",
       "    </tr>\n",
       "    <tr>\n",
       "      <th>1</th>\n",
       "      <td>DTR</td>\n",
       "      <td>7.43</td>\n",
       "      <td>0.982260</td>\n",
       "      <td>{'max_depth': 6, 'min_samples_split': 2}</td>\n",
       "    </tr>\n",
       "    <tr>\n",
       "      <th>2</th>\n",
       "      <td>RFR</td>\n",
       "      <td>6.71</td>\n",
       "      <td>55.080395</td>\n",
       "      <td>{'max_depth': 6, 'min_samples_split': 2, 'n_es...</td>\n",
       "    </tr>\n",
       "    <tr>\n",
       "      <th>3</th>\n",
       "      <td>CBR</td>\n",
       "      <td>5.67</td>\n",
       "      <td>59.850667</td>\n",
       "      <td>{'depth': 6, 'learning_rate': 0.1, 'n_estimato...</td>\n",
       "    </tr>\n",
       "  </tbody>\n",
       "</table>\n",
       "</div>"
      ],
      "text/plain": [
       "  model   MAE  training_time, sec  \\\n",
       "0    LR  8.18            2.788100   \n",
       "1   DTR  7.43            0.982260   \n",
       "2   RFR  6.71           55.080395   \n",
       "3   CBR  5.67           59.850667   \n",
       "\n",
       "                                           parametrs  \n",
       "0         {'fit_intercept': True, 'normalize': True}  \n",
       "1           {'max_depth': 6, 'min_samples_split': 2}  \n",
       "2  {'max_depth': 6, 'min_samples_split': 2, 'n_es...  \n",
       "3  {'depth': 6, 'learning_rate': 0.1, 'n_estimato...  "
      ]
     },
     "execution_count": 71,
     "metadata": {},
     "output_type": "execute_result"
    }
   ],
   "source": [
    "models = [['LR', mae_lr, time_lr, params_lr], \n",
    "          ['DTR', mae_dtr, time_dtr, params_dtr],\n",
    "          ['RFR', mae_rfr, time_rfr, params_rfr],\n",
    "          ['CBR', mae_cbr, time_cbr, params_cbr]]\n",
    "    \n",
    "df = pd.DataFrame(models, columns =['model', 'MAE', 'training_time, sec', 'parametrs']) \n",
    "df \n"
   ]
  },
  {
   "cell_type": "markdown",
   "metadata": {},
   "source": [
    "**Вывод -** лучшей моделью является CatBoostRegressor с метрикой MAE = 5.67 на обучающей выборке, обучается за 60 сек."
   ]
  },
  {
   "cell_type": "markdown",
   "metadata": {},
   "source": [
    "### Проверка на тестовой выборке"
   ]
  },
  {
   "cell_type": "markdown",
   "metadata": {},
   "source": [
    "Проверим лучшую модель на тестовой выборке"
   ]
  },
  {
   "cell_type": "code",
   "execution_count": 72,
   "metadata": {},
   "outputs": [
    {
     "name": "stdout",
     "output_type": "stream",
     "text": [
      "MAE на тестовой выборке:  5.37\n",
      "testing time - 1.9333562850952148 sec\n"
     ]
    }
   ],
   "source": [
    "start = tm.time()\n",
    "ctb = CatBoostRegressor(**params_cbr, random_state=12345, silent=True)\n",
    "ctb.fit(features_train, target_train)\n",
    "pred_test = ctb.predict(features_test)\n",
    "time_cbr_test = tm.time() - start\n",
    "mae_ctb_test = mean_absolute_error(target_test, pred_test).round(2)\n",
    "print(\"MAE на тестовой выборке: \", mae_ctb_test)\n",
    "print('testing time -', time_cbr_test, 'sec')"
   ]
  },
  {
   "cell_type": "markdown",
   "metadata": {},
   "source": [
    "Посмотрим на графике качество предсказания"
   ]
  },
  {
   "cell_type": "code",
   "execution_count": 73,
   "metadata": {
    "scrolled": true
   },
   "outputs": [
    {
     "data": {
      "image/png": "[encoded data removed]",
      "text/plain": [
       "<Figure size 1080x360 with 1 Axes>"
      ]
     },
     "metadata": {
      "needs_background": "light"
     },
     "output_type": "display_data"
    }
   ],
   "source": [
    "plt.figure(figsize=(15, 5))\n",
    "plt.plot(ctb.predict(features_test), label=\"предсказанные\")\n",
    "plt.plot(target_test.values, label=\"фактические\")\n",
    "plt.legend(loc=\"best\")\n",
    "plt.title('Фактические и предсказанные значения конечной температуры')\n",
    "plt.grid(True);"
   ]
  },
  {
   "cell_type": "markdown",
   "metadata": {},
   "source": [
    "Посмотрим как показатели влияют на целевой признак"
   ]
  },
  {
   "cell_type": "code",
   "execution_count": 74,
   "metadata": {},
   "outputs": [
    {
     "data": {
      "text/plain": [
       "<Figure size 720x504 with 0 Axes>"
      ]
     },
     "metadata": {},
     "output_type": "display_data"
    },
    {
     "data": {
      "image/png": "[encoded data removed]",
      "text/plain": [
       "<Figure size 432x288 with 1 Axes>"
      ]
     },
     "metadata": {
      "needs_background": "light"
     },
     "output_type": "display_data"
    }
   ],
   "source": [
    "feature_importance = pd.DataFrame(ctb.feature_importances_, index=features.columns).sort_values(0)\n",
    "\n",
    "plt.figure(figsize = (10, 7))\n",
    "feature_importance.plot.bar()\n",
    "plt.title('Влияние показателей на целевой признак')\n",
    "plt.legend(labels=['Признаки']);"
   ]
  },
  {
   "cell_type": "markdown",
   "metadata": {},
   "source": [
    "## Вывод"
   ]
  },
  {
   "cell_type": "markdown",
   "metadata": {},
   "source": [
    "В ходе проекта:\n",
    "1. были загружены и проанализированы данные, выявлены пропуски и откронения по реактивной мощности\n",
    "2. в данные были добавлены новые признаки для обучения моделей, выделен целевой признак - конечная температура\n",
    "3. пропуски и аномальные значения были обработаны:\n",
    "- записи, где не было целевого признака были удалены, как и записи с аномальным значением по реактивной мощности\n",
    "- остальные пропуски были заменены на нули\n",
    "4. в результате итоговый датасет был сформирован из записей по 2473 партий\n",
    "5. для выбора были обучены 4 модели: `LinearRegression`, `DecisionTreeRegressor`, `RandomForestRegressor`, `CatBoostRegressor`\n",
    "6. Лучшую MAE с кросс-валидаций показала модель `CatBoostRegressor` = **5.67**. Гиперпараметры: 'depth': 6, 'learning_rate': 0.1, 'n_estimators': 300\n",
    "7. на тестовой выборке MAE = 5.37. В результате предсказанные значения конечной температуры по модели `CatBoostRegressor` на тестовой выборке близки к фактическим данным."
   ]
  },
  {
   "cell_type": "markdown",
   "metadata": {},
   "source": [
    "## Отчет по проекту"
   ]
  },
  {
   "cell_type": "markdown",
   "metadata": {},
   "source": [
    "**Какие пункты плана были выполнены, а какие — нет (поясните почему)?**"
   ]
  },
  {
   "cell_type": "markdown",
   "metadata": {},
   "source": [
    "В ходе работы были выполнены все пункты первоначального плана:\n",
    "1. загружены данные и проведен исследовательский анализ данных, определены аномалии и пропуски;\n",
    "2. уточнена задачу проекта на основе анализа, определена метрика MAE для оценки качества модели;\n",
    "3. далее проведена предобработка данных, в ходе которой было выполнено следующее:\n",
    "- в датасет были включены дополнительные расчеты, которые использовались в качестве доп.признаков для обучения модели:\n",
    "  - выделена начальная и конечные температуры (целевой признак);\n",
    "  - время нагрева сплава и кол-во нагревов;\n",
    "  - среднее соотношение потребления активной и реактивной мощности.\n",
    "- данные были объеденены в один датасет, после чего была проведена обработка пропусков: \n",
    "  - удалены аномальные значения по реактивной мощности (отрицательные);\n",
    "  - удалены записи с пропусками по конечной температуре, газу и мощностью;\n",
    "  - остальные пропуски были заполнены нулями, т.к. связаны с технологическим процессом.\n",
    "<br> Наиболее важными признаками, влияющими в наибольшей мере на целевой признак являются: начальная температура, проволока 1,которая добавляется в 99.2% сплавов, и активная мощность, используемая для тех.процесса.\n",
    "4. подготовлены данные для обучения (целевой признак - конечная температура, признаки для обучения - все остальные, далее данные были разбиты на обучающую и тестовую выборки в соотношении 75 / 25)\n",
    "5. были обучены 4 модели: LinearRegression, DecisionTreeRegressor, RandomForestRegressor, CatBoostRegressor, с применением кросс-валидации и на основании наименьшей метрики MAE выбрана лучшая модель, которая протестирована на тестовой выборке"
   ]
  },
  {
   "cell_type": "markdown",
   "metadata": {},
   "source": [
    "**Какие трудности возникли и как вы их преодолели?**"
   ]
  },
  {
   "cell_type": "markdown",
   "metadata": {},
   "source": [
    "Возникли небольшие трудности при объединении данных в один датасет с минимальной потерей данных (ошибка была при обработке пропусков - не все данные были корректно откинуты). Ошибка была исправлена после проверки тимлида."
   ]
  },
  {
   "cell_type": "markdown",
   "metadata": {},
   "source": [
    "**Какие ключевые шаги в решении задачи выделили?**"
   ]
  },
  {
   "cell_type": "markdown",
   "metadata": {},
   "source": [
    "1. Анализ данных на поиск пропусков и аномалий\n",
    "2. Обработка и подготовка данных\n",
    "3. Подготовка признаков и выборок\n",
    "4. Выбор и обучение моделей\n",
    "5. Выбор лучшей модели и проверка ее на тестовых данных"
   ]
  },
  {
   "cell_type": "markdown",
   "metadata": {},
   "source": [
    "**Какая ваша итоговая модель и какое у неё качество?**"
   ]
  },
  {
   "cell_type": "markdown",
   "metadata": {},
   "source": [
    "Итоговой модель выбрана `CatBoostRegressor` с метрикой MAE = 5.67 с кросс-валидацией и MAE = 5.37 на тестовых данных."
   ]
  }
 ],
 "metadata": {
  "ExecuteTimeLog": [
   {
    "duration": 1729,
    "start_time": "2022-07-16T10:39:13.393Z"
   },
   {
    "duration": 3,
    "start_time": "2022-07-16T10:39:15.125Z"
   },
   {
    "duration": 605,
    "start_time": "2022-07-16T10:39:15.130Z"
   },
   {
    "duration": 18,
    "start_time": "2022-07-16T10:39:15.737Z"
   },
   {
    "duration": 16,
    "start_time": "2022-07-16T10:39:15.757Z"
   },
   {
    "duration": 22,
    "start_time": "2022-07-16T10:39:15.775Z"
   },
   {
    "duration": 196,
    "start_time": "2022-07-16T10:39:15.798Z"
   },
   {
    "duration": 9,
    "start_time": "2022-07-16T10:39:15.995Z"
   },
   {
    "duration": 12,
    "start_time": "2022-07-16T10:39:16.005Z"
   },
   {
    "duration": 39,
    "start_time": "2022-07-16T10:39:16.019Z"
   },
   {
    "duration": 19,
    "start_time": "2022-07-16T10:39:16.060Z"
   },
   {
    "duration": 57,
    "start_time": "2022-07-16T10:39:16.081Z"
   },
   {
    "duration": 25,
    "start_time": "2022-07-16T10:39:16.139Z"
   },
   {
    "duration": 9,
    "start_time": "2022-07-16T10:39:16.165Z"
   },
   {
    "duration": 19,
    "start_time": "2022-07-16T10:39:16.176Z"
   },
   {
    "duration": 17,
    "start_time": "2022-07-16T10:39:16.196Z"
   },
   {
    "duration": 31,
    "start_time": "2022-07-16T10:39:16.214Z"
   },
   {
    "duration": 22,
    "start_time": "2022-07-16T10:39:16.246Z"
   },
   {
    "duration": 18,
    "start_time": "2022-07-16T10:39:16.270Z"
   },
   {
    "duration": 8,
    "start_time": "2022-07-16T10:39:16.290Z"
   },
   {
    "duration": 12,
    "start_time": "2022-07-16T10:39:16.299Z"
   },
   {
    "duration": 8,
    "start_time": "2022-07-16T10:39:16.312Z"
   },
   {
    "duration": 34,
    "start_time": "2022-07-16T10:39:16.321Z"
   },
   {
    "duration": 19,
    "start_time": "2022-07-16T10:39:16.357Z"
   },
   {
    "duration": 179,
    "start_time": "2022-07-16T10:39:16.379Z"
   },
   {
    "duration": 9,
    "start_time": "2022-07-16T10:39:16.559Z"
   },
   {
    "duration": 324,
    "start_time": "2022-07-16T10:39:16.570Z"
   },
   {
    "duration": 11,
    "start_time": "2022-07-16T10:39:16.897Z"
   },
   {
    "duration": 8,
    "start_time": "2022-07-16T10:39:16.909Z"
   },
   {
    "duration": 38,
    "start_time": "2022-07-16T10:39:16.918Z"
   },
   {
    "duration": 41,
    "start_time": "2022-07-16T10:39:16.958Z"
   },
   {
    "duration": 11,
    "start_time": "2022-07-16T10:39:17.000Z"
   },
   {
    "duration": 10,
    "start_time": "2022-07-16T10:39:17.013Z"
   },
   {
    "duration": 28,
    "start_time": "2022-07-16T10:39:17.025Z"
   },
   {
    "duration": 12,
    "start_time": "2022-07-16T10:39:17.055Z"
   },
   {
    "duration": 2,
    "start_time": "2022-07-16T10:39:17.069Z"
   },
   {
    "duration": 8,
    "start_time": "2022-07-16T10:42:15.651Z"
   },
   {
    "duration": 11,
    "start_time": "2022-07-16T10:42:31.656Z"
   },
   {
    "duration": 7,
    "start_time": "2022-07-16T10:47:51.040Z"
   },
   {
    "duration": 7,
    "start_time": "2022-07-16T10:51:03.053Z"
   },
   {
    "duration": 128,
    "start_time": "2022-07-16T10:51:17.577Z"
   },
   {
    "duration": 5,
    "start_time": "2022-07-16T10:51:31.263Z"
   },
   {
    "duration": 11,
    "start_time": "2022-07-16T10:51:38.554Z"
   },
   {
    "duration": 21,
    "start_time": "2022-07-16T10:57:49.102Z"
   },
   {
    "duration": 11,
    "start_time": "2022-07-16T10:58:02.406Z"
   },
   {
    "duration": 20,
    "start_time": "2022-07-16T10:58:56.984Z"
   },
   {
    "duration": 11,
    "start_time": "2022-07-16T10:58:57.755Z"
   },
   {
    "duration": 78,
    "start_time": "2022-07-16T11:03:34.093Z"
   },
   {
    "duration": 510,
    "start_time": "2022-07-16T11:03:40.001Z"
   },
   {
    "duration": 482,
    "start_time": "2022-07-16T11:04:29.094Z"
   },
   {
    "duration": 12,
    "start_time": "2022-07-16T11:06:20.870Z"
   },
   {
    "duration": 5,
    "start_time": "2022-07-16T11:10:52.286Z"
   },
   {
    "duration": 20,
    "start_time": "2022-07-16T11:11:10.398Z"
   },
   {
    "duration": 1657,
    "start_time": "2022-07-16T11:13:03.622Z"
   },
   {
    "duration": 732,
    "start_time": "2022-07-16T11:14:03.429Z"
   },
   {
    "duration": 1461,
    "start_time": "2022-07-16T11:14:34.763Z"
   },
   {
    "duration": 22,
    "start_time": "2022-07-16T11:17:23.230Z"
   },
   {
    "duration": 169,
    "start_time": "2022-07-16T11:18:26.499Z"
   },
   {
    "duration": 12,
    "start_time": "2022-07-16T11:18:40.372Z"
   },
   {
    "duration": 799,
    "start_time": "2022-07-16T11:20:50.219Z"
   },
   {
    "duration": 7,
    "start_time": "2022-07-16T11:21:58.715Z"
   },
   {
    "duration": 17,
    "start_time": "2022-07-16T11:22:16.172Z"
   },
   {
    "duration": 11,
    "start_time": "2022-07-16T11:25:17.680Z"
   },
   {
    "duration": 15,
    "start_time": "2022-07-16T11:25:28.211Z"
   },
   {
    "duration": 27,
    "start_time": "2022-07-16T11:25:37.680Z"
   },
   {
    "duration": 28,
    "start_time": "2022-07-16T11:26:16.673Z"
   },
   {
    "duration": 9,
    "start_time": "2022-07-16T11:31:47.720Z"
   },
   {
    "duration": 4,
    "start_time": "2022-07-16T11:32:05.433Z"
   },
   {
    "duration": 16,
    "start_time": "2022-07-16T11:32:21.991Z"
   },
   {
    "duration": 8,
    "start_time": "2022-07-16T11:32:30.208Z"
   },
   {
    "duration": 4,
    "start_time": "2022-07-16T11:35:33.274Z"
   },
   {
    "duration": 11,
    "start_time": "2022-07-16T11:35:34.122Z"
   },
   {
    "duration": 9,
    "start_time": "2022-07-16T11:37:29.808Z"
   },
   {
    "duration": 8,
    "start_time": "2022-07-16T11:37:44.374Z"
   },
   {
    "duration": 23,
    "start_time": "2022-07-16T11:38:48.878Z"
   },
   {
    "duration": 9,
    "start_time": "2022-07-16T11:41:45.621Z"
   },
   {
    "duration": 381,
    "start_time": "2022-07-16T11:46:11.695Z"
   },
   {
    "duration": 14,
    "start_time": "2022-07-16T11:46:27.018Z"
   },
   {
    "duration": 12,
    "start_time": "2022-07-16T11:46:46.925Z"
   },
   {
    "duration": 31,
    "start_time": "2022-07-16T11:48:30.229Z"
   },
   {
    "duration": 8,
    "start_time": "2022-07-16T11:50:23.475Z"
   },
   {
    "duration": 88,
    "start_time": "2022-07-16T11:51:32.900Z"
   },
   {
    "duration": 56,
    "start_time": "2022-07-16T11:51:51.623Z"
   },
   {
    "duration": 15,
    "start_time": "2022-07-16T11:52:34.016Z"
   },
   {
    "duration": 1550,
    "start_time": "2022-07-16T11:53:45.104Z"
   },
   {
    "duration": 8,
    "start_time": "2022-07-16T11:53:46.656Z"
   },
   {
    "duration": 221,
    "start_time": "2022-07-16T11:53:46.666Z"
   },
   {
    "duration": 13,
    "start_time": "2022-07-16T11:53:46.890Z"
   },
   {
    "duration": 15,
    "start_time": "2022-07-16T11:53:46.905Z"
   },
   {
    "duration": 30,
    "start_time": "2022-07-16T11:53:46.921Z"
   },
   {
    "duration": 181,
    "start_time": "2022-07-16T11:53:46.953Z"
   },
   {
    "duration": 16,
    "start_time": "2022-07-16T11:53:47.135Z"
   },
   {
    "duration": 13,
    "start_time": "2022-07-16T11:53:47.154Z"
   },
   {
    "duration": 9,
    "start_time": "2022-07-16T11:53:47.171Z"
   },
   {
    "duration": 17,
    "start_time": "2022-07-16T11:53:47.182Z"
   },
   {
    "duration": 92,
    "start_time": "2022-07-16T11:53:47.201Z"
   },
   {
    "duration": 18,
    "start_time": "2022-07-16T11:53:47.295Z"
   },
   {
    "duration": 12,
    "start_time": "2022-07-16T11:53:47.315Z"
   },
   {
    "duration": 20,
    "start_time": "2022-07-16T11:53:47.345Z"
   },
   {
    "duration": 13,
    "start_time": "2022-07-16T11:53:47.367Z"
   },
   {
    "duration": 10,
    "start_time": "2022-07-16T11:53:47.381Z"
   },
   {
    "duration": 12,
    "start_time": "2022-07-16T11:53:47.393Z"
   },
   {
    "duration": 44,
    "start_time": "2022-07-16T11:53:47.406Z"
   },
   {
    "duration": 10,
    "start_time": "2022-07-16T11:53:47.452Z"
   },
   {
    "duration": 13,
    "start_time": "2022-07-16T11:53:47.464Z"
   },
   {
    "duration": 12,
    "start_time": "2022-07-16T11:53:47.479Z"
   },
   {
    "duration": 12,
    "start_time": "2022-07-16T11:53:47.493Z"
   },
   {
    "duration": 42,
    "start_time": "2022-07-16T11:53:47.506Z"
   },
   {
    "duration": 178,
    "start_time": "2022-07-16T11:53:47.550Z"
   },
   {
    "duration": 21,
    "start_time": "2022-07-16T11:53:47.729Z"
   },
   {
    "duration": 434,
    "start_time": "2022-07-16T11:53:47.752Z"
   },
   {
    "duration": 11,
    "start_time": "2022-07-16T11:53:48.190Z"
   },
   {
    "duration": 8,
    "start_time": "2022-07-16T11:53:48.202Z"
   },
   {
    "duration": 38,
    "start_time": "2022-07-16T11:53:48.212Z"
   },
   {
    "duration": 43,
    "start_time": "2022-07-16T11:53:48.252Z"
   },
   {
    "duration": 12,
    "start_time": "2022-07-16T11:53:48.297Z"
   },
   {
    "duration": 8,
    "start_time": "2022-07-16T11:53:48.310Z"
   },
   {
    "duration": 44,
    "start_time": "2022-07-16T11:53:48.320Z"
   },
   {
    "duration": 17,
    "start_time": "2022-07-16T11:53:48.365Z"
   },
   {
    "duration": 7,
    "start_time": "2022-07-16T11:53:48.383Z"
   },
   {
    "duration": 10,
    "start_time": "2022-07-16T11:53:48.391Z"
   },
   {
    "duration": 23,
    "start_time": "2022-07-16T11:53:48.402Z"
   },
   {
    "duration": 489,
    "start_time": "2022-07-16T11:53:48.427Z"
   },
   {
    "duration": 12,
    "start_time": "2022-07-16T11:53:48.918Z"
   },
   {
    "duration": 21,
    "start_time": "2022-07-16T11:53:48.931Z"
   },
   {
    "duration": 13,
    "start_time": "2022-07-16T11:53:48.954Z"
   },
   {
    "duration": 17,
    "start_time": "2022-07-16T11:53:48.969Z"
   },
   {
    "duration": 15,
    "start_time": "2022-07-16T11:53:48.988Z"
   },
   {
    "duration": 5,
    "start_time": "2022-07-16T11:53:49.005Z"
   },
   {
    "duration": 43,
    "start_time": "2022-07-16T11:53:49.011Z"
   },
   {
    "duration": 18,
    "start_time": "2022-07-16T11:53:49.055Z"
   },
   {
    "duration": 16,
    "start_time": "2022-07-16T11:53:49.074Z"
   },
   {
    "duration": 11,
    "start_time": "2022-07-16T11:53:49.091Z"
   },
   {
    "duration": 75,
    "start_time": "2022-07-16T11:53:49.103Z"
   },
   {
    "duration": 14,
    "start_time": "2022-07-16T11:53:49.180Z"
   },
   {
    "duration": 6,
    "start_time": "2022-07-16T12:10:17.907Z"
   },
   {
    "duration": 5,
    "start_time": "2022-07-16T12:18:36.116Z"
   },
   {
    "duration": 25,
    "start_time": "2022-07-16T12:21:00.238Z"
   },
   {
    "duration": 37,
    "start_time": "2022-07-16T12:21:41.431Z"
   },
   {
    "duration": 1644,
    "start_time": "2022-07-16T12:21:58.579Z"
   },
   {
    "duration": 4,
    "start_time": "2022-07-16T12:22:00.225Z"
   },
   {
    "duration": 273,
    "start_time": "2022-07-16T12:22:00.231Z"
   },
   {
    "duration": 14,
    "start_time": "2022-07-16T12:22:00.506Z"
   },
   {
    "duration": 44,
    "start_time": "2022-07-16T12:22:00.524Z"
   },
   {
    "duration": 60,
    "start_time": "2022-07-16T12:22:00.570Z"
   },
   {
    "duration": 237,
    "start_time": "2022-07-16T12:22:00.632Z"
   },
   {
    "duration": 9,
    "start_time": "2022-07-16T12:22:00.874Z"
   },
   {
    "duration": 17,
    "start_time": "2022-07-16T12:22:00.885Z"
   },
   {
    "duration": 22,
    "start_time": "2022-07-16T12:22:00.904Z"
   },
   {
    "duration": 36,
    "start_time": "2022-07-16T12:22:00.927Z"
   },
   {
    "duration": 101,
    "start_time": "2022-07-16T12:22:00.965Z"
   },
   {
    "duration": 12,
    "start_time": "2022-07-16T12:22:01.068Z"
   },
   {
    "duration": 12,
    "start_time": "2022-07-16T12:22:01.084Z"
   },
   {
    "duration": 49,
    "start_time": "2022-07-16T12:22:01.098Z"
   },
   {
    "duration": 42,
    "start_time": "2022-07-16T12:22:01.148Z"
   },
   {
    "duration": 22,
    "start_time": "2022-07-16T12:22:01.192Z"
   },
   {
    "duration": 36,
    "start_time": "2022-07-16T12:22:01.216Z"
   },
   {
    "duration": 44,
    "start_time": "2022-07-16T12:22:01.253Z"
   },
   {
    "duration": 16,
    "start_time": "2022-07-16T12:22:01.299Z"
   },
   {
    "duration": 33,
    "start_time": "2022-07-16T12:22:01.318Z"
   },
   {
    "duration": 46,
    "start_time": "2022-07-16T12:22:01.354Z"
   },
   {
    "duration": 26,
    "start_time": "2022-07-16T12:22:01.402Z"
   },
   {
    "duration": 64,
    "start_time": "2022-07-16T12:22:01.431Z"
   },
   {
    "duration": 194,
    "start_time": "2022-07-16T12:22:01.496Z"
   },
   {
    "duration": 10,
    "start_time": "2022-07-16T12:22:01.691Z"
   },
   {
    "duration": 371,
    "start_time": "2022-07-16T12:22:01.702Z"
   },
   {
    "duration": 11,
    "start_time": "2022-07-16T12:22:02.075Z"
   },
   {
    "duration": 13,
    "start_time": "2022-07-16T12:22:02.088Z"
   },
   {
    "duration": 29,
    "start_time": "2022-07-16T12:22:02.103Z"
   },
   {
    "duration": 79,
    "start_time": "2022-07-16T12:22:02.133Z"
   },
   {
    "duration": 12,
    "start_time": "2022-07-16T12:22:02.214Z"
   },
   {
    "duration": 41,
    "start_time": "2022-07-16T12:22:02.228Z"
   },
   {
    "duration": 19,
    "start_time": "2022-07-16T12:22:02.273Z"
   },
   {
    "duration": 14,
    "start_time": "2022-07-16T12:22:02.294Z"
   },
   {
    "duration": 16,
    "start_time": "2022-07-16T12:22:02.310Z"
   },
   {
    "duration": 46,
    "start_time": "2022-07-16T12:22:02.328Z"
   },
   {
    "duration": 27,
    "start_time": "2022-07-16T12:22:02.376Z"
   },
   {
    "duration": 484,
    "start_time": "2022-07-16T12:22:02.405Z"
   },
   {
    "duration": 12,
    "start_time": "2022-07-16T12:22:02.891Z"
   },
   {
    "duration": 7,
    "start_time": "2022-07-16T12:22:02.907Z"
   },
   {
    "duration": 28,
    "start_time": "2022-07-16T12:22:02.916Z"
   },
   {
    "duration": 37,
    "start_time": "2022-07-16T12:22:02.948Z"
   },
   {
    "duration": 22,
    "start_time": "2022-07-16T12:22:02.987Z"
   },
   {
    "duration": 4,
    "start_time": "2022-07-16T12:22:03.011Z"
   },
   {
    "duration": 37,
    "start_time": "2022-07-16T12:22:03.016Z"
   },
   {
    "duration": 37,
    "start_time": "2022-07-16T12:22:03.057Z"
   },
   {
    "duration": 16,
    "start_time": "2022-07-16T12:22:03.095Z"
   },
   {
    "duration": 8,
    "start_time": "2022-07-16T12:22:03.113Z"
   },
   {
    "duration": 57,
    "start_time": "2022-07-16T12:22:03.123Z"
   },
   {
    "duration": 14,
    "start_time": "2022-07-16T12:22:03.182Z"
   },
   {
    "duration": 5,
    "start_time": "2022-07-16T12:22:03.198Z"
   },
   {
    "duration": 8,
    "start_time": "2022-07-16T12:22:03.205Z"
   },
   {
    "duration": 56,
    "start_time": "2022-07-16T12:22:03.215Z"
   },
   {
    "duration": 135,
    "start_time": "2022-07-16T12:23:05.678Z"
   },
   {
    "duration": 1625,
    "start_time": "2022-07-16T12:24:12.726Z"
   },
   {
    "duration": 4,
    "start_time": "2022-07-16T12:24:14.365Z"
   },
   {
    "duration": 241,
    "start_time": "2022-07-16T12:24:14.371Z"
   },
   {
    "duration": 14,
    "start_time": "2022-07-16T12:24:14.614Z"
   },
   {
    "duration": 39,
    "start_time": "2022-07-16T12:24:14.630Z"
   },
   {
    "duration": 23,
    "start_time": "2022-07-16T12:24:14.671Z"
   },
   {
    "duration": 210,
    "start_time": "2022-07-16T12:24:14.696Z"
   },
   {
    "duration": 9,
    "start_time": "2022-07-16T12:24:14.908Z"
   },
   {
    "duration": 44,
    "start_time": "2022-07-16T12:24:14.919Z"
   },
   {
    "duration": 14,
    "start_time": "2022-07-16T12:24:14.968Z"
   },
   {
    "duration": 19,
    "start_time": "2022-07-16T12:24:14.984Z"
   },
   {
    "duration": 83,
    "start_time": "2022-07-16T12:24:15.004Z"
   },
   {
    "duration": 66,
    "start_time": "2022-07-16T12:24:15.090Z"
   },
   {
    "duration": 40,
    "start_time": "2022-07-16T12:24:15.160Z"
   },
   {
    "duration": 31,
    "start_time": "2022-07-16T12:24:15.242Z"
   },
   {
    "duration": 72,
    "start_time": "2022-07-16T12:24:15.275Z"
   },
   {
    "duration": 43,
    "start_time": "2022-07-16T12:24:15.349Z"
   },
   {
    "duration": 56,
    "start_time": "2022-07-16T12:24:15.395Z"
   },
   {
    "duration": 46,
    "start_time": "2022-07-16T12:24:15.453Z"
   },
   {
    "duration": 54,
    "start_time": "2022-07-16T12:24:15.501Z"
   },
   {
    "duration": 23,
    "start_time": "2022-07-16T12:24:15.559Z"
   },
   {
    "duration": 70,
    "start_time": "2022-07-16T12:24:15.583Z"
   },
   {
    "duration": 45,
    "start_time": "2022-07-16T12:24:15.654Z"
   },
   {
    "duration": 80,
    "start_time": "2022-07-16T12:24:15.701Z"
   },
   {
    "duration": 499,
    "start_time": "2022-07-16T12:24:15.783Z"
   },
   {
    "duration": 63,
    "start_time": "2022-07-16T12:24:16.283Z"
   },
   {
    "duration": 842,
    "start_time": "2022-07-16T12:24:16.348Z"
   },
   {
    "duration": 59,
    "start_time": "2022-07-16T12:24:17.192Z"
   },
   {
    "duration": 54,
    "start_time": "2022-07-16T12:24:17.253Z"
   },
   {
    "duration": 78,
    "start_time": "2022-07-16T12:24:17.310Z"
   },
   {
    "duration": 95,
    "start_time": "2022-07-16T12:24:17.392Z"
   },
   {
    "duration": 12,
    "start_time": "2022-07-16T12:24:17.489Z"
   },
   {
    "duration": 19,
    "start_time": "2022-07-16T12:24:17.502Z"
   },
   {
    "duration": 32,
    "start_time": "2022-07-16T12:24:17.523Z"
   },
   {
    "duration": 33,
    "start_time": "2022-07-16T12:24:17.556Z"
   },
   {
    "duration": 9,
    "start_time": "2022-07-16T12:24:17.591Z"
   },
   {
    "duration": 17,
    "start_time": "2022-07-16T12:24:17.601Z"
   },
   {
    "duration": 29,
    "start_time": "2022-07-16T12:24:17.619Z"
   },
   {
    "duration": 635,
    "start_time": "2022-07-16T12:24:17.650Z"
   },
   {
    "duration": 12,
    "start_time": "2022-07-16T12:24:18.290Z"
   },
   {
    "duration": 9,
    "start_time": "2022-07-16T12:24:18.306Z"
   },
   {
    "duration": 14,
    "start_time": "2022-07-16T12:24:18.316Z"
   },
   {
    "duration": 43,
    "start_time": "2022-07-16T12:24:18.332Z"
   },
   {
    "duration": 14,
    "start_time": "2022-07-16T12:24:18.377Z"
   },
   {
    "duration": 4,
    "start_time": "2022-07-16T12:24:18.392Z"
   },
   {
    "duration": 16,
    "start_time": "2022-07-16T12:24:18.398Z"
   },
   {
    "duration": 30,
    "start_time": "2022-07-16T12:24:18.416Z"
   },
   {
    "duration": 29,
    "start_time": "2022-07-16T12:24:18.448Z"
   },
   {
    "duration": 11,
    "start_time": "2022-07-16T12:24:18.479Z"
   },
   {
    "duration": 58,
    "start_time": "2022-07-16T12:24:18.492Z"
   },
   {
    "duration": 19,
    "start_time": "2022-07-16T12:24:18.552Z"
   },
   {
    "duration": 18,
    "start_time": "2022-07-16T12:24:18.573Z"
   },
   {
    "duration": 15,
    "start_time": "2022-07-16T12:24:18.593Z"
   },
   {
    "duration": 13,
    "start_time": "2022-07-16T12:24:18.610Z"
   },
   {
    "duration": 143,
    "start_time": "2022-07-16T12:24:18.625Z"
   },
   {
    "duration": 11,
    "start_time": "2022-07-16T12:24:46.278Z"
   },
   {
    "duration": 1565,
    "start_time": "2022-07-16T12:26:01.607Z"
   },
   {
    "duration": 3,
    "start_time": "2022-07-16T12:26:03.175Z"
   },
   {
    "duration": 246,
    "start_time": "2022-07-16T12:26:03.180Z"
   },
   {
    "duration": 27,
    "start_time": "2022-07-16T12:26:03.428Z"
   },
   {
    "duration": 41,
    "start_time": "2022-07-16T12:26:03.462Z"
   },
   {
    "duration": 20,
    "start_time": "2022-07-16T12:26:03.505Z"
   },
   {
    "duration": 205,
    "start_time": "2022-07-16T12:26:03.527Z"
   },
   {
    "duration": 33,
    "start_time": "2022-07-16T12:26:03.733Z"
   },
   {
    "duration": 24,
    "start_time": "2022-07-16T12:26:03.768Z"
   },
   {
    "duration": 12,
    "start_time": "2022-07-16T12:26:03.793Z"
   },
   {
    "duration": 22,
    "start_time": "2022-07-16T12:26:03.807Z"
   },
   {
    "duration": 93,
    "start_time": "2022-07-16T12:26:03.831Z"
   },
   {
    "duration": 14,
    "start_time": "2022-07-16T12:26:03.926Z"
   },
   {
    "duration": 57,
    "start_time": "2022-07-16T12:26:03.945Z"
   },
   {
    "duration": 60,
    "start_time": "2022-07-16T12:26:04.004Z"
   },
   {
    "duration": 33,
    "start_time": "2022-07-16T12:26:04.066Z"
   },
   {
    "duration": 66,
    "start_time": "2022-07-16T12:26:04.101Z"
   },
   {
    "duration": 25,
    "start_time": "2022-07-16T12:26:04.170Z"
   },
   {
    "duration": 64,
    "start_time": "2022-07-16T12:26:04.197Z"
   },
   {
    "duration": 23,
    "start_time": "2022-07-16T12:26:04.263Z"
   },
   {
    "duration": 85,
    "start_time": "2022-07-16T12:26:04.288Z"
   },
   {
    "duration": 29,
    "start_time": "2022-07-16T12:26:04.375Z"
   },
   {
    "duration": 42,
    "start_time": "2022-07-16T12:26:04.444Z"
   },
   {
    "duration": 61,
    "start_time": "2022-07-16T12:26:04.488Z"
   },
   {
    "duration": 416,
    "start_time": "2022-07-16T12:26:04.551Z"
   },
   {
    "duration": 11,
    "start_time": "2022-07-16T12:26:04.969Z"
   },
   {
    "duration": 806,
    "start_time": "2022-07-16T12:26:04.982Z"
   },
   {
    "duration": 13,
    "start_time": "2022-07-16T12:26:05.848Z"
   },
   {
    "duration": 25,
    "start_time": "2022-07-16T12:26:05.871Z"
   },
   {
    "duration": 64,
    "start_time": "2022-07-16T12:26:05.897Z"
   },
   {
    "duration": 121,
    "start_time": "2022-07-16T12:26:05.963Z"
   },
   {
    "duration": 59,
    "start_time": "2022-07-16T12:26:06.086Z"
   },
   {
    "duration": 11,
    "start_time": "2022-07-16T12:26:06.147Z"
   },
   {
    "duration": 35,
    "start_time": "2022-07-16T12:26:06.160Z"
   },
   {
    "duration": 83,
    "start_time": "2022-07-16T12:26:06.197Z"
   },
   {
    "duration": 9,
    "start_time": "2022-07-16T12:26:06.283Z"
   },
   {
    "duration": 67,
    "start_time": "2022-07-16T12:26:06.294Z"
   },
   {
    "duration": 23,
    "start_time": "2022-07-16T12:26:06.368Z"
   },
   {
    "duration": 489,
    "start_time": "2022-07-16T12:26:06.393Z"
   },
   {
    "duration": 12,
    "start_time": "2022-07-16T12:26:06.884Z"
   },
   {
    "duration": 5,
    "start_time": "2022-07-16T12:26:06.900Z"
   },
   {
    "duration": 17,
    "start_time": "2022-07-16T12:26:06.907Z"
   },
   {
    "duration": 47,
    "start_time": "2022-07-16T12:26:06.940Z"
   },
   {
    "duration": 18,
    "start_time": "2022-07-16T12:26:06.989Z"
   },
   {
    "duration": 11,
    "start_time": "2022-07-16T12:26:07.008Z"
   },
   {
    "duration": 37,
    "start_time": "2022-07-16T12:26:07.021Z"
   },
   {
    "duration": 33,
    "start_time": "2022-07-16T12:26:07.061Z"
   },
   {
    "duration": 16,
    "start_time": "2022-07-16T12:26:07.095Z"
   },
   {
    "duration": 9,
    "start_time": "2022-07-16T12:26:07.113Z"
   },
   {
    "duration": 53,
    "start_time": "2022-07-16T12:26:07.123Z"
   },
   {
    "duration": 13,
    "start_time": "2022-07-16T12:26:07.178Z"
   },
   {
    "duration": 7,
    "start_time": "2022-07-16T12:26:07.193Z"
   },
   {
    "duration": 10,
    "start_time": "2022-07-16T12:26:07.202Z"
   },
   {
    "duration": 61,
    "start_time": "2022-07-16T12:26:07.214Z"
   },
   {
    "duration": 1636,
    "start_time": "2022-07-16T12:27:11.700Z"
   },
   {
    "duration": 14,
    "start_time": "2022-07-16T12:27:13.338Z"
   },
   {
    "duration": 238,
    "start_time": "2022-07-16T12:27:13.362Z"
   },
   {
    "duration": 13,
    "start_time": "2022-07-16T12:27:13.602Z"
   },
   {
    "duration": 16,
    "start_time": "2022-07-16T12:27:13.617Z"
   },
   {
    "duration": 22,
    "start_time": "2022-07-16T12:27:13.635Z"
   },
   {
    "duration": 205,
    "start_time": "2022-07-16T12:27:13.659Z"
   },
   {
    "duration": 10,
    "start_time": "2022-07-16T12:27:13.870Z"
   },
   {
    "duration": 15,
    "start_time": "2022-07-16T12:27:13.882Z"
   },
   {
    "duration": 11,
    "start_time": "2022-07-16T12:27:13.899Z"
   },
   {
    "duration": 33,
    "start_time": "2022-07-16T12:27:13.912Z"
   },
   {
    "duration": 85,
    "start_time": "2022-07-16T12:27:13.947Z"
   },
   {
    "duration": 16,
    "start_time": "2022-07-16T12:27:14.034Z"
   },
   {
    "duration": 29,
    "start_time": "2022-07-16T12:27:14.056Z"
   },
   {
    "duration": 17,
    "start_time": "2022-07-16T12:27:14.087Z"
   },
   {
    "duration": 14,
    "start_time": "2022-07-16T12:27:14.106Z"
   },
   {
    "duration": 16,
    "start_time": "2022-07-16T12:27:14.122Z"
   },
   {
    "duration": 29,
    "start_time": "2022-07-16T12:27:14.147Z"
   },
   {
    "duration": 52,
    "start_time": "2022-07-16T12:27:14.179Z"
   },
   {
    "duration": 46,
    "start_time": "2022-07-16T12:27:14.233Z"
   },
   {
    "duration": 15,
    "start_time": "2022-07-16T12:27:14.281Z"
   },
   {
    "duration": 12,
    "start_time": "2022-07-16T12:27:14.298Z"
   },
   {
    "duration": 18,
    "start_time": "2022-07-16T12:27:14.312Z"
   },
   {
    "duration": 41,
    "start_time": "2022-07-16T12:27:14.332Z"
   },
   {
    "duration": 210,
    "start_time": "2022-07-16T12:27:14.379Z"
   },
   {
    "duration": 10,
    "start_time": "2022-07-16T12:27:14.592Z"
   },
   {
    "duration": 368,
    "start_time": "2022-07-16T12:27:14.604Z"
   },
   {
    "duration": 12,
    "start_time": "2022-07-16T12:27:14.974Z"
   },
   {
    "duration": 10,
    "start_time": "2022-07-16T12:27:14.988Z"
   },
   {
    "duration": 16,
    "start_time": "2022-07-16T12:27:15.000Z"
   },
   {
    "duration": 71,
    "start_time": "2022-07-16T12:27:15.017Z"
   },
   {
    "duration": 13,
    "start_time": "2022-07-16T12:27:15.091Z"
   },
   {
    "duration": 16,
    "start_time": "2022-07-16T12:27:15.106Z"
   },
   {
    "duration": 58,
    "start_time": "2022-07-16T12:27:15.124Z"
   },
   {
    "duration": 18,
    "start_time": "2022-07-16T12:27:15.184Z"
   },
   {
    "duration": 22,
    "start_time": "2022-07-16T12:27:15.206Z"
   },
   {
    "duration": 53,
    "start_time": "2022-07-16T12:27:15.231Z"
   },
   {
    "duration": 79,
    "start_time": "2022-07-16T12:27:15.286Z"
   },
   {
    "duration": 1117,
    "start_time": "2022-07-16T12:27:15.367Z"
   },
   {
    "duration": 77,
    "start_time": "2022-07-16T12:27:16.486Z"
   },
   {
    "duration": 5,
    "start_time": "2022-07-16T12:27:16.576Z"
   },
   {
    "duration": 17,
    "start_time": "2022-07-16T12:27:16.583Z"
   },
   {
    "duration": 32,
    "start_time": "2022-07-16T12:27:16.646Z"
   },
   {
    "duration": 68,
    "start_time": "2022-07-16T12:27:16.680Z"
   },
   {
    "duration": 32,
    "start_time": "2022-07-16T12:27:16.750Z"
   },
   {
    "duration": 62,
    "start_time": "2022-07-16T12:27:16.785Z"
   },
   {
    "duration": 96,
    "start_time": "2022-07-16T12:27:16.850Z"
   },
   {
    "duration": 35,
    "start_time": "2022-07-16T12:27:16.948Z"
   },
   {
    "duration": 62,
    "start_time": "2022-07-16T12:27:16.986Z"
   },
   {
    "duration": 135,
    "start_time": "2022-07-16T12:27:17.051Z"
   },
   {
    "duration": 79,
    "start_time": "2022-07-16T12:27:17.188Z"
   },
   {
    "duration": 14,
    "start_time": "2022-07-16T12:27:17.273Z"
   },
   {
    "duration": 17,
    "start_time": "2022-07-16T12:27:17.289Z"
   },
   {
    "duration": 65,
    "start_time": "2022-07-16T12:27:17.308Z"
   },
   {
    "duration": 1806,
    "start_time": "2022-07-16T12:28:33.826Z"
   },
   {
    "duration": 3,
    "start_time": "2022-07-16T12:28:35.634Z"
   },
   {
    "duration": 304,
    "start_time": "2022-07-16T12:28:35.638Z"
   },
   {
    "duration": 20,
    "start_time": "2022-07-16T12:28:35.947Z"
   },
   {
    "duration": 37,
    "start_time": "2022-07-16T12:28:35.970Z"
   },
   {
    "duration": 22,
    "start_time": "2022-07-16T12:28:36.009Z"
   },
   {
    "duration": 219,
    "start_time": "2022-07-16T12:28:36.033Z"
   },
   {
    "duration": 13,
    "start_time": "2022-07-16T12:28:36.254Z"
   },
   {
    "duration": 39,
    "start_time": "2022-07-16T12:28:36.270Z"
   },
   {
    "duration": 13,
    "start_time": "2022-07-16T12:28:36.310Z"
   },
   {
    "duration": 27,
    "start_time": "2022-07-16T12:28:36.325Z"
   },
   {
    "duration": 110,
    "start_time": "2022-07-16T12:28:36.354Z"
   },
   {
    "duration": 16,
    "start_time": "2022-07-16T12:28:36.466Z"
   },
   {
    "duration": 16,
    "start_time": "2022-07-16T12:28:36.485Z"
   },
   {
    "duration": 24,
    "start_time": "2022-07-16T12:28:36.503Z"
   },
   {
    "duration": 22,
    "start_time": "2022-07-16T12:28:36.530Z"
   },
   {
    "duration": 41,
    "start_time": "2022-07-16T12:28:36.557Z"
   },
   {
    "duration": 15,
    "start_time": "2022-07-16T12:28:36.600Z"
   },
   {
    "duration": 24,
    "start_time": "2022-07-16T12:28:36.617Z"
   },
   {
    "duration": 13,
    "start_time": "2022-07-16T12:28:36.648Z"
   },
   {
    "duration": 43,
    "start_time": "2022-07-16T12:28:36.663Z"
   },
   {
    "duration": 8,
    "start_time": "2022-07-16T12:28:36.708Z"
   },
   {
    "duration": 13,
    "start_time": "2022-07-16T12:28:36.717Z"
   },
   {
    "duration": 26,
    "start_time": "2022-07-16T12:28:36.731Z"
   },
   {
    "duration": 235,
    "start_time": "2022-07-16T12:28:36.758Z"
   },
   {
    "duration": 10,
    "start_time": "2022-07-16T12:28:36.995Z"
   },
   {
    "duration": 842,
    "start_time": "2022-07-16T12:28:37.007Z"
   },
   {
    "duration": 15,
    "start_time": "2022-07-16T12:28:37.852Z"
   },
   {
    "duration": 47,
    "start_time": "2022-07-16T12:28:37.869Z"
   },
   {
    "duration": 68,
    "start_time": "2022-07-16T12:28:37.942Z"
   },
   {
    "duration": 118,
    "start_time": "2022-07-16T12:28:38.040Z"
   },
   {
    "duration": 20,
    "start_time": "2022-07-16T12:28:38.160Z"
   },
   {
    "duration": 70,
    "start_time": "2022-07-16T12:28:38.182Z"
   },
   {
    "duration": 92,
    "start_time": "2022-07-16T12:28:38.254Z"
   },
   {
    "duration": 96,
    "start_time": "2022-07-16T12:28:38.348Z"
   },
   {
    "duration": 64,
    "start_time": "2022-07-16T12:28:38.448Z"
   },
   {
    "duration": 42,
    "start_time": "2022-07-16T12:28:38.515Z"
   },
   {
    "duration": 107,
    "start_time": "2022-07-16T12:28:38.560Z"
   },
   {
    "duration": 946,
    "start_time": "2022-07-16T12:28:38.669Z"
   },
   {
    "duration": 12,
    "start_time": "2022-07-16T12:28:39.617Z"
   },
   {
    "duration": 6,
    "start_time": "2022-07-16T12:28:39.644Z"
   },
   {
    "duration": 52,
    "start_time": "2022-07-16T12:28:39.652Z"
   },
   {
    "duration": 17,
    "start_time": "2022-07-16T12:28:39.706Z"
   },
   {
    "duration": 23,
    "start_time": "2022-07-16T12:28:39.726Z"
   },
   {
    "duration": 5,
    "start_time": "2022-07-16T12:28:39.751Z"
   },
   {
    "duration": 46,
    "start_time": "2022-07-16T12:28:39.758Z"
   },
   {
    "duration": 18,
    "start_time": "2022-07-16T12:28:39.807Z"
   },
   {
    "duration": 23,
    "start_time": "2022-07-16T12:28:39.826Z"
   },
   {
    "duration": 10,
    "start_time": "2022-07-16T12:28:39.852Z"
   },
   {
    "duration": 65,
    "start_time": "2022-07-16T12:28:39.867Z"
   },
   {
    "duration": 18,
    "start_time": "2022-07-16T12:28:39.933Z"
   },
   {
    "duration": 40,
    "start_time": "2022-07-16T12:28:39.953Z"
   },
   {
    "duration": 7,
    "start_time": "2022-07-16T12:28:39.995Z"
   },
   {
    "duration": 13,
    "start_time": "2022-07-16T12:28:40.004Z"
   },
   {
    "duration": 51,
    "start_time": "2022-07-16T12:28:40.019Z"
   },
   {
    "duration": 21,
    "start_time": "2022-07-16T12:29:18.280Z"
   },
   {
    "duration": 8,
    "start_time": "2022-07-16T12:33:36.107Z"
   },
   {
    "duration": 13,
    "start_time": "2022-07-16T12:33:37.070Z"
   },
   {
    "duration": 4,
    "start_time": "2022-07-16T12:35:15.231Z"
   },
   {
    "duration": 12,
    "start_time": "2022-07-16T12:35:22.388Z"
   },
   {
    "duration": 10,
    "start_time": "2022-07-16T12:38:29.070Z"
   },
   {
    "duration": 6,
    "start_time": "2022-07-16T12:44:22.477Z"
   },
   {
    "duration": 10,
    "start_time": "2022-07-16T12:45:22.196Z"
   },
   {
    "duration": 10,
    "start_time": "2022-07-16T12:51:28.734Z"
   },
   {
    "duration": 157,
    "start_time": "2022-07-16T12:55:35.016Z"
   },
   {
    "duration": 6,
    "start_time": "2022-07-16T12:56:06.230Z"
   },
   {
    "duration": 5,
    "start_time": "2022-07-16T12:56:09.687Z"
   },
   {
    "duration": 5,
    "start_time": "2022-07-16T12:57:03.274Z"
   },
   {
    "duration": 3,
    "start_time": "2022-07-16T12:59:26.363Z"
   },
   {
    "duration": 304,
    "start_time": "2022-07-16T13:00:21.976Z"
   },
   {
    "duration": 169,
    "start_time": "2022-07-16T13:00:40.296Z"
   },
   {
    "duration": 12,
    "start_time": "2022-07-16T13:03:22.786Z"
   },
   {
    "duration": 2763,
    "start_time": "2022-07-16T13:03:41.691Z"
   },
   {
    "duration": 5,
    "start_time": "2022-07-16T13:05:17.678Z"
   },
   {
    "duration": 5867,
    "start_time": "2022-07-16T13:06:12.172Z"
   },
   {
    "duration": 13,
    "start_time": "2022-07-16T13:10:47.990Z"
   },
   {
    "duration": 5,
    "start_time": "2022-07-16T13:11:41.414Z"
   },
   {
    "duration": 272,
    "start_time": "2022-07-16T13:11:53.631Z"
   },
   {
    "duration": 18,
    "start_time": "2022-07-16T13:12:11.366Z"
   },
   {
    "duration": 302,
    "start_time": "2022-07-16T13:13:11.167Z"
   },
   {
    "duration": 3,
    "start_time": "2022-07-16T13:16:26.635Z"
   },
   {
    "duration": 91807,
    "start_time": "2022-07-16T13:17:32.717Z"
   },
   {
    "duration": 2,
    "start_time": "2022-07-16T13:20:17.086Z"
   },
   {
    "duration": 43,
    "start_time": "2022-07-16T13:21:44.145Z"
   },
   {
    "duration": 3,
    "start_time": "2022-07-16T13:22:16.528Z"
   },
   {
    "duration": 1507,
    "start_time": "2022-07-16T13:22:18.109Z"
   },
   {
    "duration": 4,
    "start_time": "2022-07-16T13:26:12.375Z"
   },
   {
    "duration": 2156,
    "start_time": "2022-07-16T13:26:13.472Z"
   },
   {
    "duration": 3,
    "start_time": "2022-07-16T13:26:21.778Z"
   },
   {
    "duration": 1486,
    "start_time": "2022-07-16T13:26:22.543Z"
   },
   {
    "duration": 4,
    "start_time": "2022-07-16T13:26:34.572Z"
   },
   {
    "duration": 1490,
    "start_time": "2022-07-16T13:26:35.321Z"
   },
   {
    "duration": 3,
    "start_time": "2022-07-16T13:27:36.817Z"
   },
   {
    "duration": 102195,
    "start_time": "2022-07-16T13:28:20.927Z"
   },
   {
    "duration": 3,
    "start_time": "2022-07-16T13:30:13.569Z"
   },
   {
    "duration": 65879,
    "start_time": "2022-07-16T13:30:14.738Z"
   },
   {
    "duration": 4,
    "start_time": "2022-07-16T13:31:44.226Z"
   },
   {
    "duration": 55584,
    "start_time": "2022-07-16T13:31:46.787Z"
   },
   {
    "duration": 0,
    "start_time": "2022-07-16T13:32:42.373Z"
   },
   {
    "duration": 3,
    "start_time": "2022-07-16T13:32:50.627Z"
   },
   {
    "duration": 750757,
    "start_time": "2022-07-16T13:33:06.865Z"
   },
   {
    "duration": 3,
    "start_time": "2022-07-16T13:46:06.371Z"
   },
   {
    "duration": 165660,
    "start_time": "2022-07-16T13:46:09.563Z"
   },
   {
    "duration": 3,
    "start_time": "2022-07-16T13:49:02.707Z"
   },
   {
    "duration": 170,
    "start_time": "2022-07-16T13:49:03.786Z"
   },
   {
    "duration": 30,
    "start_time": "2022-07-16T13:49:39.712Z"
   },
   {
    "duration": 2941,
    "start_time": "2022-07-16T13:50:04.699Z"
   },
   {
    "duration": 3753,
    "start_time": "2022-07-16T13:51:32.200Z"
   },
   {
    "duration": 2486,
    "start_time": "2022-07-16T13:51:50.076Z"
   },
   {
    "duration": 3125,
    "start_time": "2022-07-16T13:52:40.924Z"
   },
   {
    "duration": 6,
    "start_time": "2022-07-16T13:53:17.767Z"
   },
   {
    "duration": 3,
    "start_time": "2022-07-16T13:54:53.691Z"
   },
   {
    "duration": 4,
    "start_time": "2022-07-16T13:54:59.658Z"
   },
   {
    "duration": 50448,
    "start_time": "2022-07-16T13:55:00.926Z"
   },
   {
    "duration": 15105,
    "start_time": "2022-07-16T13:55:58.395Z"
   },
   {
    "duration": 17913,
    "start_time": "2022-07-16T13:57:50.216Z"
   },
   {
    "duration": 57360,
    "start_time": "2022-07-16T13:58:23.835Z"
   },
   {
    "duration": 60205,
    "start_time": "2022-07-16T14:03:34.834Z"
   },
   {
    "duration": 645618,
    "start_time": "2022-07-16T14:07:28.581Z"
   },
   {
    "duration": 4,
    "start_time": "2022-07-16T14:18:14.202Z"
   },
   {
    "duration": 12,
    "start_time": "2022-07-16T14:18:20.416Z"
   },
   {
    "duration": 2397,
    "start_time": "2022-07-16T14:18:27.558Z"
   },
   {
    "duration": 2154,
    "start_time": "2022-07-16T14:18:44.590Z"
   },
   {
    "duration": 2408,
    "start_time": "2022-07-16T14:19:08.222Z"
   },
   {
    "duration": 190367,
    "start_time": "2022-07-16T14:20:19.705Z"
   },
   {
    "duration": 1547,
    "start_time": "2022-07-17T04:05:42.586Z"
   },
   {
    "duration": 3,
    "start_time": "2022-07-17T04:05:44.135Z"
   },
   {
    "duration": 545,
    "start_time": "2022-07-17T04:05:44.145Z"
   },
   {
    "duration": 14,
    "start_time": "2022-07-17T04:05:44.691Z"
   },
   {
    "duration": 28,
    "start_time": "2022-07-17T04:05:44.707Z"
   },
   {
    "duration": 22,
    "start_time": "2022-07-17T04:05:44.736Z"
   },
   {
    "duration": 146,
    "start_time": "2022-07-17T04:05:44.759Z"
   },
   {
    "duration": 8,
    "start_time": "2022-07-17T04:05:44.907Z"
   },
   {
    "duration": 14,
    "start_time": "2022-07-17T04:05:44.916Z"
   },
   {
    "duration": 8,
    "start_time": "2022-07-17T04:05:44.945Z"
   },
   {
    "duration": 14,
    "start_time": "2022-07-17T04:05:44.955Z"
   },
   {
    "duration": 55,
    "start_time": "2022-07-17T04:05:44.970Z"
   },
   {
    "duration": 12,
    "start_time": "2022-07-17T04:05:45.046Z"
   },
   {
    "duration": 20,
    "start_time": "2022-07-17T04:05:45.061Z"
   },
   {
    "duration": 20,
    "start_time": "2022-07-17T04:05:45.082Z"
   },
   {
    "duration": 19,
    "start_time": "2022-07-17T04:05:45.104Z"
   },
   {
    "duration": 33,
    "start_time": "2022-07-17T04:05:45.125Z"
   },
   {
    "duration": 19,
    "start_time": "2022-07-17T04:05:45.160Z"
   },
   {
    "duration": 26,
    "start_time": "2022-07-17T04:05:45.181Z"
   },
   {
    "duration": 13,
    "start_time": "2022-07-17T04:05:45.209Z"
   },
   {
    "duration": 15,
    "start_time": "2022-07-17T04:05:45.223Z"
   },
   {
    "duration": 16,
    "start_time": "2022-07-17T04:05:45.240Z"
   },
   {
    "duration": 13,
    "start_time": "2022-07-17T04:05:45.258Z"
   },
   {
    "duration": 17,
    "start_time": "2022-07-17T04:05:45.273Z"
   },
   {
    "duration": 143,
    "start_time": "2022-07-17T04:05:45.292Z"
   },
   {
    "duration": 15,
    "start_time": "2022-07-17T04:05:45.437Z"
   },
   {
    "duration": 297,
    "start_time": "2022-07-17T04:05:45.454Z"
   },
   {
    "duration": 11,
    "start_time": "2022-07-17T04:05:45.753Z"
   },
   {
    "duration": 13,
    "start_time": "2022-07-17T04:05:45.766Z"
   },
   {
    "duration": 11,
    "start_time": "2022-07-17T04:05:45.781Z"
   },
   {
    "duration": 34,
    "start_time": "2022-07-17T04:05:45.794Z"
   },
   {
    "duration": 11,
    "start_time": "2022-07-17T04:05:45.846Z"
   },
   {
    "duration": 9,
    "start_time": "2022-07-17T04:05:45.859Z"
   },
   {
    "duration": 23,
    "start_time": "2022-07-17T04:05:45.870Z"
   },
   {
    "duration": 23,
    "start_time": "2022-07-17T04:05:45.895Z"
   },
   {
    "duration": 7,
    "start_time": "2022-07-17T04:05:45.920Z"
   },
   {
    "duration": 16,
    "start_time": "2022-07-17T04:05:45.929Z"
   },
   {
    "duration": 29,
    "start_time": "2022-07-17T04:05:45.946Z"
   },
   {
    "duration": 394,
    "start_time": "2022-07-17T04:05:45.976Z"
   },
   {
    "duration": 10,
    "start_time": "2022-07-17T04:05:46.372Z"
   },
   {
    "duration": 19,
    "start_time": "2022-07-17T04:05:46.387Z"
   },
   {
    "duration": 5,
    "start_time": "2022-07-17T04:05:46.407Z"
   },
   {
    "duration": 38,
    "start_time": "2022-07-17T04:05:46.414Z"
   },
   {
    "duration": 21,
    "start_time": "2022-07-17T04:05:46.454Z"
   },
   {
    "duration": 13,
    "start_time": "2022-07-17T04:05:46.477Z"
   },
   {
    "duration": 4,
    "start_time": "2022-07-17T04:05:46.492Z"
   },
   {
    "duration": 17,
    "start_time": "2022-07-17T04:05:46.498Z"
   },
   {
    "duration": 32,
    "start_time": "2022-07-17T04:05:46.516Z"
   },
   {
    "duration": 12,
    "start_time": "2022-07-17T04:05:46.550Z"
   },
   {
    "duration": 7,
    "start_time": "2022-07-17T04:05:46.564Z"
   },
   {
    "duration": 45,
    "start_time": "2022-07-17T04:05:46.573Z"
   },
   {
    "duration": 3,
    "start_time": "2022-07-17T04:05:46.620Z"
   },
   {
    "duration": 23,
    "start_time": "2022-07-17T04:05:46.625Z"
   },
   {
    "duration": 9,
    "start_time": "2022-07-17T04:05:46.649Z"
   },
   {
    "duration": 25,
    "start_time": "2022-07-17T04:05:46.659Z"
   },
   {
    "duration": 11,
    "start_time": "2022-07-17T04:05:46.686Z"
   },
   {
    "duration": 6,
    "start_time": "2022-07-17T04:05:46.699Z"
   },
   {
    "duration": 3,
    "start_time": "2022-07-17T04:05:46.706Z"
   },
   {
    "duration": 36,
    "start_time": "2022-07-17T04:05:46.711Z"
   },
   {
    "duration": 24,
    "start_time": "2022-07-17T04:05:46.748Z"
   },
   {
    "duration": 6,
    "start_time": "2022-07-17T04:05:46.774Z"
   },
   {
    "duration": 20,
    "start_time": "2022-07-17T04:05:46.781Z"
   },
   {
    "duration": 12,
    "start_time": "2022-07-17T04:05:46.802Z"
   },
   {
    "duration": 1940,
    "start_time": "2022-07-17T04:05:46.815Z"
   },
   {
    "duration": 93,
    "start_time": "2022-07-17T04:05:48.757Z"
   },
   {
    "duration": 437,
    "start_time": "2022-07-17T04:05:48.947Z"
   },
   {
    "duration": 3,
    "start_time": "2022-07-17T04:05:49.386Z"
   },
   {
    "duration": 49602,
    "start_time": "2022-07-17T04:05:49.391Z"
   },
   {
    "duration": 3,
    "start_time": "2022-07-17T04:06:38.995Z"
   },
   {
    "duration": 37613,
    "start_time": "2022-07-17T04:06:39.000Z"
   },
   {
    "duration": 108,
    "start_time": "2022-07-17T04:07:16.614Z"
   },
   {
    "duration": 0,
    "start_time": "2022-07-17T04:07:16.724Z"
   },
   {
    "duration": 38599,
    "start_time": "2022-07-17T04:12:14.084Z"
   },
   {
    "duration": 43267,
    "start_time": "2022-07-17T04:13:34.982Z"
   },
   {
    "duration": 38067,
    "start_time": "2022-07-17T04:14:37.581Z"
   },
   {
    "duration": 17,
    "start_time": "2022-07-17T04:15:29.962Z"
   },
   {
    "duration": 12,
    "start_time": "2022-07-17T04:16:20.289Z"
   },
   {
    "duration": 13151,
    "start_time": "2022-07-17T04:17:17.244Z"
   },
   {
    "duration": 3,
    "start_time": "2022-07-17T04:17:31.554Z"
   },
   {
    "duration": 20280,
    "start_time": "2022-07-17T04:17:36.775Z"
   },
   {
    "duration": 3,
    "start_time": "2022-07-17T04:17:59.852Z"
   },
   {
    "duration": 56637,
    "start_time": "2022-07-17T04:18:00.896Z"
   },
   {
    "duration": 2275,
    "start_time": "2022-07-17T04:19:07.623Z"
   },
   {
    "duration": 3162,
    "start_time": "2022-07-17T04:20:32.386Z"
   },
   {
    "duration": 2852,
    "start_time": "2022-07-17T04:20:57.395Z"
   },
   {
    "duration": 2268,
    "start_time": "2022-07-17T04:21:13.479Z"
   },
   {
    "duration": 2322,
    "start_time": "2022-07-17T04:23:35.515Z"
   },
   {
    "duration": 2392,
    "start_time": "2022-07-17T04:24:01.864Z"
   },
   {
    "duration": 2286,
    "start_time": "2022-07-17T04:24:31.769Z"
   },
   {
    "duration": 1399,
    "start_time": "2022-07-17T04:30:03.063Z"
   },
   {
    "duration": 2,
    "start_time": "2022-07-17T04:30:04.464Z"
   },
   {
    "duration": 212,
    "start_time": "2022-07-17T04:30:04.467Z"
   },
   {
    "duration": 13,
    "start_time": "2022-07-17T04:30:04.680Z"
   },
   {
    "duration": 12,
    "start_time": "2022-07-17T04:30:04.695Z"
   },
   {
    "duration": 18,
    "start_time": "2022-07-17T04:30:04.709Z"
   },
   {
    "duration": 146,
    "start_time": "2022-07-17T04:30:04.729Z"
   },
   {
    "duration": 8,
    "start_time": "2022-07-17T04:30:04.876Z"
   },
   {
    "duration": 11,
    "start_time": "2022-07-17T04:30:04.885Z"
   },
   {
    "duration": 8,
    "start_time": "2022-07-17T04:30:04.897Z"
   },
   {
    "duration": 16,
    "start_time": "2022-07-17T04:30:04.906Z"
   },
   {
    "duration": 50,
    "start_time": "2022-07-17T04:30:04.946Z"
   },
   {
    "duration": 12,
    "start_time": "2022-07-17T04:30:04.997Z"
   },
   {
    "duration": 10,
    "start_time": "2022-07-17T04:30:05.012Z"
   },
   {
    "duration": 15,
    "start_time": "2022-07-17T04:30:05.045Z"
   },
   {
    "duration": 14,
    "start_time": "2022-07-17T04:30:05.062Z"
   },
   {
    "duration": 9,
    "start_time": "2022-07-17T04:30:05.078Z"
   },
   {
    "duration": 13,
    "start_time": "2022-07-17T04:30:05.088Z"
   },
   {
    "duration": 18,
    "start_time": "2022-07-17T04:30:05.102Z"
   },
   {
    "duration": 26,
    "start_time": "2022-07-17T04:30:05.122Z"
   },
   {
    "duration": 18,
    "start_time": "2022-07-17T04:30:05.150Z"
   },
   {
    "duration": 10,
    "start_time": "2022-07-17T04:30:05.169Z"
   },
   {
    "duration": 8,
    "start_time": "2022-07-17T04:30:05.180Z"
   },
   {
    "duration": 16,
    "start_time": "2022-07-17T04:30:05.190Z"
   },
   {
    "duration": 158,
    "start_time": "2022-07-17T04:30:05.208Z"
   },
   {
    "duration": 8,
    "start_time": "2022-07-17T04:30:05.367Z"
   },
   {
    "duration": 295,
    "start_time": "2022-07-17T04:30:05.376Z"
   },
   {
    "duration": 11,
    "start_time": "2022-07-17T04:30:05.672Z"
   },
   {
    "duration": 9,
    "start_time": "2022-07-17T04:30:05.684Z"
   },
   {
    "duration": 13,
    "start_time": "2022-07-17T04:30:05.695Z"
   },
   {
    "duration": 54,
    "start_time": "2022-07-17T04:30:05.710Z"
   },
   {
    "duration": 10,
    "start_time": "2022-07-17T04:30:05.766Z"
   },
   {
    "duration": 8,
    "start_time": "2022-07-17T04:30:05.778Z"
   },
   {
    "duration": 14,
    "start_time": "2022-07-17T04:30:05.787Z"
   },
   {
    "duration": 13,
    "start_time": "2022-07-17T04:30:05.803Z"
   },
   {
    "duration": 29,
    "start_time": "2022-07-17T04:30:05.818Z"
   },
   {
    "duration": 8,
    "start_time": "2022-07-17T04:30:05.848Z"
   },
   {
    "duration": 22,
    "start_time": "2022-07-17T04:30:05.858Z"
   },
   {
    "duration": 400,
    "start_time": "2022-07-17T04:30:05.882Z"
   },
   {
    "duration": 10,
    "start_time": "2022-07-17T04:30:06.284Z"
   },
   {
    "duration": 25,
    "start_time": "2022-07-17T04:30:06.297Z"
   },
   {
    "duration": 5,
    "start_time": "2022-07-17T04:30:06.324Z"
   },
   {
    "duration": 29,
    "start_time": "2022-07-17T04:30:06.330Z"
   },
   {
    "duration": 19,
    "start_time": "2022-07-17T04:30:06.360Z"
   },
   {
    "duration": 13,
    "start_time": "2022-07-17T04:30:06.380Z"
   },
   {
    "duration": 4,
    "start_time": "2022-07-17T04:30:06.394Z"
   },
   {
    "duration": 14,
    "start_time": "2022-07-17T04:30:06.399Z"
   },
   {
    "duration": 31,
    "start_time": "2022-07-17T04:30:06.415Z"
   },
   {
    "duration": 14,
    "start_time": "2022-07-17T04:30:06.448Z"
   },
   {
    "duration": 7,
    "start_time": "2022-07-17T04:30:06.464Z"
   },
   {
    "duration": 55,
    "start_time": "2022-07-17T04:30:06.473Z"
   },
   {
    "duration": 18,
    "start_time": "2022-07-17T04:30:06.530Z"
   },
   {
    "duration": 6,
    "start_time": "2022-07-17T04:30:06.550Z"
   },
   {
    "duration": 7,
    "start_time": "2022-07-17T04:30:06.557Z"
   },
   {
    "duration": 26,
    "start_time": "2022-07-17T04:30:06.565Z"
   },
   {
    "duration": 13,
    "start_time": "2022-07-17T04:30:06.593Z"
   },
   {
    "duration": 7,
    "start_time": "2022-07-17T04:30:06.608Z"
   },
   {
    "duration": 3,
    "start_time": "2022-07-17T04:30:06.617Z"
   },
   {
    "duration": 30,
    "start_time": "2022-07-17T04:30:06.621Z"
   },
   {
    "duration": 13,
    "start_time": "2022-07-17T04:30:06.653Z"
   },
   {
    "duration": 5,
    "start_time": "2022-07-17T04:30:06.668Z"
   },
   {
    "duration": 12,
    "start_time": "2022-07-17T04:30:06.675Z"
   },
   {
    "duration": 4,
    "start_time": "2022-07-17T04:30:06.689Z"
   },
   {
    "duration": 1654,
    "start_time": "2022-07-17T04:30:06.694Z"
   },
   {
    "duration": 93,
    "start_time": "2022-07-17T04:30:08.353Z"
   },
   {
    "duration": 469,
    "start_time": "2022-07-17T04:30:08.448Z"
   },
   {
    "duration": 5,
    "start_time": "2022-07-17T04:30:08.918Z"
   },
   {
    "duration": 50775,
    "start_time": "2022-07-17T04:30:08.925Z"
   },
   {
    "duration": 3,
    "start_time": "2022-07-17T04:30:59.702Z"
   },
   {
    "duration": 56998,
    "start_time": "2022-07-17T04:30:59.706Z"
   },
   {
    "duration": 11,
    "start_time": "2022-07-17T04:31:56.706Z"
   },
   {
    "duration": 1273,
    "start_time": "2022-07-17T04:31:56.718Z"
   },
   {
    "duration": 1366,
    "start_time": "2022-07-17T04:32:56.854Z"
   },
   {
    "duration": 3,
    "start_time": "2022-07-17T04:32:58.223Z"
   },
   {
    "duration": 203,
    "start_time": "2022-07-17T04:32:58.227Z"
   },
   {
    "duration": 12,
    "start_time": "2022-07-17T04:32:58.432Z"
   },
   {
    "duration": 20,
    "start_time": "2022-07-17T04:32:58.446Z"
   },
   {
    "duration": 18,
    "start_time": "2022-07-17T04:32:58.467Z"
   },
   {
    "duration": 147,
    "start_time": "2022-07-17T04:32:58.487Z"
   },
   {
    "duration": 15,
    "start_time": "2022-07-17T04:32:58.636Z"
   },
   {
    "duration": 10,
    "start_time": "2022-07-17T04:32:58.652Z"
   },
   {
    "duration": 8,
    "start_time": "2022-07-17T04:32:58.664Z"
   },
   {
    "duration": 14,
    "start_time": "2022-07-17T04:32:58.674Z"
   },
   {
    "duration": 68,
    "start_time": "2022-07-17T04:32:58.690Z"
   },
   {
    "duration": 12,
    "start_time": "2022-07-17T04:32:58.759Z"
   },
   {
    "duration": 11,
    "start_time": "2022-07-17T04:32:58.772Z"
   },
   {
    "duration": 15,
    "start_time": "2022-07-17T04:32:58.784Z"
   },
   {
    "duration": 11,
    "start_time": "2022-07-17T04:32:58.801Z"
   },
   {
    "duration": 33,
    "start_time": "2022-07-17T04:32:58.813Z"
   },
   {
    "duration": 8,
    "start_time": "2022-07-17T04:32:58.848Z"
   },
   {
    "duration": 18,
    "start_time": "2022-07-17T04:32:58.858Z"
   },
   {
    "duration": 13,
    "start_time": "2022-07-17T04:32:58.878Z"
   },
   {
    "duration": 23,
    "start_time": "2022-07-17T04:32:58.893Z"
   },
   {
    "duration": 30,
    "start_time": "2022-07-17T04:32:58.919Z"
   },
   {
    "duration": 10,
    "start_time": "2022-07-17T04:32:58.951Z"
   },
   {
    "duration": 24,
    "start_time": "2022-07-17T04:32:58.963Z"
   },
   {
    "duration": 177,
    "start_time": "2022-07-17T04:32:58.989Z"
   },
   {
    "duration": 8,
    "start_time": "2022-07-17T04:32:59.168Z"
   },
   {
    "duration": 275,
    "start_time": "2022-07-17T04:32:59.177Z"
   },
   {
    "duration": 11,
    "start_time": "2022-07-17T04:32:59.456Z"
   },
   {
    "duration": 14,
    "start_time": "2022-07-17T04:32:59.469Z"
   },
   {
    "duration": 15,
    "start_time": "2022-07-17T04:32:59.484Z"
   },
   {
    "duration": 49,
    "start_time": "2022-07-17T04:32:59.501Z"
   },
   {
    "duration": 10,
    "start_time": "2022-07-17T04:32:59.552Z"
   },
   {
    "duration": 17,
    "start_time": "2022-07-17T04:32:59.563Z"
   },
   {
    "duration": 21,
    "start_time": "2022-07-17T04:32:59.582Z"
   },
   {
    "duration": 14,
    "start_time": "2022-07-17T04:32:59.605Z"
   },
   {
    "duration": 6,
    "start_time": "2022-07-17T04:32:59.621Z"
   },
   {
    "duration": 6,
    "start_time": "2022-07-17T04:32:59.628Z"
   },
   {
    "duration": 19,
    "start_time": "2022-07-17T04:32:59.646Z"
   },
   {
    "duration": 385,
    "start_time": "2022-07-17T04:32:59.667Z"
   },
   {
    "duration": 10,
    "start_time": "2022-07-17T04:33:00.053Z"
   },
   {
    "duration": 22,
    "start_time": "2022-07-17T04:33:00.065Z"
   },
   {
    "duration": 4,
    "start_time": "2022-07-17T04:33:00.089Z"
   },
   {
    "duration": 14,
    "start_time": "2022-07-17T04:33:00.094Z"
   },
   {
    "duration": 17,
    "start_time": "2022-07-17T04:33:00.109Z"
   },
   {
    "duration": 28,
    "start_time": "2022-07-17T04:33:00.128Z"
   },
   {
    "duration": 17,
    "start_time": "2022-07-17T04:33:00.158Z"
   },
   {
    "duration": 17,
    "start_time": "2022-07-17T04:33:00.177Z"
   },
   {
    "duration": 17,
    "start_time": "2022-07-17T04:33:00.195Z"
   },
   {
    "duration": 13,
    "start_time": "2022-07-17T04:33:00.213Z"
   },
   {
    "duration": 18,
    "start_time": "2022-07-17T04:33:00.228Z"
   },
   {
    "duration": 39,
    "start_time": "2022-07-17T04:33:00.248Z"
   },
   {
    "duration": 4,
    "start_time": "2022-07-17T04:33:00.288Z"
   },
   {
    "duration": 15,
    "start_time": "2022-07-17T04:33:00.293Z"
   },
   {
    "duration": 6,
    "start_time": "2022-07-17T04:33:00.309Z"
   },
   {
    "duration": 36,
    "start_time": "2022-07-17T04:33:00.317Z"
   },
   {
    "duration": 14,
    "start_time": "2022-07-17T04:33:00.354Z"
   },
   {
    "duration": 6,
    "start_time": "2022-07-17T04:33:00.370Z"
   },
   {
    "duration": 8,
    "start_time": "2022-07-17T04:33:00.378Z"
   },
   {
    "duration": 45,
    "start_time": "2022-07-17T04:33:00.387Z"
   },
   {
    "duration": 20,
    "start_time": "2022-07-17T04:33:00.434Z"
   },
   {
    "duration": 8,
    "start_time": "2022-07-17T04:33:00.455Z"
   },
   {
    "duration": 20,
    "start_time": "2022-07-17T04:33:00.464Z"
   },
   {
    "duration": 6,
    "start_time": "2022-07-17T04:33:00.486Z"
   },
   {
    "duration": 2259,
    "start_time": "2022-07-17T04:33:00.493Z"
   },
   {
    "duration": 4,
    "start_time": "2022-07-17T04:33:02.845Z"
   },
   {
    "duration": 524,
    "start_time": "2022-07-17T04:33:02.851Z"
   },
   {
    "duration": 3,
    "start_time": "2022-07-17T04:33:03.376Z"
   },
   {
    "duration": 51307,
    "start_time": "2022-07-17T04:33:03.381Z"
   },
   {
    "duration": 2,
    "start_time": "2022-07-17T04:33:54.690Z"
   },
   {
    "duration": 38456,
    "start_time": "2022-07-17T04:33:54.693Z"
   },
   {
    "duration": 10,
    "start_time": "2022-07-17T04:34:33.151Z"
   },
   {
    "duration": 958,
    "start_time": "2022-07-17T04:34:33.163Z"
   },
   {
    "duration": 4,
    "start_time": "2022-07-17T04:36:05.757Z"
   },
   {
    "duration": 230,
    "start_time": "2022-07-17T04:36:41.030Z"
   },
   {
    "duration": 5,
    "start_time": "2022-07-17T04:36:59.098Z"
   },
   {
    "duration": 222,
    "start_time": "2022-07-17T04:37:00.076Z"
   },
   {
    "duration": 284,
    "start_time": "2022-07-17T04:38:44.863Z"
   },
   {
    "duration": 49,
    "start_time": "2022-07-17T04:38:57.600Z"
   },
   {
    "duration": 196,
    "start_time": "2022-07-17T04:39:15.058Z"
   },
   {
    "duration": 221,
    "start_time": "2022-07-17T04:40:19.594Z"
   },
   {
    "duration": 180,
    "start_time": "2022-07-17T04:40:25.220Z"
   },
   {
    "duration": 175,
    "start_time": "2022-07-17T04:40:31.253Z"
   },
   {
    "duration": 177,
    "start_time": "2022-07-17T04:40:35.707Z"
   },
   {
    "duration": 266,
    "start_time": "2022-07-17T04:40:38.979Z"
   },
   {
    "duration": 188,
    "start_time": "2022-07-17T04:40:43.047Z"
   },
   {
    "duration": 176,
    "start_time": "2022-07-17T04:40:49.188Z"
   },
   {
    "duration": 176,
    "start_time": "2022-07-17T04:41:25.888Z"
   },
   {
    "duration": 165,
    "start_time": "2022-07-17T04:41:45.367Z"
   },
   {
    "duration": 16,
    "start_time": "2022-07-17T04:42:42.936Z"
   },
   {
    "duration": 190,
    "start_time": "2022-07-17T04:43:18.987Z"
   },
   {
    "duration": 188,
    "start_time": "2022-07-17T04:44:18.714Z"
   },
   {
    "duration": 10,
    "start_time": "2022-07-17T04:50:52.488Z"
   },
   {
    "duration": 107,
    "start_time": "2022-07-17T04:53:12.659Z"
   },
   {
    "duration": 105,
    "start_time": "2022-07-17T04:53:30.928Z"
   },
   {
    "duration": 98,
    "start_time": "2022-07-17T04:53:46.100Z"
   },
   {
    "duration": 4,
    "start_time": "2022-07-17T04:56:56.914Z"
   },
   {
    "duration": 10,
    "start_time": "2022-07-17T04:57:08.445Z"
   },
   {
    "duration": 531,
    "start_time": "2022-07-17T04:58:23.562Z"
   },
   {
    "duration": 610,
    "start_time": "2022-07-17T04:58:42.835Z"
   },
   {
    "duration": 303,
    "start_time": "2022-07-17T05:01:30.567Z"
   },
   {
    "duration": 384,
    "start_time": "2022-07-17T05:01:37.720Z"
   },
   {
    "duration": 293,
    "start_time": "2022-07-17T05:01:42.931Z"
   },
   {
    "duration": 317,
    "start_time": "2022-07-17T05:01:47.073Z"
   },
   {
    "duration": 394,
    "start_time": "2022-07-17T05:01:52.086Z"
   },
   {
    "duration": 309,
    "start_time": "2022-07-17T05:01:59.800Z"
   },
   {
    "duration": 367,
    "start_time": "2022-07-17T05:02:04.340Z"
   },
   {
    "duration": 275,
    "start_time": "2022-07-17T05:02:46.804Z"
   },
   {
    "duration": 340,
    "start_time": "2022-07-17T05:02:55.791Z"
   },
   {
    "duration": 379,
    "start_time": "2022-07-17T05:03:39.084Z"
   },
   {
    "duration": 19,
    "start_time": "2022-07-17T05:03:51.985Z"
   },
   {
    "duration": 14,
    "start_time": "2022-07-17T05:04:10.223Z"
   },
   {
    "duration": 411,
    "start_time": "2022-07-17T05:04:23.326Z"
   },
   {
    "duration": 191,
    "start_time": "2022-07-17T05:04:52.318Z"
   },
   {
    "duration": 300,
    "start_time": "2022-07-17T05:05:09.706Z"
   },
   {
    "duration": 307,
    "start_time": "2022-07-17T05:05:13.773Z"
   },
   {
    "duration": 299,
    "start_time": "2022-07-17T05:05:21.825Z"
   },
   {
    "duration": 277,
    "start_time": "2022-07-17T05:05:27.853Z"
   },
   {
    "duration": 288,
    "start_time": "2022-07-17T05:05:45.132Z"
   },
   {
    "duration": 23,
    "start_time": "2022-07-17T05:07:02.798Z"
   },
   {
    "duration": 391,
    "start_time": "2022-07-17T05:07:26.690Z"
   },
   {
    "duration": 279,
    "start_time": "2022-07-17T05:07:49.215Z"
   },
   {
    "duration": 269,
    "start_time": "2022-07-17T05:07:55.315Z"
   },
   {
    "duration": 279,
    "start_time": "2022-07-17T05:11:57.986Z"
   },
   {
    "duration": 276,
    "start_time": "2022-07-17T05:12:25.729Z"
   },
   {
    "duration": 387,
    "start_time": "2022-07-17T05:13:28.106Z"
   },
   {
    "duration": 317,
    "start_time": "2022-07-17T05:13:33.749Z"
   },
   {
    "duration": 275,
    "start_time": "2022-07-17T05:13:41.642Z"
   },
   {
    "duration": 289,
    "start_time": "2022-07-17T05:14:04.212Z"
   },
   {
    "duration": 282,
    "start_time": "2022-07-17T05:14:09.733Z"
   },
   {
    "duration": 269,
    "start_time": "2022-07-17T05:14:13.194Z"
   },
   {
    "duration": 381,
    "start_time": "2022-07-17T05:14:52.455Z"
   },
   {
    "duration": 1398,
    "start_time": "2022-07-17T05:15:07.493Z"
   },
   {
    "duration": 4,
    "start_time": "2022-07-17T05:15:08.893Z"
   },
   {
    "duration": 244,
    "start_time": "2022-07-17T05:15:08.899Z"
   },
   {
    "duration": 16,
    "start_time": "2022-07-17T05:15:09.146Z"
   },
   {
    "duration": 16,
    "start_time": "2022-07-17T05:15:09.164Z"
   },
   {
    "duration": 22,
    "start_time": "2022-07-17T05:15:09.182Z"
   },
   {
    "duration": 179,
    "start_time": "2022-07-17T05:15:09.206Z"
   },
   {
    "duration": 10,
    "start_time": "2022-07-17T05:15:09.386Z"
   },
   {
    "duration": 14,
    "start_time": "2022-07-17T05:15:09.398Z"
   },
   {
    "duration": 10,
    "start_time": "2022-07-17T05:15:09.414Z"
   },
   {
    "duration": 31,
    "start_time": "2022-07-17T05:15:09.426Z"
   },
   {
    "duration": 60,
    "start_time": "2022-07-17T05:15:09.459Z"
   },
   {
    "duration": 27,
    "start_time": "2022-07-17T05:15:09.520Z"
   },
   {
    "duration": 24,
    "start_time": "2022-07-17T05:15:09.549Z"
   },
   {
    "duration": 21,
    "start_time": "2022-07-17T05:15:09.574Z"
   },
   {
    "duration": 14,
    "start_time": "2022-07-17T05:15:09.597Z"
   },
   {
    "duration": 15,
    "start_time": "2022-07-17T05:15:09.613Z"
   },
   {
    "duration": 14,
    "start_time": "2022-07-17T05:15:09.629Z"
   },
   {
    "duration": 18,
    "start_time": "2022-07-17T05:15:09.645Z"
   },
   {
    "duration": 8,
    "start_time": "2022-07-17T05:15:09.664Z"
   },
   {
    "duration": 10,
    "start_time": "2022-07-17T05:15:09.674Z"
   },
   {
    "duration": 10,
    "start_time": "2022-07-17T05:15:09.685Z"
   },
   {
    "duration": 17,
    "start_time": "2022-07-17T05:15:09.697Z"
   },
   {
    "duration": 44,
    "start_time": "2022-07-17T05:15:09.716Z"
   },
   {
    "duration": 148,
    "start_time": "2022-07-17T05:15:09.762Z"
   },
   {
    "duration": 8,
    "start_time": "2022-07-17T05:15:09.911Z"
   },
   {
    "duration": 307,
    "start_time": "2022-07-17T05:15:09.921Z"
   },
   {
    "duration": 18,
    "start_time": "2022-07-17T05:15:10.233Z"
   },
   {
    "duration": 11,
    "start_time": "2022-07-17T05:15:10.252Z"
   },
   {
    "duration": 13,
    "start_time": "2022-07-17T05:15:10.264Z"
   },
   {
    "duration": 38,
    "start_time": "2022-07-17T05:15:10.278Z"
   },
   {
    "duration": 28,
    "start_time": "2022-07-17T05:15:10.318Z"
   },
   {
    "duration": 10,
    "start_time": "2022-07-17T05:15:10.348Z"
   },
   {
    "duration": 19,
    "start_time": "2022-07-17T05:15:10.359Z"
   },
   {
    "duration": 21,
    "start_time": "2022-07-17T05:15:10.380Z"
   },
   {
    "duration": 16,
    "start_time": "2022-07-17T05:15:10.403Z"
   },
   {
    "duration": 9,
    "start_time": "2022-07-17T05:15:10.421Z"
   },
   {
    "duration": 31,
    "start_time": "2022-07-17T05:15:10.432Z"
   },
   {
    "duration": 396,
    "start_time": "2022-07-17T05:15:10.465Z"
   },
   {
    "duration": 11,
    "start_time": "2022-07-17T05:15:10.862Z"
   },
   {
    "duration": 26,
    "start_time": "2022-07-17T05:15:10.875Z"
   },
   {
    "duration": 5,
    "start_time": "2022-07-17T05:15:10.903Z"
   },
   {
    "duration": 11,
    "start_time": "2022-07-17T05:15:10.910Z"
   },
   {
    "duration": 35,
    "start_time": "2022-07-17T05:15:10.923Z"
   },
   {
    "duration": 16,
    "start_time": "2022-07-17T05:15:10.960Z"
   },
   {
    "duration": 4,
    "start_time": "2022-07-17T05:15:10.977Z"
   },
   {
    "duration": 25,
    "start_time": "2022-07-17T05:15:10.983Z"
   },
   {
    "duration": 19,
    "start_time": "2022-07-17T05:15:11.011Z"
   },
   {
    "duration": 25,
    "start_time": "2022-07-17T05:15:11.032Z"
   },
   {
    "duration": 8,
    "start_time": "2022-07-17T05:15:11.059Z"
   },
   {
    "duration": 46,
    "start_time": "2022-07-17T05:15:11.069Z"
   },
   {
    "duration": 5,
    "start_time": "2022-07-17T05:15:11.117Z"
   },
   {
    "duration": 24,
    "start_time": "2022-07-17T05:15:11.124Z"
   },
   {
    "duration": 8,
    "start_time": "2022-07-17T05:15:11.151Z"
   },
   {
    "duration": 33,
    "start_time": "2022-07-17T05:15:11.161Z"
   },
   {
    "duration": 13,
    "start_time": "2022-07-17T05:15:11.196Z"
   },
   {
    "duration": 7,
    "start_time": "2022-07-17T05:15:11.211Z"
   },
   {
    "duration": 4,
    "start_time": "2022-07-17T05:15:11.245Z"
   },
   {
    "duration": 21,
    "start_time": "2022-07-17T05:15:11.251Z"
   },
   {
    "duration": 29,
    "start_time": "2022-07-17T05:15:11.274Z"
   },
   {
    "duration": 7,
    "start_time": "2022-07-17T05:15:11.306Z"
   },
   {
    "duration": 14,
    "start_time": "2022-07-17T05:15:11.315Z"
   },
   {
    "duration": 5,
    "start_time": "2022-07-17T05:15:11.331Z"
   },
   {
    "duration": 1912,
    "start_time": "2022-07-17T05:15:11.338Z"
   },
   {
    "duration": 93,
    "start_time": "2022-07-17T05:15:13.253Z"
   },
   {
    "duration": 451,
    "start_time": "2022-07-17T05:15:13.348Z"
   },
   {
    "duration": 3,
    "start_time": "2022-07-17T05:15:13.801Z"
   },
   {
    "duration": 50622,
    "start_time": "2022-07-17T05:15:13.805Z"
   },
   {
    "duration": 3,
    "start_time": "2022-07-17T05:16:04.430Z"
   },
   {
    "duration": 39983,
    "start_time": "2022-07-17T05:16:04.435Z"
   },
   {
    "duration": 11,
    "start_time": "2022-07-17T05:16:44.420Z"
   },
   {
    "duration": 996,
    "start_time": "2022-07-17T05:16:44.432Z"
   },
   {
    "duration": 189,
    "start_time": "2022-07-17T05:16:45.429Z"
   },
   {
    "duration": 283,
    "start_time": "2022-07-17T05:16:45.620Z"
   },
   {
    "duration": 1432,
    "start_time": "2022-07-17T11:19:41.679Z"
   },
   {
    "duration": 3,
    "start_time": "2022-07-17T11:19:43.112Z"
   },
   {
    "duration": 204,
    "start_time": "2022-07-17T11:19:43.116Z"
   },
   {
    "duration": 13,
    "start_time": "2022-07-17T11:19:43.322Z"
   },
   {
    "duration": 12,
    "start_time": "2022-07-17T11:19:43.336Z"
   },
   {
    "duration": 17,
    "start_time": "2022-07-17T11:19:43.349Z"
   },
   {
    "duration": 141,
    "start_time": "2022-07-17T11:19:43.367Z"
   },
   {
    "duration": 10,
    "start_time": "2022-07-17T11:19:43.510Z"
   },
   {
    "duration": 10,
    "start_time": "2022-07-17T11:19:43.521Z"
   },
   {
    "duration": 30,
    "start_time": "2022-07-17T11:19:43.534Z"
   },
   {
    "duration": 14,
    "start_time": "2022-07-17T11:19:43.566Z"
   },
   {
    "duration": 51,
    "start_time": "2022-07-17T11:19:43.581Z"
   },
   {
    "duration": 11,
    "start_time": "2022-07-17T11:19:43.633Z"
   },
   {
    "duration": 7,
    "start_time": "2022-07-17T11:19:43.661Z"
   },
   {
    "duration": 15,
    "start_time": "2022-07-17T11:19:43.670Z"
   },
   {
    "duration": 11,
    "start_time": "2022-07-17T11:19:43.687Z"
   },
   {
    "duration": 9,
    "start_time": "2022-07-17T11:19:43.699Z"
   },
   {
    "duration": 8,
    "start_time": "2022-07-17T11:19:43.710Z"
   },
   {
    "duration": 41,
    "start_time": "2022-07-17T11:19:43.720Z"
   },
   {
    "duration": 7,
    "start_time": "2022-07-17T11:19:43.763Z"
   },
   {
    "duration": 10,
    "start_time": "2022-07-17T11:19:43.772Z"
   },
   {
    "duration": 7,
    "start_time": "2022-07-17T11:19:43.783Z"
   },
   {
    "duration": 8,
    "start_time": "2022-07-17T11:19:43.792Z"
   },
   {
    "duration": 17,
    "start_time": "2022-07-17T11:19:43.802Z"
   },
   {
    "duration": 167,
    "start_time": "2022-07-17T11:19:43.820Z"
   },
   {
    "duration": 8,
    "start_time": "2022-07-17T11:19:43.988Z"
   },
   {
    "duration": 267,
    "start_time": "2022-07-17T11:19:43.997Z"
   },
   {
    "duration": 10,
    "start_time": "2022-07-17T11:19:44.267Z"
   },
   {
    "duration": 9,
    "start_time": "2022-07-17T11:19:44.278Z"
   },
   {
    "duration": 12,
    "start_time": "2022-07-17T11:19:44.288Z"
   },
   {
    "duration": 32,
    "start_time": "2022-07-17T11:19:44.301Z"
   },
   {
    "duration": 28,
    "start_time": "2022-07-17T11:19:44.335Z"
   },
   {
    "duration": 12,
    "start_time": "2022-07-17T11:19:44.364Z"
   },
   {
    "duration": 12,
    "start_time": "2022-07-17T11:19:44.377Z"
   },
   {
    "duration": 11,
    "start_time": "2022-07-17T11:19:44.391Z"
   },
   {
    "duration": 8,
    "start_time": "2022-07-17T11:19:44.403Z"
   },
   {
    "duration": 6,
    "start_time": "2022-07-17T11:19:44.413Z"
   },
   {
    "duration": 21,
    "start_time": "2022-07-17T11:19:44.420Z"
   },
   {
    "duration": 12,
    "start_time": "2022-07-17T11:19:50.419Z"
   },
   {
    "duration": 1465,
    "start_time": "2022-07-17T11:20:25.948Z"
   },
   {
    "duration": 3,
    "start_time": "2022-07-17T11:20:27.415Z"
   },
   {
    "duration": 198,
    "start_time": "2022-07-17T11:20:27.419Z"
   },
   {
    "duration": 12,
    "start_time": "2022-07-17T11:20:27.619Z"
   },
   {
    "duration": 11,
    "start_time": "2022-07-17T11:20:27.634Z"
   },
   {
    "duration": 16,
    "start_time": "2022-07-17T11:20:27.647Z"
   },
   {
    "duration": 139,
    "start_time": "2022-07-17T11:20:27.665Z"
   },
   {
    "duration": 8,
    "start_time": "2022-07-17T11:20:27.806Z"
   },
   {
    "duration": 19,
    "start_time": "2022-07-17T11:20:27.815Z"
   },
   {
    "duration": 7,
    "start_time": "2022-07-17T11:20:27.836Z"
   },
   {
    "duration": 14,
    "start_time": "2022-07-17T11:20:27.860Z"
   },
   {
    "duration": 75,
    "start_time": "2022-07-17T11:20:27.875Z"
   },
   {
    "duration": 11,
    "start_time": "2022-07-17T11:20:27.952Z"
   },
   {
    "duration": 15,
    "start_time": "2022-07-17T11:20:27.965Z"
   },
   {
    "duration": 33,
    "start_time": "2022-07-17T11:20:27.982Z"
   },
   {
    "duration": 11,
    "start_time": "2022-07-17T11:20:28.017Z"
   },
   {
    "duration": 8,
    "start_time": "2022-07-17T11:20:28.030Z"
   },
   {
    "duration": 12,
    "start_time": "2022-07-17T11:20:28.039Z"
   },
   {
    "duration": 16,
    "start_time": "2022-07-17T11:20:28.053Z"
   },
   {
    "duration": 8,
    "start_time": "2022-07-17T11:20:28.070Z"
   },
   {
    "duration": 9,
    "start_time": "2022-07-17T11:20:28.080Z"
   },
   {
    "duration": 7,
    "start_time": "2022-07-17T11:20:28.091Z"
   },
   {
    "duration": 7,
    "start_time": "2022-07-17T11:20:28.099Z"
   },
   {
    "duration": 17,
    "start_time": "2022-07-17T11:20:28.108Z"
   },
   {
    "duration": 155,
    "start_time": "2022-07-17T11:20:28.127Z"
   },
   {
    "duration": 8,
    "start_time": "2022-07-17T11:20:28.284Z"
   },
   {
    "duration": 269,
    "start_time": "2022-07-17T11:20:28.293Z"
   },
   {
    "duration": 10,
    "start_time": "2022-07-17T11:20:28.564Z"
   },
   {
    "duration": 11,
    "start_time": "2022-07-17T11:20:28.575Z"
   },
   {
    "duration": 10,
    "start_time": "2022-07-17T11:20:28.588Z"
   },
   {
    "duration": 37,
    "start_time": "2022-07-17T11:20:28.600Z"
   },
   {
    "duration": 29,
    "start_time": "2022-07-17T11:20:28.638Z"
   },
   {
    "duration": 9,
    "start_time": "2022-07-17T11:20:28.669Z"
   },
   {
    "duration": 13,
    "start_time": "2022-07-17T11:20:28.680Z"
   },
   {
    "duration": 16,
    "start_time": "2022-07-17T11:20:28.694Z"
   },
   {
    "duration": 10,
    "start_time": "2022-07-17T11:20:28.712Z"
   },
   {
    "duration": 7,
    "start_time": "2022-07-17T11:20:28.724Z"
   },
   {
    "duration": 35,
    "start_time": "2022-07-17T11:20:28.732Z"
   },
   {
    "duration": 385,
    "start_time": "2022-07-17T11:20:28.769Z"
   },
   {
    "duration": 12,
    "start_time": "2022-07-17T11:20:29.156Z"
   },
   {
    "duration": 19,
    "start_time": "2022-07-17T11:20:29.171Z"
   },
   {
    "duration": 11,
    "start_time": "2022-07-17T11:20:40.987Z"
   },
   {
    "duration": 9,
    "start_time": "2022-07-17T11:21:05.287Z"
   },
   {
    "duration": 21,
    "start_time": "2022-07-17T11:21:50.667Z"
   },
   {
    "duration": 15,
    "start_time": "2022-07-17T11:22:09.364Z"
   },
   {
    "duration": 1827,
    "start_time": "2022-07-17T11:24:57.611Z"
   },
   {
    "duration": 6,
    "start_time": "2022-07-17T11:25:42.509Z"
   },
   {
    "duration": 5,
    "start_time": "2022-07-17T11:25:54.791Z"
   },
   {
    "duration": 5,
    "start_time": "2022-07-17T11:26:13.327Z"
   },
   {
    "duration": 14,
    "start_time": "2022-07-17T11:26:34.673Z"
   },
   {
    "duration": 6,
    "start_time": "2022-07-17T11:26:52.210Z"
   },
   {
    "duration": 110,
    "start_time": "2022-07-17T11:27:05.279Z"
   },
   {
    "duration": 5,
    "start_time": "2022-07-17T11:27:10.691Z"
   },
   {
    "duration": 6,
    "start_time": "2022-07-17T11:27:35.952Z"
   },
   {
    "duration": 6,
    "start_time": "2022-07-17T11:27:48.026Z"
   },
   {
    "duration": 6,
    "start_time": "2022-07-17T11:27:57.441Z"
   },
   {
    "duration": 3429,
    "start_time": "2022-07-17T11:28:14.903Z"
   },
   {
    "duration": 98,
    "start_time": "2022-07-17T11:28:48.801Z"
   },
   {
    "duration": 1538,
    "start_time": "2022-07-17T11:28:53.823Z"
   },
   {
    "duration": 4330,
    "start_time": "2022-07-17T11:29:20.707Z"
   },
   {
    "duration": 2580,
    "start_time": "2022-07-17T11:30:17.539Z"
   },
   {
    "duration": 2811,
    "start_time": "2022-07-17T11:30:34.219Z"
   },
   {
    "duration": 2655,
    "start_time": "2022-07-17T11:30:54.267Z"
   },
   {
    "duration": 4469,
    "start_time": "2022-07-17T11:31:24.951Z"
   },
   {
    "duration": 7440,
    "start_time": "2022-07-17T11:31:43.662Z"
   },
   {
    "duration": 14,
    "start_time": "2022-07-17T11:32:29.049Z"
   },
   {
    "duration": 1400,
    "start_time": "2022-07-17T11:44:42.398Z"
   },
   {
    "duration": 2,
    "start_time": "2022-07-17T11:44:43.800Z"
   },
   {
    "duration": 190,
    "start_time": "2022-07-17T11:44:43.804Z"
   },
   {
    "duration": 12,
    "start_time": "2022-07-17T11:44:43.995Z"
   },
   {
    "duration": 11,
    "start_time": "2022-07-17T11:44:44.009Z"
   },
   {
    "duration": 16,
    "start_time": "2022-07-17T11:44:44.021Z"
   },
   {
    "duration": 134,
    "start_time": "2022-07-17T11:44:44.039Z"
   },
   {
    "duration": 7,
    "start_time": "2022-07-17T11:44:44.175Z"
   },
   {
    "duration": 11,
    "start_time": "2022-07-17T11:44:44.183Z"
   },
   {
    "duration": 8,
    "start_time": "2022-07-17T11:44:44.196Z"
   },
   {
    "duration": 15,
    "start_time": "2022-07-17T11:44:44.205Z"
   },
   {
    "duration": 72,
    "start_time": "2022-07-17T11:44:44.221Z"
   },
   {
    "duration": 10,
    "start_time": "2022-07-17T11:44:44.295Z"
   },
   {
    "duration": 10,
    "start_time": "2022-07-17T11:44:44.306Z"
   },
   {
    "duration": 13,
    "start_time": "2022-07-17T11:44:44.317Z"
   },
   {
    "duration": 32,
    "start_time": "2022-07-17T11:44:44.332Z"
   },
   {
    "duration": 14,
    "start_time": "2022-07-17T11:44:44.366Z"
   },
   {
    "duration": 8,
    "start_time": "2022-07-17T11:44:44.381Z"
   },
   {
    "duration": 14,
    "start_time": "2022-07-17T11:44:44.391Z"
   },
   {
    "duration": 7,
    "start_time": "2022-07-17T11:44:44.406Z"
   },
   {
    "duration": 9,
    "start_time": "2022-07-17T11:44:44.414Z"
   },
   {
    "duration": 6,
    "start_time": "2022-07-17T11:44:44.424Z"
   },
   {
    "duration": 34,
    "start_time": "2022-07-17T11:44:44.432Z"
   },
   {
    "duration": 15,
    "start_time": "2022-07-17T11:44:44.467Z"
   },
   {
    "duration": 145,
    "start_time": "2022-07-17T11:44:44.483Z"
   },
   {
    "duration": 8,
    "start_time": "2022-07-17T11:44:44.629Z"
   },
   {
    "duration": 279,
    "start_time": "2022-07-17T11:44:44.638Z"
   },
   {
    "duration": 11,
    "start_time": "2022-07-17T11:44:44.920Z"
   },
   {
    "duration": 13,
    "start_time": "2022-07-17T11:44:44.932Z"
   },
   {
    "duration": 17,
    "start_time": "2022-07-17T11:44:44.947Z"
   },
   {
    "duration": 36,
    "start_time": "2022-07-17T11:44:44.965Z"
   },
   {
    "duration": 10,
    "start_time": "2022-07-17T11:44:45.003Z"
   },
   {
    "duration": 14,
    "start_time": "2022-07-17T11:44:45.015Z"
   },
   {
    "duration": 32,
    "start_time": "2022-07-17T11:44:45.030Z"
   },
   {
    "duration": 17,
    "start_time": "2022-07-17T11:44:45.064Z"
   },
   {
    "duration": 14,
    "start_time": "2022-07-17T11:44:45.082Z"
   },
   {
    "duration": 105,
    "start_time": "2022-07-17T11:44:45.097Z"
   },
   {
    "duration": 35,
    "start_time": "2022-07-17T11:44:45.204Z"
   },
   {
    "duration": 382,
    "start_time": "2022-07-17T11:44:45.241Z"
   },
   {
    "duration": 9,
    "start_time": "2022-07-17T11:44:45.625Z"
   },
   {
    "duration": 30,
    "start_time": "2022-07-17T11:44:45.636Z"
   },
   {
    "duration": 4,
    "start_time": "2022-07-17T11:44:45.668Z"
   },
   {
    "duration": 17,
    "start_time": "2022-07-17T11:44:45.673Z"
   },
   {
    "duration": 18,
    "start_time": "2022-07-17T11:44:45.691Z"
   },
   {
    "duration": 12,
    "start_time": "2022-07-17T11:44:45.710Z"
   },
   {
    "duration": 5,
    "start_time": "2022-07-17T11:44:45.724Z"
   },
   {
    "duration": 32,
    "start_time": "2022-07-17T11:44:45.730Z"
   },
   {
    "duration": 12,
    "start_time": "2022-07-17T11:44:45.763Z"
   },
   {
    "duration": 12,
    "start_time": "2022-07-17T11:44:45.777Z"
   },
   {
    "duration": 7,
    "start_time": "2022-07-17T11:44:45.790Z"
   },
   {
    "duration": 62,
    "start_time": "2022-07-17T11:44:45.799Z"
   },
   {
    "duration": 4,
    "start_time": "2022-07-17T11:44:45.862Z"
   },
   {
    "duration": 8,
    "start_time": "2022-07-17T11:44:45.868Z"
   },
   {
    "duration": 6,
    "start_time": "2022-07-17T11:44:45.877Z"
   },
   {
    "duration": 22,
    "start_time": "2022-07-17T11:44:45.884Z"
   },
   {
    "duration": 13,
    "start_time": "2022-07-17T11:44:45.907Z"
   },
   {
    "duration": 5,
    "start_time": "2022-07-17T11:44:45.922Z"
   },
   {
    "duration": 32,
    "start_time": "2022-07-17T11:44:45.928Z"
   },
   {
    "duration": 10,
    "start_time": "2022-07-17T11:44:45.961Z"
   },
   {
    "duration": 11,
    "start_time": "2022-07-17T11:44:45.973Z"
   },
   {
    "duration": 37,
    "start_time": "2022-07-17T11:45:12.207Z"
   },
   {
    "duration": 1698,
    "start_time": "2022-07-17T12:00:02.040Z"
   },
   {
    "duration": 3,
    "start_time": "2022-07-17T12:00:03.741Z"
   },
   {
    "duration": 242,
    "start_time": "2022-07-17T12:00:03.746Z"
   },
   {
    "duration": 13,
    "start_time": "2022-07-17T12:00:03.990Z"
   },
   {
    "duration": 177,
    "start_time": "2022-07-17T12:00:04.005Z"
   },
   {
    "duration": 56,
    "start_time": "2022-07-17T12:00:04.183Z"
   },
   {
    "duration": 185,
    "start_time": "2022-07-17T12:00:04.241Z"
   },
   {
    "duration": 8,
    "start_time": "2022-07-17T12:00:04.428Z"
   },
   {
    "duration": 43,
    "start_time": "2022-07-17T12:00:04.438Z"
   },
   {
    "duration": 25,
    "start_time": "2022-07-17T12:00:04.483Z"
   },
   {
    "duration": 30,
    "start_time": "2022-07-17T12:00:04.510Z"
   },
   {
    "duration": 75,
    "start_time": "2022-07-17T12:00:04.541Z"
   },
   {
    "duration": 13,
    "start_time": "2022-07-17T12:00:04.617Z"
   },
   {
    "duration": 43,
    "start_time": "2022-07-17T12:00:04.633Z"
   },
   {
    "duration": 39,
    "start_time": "2022-07-17T12:00:04.678Z"
   },
   {
    "duration": 24,
    "start_time": "2022-07-17T12:00:04.719Z"
   },
   {
    "duration": 42,
    "start_time": "2022-07-17T12:00:04.745Z"
   },
   {
    "duration": 22,
    "start_time": "2022-07-17T12:00:04.789Z"
   },
   {
    "duration": 38,
    "start_time": "2022-07-17T12:00:04.813Z"
   },
   {
    "duration": 26,
    "start_time": "2022-07-17T12:00:04.852Z"
   },
   {
    "duration": 34,
    "start_time": "2022-07-17T12:00:04.880Z"
   },
   {
    "duration": 31,
    "start_time": "2022-07-17T12:00:04.916Z"
   },
   {
    "duration": 20,
    "start_time": "2022-07-17T12:00:04.948Z"
   },
   {
    "duration": 30,
    "start_time": "2022-07-17T12:00:04.969Z"
   },
   {
    "duration": 193,
    "start_time": "2022-07-17T12:00:05.001Z"
   },
   {
    "duration": 8,
    "start_time": "2022-07-17T12:00:05.196Z"
   },
   {
    "duration": 307,
    "start_time": "2022-07-17T12:00:05.206Z"
   },
   {
    "duration": 12,
    "start_time": "2022-07-17T12:00:05.515Z"
   },
   {
    "duration": 33,
    "start_time": "2022-07-17T12:00:05.529Z"
   },
   {
    "duration": 36,
    "start_time": "2022-07-17T12:00:05.564Z"
   },
   {
    "duration": 80,
    "start_time": "2022-07-17T12:00:05.602Z"
   },
   {
    "duration": 11,
    "start_time": "2022-07-17T12:00:05.684Z"
   },
   {
    "duration": 29,
    "start_time": "2022-07-17T12:00:05.697Z"
   },
   {
    "duration": 26,
    "start_time": "2022-07-17T12:00:05.728Z"
   },
   {
    "duration": 26,
    "start_time": "2022-07-17T12:00:05.756Z"
   },
   {
    "duration": 44,
    "start_time": "2022-07-17T12:00:05.784Z"
   },
   {
    "duration": 25,
    "start_time": "2022-07-17T12:00:05.830Z"
   },
   {
    "duration": 61,
    "start_time": "2022-07-17T12:00:05.856Z"
   },
   {
    "duration": 508,
    "start_time": "2022-07-17T12:00:05.918Z"
   },
   {
    "duration": 13,
    "start_time": "2022-07-17T12:00:06.429Z"
   },
   {
    "duration": 50,
    "start_time": "2022-07-17T12:00:06.462Z"
   },
   {
    "duration": 23,
    "start_time": "2022-07-17T12:00:06.515Z"
   },
   {
    "duration": 51,
    "start_time": "2022-07-17T12:00:06.540Z"
   },
   {
    "duration": 55,
    "start_time": "2022-07-17T12:00:06.593Z"
   },
   {
    "duration": 35,
    "start_time": "2022-07-17T12:00:06.650Z"
   },
   {
    "duration": 19,
    "start_time": "2022-07-17T12:00:06.687Z"
   },
   {
    "duration": 37,
    "start_time": "2022-07-17T12:00:06.708Z"
   },
   {
    "duration": 49,
    "start_time": "2022-07-17T12:00:06.747Z"
   },
   {
    "duration": 41,
    "start_time": "2022-07-17T12:00:06.798Z"
   },
   {
    "duration": 27,
    "start_time": "2022-07-17T12:00:06.841Z"
   },
   {
    "duration": 65,
    "start_time": "2022-07-17T12:00:06.870Z"
   },
   {
    "duration": 19,
    "start_time": "2022-07-17T12:00:06.937Z"
   },
   {
    "duration": 32,
    "start_time": "2022-07-17T12:00:06.959Z"
   },
   {
    "duration": 57,
    "start_time": "2022-07-17T12:00:06.992Z"
   },
   {
    "duration": 65,
    "start_time": "2022-07-17T12:00:07.051Z"
   },
   {
    "duration": 36,
    "start_time": "2022-07-17T12:00:07.118Z"
   },
   {
    "duration": 40,
    "start_time": "2022-07-17T12:00:07.156Z"
   },
   {
    "duration": 22,
    "start_time": "2022-07-17T12:00:07.198Z"
   },
   {
    "duration": 55,
    "start_time": "2022-07-17T12:00:07.221Z"
   },
   {
    "duration": 11,
    "start_time": "2022-07-17T12:00:07.278Z"
   },
   {
    "duration": 38,
    "start_time": "2022-07-17T12:00:07.292Z"
   },
   {
    "duration": 33,
    "start_time": "2022-07-17T12:00:07.333Z"
   },
   {
    "duration": 29,
    "start_time": "2022-07-17T12:00:16.570Z"
   },
   {
    "duration": 1512,
    "start_time": "2022-07-17T12:00:52.531Z"
   },
   {
    "duration": 3,
    "start_time": "2022-07-17T12:00:54.045Z"
   },
   {
    "duration": 203,
    "start_time": "2022-07-17T12:00:54.050Z"
   },
   {
    "duration": 12,
    "start_time": "2022-07-17T12:00:54.255Z"
   },
   {
    "duration": 20,
    "start_time": "2022-07-17T12:00:54.268Z"
   },
   {
    "duration": 22,
    "start_time": "2022-07-17T12:00:54.289Z"
   },
   {
    "duration": 150,
    "start_time": "2022-07-17T12:00:54.312Z"
   },
   {
    "duration": 8,
    "start_time": "2022-07-17T12:00:54.464Z"
   },
   {
    "duration": 10,
    "start_time": "2022-07-17T12:00:54.473Z"
   },
   {
    "duration": 7,
    "start_time": "2022-07-17T12:00:54.485Z"
   },
   {
    "duration": 14,
    "start_time": "2022-07-17T12:00:54.494Z"
   },
   {
    "duration": 79,
    "start_time": "2022-07-17T12:00:54.509Z"
   },
   {
    "duration": 10,
    "start_time": "2022-07-17T12:00:54.590Z"
   },
   {
    "duration": 9,
    "start_time": "2022-07-17T12:00:54.602Z"
   },
   {
    "duration": 15,
    "start_time": "2022-07-17T12:00:54.612Z"
   },
   {
    "duration": 38,
    "start_time": "2022-07-17T12:00:54.628Z"
   },
   {
    "duration": 12,
    "start_time": "2022-07-17T12:00:54.668Z"
   },
   {
    "duration": 21,
    "start_time": "2022-07-17T12:00:54.681Z"
   },
   {
    "duration": 23,
    "start_time": "2022-07-17T12:00:54.704Z"
   },
   {
    "duration": 8,
    "start_time": "2022-07-17T12:00:54.728Z"
   },
   {
    "duration": 25,
    "start_time": "2022-07-17T12:00:54.738Z"
   },
   {
    "duration": 7,
    "start_time": "2022-07-17T12:00:54.765Z"
   },
   {
    "duration": 11,
    "start_time": "2022-07-17T12:00:54.773Z"
   },
   {
    "duration": 23,
    "start_time": "2022-07-17T12:00:54.786Z"
   },
   {
    "duration": 181,
    "start_time": "2022-07-17T12:00:54.811Z"
   },
   {
    "duration": 9,
    "start_time": "2022-07-17T12:00:54.994Z"
   },
   {
    "duration": 331,
    "start_time": "2022-07-17T12:00:55.005Z"
   },
   {
    "duration": 10,
    "start_time": "2022-07-17T12:00:55.338Z"
   },
   {
    "duration": 16,
    "start_time": "2022-07-17T12:00:55.350Z"
   },
   {
    "duration": 19,
    "start_time": "2022-07-17T12:00:55.367Z"
   },
   {
    "duration": 34,
    "start_time": "2022-07-17T12:00:55.387Z"
   },
   {
    "duration": 10,
    "start_time": "2022-07-17T12:00:55.423Z"
   },
   {
    "duration": 25,
    "start_time": "2022-07-17T12:00:55.435Z"
   },
   {
    "duration": 10,
    "start_time": "2022-07-17T12:00:55.462Z"
   },
   {
    "duration": 14,
    "start_time": "2022-07-17T12:00:55.473Z"
   },
   {
    "duration": 16,
    "start_time": "2022-07-17T12:00:55.488Z"
   },
   {
    "duration": 22,
    "start_time": "2022-07-17T12:00:55.505Z"
   },
   {
    "duration": 30,
    "start_time": "2022-07-17T12:00:55.529Z"
   },
   {
    "duration": 391,
    "start_time": "2022-07-17T12:00:55.561Z"
   },
   {
    "duration": 16,
    "start_time": "2022-07-17T12:00:55.953Z"
   },
   {
    "duration": 21,
    "start_time": "2022-07-17T12:00:55.973Z"
   },
   {
    "duration": 4,
    "start_time": "2022-07-17T12:00:55.996Z"
   },
   {
    "duration": 15,
    "start_time": "2022-07-17T12:00:56.002Z"
   },
   {
    "duration": 18,
    "start_time": "2022-07-17T12:00:56.019Z"
   },
   {
    "duration": 31,
    "start_time": "2022-07-17T12:00:56.039Z"
   },
   {
    "duration": 3,
    "start_time": "2022-07-17T12:00:56.072Z"
   },
   {
    "duration": 17,
    "start_time": "2022-07-17T12:00:56.078Z"
   },
   {
    "duration": 24,
    "start_time": "2022-07-17T12:00:56.097Z"
   },
   {
    "duration": 17,
    "start_time": "2022-07-17T12:00:56.123Z"
   },
   {
    "duration": 11,
    "start_time": "2022-07-17T12:00:56.161Z"
   },
   {
    "duration": 110,
    "start_time": "2022-07-17T12:00:56.174Z"
   },
   {
    "duration": 4,
    "start_time": "2022-07-17T12:00:56.286Z"
   },
   {
    "duration": 17,
    "start_time": "2022-07-17T12:00:56.292Z"
   },
   {
    "duration": 10,
    "start_time": "2022-07-17T12:00:56.312Z"
   },
   {
    "duration": 44,
    "start_time": "2022-07-17T12:00:56.324Z"
   },
   {
    "duration": 17,
    "start_time": "2022-07-17T12:00:56.370Z"
   },
   {
    "duration": 8,
    "start_time": "2022-07-17T12:00:56.389Z"
   },
   {
    "duration": 6,
    "start_time": "2022-07-17T12:01:12.771Z"
   },
   {
    "duration": 1728,
    "start_time": "2022-07-17T12:46:36.021Z"
   },
   {
    "duration": 4,
    "start_time": "2022-07-17T12:46:39.107Z"
   },
   {
    "duration": 533,
    "start_time": "2022-07-17T12:46:39.778Z"
   },
   {
    "duration": 14,
    "start_time": "2022-07-17T12:46:44.550Z"
   },
   {
    "duration": 17,
    "start_time": "2022-07-17T12:46:46.079Z"
   },
   {
    "duration": 21,
    "start_time": "2022-07-17T12:46:48.273Z"
   },
   {
    "duration": 167,
    "start_time": "2022-07-17T12:46:51.245Z"
   },
   {
    "duration": 9,
    "start_time": "2022-07-17T12:46:54.573Z"
   },
   {
    "duration": 13,
    "start_time": "2022-07-17T12:46:57.344Z"
   },
   {
    "duration": 10,
    "start_time": "2022-07-17T12:47:00.296Z"
   },
   {
    "duration": 19,
    "start_time": "2022-07-17T12:47:02.644Z"
   },
   {
    "duration": 68,
    "start_time": "2022-07-17T12:47:03.401Z"
   },
   {
    "duration": 13,
    "start_time": "2022-07-17T12:47:07.260Z"
   },
   {
    "duration": 14,
    "start_time": "2022-07-17T12:47:09.749Z"
   },
   {
    "duration": 16,
    "start_time": "2022-07-17T12:47:12.872Z"
   },
   {
    "duration": 12,
    "start_time": "2022-07-17T12:47:14.162Z"
   },
   {
    "duration": 12,
    "start_time": "2022-07-17T12:47:17.204Z"
   },
   {
    "duration": 10,
    "start_time": "2022-07-17T12:47:19.725Z"
   },
   {
    "duration": 17,
    "start_time": "2022-07-17T12:47:21.661Z"
   },
   {
    "duration": 9,
    "start_time": "2022-07-17T12:47:22.405Z"
   },
   {
    "duration": 14,
    "start_time": "2022-07-17T12:47:26.317Z"
   },
   {
    "duration": 9,
    "start_time": "2022-07-17T12:47:27.015Z"
   },
   {
    "duration": 11,
    "start_time": "2022-07-17T12:47:29.578Z"
   },
   {
    "duration": 18,
    "start_time": "2022-07-17T12:47:30.263Z"
   },
   {
    "duration": 168,
    "start_time": "2022-07-17T12:47:31.552Z"
   },
   {
    "duration": 10,
    "start_time": "2022-07-17T12:47:33.512Z"
   },
   {
    "duration": 318,
    "start_time": "2022-07-17T12:47:33.983Z"
   },
   {
    "duration": 18,
    "start_time": "2022-07-17T12:47:37.899Z"
   },
   {
    "duration": 8,
    "start_time": "2022-07-17T12:47:38.745Z"
   },
   {
    "duration": 12,
    "start_time": "2022-07-17T12:47:40.568Z"
   },
   {
    "duration": 47,
    "start_time": "2022-07-17T12:47:41.343Z"
   },
   {
    "duration": 14,
    "start_time": "2022-07-17T12:47:45.644Z"
   },
   {
    "duration": 10,
    "start_time": "2022-07-17T12:47:47.320Z"
   },
   {
    "duration": 12,
    "start_time": "2022-07-17T12:47:48.115Z"
   },
   {
    "duration": 12,
    "start_time": "2022-07-17T12:47:49.815Z"
   },
   {
    "duration": 7,
    "start_time": "2022-07-17T12:47:53.867Z"
   },
   {
    "duration": 23,
    "start_time": "2022-07-17T12:47:54.596Z"
   },
   {
    "duration": 449,
    "start_time": "2022-07-17T12:47:56.603Z"
   },
   {
    "duration": 13,
    "start_time": "2022-07-17T12:47:59.617Z"
   },
   {
    "duration": 22,
    "start_time": "2022-07-17T12:48:00.367Z"
   },
   {
    "duration": 5,
    "start_time": "2022-07-17T12:48:03.893Z"
   },
   {
    "duration": 12,
    "start_time": "2022-07-17T12:48:05.800Z"
   },
   {
    "duration": 19,
    "start_time": "2022-07-17T12:48:07.604Z"
   },
   {
    "duration": 27,
    "start_time": "2022-07-17T12:48:09.063Z"
   },
   {
    "duration": 5,
    "start_time": "2022-07-17T12:48:12.727Z"
   },
   {
    "duration": 14,
    "start_time": "2022-07-17T12:48:15.301Z"
   },
   {
    "duration": 21,
    "start_time": "2022-07-17T12:48:16.144Z"
   },
   {
    "duration": 16,
    "start_time": "2022-07-17T12:48:18.598Z"
   },
   {
    "duration": 12,
    "start_time": "2022-07-17T12:48:20.844Z"
   },
   {
    "duration": 43,
    "start_time": "2022-07-17T12:48:26.447Z"
   },
   {
    "duration": 6,
    "start_time": "2022-07-17T12:48:30.892Z"
   },
   {
    "duration": 5,
    "start_time": "2022-07-17T12:48:34.157Z"
   },
   {
    "duration": 4,
    "start_time": "2022-07-17T12:48:37.647Z"
   },
   {
    "duration": 40,
    "start_time": "2022-07-17T12:48:39.780Z"
   },
   {
    "duration": 15,
    "start_time": "2022-07-17T12:52:49.851Z"
   },
   {
    "duration": 8,
    "start_time": "2022-07-17T12:52:58.383Z"
   },
   {
    "duration": 15,
    "start_time": "2022-07-17T12:53:15.108Z"
   },
   {
    "duration": 115,
    "start_time": "2022-07-17T12:53:26.954Z"
   },
   {
    "duration": 7,
    "start_time": "2022-07-17T12:53:35.244Z"
   },
   {
    "duration": 16,
    "start_time": "2022-07-17T12:53:44.617Z"
   },
   {
    "duration": 9,
    "start_time": "2022-07-17T13:01:05.807Z"
   },
   {
    "duration": 11,
    "start_time": "2022-07-17T13:01:16.593Z"
   },
   {
    "duration": 1429,
    "start_time": "2022-07-17T13:01:56.527Z"
   },
   {
    "duration": 12,
    "start_time": "2022-07-17T13:02:09.745Z"
   },
   {
    "duration": 1369,
    "start_time": "2022-07-17T13:02:36.499Z"
   },
   {
    "duration": 7,
    "start_time": "2022-07-17T13:07:06.007Z"
   },
   {
    "duration": 17,
    "start_time": "2022-07-17T13:07:09.946Z"
   },
   {
    "duration": 7,
    "start_time": "2022-07-17T13:10:32.575Z"
   },
   {
    "duration": 1496,
    "start_time": "2022-07-17T13:34:06.589Z"
   },
   {
    "duration": 3,
    "start_time": "2022-07-17T13:34:08.087Z"
   },
   {
    "duration": 195,
    "start_time": "2022-07-17T13:34:08.091Z"
   },
   {
    "duration": 14,
    "start_time": "2022-07-17T13:34:08.288Z"
   },
   {
    "duration": 16,
    "start_time": "2022-07-17T13:34:08.304Z"
   },
   {
    "duration": 22,
    "start_time": "2022-07-17T13:34:08.322Z"
   },
   {
    "duration": 176,
    "start_time": "2022-07-17T13:34:08.345Z"
   },
   {
    "duration": 20,
    "start_time": "2022-07-17T13:34:08.522Z"
   },
   {
    "duration": 12,
    "start_time": "2022-07-17T13:34:08.543Z"
   },
   {
    "duration": 10,
    "start_time": "2022-07-17T13:34:08.559Z"
   },
   {
    "duration": 22,
    "start_time": "2022-07-17T13:34:08.571Z"
   },
   {
    "duration": 88,
    "start_time": "2022-07-17T13:34:08.594Z"
   },
   {
    "duration": 13,
    "start_time": "2022-07-17T13:34:08.684Z"
   },
   {
    "duration": 9,
    "start_time": "2022-07-17T13:34:08.698Z"
   },
   {
    "duration": 32,
    "start_time": "2022-07-17T13:34:08.709Z"
   },
   {
    "duration": 17,
    "start_time": "2022-07-17T13:34:08.743Z"
   },
   {
    "duration": 14,
    "start_time": "2022-07-17T13:34:08.763Z"
   },
   {
    "duration": 14,
    "start_time": "2022-07-17T13:34:08.779Z"
   },
   {
    "duration": 21,
    "start_time": "2022-07-17T13:34:08.795Z"
   },
   {
    "duration": 11,
    "start_time": "2022-07-17T13:34:08.841Z"
   },
   {
    "duration": 13,
    "start_time": "2022-07-17T13:34:08.855Z"
   },
   {
    "duration": 25,
    "start_time": "2022-07-17T13:34:08.870Z"
   },
   {
    "duration": 20,
    "start_time": "2022-07-17T13:34:08.896Z"
   },
   {
    "duration": 23,
    "start_time": "2022-07-17T13:34:08.918Z"
   },
   {
    "duration": 161,
    "start_time": "2022-07-17T13:34:08.943Z"
   },
   {
    "duration": 9,
    "start_time": "2022-07-17T13:34:09.107Z"
   },
   {
    "duration": 330,
    "start_time": "2022-07-17T13:34:09.117Z"
   },
   {
    "duration": 13,
    "start_time": "2022-07-17T13:34:09.451Z"
   },
   {
    "duration": 11,
    "start_time": "2022-07-17T13:34:09.465Z"
   },
   {
    "duration": 19,
    "start_time": "2022-07-17T13:34:09.478Z"
   },
   {
    "duration": 55,
    "start_time": "2022-07-17T13:34:09.499Z"
   },
   {
    "duration": 11,
    "start_time": "2022-07-17T13:34:09.555Z"
   },
   {
    "duration": 21,
    "start_time": "2022-07-17T13:34:09.568Z"
   },
   {
    "duration": 16,
    "start_time": "2022-07-17T13:34:09.591Z"
   },
   {
    "duration": 14,
    "start_time": "2022-07-17T13:34:09.609Z"
   },
   {
    "duration": 16,
    "start_time": "2022-07-17T13:34:09.625Z"
   },
   {
    "duration": 36,
    "start_time": "2022-07-17T13:34:09.643Z"
   },
   {
    "duration": 431,
    "start_time": "2022-07-17T13:34:09.681Z"
   },
   {
    "duration": 12,
    "start_time": "2022-07-17T13:34:10.114Z"
   },
   {
    "duration": 46,
    "start_time": "2022-07-17T13:34:10.128Z"
   },
   {
    "duration": 6,
    "start_time": "2022-07-17T13:34:10.176Z"
   },
   {
    "duration": 14,
    "start_time": "2022-07-17T13:34:10.184Z"
   },
   {
    "duration": 20,
    "start_time": "2022-07-17T13:34:10.200Z"
   },
   {
    "duration": 25,
    "start_time": "2022-07-17T13:34:10.222Z"
   },
   {
    "duration": 4,
    "start_time": "2022-07-17T13:34:10.249Z"
   },
   {
    "duration": 15,
    "start_time": "2022-07-17T13:34:10.254Z"
   },
   {
    "duration": 16,
    "start_time": "2022-07-17T13:34:10.271Z"
   },
   {
    "duration": 16,
    "start_time": "2022-07-17T13:34:10.289Z"
   },
   {
    "duration": 38,
    "start_time": "2022-07-17T13:34:10.307Z"
   },
   {
    "duration": 43,
    "start_time": "2022-07-17T13:34:10.347Z"
   },
   {
    "duration": 4,
    "start_time": "2022-07-17T13:34:10.392Z"
   },
   {
    "duration": 6,
    "start_time": "2022-07-17T13:34:10.397Z"
   },
   {
    "duration": 7,
    "start_time": "2022-07-17T13:34:10.405Z"
   },
   {
    "duration": 48,
    "start_time": "2022-07-17T13:34:10.414Z"
   },
   {
    "duration": 14,
    "start_time": "2022-07-17T13:34:10.463Z"
   },
   {
    "duration": 6,
    "start_time": "2022-07-17T13:34:10.479Z"
   },
   {
    "duration": 13,
    "start_time": "2022-07-17T13:34:10.487Z"
   },
   {
    "duration": 4,
    "start_time": "2022-07-17T13:34:10.502Z"
   },
   {
    "duration": 34,
    "start_time": "2022-07-17T13:34:10.508Z"
   },
   {
    "duration": 18,
    "start_time": "2022-07-17T13:34:10.543Z"
   },
   {
    "duration": 10,
    "start_time": "2022-07-17T13:34:10.562Z"
   },
   {
    "duration": 121,
    "start_time": "2022-07-17T13:34:10.573Z"
   },
   {
    "duration": 0,
    "start_time": "2022-07-17T13:34:10.695Z"
   },
   {
    "duration": 0,
    "start_time": "2022-07-17T13:34:10.696Z"
   },
   {
    "duration": 0,
    "start_time": "2022-07-17T13:34:10.698Z"
   },
   {
    "duration": 0,
    "start_time": "2022-07-17T13:34:10.698Z"
   },
   {
    "duration": 0,
    "start_time": "2022-07-17T13:34:10.699Z"
   },
   {
    "duration": 0,
    "start_time": "2022-07-17T13:34:10.700Z"
   },
   {
    "duration": 0,
    "start_time": "2022-07-17T13:34:10.701Z"
   },
   {
    "duration": 0,
    "start_time": "2022-07-17T13:34:10.702Z"
   },
   {
    "duration": 0,
    "start_time": "2022-07-17T13:34:10.702Z"
   },
   {
    "duration": 0,
    "start_time": "2022-07-17T13:34:10.703Z"
   },
   {
    "duration": 0,
    "start_time": "2022-07-17T13:34:10.704Z"
   },
   {
    "duration": 0,
    "start_time": "2022-07-17T13:34:10.705Z"
   },
   {
    "duration": 0,
    "start_time": "2022-07-17T13:34:10.706Z"
   },
   {
    "duration": 1454,
    "start_time": "2022-07-17T13:39:01.492Z"
   },
   {
    "duration": 2,
    "start_time": "2022-07-17T13:39:02.948Z"
   },
   {
    "duration": 202,
    "start_time": "2022-07-17T13:39:02.952Z"
   },
   {
    "duration": 15,
    "start_time": "2022-07-17T13:39:03.156Z"
   },
   {
    "duration": 19,
    "start_time": "2022-07-17T13:39:03.174Z"
   },
   {
    "duration": 24,
    "start_time": "2022-07-17T13:39:03.195Z"
   },
   {
    "duration": 188,
    "start_time": "2022-07-17T13:39:03.221Z"
   },
   {
    "duration": 10,
    "start_time": "2022-07-17T13:39:03.411Z"
   },
   {
    "duration": 27,
    "start_time": "2022-07-17T13:39:03.423Z"
   },
   {
    "duration": 10,
    "start_time": "2022-07-17T13:39:03.453Z"
   },
   {
    "duration": 22,
    "start_time": "2022-07-17T13:39:03.464Z"
   },
   {
    "duration": 70,
    "start_time": "2022-07-17T13:39:03.488Z"
   },
   {
    "duration": 13,
    "start_time": "2022-07-17T13:39:03.560Z"
   },
   {
    "duration": 8,
    "start_time": "2022-07-17T13:39:03.578Z"
   },
   {
    "duration": 17,
    "start_time": "2022-07-17T13:39:03.588Z"
   },
   {
    "duration": 41,
    "start_time": "2022-07-17T13:39:03.607Z"
   },
   {
    "duration": 19,
    "start_time": "2022-07-17T13:39:03.650Z"
   },
   {
    "duration": 7,
    "start_time": "2022-07-17T13:39:03.671Z"
   },
   {
    "duration": 23,
    "start_time": "2022-07-17T13:39:03.680Z"
   },
   {
    "duration": 10,
    "start_time": "2022-07-17T13:39:03.705Z"
   },
   {
    "duration": 30,
    "start_time": "2022-07-17T13:39:03.717Z"
   },
   {
    "duration": 12,
    "start_time": "2022-07-17T13:39:03.749Z"
   },
   {
    "duration": 9,
    "start_time": "2022-07-17T13:39:03.762Z"
   },
   {
    "duration": 17,
    "start_time": "2022-07-17T13:39:03.773Z"
   },
   {
    "duration": 374,
    "start_time": "2022-07-17T13:39:03.792Z"
   },
   {
    "duration": 8,
    "start_time": "2022-07-17T13:39:04.168Z"
   },
   {
    "duration": 665,
    "start_time": "2022-07-17T13:39:04.178Z"
   },
   {
    "duration": 12,
    "start_time": "2022-07-17T13:39:04.844Z"
   },
   {
    "duration": 86,
    "start_time": "2022-07-17T13:39:04.858Z"
   },
   {
    "duration": 13,
    "start_time": "2022-07-17T13:39:04.946Z"
   },
   {
    "duration": 102,
    "start_time": "2022-07-17T13:39:04.960Z"
   },
   {
    "duration": 14,
    "start_time": "2022-07-17T13:39:05.064Z"
   },
   {
    "duration": 90,
    "start_time": "2022-07-17T13:39:05.080Z"
   },
   {
    "duration": 27,
    "start_time": "2022-07-17T13:39:05.172Z"
   },
   {
    "duration": 55,
    "start_time": "2022-07-17T13:39:05.201Z"
   },
   {
    "duration": 10,
    "start_time": "2022-07-17T13:39:05.258Z"
   },
   {
    "duration": 74,
    "start_time": "2022-07-17T13:39:05.270Z"
   },
   {
    "duration": 823,
    "start_time": "2022-07-17T13:39:05.346Z"
   },
   {
    "duration": 12,
    "start_time": "2022-07-17T13:39:06.170Z"
   },
   {
    "duration": 74,
    "start_time": "2022-07-17T13:39:06.183Z"
   },
   {
    "duration": 5,
    "start_time": "2022-07-17T13:39:06.261Z"
   },
   {
    "duration": 15,
    "start_time": "2022-07-17T13:39:06.267Z"
   },
   {
    "duration": 65,
    "start_time": "2022-07-17T13:39:06.284Z"
   },
   {
    "duration": 14,
    "start_time": "2022-07-17T13:39:06.350Z"
   },
   {
    "duration": 4,
    "start_time": "2022-07-17T13:39:06.365Z"
   },
   {
    "duration": 71,
    "start_time": "2022-07-17T13:39:06.370Z"
   },
   {
    "duration": 31,
    "start_time": "2022-07-17T13:39:06.444Z"
   },
   {
    "duration": 73,
    "start_time": "2022-07-17T13:39:06.477Z"
   },
   {
    "duration": 11,
    "start_time": "2022-07-17T13:39:06.552Z"
   },
   {
    "duration": 105,
    "start_time": "2022-07-17T13:39:06.565Z"
   },
   {
    "duration": 4,
    "start_time": "2022-07-17T13:39:06.672Z"
   },
   {
    "duration": 7,
    "start_time": "2022-07-17T13:39:06.678Z"
   },
   {
    "duration": 64,
    "start_time": "2022-07-17T13:39:06.687Z"
   },
   {
    "duration": 38,
    "start_time": "2022-07-17T13:39:06.753Z"
   },
   {
    "duration": 59,
    "start_time": "2022-07-17T13:39:06.792Z"
   },
   {
    "duration": 17,
    "start_time": "2022-07-17T13:39:06.853Z"
   },
   {
    "duration": 17,
    "start_time": "2022-07-17T13:39:06.872Z"
   },
   {
    "duration": 51,
    "start_time": "2022-07-17T13:39:06.891Z"
   },
   {
    "duration": 17,
    "start_time": "2022-07-17T13:39:06.944Z"
   },
   {
    "duration": 9,
    "start_time": "2022-07-17T13:39:06.962Z"
   },
   {
    "duration": 7,
    "start_time": "2022-07-17T13:39:06.972Z"
   },
   {
    "duration": 65,
    "start_time": "2022-07-17T13:39:06.981Z"
   },
   {
    "duration": 5,
    "start_time": "2022-07-17T13:39:07.048Z"
   },
   {
    "duration": 2887,
    "start_time": "2022-07-17T13:39:07.055Z"
   },
   {
    "duration": 3,
    "start_time": "2022-07-17T13:39:09.944Z"
   },
   {
    "duration": 1096,
    "start_time": "2022-07-17T13:39:09.949Z"
   },
   {
    "duration": 3,
    "start_time": "2022-07-17T13:39:11.047Z"
   },
   {
    "duration": 55089,
    "start_time": "2022-07-17T13:39:11.052Z"
   },
   {
    "duration": 3,
    "start_time": "2022-07-17T13:40:06.142Z"
   },
   {
    "duration": 59859,
    "start_time": "2022-07-17T13:40:06.147Z"
   },
   {
    "duration": 13,
    "start_time": "2022-07-17T13:41:06.008Z"
   },
   {
    "duration": 1941,
    "start_time": "2022-07-17T13:41:06.023Z"
   },
   {
    "duration": 241,
    "start_time": "2022-07-17T13:41:07.966Z"
   },
   {
    "duration": 311,
    "start_time": "2022-07-17T13:41:08.209Z"
   },
   {
    "duration": 3,
    "start_time": "2022-07-18T08:51:21.155Z"
   },
   {
    "duration": 10,
    "start_time": "2022-07-18T08:51:21.160Z"
   },
   {
    "duration": 460,
    "start_time": "2022-07-18T08:51:21.172Z"
   },
   {
    "duration": 12,
    "start_time": "2022-07-18T08:51:21.633Z"
   },
   {
    "duration": 12,
    "start_time": "2022-07-18T08:51:21.647Z"
   },
   {
    "duration": 19,
    "start_time": "2022-07-18T08:51:21.661Z"
   },
   {
    "duration": 145,
    "start_time": "2022-07-18T08:51:21.682Z"
   },
   {
    "duration": 8,
    "start_time": "2022-07-18T08:51:21.828Z"
   },
   {
    "duration": 25,
    "start_time": "2022-07-18T08:51:21.837Z"
   },
   {
    "duration": 7,
    "start_time": "2022-07-18T08:51:21.863Z"
   },
   {
    "duration": 15,
    "start_time": "2022-07-18T08:51:21.872Z"
   },
   {
    "duration": 51,
    "start_time": "2022-07-18T08:51:21.889Z"
   },
   {
    "duration": 27,
    "start_time": "2022-07-18T08:51:21.941Z"
   },
   {
    "duration": 8,
    "start_time": "2022-07-18T08:51:21.970Z"
   },
   {
    "duration": 21,
    "start_time": "2022-07-18T08:51:21.980Z"
   },
   {
    "duration": 18,
    "start_time": "2022-07-18T08:51:22.003Z"
   },
   {
    "duration": 10,
    "start_time": "2022-07-18T08:51:22.022Z"
   },
   {
    "duration": 29,
    "start_time": "2022-07-18T08:51:22.034Z"
   },
   {
    "duration": 17,
    "start_time": "2022-07-18T08:51:22.065Z"
   },
   {
    "duration": 8,
    "start_time": "2022-07-18T08:51:22.084Z"
   },
   {
    "duration": 10,
    "start_time": "2022-07-18T08:51:22.094Z"
   },
   {
    "duration": 8,
    "start_time": "2022-07-18T08:51:22.106Z"
   },
   {
    "duration": 10,
    "start_time": "2022-07-18T08:51:22.116Z"
   },
   {
    "duration": 45,
    "start_time": "2022-07-18T08:51:22.128Z"
   },
   {
    "duration": 150,
    "start_time": "2022-07-18T08:51:22.175Z"
   },
   {
    "duration": 9,
    "start_time": "2022-07-18T08:51:22.327Z"
   },
   {
    "duration": 213,
    "start_time": "2022-07-18T08:51:22.337Z"
   },
   {
    "duration": 17,
    "start_time": "2022-07-18T08:51:22.552Z"
   },
   {
    "duration": 8,
    "start_time": "2022-07-18T08:51:22.573Z"
   },
   {
    "duration": 12,
    "start_time": "2022-07-18T08:51:22.583Z"
   },
   {
    "duration": 38,
    "start_time": "2022-07-18T08:51:22.597Z"
   },
   {
    "duration": 33,
    "start_time": "2022-07-18T08:51:22.637Z"
   },
   {
    "duration": 16,
    "start_time": "2022-07-18T08:51:22.673Z"
   },
   {
    "duration": 17,
    "start_time": "2022-07-18T08:51:22.691Z"
   },
   {
    "duration": 14,
    "start_time": "2022-07-18T08:51:22.710Z"
   },
   {
    "duration": 14,
    "start_time": "2022-07-18T08:51:22.726Z"
   },
   {
    "duration": 37,
    "start_time": "2022-07-18T08:51:22.741Z"
   },
   {
    "duration": 417,
    "start_time": "2022-07-18T08:51:22.779Z"
   },
   {
    "duration": 10,
    "start_time": "2022-07-18T08:51:23.197Z"
   },
   {
    "duration": 20,
    "start_time": "2022-07-18T08:51:23.209Z"
   },
   {
    "duration": 4,
    "start_time": "2022-07-18T08:51:23.230Z"
   },
   {
    "duration": 30,
    "start_time": "2022-07-18T08:51:23.236Z"
   },
   {
    "duration": 20,
    "start_time": "2022-07-18T08:51:23.268Z"
   },
   {
    "duration": 14,
    "start_time": "2022-07-18T08:51:23.289Z"
   },
   {
    "duration": 4,
    "start_time": "2022-07-18T08:51:23.304Z"
   },
   {
    "duration": 12,
    "start_time": "2022-07-18T08:51:23.309Z"
   },
   {
    "duration": 13,
    "start_time": "2022-07-18T08:51:23.323Z"
   },
   {
    "duration": 33,
    "start_time": "2022-07-18T08:51:23.337Z"
   },
   {
    "duration": 7,
    "start_time": "2022-07-18T08:51:23.372Z"
   },
   {
    "duration": 36,
    "start_time": "2022-07-18T08:51:23.380Z"
   },
   {
    "duration": 4,
    "start_time": "2022-07-18T08:51:23.418Z"
   },
   {
    "duration": 8,
    "start_time": "2022-07-18T08:51:23.424Z"
   },
   {
    "duration": 29,
    "start_time": "2022-07-18T08:51:23.434Z"
   },
   {
    "duration": 26,
    "start_time": "2022-07-18T08:51:23.465Z"
   },
   {
    "duration": 19,
    "start_time": "2022-07-18T08:51:23.493Z"
   },
   {
    "duration": 5,
    "start_time": "2022-07-18T08:51:23.514Z"
   },
   {
    "duration": 13,
    "start_time": "2022-07-18T08:51:23.520Z"
   },
   {
    "duration": 5,
    "start_time": "2022-07-18T08:51:23.535Z"
   },
   {
    "duration": 24,
    "start_time": "2022-07-18T08:51:23.541Z"
   },
   {
    "duration": 8,
    "start_time": "2022-07-18T08:51:23.566Z"
   },
   {
    "duration": 5,
    "start_time": "2022-07-18T08:51:23.576Z"
   },
   {
    "duration": 13,
    "start_time": "2022-07-18T08:51:23.583Z"
   },
   {
    "duration": 29,
    "start_time": "2022-07-18T08:51:32.467Z"
   }
  ],
  "kernelspec": {
   "display_name": "Python 3 (ipykernel)",
   "language": "python",
   "name": "python3"
  },
  "language_info": {
   "codemirror_mode": {
    "name": "ipython",
    "version": 3
   },
   "file_extension": ".py",
   "mimetype": "text/x-python",
   "name": "python",
   "nbconvert_exporter": "python",
   "pygments_lexer": "ipython3",
   "version": "3.9.7"
  },
  "toc": {
   "base_numbering": 1,
   "nav_menu": {},
   "number_sections": true,
   "sideBar": true,
   "skip_h1_title": true,
   "title_cell": "Table of Contents",
   "title_sidebar": "Contents",
   "toc_cell": false,
   "toc_position": {
    "height": "calc(100% - 180px)",
    "left": "10px",
    "top": "150px",
    "width": "270.391px"
   },
   "toc_section_display": true,
   "toc_window_display": true
  }
 },
 "nbformat": 4,
 "nbformat_minor": 2
}
