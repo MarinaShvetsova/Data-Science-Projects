{
 "cells": [
  {
   "cell_type": "markdown",
   "metadata": {},
   "source": [
    "# Сборный проект"
   ]
  },
  {
   "cell_type": "markdown",
   "metadata": {},
   "source": [
    "# Описание проекта\n",
    "\n",
    "Интернет-магазин **«Стримчик»** продаёт по всему миру компьютерные игры. \n",
    "<br> Из открытых источников доступны исторические данные о продажах игр, оценки пользователей и экспертов, жанры и платформы (например, Xbox или PlayStation). \n",
    "<br> Необходимо выявить определяющие успешность игры закономерности. Это позволит сделать ставку на потенциально популярный продукт и спланировать рекламные кампании.\n",
    "<br> Имеются в распоряжении данные до 2016 года. Представим, что сейчас декабрь 2016 г., и вы планируете кампанию на 2017-й. \n",
    "<br> Нужно отработать принцип работы с данными. Неважно, прогнозируете ли вы продажи на 2017 год по данным 2016-го или же 2027-й — по данным 2026 года.\n",
    "<br> В наборе данных попадается аббревиатура ESRB (Entertainment Software Rating Board) — это ассоциация, определяющая возрастной рейтинг компьютерных игр. ESRB оценивает игровой контент и присваивает ему подходящую возрастную категорию, например, «Для взрослых», «Для детей младшего возраста» или «Для подростков»."
   ]
  },
  {
   "cell_type": "markdown",
   "metadata": {},
   "source": [
    "# Описание данных\n",
    "\n",
    "- `Name` — название игры\n",
    "- `Platform` — платформа\n",
    "- `Year_of_Release` — год выпуска\n",
    "- `Genre` — жанр игры\n",
    "- `NA_sales` — продажи в Северной Америке (миллионы проданных копий)\n",
    "- `EU_sales` — продажи в Европе (миллионы проданных копий)\n",
    "- `JP_sales` — продажи в Японии (миллионы проданных копий)\n",
    "- `Other_sales` — продажи в других странах (миллионы проданных копий)\n",
    "- `Critic_Score` — оценка критиков (максимум 100)\n",
    "- `User_Score` — оценка пользователей (максимум 10)\n",
    "- `Rating` — рейтинг от организации ESRB (англ. `Entertainment Software Rating Board`). Эта ассоциация определяет рейтинг компьютерных игр и присваивает им подходящую возрастную категорию"
   ]
  },
  {
   "cell_type": "markdown",
   "metadata": {},
   "source": [
    "## Изучение данных"
   ]
  },
  {
   "cell_type": "markdown",
   "metadata": {},
   "source": [
    "### Открытие файла"
   ]
  },
  {
   "cell_type": "code",
   "execution_count": 1,
   "metadata": {},
   "outputs": [],
   "source": [
    "# импортируем библиотеки для дальнейшей работы\n",
    "import pandas as pd\n",
    "import matplotlib.pyplot as plt\n",
    "import numpy as np\n",
    "from datetime import datetime\n",
    "from scipy import stats as st\n",
    "import math\n",
    "import seaborn as sns"
   ]
  },
  {
   "cell_type": "code",
   "execution_count": 2,
   "metadata": {},
   "outputs": [],
   "source": [
    "# откроем файл с данными\n",
    "games = pd.read_csv('/datasets/games.csv')"
   ]
  },
  {
   "cell_type": "markdown",
   "metadata": {},
   "source": [
    "### Изучение данных"
   ]
  },
  {
   "cell_type": "markdown",
   "metadata": {},
   "source": [
    "Изучим общую информацию"
   ]
  },
  {
   "cell_type": "code",
   "execution_count": 3,
   "metadata": {
    "scrolled": true
   },
   "outputs": [
    {
     "data": {
      "text/html": [
       "<div>\n",
       "<style scoped>\n",
       "    .dataframe tbody tr th:only-of-type {\n",
       "        vertical-align: middle;\n",
       "    }\n",
       "\n",
       "    .dataframe tbody tr th {\n",
       "        vertical-align: top;\n",
       "    }\n",
       "\n",
       "    .dataframe thead th {\n",
       "        text-align: right;\n",
       "    }\n",
       "</style>\n",
       "<table border=\"1\" class=\"dataframe\">\n",
       "  <thead>\n",
       "    <tr style=\"text-align: right;\">\n",
       "      <th></th>\n",
       "      <th>Name</th>\n",
       "      <th>Platform</th>\n",
       "      <th>Year_of_Release</th>\n",
       "      <th>Genre</th>\n",
       "      <th>NA_sales</th>\n",
       "      <th>EU_sales</th>\n",
       "      <th>JP_sales</th>\n",
       "      <th>Other_sales</th>\n",
       "      <th>Critic_Score</th>\n",
       "      <th>User_Score</th>\n",
       "      <th>Rating</th>\n",
       "    </tr>\n",
       "  </thead>\n",
       "  <tbody>\n",
       "    <tr>\n",
       "      <td>0</td>\n",
       "      <td>Wii Sports</td>\n",
       "      <td>Wii</td>\n",
       "      <td>2006.0</td>\n",
       "      <td>Sports</td>\n",
       "      <td>41.36</td>\n",
       "      <td>28.96</td>\n",
       "      <td>3.77</td>\n",
       "      <td>8.45</td>\n",
       "      <td>76.0</td>\n",
       "      <td>8</td>\n",
       "      <td>E</td>\n",
       "    </tr>\n",
       "    <tr>\n",
       "      <td>1</td>\n",
       "      <td>Super Mario Bros.</td>\n",
       "      <td>NES</td>\n",
       "      <td>1985.0</td>\n",
       "      <td>Platform</td>\n",
       "      <td>29.08</td>\n",
       "      <td>3.58</td>\n",
       "      <td>6.81</td>\n",
       "      <td>0.77</td>\n",
       "      <td>NaN</td>\n",
       "      <td>NaN</td>\n",
       "      <td>NaN</td>\n",
       "    </tr>\n",
       "    <tr>\n",
       "      <td>2</td>\n",
       "      <td>Mario Kart Wii</td>\n",
       "      <td>Wii</td>\n",
       "      <td>2008.0</td>\n",
       "      <td>Racing</td>\n",
       "      <td>15.68</td>\n",
       "      <td>12.76</td>\n",
       "      <td>3.79</td>\n",
       "      <td>3.29</td>\n",
       "      <td>82.0</td>\n",
       "      <td>8.3</td>\n",
       "      <td>E</td>\n",
       "    </tr>\n",
       "    <tr>\n",
       "      <td>3</td>\n",
       "      <td>Wii Sports Resort</td>\n",
       "      <td>Wii</td>\n",
       "      <td>2009.0</td>\n",
       "      <td>Sports</td>\n",
       "      <td>15.61</td>\n",
       "      <td>10.93</td>\n",
       "      <td>3.28</td>\n",
       "      <td>2.95</td>\n",
       "      <td>80.0</td>\n",
       "      <td>8</td>\n",
       "      <td>E</td>\n",
       "    </tr>\n",
       "    <tr>\n",
       "      <td>4</td>\n",
       "      <td>Pokemon Red/Pokemon Blue</td>\n",
       "      <td>GB</td>\n",
       "      <td>1996.0</td>\n",
       "      <td>Role-Playing</td>\n",
       "      <td>11.27</td>\n",
       "      <td>8.89</td>\n",
       "      <td>10.22</td>\n",
       "      <td>1.00</td>\n",
       "      <td>NaN</td>\n",
       "      <td>NaN</td>\n",
       "      <td>NaN</td>\n",
       "    </tr>\n",
       "    <tr>\n",
       "      <td>5</td>\n",
       "      <td>Tetris</td>\n",
       "      <td>GB</td>\n",
       "      <td>1989.0</td>\n",
       "      <td>Puzzle</td>\n",
       "      <td>23.20</td>\n",
       "      <td>2.26</td>\n",
       "      <td>4.22</td>\n",
       "      <td>0.58</td>\n",
       "      <td>NaN</td>\n",
       "      <td>NaN</td>\n",
       "      <td>NaN</td>\n",
       "    </tr>\n",
       "    <tr>\n",
       "      <td>6</td>\n",
       "      <td>New Super Mario Bros.</td>\n",
       "      <td>DS</td>\n",
       "      <td>2006.0</td>\n",
       "      <td>Platform</td>\n",
       "      <td>11.28</td>\n",
       "      <td>9.14</td>\n",
       "      <td>6.50</td>\n",
       "      <td>2.88</td>\n",
       "      <td>89.0</td>\n",
       "      <td>8.5</td>\n",
       "      <td>E</td>\n",
       "    </tr>\n",
       "    <tr>\n",
       "      <td>7</td>\n",
       "      <td>Wii Play</td>\n",
       "      <td>Wii</td>\n",
       "      <td>2006.0</td>\n",
       "      <td>Misc</td>\n",
       "      <td>13.96</td>\n",
       "      <td>9.18</td>\n",
       "      <td>2.93</td>\n",
       "      <td>2.84</td>\n",
       "      <td>58.0</td>\n",
       "      <td>6.6</td>\n",
       "      <td>E</td>\n",
       "    </tr>\n",
       "    <tr>\n",
       "      <td>8</td>\n",
       "      <td>New Super Mario Bros. Wii</td>\n",
       "      <td>Wii</td>\n",
       "      <td>2009.0</td>\n",
       "      <td>Platform</td>\n",
       "      <td>14.44</td>\n",
       "      <td>6.94</td>\n",
       "      <td>4.70</td>\n",
       "      <td>2.24</td>\n",
       "      <td>87.0</td>\n",
       "      <td>8.4</td>\n",
       "      <td>E</td>\n",
       "    </tr>\n",
       "    <tr>\n",
       "      <td>9</td>\n",
       "      <td>Duck Hunt</td>\n",
       "      <td>NES</td>\n",
       "      <td>1984.0</td>\n",
       "      <td>Shooter</td>\n",
       "      <td>26.93</td>\n",
       "      <td>0.63</td>\n",
       "      <td>0.28</td>\n",
       "      <td>0.47</td>\n",
       "      <td>NaN</td>\n",
       "      <td>NaN</td>\n",
       "      <td>NaN</td>\n",
       "    </tr>\n",
       "  </tbody>\n",
       "</table>\n",
       "</div>"
      ],
      "text/plain": [
       "                        Name Platform  Year_of_Release         Genre  \\\n",
       "0                 Wii Sports      Wii           2006.0        Sports   \n",
       "1          Super Mario Bros.      NES           1985.0      Platform   \n",
       "2             Mario Kart Wii      Wii           2008.0        Racing   \n",
       "3          Wii Sports Resort      Wii           2009.0        Sports   \n",
       "4   Pokemon Red/Pokemon Blue       GB           1996.0  Role-Playing   \n",
       "5                     Tetris       GB           1989.0        Puzzle   \n",
       "6      New Super Mario Bros.       DS           2006.0      Platform   \n",
       "7                   Wii Play      Wii           2006.0          Misc   \n",
       "8  New Super Mario Bros. Wii      Wii           2009.0      Platform   \n",
       "9                  Duck Hunt      NES           1984.0       Shooter   \n",
       "\n",
       "   NA_sales  EU_sales  JP_sales  Other_sales  Critic_Score User_Score Rating  \n",
       "0     41.36     28.96      3.77         8.45          76.0          8      E  \n",
       "1     29.08      3.58      6.81         0.77           NaN        NaN    NaN  \n",
       "2     15.68     12.76      3.79         3.29          82.0        8.3      E  \n",
       "3     15.61     10.93      3.28         2.95          80.0          8      E  \n",
       "4     11.27      8.89     10.22         1.00           NaN        NaN    NaN  \n",
       "5     23.20      2.26      4.22         0.58           NaN        NaN    NaN  \n",
       "6     11.28      9.14      6.50         2.88          89.0        8.5      E  \n",
       "7     13.96      9.18      2.93         2.84          58.0        6.6      E  \n",
       "8     14.44      6.94      4.70         2.24          87.0        8.4      E  \n",
       "9     26.93      0.63      0.28         0.47           NaN        NaN    NaN  "
      ]
     },
     "execution_count": 3,
     "metadata": {},
     "output_type": "execute_result"
    }
   ],
   "source": [
    "games.head(10)"
   ]
  },
  {
   "cell_type": "code",
   "execution_count": 4,
   "metadata": {},
   "outputs": [
    {
     "data": {
      "text/html": [
       "<div>\n",
       "<style scoped>\n",
       "    .dataframe tbody tr th:only-of-type {\n",
       "        vertical-align: middle;\n",
       "    }\n",
       "\n",
       "    .dataframe tbody tr th {\n",
       "        vertical-align: top;\n",
       "    }\n",
       "\n",
       "    .dataframe thead th {\n",
       "        text-align: right;\n",
       "    }\n",
       "</style>\n",
       "<table border=\"1\" class=\"dataframe\">\n",
       "  <thead>\n",
       "    <tr style=\"text-align: right;\">\n",
       "      <th></th>\n",
       "      <th>Name</th>\n",
       "      <th>Platform</th>\n",
       "      <th>Year_of_Release</th>\n",
       "      <th>Genre</th>\n",
       "      <th>NA_sales</th>\n",
       "      <th>EU_sales</th>\n",
       "      <th>JP_sales</th>\n",
       "      <th>Other_sales</th>\n",
       "      <th>Critic_Score</th>\n",
       "      <th>User_Score</th>\n",
       "      <th>Rating</th>\n",
       "    </tr>\n",
       "  </thead>\n",
       "  <tbody>\n",
       "    <tr>\n",
       "      <td>16705</td>\n",
       "      <td>15 Days</td>\n",
       "      <td>PC</td>\n",
       "      <td>2009.0</td>\n",
       "      <td>Adventure</td>\n",
       "      <td>0.00</td>\n",
       "      <td>0.01</td>\n",
       "      <td>0.00</td>\n",
       "      <td>0.0</td>\n",
       "      <td>63.0</td>\n",
       "      <td>5.8</td>\n",
       "      <td>NaN</td>\n",
       "    </tr>\n",
       "    <tr>\n",
       "      <td>16706</td>\n",
       "      <td>Men in Black II: Alien Escape</td>\n",
       "      <td>GC</td>\n",
       "      <td>2003.0</td>\n",
       "      <td>Shooter</td>\n",
       "      <td>0.01</td>\n",
       "      <td>0.00</td>\n",
       "      <td>0.00</td>\n",
       "      <td>0.0</td>\n",
       "      <td>NaN</td>\n",
       "      <td>tbd</td>\n",
       "      <td>T</td>\n",
       "    </tr>\n",
       "    <tr>\n",
       "      <td>16707</td>\n",
       "      <td>Aiyoku no Eustia</td>\n",
       "      <td>PSV</td>\n",
       "      <td>2014.0</td>\n",
       "      <td>Misc</td>\n",
       "      <td>0.00</td>\n",
       "      <td>0.00</td>\n",
       "      <td>0.01</td>\n",
       "      <td>0.0</td>\n",
       "      <td>NaN</td>\n",
       "      <td>NaN</td>\n",
       "      <td>NaN</td>\n",
       "    </tr>\n",
       "    <tr>\n",
       "      <td>16708</td>\n",
       "      <td>Woody Woodpecker in Crazy Castle 5</td>\n",
       "      <td>GBA</td>\n",
       "      <td>2002.0</td>\n",
       "      <td>Platform</td>\n",
       "      <td>0.01</td>\n",
       "      <td>0.00</td>\n",
       "      <td>0.00</td>\n",
       "      <td>0.0</td>\n",
       "      <td>NaN</td>\n",
       "      <td>NaN</td>\n",
       "      <td>NaN</td>\n",
       "    </tr>\n",
       "    <tr>\n",
       "      <td>16709</td>\n",
       "      <td>SCORE International Baja 1000: The Official Game</td>\n",
       "      <td>PS2</td>\n",
       "      <td>2008.0</td>\n",
       "      <td>Racing</td>\n",
       "      <td>0.00</td>\n",
       "      <td>0.00</td>\n",
       "      <td>0.00</td>\n",
       "      <td>0.0</td>\n",
       "      <td>NaN</td>\n",
       "      <td>NaN</td>\n",
       "      <td>NaN</td>\n",
       "    </tr>\n",
       "    <tr>\n",
       "      <td>16710</td>\n",
       "      <td>Samurai Warriors: Sanada Maru</td>\n",
       "      <td>PS3</td>\n",
       "      <td>2016.0</td>\n",
       "      <td>Action</td>\n",
       "      <td>0.00</td>\n",
       "      <td>0.00</td>\n",
       "      <td>0.01</td>\n",
       "      <td>0.0</td>\n",
       "      <td>NaN</td>\n",
       "      <td>NaN</td>\n",
       "      <td>NaN</td>\n",
       "    </tr>\n",
       "    <tr>\n",
       "      <td>16711</td>\n",
       "      <td>LMA Manager 2007</td>\n",
       "      <td>X360</td>\n",
       "      <td>2006.0</td>\n",
       "      <td>Sports</td>\n",
       "      <td>0.00</td>\n",
       "      <td>0.01</td>\n",
       "      <td>0.00</td>\n",
       "      <td>0.0</td>\n",
       "      <td>NaN</td>\n",
       "      <td>NaN</td>\n",
       "      <td>NaN</td>\n",
       "    </tr>\n",
       "    <tr>\n",
       "      <td>16712</td>\n",
       "      <td>Haitaka no Psychedelica</td>\n",
       "      <td>PSV</td>\n",
       "      <td>2016.0</td>\n",
       "      <td>Adventure</td>\n",
       "      <td>0.00</td>\n",
       "      <td>0.00</td>\n",
       "      <td>0.01</td>\n",
       "      <td>0.0</td>\n",
       "      <td>NaN</td>\n",
       "      <td>NaN</td>\n",
       "      <td>NaN</td>\n",
       "    </tr>\n",
       "    <tr>\n",
       "      <td>16713</td>\n",
       "      <td>Spirits &amp; Spells</td>\n",
       "      <td>GBA</td>\n",
       "      <td>2003.0</td>\n",
       "      <td>Platform</td>\n",
       "      <td>0.01</td>\n",
       "      <td>0.00</td>\n",
       "      <td>0.00</td>\n",
       "      <td>0.0</td>\n",
       "      <td>NaN</td>\n",
       "      <td>NaN</td>\n",
       "      <td>NaN</td>\n",
       "    </tr>\n",
       "    <tr>\n",
       "      <td>16714</td>\n",
       "      <td>Winning Post 8 2016</td>\n",
       "      <td>PSV</td>\n",
       "      <td>2016.0</td>\n",
       "      <td>Simulation</td>\n",
       "      <td>0.00</td>\n",
       "      <td>0.00</td>\n",
       "      <td>0.01</td>\n",
       "      <td>0.0</td>\n",
       "      <td>NaN</td>\n",
       "      <td>NaN</td>\n",
       "      <td>NaN</td>\n",
       "    </tr>\n",
       "  </tbody>\n",
       "</table>\n",
       "</div>"
      ],
      "text/plain": [
       "                                                   Name Platform  \\\n",
       "16705                                           15 Days       PC   \n",
       "16706                     Men in Black II: Alien Escape       GC   \n",
       "16707                                  Aiyoku no Eustia      PSV   \n",
       "16708                Woody Woodpecker in Crazy Castle 5      GBA   \n",
       "16709  SCORE International Baja 1000: The Official Game      PS2   \n",
       "16710                     Samurai Warriors: Sanada Maru      PS3   \n",
       "16711                                  LMA Manager 2007     X360   \n",
       "16712                           Haitaka no Psychedelica      PSV   \n",
       "16713                                  Spirits & Spells      GBA   \n",
       "16714                               Winning Post 8 2016      PSV   \n",
       "\n",
       "       Year_of_Release       Genre  NA_sales  EU_sales  JP_sales  Other_sales  \\\n",
       "16705           2009.0   Adventure      0.00      0.01      0.00          0.0   \n",
       "16706           2003.0     Shooter      0.01      0.00      0.00          0.0   \n",
       "16707           2014.0        Misc      0.00      0.00      0.01          0.0   \n",
       "16708           2002.0    Platform      0.01      0.00      0.00          0.0   \n",
       "16709           2008.0      Racing      0.00      0.00      0.00          0.0   \n",
       "16710           2016.0      Action      0.00      0.00      0.01          0.0   \n",
       "16711           2006.0      Sports      0.00      0.01      0.00          0.0   \n",
       "16712           2016.0   Adventure      0.00      0.00      0.01          0.0   \n",
       "16713           2003.0    Platform      0.01      0.00      0.00          0.0   \n",
       "16714           2016.0  Simulation      0.00      0.00      0.01          0.0   \n",
       "\n",
       "       Critic_Score User_Score Rating  \n",
       "16705          63.0        5.8    NaN  \n",
       "16706           NaN        tbd      T  \n",
       "16707           NaN        NaN    NaN  \n",
       "16708           NaN        NaN    NaN  \n",
       "16709           NaN        NaN    NaN  \n",
       "16710           NaN        NaN    NaN  \n",
       "16711           NaN        NaN    NaN  \n",
       "16712           NaN        NaN    NaN  \n",
       "16713           NaN        NaN    NaN  \n",
       "16714           NaN        NaN    NaN  "
      ]
     },
     "execution_count": 4,
     "metadata": {},
     "output_type": "execute_result"
    }
   ],
   "source": [
    "games.tail(10)"
   ]
  },
  {
   "cell_type": "code",
   "execution_count": 5,
   "metadata": {},
   "outputs": [
    {
     "data": {
      "text/html": [
       "<div>\n",
       "<style scoped>\n",
       "    .dataframe tbody tr th:only-of-type {\n",
       "        vertical-align: middle;\n",
       "    }\n",
       "\n",
       "    .dataframe tbody tr th {\n",
       "        vertical-align: top;\n",
       "    }\n",
       "\n",
       "    .dataframe thead th {\n",
       "        text-align: right;\n",
       "    }\n",
       "</style>\n",
       "<table border=\"1\" class=\"dataframe\">\n",
       "  <thead>\n",
       "    <tr style=\"text-align: right;\">\n",
       "      <th></th>\n",
       "      <th>Year_of_Release</th>\n",
       "      <th>NA_sales</th>\n",
       "      <th>EU_sales</th>\n",
       "      <th>JP_sales</th>\n",
       "      <th>Other_sales</th>\n",
       "      <th>Critic_Score</th>\n",
       "    </tr>\n",
       "  </thead>\n",
       "  <tbody>\n",
       "    <tr>\n",
       "      <td>count</td>\n",
       "      <td>16446.000000</td>\n",
       "      <td>16715.000000</td>\n",
       "      <td>16715.000000</td>\n",
       "      <td>16715.000000</td>\n",
       "      <td>16715.000000</td>\n",
       "      <td>8137.000000</td>\n",
       "    </tr>\n",
       "    <tr>\n",
       "      <td>mean</td>\n",
       "      <td>2006.484616</td>\n",
       "      <td>0.263377</td>\n",
       "      <td>0.145060</td>\n",
       "      <td>0.077617</td>\n",
       "      <td>0.047342</td>\n",
       "      <td>68.967679</td>\n",
       "    </tr>\n",
       "    <tr>\n",
       "      <td>std</td>\n",
       "      <td>5.877050</td>\n",
       "      <td>0.813604</td>\n",
       "      <td>0.503339</td>\n",
       "      <td>0.308853</td>\n",
       "      <td>0.186731</td>\n",
       "      <td>13.938165</td>\n",
       "    </tr>\n",
       "    <tr>\n",
       "      <td>min</td>\n",
       "      <td>1980.000000</td>\n",
       "      <td>0.000000</td>\n",
       "      <td>0.000000</td>\n",
       "      <td>0.000000</td>\n",
       "      <td>0.000000</td>\n",
       "      <td>13.000000</td>\n",
       "    </tr>\n",
       "    <tr>\n",
       "      <td>25%</td>\n",
       "      <td>2003.000000</td>\n",
       "      <td>0.000000</td>\n",
       "      <td>0.000000</td>\n",
       "      <td>0.000000</td>\n",
       "      <td>0.000000</td>\n",
       "      <td>60.000000</td>\n",
       "    </tr>\n",
       "    <tr>\n",
       "      <td>50%</td>\n",
       "      <td>2007.000000</td>\n",
       "      <td>0.080000</td>\n",
       "      <td>0.020000</td>\n",
       "      <td>0.000000</td>\n",
       "      <td>0.010000</td>\n",
       "      <td>71.000000</td>\n",
       "    </tr>\n",
       "    <tr>\n",
       "      <td>75%</td>\n",
       "      <td>2010.000000</td>\n",
       "      <td>0.240000</td>\n",
       "      <td>0.110000</td>\n",
       "      <td>0.040000</td>\n",
       "      <td>0.030000</td>\n",
       "      <td>79.000000</td>\n",
       "    </tr>\n",
       "    <tr>\n",
       "      <td>max</td>\n",
       "      <td>2016.000000</td>\n",
       "      <td>41.360000</td>\n",
       "      <td>28.960000</td>\n",
       "      <td>10.220000</td>\n",
       "      <td>10.570000</td>\n",
       "      <td>98.000000</td>\n",
       "    </tr>\n",
       "  </tbody>\n",
       "</table>\n",
       "</div>"
      ],
      "text/plain": [
       "       Year_of_Release      NA_sales      EU_sales      JP_sales  \\\n",
       "count     16446.000000  16715.000000  16715.000000  16715.000000   \n",
       "mean       2006.484616      0.263377      0.145060      0.077617   \n",
       "std           5.877050      0.813604      0.503339      0.308853   \n",
       "min        1980.000000      0.000000      0.000000      0.000000   \n",
       "25%        2003.000000      0.000000      0.000000      0.000000   \n",
       "50%        2007.000000      0.080000      0.020000      0.000000   \n",
       "75%        2010.000000      0.240000      0.110000      0.040000   \n",
       "max        2016.000000     41.360000     28.960000     10.220000   \n",
       "\n",
       "        Other_sales  Critic_Score  \n",
       "count  16715.000000   8137.000000  \n",
       "mean       0.047342     68.967679  \n",
       "std        0.186731     13.938165  \n",
       "min        0.000000     13.000000  \n",
       "25%        0.000000     60.000000  \n",
       "50%        0.010000     71.000000  \n",
       "75%        0.030000     79.000000  \n",
       "max       10.570000     98.000000  "
      ]
     },
     "execution_count": 5,
     "metadata": {},
     "output_type": "execute_result"
    }
   ],
   "source": [
    "games.describe()"
   ]
  },
  {
   "cell_type": "code",
   "execution_count": 6,
   "metadata": {
    "scrolled": true
   },
   "outputs": [
    {
     "name": "stdout",
     "output_type": "stream",
     "text": [
      "<class 'pandas.core.frame.DataFrame'>\n",
      "RangeIndex: 16715 entries, 0 to 16714\n",
      "Data columns (total 11 columns):\n",
      "Name               16713 non-null object\n",
      "Platform           16715 non-null object\n",
      "Year_of_Release    16446 non-null float64\n",
      "Genre              16713 non-null object\n",
      "NA_sales           16715 non-null float64\n",
      "EU_sales           16715 non-null float64\n",
      "JP_sales           16715 non-null float64\n",
      "Other_sales        16715 non-null float64\n",
      "Critic_Score       8137 non-null float64\n",
      "User_Score         10014 non-null object\n",
      "Rating             9949 non-null object\n",
      "dtypes: float64(6), object(5)\n",
      "memory usage: 1.4+ MB\n"
     ]
    }
   ],
   "source": [
    "games.info()"
   ]
  },
  {
   "cell_type": "code",
   "execution_count": 7,
   "metadata": {
    "scrolled": true
   },
   "outputs": [
    {
     "data": {
      "text/plain": [
       "Platform              0\n",
       "NA_sales              0\n",
       "EU_sales              0\n",
       "JP_sales              0\n",
       "Other_sales           0\n",
       "Name                  2\n",
       "Genre                 2\n",
       "Year_of_Release     269\n",
       "User_Score         6701\n",
       "Rating             6766\n",
       "Critic_Score       8578\n",
       "dtype: int64"
      ]
     },
     "execution_count": 7,
     "metadata": {},
     "output_type": "execute_result"
    }
   ],
   "source": [
    "# проверим, сколько есть пропусков в данных и отсортируем их по возрастанию\n",
    "games.isna().sum().sort_values()"
   ]
  },
  {
   "cell_type": "code",
   "execution_count": 8,
   "metadata": {
    "scrolled": true
   },
   "outputs": [
    {
     "data": {
      "text/plain": [
       "Platform            0.00\n",
       "NA_sales            0.00\n",
       "EU_sales            0.00\n",
       "JP_sales            0.00\n",
       "Other_sales         0.00\n",
       "Name                0.01\n",
       "Genre               0.01\n",
       "Year_of_Release     1.61\n",
       "User_Score         40.09\n",
       "Rating             40.48\n",
       "Critic_Score       51.32\n",
       "dtype: float64"
      ]
     },
     "execution_count": 8,
     "metadata": {},
     "output_type": "execute_result"
    }
   ],
   "source": [
    "# посчитаем пропуски в процентах от всех записей\n",
    "games.isna().mean().sort_values().round(4)*100"
   ]
  },
  {
   "cell_type": "markdown",
   "metadata": {},
   "source": [
    "### Вывод\n",
    "в данных видим следующее:\n",
    "- в названии столбцов присутствуют разные регистры написания, требуется привести все названия к нижнему регистру\n",
    "- всего записей 16715, есть пропуски данных (от 2 до 51% по столбцам с годом выпуска, оценкой пользователей, рейтингом и оценкой критиков), их нужно будет рассмотреть далее. Две записи с пропущенным именем лучше удалить, т.к. ценности они не несут и они не окажут влияние на общий анализ\n",
    "- типы данных в столбцах `Year_of_Release` и `Critic_Score` (т.к. в данных не встречается рейтинг с десятичными значениями) лучше привести к целочисленным (тип `int`)\n",
    "- тип данных столбца `User_Score` привести к типу `float`"
   ]
  },
  {
   "cell_type": "markdown",
   "metadata": {},
   "source": [
    "## Подготовка данных"
   ]
  },
  {
   "cell_type": "markdown",
   "metadata": {},
   "source": [
    "### Стиль заголовков"
   ]
  },
  {
   "cell_type": "markdown",
   "metadata": {},
   "source": [
    "Исправим названия столбцов"
   ]
  },
  {
   "cell_type": "code",
   "execution_count": 9,
   "metadata": {},
   "outputs": [
    {
     "data": {
      "text/plain": [
       "Index(['Name', 'Platform', 'Year_of_Release', 'Genre', 'NA_sales', 'EU_sales',\n",
       "       'JP_sales', 'Other_sales', 'Critic_Score', 'User_Score', 'Rating'],\n",
       "      dtype='object')"
      ]
     },
     "execution_count": 9,
     "metadata": {},
     "output_type": "execute_result"
    }
   ],
   "source": [
    "games.columns # выведем перечень столбцов для наглядности"
   ]
  },
  {
   "cell_type": "code",
   "execution_count": 10,
   "metadata": {},
   "outputs": [],
   "source": [
    "# приведем столбцы к нижнему регистру\n",
    "games.columns = games.columns.str.lower()"
   ]
  },
  {
   "cell_type": "code",
   "execution_count": 11,
   "metadata": {},
   "outputs": [
    {
     "data": {
      "text/plain": [
       "Index(['name', 'platform', 'year_of_release', 'genre', 'na_sales', 'eu_sales',\n",
       "       'jp_sales', 'other_sales', 'critic_score', 'user_score', 'rating'],\n",
       "      dtype='object')"
      ]
     },
     "execution_count": 11,
     "metadata": {},
     "output_type": "execute_result"
    }
   ],
   "source": [
    "games.columns # проверим изменения"
   ]
  },
  {
   "cell_type": "markdown",
   "metadata": {},
   "source": [
    "### Замена типа данных и обработка пропусков"
   ]
  },
  {
   "cell_type": "code",
   "execution_count": 12,
   "metadata": {},
   "outputs": [],
   "source": [
    "# удалим две строки с пропущенными значениями названия\n",
    "games.dropna(subset=['name'], inplace=True)"
   ]
  },
  {
   "cell_type": "code",
   "execution_count": 13,
   "metadata": {
    "scrolled": true
   },
   "outputs": [
    {
     "data": {
      "text/plain": [
       "array([76., nan, 82., 80., 89., 58., 87., 91., 61., 97., 95., 77., 88.,\n",
       "       83., 94., 93., 85., 86., 98., 96., 90., 84., 73., 74., 78., 92.,\n",
       "       71., 72., 68., 62., 49., 67., 81., 66., 56., 79., 70., 59., 64.,\n",
       "       75., 60., 63., 69., 50., 25., 42., 44., 55., 48., 57., 29., 47.,\n",
       "       65., 54., 20., 53., 37., 38., 33., 52., 30., 32., 43., 45., 51.,\n",
       "       40., 46., 39., 34., 35., 41., 36., 28., 31., 27., 26., 19., 23.,\n",
       "       24., 21., 17., 22., 13.])"
      ]
     },
     "execution_count": 13,
     "metadata": {},
     "output_type": "execute_result"
    }
   ],
   "source": [
    "# посмотрим уникальные значения столбца с оценкой критиков\n",
    "games['critic_score'].unique()"
   ]
  },
  {
   "cell_type": "code",
   "execution_count": 15,
   "metadata": {},
   "outputs": [
    {
     "name": "stdout",
     "output_type": "stream",
     "text": [
      "<class 'pandas.core.frame.DataFrame'>\n",
      "Int64Index: 16713 entries, 0 to 16714\n",
      "Data columns (total 11 columns):\n",
      "name               16713 non-null object\n",
      "platform           16713 non-null object\n",
      "year_of_release    16444 non-null float64\n",
      "genre              16713 non-null object\n",
      "na_sales           16713 non-null float64\n",
      "eu_sales           16713 non-null float64\n",
      "jp_sales           16713 non-null float64\n",
      "other_sales        16713 non-null float64\n",
      "critic_score       8137 non-null float64\n",
      "user_score         10014 non-null object\n",
      "rating             9949 non-null object\n",
      "dtypes: float64(6), object(5)\n",
      "memory usage: 1.5+ MB\n"
     ]
    }
   ],
   "source": [
    "games.info()"
   ]
  },
  {
   "cell_type": "code",
   "execution_count": 16,
   "metadata": {},
   "outputs": [],
   "source": [
    "# заполним пропущенные значения с рейтингом\n",
    "games['rating'] = games['rating'].fillna('no rating')"
   ]
  },
  {
   "cell_type": "code",
   "execution_count": 17,
   "metadata": {},
   "outputs": [
    {
     "data": {
      "text/plain": [
       "array(['8', nan, '8.3', '8.5', '6.6', '8.4', '8.6', '7.7', '6.3', '7.4',\n",
       "       '8.2', '9', '7.9', '8.1', '8.7', '7.1', '3.4', '5.3', '4.8', '3.2',\n",
       "       '8.9', '6.4', '7.8', '7.5', '2.6', '7.2', '9.2', '7', '7.3', '4.3',\n",
       "       '7.6', '5.7', '5', '9.1', '6.5', 'tbd', '8.8', '6.9', '9.4', '6.8',\n",
       "       '6.1', '6.7', '5.4', '4', '4.9', '4.5', '9.3', '6.2', '4.2', '6',\n",
       "       '3.7', '4.1', '5.8', '5.6', '5.5', '4.4', '4.6', '5.9', '3.9',\n",
       "       '3.1', '2.9', '5.2', '3.3', '4.7', '5.1', '3.5', '2.5', '1.9', '3',\n",
       "       '2.7', '2.2', '2', '9.5', '2.1', '3.6', '2.8', '1.8', '3.8', '0',\n",
       "       '1.6', '9.6', '2.4', '1.7', '1.1', '0.3', '1.5', '0.7', '1.2',\n",
       "       '2.3', '0.5', '1.3', '0.2', '0.6', '1.4', '0.9', '1', '9.7'],\n",
       "      dtype=object)"
      ]
     },
     "execution_count": 17,
     "metadata": {},
     "output_type": "execute_result"
    }
   ],
   "source": [
    "# посмотрим уникальные значения столбца с оценкой пользователей\n",
    "games['user_score'].unique()"
   ]
  },
  {
   "cell_type": "markdown",
   "metadata": {},
   "source": [
    "В данных есть:\n",
    "- пропущенные значения `nan` - записи не определены\n",
    "- игры с нулевым рейтингом\n",
    "- игры со значением `tbd` - возможно, сокращение от `to be discussed`. По своей сути - это тоже неопределенные записи\n",
    "Пропуски данных оставим без заполнения, т.к. нулем их заменять нельзя."
   ]
  },
  {
   "cell_type": "code",
   "execution_count": 18,
   "metadata": {},
   "outputs": [],
   "source": [
    "# преобразуем значения tbd в nan\n",
    "games.loc[games['user_score'] == 'tbd','user_score'] = np.nan"
   ]
  },
  {
   "cell_type": "code",
   "execution_count": 19,
   "metadata": {},
   "outputs": [],
   "source": [
    "games['user_score'] = games['user_score'].astype('float')"
   ]
  },
  {
   "cell_type": "code",
   "execution_count": 20,
   "metadata": {},
   "outputs": [
    {
     "name": "stdout",
     "output_type": "stream",
     "text": [
      "<class 'pandas.core.frame.DataFrame'>\n",
      "Int64Index: 16713 entries, 0 to 16714\n",
      "Data columns (total 11 columns):\n",
      "name               16713 non-null object\n",
      "platform           16713 non-null object\n",
      "year_of_release    16444 non-null float64\n",
      "genre              16713 non-null object\n",
      "na_sales           16713 non-null float64\n",
      "eu_sales           16713 non-null float64\n",
      "jp_sales           16713 non-null float64\n",
      "other_sales        16713 non-null float64\n",
      "critic_score       8137 non-null float64\n",
      "user_score         7590 non-null float64\n",
      "rating             16713 non-null object\n",
      "dtypes: float64(7), object(4)\n",
      "memory usage: 1.5+ MB\n"
     ]
    }
   ],
   "source": [
    "games.info()"
   ]
  },
  {
   "cell_type": "code",
   "execution_count": 21,
   "metadata": {
    "scrolled": true
   },
   "outputs": [
    {
     "data": {
      "text/plain": [
       "name                  0\n",
       "platform              0\n",
       "genre                 0\n",
       "na_sales              0\n",
       "eu_sales              0\n",
       "jp_sales              0\n",
       "other_sales           0\n",
       "rating                0\n",
       "year_of_release     269\n",
       "critic_score       8576\n",
       "user_score         9123\n",
       "dtype: int64"
      ]
     },
     "execution_count": 21,
     "metadata": {},
     "output_type": "execute_result"
    }
   ],
   "source": [
    "games.isna().sum().sort_values()"
   ]
  },
  {
   "cell_type": "code",
   "execution_count": 22,
   "metadata": {},
   "outputs": [
    {
     "name": "stdout",
     "output_type": "stream",
     "text": [
      "Количество дубликатов: 0\n"
     ]
    }
   ],
   "source": [
    "# проверим данные на наличие дубликатов\n",
    "print('Количество дубликатов:', games.duplicated().sum())"
   ]
  },
  {
   "cell_type": "markdown",
   "metadata": {},
   "source": [
    "Основные пропуски заполлнили, типы данных преобразовали к нужным форматам, дубликатов не обнаружили"
   ]
  },
  {
   "cell_type": "markdown",
   "metadata": {},
   "source": [
    "### Суммарные продажи"
   ]
  },
  {
   "cell_type": "markdown",
   "metadata": {},
   "source": [
    "Посчитаем суммарные продажи во всех регионах, добавим расчет в новый столбец"
   ]
  },
  {
   "cell_type": "code",
   "execution_count": 23,
   "metadata": {},
   "outputs": [],
   "source": [
    "# добавим столбец с общей выручкой по всем регионам\n",
    "games['total_sales'] = games.loc[:, 'na_sales':'other_sales'].sum(axis=1)"
   ]
  },
  {
   "cell_type": "code",
   "execution_count": 24,
   "metadata": {},
   "outputs": [
    {
     "data": {
      "text/html": [
       "<div>\n",
       "<style scoped>\n",
       "    .dataframe tbody tr th:only-of-type {\n",
       "        vertical-align: middle;\n",
       "    }\n",
       "\n",
       "    .dataframe tbody tr th {\n",
       "        vertical-align: top;\n",
       "    }\n",
       "\n",
       "    .dataframe thead th {\n",
       "        text-align: right;\n",
       "    }\n",
       "</style>\n",
       "<table border=\"1\" class=\"dataframe\">\n",
       "  <thead>\n",
       "    <tr style=\"text-align: right;\">\n",
       "      <th></th>\n",
       "      <th>name</th>\n",
       "      <th>platform</th>\n",
       "      <th>year_of_release</th>\n",
       "      <th>genre</th>\n",
       "      <th>na_sales</th>\n",
       "      <th>eu_sales</th>\n",
       "      <th>jp_sales</th>\n",
       "      <th>other_sales</th>\n",
       "      <th>critic_score</th>\n",
       "      <th>user_score</th>\n",
       "      <th>rating</th>\n",
       "      <th>total_sales</th>\n",
       "    </tr>\n",
       "  </thead>\n",
       "  <tbody>\n",
       "    <tr>\n",
       "      <td>0</td>\n",
       "      <td>Wii Sports</td>\n",
       "      <td>Wii</td>\n",
       "      <td>2006.0</td>\n",
       "      <td>Sports</td>\n",
       "      <td>41.36</td>\n",
       "      <td>28.96</td>\n",
       "      <td>3.77</td>\n",
       "      <td>8.45</td>\n",
       "      <td>76.0</td>\n",
       "      <td>8.0</td>\n",
       "      <td>E</td>\n",
       "      <td>82.54</td>\n",
       "    </tr>\n",
       "    <tr>\n",
       "      <td>1</td>\n",
       "      <td>Super Mario Bros.</td>\n",
       "      <td>NES</td>\n",
       "      <td>1985.0</td>\n",
       "      <td>Platform</td>\n",
       "      <td>29.08</td>\n",
       "      <td>3.58</td>\n",
       "      <td>6.81</td>\n",
       "      <td>0.77</td>\n",
       "      <td>NaN</td>\n",
       "      <td>NaN</td>\n",
       "      <td>no rating</td>\n",
       "      <td>40.24</td>\n",
       "    </tr>\n",
       "    <tr>\n",
       "      <td>2</td>\n",
       "      <td>Mario Kart Wii</td>\n",
       "      <td>Wii</td>\n",
       "      <td>2008.0</td>\n",
       "      <td>Racing</td>\n",
       "      <td>15.68</td>\n",
       "      <td>12.76</td>\n",
       "      <td>3.79</td>\n",
       "      <td>3.29</td>\n",
       "      <td>82.0</td>\n",
       "      <td>8.3</td>\n",
       "      <td>E</td>\n",
       "      <td>35.52</td>\n",
       "    </tr>\n",
       "    <tr>\n",
       "      <td>3</td>\n",
       "      <td>Wii Sports Resort</td>\n",
       "      <td>Wii</td>\n",
       "      <td>2009.0</td>\n",
       "      <td>Sports</td>\n",
       "      <td>15.61</td>\n",
       "      <td>10.93</td>\n",
       "      <td>3.28</td>\n",
       "      <td>2.95</td>\n",
       "      <td>80.0</td>\n",
       "      <td>8.0</td>\n",
       "      <td>E</td>\n",
       "      <td>32.77</td>\n",
       "    </tr>\n",
       "    <tr>\n",
       "      <td>4</td>\n",
       "      <td>Pokemon Red/Pokemon Blue</td>\n",
       "      <td>GB</td>\n",
       "      <td>1996.0</td>\n",
       "      <td>Role-Playing</td>\n",
       "      <td>11.27</td>\n",
       "      <td>8.89</td>\n",
       "      <td>10.22</td>\n",
       "      <td>1.00</td>\n",
       "      <td>NaN</td>\n",
       "      <td>NaN</td>\n",
       "      <td>no rating</td>\n",
       "      <td>31.38</td>\n",
       "    </tr>\n",
       "  </tbody>\n",
       "</table>\n",
       "</div>"
      ],
      "text/plain": [
       "                       name platform  year_of_release         genre  na_sales  \\\n",
       "0                Wii Sports      Wii           2006.0        Sports     41.36   \n",
       "1         Super Mario Bros.      NES           1985.0      Platform     29.08   \n",
       "2            Mario Kart Wii      Wii           2008.0        Racing     15.68   \n",
       "3         Wii Sports Resort      Wii           2009.0        Sports     15.61   \n",
       "4  Pokemon Red/Pokemon Blue       GB           1996.0  Role-Playing     11.27   \n",
       "\n",
       "   eu_sales  jp_sales  other_sales  critic_score  user_score     rating  \\\n",
       "0     28.96      3.77         8.45          76.0         8.0          E   \n",
       "1      3.58      6.81         0.77           NaN         NaN  no rating   \n",
       "2     12.76      3.79         3.29          82.0         8.3          E   \n",
       "3     10.93      3.28         2.95          80.0         8.0          E   \n",
       "4      8.89     10.22         1.00           NaN         NaN  no rating   \n",
       "\n",
       "   total_sales  \n",
       "0        82.54  \n",
       "1        40.24  \n",
       "2        35.52  \n",
       "3        32.77  \n",
       "4        31.38  "
      ]
     },
     "execution_count": 24,
     "metadata": {},
     "output_type": "execute_result"
    }
   ],
   "source": [
    "games.head()"
   ]
  },
  {
   "cell_type": "markdown",
   "metadata": {},
   "source": [
    "### Вывод"
   ]
  },
  {
   "cell_type": "markdown",
   "metadata": {},
   "source": [
    "В ходе подготовки данных сделали следующее:\n",
    "- скорректировали стиль заголовоков столбцов, приведя названия к нижнему регистру\n",
    "- удалили две строки с неизвестным названием игр\n",
    "- заменили тип данных столбца `User_Score` на float (заменив значения tbd на неопределенное nan)\n",
    "- добавили столбец с суммой продаж по всем регионам\n",
    "\n",
    "<br> Данные готовы для дальнейшего анализа."
   ]
  },
  {
   "cell_type": "markdown",
   "metadata": {},
   "source": [
    "## Исследовательский анализ данных"
   ]
  },
  {
   "cell_type": "markdown",
   "metadata": {},
   "source": [
    "**Задание:**\n",
    "1. Посмотрите, сколько игр выпускалось в разные годы. Важны ли данные за все периоды?\n",
    "2. Посмотрите, как менялись продажи по платформам. Выберите платформы с наибольшими суммарными продажами и постройте распределение по годам. За какой характерный срок появляются новые и исчезают старые платформы?\n",
    "Возьмите данные за соответствующий актуальный период. Актуальный период определите самостоятельно в результате исследования предыдущих вопросов. Основной фактор — эти данные помогут построить прогноз на 2017 год.\n",
    "Не учитывайте в работе данные за предыдущие годы.\n",
    "Какие платформы лидируют по продажам, растут или падают? Выберите несколько потенциально прибыльных платформ.\n",
    "Постройте график «ящик с усами» по глобальным продажам игр в разбивке по платформам. Опишите результат.\n",
    "3. Посмотрите, как влияют на продажи внутри одной популярной платформы отзывы пользователей и критиков. Постройте диаграмму рассеяния и посчитайте корреляцию между отзывами и продажами. Сформулируйте выводы.\n",
    "Соотнесите выводы с продажами игр на других платформах.\n",
    "4. Посмотрите на общее распределение игр по жанрам. Что можно сказать о самых прибыльных жанрах? Выделяются ли жанры с высокими и низкими продажами?"
   ]
  },
  {
   "cell_type": "markdown",
   "metadata": {},
   "source": [
    "### Статистика выпуска игр по годам"
   ]
  },
  {
   "cell_type": "code",
   "execution_count": 25,
   "metadata": {
    "scrolled": false
   },
   "outputs": [
    {
     "data": {
      "image/png": "[encoded data removed]",
      "text/plain": [
       "<Figure size 1584x576 with 1 Axes>"
      ]
     },
     "metadata": {
      "needs_background": "light"
     },
     "output_type": "display_data"
    }
   ],
   "source": [
    "# построим гистограмму, отбросив нулевые значения, где были пропуски данных\n",
    "games[games['year_of_release'] != 0]['year_of_release'].plot(kind='hist', bins=80, figsize=(22,8))\n",
    "plt.title('Распределение по годам релиза')\n",
    "plt.xlabel('Год')\n",
    "plt.ylabel('Кол-во');"
   ]
  },
  {
   "cell_type": "markdown",
   "metadata": {},
   "source": [
    "Глядя на график, видим, что рост выпуска игр начался после 1994 года и продолжался до 2009, после чего наблюдается сжатие рынка в два раза до уровня выпуска примерно 600 игр в год.\n",
    "<br> данные до 1994 можно отбросить, т.к. выпуск игр незначителен и не окажет влияния на целостную картину"
   ]
  },
  {
   "cell_type": "markdown",
   "metadata": {},
   "source": [
    "### Продажи по платформам"
   ]
  },
  {
   "cell_type": "code",
   "execution_count": 26,
   "metadata": {
    "scrolled": false
   },
   "outputs": [
    {
     "data": {
      "text/html": [
       "<div>\n",
       "<style scoped>\n",
       "    .dataframe tbody tr th:only-of-type {\n",
       "        vertical-align: middle;\n",
       "    }\n",
       "\n",
       "    .dataframe tbody tr th {\n",
       "        vertical-align: top;\n",
       "    }\n",
       "\n",
       "    .dataframe thead th {\n",
       "        text-align: right;\n",
       "    }\n",
       "</style>\n",
       "<table border=\"1\" class=\"dataframe\">\n",
       "  <thead>\n",
       "    <tr style=\"text-align: right;\">\n",
       "      <th></th>\n",
       "      <th>total_sales</th>\n",
       "    </tr>\n",
       "    <tr>\n",
       "      <th>platform</th>\n",
       "      <th></th>\n",
       "    </tr>\n",
       "  </thead>\n",
       "  <tbody>\n",
       "    <tr>\n",
       "      <td>PS2</td>\n",
       "      <td>1255.77</td>\n",
       "    </tr>\n",
       "    <tr>\n",
       "      <td>X360</td>\n",
       "      <td>971.42</td>\n",
       "    </tr>\n",
       "    <tr>\n",
       "      <td>PS3</td>\n",
       "      <td>939.65</td>\n",
       "    </tr>\n",
       "    <tr>\n",
       "      <td>Wii</td>\n",
       "      <td>907.51</td>\n",
       "    </tr>\n",
       "    <tr>\n",
       "      <td>DS</td>\n",
       "      <td>806.12</td>\n",
       "    </tr>\n",
       "    <tr>\n",
       "      <td>PS</td>\n",
       "      <td>730.86</td>\n",
       "    </tr>\n",
       "    <tr>\n",
       "      <td>GBA</td>\n",
       "      <td>317.85</td>\n",
       "    </tr>\n",
       "    <tr>\n",
       "      <td>PS4</td>\n",
       "      <td>314.14</td>\n",
       "    </tr>\n",
       "    <tr>\n",
       "      <td>PSP</td>\n",
       "      <td>294.05</td>\n",
       "    </tr>\n",
       "    <tr>\n",
       "      <td>PC</td>\n",
       "      <td>259.52</td>\n",
       "    </tr>\n",
       "    <tr>\n",
       "      <td>3DS</td>\n",
       "      <td>259.00</td>\n",
       "    </tr>\n",
       "    <tr>\n",
       "      <td>XB</td>\n",
       "      <td>257.74</td>\n",
       "    </tr>\n",
       "    <tr>\n",
       "      <td>GB</td>\n",
       "      <td>255.46</td>\n",
       "    </tr>\n",
       "    <tr>\n",
       "      <td>NES</td>\n",
       "      <td>251.05</td>\n",
       "    </tr>\n",
       "    <tr>\n",
       "      <td>N64</td>\n",
       "      <td>218.68</td>\n",
       "    </tr>\n",
       "    <tr>\n",
       "      <td>SNES</td>\n",
       "      <td>200.04</td>\n",
       "    </tr>\n",
       "    <tr>\n",
       "      <td>GC</td>\n",
       "      <td>198.93</td>\n",
       "    </tr>\n",
       "    <tr>\n",
       "      <td>XOne</td>\n",
       "      <td>159.32</td>\n",
       "    </tr>\n",
       "    <tr>\n",
       "      <td>2600</td>\n",
       "      <td>96.98</td>\n",
       "    </tr>\n",
       "    <tr>\n",
       "      <td>WiiU</td>\n",
       "      <td>82.19</td>\n",
       "    </tr>\n",
       "    <tr>\n",
       "      <td>PSV</td>\n",
       "      <td>54.07</td>\n",
       "    </tr>\n",
       "    <tr>\n",
       "      <td>SAT</td>\n",
       "      <td>33.59</td>\n",
       "    </tr>\n",
       "    <tr>\n",
       "      <td>GEN</td>\n",
       "      <td>28.35</td>\n",
       "    </tr>\n",
       "    <tr>\n",
       "      <td>DC</td>\n",
       "      <td>15.95</td>\n",
       "    </tr>\n",
       "    <tr>\n",
       "      <td>SCD</td>\n",
       "      <td>1.86</td>\n",
       "    </tr>\n",
       "    <tr>\n",
       "      <td>NG</td>\n",
       "      <td>1.44</td>\n",
       "    </tr>\n",
       "    <tr>\n",
       "      <td>WS</td>\n",
       "      <td>1.42</td>\n",
       "    </tr>\n",
       "    <tr>\n",
       "      <td>TG16</td>\n",
       "      <td>0.16</td>\n",
       "    </tr>\n",
       "    <tr>\n",
       "      <td>3DO</td>\n",
       "      <td>0.10</td>\n",
       "    </tr>\n",
       "    <tr>\n",
       "      <td>GG</td>\n",
       "      <td>0.04</td>\n",
       "    </tr>\n",
       "    <tr>\n",
       "      <td>PCFX</td>\n",
       "      <td>0.03</td>\n",
       "    </tr>\n",
       "  </tbody>\n",
       "</table>\n",
       "</div>"
      ],
      "text/plain": [
       "          total_sales\n",
       "platform             \n",
       "PS2           1255.77\n",
       "X360           971.42\n",
       "PS3            939.65\n",
       "Wii            907.51\n",
       "DS             806.12\n",
       "PS             730.86\n",
       "GBA            317.85\n",
       "PS4            314.14\n",
       "PSP            294.05\n",
       "PC             259.52\n",
       "3DS            259.00\n",
       "XB             257.74\n",
       "GB             255.46\n",
       "NES            251.05\n",
       "N64            218.68\n",
       "SNES           200.04\n",
       "GC             198.93\n",
       "XOne           159.32\n",
       "2600            96.98\n",
       "WiiU            82.19\n",
       "PSV             54.07\n",
       "SAT             33.59\n",
       "GEN             28.35\n",
       "DC              15.95\n",
       "SCD              1.86\n",
       "NG               1.44\n",
       "WS               1.42\n",
       "TG16             0.16\n",
       "3DO              0.10\n",
       "GG               0.04\n",
       "PCFX             0.03"
      ]
     },
     "execution_count": 26,
     "metadata": {},
     "output_type": "execute_result"
    }
   ],
   "source": [
    "# сгруппируем данные по продажам на различных платформах\n",
    "games.pivot_table(index='platform', values='total_sales', aggfunc='sum').sort_values(\n",
    "    'total_sales', ascending = False)"
   ]
  },
  {
   "cell_type": "code",
   "execution_count": 27,
   "metadata": {
    "scrolled": true
   },
   "outputs": [
    {
     "data": {
      "text/plain": [
       "130.0"
      ]
     },
     "execution_count": 27,
     "metadata": {},
     "output_type": "execute_result"
    }
   ],
   "source": [
    "games[games['year_of_release'] == 2016]['total_sales'].sum().round(0)"
   ]
  },
  {
   "cell_type": "code",
   "execution_count": 28,
   "metadata": {},
   "outputs": [
    {
     "data": {
      "text/plain": [
       "672.0"
      ]
     },
     "execution_count": 28,
     "metadata": {},
     "output_type": "execute_result"
    }
   ],
   "source": [
    "games[games['year_of_release'] == 2008]['total_sales'].sum().round(0)"
   ]
  },
  {
   "cell_type": "code",
   "execution_count": 29,
   "metadata": {
    "scrolled": true
   },
   "outputs": [
    {
     "data": {
      "image/png": "[encoded data removed]",
      "text/plain": [
       "<Figure size 432x288 with 1 Axes>"
      ]
     },
     "metadata": {
      "needs_background": "light"
     },
     "output_type": "display_data"
    }
   ],
   "source": [
    "#выберем ТОП платформ с наибольшими продажами и построим по ним график\n",
    "top_platform = games.pivot_table(index='platform', values='total_sales', aggfunc='sum').nlargest(8, 'total_sales')\n",
    "top_platform.plot(kind='bar');\n"
   ]
  },
  {
   "cell_type": "markdown",
   "metadata": {},
   "source": [
    "Лидером по продажам является PS2"
   ]
  },
  {
   "cell_type": "code",
   "execution_count": 30,
   "metadata": {
    "scrolled": false
   },
   "outputs": [
    {
     "data": {
      "image/png": "[encoded data removed]",
      "text/plain": [
       "<Figure size 1440x576 with 1 Axes>"
      ]
     },
     "metadata": {
      "needs_background": "light"
     },
     "output_type": "display_data"
    }
   ],
   "source": [
    "top_platform = games[(games['year_of_release'] != 0) & (games['year_of_release'] > 1994)\n",
    "      & (games['platform'].isin(('PS2', 'X360', 'PS3', 'Wii', 'DS', 'PS', 'GBA','PS4')))]\n",
    "\n",
    "top_platform.groupby('platform')['year_of_release'].plot.hist(alpha=0.5, legend=True, bins=20, figsize=(20,8));\n"
   ]
  },
  {
   "cell_type": "markdown",
   "metadata": {},
   "source": [
    "Посмотрим отдельно семейство платформ 'PS'"
   ]
  },
  {
   "cell_type": "code",
   "execution_count": 31,
   "metadata": {
    "scrolled": false
   },
   "outputs": [
    {
     "data": {
      "image/png": "[encoded data removed]",
      "text/plain": [
       "<Figure size 1440x576 with 1 Axes>"
      ]
     },
     "metadata": {
      "needs_background": "light"
     },
     "output_type": "display_data"
    }
   ],
   "source": [
    "top_platform_ps = games[(games['year_of_release'] != 0) & (games['year_of_release'] > 1994)\n",
    "      & (games['platform'].isin(('PS2','PS3', 'PS4')))]\n",
    "\n",
    "top_platform_ps.groupby('platform')['year_of_release'].plot.hist(\n",
    "    alpha=0.5, legend=True, bins=20, figsize=(20,8));\n"
   ]
  },
  {
   "cell_type": "markdown",
   "metadata": {},
   "source": [
    "На графике отчетливо видно, что следующая серия платформы заменяет предыдущую в моменте начала падения продаж с целью сохранения рынка и возобновления спроса на новую модель."
   ]
  },
  {
   "cell_type": "code",
   "execution_count": 32,
   "metadata": {},
   "outputs": [
    {
     "data": {
      "text/html": [
       "<div>\n",
       "<style scoped>\n",
       "    .dataframe tbody tr th:only-of-type {\n",
       "        vertical-align: middle;\n",
       "    }\n",
       "\n",
       "    .dataframe tbody tr th {\n",
       "        vertical-align: top;\n",
       "    }\n",
       "\n",
       "    .dataframe thead th {\n",
       "        text-align: right;\n",
       "    }\n",
       "</style>\n",
       "<table border=\"1\" class=\"dataframe\">\n",
       "  <thead>\n",
       "    <tr style=\"text-align: right;\">\n",
       "      <th>platform</th>\n",
       "      <th>3DS</th>\n",
       "      <th>DC</th>\n",
       "      <th>DS</th>\n",
       "      <th>GB</th>\n",
       "      <th>GBA</th>\n",
       "      <th>GC</th>\n",
       "      <th>N64</th>\n",
       "      <th>PC</th>\n",
       "      <th>PS</th>\n",
       "      <th>PS2</th>\n",
       "      <th>PS3</th>\n",
       "      <th>PS4</th>\n",
       "      <th>PSP</th>\n",
       "      <th>PSV</th>\n",
       "      <th>WS</th>\n",
       "      <th>Wii</th>\n",
       "      <th>WiiU</th>\n",
       "      <th>X360</th>\n",
       "      <th>XB</th>\n",
       "      <th>XOne</th>\n",
       "    </tr>\n",
       "    <tr>\n",
       "      <th>year_of_release</th>\n",
       "      <th></th>\n",
       "      <th></th>\n",
       "      <th></th>\n",
       "      <th></th>\n",
       "      <th></th>\n",
       "      <th></th>\n",
       "      <th></th>\n",
       "      <th></th>\n",
       "      <th></th>\n",
       "      <th></th>\n",
       "      <th></th>\n",
       "      <th></th>\n",
       "      <th></th>\n",
       "      <th></th>\n",
       "      <th></th>\n",
       "      <th></th>\n",
       "      <th></th>\n",
       "      <th></th>\n",
       "      <th></th>\n",
       "      <th></th>\n",
       "    </tr>\n",
       "  </thead>\n",
       "  <tbody>\n",
       "    <tr>\n",
       "      <td>2001.0</td>\n",
       "      <td>0.00</td>\n",
       "      <td>1.07</td>\n",
       "      <td>0.00</td>\n",
       "      <td>9.24</td>\n",
       "      <td>61.53</td>\n",
       "      <td>26.34</td>\n",
       "      <td>3.25</td>\n",
       "      <td>5.47</td>\n",
       "      <td>35.59</td>\n",
       "      <td>166.43</td>\n",
       "      <td>0.00</td>\n",
       "      <td>0.00</td>\n",
       "      <td>0.00</td>\n",
       "      <td>0.00</td>\n",
       "      <td>0.28</td>\n",
       "      <td>0.00</td>\n",
       "      <td>0.00</td>\n",
       "      <td>0.00</td>\n",
       "      <td>22.26</td>\n",
       "      <td>0.00</td>\n",
       "    </tr>\n",
       "    <tr>\n",
       "      <td>2002.0</td>\n",
       "      <td>0.00</td>\n",
       "      <td>0.29</td>\n",
       "      <td>0.00</td>\n",
       "      <td>0.00</td>\n",
       "      <td>74.16</td>\n",
       "      <td>51.81</td>\n",
       "      <td>0.08</td>\n",
       "      <td>8.57</td>\n",
       "      <td>6.67</td>\n",
       "      <td>205.38</td>\n",
       "      <td>0.00</td>\n",
       "      <td>0.00</td>\n",
       "      <td>0.00</td>\n",
       "      <td>0.00</td>\n",
       "      <td>0.00</td>\n",
       "      <td>0.00</td>\n",
       "      <td>0.00</td>\n",
       "      <td>0.00</td>\n",
       "      <td>48.01</td>\n",
       "      <td>0.00</td>\n",
       "    </tr>\n",
       "    <tr>\n",
       "      <td>2003.0</td>\n",
       "      <td>0.00</td>\n",
       "      <td>0.00</td>\n",
       "      <td>0.00</td>\n",
       "      <td>0.00</td>\n",
       "      <td>56.67</td>\n",
       "      <td>50.61</td>\n",
       "      <td>0.00</td>\n",
       "      <td>8.84</td>\n",
       "      <td>2.07</td>\n",
       "      <td>184.31</td>\n",
       "      <td>0.00</td>\n",
       "      <td>0.00</td>\n",
       "      <td>0.00</td>\n",
       "      <td>0.00</td>\n",
       "      <td>0.00</td>\n",
       "      <td>0.00</td>\n",
       "      <td>0.00</td>\n",
       "      <td>0.00</td>\n",
       "      <td>55.04</td>\n",
       "      <td>0.00</td>\n",
       "    </tr>\n",
       "    <tr>\n",
       "      <td>2004.0</td>\n",
       "      <td>0.00</td>\n",
       "      <td>0.00</td>\n",
       "      <td>17.27</td>\n",
       "      <td>0.00</td>\n",
       "      <td>77.91</td>\n",
       "      <td>28.82</td>\n",
       "      <td>0.00</td>\n",
       "      <td>10.39</td>\n",
       "      <td>0.00</td>\n",
       "      <td>211.81</td>\n",
       "      <td>0.00</td>\n",
       "      <td>0.00</td>\n",
       "      <td>7.06</td>\n",
       "      <td>0.00</td>\n",
       "      <td>0.00</td>\n",
       "      <td>0.00</td>\n",
       "      <td>0.00</td>\n",
       "      <td>0.00</td>\n",
       "      <td>65.42</td>\n",
       "      <td>0.00</td>\n",
       "    </tr>\n",
       "    <tr>\n",
       "      <td>2005.0</td>\n",
       "      <td>0.00</td>\n",
       "      <td>0.00</td>\n",
       "      <td>130.14</td>\n",
       "      <td>0.00</td>\n",
       "      <td>33.86</td>\n",
       "      <td>27.62</td>\n",
       "      <td>0.00</td>\n",
       "      <td>4.37</td>\n",
       "      <td>0.00</td>\n",
       "      <td>160.66</td>\n",
       "      <td>0.00</td>\n",
       "      <td>0.00</td>\n",
       "      <td>43.84</td>\n",
       "      <td>0.00</td>\n",
       "      <td>0.00</td>\n",
       "      <td>0.00</td>\n",
       "      <td>0.00</td>\n",
       "      <td>8.25</td>\n",
       "      <td>49.08</td>\n",
       "      <td>0.00</td>\n",
       "    </tr>\n",
       "    <tr>\n",
       "      <td>2006.0</td>\n",
       "      <td>0.00</td>\n",
       "      <td>0.00</td>\n",
       "      <td>119.81</td>\n",
       "      <td>0.00</td>\n",
       "      <td>5.28</td>\n",
       "      <td>11.26</td>\n",
       "      <td>0.00</td>\n",
       "      <td>2.85</td>\n",
       "      <td>0.00</td>\n",
       "      <td>103.42</td>\n",
       "      <td>20.96</td>\n",
       "      <td>0.00</td>\n",
       "      <td>55.32</td>\n",
       "      <td>0.00</td>\n",
       "      <td>0.00</td>\n",
       "      <td>137.15</td>\n",
       "      <td>0.00</td>\n",
       "      <td>51.62</td>\n",
       "      <td>10.04</td>\n",
       "      <td>0.00</td>\n",
       "    </tr>\n",
       "    <tr>\n",
       "      <td>2007.0</td>\n",
       "      <td>0.00</td>\n",
       "      <td>0.02</td>\n",
       "      <td>146.94</td>\n",
       "      <td>0.00</td>\n",
       "      <td>3.40</td>\n",
       "      <td>0.27</td>\n",
       "      <td>0.00</td>\n",
       "      <td>9.28</td>\n",
       "      <td>0.00</td>\n",
       "      <td>75.99</td>\n",
       "      <td>73.19</td>\n",
       "      <td>0.00</td>\n",
       "      <td>46.93</td>\n",
       "      <td>0.00</td>\n",
       "      <td>0.00</td>\n",
       "      <td>152.77</td>\n",
       "      <td>0.00</td>\n",
       "      <td>95.41</td>\n",
       "      <td>0.55</td>\n",
       "      <td>0.00</td>\n",
       "    </tr>\n",
       "    <tr>\n",
       "      <td>2008.0</td>\n",
       "      <td>0.00</td>\n",
       "      <td>0.04</td>\n",
       "      <td>145.31</td>\n",
       "      <td>0.00</td>\n",
       "      <td>0.00</td>\n",
       "      <td>0.00</td>\n",
       "      <td>0.00</td>\n",
       "      <td>12.42</td>\n",
       "      <td>0.00</td>\n",
       "      <td>53.90</td>\n",
       "      <td>118.52</td>\n",
       "      <td>0.00</td>\n",
       "      <td>34.55</td>\n",
       "      <td>0.00</td>\n",
       "      <td>0.00</td>\n",
       "      <td>171.32</td>\n",
       "      <td>0.00</td>\n",
       "      <td>135.26</td>\n",
       "      <td>0.18</td>\n",
       "      <td>0.00</td>\n",
       "    </tr>\n",
       "    <tr>\n",
       "      <td>2009.0</td>\n",
       "      <td>0.00</td>\n",
       "      <td>0.00</td>\n",
       "      <td>119.54</td>\n",
       "      <td>0.00</td>\n",
       "      <td>0.00</td>\n",
       "      <td>0.00</td>\n",
       "      <td>0.00</td>\n",
       "      <td>16.91</td>\n",
       "      <td>0.00</td>\n",
       "      <td>26.40</td>\n",
       "      <td>130.93</td>\n",
       "      <td>0.00</td>\n",
       "      <td>37.78</td>\n",
       "      <td>0.00</td>\n",
       "      <td>0.00</td>\n",
       "      <td>206.97</td>\n",
       "      <td>0.00</td>\n",
       "      <td>120.29</td>\n",
       "      <td>0.00</td>\n",
       "      <td>0.00</td>\n",
       "    </tr>\n",
       "    <tr>\n",
       "      <td>2010.0</td>\n",
       "      <td>0.00</td>\n",
       "      <td>0.00</td>\n",
       "      <td>85.02</td>\n",
       "      <td>0.00</td>\n",
       "      <td>0.00</td>\n",
       "      <td>0.00</td>\n",
       "      <td>0.00</td>\n",
       "      <td>24.28</td>\n",
       "      <td>0.00</td>\n",
       "      <td>5.64</td>\n",
       "      <td>142.17</td>\n",
       "      <td>0.00</td>\n",
       "      <td>35.04</td>\n",
       "      <td>0.00</td>\n",
       "      <td>0.00</td>\n",
       "      <td>127.95</td>\n",
       "      <td>0.00</td>\n",
       "      <td>170.03</td>\n",
       "      <td>0.00</td>\n",
       "      <td>0.00</td>\n",
       "    </tr>\n",
       "    <tr>\n",
       "      <td>2011.0</td>\n",
       "      <td>63.20</td>\n",
       "      <td>0.00</td>\n",
       "      <td>26.18</td>\n",
       "      <td>0.00</td>\n",
       "      <td>0.00</td>\n",
       "      <td>0.00</td>\n",
       "      <td>0.00</td>\n",
       "      <td>35.03</td>\n",
       "      <td>0.00</td>\n",
       "      <td>0.45</td>\n",
       "      <td>156.78</td>\n",
       "      <td>0.00</td>\n",
       "      <td>17.82</td>\n",
       "      <td>4.63</td>\n",
       "      <td>0.00</td>\n",
       "      <td>59.65</td>\n",
       "      <td>0.00</td>\n",
       "      <td>143.84</td>\n",
       "      <td>0.00</td>\n",
       "      <td>0.00</td>\n",
       "    </tr>\n",
       "    <tr>\n",
       "      <td>2012.0</td>\n",
       "      <td>51.36</td>\n",
       "      <td>0.00</td>\n",
       "      <td>11.01</td>\n",
       "      <td>0.00</td>\n",
       "      <td>0.00</td>\n",
       "      <td>0.00</td>\n",
       "      <td>0.00</td>\n",
       "      <td>23.22</td>\n",
       "      <td>0.00</td>\n",
       "      <td>0.00</td>\n",
       "      <td>107.36</td>\n",
       "      <td>0.00</td>\n",
       "      <td>7.69</td>\n",
       "      <td>16.19</td>\n",
       "      <td>0.00</td>\n",
       "      <td>21.71</td>\n",
       "      <td>17.56</td>\n",
       "      <td>99.74</td>\n",
       "      <td>0.00</td>\n",
       "      <td>0.00</td>\n",
       "    </tr>\n",
       "    <tr>\n",
       "      <td>2013.0</td>\n",
       "      <td>56.57</td>\n",
       "      <td>0.00</td>\n",
       "      <td>1.54</td>\n",
       "      <td>0.00</td>\n",
       "      <td>0.00</td>\n",
       "      <td>0.00</td>\n",
       "      <td>0.00</td>\n",
       "      <td>12.38</td>\n",
       "      <td>0.00</td>\n",
       "      <td>0.00</td>\n",
       "      <td>113.25</td>\n",
       "      <td>25.99</td>\n",
       "      <td>3.14</td>\n",
       "      <td>10.59</td>\n",
       "      <td>0.00</td>\n",
       "      <td>8.59</td>\n",
       "      <td>21.65</td>\n",
       "      <td>88.58</td>\n",
       "      <td>0.00</td>\n",
       "      <td>18.96</td>\n",
       "    </tr>\n",
       "    <tr>\n",
       "      <td>2014.0</td>\n",
       "      <td>43.76</td>\n",
       "      <td>0.00</td>\n",
       "      <td>0.00</td>\n",
       "      <td>0.00</td>\n",
       "      <td>0.00</td>\n",
       "      <td>0.00</td>\n",
       "      <td>0.00</td>\n",
       "      <td>13.28</td>\n",
       "      <td>0.00</td>\n",
       "      <td>0.00</td>\n",
       "      <td>47.76</td>\n",
       "      <td>100.00</td>\n",
       "      <td>0.24</td>\n",
       "      <td>11.90</td>\n",
       "      <td>0.00</td>\n",
       "      <td>3.75</td>\n",
       "      <td>22.03</td>\n",
       "      <td>34.74</td>\n",
       "      <td>0.00</td>\n",
       "      <td>54.07</td>\n",
       "    </tr>\n",
       "    <tr>\n",
       "      <td>2015.0</td>\n",
       "      <td>27.78</td>\n",
       "      <td>0.00</td>\n",
       "      <td>0.00</td>\n",
       "      <td>0.00</td>\n",
       "      <td>0.00</td>\n",
       "      <td>0.00</td>\n",
       "      <td>0.00</td>\n",
       "      <td>8.52</td>\n",
       "      <td>0.00</td>\n",
       "      <td>0.00</td>\n",
       "      <td>16.82</td>\n",
       "      <td>118.90</td>\n",
       "      <td>0.12</td>\n",
       "      <td>6.25</td>\n",
       "      <td>0.00</td>\n",
       "      <td>1.14</td>\n",
       "      <td>16.35</td>\n",
       "      <td>11.96</td>\n",
       "      <td>0.00</td>\n",
       "      <td>60.14</td>\n",
       "    </tr>\n",
       "    <tr>\n",
       "      <td>2016.0</td>\n",
       "      <td>15.14</td>\n",
       "      <td>0.00</td>\n",
       "      <td>0.00</td>\n",
       "      <td>0.00</td>\n",
       "      <td>0.00</td>\n",
       "      <td>0.00</td>\n",
       "      <td>0.00</td>\n",
       "      <td>5.25</td>\n",
       "      <td>0.00</td>\n",
       "      <td>0.00</td>\n",
       "      <td>3.60</td>\n",
       "      <td>69.25</td>\n",
       "      <td>0.00</td>\n",
       "      <td>4.25</td>\n",
       "      <td>0.00</td>\n",
       "      <td>0.18</td>\n",
       "      <td>4.60</td>\n",
       "      <td>1.52</td>\n",
       "      <td>0.00</td>\n",
       "      <td>26.15</td>\n",
       "    </tr>\n",
       "  </tbody>\n",
       "</table>\n",
       "</div>"
      ],
      "text/plain": [
       "platform           3DS    DC      DS    GB    GBA     GC   N64     PC     PS  \\\n",
       "year_of_release                                                                \n",
       "2001.0            0.00  1.07    0.00  9.24  61.53  26.34  3.25   5.47  35.59   \n",
       "2002.0            0.00  0.29    0.00  0.00  74.16  51.81  0.08   8.57   6.67   \n",
       "2003.0            0.00  0.00    0.00  0.00  56.67  50.61  0.00   8.84   2.07   \n",
       "2004.0            0.00  0.00   17.27  0.00  77.91  28.82  0.00  10.39   0.00   \n",
       "2005.0            0.00  0.00  130.14  0.00  33.86  27.62  0.00   4.37   0.00   \n",
       "2006.0            0.00  0.00  119.81  0.00   5.28  11.26  0.00   2.85   0.00   \n",
       "2007.0            0.00  0.02  146.94  0.00   3.40   0.27  0.00   9.28   0.00   \n",
       "2008.0            0.00  0.04  145.31  0.00   0.00   0.00  0.00  12.42   0.00   \n",
       "2009.0            0.00  0.00  119.54  0.00   0.00   0.00  0.00  16.91   0.00   \n",
       "2010.0            0.00  0.00   85.02  0.00   0.00   0.00  0.00  24.28   0.00   \n",
       "2011.0           63.20  0.00   26.18  0.00   0.00   0.00  0.00  35.03   0.00   \n",
       "2012.0           51.36  0.00   11.01  0.00   0.00   0.00  0.00  23.22   0.00   \n",
       "2013.0           56.57  0.00    1.54  0.00   0.00   0.00  0.00  12.38   0.00   \n",
       "2014.0           43.76  0.00    0.00  0.00   0.00   0.00  0.00  13.28   0.00   \n",
       "2015.0           27.78  0.00    0.00  0.00   0.00   0.00  0.00   8.52   0.00   \n",
       "2016.0           15.14  0.00    0.00  0.00   0.00   0.00  0.00   5.25   0.00   \n",
       "\n",
       "platform            PS2     PS3     PS4    PSP    PSV    WS     Wii   WiiU  \\\n",
       "year_of_release                                                              \n",
       "2001.0           166.43    0.00    0.00   0.00   0.00  0.28    0.00   0.00   \n",
       "2002.0           205.38    0.00    0.00   0.00   0.00  0.00    0.00   0.00   \n",
       "2003.0           184.31    0.00    0.00   0.00   0.00  0.00    0.00   0.00   \n",
       "2004.0           211.81    0.00    0.00   7.06   0.00  0.00    0.00   0.00   \n",
       "2005.0           160.66    0.00    0.00  43.84   0.00  0.00    0.00   0.00   \n",
       "2006.0           103.42   20.96    0.00  55.32   0.00  0.00  137.15   0.00   \n",
       "2007.0            75.99   73.19    0.00  46.93   0.00  0.00  152.77   0.00   \n",
       "2008.0            53.90  118.52    0.00  34.55   0.00  0.00  171.32   0.00   \n",
       "2009.0            26.40  130.93    0.00  37.78   0.00  0.00  206.97   0.00   \n",
       "2010.0             5.64  142.17    0.00  35.04   0.00  0.00  127.95   0.00   \n",
       "2011.0             0.45  156.78    0.00  17.82   4.63  0.00   59.65   0.00   \n",
       "2012.0             0.00  107.36    0.00   7.69  16.19  0.00   21.71  17.56   \n",
       "2013.0             0.00  113.25   25.99   3.14  10.59  0.00    8.59  21.65   \n",
       "2014.0             0.00   47.76  100.00   0.24  11.90  0.00    3.75  22.03   \n",
       "2015.0             0.00   16.82  118.90   0.12   6.25  0.00    1.14  16.35   \n",
       "2016.0             0.00    3.60   69.25   0.00   4.25  0.00    0.18   4.60   \n",
       "\n",
       "platform           X360     XB   XOne  \n",
       "year_of_release                        \n",
       "2001.0             0.00  22.26   0.00  \n",
       "2002.0             0.00  48.01   0.00  \n",
       "2003.0             0.00  55.04   0.00  \n",
       "2004.0             0.00  65.42   0.00  \n",
       "2005.0             8.25  49.08   0.00  \n",
       "2006.0            51.62  10.04   0.00  \n",
       "2007.0            95.41   0.55   0.00  \n",
       "2008.0           135.26   0.18   0.00  \n",
       "2009.0           120.29   0.00   0.00  \n",
       "2010.0           170.03   0.00   0.00  \n",
       "2011.0           143.84   0.00   0.00  \n",
       "2012.0            99.74   0.00   0.00  \n",
       "2013.0            88.58   0.00  18.96  \n",
       "2014.0            34.74   0.00  54.07  \n",
       "2015.0            11.96   0.00  60.14  \n",
       "2016.0             1.52   0.00  26.15  "
      ]
     },
     "execution_count": 32,
     "metadata": {},
     "output_type": "execute_result"
    }
   ],
   "source": [
    "# построим сводную таблицу по аналогичным условиям как график\n",
    "group_data = games[(games['year_of_release'] > 2000)].pivot_table(index='year_of_release', \n",
    "                         columns = 'platform', values='total_sales', aggfunc='sum')\n",
    "group_data.fillna(0, inplace=True)\n",
    "group_data"
   ]
  },
  {
   "cell_type": "markdown",
   "metadata": {},
   "source": [
    "По графику и сводной таблице видно:\n",
    "- средний срок жизни платформы - 10 лет. \n",
    "- лидером среди продаж является Sony Play Station, потом идет Xbox \n",
    "- максимальные продажи наблюдаются через 4-5 лет после выхода приставки на рынок\n",
    "- у Nintento WII (DS) был быстрый скачок в 2006 году и такой же резкий провал c 2010 года\n",
    "- продажи по всем выделенным платформам падают по уровню 2016 года"
   ]
  },
  {
   "cell_type": "code",
   "execution_count": 33,
   "metadata": {
    "scrolled": true
   },
   "outputs": [
    {
     "data": {
      "text/plain": [
       "GB      13\n",
       "PS2     12\n",
       "X360    12\n",
       "NES     12\n",
       "PSP     12\n",
       "Wii     11\n",
       "PS3     11\n",
       "DS      11\n",
       "2600    10\n",
       "PS      10\n",
       "SNES    10\n",
       "XB       9\n",
       "GBA      8\n",
       "GC       7\n",
       "N64      7\n",
       "Name: platform, dtype: int64"
      ]
     },
     "execution_count": 33,
     "metadata": {},
     "output_type": "execute_result"
    }
   ],
   "source": [
    "sales_time = games[(games['platform'] != 'PC') & (games['platform'] != 'PS4') &\n",
    "                  (games['platform'] != 'XOne') &\n",
    "                  (games['platform'] != 'WiiU') &\n",
    "                  (games['platform'] != '3DS')\n",
    "                  ].groupby(['platform', 'year_of_release']\n",
    "                           ).agg({ 'total_sales' : 'sum'}).reset_index()\n",
    "sales_time['platform'].value_counts().head(15)"
   ]
  },
  {
   "cell_type": "code",
   "execution_count": 34,
   "metadata": {
    "scrolled": true
   },
   "outputs": [
    {
     "data": {
      "text/plain": [
       "7.0"
      ]
     },
     "execution_count": 34,
     "metadata": {},
     "output_type": "execute_result"
    }
   ],
   "source": [
    "sales_time['platform'].value_counts().mean().round(0)\n"
   ]
  },
  {
   "cell_type": "code",
   "execution_count": 35,
   "metadata": {
    "scrolled": true
   },
   "outputs": [
    {
     "data": {
      "text/html": [
       "<div>\n",
       "<style scoped>\n",
       "    .dataframe tbody tr th:only-of-type {\n",
       "        vertical-align: middle;\n",
       "    }\n",
       "\n",
       "    .dataframe tbody tr th {\n",
       "        vertical-align: top;\n",
       "    }\n",
       "\n",
       "    .dataframe thead th {\n",
       "        text-align: right;\n",
       "    }\n",
       "</style>\n",
       "<table border=\"1\" class=\"dataframe\">\n",
       "  <thead>\n",
       "    <tr style=\"text-align: right;\">\n",
       "      <th>platform</th>\n",
       "      <th>3DS</th>\n",
       "      <th>DS</th>\n",
       "      <th>PC</th>\n",
       "      <th>PS3</th>\n",
       "      <th>PS4</th>\n",
       "      <th>PSP</th>\n",
       "      <th>PSV</th>\n",
       "      <th>Wii</th>\n",
       "      <th>WiiU</th>\n",
       "      <th>X360</th>\n",
       "      <th>XOne</th>\n",
       "    </tr>\n",
       "    <tr>\n",
       "      <th>year_of_release</th>\n",
       "      <th></th>\n",
       "      <th></th>\n",
       "      <th></th>\n",
       "      <th></th>\n",
       "      <th></th>\n",
       "      <th></th>\n",
       "      <th></th>\n",
       "      <th></th>\n",
       "      <th></th>\n",
       "      <th></th>\n",
       "      <th></th>\n",
       "    </tr>\n",
       "  </thead>\n",
       "  <tbody>\n",
       "    <tr>\n",
       "      <td>2013.0</td>\n",
       "      <td>56.57</td>\n",
       "      <td>1.54</td>\n",
       "      <td>12.38</td>\n",
       "      <td>113.25</td>\n",
       "      <td>25.99</td>\n",
       "      <td>3.14</td>\n",
       "      <td>10.59</td>\n",
       "      <td>8.59</td>\n",
       "      <td>21.65</td>\n",
       "      <td>88.58</td>\n",
       "      <td>18.96</td>\n",
       "    </tr>\n",
       "    <tr>\n",
       "      <td>2014.0</td>\n",
       "      <td>43.76</td>\n",
       "      <td>0.00</td>\n",
       "      <td>13.28</td>\n",
       "      <td>47.76</td>\n",
       "      <td>100.00</td>\n",
       "      <td>0.24</td>\n",
       "      <td>11.90</td>\n",
       "      <td>3.75</td>\n",
       "      <td>22.03</td>\n",
       "      <td>34.74</td>\n",
       "      <td>54.07</td>\n",
       "    </tr>\n",
       "    <tr>\n",
       "      <td>2015.0</td>\n",
       "      <td>27.78</td>\n",
       "      <td>0.00</td>\n",
       "      <td>8.52</td>\n",
       "      <td>16.82</td>\n",
       "      <td>118.90</td>\n",
       "      <td>0.12</td>\n",
       "      <td>6.25</td>\n",
       "      <td>1.14</td>\n",
       "      <td>16.35</td>\n",
       "      <td>11.96</td>\n",
       "      <td>60.14</td>\n",
       "    </tr>\n",
       "    <tr>\n",
       "      <td>2016.0</td>\n",
       "      <td>15.14</td>\n",
       "      <td>0.00</td>\n",
       "      <td>5.25</td>\n",
       "      <td>3.60</td>\n",
       "      <td>69.25</td>\n",
       "      <td>0.00</td>\n",
       "      <td>4.25</td>\n",
       "      <td>0.18</td>\n",
       "      <td>4.60</td>\n",
       "      <td>1.52</td>\n",
       "      <td>26.15</td>\n",
       "    </tr>\n",
       "  </tbody>\n",
       "</table>\n",
       "</div>"
      ],
      "text/plain": [
       "platform           3DS    DS     PC     PS3     PS4   PSP    PSV   Wii   WiiU  \\\n",
       "year_of_release                                                                 \n",
       "2013.0           56.57  1.54  12.38  113.25   25.99  3.14  10.59  8.59  21.65   \n",
       "2014.0           43.76  0.00  13.28   47.76  100.00  0.24  11.90  3.75  22.03   \n",
       "2015.0           27.78  0.00   8.52   16.82  118.90  0.12   6.25  1.14  16.35   \n",
       "2016.0           15.14  0.00   5.25    3.60   69.25  0.00   4.25  0.18   4.60   \n",
       "\n",
       "platform          X360   XOne  \n",
       "year_of_release                \n",
       "2013.0           88.58  18.96  \n",
       "2014.0           34.74  54.07  \n",
       "2015.0           11.96  60.14  \n",
       "2016.0            1.52  26.15  "
      ]
     },
     "execution_count": 35,
     "metadata": {},
     "output_type": "execute_result"
    }
   ],
   "source": [
    "# сделаем срез по продажам на различных платформах с 2013 года\n",
    "platform_from_2013 = games[(games['year_of_release'] > 2012)].pivot_table(index='year_of_release', columns = 'platform', values='total_sales', aggfunc='sum')\n",
    "platform_from_2013.fillna(0, inplace=True)\n",
    "platform_from_2013\n"
   ]
  },
  {
   "cell_type": "code",
   "execution_count": 36,
   "metadata": {},
   "outputs": [
    {
     "data": {
      "image/png": "[encoded data removed]",
      "text/plain": [
       "<Figure size 1440x576 with 1 Axes>"
      ]
     },
     "metadata": {
      "needs_background": "light"
     },
     "output_type": "display_data"
    }
   ],
   "source": [
    "top_platform_new = games[(games['year_of_release'] != 0) & (games['year_of_release'] > 1994)\n",
    "      & (games['platform'].isin(('PS4', 'XOne', 'PC', 'WiiU','3DS')))]\n",
    "\n",
    "top_platform_new.groupby('platform')['year_of_release'].plot.hist(alpha=0.5, legend=True, bins=20, figsize=(20,8));\n"
   ]
  },
  {
   "cell_type": "markdown",
   "metadata": {},
   "source": [
    "Ниже построим график \"ящик с усами\" по глобальным продажам игр в разбивке по платформам"
   ]
  },
  {
   "cell_type": "code",
   "execution_count": 37,
   "metadata": {
    "scrolled": true
   },
   "outputs": [
    {
     "data": {
      "text/plain": [
       "count    2242.000000\n",
       "mean        0.469781\n",
       "std         1.158486\n",
       "min         0.010000\n",
       "25%         0.030000\n",
       "50%         0.100000\n",
       "75%         0.370000\n",
       "max        14.630000\n",
       "Name: total_sales, dtype: float64"
      ]
     },
     "execution_count": 37,
     "metadata": {},
     "output_type": "execute_result"
    }
   ],
   "source": [
    "top_platform_new['total_sales'].describe()"
   ]
  },
  {
   "cell_type": "code",
   "execution_count": 38,
   "metadata": {},
   "outputs": [],
   "source": [
    "# отбросим выбивающиеся значения, ограничив их величиной стандартного отклонения\n",
    "top_platform_new = top_platform_new[top_platform_new['total_sales'] < 1.5]"
   ]
  },
  {
   "cell_type": "code",
   "execution_count": 39,
   "metadata": {},
   "outputs": [
    {
     "data": {
      "image/png": "[encoded data removed]",
      "text/plain": [
       "<Figure size 864x432 with 1 Axes>"
      ]
     },
     "metadata": {
      "needs_background": "light"
     },
     "output_type": "display_data"
    }
   ],
   "source": [
    "# построим графики\n",
    "plt.figure(figsize=(12,6))\n",
    "sns.boxplot(data=top_platform_new, x='platform', y='total_sales')\n",
    "plt.title('\"Ящики с усами\"', fontsize=15)\n",
    "plt.xlabel('Игровая платформа', fontsize=12)\n",
    "plt.ylabel('Продажи',fontsize=12);"
   ]
  },
  {
   "cell_type": "markdown",
   "metadata": {},
   "source": [
    "По графикам видим подверждение предыдущим выводам:\n",
    "- наибольшие средние продажи у платформ: Xone и WiiU, PS4 и 3DS несколько проигрывают им\n",
    "- наименьшие средние продажи у PC, имеющая свою постоянную нишу на рынке (за счет дешевизны игр в сравнении с приставками), хоть и не такую значительную по объемам продаж"
   ]
  },
  {
   "cell_type": "markdown",
   "metadata": {},
   "source": [
    "### Зависимость продаж от отзывов пользователей и критиков"
   ]
  },
  {
   "cell_type": "code",
   "execution_count": 40,
   "metadata": {},
   "outputs": [
    {
     "name": "stdout",
     "output_type": "stream",
     "text": [
      "Корреляция между отзывами и продажами = 0.12669133936341712 - слабая\n",
      "Корреляция между отзывами и продажами = 0.4324315685642061 - средняя\n"
     ]
    },
    {
     "data": {
      "image/png": "[encoded data removed]",
      "text/plain": [
       "<Figure size 360x360 with 1 Axes>"
      ]
     },
     "metadata": {
      "needs_background": "light"
     },
     "output_type": "display_data"
    },
    {
     "data": {
      "image/png": "[encoded data removed]",
      "text/plain": [
       "<Figure size 360x360 with 1 Axes>"
      ]
     },
     "metadata": {
      "needs_background": "light"
     },
     "output_type": "display_data"
    }
   ],
   "source": [
    "# Найдем корреляцию между оценками пользователей и критиками и продажами по PS3\n",
    "ps3 = games[(games['platform']=='PS3') & (games['user_score'] != 0) & (games['critic_score'] != 0)]\n",
    "for column in ['user_score', 'critic_score']:\n",
    "    corr = ps3[column].corr(ps3['total_sales'])\n",
    "    if corr <= 0.3:\n",
    "        print('Корреляция между отзывами и продажами =', corr, '- слабая')\n",
    "    if corr >=0.5:\n",
    "        print('Корреляция между отзывами и продажами =', corr, '- высокая')\n",
    "    if 0.3<= corr <= 0.5:\n",
    "        print('Корреляция между отзывами и продажами =', corr, '- средняя')\n",
    "    sns.relplot(x=column, y=\"total_sales\", data=ps3, alpha=0.3);"
   ]
  },
  {
   "cell_type": "markdown",
   "metadata": {},
   "source": [
    "Корреляция продаж с отзывами критиков выше и показывает зависимость продаж от этих отзывов (чем выше оценки оценки критиков, теб больше продажи). Отзывы пользователей влияют не значительно на объемы продаж"
   ]
  },
  {
   "cell_type": "markdown",
   "metadata": {},
   "source": [
    "Посмотрим совпадают ли эти выводы по другим платформам"
   ]
  },
  {
   "cell_type": "code",
   "execution_count": 41,
   "metadata": {},
   "outputs": [
    {
     "name": "stdout",
     "output_type": "stream",
     "text": [
      "PS2\n",
      "Коэффициент корреляции: 0.17\n",
      "Коэффициент корреляции: 0.4\n",
      "X360\n",
      "Коэффициент корреляции: 0.11\n",
      "Коэффициент корреляции: 0.39\n",
      "PS3\n",
      "Коэффициент корреляции: 0.13\n",
      "Коэффициент корреляции: 0.43\n",
      "Wii\n",
      "Коэффициент корреляции: 0.11\n",
      "Коэффициент корреляции: 0.18\n",
      "DS\n",
      "Коэффициент корреляции: 0.13\n",
      "Коэффициент корреляции: 0.24\n",
      "PS\n",
      "Коэффициент корреляции: 0.3\n",
      "Коэффициент корреляции: 0.45\n",
      "GBA\n",
      "Коэффициент корреляции: 0.1\n",
      "Коэффициент корреляции: 0.24\n",
      "PS4\n",
      "Коэффициент корреляции: -0.03\n",
      "Коэффициент корреляции: 0.41\n"
     ]
    },
    {
     "data": {
      "image/png": "[encoded data removed]",
      "text/plain": [
       "<Figure size 360x360 with 1 Axes>"
      ]
     },
     "metadata": {
      "needs_background": "light"
     },
     "output_type": "display_data"
    },
    {
     "data": {
      "image/png": "[encoded data removed]",
      "text/plain": [
       "<Figure size 360x360 with 1 Axes>"
      ]
     },
     "metadata": {
      "needs_background": "light"
     },
     "output_type": "display_data"
    },
    {
     "data": {
      "image/png": "[encoded data removed]",
      "text/plain": [
       "<Figure size 360x360 with 1 Axes>"
      ]
     },
     "metadata": {
      "needs_background": "light"
     },
     "output_type": "display_data"
    },
    {
     "data": {
      "image/png": "[encoded data removed]",
      "text/plain": [
       "<Figure size 360x360 with 1 Axes>"
      ]
     },
     "metadata": {
      "needs_background": "light"
     },
     "output_type": "display_data"
    },
    {
     "data": {
      "image/png": "[encoded data removed]",
      "text/plain": [
       "<Figure size 360x360 with 1 Axes>"
      ]
     },
     "metadata": {
      "needs_background": "light"
     },
     "output_type": "display_data"
    },
    {
     "data": {
      "image/png": "[encoded data removed]",
      "text/plain": [
       "<Figure size 360x360 with 1 Axes>"
      ]
     },
     "metadata": {
      "needs_background": "light"
     },
     "output_type": "display_data"
    },
    {
     "data": {
      "image/png": "[encoded data removed]",
      "text/plain": [
       "<Figure size 360x360 with 1 Axes>"
      ]
     },
     "metadata": {
      "needs_background": "light"
     },
     "output_type": "display_data"
    },
    {
     "data": {
      "image/png": "[encoded data removed]",
      "text/plain": [
       "<Figure size 360x360 with 1 Axes>"
      ]
     },
     "metadata": {
      "needs_background": "light"
     },
     "output_type": "display_data"
    },
    {
     "data": {
      "image/png": "[encoded data removed]",
      "text/plain": [
       "<Figure size 360x360 with 1 Axes>"
      ]
     },
     "metadata": {
      "needs_background": "light"
     },
     "output_type": "display_data"
    },
    {
     "data": {
      "image/png": "[encoded data removed]",
      "text/plain": [
       "<Figure size 360x360 with 1 Axes>"
      ]
     },
     "metadata": {
      "needs_background": "light"
     },
     "output_type": "display_data"
    },
    {
     "data": {
      "image/png": "[encoded data removed]",
      "text/plain": [
       "<Figure size 360x360 with 1 Axes>"
      ]
     },
     "metadata": {
      "needs_background": "light"
     },
     "output_type": "display_data"
    },
    {
     "data": {
      "image/png": "[encoded data removed]",
      "text/plain": [
       "<Figure size 360x360 with 1 Axes>"
      ]
     },
     "metadata": {
      "needs_background": "light"
     },
     "output_type": "display_data"
    },
    {
     "data": {
      "image/png": "[encoded data removed]",
      "text/plain": [
       "<Figure size 360x360 with 1 Axes>"
      ]
     },
     "metadata": {
      "needs_background": "light"
     },
     "output_type": "display_data"
    },
    {
     "data": {
      "image/png": "[encoded data removed]",
      "text/plain": [
       "<Figure size 360x360 with 1 Axes>"
      ]
     },
     "metadata": {
      "needs_background": "light"
     },
     "output_type": "display_data"
    },
    {
     "data": {
      "image/png": "[encoded data removed]",
      "text/plain": [
       "<Figure size 360x360 with 1 Axes>"
      ]
     },
     "metadata": {
      "needs_background": "light"
     },
     "output_type": "display_data"
    },
    {
     "data": {
      "image/png": "[encoded data removed]",
      "text/plain": [
       "<Figure size 360x360 with 1 Axes>"
      ]
     },
     "metadata": {
      "needs_background": "light"
     },
     "output_type": "display_data"
    }
   ],
   "source": [
    "for platform in ['PS2', 'X360', 'PS3', 'Wii', 'DS', 'PS', 'GBA','PS4']:\n",
    "    print(platform)\n",
    "    for column in ['user_score', 'critic_score']:\n",
    "        temp = games[(games['platform'] == platform) & (games['user_score'] != 0) & (games['critic_score'] != 0)]\n",
    "        print('Коэффициент корреляции:', temp[column].corr(temp['total_sales']).round(2))\n",
    "        sns.relplot(x=column, y=\"total_sales\", data=temp)\n",
    "        _ = plt.title(platform)\n",
    "        "
   ]
  },
  {
   "cell_type": "markdown",
   "metadata": {},
   "source": [
    "Выводы совпали как и по PS2. \n",
    "<br> Соответственно, для всех платформ характерно `среднее` влияние отзывов критиков на продажи и незначительное или полное отсутствие влияния отзывов пользователей."
   ]
  },
  {
   "cell_type": "markdown",
   "metadata": {},
   "source": [
    "### Анализ жанров"
   ]
  },
  {
   "cell_type": "markdown",
   "metadata": {},
   "source": [
    "Проанализируем распределение продаж по жанрам игр"
   ]
  },
  {
   "cell_type": "code",
   "execution_count": 42,
   "metadata": {},
   "outputs": [
    {
     "data": {
      "text/html": [
       "<div>\n",
       "<style scoped>\n",
       "    .dataframe tbody tr th:only-of-type {\n",
       "        vertical-align: middle;\n",
       "    }\n",
       "\n",
       "    .dataframe tbody tr th {\n",
       "        vertical-align: top;\n",
       "    }\n",
       "\n",
       "    .dataframe thead th {\n",
       "        text-align: right;\n",
       "    }\n",
       "</style>\n",
       "<table border=\"1\" class=\"dataframe\">\n",
       "  <thead>\n",
       "    <tr style=\"text-align: right;\">\n",
       "      <th></th>\n",
       "      <th>sum</th>\n",
       "      <th>count</th>\n",
       "      <th>mean</th>\n",
       "    </tr>\n",
       "    <tr>\n",
       "      <th>genre</th>\n",
       "      <th></th>\n",
       "      <th></th>\n",
       "      <th></th>\n",
       "    </tr>\n",
       "  </thead>\n",
       "  <tbody>\n",
       "    <tr>\n",
       "      <td>Action</td>\n",
       "      <td>1744.17</td>\n",
       "      <td>3369</td>\n",
       "      <td>0.517711</td>\n",
       "    </tr>\n",
       "    <tr>\n",
       "      <td>Sports</td>\n",
       "      <td>1331.27</td>\n",
       "      <td>2348</td>\n",
       "      <td>0.566980</td>\n",
       "    </tr>\n",
       "    <tr>\n",
       "      <td>Shooter</td>\n",
       "      <td>1052.45</td>\n",
       "      <td>1323</td>\n",
       "      <td>0.795503</td>\n",
       "    </tr>\n",
       "    <tr>\n",
       "      <td>Role-Playing</td>\n",
       "      <td>934.56</td>\n",
       "      <td>1498</td>\n",
       "      <td>0.623872</td>\n",
       "    </tr>\n",
       "    <tr>\n",
       "      <td>Platform</td>\n",
       "      <td>827.77</td>\n",
       "      <td>888</td>\n",
       "      <td>0.932173</td>\n",
       "    </tr>\n",
       "    <tr>\n",
       "      <td>Misc</td>\n",
       "      <td>802.51</td>\n",
       "      <td>1750</td>\n",
       "      <td>0.458577</td>\n",
       "    </tr>\n",
       "    <tr>\n",
       "      <td>Racing</td>\n",
       "      <td>728.67</td>\n",
       "      <td>1249</td>\n",
       "      <td>0.583403</td>\n",
       "    </tr>\n",
       "    <tr>\n",
       "      <td>Fighting</td>\n",
       "      <td>447.53</td>\n",
       "      <td>849</td>\n",
       "      <td>0.527126</td>\n",
       "    </tr>\n",
       "    <tr>\n",
       "      <td>Simulation</td>\n",
       "      <td>389.97</td>\n",
       "      <td>873</td>\n",
       "      <td>0.446701</td>\n",
       "    </tr>\n",
       "    <tr>\n",
       "      <td>Puzzle</td>\n",
       "      <td>242.57</td>\n",
       "      <td>580</td>\n",
       "      <td>0.418224</td>\n",
       "    </tr>\n",
       "    <tr>\n",
       "      <td>Adventure</td>\n",
       "      <td>237.59</td>\n",
       "      <td>1303</td>\n",
       "      <td>0.182341</td>\n",
       "    </tr>\n",
       "    <tr>\n",
       "      <td>Strategy</td>\n",
       "      <td>174.23</td>\n",
       "      <td>683</td>\n",
       "      <td>0.255095</td>\n",
       "    </tr>\n",
       "  </tbody>\n",
       "</table>\n",
       "</div>"
      ],
      "text/plain": [
       "                  sum  count      mean\n",
       "genre                                 \n",
       "Action        1744.17   3369  0.517711\n",
       "Sports        1331.27   2348  0.566980\n",
       "Shooter       1052.45   1323  0.795503\n",
       "Role-Playing   934.56   1498  0.623872\n",
       "Platform       827.77    888  0.932173\n",
       "Misc           802.51   1750  0.458577\n",
       "Racing         728.67   1249  0.583403\n",
       "Fighting       447.53    849  0.527126\n",
       "Simulation     389.97    873  0.446701\n",
       "Puzzle         242.57    580  0.418224\n",
       "Adventure      237.59   1303  0.182341\n",
       "Strategy       174.23    683  0.255095"
      ]
     },
     "execution_count": 42,
     "metadata": {},
     "output_type": "execute_result"
    }
   ],
   "source": [
    "genre_sales = games.pivot_table(index='genre', values='total_sales', \n",
    "                                aggfunc=['sum','count','mean'])\n",
    "genre_sales.columns = ['sum','count', 'mean']\n",
    "genre_sales.sort_values('sum', ascending=False)"
   ]
  },
  {
   "cell_type": "code",
   "execution_count": 43,
   "metadata": {},
   "outputs": [
    {
     "data": {
      "image/png": "[encoded data removed]",
      "text/plain": [
       "<Figure size 432x288 with 1 Axes>"
      ]
     },
     "metadata": {
      "needs_background": "light"
     },
     "output_type": "display_data"
    }
   ],
   "source": [
    "# построим график распределения для наглядности\n",
    "genre_sales.sort_values('sum', ascending=False).plot(kind='bar');"
   ]
  },
  {
   "cell_type": "markdown",
   "metadata": {},
   "source": [
    "Выше всего продажи у жанра Action. Стратегии продаются всех хуже."
   ]
  },
  {
   "cell_type": "code",
   "execution_count": 44,
   "metadata": {},
   "outputs": [
    {
     "data": {
      "image/png": "[encoded data removed]",
      "text/plain": [
       "<Figure size 1166.4x432 with 1 Axes>"
      ]
     },
     "metadata": {
      "needs_background": "light"
     },
     "output_type": "display_data"
    }
   ],
   "source": [
    "sns.catplot(x='genre', y=\"total_sales\", kind=\"box\", data=games, height=6, aspect=2.7)\n",
    "_ = plt.ylim(0, 3)"
   ]
  },
  {
   "cell_type": "markdown",
   "metadata": {},
   "source": [
    "Однако, наиболее прибыльными жанрами являются \"Платформы\" и \"Шутеры\""
   ]
  },
  {
   "cell_type": "markdown",
   "metadata": {},
   "source": [
    "### Вывод"
   ]
  },
  {
   "cell_type": "markdown",
   "metadata": {},
   "source": [
    "При исследовательском анализе мы определили:\n",
    "- выделили ТОП10 наиболее продаваемых платформ с 1994 по 2016: PS2, X360, PS3, Wii, DS, PS, GBA,PS4\n",
    "- самой продаваемой платформой с 1994 по 2016 год стала PS2, однако наиболее доходной - PS3. На втором месте по обоим показателям идет X360\n",
    "- сделали вывод, что на продажи платформ влияют отзывы критиков, отзывы пользователей влияние не оказывают\n",
    "- наиболее продаваемыми жанрами игр являются Экшн и Спортивные, самыми прибыльными на единицу проданной копии стали \"Платформы\" и \"Шутеры\""
   ]
  },
  {
   "cell_type": "markdown",
   "metadata": {},
   "source": [
    "## Портрет пользователя по регионам"
   ]
  },
  {
   "cell_type": "markdown",
   "metadata": {},
   "source": [
    "Определим для пользователя каждого региона (NA, EU, JP):\n",
    "- самые популярные платформы (топ-5). Опишем различия в долях продаж.\n",
    "- самые популярные жанры (топ-5). Поясним разницу.\n",
    "- влияет ли рейтинг ESRB на продажи в отдельном регионе?"
   ]
  },
  {
   "cell_type": "markdown",
   "metadata": {},
   "source": [
    "### ТОП-5 платформ по регионам"
   ]
  },
  {
   "cell_type": "code",
   "execution_count": 45,
   "metadata": {},
   "outputs": [
    {
     "data": {
      "text/html": [
       "<div>\n",
       "<style scoped>\n",
       "    .dataframe tbody tr th:only-of-type {\n",
       "        vertical-align: middle;\n",
       "    }\n",
       "\n",
       "    .dataframe tbody tr th {\n",
       "        vertical-align: top;\n",
       "    }\n",
       "\n",
       "    .dataframe thead th {\n",
       "        text-align: right;\n",
       "    }\n",
       "</style>\n",
       "<table border=\"1\" class=\"dataframe\">\n",
       "  <thead>\n",
       "    <tr style=\"text-align: right;\">\n",
       "      <th></th>\n",
       "      <th>na_sales</th>\n",
       "      <th>ratio</th>\n",
       "    </tr>\n",
       "    <tr>\n",
       "      <th>platform</th>\n",
       "      <th></th>\n",
       "      <th></th>\n",
       "    </tr>\n",
       "  </thead>\n",
       "  <tbody>\n",
       "    <tr>\n",
       "      <td>X360</td>\n",
       "      <td>602.47</td>\n",
       "      <td>24.0</td>\n",
       "    </tr>\n",
       "    <tr>\n",
       "      <td>PS2</td>\n",
       "      <td>583.84</td>\n",
       "      <td>24.0</td>\n",
       "    </tr>\n",
       "    <tr>\n",
       "      <td>Wii</td>\n",
       "      <td>496.90</td>\n",
       "      <td>20.0</td>\n",
       "    </tr>\n",
       "    <tr>\n",
       "      <td>PS3</td>\n",
       "      <td>393.49</td>\n",
       "      <td>16.0</td>\n",
       "    </tr>\n",
       "    <tr>\n",
       "      <td>DS</td>\n",
       "      <td>382.40</td>\n",
       "      <td>16.0</td>\n",
       "    </tr>\n",
       "  </tbody>\n",
       "</table>\n",
       "</div>"
      ],
      "text/plain": [
       "          na_sales  ratio\n",
       "platform                 \n",
       "X360        602.47   24.0\n",
       "PS2         583.84   24.0\n",
       "Wii         496.90   20.0\n",
       "PS3         393.49   16.0\n",
       "DS          382.40   16.0"
      ]
     },
     "metadata": {},
     "output_type": "display_data"
    },
    {
     "data": {
      "text/html": [
       "<div>\n",
       "<style scoped>\n",
       "    .dataframe tbody tr th:only-of-type {\n",
       "        vertical-align: middle;\n",
       "    }\n",
       "\n",
       "    .dataframe tbody tr th {\n",
       "        vertical-align: top;\n",
       "    }\n",
       "\n",
       "    .dataframe thead th {\n",
       "        text-align: right;\n",
       "    }\n",
       "</style>\n",
       "<table border=\"1\" class=\"dataframe\">\n",
       "  <thead>\n",
       "    <tr style=\"text-align: right;\">\n",
       "      <th></th>\n",
       "      <th>eu_sales</th>\n",
       "      <th>ratio</th>\n",
       "    </tr>\n",
       "    <tr>\n",
       "      <th>platform</th>\n",
       "      <th></th>\n",
       "      <th></th>\n",
       "    </tr>\n",
       "  </thead>\n",
       "  <tbody>\n",
       "    <tr>\n",
       "      <td>PS2</td>\n",
       "      <td>339.29</td>\n",
       "      <td>24.0</td>\n",
       "    </tr>\n",
       "    <tr>\n",
       "      <td>PS3</td>\n",
       "      <td>330.29</td>\n",
       "      <td>23.0</td>\n",
       "    </tr>\n",
       "    <tr>\n",
       "      <td>X360</td>\n",
       "      <td>270.76</td>\n",
       "      <td>19.0</td>\n",
       "    </tr>\n",
       "    <tr>\n",
       "      <td>Wii</td>\n",
       "      <td>262.21</td>\n",
       "      <td>19.0</td>\n",
       "    </tr>\n",
       "    <tr>\n",
       "      <td>PS</td>\n",
       "      <td>213.61</td>\n",
       "      <td>15.0</td>\n",
       "    </tr>\n",
       "  </tbody>\n",
       "</table>\n",
       "</div>"
      ],
      "text/plain": [
       "          eu_sales  ratio\n",
       "platform                 \n",
       "PS2         339.29   24.0\n",
       "PS3         330.29   23.0\n",
       "X360        270.76   19.0\n",
       "Wii         262.21   19.0\n",
       "PS          213.61   15.0"
      ]
     },
     "metadata": {},
     "output_type": "display_data"
    },
    {
     "data": {
      "text/html": [
       "<div>\n",
       "<style scoped>\n",
       "    .dataframe tbody tr th:only-of-type {\n",
       "        vertical-align: middle;\n",
       "    }\n",
       "\n",
       "    .dataframe tbody tr th {\n",
       "        vertical-align: top;\n",
       "    }\n",
       "\n",
       "    .dataframe thead th {\n",
       "        text-align: right;\n",
       "    }\n",
       "</style>\n",
       "<table border=\"1\" class=\"dataframe\">\n",
       "  <thead>\n",
       "    <tr style=\"text-align: right;\">\n",
       "      <th></th>\n",
       "      <th>jp_sales</th>\n",
       "      <th>ratio</th>\n",
       "    </tr>\n",
       "    <tr>\n",
       "      <th>platform</th>\n",
       "      <th></th>\n",
       "      <th></th>\n",
       "    </tr>\n",
       "  </thead>\n",
       "  <tbody>\n",
       "    <tr>\n",
       "      <td>DS</td>\n",
       "      <td>175.57</td>\n",
       "      <td>26.0</td>\n",
       "    </tr>\n",
       "    <tr>\n",
       "      <td>PS</td>\n",
       "      <td>139.82</td>\n",
       "      <td>21.0</td>\n",
       "    </tr>\n",
       "    <tr>\n",
       "      <td>PS2</td>\n",
       "      <td>139.20</td>\n",
       "      <td>21.0</td>\n",
       "    </tr>\n",
       "    <tr>\n",
       "      <td>SNES</td>\n",
       "      <td>116.55</td>\n",
       "      <td>17.0</td>\n",
       "    </tr>\n",
       "    <tr>\n",
       "      <td>3DS</td>\n",
       "      <td>100.67</td>\n",
       "      <td>15.0</td>\n",
       "    </tr>\n",
       "  </tbody>\n",
       "</table>\n",
       "</div>"
      ],
      "text/plain": [
       "          jp_sales  ratio\n",
       "platform                 \n",
       "DS          175.57   26.0\n",
       "PS          139.82   21.0\n",
       "PS2         139.20   21.0\n",
       "SNES        116.55   17.0\n",
       "3DS         100.67   15.0"
      ]
     },
     "metadata": {},
     "output_type": "display_data"
    },
    {
     "data": {
      "image/png": "[encoded data removed]",
      "text/plain": [
       "<Figure size 432x288 with 1 Axes>"
      ]
     },
     "metadata": {
      "needs_background": "light"
     },
     "output_type": "display_data"
    },
    {
     "data": {
      "image/png": "[encoded data removed]",
      "text/plain": [
       "<Figure size 432x288 with 1 Axes>"
      ]
     },
     "metadata": {
      "needs_background": "light"
     },
     "output_type": "display_data"
    },
    {
     "data": {
      "image/png": "[encoded data removed]",
      "text/plain": [
       "<Figure size 432x288 with 1 Axes>"
      ]
     },
     "metadata": {
      "needs_background": "light"
     },
     "output_type": "display_data"
    }
   ],
   "source": [
    "#выберем ТОП5 платформ с наибольшими продажами по регионам и построим по ним графики\n",
    "columns_list = ['na_sales', 'eu_sales', 'jp_sales']\n",
    "for col in columns_list:\n",
    "    top_platform = games.pivot_table(index='platform', values=col, aggfunc='sum').nlargest(5, col)\n",
    "    top_platform.plot(kind='bar');\n",
    "    top_platform['ratio'] = (top_platform[col] / top_platform[col].sum()).round(2)*100\n",
    "    display(top_platform.nlargest(5, col))"
   ]
  },
  {
   "cell_type": "markdown",
   "metadata": {},
   "source": [
    "В Северной Америке, как и Европе PS и Xbox имеют высокие продажи, чего нельзя сказать о Японии, где лидирует DS (Nintendo), далее идет PS, а Xbox не входит даже в Топ5"
   ]
  },
  {
   "cell_type": "markdown",
   "metadata": {},
   "source": [
    "### ТОП-5 жанров по регионам"
   ]
  },
  {
   "cell_type": "code",
   "execution_count": 46,
   "metadata": {},
   "outputs": [
    {
     "data": {
      "text/html": [
       "<div>\n",
       "<style scoped>\n",
       "    .dataframe tbody tr th:only-of-type {\n",
       "        vertical-align: middle;\n",
       "    }\n",
       "\n",
       "    .dataframe tbody tr th {\n",
       "        vertical-align: top;\n",
       "    }\n",
       "\n",
       "    .dataframe thead th {\n",
       "        text-align: right;\n",
       "    }\n",
       "</style>\n",
       "<table border=\"1\" class=\"dataframe\">\n",
       "  <thead>\n",
       "    <tr style=\"text-align: right;\">\n",
       "      <th></th>\n",
       "      <th>na_sales</th>\n",
       "      <th>ratio</th>\n",
       "    </tr>\n",
       "    <tr>\n",
       "      <th>genre</th>\n",
       "      <th></th>\n",
       "      <th></th>\n",
       "    </tr>\n",
       "  </thead>\n",
       "  <tbody>\n",
       "    <tr>\n",
       "      <td>Action</td>\n",
       "      <td>879.01</td>\n",
       "      <td>29.0</td>\n",
       "    </tr>\n",
       "    <tr>\n",
       "      <td>Sports</td>\n",
       "      <td>684.43</td>\n",
       "      <td>23.0</td>\n",
       "    </tr>\n",
       "    <tr>\n",
       "      <td>Shooter</td>\n",
       "      <td>592.24</td>\n",
       "      <td>20.0</td>\n",
       "    </tr>\n",
       "    <tr>\n",
       "      <td>Platform</td>\n",
       "      <td>445.50</td>\n",
       "      <td>15.0</td>\n",
       "    </tr>\n",
       "    <tr>\n",
       "      <td>Misc</td>\n",
       "      <td>407.27</td>\n",
       "      <td>14.0</td>\n",
       "    </tr>\n",
       "  </tbody>\n",
       "</table>\n",
       "</div>"
      ],
      "text/plain": [
       "          na_sales  ratio\n",
       "genre                    \n",
       "Action      879.01   29.0\n",
       "Sports      684.43   23.0\n",
       "Shooter     592.24   20.0\n",
       "Platform    445.50   15.0\n",
       "Misc        407.27   14.0"
      ]
     },
     "metadata": {},
     "output_type": "display_data"
    },
    {
     "data": {
      "text/html": [
       "<div>\n",
       "<style scoped>\n",
       "    .dataframe tbody tr th:only-of-type {\n",
       "        vertical-align: middle;\n",
       "    }\n",
       "\n",
       "    .dataframe tbody tr th {\n",
       "        vertical-align: top;\n",
       "    }\n",
       "\n",
       "    .dataframe thead th {\n",
       "        text-align: right;\n",
       "    }\n",
       "</style>\n",
       "<table border=\"1\" class=\"dataframe\">\n",
       "  <thead>\n",
       "    <tr style=\"text-align: right;\">\n",
       "      <th></th>\n",
       "      <th>eu_sales</th>\n",
       "      <th>ratio</th>\n",
       "    </tr>\n",
       "    <tr>\n",
       "      <th>genre</th>\n",
       "      <th></th>\n",
       "      <th></th>\n",
       "    </tr>\n",
       "  </thead>\n",
       "  <tbody>\n",
       "    <tr>\n",
       "      <td>Action</td>\n",
       "      <td>519.13</td>\n",
       "      <td>31.0</td>\n",
       "    </tr>\n",
       "    <tr>\n",
       "      <td>Sports</td>\n",
       "      <td>376.79</td>\n",
       "      <td>23.0</td>\n",
       "    </tr>\n",
       "    <tr>\n",
       "      <td>Shooter</td>\n",
       "      <td>317.34</td>\n",
       "      <td>19.0</td>\n",
       "    </tr>\n",
       "    <tr>\n",
       "      <td>Racing</td>\n",
       "      <td>236.51</td>\n",
       "      <td>14.0</td>\n",
       "    </tr>\n",
       "    <tr>\n",
       "      <td>Misc</td>\n",
       "      <td>212.74</td>\n",
       "      <td>13.0</td>\n",
       "    </tr>\n",
       "  </tbody>\n",
       "</table>\n",
       "</div>"
      ],
      "text/plain": [
       "         eu_sales  ratio\n",
       "genre                   \n",
       "Action     519.13   31.0\n",
       "Sports     376.79   23.0\n",
       "Shooter    317.34   19.0\n",
       "Racing     236.51   14.0\n",
       "Misc       212.74   13.0"
      ]
     },
     "metadata": {},
     "output_type": "display_data"
    },
    {
     "data": {
      "text/html": [
       "<div>\n",
       "<style scoped>\n",
       "    .dataframe tbody tr th:only-of-type {\n",
       "        vertical-align: middle;\n",
       "    }\n",
       "\n",
       "    .dataframe tbody tr th {\n",
       "        vertical-align: top;\n",
       "    }\n",
       "\n",
       "    .dataframe thead th {\n",
       "        text-align: right;\n",
       "    }\n",
       "</style>\n",
       "<table border=\"1\" class=\"dataframe\">\n",
       "  <thead>\n",
       "    <tr style=\"text-align: right;\">\n",
       "      <th></th>\n",
       "      <th>jp_sales</th>\n",
       "      <th>ratio</th>\n",
       "    </tr>\n",
       "    <tr>\n",
       "      <th>genre</th>\n",
       "      <th></th>\n",
       "      <th></th>\n",
       "    </tr>\n",
       "  </thead>\n",
       "  <tbody>\n",
       "    <tr>\n",
       "      <td>Role-Playing</td>\n",
       "      <td>355.41</td>\n",
       "      <td>40.0</td>\n",
       "    </tr>\n",
       "    <tr>\n",
       "      <td>Action</td>\n",
       "      <td>161.43</td>\n",
       "      <td>18.0</td>\n",
       "    </tr>\n",
       "    <tr>\n",
       "      <td>Sports</td>\n",
       "      <td>135.54</td>\n",
       "      <td>15.0</td>\n",
       "    </tr>\n",
       "    <tr>\n",
       "      <td>Platform</td>\n",
       "      <td>130.83</td>\n",
       "      <td>15.0</td>\n",
       "    </tr>\n",
       "    <tr>\n",
       "      <td>Misc</td>\n",
       "      <td>108.11</td>\n",
       "      <td>12.0</td>\n",
       "    </tr>\n",
       "  </tbody>\n",
       "</table>\n",
       "</div>"
      ],
      "text/plain": [
       "              jp_sales  ratio\n",
       "genre                        \n",
       "Role-Playing    355.41   40.0\n",
       "Action          161.43   18.0\n",
       "Sports          135.54   15.0\n",
       "Platform        130.83   15.0\n",
       "Misc            108.11   12.0"
      ]
     },
     "metadata": {},
     "output_type": "display_data"
    },
    {
     "data": {
      "image/png": "[encoded data removed]",
      "text/plain": [
       "<Figure size 432x288 with 1 Axes>"
      ]
     },
     "metadata": {
      "needs_background": "light"
     },
     "output_type": "display_data"
    },
    {
     "data": {
      "image/png": "[encoded data removed]",
      "text/plain": [
       "<Figure size 432x288 with 1 Axes>"
      ]
     },
     "metadata": {
      "needs_background": "light"
     },
     "output_type": "display_data"
    },
    {
     "data": {
      "image/png": "[encoded data removed]",
      "text/plain": [
       "<Figure size 432x288 with 1 Axes>"
      ]
     },
     "metadata": {
      "needs_background": "light"
     },
     "output_type": "display_data"
    }
   ],
   "source": [
    "#выберем ТОП5 жанров игр с наибольшими продажами по регионам и построим по ним графики\n",
    "columns_list = ['na_sales', 'eu_sales', 'jp_sales']\n",
    "for col in columns_list:\n",
    "    top_genre = games.pivot_table(index='genre', values=col, aggfunc='sum').nlargest(5, col)\n",
    "    top_genre.plot(kind='bar');\n",
    "    top_genre['ratio'] = (top_genre[col] / top_genre[col].sum()).round(2)*100\n",
    "    display(top_genre.nlargest(5, col))"
   ]
  },
  {
   "cell_type": "markdown",
   "metadata": {},
   "source": [
    "В Северной Америке и Европе полностью совпадают первые ТОП3 жанра, это экшн, спорт и шутеры.\n",
    "<br>У Японии другии предпочтения, где значительно лидирует с долей 40% жанр ролевых игр, далее уже идут экшн и спорт."
   ]
  },
  {
   "cell_type": "markdown",
   "metadata": {},
   "source": [
    "### Рейтинг ESRB"
   ]
  },
  {
   "cell_type": "markdown",
   "metadata": {},
   "source": [
    "Рейтинги ESRB (https://www.esrb.org/ratings-guide/):\n",
    "\n",
    "1. E - от 6 лет\n",
    "2. E10+ - от 10 лет\n",
    "3. T - от 13 лет\n",
    "4. M - от 17 лет"
   ]
  },
  {
   "cell_type": "code",
   "execution_count": 47,
   "metadata": {},
   "outputs": [
    {
     "data": {
      "text/html": [
       "<div>\n",
       "<style scoped>\n",
       "    .dataframe tbody tr th:only-of-type {\n",
       "        vertical-align: middle;\n",
       "    }\n",
       "\n",
       "    .dataframe tbody tr th {\n",
       "        vertical-align: top;\n",
       "    }\n",
       "\n",
       "    .dataframe thead th {\n",
       "        text-align: right;\n",
       "    }\n",
       "</style>\n",
       "<table border=\"1\" class=\"dataframe\">\n",
       "  <thead>\n",
       "    <tr style=\"text-align: right;\">\n",
       "      <th></th>\n",
       "      <th>na_sales</th>\n",
       "      <th>ratio</th>\n",
       "    </tr>\n",
       "    <tr>\n",
       "      <th>rating</th>\n",
       "      <th></th>\n",
       "      <th></th>\n",
       "    </tr>\n",
       "  </thead>\n",
       "  <tbody>\n",
       "    <tr>\n",
       "      <td>E</td>\n",
       "      <td>1292.99</td>\n",
       "      <td>29.0</td>\n",
       "    </tr>\n",
       "    <tr>\n",
       "      <td>no rating</td>\n",
       "      <td>1240.68</td>\n",
       "      <td>28.0</td>\n",
       "    </tr>\n",
       "    <tr>\n",
       "      <td>T</td>\n",
       "      <td>759.75</td>\n",
       "      <td>17.0</td>\n",
       "    </tr>\n",
       "    <tr>\n",
       "      <td>M</td>\n",
       "      <td>748.48</td>\n",
       "      <td>17.0</td>\n",
       "    </tr>\n",
       "    <tr>\n",
       "      <td>E10+</td>\n",
       "      <td>353.32</td>\n",
       "      <td>8.0</td>\n",
       "    </tr>\n",
       "  </tbody>\n",
       "</table>\n",
       "</div>"
      ],
      "text/plain": [
       "           na_sales  ratio\n",
       "rating                    \n",
       "E           1292.99   29.0\n",
       "no rating   1240.68   28.0\n",
       "T            759.75   17.0\n",
       "M            748.48   17.0\n",
       "E10+         353.32    8.0"
      ]
     },
     "metadata": {},
     "output_type": "display_data"
    },
    {
     "data": {
      "text/html": [
       "<div>\n",
       "<style scoped>\n",
       "    .dataframe tbody tr th:only-of-type {\n",
       "        vertical-align: middle;\n",
       "    }\n",
       "\n",
       "    .dataframe tbody tr th {\n",
       "        vertical-align: top;\n",
       "    }\n",
       "\n",
       "    .dataframe thead th {\n",
       "        text-align: right;\n",
       "    }\n",
       "</style>\n",
       "<table border=\"1\" class=\"dataframe\">\n",
       "  <thead>\n",
       "    <tr style=\"text-align: right;\">\n",
       "      <th></th>\n",
       "      <th>eu_sales</th>\n",
       "      <th>ratio</th>\n",
       "    </tr>\n",
       "    <tr>\n",
       "      <th>rating</th>\n",
       "      <th></th>\n",
       "      <th></th>\n",
       "    </tr>\n",
       "  </thead>\n",
       "  <tbody>\n",
       "    <tr>\n",
       "      <td>E</td>\n",
       "      <td>710.25</td>\n",
       "      <td>29.0</td>\n",
       "    </tr>\n",
       "    <tr>\n",
       "      <td>no rating</td>\n",
       "      <td>613.30</td>\n",
       "      <td>25.0</td>\n",
       "    </tr>\n",
       "    <tr>\n",
       "      <td>M</td>\n",
       "      <td>483.97</td>\n",
       "      <td>20.0</td>\n",
       "    </tr>\n",
       "    <tr>\n",
       "      <td>T</td>\n",
       "      <td>427.03</td>\n",
       "      <td>18.0</td>\n",
       "    </tr>\n",
       "    <tr>\n",
       "      <td>E10+</td>\n",
       "      <td>188.52</td>\n",
       "      <td>8.0</td>\n",
       "    </tr>\n",
       "  </tbody>\n",
       "</table>\n",
       "</div>"
      ],
      "text/plain": [
       "           eu_sales  ratio\n",
       "rating                    \n",
       "E            710.25   29.0\n",
       "no rating    613.30   25.0\n",
       "M            483.97   20.0\n",
       "T            427.03   18.0\n",
       "E10+         188.52    8.0"
      ]
     },
     "metadata": {},
     "output_type": "display_data"
    },
    {
     "data": {
      "text/html": [
       "<div>\n",
       "<style scoped>\n",
       "    .dataframe tbody tr th:only-of-type {\n",
       "        vertical-align: middle;\n",
       "    }\n",
       "\n",
       "    .dataframe tbody tr th {\n",
       "        vertical-align: top;\n",
       "    }\n",
       "\n",
       "    .dataframe thead th {\n",
       "        text-align: right;\n",
       "    }\n",
       "</style>\n",
       "<table border=\"1\" class=\"dataframe\">\n",
       "  <thead>\n",
       "    <tr style=\"text-align: right;\">\n",
       "      <th></th>\n",
       "      <th>jp_sales</th>\n",
       "      <th>ratio</th>\n",
       "    </tr>\n",
       "    <tr>\n",
       "      <th>rating</th>\n",
       "      <th></th>\n",
       "      <th></th>\n",
       "    </tr>\n",
       "  </thead>\n",
       "  <tbody>\n",
       "    <tr>\n",
       "      <td>no rating</td>\n",
       "      <td>841.93</td>\n",
       "      <td>65.0</td>\n",
       "    </tr>\n",
       "    <tr>\n",
       "      <td>E</td>\n",
       "      <td>198.11</td>\n",
       "      <td>15.0</td>\n",
       "    </tr>\n",
       "    <tr>\n",
       "      <td>T</td>\n",
       "      <td>151.40</td>\n",
       "      <td>12.0</td>\n",
       "    </tr>\n",
       "    <tr>\n",
       "      <td>M</td>\n",
       "      <td>64.24</td>\n",
       "      <td>5.0</td>\n",
       "    </tr>\n",
       "    <tr>\n",
       "      <td>E10+</td>\n",
       "      <td>40.20</td>\n",
       "      <td>3.0</td>\n",
       "    </tr>\n",
       "  </tbody>\n",
       "</table>\n",
       "</div>"
      ],
      "text/plain": [
       "           jp_sales  ratio\n",
       "rating                    \n",
       "no rating    841.93   65.0\n",
       "E            198.11   15.0\n",
       "T            151.40   12.0\n",
       "M             64.24    5.0\n",
       "E10+          40.20    3.0"
      ]
     },
     "metadata": {},
     "output_type": "display_data"
    },
    {
     "data": {
      "image/png": "[encoded data removed]",
      "text/plain": [
       "<Figure size 432x288 with 1 Axes>"
      ]
     },
     "metadata": {
      "needs_background": "light"
     },
     "output_type": "display_data"
    },
    {
     "data": {
      "image/png": "[encoded data removed]",
      "text/plain": [
       "<Figure size 432x288 with 1 Axes>"
      ]
     },
     "metadata": {
      "needs_background": "light"
     },
     "output_type": "display_data"
    },
    {
     "data": {
      "image/png": "[encoded data removed]",
      "text/plain": [
       "<Figure size 432x288 with 1 Axes>"
      ]
     },
     "metadata": {
      "needs_background": "light"
     },
     "output_type": "display_data"
    }
   ],
   "source": [
    "# сгруппируем данные по рейтингам по регионам и построим по ним графики\n",
    "columns_list = ['na_sales', 'eu_sales', 'jp_sales']\n",
    "for col in columns_list:\n",
    "    rating = games.pivot_table(index='rating', values=col, aggfunc='sum').nlargest(5, col)\n",
    "    rating.plot(kind='bar');\n",
    "    rating['ratio'] = (rating[col] / rating[col].sum()).round(2)*100\n",
    "    display(rating.nlargest(5, col))\n",
    "                   "
   ]
  },
  {
   "cell_type": "markdown",
   "metadata": {},
   "source": [
    "Продажи по рейтингу ESRB по регионам Северной Америки и Европы практически не отличаются. В Японии игры с рейтингом от 17 лет имеют намного меньше продажи, чем в других регионах."
   ]
  },
  {
   "cell_type": "markdown",
   "metadata": {},
   "source": [
    "### Вывод"
   ]
  },
  {
   "cell_type": "markdown",
   "metadata": {},
   "source": [
    "Мы изучили продажи игр в зависимости от региона и можем выделить следующее:\n",
    "- предпочтения пользователей Северной Америки и Европы совпадают - приставки PS и Xbox, жанры - экш и спорт.\n",
    "- у пользователей Японии (в виду своего менталитета) и предпочтения в играх, как и в платформах отличаются. Предпочтение отдается приставкам Nintendo и жанрам ролевых игр."
   ]
  },
  {
   "cell_type": "markdown",
   "metadata": {},
   "source": [
    "## Проверка гипотез"
   ]
  },
  {
   "cell_type": "markdown",
   "metadata": {},
   "source": [
    "для проверки предлагаются следующие гипотезы:\n",
    "- средние пользовательские рейтинги платформ Xbox One и PC одинаковые\n",
    "- средние пользовательские рейтинги жанров Action (англ. «действие», экшен-игры) и Sports (англ. «спортивные соревнования») разные"
   ]
  },
  {
   "cell_type": "markdown",
   "metadata": {},
   "source": [
    "### Гипотеза 1 - рейтинги Xbox One и PC одинаковые"
   ]
  },
  {
   "cell_type": "markdown",
   "metadata": {},
   "source": [
    "Гипотеза №1:\n",
    "\n",
    "нулевая гипотеза `𝐻0`  — средние пользовательские рейтинги платформ Xbox One и PC одинаковые\n",
    "\n",
    "альтернативная гипотеза `𝐻1`  — средние пользовательские рейтинги платформ Xbox One и PC различаются\n",
    "\n",
    "`alpha` примем равную 5%"
   ]
  },
  {
   "cell_type": "code",
   "execution_count": 48,
   "metadata": {},
   "outputs": [
    {
     "name": "stdout",
     "output_type": "stream",
     "text": [
      "p-значение: 1.3896435533548819e-05\n",
      "Отвергаем нулевую гипотезу\n"
     ]
    }
   ],
   "source": [
    "# создадим две новые таблицы с пользовательским рейтингом по платформам\n",
    "games.dropna(subset=['user_score'], inplace=True)\n",
    "xbox = games.query('platform == \"XOne\"')['user_score']\n",
    "pc = games.query('platform == \"PC\"')['user_score']\n",
    "\n",
    "alpha = .05 # критический уровень статистической значимости\n",
    "# если p-value окажется меньше него - отвегнем гипотезу\n",
    "\n",
    "results = st.ttest_ind(xbox, pc)\n",
    "\n",
    "print('p-значение:', results.pvalue)\n",
    "\n",
    "if (results.pvalue < alpha):\n",
    "    print(\"Отвергаем нулевую гипотезу\")\n",
    "else:\n",
    "    print(\"Не получилось отвергнуть нулевую гипотезу\")"
   ]
  },
  {
   "cell_type": "code",
   "execution_count": 49,
   "metadata": {},
   "outputs": [
    {
     "data": {
      "text/html": [
       "<div>\n",
       "<style scoped>\n",
       "    .dataframe tbody tr th:only-of-type {\n",
       "        vertical-align: middle;\n",
       "    }\n",
       "\n",
       "    .dataframe tbody tr th {\n",
       "        vertical-align: top;\n",
       "    }\n",
       "\n",
       "    .dataframe thead tr th {\n",
       "        text-align: left;\n",
       "    }\n",
       "\n",
       "    .dataframe thead tr:last-of-type th {\n",
       "        text-align: right;\n",
       "    }\n",
       "</style>\n",
       "<table border=\"1\" class=\"dataframe\">\n",
       "  <thead>\n",
       "    <tr>\n",
       "      <th></th>\n",
       "      <th>mean</th>\n",
       "      <th>median</th>\n",
       "    </tr>\n",
       "    <tr>\n",
       "      <th></th>\n",
       "      <th>user_score</th>\n",
       "      <th>user_score</th>\n",
       "    </tr>\n",
       "    <tr>\n",
       "      <th>platform</th>\n",
       "      <th></th>\n",
       "      <th></th>\n",
       "    </tr>\n",
       "  </thead>\n",
       "  <tbody>\n",
       "    <tr>\n",
       "      <td>PC</td>\n",
       "      <td>7.1</td>\n",
       "      <td>7.5</td>\n",
       "    </tr>\n",
       "    <tr>\n",
       "      <td>XOne</td>\n",
       "      <td>6.5</td>\n",
       "      <td>6.8</td>\n",
       "    </tr>\n",
       "  </tbody>\n",
       "</table>\n",
       "</div>"
      ],
      "text/plain": [
       "               mean     median\n",
       "         user_score user_score\n",
       "platform                      \n",
       "PC              7.1        7.5\n",
       "XOne            6.5        6.8"
      ]
     },
     "execution_count": 49,
     "metadata": {},
     "output_type": "execute_result"
    }
   ],
   "source": [
    "xbox_pc = games.query('platform == \"XOne\" or platform == \"PC\"')\n",
    "xbox_pc.pivot_table(index='platform', values='user_score', aggfunc=['mean','median']).round(1)"
   ]
  },
  {
   "cell_type": "markdown",
   "metadata": {},
   "source": [
    "Средние пользовательские рейтинги платформ Xbox One и PC все же отличаются, PC несколько выигрывает у XOne"
   ]
  },
  {
   "cell_type": "markdown",
   "metadata": {},
   "source": [
    "### Гипотеза 2 - рейтинги жанров Action и Sports"
   ]
  },
  {
   "cell_type": "markdown",
   "metadata": {},
   "source": [
    "Гипотеза №2:\n",
    "\n",
    "нулевая гипотеза `𝐻0`  — средние пользовательские рейтинги жанров Action и Sports одинаковые\n",
    "\n",
    "альтернативная гипотеза `𝐻1`  — средние пользовательские рейтинги жанров Action и Sports разные\n",
    "\n",
    "`alpha` примем равную 5%"
   ]
  },
  {
   "cell_type": "code",
   "execution_count": 50,
   "metadata": {
    "scrolled": true
   },
   "outputs": [
    {
     "name": "stdout",
     "output_type": "stream",
     "text": [
      "p-значение: 0.10406951359049141\n",
      "Не получилось отвергнуть нулевую гипотезу\n"
     ]
    }
   ],
   "source": [
    "# создадим две новые таблицы с пользовательским рейтингом по жанрам\n",
    "\n",
    "action = games.query('genre == \"Action\"')['user_score']\n",
    "sports = games.query('genre == \"Sports\"')['user_score']\n",
    "\n",
    "alpha = .05 # критический уровень статистической значимости\n",
    "# если p-value окажется меньше него - отвегнем гипотезу\n",
    "\n",
    "\n",
    "results = st.ttest_ind(action, sports)\n",
    "\n",
    "print('p-значение:', results.pvalue)\n",
    "\n",
    "if (results.pvalue < alpha):\n",
    "    print(\"Отвергаем нулевую гипотезу\")\n",
    "else:\n",
    "    print(\"Не получилось отвергнуть нулевую гипотезу\")"
   ]
  },
  {
   "cell_type": "code",
   "execution_count": 51,
   "metadata": {},
   "outputs": [
    {
     "data": {
      "text/html": [
       "<div>\n",
       "<style scoped>\n",
       "    .dataframe tbody tr th:only-of-type {\n",
       "        vertical-align: middle;\n",
       "    }\n",
       "\n",
       "    .dataframe tbody tr th {\n",
       "        vertical-align: top;\n",
       "    }\n",
       "\n",
       "    .dataframe thead tr th {\n",
       "        text-align: left;\n",
       "    }\n",
       "\n",
       "    .dataframe thead tr:last-of-type th {\n",
       "        text-align: right;\n",
       "    }\n",
       "</style>\n",
       "<table border=\"1\" class=\"dataframe\">\n",
       "  <thead>\n",
       "    <tr>\n",
       "      <th></th>\n",
       "      <th>mean</th>\n",
       "      <th>median</th>\n",
       "    </tr>\n",
       "    <tr>\n",
       "      <th></th>\n",
       "      <th>user_score</th>\n",
       "      <th>user_score</th>\n",
       "    </tr>\n",
       "    <tr>\n",
       "      <th>genre</th>\n",
       "      <th></th>\n",
       "      <th></th>\n",
       "    </tr>\n",
       "  </thead>\n",
       "  <tbody>\n",
       "    <tr>\n",
       "      <td>Action</td>\n",
       "      <td>7.05</td>\n",
       "      <td>7.4</td>\n",
       "    </tr>\n",
       "    <tr>\n",
       "      <td>Sports</td>\n",
       "      <td>6.96</td>\n",
       "      <td>7.4</td>\n",
       "    </tr>\n",
       "  </tbody>\n",
       "</table>\n",
       "</div>"
      ],
      "text/plain": [
       "             mean     median\n",
       "       user_score user_score\n",
       "genre                       \n",
       "Action       7.05        7.4\n",
       "Sports       6.96        7.4"
      ]
     },
     "execution_count": 51,
     "metadata": {},
     "output_type": "execute_result"
    }
   ],
   "source": [
    "g_games = games.query('genre == \"Action\" or genre == \"Sports\"')\n",
    "g_games.pivot_table(index='genre', values='user_score', aggfunc=['mean','median']).round(2)"
   ]
  },
  {
   "cell_type": "markdown",
   "metadata": {},
   "source": [
    "Cредние пользовательские рейтинги жанров Action и Sports незначительно отличаются, а вот значения по медиане совпадают"
   ]
  },
  {
   "cell_type": "markdown",
   "metadata": {},
   "source": [
    "### Вывод"
   ]
  },
  {
   "cell_type": "markdown",
   "metadata": {},
   "source": [
    "Проверили 2 гипотезы и установили, что:\n",
    "- пользовательские рейтинги по платформам Xbox one и PC отличаются\n",
    "- пользовательские рейтинги по жанрам Action и Sports одинаковые"
   ]
  },
  {
   "cell_type": "markdown",
   "metadata": {},
   "source": [
    "## Выводы"
   ]
  },
  {
   "cell_type": "markdown",
   "metadata": {},
   "source": [
    "**В ходе проекта мы сделали следующее:**\n",
    "1. изучили набор данных, проверили его на ошибки\n",
    "2. внесли корректировки в данные (изменили типы, заполнили пропуски, исправили стиль заголовков, удалили 2 неизвестные игры)\n",
    "3. посчитали суммарные продажи по всем регионам\n",
    "4. выделили ТОП10 самых продаваемых платформ, проанализировали продажи в зависимости от рейтингов и жанров\n",
    "5. рассмотрели ТОП5 платформ и жанров игр по регионам и выделили предпочтения каждого\n",
    "6. проверили две гипотезы по двум платформам и 2м жанрам\n",
    "\n",
    "**В итоге можно сделать финальный вывод, что:**\n",
    "- объем рынка игровой индустрии по итогам 2016 года можно оценить в размере продаж 130 млн.копий, в то время как в докризисный год 2008 продажи составили 672 млн.копий. Падение рынка в 5 раз.\n",
    "- наиболее продаваемыми платформами на рынке (мировыми лидерами) являются PS (и были на горизонте анализа), и Xbox, а жанр игр - Action, на 2м место - Sports (с одинаковым пользовательским рейтингом по данным жанрам).\n",
    "- если рассматривать отдельно восточный регион продаж, то там нужно ориентироваться на платформу Nintendo и жанры ролевых игр.\n",
    "- на продажи платформ могут влиять рейтинги критиков, в то время как влияние обычных пользователей практически отсутствует\n",
    "- текущими лидерами на рынке игровых платформ выпущенными в 2013 году являются PS4 и XOne с общими продажами за 4 года 314 и 159 млн.проданных копий.\n",
    "- на рынке игровых платформ сейчас не яркие времена, продажи падали с 2009 года и падают до сих пор, что связано как с кризисными явлениями, и тут игровая индустрия уходит на второй план, так и с трендом перехода пользователей на мобильные устройства (смартфоны, планшеты), где стоимость игр в разы ниже, чем на приставках. В 2017 году каких-то кардинальных изменений не прогнозируется в платформенной игровой индустрии."
   ]
  }
 ],
 "metadata": {
  "ExecuteTimeLog": [
   {
    "duration": 315,
    "start_time": "2022-01-24T18:06:02.314Z"
   },
   {
    "duration": 1464,
    "start_time": "2022-01-24T18:06:17.981Z"
   },
   {
    "duration": 47,
    "start_time": "2022-01-24T18:06:21.956Z"
   },
   {
    "duration": 36,
    "start_time": "2022-01-24T18:09:32.244Z"
   },
   {
    "duration": 439,
    "start_time": "2022-01-24T18:09:50.860Z"
   },
   {
    "duration": 44,
    "start_time": "2022-01-24T18:10:06.290Z"
   },
   {
    "duration": 13,
    "start_time": "2022-01-24T18:10:26.215Z"
   },
   {
    "duration": 20,
    "start_time": "2022-01-24T18:13:25.146Z"
   },
   {
    "duration": 308,
    "start_time": "2022-01-24T18:13:49.579Z"
   },
   {
    "duration": 21,
    "start_time": "2022-01-24T18:13:54.232Z"
   },
   {
    "duration": 13,
    "start_time": "2022-01-24T18:20:31.428Z"
   },
   {
    "duration": 252,
    "start_time": "2022-01-24T18:21:14.773Z"
   },
   {
    "duration": 260,
    "start_time": "2022-01-24T18:21:20.235Z"
   },
   {
    "duration": 18,
    "start_time": "2022-01-24T18:21:27.113Z"
   },
   {
    "duration": 6,
    "start_time": "2022-01-24T18:29:15.687Z"
   },
   {
    "duration": 300,
    "start_time": "2022-01-24T18:37:04.249Z"
   },
   {
    "duration": 303,
    "start_time": "2022-01-24T18:37:31.294Z"
   },
   {
    "duration": 46,
    "start_time": "2022-01-24T18:38:07.317Z"
   },
   {
    "duration": 6,
    "start_time": "2022-01-24T18:38:13.267Z"
   },
   {
    "duration": 49,
    "start_time": "2022-01-24T18:38:21.285Z"
   },
   {
    "duration": 6,
    "start_time": "2022-01-24T18:38:31.814Z"
   },
   {
    "duration": 317,
    "start_time": "2022-01-24T18:40:02.999Z"
   },
   {
    "duration": 4,
    "start_time": "2022-01-24T18:40:12.595Z"
   },
   {
    "duration": 8,
    "start_time": "2022-01-24T18:40:15.568Z"
   },
   {
    "duration": 8,
    "start_time": "2022-01-24T18:44:54.123Z"
   },
   {
    "duration": 14,
    "start_time": "2022-01-24T18:45:03.194Z"
   },
   {
    "duration": 19,
    "start_time": "2022-01-24T18:45:12.521Z"
   },
   {
    "duration": 1360,
    "start_time": "2022-01-24T18:46:44.785Z"
   },
   {
    "duration": 1501,
    "start_time": "2022-01-24T18:47:13.172Z"
   },
   {
    "duration": 48,
    "start_time": "2022-01-24T18:47:14.676Z"
   },
   {
    "duration": 41,
    "start_time": "2022-01-24T18:47:14.728Z"
   },
   {
    "duration": 20,
    "start_time": "2022-01-24T18:47:14.772Z"
   },
   {
    "duration": 43,
    "start_time": "2022-01-24T18:47:14.795Z"
   },
   {
    "duration": 40,
    "start_time": "2022-01-24T18:47:14.841Z"
   },
   {
    "duration": 14,
    "start_time": "2022-01-24T18:47:14.884Z"
   },
   {
    "duration": 17,
    "start_time": "2022-01-24T18:47:14.900Z"
   },
   {
    "duration": 5,
    "start_time": "2022-01-24T18:47:14.920Z"
   },
   {
    "duration": 45,
    "start_time": "2022-01-24T18:47:14.928Z"
   },
   {
    "duration": 9,
    "start_time": "2022-01-24T18:47:14.975Z"
   },
   {
    "duration": 404,
    "start_time": "2022-01-24T18:47:14.986Z"
   },
   {
    "duration": -3,
    "start_time": "2022-01-24T18:47:15.395Z"
   },
   {
    "duration": 90,
    "start_time": "2022-01-24T18:48:19.950Z"
   },
   {
    "duration": 6,
    "start_time": "2022-01-24T18:48:29.876Z"
   },
   {
    "duration": 21,
    "start_time": "2022-01-24T18:48:32.342Z"
   },
   {
    "duration": 14,
    "start_time": "2022-01-24T18:48:41.483Z"
   },
   {
    "duration": 6789,
    "start_time": "2022-01-24T18:55:20.495Z"
   },
   {
    "duration": 2001,
    "start_time": "2022-01-24T18:56:02.568Z"
   },
   {
    "duration": 12,
    "start_time": "2022-01-24T19:07:59.187Z"
   },
   {
    "duration": 15,
    "start_time": "2022-01-24T19:36:26.285Z"
   },
   {
    "duration": 22,
    "start_time": "2022-01-24T19:36:42.861Z"
   },
   {
    "duration": 36,
    "start_time": "2022-01-24T19:37:24.983Z"
   },
   {
    "duration": 22,
    "start_time": "2022-01-24T19:37:27.838Z"
   },
   {
    "duration": 31,
    "start_time": "2022-01-24T19:37:49.637Z"
   },
   {
    "duration": 19,
    "start_time": "2022-01-24T19:37:52.062Z"
   },
   {
    "duration": 7,
    "start_time": "2022-01-24T19:37:56.236Z"
   },
   {
    "duration": 20,
    "start_time": "2022-01-24T19:37:57.523Z"
   },
   {
    "duration": 1469,
    "start_time": "2022-01-24T19:39:41.687Z"
   },
   {
    "duration": 45,
    "start_time": "2022-01-24T19:39:43.159Z"
   },
   {
    "duration": 26,
    "start_time": "2022-01-24T19:39:43.207Z"
   },
   {
    "duration": 38,
    "start_time": "2022-01-24T19:39:43.235Z"
   },
   {
    "duration": 48,
    "start_time": "2022-01-24T19:39:43.275Z"
   },
   {
    "duration": 20,
    "start_time": "2022-01-24T19:39:43.326Z"
   },
   {
    "duration": 18,
    "start_time": "2022-01-24T19:39:43.370Z"
   },
   {
    "duration": 21,
    "start_time": "2022-01-24T19:39:43.390Z"
   },
   {
    "duration": 6,
    "start_time": "2022-01-24T19:39:43.414Z"
   },
   {
    "duration": 7,
    "start_time": "2022-01-24T19:39:43.423Z"
   },
   {
    "duration": 44,
    "start_time": "2022-01-24T19:39:43.432Z"
   },
   {
    "duration": 405,
    "start_time": "2022-01-24T19:39:43.478Z"
   },
   {
    "duration": 54,
    "start_time": "2022-01-24T19:39:43.831Z"
   },
   {
    "duration": 53,
    "start_time": "2022-01-24T19:39:43.833Z"
   },
   {
    "duration": 52,
    "start_time": "2022-01-24T19:39:43.836Z"
   },
   {
    "duration": 33,
    "start_time": "2022-01-24T19:42:29.909Z"
   },
   {
    "duration": 226,
    "start_time": "2022-01-24T19:44:15.003Z"
   },
   {
    "duration": 1475,
    "start_time": "2022-01-24T19:44:21.088Z"
   },
   {
    "duration": 2002,
    "start_time": "2022-01-24T19:49:24.115Z"
   },
   {
    "duration": 13,
    "start_time": "2022-01-24T19:52:39.885Z"
   },
   {
    "duration": 9,
    "start_time": "2022-01-24T19:55:39.793Z"
   },
   {
    "duration": 15,
    "start_time": "2022-01-24T19:55:42.458Z"
   },
   {
    "duration": 1850,
    "start_time": "2022-01-24T20:03:17.778Z"
   },
   {
    "duration": 10,
    "start_time": "2022-01-24T20:03:34.604Z"
   },
   {
    "duration": 19,
    "start_time": "2022-01-24T20:03:52.354Z"
   },
   {
    "duration": 24,
    "start_time": "2022-01-24T20:04:16.948Z"
   },
   {
    "duration": 436,
    "start_time": "2022-01-24T20:04:47.894Z"
   },
   {
    "duration": 1591,
    "start_time": "2022-01-24T20:04:52.057Z"
   },
   {
    "duration": 47,
    "start_time": "2022-01-24T20:04:53.651Z"
   },
   {
    "duration": 27,
    "start_time": "2022-01-24T20:04:53.701Z"
   },
   {
    "duration": 20,
    "start_time": "2022-01-24T20:04:53.731Z"
   },
   {
    "duration": 36,
    "start_time": "2022-01-24T20:04:53.753Z"
   },
   {
    "duration": 43,
    "start_time": "2022-01-24T20:04:53.791Z"
   },
   {
    "duration": 38,
    "start_time": "2022-01-24T20:04:53.837Z"
   },
   {
    "duration": 13,
    "start_time": "2022-01-24T20:04:53.878Z"
   },
   {
    "duration": 15,
    "start_time": "2022-01-24T20:04:53.895Z"
   },
   {
    "duration": 6,
    "start_time": "2022-01-24T20:04:53.912Z"
   },
   {
    "duration": 4,
    "start_time": "2022-01-24T20:04:53.920Z"
   },
   {
    "duration": 6,
    "start_time": "2022-01-24T20:04:53.970Z"
   },
   {
    "duration": 11,
    "start_time": "2022-01-24T20:04:53.978Z"
   },
   {
    "duration": 8,
    "start_time": "2022-01-24T20:04:53.991Z"
   },
   {
    "duration": 27,
    "start_time": "2022-01-24T20:04:54.001Z"
   },
   {
    "duration": 2357,
    "start_time": "2022-01-24T20:04:54.030Z"
   },
   {
    "duration": 59,
    "start_time": "2022-01-24T20:04:56.331Z"
   },
   {
    "duration": 57,
    "start_time": "2022-01-24T20:04:56.334Z"
   },
   {
    "duration": 56,
    "start_time": "2022-01-24T20:04:56.337Z"
   },
   {
    "duration": 46,
    "start_time": "2022-01-24T20:04:56.349Z"
   },
   {
    "duration": 44,
    "start_time": "2022-01-24T20:04:56.352Z"
   },
   {
    "duration": 7,
    "start_time": "2022-01-24T20:05:41.753Z"
   },
   {
    "duration": 7,
    "start_time": "2022-01-24T20:05:48.075Z"
   },
   {
    "duration": 25,
    "start_time": "2022-01-24T20:05:51.460Z"
   },
   {
    "duration": 10,
    "start_time": "2022-01-24T20:06:10.925Z"
   },
   {
    "duration": 26,
    "start_time": "2022-01-24T20:06:13.374Z"
   },
   {
    "duration": 384,
    "start_time": "2022-01-24T20:06:20.958Z"
   },
   {
    "duration": 1502,
    "start_time": "2022-01-24T20:06:40.248Z"
   },
   {
    "duration": 47,
    "start_time": "2022-01-24T20:06:41.752Z"
   },
   {
    "duration": 29,
    "start_time": "2022-01-24T20:06:41.802Z"
   },
   {
    "duration": 36,
    "start_time": "2022-01-24T20:06:41.835Z"
   },
   {
    "duration": 23,
    "start_time": "2022-01-24T20:06:41.874Z"
   },
   {
    "duration": 73,
    "start_time": "2022-01-24T20:06:41.900Z"
   },
   {
    "duration": 16,
    "start_time": "2022-01-24T20:06:41.976Z"
   },
   {
    "duration": 12,
    "start_time": "2022-01-24T20:06:41.995Z"
   },
   {
    "duration": 14,
    "start_time": "2022-01-24T20:06:42.011Z"
   },
   {
    "duration": 7,
    "start_time": "2022-01-24T20:06:42.068Z"
   },
   {
    "duration": 7,
    "start_time": "2022-01-24T20:06:42.078Z"
   },
   {
    "duration": 9,
    "start_time": "2022-01-24T20:06:42.088Z"
   },
   {
    "duration": 12,
    "start_time": "2022-01-24T20:06:42.100Z"
   },
   {
    "duration": 56,
    "start_time": "2022-01-24T20:06:42.115Z"
   },
   {
    "duration": 29,
    "start_time": "2022-01-24T20:06:42.174Z"
   },
   {
    "duration": 2350,
    "start_time": "2022-01-24T20:06:42.206Z"
   },
   {
    "duration": 105,
    "start_time": "2022-01-24T20:06:44.454Z"
   },
   {
    "duration": 105,
    "start_time": "2022-01-24T20:06:44.456Z"
   },
   {
    "duration": 96,
    "start_time": "2022-01-24T20:06:44.467Z"
   },
   {
    "duration": 96,
    "start_time": "2022-01-24T20:06:44.469Z"
   },
   {
    "duration": 96,
    "start_time": "2022-01-24T20:06:44.472Z"
   },
   {
    "duration": 9,
    "start_time": "2022-01-24T20:11:13.423Z"
   },
   {
    "duration": 7,
    "start_time": "2022-01-24T20:11:49.675Z"
   },
   {
    "duration": 1269,
    "start_time": "2022-01-24T20:13:43.386Z"
   },
   {
    "duration": 1459,
    "start_time": "2022-01-24T20:14:01.588Z"
   },
   {
    "duration": 58,
    "start_time": "2022-01-24T20:14:03.049Z"
   },
   {
    "duration": 27,
    "start_time": "2022-01-24T20:14:03.110Z"
   },
   {
    "duration": 31,
    "start_time": "2022-01-24T20:14:03.140Z"
   },
   {
    "duration": 21,
    "start_time": "2022-01-24T20:14:03.173Z"
   },
   {
    "duration": 47,
    "start_time": "2022-01-24T20:14:03.196Z"
   },
   {
    "duration": 14,
    "start_time": "2022-01-24T20:14:03.269Z"
   },
   {
    "duration": 13,
    "start_time": "2022-01-24T20:14:03.286Z"
   },
   {
    "duration": 69,
    "start_time": "2022-01-24T20:14:03.304Z"
   },
   {
    "duration": 9,
    "start_time": "2022-01-24T20:14:03.376Z"
   },
   {
    "duration": 5,
    "start_time": "2022-01-24T20:14:03.388Z"
   },
   {
    "duration": 8,
    "start_time": "2022-01-24T20:14:03.396Z"
   },
   {
    "duration": 66,
    "start_time": "2022-01-24T20:14:03.408Z"
   },
   {
    "duration": 8,
    "start_time": "2022-01-24T20:14:03.477Z"
   },
   {
    "duration": 11,
    "start_time": "2022-01-24T20:14:03.487Z"
   },
   {
    "duration": 69,
    "start_time": "2022-01-24T20:14:03.500Z"
   },
   {
    "duration": 8,
    "start_time": "2022-01-24T20:14:03.572Z"
   },
   {
    "duration": 20,
    "start_time": "2022-01-24T20:14:03.582Z"
   },
   {
    "duration": 6,
    "start_time": "2022-01-24T20:16:16.302Z"
   },
   {
    "duration": 7,
    "start_time": "2022-01-24T20:17:19.240Z"
   },
   {
    "duration": 10,
    "start_time": "2022-01-24T20:25:44.577Z"
   },
   {
    "duration": 12,
    "start_time": "2022-01-24T20:26:15.469Z"
   },
   {
    "duration": 14,
    "start_time": "2022-01-24T20:26:45.383Z"
   },
   {
    "duration": 6,
    "start_time": "2022-01-24T20:29:31.772Z"
   },
   {
    "duration": 15,
    "start_time": "2022-01-24T20:29:33.996Z"
   },
   {
    "duration": 23,
    "start_time": "2022-01-24T20:37:48.897Z"
   },
   {
    "duration": 5,
    "start_time": "2022-01-25T13:55:05.560Z"
   },
   {
    "duration": 57,
    "start_time": "2022-01-25T13:55:05.569Z"
   },
   {
    "duration": 44,
    "start_time": "2022-01-25T13:55:05.630Z"
   },
   {
    "duration": 37,
    "start_time": "2022-01-25T13:55:05.678Z"
   },
   {
    "duration": 67,
    "start_time": "2022-01-25T13:55:05.717Z"
   },
   {
    "duration": 16,
    "start_time": "2022-01-25T13:55:05.787Z"
   },
   {
    "duration": 13,
    "start_time": "2022-01-25T13:55:05.806Z"
   },
   {
    "duration": 53,
    "start_time": "2022-01-25T13:55:05.822Z"
   },
   {
    "duration": 6,
    "start_time": "2022-01-25T13:55:05.881Z"
   },
   {
    "duration": 14,
    "start_time": "2022-01-25T13:55:05.889Z"
   },
   {
    "duration": 11,
    "start_time": "2022-01-25T13:55:05.905Z"
   },
   {
    "duration": 13,
    "start_time": "2022-01-25T13:55:05.919Z"
   },
   {
    "duration": 36,
    "start_time": "2022-01-25T13:55:05.935Z"
   },
   {
    "duration": 8,
    "start_time": "2022-01-25T13:55:05.974Z"
   },
   {
    "duration": 17,
    "start_time": "2022-01-25T13:55:05.985Z"
   },
   {
    "duration": 5,
    "start_time": "2022-01-25T13:55:06.005Z"
   },
   {
    "duration": 10,
    "start_time": "2022-01-25T13:55:06.013Z"
   },
   {
    "duration": 10,
    "start_time": "2022-01-25T13:55:06.071Z"
   },
   {
    "duration": 9,
    "start_time": "2022-01-25T13:55:06.083Z"
   },
   {
    "duration": 17,
    "start_time": "2022-01-25T13:55:06.095Z"
   },
   {
    "duration": 18,
    "start_time": "2022-01-25T13:55:06.115Z"
   },
   {
    "duration": 29,
    "start_time": "2022-01-25T13:55:06.169Z"
   },
   {
    "duration": 9,
    "start_time": "2022-01-25T13:55:06.201Z"
   },
   {
    "duration": 58,
    "start_time": "2022-01-25T13:55:06.213Z"
   },
   {
    "duration": 66119,
    "start_time": "2022-01-25T13:55:06.274Z"
   },
   {
    "duration": 1040,
    "start_time": "2022-01-25T13:57:48.373Z"
   },
   {
    "duration": 949,
    "start_time": "2022-01-25T13:58:21.747Z"
   },
   {
    "duration": 774,
    "start_time": "2022-01-25T13:59:14.573Z"
   },
   {
    "duration": 494,
    "start_time": "2022-01-25T13:59:22.006Z"
   },
   {
    "duration": 358,
    "start_time": "2022-01-25T13:59:33.228Z"
   },
   {
    "duration": 507,
    "start_time": "2022-01-25T14:00:13.925Z"
   },
   {
    "duration": 464,
    "start_time": "2022-01-25T14:00:35.098Z"
   },
   {
    "duration": 673,
    "start_time": "2022-01-25T14:00:47.975Z"
   },
   {
    "duration": 2529,
    "start_time": "2022-01-25T14:01:12.947Z"
   },
   {
    "duration": 1730,
    "start_time": "2022-01-25T14:01:23.627Z"
   },
   {
    "duration": 1091,
    "start_time": "2022-01-25T14:01:31.378Z"
   },
   {
    "duration": 831,
    "start_time": "2022-01-25T14:02:17.848Z"
   },
   {
    "duration": 411,
    "start_time": "2022-01-25T14:02:48.743Z"
   },
   {
    "duration": 835,
    "start_time": "2022-01-25T14:03:18.072Z"
   },
   {
    "duration": 991,
    "start_time": "2022-01-25T14:03:55.678Z"
   },
   {
    "duration": 839,
    "start_time": "2022-01-25T14:04:08.098Z"
   },
   {
    "duration": 837,
    "start_time": "2022-01-25T14:04:37.254Z"
   },
   {
    "duration": 955,
    "start_time": "2022-01-25T14:04:52.014Z"
   },
   {
    "duration": 1327,
    "start_time": "2022-01-25T14:05:05.577Z"
   },
   {
    "duration": 880,
    "start_time": "2022-01-25T14:05:21.002Z"
   },
   {
    "duration": 968,
    "start_time": "2022-01-25T14:05:40.184Z"
   },
   {
    "duration": 761,
    "start_time": "2022-01-25T14:05:46.511Z"
   },
   {
    "duration": 859,
    "start_time": "2022-01-25T14:05:51.381Z"
   },
   {
    "duration": 773,
    "start_time": "2022-01-25T14:05:54.704Z"
   },
   {
    "duration": 796,
    "start_time": "2022-01-25T14:06:02.566Z"
   },
   {
    "duration": 292,
    "start_time": "2022-01-25T14:16:54.877Z"
   },
   {
    "duration": 278,
    "start_time": "2022-01-25T14:17:22.322Z"
   },
   {
    "duration": 23,
    "start_time": "2022-01-25T14:17:30.103Z"
   },
   {
    "duration": 268,
    "start_time": "2022-01-25T14:20:13.394Z"
   },
   {
    "duration": 72,
    "start_time": "2022-01-25T14:20:22.136Z"
   },
   {
    "duration": 21,
    "start_time": "2022-01-25T14:24:11.047Z"
   },
   {
    "duration": 282,
    "start_time": "2022-01-25T14:24:29.506Z"
   },
   {
    "duration": 27,
    "start_time": "2022-01-25T14:24:59.469Z"
   },
   {
    "duration": 30,
    "start_time": "2022-01-25T14:38:14.829Z"
   },
   {
    "duration": 23,
    "start_time": "2022-01-25T14:38:24.823Z"
   },
   {
    "duration": 283,
    "start_time": "2022-01-25T14:40:49.507Z"
   },
   {
    "duration": 394,
    "start_time": "2022-01-25T14:40:52.875Z"
   },
   {
    "duration": 323,
    "start_time": "2022-01-25T14:47:16.773Z"
   },
   {
    "duration": 3912,
    "start_time": "2022-01-25T14:49:52.661Z"
   },
   {
    "duration": 676,
    "start_time": "2022-01-25T14:51:33.061Z"
   },
   {
    "duration": 736,
    "start_time": "2022-01-25T14:51:41.956Z"
   },
   {
    "duration": 560,
    "start_time": "2022-01-25T14:51:51.639Z"
   },
   {
    "duration": 522,
    "start_time": "2022-01-25T14:52:57.734Z"
   },
   {
    "duration": 659,
    "start_time": "2022-01-25T14:53:36.576Z"
   },
   {
    "duration": 345,
    "start_time": "2022-01-25T14:56:40.822Z"
   },
   {
    "duration": 376,
    "start_time": "2022-01-25T14:56:55.799Z"
   },
   {
    "duration": 1640,
    "start_time": "2022-01-25T14:57:38.632Z"
   },
   {
    "duration": 296,
    "start_time": "2022-01-25T15:01:36.423Z"
   },
   {
    "duration": 280,
    "start_time": "2022-01-25T15:06:38.750Z"
   },
   {
    "duration": 17,
    "start_time": "2022-01-25T15:07:15.205Z"
   },
   {
    "duration": 15,
    "start_time": "2022-01-25T15:07:22.929Z"
   },
   {
    "duration": 299,
    "start_time": "2022-01-25T15:07:26.621Z"
   },
   {
    "duration": 272,
    "start_time": "2022-01-25T15:07:36.133Z"
   },
   {
    "duration": 22,
    "start_time": "2022-01-25T15:07:51.773Z"
   },
   {
    "duration": 23,
    "start_time": "2022-01-25T15:08:11.645Z"
   },
   {
    "duration": 36,
    "start_time": "2022-01-25T15:08:35.011Z"
   },
   {
    "duration": 35,
    "start_time": "2022-01-25T15:08:48.063Z"
   },
   {
    "duration": 153,
    "start_time": "2022-01-25T15:08:59.658Z"
   },
   {
    "duration": 334,
    "start_time": "2022-01-25T15:10:29.318Z"
   },
   {
    "duration": 19,
    "start_time": "2022-01-25T15:10:56.148Z"
   },
   {
    "duration": 24,
    "start_time": "2022-01-25T15:11:11.158Z"
   },
   {
    "duration": 30,
    "start_time": "2022-01-25T15:12:33.348Z"
   },
   {
    "duration": 31,
    "start_time": "2022-01-25T15:13:06.600Z"
   },
   {
    "duration": 39,
    "start_time": "2022-01-25T15:14:05.992Z"
   },
   {
    "duration": 655,
    "start_time": "2022-01-25T15:14:17.279Z"
   },
   {
    "duration": 29,
    "start_time": "2022-01-25T15:14:29.043Z"
   },
   {
    "duration": 24,
    "start_time": "2022-01-25T15:14:56.943Z"
   },
   {
    "duration": 17,
    "start_time": "2022-01-25T15:15:23.651Z"
   },
   {
    "duration": 25,
    "start_time": "2022-01-25T15:15:28.880Z"
   },
   {
    "duration": 23,
    "start_time": "2022-01-25T15:16:52.779Z"
   },
   {
    "duration": 19,
    "start_time": "2022-01-25T15:17:40.222Z"
   },
   {
    "duration": 25,
    "start_time": "2022-01-25T15:17:47.545Z"
   },
   {
    "duration": 287,
    "start_time": "2022-01-25T15:18:14.106Z"
   },
   {
    "duration": 439,
    "start_time": "2022-01-25T15:19:50.409Z"
   },
   {
    "duration": 269,
    "start_time": "2022-01-25T15:20:52.934Z"
   },
   {
    "duration": 294,
    "start_time": "2022-01-25T15:22:08.752Z"
   },
   {
    "duration": 808,
    "start_time": "2022-01-25T15:22:40.876Z"
   },
   {
    "duration": 312,
    "start_time": "2022-01-25T15:23:15.726Z"
   },
   {
    "duration": 292,
    "start_time": "2022-01-25T15:26:06.514Z"
   },
   {
    "duration": 277,
    "start_time": "2022-01-25T15:26:12.093Z"
   },
   {
    "duration": 866,
    "start_time": "2022-01-25T15:26:17.788Z"
   },
   {
    "duration": 38300,
    "start_time": "2022-01-25T15:26:36.811Z"
   },
   {
    "duration": 6,
    "start_time": "2022-01-25T15:27:26.207Z"
   },
   {
    "duration": 319,
    "start_time": "2022-01-25T15:27:36.191Z"
   },
   {
    "duration": 270,
    "start_time": "2022-01-25T15:27:40.841Z"
   },
   {
    "duration": 6,
    "start_time": "2022-01-25T15:27:44.787Z"
   },
   {
    "duration": 505,
    "start_time": "2022-01-25T15:29:02.575Z"
   },
   {
    "duration": 6577,
    "start_time": "2022-01-25T15:29:45.492Z"
   },
   {
    "duration": 874,
    "start_time": "2022-01-25T15:32:37.634Z"
   },
   {
    "duration": 273,
    "start_time": "2022-01-25T15:37:41.275Z"
   },
   {
    "duration": 23,
    "start_time": "2022-01-25T15:37:50.665Z"
   },
   {
    "duration": 62,
    "start_time": "2022-01-25T15:38:12.651Z"
   },
   {
    "duration": 66,
    "start_time": "2022-01-25T15:38:41.775Z"
   },
   {
    "duration": 2285,
    "start_time": "2022-01-25T15:39:05.062Z"
   },
   {
    "duration": 314,
    "start_time": "2022-01-25T15:41:46.219Z"
   },
   {
    "duration": 317,
    "start_time": "2022-01-25T15:42:29.866Z"
   },
   {
    "duration": 57,
    "start_time": "2022-01-25T15:42:40.434Z"
   },
   {
    "duration": 373,
    "start_time": "2022-01-25T15:43:35.966Z"
   },
   {
    "duration": 22,
    "start_time": "2022-01-25T15:43:41.880Z"
   },
   {
    "duration": 400,
    "start_time": "2022-01-25T15:43:48.800Z"
   },
   {
    "duration": 63,
    "start_time": "2022-01-25T15:43:58.306Z"
   },
   {
    "duration": 307,
    "start_time": "2022-01-25T15:46:24.251Z"
   },
   {
    "duration": 330,
    "start_time": "2022-01-25T15:47:00.814Z"
   },
   {
    "duration": 317,
    "start_time": "2022-01-25T15:47:36.338Z"
   },
   {
    "duration": 65,
    "start_time": "2022-01-25T15:47:41.147Z"
   },
   {
    "duration": 63,
    "start_time": "2022-01-25T15:48:19.708Z"
   },
   {
    "duration": 66,
    "start_time": "2022-01-25T15:48:24.204Z"
   },
   {
    "duration": 67,
    "start_time": "2022-01-25T15:52:53.783Z"
   },
   {
    "duration": 290,
    "start_time": "2022-01-25T15:53:55.047Z"
   },
   {
    "duration": 346,
    "start_time": "2022-01-25T15:55:47.169Z"
   },
   {
    "duration": 752,
    "start_time": "2022-01-25T15:56:00.784Z"
   },
   {
    "duration": 274,
    "start_time": "2022-01-25T15:57:47.263Z"
   },
   {
    "duration": 288,
    "start_time": "2022-01-25T15:58:10.404Z"
   },
   {
    "duration": 35052,
    "start_time": "2022-01-25T15:58:18.364Z"
   },
   {
    "duration": 24,
    "start_time": "2022-01-25T15:58:56.520Z"
   },
   {
    "duration": 77,
    "start_time": "2022-01-25T15:59:13.405Z"
   },
   {
    "duration": 64,
    "start_time": "2022-01-25T15:59:29.595Z"
   },
   {
    "duration": 649,
    "start_time": "2022-01-25T16:00:48.728Z"
   },
   {
    "duration": 292,
    "start_time": "2022-01-25T16:01:05.579Z"
   },
   {
    "duration": 6772,
    "start_time": "2022-01-25T16:02:40.321Z"
   },
   {
    "duration": 1515,
    "start_time": "2022-01-25T16:03:15.390Z"
   },
   {
    "duration": 557,
    "start_time": "2022-01-25T16:03:36.046Z"
   },
   {
    "duration": 694,
    "start_time": "2022-01-25T16:04:01.437Z"
   },
   {
    "duration": 265,
    "start_time": "2022-01-25T16:42:40.067Z"
   },
   {
    "duration": 6791,
    "start_time": "2022-01-25T16:43:00.601Z"
   },
   {
    "duration": 6976,
    "start_time": "2022-01-25T16:43:19.818Z"
   },
   {
    "duration": 3371,
    "start_time": "2022-01-25T16:43:37.578Z"
   },
   {
    "duration": 117,
    "start_time": "2022-01-25T16:45:47.576Z"
   },
   {
    "duration": 88,
    "start_time": "2022-01-25T16:46:36.540Z"
   },
   {
    "duration": 100,
    "start_time": "2022-01-25T16:46:53.476Z"
   },
   {
    "duration": 802,
    "start_time": "2022-01-25T16:47:45.495Z"
   },
   {
    "duration": 7068,
    "start_time": "2022-01-25T16:48:18.121Z"
   },
   {
    "duration": 975,
    "start_time": "2022-01-25T16:49:06.278Z"
   },
   {
    "duration": 24,
    "start_time": "2022-01-25T16:49:30.258Z"
   },
   {
    "duration": 76,
    "start_time": "2022-01-25T16:49:46.821Z"
   },
   {
    "duration": 6991,
    "start_time": "2022-01-25T16:50:39.636Z"
   },
   {
    "duration": 64,
    "start_time": "2022-01-25T16:50:59.646Z"
   },
   {
    "duration": 3649,
    "start_time": "2022-01-25T16:51:41.457Z"
   },
   {
    "duration": 963,
    "start_time": "2022-01-25T16:52:16.238Z"
   },
   {
    "duration": 6921,
    "start_time": "2022-01-25T16:53:02.915Z"
   },
   {
    "duration": 66,
    "start_time": "2022-01-25T16:53:34.599Z"
   },
   {
    "duration": 7510,
    "start_time": "2022-01-25T16:54:27.525Z"
   },
   {
    "duration": 61,
    "start_time": "2022-01-25T16:55:10.473Z"
   },
   {
    "duration": 62,
    "start_time": "2022-01-25T16:56:37.952Z"
   },
   {
    "duration": 41,
    "start_time": "2022-01-25T16:57:30.614Z"
   },
   {
    "duration": 43,
    "start_time": "2022-01-25T16:57:46.929Z"
   },
   {
    "duration": 44,
    "start_time": "2022-01-25T16:58:03.713Z"
   },
   {
    "duration": 313,
    "start_time": "2022-01-25T16:58:19.692Z"
   },
   {
    "duration": 65,
    "start_time": "2022-01-25T16:58:39.171Z"
   },
   {
    "duration": 4895,
    "start_time": "2022-01-25T16:59:39.002Z"
   },
   {
    "duration": 4480,
    "start_time": "2022-01-25T17:00:48.343Z"
   },
   {
    "duration": 4691,
    "start_time": "2022-01-25T17:01:22.419Z"
   },
   {
    "duration": 287,
    "start_time": "2022-01-25T17:01:52.581Z"
   },
   {
    "duration": 4501,
    "start_time": "2022-01-25T17:02:00.330Z"
   },
   {
    "duration": 3512,
    "start_time": "2022-01-25T17:10:28.241Z"
   },
   {
    "duration": 11,
    "start_time": "2022-01-25T17:11:47.067Z"
   },
   {
    "duration": 273,
    "start_time": "2022-01-25T17:12:46.455Z"
   },
   {
    "duration": 91,
    "start_time": "2022-01-25T17:13:04.343Z"
   },
   {
    "duration": 11,
    "start_time": "2022-01-25T17:13:15.007Z"
   },
   {
    "duration": 368,
    "start_time": "2022-01-25T17:13:29.579Z"
   },
   {
    "duration": 3985,
    "start_time": "2022-01-25T17:13:47.924Z"
   },
   {
    "duration": 1527,
    "start_time": "2022-01-25T17:15:14.620Z"
   },
   {
    "duration": 1532,
    "start_time": "2022-01-25T17:15:45.165Z"
   },
   {
    "duration": 276,
    "start_time": "2022-01-25T17:17:17.478Z"
   },
   {
    "duration": 265,
    "start_time": "2022-01-25T17:17:22.096Z"
   },
   {
    "duration": 1020,
    "start_time": "2022-01-25T17:17:44.493Z"
   },
   {
    "duration": 1510,
    "start_time": "2022-01-25T17:18:12.411Z"
   },
   {
    "duration": 292,
    "start_time": "2022-01-25T17:18:48.272Z"
   },
   {
    "duration": 1240,
    "start_time": "2022-01-25T17:19:02.911Z"
   },
   {
    "duration": 2314,
    "start_time": "2022-01-25T17:19:42.287Z"
   },
   {
    "duration": 2074,
    "start_time": "2022-01-25T17:19:53.795Z"
   },
   {
    "duration": 1349,
    "start_time": "2022-01-25T17:20:02.054Z"
   },
   {
    "duration": 963,
    "start_time": "2022-01-25T17:20:07.455Z"
   },
   {
    "duration": 1082,
    "start_time": "2022-01-25T17:20:18.646Z"
   },
   {
    "duration": 828,
    "start_time": "2022-01-25T17:20:29.193Z"
   },
   {
    "duration": 1347,
    "start_time": "2022-01-25T17:20:41.581Z"
   },
   {
    "duration": 1249,
    "start_time": "2022-01-25T17:21:17.612Z"
   },
   {
    "duration": 18,
    "start_time": "2022-01-25T17:26:10.409Z"
   },
   {
    "duration": 17,
    "start_time": "2022-01-25T17:26:28.285Z"
   },
   {
    "duration": 1435,
    "start_time": "2022-01-25T17:28:13.891Z"
   },
   {
    "duration": 9,
    "start_time": "2022-01-25T17:28:41.807Z"
   },
   {
    "duration": 51,
    "start_time": "2022-01-25T17:28:58.589Z"
   },
   {
    "duration": 7,
    "start_time": "2022-01-25T17:29:42.728Z"
   },
   {
    "duration": 277,
    "start_time": "2022-01-25T17:31:11.803Z"
   },
   {
    "duration": 295,
    "start_time": "2022-01-25T17:33:35.751Z"
   },
   {
    "duration": 1043,
    "start_time": "2022-01-25T17:34:21.129Z"
   },
   {
    "duration": 1295,
    "start_time": "2022-01-25T17:34:38.138Z"
   },
   {
    "duration": 1121,
    "start_time": "2022-01-25T17:37:44.049Z"
   },
   {
    "duration": 1898,
    "start_time": "2022-01-25T17:38:12.654Z"
   },
   {
    "duration": 2077,
    "start_time": "2022-01-25T17:38:25.268Z"
   },
   {
    "duration": 1190,
    "start_time": "2022-01-25T17:40:08.779Z"
   },
   {
    "duration": 1376,
    "start_time": "2022-01-25T17:40:23.599Z"
   },
   {
    "duration": 290,
    "start_time": "2022-01-25T17:49:14.030Z"
   },
   {
    "duration": 1283,
    "start_time": "2022-01-25T17:49:25.912Z"
   },
   {
    "duration": 1055,
    "start_time": "2022-01-25T17:50:49.966Z"
   },
   {
    "duration": 871,
    "start_time": "2022-01-25T17:50:57.098Z"
   },
   {
    "duration": 670,
    "start_time": "2022-01-25T17:53:03.503Z"
   },
   {
    "duration": 5,
    "start_time": "2022-01-25T17:53:09.029Z"
   },
   {
    "duration": 651,
    "start_time": "2022-01-25T17:53:11.779Z"
   },
   {
    "duration": 354,
    "start_time": "2022-01-25T17:55:35.865Z"
   },
   {
    "duration": 300,
    "start_time": "2022-01-25T17:56:03.177Z"
   },
   {
    "duration": 1520,
    "start_time": "2022-01-25T17:56:23.119Z"
   },
   {
    "duration": 320,
    "start_time": "2022-01-25T17:58:27.141Z"
   },
   {
    "duration": 281,
    "start_time": "2022-01-25T17:58:52.829Z"
   },
   {
    "duration": 274,
    "start_time": "2022-01-25T17:59:45.098Z"
   },
   {
    "duration": 269,
    "start_time": "2022-01-25T17:59:49.505Z"
   },
   {
    "duration": 316,
    "start_time": "2022-01-25T18:00:01.447Z"
   },
   {
    "duration": 268,
    "start_time": "2022-01-25T18:00:15.552Z"
   },
   {
    "duration": 1400,
    "start_time": "2022-01-25T18:00:24.517Z"
   },
   {
    "duration": 131942,
    "start_time": "2022-01-25T18:01:11.756Z"
   },
   {
    "duration": -19,
    "start_time": "2022-01-25T18:03:23.720Z"
   },
   {
    "duration": 543,
    "start_time": "2022-01-25T18:03:27.127Z"
   },
   {
    "duration": 630,
    "start_time": "2022-01-25T18:04:07.545Z"
   },
   {
    "duration": 958,
    "start_time": "2022-01-25T18:04:32.136Z"
   },
   {
    "duration": 735,
    "start_time": "2022-01-25T18:04:42.790Z"
   },
   {
    "duration": 1069,
    "start_time": "2022-01-25T18:04:57.342Z"
   },
   {
    "duration": 1048,
    "start_time": "2022-01-25T18:05:11.611Z"
   },
   {
    "duration": 16,
    "start_time": "2022-01-25T18:05:53.934Z"
   },
   {
    "duration": 7,
    "start_time": "2022-01-25T18:07:04.551Z"
   },
   {
    "duration": 1076,
    "start_time": "2022-01-25T18:07:08.745Z"
   },
   {
    "duration": 590,
    "start_time": "2022-01-25T18:07:26.864Z"
   },
   {
    "duration": 7,
    "start_time": "2022-01-25T18:07:38.555Z"
   },
   {
    "duration": 548,
    "start_time": "2022-01-25T18:07:41.064Z"
   },
   {
    "duration": 326,
    "start_time": "2022-01-25T18:36:01.990Z"
   },
   {
    "duration": 373,
    "start_time": "2022-01-25T18:36:13.572Z"
   },
   {
    "duration": 373,
    "start_time": "2022-01-25T18:36:31.928Z"
   },
   {
    "duration": 336,
    "start_time": "2022-01-25T18:37:06.700Z"
   },
   {
    "duration": 286,
    "start_time": "2022-01-25T18:37:32.553Z"
   },
   {
    "duration": 304,
    "start_time": "2022-01-25T18:38:01.944Z"
   },
   {
    "duration": 77,
    "start_time": "2022-01-25T18:38:26.287Z"
   },
   {
    "duration": 2131,
    "start_time": "2022-01-25T18:39:30.628Z"
   },
   {
    "duration": 416,
    "start_time": "2022-01-25T18:40:22.232Z"
   },
   {
    "duration": 1801,
    "start_time": "2022-01-25T18:40:34.225Z"
   },
   {
    "duration": 3956,
    "start_time": "2022-01-25T18:41:33.297Z"
   },
   {
    "duration": 3907,
    "start_time": "2022-01-25T18:43:52.772Z"
   },
   {
    "duration": 3928,
    "start_time": "2022-01-25T18:44:30.764Z"
   },
   {
    "duration": 1155,
    "start_time": "2022-01-25T18:46:13.273Z"
   },
   {
    "duration": 2606,
    "start_time": "2022-01-25T18:46:21.702Z"
   },
   {
    "duration": 1234,
    "start_time": "2022-01-25T18:46:36.831Z"
   },
   {
    "duration": 3967,
    "start_time": "2022-01-25T18:46:41.249Z"
   },
   {
    "duration": 4190,
    "start_time": "2022-01-25T18:47:00.170Z"
   },
   {
    "duration": 3893,
    "start_time": "2022-01-25T18:47:11.671Z"
   },
   {
    "duration": 849,
    "start_time": "2022-01-25T18:48:23.359Z"
   },
   {
    "duration": 294,
    "start_time": "2022-01-25T18:48:48.292Z"
   },
   {
    "duration": 4123,
    "start_time": "2022-01-25T18:48:56.714Z"
   },
   {
    "duration": 1380,
    "start_time": "2022-01-25T18:55:06.429Z"
   },
   {
    "duration": 51,
    "start_time": "2022-01-25T18:58:05.794Z"
   },
   {
    "duration": 38,
    "start_time": "2022-01-25T18:58:35.369Z"
   },
   {
    "duration": 28,
    "start_time": "2022-01-25T18:59:21.099Z"
   },
   {
    "duration": 56,
    "start_time": "2022-01-25T18:59:32.710Z"
   },
   {
    "duration": 24,
    "start_time": "2022-01-25T18:59:50.895Z"
   },
   {
    "duration": 51,
    "start_time": "2022-01-25T19:00:02.684Z"
   },
   {
    "duration": 22,
    "start_time": "2022-01-25T19:00:28.686Z"
   },
   {
    "duration": 44,
    "start_time": "2022-01-25T19:00:46.959Z"
   },
   {
    "duration": 317,
    "start_time": "2022-01-25T19:00:59.537Z"
   },
   {
    "duration": 293,
    "start_time": "2022-01-25T19:01:03.675Z"
   },
   {
    "duration": 26,
    "start_time": "2022-01-25T19:01:33.738Z"
   },
   {
    "duration": 21,
    "start_time": "2022-01-25T19:01:59.777Z"
   },
   {
    "duration": 49,
    "start_time": "2022-01-25T19:02:29.442Z"
   },
   {
    "duration": 34,
    "start_time": "2022-01-25T19:03:58.841Z"
   },
   {
    "duration": 293,
    "start_time": "2022-01-25T19:05:03.393Z"
   },
   {
    "duration": 50,
    "start_time": "2022-01-25T19:06:07.679Z"
   },
   {
    "duration": 42,
    "start_time": "2022-01-25T19:06:16.245Z"
   },
   {
    "duration": 65,
    "start_time": "2022-01-25T19:06:57.649Z"
   },
   {
    "duration": 40,
    "start_time": "2022-01-25T19:07:21.859Z"
   },
   {
    "duration": 76,
    "start_time": "2022-01-25T19:07:57.239Z"
   },
   {
    "duration": 42,
    "start_time": "2022-01-25T19:08:12.310Z"
   },
   {
    "duration": 8,
    "start_time": "2022-01-25T19:15:58.357Z"
   },
   {
    "duration": 562,
    "start_time": "2022-01-25T19:16:00.110Z"
   },
   {
    "duration": 629,
    "start_time": "2022-01-25T19:16:10.205Z"
   },
   {
    "duration": 744,
    "start_time": "2022-01-25T19:17:07.317Z"
   },
   {
    "duration": 12,
    "start_time": "2022-01-25T19:57:41.394Z"
   },
   {
    "duration": 1153,
    "start_time": "2022-01-25T20:00:28.475Z"
   },
   {
    "duration": 1037,
    "start_time": "2022-01-25T20:03:24.180Z"
   },
   {
    "duration": 356,
    "start_time": "2022-01-25T20:03:49.722Z"
   },
   {
    "duration": 1091,
    "start_time": "2022-01-25T20:03:59.401Z"
   },
   {
    "duration": 111,
    "start_time": "2022-01-25T20:05:01.614Z"
   },
   {
    "duration": 1091,
    "start_time": "2022-01-25T20:05:06.659Z"
   },
   {
    "duration": 1136,
    "start_time": "2022-01-25T20:09:11.635Z"
   },
   {
    "duration": 1015,
    "start_time": "2022-01-25T20:09:19.698Z"
   },
   {
    "duration": 1058,
    "start_time": "2022-01-25T20:09:24.607Z"
   },
   {
    "duration": 1074,
    "start_time": "2022-01-25T20:09:35.361Z"
   },
   {
    "duration": 1961,
    "start_time": "2022-01-25T20:15:01.960Z"
   },
   {
    "duration": 92,
    "start_time": "2022-01-25T20:17:41.364Z"
   },
   {
    "duration": 87,
    "start_time": "2022-01-25T20:18:31.604Z"
   },
   {
    "duration": 96,
    "start_time": "2022-01-25T20:18:37.196Z"
   },
   {
    "duration": 303,
    "start_time": "2022-01-25T20:19:43.312Z"
   },
   {
    "duration": 365,
    "start_time": "2022-01-25T20:20:02.727Z"
   },
   {
    "duration": 1071,
    "start_time": "2022-01-25T20:20:59.486Z"
   },
   {
    "duration": 309,
    "start_time": "2022-01-25T20:23:40.126Z"
   },
   {
    "duration": 6,
    "start_time": "2022-01-25T20:25:32.611Z"
   },
   {
    "duration": 7209,
    "start_time": "2022-01-25T20:25:38.834Z"
   },
   {
    "duration": 289,
    "start_time": "2022-01-25T20:26:07.684Z"
   },
   {
    "duration": 309,
    "start_time": "2022-01-25T20:30:29.587Z"
   },
   {
    "duration": 8875,
    "start_time": "2022-01-25T20:31:02.247Z"
   },
   {
    "duration": 9085,
    "start_time": "2022-01-25T20:32:02.678Z"
   },
   {
    "duration": 3192,
    "start_time": "2022-01-25T20:32:54.585Z"
   },
   {
    "duration": 94,
    "start_time": "2022-01-25T20:33:19.862Z"
   },
   {
    "duration": 154,
    "start_time": "2022-01-25T20:33:25.823Z"
   },
   {
    "duration": 9781,
    "start_time": "2022-01-25T20:33:32.161Z"
   },
   {
    "duration": 9271,
    "start_time": "2022-01-25T20:33:56.448Z"
   },
   {
    "duration": 9000,
    "start_time": "2022-01-25T20:34:57.754Z"
   },
   {
    "duration": 685,
    "start_time": "2022-01-25T20:39:07.839Z"
   },
   {
    "duration": 685,
    "start_time": "2022-01-25T20:39:33.198Z"
   },
   {
    "duration": 790,
    "start_time": "2022-01-25T20:40:03.912Z"
   },
   {
    "duration": 882,
    "start_time": "2022-01-25T20:40:40.478Z"
   },
   {
    "duration": 787,
    "start_time": "2022-01-25T20:41:33.043Z"
   },
   {
    "duration": 540,
    "start_time": "2022-01-25T20:45:58.881Z"
   },
   {
    "duration": 119,
    "start_time": "2022-01-25T20:47:00.633Z"
   },
   {
    "duration": 86,
    "start_time": "2022-01-25T20:47:19.053Z"
   },
   {
    "duration": 15,
    "start_time": "2022-01-25T20:47:29.645Z"
   },
   {
    "duration": 16,
    "start_time": "2022-01-25T20:47:37.989Z"
   },
   {
    "duration": 21,
    "start_time": "2022-01-25T20:47:45.246Z"
   },
   {
    "duration": 343,
    "start_time": "2022-01-25T20:52:12.339Z"
   },
   {
    "duration": 354,
    "start_time": "2022-01-25T20:52:38.958Z"
   },
   {
    "duration": 366,
    "start_time": "2022-01-25T20:53:14.346Z"
   },
   {
    "duration": 881,
    "start_time": "2022-01-25T20:53:19.795Z"
   },
   {
    "duration": 356,
    "start_time": "2022-01-25T20:53:24.965Z"
   },
   {
    "duration": 389,
    "start_time": "2022-01-25T20:53:51.868Z"
   },
   {
    "duration": 359,
    "start_time": "2022-01-25T20:54:00.284Z"
   },
   {
    "duration": 422,
    "start_time": "2022-01-25T20:54:07.593Z"
   },
   {
    "duration": 1042,
    "start_time": "2022-01-25T20:56:16.806Z"
   },
   {
    "duration": 654,
    "start_time": "2022-01-25T20:56:57.854Z"
   },
   {
    "duration": 2541,
    "start_time": "2022-01-25T20:57:54.654Z"
   },
   {
    "duration": 563,
    "start_time": "2022-01-25T20:58:05.704Z"
   },
   {
    "duration": 640,
    "start_time": "2022-01-25T20:58:25.604Z"
   },
   {
    "duration": 567,
    "start_time": "2022-01-25T20:58:48.574Z"
   },
   {
    "duration": 6742,
    "start_time": "2022-01-25T21:01:28.811Z"
   },
   {
    "duration": 8499,
    "start_time": "2022-01-25T21:01:42.449Z"
   },
   {
    "duration": 7628,
    "start_time": "2022-01-25T21:01:54.235Z"
   },
   {
    "duration": 309,
    "start_time": "2022-01-25T21:02:20.135Z"
   },
   {
    "duration": 34,
    "start_time": "2022-01-25T21:02:46.770Z"
   },
   {
    "duration": 313,
    "start_time": "2022-01-25T21:03:01.600Z"
   },
   {
    "duration": 304,
    "start_time": "2022-01-25T21:03:20.220Z"
   },
   {
    "duration": 290,
    "start_time": "2022-01-25T21:03:26.154Z"
   },
   {
    "duration": 304,
    "start_time": "2022-01-25T21:03:43.459Z"
   },
   {
    "duration": 35,
    "start_time": "2022-01-25T21:03:49.739Z"
   },
   {
    "duration": 293,
    "start_time": "2022-01-25T21:04:15.425Z"
   },
   {
    "duration": 32,
    "start_time": "2022-01-25T21:04:27.904Z"
   },
   {
    "duration": 22,
    "start_time": "2022-01-25T21:05:06.391Z"
   },
   {
    "duration": 23,
    "start_time": "2022-01-25T21:05:19.647Z"
   },
   {
    "duration": 23,
    "start_time": "2022-01-25T21:05:39.564Z"
   },
   {
    "duration": 312,
    "start_time": "2022-01-25T21:06:27.794Z"
   },
   {
    "duration": 34,
    "start_time": "2022-01-25T21:06:45.384Z"
   },
   {
    "duration": 296,
    "start_time": "2022-01-25T21:06:58.967Z"
   },
   {
    "duration": 33,
    "start_time": "2022-01-25T21:07:13.044Z"
   },
   {
    "duration": 34,
    "start_time": "2022-01-25T21:07:30.164Z"
   },
   {
    "duration": 33,
    "start_time": "2022-01-25T21:08:51.171Z"
   },
   {
    "duration": 44,
    "start_time": "2022-01-25T21:09:20.580Z"
   },
   {
    "duration": 461,
    "start_time": "2022-01-25T21:11:03.110Z"
   },
   {
    "duration": 307,
    "start_time": "2022-01-25T21:11:31.391Z"
   },
   {
    "duration": 643,
    "start_time": "2022-01-25T21:12:00.559Z"
   },
   {
    "duration": 308,
    "start_time": "2022-01-25T21:12:07.997Z"
   },
   {
    "duration": 487,
    "start_time": "2022-01-25T21:12:40.308Z"
   },
   {
    "duration": 423,
    "start_time": "2022-01-25T21:13:08.595Z"
   },
   {
    "duration": 442,
    "start_time": "2022-01-25T21:13:18.563Z"
   },
   {
    "duration": 302,
    "start_time": "2022-01-25T21:13:39.569Z"
   },
   {
    "duration": 298,
    "start_time": "2022-01-25T21:13:57.057Z"
   },
   {
    "duration": 1024,
    "start_time": "2022-01-25T21:14:02.514Z"
   },
   {
    "duration": 1431,
    "start_time": "2022-01-25T21:27:11.416Z"
   },
   {
    "duration": 47,
    "start_time": "2022-01-25T21:27:12.851Z"
   },
   {
    "duration": 26,
    "start_time": "2022-01-25T21:27:12.901Z"
   },
   {
    "duration": 41,
    "start_time": "2022-01-25T21:27:12.929Z"
   },
   {
    "duration": 46,
    "start_time": "2022-01-25T21:27:12.973Z"
   },
   {
    "duration": 13,
    "start_time": "2022-01-25T21:27:13.022Z"
   },
   {
    "duration": 33,
    "start_time": "2022-01-25T21:27:13.038Z"
   },
   {
    "duration": 15,
    "start_time": "2022-01-25T21:27:13.075Z"
   },
   {
    "duration": 5,
    "start_time": "2022-01-25T21:27:13.094Z"
   },
   {
    "duration": 5,
    "start_time": "2022-01-25T21:27:13.101Z"
   },
   {
    "duration": 10,
    "start_time": "2022-01-25T21:27:13.108Z"
   },
   {
    "duration": 58,
    "start_time": "2022-01-25T21:27:13.121Z"
   },
   {
    "duration": 10,
    "start_time": "2022-01-25T21:27:13.182Z"
   },
   {
    "duration": 10,
    "start_time": "2022-01-25T21:27:13.194Z"
   },
   {
    "duration": 21,
    "start_time": "2022-01-25T21:27:13.206Z"
   },
   {
    "duration": 44,
    "start_time": "2022-01-25T21:27:13.230Z"
   },
   {
    "duration": 11,
    "start_time": "2022-01-25T21:27:13.277Z"
   },
   {
    "duration": 11,
    "start_time": "2022-01-25T21:27:13.291Z"
   },
   {
    "duration": 8,
    "start_time": "2022-01-25T21:27:13.305Z"
   },
   {
    "duration": 58,
    "start_time": "2022-01-25T21:27:13.316Z"
   },
   {
    "duration": 12,
    "start_time": "2022-01-25T21:27:13.377Z"
   },
   {
    "duration": 21,
    "start_time": "2022-01-25T21:27:13.391Z"
   },
   {
    "duration": 8,
    "start_time": "2022-01-25T21:27:13.414Z"
   },
   {
    "duration": 53,
    "start_time": "2022-01-25T21:27:13.425Z"
   },
   {
    "duration": 808,
    "start_time": "2022-01-25T21:27:13.480Z"
   },
   {
    "duration": 22,
    "start_time": "2022-01-25T21:27:14.293Z"
   },
   {
    "duration": 325,
    "start_time": "2022-01-25T21:27:14.317Z"
   },
   {
    "duration": 1385,
    "start_time": "2022-01-25T21:27:14.644Z"
   },
   {
    "duration": 876,
    "start_time": "2022-01-25T21:27:16.032Z"
   },
   {
    "duration": 32,
    "start_time": "2022-01-25T21:27:16.911Z"
   },
   {
    "duration": 30,
    "start_time": "2022-01-25T21:27:16.946Z"
   },
   {
    "duration": 6,
    "start_time": "2022-01-25T21:27:16.978Z"
   },
   {
    "duration": 406,
    "start_time": "2022-01-25T21:27:16.986Z"
   },
   {
    "duration": 1139,
    "start_time": "2022-01-25T21:27:17.395Z"
   },
   {
    "duration": 9653,
    "start_time": "2022-01-25T21:27:18.536Z"
   },
   {
    "duration": 44,
    "start_time": "2022-01-25T21:27:28.192Z"
   },
   {
    "duration": 470,
    "start_time": "2022-01-25T21:27:28.239Z"
   },
   {
    "duration": 979,
    "start_time": "2022-01-25T21:27:28.712Z"
   },
   {
    "duration": 1125,
    "start_time": "2022-01-26T07:31:08.698Z"
   },
   {
    "duration": 37,
    "start_time": "2022-01-26T07:31:09.824Z"
   },
   {
    "duration": 18,
    "start_time": "2022-01-26T07:31:09.863Z"
   },
   {
    "duration": 37,
    "start_time": "2022-01-26T07:31:09.883Z"
   },
   {
    "duration": 30,
    "start_time": "2022-01-26T07:31:09.922Z"
   },
   {
    "duration": 9,
    "start_time": "2022-01-26T07:31:09.953Z"
   },
   {
    "duration": 23,
    "start_time": "2022-01-26T07:31:09.963Z"
   },
   {
    "duration": 25,
    "start_time": "2022-01-26T07:31:09.988Z"
   },
   {
    "duration": 8,
    "start_time": "2022-01-26T07:31:10.016Z"
   },
   {
    "duration": 21,
    "start_time": "2022-01-26T07:31:10.026Z"
   },
   {
    "duration": 8,
    "start_time": "2022-01-26T07:31:10.049Z"
   },
   {
    "duration": 17,
    "start_time": "2022-01-26T07:31:10.058Z"
   },
   {
    "duration": 20,
    "start_time": "2022-01-26T07:31:10.079Z"
   },
   {
    "duration": 18,
    "start_time": "2022-01-26T07:31:10.100Z"
   },
   {
    "duration": 20,
    "start_time": "2022-01-26T07:31:10.120Z"
   },
   {
    "duration": 9,
    "start_time": "2022-01-26T07:31:10.141Z"
   },
   {
    "duration": 5,
    "start_time": "2022-01-26T07:31:10.151Z"
   },
   {
    "duration": 6,
    "start_time": "2022-01-26T07:31:10.158Z"
   },
   {
    "duration": 4,
    "start_time": "2022-01-26T07:31:10.165Z"
   },
   {
    "duration": 16,
    "start_time": "2022-01-26T07:31:10.171Z"
   },
   {
    "duration": 7,
    "start_time": "2022-01-26T07:31:10.189Z"
   },
   {
    "duration": 13,
    "start_time": "2022-01-26T07:31:10.198Z"
   },
   {
    "duration": 4,
    "start_time": "2022-01-26T07:31:10.213Z"
   },
   {
    "duration": 15,
    "start_time": "2022-01-26T07:31:10.219Z"
   },
   {
    "duration": 461,
    "start_time": "2022-01-26T07:31:10.235Z"
   },
   {
    "duration": 13,
    "start_time": "2022-01-26T07:31:10.698Z"
   },
   {
    "duration": 176,
    "start_time": "2022-01-26T07:31:10.714Z"
   },
   {
    "duration": 698,
    "start_time": "2022-01-26T07:31:10.892Z"
   },
   {
    "duration": 504,
    "start_time": "2022-01-26T07:31:11.592Z"
   },
   {
    "duration": 20,
    "start_time": "2022-01-26T07:31:12.097Z"
   },
   {
    "duration": 7,
    "start_time": "2022-01-26T07:31:12.118Z"
   },
   {
    "duration": 3,
    "start_time": "2022-01-26T07:31:12.127Z"
   },
   {
    "duration": 252,
    "start_time": "2022-01-26T07:31:12.132Z"
   },
   {
    "duration": 717,
    "start_time": "2022-01-26T07:31:12.386Z"
   },
   {
    "duration": 5645,
    "start_time": "2022-01-26T07:31:13.105Z"
   },
   {
    "duration": 36,
    "start_time": "2022-01-26T07:31:18.752Z"
   },
   {
    "duration": 257,
    "start_time": "2022-01-26T07:31:18.790Z"
   },
   {
    "duration": 620,
    "start_time": "2022-01-26T07:31:19.048Z"
   },
   {
    "duration": 4736,
    "start_time": "2022-01-26T07:38:11.433Z"
   },
   {
    "duration": 7866,
    "start_time": "2022-01-26T07:38:27.695Z"
   },
   {
    "duration": 590,
    "start_time": "2022-01-26T07:38:53.037Z"
   },
   {
    "duration": 477,
    "start_time": "2022-01-26T07:47:26.682Z"
   },
   {
    "duration": 450,
    "start_time": "2022-01-26T07:51:25.596Z"
   },
   {
    "duration": 485,
    "start_time": "2022-01-26T07:52:36.851Z"
   },
   {
    "duration": 555,
    "start_time": "2022-01-26T07:52:47.345Z"
   },
   {
    "duration": 448,
    "start_time": "2022-01-26T07:53:38.221Z"
   },
   {
    "duration": 463,
    "start_time": "2022-01-26T07:53:43.126Z"
   },
   {
    "duration": 445,
    "start_time": "2022-01-26T07:53:46.308Z"
   },
   {
    "duration": 344,
    "start_time": "2022-01-26T08:01:58.562Z"
   },
   {
    "duration": 639,
    "start_time": "2022-01-26T08:02:30.907Z"
   },
   {
    "duration": 557,
    "start_time": "2022-01-26T08:18:09.574Z"
   },
   {
    "duration": 114,
    "start_time": "2022-01-26T08:22:27.868Z"
   },
   {
    "duration": 119,
    "start_time": "2022-01-26T08:23:00.374Z"
   },
   {
    "duration": 470,
    "start_time": "2022-01-26T08:23:36.473Z"
   },
   {
    "duration": 1437,
    "start_time": "2022-01-26T08:25:18.472Z"
   },
   {
    "duration": 475,
    "start_time": "2022-01-26T08:25:57.589Z"
   },
   {
    "duration": 470,
    "start_time": "2022-01-26T08:26:20.188Z"
   },
   {
    "duration": 10,
    "start_time": "2022-01-26T08:40:48.247Z"
   },
   {
    "duration": 14,
    "start_time": "2022-01-26T08:44:06.432Z"
   },
   {
    "duration": 313,
    "start_time": "2022-01-26T08:45:18.531Z"
   },
   {
    "duration": 15,
    "start_time": "2022-01-26T08:45:35.170Z"
   },
   {
    "duration": 17,
    "start_time": "2022-01-26T08:47:02.966Z"
   },
   {
    "duration": 13,
    "start_time": "2022-01-26T08:47:21.923Z"
   },
   {
    "duration": 17,
    "start_time": "2022-01-26T08:47:44.396Z"
   },
   {
    "duration": 17,
    "start_time": "2022-01-26T08:47:50.092Z"
   },
   {
    "duration": 13,
    "start_time": "2022-01-26T08:47:54.195Z"
   },
   {
    "duration": 13,
    "start_time": "2022-01-26T08:55:20.098Z"
   },
   {
    "duration": 17,
    "start_time": "2022-01-26T09:03:59.838Z"
   },
   {
    "duration": 18,
    "start_time": "2022-01-26T09:05:23.511Z"
   },
   {
    "duration": 17,
    "start_time": "2022-01-26T09:05:49.879Z"
   },
   {
    "duration": 26,
    "start_time": "2022-01-26T09:06:24.917Z"
   },
   {
    "duration": 25,
    "start_time": "2022-01-26T09:06:36.440Z"
   },
   {
    "duration": 24,
    "start_time": "2022-01-26T09:06:59.704Z"
   },
   {
    "duration": 25,
    "start_time": "2022-01-26T09:07:05.233Z"
   },
   {
    "duration": 1097,
    "start_time": "2022-01-26T09:18:47.916Z"
   },
   {
    "duration": 38,
    "start_time": "2022-01-26T09:18:49.015Z"
   },
   {
    "duration": 16,
    "start_time": "2022-01-26T09:18:49.055Z"
   },
   {
    "duration": 14,
    "start_time": "2022-01-26T09:18:49.073Z"
   },
   {
    "duration": 30,
    "start_time": "2022-01-26T09:18:49.088Z"
   },
   {
    "duration": 11,
    "start_time": "2022-01-26T09:18:49.120Z"
   },
   {
    "duration": 9,
    "start_time": "2022-01-26T09:18:49.133Z"
   },
   {
    "duration": 14,
    "start_time": "2022-01-26T09:18:49.172Z"
   },
   {
    "duration": 5,
    "start_time": "2022-01-26T09:18:49.189Z"
   },
   {
    "duration": 4,
    "start_time": "2022-01-26T09:18:49.197Z"
   },
   {
    "duration": 5,
    "start_time": "2022-01-26T09:18:49.202Z"
   },
   {
    "duration": 9,
    "start_time": "2022-01-26T09:18:49.209Z"
   },
   {
    "duration": 5,
    "start_time": "2022-01-26T09:18:49.219Z"
   },
   {
    "duration": 49,
    "start_time": "2022-01-26T09:18:49.225Z"
   },
   {
    "duration": 10,
    "start_time": "2022-01-26T09:18:49.276Z"
   },
   {
    "duration": 4,
    "start_time": "2022-01-26T09:18:49.287Z"
   },
   {
    "duration": 10,
    "start_time": "2022-01-26T09:18:49.293Z"
   },
   {
    "duration": 12,
    "start_time": "2022-01-26T09:18:49.304Z"
   },
   {
    "duration": 8,
    "start_time": "2022-01-26T09:18:49.318Z"
   },
   {
    "duration": 13,
    "start_time": "2022-01-26T09:18:49.328Z"
   },
   {
    "duration": 33,
    "start_time": "2022-01-26T09:18:49.343Z"
   },
   {
    "duration": 17,
    "start_time": "2022-01-26T09:18:49.378Z"
   },
   {
    "duration": 6,
    "start_time": "2022-01-26T09:18:49.396Z"
   },
   {
    "duration": 14,
    "start_time": "2022-01-26T09:18:49.403Z"
   },
   {
    "duration": 470,
    "start_time": "2022-01-26T09:18:49.419Z"
   },
   {
    "duration": 14,
    "start_time": "2022-01-26T09:18:49.890Z"
   },
   {
    "duration": 182,
    "start_time": "2022-01-26T09:18:49.908Z"
   },
   {
    "duration": 699,
    "start_time": "2022-01-26T09:18:50.092Z"
   },
   {
    "duration": 526,
    "start_time": "2022-01-26T09:18:50.793Z"
   },
   {
    "duration": 19,
    "start_time": "2022-01-26T09:18:51.321Z"
   },
   {
    "duration": 7,
    "start_time": "2022-01-26T09:18:51.342Z"
   },
   {
    "duration": 20,
    "start_time": "2022-01-26T09:18:51.351Z"
   },
   {
    "duration": 221,
    "start_time": "2022-01-26T09:18:51.373Z"
   },
   {
    "duration": 921,
    "start_time": "2022-01-26T09:18:51.595Z"
   },
   {
    "duration": 5745,
    "start_time": "2022-01-26T09:18:52.518Z"
   },
   {
    "duration": 30,
    "start_time": "2022-01-26T09:18:58.265Z"
   },
   {
    "duration": 245,
    "start_time": "2022-01-26T09:18:58.296Z"
   },
   {
    "duration": 591,
    "start_time": "2022-01-26T09:18:58.543Z"
   },
   {
    "duration": 457,
    "start_time": "2022-01-26T09:18:59.136Z"
   },
   {
    "duration": 472,
    "start_time": "2022-01-26T09:18:59.595Z"
   },
   {
    "duration": 475,
    "start_time": "2022-01-26T09:19:00.069Z"
   },
   {
    "duration": 25,
    "start_time": "2022-01-26T09:19:00.546Z"
   },
   {
    "duration": 168,
    "start_time": "2022-01-26T09:19:00.573Z"
   },
   {
    "duration": 12,
    "start_time": "2022-01-26T09:19:00.742Z"
   },
   {
    "duration": 28,
    "start_time": "2022-01-26T09:19:00.773Z"
   },
   {
    "duration": 652,
    "start_time": "2022-01-26T09:23:20.671Z"
   },
   {
    "duration": 432,
    "start_time": "2022-01-26T09:25:29.892Z"
   },
   {
    "duration": 24,
    "start_time": "2022-01-26T09:25:33.317Z"
   },
   {
    "duration": 7,
    "start_time": "2022-01-26T09:25:39.218Z"
   },
   {
    "duration": 276,
    "start_time": "2022-01-26T09:25:46.979Z"
   },
   {
    "duration": 5,
    "start_time": "2022-01-26T09:25:51.900Z"
   },
   {
    "duration": 291,
    "start_time": "2022-01-26T09:25:54.287Z"
   },
   {
    "duration": 1163,
    "start_time": "2022-01-26T09:26:03.736Z"
   },
   {
    "duration": 36,
    "start_time": "2022-01-26T09:26:04.901Z"
   },
   {
    "duration": 15,
    "start_time": "2022-01-26T09:26:04.939Z"
   },
   {
    "duration": 34,
    "start_time": "2022-01-26T09:26:04.956Z"
   },
   {
    "duration": 30,
    "start_time": "2022-01-26T09:26:04.991Z"
   },
   {
    "duration": 18,
    "start_time": "2022-01-26T09:26:05.023Z"
   },
   {
    "duration": 15,
    "start_time": "2022-01-26T09:26:05.043Z"
   },
   {
    "duration": 28,
    "start_time": "2022-01-26T09:26:05.060Z"
   },
   {
    "duration": 5,
    "start_time": "2022-01-26T09:26:05.091Z"
   },
   {
    "duration": 10,
    "start_time": "2022-01-26T09:26:05.097Z"
   },
   {
    "duration": 24,
    "start_time": "2022-01-26T09:26:05.108Z"
   },
   {
    "duration": 13,
    "start_time": "2022-01-26T09:26:05.133Z"
   },
   {
    "duration": 22,
    "start_time": "2022-01-26T09:26:05.147Z"
   },
   {
    "duration": 15,
    "start_time": "2022-01-26T09:26:05.171Z"
   },
   {
    "duration": 20,
    "start_time": "2022-01-26T09:26:05.187Z"
   },
   {
    "duration": 5,
    "start_time": "2022-01-26T09:26:05.208Z"
   },
   {
    "duration": 23,
    "start_time": "2022-01-26T09:26:05.214Z"
   },
   {
    "duration": 17,
    "start_time": "2022-01-26T09:26:05.238Z"
   },
   {
    "duration": 23,
    "start_time": "2022-01-26T09:26:05.256Z"
   },
   {
    "duration": 20,
    "start_time": "2022-01-26T09:26:05.281Z"
   },
   {
    "duration": 12,
    "start_time": "2022-01-26T09:26:05.303Z"
   },
   {
    "duration": 30,
    "start_time": "2022-01-26T09:26:05.316Z"
   },
   {
    "duration": 8,
    "start_time": "2022-01-26T09:26:05.348Z"
   },
   {
    "duration": 19,
    "start_time": "2022-01-26T09:26:05.358Z"
   },
   {
    "duration": 475,
    "start_time": "2022-01-26T09:26:05.380Z"
   },
   {
    "duration": 28,
    "start_time": "2022-01-26T09:26:05.857Z"
   },
   {
    "duration": 167,
    "start_time": "2022-01-26T09:26:05.888Z"
   },
   {
    "duration": 662,
    "start_time": "2022-01-26T09:26:06.057Z"
   },
   {
    "duration": 512,
    "start_time": "2022-01-26T09:26:06.721Z"
   },
   {
    "duration": 22,
    "start_time": "2022-01-26T09:26:07.234Z"
   },
   {
    "duration": 22,
    "start_time": "2022-01-26T09:26:07.258Z"
   },
   {
    "duration": 18,
    "start_time": "2022-01-26T09:26:07.281Z"
   },
   {
    "duration": 304,
    "start_time": "2022-01-26T09:26:07.300Z"
   },
   {
    "duration": 697,
    "start_time": "2022-01-26T09:26:07.606Z"
   },
   {
    "duration": 5868,
    "start_time": "2022-01-26T09:26:08.305Z"
   },
   {
    "duration": 29,
    "start_time": "2022-01-26T09:26:14.175Z"
   },
   {
    "duration": 253,
    "start_time": "2022-01-26T09:26:14.206Z"
   },
   {
    "duration": 603,
    "start_time": "2022-01-26T09:26:14.461Z"
   },
   {
    "duration": 483,
    "start_time": "2022-01-26T09:26:15.066Z"
   },
   {
    "duration": 469,
    "start_time": "2022-01-26T09:26:15.551Z"
   },
   {
    "duration": 564,
    "start_time": "2022-01-26T09:26:16.022Z"
   },
   {
    "duration": 13,
    "start_time": "2022-01-26T09:26:16.588Z"
   },
   {
    "duration": 25,
    "start_time": "2022-01-26T09:26:16.602Z"
   },
   {
    "duration": 11,
    "start_time": "2022-01-26T09:26:16.629Z"
   },
   {
    "duration": 50,
    "start_time": "2022-01-26T09:26:16.642Z"
   },
   {
    "duration": 1055,
    "start_time": "2022-02-03T14:15:45.341Z"
   },
   {
    "duration": 37,
    "start_time": "2022-02-03T14:15:46.398Z"
   },
   {
    "duration": 16,
    "start_time": "2022-02-03T14:15:46.437Z"
   },
   {
    "duration": 17,
    "start_time": "2022-02-03T14:15:46.455Z"
   },
   {
    "duration": 38,
    "start_time": "2022-02-03T14:15:46.474Z"
   },
   {
    "duration": 10,
    "start_time": "2022-02-03T14:15:46.513Z"
   },
   {
    "duration": 11,
    "start_time": "2022-02-03T14:15:46.525Z"
   },
   {
    "duration": 14,
    "start_time": "2022-02-03T14:15:46.539Z"
   },
   {
    "duration": 5,
    "start_time": "2022-02-03T14:15:46.554Z"
   },
   {
    "duration": 3,
    "start_time": "2022-02-03T14:15:46.571Z"
   },
   {
    "duration": 7,
    "start_time": "2022-02-03T14:15:46.575Z"
   },
   {
    "duration": 11,
    "start_time": "2022-02-03T14:15:46.583Z"
   },
   {
    "duration": 7,
    "start_time": "2022-02-03T14:15:46.596Z"
   },
   {
    "duration": 6,
    "start_time": "2022-02-03T14:15:46.604Z"
   },
   {
    "duration": 10,
    "start_time": "2022-02-03T14:15:46.612Z"
   },
   {
    "duration": 4,
    "start_time": "2022-02-03T14:15:46.623Z"
   },
   {
    "duration": 8,
    "start_time": "2022-02-03T14:15:46.628Z"
   },
   {
    "duration": 38,
    "start_time": "2022-02-03T14:15:46.637Z"
   },
   {
    "duration": 6,
    "start_time": "2022-02-03T14:15:46.676Z"
   },
   {
    "duration": 13,
    "start_time": "2022-02-03T14:15:46.683Z"
   },
   {
    "duration": 7,
    "start_time": "2022-02-03T14:15:46.698Z"
   },
   {
    "duration": 18,
    "start_time": "2022-02-03T14:15:46.707Z"
   },
   {
    "duration": 7,
    "start_time": "2022-02-03T14:15:46.729Z"
   },
   {
    "duration": 48,
    "start_time": "2022-02-03T14:15:46.738Z"
   },
   {
    "duration": 434,
    "start_time": "2022-02-03T14:15:46.787Z"
   },
   {
    "duration": 13,
    "start_time": "2022-02-03T14:15:47.223Z"
   },
   {
    "duration": 164,
    "start_time": "2022-02-03T14:15:47.237Z"
   },
   {
    "duration": 682,
    "start_time": "2022-02-03T14:15:47.403Z"
   },
   {
    "duration": 491,
    "start_time": "2022-02-03T14:15:48.087Z"
   },
   {
    "duration": 24,
    "start_time": "2022-02-03T14:15:48.580Z"
   },
   {
    "duration": 8,
    "start_time": "2022-02-03T14:15:48.606Z"
   },
   {
    "duration": 5,
    "start_time": "2022-02-03T14:15:48.615Z"
   },
   {
    "duration": 317,
    "start_time": "2022-02-03T14:15:48.622Z"
   },
   {
    "duration": 655,
    "start_time": "2022-02-03T14:15:48.941Z"
   },
   {
    "duration": 6994,
    "start_time": "2022-02-03T14:15:49.598Z"
   },
   {
    "duration": 36,
    "start_time": "2022-02-03T14:15:56.595Z"
   },
   {
    "duration": 250,
    "start_time": "2022-02-03T14:15:56.633Z"
   },
   {
    "duration": 554,
    "start_time": "2022-02-03T14:15:56.884Z"
   },
   {
    "duration": 553,
    "start_time": "2022-02-03T14:15:57.440Z"
   },
   {
    "duration": 453,
    "start_time": "2022-02-03T14:15:57.995Z"
   },
   {
    "duration": 643,
    "start_time": "2022-02-03T14:15:58.450Z"
   },
   {
    "duration": 15,
    "start_time": "2022-02-03T14:15:59.095Z"
   },
   {
    "duration": 31,
    "start_time": "2022-02-03T14:15:59.112Z"
   },
   {
    "duration": 36,
    "start_time": "2022-02-03T14:15:59.145Z"
   },
   {
    "duration": 24,
    "start_time": "2022-02-03T14:15:59.183Z"
   },
   {
    "duration": 1373,
    "start_time": "2022-02-03T18:20:19.305Z"
   },
   {
    "duration": 40,
    "start_time": "2022-02-03T18:20:20.680Z"
   },
   {
    "duration": 17,
    "start_time": "2022-02-03T18:20:20.722Z"
   },
   {
    "duration": 14,
    "start_time": "2022-02-03T18:20:20.741Z"
   },
   {
    "duration": 31,
    "start_time": "2022-02-03T18:20:20.757Z"
   },
   {
    "duration": 38,
    "start_time": "2022-02-03T18:20:20.789Z"
   },
   {
    "duration": 18,
    "start_time": "2022-02-03T18:20:20.828Z"
   },
   {
    "duration": 29,
    "start_time": "2022-02-03T18:20:20.847Z"
   },
   {
    "duration": 4,
    "start_time": "2022-02-03T18:20:20.879Z"
   },
   {
    "duration": 12,
    "start_time": "2022-02-03T18:20:20.885Z"
   },
   {
    "duration": 10,
    "start_time": "2022-02-03T18:20:20.899Z"
   },
   {
    "duration": 17,
    "start_time": "2022-02-03T18:20:20.911Z"
   },
   {
    "duration": 10,
    "start_time": "2022-02-03T18:20:20.929Z"
   },
   {
    "duration": 10,
    "start_time": "2022-02-03T18:20:20.941Z"
   },
   {
    "duration": 33,
    "start_time": "2022-02-03T18:20:20.953Z"
   },
   {
    "duration": 17,
    "start_time": "2022-02-03T18:20:20.988Z"
   },
   {
    "duration": 16,
    "start_time": "2022-02-03T18:20:21.007Z"
   },
   {
    "duration": 24,
    "start_time": "2022-02-03T18:20:21.025Z"
   },
   {
    "duration": 20,
    "start_time": "2022-02-03T18:20:21.051Z"
   },
   {
    "duration": 40,
    "start_time": "2022-02-03T18:20:21.072Z"
   },
   {
    "duration": 22,
    "start_time": "2022-02-03T18:20:21.114Z"
   },
   {
    "duration": 17,
    "start_time": "2022-02-03T18:20:21.138Z"
   },
   {
    "duration": 7,
    "start_time": "2022-02-03T18:20:21.157Z"
   },
   {
    "duration": 24,
    "start_time": "2022-02-03T18:20:21.166Z"
   },
   {
    "duration": 475,
    "start_time": "2022-02-03T18:20:21.191Z"
   },
   {
    "duration": 15,
    "start_time": "2022-02-03T18:20:21.668Z"
   },
   {
    "duration": 205,
    "start_time": "2022-02-03T18:20:21.687Z"
   },
   {
    "duration": 742,
    "start_time": "2022-02-03T18:20:21.894Z"
   },
   {
    "duration": 560,
    "start_time": "2022-02-03T18:20:22.639Z"
   },
   {
    "duration": 37,
    "start_time": "2022-02-03T18:20:23.202Z"
   },
   {
    "duration": 10,
    "start_time": "2022-02-03T18:20:23.242Z"
   },
   {
    "duration": 9,
    "start_time": "2022-02-03T18:20:23.254Z"
   },
   {
    "duration": 334,
    "start_time": "2022-02-03T18:20:23.264Z"
   },
   {
    "duration": 815,
    "start_time": "2022-02-03T18:20:23.600Z"
   },
   {
    "duration": 6233,
    "start_time": "2022-02-03T18:20:24.418Z"
   },
   {
    "duration": 29,
    "start_time": "2022-02-03T18:20:30.653Z"
   },
   {
    "duration": 297,
    "start_time": "2022-02-03T18:20:30.684Z"
   },
   {
    "duration": 750,
    "start_time": "2022-02-03T18:20:30.983Z"
   },
   {
    "duration": 627,
    "start_time": "2022-02-03T18:20:31.735Z"
   },
   {
    "duration": 496,
    "start_time": "2022-02-03T18:20:32.364Z"
   },
   {
    "duration": 587,
    "start_time": "2022-02-03T18:20:32.861Z"
   },
   {
    "duration": 13,
    "start_time": "2022-02-03T18:20:33.450Z"
   },
   {
    "duration": 24,
    "start_time": "2022-02-03T18:20:33.464Z"
   },
   {
    "duration": 38,
    "start_time": "2022-02-03T18:20:33.490Z"
   },
   {
    "duration": 29,
    "start_time": "2022-02-03T18:20:33.530Z"
   },
   {
    "duration": 47,
    "start_time": "2022-02-03T18:21:50.144Z"
   },
   {
    "duration": 78,
    "start_time": "2022-02-03T18:22:33.524Z"
   },
   {
    "duration": 41,
    "start_time": "2022-02-03T18:22:40.858Z"
   },
   {
    "duration": 37,
    "start_time": "2022-02-03T18:22:53.774Z"
   },
   {
    "duration": 18,
    "start_time": "2022-02-03T18:33:31.911Z"
   },
   {
    "duration": 19,
    "start_time": "2022-02-03T18:35:21.024Z"
   },
   {
    "duration": 17,
    "start_time": "2022-02-03T18:35:31.498Z"
   },
   {
    "duration": 336,
    "start_time": "2022-02-03T18:40:17.074Z"
   },
   {
    "duration": 26,
    "start_time": "2022-02-03T18:45:54.966Z"
   },
   {
    "duration": 26,
    "start_time": "2022-02-03T18:48:33.130Z"
   },
   {
    "duration": 272,
    "start_time": "2022-02-03T18:48:53.818Z"
   },
   {
    "duration": 34,
    "start_time": "2022-02-03T18:49:05.188Z"
   },
   {
    "duration": 40,
    "start_time": "2022-02-03T18:50:24.648Z"
   },
   {
    "duration": 23,
    "start_time": "2022-02-03T18:52:11.169Z"
   },
   {
    "duration": 6322,
    "start_time": "2022-02-03T18:53:19.638Z"
   },
   {
    "duration": 6332,
    "start_time": "2022-02-03T18:54:24.855Z"
   },
   {
    "duration": 14,
    "start_time": "2022-02-03T18:54:48.140Z"
   },
   {
    "duration": 172,
    "start_time": "2022-02-03T18:55:00.326Z"
   },
   {
    "duration": 16,
    "start_time": "2022-02-03T18:55:29.409Z"
   },
   {
    "duration": 18,
    "start_time": "2022-02-03T18:56:15.726Z"
   },
   {
    "duration": 85,
    "start_time": "2022-02-03T18:56:34.601Z"
   },
   {
    "duration": 89,
    "start_time": "2022-02-03T18:56:42.333Z"
   },
   {
    "duration": 95,
    "start_time": "2022-02-03T18:56:57.895Z"
   },
   {
    "duration": 6231,
    "start_time": "2022-02-03T18:57:09.030Z"
   },
   {
    "duration": 24,
    "start_time": "2022-02-03T18:57:29.668Z"
   },
   {
    "duration": 14,
    "start_time": "2022-02-03T18:58:19.693Z"
   },
   {
    "duration": 24,
    "start_time": "2022-02-03T18:58:41.121Z"
   },
   {
    "duration": 24,
    "start_time": "2022-02-03T19:02:33.217Z"
   },
   {
    "duration": 24,
    "start_time": "2022-02-03T19:05:05.970Z"
   },
   {
    "duration": 27,
    "start_time": "2022-02-03T19:05:37.993Z"
   },
   {
    "duration": 6312,
    "start_time": "2022-02-03T19:10:22.985Z"
   },
   {
    "duration": 27,
    "start_time": "2022-02-03T19:12:44.822Z"
   },
   {
    "duration": 25,
    "start_time": "2022-02-03T19:14:13.871Z"
   },
   {
    "duration": 539,
    "start_time": "2022-02-03T19:14:26.928Z"
   },
   {
    "duration": 658,
    "start_time": "2022-02-03T19:14:40.946Z"
   },
   {
    "duration": 8,
    "start_time": "2022-02-03T19:15:48.113Z"
   },
   {
    "duration": 4,
    "start_time": "2022-02-03T19:16:16.158Z"
   },
   {
    "duration": 259,
    "start_time": "2022-02-03T19:16:28.467Z"
   },
   {
    "duration": 2115,
    "start_time": "2022-02-03T19:23:01.802Z"
   },
   {
    "duration": 57,
    "start_time": "2022-02-03T19:23:03.863Z"
   },
   {
    "duration": 4,
    "start_time": "2022-02-03T19:23:11.719Z"
   },
   {
    "duration": 259,
    "start_time": "2022-02-03T19:23:14.787Z"
   },
   {
    "duration": 786,
    "start_time": "2022-02-03T19:32:00.102Z"
   },
   {
    "duration": 644,
    "start_time": "2022-02-03T19:33:43.281Z"
   },
   {
    "duration": 8,
    "start_time": "2022-02-03T19:34:13.666Z"
   },
   {
    "duration": 4,
    "start_time": "2022-02-03T19:34:15.780Z"
   },
   {
    "duration": 247,
    "start_time": "2022-02-03T19:34:17.104Z"
   },
   {
    "duration": 12,
    "start_time": "2022-02-03T19:46:28.471Z"
   },
   {
    "duration": 14,
    "start_time": "2022-02-03T19:47:27.912Z"
   },
   {
    "duration": 8,
    "start_time": "2022-02-03T19:47:43.301Z"
   },
   {
    "duration": 15,
    "start_time": "2022-02-03T19:47:48.686Z"
   },
   {
    "duration": 9,
    "start_time": "2022-02-03T19:48:14.843Z"
   },
   {
    "duration": 8,
    "start_time": "2022-02-03T19:48:25.936Z"
   },
   {
    "duration": 257,
    "start_time": "2022-02-03T19:49:47.694Z"
   },
   {
    "duration": 261,
    "start_time": "2022-02-03T19:49:58.196Z"
   },
   {
    "duration": 293,
    "start_time": "2022-02-03T19:50:11.309Z"
   },
   {
    "duration": 13,
    "start_time": "2022-02-03T19:50:30.567Z"
   },
   {
    "duration": 16,
    "start_time": "2022-02-03T19:52:29.704Z"
   },
   {
    "duration": 9,
    "start_time": "2022-02-03T19:52:34.498Z"
   },
   {
    "duration": 23,
    "start_time": "2022-02-03T19:53:25.736Z"
   },
   {
    "duration": 10,
    "start_time": "2022-02-03T19:53:29.523Z"
   },
   {
    "duration": 42,
    "start_time": "2022-02-03T19:54:18.220Z"
   },
   {
    "duration": 396,
    "start_time": "2022-02-03T19:54:46.418Z"
   },
   {
    "duration": 16,
    "start_time": "2022-02-03T19:54:56.463Z"
   },
   {
    "duration": 36,
    "start_time": "2022-02-03T19:55:14.767Z"
   },
   {
    "duration": 13,
    "start_time": "2022-02-03T19:55:30.587Z"
   },
   {
    "duration": 6283,
    "start_time": "2022-02-03T19:55:36.120Z"
   },
   {
    "duration": 12,
    "start_time": "2022-02-03T19:55:48.287Z"
   },
   {
    "duration": 9,
    "start_time": "2022-02-03T19:56:17.127Z"
   },
   {
    "duration": 7,
    "start_time": "2022-02-03T19:56:29.576Z"
   },
   {
    "duration": 13,
    "start_time": "2022-02-03T19:56:57.995Z"
   },
   {
    "duration": 253,
    "start_time": "2022-02-03T19:58:00.150Z"
   },
   {
    "duration": 13,
    "start_time": "2022-02-03T19:58:24.303Z"
   },
   {
    "duration": 6,
    "start_time": "2022-02-03T19:58:42.014Z"
   },
   {
    "duration": 13,
    "start_time": "2022-02-03T19:58:46.547Z"
   },
   {
    "duration": 117,
    "start_time": "2022-02-03T20:00:22.747Z"
   },
   {
    "duration": 89,
    "start_time": "2022-02-03T20:00:30.550Z"
   },
   {
    "duration": 79,
    "start_time": "2022-02-03T20:00:44.683Z"
   },
   {
    "duration": 6,
    "start_time": "2022-02-03T20:01:11.253Z"
   },
   {
    "duration": 251,
    "start_time": "2022-02-03T20:06:45.755Z"
   },
   {
    "duration": 246,
    "start_time": "2022-02-03T20:06:57.292Z"
   },
   {
    "duration": 288,
    "start_time": "2022-02-03T20:10:34.346Z"
   },
   {
    "duration": 15,
    "start_time": "2022-02-03T20:11:29.022Z"
   },
   {
    "duration": 245,
    "start_time": "2022-02-03T20:11:51.471Z"
   },
   {
    "duration": 449,
    "start_time": "2022-02-03T20:12:04.166Z"
   },
   {
    "duration": 13,
    "start_time": "2022-02-03T20:12:25.179Z"
   },
   {
    "duration": 7,
    "start_time": "2022-02-03T20:12:29.195Z"
   },
   {
    "duration": 11,
    "start_time": "2022-02-03T20:12:40.250Z"
   },
   {
    "duration": 14,
    "start_time": "2022-02-03T20:12:56.301Z"
   },
   {
    "duration": 126,
    "start_time": "2022-02-03T20:15:24.395Z"
   },
   {
    "duration": 82,
    "start_time": "2022-02-03T20:15:36.019Z"
   },
   {
    "duration": 6,
    "start_time": "2022-02-03T20:15:54.427Z"
   },
   {
    "duration": 145,
    "start_time": "2022-02-03T20:17:11.152Z"
   },
   {
    "duration": 85,
    "start_time": "2022-02-03T20:17:20.427Z"
   },
   {
    "duration": 84,
    "start_time": "2022-02-03T20:17:33.780Z"
   },
   {
    "duration": 248,
    "start_time": "2022-02-03T20:17:58.948Z"
   },
   {
    "duration": 12,
    "start_time": "2022-02-03T20:18:34.371Z"
   },
   {
    "duration": 10,
    "start_time": "2022-02-03T20:18:52.600Z"
   },
   {
    "duration": 280,
    "start_time": "2022-02-03T20:19:00.396Z"
   },
   {
    "duration": 256,
    "start_time": "2022-02-03T20:19:24.933Z"
   },
   {
    "duration": 7,
    "start_time": "2022-02-03T20:19:56.584Z"
   },
   {
    "duration": 280,
    "start_time": "2022-02-03T20:21:05.362Z"
   },
   {
    "duration": 16,
    "start_time": "2022-02-03T20:21:12.283Z"
   },
   {
    "duration": 22,
    "start_time": "2022-02-03T20:22:30.740Z"
   },
   {
    "duration": 5,
    "start_time": "2022-02-03T20:22:37.626Z"
   },
   {
    "duration": 22,
    "start_time": "2022-02-03T20:22:54.439Z"
   },
   {
    "duration": 21,
    "start_time": "2022-02-03T20:23:05.137Z"
   },
   {
    "duration": 522,
    "start_time": "2022-02-03T20:26:53.758Z"
   },
   {
    "duration": 502,
    "start_time": "2022-02-03T20:27:12.994Z"
   },
   {
    "duration": 534,
    "start_time": "2022-02-03T20:32:43.537Z"
   },
   {
    "duration": 520,
    "start_time": "2022-02-03T20:33:44.992Z"
   },
   {
    "duration": 631,
    "start_time": "2022-02-03T20:33:54.503Z"
   },
   {
    "duration": 508,
    "start_time": "2022-02-03T20:34:07.965Z"
   },
   {
    "duration": 5,
    "start_time": "2022-02-03T20:36:40.286Z"
   },
   {
    "duration": 511,
    "start_time": "2022-02-03T20:36:54.961Z"
   },
   {
    "duration": 1149,
    "start_time": "2022-02-03T20:37:18.056Z"
   },
   {
    "duration": 40,
    "start_time": "2022-02-03T20:37:19.207Z"
   },
   {
    "duration": 18,
    "start_time": "2022-02-03T20:37:19.249Z"
   },
   {
    "duration": 17,
    "start_time": "2022-02-03T20:37:19.269Z"
   },
   {
    "duration": 51,
    "start_time": "2022-02-03T20:37:19.287Z"
   },
   {
    "duration": 11,
    "start_time": "2022-02-03T20:37:19.339Z"
   },
   {
    "duration": 11,
    "start_time": "2022-02-03T20:37:19.352Z"
   },
   {
    "duration": 14,
    "start_time": "2022-02-03T20:37:19.366Z"
   },
   {
    "duration": 37,
    "start_time": "2022-02-03T20:37:19.382Z"
   },
   {
    "duration": 11,
    "start_time": "2022-02-03T20:37:19.421Z"
   },
   {
    "duration": 7,
    "start_time": "2022-02-03T20:37:19.435Z"
   },
   {
    "duration": 12,
    "start_time": "2022-02-03T20:37:19.444Z"
   },
   {
    "duration": 8,
    "start_time": "2022-02-03T20:37:19.457Z"
   },
   {
    "duration": 3,
    "start_time": "2022-02-03T20:37:19.467Z"
   },
   {
    "duration": 47,
    "start_time": "2022-02-03T20:37:19.471Z"
   },
   {
    "duration": 5,
    "start_time": "2022-02-03T20:37:19.520Z"
   },
   {
    "duration": 8,
    "start_time": "2022-02-03T20:37:19.527Z"
   },
   {
    "duration": 8,
    "start_time": "2022-02-03T20:37:19.537Z"
   },
   {
    "duration": 8,
    "start_time": "2022-02-03T20:37:19.546Z"
   },
   {
    "duration": 16,
    "start_time": "2022-02-03T20:37:19.557Z"
   },
   {
    "duration": 45,
    "start_time": "2022-02-03T20:37:19.575Z"
   },
   {
    "duration": 18,
    "start_time": "2022-02-03T20:37:19.622Z"
   },
   {
    "duration": 6,
    "start_time": "2022-02-03T20:37:19.644Z"
   },
   {
    "duration": 16,
    "start_time": "2022-02-03T20:37:19.652Z"
   },
   {
    "duration": 551,
    "start_time": "2022-02-03T20:37:19.670Z"
   },
   {
    "duration": 20,
    "start_time": "2022-02-03T20:37:20.223Z"
   },
   {
    "duration": 253,
    "start_time": "2022-02-03T20:37:20.245Z"
   },
   {
    "duration": 726,
    "start_time": "2022-02-03T20:37:20.500Z"
   },
   {
    "duration": 801,
    "start_time": "2022-02-03T20:37:21.228Z"
   },
   {
    "duration": 58,
    "start_time": "2022-02-03T20:37:22.031Z"
   },
   {
    "duration": 43,
    "start_time": "2022-02-03T20:37:22.092Z"
   },
   {
    "duration": 5,
    "start_time": "2022-02-03T20:37:22.136Z"
   },
   {
    "duration": 25,
    "start_time": "2022-02-03T20:37:22.143Z"
   },
   {
    "duration": 563,
    "start_time": "2022-02-03T20:37:22.169Z"
   },
   {
    "duration": 8,
    "start_time": "2022-02-03T20:37:22.734Z"
   },
   {
    "duration": 8,
    "start_time": "2022-02-03T20:37:22.744Z"
   },
   {
    "duration": 277,
    "start_time": "2022-02-03T20:37:22.753Z"
   },
   {
    "duration": 770,
    "start_time": "2022-02-03T20:37:23.032Z"
   },
   {
    "duration": 6585,
    "start_time": "2022-02-03T20:37:23.804Z"
   },
   {
    "duration": 47,
    "start_time": "2022-02-03T20:37:30.391Z"
   },
   {
    "duration": 273,
    "start_time": "2022-02-03T20:37:30.440Z"
   },
   {
    "duration": 618,
    "start_time": "2022-02-03T20:37:30.718Z"
   },
   {
    "duration": 566,
    "start_time": "2022-02-03T20:37:31.338Z"
   },
   {
    "duration": 563,
    "start_time": "2022-02-03T20:37:31.906Z"
   },
   {
    "duration": 676,
    "start_time": "2022-02-03T20:37:32.471Z"
   },
   {
    "duration": 14,
    "start_time": "2022-02-03T20:37:33.149Z"
   },
   {
    "duration": 32,
    "start_time": "2022-02-03T20:37:33.164Z"
   },
   {
    "duration": 32,
    "start_time": "2022-02-03T20:37:33.197Z"
   },
   {
    "duration": 26,
    "start_time": "2022-02-03T20:37:33.231Z"
   },
   {
    "duration": 17,
    "start_time": "2022-02-03T20:44:36.763Z"
   },
   {
    "duration": 372,
    "start_time": "2022-02-03T20:45:58.331Z"
   },
   {
    "duration": 14,
    "start_time": "2022-02-03T20:46:19.754Z"
   },
   {
    "duration": 24,
    "start_time": "2022-02-03T20:47:18.888Z"
   },
   {
    "duration": 11,
    "start_time": "2022-02-03T20:47:37.354Z"
   },
   {
    "duration": 28,
    "start_time": "2022-02-03T20:47:46.213Z"
   },
   {
    "duration": 12,
    "start_time": "2022-02-03T20:48:09.237Z"
   },
   {
    "duration": 7,
    "start_time": "2022-02-03T21:06:52.256Z"
   },
   {
    "duration": 552,
    "start_time": "2022-02-03T21:07:17.504Z"
   },
   {
    "duration": 455,
    "start_time": "2022-02-03T21:07:42.323Z"
   },
   {
    "duration": 465,
    "start_time": "2022-02-03T21:08:04.998Z"
   },
   {
    "duration": 486,
    "start_time": "2022-02-03T21:08:09.021Z"
   },
   {
    "duration": 23,
    "start_time": "2022-02-03T21:09:15.346Z"
   },
   {
    "duration": 34,
    "start_time": "2022-02-03T21:10:05.852Z"
   },
   {
    "duration": 6,
    "start_time": "2022-02-03T21:10:28.347Z"
   },
   {
    "duration": 6,
    "start_time": "2022-02-03T21:11:27.439Z"
   },
   {
    "duration": 7,
    "start_time": "2022-02-03T21:11:33.457Z"
   },
   {
    "duration": 6,
    "start_time": "2022-02-03T21:11:37.758Z"
   },
   {
    "duration": 7,
    "start_time": "2022-02-03T21:11:42.979Z"
   },
   {
    "duration": 6,
    "start_time": "2022-02-03T21:11:47.367Z"
   },
   {
    "duration": 1205,
    "start_time": "2022-02-03T21:15:58.178Z"
   },
   {
    "duration": 40,
    "start_time": "2022-02-03T21:15:59.385Z"
   },
   {
    "duration": 16,
    "start_time": "2022-02-03T21:15:59.427Z"
   },
   {
    "duration": 20,
    "start_time": "2022-02-03T21:15:59.445Z"
   },
   {
    "duration": 55,
    "start_time": "2022-02-03T21:15:59.467Z"
   },
   {
    "duration": 16,
    "start_time": "2022-02-03T21:15:59.524Z"
   },
   {
    "duration": 18,
    "start_time": "2022-02-03T21:15:59.541Z"
   },
   {
    "duration": 21,
    "start_time": "2022-02-03T21:15:59.561Z"
   },
   {
    "duration": 6,
    "start_time": "2022-02-03T21:15:59.585Z"
   },
   {
    "duration": 10,
    "start_time": "2022-02-03T21:15:59.593Z"
   },
   {
    "duration": 5,
    "start_time": "2022-02-03T21:15:59.618Z"
   },
   {
    "duration": 10,
    "start_time": "2022-02-03T21:15:59.624Z"
   },
   {
    "duration": 15,
    "start_time": "2022-02-03T21:15:59.636Z"
   },
   {
    "duration": 32,
    "start_time": "2022-02-03T21:15:59.652Z"
   },
   {
    "duration": 17,
    "start_time": "2022-02-03T21:15:59.686Z"
   },
   {
    "duration": 37,
    "start_time": "2022-02-03T21:15:59.705Z"
   },
   {
    "duration": 13,
    "start_time": "2022-02-03T21:15:59.744Z"
   },
   {
    "duration": 17,
    "start_time": "2022-02-03T21:15:59.759Z"
   },
   {
    "duration": 9,
    "start_time": "2022-02-03T21:15:59.778Z"
   },
   {
    "duration": 15,
    "start_time": "2022-02-03T21:15:59.789Z"
   },
   {
    "duration": 10,
    "start_time": "2022-02-03T21:15:59.805Z"
   },
   {
    "duration": 22,
    "start_time": "2022-02-03T21:15:59.817Z"
   },
   {
    "duration": 8,
    "start_time": "2022-02-03T21:15:59.841Z"
   },
   {
    "duration": 16,
    "start_time": "2022-02-03T21:15:59.851Z"
   },
   {
    "duration": 603,
    "start_time": "2022-02-03T21:15:59.869Z"
   },
   {
    "duration": 16,
    "start_time": "2022-02-03T21:16:00.474Z"
   },
   {
    "duration": 30,
    "start_time": "2022-02-03T21:16:00.494Z"
   },
   {
    "duration": 77,
    "start_time": "2022-02-03T21:16:00.526Z"
   },
   {
    "duration": 244,
    "start_time": "2022-02-03T21:16:00.605Z"
   },
   {
    "duration": 768,
    "start_time": "2022-02-03T21:16:00.850Z"
   },
   {
    "duration": 585,
    "start_time": "2022-02-03T21:16:01.620Z"
   },
   {
    "duration": 46,
    "start_time": "2022-02-03T21:16:02.207Z"
   },
   {
    "duration": 21,
    "start_time": "2022-02-03T21:16:02.255Z"
   },
   {
    "duration": 4,
    "start_time": "2022-02-03T21:16:02.279Z"
   },
   {
    "duration": 57,
    "start_time": "2022-02-03T21:16:02.285Z"
   },
   {
    "duration": 551,
    "start_time": "2022-02-03T21:16:02.344Z"
   },
   {
    "duration": 24,
    "start_time": "2022-02-03T21:16:02.897Z"
   },
   {
    "duration": 10,
    "start_time": "2022-02-03T21:16:02.923Z"
   },
   {
    "duration": 283,
    "start_time": "2022-02-03T21:16:02.935Z"
   },
   {
    "duration": 766,
    "start_time": "2022-02-03T21:16:03.220Z"
   },
   {
    "duration": 5949,
    "start_time": "2022-02-03T21:16:03.988Z"
   },
   {
    "duration": 27,
    "start_time": "2022-02-03T21:16:09.938Z"
   },
   {
    "duration": 309,
    "start_time": "2022-02-03T21:16:09.966Z"
   },
   {
    "duration": 663,
    "start_time": "2022-02-03T21:16:10.277Z"
   },
   {
    "duration": 521,
    "start_time": "2022-02-03T21:16:10.942Z"
   },
   {
    "duration": 517,
    "start_time": "2022-02-03T21:16:11.465Z"
   },
   {
    "duration": 636,
    "start_time": "2022-02-03T21:16:11.984Z"
   },
   {
    "duration": 13,
    "start_time": "2022-02-03T21:16:12.622Z"
   },
   {
    "duration": 27,
    "start_time": "2022-02-03T21:16:12.637Z"
   },
   {
    "duration": 10,
    "start_time": "2022-02-03T21:16:12.665Z"
   },
   {
    "duration": 55,
    "start_time": "2022-02-03T21:16:12.677Z"
   }
  ],
  "kernelspec": {
   "display_name": "Python 3 (ipykernel)",
   "language": "python",
   "name": "python3"
  },
  "language_info": {
   "codemirror_mode": {
    "name": "ipython",
    "version": 3
   },
   "file_extension": ".py",
   "mimetype": "text/x-python",
   "name": "python",
   "nbconvert_exporter": "python",
   "pygments_lexer": "ipython3",
   "version": "3.9.7"
  },
  "toc": {
   "base_numbering": 1,
   "nav_menu": {},
   "number_sections": true,
   "sideBar": true,
   "skip_h1_title": true,
   "title_cell": "Table of Contents",
   "title_sidebar": "Contents",
   "toc_cell": false,
   "toc_position": {
    "height": "calc(100% - 180px)",
    "left": "10px",
    "top": "150px",
    "width": "270.391px"
   },
   "toc_section_display": true,
   "toc_window_display": false
  }
 },
 "nbformat": 4,
 "nbformat_minor": 2
}
