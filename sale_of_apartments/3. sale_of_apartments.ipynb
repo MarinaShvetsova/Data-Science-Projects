{
 "cells": [
  {
   "cell_type": "markdown",
   "metadata": {
    "toc": true
   },
   "source": [
    "<h1>Содержание<span class=\"tocSkip\"></span></h1>\n",
    "<div class=\"toc\"><ul class=\"toc-item\"><li><span><a href=\"#Изучение-данных-из-файла\" data-toc-modified-id=\"Изучение-данных-из-файла-1\"><span class=\"toc-item-num\">1&nbsp;&nbsp;</span>Изучение данных из файла</a></span><ul class=\"toc-item\"><li><span><a href=\"#Открытие-файла\" data-toc-modified-id=\"Открытие-файла-1.1\"><span class=\"toc-item-num\">1.1&nbsp;&nbsp;</span>Открытие файла</a></span></li><li><span><a href=\"#Изучение-данных\" data-toc-modified-id=\"Изучение-данных-1.2\"><span class=\"toc-item-num\">1.2&nbsp;&nbsp;</span>Изучение данных</a></span></li><li><span><a href=\"#Вывод\" data-toc-modified-id=\"Вывод-1.3\"><span class=\"toc-item-num\">1.3&nbsp;&nbsp;</span>Вывод</a></span></li></ul></li><li><span><a href=\"#Предобработка-данных\" data-toc-modified-id=\"Предобработка-данных-2\"><span class=\"toc-item-num\">2&nbsp;&nbsp;</span>Предобработка данных</a></span><ul class=\"toc-item\"><li><span><a href=\"#Оброботка-пропусков-и-замена-типа-данных\" data-toc-modified-id=\"Оброботка-пропусков-и-замена-типа-данных-2.1\"><span class=\"toc-item-num\">2.1&nbsp;&nbsp;</span>Оброботка пропусков и замена типа данных</a></span></li><li><span><a href=\"#Обработка-дубликатов\" data-toc-modified-id=\"Обработка-дубликатов-2.2\"><span class=\"toc-item-num\">2.2&nbsp;&nbsp;</span>Обработка дубликатов</a></span></li><li><span><a href=\"#Обработка-данных\" data-toc-modified-id=\"Обработка-данных-2.3\"><span class=\"toc-item-num\">2.3&nbsp;&nbsp;</span>Обработка данных</a></span></li><li><span><a href=\"#Вывод\" data-toc-modified-id=\"Вывод-2.4\"><span class=\"toc-item-num\">2.4&nbsp;&nbsp;</span>Вывод</a></span></li></ul></li><li><span><a href=\"#Расчёты-и-добавление-результатов-в-таблицу\" data-toc-modified-id=\"Расчёты-и-добавление-результатов-в-таблицу-3\"><span class=\"toc-item-num\">3&nbsp;&nbsp;</span>Расчёты и добавление результатов в таблицу</a></span><ul class=\"toc-item\"><li><span><a href=\"#Цена-квадратного-метра\" data-toc-modified-id=\"Цена-квадратного-метра-3.1\"><span class=\"toc-item-num\">3.1&nbsp;&nbsp;</span>Цена квадратного метра</a></span></li><li><span><a href=\"#Дата-публикации-объявления\" data-toc-modified-id=\"Дата-публикации-объявления-3.2\"><span class=\"toc-item-num\">3.2&nbsp;&nbsp;</span>Дата публикации объявления</a></span></li><li><span><a href=\"#Этаж-квартиры\" data-toc-modified-id=\"Этаж-квартиры-3.3\"><span class=\"toc-item-num\">3.3&nbsp;&nbsp;</span>Этаж квартиры</a></span></li><li><span><a href=\"#Соотношение-жилой-площади-к-общей\" data-toc-modified-id=\"Соотношение-жилой-площади-к-общей-3.4\"><span class=\"toc-item-num\">3.4&nbsp;&nbsp;</span>Соотношение жилой площади к общей</a></span></li><li><span><a href=\"#Соотношение-площади-кухни-к-общей\" data-toc-modified-id=\"Соотношение-площади-кухни-к-общей-3.5\"><span class=\"toc-item-num\">3.5&nbsp;&nbsp;</span>Соотношение площади кухни к общей</a></span></li><li><span><a href=\"#Вывод\" data-toc-modified-id=\"Вывод-3.6\"><span class=\"toc-item-num\">3.6&nbsp;&nbsp;</span>Вывод</a></span></li></ul></li><li><span><a href=\"#Исследовательский-анализ-данных\" data-toc-modified-id=\"Исследовательский-анализ-данных-4\"><span class=\"toc-item-num\">4&nbsp;&nbsp;</span>Исследовательский анализ данных</a></span><ul class=\"toc-item\"><li><span><a href=\"#Анализ-объявлений-по-параметрам\" data-toc-modified-id=\"Анализ-объявлений-по-параметрам-4.1\"><span class=\"toc-item-num\">4.1&nbsp;&nbsp;</span>Анализ объявлений по параметрам</a></span><ul class=\"toc-item\"><li><span><a href=\"#Анализ-по-площади-квартиры\" data-toc-modified-id=\"Анализ-по-площади-квартиры-4.1.1\"><span class=\"toc-item-num\">4.1.1&nbsp;&nbsp;</span>Анализ по площади квартиры</a></span></li><li><span><a href=\"#Анализ-по-цене-квартиры\" data-toc-modified-id=\"Анализ-по-цене-квартиры-4.1.2\"><span class=\"toc-item-num\">4.1.2&nbsp;&nbsp;</span>Анализ по цене квартиры</a></span></li><li><span><a href=\"#Анализ-по-числу-комнат\" data-toc-modified-id=\"Анализ-по-числу-комнат-4.1.3\"><span class=\"toc-item-num\">4.1.3&nbsp;&nbsp;</span>Анализ по числу комнат</a></span></li><li><span><a href=\"#Анализ-высоты-потолков\" data-toc-modified-id=\"Анализ-высоты-потолков-4.1.4\"><span class=\"toc-item-num\">4.1.4&nbsp;&nbsp;</span>Анализ высоты потолков</a></span></li></ul></li><li><span><a href=\"#Анализ-времени-продаж-квартир\" data-toc-modified-id=\"Анализ-времени-продаж-квартир-4.2\"><span class=\"toc-item-num\">4.2&nbsp;&nbsp;</span>Анализ времени продаж квартир</a></span></li><li><span><a href=\"#Исключение-редких-и-выбивающихся-значений\" data-toc-modified-id=\"Исключение-редких-и-выбивающихся-значений-4.3\"><span class=\"toc-item-num\">4.3&nbsp;&nbsp;</span>Исключение редких и выбивающихся значений</a></span></li><li><span><a href=\"#Факторы,-влияющие-на-стоимость-квартиры\" data-toc-modified-id=\"Факторы,-влияющие-на-стоимость-квартиры-4.4\"><span class=\"toc-item-num\">4.4&nbsp;&nbsp;</span>Факторы, влияющие на стоимость квартиры</a></span></li><li><span><a href=\"#Анализ-стоимости-квартир-в-зависимости-от-удаленности-от-центра\" data-toc-modified-id=\"Анализ-стоимости-квартир-в-зависимости-от-удаленности-от-центра-4.5\"><span class=\"toc-item-num\">4.5&nbsp;&nbsp;</span>Анализ стоимости квартир в зависимости от удаленности от центра</a></span></li><li><span><a href=\"#Анализ-сегмента-квартир-в-центре\" data-toc-modified-id=\"Анализ-сегмента-квартир-в-центре-4.6\"><span class=\"toc-item-num\">4.6&nbsp;&nbsp;</span>Анализ сегмента квартир в центре</a></span></li><li><span><a href=\"#Вывод\" data-toc-modified-id=\"Вывод-4.7\"><span class=\"toc-item-num\">4.7&nbsp;&nbsp;</span>Вывод</a></span></li></ul></li><li><span><a href=\"#Общий-вывод\" data-toc-modified-id=\"Общий-вывод-5\"><span class=\"toc-item-num\">5&nbsp;&nbsp;</span>Общий вывод</a></span></li><li><span><a href=\"#Чек-лист-готовности-проекта\" data-toc-modified-id=\"Чек-лист-готовности-проекта-6\"><span class=\"toc-item-num\">6&nbsp;&nbsp;</span>Чек-лист готовности проекта</a></span></li></ul></div>"
   ]
  },
  {
   "cell_type": "markdown",
   "metadata": {},
   "source": [
    "# Исследование рынка недвижимости в Санкт-Петербурге\n",
    "\n",
    "**Этапы проекта:**\n",
    " 1. Обзор данных\n",
    " 2. Предобработка данных\n",
    " 3. Исследовательский анализ данных\n",
    " 4. Выводы"
   ]
  },
  {
   "cell_type": "markdown",
   "metadata": {},
   "source": [
    "## Изучение данных из файла"
   ]
  },
  {
   "cell_type": "markdown",
   "metadata": {},
   "source": [
    "### Открытие файла"
   ]
  },
  {
   "cell_type": "code",
   "execution_count": 1,
   "metadata": {},
   "outputs": [],
   "source": [
    "import pandas as pd\n",
    "import matplotlib.pyplot as plt\n"
   ]
  },
  {
   "cell_type": "code",
   "execution_count": 2,
   "metadata": {
    "scrolled": true
   },
   "outputs": [
    {
     "name": "stdout",
     "output_type": "stream",
     "text": [
      "<class 'pandas.core.frame.DataFrame'>\n",
      "RangeIndex: 23699 entries, 0 to 23698\n",
      "Data columns (total 22 columns):\n",
      "total_images            23699 non-null int64\n",
      "last_price              23699 non-null float64\n",
      "total_area              23699 non-null float64\n",
      "first_day_exposition    23699 non-null object\n",
      "rooms                   23699 non-null int64\n",
      "ceiling_height          14504 non-null float64\n",
      "floors_total            23613 non-null float64\n",
      "living_area             21796 non-null float64\n",
      "floor                   23699 non-null int64\n",
      "is_apartment            2775 non-null object\n",
      "studio                  23699 non-null bool\n",
      "open_plan               23699 non-null bool\n",
      "kitchen_area            21421 non-null float64\n",
      "balcony                 12180 non-null float64\n",
      "locality_name           23650 non-null object\n",
      "airports_nearest        18157 non-null float64\n",
      "cityCenters_nearest     18180 non-null float64\n",
      "parks_around3000        18181 non-null float64\n",
      "parks_nearest           8079 non-null float64\n",
      "ponds_around3000        18181 non-null float64\n",
      "ponds_nearest           9110 non-null float64\n",
      "days_exposition         20518 non-null float64\n",
      "dtypes: bool(2), float64(14), int64(3), object(3)\n",
      "memory usage: 3.7+ MB\n"
     ]
    }
   ],
   "source": [
    "data = pd.read_csv('/datasets/real_estate_data.csv', sep='\\t')\n",
    "data.info() # рассмотрим типы данных и наличие пропусков"
   ]
  },
  {
   "cell_type": "markdown",
   "metadata": {},
   "source": [
    "### Изучение данных"
   ]
  },
  {
   "cell_type": "code",
   "execution_count": 3,
   "metadata": {},
   "outputs": [
    {
     "data": {
      "text/plain": [
       "total_images                0\n",
       "open_plan                   0\n",
       "floor                       0\n",
       "rooms                       0\n",
       "studio                      0\n",
       "total_area                  0\n",
       "last_price                  0\n",
       "first_day_exposition        0\n",
       "locality_name              49\n",
       "floors_total               86\n",
       "living_area              1903\n",
       "kitchen_area             2278\n",
       "days_exposition          3181\n",
       "ponds_around3000         5518\n",
       "parks_around3000         5518\n",
       "cityCenters_nearest      5519\n",
       "airports_nearest         5542\n",
       "ceiling_height           9195\n",
       "balcony                 11519\n",
       "ponds_nearest           14589\n",
       "parks_nearest           15620\n",
       "is_apartment            20924\n",
       "dtype: int64"
      ]
     },
     "execution_count": 3,
     "metadata": {},
     "output_type": "execute_result"
    }
   ],
   "source": [
    "# проверим, сколько есть пропусков в данных и отсортируем их по возрастанию\n",
    "data.isna().sum().sort_values()"
   ]
  },
  {
   "cell_type": "code",
   "execution_count": 4,
   "metadata": {},
   "outputs": [
    {
     "data": {
      "text/plain": [
       "total_images             0.00\n",
       "open_plan                0.00\n",
       "floor                    0.00\n",
       "rooms                    0.00\n",
       "studio                   0.00\n",
       "total_area               0.00\n",
       "last_price               0.00\n",
       "first_day_exposition     0.00\n",
       "locality_name            0.21\n",
       "floors_total             0.36\n",
       "living_area              8.03\n",
       "kitchen_area             9.61\n",
       "days_exposition         13.42\n",
       "ponds_around3000        23.28\n",
       "parks_around3000        23.28\n",
       "cityCenters_nearest     23.29\n",
       "airports_nearest        23.38\n",
       "ceiling_height          38.80\n",
       "balcony                 48.61\n",
       "ponds_nearest           61.56\n",
       "parks_nearest           65.91\n",
       "is_apartment            88.29\n",
       "dtype: float64"
      ]
     },
     "execution_count": 4,
     "metadata": {},
     "output_type": "execute_result"
    }
   ],
   "source": [
    "data.isna().mean().sort_values().round(4)*100"
   ]
  },
  {
   "cell_type": "code",
   "execution_count": 5,
   "metadata": {},
   "outputs": [
    {
     "data": {
      "text/html": [
       "<div>\n",
       "<style scoped>\n",
       "    .dataframe tbody tr th:only-of-type {\n",
       "        vertical-align: middle;\n",
       "    }\n",
       "\n",
       "    .dataframe tbody tr th {\n",
       "        vertical-align: top;\n",
       "    }\n",
       "\n",
       "    .dataframe thead th {\n",
       "        text-align: right;\n",
       "    }\n",
       "</style>\n",
       "<table border=\"1\" class=\"dataframe\">\n",
       "  <thead>\n",
       "    <tr style=\"text-align: right;\">\n",
       "      <th></th>\n",
       "      <th>total_images</th>\n",
       "      <th>last_price</th>\n",
       "      <th>total_area</th>\n",
       "      <th>rooms</th>\n",
       "      <th>ceiling_height</th>\n",
       "      <th>floors_total</th>\n",
       "      <th>living_area</th>\n",
       "      <th>floor</th>\n",
       "      <th>kitchen_area</th>\n",
       "      <th>balcony</th>\n",
       "      <th>airports_nearest</th>\n",
       "      <th>cityCenters_nearest</th>\n",
       "      <th>parks_around3000</th>\n",
       "      <th>parks_nearest</th>\n",
       "      <th>ponds_around3000</th>\n",
       "      <th>ponds_nearest</th>\n",
       "      <th>days_exposition</th>\n",
       "    </tr>\n",
       "  </thead>\n",
       "  <tbody>\n",
       "    <tr>\n",
       "      <td>count</td>\n",
       "      <td>23699.000000</td>\n",
       "      <td>2.369900e+04</td>\n",
       "      <td>23699.000000</td>\n",
       "      <td>23699.000000</td>\n",
       "      <td>14504.000000</td>\n",
       "      <td>23613.000000</td>\n",
       "      <td>21796.000000</td>\n",
       "      <td>23699.000000</td>\n",
       "      <td>21421.000000</td>\n",
       "      <td>12180.000000</td>\n",
       "      <td>18157.000000</td>\n",
       "      <td>18180.000000</td>\n",
       "      <td>18181.000000</td>\n",
       "      <td>8079.000000</td>\n",
       "      <td>18181.000000</td>\n",
       "      <td>9110.000000</td>\n",
       "      <td>20518.000000</td>\n",
       "    </tr>\n",
       "    <tr>\n",
       "      <td>mean</td>\n",
       "      <td>9.858475</td>\n",
       "      <td>6.541549e+06</td>\n",
       "      <td>60.348651</td>\n",
       "      <td>2.070636</td>\n",
       "      <td>2.771499</td>\n",
       "      <td>10.673824</td>\n",
       "      <td>34.457852</td>\n",
       "      <td>5.892358</td>\n",
       "      <td>10.569807</td>\n",
       "      <td>1.150082</td>\n",
       "      <td>28793.672193</td>\n",
       "      <td>14191.277833</td>\n",
       "      <td>0.611408</td>\n",
       "      <td>490.804555</td>\n",
       "      <td>0.770255</td>\n",
       "      <td>517.980900</td>\n",
       "      <td>180.888634</td>\n",
       "    </tr>\n",
       "    <tr>\n",
       "      <td>std</td>\n",
       "      <td>5.682529</td>\n",
       "      <td>1.088701e+07</td>\n",
       "      <td>35.654083</td>\n",
       "      <td>1.078405</td>\n",
       "      <td>1.261056</td>\n",
       "      <td>6.597173</td>\n",
       "      <td>22.030445</td>\n",
       "      <td>4.885249</td>\n",
       "      <td>5.905438</td>\n",
       "      <td>1.071300</td>\n",
       "      <td>12630.880622</td>\n",
       "      <td>8608.386210</td>\n",
       "      <td>0.802074</td>\n",
       "      <td>342.317995</td>\n",
       "      <td>0.938346</td>\n",
       "      <td>277.720643</td>\n",
       "      <td>219.727988</td>\n",
       "    </tr>\n",
       "    <tr>\n",
       "      <td>min</td>\n",
       "      <td>0.000000</td>\n",
       "      <td>1.219000e+04</td>\n",
       "      <td>12.000000</td>\n",
       "      <td>0.000000</td>\n",
       "      <td>1.000000</td>\n",
       "      <td>1.000000</td>\n",
       "      <td>2.000000</td>\n",
       "      <td>1.000000</td>\n",
       "      <td>1.300000</td>\n",
       "      <td>0.000000</td>\n",
       "      <td>0.000000</td>\n",
       "      <td>181.000000</td>\n",
       "      <td>0.000000</td>\n",
       "      <td>1.000000</td>\n",
       "      <td>0.000000</td>\n",
       "      <td>13.000000</td>\n",
       "      <td>1.000000</td>\n",
       "    </tr>\n",
       "    <tr>\n",
       "      <td>25%</td>\n",
       "      <td>6.000000</td>\n",
       "      <td>3.400000e+06</td>\n",
       "      <td>40.000000</td>\n",
       "      <td>1.000000</td>\n",
       "      <td>2.520000</td>\n",
       "      <td>5.000000</td>\n",
       "      <td>18.600000</td>\n",
       "      <td>2.000000</td>\n",
       "      <td>7.000000</td>\n",
       "      <td>0.000000</td>\n",
       "      <td>18585.000000</td>\n",
       "      <td>9238.000000</td>\n",
       "      <td>0.000000</td>\n",
       "      <td>288.000000</td>\n",
       "      <td>0.000000</td>\n",
       "      <td>294.000000</td>\n",
       "      <td>45.000000</td>\n",
       "    </tr>\n",
       "    <tr>\n",
       "      <td>50%</td>\n",
       "      <td>9.000000</td>\n",
       "      <td>4.650000e+06</td>\n",
       "      <td>52.000000</td>\n",
       "      <td>2.000000</td>\n",
       "      <td>2.650000</td>\n",
       "      <td>9.000000</td>\n",
       "      <td>30.000000</td>\n",
       "      <td>4.000000</td>\n",
       "      <td>9.100000</td>\n",
       "      <td>1.000000</td>\n",
       "      <td>26726.000000</td>\n",
       "      <td>13098.500000</td>\n",
       "      <td>0.000000</td>\n",
       "      <td>455.000000</td>\n",
       "      <td>1.000000</td>\n",
       "      <td>502.000000</td>\n",
       "      <td>95.000000</td>\n",
       "    </tr>\n",
       "    <tr>\n",
       "      <td>75%</td>\n",
       "      <td>14.000000</td>\n",
       "      <td>6.800000e+06</td>\n",
       "      <td>69.900000</td>\n",
       "      <td>3.000000</td>\n",
       "      <td>2.800000</td>\n",
       "      <td>16.000000</td>\n",
       "      <td>42.300000</td>\n",
       "      <td>8.000000</td>\n",
       "      <td>12.000000</td>\n",
       "      <td>2.000000</td>\n",
       "      <td>37273.000000</td>\n",
       "      <td>16293.000000</td>\n",
       "      <td>1.000000</td>\n",
       "      <td>612.000000</td>\n",
       "      <td>1.000000</td>\n",
       "      <td>729.000000</td>\n",
       "      <td>232.000000</td>\n",
       "    </tr>\n",
       "    <tr>\n",
       "      <td>max</td>\n",
       "      <td>50.000000</td>\n",
       "      <td>7.630000e+08</td>\n",
       "      <td>900.000000</td>\n",
       "      <td>19.000000</td>\n",
       "      <td>100.000000</td>\n",
       "      <td>60.000000</td>\n",
       "      <td>409.700000</td>\n",
       "      <td>33.000000</td>\n",
       "      <td>112.000000</td>\n",
       "      <td>5.000000</td>\n",
       "      <td>84869.000000</td>\n",
       "      <td>65968.000000</td>\n",
       "      <td>3.000000</td>\n",
       "      <td>3190.000000</td>\n",
       "      <td>3.000000</td>\n",
       "      <td>1344.000000</td>\n",
       "      <td>1580.000000</td>\n",
       "    </tr>\n",
       "  </tbody>\n",
       "</table>\n",
       "</div>"
      ],
      "text/plain": [
       "       total_images    last_price    total_area         rooms  ceiling_height  \\\n",
       "count  23699.000000  2.369900e+04  23699.000000  23699.000000    14504.000000   \n",
       "mean       9.858475  6.541549e+06     60.348651      2.070636        2.771499   \n",
       "std        5.682529  1.088701e+07     35.654083      1.078405        1.261056   \n",
       "min        0.000000  1.219000e+04     12.000000      0.000000        1.000000   \n",
       "25%        6.000000  3.400000e+06     40.000000      1.000000        2.520000   \n",
       "50%        9.000000  4.650000e+06     52.000000      2.000000        2.650000   \n",
       "75%       14.000000  6.800000e+06     69.900000      3.000000        2.800000   \n",
       "max       50.000000  7.630000e+08    900.000000     19.000000      100.000000   \n",
       "\n",
       "       floors_total   living_area         floor  kitchen_area       balcony  \\\n",
       "count  23613.000000  21796.000000  23699.000000  21421.000000  12180.000000   \n",
       "mean      10.673824     34.457852      5.892358     10.569807      1.150082   \n",
       "std        6.597173     22.030445      4.885249      5.905438      1.071300   \n",
       "min        1.000000      2.000000      1.000000      1.300000      0.000000   \n",
       "25%        5.000000     18.600000      2.000000      7.000000      0.000000   \n",
       "50%        9.000000     30.000000      4.000000      9.100000      1.000000   \n",
       "75%       16.000000     42.300000      8.000000     12.000000      2.000000   \n",
       "max       60.000000    409.700000     33.000000    112.000000      5.000000   \n",
       "\n",
       "       airports_nearest  cityCenters_nearest  parks_around3000  parks_nearest  \\\n",
       "count      18157.000000         18180.000000      18181.000000    8079.000000   \n",
       "mean       28793.672193         14191.277833          0.611408     490.804555   \n",
       "std        12630.880622          8608.386210          0.802074     342.317995   \n",
       "min            0.000000           181.000000          0.000000       1.000000   \n",
       "25%        18585.000000          9238.000000          0.000000     288.000000   \n",
       "50%        26726.000000         13098.500000          0.000000     455.000000   \n",
       "75%        37273.000000         16293.000000          1.000000     612.000000   \n",
       "max        84869.000000         65968.000000          3.000000    3190.000000   \n",
       "\n",
       "       ponds_around3000  ponds_nearest  days_exposition  \n",
       "count      18181.000000    9110.000000     20518.000000  \n",
       "mean           0.770255     517.980900       180.888634  \n",
       "std            0.938346     277.720643       219.727988  \n",
       "min            0.000000      13.000000         1.000000  \n",
       "25%            0.000000     294.000000        45.000000  \n",
       "50%            1.000000     502.000000        95.000000  \n",
       "75%            1.000000     729.000000       232.000000  \n",
       "max            3.000000    1344.000000      1580.000000  "
      ]
     },
     "execution_count": 5,
     "metadata": {},
     "output_type": "execute_result"
    }
   ],
   "source": [
    "data.describe() # выведем статистическую информацию о данных"
   ]
  },
  {
   "cell_type": "code",
   "execution_count": 6,
   "metadata": {
    "scrolled": false
   },
   "outputs": [
    {
     "data": {
      "text/plain": [
       "total_images            197\n",
       "last_price              197\n",
       "total_area              197\n",
       "first_day_exposition    197\n",
       "rooms                   197\n",
       "ceiling_height           82\n",
       "floors_total            194\n",
       "living_area             183\n",
       "floor                   197\n",
       "is_apartment              6\n",
       "studio                  197\n",
       "open_plan               197\n",
       "kitchen_area              0\n",
       "balcony                 126\n",
       "locality_name           197\n",
       "airports_nearest        118\n",
       "cityCenters_nearest     118\n",
       "parks_around3000        118\n",
       "parks_nearest            29\n",
       "ponds_around3000        118\n",
       "ponds_nearest            69\n",
       "days_exposition         183\n",
       "dtype: int64"
      ]
     },
     "execution_count": 6,
     "metadata": {},
     "output_type": "execute_result"
    }
   ],
   "source": [
    "# посмотрим какое количество объявлений, где встречается нулевое значение комнат\n",
    "data.query('rooms ==0').count()"
   ]
  },
  {
   "cell_type": "markdown",
   "metadata": {},
   "source": [
    "197 объявлений, где присутствуют нулевые значения с числом комнат"
   ]
  },
  {
   "cell_type": "code",
   "execution_count": 7,
   "metadata": {},
   "outputs": [
    {
     "data": {
      "text/html": [
       "<div>\n",
       "<style scoped>\n",
       "    .dataframe tbody tr th:only-of-type {\n",
       "        vertical-align: middle;\n",
       "    }\n",
       "\n",
       "    .dataframe tbody tr th {\n",
       "        vertical-align: top;\n",
       "    }\n",
       "\n",
       "    .dataframe thead th {\n",
       "        text-align: right;\n",
       "    }\n",
       "</style>\n",
       "<table border=\"1\" class=\"dataframe\">\n",
       "  <thead>\n",
       "    <tr style=\"text-align: right;\">\n",
       "      <th></th>\n",
       "      <th>total_images</th>\n",
       "      <th>last_price</th>\n",
       "      <th>total_area</th>\n",
       "      <th>first_day_exposition</th>\n",
       "      <th>rooms</th>\n",
       "      <th>ceiling_height</th>\n",
       "      <th>floors_total</th>\n",
       "      <th>living_area</th>\n",
       "      <th>floor</th>\n",
       "      <th>is_apartment</th>\n",
       "      <th>...</th>\n",
       "      <th>kitchen_area</th>\n",
       "      <th>balcony</th>\n",
       "      <th>locality_name</th>\n",
       "      <th>airports_nearest</th>\n",
       "      <th>cityCenters_nearest</th>\n",
       "      <th>parks_around3000</th>\n",
       "      <th>parks_nearest</th>\n",
       "      <th>ponds_around3000</th>\n",
       "      <th>ponds_nearest</th>\n",
       "      <th>days_exposition</th>\n",
       "    </tr>\n",
       "  </thead>\n",
       "  <tbody>\n",
       "    <tr>\n",
       "      <td>0</td>\n",
       "      <td>20</td>\n",
       "      <td>13000000.0</td>\n",
       "      <td>108.00</td>\n",
       "      <td>2019-03-07T00:00:00</td>\n",
       "      <td>3</td>\n",
       "      <td>2.70</td>\n",
       "      <td>16.0</td>\n",
       "      <td>51.00</td>\n",
       "      <td>8</td>\n",
       "      <td>NaN</td>\n",
       "      <td>...</td>\n",
       "      <td>25.00</td>\n",
       "      <td>NaN</td>\n",
       "      <td>Санкт-Петербург</td>\n",
       "      <td>18863.0</td>\n",
       "      <td>16028.0</td>\n",
       "      <td>1.0</td>\n",
       "      <td>482.0</td>\n",
       "      <td>2.0</td>\n",
       "      <td>755.0</td>\n",
       "      <td>NaN</td>\n",
       "    </tr>\n",
       "    <tr>\n",
       "      <td>1</td>\n",
       "      <td>7</td>\n",
       "      <td>3350000.0</td>\n",
       "      <td>40.40</td>\n",
       "      <td>2018-12-04T00:00:00</td>\n",
       "      <td>1</td>\n",
       "      <td>NaN</td>\n",
       "      <td>11.0</td>\n",
       "      <td>18.60</td>\n",
       "      <td>1</td>\n",
       "      <td>NaN</td>\n",
       "      <td>...</td>\n",
       "      <td>11.00</td>\n",
       "      <td>2.0</td>\n",
       "      <td>посёлок Шушары</td>\n",
       "      <td>12817.0</td>\n",
       "      <td>18603.0</td>\n",
       "      <td>0.0</td>\n",
       "      <td>NaN</td>\n",
       "      <td>0.0</td>\n",
       "      <td>NaN</td>\n",
       "      <td>81.0</td>\n",
       "    </tr>\n",
       "    <tr>\n",
       "      <td>2</td>\n",
       "      <td>10</td>\n",
       "      <td>5196000.0</td>\n",
       "      <td>56.00</td>\n",
       "      <td>2015-08-20T00:00:00</td>\n",
       "      <td>2</td>\n",
       "      <td>NaN</td>\n",
       "      <td>5.0</td>\n",
       "      <td>34.30</td>\n",
       "      <td>4</td>\n",
       "      <td>NaN</td>\n",
       "      <td>...</td>\n",
       "      <td>8.30</td>\n",
       "      <td>0.0</td>\n",
       "      <td>Санкт-Петербург</td>\n",
       "      <td>21741.0</td>\n",
       "      <td>13933.0</td>\n",
       "      <td>1.0</td>\n",
       "      <td>90.0</td>\n",
       "      <td>2.0</td>\n",
       "      <td>574.0</td>\n",
       "      <td>558.0</td>\n",
       "    </tr>\n",
       "    <tr>\n",
       "      <td>3</td>\n",
       "      <td>0</td>\n",
       "      <td>64900000.0</td>\n",
       "      <td>159.00</td>\n",
       "      <td>2015-07-24T00:00:00</td>\n",
       "      <td>3</td>\n",
       "      <td>NaN</td>\n",
       "      <td>14.0</td>\n",
       "      <td>NaN</td>\n",
       "      <td>9</td>\n",
       "      <td>NaN</td>\n",
       "      <td>...</td>\n",
       "      <td>NaN</td>\n",
       "      <td>0.0</td>\n",
       "      <td>Санкт-Петербург</td>\n",
       "      <td>28098.0</td>\n",
       "      <td>6800.0</td>\n",
       "      <td>2.0</td>\n",
       "      <td>84.0</td>\n",
       "      <td>3.0</td>\n",
       "      <td>234.0</td>\n",
       "      <td>424.0</td>\n",
       "    </tr>\n",
       "    <tr>\n",
       "      <td>4</td>\n",
       "      <td>2</td>\n",
       "      <td>10000000.0</td>\n",
       "      <td>100.00</td>\n",
       "      <td>2018-06-19T00:00:00</td>\n",
       "      <td>2</td>\n",
       "      <td>3.03</td>\n",
       "      <td>14.0</td>\n",
       "      <td>32.00</td>\n",
       "      <td>13</td>\n",
       "      <td>NaN</td>\n",
       "      <td>...</td>\n",
       "      <td>41.00</td>\n",
       "      <td>NaN</td>\n",
       "      <td>Санкт-Петербург</td>\n",
       "      <td>31856.0</td>\n",
       "      <td>8098.0</td>\n",
       "      <td>2.0</td>\n",
       "      <td>112.0</td>\n",
       "      <td>1.0</td>\n",
       "      <td>48.0</td>\n",
       "      <td>121.0</td>\n",
       "    </tr>\n",
       "    <tr>\n",
       "      <td>5</td>\n",
       "      <td>10</td>\n",
       "      <td>2890000.0</td>\n",
       "      <td>30.40</td>\n",
       "      <td>2018-09-10T00:00:00</td>\n",
       "      <td>1</td>\n",
       "      <td>NaN</td>\n",
       "      <td>12.0</td>\n",
       "      <td>14.40</td>\n",
       "      <td>5</td>\n",
       "      <td>NaN</td>\n",
       "      <td>...</td>\n",
       "      <td>9.10</td>\n",
       "      <td>NaN</td>\n",
       "      <td>городской посёлок Янино-1</td>\n",
       "      <td>NaN</td>\n",
       "      <td>NaN</td>\n",
       "      <td>NaN</td>\n",
       "      <td>NaN</td>\n",
       "      <td>NaN</td>\n",
       "      <td>NaN</td>\n",
       "      <td>55.0</td>\n",
       "    </tr>\n",
       "    <tr>\n",
       "      <td>6</td>\n",
       "      <td>6</td>\n",
       "      <td>3700000.0</td>\n",
       "      <td>37.30</td>\n",
       "      <td>2017-11-02T00:00:00</td>\n",
       "      <td>1</td>\n",
       "      <td>NaN</td>\n",
       "      <td>26.0</td>\n",
       "      <td>10.60</td>\n",
       "      <td>6</td>\n",
       "      <td>NaN</td>\n",
       "      <td>...</td>\n",
       "      <td>14.40</td>\n",
       "      <td>1.0</td>\n",
       "      <td>посёлок Парголово</td>\n",
       "      <td>52996.0</td>\n",
       "      <td>19143.0</td>\n",
       "      <td>0.0</td>\n",
       "      <td>NaN</td>\n",
       "      <td>0.0</td>\n",
       "      <td>NaN</td>\n",
       "      <td>155.0</td>\n",
       "    </tr>\n",
       "    <tr>\n",
       "      <td>7</td>\n",
       "      <td>5</td>\n",
       "      <td>7915000.0</td>\n",
       "      <td>71.60</td>\n",
       "      <td>2019-04-18T00:00:00</td>\n",
       "      <td>2</td>\n",
       "      <td>NaN</td>\n",
       "      <td>24.0</td>\n",
       "      <td>NaN</td>\n",
       "      <td>22</td>\n",
       "      <td>NaN</td>\n",
       "      <td>...</td>\n",
       "      <td>18.90</td>\n",
       "      <td>2.0</td>\n",
       "      <td>Санкт-Петербург</td>\n",
       "      <td>23982.0</td>\n",
       "      <td>11634.0</td>\n",
       "      <td>0.0</td>\n",
       "      <td>NaN</td>\n",
       "      <td>0.0</td>\n",
       "      <td>NaN</td>\n",
       "      <td>NaN</td>\n",
       "    </tr>\n",
       "    <tr>\n",
       "      <td>8</td>\n",
       "      <td>20</td>\n",
       "      <td>2900000.0</td>\n",
       "      <td>33.16</td>\n",
       "      <td>2018-05-23T00:00:00</td>\n",
       "      <td>1</td>\n",
       "      <td>NaN</td>\n",
       "      <td>27.0</td>\n",
       "      <td>15.43</td>\n",
       "      <td>26</td>\n",
       "      <td>NaN</td>\n",
       "      <td>...</td>\n",
       "      <td>8.81</td>\n",
       "      <td>NaN</td>\n",
       "      <td>посёлок Мурино</td>\n",
       "      <td>NaN</td>\n",
       "      <td>NaN</td>\n",
       "      <td>NaN</td>\n",
       "      <td>NaN</td>\n",
       "      <td>NaN</td>\n",
       "      <td>NaN</td>\n",
       "      <td>189.0</td>\n",
       "    </tr>\n",
       "    <tr>\n",
       "      <td>9</td>\n",
       "      <td>18</td>\n",
       "      <td>5400000.0</td>\n",
       "      <td>61.00</td>\n",
       "      <td>2017-02-26T00:00:00</td>\n",
       "      <td>3</td>\n",
       "      <td>2.50</td>\n",
       "      <td>9.0</td>\n",
       "      <td>43.60</td>\n",
       "      <td>7</td>\n",
       "      <td>NaN</td>\n",
       "      <td>...</td>\n",
       "      <td>6.50</td>\n",
       "      <td>2.0</td>\n",
       "      <td>Санкт-Петербург</td>\n",
       "      <td>50898.0</td>\n",
       "      <td>15008.0</td>\n",
       "      <td>0.0</td>\n",
       "      <td>NaN</td>\n",
       "      <td>0.0</td>\n",
       "      <td>NaN</td>\n",
       "      <td>289.0</td>\n",
       "    </tr>\n",
       "  </tbody>\n",
       "</table>\n",
       "<p>10 rows × 22 columns</p>\n",
       "</div>"
      ],
      "text/plain": [
       "   total_images  last_price  total_area first_day_exposition  rooms  \\\n",
       "0            20  13000000.0      108.00  2019-03-07T00:00:00      3   \n",
       "1             7   3350000.0       40.40  2018-12-04T00:00:00      1   \n",
       "2            10   5196000.0       56.00  2015-08-20T00:00:00      2   \n",
       "3             0  64900000.0      159.00  2015-07-24T00:00:00      3   \n",
       "4             2  10000000.0      100.00  2018-06-19T00:00:00      2   \n",
       "5            10   2890000.0       30.40  2018-09-10T00:00:00      1   \n",
       "6             6   3700000.0       37.30  2017-11-02T00:00:00      1   \n",
       "7             5   7915000.0       71.60  2019-04-18T00:00:00      2   \n",
       "8            20   2900000.0       33.16  2018-05-23T00:00:00      1   \n",
       "9            18   5400000.0       61.00  2017-02-26T00:00:00      3   \n",
       "\n",
       "   ceiling_height  floors_total  living_area  floor is_apartment  ...  \\\n",
       "0            2.70          16.0        51.00      8          NaN  ...   \n",
       "1             NaN          11.0        18.60      1          NaN  ...   \n",
       "2             NaN           5.0        34.30      4          NaN  ...   \n",
       "3             NaN          14.0          NaN      9          NaN  ...   \n",
       "4            3.03          14.0        32.00     13          NaN  ...   \n",
       "5             NaN          12.0        14.40      5          NaN  ...   \n",
       "6             NaN          26.0        10.60      6          NaN  ...   \n",
       "7             NaN          24.0          NaN     22          NaN  ...   \n",
       "8             NaN          27.0        15.43     26          NaN  ...   \n",
       "9            2.50           9.0        43.60      7          NaN  ...   \n",
       "\n",
       "   kitchen_area  balcony              locality_name  airports_nearest  \\\n",
       "0         25.00      NaN            Санкт-Петербург           18863.0   \n",
       "1         11.00      2.0             посёлок Шушары           12817.0   \n",
       "2          8.30      0.0            Санкт-Петербург           21741.0   \n",
       "3           NaN      0.0            Санкт-Петербург           28098.0   \n",
       "4         41.00      NaN            Санкт-Петербург           31856.0   \n",
       "5          9.10      NaN  городской посёлок Янино-1               NaN   \n",
       "6         14.40      1.0          посёлок Парголово           52996.0   \n",
       "7         18.90      2.0            Санкт-Петербург           23982.0   \n",
       "8          8.81      NaN             посёлок Мурино               NaN   \n",
       "9          6.50      2.0            Санкт-Петербург           50898.0   \n",
       "\n",
       "  cityCenters_nearest  parks_around3000  parks_nearest  ponds_around3000  \\\n",
       "0             16028.0               1.0          482.0               2.0   \n",
       "1             18603.0               0.0            NaN               0.0   \n",
       "2             13933.0               1.0           90.0               2.0   \n",
       "3              6800.0               2.0           84.0               3.0   \n",
       "4              8098.0               2.0          112.0               1.0   \n",
       "5                 NaN               NaN            NaN               NaN   \n",
       "6             19143.0               0.0            NaN               0.0   \n",
       "7             11634.0               0.0            NaN               0.0   \n",
       "8                 NaN               NaN            NaN               NaN   \n",
       "9             15008.0               0.0            NaN               0.0   \n",
       "\n",
       "   ponds_nearest  days_exposition  \n",
       "0          755.0              NaN  \n",
       "1            NaN             81.0  \n",
       "2          574.0            558.0  \n",
       "3          234.0            424.0  \n",
       "4           48.0            121.0  \n",
       "5            NaN             55.0  \n",
       "6            NaN            155.0  \n",
       "7            NaN              NaN  \n",
       "8            NaN            189.0  \n",
       "9            NaN            289.0  \n",
       "\n",
       "[10 rows x 22 columns]"
      ]
     },
     "execution_count": 7,
     "metadata": {},
     "output_type": "execute_result"
    }
   ],
   "source": [
    "data.head(10) # выведем 10 первых строк данных"
   ]
  },
  {
   "cell_type": "markdown",
   "metadata": {},
   "source": [
    "### Вывод\n",
    "\n",
    "1. данные только 8ми столбцов полностью заполнены, остальные имеют пропуски значений от 0,2% до 88%\n",
    "2. есть нулевые значения, строки с нулевым значением комнат можно будет удалить (менее 1% - не окажут влияние)\n",
    "3. некорректные типы данных, которые нужно будет заменить:\n",
    "- `first_day_exposition` замена с object на datetime\n",
    "- `is_apartment` замена с object на bool (булево значение)\n",
    "- `days_exposition` замена с float на int (кол-во дней - целое число)\n",
    "- `balcony` замена с float на int (целое число балконов)\n",
    "- `parks_around3000`, `ponds_around3000` замена с float на int (кол-во парков и водоемов - целые числа)\n"
   ]
  },
  {
   "cell_type": "markdown",
   "metadata": {},
   "source": [
    "## Предобработка данных"
   ]
  },
  {
   "cell_type": "markdown",
   "metadata": {},
   "source": [
    "### Оброботка пропусков и замена типа данных"
   ]
  },
  {
   "cell_type": "code",
   "execution_count": 8,
   "metadata": {},
   "outputs": [
    {
     "data": {
      "text/html": [
       "<div>\n",
       "<style scoped>\n",
       "    .dataframe tbody tr th:only-of-type {\n",
       "        vertical-align: middle;\n",
       "    }\n",
       "\n",
       "    .dataframe tbody tr th {\n",
       "        vertical-align: top;\n",
       "    }\n",
       "\n",
       "    .dataframe thead th {\n",
       "        text-align: right;\n",
       "    }\n",
       "</style>\n",
       "<table border=\"1\" class=\"dataframe\">\n",
       "  <thead>\n",
       "    <tr style=\"text-align: right;\">\n",
       "      <th></th>\n",
       "      <th>total_images</th>\n",
       "      <th>last_price</th>\n",
       "      <th>total_area</th>\n",
       "      <th>rooms</th>\n",
       "      <th>ceiling_height</th>\n",
       "      <th>floors_total</th>\n",
       "      <th>living_area</th>\n",
       "      <th>floor</th>\n",
       "      <th>kitchen_area</th>\n",
       "      <th>balcony</th>\n",
       "      <th>airports_nearest</th>\n",
       "      <th>cityCenters_nearest</th>\n",
       "      <th>parks_around3000</th>\n",
       "      <th>parks_nearest</th>\n",
       "      <th>ponds_around3000</th>\n",
       "      <th>ponds_nearest</th>\n",
       "      <th>days_exposition</th>\n",
       "    </tr>\n",
       "  </thead>\n",
       "  <tbody>\n",
       "    <tr>\n",
       "      <td>count</td>\n",
       "      <td>23453.000000</td>\n",
       "      <td>2.345300e+04</td>\n",
       "      <td>23453.000000</td>\n",
       "      <td>23453.000000</td>\n",
       "      <td>14408.000000</td>\n",
       "      <td>23371.000000</td>\n",
       "      <td>21569.000000</td>\n",
       "      <td>23453.000000</td>\n",
       "      <td>21381.000000</td>\n",
       "      <td>12011.000000</td>\n",
       "      <td>17998.000000</td>\n",
       "      <td>18021.000000</td>\n",
       "      <td>18022.000000</td>\n",
       "      <td>8035.000000</td>\n",
       "      <td>18022.000000</td>\n",
       "      <td>9016.000000</td>\n",
       "      <td>20287.000000</td>\n",
       "    </tr>\n",
       "    <tr>\n",
       "      <td>mean</td>\n",
       "      <td>9.879845</td>\n",
       "      <td>6.568035e+06</td>\n",
       "      <td>60.589877</td>\n",
       "      <td>2.087494</td>\n",
       "      <td>2.769392</td>\n",
       "      <td>10.624235</td>\n",
       "      <td>34.580569</td>\n",
       "      <td>5.870720</td>\n",
       "      <td>10.566403</td>\n",
       "      <td>1.148531</td>\n",
       "      <td>28831.331315</td>\n",
       "      <td>14203.159647</td>\n",
       "      <td>0.613639</td>\n",
       "      <td>490.455258</td>\n",
       "      <td>0.769337</td>\n",
       "      <td>517.998780</td>\n",
       "      <td>181.398827</td>\n",
       "    </tr>\n",
       "    <tr>\n",
       "      <td>std</td>\n",
       "      <td>5.683931</td>\n",
       "      <td>1.092836e+07</td>\n",
       "      <td>35.618736</td>\n",
       "      <td>1.066253</td>\n",
       "      <td>1.248634</td>\n",
       "      <td>6.567545</td>\n",
       "      <td>22.075768</td>\n",
       "      <td>4.863671</td>\n",
       "      <td>5.901753</td>\n",
       "      <td>1.073759</td>\n",
       "      <td>12634.477867</td>\n",
       "      <td>8625.202466</td>\n",
       "      <td>0.802954</td>\n",
       "      <td>342.648915</td>\n",
       "      <td>0.938369</td>\n",
       "      <td>277.878988</td>\n",
       "      <td>220.147815</td>\n",
       "    </tr>\n",
       "    <tr>\n",
       "      <td>min</td>\n",
       "      <td>0.000000</td>\n",
       "      <td>1.219000e+04</td>\n",
       "      <td>12.000000</td>\n",
       "      <td>1.000000</td>\n",
       "      <td>1.000000</td>\n",
       "      <td>1.000000</td>\n",
       "      <td>2.000000</td>\n",
       "      <td>1.000000</td>\n",
       "      <td>1.300000</td>\n",
       "      <td>0.000000</td>\n",
       "      <td>0.000000</td>\n",
       "      <td>181.000000</td>\n",
       "      <td>0.000000</td>\n",
       "      <td>1.000000</td>\n",
       "      <td>0.000000</td>\n",
       "      <td>13.000000</td>\n",
       "      <td>1.000000</td>\n",
       "    </tr>\n",
       "    <tr>\n",
       "      <td>25%</td>\n",
       "      <td>6.000000</td>\n",
       "      <td>3.450000e+06</td>\n",
       "      <td>40.110000</td>\n",
       "      <td>1.000000</td>\n",
       "      <td>2.510000</td>\n",
       "      <td>5.000000</td>\n",
       "      <td>18.700000</td>\n",
       "      <td>2.000000</td>\n",
       "      <td>7.000000</td>\n",
       "      <td>0.000000</td>\n",
       "      <td>18590.000000</td>\n",
       "      <td>9238.000000</td>\n",
       "      <td>0.000000</td>\n",
       "      <td>287.000000</td>\n",
       "      <td>0.000000</td>\n",
       "      <td>293.000000</td>\n",
       "      <td>45.000000</td>\n",
       "    </tr>\n",
       "    <tr>\n",
       "      <td>50%</td>\n",
       "      <td>9.000000</td>\n",
       "      <td>4.650000e+06</td>\n",
       "      <td>52.000000</td>\n",
       "      <td>2.000000</td>\n",
       "      <td>2.650000</td>\n",
       "      <td>9.000000</td>\n",
       "      <td>30.000000</td>\n",
       "      <td>4.000000</td>\n",
       "      <td>9.100000</td>\n",
       "      <td>1.000000</td>\n",
       "      <td>26770.000000</td>\n",
       "      <td>13095.000000</td>\n",
       "      <td>0.000000</td>\n",
       "      <td>453.000000</td>\n",
       "      <td>1.000000</td>\n",
       "      <td>502.000000</td>\n",
       "      <td>96.000000</td>\n",
       "    </tr>\n",
       "    <tr>\n",
       "      <td>75%</td>\n",
       "      <td>14.000000</td>\n",
       "      <td>6.800000e+06</td>\n",
       "      <td>70.000000</td>\n",
       "      <td>3.000000</td>\n",
       "      <td>2.800000</td>\n",
       "      <td>16.000000</td>\n",
       "      <td>42.430000</td>\n",
       "      <td>8.000000</td>\n",
       "      <td>12.000000</td>\n",
       "      <td>2.000000</td>\n",
       "      <td>37313.000000</td>\n",
       "      <td>16293.000000</td>\n",
       "      <td>1.000000</td>\n",
       "      <td>612.000000</td>\n",
       "      <td>1.000000</td>\n",
       "      <td>730.000000</td>\n",
       "      <td>232.000000</td>\n",
       "    </tr>\n",
       "    <tr>\n",
       "      <td>max</td>\n",
       "      <td>50.000000</td>\n",
       "      <td>7.630000e+08</td>\n",
       "      <td>900.000000</td>\n",
       "      <td>19.000000</td>\n",
       "      <td>100.000000</td>\n",
       "      <td>60.000000</td>\n",
       "      <td>409.700000</td>\n",
       "      <td>33.000000</td>\n",
       "      <td>112.000000</td>\n",
       "      <td>5.000000</td>\n",
       "      <td>84869.000000</td>\n",
       "      <td>65968.000000</td>\n",
       "      <td>3.000000</td>\n",
       "      <td>3190.000000</td>\n",
       "      <td>3.000000</td>\n",
       "      <td>1344.000000</td>\n",
       "      <td>1580.000000</td>\n",
       "    </tr>\n",
       "  </tbody>\n",
       "</table>\n",
       "</div>"
      ],
      "text/plain": [
       "       total_images    last_price    total_area         rooms  ceiling_height  \\\n",
       "count  23453.000000  2.345300e+04  23453.000000  23453.000000    14408.000000   \n",
       "mean       9.879845  6.568035e+06     60.589877      2.087494        2.769392   \n",
       "std        5.683931  1.092836e+07     35.618736      1.066253        1.248634   \n",
       "min        0.000000  1.219000e+04     12.000000      1.000000        1.000000   \n",
       "25%        6.000000  3.450000e+06     40.110000      1.000000        2.510000   \n",
       "50%        9.000000  4.650000e+06     52.000000      2.000000        2.650000   \n",
       "75%       14.000000  6.800000e+06     70.000000      3.000000        2.800000   \n",
       "max       50.000000  7.630000e+08    900.000000     19.000000      100.000000   \n",
       "\n",
       "       floors_total   living_area         floor  kitchen_area       balcony  \\\n",
       "count  23371.000000  21569.000000  23453.000000  21381.000000  12011.000000   \n",
       "mean      10.624235     34.580569      5.870720     10.566403      1.148531   \n",
       "std        6.567545     22.075768      4.863671      5.901753      1.073759   \n",
       "min        1.000000      2.000000      1.000000      1.300000      0.000000   \n",
       "25%        5.000000     18.700000      2.000000      7.000000      0.000000   \n",
       "50%        9.000000     30.000000      4.000000      9.100000      1.000000   \n",
       "75%       16.000000     42.430000      8.000000     12.000000      2.000000   \n",
       "max       60.000000    409.700000     33.000000    112.000000      5.000000   \n",
       "\n",
       "       airports_nearest  cityCenters_nearest  parks_around3000  parks_nearest  \\\n",
       "count      17998.000000         18021.000000      18022.000000    8035.000000   \n",
       "mean       28831.331315         14203.159647          0.613639     490.455258   \n",
       "std        12634.477867          8625.202466          0.802954     342.648915   \n",
       "min            0.000000           181.000000          0.000000       1.000000   \n",
       "25%        18590.000000          9238.000000          0.000000     287.000000   \n",
       "50%        26770.000000         13095.000000          0.000000     453.000000   \n",
       "75%        37313.000000         16293.000000          1.000000     612.000000   \n",
       "max        84869.000000         65968.000000          3.000000    3190.000000   \n",
       "\n",
       "       ponds_around3000  ponds_nearest  days_exposition  \n",
       "count      18022.000000    9016.000000     20287.000000  \n",
       "mean           0.769337     517.998780       181.398827  \n",
       "std            0.938369     277.878988       220.147815  \n",
       "min            0.000000      13.000000         1.000000  \n",
       "25%            0.000000     293.000000        45.000000  \n",
       "50%            1.000000     502.000000        96.000000  \n",
       "75%            1.000000     730.000000       232.000000  \n",
       "max            3.000000    1344.000000      1580.000000  "
      ]
     },
     "execution_count": 8,
     "metadata": {},
     "output_type": "execute_result"
    }
   ],
   "source": [
    "# удалим строки с пустыми значениями с расположением квартир и нулевым кол-вом комнат (непонятно где они расположены и будут мешать при анализе)\n",
    "data = data.dropna(subset=['locality_name'])\n",
    "data = data.loc[data['rooms'] > 0]\n",
    "data.describe()\n"
   ]
  },
  {
   "cell_type": "code",
   "execution_count": 9,
   "metadata": {
    "scrolled": false
   },
   "outputs": [],
   "source": [
    "# применим метод `.to_datetime` для изменения формата времени для удобства\n",
    "data['first_day_exposition'] = pd.to_datetime(data['first_day_exposition'], format = '%Y-%m-%d')\n"
   ]
  },
  {
   "cell_type": "code",
   "execution_count": 10,
   "metadata": {},
   "outputs": [
    {
     "name": "stdout",
     "output_type": "stream",
     "text": [
      "<class 'pandas.core.frame.DataFrame'>\n",
      "Int64Index: 23453 entries, 0 to 23698\n",
      "Data columns (total 22 columns):\n",
      "total_images            23453 non-null int64\n",
      "last_price              23453 non-null int64\n",
      "total_area              23453 non-null float64\n",
      "first_day_exposition    23453 non-null datetime64[ns]\n",
      "rooms                   23453 non-null int64\n",
      "ceiling_height          14408 non-null float64\n",
      "floors_total            23453 non-null int64\n",
      "living_area             21569 non-null float64\n",
      "floor                   23453 non-null int64\n",
      "is_apartment            2754 non-null object\n",
      "studio                  23453 non-null bool\n",
      "open_plan               23453 non-null bool\n",
      "kitchen_area            21381 non-null float64\n",
      "balcony                 23453 non-null int64\n",
      "locality_name           23453 non-null object\n",
      "airports_nearest        17998 non-null float64\n",
      "cityCenters_nearest     18021 non-null float64\n",
      "parks_around3000        23453 non-null int64\n",
      "parks_nearest           8035 non-null float64\n",
      "ponds_around3000        23453 non-null int64\n",
      "ponds_nearest           9016 non-null float64\n",
      "days_exposition         20287 non-null float64\n",
      "dtypes: bool(2), datetime64[ns](1), float64(9), int64(8), object(2)\n",
      "memory usage: 3.8+ MB\n"
     ]
    }
   ],
   "source": [
    "columns_list = ['balcony', 'parks_around3000', 'ponds_around3000', 'last_price', 'floors_total']\n",
    "for col in columns_list:\n",
    "    data[col] = data[col].fillna(0).astype('int')\n",
    "data.info()\n",
    "    "
   ]
  },
  {
   "cell_type": "code",
   "execution_count": 11,
   "metadata": {},
   "outputs": [
    {
     "data": {
      "text/plain": [
       "False    2704\n",
       "True       50\n",
       "Name: is_apartment, dtype: int64"
      ]
     },
     "execution_count": 11,
     "metadata": {},
     "output_type": "execute_result"
    }
   ],
   "source": [
    "# посмотрим значения столбца\n",
    "data['is_apartment'].value_counts()"
   ]
  },
  {
   "cell_type": "code",
   "execution_count": 12,
   "metadata": {
    "scrolled": false
   },
   "outputs": [
    {
     "name": "stdout",
     "output_type": "stream",
     "text": [
      "<class 'pandas.core.frame.DataFrame'>\n",
      "Int64Index: 23453 entries, 0 to 23698\n",
      "Data columns (total 22 columns):\n",
      "total_images            23453 non-null int64\n",
      "last_price              23453 non-null int64\n",
      "total_area              23453 non-null float64\n",
      "first_day_exposition    23453 non-null datetime64[ns]\n",
      "rooms                   23453 non-null int64\n",
      "ceiling_height          14408 non-null float64\n",
      "floors_total            23453 non-null int64\n",
      "living_area             21569 non-null float64\n",
      "floor                   23453 non-null int64\n",
      "is_apartment            23453 non-null bool\n",
      "studio                  23453 non-null bool\n",
      "open_plan               23453 non-null bool\n",
      "kitchen_area            21381 non-null float64\n",
      "balcony                 23453 non-null int64\n",
      "locality_name           23453 non-null object\n",
      "airports_nearest        17998 non-null float64\n",
      "cityCenters_nearest     18021 non-null float64\n",
      "parks_around3000        23453 non-null int64\n",
      "parks_nearest           8035 non-null float64\n",
      "ponds_around3000        23453 non-null int64\n",
      "ponds_nearest           9016 non-null float64\n",
      "days_exposition         20287 non-null float64\n",
      "dtypes: bool(3), datetime64[ns](1), float64(9), int64(8), object(1)\n",
      "memory usage: 3.6+ MB\n"
     ]
    }
   ],
   "source": [
    "# заменим тип с object на bool (булево значение) и заполним пропуски на False\n",
    "data['is_apartment'] = data['is_apartment'].fillna(False).astype('bool')\n",
    "# проверим изменения\n",
    "data.info()"
   ]
  },
  {
   "cell_type": "markdown",
   "metadata": {},
   "source": [
    "Т.к. в дальнейшем в исследовании понадобится параметр с высотой потолков, а пропусков в данных достаточно много, то нужно изучить данные более подробно"
   ]
  },
  {
   "cell_type": "code",
   "execution_count": 13,
   "metadata": {
    "scrolled": true
   },
   "outputs": [
    {
     "data": {
      "text/html": [
       "<div>\n",
       "<style scoped>\n",
       "    .dataframe tbody tr th:only-of-type {\n",
       "        vertical-align: middle;\n",
       "    }\n",
       "\n",
       "    .dataframe tbody tr th {\n",
       "        vertical-align: top;\n",
       "    }\n",
       "\n",
       "    .dataframe thead th {\n",
       "        text-align: right;\n",
       "    }\n",
       "</style>\n",
       "<table border=\"1\" class=\"dataframe\">\n",
       "  <thead>\n",
       "    <tr style=\"text-align: right;\">\n",
       "      <th></th>\n",
       "      <th>median</th>\n",
       "      <th>count</th>\n",
       "    </tr>\n",
       "    <tr>\n",
       "      <th>rooms</th>\n",
       "      <th></th>\n",
       "      <th></th>\n",
       "    </tr>\n",
       "  </thead>\n",
       "  <tbody>\n",
       "    <tr>\n",
       "      <td>1</td>\n",
       "      <td>2.640</td>\n",
       "      <td>4611</td>\n",
       "    </tr>\n",
       "    <tr>\n",
       "      <td>2</td>\n",
       "      <td>2.600</td>\n",
       "      <td>4845</td>\n",
       "    </tr>\n",
       "    <tr>\n",
       "      <td>3</td>\n",
       "      <td>2.650</td>\n",
       "      <td>3785</td>\n",
       "    </tr>\n",
       "    <tr>\n",
       "      <td>4</td>\n",
       "      <td>2.800</td>\n",
       "      <td>797</td>\n",
       "    </tr>\n",
       "    <tr>\n",
       "      <td>5</td>\n",
       "      <td>3.100</td>\n",
       "      <td>231</td>\n",
       "    </tr>\n",
       "    <tr>\n",
       "      <td>6</td>\n",
       "      <td>3.200</td>\n",
       "      <td>74</td>\n",
       "    </tr>\n",
       "    <tr>\n",
       "      <td>7</td>\n",
       "      <td>3.380</td>\n",
       "      <td>43</td>\n",
       "    </tr>\n",
       "    <tr>\n",
       "      <td>8</td>\n",
       "      <td>3.420</td>\n",
       "      <td>6</td>\n",
       "    </tr>\n",
       "    <tr>\n",
       "      <td>9</td>\n",
       "      <td>3.200</td>\n",
       "      <td>7</td>\n",
       "    </tr>\n",
       "    <tr>\n",
       "      <td>10</td>\n",
       "      <td>3.150</td>\n",
       "      <td>3</td>\n",
       "    </tr>\n",
       "    <tr>\n",
       "      <td>11</td>\n",
       "      <td>3.415</td>\n",
       "      <td>2</td>\n",
       "    </tr>\n",
       "    <tr>\n",
       "      <td>12</td>\n",
       "      <td>2.800</td>\n",
       "      <td>1</td>\n",
       "    </tr>\n",
       "    <tr>\n",
       "      <td>14</td>\n",
       "      <td>3.160</td>\n",
       "      <td>1</td>\n",
       "    </tr>\n",
       "    <tr>\n",
       "      <td>15</td>\n",
       "      <td>3.500</td>\n",
       "      <td>1</td>\n",
       "    </tr>\n",
       "    <tr>\n",
       "      <td>16</td>\n",
       "      <td>3.000</td>\n",
       "      <td>1</td>\n",
       "    </tr>\n",
       "    <tr>\n",
       "      <td>19</td>\n",
       "      <td>NaN</td>\n",
       "      <td>0</td>\n",
       "    </tr>\n",
       "  </tbody>\n",
       "</table>\n",
       "</div>"
      ],
      "text/plain": [
       "       median  count\n",
       "rooms               \n",
       "1       2.640   4611\n",
       "2       2.600   4845\n",
       "3       2.650   3785\n",
       "4       2.800    797\n",
       "5       3.100    231\n",
       "6       3.200     74\n",
       "7       3.380     43\n",
       "8       3.420      6\n",
       "9       3.200      7\n",
       "10      3.150      3\n",
       "11      3.415      2\n",
       "12      2.800      1\n",
       "14      3.160      1\n",
       "15      3.500      1\n",
       "16      3.000      1\n",
       "19        NaN      0"
      ]
     },
     "execution_count": 13,
     "metadata": {},
     "output_type": "execute_result"
    }
   ],
   "source": [
    "# построим сводную таблицу и расчитаем медианное значение по высоте потолков\n",
    "ceiling_height_median = data.pivot_table(index='rooms', values='ceiling_height', aggfunc=['median', 'count'])\n",
    "ceiling_height_median.columns = ['median', 'count']\n",
    "ceiling_height_median.head(20)\n"
   ]
  },
  {
   "cell_type": "markdown",
   "metadata": {},
   "source": [
    "глядя на сводную таблицу, видим, что медиана высоты потолков в большей части объявлений  составляет от 2,6 до 2,65 м, следовательно, можно заполнить пропуски данных медианным значением"
   ]
  },
  {
   "cell_type": "code",
   "execution_count": 14,
   "metadata": {
    "scrolled": true
   },
   "outputs": [
    {
     "name": "stdout",
     "output_type": "stream",
     "text": [
      "<class 'pandas.core.frame.DataFrame'>\n",
      "Int64Index: 23453 entries, 0 to 23698\n",
      "Data columns (total 22 columns):\n",
      "total_images            23453 non-null int64\n",
      "last_price              23453 non-null int64\n",
      "total_area              23453 non-null float64\n",
      "first_day_exposition    23453 non-null datetime64[ns]\n",
      "rooms                   23453 non-null int64\n",
      "ceiling_height          23452 non-null float64\n",
      "floors_total            23453 non-null int64\n",
      "living_area             21569 non-null float64\n",
      "floor                   23453 non-null int64\n",
      "is_apartment            23453 non-null bool\n",
      "studio                  23453 non-null bool\n",
      "open_plan               23453 non-null bool\n",
      "kitchen_area            21381 non-null float64\n",
      "balcony                 23453 non-null int64\n",
      "locality_name           23453 non-null object\n",
      "airports_nearest        17998 non-null float64\n",
      "cityCenters_nearest     18021 non-null float64\n",
      "parks_around3000        23453 non-null int64\n",
      "parks_nearest           8035 non-null float64\n",
      "ponds_around3000        23453 non-null int64\n",
      "ponds_nearest           9016 non-null float64\n",
      "days_exposition         20287 non-null float64\n",
      "dtypes: bool(3), datetime64[ns](1), float64(9), int64(8), object(1)\n",
      "memory usage: 3.6+ MB\n"
     ]
    },
    {
     "name": "stderr",
     "output_type": "stream",
     "text": [
      "/opt/conda/lib/python3.7/site-packages/numpy/lib/nanfunctions.py:1111: RuntimeWarning: Mean of empty slice\n",
      "  return np.nanmean(a, axis, out=out, keepdims=keepdims)\n"
     ]
    }
   ],
   "source": [
    "# заполняем пропуски данных медианой по столбцу и выводим общую информацию о данных\n",
    "data['ceiling_height'] = data.groupby('rooms')['ceiling_height'].transform(lambda x: x.fillna(x.median()))\n",
    "data.info()\n"
   ]
  },
  {
   "cell_type": "markdown",
   "metadata": {},
   "source": [
    "### Обработка дубликатов"
   ]
  },
  {
   "cell_type": "code",
   "execution_count": 15,
   "metadata": {
    "scrolled": true
   },
   "outputs": [
    {
     "name": "stdout",
     "output_type": "stream",
     "text": [
      "Количество дубликатов: 0\n"
     ]
    }
   ],
   "source": [
    "print('Количество дубликатов:', data.duplicated().sum())"
   ]
  },
  {
   "cell_type": "markdown",
   "metadata": {},
   "source": [
    "### Обработка данных"
   ]
  },
  {
   "cell_type": "code",
   "execution_count": 16,
   "metadata": {},
   "outputs": [
    {
     "data": {
      "text/html": [
       "<div>\n",
       "<style scoped>\n",
       "    .dataframe tbody tr th:only-of-type {\n",
       "        vertical-align: middle;\n",
       "    }\n",
       "\n",
       "    .dataframe tbody tr th {\n",
       "        vertical-align: top;\n",
       "    }\n",
       "\n",
       "    .dataframe thead th {\n",
       "        text-align: right;\n",
       "    }\n",
       "</style>\n",
       "<table border=\"1\" class=\"dataframe\">\n",
       "  <thead>\n",
       "    <tr style=\"text-align: right;\">\n",
       "      <th></th>\n",
       "      <th>total_images</th>\n",
       "      <th>last_price</th>\n",
       "      <th>total_area</th>\n",
       "      <th>rooms</th>\n",
       "      <th>ceiling_height</th>\n",
       "      <th>floors_total</th>\n",
       "      <th>living_area</th>\n",
       "      <th>floor</th>\n",
       "      <th>kitchen_area</th>\n",
       "      <th>balcony</th>\n",
       "      <th>airports_nearest</th>\n",
       "      <th>cityCenters_nearest</th>\n",
       "      <th>parks_around3000</th>\n",
       "      <th>parks_nearest</th>\n",
       "      <th>ponds_around3000</th>\n",
       "      <th>ponds_nearest</th>\n",
       "      <th>days_exposition</th>\n",
       "    </tr>\n",
       "  </thead>\n",
       "  <tbody>\n",
       "    <tr>\n",
       "      <td>count</td>\n",
       "      <td>23453.000000</td>\n",
       "      <td>23453.000000</td>\n",
       "      <td>23453.000000</td>\n",
       "      <td>23453.000000</td>\n",
       "      <td>23452.000000</td>\n",
       "      <td>23453.000000</td>\n",
       "      <td>21569.000000</td>\n",
       "      <td>23453.000000</td>\n",
       "      <td>21381.000000</td>\n",
       "      <td>23453.000000</td>\n",
       "      <td>17998.000000</td>\n",
       "      <td>18021.000000</td>\n",
       "      <td>23453.000000</td>\n",
       "      <td>8035.000000</td>\n",
       "      <td>23453.000000</td>\n",
       "      <td>9016.000000</td>\n",
       "      <td>20287.000000</td>\n",
       "    </tr>\n",
       "    <tr>\n",
       "      <td>mean</td>\n",
       "      <td>9.879845</td>\n",
       "      <td>6.568082</td>\n",
       "      <td>60.589877</td>\n",
       "      <td>2.087494</td>\n",
       "      <td>2.721033</td>\n",
       "      <td>10.587089</td>\n",
       "      <td>34.580569</td>\n",
       "      <td>5.870720</td>\n",
       "      <td>10.566403</td>\n",
       "      <td>0.588198</td>\n",
       "      <td>28831.331315</td>\n",
       "      <td>14203.159647</td>\n",
       "      <td>0.471539</td>\n",
       "      <td>490.455258</td>\n",
       "      <td>0.591182</td>\n",
       "      <td>517.998780</td>\n",
       "      <td>181.398827</td>\n",
       "    </tr>\n",
       "    <tr>\n",
       "      <td>std</td>\n",
       "      <td>5.683931</td>\n",
       "      <td>10.928363</td>\n",
       "      <td>35.618736</td>\n",
       "      <td>1.066253</td>\n",
       "      <td>0.981832</td>\n",
       "      <td>6.585979</td>\n",
       "      <td>22.075768</td>\n",
       "      <td>4.863671</td>\n",
       "      <td>5.901753</td>\n",
       "      <td>0.959188</td>\n",
       "      <td>12634.477867</td>\n",
       "      <td>8625.202466</td>\n",
       "      <td>0.749957</td>\n",
       "      <td>342.648915</td>\n",
       "      <td>0.884279</td>\n",
       "      <td>277.878988</td>\n",
       "      <td>220.147815</td>\n",
       "    </tr>\n",
       "    <tr>\n",
       "      <td>min</td>\n",
       "      <td>0.000000</td>\n",
       "      <td>0.010000</td>\n",
       "      <td>12.000000</td>\n",
       "      <td>1.000000</td>\n",
       "      <td>1.000000</td>\n",
       "      <td>0.000000</td>\n",
       "      <td>2.000000</td>\n",
       "      <td>1.000000</td>\n",
       "      <td>1.300000</td>\n",
       "      <td>0.000000</td>\n",
       "      <td>0.000000</td>\n",
       "      <td>181.000000</td>\n",
       "      <td>0.000000</td>\n",
       "      <td>1.000000</td>\n",
       "      <td>0.000000</td>\n",
       "      <td>13.000000</td>\n",
       "      <td>1.000000</td>\n",
       "    </tr>\n",
       "    <tr>\n",
       "      <td>25%</td>\n",
       "      <td>6.000000</td>\n",
       "      <td>3.450000</td>\n",
       "      <td>40.110000</td>\n",
       "      <td>1.000000</td>\n",
       "      <td>2.600000</td>\n",
       "      <td>5.000000</td>\n",
       "      <td>18.700000</td>\n",
       "      <td>2.000000</td>\n",
       "      <td>7.000000</td>\n",
       "      <td>0.000000</td>\n",
       "      <td>18590.000000</td>\n",
       "      <td>9238.000000</td>\n",
       "      <td>0.000000</td>\n",
       "      <td>287.000000</td>\n",
       "      <td>0.000000</td>\n",
       "      <td>293.000000</td>\n",
       "      <td>45.000000</td>\n",
       "    </tr>\n",
       "    <tr>\n",
       "      <td>50%</td>\n",
       "      <td>9.000000</td>\n",
       "      <td>4.650000</td>\n",
       "      <td>52.000000</td>\n",
       "      <td>2.000000</td>\n",
       "      <td>2.640000</td>\n",
       "      <td>9.000000</td>\n",
       "      <td>30.000000</td>\n",
       "      <td>4.000000</td>\n",
       "      <td>9.100000</td>\n",
       "      <td>0.000000</td>\n",
       "      <td>26770.000000</td>\n",
       "      <td>13095.000000</td>\n",
       "      <td>0.000000</td>\n",
       "      <td>453.000000</td>\n",
       "      <td>0.000000</td>\n",
       "      <td>502.000000</td>\n",
       "      <td>96.000000</td>\n",
       "    </tr>\n",
       "    <tr>\n",
       "      <td>75%</td>\n",
       "      <td>14.000000</td>\n",
       "      <td>6.800000</td>\n",
       "      <td>70.000000</td>\n",
       "      <td>3.000000</td>\n",
       "      <td>2.700000</td>\n",
       "      <td>16.000000</td>\n",
       "      <td>42.430000</td>\n",
       "      <td>8.000000</td>\n",
       "      <td>12.000000</td>\n",
       "      <td>1.000000</td>\n",
       "      <td>37313.000000</td>\n",
       "      <td>16293.000000</td>\n",
       "      <td>1.000000</td>\n",
       "      <td>612.000000</td>\n",
       "      <td>1.000000</td>\n",
       "      <td>730.000000</td>\n",
       "      <td>232.000000</td>\n",
       "    </tr>\n",
       "    <tr>\n",
       "      <td>max</td>\n",
       "      <td>50.000000</td>\n",
       "      <td>763.000000</td>\n",
       "      <td>900.000000</td>\n",
       "      <td>19.000000</td>\n",
       "      <td>100.000000</td>\n",
       "      <td>60.000000</td>\n",
       "      <td>409.700000</td>\n",
       "      <td>33.000000</td>\n",
       "      <td>112.000000</td>\n",
       "      <td>5.000000</td>\n",
       "      <td>84869.000000</td>\n",
       "      <td>65968.000000</td>\n",
       "      <td>3.000000</td>\n",
       "      <td>3190.000000</td>\n",
       "      <td>3.000000</td>\n",
       "      <td>1344.000000</td>\n",
       "      <td>1580.000000</td>\n",
       "    </tr>\n",
       "  </tbody>\n",
       "</table>\n",
       "</div>"
      ],
      "text/plain": [
       "       total_images    last_price    total_area         rooms  ceiling_height  \\\n",
       "count  23453.000000  23453.000000  23453.000000  23453.000000    23452.000000   \n",
       "mean       9.879845      6.568082     60.589877      2.087494        2.721033   \n",
       "std        5.683931     10.928363     35.618736      1.066253        0.981832   \n",
       "min        0.000000      0.010000     12.000000      1.000000        1.000000   \n",
       "25%        6.000000      3.450000     40.110000      1.000000        2.600000   \n",
       "50%        9.000000      4.650000     52.000000      2.000000        2.640000   \n",
       "75%       14.000000      6.800000     70.000000      3.000000        2.700000   \n",
       "max       50.000000    763.000000    900.000000     19.000000      100.000000   \n",
       "\n",
       "       floors_total   living_area         floor  kitchen_area       balcony  \\\n",
       "count  23453.000000  21569.000000  23453.000000  21381.000000  23453.000000   \n",
       "mean      10.587089     34.580569      5.870720     10.566403      0.588198   \n",
       "std        6.585979     22.075768      4.863671      5.901753      0.959188   \n",
       "min        0.000000      2.000000      1.000000      1.300000      0.000000   \n",
       "25%        5.000000     18.700000      2.000000      7.000000      0.000000   \n",
       "50%        9.000000     30.000000      4.000000      9.100000      0.000000   \n",
       "75%       16.000000     42.430000      8.000000     12.000000      1.000000   \n",
       "max       60.000000    409.700000     33.000000    112.000000      5.000000   \n",
       "\n",
       "       airports_nearest  cityCenters_nearest  parks_around3000  parks_nearest  \\\n",
       "count      17998.000000         18021.000000      23453.000000    8035.000000   \n",
       "mean       28831.331315         14203.159647          0.471539     490.455258   \n",
       "std        12634.477867          8625.202466          0.749957     342.648915   \n",
       "min            0.000000           181.000000          0.000000       1.000000   \n",
       "25%        18590.000000          9238.000000          0.000000     287.000000   \n",
       "50%        26770.000000         13095.000000          0.000000     453.000000   \n",
       "75%        37313.000000         16293.000000          1.000000     612.000000   \n",
       "max        84869.000000         65968.000000          3.000000    3190.000000   \n",
       "\n",
       "       ponds_around3000  ponds_nearest  days_exposition  \n",
       "count      23453.000000    9016.000000     20287.000000  \n",
       "mean           0.591182     517.998780       181.398827  \n",
       "std            0.884279     277.878988       220.147815  \n",
       "min            0.000000      13.000000         1.000000  \n",
       "25%            0.000000     293.000000        45.000000  \n",
       "50%            0.000000     502.000000        96.000000  \n",
       "75%            1.000000     730.000000       232.000000  \n",
       "max            3.000000    1344.000000      1580.000000  "
      ]
     },
     "execution_count": 16,
     "metadata": {},
     "output_type": "execute_result"
    }
   ],
   "source": [
    "# переведем значения столбца last_price в млн.руб для удобства\n",
    "data['last_price'] = (data['last_price'] / 1000000).round(2)\n",
    "data.describe()"
   ]
  },
  {
   "cell_type": "markdown",
   "metadata": {},
   "source": [
    "### Вывод\n",
    "- в данных удалили строки с нулевыми значениями столбцов `locality_name` и `rooms`\n",
    "- скорректировали типы данных столбцов\n",
    "- заполнили очевидные пропуски, где это возможно (столбцы: `balcony`, `parks_around3000`, `ponds_around3000` и `is_apartment`)\n",
    "- заполнили пропуски данных в столбце `ceiling_height` медианным значением\n",
    "- оставшиеся столбцы оставим без изменений, т.к. неизвестно с чем связаны отсутствующие значения в них и их отсутствие некретично для дальнейшего анализа"
   ]
  },
  {
   "cell_type": "markdown",
   "metadata": {},
   "source": [
    "## Расчёты и добавление результатов в таблицу"
   ]
  },
  {
   "cell_type": "markdown",
   "metadata": {},
   "source": [
    "### Цена квадратного метра"
   ]
  },
  {
   "cell_type": "markdown",
   "metadata": {},
   "source": [
    "добавим столбец с расчетом цены за 1 кв.м в тыс.руб"
   ]
  },
  {
   "cell_type": "code",
   "execution_count": 17,
   "metadata": {
    "scrolled": true
   },
   "outputs": [
    {
     "data": {
      "text/html": [
       "<div>\n",
       "<style scoped>\n",
       "    .dataframe tbody tr th:only-of-type {\n",
       "        vertical-align: middle;\n",
       "    }\n",
       "\n",
       "    .dataframe tbody tr th {\n",
       "        vertical-align: top;\n",
       "    }\n",
       "\n",
       "    .dataframe thead th {\n",
       "        text-align: right;\n",
       "    }\n",
       "</style>\n",
       "<table border=\"1\" class=\"dataframe\">\n",
       "  <thead>\n",
       "    <tr style=\"text-align: right;\">\n",
       "      <th></th>\n",
       "      <th>total_images</th>\n",
       "      <th>last_price</th>\n",
       "      <th>total_area</th>\n",
       "      <th>first_day_exposition</th>\n",
       "      <th>rooms</th>\n",
       "      <th>ceiling_height</th>\n",
       "      <th>floors_total</th>\n",
       "      <th>living_area</th>\n",
       "      <th>floor</th>\n",
       "      <th>is_apartment</th>\n",
       "      <th>...</th>\n",
       "      <th>balcony</th>\n",
       "      <th>locality_name</th>\n",
       "      <th>airports_nearest</th>\n",
       "      <th>cityCenters_nearest</th>\n",
       "      <th>parks_around3000</th>\n",
       "      <th>parks_nearest</th>\n",
       "      <th>ponds_around3000</th>\n",
       "      <th>ponds_nearest</th>\n",
       "      <th>days_exposition</th>\n",
       "      <th>price_sq_meter_KRUR</th>\n",
       "    </tr>\n",
       "  </thead>\n",
       "  <tbody>\n",
       "    <tr>\n",
       "      <td>0</td>\n",
       "      <td>20</td>\n",
       "      <td>13.00</td>\n",
       "      <td>108.0</td>\n",
       "      <td>2019-03-07</td>\n",
       "      <td>3</td>\n",
       "      <td>2.70</td>\n",
       "      <td>16</td>\n",
       "      <td>51.0</td>\n",
       "      <td>8</td>\n",
       "      <td>False</td>\n",
       "      <td>...</td>\n",
       "      <td>0</td>\n",
       "      <td>Санкт-Петербург</td>\n",
       "      <td>18863.0</td>\n",
       "      <td>16028.0</td>\n",
       "      <td>1</td>\n",
       "      <td>482.0</td>\n",
       "      <td>2</td>\n",
       "      <td>755.0</td>\n",
       "      <td>NaN</td>\n",
       "      <td>120.0</td>\n",
       "    </tr>\n",
       "    <tr>\n",
       "      <td>1</td>\n",
       "      <td>7</td>\n",
       "      <td>3.35</td>\n",
       "      <td>40.4</td>\n",
       "      <td>2018-12-04</td>\n",
       "      <td>1</td>\n",
       "      <td>2.64</td>\n",
       "      <td>11</td>\n",
       "      <td>18.6</td>\n",
       "      <td>1</td>\n",
       "      <td>False</td>\n",
       "      <td>...</td>\n",
       "      <td>2</td>\n",
       "      <td>посёлок Шушары</td>\n",
       "      <td>12817.0</td>\n",
       "      <td>18603.0</td>\n",
       "      <td>0</td>\n",
       "      <td>NaN</td>\n",
       "      <td>0</td>\n",
       "      <td>NaN</td>\n",
       "      <td>81.0</td>\n",
       "      <td>83.0</td>\n",
       "    </tr>\n",
       "    <tr>\n",
       "      <td>2</td>\n",
       "      <td>10</td>\n",
       "      <td>5.20</td>\n",
       "      <td>56.0</td>\n",
       "      <td>2015-08-20</td>\n",
       "      <td>2</td>\n",
       "      <td>2.60</td>\n",
       "      <td>5</td>\n",
       "      <td>34.3</td>\n",
       "      <td>4</td>\n",
       "      <td>False</td>\n",
       "      <td>...</td>\n",
       "      <td>0</td>\n",
       "      <td>Санкт-Петербург</td>\n",
       "      <td>21741.0</td>\n",
       "      <td>13933.0</td>\n",
       "      <td>1</td>\n",
       "      <td>90.0</td>\n",
       "      <td>2</td>\n",
       "      <td>574.0</td>\n",
       "      <td>558.0</td>\n",
       "      <td>93.0</td>\n",
       "    </tr>\n",
       "    <tr>\n",
       "      <td>3</td>\n",
       "      <td>0</td>\n",
       "      <td>64.90</td>\n",
       "      <td>159.0</td>\n",
       "      <td>2015-07-24</td>\n",
       "      <td>3</td>\n",
       "      <td>2.65</td>\n",
       "      <td>14</td>\n",
       "      <td>NaN</td>\n",
       "      <td>9</td>\n",
       "      <td>False</td>\n",
       "      <td>...</td>\n",
       "      <td>0</td>\n",
       "      <td>Санкт-Петербург</td>\n",
       "      <td>28098.0</td>\n",
       "      <td>6800.0</td>\n",
       "      <td>2</td>\n",
       "      <td>84.0</td>\n",
       "      <td>3</td>\n",
       "      <td>234.0</td>\n",
       "      <td>424.0</td>\n",
       "      <td>408.0</td>\n",
       "    </tr>\n",
       "    <tr>\n",
       "      <td>4</td>\n",
       "      <td>2</td>\n",
       "      <td>10.00</td>\n",
       "      <td>100.0</td>\n",
       "      <td>2018-06-19</td>\n",
       "      <td>2</td>\n",
       "      <td>3.03</td>\n",
       "      <td>14</td>\n",
       "      <td>32.0</td>\n",
       "      <td>13</td>\n",
       "      <td>False</td>\n",
       "      <td>...</td>\n",
       "      <td>0</td>\n",
       "      <td>Санкт-Петербург</td>\n",
       "      <td>31856.0</td>\n",
       "      <td>8098.0</td>\n",
       "      <td>2</td>\n",
       "      <td>112.0</td>\n",
       "      <td>1</td>\n",
       "      <td>48.0</td>\n",
       "      <td>121.0</td>\n",
       "      <td>100.0</td>\n",
       "    </tr>\n",
       "  </tbody>\n",
       "</table>\n",
       "<p>5 rows × 23 columns</p>\n",
       "</div>"
      ],
      "text/plain": [
       "   total_images  last_price  total_area first_day_exposition  rooms  \\\n",
       "0            20       13.00       108.0           2019-03-07      3   \n",
       "1             7        3.35        40.4           2018-12-04      1   \n",
       "2            10        5.20        56.0           2015-08-20      2   \n",
       "3             0       64.90       159.0           2015-07-24      3   \n",
       "4             2       10.00       100.0           2018-06-19      2   \n",
       "\n",
       "   ceiling_height  floors_total  living_area  floor  is_apartment  ...  \\\n",
       "0            2.70            16         51.0      8         False  ...   \n",
       "1            2.64            11         18.6      1         False  ...   \n",
       "2            2.60             5         34.3      4         False  ...   \n",
       "3            2.65            14          NaN      9         False  ...   \n",
       "4            3.03            14         32.0     13         False  ...   \n",
       "\n",
       "   balcony    locality_name  airports_nearest  cityCenters_nearest  \\\n",
       "0        0  Санкт-Петербург           18863.0              16028.0   \n",
       "1        2   посёлок Шушары           12817.0              18603.0   \n",
       "2        0  Санкт-Петербург           21741.0              13933.0   \n",
       "3        0  Санкт-Петербург           28098.0               6800.0   \n",
       "4        0  Санкт-Петербург           31856.0               8098.0   \n",
       "\n",
       "  parks_around3000  parks_nearest  ponds_around3000  ponds_nearest  \\\n",
       "0                1          482.0                 2          755.0   \n",
       "1                0            NaN                 0            NaN   \n",
       "2                1           90.0                 2          574.0   \n",
       "3                2           84.0                 3          234.0   \n",
       "4                2          112.0                 1           48.0   \n",
       "\n",
       "   days_exposition  price_sq_meter_KRUR  \n",
       "0              NaN                120.0  \n",
       "1             81.0                 83.0  \n",
       "2            558.0                 93.0  \n",
       "3            424.0                408.0  \n",
       "4            121.0                100.0  \n",
       "\n",
       "[5 rows x 23 columns]"
      ]
     },
     "execution_count": 17,
     "metadata": {},
     "output_type": "execute_result"
    }
   ],
   "source": [
    "data['price_sq_meter_KRUR'] = (data['last_price'] / data['total_area'] * 1000).round(0)\n",
    "data.head()"
   ]
  },
  {
   "cell_type": "markdown",
   "metadata": {},
   "source": [
    "### Дата публикации объявления"
   ]
  },
  {
   "cell_type": "markdown",
   "metadata": {},
   "source": [
    "добавим новые столбцы со значениями: \"день\", \"месяц\" и \"год\" публикации объявления"
   ]
  },
  {
   "cell_type": "code",
   "execution_count": 18,
   "metadata": {
    "scrolled": true
   },
   "outputs": [
    {
     "data": {
      "text/html": [
       "<div>\n",
       "<style scoped>\n",
       "    .dataframe tbody tr th:only-of-type {\n",
       "        vertical-align: middle;\n",
       "    }\n",
       "\n",
       "    .dataframe tbody tr th {\n",
       "        vertical-align: top;\n",
       "    }\n",
       "\n",
       "    .dataframe thead th {\n",
       "        text-align: right;\n",
       "    }\n",
       "</style>\n",
       "<table border=\"1\" class=\"dataframe\">\n",
       "  <thead>\n",
       "    <tr style=\"text-align: right;\">\n",
       "      <th></th>\n",
       "      <th>total_images</th>\n",
       "      <th>last_price</th>\n",
       "      <th>total_area</th>\n",
       "      <th>first_day_exposition</th>\n",
       "      <th>rooms</th>\n",
       "      <th>ceiling_height</th>\n",
       "      <th>floors_total</th>\n",
       "      <th>living_area</th>\n",
       "      <th>floor</th>\n",
       "      <th>is_apartment</th>\n",
       "      <th>...</th>\n",
       "      <th>cityCenters_nearest</th>\n",
       "      <th>parks_around3000</th>\n",
       "      <th>parks_nearest</th>\n",
       "      <th>ponds_around3000</th>\n",
       "      <th>ponds_nearest</th>\n",
       "      <th>days_exposition</th>\n",
       "      <th>price_sq_meter_KRUR</th>\n",
       "      <th>weekday</th>\n",
       "      <th>month</th>\n",
       "      <th>year</th>\n",
       "    </tr>\n",
       "  </thead>\n",
       "  <tbody>\n",
       "    <tr>\n",
       "      <td>0</td>\n",
       "      <td>20</td>\n",
       "      <td>13.00</td>\n",
       "      <td>108.0</td>\n",
       "      <td>2019-03-07</td>\n",
       "      <td>3</td>\n",
       "      <td>2.70</td>\n",
       "      <td>16</td>\n",
       "      <td>51.0</td>\n",
       "      <td>8</td>\n",
       "      <td>False</td>\n",
       "      <td>...</td>\n",
       "      <td>16028.0</td>\n",
       "      <td>1</td>\n",
       "      <td>482.0</td>\n",
       "      <td>2</td>\n",
       "      <td>755.0</td>\n",
       "      <td>NaN</td>\n",
       "      <td>120.0</td>\n",
       "      <td>3</td>\n",
       "      <td>3</td>\n",
       "      <td>2019</td>\n",
       "    </tr>\n",
       "    <tr>\n",
       "      <td>1</td>\n",
       "      <td>7</td>\n",
       "      <td>3.35</td>\n",
       "      <td>40.4</td>\n",
       "      <td>2018-12-04</td>\n",
       "      <td>1</td>\n",
       "      <td>2.64</td>\n",
       "      <td>11</td>\n",
       "      <td>18.6</td>\n",
       "      <td>1</td>\n",
       "      <td>False</td>\n",
       "      <td>...</td>\n",
       "      <td>18603.0</td>\n",
       "      <td>0</td>\n",
       "      <td>NaN</td>\n",
       "      <td>0</td>\n",
       "      <td>NaN</td>\n",
       "      <td>81.0</td>\n",
       "      <td>83.0</td>\n",
       "      <td>1</td>\n",
       "      <td>12</td>\n",
       "      <td>2018</td>\n",
       "    </tr>\n",
       "    <tr>\n",
       "      <td>2</td>\n",
       "      <td>10</td>\n",
       "      <td>5.20</td>\n",
       "      <td>56.0</td>\n",
       "      <td>2015-08-20</td>\n",
       "      <td>2</td>\n",
       "      <td>2.60</td>\n",
       "      <td>5</td>\n",
       "      <td>34.3</td>\n",
       "      <td>4</td>\n",
       "      <td>False</td>\n",
       "      <td>...</td>\n",
       "      <td>13933.0</td>\n",
       "      <td>1</td>\n",
       "      <td>90.0</td>\n",
       "      <td>2</td>\n",
       "      <td>574.0</td>\n",
       "      <td>558.0</td>\n",
       "      <td>93.0</td>\n",
       "      <td>3</td>\n",
       "      <td>8</td>\n",
       "      <td>2015</td>\n",
       "    </tr>\n",
       "    <tr>\n",
       "      <td>3</td>\n",
       "      <td>0</td>\n",
       "      <td>64.90</td>\n",
       "      <td>159.0</td>\n",
       "      <td>2015-07-24</td>\n",
       "      <td>3</td>\n",
       "      <td>2.65</td>\n",
       "      <td>14</td>\n",
       "      <td>NaN</td>\n",
       "      <td>9</td>\n",
       "      <td>False</td>\n",
       "      <td>...</td>\n",
       "      <td>6800.0</td>\n",
       "      <td>2</td>\n",
       "      <td>84.0</td>\n",
       "      <td>3</td>\n",
       "      <td>234.0</td>\n",
       "      <td>424.0</td>\n",
       "      <td>408.0</td>\n",
       "      <td>4</td>\n",
       "      <td>7</td>\n",
       "      <td>2015</td>\n",
       "    </tr>\n",
       "    <tr>\n",
       "      <td>4</td>\n",
       "      <td>2</td>\n",
       "      <td>10.00</td>\n",
       "      <td>100.0</td>\n",
       "      <td>2018-06-19</td>\n",
       "      <td>2</td>\n",
       "      <td>3.03</td>\n",
       "      <td>14</td>\n",
       "      <td>32.0</td>\n",
       "      <td>13</td>\n",
       "      <td>False</td>\n",
       "      <td>...</td>\n",
       "      <td>8098.0</td>\n",
       "      <td>2</td>\n",
       "      <td>112.0</td>\n",
       "      <td>1</td>\n",
       "      <td>48.0</td>\n",
       "      <td>121.0</td>\n",
       "      <td>100.0</td>\n",
       "      <td>1</td>\n",
       "      <td>6</td>\n",
       "      <td>2018</td>\n",
       "    </tr>\n",
       "  </tbody>\n",
       "</table>\n",
       "<p>5 rows × 26 columns</p>\n",
       "</div>"
      ],
      "text/plain": [
       "   total_images  last_price  total_area first_day_exposition  rooms  \\\n",
       "0            20       13.00       108.0           2019-03-07      3   \n",
       "1             7        3.35        40.4           2018-12-04      1   \n",
       "2            10        5.20        56.0           2015-08-20      2   \n",
       "3             0       64.90       159.0           2015-07-24      3   \n",
       "4             2       10.00       100.0           2018-06-19      2   \n",
       "\n",
       "   ceiling_height  floors_total  living_area  floor  is_apartment  ...  \\\n",
       "0            2.70            16         51.0      8         False  ...   \n",
       "1            2.64            11         18.6      1         False  ...   \n",
       "2            2.60             5         34.3      4         False  ...   \n",
       "3            2.65            14          NaN      9         False  ...   \n",
       "4            3.03            14         32.0     13         False  ...   \n",
       "\n",
       "   cityCenters_nearest  parks_around3000  parks_nearest  ponds_around3000  \\\n",
       "0              16028.0                 1          482.0                 2   \n",
       "1              18603.0                 0            NaN                 0   \n",
       "2              13933.0                 1           90.0                 2   \n",
       "3               6800.0                 2           84.0                 3   \n",
       "4               8098.0                 2          112.0                 1   \n",
       "\n",
       "  ponds_nearest  days_exposition  price_sq_meter_KRUR  weekday  month  year  \n",
       "0         755.0              NaN                120.0        3      3  2019  \n",
       "1           NaN             81.0                 83.0        1     12  2018  \n",
       "2         574.0            558.0                 93.0        3      8  2015  \n",
       "3         234.0            424.0                408.0        4      7  2015  \n",
       "4          48.0            121.0                100.0        1      6  2018  \n",
       "\n",
       "[5 rows x 26 columns]"
      ]
     },
     "execution_count": 18,
     "metadata": {},
     "output_type": "execute_result"
    }
   ],
   "source": [
    "data['weekday'] = data['first_day_exposition'].dt.weekday\n",
    "data['month'] = data['first_day_exposition'].dt.month\n",
    "data['year'] = data['first_day_exposition'].dt.year\n",
    "data.head()"
   ]
  },
  {
   "cell_type": "markdown",
   "metadata": {},
   "source": [
    "### Этаж квартиры"
   ]
  },
  {
   "cell_type": "code",
   "execution_count": 19,
   "metadata": {
    "scrolled": true
   },
   "outputs": [
    {
     "data": {
      "text/html": [
       "<div>\n",
       "<style scoped>\n",
       "    .dataframe tbody tr th:only-of-type {\n",
       "        vertical-align: middle;\n",
       "    }\n",
       "\n",
       "    .dataframe tbody tr th {\n",
       "        vertical-align: top;\n",
       "    }\n",
       "\n",
       "    .dataframe thead th {\n",
       "        text-align: right;\n",
       "    }\n",
       "</style>\n",
       "<table border=\"1\" class=\"dataframe\">\n",
       "  <thead>\n",
       "    <tr style=\"text-align: right;\">\n",
       "      <th></th>\n",
       "      <th>total_images</th>\n",
       "      <th>last_price</th>\n",
       "      <th>total_area</th>\n",
       "      <th>first_day_exposition</th>\n",
       "      <th>rooms</th>\n",
       "      <th>ceiling_height</th>\n",
       "      <th>floors_total</th>\n",
       "      <th>living_area</th>\n",
       "      <th>floor</th>\n",
       "      <th>is_apartment</th>\n",
       "      <th>...</th>\n",
       "      <th>parks_around3000</th>\n",
       "      <th>parks_nearest</th>\n",
       "      <th>ponds_around3000</th>\n",
       "      <th>ponds_nearest</th>\n",
       "      <th>days_exposition</th>\n",
       "      <th>price_sq_meter_KRUR</th>\n",
       "      <th>weekday</th>\n",
       "      <th>month</th>\n",
       "      <th>year</th>\n",
       "      <th>floor_category</th>\n",
       "    </tr>\n",
       "  </thead>\n",
       "  <tbody>\n",
       "    <tr>\n",
       "      <td>0</td>\n",
       "      <td>20</td>\n",
       "      <td>13.00</td>\n",
       "      <td>108.00</td>\n",
       "      <td>2019-03-07</td>\n",
       "      <td>3</td>\n",
       "      <td>2.70</td>\n",
       "      <td>16</td>\n",
       "      <td>51.00</td>\n",
       "      <td>8</td>\n",
       "      <td>False</td>\n",
       "      <td>...</td>\n",
       "      <td>1</td>\n",
       "      <td>482.0</td>\n",
       "      <td>2</td>\n",
       "      <td>755.0</td>\n",
       "      <td>NaN</td>\n",
       "      <td>120.0</td>\n",
       "      <td>3</td>\n",
       "      <td>3</td>\n",
       "      <td>2019</td>\n",
       "      <td>другой</td>\n",
       "    </tr>\n",
       "    <tr>\n",
       "      <td>1</td>\n",
       "      <td>7</td>\n",
       "      <td>3.35</td>\n",
       "      <td>40.40</td>\n",
       "      <td>2018-12-04</td>\n",
       "      <td>1</td>\n",
       "      <td>2.64</td>\n",
       "      <td>11</td>\n",
       "      <td>18.60</td>\n",
       "      <td>1</td>\n",
       "      <td>False</td>\n",
       "      <td>...</td>\n",
       "      <td>0</td>\n",
       "      <td>NaN</td>\n",
       "      <td>0</td>\n",
       "      <td>NaN</td>\n",
       "      <td>81.0</td>\n",
       "      <td>83.0</td>\n",
       "      <td>1</td>\n",
       "      <td>12</td>\n",
       "      <td>2018</td>\n",
       "      <td>первый</td>\n",
       "    </tr>\n",
       "    <tr>\n",
       "      <td>2</td>\n",
       "      <td>10</td>\n",
       "      <td>5.20</td>\n",
       "      <td>56.00</td>\n",
       "      <td>2015-08-20</td>\n",
       "      <td>2</td>\n",
       "      <td>2.60</td>\n",
       "      <td>5</td>\n",
       "      <td>34.30</td>\n",
       "      <td>4</td>\n",
       "      <td>False</td>\n",
       "      <td>...</td>\n",
       "      <td>1</td>\n",
       "      <td>90.0</td>\n",
       "      <td>2</td>\n",
       "      <td>574.0</td>\n",
       "      <td>558.0</td>\n",
       "      <td>93.0</td>\n",
       "      <td>3</td>\n",
       "      <td>8</td>\n",
       "      <td>2015</td>\n",
       "      <td>другой</td>\n",
       "    </tr>\n",
       "    <tr>\n",
       "      <td>3</td>\n",
       "      <td>0</td>\n",
       "      <td>64.90</td>\n",
       "      <td>159.00</td>\n",
       "      <td>2015-07-24</td>\n",
       "      <td>3</td>\n",
       "      <td>2.65</td>\n",
       "      <td>14</td>\n",
       "      <td>NaN</td>\n",
       "      <td>9</td>\n",
       "      <td>False</td>\n",
       "      <td>...</td>\n",
       "      <td>2</td>\n",
       "      <td>84.0</td>\n",
       "      <td>3</td>\n",
       "      <td>234.0</td>\n",
       "      <td>424.0</td>\n",
       "      <td>408.0</td>\n",
       "      <td>4</td>\n",
       "      <td>7</td>\n",
       "      <td>2015</td>\n",
       "      <td>другой</td>\n",
       "    </tr>\n",
       "    <tr>\n",
       "      <td>4</td>\n",
       "      <td>2</td>\n",
       "      <td>10.00</td>\n",
       "      <td>100.00</td>\n",
       "      <td>2018-06-19</td>\n",
       "      <td>2</td>\n",
       "      <td>3.03</td>\n",
       "      <td>14</td>\n",
       "      <td>32.00</td>\n",
       "      <td>13</td>\n",
       "      <td>False</td>\n",
       "      <td>...</td>\n",
       "      <td>2</td>\n",
       "      <td>112.0</td>\n",
       "      <td>1</td>\n",
       "      <td>48.0</td>\n",
       "      <td>121.0</td>\n",
       "      <td>100.0</td>\n",
       "      <td>1</td>\n",
       "      <td>6</td>\n",
       "      <td>2018</td>\n",
       "      <td>другой</td>\n",
       "    </tr>\n",
       "    <tr>\n",
       "      <td>5</td>\n",
       "      <td>10</td>\n",
       "      <td>2.89</td>\n",
       "      <td>30.40</td>\n",
       "      <td>2018-09-10</td>\n",
       "      <td>1</td>\n",
       "      <td>2.64</td>\n",
       "      <td>12</td>\n",
       "      <td>14.40</td>\n",
       "      <td>5</td>\n",
       "      <td>False</td>\n",
       "      <td>...</td>\n",
       "      <td>0</td>\n",
       "      <td>NaN</td>\n",
       "      <td>0</td>\n",
       "      <td>NaN</td>\n",
       "      <td>55.0</td>\n",
       "      <td>95.0</td>\n",
       "      <td>0</td>\n",
       "      <td>9</td>\n",
       "      <td>2018</td>\n",
       "      <td>другой</td>\n",
       "    </tr>\n",
       "    <tr>\n",
       "      <td>6</td>\n",
       "      <td>6</td>\n",
       "      <td>3.70</td>\n",
       "      <td>37.30</td>\n",
       "      <td>2017-11-02</td>\n",
       "      <td>1</td>\n",
       "      <td>2.64</td>\n",
       "      <td>26</td>\n",
       "      <td>10.60</td>\n",
       "      <td>6</td>\n",
       "      <td>False</td>\n",
       "      <td>...</td>\n",
       "      <td>0</td>\n",
       "      <td>NaN</td>\n",
       "      <td>0</td>\n",
       "      <td>NaN</td>\n",
       "      <td>155.0</td>\n",
       "      <td>99.0</td>\n",
       "      <td>3</td>\n",
       "      <td>11</td>\n",
       "      <td>2017</td>\n",
       "      <td>другой</td>\n",
       "    </tr>\n",
       "    <tr>\n",
       "      <td>7</td>\n",
       "      <td>5</td>\n",
       "      <td>7.92</td>\n",
       "      <td>71.60</td>\n",
       "      <td>2019-04-18</td>\n",
       "      <td>2</td>\n",
       "      <td>2.60</td>\n",
       "      <td>24</td>\n",
       "      <td>NaN</td>\n",
       "      <td>22</td>\n",
       "      <td>False</td>\n",
       "      <td>...</td>\n",
       "      <td>0</td>\n",
       "      <td>NaN</td>\n",
       "      <td>0</td>\n",
       "      <td>NaN</td>\n",
       "      <td>NaN</td>\n",
       "      <td>111.0</td>\n",
       "      <td>3</td>\n",
       "      <td>4</td>\n",
       "      <td>2019</td>\n",
       "      <td>другой</td>\n",
       "    </tr>\n",
       "    <tr>\n",
       "      <td>8</td>\n",
       "      <td>20</td>\n",
       "      <td>2.90</td>\n",
       "      <td>33.16</td>\n",
       "      <td>2018-05-23</td>\n",
       "      <td>1</td>\n",
       "      <td>2.64</td>\n",
       "      <td>27</td>\n",
       "      <td>15.43</td>\n",
       "      <td>26</td>\n",
       "      <td>False</td>\n",
       "      <td>...</td>\n",
       "      <td>0</td>\n",
       "      <td>NaN</td>\n",
       "      <td>0</td>\n",
       "      <td>NaN</td>\n",
       "      <td>189.0</td>\n",
       "      <td>87.0</td>\n",
       "      <td>2</td>\n",
       "      <td>5</td>\n",
       "      <td>2018</td>\n",
       "      <td>другой</td>\n",
       "    </tr>\n",
       "    <tr>\n",
       "      <td>9</td>\n",
       "      <td>18</td>\n",
       "      <td>5.40</td>\n",
       "      <td>61.00</td>\n",
       "      <td>2017-02-26</td>\n",
       "      <td>3</td>\n",
       "      <td>2.50</td>\n",
       "      <td>9</td>\n",
       "      <td>43.60</td>\n",
       "      <td>7</td>\n",
       "      <td>False</td>\n",
       "      <td>...</td>\n",
       "      <td>0</td>\n",
       "      <td>NaN</td>\n",
       "      <td>0</td>\n",
       "      <td>NaN</td>\n",
       "      <td>289.0</td>\n",
       "      <td>89.0</td>\n",
       "      <td>6</td>\n",
       "      <td>2</td>\n",
       "      <td>2017</td>\n",
       "      <td>другой</td>\n",
       "    </tr>\n",
       "  </tbody>\n",
       "</table>\n",
       "<p>10 rows × 27 columns</p>\n",
       "</div>"
      ],
      "text/plain": [
       "   total_images  last_price  total_area first_day_exposition  rooms  \\\n",
       "0            20       13.00      108.00           2019-03-07      3   \n",
       "1             7        3.35       40.40           2018-12-04      1   \n",
       "2            10        5.20       56.00           2015-08-20      2   \n",
       "3             0       64.90      159.00           2015-07-24      3   \n",
       "4             2       10.00      100.00           2018-06-19      2   \n",
       "5            10        2.89       30.40           2018-09-10      1   \n",
       "6             6        3.70       37.30           2017-11-02      1   \n",
       "7             5        7.92       71.60           2019-04-18      2   \n",
       "8            20        2.90       33.16           2018-05-23      1   \n",
       "9            18        5.40       61.00           2017-02-26      3   \n",
       "\n",
       "   ceiling_height  floors_total  living_area  floor  is_apartment  ...  \\\n",
       "0            2.70            16        51.00      8         False  ...   \n",
       "1            2.64            11        18.60      1         False  ...   \n",
       "2            2.60             5        34.30      4         False  ...   \n",
       "3            2.65            14          NaN      9         False  ...   \n",
       "4            3.03            14        32.00     13         False  ...   \n",
       "5            2.64            12        14.40      5         False  ...   \n",
       "6            2.64            26        10.60      6         False  ...   \n",
       "7            2.60            24          NaN     22         False  ...   \n",
       "8            2.64            27        15.43     26         False  ...   \n",
       "9            2.50             9        43.60      7         False  ...   \n",
       "\n",
       "   parks_around3000  parks_nearest  ponds_around3000  ponds_nearest  \\\n",
       "0                 1          482.0                 2          755.0   \n",
       "1                 0            NaN                 0            NaN   \n",
       "2                 1           90.0                 2          574.0   \n",
       "3                 2           84.0                 3          234.0   \n",
       "4                 2          112.0                 1           48.0   \n",
       "5                 0            NaN                 0            NaN   \n",
       "6                 0            NaN                 0            NaN   \n",
       "7                 0            NaN                 0            NaN   \n",
       "8                 0            NaN                 0            NaN   \n",
       "9                 0            NaN                 0            NaN   \n",
       "\n",
       "  days_exposition  price_sq_meter_KRUR  weekday  month  year  floor_category  \n",
       "0             NaN                120.0        3      3  2019          другой  \n",
       "1            81.0                 83.0        1     12  2018          первый  \n",
       "2           558.0                 93.0        3      8  2015          другой  \n",
       "3           424.0                408.0        4      7  2015          другой  \n",
       "4           121.0                100.0        1      6  2018          другой  \n",
       "5            55.0                 95.0        0      9  2018          другой  \n",
       "6           155.0                 99.0        3     11  2017          другой  \n",
       "7             NaN                111.0        3      4  2019          другой  \n",
       "8           189.0                 87.0        2      5  2018          другой  \n",
       "9           289.0                 89.0        6      2  2017          другой  \n",
       "\n",
       "[10 rows x 27 columns]"
      ]
     },
     "execution_count": 19,
     "metadata": {},
     "output_type": "execute_result"
    }
   ],
   "source": [
    "# напишем функцию для классификации этажа квартиры\n",
    "def floor_category(row):\n",
    "    floors_total = row['floors_total']\n",
    "    floor = row['floor']\n",
    "    if floor == 1:\n",
    "        return 'первый'\n",
    "    if floor == floors_total:\n",
    "        return 'последний'\n",
    "    return 'другой'\n",
    "data['floor_category'] = data.apply(floor_category, axis = 1)\n",
    "data.head(10)"
   ]
  },
  {
   "cell_type": "markdown",
   "metadata": {},
   "source": [
    "### Соотношение жилой площади к общей"
   ]
  },
  {
   "cell_type": "code",
   "execution_count": 20,
   "metadata": {
    "scrolled": true
   },
   "outputs": [
    {
     "data": {
      "text/html": [
       "<div>\n",
       "<style scoped>\n",
       "    .dataframe tbody tr th:only-of-type {\n",
       "        vertical-align: middle;\n",
       "    }\n",
       "\n",
       "    .dataframe tbody tr th {\n",
       "        vertical-align: top;\n",
       "    }\n",
       "\n",
       "    .dataframe thead th {\n",
       "        text-align: right;\n",
       "    }\n",
       "</style>\n",
       "<table border=\"1\" class=\"dataframe\">\n",
       "  <thead>\n",
       "    <tr style=\"text-align: right;\">\n",
       "      <th></th>\n",
       "      <th>total_images</th>\n",
       "      <th>last_price</th>\n",
       "      <th>total_area</th>\n",
       "      <th>first_day_exposition</th>\n",
       "      <th>rooms</th>\n",
       "      <th>ceiling_height</th>\n",
       "      <th>floors_total</th>\n",
       "      <th>living_area</th>\n",
       "      <th>floor</th>\n",
       "      <th>is_apartment</th>\n",
       "      <th>...</th>\n",
       "      <th>parks_nearest</th>\n",
       "      <th>ponds_around3000</th>\n",
       "      <th>ponds_nearest</th>\n",
       "      <th>days_exposition</th>\n",
       "      <th>price_sq_meter_KRUR</th>\n",
       "      <th>weekday</th>\n",
       "      <th>month</th>\n",
       "      <th>year</th>\n",
       "      <th>floor_category</th>\n",
       "      <th>living_area_ratio</th>\n",
       "    </tr>\n",
       "  </thead>\n",
       "  <tbody>\n",
       "    <tr>\n",
       "      <td>0</td>\n",
       "      <td>20</td>\n",
       "      <td>13.00</td>\n",
       "      <td>108.0</td>\n",
       "      <td>2019-03-07</td>\n",
       "      <td>3</td>\n",
       "      <td>2.70</td>\n",
       "      <td>16</td>\n",
       "      <td>51.0</td>\n",
       "      <td>8</td>\n",
       "      <td>False</td>\n",
       "      <td>...</td>\n",
       "      <td>482.0</td>\n",
       "      <td>2</td>\n",
       "      <td>755.0</td>\n",
       "      <td>NaN</td>\n",
       "      <td>120.0</td>\n",
       "      <td>3</td>\n",
       "      <td>3</td>\n",
       "      <td>2019</td>\n",
       "      <td>другой</td>\n",
       "      <td>0.5</td>\n",
       "    </tr>\n",
       "    <tr>\n",
       "      <td>1</td>\n",
       "      <td>7</td>\n",
       "      <td>3.35</td>\n",
       "      <td>40.4</td>\n",
       "      <td>2018-12-04</td>\n",
       "      <td>1</td>\n",
       "      <td>2.64</td>\n",
       "      <td>11</td>\n",
       "      <td>18.6</td>\n",
       "      <td>1</td>\n",
       "      <td>False</td>\n",
       "      <td>...</td>\n",
       "      <td>NaN</td>\n",
       "      <td>0</td>\n",
       "      <td>NaN</td>\n",
       "      <td>81.0</td>\n",
       "      <td>83.0</td>\n",
       "      <td>1</td>\n",
       "      <td>12</td>\n",
       "      <td>2018</td>\n",
       "      <td>первый</td>\n",
       "      <td>0.5</td>\n",
       "    </tr>\n",
       "    <tr>\n",
       "      <td>2</td>\n",
       "      <td>10</td>\n",
       "      <td>5.20</td>\n",
       "      <td>56.0</td>\n",
       "      <td>2015-08-20</td>\n",
       "      <td>2</td>\n",
       "      <td>2.60</td>\n",
       "      <td>5</td>\n",
       "      <td>34.3</td>\n",
       "      <td>4</td>\n",
       "      <td>False</td>\n",
       "      <td>...</td>\n",
       "      <td>90.0</td>\n",
       "      <td>2</td>\n",
       "      <td>574.0</td>\n",
       "      <td>558.0</td>\n",
       "      <td>93.0</td>\n",
       "      <td>3</td>\n",
       "      <td>8</td>\n",
       "      <td>2015</td>\n",
       "      <td>другой</td>\n",
       "      <td>0.6</td>\n",
       "    </tr>\n",
       "    <tr>\n",
       "      <td>3</td>\n",
       "      <td>0</td>\n",
       "      <td>64.90</td>\n",
       "      <td>159.0</td>\n",
       "      <td>2015-07-24</td>\n",
       "      <td>3</td>\n",
       "      <td>2.65</td>\n",
       "      <td>14</td>\n",
       "      <td>NaN</td>\n",
       "      <td>9</td>\n",
       "      <td>False</td>\n",
       "      <td>...</td>\n",
       "      <td>84.0</td>\n",
       "      <td>3</td>\n",
       "      <td>234.0</td>\n",
       "      <td>424.0</td>\n",
       "      <td>408.0</td>\n",
       "      <td>4</td>\n",
       "      <td>7</td>\n",
       "      <td>2015</td>\n",
       "      <td>другой</td>\n",
       "      <td>NaN</td>\n",
       "    </tr>\n",
       "    <tr>\n",
       "      <td>4</td>\n",
       "      <td>2</td>\n",
       "      <td>10.00</td>\n",
       "      <td>100.0</td>\n",
       "      <td>2018-06-19</td>\n",
       "      <td>2</td>\n",
       "      <td>3.03</td>\n",
       "      <td>14</td>\n",
       "      <td>32.0</td>\n",
       "      <td>13</td>\n",
       "      <td>False</td>\n",
       "      <td>...</td>\n",
       "      <td>112.0</td>\n",
       "      <td>1</td>\n",
       "      <td>48.0</td>\n",
       "      <td>121.0</td>\n",
       "      <td>100.0</td>\n",
       "      <td>1</td>\n",
       "      <td>6</td>\n",
       "      <td>2018</td>\n",
       "      <td>другой</td>\n",
       "      <td>0.3</td>\n",
       "    </tr>\n",
       "  </tbody>\n",
       "</table>\n",
       "<p>5 rows × 28 columns</p>\n",
       "</div>"
      ],
      "text/plain": [
       "   total_images  last_price  total_area first_day_exposition  rooms  \\\n",
       "0            20       13.00       108.0           2019-03-07      3   \n",
       "1             7        3.35        40.4           2018-12-04      1   \n",
       "2            10        5.20        56.0           2015-08-20      2   \n",
       "3             0       64.90       159.0           2015-07-24      3   \n",
       "4             2       10.00       100.0           2018-06-19      2   \n",
       "\n",
       "   ceiling_height  floors_total  living_area  floor  is_apartment  ...  \\\n",
       "0            2.70            16         51.0      8         False  ...   \n",
       "1            2.64            11         18.6      1         False  ...   \n",
       "2            2.60             5         34.3      4         False  ...   \n",
       "3            2.65            14          NaN      9         False  ...   \n",
       "4            3.03            14         32.0     13         False  ...   \n",
       "\n",
       "   parks_nearest  ponds_around3000  ponds_nearest  days_exposition  \\\n",
       "0          482.0                 2          755.0              NaN   \n",
       "1            NaN                 0            NaN             81.0   \n",
       "2           90.0                 2          574.0            558.0   \n",
       "3           84.0                 3          234.0            424.0   \n",
       "4          112.0                 1           48.0            121.0   \n",
       "\n",
       "  price_sq_meter_KRUR  weekday  month  year  floor_category  living_area_ratio  \n",
       "0               120.0        3      3  2019          другой                0.5  \n",
       "1                83.0        1     12  2018          первый                0.5  \n",
       "2                93.0        3      8  2015          другой                0.6  \n",
       "3               408.0        4      7  2015          другой                NaN  \n",
       "4               100.0        1      6  2018          другой                0.3  \n",
       "\n",
       "[5 rows x 28 columns]"
      ]
     },
     "execution_count": 20,
     "metadata": {},
     "output_type": "execute_result"
    }
   ],
   "source": [
    "data['living_area_ratio'] = (data['living_area'] / data['total_area']).round(1)\n",
    "data.head()"
   ]
  },
  {
   "cell_type": "markdown",
   "metadata": {},
   "source": [
    "### Соотношение площади кухни к общей"
   ]
  },
  {
   "cell_type": "code",
   "execution_count": 21,
   "metadata": {
    "scrolled": true
   },
   "outputs": [
    {
     "data": {
      "text/html": [
       "<div>\n",
       "<style scoped>\n",
       "    .dataframe tbody tr th:only-of-type {\n",
       "        vertical-align: middle;\n",
       "    }\n",
       "\n",
       "    .dataframe tbody tr th {\n",
       "        vertical-align: top;\n",
       "    }\n",
       "\n",
       "    .dataframe thead th {\n",
       "        text-align: right;\n",
       "    }\n",
       "</style>\n",
       "<table border=\"1\" class=\"dataframe\">\n",
       "  <thead>\n",
       "    <tr style=\"text-align: right;\">\n",
       "      <th></th>\n",
       "      <th>total_images</th>\n",
       "      <th>last_price</th>\n",
       "      <th>total_area</th>\n",
       "      <th>first_day_exposition</th>\n",
       "      <th>rooms</th>\n",
       "      <th>ceiling_height</th>\n",
       "      <th>floors_total</th>\n",
       "      <th>living_area</th>\n",
       "      <th>floor</th>\n",
       "      <th>is_apartment</th>\n",
       "      <th>...</th>\n",
       "      <th>ponds_around3000</th>\n",
       "      <th>ponds_nearest</th>\n",
       "      <th>days_exposition</th>\n",
       "      <th>price_sq_meter_KRUR</th>\n",
       "      <th>weekday</th>\n",
       "      <th>month</th>\n",
       "      <th>year</th>\n",
       "      <th>floor_category</th>\n",
       "      <th>living_area_ratio</th>\n",
       "      <th>kitchen_area_ratio</th>\n",
       "    </tr>\n",
       "  </thead>\n",
       "  <tbody>\n",
       "    <tr>\n",
       "      <td>0</td>\n",
       "      <td>20</td>\n",
       "      <td>13.00</td>\n",
       "      <td>108.0</td>\n",
       "      <td>2019-03-07</td>\n",
       "      <td>3</td>\n",
       "      <td>2.70</td>\n",
       "      <td>16</td>\n",
       "      <td>51.0</td>\n",
       "      <td>8</td>\n",
       "      <td>False</td>\n",
       "      <td>...</td>\n",
       "      <td>2</td>\n",
       "      <td>755.0</td>\n",
       "      <td>NaN</td>\n",
       "      <td>120.0</td>\n",
       "      <td>3</td>\n",
       "      <td>3</td>\n",
       "      <td>2019</td>\n",
       "      <td>другой</td>\n",
       "      <td>0.5</td>\n",
       "      <td>0.2</td>\n",
       "    </tr>\n",
       "    <tr>\n",
       "      <td>1</td>\n",
       "      <td>7</td>\n",
       "      <td>3.35</td>\n",
       "      <td>40.4</td>\n",
       "      <td>2018-12-04</td>\n",
       "      <td>1</td>\n",
       "      <td>2.64</td>\n",
       "      <td>11</td>\n",
       "      <td>18.6</td>\n",
       "      <td>1</td>\n",
       "      <td>False</td>\n",
       "      <td>...</td>\n",
       "      <td>0</td>\n",
       "      <td>NaN</td>\n",
       "      <td>81.0</td>\n",
       "      <td>83.0</td>\n",
       "      <td>1</td>\n",
       "      <td>12</td>\n",
       "      <td>2018</td>\n",
       "      <td>первый</td>\n",
       "      <td>0.5</td>\n",
       "      <td>0.3</td>\n",
       "    </tr>\n",
       "    <tr>\n",
       "      <td>2</td>\n",
       "      <td>10</td>\n",
       "      <td>5.20</td>\n",
       "      <td>56.0</td>\n",
       "      <td>2015-08-20</td>\n",
       "      <td>2</td>\n",
       "      <td>2.60</td>\n",
       "      <td>5</td>\n",
       "      <td>34.3</td>\n",
       "      <td>4</td>\n",
       "      <td>False</td>\n",
       "      <td>...</td>\n",
       "      <td>2</td>\n",
       "      <td>574.0</td>\n",
       "      <td>558.0</td>\n",
       "      <td>93.0</td>\n",
       "      <td>3</td>\n",
       "      <td>8</td>\n",
       "      <td>2015</td>\n",
       "      <td>другой</td>\n",
       "      <td>0.6</td>\n",
       "      <td>0.1</td>\n",
       "    </tr>\n",
       "    <tr>\n",
       "      <td>3</td>\n",
       "      <td>0</td>\n",
       "      <td>64.90</td>\n",
       "      <td>159.0</td>\n",
       "      <td>2015-07-24</td>\n",
       "      <td>3</td>\n",
       "      <td>2.65</td>\n",
       "      <td>14</td>\n",
       "      <td>NaN</td>\n",
       "      <td>9</td>\n",
       "      <td>False</td>\n",
       "      <td>...</td>\n",
       "      <td>3</td>\n",
       "      <td>234.0</td>\n",
       "      <td>424.0</td>\n",
       "      <td>408.0</td>\n",
       "      <td>4</td>\n",
       "      <td>7</td>\n",
       "      <td>2015</td>\n",
       "      <td>другой</td>\n",
       "      <td>NaN</td>\n",
       "      <td>NaN</td>\n",
       "    </tr>\n",
       "    <tr>\n",
       "      <td>4</td>\n",
       "      <td>2</td>\n",
       "      <td>10.00</td>\n",
       "      <td>100.0</td>\n",
       "      <td>2018-06-19</td>\n",
       "      <td>2</td>\n",
       "      <td>3.03</td>\n",
       "      <td>14</td>\n",
       "      <td>32.0</td>\n",
       "      <td>13</td>\n",
       "      <td>False</td>\n",
       "      <td>...</td>\n",
       "      <td>1</td>\n",
       "      <td>48.0</td>\n",
       "      <td>121.0</td>\n",
       "      <td>100.0</td>\n",
       "      <td>1</td>\n",
       "      <td>6</td>\n",
       "      <td>2018</td>\n",
       "      <td>другой</td>\n",
       "      <td>0.3</td>\n",
       "      <td>0.4</td>\n",
       "    </tr>\n",
       "  </tbody>\n",
       "</table>\n",
       "<p>5 rows × 29 columns</p>\n",
       "</div>"
      ],
      "text/plain": [
       "   total_images  last_price  total_area first_day_exposition  rooms  \\\n",
       "0            20       13.00       108.0           2019-03-07      3   \n",
       "1             7        3.35        40.4           2018-12-04      1   \n",
       "2            10        5.20        56.0           2015-08-20      2   \n",
       "3             0       64.90       159.0           2015-07-24      3   \n",
       "4             2       10.00       100.0           2018-06-19      2   \n",
       "\n",
       "   ceiling_height  floors_total  living_area  floor  is_apartment  ...  \\\n",
       "0            2.70            16         51.0      8         False  ...   \n",
       "1            2.64            11         18.6      1         False  ...   \n",
       "2            2.60             5         34.3      4         False  ...   \n",
       "3            2.65            14          NaN      9         False  ...   \n",
       "4            3.03            14         32.0     13         False  ...   \n",
       "\n",
       "   ponds_around3000  ponds_nearest  days_exposition  price_sq_meter_KRUR  \\\n",
       "0                 2          755.0              NaN                120.0   \n",
       "1                 0            NaN             81.0                 83.0   \n",
       "2                 2          574.0            558.0                 93.0   \n",
       "3                 3          234.0            424.0                408.0   \n",
       "4                 1           48.0            121.0                100.0   \n",
       "\n",
       "  weekday  month  year  floor_category  living_area_ratio  kitchen_area_ratio  \n",
       "0       3      3  2019          другой                0.5                 0.2  \n",
       "1       1     12  2018          первый                0.5                 0.3  \n",
       "2       3      8  2015          другой                0.6                 0.1  \n",
       "3       4      7  2015          другой                NaN                 NaN  \n",
       "4       1      6  2018          другой                0.3                 0.4  \n",
       "\n",
       "[5 rows x 29 columns]"
      ]
     },
     "execution_count": 21,
     "metadata": {},
     "output_type": "execute_result"
    }
   ],
   "source": [
    "data['kitchen_area_ratio'] = (data['kitchen_area'] / data['total_area']).round(1)\n",
    "data.head()"
   ]
  },
  {
   "cell_type": "markdown",
   "metadata": {},
   "source": [
    "### Вывод"
   ]
  },
  {
   "cell_type": "markdown",
   "metadata": {},
   "source": [
    "В ходе этапа таблица была дополнена следующими данными:\n",
    "- цена за 1 кв.м в столбце `price_sq_meter_KRUR`\n",
    "- датой публикации объявлений в столбцах: `день недели (weekday)`, `месяц (month)` и `год (year)`\n",
    "- соотношением жилой площади к общей - столбец `living_area_ratio`\n",
    "- соотношением площади кухни к общей - столбец `kitchen_area_ratio`"
   ]
  },
  {
   "cell_type": "markdown",
   "metadata": {},
   "source": [
    "## Исследовательский анализ данных"
   ]
  },
  {
   "cell_type": "markdown",
   "metadata": {},
   "source": [
    "### Анализ объявлений по параметрам"
   ]
  },
  {
   "cell_type": "markdown",
   "metadata": {},
   "source": [
    "#### Анализ по площади квартиры"
   ]
  },
  {
   "cell_type": "code",
   "execution_count": 22,
   "metadata": {},
   "outputs": [
    {
     "data": {
      "text/plain": [
       "count    23453.000000\n",
       "mean        60.589877\n",
       "std         35.618736\n",
       "min         12.000000\n",
       "25%         40.110000\n",
       "50%         52.000000\n",
       "75%         70.000000\n",
       "max        900.000000\n",
       "Name: total_area, dtype: float64"
      ]
     },
     "execution_count": 22,
     "metadata": {},
     "output_type": "execute_result"
    }
   ],
   "source": [
    "# рассмотрим статистические данные\n",
    "data['total_area'].describe()"
   ]
  },
  {
   "cell_type": "code",
   "execution_count": 23,
   "metadata": {
    "scrolled": true
   },
   "outputs": [
    {
     "data": {
      "image/png": "[encoded data removed]",
      "text/plain": [
       "<Figure size 360x360 with 1 Axes>"
      ]
     },
     "metadata": {
      "needs_background": "light"
     },
     "output_type": "display_data"
    }
   ],
   "source": [
    "data.plot(y = 'total_area', kind = 'hist', bins = 30, grid=True, figsize = (5,5), range = (0,400));"
   ]
  },
  {
   "cell_type": "markdown",
   "metadata": {},
   "source": [
    "**Вывод:** распределение по площади нормальное. В данных существуют выбросы в виде больших площадей квартир, но их мало - можно будет отбросить"
   ]
  },
  {
   "cell_type": "markdown",
   "metadata": {},
   "source": [
    "#### Анализ по цене квартиры"
   ]
  },
  {
   "cell_type": "code",
   "execution_count": 24,
   "metadata": {},
   "outputs": [
    {
     "data": {
      "text/plain": [
       "count    23453.0\n",
       "mean         6.6\n",
       "std         10.9\n",
       "min          0.0\n",
       "25%          3.4\n",
       "50%          4.6\n",
       "75%          6.8\n",
       "max        763.0\n",
       "Name: last_price, dtype: float64"
      ]
     },
     "execution_count": 24,
     "metadata": {},
     "output_type": "execute_result"
    }
   ],
   "source": [
    "# для построения гистограммы посмотрим на статистические данные\n",
    "(data['last_price']).describe().round(1)"
   ]
  },
  {
   "cell_type": "code",
   "execution_count": 25,
   "metadata": {
    "scrolled": true
   },
   "outputs": [
    {
     "data": {
      "image/png": "[encoded data removed]",
      "text/plain": [
       "<Figure size 360x360 with 1 Axes>"
      ]
     },
     "metadata": {
      "needs_background": "light"
     },
     "output_type": "display_data"
    }
   ],
   "source": [
    "data.plot(y = 'last_price', kind = 'hist', bins = 50, grid=True, figsize = (5,5), range = (0,20));"
   ]
  },
  {
   "cell_type": "code",
   "execution_count": 26,
   "metadata": {
    "scrolled": false
   },
   "outputs": [
    {
     "data": {
      "image/png": "[encoded data removed]",
      "text/plain": [
       "<Figure size 360x360 with 1 Axes>"
      ]
     },
     "metadata": {
      "needs_background": "light"
     },
     "output_type": "display_data"
    }
   ],
   "source": [
    "data.plot(y = 'price_sq_meter_KRUR', kind = 'hist', bins = 50, grid=True, figsize = (5,5), range = (0,600));"
   ]
  },
  {
   "cell_type": "code",
   "execution_count": 27,
   "metadata": {},
   "outputs": [
    {
     "data": {
      "text/plain": [
       "(0, 200)"
      ]
     },
     "execution_count": 27,
     "metadata": {},
     "output_type": "execute_result"
    },
    {
     "data": {
      "image/png": "[encoded data removed]",
      "text/plain": [
       "<Figure size 432x288 with 1 Axes>"
      ]
     },
     "metadata": {
      "needs_background": "light"
     },
     "output_type": "display_data"
    }
   ],
   "source": [
    "plt.boxplot(data[data['price_sq_meter_KRUR']!=0]['price_sq_meter_KRUR'])\n",
    "plt.ylim(0,200)"
   ]
  },
  {
   "cell_type": "markdown",
   "metadata": {},
   "source": [
    "**Вывод:** с распределением по цене все впорядке, однако, в распределении по цене за 1 кв.м. есть выплески данных с ценами до 25 тыс.руб и выше 175 тыс.руб"
   ]
  },
  {
   "cell_type": "markdown",
   "metadata": {},
   "source": [
    "#### Анализ по числу комнат"
   ]
  },
  {
   "cell_type": "code",
   "execution_count": 28,
   "metadata": {},
   "outputs": [
    {
     "data": {
      "text/plain": [
       "count    23453.000000\n",
       "mean         2.087494\n",
       "std          1.066253\n",
       "min          1.000000\n",
       "25%          1.000000\n",
       "50%          2.000000\n",
       "75%          3.000000\n",
       "max         19.000000\n",
       "Name: rooms, dtype: float64"
      ]
     },
     "execution_count": 28,
     "metadata": {},
     "output_type": "execute_result"
    }
   ],
   "source": [
    "data['rooms'].describe()"
   ]
  },
  {
   "cell_type": "code",
   "execution_count": 29,
   "metadata": {
    "scrolled": true
   },
   "outputs": [
    {
     "data": {
      "image/png": "[encoded data removed]",
      "text/plain": [
       "<Figure size 360x360 with 1 Axes>"
      ]
     },
     "metadata": {
      "needs_background": "light"
     },
     "output_type": "display_data"
    }
   ],
   "source": [
    "data.plot(y = 'rooms', kind = 'hist', \n",
    "          bins = data['rooms'].max(), grid=True, figsize = (5,5));"
   ]
  },
  {
   "cell_type": "markdown",
   "metadata": {},
   "source": [
    "**Вывод** наибольшее количество объявлений с продажей 1 и 2хкомнатных квартир"
   ]
  },
  {
   "cell_type": "markdown",
   "metadata": {},
   "source": [
    "#### Анализ высоты потолков"
   ]
  },
  {
   "cell_type": "code",
   "execution_count": 30,
   "metadata": {
    "scrolled": true
   },
   "outputs": [
    {
     "data": {
      "text/plain": [
       "count    23452.000000\n",
       "mean         2.721033\n",
       "std          0.981832\n",
       "min          1.000000\n",
       "25%          2.600000\n",
       "50%          2.640000\n",
       "75%          2.700000\n",
       "max        100.000000\n",
       "Name: ceiling_height, dtype: float64"
      ]
     },
     "execution_count": 30,
     "metadata": {},
     "output_type": "execute_result"
    }
   ],
   "source": [
    "data['ceiling_height'].describe()"
   ]
  },
  {
   "cell_type": "code",
   "execution_count": 31,
   "metadata": {
    "scrolled": true
   },
   "outputs": [
    {
     "data": {
      "image/png": "[encoded data removed]",
      "text/plain": [
       "<Figure size 360x360 with 1 Axes>"
      ]
     },
     "metadata": {
      "needs_background": "light"
     },
     "output_type": "display_data"
    }
   ],
   "source": [
    "data.plot(y = 'ceiling_height', kind = 'hist', \n",
    "          bins = 30, range = (1,5), grid=True, figsize = (5,5));"
   ]
  },
  {
   "cell_type": "markdown",
   "metadata": {},
   "source": [
    "**Вывод** объявления с нереальными данными (менее 2,5 и более 3,5 незначительны и их можно будет удалить)"
   ]
  },
  {
   "cell_type": "markdown",
   "metadata": {},
   "source": [
    "**Общий вывод анализа** показывает, что наиболее популярная квартира в объявлениях имеет следующие характеристики по рассмотренным параметрам:\n",
    "* 2х комнатная квартира, площадью 52 кв.м с высотой потолков 2,64 м и стоимостью 4,6 млн.руб"
   ]
  },
  {
   "cell_type": "markdown",
   "metadata": {},
   "source": [
    "### Анализ времени продаж квартир"
   ]
  },
  {
   "cell_type": "code",
   "execution_count": 32,
   "metadata": {
    "scrolled": true
   },
   "outputs": [
    {
     "data": {
      "text/plain": [
       "count    20287.000000\n",
       "mean       181.398827\n",
       "std        220.147815\n",
       "min          1.000000\n",
       "25%         45.000000\n",
       "50%         96.000000\n",
       "75%        232.000000\n",
       "max       1580.000000\n",
       "Name: days_exposition, dtype: float64"
      ]
     },
     "execution_count": 32,
     "metadata": {},
     "output_type": "execute_result"
    }
   ],
   "source": [
    "data['days_exposition'].describe()"
   ]
  },
  {
   "cell_type": "code",
   "execution_count": 33,
   "metadata": {
    "scrolled": false
   },
   "outputs": [
    {
     "data": {
      "image/png": "[encoded data removed]",
      "text/plain": [
       "<Figure size 360x360 with 1 Axes>"
      ]
     },
     "metadata": {
      "needs_background": "light"
     },
     "output_type": "display_data"
    }
   ],
   "source": [
    "data.plot(y = 'days_exposition', kind = 'hist', \n",
    "          bins = 30, range = (0,1600), grid=True, figsize = (5,5))\n",
    "plt.xlabel('Срок объявления, дней')\n",
    "_ = plt.ylabel('Частота')"
   ]
  },
  {
   "cell_type": "code",
   "execution_count": 34,
   "metadata": {},
   "outputs": [
    {
     "name": "stdout",
     "output_type": "stream",
     "text": [
      "Медиана по срокам продаж квартир =  96.0 дня или 3.2 месяца\n",
      "Среднее значение по срокам продаж квартир =  181.0 дня или 6.0 месяца\n"
     ]
    }
   ],
   "source": [
    "# расчитаем медиану и среднее сзначение по сроку продаж квартир\n",
    "print('Медиана по срокам продаж квартир = ', data['days_exposition'].median().round(0), 'дня', 'или', (data['days_exposition'].median()/ 30).round(1), 'месяца')\n",
    "print('Среднее значение по срокам продаж квартир = ', data['days_exposition'].mean().round(0), 'дня', 'или', (data['days_exposition'].mean()/ 30).round(1), 'месяца')\n"
   ]
  },
  {
   "cell_type": "code",
   "execution_count": 35,
   "metadata": {
    "scrolled": false
   },
   "outputs": [
    {
     "data": {
      "text/html": [
       "<div>\n",
       "<style scoped>\n",
       "    .dataframe tbody tr th:only-of-type {\n",
       "        vertical-align: middle;\n",
       "    }\n",
       "\n",
       "    .dataframe tbody tr th {\n",
       "        vertical-align: top;\n",
       "    }\n",
       "\n",
       "    .dataframe thead th {\n",
       "        text-align: right;\n",
       "    }\n",
       "</style>\n",
       "<table border=\"1\" class=\"dataframe\">\n",
       "  <thead>\n",
       "    <tr style=\"text-align: right;\">\n",
       "      <th></th>\n",
       "      <th>mean</th>\n",
       "      <th>median</th>\n",
       "      <th>count</th>\n",
       "    </tr>\n",
       "    <tr>\n",
       "      <th>rooms</th>\n",
       "      <th></th>\n",
       "      <th></th>\n",
       "      <th></th>\n",
       "    </tr>\n",
       "  </thead>\n",
       "  <tbody>\n",
       "    <tr>\n",
       "      <td>16</td>\n",
       "      <td>1365.000000</td>\n",
       "      <td>1365.0</td>\n",
       "      <td>1</td>\n",
       "    </tr>\n",
       "    <tr>\n",
       "      <td>11</td>\n",
       "      <td>813.000000</td>\n",
       "      <td>813.0</td>\n",
       "      <td>1</td>\n",
       "    </tr>\n",
       "    <tr>\n",
       "      <td>9</td>\n",
       "      <td>463.500000</td>\n",
       "      <td>469.5</td>\n",
       "      <td>4</td>\n",
       "    </tr>\n",
       "    <tr>\n",
       "      <td>8</td>\n",
       "      <td>391.090909</td>\n",
       "      <td>249.0</td>\n",
       "      <td>11</td>\n",
       "    </tr>\n",
       "    <tr>\n",
       "      <td>5</td>\n",
       "      <td>306.269841</td>\n",
       "      <td>185.5</td>\n",
       "      <td>252</td>\n",
       "    </tr>\n",
       "    <tr>\n",
       "      <td>6</td>\n",
       "      <td>277.789474</td>\n",
       "      <td>201.5</td>\n",
       "      <td>76</td>\n",
       "    </tr>\n",
       "    <tr>\n",
       "      <td>14</td>\n",
       "      <td>256.500000</td>\n",
       "      <td>256.5</td>\n",
       "      <td>2</td>\n",
       "    </tr>\n",
       "    <tr>\n",
       "      <td>4</td>\n",
       "      <td>253.551282</td>\n",
       "      <td>155.5</td>\n",
       "      <td>936</td>\n",
       "    </tr>\n",
       "    <tr>\n",
       "      <td>3</td>\n",
       "      <td>204.046846</td>\n",
       "      <td>114.0</td>\n",
       "      <td>4803</td>\n",
       "    </tr>\n",
       "    <tr>\n",
       "      <td>7</td>\n",
       "      <td>197.945946</td>\n",
       "      <td>138.0</td>\n",
       "      <td>37</td>\n",
       "    </tr>\n",
       "    <tr>\n",
       "      <td>2</td>\n",
       "      <td>173.123822</td>\n",
       "      <td>91.0</td>\n",
       "      <td>6897</td>\n",
       "    </tr>\n",
       "    <tr>\n",
       "      <td>1</td>\n",
       "      <td>158.889700</td>\n",
       "      <td>81.0</td>\n",
       "      <td>7262</td>\n",
       "    </tr>\n",
       "    <tr>\n",
       "      <td>19</td>\n",
       "      <td>114.000000</td>\n",
       "      <td>114.0</td>\n",
       "      <td>1</td>\n",
       "    </tr>\n",
       "    <tr>\n",
       "      <td>12</td>\n",
       "      <td>106.000000</td>\n",
       "      <td>106.0</td>\n",
       "      <td>1</td>\n",
       "    </tr>\n",
       "    <tr>\n",
       "      <td>10</td>\n",
       "      <td>44.000000</td>\n",
       "      <td>44.0</td>\n",
       "      <td>2</td>\n",
       "    </tr>\n",
       "    <tr>\n",
       "      <td>15</td>\n",
       "      <td>14.000000</td>\n",
       "      <td>14.0</td>\n",
       "      <td>1</td>\n",
       "    </tr>\n",
       "  </tbody>\n",
       "</table>\n",
       "</div>"
      ],
      "text/plain": [
       "              mean  median  count\n",
       "rooms                            \n",
       "16     1365.000000  1365.0      1\n",
       "11      813.000000   813.0      1\n",
       "9       463.500000   469.5      4\n",
       "8       391.090909   249.0     11\n",
       "5       306.269841   185.5    252\n",
       "6       277.789474   201.5     76\n",
       "14      256.500000   256.5      2\n",
       "4       253.551282   155.5    936\n",
       "3       204.046846   114.0   4803\n",
       "7       197.945946   138.0     37\n",
       "2       173.123822    91.0   6897\n",
       "1       158.889700    81.0   7262\n",
       "19      114.000000   114.0      1\n",
       "12      106.000000   106.0      1\n",
       "10       44.000000    44.0      2\n",
       "15       14.000000    14.0      1"
      ]
     },
     "execution_count": 35,
     "metadata": {},
     "output_type": "execute_result"
    }
   ],
   "source": [
    "# сгруппируем данные с помощью сводной таблицы\n",
    "median_days_exposition = data.pivot_table(index = 'rooms', values = 'days_exposition', aggfunc = ['mean', 'median', 'count'])\n",
    "median_days_exposition.columns = ['mean', 'median', 'count']\n",
    "median_days_exposition.sort_values('mean', ascending=False)\n"
   ]
  },
  {
   "cell_type": "code",
   "execution_count": 36,
   "metadata": {},
   "outputs": [
    {
     "data": {
      "text/plain": [
       "(-10, 600)"
      ]
     },
     "execution_count": 36,
     "metadata": {},
     "output_type": "execute_result"
    },
    {
     "data": {
      "image/png": "[encoded data removed]",
      "text/plain": [
       "<Figure size 432x288 with 1 Axes>"
      ]
     },
     "metadata": {
      "needs_background": "light"
     },
     "output_type": "display_data"
    }
   ],
   "source": [
    "# для определения слишком долгих и слишком быстрых продаж построим диаграмму размаха\n",
    "plt.boxplot(data[data['days_exposition'] > 0]['days_exposition'])\n",
    "plt.ylim(-10,600)"
   ]
  },
  {
   "cell_type": "markdown",
   "metadata": {},
   "source": [
    "**Вывод**\n",
    "1. гистограмма зависимости времени продаж квартир от их количества представляет собой распределение Пуассона, на которой есть слишком быстрые продажи (менее 14 дней) и слишком длительные (до 1580 дней)\n",
    "2. среднее арефметическое значение продаж квартир в два раза больше их медианы, что говорит о выплесках данных, которое видем на гистограммах\n",
    "3. согласно гистограмме размаха к выбросам можно отнести объявления с очень длительным сроком продаж - более 500 дней (или более 16,7 мес.)"
   ]
  },
  {
   "cell_type": "markdown",
   "metadata": {},
   "source": [
    "### Исключение редких и выбивающихся значений"
   ]
  },
  {
   "cell_type": "code",
   "execution_count": 37,
   "metadata": {},
   "outputs": [
    {
     "data": {
      "text/html": [
       "<div>\n",
       "<style scoped>\n",
       "    .dataframe tbody tr th:only-of-type {\n",
       "        vertical-align: middle;\n",
       "    }\n",
       "\n",
       "    .dataframe tbody tr th {\n",
       "        vertical-align: top;\n",
       "    }\n",
       "\n",
       "    .dataframe thead th {\n",
       "        text-align: right;\n",
       "    }\n",
       "</style>\n",
       "<table border=\"1\" class=\"dataframe\">\n",
       "  <thead>\n",
       "    <tr style=\"text-align: right;\">\n",
       "      <th></th>\n",
       "      <th>total_images</th>\n",
       "      <th>last_price</th>\n",
       "      <th>total_area</th>\n",
       "      <th>rooms</th>\n",
       "      <th>ceiling_height</th>\n",
       "      <th>floors_total</th>\n",
       "      <th>living_area</th>\n",
       "      <th>floor</th>\n",
       "      <th>kitchen_area</th>\n",
       "      <th>balcony</th>\n",
       "      <th>...</th>\n",
       "      <th>parks_nearest</th>\n",
       "      <th>ponds_around3000</th>\n",
       "      <th>ponds_nearest</th>\n",
       "      <th>days_exposition</th>\n",
       "      <th>price_sq_meter_KRUR</th>\n",
       "      <th>weekday</th>\n",
       "      <th>month</th>\n",
       "      <th>year</th>\n",
       "      <th>living_area_ratio</th>\n",
       "      <th>kitchen_area_ratio</th>\n",
       "    </tr>\n",
       "  </thead>\n",
       "  <tbody>\n",
       "    <tr>\n",
       "      <td>count</td>\n",
       "      <td>23453.000000</td>\n",
       "      <td>23453.000000</td>\n",
       "      <td>23453.000000</td>\n",
       "      <td>23453.000000</td>\n",
       "      <td>23452.000000</td>\n",
       "      <td>23453.000000</td>\n",
       "      <td>21569.000000</td>\n",
       "      <td>23453.000000</td>\n",
       "      <td>21381.000000</td>\n",
       "      <td>23453.000000</td>\n",
       "      <td>...</td>\n",
       "      <td>8035.000000</td>\n",
       "      <td>23453.000000</td>\n",
       "      <td>9016.000000</td>\n",
       "      <td>20287.000000</td>\n",
       "      <td>23453.000000</td>\n",
       "      <td>23453.000000</td>\n",
       "      <td>23453.000000</td>\n",
       "      <td>23453.000000</td>\n",
       "      <td>21569.000000</td>\n",
       "      <td>21381.000000</td>\n",
       "    </tr>\n",
       "    <tr>\n",
       "      <td>mean</td>\n",
       "      <td>9.879845</td>\n",
       "      <td>6.568082</td>\n",
       "      <td>60.589877</td>\n",
       "      <td>2.087494</td>\n",
       "      <td>2.721033</td>\n",
       "      <td>10.587089</td>\n",
       "      <td>34.580569</td>\n",
       "      <td>5.870720</td>\n",
       "      <td>10.566403</td>\n",
       "      <td>0.588198</td>\n",
       "      <td>...</td>\n",
       "      <td>490.455258</td>\n",
       "      <td>0.591182</td>\n",
       "      <td>517.998780</td>\n",
       "      <td>181.398827</td>\n",
       "      <td>99.357694</td>\n",
       "      <td>2.567475</td>\n",
       "      <td>6.395514</td>\n",
       "      <td>2017.368951</td>\n",
       "      <td>0.563369</td>\n",
       "      <td>0.186914</td>\n",
       "    </tr>\n",
       "    <tr>\n",
       "      <td>std</td>\n",
       "      <td>5.683931</td>\n",
       "      <td>10.928363</td>\n",
       "      <td>35.618736</td>\n",
       "      <td>1.066253</td>\n",
       "      <td>0.981832</td>\n",
       "      <td>6.585979</td>\n",
       "      <td>22.075768</td>\n",
       "      <td>4.863671</td>\n",
       "      <td>5.901753</td>\n",
       "      <td>0.959188</td>\n",
       "      <td>...</td>\n",
       "      <td>342.648915</td>\n",
       "      <td>0.884279</td>\n",
       "      <td>277.878988</td>\n",
       "      <td>220.147815</td>\n",
       "      <td>50.480644</td>\n",
       "      <td>1.789832</td>\n",
       "      <td>3.490522</td>\n",
       "      <td>1.039852</td>\n",
       "      <td>0.108919</td>\n",
       "      <td>0.081462</td>\n",
       "    </tr>\n",
       "    <tr>\n",
       "      <td>min</td>\n",
       "      <td>0.000000</td>\n",
       "      <td>0.010000</td>\n",
       "      <td>12.000000</td>\n",
       "      <td>1.000000</td>\n",
       "      <td>1.000000</td>\n",
       "      <td>0.000000</td>\n",
       "      <td>2.000000</td>\n",
       "      <td>1.000000</td>\n",
       "      <td>1.300000</td>\n",
       "      <td>0.000000</td>\n",
       "      <td>...</td>\n",
       "      <td>1.000000</td>\n",
       "      <td>0.000000</td>\n",
       "      <td>13.000000</td>\n",
       "      <td>1.000000</td>\n",
       "      <td>0.000000</td>\n",
       "      <td>0.000000</td>\n",
       "      <td>1.000000</td>\n",
       "      <td>2014.000000</td>\n",
       "      <td>0.000000</td>\n",
       "      <td>0.000000</td>\n",
       "    </tr>\n",
       "    <tr>\n",
       "      <td>25%</td>\n",
       "      <td>6.000000</td>\n",
       "      <td>3.450000</td>\n",
       "      <td>40.110000</td>\n",
       "      <td>1.000000</td>\n",
       "      <td>2.600000</td>\n",
       "      <td>5.000000</td>\n",
       "      <td>18.700000</td>\n",
       "      <td>2.000000</td>\n",
       "      <td>7.000000</td>\n",
       "      <td>0.000000</td>\n",
       "      <td>...</td>\n",
       "      <td>287.000000</td>\n",
       "      <td>0.000000</td>\n",
       "      <td>293.000000</td>\n",
       "      <td>45.000000</td>\n",
       "      <td>76.000000</td>\n",
       "      <td>1.000000</td>\n",
       "      <td>3.000000</td>\n",
       "      <td>2017.000000</td>\n",
       "      <td>0.500000</td>\n",
       "      <td>0.100000</td>\n",
       "    </tr>\n",
       "    <tr>\n",
       "      <td>50%</td>\n",
       "      <td>9.000000</td>\n",
       "      <td>4.650000</td>\n",
       "      <td>52.000000</td>\n",
       "      <td>2.000000</td>\n",
       "      <td>2.640000</td>\n",
       "      <td>9.000000</td>\n",
       "      <td>30.000000</td>\n",
       "      <td>4.000000</td>\n",
       "      <td>9.100000</td>\n",
       "      <td>0.000000</td>\n",
       "      <td>...</td>\n",
       "      <td>453.000000</td>\n",
       "      <td>0.000000</td>\n",
       "      <td>502.000000</td>\n",
       "      <td>96.000000</td>\n",
       "      <td>95.000000</td>\n",
       "      <td>3.000000</td>\n",
       "      <td>6.000000</td>\n",
       "      <td>2017.000000</td>\n",
       "      <td>0.600000</td>\n",
       "      <td>0.200000</td>\n",
       "    </tr>\n",
       "    <tr>\n",
       "      <td>75%</td>\n",
       "      <td>14.000000</td>\n",
       "      <td>6.800000</td>\n",
       "      <td>70.000000</td>\n",
       "      <td>3.000000</td>\n",
       "      <td>2.700000</td>\n",
       "      <td>16.000000</td>\n",
       "      <td>42.430000</td>\n",
       "      <td>8.000000</td>\n",
       "      <td>12.000000</td>\n",
       "      <td>1.000000</td>\n",
       "      <td>...</td>\n",
       "      <td>612.000000</td>\n",
       "      <td>1.000000</td>\n",
       "      <td>730.000000</td>\n",
       "      <td>232.000000</td>\n",
       "      <td>114.000000</td>\n",
       "      <td>4.000000</td>\n",
       "      <td>10.000000</td>\n",
       "      <td>2018.000000</td>\n",
       "      <td>0.600000</td>\n",
       "      <td>0.200000</td>\n",
       "    </tr>\n",
       "    <tr>\n",
       "      <td>max</td>\n",
       "      <td>50.000000</td>\n",
       "      <td>763.000000</td>\n",
       "      <td>900.000000</td>\n",
       "      <td>19.000000</td>\n",
       "      <td>100.000000</td>\n",
       "      <td>60.000000</td>\n",
       "      <td>409.700000</td>\n",
       "      <td>33.000000</td>\n",
       "      <td>112.000000</td>\n",
       "      <td>5.000000</td>\n",
       "      <td>...</td>\n",
       "      <td>3190.000000</td>\n",
       "      <td>3.000000</td>\n",
       "      <td>1344.000000</td>\n",
       "      <td>1580.000000</td>\n",
       "      <td>1908.000000</td>\n",
       "      <td>6.000000</td>\n",
       "      <td>12.000000</td>\n",
       "      <td>2019.000000</td>\n",
       "      <td>1.000000</td>\n",
       "      <td>0.800000</td>\n",
       "    </tr>\n",
       "  </tbody>\n",
       "</table>\n",
       "<p>8 rows × 23 columns</p>\n",
       "</div>"
      ],
      "text/plain": [
       "       total_images    last_price    total_area         rooms  ceiling_height  \\\n",
       "count  23453.000000  23453.000000  23453.000000  23453.000000    23452.000000   \n",
       "mean       9.879845      6.568082     60.589877      2.087494        2.721033   \n",
       "std        5.683931     10.928363     35.618736      1.066253        0.981832   \n",
       "min        0.000000      0.010000     12.000000      1.000000        1.000000   \n",
       "25%        6.000000      3.450000     40.110000      1.000000        2.600000   \n",
       "50%        9.000000      4.650000     52.000000      2.000000        2.640000   \n",
       "75%       14.000000      6.800000     70.000000      3.000000        2.700000   \n",
       "max       50.000000    763.000000    900.000000     19.000000      100.000000   \n",
       "\n",
       "       floors_total   living_area         floor  kitchen_area       balcony  \\\n",
       "count  23453.000000  21569.000000  23453.000000  21381.000000  23453.000000   \n",
       "mean      10.587089     34.580569      5.870720     10.566403      0.588198   \n",
       "std        6.585979     22.075768      4.863671      5.901753      0.959188   \n",
       "min        0.000000      2.000000      1.000000      1.300000      0.000000   \n",
       "25%        5.000000     18.700000      2.000000      7.000000      0.000000   \n",
       "50%        9.000000     30.000000      4.000000      9.100000      0.000000   \n",
       "75%       16.000000     42.430000      8.000000     12.000000      1.000000   \n",
       "max       60.000000    409.700000     33.000000    112.000000      5.000000   \n",
       "\n",
       "       ...  parks_nearest  ponds_around3000  ponds_nearest  days_exposition  \\\n",
       "count  ...    8035.000000      23453.000000    9016.000000     20287.000000   \n",
       "mean   ...     490.455258          0.591182     517.998780       181.398827   \n",
       "std    ...     342.648915          0.884279     277.878988       220.147815   \n",
       "min    ...       1.000000          0.000000      13.000000         1.000000   \n",
       "25%    ...     287.000000          0.000000     293.000000        45.000000   \n",
       "50%    ...     453.000000          0.000000     502.000000        96.000000   \n",
       "75%    ...     612.000000          1.000000     730.000000       232.000000   \n",
       "max    ...    3190.000000          3.000000    1344.000000      1580.000000   \n",
       "\n",
       "       price_sq_meter_KRUR       weekday         month          year  \\\n",
       "count         23453.000000  23453.000000  23453.000000  23453.000000   \n",
       "mean             99.357694      2.567475      6.395514   2017.368951   \n",
       "std              50.480644      1.789832      3.490522      1.039852   \n",
       "min               0.000000      0.000000      1.000000   2014.000000   \n",
       "25%              76.000000      1.000000      3.000000   2017.000000   \n",
       "50%              95.000000      3.000000      6.000000   2017.000000   \n",
       "75%             114.000000      4.000000     10.000000   2018.000000   \n",
       "max            1908.000000      6.000000     12.000000   2019.000000   \n",
       "\n",
       "       living_area_ratio  kitchen_area_ratio  \n",
       "count       21569.000000        21381.000000  \n",
       "mean            0.563369            0.186914  \n",
       "std             0.108919            0.081462  \n",
       "min             0.000000            0.000000  \n",
       "25%             0.500000            0.100000  \n",
       "50%             0.600000            0.200000  \n",
       "75%             0.600000            0.200000  \n",
       "max             1.000000            0.800000  \n",
       "\n",
       "[8 rows x 23 columns]"
      ]
     },
     "execution_count": 37,
     "metadata": {},
     "output_type": "execute_result"
    }
   ],
   "source": [
    "# еще раз посмотрим на данные\n",
    "data.describe()"
   ]
  },
  {
   "cell_type": "markdown",
   "metadata": {},
   "source": [
    "можно выделить следующие выбивающиеся значения:\n",
    "- максимальная площадь квартиры - 900 кв.м (слишком большая и не может быть отнесена к квартире)\n",
    "- высота потолков в 100м (max) и 1м(min) - нереальное значение\n",
    "- слишком долгие продажи - более 500 дней\n",
    "- нереальные цены продаж - ниже 25 и выше 175 тыс.руб за 1 кв.м"
   ]
  },
  {
   "cell_type": "code",
   "execution_count": 38,
   "metadata": {
    "scrolled": true
   },
   "outputs": [
    {
     "data": {
      "text/html": [
       "<div>\n",
       "<style scoped>\n",
       "    .dataframe tbody tr th:only-of-type {\n",
       "        vertical-align: middle;\n",
       "    }\n",
       "\n",
       "    .dataframe tbody tr th {\n",
       "        vertical-align: top;\n",
       "    }\n",
       "\n",
       "    .dataframe thead th {\n",
       "        text-align: right;\n",
       "    }\n",
       "</style>\n",
       "<table border=\"1\" class=\"dataframe\">\n",
       "  <thead>\n",
       "    <tr style=\"text-align: right;\">\n",
       "      <th></th>\n",
       "      <th>total_images</th>\n",
       "      <th>last_price</th>\n",
       "      <th>total_area</th>\n",
       "      <th>rooms</th>\n",
       "      <th>ceiling_height</th>\n",
       "      <th>floors_total</th>\n",
       "      <th>living_area</th>\n",
       "      <th>floor</th>\n",
       "      <th>kitchen_area</th>\n",
       "      <th>balcony</th>\n",
       "      <th>...</th>\n",
       "      <th>parks_nearest</th>\n",
       "      <th>ponds_around3000</th>\n",
       "      <th>ponds_nearest</th>\n",
       "      <th>days_exposition</th>\n",
       "      <th>price_sq_meter_KRUR</th>\n",
       "      <th>weekday</th>\n",
       "      <th>month</th>\n",
       "      <th>year</th>\n",
       "      <th>living_area_ratio</th>\n",
       "      <th>kitchen_area_ratio</th>\n",
       "    </tr>\n",
       "  </thead>\n",
       "  <tbody>\n",
       "    <tr>\n",
       "      <td>count</td>\n",
       "      <td>17605.000000</td>\n",
       "      <td>17605.000000</td>\n",
       "      <td>17605.000000</td>\n",
       "      <td>17605.000000</td>\n",
       "      <td>17605.000000</td>\n",
       "      <td>17605.000000</td>\n",
       "      <td>16130.000000</td>\n",
       "      <td>17605.000000</td>\n",
       "      <td>15964.000000</td>\n",
       "      <td>17605.000000</td>\n",
       "      <td>...</td>\n",
       "      <td>5725.000000</td>\n",
       "      <td>17605.000000</td>\n",
       "      <td>6559.000000</td>\n",
       "      <td>17605.000000</td>\n",
       "      <td>17605.000000</td>\n",
       "      <td>17605.000000</td>\n",
       "      <td>17605.000000</td>\n",
       "      <td>17605.000000</td>\n",
       "      <td>16130.000000</td>\n",
       "      <td>15964.000000</td>\n",
       "    </tr>\n",
       "    <tr>\n",
       "      <td>mean</td>\n",
       "      <td>9.628799</td>\n",
       "      <td>5.211201</td>\n",
       "      <td>55.346037</td>\n",
       "      <td>1.971485</td>\n",
       "      <td>2.670036</td>\n",
       "      <td>11.003465</td>\n",
       "      <td>31.554517</td>\n",
       "      <td>6.060494</td>\n",
       "      <td>9.941510</td>\n",
       "      <td>0.597955</td>\n",
       "      <td>...</td>\n",
       "      <td>485.857817</td>\n",
       "      <td>0.551718</td>\n",
       "      <td>533.861869</td>\n",
       "      <td>126.069298</td>\n",
       "      <td>93.362113</td>\n",
       "      <td>2.581255</td>\n",
       "      <td>6.590060</td>\n",
       "      <td>2017.362567</td>\n",
       "      <td>0.560868</td>\n",
       "      <td>0.189871</td>\n",
       "    </tr>\n",
       "    <tr>\n",
       "      <td>std</td>\n",
       "      <td>5.600739</td>\n",
       "      <td>3.001128</td>\n",
       "      <td>23.156804</td>\n",
       "      <td>0.939419</td>\n",
       "      <td>0.177241</td>\n",
       "      <td>6.694865</td>\n",
       "      <td>15.706872</td>\n",
       "      <td>4.971657</td>\n",
       "      <td>4.425572</td>\n",
       "      <td>0.951217</td>\n",
       "      <td>...</td>\n",
       "      <td>329.710661</td>\n",
       "      <td>0.841513</td>\n",
       "      <td>275.604407</td>\n",
       "      <td>118.518192</td>\n",
       "      <td>27.228329</td>\n",
       "      <td>1.788286</td>\n",
       "      <td>3.483385</td>\n",
       "      <td>0.843891</td>\n",
       "      <td>0.107497</td>\n",
       "      <td>0.079800</td>\n",
       "    </tr>\n",
       "    <tr>\n",
       "      <td>min</td>\n",
       "      <td>0.000000</td>\n",
       "      <td>0.750000</td>\n",
       "      <td>13.000000</td>\n",
       "      <td>1.000000</td>\n",
       "      <td>2.450000</td>\n",
       "      <td>0.000000</td>\n",
       "      <td>2.000000</td>\n",
       "      <td>1.000000</td>\n",
       "      <td>2.000000</td>\n",
       "      <td>0.000000</td>\n",
       "      <td>...</td>\n",
       "      <td>1.000000</td>\n",
       "      <td>0.000000</td>\n",
       "      <td>13.000000</td>\n",
       "      <td>1.000000</td>\n",
       "      <td>26.000000</td>\n",
       "      <td>0.000000</td>\n",
       "      <td>1.000000</td>\n",
       "      <td>2015.000000</td>\n",
       "      <td>0.000000</td>\n",
       "      <td>0.000000</td>\n",
       "    </tr>\n",
       "    <tr>\n",
       "      <td>25%</td>\n",
       "      <td>6.000000</td>\n",
       "      <td>3.400000</td>\n",
       "      <td>39.000000</td>\n",
       "      <td>1.000000</td>\n",
       "      <td>2.600000</td>\n",
       "      <td>5.000000</td>\n",
       "      <td>18.000000</td>\n",
       "      <td>2.000000</td>\n",
       "      <td>7.000000</td>\n",
       "      <td>0.000000</td>\n",
       "      <td>...</td>\n",
       "      <td>287.000000</td>\n",
       "      <td>0.000000</td>\n",
       "      <td>319.000000</td>\n",
       "      <td>41.000000</td>\n",
       "      <td>77.000000</td>\n",
       "      <td>1.000000</td>\n",
       "      <td>3.000000</td>\n",
       "      <td>2017.000000</td>\n",
       "      <td>0.500000</td>\n",
       "      <td>0.100000</td>\n",
       "    </tr>\n",
       "    <tr>\n",
       "      <td>50%</td>\n",
       "      <td>9.000000</td>\n",
       "      <td>4.450000</td>\n",
       "      <td>50.000000</td>\n",
       "      <td>2.000000</td>\n",
       "      <td>2.640000</td>\n",
       "      <td>9.000000</td>\n",
       "      <td>29.300000</td>\n",
       "      <td>5.000000</td>\n",
       "      <td>9.000000</td>\n",
       "      <td>0.000000</td>\n",
       "      <td>...</td>\n",
       "      <td>451.000000</td>\n",
       "      <td>0.000000</td>\n",
       "      <td>524.000000</td>\n",
       "      <td>83.000000</td>\n",
       "      <td>93.000000</td>\n",
       "      <td>3.000000</td>\n",
       "      <td>7.000000</td>\n",
       "      <td>2017.000000</td>\n",
       "      <td>0.600000</td>\n",
       "      <td>0.200000</td>\n",
       "    </tr>\n",
       "    <tr>\n",
       "      <td>75%</td>\n",
       "      <td>14.000000</td>\n",
       "      <td>6.100000</td>\n",
       "      <td>65.000000</td>\n",
       "      <td>3.000000</td>\n",
       "      <td>2.700000</td>\n",
       "      <td>16.000000</td>\n",
       "      <td>40.000000</td>\n",
       "      <td>8.000000</td>\n",
       "      <td>11.300000</td>\n",
       "      <td>1.000000</td>\n",
       "      <td>...</td>\n",
       "      <td>612.000000</td>\n",
       "      <td>1.000000</td>\n",
       "      <td>745.000000</td>\n",
       "      <td>179.000000</td>\n",
       "      <td>110.000000</td>\n",
       "      <td>4.000000</td>\n",
       "      <td>10.000000</td>\n",
       "      <td>2018.000000</td>\n",
       "      <td>0.600000</td>\n",
       "      <td>0.200000</td>\n",
       "    </tr>\n",
       "    <tr>\n",
       "      <td>max</td>\n",
       "      <td>50.000000</td>\n",
       "      <td>32.240000</td>\n",
       "      <td>199.200000</td>\n",
       "      <td>8.000000</td>\n",
       "      <td>3.980000</td>\n",
       "      <td>60.000000</td>\n",
       "      <td>159.600000</td>\n",
       "      <td>33.000000</td>\n",
       "      <td>65.000000</td>\n",
       "      <td>5.000000</td>\n",
       "      <td>...</td>\n",
       "      <td>3190.000000</td>\n",
       "      <td>3.000000</td>\n",
       "      <td>1344.000000</td>\n",
       "      <td>499.000000</td>\n",
       "      <td>174.000000</td>\n",
       "      <td>6.000000</td>\n",
       "      <td>12.000000</td>\n",
       "      <td>2019.000000</td>\n",
       "      <td>1.000000</td>\n",
       "      <td>0.800000</td>\n",
       "    </tr>\n",
       "  </tbody>\n",
       "</table>\n",
       "<p>8 rows × 23 columns</p>\n",
       "</div>"
      ],
      "text/plain": [
       "       total_images    last_price    total_area         rooms  ceiling_height  \\\n",
       "count  17605.000000  17605.000000  17605.000000  17605.000000    17605.000000   \n",
       "mean       9.628799      5.211201     55.346037      1.971485        2.670036   \n",
       "std        5.600739      3.001128     23.156804      0.939419        0.177241   \n",
       "min        0.000000      0.750000     13.000000      1.000000        2.450000   \n",
       "25%        6.000000      3.400000     39.000000      1.000000        2.600000   \n",
       "50%        9.000000      4.450000     50.000000      2.000000        2.640000   \n",
       "75%       14.000000      6.100000     65.000000      3.000000        2.700000   \n",
       "max       50.000000     32.240000    199.200000      8.000000        3.980000   \n",
       "\n",
       "       floors_total   living_area         floor  kitchen_area       balcony  \\\n",
       "count  17605.000000  16130.000000  17605.000000  15964.000000  17605.000000   \n",
       "mean      11.003465     31.554517      6.060494      9.941510      0.597955   \n",
       "std        6.694865     15.706872      4.971657      4.425572      0.951217   \n",
       "min        0.000000      2.000000      1.000000      2.000000      0.000000   \n",
       "25%        5.000000     18.000000      2.000000      7.000000      0.000000   \n",
       "50%        9.000000     29.300000      5.000000      9.000000      0.000000   \n",
       "75%       16.000000     40.000000      8.000000     11.300000      1.000000   \n",
       "max       60.000000    159.600000     33.000000     65.000000      5.000000   \n",
       "\n",
       "       ...  parks_nearest  ponds_around3000  ponds_nearest  days_exposition  \\\n",
       "count  ...    5725.000000      17605.000000    6559.000000     17605.000000   \n",
       "mean   ...     485.857817          0.551718     533.861869       126.069298   \n",
       "std    ...     329.710661          0.841513     275.604407       118.518192   \n",
       "min    ...       1.000000          0.000000      13.000000         1.000000   \n",
       "25%    ...     287.000000          0.000000     319.000000        41.000000   \n",
       "50%    ...     451.000000          0.000000     524.000000        83.000000   \n",
       "75%    ...     612.000000          1.000000     745.000000       179.000000   \n",
       "max    ...    3190.000000          3.000000    1344.000000       499.000000   \n",
       "\n",
       "       price_sq_meter_KRUR       weekday         month          year  \\\n",
       "count         17605.000000  17605.000000  17605.000000  17605.000000   \n",
       "mean             93.362113      2.581255      6.590060   2017.362567   \n",
       "std              27.228329      1.788286      3.483385      0.843891   \n",
       "min              26.000000      0.000000      1.000000   2015.000000   \n",
       "25%              77.000000      1.000000      3.000000   2017.000000   \n",
       "50%              93.000000      3.000000      7.000000   2017.000000   \n",
       "75%             110.000000      4.000000     10.000000   2018.000000   \n",
       "max             174.000000      6.000000     12.000000   2019.000000   \n",
       "\n",
       "       living_area_ratio  kitchen_area_ratio  \n",
       "count       16130.000000        15964.000000  \n",
       "mean            0.560868            0.189871  \n",
       "std             0.107497            0.079800  \n",
       "min             0.000000            0.000000  \n",
       "25%             0.500000            0.100000  \n",
       "50%             0.600000            0.200000  \n",
       "75%             0.600000            0.200000  \n",
       "max             1.000000            0.800000  \n",
       "\n",
       "[8 rows x 23 columns]"
      ]
     },
     "execution_count": 38,
     "metadata": {},
     "output_type": "execute_result"
    }
   ],
   "source": [
    "# отфильтруем данные от выбивающихся и запишем их в новую переменную\n",
    "good_data = data.query('total_area < 200 and 2.4 < ceiling_height < 4 and  days_exposition < 500 and 25 < price_sq_meter_KRUR < 175')\n",
    "good_data.describe()\n"
   ]
  },
  {
   "cell_type": "markdown",
   "metadata": {},
   "source": [
    "**Вывод** удалили в данных выбивающиеся и редкие значения"
   ]
  },
  {
   "cell_type": "markdown",
   "metadata": {},
   "source": [
    "### Факторы, влияющие на стоимость квартиры"
   ]
  },
  {
   "cell_type": "markdown",
   "metadata": {},
   "source": [
    "Сначала изучим влияние следующих факторов на стоимость квартиры:\n",
    "* площадь квартиры;\n",
    "* число комнат;\n",
    "* этаж (первый или последний)\n",
    "* удаленность от центра."
   ]
  },
  {
   "cell_type": "code",
   "execution_count": 39,
   "metadata": {},
   "outputs": [
    {
     "data": {
      "text/plain": [
       "0.30486495982755246"
      ]
     },
     "execution_count": 39,
     "metadata": {},
     "output_type": "execute_result"
    },
    {
     "data": {
      "image/png": "[encoded data removed]",
      "text/plain": [
       "<Figure size 432x288 with 1 Axes>"
      ]
     },
     "metadata": {
      "needs_background": "light"
     },
     "output_type": "display_data"
    }
   ],
   "source": [
    "# изучим зависимость тоимости 1 кв.м от площади квартиры\n",
    "pivot_table_total_area = good_data.pivot_table(index = 'total_area', values = 'price_sq_meter_KRUR', aggfunc = ['mean', 'count', 'median'])\n",
    "pivot_table_total_area.columns = ['mean', 'count', 'median']\n",
    "pivot_table_total_area.plot(y = 'median', style = 'o', alpha=0.3)\n",
    "data['total_area'].corr(data['price_sq_meter_KRUR'])\n",
    "\n"
   ]
  },
  {
   "cell_type": "markdown",
   "metadata": {},
   "source": [
    "**Вывод** коэффециент корреляции составляет 0,3 и как видно из графика рассеивания, зависимость стоимости 1 кв.м от площади слабая."
   ]
  },
  {
   "cell_type": "code",
   "execution_count": 40,
   "metadata": {},
   "outputs": [
    {
     "data": {
      "text/plain": [
       "0.653184626919243"
      ]
     },
     "execution_count": 40,
     "metadata": {},
     "output_type": "execute_result"
    },
    {
     "data": {
      "image/png": "[encoded data removed]",
      "text/plain": [
       "<Figure size 432x288 with 1 Axes>"
      ]
     },
     "metadata": {
      "needs_background": "light"
     },
     "output_type": "display_data"
    }
   ],
   "source": [
    "# изучим зависимость стоимости от площади\n",
    "pivot_table_total_area = good_data.pivot_table(index = 'total_area', values = 'last_price', aggfunc = ['mean', 'count', 'median'])\n",
    "pivot_table_total_area.columns = ['mean', 'count', 'median']\n",
    "pivot_table_total_area.plot(y = 'median', style = 'o', alpha=0.3)\n",
    "data['total_area'].corr(data['last_price'])\n",
    "\n"
   ]
  },
  {
   "cell_type": "markdown",
   "metadata": {},
   "source": [
    "**Вывод** а вот зависимость площади от конечной стоимости квартиры есть (коэффициент корреляции уже 0,65), чем больше площадь квартиры, тем выше ее цена, что является вполне логичным."
   ]
  },
  {
   "cell_type": "code",
   "execution_count": 41,
   "metadata": {},
   "outputs": [
    {
     "data": {
      "text/plain": [
       "0.3648191189403883"
      ]
     },
     "execution_count": 41,
     "metadata": {},
     "output_type": "execute_result"
    },
    {
     "data": {
      "image/png": "[encoded data removed]",
      "text/plain": [
       "<Figure size 432x288 with 1 Axes>"
      ]
     },
     "metadata": {
      "needs_background": "light"
     },
     "output_type": "display_data"
    }
   ],
   "source": [
    "# изучим зависимость стоимости от числа комнат\n",
    "pivot_table_total_rooms = good_data.pivot_table(index = 'rooms', values = 'last_price', aggfunc = ['mean', 'count', 'median'])\n",
    "pivot_table_total_rooms.plot(y = 'median')\n",
    "data['rooms'].corr(data['last_price'])\n"
   ]
  },
  {
   "cell_type": "markdown",
   "metadata": {},
   "source": [
    "**Вывод** есть зависимость и с числом комнат (коэффициент корреляции - 0,36), чем больше комнат, тем выше цена."
   ]
  },
  {
   "cell_type": "code",
   "execution_count": 42,
   "metadata": {},
   "outputs": [
    {
     "data": {
      "text/html": [
       "<div>\n",
       "<style scoped>\n",
       "    .dataframe tbody tr th:only-of-type {\n",
       "        vertical-align: middle;\n",
       "    }\n",
       "\n",
       "    .dataframe tbody tr th {\n",
       "        vertical-align: top;\n",
       "    }\n",
       "\n",
       "    .dataframe thead th {\n",
       "        text-align: right;\n",
       "    }\n",
       "</style>\n",
       "<table border=\"1\" class=\"dataframe\">\n",
       "  <thead>\n",
       "    <tr style=\"text-align: right;\">\n",
       "      <th></th>\n",
       "      <th>count</th>\n",
       "      <th>median</th>\n",
       "    </tr>\n",
       "    <tr>\n",
       "      <th>floor_category</th>\n",
       "      <th></th>\n",
       "      <th></th>\n",
       "    </tr>\n",
       "  </thead>\n",
       "  <tbody>\n",
       "    <tr>\n",
       "      <td>другой</td>\n",
       "      <td>13177</td>\n",
       "      <td>4.600</td>\n",
       "    </tr>\n",
       "    <tr>\n",
       "      <td>первый</td>\n",
       "      <td>2094</td>\n",
       "      <td>3.805</td>\n",
       "    </tr>\n",
       "    <tr>\n",
       "      <td>последний</td>\n",
       "      <td>2334</td>\n",
       "      <td>4.190</td>\n",
       "    </tr>\n",
       "  </tbody>\n",
       "</table>\n",
       "</div>"
      ],
      "text/plain": [
       "                count  median\n",
       "floor_category               \n",
       "другой          13177   4.600\n",
       "первый           2094   3.805\n",
       "последний        2334   4.190"
      ]
     },
     "execution_count": 42,
     "metadata": {},
     "output_type": "execute_result"
    },
    {
     "data": {
      "image/png": "[encoded data removed]",
      "text/plain": [
       "<Figure size 432x288 with 1 Axes>"
      ]
     },
     "metadata": {
      "needs_background": "light"
     },
     "output_type": "display_data"
    }
   ],
   "source": [
    "# изучим зависимость стоимости от этажа квартиры\n",
    "pivot_table_floor_category = good_data.pivot_table(index = 'floor_category', values = 'last_price', aggfunc = ['count', 'median'])\n",
    "pivot_table_floor_category.columns = ['count', 'median']\n",
    "pivot_table_floor_category.plot(y = 'median')\n",
    "pivot_table_floor_category\n"
   ]
  },
  {
   "cell_type": "markdown",
   "metadata": {},
   "source": [
    "**Вывод** квартиры на первом этаже дешевле, чем на последнем на 8%"
   ]
  },
  {
   "cell_type": "code",
   "execution_count": 43,
   "metadata": {},
   "outputs": [
    {
     "data": {
      "text/plain": [
       "-0.3177804091687065"
      ]
     },
     "execution_count": 43,
     "metadata": {},
     "output_type": "execute_result"
    },
    {
     "data": {
      "image/png": "[encoded data removed]",
      "text/plain": [
       "<Figure size 432x288 with 1 Axes>"
      ]
     },
     "metadata": {
      "needs_background": "light"
     },
     "output_type": "display_data"
    }
   ],
   "source": [
    "# изучим влияние стоимости квартиры за 1 кв.м в зависимости от удаленности от центра\n",
    "good_data.plot(x = 'cityCenters_nearest',  y = 'price_sq_meter_KRUR', kind = 'scatter', alpha = 0.2)\n",
    "data['cityCenters_nearest'].corr(data['price_sq_meter_KRUR'])\n"
   ]
  },
  {
   "cell_type": "markdown",
   "metadata": {},
   "source": [
    "**Вывод** зависимость небольшая, но она есть - чем ближе к центру квартиры, тем они дороже."
   ]
  },
  {
   "cell_type": "markdown",
   "metadata": {},
   "source": [
    "**Изучим зависимость от даты размещения:** дня недели, месяца, года"
   ]
  },
  {
   "cell_type": "code",
   "execution_count": 44,
   "metadata": {},
   "outputs": [
    {
     "data": {
      "text/plain": [
       "<matplotlib.axes._subplots.AxesSubplot at 0x7f546e608690>"
      ]
     },
     "execution_count": 44,
     "metadata": {},
     "output_type": "execute_result"
    },
    {
     "data": {
      "image/png": "[encoded data removed]",
      "text/plain": [
       "<Figure size 432x288 with 1 Axes>"
      ]
     },
     "metadata": {
      "needs_background": "light"
     },
     "output_type": "display_data"
    }
   ],
   "source": [
    "# проверим зависимость стоимости от дня недели публикации объявления\n",
    "pivot_table_weekday_exposition = good_data.pivot_table(index = 'weekday', values = 'last_price', aggfunc = ['count', 'median'])\n",
    "pivot_table_weekday_exposition.plot(y = 'median')\n"
   ]
  },
  {
   "cell_type": "markdown",
   "metadata": {},
   "source": [
    "**Вывод** по графику видно, что выше стоимость при размещении по вторникам и самая низкая - по пятницам, субботам и воскресеньям"
   ]
  },
  {
   "cell_type": "code",
   "execution_count": 45,
   "metadata": {
    "scrolled": true
   },
   "outputs": [
    {
     "data": {
      "text/plain": [
       "<matplotlib.axes._subplots.AxesSubplot at 0x7f546eea2a90>"
      ]
     },
     "execution_count": 45,
     "metadata": {},
     "output_type": "execute_result"
    },
    {
     "data": {
      "image/png": "[encoded data removed]",
      "text/plain": [
       "<Figure size 432x288 with 1 Axes>"
      ]
     },
     "metadata": {
      "needs_background": "light"
     },
     "output_type": "display_data"
    }
   ],
   "source": [
    "# проверим зависимость стоимости от месяца публикации объявления\n",
    "pivot_table_month_exposition = good_data.pivot_table(index = 'month', values = 'last_price', aggfunc = ['count', 'median'])\n",
    "pivot_table_month_exposition.plot(y = 'median')\n",
    "\n"
   ]
  },
  {
   "cell_type": "markdown",
   "metadata": {},
   "source": [
    "**Вывод** наименьшие цены в июне, наибольшие - апрель. На продажи недвижимости влияет сезонный фактор, летом продажи стимулируются некоторым снижением цены."
   ]
  },
  {
   "cell_type": "code",
   "execution_count": 46,
   "metadata": {
    "scrolled": true
   },
   "outputs": [
    {
     "data": {
      "image/png": "[encoded data removed]",
      "text/plain": [
       "<Figure size 432x288 with 1 Axes>"
      ]
     },
     "metadata": {
      "needs_background": "light"
     },
     "output_type": "display_data"
    }
   ],
   "source": [
    "# проверим зависимость стоимости от года публикации объявления\n",
    "pivot_table_year_exposition = good_data.pivot_table(index = 'year', values = 'last_price', aggfunc = ['count', 'median'])\n",
    "pivot_table_year_exposition.plot(y = 'median');\n"
   ]
  },
  {
   "cell_type": "code",
   "execution_count": 47,
   "metadata": {},
   "outputs": [
    {
     "data": {
      "image/png": "[encoded data removed]",
      "text/plain": [
       "<Figure size 432x288 with 1 Axes>"
      ]
     },
     "metadata": {
      "needs_background": "light"
     },
     "output_type": "display_data"
    }
   ],
   "source": [
    "pivot_table_year_exposition = good_data.pivot_table(index = 'year', values = 'price_sq_meter_KRUR', aggfunc = ['count', 'median'])\n",
    "pivot_table_year_exposition.plot(y = 'median');\n"
   ]
  },
  {
   "cell_type": "markdown",
   "metadata": {},
   "source": [
    "**Вывод** цены на квартиры, как видно из графика, упали после 2014 г., что было связано, наиболее вероятно, с экономическим кризисом в этот период. Рынок начал восстанавливаться после 2017 г.\n",
    "<br> Но если посмотреть на стоимость 1 кв.м, то она постоянно росла, вне зависимости от кризиса."
   ]
  },
  {
   "cell_type": "markdown",
   "metadata": {},
   "source": [
    "**Далее изучим 10 населенных пунктов с наибольшим числом объявлений:**\n",
    "1. расчитаем среднюю цену 1 кв.м\n",
    "2. выделим населенные пункты с максимальной и минимальной стоимостью жилья"
   ]
  },
  {
   "cell_type": "code",
   "execution_count": 48,
   "metadata": {
    "scrolled": true
   },
   "outputs": [
    {
     "data": {
      "text/html": [
       "<div>\n",
       "<style scoped>\n",
       "    .dataframe tbody tr th:only-of-type {\n",
       "        vertical-align: middle;\n",
       "    }\n",
       "\n",
       "    .dataframe tbody tr th {\n",
       "        vertical-align: top;\n",
       "    }\n",
       "\n",
       "    .dataframe thead th {\n",
       "        text-align: right;\n",
       "    }\n",
       "</style>\n",
       "<table border=\"1\" class=\"dataframe\">\n",
       "  <thead>\n",
       "    <tr style=\"text-align: right;\">\n",
       "      <th></th>\n",
       "      <th>count</th>\n",
       "      <th>mean</th>\n",
       "    </tr>\n",
       "    <tr>\n",
       "      <th>locality_name</th>\n",
       "      <th></th>\n",
       "      <th></th>\n",
       "    </tr>\n",
       "  </thead>\n",
       "  <tbody>\n",
       "    <tr>\n",
       "      <td>Санкт-Петербург</td>\n",
       "      <td>11654</td>\n",
       "      <td>105.0</td>\n",
       "    </tr>\n",
       "    <tr>\n",
       "      <td>посёлок Мурино</td>\n",
       "      <td>458</td>\n",
       "      <td>85.0</td>\n",
       "    </tr>\n",
       "    <tr>\n",
       "      <td>посёлок Шушары</td>\n",
       "      <td>381</td>\n",
       "      <td>78.0</td>\n",
       "    </tr>\n",
       "    <tr>\n",
       "      <td>Всеволожск</td>\n",
       "      <td>301</td>\n",
       "      <td>67.0</td>\n",
       "    </tr>\n",
       "    <tr>\n",
       "      <td>Колпино</td>\n",
       "      <td>291</td>\n",
       "      <td>75.0</td>\n",
       "    </tr>\n",
       "    <tr>\n",
       "      <td>посёлок Парголово</td>\n",
       "      <td>282</td>\n",
       "      <td>89.0</td>\n",
       "    </tr>\n",
       "    <tr>\n",
       "      <td>Пушкин</td>\n",
       "      <td>270</td>\n",
       "      <td>101.0</td>\n",
       "    </tr>\n",
       "    <tr>\n",
       "      <td>деревня Кудрово</td>\n",
       "      <td>251</td>\n",
       "      <td>92.0</td>\n",
       "    </tr>\n",
       "    <tr>\n",
       "      <td>Гатчина</td>\n",
       "      <td>240</td>\n",
       "      <td>69.0</td>\n",
       "    </tr>\n",
       "    <tr>\n",
       "      <td>Выборг</td>\n",
       "      <td>188</td>\n",
       "      <td>57.0</td>\n",
       "    </tr>\n",
       "  </tbody>\n",
       "</table>\n",
       "</div>"
      ],
      "text/plain": [
       "                   count   mean\n",
       "locality_name                  \n",
       "Санкт-Петербург    11654  105.0\n",
       "посёлок Мурино       458   85.0\n",
       "посёлок Шушары       381   78.0\n",
       "Всеволожск           301   67.0\n",
       "Колпино              291   75.0\n",
       "посёлок Парголово    282   89.0\n",
       "Пушкин               270  101.0\n",
       "деревня Кудрово      251   92.0\n",
       "Гатчина              240   69.0\n",
       "Выборг               188   57.0"
      ]
     },
     "execution_count": 48,
     "metadata": {},
     "output_type": "execute_result"
    }
   ],
   "source": [
    "#построим сводную таблицу по 10 населенным пунктам\n",
    "locality_pivot_table = good_data.pivot_table(index = 'locality_name', values = 'price_sq_meter_KRUR', aggfunc=['count', 'mean'])\n",
    "locality_pivot_table.columns = ['count', 'mean']\n",
    "locality_pivot_table = locality_pivot_table.sort_values('count', ascending = False).round(0).head(10)\n",
    "locality_pivot_table\n"
   ]
  },
  {
   "cell_type": "code",
   "execution_count": 49,
   "metadata": {},
   "outputs": [
    {
     "data": {
      "text/html": [
       "<div>\n",
       "<style scoped>\n",
       "    .dataframe tbody tr th:only-of-type {\n",
       "        vertical-align: middle;\n",
       "    }\n",
       "\n",
       "    .dataframe tbody tr th {\n",
       "        vertical-align: top;\n",
       "    }\n",
       "\n",
       "    .dataframe thead th {\n",
       "        text-align: right;\n",
       "    }\n",
       "</style>\n",
       "<table border=\"1\" class=\"dataframe\">\n",
       "  <thead>\n",
       "    <tr style=\"text-align: right;\">\n",
       "      <th></th>\n",
       "      <th>count</th>\n",
       "      <th>mean</th>\n",
       "    </tr>\n",
       "    <tr>\n",
       "      <th>locality_name</th>\n",
       "      <th></th>\n",
       "      <th></th>\n",
       "    </tr>\n",
       "  </thead>\n",
       "  <tbody>\n",
       "    <tr>\n",
       "      <td>Санкт-Петербург</td>\n",
       "      <td>11654</td>\n",
       "      <td>105.0</td>\n",
       "    </tr>\n",
       "  </tbody>\n",
       "</table>\n",
       "</div>"
      ],
      "text/plain": [
       "                 count   mean\n",
       "locality_name                \n",
       "Санкт-Петербург  11654  105.0"
      ]
     },
     "execution_count": 49,
     "metadata": {},
     "output_type": "execute_result"
    }
   ],
   "source": [
    "# определим максимальную стоимость квартиры\n",
    "locality_pivot_table[locality_pivot_table['mean']==locality_pivot_table['mean'].max()]\n"
   ]
  },
  {
   "cell_type": "code",
   "execution_count": 50,
   "metadata": {},
   "outputs": [
    {
     "data": {
      "text/html": [
       "<div>\n",
       "<style scoped>\n",
       "    .dataframe tbody tr th:only-of-type {\n",
       "        vertical-align: middle;\n",
       "    }\n",
       "\n",
       "    .dataframe tbody tr th {\n",
       "        vertical-align: top;\n",
       "    }\n",
       "\n",
       "    .dataframe thead th {\n",
       "        text-align: right;\n",
       "    }\n",
       "</style>\n",
       "<table border=\"1\" class=\"dataframe\">\n",
       "  <thead>\n",
       "    <tr style=\"text-align: right;\">\n",
       "      <th></th>\n",
       "      <th>count</th>\n",
       "      <th>mean</th>\n",
       "    </tr>\n",
       "    <tr>\n",
       "      <th>locality_name</th>\n",
       "      <th></th>\n",
       "      <th></th>\n",
       "    </tr>\n",
       "  </thead>\n",
       "  <tbody>\n",
       "    <tr>\n",
       "      <td>Выборг</td>\n",
       "      <td>188</td>\n",
       "      <td>57.0</td>\n",
       "    </tr>\n",
       "  </tbody>\n",
       "</table>\n",
       "</div>"
      ],
      "text/plain": [
       "               count  mean\n",
       "locality_name             \n",
       "Выборг           188  57.0"
      ]
     },
     "execution_count": 50,
     "metadata": {},
     "output_type": "execute_result"
    }
   ],
   "source": [
    "# определим минимальную стоимость квартиры\n",
    "locality_pivot_table[locality_pivot_table['mean']==locality_pivot_table['mean'].min()]\n"
   ]
  },
  {
   "cell_type": "markdown",
   "metadata": {},
   "source": [
    "**Вывод**\n",
    "- изучили 10 населенных пунктов с наибольшим количеством объявлений\n",
    "- самая дорогая стоимость квартир за 1 кв.м в Санкт-Петербурге (средняя стоимость - 107 тыс.руб за кв.м)\n",
    "- самая дешевая стоимость квартир за 1 кв.м в Выборге (средняя стоимость - 59 тыс.руб за кв.м)"
   ]
  },
  {
   "cell_type": "markdown",
   "metadata": {},
   "source": [
    "### Анализ стоимости квартир в зависимости от удаленности от центра"
   ]
  },
  {
   "cell_type": "markdown",
   "metadata": {},
   "source": [
    "**Изучим предложения квартир в зависимости от расстояния до центра:**\n",
    "1. проверим кол-во незаполненных значений в данных с расстоянием квартир до центра;\n",
    "2. создадим столбец с расстоянием до центра в километрах, округлив до целых значений;\n",
    "3. выделим квартиры в Санкт-Петербурге ('locality_name') и расчитаем среднюю цену для каждого километра с помощью сводной таблицы;\n",
    "4. построим график, показывающий зависимость цены квартиры от удалённости от центра; \n",
    "5. определим границу области, входящей в центр (где график сильно меняется — это и будет центральная зона). "
   ]
  },
  {
   "cell_type": "code",
   "execution_count": 51,
   "metadata": {},
   "outputs": [
    {
     "name": "stdout",
     "output_type": "stream",
     "text": [
      "Кол-во нулевых значений с расстоянием до центра: 5432\n"
     ]
    }
   ],
   "source": [
    "print('Кол-во нулевых значений с расстоянием до центра:', data['cityCenters_nearest'].isna().sum())"
   ]
  },
  {
   "cell_type": "code",
   "execution_count": 52,
   "metadata": {},
   "outputs": [
    {
     "data": {
      "text/html": [
       "<div>\n",
       "<style scoped>\n",
       "    .dataframe tbody tr th:only-of-type {\n",
       "        vertical-align: middle;\n",
       "    }\n",
       "\n",
       "    .dataframe tbody tr th {\n",
       "        vertical-align: top;\n",
       "    }\n",
       "\n",
       "    .dataframe thead th {\n",
       "        text-align: right;\n",
       "    }\n",
       "</style>\n",
       "<table border=\"1\" class=\"dataframe\">\n",
       "  <thead>\n",
       "    <tr style=\"text-align: right;\">\n",
       "      <th></th>\n",
       "      <th>price_sq_meter_KRUR</th>\n",
       "    </tr>\n",
       "    <tr>\n",
       "      <th>cityCenters_nearest_km</th>\n",
       "      <th></th>\n",
       "    </tr>\n",
       "  </thead>\n",
       "  <tbody>\n",
       "    <tr>\n",
       "      <td>1.0</td>\n",
       "      <td>177.0</td>\n",
       "    </tr>\n",
       "    <tr>\n",
       "      <td>2.0</td>\n",
       "      <td>158.0</td>\n",
       "    </tr>\n",
       "    <tr>\n",
       "      <td>3.0</td>\n",
       "      <td>121.0</td>\n",
       "    </tr>\n",
       "    <tr>\n",
       "      <td>4.0</td>\n",
       "      <td>133.0</td>\n",
       "    </tr>\n",
       "    <tr>\n",
       "      <td>5.0</td>\n",
       "      <td>140.0</td>\n",
       "    </tr>\n",
       "    <tr>\n",
       "      <td>6.0</td>\n",
       "      <td>151.0</td>\n",
       "    </tr>\n",
       "    <tr>\n",
       "      <td>7.0</td>\n",
       "      <td>156.0</td>\n",
       "    </tr>\n",
       "    <tr>\n",
       "      <td>8.0</td>\n",
       "      <td>126.0</td>\n",
       "    </tr>\n",
       "    <tr>\n",
       "      <td>9.0</td>\n",
       "      <td>113.0</td>\n",
       "    </tr>\n",
       "    <tr>\n",
       "      <td>10.0</td>\n",
       "      <td>113.0</td>\n",
       "    </tr>\n",
       "  </tbody>\n",
       "</table>\n",
       "</div>"
      ],
      "text/plain": [
       "                        price_sq_meter_KRUR\n",
       "cityCenters_nearest_km                     \n",
       "1.0                                   177.0\n",
       "2.0                                   158.0\n",
       "3.0                                   121.0\n",
       "4.0                                   133.0\n",
       "5.0                                   140.0\n",
       "6.0                                   151.0\n",
       "7.0                                   156.0\n",
       "8.0                                   126.0\n",
       "9.0                                   113.0\n",
       "10.0                                  113.0"
      ]
     },
     "execution_count": 52,
     "metadata": {},
     "output_type": "execute_result"
    },
    {
     "data": {
      "image/png": "[encoded data removed]",
      "text/plain": [
       "<Figure size 432x288 with 1 Axes>"
      ]
     },
     "metadata": {
      "needs_background": "light"
     },
     "output_type": "display_data"
    }
   ],
   "source": [
    "# добавим столбец, в котором переведем расстояние до центра к км\n",
    "data['cityCenters_nearest_km'] = (data['cityCenters_nearest'] / 1000).round(0)\n",
    "# построим сводную таблицу по данным, отбросив пропуски, выявленные ранее\n",
    "pivot_table_km = data.query('locality_name == \"Санкт-Петербург\" and cityCenters_nearest_km > 0').pivot_table(index = 'cityCenters_nearest_km', values = 'price_sq_meter_KRUR', aggfunc = 'mean').round(0)\n",
    "# построим график зависимости цены от удаленности от центра\n",
    "pivot_table_km.plot()\n",
    "# выведем 10 строк сводной таблицы\n",
    "pivot_table_km.head(10)\n"
   ]
  },
  {
   "cell_type": "markdown",
   "metadata": {},
   "source": [
    "**Вывод** график сильно снижается после 7 км, определим эту область (от 0 до 7 км), как центральную зону."
   ]
  },
  {
   "cell_type": "markdown",
   "metadata": {},
   "source": [
    "### Анализ сегмента квартир в центре"
   ]
  },
  {
   "cell_type": "markdown",
   "metadata": {},
   "source": [
    "**Изучим параметры сегмента квартир в центре (зона до 7 км):**\n",
    "1. площадь;\n",
    "2. цена;\n",
    "3. число комнат;\n",
    "4. высота потолков; \n",
    "5. факторы, влияющие на цену: число комнат, этаж, удаленность от центра, дата размещения объявления. "
   ]
  },
  {
   "cell_type": "code",
   "execution_count": 53,
   "metadata": {},
   "outputs": [
    {
     "data": {
      "text/html": [
       "<div>\n",
       "<style scoped>\n",
       "    .dataframe tbody tr th:only-of-type {\n",
       "        vertical-align: middle;\n",
       "    }\n",
       "\n",
       "    .dataframe tbody tr th {\n",
       "        vertical-align: top;\n",
       "    }\n",
       "\n",
       "    .dataframe thead th {\n",
       "        text-align: right;\n",
       "    }\n",
       "</style>\n",
       "<table border=\"1\" class=\"dataframe\">\n",
       "  <thead>\n",
       "    <tr style=\"text-align: right;\">\n",
       "      <th></th>\n",
       "      <th>total_images</th>\n",
       "      <th>last_price</th>\n",
       "      <th>total_area</th>\n",
       "      <th>rooms</th>\n",
       "      <th>ceiling_height</th>\n",
       "      <th>floors_total</th>\n",
       "      <th>living_area</th>\n",
       "      <th>floor</th>\n",
       "      <th>kitchen_area</th>\n",
       "      <th>balcony</th>\n",
       "      <th>...</th>\n",
       "      <th>ponds_around3000</th>\n",
       "      <th>ponds_nearest</th>\n",
       "      <th>days_exposition</th>\n",
       "      <th>price_sq_meter_KRUR</th>\n",
       "      <th>weekday</th>\n",
       "      <th>month</th>\n",
       "      <th>year</th>\n",
       "      <th>living_area_ratio</th>\n",
       "      <th>kitchen_area_ratio</th>\n",
       "      <th>cityCenters_nearest_km</th>\n",
       "    </tr>\n",
       "  </thead>\n",
       "  <tbody>\n",
       "    <tr>\n",
       "      <td>count</td>\n",
       "      <td>3508.000000</td>\n",
       "      <td>3508.000000</td>\n",
       "      <td>3508.000000</td>\n",
       "      <td>3508.000000</td>\n",
       "      <td>3507.000000</td>\n",
       "      <td>3508.000000</td>\n",
       "      <td>3212.000000</td>\n",
       "      <td>3508.000000</td>\n",
       "      <td>3187.000000</td>\n",
       "      <td>3508.000000</td>\n",
       "      <td>...</td>\n",
       "      <td>3508.000000</td>\n",
       "      <td>2539.000000</td>\n",
       "      <td>2925.000000</td>\n",
       "      <td>3508.000000</td>\n",
       "      <td>3508.000000</td>\n",
       "      <td>3508.000000</td>\n",
       "      <td>3508.000000</td>\n",
       "      <td>3212.000000</td>\n",
       "      <td>3187.000000</td>\n",
       "      <td>3508.000000</td>\n",
       "    </tr>\n",
       "    <tr>\n",
       "      <td>mean</td>\n",
       "      <td>10.228905</td>\n",
       "      <td>14.923997</td>\n",
       "      <td>93.346482</td>\n",
       "      <td>2.848062</td>\n",
       "      <td>2.969490</td>\n",
       "      <td>7.084094</td>\n",
       "      <td>54.614530</td>\n",
       "      <td>4.203820</td>\n",
       "      <td>14.528820</td>\n",
       "      <td>0.320981</td>\n",
       "      <td>...</td>\n",
       "      <td>1.295895</td>\n",
       "      <td>463.593935</td>\n",
       "      <td>248.585299</td>\n",
       "      <td>145.229475</td>\n",
       "      <td>2.511973</td>\n",
       "      <td>6.420182</td>\n",
       "      <td>2017.169612</td>\n",
       "      <td>0.580417</td>\n",
       "      <td>0.171415</td>\n",
       "      <td>4.498005</td>\n",
       "    </tr>\n",
       "    <tr>\n",
       "      <td>std</td>\n",
       "      <td>6.006156</td>\n",
       "      <td>24.351354</td>\n",
       "      <td>59.289469</td>\n",
       "      <td>1.439792</td>\n",
       "      <td>0.736683</td>\n",
       "      <td>3.853838</td>\n",
       "      <td>37.295308</td>\n",
       "      <td>2.952493</td>\n",
       "      <td>9.192637</td>\n",
       "      <td>0.756415</td>\n",
       "      <td>...</td>\n",
       "      <td>1.091594</td>\n",
       "      <td>271.365607</td>\n",
       "      <td>273.860723</td>\n",
       "      <td>93.826540</td>\n",
       "      <td>1.721275</td>\n",
       "      <td>3.454732</td>\n",
       "      <td>1.126967</td>\n",
       "      <td>0.119896</td>\n",
       "      <td>0.087667</td>\n",
       "      <td>1.687353</td>\n",
       "    </tr>\n",
       "    <tr>\n",
       "      <td>min</td>\n",
       "      <td>0.000000</td>\n",
       "      <td>1.600000</td>\n",
       "      <td>12.000000</td>\n",
       "      <td>1.000000</td>\n",
       "      <td>2.400000</td>\n",
       "      <td>0.000000</td>\n",
       "      <td>2.000000</td>\n",
       "      <td>1.000000</td>\n",
       "      <td>2.000000</td>\n",
       "      <td>0.000000</td>\n",
       "      <td>...</td>\n",
       "      <td>0.000000</td>\n",
       "      <td>22.000000</td>\n",
       "      <td>3.000000</td>\n",
       "      <td>15.000000</td>\n",
       "      <td>0.000000</td>\n",
       "      <td>1.000000</td>\n",
       "      <td>2014.000000</td>\n",
       "      <td>0.000000</td>\n",
       "      <td>0.000000</td>\n",
       "      <td>0.000000</td>\n",
       "    </tr>\n",
       "    <tr>\n",
       "      <td>25%</td>\n",
       "      <td>6.000000</td>\n",
       "      <td>6.700000</td>\n",
       "      <td>57.000000</td>\n",
       "      <td>2.000000</td>\n",
       "      <td>2.650000</td>\n",
       "      <td>5.000000</td>\n",
       "      <td>31.350000</td>\n",
       "      <td>2.000000</td>\n",
       "      <td>9.000000</td>\n",
       "      <td>0.000000</td>\n",
       "      <td>...</td>\n",
       "      <td>0.000000</td>\n",
       "      <td>225.500000</td>\n",
       "      <td>60.000000</td>\n",
       "      <td>100.000000</td>\n",
       "      <td>1.000000</td>\n",
       "      <td>3.000000</td>\n",
       "      <td>2017.000000</td>\n",
       "      <td>0.500000</td>\n",
       "      <td>0.100000</td>\n",
       "      <td>4.000000</td>\n",
       "    </tr>\n",
       "    <tr>\n",
       "      <td>50%</td>\n",
       "      <td>10.000000</td>\n",
       "      <td>9.200000</td>\n",
       "      <td>79.000000</td>\n",
       "      <td>3.000000</td>\n",
       "      <td>2.880000</td>\n",
       "      <td>6.000000</td>\n",
       "      <td>46.000000</td>\n",
       "      <td>4.000000</td>\n",
       "      <td>12.000000</td>\n",
       "      <td>0.000000</td>\n",
       "      <td>...</td>\n",
       "      <td>1.000000</td>\n",
       "      <td>454.000000</td>\n",
       "      <td>143.000000</td>\n",
       "      <td>124.000000</td>\n",
       "      <td>3.000000</td>\n",
       "      <td>6.000000</td>\n",
       "      <td>2017.000000</td>\n",
       "      <td>0.600000</td>\n",
       "      <td>0.200000</td>\n",
       "      <td>5.000000</td>\n",
       "    </tr>\n",
       "    <tr>\n",
       "      <td>75%</td>\n",
       "      <td>15.000000</td>\n",
       "      <td>14.500000</td>\n",
       "      <td>110.000000</td>\n",
       "      <td>3.000000</td>\n",
       "      <td>3.175000</td>\n",
       "      <td>8.000000</td>\n",
       "      <td>66.650000</td>\n",
       "      <td>5.000000</td>\n",
       "      <td>17.000000</td>\n",
       "      <td>0.000000</td>\n",
       "      <td>...</td>\n",
       "      <td>2.000000</td>\n",
       "      <td>665.000000</td>\n",
       "      <td>348.000000</td>\n",
       "      <td>156.000000</td>\n",
       "      <td>4.000000</td>\n",
       "      <td>10.000000</td>\n",
       "      <td>2018.000000</td>\n",
       "      <td>0.700000</td>\n",
       "      <td>0.200000</td>\n",
       "      <td>6.000000</td>\n",
       "    </tr>\n",
       "    <tr>\n",
       "      <td>max</td>\n",
       "      <td>50.000000</td>\n",
       "      <td>763.000000</td>\n",
       "      <td>631.200000</td>\n",
       "      <td>19.000000</td>\n",
       "      <td>32.000000</td>\n",
       "      <td>25.000000</td>\n",
       "      <td>409.000000</td>\n",
       "      <td>25.000000</td>\n",
       "      <td>107.000000</td>\n",
       "      <td>5.000000</td>\n",
       "      <td>...</td>\n",
       "      <td>3.000000</td>\n",
       "      <td>1293.000000</td>\n",
       "      <td>1572.000000</td>\n",
       "      <td>1908.000000</td>\n",
       "      <td>6.000000</td>\n",
       "      <td>12.000000</td>\n",
       "      <td>2019.000000</td>\n",
       "      <td>1.000000</td>\n",
       "      <td>0.600000</td>\n",
       "      <td>7.000000</td>\n",
       "    </tr>\n",
       "  </tbody>\n",
       "</table>\n",
       "<p>8 rows × 24 columns</p>\n",
       "</div>"
      ],
      "text/plain": [
       "       total_images   last_price   total_area        rooms  ceiling_height  \\\n",
       "count   3508.000000  3508.000000  3508.000000  3508.000000     3507.000000   \n",
       "mean      10.228905    14.923997    93.346482     2.848062        2.969490   \n",
       "std        6.006156    24.351354    59.289469     1.439792        0.736683   \n",
       "min        0.000000     1.600000    12.000000     1.000000        2.400000   \n",
       "25%        6.000000     6.700000    57.000000     2.000000        2.650000   \n",
       "50%       10.000000     9.200000    79.000000     3.000000        2.880000   \n",
       "75%       15.000000    14.500000   110.000000     3.000000        3.175000   \n",
       "max       50.000000   763.000000   631.200000    19.000000       32.000000   \n",
       "\n",
       "       floors_total  living_area        floor  kitchen_area      balcony  ...  \\\n",
       "count   3508.000000  3212.000000  3508.000000   3187.000000  3508.000000  ...   \n",
       "mean       7.084094    54.614530     4.203820     14.528820     0.320981  ...   \n",
       "std        3.853838    37.295308     2.952493      9.192637     0.756415  ...   \n",
       "min        0.000000     2.000000     1.000000      2.000000     0.000000  ...   \n",
       "25%        5.000000    31.350000     2.000000      9.000000     0.000000  ...   \n",
       "50%        6.000000    46.000000     4.000000     12.000000     0.000000  ...   \n",
       "75%        8.000000    66.650000     5.000000     17.000000     0.000000  ...   \n",
       "max       25.000000   409.000000    25.000000    107.000000     5.000000  ...   \n",
       "\n",
       "       ponds_around3000  ponds_nearest  days_exposition  price_sq_meter_KRUR  \\\n",
       "count       3508.000000    2539.000000      2925.000000          3508.000000   \n",
       "mean           1.295895     463.593935       248.585299           145.229475   \n",
       "std            1.091594     271.365607       273.860723            93.826540   \n",
       "min            0.000000      22.000000         3.000000            15.000000   \n",
       "25%            0.000000     225.500000        60.000000           100.000000   \n",
       "50%            1.000000     454.000000       143.000000           124.000000   \n",
       "75%            2.000000     665.000000       348.000000           156.000000   \n",
       "max            3.000000    1293.000000      1572.000000          1908.000000   \n",
       "\n",
       "           weekday        month         year  living_area_ratio  \\\n",
       "count  3508.000000  3508.000000  3508.000000        3212.000000   \n",
       "mean      2.511973     6.420182  2017.169612           0.580417   \n",
       "std       1.721275     3.454732     1.126967           0.119896   \n",
       "min       0.000000     1.000000  2014.000000           0.000000   \n",
       "25%       1.000000     3.000000  2017.000000           0.500000   \n",
       "50%       3.000000     6.000000  2017.000000           0.600000   \n",
       "75%       4.000000    10.000000  2018.000000           0.700000   \n",
       "max       6.000000    12.000000  2019.000000           1.000000   \n",
       "\n",
       "       kitchen_area_ratio  cityCenters_nearest_km  \n",
       "count         3187.000000             3508.000000  \n",
       "mean             0.171415                4.498005  \n",
       "std              0.087667                1.687353  \n",
       "min              0.000000                0.000000  \n",
       "25%              0.100000                4.000000  \n",
       "50%              0.200000                5.000000  \n",
       "75%              0.200000                6.000000  \n",
       "max              0.600000                7.000000  \n",
       "\n",
       "[8 rows x 24 columns]"
      ]
     },
     "execution_count": 53,
     "metadata": {},
     "output_type": "execute_result"
    }
   ],
   "source": [
    "# выделим сегмент квартир в центре\n",
    "center_flat_spb = data.query('cityCenters_nearest_km <= 7 and locality_name == \"Санкт-Петербург\"')\n",
    "center_flat_spb.describe()"
   ]
  },
  {
   "cell_type": "markdown",
   "metadata": {},
   "source": [
    "**Вывод**\n",
    "- 15% объявлений - квартиры рассматриваемого центрального сегмента\n",
    "- статистическая средняя  квартира данного сегмента:\n",
    "  * *2х-комнатная квартира* \n",
    "  * *жилая площадь - 54 - 55 кв. м*\n",
    "  * *цена - 15 млн.руб*\n",
    "  * *высота потолков - 3 м (что характерно для Санкт-Петербурга)*"
   ]
  },
  {
   "cell_type": "markdown",
   "metadata": {},
   "source": [
    "**Рассмотрим факторы, влияющие на стоимость квартир центрального сегмента**"
   ]
  },
  {
   "cell_type": "code",
   "execution_count": 54,
   "metadata": {
    "scrolled": true
   },
   "outputs": [
    {
     "data": {
      "text/plain": [
       "0.3158912733124985"
      ]
     },
     "execution_count": 54,
     "metadata": {},
     "output_type": "execute_result"
    },
    {
     "data": {
      "image/png": "[encoded data removed]",
      "text/plain": [
       "<Figure size 432x288 with 1 Axes>"
      ]
     },
     "metadata": {
      "needs_background": "light"
     },
     "output_type": "display_data"
    }
   ],
   "source": [
    "# изучим зависимость стоимости от количества комнат\n",
    "pivot_table_rooms = center_flat_spb.pivot_table(index = 'rooms', \n",
    "                                                values = 'last_price', \n",
    "                                                aggfunc = ['count', 'median'])\n",
    "pivot_table_rooms.plot(y = 'median')\n",
    "center_flat_spb['rooms'].corr(center_flat_spb['last_price'])\n"
   ]
  },
  {
   "cell_type": "markdown",
   "metadata": {},
   "source": [
    "**Вывод** корелляция аналогичная как и в других объявлениях"
   ]
  },
  {
   "cell_type": "code",
   "execution_count": 55,
   "metadata": {},
   "outputs": [
    {
     "data": {
      "text/html": [
       "<div>\n",
       "<style scoped>\n",
       "    .dataframe tbody tr th:only-of-type {\n",
       "        vertical-align: middle;\n",
       "    }\n",
       "\n",
       "    .dataframe tbody tr th {\n",
       "        vertical-align: top;\n",
       "    }\n",
       "\n",
       "    .dataframe thead th {\n",
       "        text-align: right;\n",
       "    }\n",
       "</style>\n",
       "<table border=\"1\" class=\"dataframe\">\n",
       "  <thead>\n",
       "    <tr style=\"text-align: right;\">\n",
       "      <th></th>\n",
       "      <th>count</th>\n",
       "      <th>median</th>\n",
       "    </tr>\n",
       "    <tr>\n",
       "      <th>floor_category</th>\n",
       "      <th></th>\n",
       "      <th></th>\n",
       "    </tr>\n",
       "  </thead>\n",
       "  <tbody>\n",
       "    <tr>\n",
       "      <td>другой</td>\n",
       "      <td>2500</td>\n",
       "      <td>9.625</td>\n",
       "    </tr>\n",
       "    <tr>\n",
       "      <td>первый</td>\n",
       "      <td>380</td>\n",
       "      <td>6.700</td>\n",
       "    </tr>\n",
       "    <tr>\n",
       "      <td>последний</td>\n",
       "      <td>628</td>\n",
       "      <td>9.250</td>\n",
       "    </tr>\n",
       "  </tbody>\n",
       "</table>\n",
       "</div>"
      ],
      "text/plain": [
       "                count  median\n",
       "floor_category               \n",
       "другой           2500   9.625\n",
       "первый            380   6.700\n",
       "последний         628   9.250"
      ]
     },
     "execution_count": 55,
     "metadata": {},
     "output_type": "execute_result"
    },
    {
     "data": {
      "image/png": "[encoded data removed]",
      "text/plain": [
       "<Figure size 432x288 with 1 Axes>"
      ]
     },
     "metadata": {
      "needs_background": "light"
     },
     "output_type": "display_data"
    }
   ],
   "source": [
    "# изучим зависимость стоимости от этажа квартиры\n",
    "pivot_table_floor_category = center_flat_spb.pivot_table(index = 'floor_category', \n",
    "                                                         values = 'last_price', \n",
    "                                                         aggfunc = ['count', 'median'])\n",
    "pivot_table_floor_category.columns = ['count', 'median']\n",
    "pivot_table_floor_category.plot(y = 'median')\n",
    "pivot_table_floor_category\n"
   ]
  },
  {
   "cell_type": "markdown",
   "metadata": {},
   "source": [
    "**Вывод** корреляция идентичная, но цена выше, чем средняя по объявлениям (квартиры в центре СПб дороже)"
   ]
  },
  {
   "cell_type": "code",
   "execution_count": 56,
   "metadata": {},
   "outputs": [
    {
     "data": {
      "text/plain": [
       "-0.017890646748468412"
      ]
     },
     "execution_count": 56,
     "metadata": {},
     "output_type": "execute_result"
    },
    {
     "data": {
      "image/png": "[encoded data removed]",
      "text/plain": [
       "<Figure size 432x288 with 1 Axes>"
      ]
     },
     "metadata": {
      "needs_background": "light"
     },
     "output_type": "display_data"
    }
   ],
   "source": [
    "# изучим влияние стоимости квартиры за 1 кв.м в зависимости от удаленности от центра\n",
    "center_flat_spb.plot(x = 'cityCenters_nearest',  y = 'price_sq_meter_KRUR', \n",
    "                     kind = 'scatter', alpha = 0.2)\n",
    "center_flat_spb['cityCenters_nearest'].corr(center_flat_spb['price_sq_meter_KRUR'])\n"
   ]
  },
  {
   "cell_type": "markdown",
   "metadata": {},
   "source": [
    "**Вывод** тут уже трудно выделить какую-либо зависимость в районе центрального сегмента, коэффициент корреляции в 2 раза ниже, чем был в целом по объявлениям"
   ]
  },
  {
   "cell_type": "code",
   "execution_count": 57,
   "metadata": {},
   "outputs": [
    {
     "data": {
      "image/png": "[encoded data removed]",
      "text/plain": [
       "<Figure size 432x288 with 1 Axes>"
      ]
     },
     "metadata": {
      "needs_background": "light"
     },
     "output_type": "display_data"
    }
   ],
   "source": [
    "# проверим зависимость стоимости от дня недели публикации объявления\n",
    "pivot_table_weekday_exposition = center_flat_spb.pivot_table(index = 'weekday', \n",
    "                                                             values = 'last_price', \n",
    "                                                             aggfunc = ['count', 'median'])\n",
    "pivot_table_weekday_exposition.plot(y = 'median');\n"
   ]
  },
  {
   "cell_type": "markdown",
   "metadata": {},
   "source": [
    "**Вывод** наименьшая цена публикации объявлений - Сб., наибольшая - Пн.,Ср. и Вс.. Данная зависимость отличается от общей по объявлениям"
   ]
  },
  {
   "cell_type": "code",
   "execution_count": 58,
   "metadata": {},
   "outputs": [
    {
     "data": {
      "image/png": "[encoded data removed]",
      "text/plain": [
       "<Figure size 432x288 with 1 Axes>"
      ]
     },
     "metadata": {
      "needs_background": "light"
     },
     "output_type": "display_data"
    }
   ],
   "source": [
    "# проверим зависимость стоимости от месяца публикации объявления\n",
    "pivot_table_month_exposition = center_flat_spb.pivot_table(index = 'month', \n",
    "                                                           values = 'last_price', \n",
    "                                                           aggfunc = ['count', 'median'])\n",
    "pivot_table_month_exposition.plot(y = 'median');\n"
   ]
  },
  {
   "cell_type": "markdown",
   "metadata": {},
   "source": [
    "**Вывод** по месяцам зависимость имеет \"схожую природу\" - спад цен в летний период более очевидна по СПб, начинается с апреля и длится гораздо дольше. В целом волатильность цен в СПб выше."
   ]
  },
  {
   "cell_type": "code",
   "execution_count": 59,
   "metadata": {
    "scrolled": false
   },
   "outputs": [
    {
     "data": {
      "image/png": "[encoded data removed]",
      "text/plain": [
       "<Figure size 432x288 with 1 Axes>"
      ]
     },
     "metadata": {
      "needs_background": "light"
     },
     "output_type": "display_data"
    }
   ],
   "source": [
    "# проверим зависимость стоимости от года публикации объявления\n",
    "pivot_table_year_exposition = center_flat_spb.pivot_table(index = 'year', \n",
    "                                                          values = 'last_price', \n",
    "                                                          aggfunc = ['count', 'median'])\n",
    "pivot_table_year_exposition.plot(y = 'median');\n"
   ]
  },
  {
   "cell_type": "code",
   "execution_count": 60,
   "metadata": {},
   "outputs": [
    {
     "data": {
      "image/png": "[encoded data removed]",
      "text/plain": [
       "<Figure size 432x288 with 1 Axes>"
      ]
     },
     "metadata": {
      "needs_background": "light"
     },
     "output_type": "display_data"
    }
   ],
   "source": [
    "# посмотрим на гистограмму по всей площади СПб\n",
    "flat_spb = data.query('locality_name == \"Санкт-Петербург\"')\n",
    "pivot_table_year_exposition = flat_spb.pivot_table(index = 'year', \n",
    "                                                   values = 'last_price', \n",
    "                                                   aggfunc = ['count', 'median'])\n",
    "pivot_table_year_exposition.plot(y = 'median');\n"
   ]
  },
  {
   "cell_type": "markdown",
   "metadata": {},
   "source": [
    "**Вывод** график по центральному сектору СПб аналогичен графику по всем объявлениям - падение цен коснулось всего рынка недвижимости, вне зависимости от размещения квартир\n",
    "<br> Если сравнить центр в целом во СПб, то квартиры в центре на порядок дороже ( почти на 70%)"
   ]
  },
  {
   "cell_type": "code",
   "execution_count": 61,
   "metadata": {
    "scrolled": false
   },
   "outputs": [
    {
     "data": {
      "image/png": "[encoded data removed]",
      "text/plain": [
       "<Figure size 432x288 with 1 Axes>"
      ]
     },
     "metadata": {
      "needs_background": "light"
     },
     "output_type": "display_data"
    }
   ],
   "source": [
    "# проверим зависимость стоимости за 1 кв.м от года публикации объявления\n",
    "pivot_table_year_exposition = center_flat_spb.pivot_table(index = 'year', \n",
    "                                                          values = 'price_sq_meter_KRUR', \n",
    "                                                          aggfunc = ['count', 'median'])\n",
    "pivot_table_year_exposition.plot(y = 'median');\n"
   ]
  },
  {
   "cell_type": "code",
   "execution_count": 62,
   "metadata": {},
   "outputs": [
    {
     "data": {
      "image/png": "[encoded data removed]",
      "text/plain": [
       "<Figure size 432x288 with 1 Axes>"
      ]
     },
     "metadata": {
      "needs_background": "light"
     },
     "output_type": "display_data"
    }
   ],
   "source": [
    "# посмотрим на гистограмму по всей площади СПб\n",
    "flat_spb = data.query('locality_name == \"Санкт-Петербург\"')\n",
    "pivot_table_year_exposition = flat_spb.pivot_table(index = 'year', \n",
    "                                                   values = 'price_sq_meter_KRUR', \n",
    "                                                   aggfunc = ['count', 'median'])\n",
    "pivot_table_year_exposition.plot(y = 'median');\n"
   ]
  },
  {
   "cell_type": "markdown",
   "metadata": {},
   "source": [
    "**Вывод** однако, если говорить о стоимости за 1 кв.м квартир, то она начала увеличиваться с 2016 и более заметно после 2018 г.\n",
    "Отсюда можно сделать вывод, что клиенты переореентировались на более компактные и дешевые квартиры (меньшие по площади), но с бОльшей ценой за кв.м.\n",
    "<br> Опять же в сравнении со всем городом видно, что стоимость 1 кв.м в центре так же выше и расчет более резко."
   ]
  },
  {
   "cell_type": "markdown",
   "metadata": {},
   "source": [
    "### Вывод"
   ]
  },
  {
   "cell_type": "markdown",
   "metadata": {},
   "source": [
    "- в ходе этапа была проанализирована частота объявлений от параметров: площадь, число комнат, высота потолков, цена;\n",
    "- определена среднестатистическая квартира в объявлении: 2х комнатная квартира, площадью 52 кв.м с высотой потолков 2,64 м и стоимостью 4,6 млн.руб;\n",
    "- проведен анализ времени (день недели, месяц и год) и длительности продаж квартир, построены гистограммы, сделаны выводы по зависимостям;\n",
    "- проанализированы факторы, влияющие на стоимость квартир: площадь квартиры, число комнат, этаж и удаленность от центра;\n",
    "- были выделены квартиры центрального сегмента в радиусе 7 км центра СПб;\n",
    "- аналогичный анализ по параметрам был проведен для центра СПб и выполнено сравнение с общим анализом по всем объявлениям, определены различия."
   ]
  },
  {
   "cell_type": "markdown",
   "metadata": {},
   "source": [
    "## Общий вывод"
   ]
  },
  {
   "cell_type": "markdown",
   "metadata": {},
   "source": [
    "Исходя из всей проделанной работы над данными и их анализом, можно отметить следующее:\n",
    "\n",
    "- Наиболее важными парметрами, влияющими на стоимость недвижимости являются: площадь квартиры (вкл.кол-во комнат), этаж, удаленность до центра (в радиусе 7 км квартиры дороже). Заполнение этих данных должно контролироваться, во избежании пропусков значений и аномалий.\n",
    "- Срок продажи квартиры. По слишком долгим продажам — более 16,7 месяцев (500 дней) и слишком быстрым - менее 2х недель, должны проверяться обоснованность цен на квартиры с целью исключения мошеннических действий.\n",
    "- По высоте потолков следует ввести ограничения для ввода: например, выбор из списка уже заданных значений, чтобы исключить многочисленные ошибки со слишком низкими и слишком высокими потолками.\n",
    "- Объявления без указания локации или количества комнат не должны допускаться к публикации.\n",
    "- Допущенные в данных пропуски по расстоянию от центра, до аэропорта и подобные параметры должны расчитываться автоматически по данным карт в зависимости от локации квартир (дополнительно требуется ввести поле с адресом квартир). Пропусков в данных станет меньше и информация, представленная в км, а не метрах - информативнее.\n"
   ]
  }
 ],
 "metadata": {
  "ExecuteTimeLog": [
   {
    "duration": 218,
    "start_time": "2021-12-25T10:03:16.027Z"
   },
   {
    "duration": 170,
    "start_time": "2021-12-25T10:03:38.777Z"
   },
   {
    "duration": 589,
    "start_time": "2021-12-25T10:03:55.468Z"
   },
   {
    "duration": 60,
    "start_time": "2021-12-25T10:03:57.977Z"
   },
   {
    "duration": 66,
    "start_time": "2021-12-25T10:04:11.770Z"
   },
   {
    "duration": 1278,
    "start_time": "2021-12-25T10:04:29.612Z"
   },
   {
    "duration": 80,
    "start_time": "2021-12-25T10:04:50.457Z"
   },
   {
    "duration": 72,
    "start_time": "2021-12-25T10:05:48.213Z"
   },
   {
    "duration": 77,
    "start_time": "2021-12-25T10:13:11.665Z"
   },
   {
    "duration": 27,
    "start_time": "2021-12-25T10:13:33.488Z"
   },
   {
    "duration": 6,
    "start_time": "2021-12-25T10:46:14.970Z"
   },
   {
    "duration": 8,
    "start_time": "2021-12-25T10:48:51.830Z"
   },
   {
    "duration": 28,
    "start_time": "2021-12-25T10:49:06.332Z"
   },
   {
    "duration": 189,
    "start_time": "2021-12-25T11:00:28.560Z"
   },
   {
    "duration": 185,
    "start_time": "2021-12-25T11:01:55.036Z"
   },
   {
    "duration": 196,
    "start_time": "2021-12-25T11:02:37.360Z"
   },
   {
    "duration": 17,
    "start_time": "2021-12-25T11:05:36.596Z"
   },
   {
    "duration": 185,
    "start_time": "2021-12-25T11:05:54.029Z"
   },
   {
    "duration": 7,
    "start_time": "2021-12-25T11:08:32.384Z"
   },
   {
    "duration": 33,
    "start_time": "2021-12-25T11:13:10.261Z"
   },
   {
    "duration": 32,
    "start_time": "2021-12-25T11:13:27.438Z"
   },
   {
    "duration": 12,
    "start_time": "2021-12-25T11:13:57.037Z"
   },
   {
    "duration": 13,
    "start_time": "2021-12-25T11:14:19.951Z"
   },
   {
    "duration": 32,
    "start_time": "2021-12-25T11:15:21.089Z"
   },
   {
    "duration": 65,
    "start_time": "2021-12-25T11:16:17.784Z"
   },
   {
    "duration": 6,
    "start_time": "2021-12-25T11:16:29.137Z"
   },
   {
    "duration": 12,
    "start_time": "2021-12-25T11:17:35.944Z"
   },
   {
    "duration": 3,
    "start_time": "2021-12-25T11:18:41.035Z"
   },
   {
    "duration": 78,
    "start_time": "2021-12-25T11:18:41.040Z"
   },
   {
    "duration": 8,
    "start_time": "2021-12-25T11:18:41.121Z"
   },
   {
    "duration": 83,
    "start_time": "2021-12-25T11:18:41.130Z"
   },
   {
    "duration": 25,
    "start_time": "2021-12-25T11:18:41.214Z"
   },
   {
    "duration": 19,
    "start_time": "2021-12-25T11:18:41.240Z"
   },
   {
    "duration": 60,
    "start_time": "2021-12-25T11:24:20.850Z"
   },
   {
    "duration": 12,
    "start_time": "2021-12-25T11:24:36.263Z"
   },
   {
    "duration": 17,
    "start_time": "2021-12-25T11:27:54.230Z"
   },
   {
    "duration": 13,
    "start_time": "2021-12-25T11:29:15.748Z"
   },
   {
    "duration": 12,
    "start_time": "2021-12-25T11:29:36.721Z"
   },
   {
    "duration": 16,
    "start_time": "2021-12-25T11:30:30.744Z"
   },
   {
    "duration": 12,
    "start_time": "2021-12-25T11:32:39.252Z"
   },
   {
    "duration": 6,
    "start_time": "2021-12-25T11:35:11.595Z"
   },
   {
    "duration": 3,
    "start_time": "2021-12-25T11:35:19.543Z"
   },
   {
    "duration": 11,
    "start_time": "2021-12-25T11:35:28.333Z"
   },
   {
    "duration": 3,
    "start_time": "2021-12-25T11:40:34.461Z"
   },
   {
    "duration": 6,
    "start_time": "2021-12-25T11:40:36.740Z"
   },
   {
    "duration": 24,
    "start_time": "2021-12-25T11:40:51.321Z"
   },
   {
    "duration": 18,
    "start_time": "2021-12-25T11:44:38.307Z"
   },
   {
    "duration": 22,
    "start_time": "2021-12-25T11:51:28.146Z"
   },
   {
    "duration": 24,
    "start_time": "2021-12-25T12:00:07.417Z"
   },
   {
    "duration": 23,
    "start_time": "2021-12-25T12:00:26.719Z"
   },
   {
    "duration": 4573,
    "start_time": "2021-12-25T12:01:41.242Z"
   },
   {
    "duration": 22,
    "start_time": "2021-12-25T12:02:48.922Z"
   },
   {
    "duration": 22,
    "start_time": "2021-12-25T12:03:24.451Z"
   },
   {
    "duration": 7,
    "start_time": "2021-12-25T12:03:58.659Z"
   },
   {
    "duration": 13,
    "start_time": "2021-12-25T12:07:56.964Z"
   },
   {
    "duration": 31,
    "start_time": "2021-12-25T12:22:56.545Z"
   },
   {
    "duration": 826,
    "start_time": "2021-12-25T12:27:51.571Z"
   },
   {
    "duration": 815,
    "start_time": "2021-12-25T12:28:03.912Z"
   },
   {
    "duration": 821,
    "start_time": "2021-12-25T12:29:00.287Z"
   },
   {
    "duration": 744,
    "start_time": "2021-12-25T12:29:15.338Z"
   },
   {
    "duration": 526,
    "start_time": "2021-12-25T12:31:15.619Z"
   },
   {
    "duration": 75,
    "start_time": "2021-12-25T12:31:16.146Z"
   },
   {
    "duration": 13,
    "start_time": "2021-12-25T12:31:16.223Z"
   },
   {
    "duration": 82,
    "start_time": "2021-12-25T12:31:16.238Z"
   },
   {
    "duration": 26,
    "start_time": "2021-12-25T12:31:16.322Z"
   },
   {
    "duration": 23,
    "start_time": "2021-12-25T12:31:16.350Z"
   },
   {
    "duration": 21,
    "start_time": "2021-12-25T12:31:16.391Z"
   },
   {
    "duration": 6,
    "start_time": "2021-12-25T12:31:16.414Z"
   },
   {
    "duration": 13,
    "start_time": "2021-12-25T12:31:16.422Z"
   },
   {
    "duration": 20,
    "start_time": "2021-12-25T12:31:16.436Z"
   },
   {
    "duration": 51,
    "start_time": "2021-12-25T12:31:16.458Z"
   },
   {
    "duration": 29,
    "start_time": "2021-12-25T12:31:16.511Z"
   },
   {
    "duration": 793,
    "start_time": "2021-12-25T12:31:16.541Z"
   },
   {
    "duration": 696,
    "start_time": "2021-12-25T12:33:22.845Z"
   },
   {
    "duration": 827,
    "start_time": "2021-12-25T12:33:58.496Z"
   },
   {
    "duration": 479,
    "start_time": "2021-12-25T12:35:49.253Z"
   },
   {
    "duration": 24,
    "start_time": "2021-12-25T12:39:39.959Z"
   },
   {
    "duration": 24,
    "start_time": "2021-12-25T12:40:16.209Z"
   },
   {
    "duration": 25,
    "start_time": "2021-12-25T12:42:13.083Z"
   },
   {
    "duration": 67,
    "start_time": "2021-12-25T12:53:05.853Z"
   },
   {
    "duration": 416,
    "start_time": "2021-12-25T12:53:59.092Z"
   },
   {
    "duration": 310,
    "start_time": "2021-12-25T12:55:06.848Z"
   },
   {
    "duration": 303,
    "start_time": "2021-12-25T12:55:15.163Z"
   },
   {
    "duration": 9,
    "start_time": "2021-12-25T13:01:56.305Z"
   },
   {
    "duration": 283,
    "start_time": "2021-12-25T13:01:58.512Z"
   },
   {
    "duration": 9,
    "start_time": "2021-12-25T13:02:21.963Z"
   },
   {
    "duration": 9,
    "start_time": "2021-12-25T13:02:42.937Z"
   },
   {
    "duration": 10,
    "start_time": "2021-12-25T13:03:15.834Z"
   },
   {
    "duration": 63,
    "start_time": "2021-12-25T13:04:27.151Z"
   },
   {
    "duration": 4,
    "start_time": "2021-12-25T13:04:56.185Z"
   },
   {
    "duration": 11,
    "start_time": "2021-12-25T13:05:14.236Z"
   },
   {
    "duration": 10,
    "start_time": "2021-12-25T13:05:26.531Z"
   },
   {
    "duration": 9,
    "start_time": "2021-12-25T13:05:48.690Z"
   },
   {
    "duration": 613,
    "start_time": "2021-12-25T13:06:02.645Z"
   },
   {
    "duration": 90,
    "start_time": "2021-12-25T13:06:03.260Z"
   },
   {
    "duration": 11,
    "start_time": "2021-12-25T13:06:03.352Z"
   },
   {
    "duration": 96,
    "start_time": "2021-12-25T13:06:03.365Z"
   },
   {
    "duration": 47,
    "start_time": "2021-12-25T13:06:03.463Z"
   },
   {
    "duration": 23,
    "start_time": "2021-12-25T13:06:03.512Z"
   },
   {
    "duration": 24,
    "start_time": "2021-12-25T13:06:03.537Z"
   },
   {
    "duration": 7,
    "start_time": "2021-12-25T13:06:03.563Z"
   },
   {
    "duration": 17,
    "start_time": "2021-12-25T13:06:03.593Z"
   },
   {
    "duration": 20,
    "start_time": "2021-12-25T13:06:03.612Z"
   },
   {
    "duration": 24,
    "start_time": "2021-12-25T13:06:03.634Z"
   },
   {
    "duration": 67,
    "start_time": "2021-12-25T13:06:03.659Z"
   },
   {
    "duration": 521,
    "start_time": "2021-12-25T13:06:03.727Z"
   },
   {
    "duration": 25,
    "start_time": "2021-12-25T13:06:04.250Z"
   },
   {
    "duration": 31,
    "start_time": "2021-12-25T13:06:04.277Z"
   },
   {
    "duration": 8,
    "start_time": "2021-12-25T13:06:04.310Z"
   },
   {
    "duration": 418,
    "start_time": "2021-12-25T13:06:04.319Z"
   },
   {
    "duration": 10,
    "start_time": "2021-12-25T13:06:04.739Z"
   },
   {
    "duration": 318,
    "start_time": "2021-12-25T13:06:04.751Z"
   },
   {
    "duration": 9,
    "start_time": "2021-12-25T13:06:38.462Z"
   },
   {
    "duration": 9,
    "start_time": "2021-12-25T13:07:28.206Z"
   },
   {
    "duration": 301,
    "start_time": "2021-12-25T13:07:42.677Z"
   },
   {
    "duration": 78,
    "start_time": "2021-12-25T13:08:24.224Z"
   },
   {
    "duration": 116,
    "start_time": "2021-12-25T13:08:45.151Z"
   },
   {
    "duration": 320,
    "start_time": "2021-12-25T13:09:00.742Z"
   },
   {
    "duration": 327,
    "start_time": "2021-12-25T13:09:42.885Z"
   },
   {
    "duration": 307,
    "start_time": "2021-12-25T13:09:49.996Z"
   },
   {
    "duration": 380,
    "start_time": "2021-12-25T13:10:25.118Z"
   },
   {
    "duration": 12,
    "start_time": "2021-12-25T13:13:27.348Z"
   },
   {
    "duration": 301,
    "start_time": "2021-12-25T13:13:56.157Z"
   },
   {
    "duration": 261,
    "start_time": "2021-12-25T13:14:04.295Z"
   },
   {
    "duration": 247,
    "start_time": "2021-12-25T13:14:30.934Z"
   },
   {
    "duration": 218,
    "start_time": "2021-12-25T13:14:41.045Z"
   },
   {
    "duration": 253,
    "start_time": "2021-12-25T13:14:50.417Z"
   },
   {
    "duration": 262,
    "start_time": "2021-12-25T13:14:57.814Z"
   },
   {
    "duration": 10,
    "start_time": "2021-12-25T13:18:18.395Z"
   },
   {
    "duration": 252,
    "start_time": "2021-12-25T13:18:45.763Z"
   },
   {
    "duration": 220,
    "start_time": "2021-12-26T09:19:42.859Z"
   },
   {
    "duration": 613,
    "start_time": "2021-12-26T09:20:02.150Z"
   },
   {
    "duration": 77,
    "start_time": "2021-12-26T09:20:02.765Z"
   },
   {
    "duration": 10,
    "start_time": "2021-12-26T09:20:02.844Z"
   },
   {
    "duration": 83,
    "start_time": "2021-12-26T09:20:02.856Z"
   },
   {
    "duration": 25,
    "start_time": "2021-12-26T09:20:02.941Z"
   },
   {
    "duration": 36,
    "start_time": "2021-12-26T09:20:02.968Z"
   },
   {
    "duration": 23,
    "start_time": "2021-12-26T09:20:03.006Z"
   },
   {
    "duration": 6,
    "start_time": "2021-12-26T09:20:03.031Z"
   },
   {
    "duration": 14,
    "start_time": "2021-12-26T09:20:03.039Z"
   },
   {
    "duration": 48,
    "start_time": "2021-12-26T09:20:03.055Z"
   },
   {
    "duration": 25,
    "start_time": "2021-12-26T09:20:03.105Z"
   },
   {
    "duration": 29,
    "start_time": "2021-12-26T09:20:03.132Z"
   },
   {
    "duration": 514,
    "start_time": "2021-12-26T09:20:03.162Z"
   },
   {
    "duration": 29,
    "start_time": "2021-12-26T09:20:03.678Z"
   },
   {
    "duration": 23,
    "start_time": "2021-12-26T09:20:03.709Z"
   },
   {
    "duration": 8,
    "start_time": "2021-12-26T09:20:03.733Z"
   },
   {
    "duration": 373,
    "start_time": "2021-12-26T09:20:03.743Z"
   },
   {
    "duration": 9,
    "start_time": "2021-12-26T09:20:04.118Z"
   },
   {
    "duration": 342,
    "start_time": "2021-12-26T09:20:04.128Z"
   },
   {
    "duration": 19,
    "start_time": "2021-12-26T09:20:04.472Z"
   },
   {
    "duration": 283,
    "start_time": "2021-12-26T09:20:04.493Z"
   },
   {
    "duration": 18,
    "start_time": "2021-12-26T09:20:04.777Z"
   },
   {
    "duration": 317,
    "start_time": "2021-12-26T09:20:04.796Z"
   },
   {
    "duration": 38,
    "start_time": "2021-12-26T09:24:33.073Z"
   },
   {
    "duration": 35,
    "start_time": "2021-12-26T09:24:57.072Z"
   },
   {
    "duration": 9,
    "start_time": "2021-12-26T09:25:07.409Z"
   },
   {
    "duration": 247,
    "start_time": "2021-12-26T09:25:57.628Z"
   },
   {
    "duration": 183,
    "start_time": "2021-12-26T09:26:25.107Z"
   },
   {
    "duration": 194,
    "start_time": "2021-12-26T09:26:47.286Z"
   },
   {
    "duration": 199,
    "start_time": "2021-12-26T09:27:02.314Z"
   },
   {
    "duration": 204,
    "start_time": "2021-12-26T09:27:20.340Z"
   },
   {
    "duration": 17,
    "start_time": "2021-12-26T09:28:02.674Z"
   },
   {
    "duration": 37,
    "start_time": "2021-12-26T09:28:48.249Z"
   },
   {
    "duration": 10,
    "start_time": "2021-12-26T09:29:02.621Z"
   },
   {
    "duration": 183,
    "start_time": "2021-12-26T09:32:11.165Z"
   },
   {
    "duration": 25,
    "start_time": "2021-12-26T09:32:37.130Z"
   },
   {
    "duration": 10,
    "start_time": "2021-12-26T09:40:01.408Z"
   },
   {
    "duration": 10,
    "start_time": "2021-12-26T09:43:04.435Z"
   },
   {
    "duration": 9,
    "start_time": "2021-12-26T09:43:14.817Z"
   },
   {
    "duration": 9,
    "start_time": "2021-12-26T09:43:23.231Z"
   },
   {
    "duration": 9,
    "start_time": "2021-12-26T09:50:26.713Z"
   },
   {
    "duration": 658,
    "start_time": "2021-12-26T09:51:14.429Z"
   },
   {
    "duration": 77,
    "start_time": "2021-12-26T09:51:15.089Z"
   },
   {
    "duration": 11,
    "start_time": "2021-12-26T09:51:15.168Z"
   },
   {
    "duration": 75,
    "start_time": "2021-12-26T09:51:15.181Z"
   },
   {
    "duration": 10,
    "start_time": "2021-12-26T09:51:15.258Z"
   },
   {
    "duration": 29,
    "start_time": "2021-12-26T09:51:15.270Z"
   },
   {
    "duration": 25,
    "start_time": "2021-12-26T09:51:15.300Z"
   },
   {
    "duration": 25,
    "start_time": "2021-12-26T09:51:15.327Z"
   },
   {
    "duration": 7,
    "start_time": "2021-12-26T09:51:15.354Z"
   },
   {
    "duration": 18,
    "start_time": "2021-12-26T09:51:15.363Z"
   },
   {
    "duration": 26,
    "start_time": "2021-12-26T09:51:15.383Z"
   },
   {
    "duration": 25,
    "start_time": "2021-12-26T09:51:15.410Z"
   },
   {
    "duration": 30,
    "start_time": "2021-12-26T09:51:15.436Z"
   },
   {
    "duration": 587,
    "start_time": "2021-12-26T09:51:15.468Z"
   },
   {
    "duration": 24,
    "start_time": "2021-12-26T09:51:16.056Z"
   },
   {
    "duration": 22,
    "start_time": "2021-12-26T09:51:16.092Z"
   },
   {
    "duration": 8,
    "start_time": "2021-12-26T09:51:16.116Z"
   },
   {
    "duration": 360,
    "start_time": "2021-12-26T09:51:16.125Z"
   },
   {
    "duration": 11,
    "start_time": "2021-12-26T09:51:16.487Z"
   },
   {
    "duration": 431,
    "start_time": "2021-12-26T09:51:16.500Z"
   },
   {
    "duration": 61,
    "start_time": "2021-12-26T09:51:16.932Z"
   },
   {
    "duration": 362,
    "start_time": "2021-12-26T09:51:16.994Z"
   },
   {
    "duration": 9,
    "start_time": "2021-12-26T09:51:17.358Z"
   },
   {
    "duration": 268,
    "start_time": "2021-12-26T09:51:17.368Z"
   },
   {
    "duration": 19,
    "start_time": "2021-12-26T09:54:44.910Z"
   },
   {
    "duration": 17,
    "start_time": "2021-12-26T09:55:15.931Z"
   },
   {
    "duration": 15,
    "start_time": "2021-12-26T09:55:39.133Z"
   },
   {
    "duration": 15,
    "start_time": "2021-12-26T09:56:39.279Z"
   },
   {
    "duration": 282,
    "start_time": "2021-12-26T09:57:29.364Z"
   },
   {
    "duration": 213,
    "start_time": "2021-12-26T09:57:34.880Z"
   },
   {
    "duration": 29,
    "start_time": "2021-12-26T09:57:48.680Z"
   },
   {
    "duration": 32,
    "start_time": "2021-12-26T09:58:19.176Z"
   },
   {
    "duration": 196,
    "start_time": "2021-12-26T09:58:38.877Z"
   },
   {
    "duration": 91,
    "start_time": "2021-12-26T09:58:58.933Z"
   },
   {
    "duration": 203,
    "start_time": "2021-12-26T09:59:33.358Z"
   },
   {
    "duration": 1289,
    "start_time": "2021-12-26T09:59:43.565Z"
   },
   {
    "duration": 92,
    "start_time": "2021-12-26T09:59:56.613Z"
   },
   {
    "duration": 17,
    "start_time": "2021-12-26T10:00:23.041Z"
   },
   {
    "duration": 10,
    "start_time": "2021-12-26T10:01:14.915Z"
   },
   {
    "duration": 273,
    "start_time": "2021-12-26T10:02:02.703Z"
   },
   {
    "duration": 29,
    "start_time": "2021-12-26T10:02:26.424Z"
   },
   {
    "duration": 48,
    "start_time": "2021-12-26T10:03:32.123Z"
   },
   {
    "duration": 16,
    "start_time": "2021-12-26T10:05:23.821Z"
   },
   {
    "duration": 611,
    "start_time": "2021-12-26T10:05:57.821Z"
   },
   {
    "duration": 81,
    "start_time": "2021-12-26T10:05:58.434Z"
   },
   {
    "duration": 11,
    "start_time": "2021-12-26T10:05:58.517Z"
   },
   {
    "duration": 88,
    "start_time": "2021-12-26T10:05:58.530Z"
   },
   {
    "duration": 9,
    "start_time": "2021-12-26T10:05:58.620Z"
   },
   {
    "duration": 23,
    "start_time": "2021-12-26T10:05:58.631Z"
   },
   {
    "duration": 40,
    "start_time": "2021-12-26T10:05:58.656Z"
   },
   {
    "duration": 25,
    "start_time": "2021-12-26T10:05:58.699Z"
   },
   {
    "duration": 27,
    "start_time": "2021-12-26T10:05:58.726Z"
   },
   {
    "duration": 6,
    "start_time": "2021-12-26T10:05:58.755Z"
   },
   {
    "duration": 40,
    "start_time": "2021-12-26T10:05:58.763Z"
   },
   {
    "duration": 22,
    "start_time": "2021-12-26T10:05:58.805Z"
   },
   {
    "duration": 25,
    "start_time": "2021-12-26T10:05:58.829Z"
   },
   {
    "duration": 52,
    "start_time": "2021-12-26T10:05:58.856Z"
   },
   {
    "duration": 528,
    "start_time": "2021-12-26T10:05:58.909Z"
   },
   {
    "duration": 29,
    "start_time": "2021-12-26T10:05:59.439Z"
   },
   {
    "duration": 46,
    "start_time": "2021-12-26T10:05:59.470Z"
   },
   {
    "duration": 13,
    "start_time": "2021-12-26T10:05:59.518Z"
   },
   {
    "duration": 385,
    "start_time": "2021-12-26T10:05:59.533Z"
   },
   {
    "duration": 10,
    "start_time": "2021-12-26T10:05:59.920Z"
   },
   {
    "duration": 348,
    "start_time": "2021-12-26T10:05:59.933Z"
   },
   {
    "duration": 14,
    "start_time": "2021-12-26T10:06:00.283Z"
   },
   {
    "duration": 282,
    "start_time": "2021-12-26T10:06:00.299Z"
   },
   {
    "duration": 13,
    "start_time": "2021-12-26T10:06:00.583Z"
   },
   {
    "duration": 495,
    "start_time": "2021-12-26T10:06:00.597Z"
   },
   {
    "duration": 270,
    "start_time": "2021-12-26T10:08:18.429Z"
   },
   {
    "duration": 24,
    "start_time": "2021-12-26T10:08:27.889Z"
   },
   {
    "duration": 197,
    "start_time": "2021-12-26T10:09:44.247Z"
   },
   {
    "duration": 25,
    "start_time": "2021-12-26T10:09:49.318Z"
   },
   {
    "duration": 230,
    "start_time": "2021-12-26T10:09:59.913Z"
   },
   {
    "duration": 679,
    "start_time": "2021-12-26T10:10:13.572Z"
   },
   {
    "duration": 80,
    "start_time": "2021-12-26T10:10:14.252Z"
   },
   {
    "duration": 11,
    "start_time": "2021-12-26T10:10:14.334Z"
   },
   {
    "duration": 87,
    "start_time": "2021-12-26T10:10:14.346Z"
   },
   {
    "duration": 30,
    "start_time": "2021-12-26T10:10:14.435Z"
   },
   {
    "duration": 41,
    "start_time": "2021-12-26T10:10:14.466Z"
   },
   {
    "duration": 14,
    "start_time": "2021-12-26T10:10:14.509Z"
   },
   {
    "duration": 24,
    "start_time": "2021-12-26T10:10:14.526Z"
   },
   {
    "duration": 48,
    "start_time": "2021-12-26T10:10:14.552Z"
   },
   {
    "duration": 7,
    "start_time": "2021-12-26T10:10:14.601Z"
   },
   {
    "duration": 14,
    "start_time": "2021-12-26T10:10:14.609Z"
   },
   {
    "duration": 23,
    "start_time": "2021-12-26T10:10:14.625Z"
   },
   {
    "duration": 55,
    "start_time": "2021-12-26T10:10:14.650Z"
   },
   {
    "duration": 33,
    "start_time": "2021-12-26T10:10:14.707Z"
   },
   {
    "duration": 502,
    "start_time": "2021-12-26T10:10:14.742Z"
   },
   {
    "duration": 23,
    "start_time": "2021-12-26T10:10:15.246Z"
   },
   {
    "duration": 38,
    "start_time": "2021-12-26T10:10:15.270Z"
   },
   {
    "duration": 7,
    "start_time": "2021-12-26T10:10:15.310Z"
   },
   {
    "duration": 347,
    "start_time": "2021-12-26T10:10:15.318Z"
   },
   {
    "duration": 9,
    "start_time": "2021-12-26T10:10:15.667Z"
   },
   {
    "duration": 317,
    "start_time": "2021-12-26T10:10:15.677Z"
   },
   {
    "duration": 7,
    "start_time": "2021-12-26T10:10:15.996Z"
   },
   {
    "duration": 428,
    "start_time": "2021-12-26T10:10:16.006Z"
   },
   {
    "duration": 62,
    "start_time": "2021-12-26T10:10:16.436Z"
   },
   {
    "duration": 293,
    "start_time": "2021-12-26T10:10:16.500Z"
   },
   {
    "duration": 25,
    "start_time": "2021-12-26T10:10:38.159Z"
   },
   {
    "duration": 25,
    "start_time": "2021-12-26T10:10:59.850Z"
   },
   {
    "duration": 24,
    "start_time": "2021-12-26T10:11:29.348Z"
   },
   {
    "duration": 10,
    "start_time": "2021-12-26T10:11:59.385Z"
   },
   {
    "duration": 605,
    "start_time": "2021-12-26T10:13:36.630Z"
   },
   {
    "duration": 83,
    "start_time": "2021-12-26T10:13:37.237Z"
   },
   {
    "duration": 10,
    "start_time": "2021-12-26T10:13:37.322Z"
   },
   {
    "duration": 92,
    "start_time": "2021-12-26T10:13:37.334Z"
   },
   {
    "duration": 8,
    "start_time": "2021-12-26T10:13:37.428Z"
   },
   {
    "duration": 26,
    "start_time": "2021-12-26T10:13:37.437Z"
   },
   {
    "duration": 36,
    "start_time": "2021-12-26T10:13:37.464Z"
   },
   {
    "duration": 24,
    "start_time": "2021-12-26T10:13:37.502Z"
   },
   {
    "duration": 28,
    "start_time": "2021-12-26T10:13:37.529Z"
   },
   {
    "duration": 32,
    "start_time": "2021-12-26T10:13:37.559Z"
   },
   {
    "duration": 15,
    "start_time": "2021-12-26T10:13:37.593Z"
   },
   {
    "duration": 22,
    "start_time": "2021-12-26T10:13:37.609Z"
   },
   {
    "duration": 25,
    "start_time": "2021-12-26T10:13:37.632Z"
   },
   {
    "duration": 54,
    "start_time": "2021-12-26T10:13:37.659Z"
   },
   {
    "duration": 490,
    "start_time": "2021-12-26T10:13:37.715Z"
   },
   {
    "duration": 24,
    "start_time": "2021-12-26T10:13:38.206Z"
   },
   {
    "duration": 22,
    "start_time": "2021-12-26T10:13:38.232Z"
   },
   {
    "duration": 8,
    "start_time": "2021-12-26T10:13:38.255Z"
   },
   {
    "duration": 368,
    "start_time": "2021-12-26T10:13:38.264Z"
   },
   {
    "duration": 9,
    "start_time": "2021-12-26T10:13:38.634Z"
   },
   {
    "duration": 416,
    "start_time": "2021-12-26T10:13:38.644Z"
   },
   {
    "duration": 8,
    "start_time": "2021-12-26T10:13:39.062Z"
   },
   {
    "duration": 283,
    "start_time": "2021-12-26T10:13:39.072Z"
   },
   {
    "duration": 9,
    "start_time": "2021-12-26T10:13:39.357Z"
   },
   {
    "duration": 265,
    "start_time": "2021-12-26T10:13:39.367Z"
   },
   {
    "duration": 24,
    "start_time": "2021-12-26T10:14:53.532Z"
   },
   {
    "duration": 699,
    "start_time": "2021-12-26T10:17:58.788Z"
   },
   {
    "duration": 78,
    "start_time": "2021-12-26T10:17:59.489Z"
   },
   {
    "duration": 10,
    "start_time": "2021-12-26T10:17:59.570Z"
   },
   {
    "duration": 92,
    "start_time": "2021-12-26T10:17:59.582Z"
   },
   {
    "duration": 17,
    "start_time": "2021-12-26T10:17:59.675Z"
   },
   {
    "duration": 38,
    "start_time": "2021-12-26T10:17:59.694Z"
   },
   {
    "duration": 21,
    "start_time": "2021-12-26T10:17:59.733Z"
   },
   {
    "duration": 50,
    "start_time": "2021-12-26T10:17:59.756Z"
   },
   {
    "duration": 24,
    "start_time": "2021-12-26T10:17:59.810Z"
   },
   {
    "duration": 6,
    "start_time": "2021-12-26T10:17:59.836Z"
   },
   {
    "duration": 13,
    "start_time": "2021-12-26T10:17:59.844Z"
   },
   {
    "duration": 50,
    "start_time": "2021-12-26T10:17:59.858Z"
   },
   {
    "duration": 36,
    "start_time": "2021-12-26T10:17:59.911Z"
   },
   {
    "duration": 54,
    "start_time": "2021-12-26T10:17:59.949Z"
   },
   {
    "duration": 519,
    "start_time": "2021-12-26T10:18:00.006Z"
   },
   {
    "duration": 24,
    "start_time": "2021-12-26T10:18:00.527Z"
   },
   {
    "duration": 40,
    "start_time": "2021-12-26T10:18:00.553Z"
   },
   {
    "duration": 14,
    "start_time": "2021-12-26T10:18:00.596Z"
   },
   {
    "duration": 418,
    "start_time": "2021-12-26T10:18:00.612Z"
   },
   {
    "duration": 9,
    "start_time": "2021-12-26T10:18:01.033Z"
   },
   {
    "duration": 392,
    "start_time": "2021-12-26T10:18:01.044Z"
   },
   {
    "duration": 9,
    "start_time": "2021-12-26T10:18:01.438Z"
   },
   {
    "duration": 331,
    "start_time": "2021-12-26T10:18:01.449Z"
   },
   {
    "duration": 16,
    "start_time": "2021-12-26T10:18:01.782Z"
   },
   {
    "duration": 506,
    "start_time": "2021-12-26T10:18:01.801Z"
   },
   {
    "duration": 25,
    "start_time": "2021-12-26T10:20:39.032Z"
   },
   {
    "duration": 103,
    "start_time": "2021-12-26T10:31:12.090Z"
   },
   {
    "duration": 33,
    "start_time": "2021-12-26T10:42:20.090Z"
   },
   {
    "duration": 24,
    "start_time": "2021-12-26T10:42:34.227Z"
   },
   {
    "duration": 24,
    "start_time": "2021-12-26T10:42:41.442Z"
   },
   {
    "duration": 25,
    "start_time": "2021-12-26T10:42:45.910Z"
   },
   {
    "duration": 26,
    "start_time": "2021-12-26T10:42:56.874Z"
   },
   {
    "duration": 25,
    "start_time": "2021-12-26T10:43:06.637Z"
   },
   {
    "duration": 807,
    "start_time": "2021-12-26T10:43:42.806Z"
   },
   {
    "duration": 82,
    "start_time": "2021-12-26T10:43:43.620Z"
   },
   {
    "duration": 16,
    "start_time": "2021-12-26T10:43:43.709Z"
   },
   {
    "duration": 98,
    "start_time": "2021-12-26T10:43:43.727Z"
   },
   {
    "duration": 8,
    "start_time": "2021-12-26T10:43:43.827Z"
   },
   {
    "duration": 24,
    "start_time": "2021-12-26T10:43:43.837Z"
   },
   {
    "duration": 54,
    "start_time": "2021-12-26T10:43:43.863Z"
   },
   {
    "duration": 23,
    "start_time": "2021-12-26T10:43:43.920Z"
   },
   {
    "duration": 6,
    "start_time": "2021-12-26T10:43:43.945Z"
   },
   {
    "duration": 13,
    "start_time": "2021-12-26T10:43:43.953Z"
   },
   {
    "duration": 39,
    "start_time": "2021-12-26T10:43:43.967Z"
   },
   {
    "duration": 26,
    "start_time": "2021-12-26T10:43:44.009Z"
   },
   {
    "duration": 25,
    "start_time": "2021-12-26T10:43:44.036Z"
   },
   {
    "duration": 58,
    "start_time": "2021-12-26T10:43:44.063Z"
   },
   {
    "duration": 542,
    "start_time": "2021-12-26T10:43:44.124Z"
   },
   {
    "duration": 35,
    "start_time": "2021-12-26T10:43:44.668Z"
   },
   {
    "duration": 29,
    "start_time": "2021-12-26T10:43:44.706Z"
   },
   {
    "duration": 10,
    "start_time": "2021-12-26T10:43:44.737Z"
   },
   {
    "duration": 401,
    "start_time": "2021-12-26T10:43:44.749Z"
   },
   {
    "duration": 10,
    "start_time": "2021-12-26T10:43:45.152Z"
   },
   {
    "duration": 378,
    "start_time": "2021-12-26T10:43:45.163Z"
   },
   {
    "duration": 8,
    "start_time": "2021-12-26T10:43:45.543Z"
   },
   {
    "duration": 324,
    "start_time": "2021-12-26T10:43:45.553Z"
   },
   {
    "duration": 13,
    "start_time": "2021-12-26T10:43:45.879Z"
   },
   {
    "duration": 311,
    "start_time": "2021-12-26T10:43:45.895Z"
   },
   {
    "duration": 116,
    "start_time": "2021-12-26T10:43:46.209Z"
   },
   {
    "duration": 90,
    "start_time": "2021-12-26T10:44:03.898Z"
   },
   {
    "duration": 637,
    "start_time": "2021-12-26T10:44:30.709Z"
   },
   {
    "duration": 82,
    "start_time": "2021-12-26T10:44:31.347Z"
   },
   {
    "duration": 11,
    "start_time": "2021-12-26T10:44:31.431Z"
   },
   {
    "duration": 95,
    "start_time": "2021-12-26T10:44:31.445Z"
   },
   {
    "duration": 9,
    "start_time": "2021-12-26T10:44:31.542Z"
   },
   {
    "duration": 25,
    "start_time": "2021-12-26T10:44:31.553Z"
   },
   {
    "duration": 32,
    "start_time": "2021-12-26T10:44:31.593Z"
   },
   {
    "duration": 21,
    "start_time": "2021-12-26T10:44:31.626Z"
   },
   {
    "duration": 6,
    "start_time": "2021-12-26T10:44:31.649Z"
   },
   {
    "duration": 54,
    "start_time": "2021-12-26T10:44:31.657Z"
   },
   {
    "duration": 21,
    "start_time": "2021-12-26T10:44:31.715Z"
   },
   {
    "duration": 97,
    "start_time": "2021-12-26T10:44:31.738Z"
   },
   {
    "duration": 22,
    "start_time": "2021-12-26T10:44:31.836Z"
   },
   {
    "duration": 53,
    "start_time": "2021-12-26T10:44:31.860Z"
   },
   {
    "duration": 550,
    "start_time": "2021-12-26T10:44:31.915Z"
   },
   {
    "duration": 33,
    "start_time": "2021-12-26T10:44:32.467Z"
   },
   {
    "duration": 29,
    "start_time": "2021-12-26T10:44:32.503Z"
   },
   {
    "duration": 9,
    "start_time": "2021-12-26T10:44:32.533Z"
   },
   {
    "duration": 713,
    "start_time": "2021-12-26T10:44:32.543Z"
   },
   {
    "duration": 8,
    "start_time": "2021-12-26T10:44:33.258Z"
   },
   {
    "duration": 357,
    "start_time": "2021-12-26T10:44:33.268Z"
   },
   {
    "duration": 8,
    "start_time": "2021-12-26T10:44:33.627Z"
   },
   {
    "duration": 310,
    "start_time": "2021-12-26T10:44:33.637Z"
   },
   {
    "duration": 8,
    "start_time": "2021-12-26T10:44:33.949Z"
   },
   {
    "duration": 294,
    "start_time": "2021-12-26T10:44:33.959Z"
   },
   {
    "duration": 108,
    "start_time": "2021-12-26T10:44:34.255Z"
   },
   {
    "duration": 24,
    "start_time": "2021-12-26T10:45:31.734Z"
   },
   {
    "duration": 614,
    "start_time": "2021-12-26T10:45:52.755Z"
   },
   {
    "duration": 87,
    "start_time": "2021-12-26T10:45:53.371Z"
   },
   {
    "duration": 10,
    "start_time": "2021-12-26T10:45:53.460Z"
   },
   {
    "duration": 91,
    "start_time": "2021-12-26T10:45:53.472Z"
   },
   {
    "duration": 8,
    "start_time": "2021-12-26T10:45:53.565Z"
   },
   {
    "duration": 35,
    "start_time": "2021-12-26T10:45:53.591Z"
   },
   {
    "duration": 20,
    "start_time": "2021-12-26T10:45:53.627Z"
   },
   {
    "duration": 43,
    "start_time": "2021-12-26T10:45:53.649Z"
   },
   {
    "duration": 11,
    "start_time": "2021-12-26T10:45:53.694Z"
   },
   {
    "duration": 15,
    "start_time": "2021-12-26T10:45:53.707Z"
   },
   {
    "duration": 21,
    "start_time": "2021-12-26T10:45:53.724Z"
   },
   {
    "duration": 104,
    "start_time": "2021-12-26T10:45:53.747Z"
   },
   {
    "duration": 23,
    "start_time": "2021-12-26T10:45:53.853Z"
   },
   {
    "duration": 52,
    "start_time": "2021-12-26T10:45:53.878Z"
   },
   {
    "duration": 682,
    "start_time": "2021-12-26T10:45:53.932Z"
   },
   {
    "duration": 78,
    "start_time": "2021-12-26T10:45:54.616Z"
   },
   {
    "duration": 26,
    "start_time": "2021-12-26T10:45:54.696Z"
   },
   {
    "duration": 8,
    "start_time": "2021-12-26T10:45:54.724Z"
   },
   {
    "duration": 546,
    "start_time": "2021-12-26T10:45:54.733Z"
   },
   {
    "duration": 18,
    "start_time": "2021-12-26T10:45:55.281Z"
   },
   {
    "duration": 315,
    "start_time": "2021-12-26T10:45:55.301Z"
   },
   {
    "duration": 9,
    "start_time": "2021-12-26T10:45:55.618Z"
   },
   {
    "duration": 286,
    "start_time": "2021-12-26T10:45:55.629Z"
   },
   {
    "duration": 11,
    "start_time": "2021-12-26T10:45:55.918Z"
   },
   {
    "duration": 292,
    "start_time": "2021-12-26T10:45:55.930Z"
   },
   {
    "duration": 105,
    "start_time": "2021-12-26T10:45:56.224Z"
   },
   {
    "duration": 31,
    "start_time": "2021-12-26T10:46:33.587Z"
   },
   {
    "duration": 342,
    "start_time": "2021-12-26T10:47:33.720Z"
   },
   {
    "duration": 9,
    "start_time": "2021-12-26T10:47:49.739Z"
   },
   {
    "duration": 23,
    "start_time": "2021-12-26T10:49:21.729Z"
   },
   {
    "duration": 265,
    "start_time": "2021-12-26T10:52:00.493Z"
   },
   {
    "duration": 204,
    "start_time": "2021-12-26T10:52:17.122Z"
   },
   {
    "duration": 190,
    "start_time": "2021-12-26T10:52:51.549Z"
   },
   {
    "duration": 197,
    "start_time": "2021-12-26T10:53:21.267Z"
   },
   {
    "duration": 187,
    "start_time": "2021-12-26T10:53:34.159Z"
   },
   {
    "duration": 634,
    "start_time": "2021-12-26T10:53:46.865Z"
   },
   {
    "duration": 76,
    "start_time": "2021-12-26T10:53:47.501Z"
   },
   {
    "duration": 13,
    "start_time": "2021-12-26T10:53:47.579Z"
   },
   {
    "duration": 75,
    "start_time": "2021-12-26T10:53:47.594Z"
   },
   {
    "duration": 25,
    "start_time": "2021-12-26T10:53:47.671Z"
   },
   {
    "duration": 25,
    "start_time": "2021-12-26T10:53:47.698Z"
   },
   {
    "duration": 94,
    "start_time": "2021-12-26T10:53:47.725Z"
   },
   {
    "duration": 23,
    "start_time": "2021-12-26T10:53:47.821Z"
   },
   {
    "duration": 21,
    "start_time": "2021-12-26T10:53:47.847Z"
   },
   {
    "duration": 24,
    "start_time": "2021-12-26T10:53:47.870Z"
   },
   {
    "duration": 13,
    "start_time": "2021-12-26T10:53:47.896Z"
   },
   {
    "duration": 20,
    "start_time": "2021-12-26T10:53:47.910Z"
   },
   {
    "duration": 91,
    "start_time": "2021-12-26T10:53:47.932Z"
   },
   {
    "duration": 24,
    "start_time": "2021-12-26T10:53:48.025Z"
   },
   {
    "duration": 43,
    "start_time": "2021-12-26T10:53:48.050Z"
   },
   {
    "duration": 506,
    "start_time": "2021-12-26T10:53:48.095Z"
   },
   {
    "duration": 25,
    "start_time": "2021-12-26T10:53:48.603Z"
   },
   {
    "duration": 25,
    "start_time": "2021-12-26T10:53:48.630Z"
   },
   {
    "duration": 42,
    "start_time": "2021-12-26T10:53:48.657Z"
   },
   {
    "duration": 423,
    "start_time": "2021-12-26T10:53:48.701Z"
   },
   {
    "duration": 9,
    "start_time": "2021-12-26T10:53:49.125Z"
   },
   {
    "duration": 497,
    "start_time": "2021-12-26T10:53:49.136Z"
   },
   {
    "duration": 8,
    "start_time": "2021-12-26T10:53:49.635Z"
   },
   {
    "duration": 282,
    "start_time": "2021-12-26T10:53:49.645Z"
   },
   {
    "duration": 9,
    "start_time": "2021-12-26T10:53:49.929Z"
   },
   {
    "duration": 275,
    "start_time": "2021-12-26T10:53:49.939Z"
   },
   {
    "duration": 100,
    "start_time": "2021-12-26T10:53:50.217Z"
   },
   {
    "duration": 260,
    "start_time": "2021-12-26T10:54:11.413Z"
   },
   {
    "duration": 587,
    "start_time": "2021-12-26T10:54:28.242Z"
   },
   {
    "duration": 74,
    "start_time": "2021-12-26T10:54:28.831Z"
   },
   {
    "duration": 10,
    "start_time": "2021-12-26T10:54:28.907Z"
   },
   {
    "duration": 85,
    "start_time": "2021-12-26T10:54:28.918Z"
   },
   {
    "duration": 8,
    "start_time": "2021-12-26T10:54:29.005Z"
   },
   {
    "duration": 24,
    "start_time": "2021-12-26T10:54:29.015Z"
   },
   {
    "duration": 253,
    "start_time": "2021-12-26T10:54:29.040Z"
   },
   {
    "duration": 91,
    "start_time": "2021-12-26T10:54:29.204Z"
   },
   {
    "duration": 88,
    "start_time": "2021-12-26T10:54:29.207Z"
   },
   {
    "duration": 86,
    "start_time": "2021-12-26T10:54:29.210Z"
   },
   {
    "duration": 83,
    "start_time": "2021-12-26T10:54:29.214Z"
   },
   {
    "duration": 81,
    "start_time": "2021-12-26T10:54:29.217Z"
   },
   {
    "duration": 79,
    "start_time": "2021-12-26T10:54:29.220Z"
   },
   {
    "duration": 77,
    "start_time": "2021-12-26T10:54:29.222Z"
   },
   {
    "duration": 76,
    "start_time": "2021-12-26T10:54:29.224Z"
   },
   {
    "duration": 74,
    "start_time": "2021-12-26T10:54:29.227Z"
   },
   {
    "duration": 73,
    "start_time": "2021-12-26T10:54:29.229Z"
   },
   {
    "duration": 71,
    "start_time": "2021-12-26T10:54:29.231Z"
   },
   {
    "duration": 70,
    "start_time": "2021-12-26T10:54:29.233Z"
   },
   {
    "duration": 68,
    "start_time": "2021-12-26T10:54:29.236Z"
   },
   {
    "duration": 67,
    "start_time": "2021-12-26T10:54:29.238Z"
   },
   {
    "duration": 60,
    "start_time": "2021-12-26T10:54:29.246Z"
   },
   {
    "duration": 59,
    "start_time": "2021-12-26T10:54:29.248Z"
   },
   {
    "duration": 58,
    "start_time": "2021-12-26T10:54:29.250Z"
   },
   {
    "duration": 57,
    "start_time": "2021-12-26T10:54:29.252Z"
   },
   {
    "duration": 56,
    "start_time": "2021-12-26T10:54:29.254Z"
   },
   {
    "duration": 55,
    "start_time": "2021-12-26T10:54:29.256Z"
   },
   {
    "duration": 633,
    "start_time": "2021-12-26T10:55:09.093Z"
   },
   {
    "duration": 75,
    "start_time": "2021-12-26T10:55:09.728Z"
   },
   {
    "duration": 11,
    "start_time": "2021-12-26T10:55:09.805Z"
   },
   {
    "duration": 88,
    "start_time": "2021-12-26T10:55:09.818Z"
   },
   {
    "duration": 9,
    "start_time": "2021-12-26T10:55:09.908Z"
   },
   {
    "duration": 32,
    "start_time": "2021-12-26T10:55:09.919Z"
   },
   {
    "duration": 95,
    "start_time": "2021-12-26T10:55:09.953Z"
   },
   {
    "duration": 25,
    "start_time": "2021-12-26T10:55:10.051Z"
   },
   {
    "duration": 23,
    "start_time": "2021-12-26T10:55:10.094Z"
   },
   {
    "duration": 8,
    "start_time": "2021-12-26T10:55:10.119Z"
   },
   {
    "duration": 14,
    "start_time": "2021-12-26T10:55:10.129Z"
   },
   {
    "duration": 55,
    "start_time": "2021-12-26T10:55:10.145Z"
   },
   {
    "duration": 67,
    "start_time": "2021-12-26T10:55:10.203Z"
   },
   {
    "duration": 24,
    "start_time": "2021-12-26T10:55:10.291Z"
   },
   {
    "duration": 30,
    "start_time": "2021-12-26T10:55:10.317Z"
   },
   {
    "duration": 494,
    "start_time": "2021-12-26T10:55:10.350Z"
   },
   {
    "duration": 22,
    "start_time": "2021-12-26T10:55:10.846Z"
   },
   {
    "duration": 38,
    "start_time": "2021-12-26T10:55:10.870Z"
   },
   {
    "duration": 9,
    "start_time": "2021-12-26T10:55:10.910Z"
   },
   {
    "duration": 361,
    "start_time": "2021-12-26T10:55:10.921Z"
   },
   {
    "duration": 13,
    "start_time": "2021-12-26T10:55:11.284Z"
   },
   {
    "duration": 328,
    "start_time": "2021-12-26T10:55:11.299Z"
   },
   {
    "duration": 8,
    "start_time": "2021-12-26T10:55:11.628Z"
   },
   {
    "duration": 281,
    "start_time": "2021-12-26T10:55:11.637Z"
   },
   {
    "duration": 8,
    "start_time": "2021-12-26T10:55:11.920Z"
   },
   {
    "duration": 256,
    "start_time": "2021-12-26T10:55:11.930Z"
   },
   {
    "duration": 85,
    "start_time": "2021-12-26T10:55:12.190Z"
   },
   {
    "duration": 94,
    "start_time": "2021-12-26T10:55:28.239Z"
   },
   {
    "duration": 1331,
    "start_time": "2021-12-26T11:08:36.745Z"
   },
   {
    "duration": 252,
    "start_time": "2021-12-26T11:10:07.818Z"
   },
   {
    "duration": 170,
    "start_time": "2021-12-26T11:10:30.490Z"
   },
   {
    "duration": 632,
    "start_time": "2021-12-26T11:10:48.492Z"
   },
   {
    "duration": 77,
    "start_time": "2021-12-26T11:10:49.126Z"
   },
   {
    "duration": 11,
    "start_time": "2021-12-26T11:10:49.205Z"
   },
   {
    "duration": 89,
    "start_time": "2021-12-26T11:10:49.218Z"
   },
   {
    "duration": 9,
    "start_time": "2021-12-26T11:10:49.309Z"
   },
   {
    "duration": 25,
    "start_time": "2021-12-26T11:10:49.319Z"
   },
   {
    "duration": 62,
    "start_time": "2021-12-26T11:10:49.345Z"
   },
   {
    "duration": 4,
    "start_time": "2021-12-26T11:10:49.405Z"
   },
   {
    "duration": 2,
    "start_time": "2021-12-26T11:10:49.408Z"
   },
   {
    "duration": -14,
    "start_time": "2021-12-26T11:10:49.425Z"
   },
   {
    "duration": -17,
    "start_time": "2021-12-26T11:10:49.429Z"
   },
   {
    "duration": -18,
    "start_time": "2021-12-26T11:10:49.431Z"
   },
   {
    "duration": -19,
    "start_time": "2021-12-26T11:10:49.433Z"
   },
   {
    "duration": -21,
    "start_time": "2021-12-26T11:10:49.436Z"
   },
   {
    "duration": -22,
    "start_time": "2021-12-26T11:10:49.439Z"
   },
   {
    "duration": -24,
    "start_time": "2021-12-26T11:10:49.442Z"
   },
   {
    "duration": -35,
    "start_time": "2021-12-26T11:10:49.454Z"
   },
   {
    "duration": -38,
    "start_time": "2021-12-26T11:10:49.458Z"
   },
   {
    "duration": -41,
    "start_time": "2021-12-26T11:10:49.462Z"
   },
   {
    "duration": -42,
    "start_time": "2021-12-26T11:10:49.464Z"
   },
   {
    "duration": -44,
    "start_time": "2021-12-26T11:10:49.467Z"
   },
   {
    "duration": -47,
    "start_time": "2021-12-26T11:10:49.471Z"
   },
   {
    "duration": -50,
    "start_time": "2021-12-26T11:10:49.475Z"
   },
   {
    "duration": -53,
    "start_time": "2021-12-26T11:10:49.479Z"
   },
   {
    "duration": -54,
    "start_time": "2021-12-26T11:10:49.481Z"
   },
   {
    "duration": -56,
    "start_time": "2021-12-26T11:10:49.484Z"
   },
   {
    "duration": -57,
    "start_time": "2021-12-26T11:10:49.486Z"
   },
   {
    "duration": 65,
    "start_time": "2021-12-26T11:11:32.122Z"
   },
   {
    "duration": 64,
    "start_time": "2021-12-26T11:11:36.566Z"
   },
   {
    "duration": 62,
    "start_time": "2021-12-26T11:11:49.604Z"
   },
   {
    "duration": 63,
    "start_time": "2021-12-26T11:12:22.995Z"
   },
   {
    "duration": 901,
    "start_time": "2021-12-26T11:12:40.877Z"
   },
   {
    "duration": 78,
    "start_time": "2021-12-26T11:12:41.780Z"
   },
   {
    "duration": 10,
    "start_time": "2021-12-26T11:12:41.860Z"
   },
   {
    "duration": 78,
    "start_time": "2021-12-26T11:12:41.872Z"
   },
   {
    "duration": 8,
    "start_time": "2021-12-26T11:12:41.952Z"
   },
   {
    "duration": 42,
    "start_time": "2021-12-26T11:12:41.962Z"
   },
   {
    "duration": 86,
    "start_time": "2021-12-26T11:12:42.006Z"
   },
   {
    "duration": 23,
    "start_time": "2021-12-26T11:12:42.094Z"
   },
   {
    "duration": 21,
    "start_time": "2021-12-26T11:12:42.119Z"
   },
   {
    "duration": 6,
    "start_time": "2021-12-26T11:12:42.142Z"
   },
   {
    "duration": 12,
    "start_time": "2021-12-26T11:12:42.149Z"
   },
   {
    "duration": 20,
    "start_time": "2021-12-26T11:12:42.191Z"
   },
   {
    "duration": 79,
    "start_time": "2021-12-26T11:12:42.213Z"
   },
   {
    "duration": 24,
    "start_time": "2021-12-26T11:12:42.294Z"
   },
   {
    "duration": 30,
    "start_time": "2021-12-26T11:12:42.319Z"
   },
   {
    "duration": 574,
    "start_time": "2021-12-26T11:12:42.351Z"
   },
   {
    "duration": 76,
    "start_time": "2021-12-26T11:12:42.926Z"
   },
   {
    "duration": 23,
    "start_time": "2021-12-26T11:12:43.003Z"
   },
   {
    "duration": 8,
    "start_time": "2021-12-26T11:12:43.027Z"
   },
   {
    "duration": 503,
    "start_time": "2021-12-26T11:12:43.036Z"
   },
   {
    "duration": 9,
    "start_time": "2021-12-26T11:12:43.541Z"
   },
   {
    "duration": 329,
    "start_time": "2021-12-26T11:12:43.551Z"
   },
   {
    "duration": 10,
    "start_time": "2021-12-26T11:12:43.882Z"
   },
   {
    "duration": 269,
    "start_time": "2021-12-26T11:12:43.893Z"
   },
   {
    "duration": 8,
    "start_time": "2021-12-26T11:12:44.164Z"
   },
   {
    "duration": 276,
    "start_time": "2021-12-26T11:12:44.174Z"
   },
   {
    "duration": 95,
    "start_time": "2021-12-26T11:12:44.453Z"
   },
   {
    "duration": 868,
    "start_time": "2021-12-26T11:18:19.405Z"
   },
   {
    "duration": 195,
    "start_time": "2021-12-26T11:18:43.133Z"
   },
   {
    "duration": 198,
    "start_time": "2021-12-26T11:19:02.792Z"
   },
   {
    "duration": 97,
    "start_time": "2021-12-26T11:20:42.580Z"
   },
   {
    "duration": 721,
    "start_time": "2021-12-26T11:21:07.044Z"
   },
   {
    "duration": 96,
    "start_time": "2021-12-26T11:22:32.027Z"
   },
   {
    "duration": 229,
    "start_time": "2021-12-26T11:22:41.715Z"
   },
   {
    "duration": 619,
    "start_time": "2021-12-26T11:23:20.458Z"
   },
   {
    "duration": 76,
    "start_time": "2021-12-26T11:23:21.079Z"
   },
   {
    "duration": 10,
    "start_time": "2021-12-26T11:23:21.157Z"
   },
   {
    "duration": 84,
    "start_time": "2021-12-26T11:23:21.169Z"
   },
   {
    "duration": 8,
    "start_time": "2021-12-26T11:23:21.255Z"
   },
   {
    "duration": 40,
    "start_time": "2021-12-26T11:23:21.265Z"
   },
   {
    "duration": 87,
    "start_time": "2021-12-26T11:23:21.307Z"
   },
   {
    "duration": 22,
    "start_time": "2021-12-26T11:23:21.395Z"
   },
   {
    "duration": 22,
    "start_time": "2021-12-26T11:23:21.420Z"
   },
   {
    "duration": 6,
    "start_time": "2021-12-26T11:23:21.444Z"
   },
   {
    "duration": 40,
    "start_time": "2021-12-26T11:23:21.452Z"
   },
   {
    "duration": 21,
    "start_time": "2021-12-26T11:23:21.494Z"
   },
   {
    "duration": 77,
    "start_time": "2021-12-26T11:23:21.517Z"
   },
   {
    "duration": 23,
    "start_time": "2021-12-26T11:23:21.596Z"
   },
   {
    "duration": 31,
    "start_time": "2021-12-26T11:23:21.620Z"
   },
   {
    "duration": 501,
    "start_time": "2021-12-26T11:23:21.652Z"
   },
   {
    "duration": 22,
    "start_time": "2021-12-26T11:23:22.154Z"
   },
   {
    "duration": 34,
    "start_time": "2021-12-26T11:23:22.177Z"
   },
   {
    "duration": 8,
    "start_time": "2021-12-26T11:23:22.212Z"
   },
   {
    "duration": 365,
    "start_time": "2021-12-26T11:23:22.221Z"
   },
   {
    "duration": 10,
    "start_time": "2021-12-26T11:23:22.588Z"
   },
   {
    "duration": 368,
    "start_time": "2021-12-26T11:23:22.601Z"
   },
   {
    "duration": 8,
    "start_time": "2021-12-26T11:23:22.970Z"
   },
   {
    "duration": 292,
    "start_time": "2021-12-26T11:23:22.992Z"
   },
   {
    "duration": 9,
    "start_time": "2021-12-26T11:23:23.291Z"
   },
   {
    "duration": 495,
    "start_time": "2021-12-26T11:23:23.301Z"
   },
   {
    "duration": 100,
    "start_time": "2021-12-26T11:23:23.800Z"
   },
   {
    "duration": 262,
    "start_time": "2021-12-26T11:26:15.039Z"
   },
   {
    "duration": 629,
    "start_time": "2021-12-26T11:26:29.093Z"
   },
   {
    "duration": 75,
    "start_time": "2021-12-26T11:26:29.724Z"
   },
   {
    "duration": 11,
    "start_time": "2021-12-26T11:26:29.801Z"
   },
   {
    "duration": 92,
    "start_time": "2021-12-26T11:26:29.814Z"
   },
   {
    "duration": 8,
    "start_time": "2021-12-26T11:26:29.908Z"
   },
   {
    "duration": 25,
    "start_time": "2021-12-26T11:26:29.918Z"
   },
   {
    "duration": 110,
    "start_time": "2021-12-26T11:26:29.944Z"
   },
   {
    "duration": 22,
    "start_time": "2021-12-26T11:26:30.056Z"
   },
   {
    "duration": 7,
    "start_time": "2021-12-26T11:26:30.092Z"
   },
   {
    "duration": 16,
    "start_time": "2021-12-26T11:26:30.101Z"
   },
   {
    "duration": 20,
    "start_time": "2021-12-26T11:26:30.119Z"
   },
   {
    "duration": 88,
    "start_time": "2021-12-26T11:26:30.140Z"
   },
   {
    "duration": 24,
    "start_time": "2021-12-26T11:26:30.230Z"
   },
   {
    "duration": 47,
    "start_time": "2021-12-26T11:26:30.256Z"
   },
   {
    "duration": 497,
    "start_time": "2021-12-26T11:26:30.304Z"
   },
   {
    "duration": 23,
    "start_time": "2021-12-26T11:26:30.803Z"
   },
   {
    "duration": 22,
    "start_time": "2021-12-26T11:26:30.827Z"
   },
   {
    "duration": 9,
    "start_time": "2021-12-26T11:26:30.851Z"
   },
   {
    "duration": 548,
    "start_time": "2021-12-26T11:26:30.862Z"
   },
   {
    "duration": 10,
    "start_time": "2021-12-26T11:26:31.411Z"
   },
   {
    "duration": 423,
    "start_time": "2021-12-26T11:26:31.422Z"
   },
   {
    "duration": 8,
    "start_time": "2021-12-26T11:26:31.847Z"
   },
   {
    "duration": 275,
    "start_time": "2021-12-26T11:26:31.856Z"
   },
   {
    "duration": 8,
    "start_time": "2021-12-26T11:26:32.133Z"
   },
   {
    "duration": 266,
    "start_time": "2021-12-26T11:26:32.143Z"
   },
   {
    "duration": 94,
    "start_time": "2021-12-26T11:26:32.411Z"
   },
   {
    "duration": 235,
    "start_time": "2021-12-26T11:28:05.103Z"
   },
   {
    "duration": 203,
    "start_time": "2021-12-26T11:28:24.703Z"
   },
   {
    "duration": 205,
    "start_time": "2021-12-26T11:28:30.888Z"
   },
   {
    "duration": 259,
    "start_time": "2021-12-26T11:28:40.454Z"
   },
   {
    "duration": 236,
    "start_time": "2021-12-26T11:28:47.608Z"
   },
   {
    "duration": 297,
    "start_time": "2021-12-26T11:29:01.279Z"
   },
   {
    "duration": 331,
    "start_time": "2021-12-26T11:29:07.635Z"
   },
   {
    "duration": 228,
    "start_time": "2021-12-26T11:29:24.486Z"
   },
   {
    "duration": 236,
    "start_time": "2021-12-26T11:29:45.461Z"
   },
   {
    "duration": 270,
    "start_time": "2021-12-26T11:29:54.072Z"
   },
   {
    "duration": 216,
    "start_time": "2021-12-26T11:39:30.685Z"
   },
   {
    "duration": 207,
    "start_time": "2021-12-26T11:39:38.164Z"
   },
   {
    "duration": 238,
    "start_time": "2021-12-26T11:40:07.360Z"
   },
   {
    "duration": 79,
    "start_time": "2021-12-26T11:49:46.958Z"
   },
   {
    "duration": 83,
    "start_time": "2021-12-26T11:51:04.672Z"
   },
   {
    "duration": 82,
    "start_time": "2021-12-26T11:51:12.784Z"
   },
   {
    "duration": 86,
    "start_time": "2021-12-26T11:51:35.396Z"
   },
   {
    "duration": 84,
    "start_time": "2021-12-26T11:52:02.621Z"
   },
   {
    "duration": 84,
    "start_time": "2021-12-26T11:52:08.698Z"
   },
   {
    "duration": 86,
    "start_time": "2021-12-26T11:52:29.724Z"
   },
   {
    "duration": 86,
    "start_time": "2021-12-26T11:52:38.046Z"
   },
   {
    "duration": 85,
    "start_time": "2021-12-26T11:52:44.876Z"
   },
   {
    "duration": 88,
    "start_time": "2021-12-26T11:52:50.950Z"
   },
   {
    "duration": 82,
    "start_time": "2021-12-26T11:53:42.691Z"
   },
   {
    "duration": 735,
    "start_time": "2021-12-26T11:53:57.651Z"
   },
   {
    "duration": 75,
    "start_time": "2021-12-26T11:53:58.388Z"
   },
   {
    "duration": 11,
    "start_time": "2021-12-26T11:53:58.465Z"
   },
   {
    "duration": 83,
    "start_time": "2021-12-26T11:53:58.478Z"
   },
   {
    "duration": 9,
    "start_time": "2021-12-26T11:53:58.563Z"
   },
   {
    "duration": 37,
    "start_time": "2021-12-26T11:53:58.573Z"
   },
   {
    "duration": 86,
    "start_time": "2021-12-26T11:53:58.612Z"
   },
   {
    "duration": 21,
    "start_time": "2021-12-26T11:53:58.700Z"
   },
   {
    "duration": 17,
    "start_time": "2021-12-26T11:53:58.726Z"
   },
   {
    "duration": 21,
    "start_time": "2021-12-26T11:53:58.745Z"
   },
   {
    "duration": 32,
    "start_time": "2021-12-26T11:53:58.768Z"
   },
   {
    "duration": 72,
    "start_time": "2021-12-26T11:53:58.802Z"
   },
   {
    "duration": 35,
    "start_time": "2021-12-26T11:53:58.876Z"
   },
   {
    "duration": 29,
    "start_time": "2021-12-26T11:53:58.913Z"
   },
   {
    "duration": 494,
    "start_time": "2021-12-26T11:53:58.944Z"
   },
   {
    "duration": 25,
    "start_time": "2021-12-26T11:53:59.439Z"
   },
   {
    "duration": 41,
    "start_time": "2021-12-26T11:53:59.466Z"
   },
   {
    "duration": 10,
    "start_time": "2021-12-26T11:53:59.508Z"
   },
   {
    "duration": 369,
    "start_time": "2021-12-26T11:53:59.519Z"
   },
   {
    "duration": 9,
    "start_time": "2021-12-26T11:53:59.890Z"
   },
   {
    "duration": 334,
    "start_time": "2021-12-26T11:53:59.900Z"
   },
   {
    "duration": 8,
    "start_time": "2021-12-26T11:54:00.235Z"
   },
   {
    "duration": 280,
    "start_time": "2021-12-26T11:54:00.245Z"
   },
   {
    "duration": 12,
    "start_time": "2021-12-26T11:54:00.526Z"
   },
   {
    "duration": 243,
    "start_time": "2021-12-26T11:54:00.540Z"
   },
   {
    "duration": 83,
    "start_time": "2021-12-26T11:54:00.786Z"
   },
   {
    "duration": 102,
    "start_time": "2021-12-26T11:54:00.873Z"
   },
   {
    "duration": 61,
    "start_time": "2021-12-26T13:38:38.523Z"
   },
   {
    "duration": 88,
    "start_time": "2021-12-26T13:38:43.768Z"
   },
   {
    "duration": 278,
    "start_time": "2021-12-26T13:39:18.372Z"
   },
   {
    "duration": 89,
    "start_time": "2021-12-26T13:40:33.866Z"
   },
   {
    "duration": 85,
    "start_time": "2021-12-26T13:40:38.359Z"
   },
   {
    "duration": 88,
    "start_time": "2021-12-26T13:40:43.669Z"
   },
   {
    "duration": 69,
    "start_time": "2021-12-26T13:42:00.905Z"
   },
   {
    "duration": 70,
    "start_time": "2021-12-26T13:42:21.184Z"
   },
   {
    "duration": 105,
    "start_time": "2021-12-26T13:42:27.989Z"
   },
   {
    "duration": 69,
    "start_time": "2021-12-26T13:42:47.612Z"
   },
   {
    "duration": 12,
    "start_time": "2021-12-26T13:43:11.911Z"
   },
   {
    "duration": 16,
    "start_time": "2021-12-26T13:43:23.184Z"
   },
   {
    "duration": 16,
    "start_time": "2021-12-26T13:43:37.876Z"
   },
   {
    "duration": 16,
    "start_time": "2021-12-26T13:43:54.730Z"
   },
   {
    "duration": 16,
    "start_time": "2021-12-26T13:56:24.514Z"
   },
   {
    "duration": 21,
    "start_time": "2021-12-26T13:56:36.618Z"
   },
   {
    "duration": 21,
    "start_time": "2021-12-26T13:56:47.294Z"
   },
   {
    "duration": 19,
    "start_time": "2021-12-26T13:57:40.843Z"
   },
   {
    "duration": 21,
    "start_time": "2021-12-26T13:59:54.263Z"
   },
   {
    "duration": 19,
    "start_time": "2021-12-26T14:03:00.586Z"
   },
   {
    "duration": 27,
    "start_time": "2021-12-26T14:06:43.263Z"
   },
   {
    "duration": 651,
    "start_time": "2021-12-26T14:07:26.901Z"
   },
   {
    "duration": 79,
    "start_time": "2021-12-26T14:07:27.554Z"
   },
   {
    "duration": 9,
    "start_time": "2021-12-26T14:07:27.636Z"
   },
   {
    "duration": 97,
    "start_time": "2021-12-26T14:07:27.647Z"
   },
   {
    "duration": 9,
    "start_time": "2021-12-26T14:07:27.745Z"
   },
   {
    "duration": 25,
    "start_time": "2021-12-26T14:07:27.756Z"
   },
   {
    "duration": 91,
    "start_time": "2021-12-26T14:07:27.782Z"
   },
   {
    "duration": 40,
    "start_time": "2021-12-26T14:07:27.875Z"
   },
   {
    "duration": 6,
    "start_time": "2021-12-26T14:07:27.919Z"
   },
   {
    "duration": 13,
    "start_time": "2021-12-26T14:07:27.928Z"
   },
   {
    "duration": 51,
    "start_time": "2021-12-26T14:07:27.943Z"
   },
   {
    "duration": 29,
    "start_time": "2021-12-26T14:07:27.995Z"
   },
   {
    "duration": 20,
    "start_time": "2021-12-26T14:07:28.026Z"
   },
   {
    "duration": 84,
    "start_time": "2021-12-26T14:07:28.048Z"
   },
   {
    "duration": 25,
    "start_time": "2021-12-26T14:07:28.134Z"
   },
   {
    "duration": 50,
    "start_time": "2021-12-26T14:07:28.161Z"
   },
   {
    "duration": 505,
    "start_time": "2021-12-26T14:07:28.212Z"
   },
   {
    "duration": 22,
    "start_time": "2021-12-26T14:07:28.719Z"
   },
   {
    "duration": 21,
    "start_time": "2021-12-26T14:07:28.743Z"
   },
   {
    "duration": 35,
    "start_time": "2021-12-26T14:07:28.765Z"
   },
   {
    "duration": 353,
    "start_time": "2021-12-26T14:07:28.802Z"
   },
   {
    "duration": 8,
    "start_time": "2021-12-26T14:07:29.157Z"
   },
   {
    "duration": 344,
    "start_time": "2021-12-26T14:07:29.167Z"
   },
   {
    "duration": 8,
    "start_time": "2021-12-26T14:07:29.513Z"
   },
   {
    "duration": 290,
    "start_time": "2021-12-26T14:07:29.523Z"
   },
   {
    "duration": 9,
    "start_time": "2021-12-26T14:07:29.814Z"
   },
   {
    "duration": 298,
    "start_time": "2021-12-26T14:07:29.826Z"
   },
   {
    "duration": 98,
    "start_time": "2021-12-26T14:07:30.126Z"
   },
   {
    "duration": 17,
    "start_time": "2021-12-26T14:07:30.226Z"
   },
   {
    "duration": 70,
    "start_time": "2021-12-26T14:09:13.981Z"
   },
   {
    "duration": 19,
    "start_time": "2021-12-26T14:09:22.884Z"
   },
   {
    "duration": 16,
    "start_time": "2021-12-26T14:09:56.207Z"
   },
   {
    "duration": 23,
    "start_time": "2021-12-26T14:10:35.374Z"
   },
   {
    "duration": 191,
    "start_time": "2021-12-26T14:11:20.752Z"
   },
   {
    "duration": 188,
    "start_time": "2021-12-26T14:11:34.483Z"
   },
   {
    "duration": 272,
    "start_time": "2021-12-26T14:14:51.486Z"
   },
   {
    "duration": 268,
    "start_time": "2021-12-26T14:15:12.891Z"
   },
   {
    "duration": 255,
    "start_time": "2021-12-26T14:15:24.176Z"
   },
   {
    "duration": 273,
    "start_time": "2021-12-26T14:15:33.243Z"
   },
   {
    "duration": 17,
    "start_time": "2021-12-26T14:16:15.230Z"
   },
   {
    "duration": 267,
    "start_time": "2021-12-26T14:16:34.199Z"
   },
   {
    "duration": 111,
    "start_time": "2021-12-26T14:16:49.111Z"
   },
   {
    "duration": 100,
    "start_time": "2021-12-26T14:16:56.814Z"
   },
   {
    "duration": 100,
    "start_time": "2021-12-26T14:17:02.808Z"
   },
   {
    "duration": 96,
    "start_time": "2021-12-26T14:17:15.969Z"
   },
   {
    "duration": 202,
    "start_time": "2021-12-26T14:17:39.982Z"
   },
   {
    "duration": 92,
    "start_time": "2021-12-26T14:17:44.906Z"
   },
   {
    "duration": 92,
    "start_time": "2021-12-26T14:17:53.063Z"
   },
   {
    "duration": 90,
    "start_time": "2021-12-26T14:17:58.483Z"
   },
   {
    "duration": 350,
    "start_time": "2021-12-26T14:23:22.021Z"
   },
   {
    "duration": 260,
    "start_time": "2021-12-26T14:23:28.800Z"
   },
   {
    "duration": 351,
    "start_time": "2021-12-26T14:23:40.363Z"
   },
   {
    "duration": 307,
    "start_time": "2021-12-26T14:23:49.519Z"
   },
   {
    "duration": 269,
    "start_time": "2021-12-26T14:23:55.776Z"
   },
   {
    "duration": 244,
    "start_time": "2021-12-26T14:24:03.402Z"
   },
   {
    "duration": 265,
    "start_time": "2021-12-26T14:24:28.300Z"
   },
   {
    "duration": 9,
    "start_time": "2021-12-26T14:25:06.596Z"
   },
   {
    "duration": 9,
    "start_time": "2021-12-26T14:32:19.601Z"
   },
   {
    "duration": 9,
    "start_time": "2021-12-26T14:32:52.425Z"
   },
   {
    "duration": 885,
    "start_time": "2021-12-26T14:34:29.816Z"
   },
   {
    "duration": 491,
    "start_time": "2021-12-26T14:34:53.408Z"
   },
   {
    "duration": 66,
    "start_time": "2021-12-26T14:35:09.327Z"
   },
   {
    "duration": 297,
    "start_time": "2021-12-26T14:35:22.097Z"
   },
   {
    "duration": 351,
    "start_time": "2021-12-26T14:35:37.615Z"
   },
   {
    "duration": 370,
    "start_time": "2021-12-26T14:36:20.581Z"
   },
   {
    "duration": 265,
    "start_time": "2021-12-26T14:37:13.539Z"
   },
   {
    "duration": 287,
    "start_time": "2021-12-26T14:37:30.541Z"
   },
   {
    "duration": 259,
    "start_time": "2021-12-26T14:37:51.816Z"
   },
   {
    "duration": 29,
    "start_time": "2021-12-26T14:46:17.257Z"
   },
   {
    "duration": 208,
    "start_time": "2021-12-26T14:47:26.749Z"
   },
   {
    "duration": 32,
    "start_time": "2021-12-26T14:47:37.220Z"
   },
   {
    "duration": 42,
    "start_time": "2021-12-26T14:48:24.285Z"
   },
   {
    "duration": 29,
    "start_time": "2021-12-26T14:48:54.550Z"
   },
   {
    "duration": 7,
    "start_time": "2021-12-26T14:52:16.932Z"
   },
   {
    "duration": 17,
    "start_time": "2021-12-26T14:53:45.090Z"
   },
   {
    "duration": 6,
    "start_time": "2021-12-26T14:53:54.944Z"
   },
   {
    "duration": 9,
    "start_time": "2021-12-26T14:54:06.495Z"
   },
   {
    "duration": 6,
    "start_time": "2021-12-26T14:54:23.125Z"
   },
   {
    "duration": 7,
    "start_time": "2021-12-26T14:54:57.193Z"
   },
   {
    "duration": 7,
    "start_time": "2021-12-26T14:55:54.621Z"
   },
   {
    "duration": 7,
    "start_time": "2021-12-26T14:56:18.222Z"
   },
   {
    "duration": 7,
    "start_time": "2021-12-26T14:56:32.638Z"
   },
   {
    "duration": 62,
    "start_time": "2021-12-26T14:56:49.453Z"
   },
   {
    "duration": 8,
    "start_time": "2021-12-26T14:57:01.492Z"
   },
   {
    "duration": 19,
    "start_time": "2021-12-26T15:01:23.258Z"
   },
   {
    "duration": 6,
    "start_time": "2021-12-26T15:02:00.210Z"
   },
   {
    "duration": 7,
    "start_time": "2021-12-26T15:02:14.135Z"
   },
   {
    "duration": 60,
    "start_time": "2021-12-26T15:04:58.372Z"
   },
   {
    "duration": 22,
    "start_time": "2021-12-26T15:05:04.260Z"
   },
   {
    "duration": 237,
    "start_time": "2021-12-26T15:05:38.325Z"
   },
   {
    "duration": 211,
    "start_time": "2021-12-26T15:05:52.119Z"
   },
   {
    "duration": 350,
    "start_time": "2021-12-26T15:06:21.247Z"
   },
   {
    "duration": 26,
    "start_time": "2021-12-26T15:06:52.071Z"
   },
   {
    "duration": 22,
    "start_time": "2021-12-26T15:12:27.442Z"
   },
   {
    "duration": 22,
    "start_time": "2021-12-26T15:12:42.202Z"
   },
   {
    "duration": 22,
    "start_time": "2021-12-26T15:13:02.105Z"
   },
   {
    "duration": 22,
    "start_time": "2021-12-26T15:13:37.048Z"
   },
   {
    "duration": 216,
    "start_time": "2021-12-26T15:16:27.190Z"
   },
   {
    "duration": 377,
    "start_time": "2021-12-26T15:17:52.680Z"
   },
   {
    "duration": 173,
    "start_time": "2021-12-26T15:18:35.103Z"
   },
   {
    "duration": 157,
    "start_time": "2021-12-26T15:20:08.874Z"
   },
   {
    "duration": 142,
    "start_time": "2021-12-26T15:20:58.435Z"
   },
   {
    "duration": 156,
    "start_time": "2021-12-26T15:21:09.584Z"
   },
   {
    "duration": 678,
    "start_time": "2021-12-26T15:21:34.931Z"
   },
   {
    "duration": 81,
    "start_time": "2021-12-26T15:21:35.613Z"
   },
   {
    "duration": 16,
    "start_time": "2021-12-26T15:21:35.697Z"
   },
   {
    "duration": 95,
    "start_time": "2021-12-26T15:21:35.715Z"
   },
   {
    "duration": 11,
    "start_time": "2021-12-26T15:21:35.813Z"
   },
   {
    "duration": 26,
    "start_time": "2021-12-26T15:21:35.826Z"
   },
   {
    "duration": 115,
    "start_time": "2021-12-26T15:21:35.854Z"
   },
   {
    "duration": 34,
    "start_time": "2021-12-26T15:21:35.972Z"
   },
   {
    "duration": 7,
    "start_time": "2021-12-26T15:21:36.008Z"
   },
   {
    "duration": 15,
    "start_time": "2021-12-26T15:21:36.017Z"
   },
   {
    "duration": 20,
    "start_time": "2021-12-26T15:21:36.034Z"
   },
   {
    "duration": 229,
    "start_time": "2021-12-26T15:21:36.056Z"
   },
   {
    "duration": 28,
    "start_time": "2021-12-26T15:21:36.287Z"
   },
   {
    "duration": 86,
    "start_time": "2021-12-26T15:21:36.317Z"
   },
   {
    "duration": 29,
    "start_time": "2021-12-26T15:21:36.405Z"
   },
   {
    "duration": 30,
    "start_time": "2021-12-26T15:21:36.436Z"
   },
   {
    "duration": 560,
    "start_time": "2021-12-26T15:21:36.468Z"
   },
   {
    "duration": 25,
    "start_time": "2021-12-26T15:21:37.029Z"
   },
   {
    "duration": 41,
    "start_time": "2021-12-26T15:21:37.056Z"
   },
   {
    "duration": 10,
    "start_time": "2021-12-26T15:21:37.099Z"
   },
   {
    "duration": 345,
    "start_time": "2021-12-26T15:21:37.111Z"
   },
   {
    "duration": 8,
    "start_time": "2021-12-26T15:21:37.458Z"
   },
   {
    "duration": 400,
    "start_time": "2021-12-26T15:21:37.470Z"
   },
   {
    "duration": 23,
    "start_time": "2021-12-26T15:21:37.872Z"
   },
   {
    "duration": 617,
    "start_time": "2021-12-26T15:21:37.897Z"
   },
   {
    "duration": 9,
    "start_time": "2021-12-26T15:21:38.516Z"
   },
   {
    "duration": 270,
    "start_time": "2021-12-26T15:21:38.527Z"
   },
   {
    "duration": 8,
    "start_time": "2021-12-26T15:21:38.799Z"
   },
   {
    "duration": 279,
    "start_time": "2021-12-26T15:21:38.809Z"
   },
   {
    "duration": 152,
    "start_time": "2021-12-26T15:21:39.091Z"
   },
   {
    "duration": 8,
    "start_time": "2021-12-26T15:21:39.245Z"
   },
   {
    "duration": 49,
    "start_time": "2021-12-26T15:21:39.255Z"
   },
   {
    "duration": 97,
    "start_time": "2021-12-26T15:21:39.306Z"
   },
   {
    "duration": 116,
    "start_time": "2021-12-26T15:21:39.405Z"
   },
   {
    "duration": 147,
    "start_time": "2021-12-26T15:22:00.427Z"
   },
   {
    "duration": 140,
    "start_time": "2021-12-26T15:22:07.742Z"
   },
   {
    "duration": 160,
    "start_time": "2021-12-26T15:22:19.666Z"
   },
   {
    "duration": 143,
    "start_time": "2021-12-26T15:22:30.545Z"
   },
   {
    "duration": 230,
    "start_time": "2021-12-26T15:22:37.085Z"
   },
   {
    "duration": 25,
    "start_time": "2021-12-26T15:24:25.907Z"
   },
   {
    "duration": 32,
    "start_time": "2021-12-26T15:24:41.710Z"
   },
   {
    "duration": 21,
    "start_time": "2021-12-26T15:25:06.425Z"
   },
   {
    "duration": 306,
    "start_time": "2021-12-27T04:35:06.935Z"
   },
   {
    "duration": 690,
    "start_time": "2021-12-27T04:35:29.449Z"
   },
   {
    "duration": 78,
    "start_time": "2021-12-27T04:35:30.141Z"
   },
   {
    "duration": 10,
    "start_time": "2021-12-27T04:35:30.221Z"
   },
   {
    "duration": 86,
    "start_time": "2021-12-27T04:35:30.233Z"
   },
   {
    "duration": 8,
    "start_time": "2021-12-27T04:35:30.321Z"
   },
   {
    "duration": 33,
    "start_time": "2021-12-27T04:35:30.331Z"
   },
   {
    "duration": 76,
    "start_time": "2021-12-27T04:35:30.366Z"
   },
   {
    "duration": 35,
    "start_time": "2021-12-27T04:35:30.444Z"
   },
   {
    "duration": 6,
    "start_time": "2021-12-27T04:35:30.481Z"
   },
   {
    "duration": 14,
    "start_time": "2021-12-27T04:35:30.489Z"
   },
   {
    "duration": 19,
    "start_time": "2021-12-27T04:35:30.505Z"
   },
   {
    "duration": 216,
    "start_time": "2021-12-27T04:35:30.526Z"
   },
   {
    "duration": 29,
    "start_time": "2021-12-27T04:35:30.744Z"
   },
   {
    "duration": 65,
    "start_time": "2021-12-27T04:35:30.775Z"
   },
   {
    "duration": 40,
    "start_time": "2021-12-27T04:35:30.841Z"
   },
   {
    "duration": 30,
    "start_time": "2021-12-27T04:35:30.883Z"
   },
   {
    "duration": 497,
    "start_time": "2021-12-27T04:35:30.915Z"
   },
   {
    "duration": 22,
    "start_time": "2021-12-27T04:35:31.413Z"
   },
   {
    "duration": 35,
    "start_time": "2021-12-27T04:35:31.436Z"
   },
   {
    "duration": 8,
    "start_time": "2021-12-27T04:35:31.473Z"
   },
   {
    "duration": 325,
    "start_time": "2021-12-27T04:35:31.482Z"
   },
   {
    "duration": 9,
    "start_time": "2021-12-27T04:35:31.809Z"
   },
   {
    "duration": 338,
    "start_time": "2021-12-27T04:35:31.822Z"
   },
   {
    "duration": 8,
    "start_time": "2021-12-27T04:35:32.162Z"
   },
   {
    "duration": 265,
    "start_time": "2021-12-27T04:35:32.172Z"
   },
   {
    "duration": 9,
    "start_time": "2021-12-27T04:35:32.439Z"
   },
   {
    "duration": 249,
    "start_time": "2021-12-27T04:35:32.461Z"
   },
   {
    "duration": 9,
    "start_time": "2021-12-27T04:35:32.712Z"
   },
   {
    "duration": 268,
    "start_time": "2021-12-27T04:35:32.723Z"
   },
   {
    "duration": 131,
    "start_time": "2021-12-27T04:35:32.993Z"
   },
   {
    "duration": 8,
    "start_time": "2021-12-27T04:35:33.126Z"
   },
   {
    "duration": 6289,
    "start_time": "2021-12-27T04:35:33.136Z"
   },
   {
    "duration": -3880,
    "start_time": "2021-12-27T04:35:43.308Z"
   },
   {
    "duration": -3883,
    "start_time": "2021-12-27T04:35:43.312Z"
   },
   {
    "duration": 320,
    "start_time": "2021-12-27T04:42:06.530Z"
   },
   {
    "duration": 21,
    "start_time": "2021-12-27T04:43:15.714Z"
   },
   {
    "duration": 12,
    "start_time": "2021-12-27T04:47:35.413Z"
   },
   {
    "duration": 13,
    "start_time": "2021-12-27T04:48:08.811Z"
   },
   {
    "duration": 13,
    "start_time": "2021-12-27T04:49:41.183Z"
   },
   {
    "duration": 91,
    "start_time": "2021-12-27T04:51:25.523Z"
   },
   {
    "duration": 77,
    "start_time": "2021-12-27T04:52:06.902Z"
   },
   {
    "duration": 81,
    "start_time": "2021-12-27T04:52:29.112Z"
   },
   {
    "duration": 81,
    "start_time": "2021-12-27T04:52:46.405Z"
   },
   {
    "duration": 75,
    "start_time": "2021-12-27T04:52:54.019Z"
   },
   {
    "duration": 79,
    "start_time": "2021-12-27T04:53:21.865Z"
   },
   {
    "duration": 78,
    "start_time": "2021-12-27T04:53:38.787Z"
   },
   {
    "duration": 80,
    "start_time": "2021-12-27T04:53:54.848Z"
   },
   {
    "duration": 13,
    "start_time": "2021-12-27T04:54:35.648Z"
   },
   {
    "duration": 13,
    "start_time": "2021-12-27T04:54:55.455Z"
   },
   {
    "duration": 82,
    "start_time": "2021-12-27T04:56:14.943Z"
   },
   {
    "duration": 82,
    "start_time": "2021-12-27T04:56:21.933Z"
   },
   {
    "duration": 81,
    "start_time": "2021-12-27T04:56:30.097Z"
   },
   {
    "duration": 13,
    "start_time": "2021-12-27T04:56:49.230Z"
   },
   {
    "duration": 13,
    "start_time": "2021-12-27T04:58:57.914Z"
   },
   {
    "duration": 14,
    "start_time": "2021-12-27T04:59:56.390Z"
   },
   {
    "duration": 90,
    "start_time": "2021-12-27T05:04:26.414Z"
   },
   {
    "duration": 81,
    "start_time": "2021-12-27T05:04:41.508Z"
   },
   {
    "duration": 13,
    "start_time": "2021-12-27T05:05:22.252Z"
   },
   {
    "duration": 315,
    "start_time": "2021-12-27T10:43:22.276Z"
   },
   {
    "duration": 20,
    "start_time": "2021-12-27T10:44:35.176Z"
   },
   {
    "duration": 17,
    "start_time": "2021-12-27T10:44:35.180Z"
   },
   {
    "duration": 2,
    "start_time": "2021-12-27T10:44:35.196Z"
   },
   {
    "duration": -11,
    "start_time": "2021-12-27T10:44:35.210Z"
   },
   {
    "duration": -15,
    "start_time": "2021-12-27T10:44:35.214Z"
   },
   {
    "duration": -29,
    "start_time": "2021-12-27T10:44:35.230Z"
   },
   {
    "duration": -45,
    "start_time": "2021-12-27T10:44:35.247Z"
   },
   {
    "duration": -63,
    "start_time": "2021-12-27T10:44:35.267Z"
   },
   {
    "duration": -78,
    "start_time": "2021-12-27T10:44:35.283Z"
   },
   {
    "duration": -90,
    "start_time": "2021-12-27T10:44:35.296Z"
   },
   {
    "duration": -100,
    "start_time": "2021-12-27T10:44:35.307Z"
   },
   {
    "duration": -102,
    "start_time": "2021-12-27T10:44:35.310Z"
   },
   {
    "duration": -104,
    "start_time": "2021-12-27T10:44:35.313Z"
   },
   {
    "duration": -107,
    "start_time": "2021-12-27T10:44:35.317Z"
   },
   {
    "duration": -108,
    "start_time": "2021-12-27T10:44:35.319Z"
   },
   {
    "duration": -110,
    "start_time": "2021-12-27T10:44:35.322Z"
   },
   {
    "duration": -112,
    "start_time": "2021-12-27T10:44:35.325Z"
   },
   {
    "duration": -113,
    "start_time": "2021-12-27T10:44:35.327Z"
   },
   {
    "duration": -115,
    "start_time": "2021-12-27T10:44:35.330Z"
   },
   {
    "duration": -117,
    "start_time": "2021-12-27T10:44:35.333Z"
   },
   {
    "duration": -120,
    "start_time": "2021-12-27T10:44:35.337Z"
   },
   {
    "duration": -130,
    "start_time": "2021-12-27T10:44:35.348Z"
   },
   {
    "duration": -133,
    "start_time": "2021-12-27T10:44:35.352Z"
   },
   {
    "duration": -136,
    "start_time": "2021-12-27T10:44:35.356Z"
   },
   {
    "duration": -137,
    "start_time": "2021-12-27T10:44:35.358Z"
   },
   {
    "duration": -139,
    "start_time": "2021-12-27T10:44:35.361Z"
   },
   {
    "duration": -140,
    "start_time": "2021-12-27T10:44:35.363Z"
   },
   {
    "duration": -142,
    "start_time": "2021-12-27T10:44:35.366Z"
   },
   {
    "duration": -145,
    "start_time": "2021-12-27T10:44:35.370Z"
   },
   {
    "duration": -147,
    "start_time": "2021-12-27T10:44:35.373Z"
   },
   {
    "duration": -149,
    "start_time": "2021-12-27T10:44:35.376Z"
   },
   {
    "duration": -150,
    "start_time": "2021-12-27T10:44:35.378Z"
   },
   {
    "duration": -152,
    "start_time": "2021-12-27T10:44:35.381Z"
   },
   {
    "duration": -165,
    "start_time": "2021-12-27T10:44:35.395Z"
   },
   {
    "duration": -167,
    "start_time": "2021-12-27T10:44:35.434Z"
   },
   {
    "duration": 3,
    "start_time": "2021-12-27T10:44:44.209Z"
   },
   {
    "duration": 873,
    "start_time": "2021-12-27T10:44:54.065Z"
   },
   {
    "duration": 108,
    "start_time": "2021-12-27T10:44:54.941Z"
   },
   {
    "duration": 21,
    "start_time": "2021-12-27T10:44:55.052Z"
   },
   {
    "duration": 114,
    "start_time": "2021-12-27T10:44:55.075Z"
   },
   {
    "duration": 13,
    "start_time": "2021-12-27T10:44:55.192Z"
   },
   {
    "duration": 24,
    "start_time": "2021-12-27T10:44:55.207Z"
   },
   {
    "duration": 95,
    "start_time": "2021-12-27T10:44:55.232Z"
   },
   {
    "duration": 36,
    "start_time": "2021-12-27T10:44:55.330Z"
   },
   {
    "duration": 7,
    "start_time": "2021-12-27T10:44:55.368Z"
   },
   {
    "duration": 23,
    "start_time": "2021-12-27T10:44:55.377Z"
   },
   {
    "duration": 32,
    "start_time": "2021-12-27T10:44:55.401Z"
   },
   {
    "duration": 207,
    "start_time": "2021-12-27T10:44:55.435Z"
   },
   {
    "duration": 31,
    "start_time": "2021-12-27T10:44:55.644Z"
   },
   {
    "duration": 66,
    "start_time": "2021-12-27T10:44:55.678Z"
   },
   {
    "duration": 38,
    "start_time": "2021-12-27T10:44:55.746Z"
   },
   {
    "duration": 31,
    "start_time": "2021-12-27T10:44:55.785Z"
   },
   {
    "duration": 530,
    "start_time": "2021-12-27T10:44:55.817Z"
   },
   {
    "duration": 30,
    "start_time": "2021-12-27T10:44:56.349Z"
   },
   {
    "duration": 22,
    "start_time": "2021-12-27T10:44:56.381Z"
   },
   {
    "duration": 8,
    "start_time": "2021-12-27T10:44:56.405Z"
   },
   {
    "duration": 339,
    "start_time": "2021-12-27T10:44:56.414Z"
   },
   {
    "duration": 12,
    "start_time": "2021-12-27T10:44:56.755Z"
   },
   {
    "duration": 322,
    "start_time": "2021-12-27T10:44:56.770Z"
   },
   {
    "duration": 8,
    "start_time": "2021-12-27T10:44:57.094Z"
   },
   {
    "duration": 279,
    "start_time": "2021-12-27T10:44:57.104Z"
   },
   {
    "duration": 9,
    "start_time": "2021-12-27T10:44:57.384Z"
   },
   {
    "duration": 280,
    "start_time": "2021-12-27T10:44:57.395Z"
   },
   {
    "duration": 9,
    "start_time": "2021-12-27T10:44:57.676Z"
   },
   {
    "duration": 509,
    "start_time": "2021-12-27T10:44:57.687Z"
   },
   {
    "duration": 64,
    "start_time": "2021-12-27T10:44:58.197Z"
   },
   {
    "duration": 22,
    "start_time": "2021-12-27T10:44:58.263Z"
   },
   {
    "duration": 14,
    "start_time": "2021-12-27T10:44:58.287Z"
   },
   {
    "duration": 195,
    "start_time": "2021-12-27T10:44:58.303Z"
   },
   {
    "duration": 124,
    "start_time": "2021-12-27T10:44:58.500Z"
   },
   {
    "duration": 7220,
    "start_time": "2021-12-27T10:44:58.625Z"
   },
   {
    "duration": 35,
    "start_time": "2021-12-27T10:45:21.855Z"
   },
   {
    "duration": 33,
    "start_time": "2021-12-27T10:45:52.330Z"
   },
   {
    "duration": 32,
    "start_time": "2021-12-27T10:46:38.295Z"
   },
   {
    "duration": 32,
    "start_time": "2021-12-27T10:47:08.015Z"
   },
   {
    "duration": 211,
    "start_time": "2021-12-27T10:47:23.757Z"
   },
   {
    "duration": 202,
    "start_time": "2021-12-27T10:47:51.617Z"
   },
   {
    "duration": 9148,
    "start_time": "2021-12-27T10:49:20.156Z"
   },
   {
    "duration": 201,
    "start_time": "2021-12-27T10:49:46.436Z"
   },
   {
    "duration": 201,
    "start_time": "2021-12-27T11:02:03.869Z"
   },
   {
    "duration": 185,
    "start_time": "2021-12-27T11:02:19.288Z"
   },
   {
    "duration": 249,
    "start_time": "2021-12-27T11:02:26.060Z"
   },
   {
    "duration": 192,
    "start_time": "2021-12-27T11:02:31.051Z"
   },
   {
    "duration": 209,
    "start_time": "2021-12-27T11:02:56.362Z"
   },
   {
    "duration": 206,
    "start_time": "2021-12-27T11:03:16.919Z"
   },
   {
    "duration": 90,
    "start_time": "2021-12-27T11:04:10.239Z"
   },
   {
    "duration": 210,
    "start_time": "2021-12-27T11:04:19.482Z"
   },
   {
    "duration": 188,
    "start_time": "2021-12-27T11:11:28.135Z"
   },
   {
    "duration": 183,
    "start_time": "2021-12-27T11:12:49.238Z"
   },
   {
    "duration": 173,
    "start_time": "2021-12-27T11:13:19.412Z"
   },
   {
    "duration": 185,
    "start_time": "2021-12-27T11:13:51.070Z"
   },
   {
    "duration": 1086,
    "start_time": "2021-12-27T11:15:28.026Z"
   },
   {
    "duration": 174,
    "start_time": "2021-12-27T11:15:51.946Z"
   },
   {
    "duration": 251,
    "start_time": "2021-12-27T11:16:05.571Z"
   },
   {
    "duration": 166,
    "start_time": "2021-12-27T11:16:14.307Z"
   },
   {
    "duration": 194,
    "start_time": "2021-12-27T11:16:37.689Z"
   },
   {
    "duration": 429,
    "start_time": "2021-12-27T11:21:46.079Z"
   },
   {
    "duration": 447,
    "start_time": "2021-12-27T11:21:54.536Z"
   },
   {
    "duration": 299,
    "start_time": "2021-12-27T11:22:57.683Z"
   },
   {
    "duration": 306,
    "start_time": "2021-12-27T11:23:09.738Z"
   },
   {
    "duration": 373,
    "start_time": "2021-12-27T11:23:19.597Z"
   },
   {
    "duration": 276,
    "start_time": "2021-12-27T11:23:29.699Z"
   },
   {
    "duration": 291,
    "start_time": "2021-12-27T11:23:45.978Z"
   },
   {
    "duration": 756,
    "start_time": "2021-12-27T11:23:54.634Z"
   },
   {
    "duration": 571,
    "start_time": "2021-12-27T11:24:11.617Z"
   },
   {
    "duration": 467,
    "start_time": "2021-12-27T11:27:40.426Z"
   },
   {
    "duration": 450,
    "start_time": "2021-12-27T11:29:08.854Z"
   },
   {
    "duration": 221,
    "start_time": "2021-12-27T11:32:28.660Z"
   },
   {
    "duration": 181,
    "start_time": "2021-12-27T11:32:57.762Z"
   },
   {
    "duration": 219,
    "start_time": "2021-12-27T11:33:08.433Z"
   },
   {
    "duration": 270,
    "start_time": "2021-12-27T11:34:00.328Z"
   },
   {
    "duration": 182,
    "start_time": "2021-12-27T11:34:30.251Z"
   },
   {
    "duration": 192,
    "start_time": "2021-12-27T11:35:24.762Z"
   },
   {
    "duration": 196,
    "start_time": "2021-12-27T11:38:07.639Z"
   },
   {
    "duration": 198,
    "start_time": "2021-12-27T11:42:10.892Z"
   },
   {
    "duration": 26,
    "start_time": "2021-12-27T11:51:36.158Z"
   },
   {
    "duration": 24,
    "start_time": "2021-12-27T11:51:54.038Z"
   },
   {
    "duration": 23,
    "start_time": "2021-12-27T11:52:53.434Z"
   },
   {
    "duration": 33,
    "start_time": "2021-12-27T11:53:20.538Z"
   },
   {
    "duration": 21,
    "start_time": "2021-12-27T11:53:31.972Z"
   },
   {
    "duration": 25,
    "start_time": "2021-12-27T11:53:44.812Z"
   },
   {
    "duration": 25,
    "start_time": "2021-12-27T11:53:53.663Z"
   },
   {
    "duration": 10,
    "start_time": "2021-12-27T11:55:31.162Z"
   },
   {
    "duration": 8,
    "start_time": "2021-12-27T11:56:18.142Z"
   },
   {
    "duration": 268,
    "start_time": "2021-12-27T11:59:11.604Z"
   },
   {
    "duration": 8,
    "start_time": "2021-12-27T12:00:16.159Z"
   },
   {
    "duration": 6542,
    "start_time": "2021-12-27T12:00:54.629Z"
   },
   {
    "duration": 320,
    "start_time": "2021-12-27T12:02:25.599Z"
   },
   {
    "duration": 29,
    "start_time": "2021-12-27T12:02:46.730Z"
   },
   {
    "duration": 30,
    "start_time": "2021-12-27T12:03:31.907Z"
   },
   {
    "duration": 21,
    "start_time": "2021-12-27T12:03:59.178Z"
   },
   {
    "duration": 33,
    "start_time": "2021-12-27T12:04:20.244Z"
   },
   {
    "duration": 24,
    "start_time": "2021-12-27T12:05:06.259Z"
   },
   {
    "duration": 8,
    "start_time": "2021-12-27T12:05:17.727Z"
   },
   {
    "duration": 10,
    "start_time": "2021-12-27T12:05:55.337Z"
   },
   {
    "duration": 279,
    "start_time": "2021-12-27T12:30:42.462Z"
   },
   {
    "duration": 6,
    "start_time": "2021-12-27T12:30:50.451Z"
   },
   {
    "duration": 97,
    "start_time": "2021-12-27T12:33:04.090Z"
   },
   {
    "duration": 5,
    "start_time": "2021-12-27T12:33:18.076Z"
   },
   {
    "duration": 25,
    "start_time": "2021-12-27T12:37:59.782Z"
   },
   {
    "duration": 190,
    "start_time": "2021-12-27T12:38:59.977Z"
   },
   {
    "duration": 271,
    "start_time": "2021-12-27T12:39:10.756Z"
   },
   {
    "duration": 202,
    "start_time": "2021-12-27T12:39:40.955Z"
   },
   {
    "duration": 203,
    "start_time": "2021-12-27T12:41:19.251Z"
   },
   {
    "duration": 183,
    "start_time": "2021-12-27T12:41:28.545Z"
   },
   {
    "duration": 367,
    "start_time": "2021-12-27T12:41:55.204Z"
   },
   {
    "duration": 292,
    "start_time": "2021-12-27T12:50:18.664Z"
   },
   {
    "duration": 9,
    "start_time": "2021-12-27T12:50:42.744Z"
   },
   {
    "duration": 40,
    "start_time": "2021-12-27T12:51:01.075Z"
   },
   {
    "duration": 31,
    "start_time": "2021-12-27T12:51:09.014Z"
   },
   {
    "duration": 9,
    "start_time": "2021-12-27T12:51:21.897Z"
   },
   {
    "duration": 75,
    "start_time": "2021-12-27T13:03:25.744Z"
   },
   {
    "duration": 207,
    "start_time": "2021-12-27T13:15:44.895Z"
   },
   {
    "duration": 197,
    "start_time": "2021-12-27T13:16:34.297Z"
   },
   {
    "duration": 204,
    "start_time": "2021-12-27T13:16:47.997Z"
   },
   {
    "duration": 205,
    "start_time": "2021-12-27T13:17:40.258Z"
   },
   {
    "duration": 220,
    "start_time": "2021-12-27T13:22:17.519Z"
   },
   {
    "duration": 477,
    "start_time": "2021-12-27T13:23:52.469Z"
   },
   {
    "duration": 393,
    "start_time": "2021-12-27T13:24:26.814Z"
   },
   {
    "duration": 304,
    "start_time": "2021-12-27T13:24:43.837Z"
   },
   {
    "duration": 213,
    "start_time": "2021-12-27T13:27:56.174Z"
   },
   {
    "duration": 203,
    "start_time": "2021-12-27T13:31:18.978Z"
   },
   {
    "duration": 202,
    "start_time": "2021-12-27T13:34:46.762Z"
   },
   {
    "duration": 200,
    "start_time": "2021-12-27T13:37:46.975Z"
   },
   {
    "duration": 204,
    "start_time": "2021-12-27T13:40:39.594Z"
   },
   {
    "duration": 613,
    "start_time": "2021-12-27T17:02:25.633Z"
   },
   {
    "duration": 890,
    "start_time": "2021-12-27T17:03:42.941Z"
   },
   {
    "duration": 95,
    "start_time": "2021-12-27T17:03:43.834Z"
   },
   {
    "duration": 17,
    "start_time": "2021-12-27T17:03:43.933Z"
   },
   {
    "duration": 121,
    "start_time": "2021-12-27T17:03:43.953Z"
   },
   {
    "duration": 17,
    "start_time": "2021-12-27T17:03:44.077Z"
   },
   {
    "duration": 61,
    "start_time": "2021-12-27T17:03:44.097Z"
   },
   {
    "duration": 135,
    "start_time": "2021-12-27T17:03:44.161Z"
   },
   {
    "duration": 40,
    "start_time": "2021-12-27T17:03:44.300Z"
   },
   {
    "duration": 9,
    "start_time": "2021-12-27T17:03:44.343Z"
   },
   {
    "duration": 18,
    "start_time": "2021-12-27T17:03:44.354Z"
   },
   {
    "duration": 65,
    "start_time": "2021-12-27T17:03:44.374Z"
   },
   {
    "duration": 351,
    "start_time": "2021-12-27T17:03:44.442Z"
   },
   {
    "duration": 50,
    "start_time": "2021-12-27T17:03:44.796Z"
   },
   {
    "duration": 107,
    "start_time": "2021-12-27T17:03:44.848Z"
   },
   {
    "duration": 40,
    "start_time": "2021-12-27T17:03:44.957Z"
   },
   {
    "duration": 83,
    "start_time": "2021-12-27T17:03:45.000Z"
   },
   {
    "duration": 803,
    "start_time": "2021-12-27T17:03:45.086Z"
   },
   {
    "duration": 55,
    "start_time": "2021-12-27T17:03:45.892Z"
   },
   {
    "duration": 38,
    "start_time": "2021-12-27T17:03:45.950Z"
   },
   {
    "duration": 33,
    "start_time": "2021-12-27T17:03:45.990Z"
   },
   {
    "duration": 445,
    "start_time": "2021-12-27T17:03:46.026Z"
   },
   {
    "duration": 11,
    "start_time": "2021-12-27T17:03:46.473Z"
   },
   {
    "duration": 749,
    "start_time": "2021-12-27T17:03:46.490Z"
   },
   {
    "duration": 12,
    "start_time": "2021-12-27T17:03:47.242Z"
   },
   {
    "duration": 733,
    "start_time": "2021-12-27T17:03:47.257Z"
   },
   {
    "duration": 12,
    "start_time": "2021-12-27T17:03:47.993Z"
   },
   {
    "duration": 403,
    "start_time": "2021-12-27T17:03:48.023Z"
   },
   {
    "duration": 11,
    "start_time": "2021-12-27T17:03:48.428Z"
   },
   {
    "duration": 439,
    "start_time": "2021-12-27T17:03:48.441Z"
   },
   {
    "duration": 10,
    "start_time": "2021-12-27T17:03:48.883Z"
   },
   {
    "duration": 50,
    "start_time": "2021-12-27T17:03:48.896Z"
   },
   {
    "duration": 20,
    "start_time": "2021-12-27T17:03:48.948Z"
   },
   {
    "duration": 154,
    "start_time": "2021-12-27T17:03:48.971Z"
   },
   {
    "duration": 152,
    "start_time": "2021-12-27T17:03:49.128Z"
   },
   {
    "duration": 353,
    "start_time": "2021-12-27T17:03:49.284Z"
   },
   {
    "duration": 350,
    "start_time": "2021-12-27T17:03:49.639Z"
   },
   {
    "duration": 340,
    "start_time": "2021-12-27T17:03:49.992Z"
   },
   {
    "duration": 276,
    "start_time": "2021-12-27T17:03:50.335Z"
   },
   {
    "duration": 655,
    "start_time": "2021-12-27T17:03:50.614Z"
   },
   {
    "duration": 358,
    "start_time": "2021-12-27T17:03:51.272Z"
   },
   {
    "duration": 311,
    "start_time": "2021-12-27T17:03:51.634Z"
   },
   {
    "duration": 343,
    "start_time": "2021-12-27T17:03:51.948Z"
   },
   {
    "duration": 46,
    "start_time": "2021-12-27T17:03:52.294Z"
   },
   {
    "duration": 12,
    "start_time": "2021-12-27T17:03:52.342Z"
   },
   {
    "duration": 17,
    "start_time": "2021-12-27T17:03:52.357Z"
   },
   {
    "duration": 7,
    "start_time": "2021-12-27T17:03:52.376Z"
   },
   {
    "duration": 344,
    "start_time": "2021-12-27T17:03:52.385Z"
   },
   {
    "duration": 133,
    "start_time": "2021-12-27T17:03:52.731Z"
   },
   {
    "duration": 329,
    "start_time": "2021-12-27T17:03:52.867Z"
   },
   {
    "duration": 294,
    "start_time": "2021-12-27T17:03:53.199Z"
   },
   {
    "duration": 494,
    "start_time": "2021-12-27T17:03:53.497Z"
   },
   {
    "duration": 311,
    "start_time": "2021-12-27T17:03:53.993Z"
   },
   {
    "duration": 306,
    "start_time": "2021-12-27T17:03:54.306Z"
   },
   {
    "duration": 295,
    "start_time": "2021-12-27T17:03:54.615Z"
   },
   {
    "duration": 312,
    "start_time": "2021-12-27T17:03:54.914Z"
   },
   {
    "duration": 34,
    "start_time": "2021-12-27T17:10:27.985Z"
   },
   {
    "duration": 21,
    "start_time": "2021-12-27T17:12:05.743Z"
   },
   {
    "duration": 29,
    "start_time": "2021-12-27T17:12:59.891Z"
   },
   {
    "duration": 21,
    "start_time": "2021-12-27T17:13:21.470Z"
   },
   {
    "duration": 103,
    "start_time": "2021-12-27T17:16:33.536Z"
   },
   {
    "duration": 90,
    "start_time": "2021-12-27T17:16:41.595Z"
   },
   {
    "duration": 38,
    "start_time": "2021-12-27T17:17:38.639Z"
   },
   {
    "duration": 35,
    "start_time": "2021-12-27T17:18:00.233Z"
   },
   {
    "duration": 38,
    "start_time": "2021-12-27T17:18:22.603Z"
   },
   {
    "duration": 411,
    "start_time": "2021-12-27T17:18:43.141Z"
   },
   {
    "duration": 32,
    "start_time": "2021-12-27T17:18:49.505Z"
   },
   {
    "duration": 282,
    "start_time": "2021-12-27T17:19:12.738Z"
   },
   {
    "duration": 31,
    "start_time": "2021-12-27T17:21:04.293Z"
   },
   {
    "duration": 33,
    "start_time": "2021-12-27T17:21:40.730Z"
   },
   {
    "duration": 198,
    "start_time": "2021-12-27T17:23:45.492Z"
   },
   {
    "duration": 377,
    "start_time": "2021-12-27T17:24:01.796Z"
   },
   {
    "duration": 191,
    "start_time": "2021-12-27T17:24:07.447Z"
   },
   {
    "duration": 208,
    "start_time": "2021-12-27T17:24:13.443Z"
   },
   {
    "duration": 218,
    "start_time": "2021-12-27T17:24:25.367Z"
   },
   {
    "duration": 43,
    "start_time": "2021-12-27T17:24:45.205Z"
   },
   {
    "duration": 44,
    "start_time": "2021-12-27T17:25:13.200Z"
   },
   {
    "duration": 24,
    "start_time": "2021-12-27T17:25:38.557Z"
   },
   {
    "duration": 32,
    "start_time": "2021-12-27T17:26:20.667Z"
   },
   {
    "duration": 47,
    "start_time": "2021-12-27T17:28:25.289Z"
   },
   {
    "duration": 42,
    "start_time": "2021-12-27T17:29:11.218Z"
   },
   {
    "duration": 135,
    "start_time": "2021-12-27T17:29:50.151Z"
   },
   {
    "duration": 6,
    "start_time": "2021-12-27T17:30:05.023Z"
   },
   {
    "duration": 197,
    "start_time": "2021-12-27T17:30:21.704Z"
   },
   {
    "duration": 209,
    "start_time": "2021-12-27T17:34:30.873Z"
   },
   {
    "duration": 13,
    "start_time": "2021-12-27T17:38:04.460Z"
   },
   {
    "duration": 206,
    "start_time": "2021-12-27T17:39:35.011Z"
   },
   {
    "duration": 204,
    "start_time": "2021-12-27T17:41:08.503Z"
   },
   {
    "duration": 214,
    "start_time": "2021-12-27T17:44:57.493Z"
   },
   {
    "duration": 213,
    "start_time": "2021-12-27T17:45:07.545Z"
   },
   {
    "duration": 220,
    "start_time": "2021-12-27T17:45:30.880Z"
   },
   {
    "duration": 165,
    "start_time": "2021-12-27T17:53:08.507Z"
   },
   {
    "duration": 451,
    "start_time": "2021-12-27T17:54:34.152Z"
   },
   {
    "duration": 528,
    "start_time": "2021-12-27T17:54:52.813Z"
   },
   {
    "duration": 604,
    "start_time": "2021-12-27T17:55:03.405Z"
   },
   {
    "duration": 501,
    "start_time": "2021-12-27T17:55:47.113Z"
   },
   {
    "duration": 502,
    "start_time": "2021-12-27T17:56:00.171Z"
   },
   {
    "duration": 231,
    "start_time": "2021-12-27T17:57:46.011Z"
   },
   {
    "duration": 217,
    "start_time": "2021-12-27T17:57:58.262Z"
   },
   {
    "duration": 230,
    "start_time": "2021-12-27T17:58:16.185Z"
   },
   {
    "duration": 149,
    "start_time": "2021-12-27T18:00:58.648Z"
   },
   {
    "duration": 297,
    "start_time": "2021-12-27T18:02:44.989Z"
   },
   {
    "duration": 979,
    "start_time": "2021-12-27T18:58:16.124Z"
   },
   {
    "duration": 101,
    "start_time": "2021-12-27T18:58:17.106Z"
   },
   {
    "duration": 29,
    "start_time": "2021-12-27T18:58:17.210Z"
   },
   {
    "duration": 114,
    "start_time": "2021-12-27T18:58:17.251Z"
   },
   {
    "duration": 17,
    "start_time": "2021-12-27T18:58:17.368Z"
   },
   {
    "duration": 62,
    "start_time": "2021-12-27T18:58:17.388Z"
   },
   {
    "duration": 148,
    "start_time": "2021-12-27T18:58:17.453Z"
   },
   {
    "duration": 40,
    "start_time": "2021-12-27T18:58:17.605Z"
   },
   {
    "duration": 9,
    "start_time": "2021-12-27T18:58:17.648Z"
   },
   {
    "duration": 46,
    "start_time": "2021-12-27T18:58:17.659Z"
   },
   {
    "duration": 46,
    "start_time": "2021-12-27T18:58:17.708Z"
   },
   {
    "duration": 517,
    "start_time": "2021-12-27T18:58:17.757Z"
   },
   {
    "duration": 51,
    "start_time": "2021-12-27T18:58:18.277Z"
   },
   {
    "duration": 111,
    "start_time": "2021-12-27T18:58:18.336Z"
   },
   {
    "duration": 41,
    "start_time": "2021-12-27T18:58:18.450Z"
   },
   {
    "duration": 73,
    "start_time": "2021-12-27T18:58:18.493Z"
   },
   {
    "duration": 860,
    "start_time": "2021-12-27T18:58:18.569Z"
   },
   {
    "duration": 38,
    "start_time": "2021-12-27T18:58:19.432Z"
   },
   {
    "duration": 63,
    "start_time": "2021-12-27T18:58:19.472Z"
   },
   {
    "duration": 12,
    "start_time": "2021-12-27T18:58:19.538Z"
   },
   {
    "duration": 491,
    "start_time": "2021-12-27T18:58:19.552Z"
   },
   {
    "duration": 12,
    "start_time": "2021-12-27T18:58:20.046Z"
   },
   {
    "duration": 531,
    "start_time": "2021-12-27T18:58:20.064Z"
   },
   {
    "duration": 501,
    "start_time": "2021-12-27T18:58:20.599Z"
   },
   {
    "duration": 239,
    "start_time": "2021-12-27T18:58:21.103Z"
   },
   {
    "duration": 12,
    "start_time": "2021-12-27T18:58:21.345Z"
   },
   {
    "duration": 428,
    "start_time": "2021-12-27T18:58:21.359Z"
   },
   {
    "duration": 11,
    "start_time": "2021-12-27T18:58:21.790Z"
   },
   {
    "duration": 430,
    "start_time": "2021-12-27T18:58:21.803Z"
   },
   {
    "duration": 13,
    "start_time": "2021-12-27T18:58:22.236Z"
   },
   {
    "duration": 441,
    "start_time": "2021-12-27T18:58:22.251Z"
   },
   {
    "duration": 12,
    "start_time": "2021-12-27T18:58:22.695Z"
   },
   {
    "duration": 53,
    "start_time": "2021-12-27T18:58:22.724Z"
   },
   {
    "duration": 231,
    "start_time": "2021-12-27T18:58:22.780Z"
   },
   {
    "duration": 148,
    "start_time": "2021-12-27T18:58:23.013Z"
   },
   {
    "duration": 112,
    "start_time": "2021-12-27T18:58:23.164Z"
   },
   {
    "duration": 83,
    "start_time": "2021-12-27T18:58:23.196Z"
   },
   {
    "duration": 82,
    "start_time": "2021-12-27T18:58:23.200Z"
   },
   {
    "duration": 78,
    "start_time": "2021-12-27T18:58:23.206Z"
   },
   {
    "duration": 75,
    "start_time": "2021-12-27T18:58:23.211Z"
   },
   {
    "duration": 74,
    "start_time": "2021-12-27T18:58:23.215Z"
   },
   {
    "duration": 72,
    "start_time": "2021-12-27T18:58:23.219Z"
   },
   {
    "duration": 70,
    "start_time": "2021-12-27T18:58:23.223Z"
   },
   {
    "duration": 68,
    "start_time": "2021-12-27T18:58:23.227Z"
   },
   {
    "duration": 66,
    "start_time": "2021-12-27T18:58:23.231Z"
   },
   {
    "duration": 64,
    "start_time": "2021-12-27T18:58:23.235Z"
   },
   {
    "duration": 61,
    "start_time": "2021-12-27T18:58:23.239Z"
   },
   {
    "duration": 59,
    "start_time": "2021-12-27T18:58:23.243Z"
   },
   {
    "duration": 56,
    "start_time": "2021-12-27T18:58:23.247Z"
   },
   {
    "duration": 53,
    "start_time": "2021-12-27T18:58:23.252Z"
   },
   {
    "duration": 51,
    "start_time": "2021-12-27T18:58:23.256Z"
   },
   {
    "duration": 47,
    "start_time": "2021-12-27T18:58:23.261Z"
   },
   {
    "duration": 46,
    "start_time": "2021-12-27T18:58:23.264Z"
   },
   {
    "duration": 42,
    "start_time": "2021-12-27T18:58:23.269Z"
   },
   {
    "duration": 33,
    "start_time": "2021-12-27T18:58:23.280Z"
   },
   {
    "duration": 37,
    "start_time": "2021-12-27T18:58:23.285Z"
   },
   {
    "duration": 34,
    "start_time": "2021-12-27T18:58:23.289Z"
   },
   {
    "duration": 31,
    "start_time": "2021-12-27T18:58:23.293Z"
   },
   {
    "duration": 909,
    "start_time": "2021-12-27T19:00:48.193Z"
   },
   {
    "duration": 98,
    "start_time": "2021-12-27T19:00:49.105Z"
   },
   {
    "duration": 29,
    "start_time": "2021-12-27T19:00:49.206Z"
   },
   {
    "duration": 120,
    "start_time": "2021-12-27T19:00:49.238Z"
   },
   {
    "duration": 18,
    "start_time": "2021-12-27T19:00:49.361Z"
   },
   {
    "duration": 62,
    "start_time": "2021-12-27T19:00:49.383Z"
   },
   {
    "duration": 192,
    "start_time": "2021-12-27T19:00:49.448Z"
   },
   {
    "duration": 33,
    "start_time": "2021-12-27T19:00:49.644Z"
   },
   {
    "duration": 9,
    "start_time": "2021-12-27T19:00:49.680Z"
   },
   {
    "duration": 46,
    "start_time": "2021-12-27T19:00:49.692Z"
   },
   {
    "duration": 31,
    "start_time": "2021-12-27T19:00:49.741Z"
   },
   {
    "duration": 385,
    "start_time": "2021-12-27T19:00:49.774Z"
   },
   {
    "duration": 33,
    "start_time": "2021-12-27T19:00:50.161Z"
   },
   {
    "duration": 137,
    "start_time": "2021-12-27T19:00:50.197Z"
   },
   {
    "duration": 41,
    "start_time": "2021-12-27T19:00:50.338Z"
   },
   {
    "duration": 90,
    "start_time": "2021-12-27T19:00:50.382Z"
   },
   {
    "duration": 857,
    "start_time": "2021-12-27T19:00:50.475Z"
   },
   {
    "duration": 41,
    "start_time": "2021-12-27T19:00:51.335Z"
   },
   {
    "duration": 60,
    "start_time": "2021-12-27T19:00:51.378Z"
   },
   {
    "duration": 11,
    "start_time": "2021-12-27T19:00:51.440Z"
   },
   {
    "duration": 481,
    "start_time": "2021-12-27T19:00:51.453Z"
   },
   {
    "duration": 13,
    "start_time": "2021-12-27T19:00:51.937Z"
   },
   {
    "duration": 923,
    "start_time": "2021-12-27T19:00:51.956Z"
   },
   {
    "duration": 572,
    "start_time": "2021-12-27T19:00:52.882Z"
   },
   {
    "duration": 240,
    "start_time": "2021-12-27T19:00:53.457Z"
   },
   {
    "duration": 28,
    "start_time": "2021-12-27T19:00:53.700Z"
   },
   {
    "duration": 434,
    "start_time": "2021-12-27T19:00:53.731Z"
   },
   {
    "duration": 13,
    "start_time": "2021-12-27T19:00:54.168Z"
   },
   {
    "duration": 445,
    "start_time": "2021-12-27T19:00:54.183Z"
   },
   {
    "duration": 13,
    "start_time": "2021-12-27T19:00:54.631Z"
   },
   {
    "duration": 442,
    "start_time": "2021-12-27T19:00:54.647Z"
   },
   {
    "duration": 10,
    "start_time": "2021-12-27T19:00:55.091Z"
   },
   {
    "duration": 69,
    "start_time": "2021-12-27T19:00:55.103Z"
   },
   {
    "duration": 261,
    "start_time": "2021-12-27T19:00:55.175Z"
   },
   {
    "duration": 207,
    "start_time": "2021-12-27T19:00:55.440Z"
   },
   {
    "duration": 94,
    "start_time": "2021-12-27T19:00:55.651Z"
   },
   {
    "duration": 144,
    "start_time": "2021-12-27T19:00:55.605Z"
   },
   {
    "duration": 129,
    "start_time": "2021-12-27T19:00:55.622Z"
   },
   {
    "duration": 126,
    "start_time": "2021-12-27T19:00:55.627Z"
   },
   {
    "duration": 120,
    "start_time": "2021-12-27T19:00:55.635Z"
   },
   {
    "duration": 90,
    "start_time": "2021-12-27T19:00:55.667Z"
   },
   {
    "duration": 80,
    "start_time": "2021-12-27T19:00:55.679Z"
   },
   {
    "duration": 77,
    "start_time": "2021-12-27T19:00:55.683Z"
   },
   {
    "duration": 75,
    "start_time": "2021-12-27T19:00:55.687Z"
   },
   {
    "duration": 72,
    "start_time": "2021-12-27T19:00:55.692Z"
   },
   {
    "duration": 70,
    "start_time": "2021-12-27T19:00:55.696Z"
   },
   {
    "duration": 68,
    "start_time": "2021-12-27T19:00:55.700Z"
   },
   {
    "duration": 65,
    "start_time": "2021-12-27T19:00:55.705Z"
   },
   {
    "duration": 61,
    "start_time": "2021-12-27T19:00:55.710Z"
   },
   {
    "duration": 59,
    "start_time": "2021-12-27T19:00:55.714Z"
   },
   {
    "duration": 57,
    "start_time": "2021-12-27T19:00:55.718Z"
   },
   {
    "duration": 55,
    "start_time": "2021-12-27T19:00:55.722Z"
   },
   {
    "duration": 52,
    "start_time": "2021-12-27T19:00:55.727Z"
   },
   {
    "duration": 51,
    "start_time": "2021-12-27T19:00:55.730Z"
   },
   {
    "duration": 49,
    "start_time": "2021-12-27T19:00:55.734Z"
   },
   {
    "duration": 46,
    "start_time": "2021-12-27T19:00:55.738Z"
   },
   {
    "duration": 83,
    "start_time": "2021-12-27T19:00:55.744Z"
   },
   {
    "duration": 82,
    "start_time": "2021-12-27T19:00:55.747Z"
   },
   {
    "duration": 144,
    "start_time": "2021-12-27T19:03:47.726Z"
   },
   {
    "duration": 967,
    "start_time": "2021-12-27T19:08:27.802Z"
   },
   {
    "duration": 105,
    "start_time": "2021-12-27T19:08:28.772Z"
   },
   {
    "duration": 16,
    "start_time": "2021-12-27T19:08:28.880Z"
   },
   {
    "duration": 143,
    "start_time": "2021-12-27T19:08:28.898Z"
   },
   {
    "duration": 18,
    "start_time": "2021-12-27T19:08:29.043Z"
   },
   {
    "duration": 59,
    "start_time": "2021-12-27T19:08:29.064Z"
   },
   {
    "duration": 185,
    "start_time": "2021-12-27T19:08:29.125Z"
   },
   {
    "duration": 38,
    "start_time": "2021-12-27T19:08:29.324Z"
   },
   {
    "duration": 10,
    "start_time": "2021-12-27T19:08:29.366Z"
   },
   {
    "duration": 22,
    "start_time": "2021-12-27T19:08:29.378Z"
   },
   {
    "duration": 38,
    "start_time": "2021-12-27T19:08:29.423Z"
   },
   {
    "duration": 372,
    "start_time": "2021-12-27T19:08:29.463Z"
   },
   {
    "duration": 31,
    "start_time": "2021-12-27T19:08:29.838Z"
   },
   {
    "duration": 161,
    "start_time": "2021-12-27T19:08:29.872Z"
   },
   {
    "duration": 53,
    "start_time": "2021-12-27T19:08:30.036Z"
   },
   {
    "duration": 88,
    "start_time": "2021-12-27T19:08:30.092Z"
   },
   {
    "duration": 1344,
    "start_time": "2021-12-27T19:08:30.183Z"
   },
   {
    "duration": 54,
    "start_time": "2021-12-27T19:08:31.530Z"
   },
   {
    "duration": 65,
    "start_time": "2021-12-27T19:08:31.587Z"
   },
   {
    "duration": 11,
    "start_time": "2021-12-27T19:08:31.655Z"
   },
   {
    "duration": 492,
    "start_time": "2021-12-27T19:08:31.669Z"
   },
   {
    "duration": 12,
    "start_time": "2021-12-27T19:08:32.163Z"
   },
   {
    "duration": 525,
    "start_time": "2021-12-27T19:08:32.182Z"
   },
   {
    "duration": 522,
    "start_time": "2021-12-27T19:08:32.710Z"
   },
   {
    "duration": 230,
    "start_time": "2021-12-27T19:08:33.237Z"
   },
   {
    "duration": 11,
    "start_time": "2021-12-27T19:08:33.470Z"
   },
   {
    "duration": 454,
    "start_time": "2021-12-27T19:08:33.484Z"
   },
   {
    "duration": 11,
    "start_time": "2021-12-27T19:08:33.942Z"
   },
   {
    "duration": 445,
    "start_time": "2021-12-27T19:08:33.956Z"
   },
   {
    "duration": 22,
    "start_time": "2021-12-27T19:08:34.403Z"
   },
   {
    "duration": 538,
    "start_time": "2021-12-27T19:08:34.427Z"
   },
   {
    "duration": 10,
    "start_time": "2021-12-27T19:08:34.968Z"
   },
   {
    "duration": 66,
    "start_time": "2021-12-27T19:08:34.980Z"
   },
   {
    "duration": 225,
    "start_time": "2021-12-27T19:08:35.049Z"
   },
   {
    "duration": 153,
    "start_time": "2021-12-27T19:08:35.276Z"
   },
   {
    "duration": 173,
    "start_time": "2021-12-27T19:08:35.431Z"
   },
   {
    "duration": 416,
    "start_time": "2021-12-27T19:08:35.607Z"
   },
   {
    "duration": 406,
    "start_time": "2021-12-27T19:08:36.037Z"
   },
   {
    "duration": 336,
    "start_time": "2021-12-27T19:08:36.445Z"
   },
   {
    "duration": 282,
    "start_time": "2021-12-27T19:08:36.784Z"
   },
   {
    "duration": 716,
    "start_time": "2021-12-27T19:08:37.068Z"
   },
   {
    "duration": 323,
    "start_time": "2021-12-27T19:08:37.787Z"
   },
   {
    "duration": 346,
    "start_time": "2021-12-27T19:08:38.113Z"
   },
   {
    "duration": 385,
    "start_time": "2021-12-27T19:08:38.461Z"
   },
   {
    "duration": 36,
    "start_time": "2021-12-27T19:08:38.848Z"
   },
   {
    "duration": 10,
    "start_time": "2021-12-27T19:08:38.887Z"
   },
   {
    "duration": 35,
    "start_time": "2021-12-27T19:08:38.899Z"
   },
   {
    "duration": 15,
    "start_time": "2021-12-27T19:08:38.937Z"
   },
   {
    "duration": 324,
    "start_time": "2021-12-27T19:08:38.955Z"
   },
   {
    "duration": 146,
    "start_time": "2021-12-27T19:08:39.281Z"
   },
   {
    "duration": 350,
    "start_time": "2021-12-27T19:08:39.429Z"
   },
   {
    "duration": 271,
    "start_time": "2021-12-27T19:08:39.781Z"
   },
   {
    "duration": 532,
    "start_time": "2021-12-27T19:08:40.055Z"
   },
   {
    "duration": 417,
    "start_time": "2021-12-27T19:08:40.589Z"
   },
   {
    "duration": 402,
    "start_time": "2021-12-27T19:08:41.009Z"
   },
   {
    "duration": 313,
    "start_time": "2021-12-27T19:08:41.414Z"
   },
   {
    "duration": 392,
    "start_time": "2021-12-27T19:08:41.733Z"
   },
   {
    "duration": 35,
    "start_time": "2021-12-27T19:18:43.011Z"
   },
   {
    "duration": 361,
    "start_time": "2021-12-27T19:18:56.491Z"
   },
   {
    "duration": 899,
    "start_time": "2021-12-27T19:19:09.348Z"
   },
   {
    "duration": 110,
    "start_time": "2021-12-27T19:19:10.250Z"
   },
   {
    "duration": 16,
    "start_time": "2021-12-27T19:19:10.363Z"
   },
   {
    "duration": 140,
    "start_time": "2021-12-27T19:19:10.383Z"
   },
   {
    "duration": 21,
    "start_time": "2021-12-27T19:19:10.525Z"
   },
   {
    "duration": 41,
    "start_time": "2021-12-27T19:19:10.551Z"
   },
   {
    "duration": 150,
    "start_time": "2021-12-27T19:19:10.595Z"
   },
   {
    "duration": 46,
    "start_time": "2021-12-27T19:19:10.750Z"
   },
   {
    "duration": 37,
    "start_time": "2021-12-27T19:19:10.800Z"
   },
   {
    "duration": 20,
    "start_time": "2021-12-27T19:19:10.840Z"
   },
   {
    "duration": 28,
    "start_time": "2021-12-27T19:19:10.863Z"
   },
   {
    "duration": 397,
    "start_time": "2021-12-27T19:19:10.894Z"
   },
   {
    "duration": 47,
    "start_time": "2021-12-27T19:19:11.294Z"
   },
   {
    "duration": 123,
    "start_time": "2021-12-27T19:19:11.343Z"
   },
   {
    "duration": 54,
    "start_time": "2021-12-27T19:19:11.469Z"
   },
   {
    "duration": 49,
    "start_time": "2021-12-27T19:19:11.526Z"
   },
   {
    "duration": 886,
    "start_time": "2021-12-27T19:19:11.578Z"
   },
   {
    "duration": 70,
    "start_time": "2021-12-27T19:19:12.467Z"
   },
   {
    "duration": 41,
    "start_time": "2021-12-27T19:19:12.540Z"
   },
   {
    "duration": 12,
    "start_time": "2021-12-27T19:19:12.584Z"
   },
   {
    "duration": 514,
    "start_time": "2021-12-27T19:19:12.632Z"
   },
   {
    "duration": 18,
    "start_time": "2021-12-27T19:19:13.149Z"
   },
   {
    "duration": 559,
    "start_time": "2021-12-27T19:19:13.178Z"
   },
   {
    "duration": 535,
    "start_time": "2021-12-27T19:19:13.741Z"
   },
   {
    "duration": 235,
    "start_time": "2021-12-27T19:19:14.278Z"
   },
   {
    "duration": 24,
    "start_time": "2021-12-27T19:19:14.516Z"
   },
   {
    "duration": 432,
    "start_time": "2021-12-27T19:19:14.543Z"
   },
   {
    "duration": 13,
    "start_time": "2021-12-27T19:19:14.977Z"
   },
   {
    "duration": 456,
    "start_time": "2021-12-27T19:19:14.992Z"
   },
   {
    "duration": 12,
    "start_time": "2021-12-27T19:19:15.451Z"
   },
   {
    "duration": 1195,
    "start_time": "2021-12-27T19:19:15.465Z"
   },
   {
    "duration": 13,
    "start_time": "2021-12-27T19:19:16.663Z"
   },
   {
    "duration": 79,
    "start_time": "2021-12-27T19:19:16.678Z"
   },
   {
    "duration": 226,
    "start_time": "2021-12-27T19:19:16.764Z"
   },
   {
    "duration": 162,
    "start_time": "2021-12-27T19:19:16.993Z"
   },
   {
    "duration": 189,
    "start_time": "2021-12-27T19:19:17.157Z"
   },
   {
    "duration": 398,
    "start_time": "2021-12-27T19:19:17.349Z"
   },
   {
    "duration": 455,
    "start_time": "2021-12-27T19:19:17.749Z"
   },
   {
    "duration": 346,
    "start_time": "2021-12-27T19:19:18.208Z"
   },
   {
    "duration": 515,
    "start_time": "2021-12-27T19:19:18.558Z"
   },
   {
    "duration": 618,
    "start_time": "2021-12-27T19:19:19.076Z"
   },
   {
    "duration": 353,
    "start_time": "2021-12-27T19:19:19.696Z"
   },
   {
    "duration": 337,
    "start_time": "2021-12-27T19:19:20.051Z"
   },
   {
    "duration": 326,
    "start_time": "2021-12-27T19:19:20.391Z"
   },
   {
    "duration": 39,
    "start_time": "2021-12-27T19:19:20.726Z"
   },
   {
    "duration": 11,
    "start_time": "2021-12-27T19:19:20.767Z"
   },
   {
    "duration": 30,
    "start_time": "2021-12-27T19:19:20.780Z"
   },
   {
    "duration": 12,
    "start_time": "2021-12-27T19:19:20.823Z"
   },
   {
    "duration": 347,
    "start_time": "2021-12-27T19:19:20.838Z"
   },
   {
    "duration": 139,
    "start_time": "2021-12-27T19:19:21.188Z"
   },
   {
    "duration": 337,
    "start_time": "2021-12-27T19:19:21.330Z"
   },
   {
    "duration": 384,
    "start_time": "2021-12-27T19:19:21.670Z"
   },
   {
    "duration": 673,
    "start_time": "2021-12-27T19:19:22.057Z"
   },
   {
    "duration": 314,
    "start_time": "2021-12-27T19:19:22.733Z"
   },
   {
    "duration": 424,
    "start_time": "2021-12-27T19:19:23.050Z"
   },
   {
    "duration": 321,
    "start_time": "2021-12-27T19:19:23.476Z"
   },
   {
    "duration": 314,
    "start_time": "2021-12-27T19:19:23.799Z"
   },
   {
    "duration": 893,
    "start_time": "2021-12-27T19:22:22.989Z"
   },
   {
    "duration": 108,
    "start_time": "2021-12-27T19:22:23.885Z"
   },
   {
    "duration": 28,
    "start_time": "2021-12-27T19:22:23.996Z"
   },
   {
    "duration": 125,
    "start_time": "2021-12-27T19:22:24.027Z"
   },
   {
    "duration": 19,
    "start_time": "2021-12-27T19:22:24.155Z"
   },
   {
    "duration": 71,
    "start_time": "2021-12-27T19:22:24.177Z"
   },
   {
    "duration": 193,
    "start_time": "2021-12-27T19:22:24.252Z"
   },
   {
    "duration": 30,
    "start_time": "2021-12-27T19:22:24.448Z"
   },
   {
    "duration": 9,
    "start_time": "2021-12-27T19:22:24.482Z"
   },
   {
    "duration": 50,
    "start_time": "2021-12-27T19:22:24.495Z"
   },
   {
    "duration": 33,
    "start_time": "2021-12-27T19:22:24.547Z"
   },
   {
    "duration": 378,
    "start_time": "2021-12-27T19:22:24.582Z"
   },
   {
    "duration": 32,
    "start_time": "2021-12-27T19:22:24.963Z"
   },
   {
    "duration": 128,
    "start_time": "2021-12-27T19:22:24.997Z"
   },
   {
    "duration": 40,
    "start_time": "2021-12-27T19:22:25.130Z"
   },
   {
    "duration": 71,
    "start_time": "2021-12-27T19:22:25.172Z"
   },
   {
    "duration": 881,
    "start_time": "2021-12-27T19:22:25.246Z"
   },
   {
    "duration": 42,
    "start_time": "2021-12-27T19:22:26.129Z"
   },
   {
    "duration": 70,
    "start_time": "2021-12-27T19:22:26.173Z"
   },
   {
    "duration": 12,
    "start_time": "2021-12-27T19:22:26.246Z"
   },
   {
    "duration": 516,
    "start_time": "2021-12-27T19:22:26.261Z"
   },
   {
    "duration": 12,
    "start_time": "2021-12-27T19:22:26.779Z"
   },
   {
    "duration": 571,
    "start_time": "2021-12-27T19:22:26.793Z"
   },
   {
    "duration": 543,
    "start_time": "2021-12-27T19:22:27.366Z"
   },
   {
    "duration": 350,
    "start_time": "2021-12-27T19:22:27.912Z"
   },
   {
    "duration": 59,
    "start_time": "2021-12-27T19:22:28.269Z"
   },
   {
    "duration": 1105,
    "start_time": "2021-12-27T19:22:28.338Z"
   },
   {
    "duration": 12,
    "start_time": "2021-12-27T19:22:29.447Z"
   },
   {
    "duration": 577,
    "start_time": "2021-12-27T19:22:29.462Z"
   },
   {
    "duration": 14,
    "start_time": "2021-12-27T19:22:30.043Z"
   },
   {
    "duration": 466,
    "start_time": "2021-12-27T19:22:30.060Z"
   },
   {
    "duration": 13,
    "start_time": "2021-12-27T19:22:30.533Z"
   },
   {
    "duration": 55,
    "start_time": "2021-12-27T19:22:30.549Z"
   },
   {
    "duration": 248,
    "start_time": "2021-12-27T19:22:30.607Z"
   },
   {
    "duration": 142,
    "start_time": "2021-12-27T19:22:30.857Z"
   },
   {
    "duration": 151,
    "start_time": "2021-12-27T19:22:31.002Z"
   },
   {
    "duration": 381,
    "start_time": "2021-12-27T19:22:31.156Z"
   },
   {
    "duration": 567,
    "start_time": "2021-12-27T19:22:31.541Z"
   },
   {
    "duration": 346,
    "start_time": "2021-12-27T19:22:32.111Z"
   },
   {
    "duration": 297,
    "start_time": "2021-12-27T19:22:32.460Z"
   },
   {
    "duration": 846,
    "start_time": "2021-12-27T19:22:32.760Z"
   },
   {
    "duration": 334,
    "start_time": "2021-12-27T19:22:33.608Z"
   },
   {
    "duration": 351,
    "start_time": "2021-12-27T19:22:33.945Z"
   },
   {
    "duration": 332,
    "start_time": "2021-12-27T19:22:34.299Z"
   },
   {
    "duration": 38,
    "start_time": "2021-12-27T19:22:34.634Z"
   },
   {
    "duration": 11,
    "start_time": "2021-12-27T19:22:34.675Z"
   },
   {
    "duration": 46,
    "start_time": "2021-12-27T19:22:34.689Z"
   },
   {
    "duration": 8,
    "start_time": "2021-12-27T19:22:34.740Z"
   },
   {
    "duration": 347,
    "start_time": "2021-12-27T19:22:34.750Z"
   },
   {
    "duration": 155,
    "start_time": "2021-12-27T19:22:35.100Z"
   },
   {
    "duration": 381,
    "start_time": "2021-12-27T19:22:35.257Z"
   },
   {
    "duration": 390,
    "start_time": "2021-12-27T19:22:35.641Z"
   },
   {
    "duration": 560,
    "start_time": "2021-12-27T19:22:36.034Z"
   },
   {
    "duration": 322,
    "start_time": "2021-12-27T19:22:36.597Z"
   },
   {
    "duration": 411,
    "start_time": "2021-12-27T19:22:36.923Z"
   },
   {
    "duration": 319,
    "start_time": "2021-12-27T19:22:37.337Z"
   },
   {
    "duration": 324,
    "start_time": "2021-12-27T19:22:37.658Z"
   },
   {
    "duration": 13,
    "start_time": "2021-12-27T19:33:48.186Z"
   },
   {
    "duration": 1208,
    "start_time": "2021-12-27T19:34:04.777Z"
   },
   {
    "duration": 160,
    "start_time": "2021-12-27T19:34:05.989Z"
   },
   {
    "duration": 26,
    "start_time": "2021-12-27T19:34:06.153Z"
   },
   {
    "duration": 138,
    "start_time": "2021-12-27T19:34:06.182Z"
   },
   {
    "duration": 20,
    "start_time": "2021-12-27T19:34:06.327Z"
   },
   {
    "duration": 47,
    "start_time": "2021-12-27T19:34:06.349Z"
   },
   {
    "duration": 194,
    "start_time": "2021-12-27T19:34:06.424Z"
   },
   {
    "duration": 37,
    "start_time": "2021-12-27T19:34:06.630Z"
   },
   {
    "duration": 11,
    "start_time": "2021-12-27T19:34:06.670Z"
   },
   {
    "duration": 51,
    "start_time": "2021-12-27T19:34:06.684Z"
   },
   {
    "duration": 32,
    "start_time": "2021-12-27T19:34:06.738Z"
   },
   {
    "duration": 14,
    "start_time": "2021-12-27T19:34:06.773Z"
   },
   {
    "duration": 74,
    "start_time": "2021-12-27T19:34:06.790Z"
   },
   {
    "duration": 176,
    "start_time": "2021-12-27T19:34:06.867Z"
   },
   {
    "duration": 40,
    "start_time": "2021-12-27T19:34:07.046Z"
   },
   {
    "duration": 72,
    "start_time": "2021-12-27T19:34:07.088Z"
   },
   {
    "duration": 1664,
    "start_time": "2021-12-27T19:34:07.163Z"
   },
   {
    "duration": 42,
    "start_time": "2021-12-27T19:34:08.830Z"
   },
   {
    "duration": 69,
    "start_time": "2021-12-27T19:34:08.875Z"
   },
   {
    "duration": 15,
    "start_time": "2021-12-27T19:34:08.948Z"
   },
   {
    "duration": 697,
    "start_time": "2021-12-27T19:34:08.966Z"
   },
   {
    "duration": 15,
    "start_time": "2021-12-27T19:34:09.666Z"
   },
   {
    "duration": 552,
    "start_time": "2021-12-27T19:34:09.687Z"
   },
   {
    "duration": 580,
    "start_time": "2021-12-27T19:34:10.243Z"
   },
   {
    "duration": 334,
    "start_time": "2021-12-27T19:34:10.826Z"
   },
   {
    "duration": 15,
    "start_time": "2021-12-27T19:34:11.163Z"
   },
   {
    "duration": 466,
    "start_time": "2021-12-27T19:34:11.180Z"
   },
   {
    "duration": 15,
    "start_time": "2021-12-27T19:34:11.649Z"
   },
   {
    "duration": 447,
    "start_time": "2021-12-27T19:34:11.667Z"
   },
   {
    "duration": 18,
    "start_time": "2021-12-27T19:34:12.116Z"
   },
   {
    "duration": 450,
    "start_time": "2021-12-27T19:34:12.137Z"
   },
   {
    "duration": 10,
    "start_time": "2021-12-27T19:34:12.589Z"
   },
   {
    "duration": 49,
    "start_time": "2021-12-27T19:34:12.622Z"
   },
   {
    "duration": 328,
    "start_time": "2021-12-27T19:34:12.674Z"
   },
   {
    "duration": 196,
    "start_time": "2021-12-27T19:34:13.005Z"
   },
   {
    "duration": 223,
    "start_time": "2021-12-27T19:34:13.204Z"
   },
   {
    "duration": 578,
    "start_time": "2021-12-27T19:34:13.430Z"
   },
   {
    "duration": 441,
    "start_time": "2021-12-27T19:34:14.012Z"
   },
   {
    "duration": 354,
    "start_time": "2021-12-27T19:34:14.455Z"
   },
   {
    "duration": 305,
    "start_time": "2021-12-27T19:34:14.812Z"
   },
   {
    "duration": 667,
    "start_time": "2021-12-27T19:34:15.123Z"
   },
   {
    "duration": 384,
    "start_time": "2021-12-27T19:34:15.792Z"
   },
   {
    "duration": 386,
    "start_time": "2021-12-27T19:34:16.179Z"
   },
   {
    "duration": 515,
    "start_time": "2021-12-27T19:34:16.568Z"
   },
   {
    "duration": 61,
    "start_time": "2021-12-27T19:34:17.087Z"
   },
   {
    "duration": 14,
    "start_time": "2021-12-27T19:34:17.151Z"
   },
   {
    "duration": 19,
    "start_time": "2021-12-27T19:34:17.168Z"
   },
   {
    "duration": 41,
    "start_time": "2021-12-27T19:34:17.190Z"
   },
   {
    "duration": 335,
    "start_time": "2021-12-27T19:34:17.233Z"
   },
   {
    "duration": 137,
    "start_time": "2021-12-27T19:34:17.571Z"
   },
   {
    "duration": 349,
    "start_time": "2021-12-27T19:34:17.711Z"
   },
   {
    "duration": 311,
    "start_time": "2021-12-27T19:34:18.063Z"
   },
   {
    "duration": 517,
    "start_time": "2021-12-27T19:34:18.377Z"
   },
   {
    "duration": 314,
    "start_time": "2021-12-27T19:34:18.897Z"
   },
   {
    "duration": 398,
    "start_time": "2021-12-27T19:34:19.213Z"
   },
   {
    "duration": 337,
    "start_time": "2021-12-27T19:34:19.613Z"
   },
   {
    "duration": 458,
    "start_time": "2021-12-27T19:34:19.953Z"
   },
   {
    "duration": 447,
    "start_time": "2021-12-27T19:35:05.121Z"
   },
   {
    "duration": 39,
    "start_time": "2021-12-27T19:35:41.744Z"
   },
   {
    "duration": 1071,
    "start_time": "2021-12-27T19:36:12.618Z"
   },
   {
    "duration": 102,
    "start_time": "2021-12-27T19:36:13.691Z"
   },
   {
    "duration": 29,
    "start_time": "2021-12-27T19:36:13.796Z"
   },
   {
    "duration": 126,
    "start_time": "2021-12-27T19:36:13.827Z"
   },
   {
    "duration": 17,
    "start_time": "2021-12-27T19:36:13.955Z"
   },
   {
    "duration": 59,
    "start_time": "2021-12-27T19:36:13.974Z"
   },
   {
    "duration": 145,
    "start_time": "2021-12-27T19:36:14.036Z"
   },
   {
    "duration": 48,
    "start_time": "2021-12-27T19:36:14.185Z"
   },
   {
    "duration": 10,
    "start_time": "2021-12-27T19:36:14.237Z"
   },
   {
    "duration": 27,
    "start_time": "2021-12-27T19:36:14.250Z"
   },
   {
    "duration": 60,
    "start_time": "2021-12-27T19:36:14.280Z"
   },
   {
    "duration": 40,
    "start_time": "2021-12-27T19:36:14.343Z"
   },
   {
    "duration": 34,
    "start_time": "2021-12-27T19:36:14.422Z"
   },
   {
    "duration": 168,
    "start_time": "2021-12-27T19:36:14.459Z"
   },
   {
    "duration": 40,
    "start_time": "2021-12-27T19:36:14.630Z"
   },
   {
    "duration": 95,
    "start_time": "2021-12-27T19:36:14.672Z"
   },
   {
    "duration": 1472,
    "start_time": "2021-12-27T19:36:14.770Z"
   },
   {
    "duration": 54,
    "start_time": "2021-12-27T19:36:16.245Z"
   },
   {
    "duration": 58,
    "start_time": "2021-12-27T19:36:16.302Z"
   },
   {
    "duration": 16,
    "start_time": "2021-12-27T19:36:16.363Z"
   },
   {
    "duration": 947,
    "start_time": "2021-12-27T19:36:16.381Z"
   },
   {
    "duration": 13,
    "start_time": "2021-12-27T19:36:17.331Z"
   },
   {
    "duration": 698,
    "start_time": "2021-12-27T19:36:17.352Z"
   },
   {
    "duration": 513,
    "start_time": "2021-12-27T19:36:18.053Z"
   },
   {
    "duration": 249,
    "start_time": "2021-12-27T19:36:18.569Z"
   },
   {
    "duration": 12,
    "start_time": "2021-12-27T19:36:18.824Z"
   },
   {
    "duration": 637,
    "start_time": "2021-12-27T19:36:18.839Z"
   },
   {
    "duration": 16,
    "start_time": "2021-12-27T19:36:19.478Z"
   },
   {
    "duration": 647,
    "start_time": "2021-12-27T19:36:19.497Z"
   },
   {
    "duration": 13,
    "start_time": "2021-12-27T19:36:20.147Z"
   },
   {
    "duration": 474,
    "start_time": "2021-12-27T19:36:20.163Z"
   },
   {
    "duration": 14,
    "start_time": "2021-12-27T19:36:20.641Z"
   },
   {
    "duration": 83,
    "start_time": "2021-12-27T19:36:20.658Z"
   },
   {
    "duration": 260,
    "start_time": "2021-12-27T19:36:20.744Z"
   },
   {
    "duration": 168,
    "start_time": "2021-12-27T19:36:21.007Z"
   },
   {
    "duration": 192,
    "start_time": "2021-12-27T19:36:21.178Z"
   },
   {
    "duration": 560,
    "start_time": "2021-12-27T19:36:21.372Z"
   },
   {
    "duration": 657,
    "start_time": "2021-12-27T19:36:21.936Z"
   },
   {
    "duration": 409,
    "start_time": "2021-12-27T19:36:22.596Z"
   },
   {
    "duration": 324,
    "start_time": "2021-12-27T19:36:23.008Z"
   },
   {
    "duration": 820,
    "start_time": "2021-12-27T19:36:23.336Z"
   },
   {
    "duration": 332,
    "start_time": "2021-12-27T19:36:24.158Z"
   },
   {
    "duration": 462,
    "start_time": "2021-12-27T19:36:24.492Z"
   },
   {
    "duration": 315,
    "start_time": "2021-12-27T19:36:24.957Z"
   },
   {
    "duration": 54,
    "start_time": "2021-12-27T19:36:25.276Z"
   },
   {
    "duration": 10,
    "start_time": "2021-12-27T19:36:25.333Z"
   },
   {
    "duration": 30,
    "start_time": "2021-12-27T19:36:25.346Z"
   },
   {
    "duration": 28,
    "start_time": "2021-12-27T19:36:25.378Z"
   },
   {
    "duration": 339,
    "start_time": "2021-12-27T19:36:25.409Z"
   },
   {
    "duration": 139,
    "start_time": "2021-12-27T19:36:25.751Z"
   },
   {
    "duration": 341,
    "start_time": "2021-12-27T19:36:25.893Z"
   },
   {
    "duration": 367,
    "start_time": "2021-12-27T19:36:26.236Z"
   },
   {
    "duration": 689,
    "start_time": "2021-12-27T19:36:26.606Z"
   },
   {
    "duration": 430,
    "start_time": "2021-12-27T19:36:27.298Z"
   },
   {
    "duration": 405,
    "start_time": "2021-12-27T19:36:27.730Z"
   },
   {
    "duration": 637,
    "start_time": "2021-12-27T19:36:28.139Z"
   },
   {
    "duration": 554,
    "start_time": "2021-12-27T19:36:28.779Z"
   },
   {
    "duration": 893,
    "start_time": "2021-12-28T18:44:01.799Z"
   },
   {
    "duration": 97,
    "start_time": "2021-12-28T18:44:02.694Z"
   },
   {
    "duration": 29,
    "start_time": "2021-12-28T18:44:02.795Z"
   },
   {
    "duration": 126,
    "start_time": "2021-12-28T18:44:02.828Z"
   },
   {
    "duration": 19,
    "start_time": "2021-12-28T18:44:02.957Z"
   },
   {
    "duration": 64,
    "start_time": "2021-12-28T18:44:02.979Z"
   },
   {
    "duration": 138,
    "start_time": "2021-12-28T18:44:03.046Z"
   },
   {
    "duration": 52,
    "start_time": "2021-12-28T18:44:03.186Z"
   },
   {
    "duration": 12,
    "start_time": "2021-12-28T18:44:03.244Z"
   },
   {
    "duration": 58,
    "start_time": "2021-12-28T18:44:03.260Z"
   },
   {
    "duration": 31,
    "start_time": "2021-12-28T18:44:03.321Z"
   },
   {
    "duration": 67,
    "start_time": "2021-12-28T18:44:03.357Z"
   },
   {
    "duration": 35,
    "start_time": "2021-12-28T18:44:03.427Z"
   },
   {
    "duration": 130,
    "start_time": "2021-12-28T18:44:03.465Z"
   },
   {
    "duration": 49,
    "start_time": "2021-12-28T18:44:03.597Z"
   },
   {
    "duration": 48,
    "start_time": "2021-12-28T18:44:03.649Z"
   },
   {
    "duration": 836,
    "start_time": "2021-12-28T18:44:03.699Z"
   },
   {
    "duration": 37,
    "start_time": "2021-12-28T18:44:04.538Z"
   },
   {
    "duration": 60,
    "start_time": "2021-12-28T18:44:04.577Z"
   },
   {
    "duration": 11,
    "start_time": "2021-12-28T18:44:04.640Z"
   },
   {
    "duration": 482,
    "start_time": "2021-12-28T18:44:04.654Z"
   },
   {
    "duration": 14,
    "start_time": "2021-12-28T18:44:05.139Z"
   },
   {
    "duration": 516,
    "start_time": "2021-12-28T18:44:05.156Z"
   },
   {
    "duration": 487,
    "start_time": "2021-12-28T18:44:05.674Z"
   },
   {
    "duration": 228,
    "start_time": "2021-12-28T18:44:06.163Z"
   },
   {
    "duration": 25,
    "start_time": "2021-12-28T18:44:06.393Z"
   },
   {
    "duration": 519,
    "start_time": "2021-12-28T18:44:06.424Z"
   },
   {
    "duration": 16,
    "start_time": "2021-12-28T18:44:06.947Z"
   },
   {
    "duration": 651,
    "start_time": "2021-12-28T18:44:06.966Z"
   },
   {
    "duration": 13,
    "start_time": "2021-12-28T18:44:07.620Z"
   },
   {
    "duration": 640,
    "start_time": "2021-12-28T18:44:07.636Z"
   },
   {
    "duration": 12,
    "start_time": "2021-12-28T18:44:08.279Z"
   },
   {
    "duration": 79,
    "start_time": "2021-12-28T18:44:08.294Z"
   },
   {
    "duration": 337,
    "start_time": "2021-12-28T18:44:08.376Z"
   },
   {
    "duration": 194,
    "start_time": "2021-12-28T18:44:08.718Z"
   },
   {
    "duration": 215,
    "start_time": "2021-12-28T18:44:08.918Z"
   },
   {
    "duration": 547,
    "start_time": "2021-12-28T18:44:09.136Z"
   },
   {
    "duration": 575,
    "start_time": "2021-12-28T18:44:09.686Z"
   },
   {
    "duration": 437,
    "start_time": "2021-12-28T18:44:10.263Z"
   },
   {
    "duration": 383,
    "start_time": "2021-12-28T18:44:10.703Z"
   },
   {
    "duration": 979,
    "start_time": "2021-12-28T18:44:11.089Z"
   },
   {
    "duration": 311,
    "start_time": "2021-12-28T18:44:12.071Z"
   },
   {
    "duration": 437,
    "start_time": "2021-12-28T18:44:12.385Z"
   },
   {
    "duration": 414,
    "start_time": "2021-12-28T18:44:12.826Z"
   },
   {
    "duration": 47,
    "start_time": "2021-12-28T18:44:13.243Z"
   },
   {
    "duration": 35,
    "start_time": "2021-12-28T18:44:13.293Z"
   },
   {
    "duration": 16,
    "start_time": "2021-12-28T18:44:13.331Z"
   },
   {
    "duration": 8,
    "start_time": "2021-12-28T18:44:13.350Z"
   },
   {
    "duration": 335,
    "start_time": "2021-12-28T18:44:13.361Z"
   },
   {
    "duration": 136,
    "start_time": "2021-12-28T18:44:13.699Z"
   },
   {
    "duration": 337,
    "start_time": "2021-12-28T18:44:13.838Z"
   },
   {
    "duration": 271,
    "start_time": "2021-12-28T18:44:14.177Z"
   },
   {
    "duration": 470,
    "start_time": "2021-12-28T18:44:14.450Z"
   },
   {
    "duration": 303,
    "start_time": "2021-12-28T18:44:14.923Z"
   },
   {
    "duration": 392,
    "start_time": "2021-12-28T18:44:15.229Z"
   },
   {
    "duration": 302,
    "start_time": "2021-12-28T18:44:15.625Z"
   },
   {
    "duration": 296,
    "start_time": "2021-12-28T18:44:15.929Z"
   },
   {
    "duration": 890,
    "start_time": "2021-12-28T19:36:15.343Z"
   },
   {
    "duration": 981,
    "start_time": "2021-12-28T19:36:24.856Z"
   },
   {
    "duration": 110,
    "start_time": "2021-12-28T19:36:25.839Z"
   },
   {
    "duration": 24,
    "start_time": "2021-12-28T19:36:25.953Z"
   },
   {
    "duration": 16,
    "start_time": "2021-12-28T19:36:25.985Z"
   },
   {
    "duration": 142,
    "start_time": "2021-12-28T19:36:26.004Z"
   },
   {
    "duration": 27,
    "start_time": "2021-12-28T19:36:26.149Z"
   },
   {
    "duration": 44,
    "start_time": "2021-12-28T19:36:26.179Z"
   },
   {
    "duration": 163,
    "start_time": "2021-12-28T19:36:26.228Z"
   },
   {
    "duration": 35,
    "start_time": "2021-12-28T19:36:26.395Z"
   },
   {
    "duration": 9,
    "start_time": "2021-12-28T19:36:26.432Z"
   },
   {
    "duration": 33,
    "start_time": "2021-12-28T19:36:26.463Z"
   },
   {
    "duration": 46,
    "start_time": "2021-12-28T19:36:26.499Z"
   },
   {
    "duration": 59,
    "start_time": "2021-12-28T19:36:26.548Z"
   },
   {
    "duration": 64,
    "start_time": "2021-12-28T19:36:26.610Z"
   },
   {
    "duration": 122,
    "start_time": "2021-12-28T19:36:26.677Z"
   },
   {
    "duration": 42,
    "start_time": "2021-12-28T19:36:26.802Z"
   },
   {
    "duration": 69,
    "start_time": "2021-12-28T19:36:26.847Z"
   },
   {
    "duration": 1416,
    "start_time": "2021-12-28T19:36:26.919Z"
   },
   {
    "duration": 56,
    "start_time": "2021-12-28T19:36:28.338Z"
   },
   {
    "duration": 48,
    "start_time": "2021-12-28T19:36:28.397Z"
   },
   {
    "duration": 35,
    "start_time": "2021-12-28T19:36:28.447Z"
   },
   {
    "duration": 524,
    "start_time": "2021-12-28T19:36:28.484Z"
   },
   {
    "duration": 11,
    "start_time": "2021-12-28T19:36:29.014Z"
   },
   {
    "duration": 572,
    "start_time": "2021-12-28T19:36:29.029Z"
   },
   {
    "duration": 545,
    "start_time": "2021-12-28T19:36:29.604Z"
   },
   {
    "duration": 260,
    "start_time": "2021-12-28T19:36:30.152Z"
   },
   {
    "duration": 11,
    "start_time": "2021-12-28T19:36:30.415Z"
   },
   {
    "duration": 477,
    "start_time": "2021-12-28T19:36:30.428Z"
   },
   {
    "duration": 12,
    "start_time": "2021-12-28T19:36:30.908Z"
   },
   {
    "duration": 508,
    "start_time": "2021-12-28T19:36:30.923Z"
   },
   {
    "duration": 13,
    "start_time": "2021-12-28T19:36:31.434Z"
   },
   {
    "duration": 459,
    "start_time": "2021-12-28T19:36:31.463Z"
   },
   {
    "duration": 13,
    "start_time": "2021-12-28T19:36:31.925Z"
   },
   {
    "duration": 76,
    "start_time": "2021-12-28T19:36:31.942Z"
   },
   {
    "duration": 342,
    "start_time": "2021-12-28T19:36:32.021Z"
   },
   {
    "duration": 208,
    "start_time": "2021-12-28T19:36:32.366Z"
   },
   {
    "duration": 160,
    "start_time": "2021-12-28T19:36:32.577Z"
   },
   {
    "duration": 519,
    "start_time": "2021-12-28T19:36:32.740Z"
   },
   {
    "duration": 441,
    "start_time": "2021-12-28T19:36:33.262Z"
   },
   {
    "duration": 341,
    "start_time": "2021-12-28T19:36:33.706Z"
   },
   {
    "duration": 308,
    "start_time": "2021-12-28T19:36:34.049Z"
   },
   {
    "duration": 788,
    "start_time": "2021-12-28T19:36:34.365Z"
   },
   {
    "duration": 339,
    "start_time": "2021-12-28T19:36:35.155Z"
   },
   {
    "duration": 338,
    "start_time": "2021-12-28T19:36:35.497Z"
   },
   {
    "duration": 347,
    "start_time": "2021-12-28T19:36:35.838Z"
   },
   {
    "duration": 38,
    "start_time": "2021-12-28T19:36:36.189Z"
   },
   {
    "duration": 35,
    "start_time": "2021-12-28T19:36:36.229Z"
   },
   {
    "duration": 26,
    "start_time": "2021-12-28T19:36:36.267Z"
   },
   {
    "duration": 30,
    "start_time": "2021-12-28T19:36:36.295Z"
   },
   {
    "duration": 479,
    "start_time": "2021-12-28T19:36:36.328Z"
   },
   {
    "duration": 146,
    "start_time": "2021-12-28T19:36:36.809Z"
   },
   {
    "duration": 355,
    "start_time": "2021-12-28T19:36:36.958Z"
   },
   {
    "duration": 388,
    "start_time": "2021-12-28T19:36:37.316Z"
   },
   {
    "duration": 564,
    "start_time": "2021-12-28T19:36:37.708Z"
   },
   {
    "duration": 321,
    "start_time": "2021-12-28T19:36:38.275Z"
   },
   {
    "duration": 424,
    "start_time": "2021-12-28T19:36:38.599Z"
   },
   {
    "duration": 364,
    "start_time": "2021-12-28T19:36:39.026Z"
   },
   {
    "duration": 343,
    "start_time": "2021-12-28T19:36:39.393Z"
   },
   {
    "duration": 13,
    "start_time": "2021-12-28T19:38:25.515Z"
   },
   {
    "duration": 24,
    "start_time": "2021-12-28T19:38:40.486Z"
   },
   {
    "duration": 426,
    "start_time": "2021-12-28T19:41:27.183Z"
   },
   {
    "duration": 42,
    "start_time": "2021-12-28T19:42:33.443Z"
   },
   {
    "duration": 26,
    "start_time": "2021-12-28T19:46:04.792Z"
   },
   {
    "duration": 967,
    "start_time": "2021-12-28T19:46:18.147Z"
   },
   {
    "duration": 113,
    "start_time": "2021-12-28T19:46:19.117Z"
   },
   {
    "duration": 28,
    "start_time": "2021-12-28T19:46:19.234Z"
   },
   {
    "duration": 24,
    "start_time": "2021-12-28T19:46:19.273Z"
   },
   {
    "duration": 134,
    "start_time": "2021-12-28T19:46:19.300Z"
   },
   {
    "duration": 36,
    "start_time": "2021-12-28T19:46:19.437Z"
   },
   {
    "duration": 42,
    "start_time": "2021-12-28T19:46:19.476Z"
   },
   {
    "duration": 149,
    "start_time": "2021-12-28T19:46:19.523Z"
   },
   {
    "duration": 1265,
    "start_time": "2021-12-28T19:46:19.676Z"
   },
   {
    "duration": -4,
    "start_time": "2021-12-28T19:46:20.950Z"
   },
   {
    "duration": -8,
    "start_time": "2021-12-28T19:46:20.956Z"
   },
   {
    "duration": -12,
    "start_time": "2021-12-28T19:46:20.962Z"
   },
   {
    "duration": -16,
    "start_time": "2021-12-28T19:46:20.967Z"
   },
   {
    "duration": -20,
    "start_time": "2021-12-28T19:46:20.972Z"
   },
   {
    "duration": -22,
    "start_time": "2021-12-28T19:46:20.976Z"
   },
   {
    "duration": -25,
    "start_time": "2021-12-28T19:46:20.980Z"
   },
   {
    "duration": -28,
    "start_time": "2021-12-28T19:46:20.984Z"
   },
   {
    "duration": -30,
    "start_time": "2021-12-28T19:46:20.988Z"
   },
   {
    "duration": -32,
    "start_time": "2021-12-28T19:46:20.992Z"
   },
   {
    "duration": -35,
    "start_time": "2021-12-28T19:46:20.996Z"
   },
   {
    "duration": -33,
    "start_time": "2021-12-28T19:46:21.000Z"
   },
   {
    "duration": -35,
    "start_time": "2021-12-28T19:46:21.004Z"
   },
   {
    "duration": -38,
    "start_time": "2021-12-28T19:46:21.008Z"
   },
   {
    "duration": -47,
    "start_time": "2021-12-28T19:46:21.019Z"
   },
   {
    "duration": -50,
    "start_time": "2021-12-28T19:46:21.023Z"
   },
   {
    "duration": -54,
    "start_time": "2021-12-28T19:46:21.029Z"
   },
   {
    "duration": -56,
    "start_time": "2021-12-28T19:46:21.032Z"
   },
   {
    "duration": -58,
    "start_time": "2021-12-28T19:46:21.036Z"
   },
   {
    "duration": -61,
    "start_time": "2021-12-28T19:46:21.040Z"
   },
   {
    "duration": -63,
    "start_time": "2021-12-28T19:46:21.044Z"
   },
   {
    "duration": -66,
    "start_time": "2021-12-28T19:46:21.048Z"
   },
   {
    "duration": -68,
    "start_time": "2021-12-28T19:46:21.052Z"
   },
   {
    "duration": -70,
    "start_time": "2021-12-28T19:46:21.055Z"
   },
   {
    "duration": -73,
    "start_time": "2021-12-28T19:46:21.060Z"
   },
   {
    "duration": -75,
    "start_time": "2021-12-28T19:46:21.063Z"
   },
   {
    "duration": -78,
    "start_time": "2021-12-28T19:46:21.068Z"
   },
   {
    "duration": -79,
    "start_time": "2021-12-28T19:46:21.071Z"
   },
   {
    "duration": -82,
    "start_time": "2021-12-28T19:46:21.075Z"
   },
   {
    "duration": -84,
    "start_time": "2021-12-28T19:46:21.079Z"
   },
   {
    "duration": -87,
    "start_time": "2021-12-28T19:46:21.083Z"
   },
   {
    "duration": -88,
    "start_time": "2021-12-28T19:46:21.086Z"
   },
   {
    "duration": -91,
    "start_time": "2021-12-28T19:46:21.090Z"
   },
   {
    "duration": -93,
    "start_time": "2021-12-28T19:46:21.094Z"
   },
   {
    "duration": -96,
    "start_time": "2021-12-28T19:46:21.098Z"
   },
   {
    "duration": -97,
    "start_time": "2021-12-28T19:46:21.101Z"
   },
   {
    "duration": -100,
    "start_time": "2021-12-28T19:46:21.105Z"
   },
   {
    "duration": -102,
    "start_time": "2021-12-28T19:46:21.108Z"
   },
   {
    "duration": -104,
    "start_time": "2021-12-28T19:46:21.112Z"
   },
   {
    "duration": -52,
    "start_time": "2021-12-28T19:46:21.115Z"
   },
   {
    "duration": -62,
    "start_time": "2021-12-28T19:46:21.127Z"
   },
   {
    "duration": -66,
    "start_time": "2021-12-28T19:46:21.132Z"
   },
   {
    "duration": -68,
    "start_time": "2021-12-28T19:46:21.136Z"
   },
   {
    "duration": -70,
    "start_time": "2021-12-28T19:46:21.139Z"
   },
   {
    "duration": -72,
    "start_time": "2021-12-28T19:46:21.143Z"
   },
   {
    "duration": -73,
    "start_time": "2021-12-28T19:46:21.146Z"
   },
   {
    "duration": -76,
    "start_time": "2021-12-28T19:46:21.150Z"
   },
   {
    "duration": -77,
    "start_time": "2021-12-28T19:46:21.153Z"
   },
   {
    "duration": -80,
    "start_time": "2021-12-28T19:46:21.157Z"
   },
   {
    "duration": 23,
    "start_time": "2021-12-28T19:47:32.549Z"
   },
   {
    "duration": 15,
    "start_time": "2021-12-28T19:47:41.899Z"
   },
   {
    "duration": 96,
    "start_time": "2021-12-28T19:47:54.054Z"
   },
   {
    "duration": 14,
    "start_time": "2021-12-28T19:48:03.419Z"
   },
   {
    "duration": 297,
    "start_time": "2021-12-28T19:48:33.161Z"
   },
   {
    "duration": 17,
    "start_time": "2021-12-28T19:48:48.420Z"
   },
   {
    "duration": 968,
    "start_time": "2021-12-28T19:49:00.657Z"
   },
   {
    "duration": 122,
    "start_time": "2021-12-28T19:49:01.628Z"
   },
   {
    "duration": 23,
    "start_time": "2021-12-28T19:49:01.753Z"
   },
   {
    "duration": 24,
    "start_time": "2021-12-28T19:49:01.778Z"
   },
   {
    "duration": 144,
    "start_time": "2021-12-28T19:49:01.805Z"
   },
   {
    "duration": 22,
    "start_time": "2021-12-28T19:49:01.952Z"
   },
   {
    "duration": 58,
    "start_time": "2021-12-28T19:49:01.977Z"
   },
   {
    "duration": 205,
    "start_time": "2021-12-28T19:49:02.041Z"
   },
   {
    "duration": 1659,
    "start_time": "2021-12-28T19:49:02.249Z"
   },
   {
    "duration": 33,
    "start_time": "2021-12-28T19:49:03.880Z"
   },
   {
    "duration": 30,
    "start_time": "2021-12-28T19:49:03.885Z"
   },
   {
    "duration": 27,
    "start_time": "2021-12-28T19:49:03.890Z"
   },
   {
    "duration": 26,
    "start_time": "2021-12-28T19:49:03.895Z"
   },
   {
    "duration": 24,
    "start_time": "2021-12-28T19:49:03.899Z"
   },
   {
    "duration": 22,
    "start_time": "2021-12-28T19:49:03.904Z"
   },
   {
    "duration": 20,
    "start_time": "2021-12-28T19:49:03.907Z"
   },
   {
    "duration": 19,
    "start_time": "2021-12-28T19:49:03.911Z"
   },
   {
    "duration": 9,
    "start_time": "2021-12-28T19:49:03.923Z"
   },
   {
    "duration": 7,
    "start_time": "2021-12-28T19:49:03.927Z"
   },
   {
    "duration": 5,
    "start_time": "2021-12-28T19:49:03.932Z"
   },
   {
    "duration": 3,
    "start_time": "2021-12-28T19:49:03.936Z"
   },
   {
    "duration": 2,
    "start_time": "2021-12-28T19:49:03.940Z"
   },
   {
    "duration": -1,
    "start_time": "2021-12-28T19:49:03.945Z"
   },
   {
    "duration": -3,
    "start_time": "2021-12-28T19:49:03.949Z"
   },
   {
    "duration": -5,
    "start_time": "2021-12-28T19:49:03.953Z"
   },
   {
    "duration": -8,
    "start_time": "2021-12-28T19:49:03.957Z"
   },
   {
    "duration": -10,
    "start_time": "2021-12-28T19:49:03.961Z"
   },
   {
    "duration": -12,
    "start_time": "2021-12-28T19:49:03.965Z"
   },
   {
    "duration": -3,
    "start_time": "2021-12-28T19:49:03.969Z"
   },
   {
    "duration": -6,
    "start_time": "2021-12-28T19:49:03.973Z"
   },
   {
    "duration": -9,
    "start_time": "2021-12-28T19:49:03.977Z"
   },
   {
    "duration": -10,
    "start_time": "2021-12-28T19:49:03.981Z"
   },
   {
    "duration": -11,
    "start_time": "2021-12-28T19:49:03.986Z"
   },
   {
    "duration": -23,
    "start_time": "2021-12-28T19:49:03.999Z"
   },
   {
    "duration": -30,
    "start_time": "2021-12-28T19:49:04.008Z"
   },
   {
    "duration": -33,
    "start_time": "2021-12-28T19:49:04.012Z"
   },
   {
    "duration": -41,
    "start_time": "2021-12-28T19:49:04.022Z"
   },
   {
    "duration": -44,
    "start_time": "2021-12-28T19:49:04.026Z"
   },
   {
    "duration": -52,
    "start_time": "2021-12-28T19:49:04.036Z"
   },
   {
    "duration": -54,
    "start_time": "2021-12-28T19:49:04.040Z"
   },
   {
    "duration": -58,
    "start_time": "2021-12-28T19:49:04.045Z"
   },
   {
    "duration": -65,
    "start_time": "2021-12-28T19:49:04.054Z"
   },
   {
    "duration": -68,
    "start_time": "2021-12-28T19:49:04.059Z"
   },
   {
    "duration": -75,
    "start_time": "2021-12-28T19:49:04.068Z"
   },
   {
    "duration": -78,
    "start_time": "2021-12-28T19:49:04.073Z"
   },
   {
    "duration": -79,
    "start_time": "2021-12-28T19:49:04.076Z"
   },
   {
    "duration": -88,
    "start_time": "2021-12-28T19:49:04.086Z"
   },
   {
    "duration": -91,
    "start_time": "2021-12-28T19:49:04.091Z"
   },
   {
    "duration": -97,
    "start_time": "2021-12-28T19:49:04.099Z"
   },
   {
    "duration": -101,
    "start_time": "2021-12-28T19:49:04.104Z"
   },
   {
    "duration": -99,
    "start_time": "2021-12-28T19:49:04.109Z"
   },
   {
    "duration": -101,
    "start_time": "2021-12-28T19:49:04.113Z"
   },
   {
    "duration": -104,
    "start_time": "2021-12-28T19:49:04.117Z"
   },
   {
    "duration": -58,
    "start_time": "2021-12-28T19:49:04.121Z"
   },
   {
    "duration": -61,
    "start_time": "2021-12-28T19:49:04.126Z"
   },
   {
    "duration": -63,
    "start_time": "2021-12-28T19:49:04.129Z"
   },
   {
    "duration": -60,
    "start_time": "2021-12-28T19:49:04.133Z"
   },
   {
    "duration": -58,
    "start_time": "2021-12-28T19:49:04.136Z"
   },
   {
    "duration": 750,
    "start_time": "2021-12-28T19:49:44.777Z"
   },
   {
    "duration": 28,
    "start_time": "2021-12-28T19:50:11.737Z"
   },
   {
    "duration": 917,
    "start_time": "2021-12-28T19:55:44.984Z"
   },
   {
    "duration": 122,
    "start_time": "2021-12-28T19:55:45.904Z"
   },
   {
    "duration": 41,
    "start_time": "2021-12-28T19:55:46.030Z"
   },
   {
    "duration": 16,
    "start_time": "2021-12-28T19:55:46.075Z"
   },
   {
    "duration": 134,
    "start_time": "2021-12-28T19:55:46.094Z"
   },
   {
    "duration": 19,
    "start_time": "2021-12-28T19:55:46.231Z"
   },
   {
    "duration": 47,
    "start_time": "2021-12-28T19:55:46.263Z"
   },
   {
    "duration": 152,
    "start_time": "2021-12-28T19:55:46.316Z"
   },
   {
    "duration": 8700,
    "start_time": "2021-12-28T19:55:46.471Z"
   },
   {
    "duration": 45,
    "start_time": "2021-12-28T19:55:55.132Z"
   },
   {
    "duration": 41,
    "start_time": "2021-12-28T19:55:55.138Z"
   },
   {
    "duration": 3,
    "start_time": "2021-12-28T19:55:55.179Z"
   },
   {
    "duration": -23,
    "start_time": "2021-12-28T19:55:55.207Z"
   },
   {
    "duration": -27,
    "start_time": "2021-12-28T19:55:55.213Z"
   },
   {
    "duration": -28,
    "start_time": "2021-12-28T19:55:55.218Z"
   },
   {
    "duration": -31,
    "start_time": "2021-12-28T19:55:55.223Z"
   },
   {
    "duration": -33,
    "start_time": "2021-12-28T19:55:55.227Z"
   },
   {
    "duration": -36,
    "start_time": "2021-12-28T19:55:55.232Z"
   },
   {
    "duration": -38,
    "start_time": "2021-12-28T19:55:55.237Z"
   },
   {
    "duration": -40,
    "start_time": "2021-12-28T19:55:55.242Z"
   },
   {
    "duration": -42,
    "start_time": "2021-12-28T19:55:55.246Z"
   },
   {
    "duration": -44,
    "start_time": "2021-12-28T19:55:55.250Z"
   },
   {
    "duration": -47,
    "start_time": "2021-12-28T19:55:55.255Z"
   },
   {
    "duration": -48,
    "start_time": "2021-12-28T19:55:55.259Z"
   },
   {
    "duration": -52,
    "start_time": "2021-12-28T19:55:55.265Z"
   },
   {
    "duration": -54,
    "start_time": "2021-12-28T19:55:55.269Z"
   },
   {
    "duration": -4,
    "start_time": "2021-12-28T19:55:55.273Z"
   },
   {
    "duration": -7,
    "start_time": "2021-12-28T19:55:55.278Z"
   },
   {
    "duration": -10,
    "start_time": "2021-12-28T19:55:55.283Z"
   },
   {
    "duration": -9,
    "start_time": "2021-12-28T19:55:55.287Z"
   },
   {
    "duration": -12,
    "start_time": "2021-12-28T19:55:55.292Z"
   },
   {
    "duration": -15,
    "start_time": "2021-12-28T19:55:55.297Z"
   },
   {
    "duration": -19,
    "start_time": "2021-12-28T19:55:55.302Z"
   },
   {
    "duration": -35,
    "start_time": "2021-12-28T19:55:55.320Z"
   },
   {
    "duration": -37,
    "start_time": "2021-12-28T19:55:55.324Z"
   },
   {
    "duration": -58,
    "start_time": "2021-12-28T19:55:55.346Z"
   },
   {
    "duration": -61,
    "start_time": "2021-12-28T19:55:55.350Z"
   },
   {
    "duration": -76,
    "start_time": "2021-12-28T19:55:55.367Z"
   },
   {
    "duration": -79,
    "start_time": "2021-12-28T19:55:55.371Z"
   },
   {
    "duration": -81,
    "start_time": "2021-12-28T19:55:55.374Z"
   },
   {
    "duration": -84,
    "start_time": "2021-12-28T19:55:55.379Z"
   },
   {
    "duration": -98,
    "start_time": "2021-12-28T19:55:55.394Z"
   },
   {
    "duration": -101,
    "start_time": "2021-12-28T19:55:55.398Z"
   },
   {
    "duration": -102,
    "start_time": "2021-12-28T19:55:55.401Z"
   },
   {
    "duration": -106,
    "start_time": "2021-12-28T19:55:55.406Z"
   },
   {
    "duration": -107,
    "start_time": "2021-12-28T19:55:55.409Z"
   },
   {
    "duration": -111,
    "start_time": "2021-12-28T19:55:55.414Z"
   },
   {
    "duration": -113,
    "start_time": "2021-12-28T19:55:55.418Z"
   },
   {
    "duration": -139,
    "start_time": "2021-12-28T19:55:55.445Z"
   },
   {
    "duration": -141,
    "start_time": "2021-12-28T19:55:55.449Z"
   },
   {
    "duration": -145,
    "start_time": "2021-12-28T19:55:55.454Z"
   },
   {
    "duration": -148,
    "start_time": "2021-12-28T19:55:55.458Z"
   },
   {
    "duration": -152,
    "start_time": "2021-12-28T19:55:55.463Z"
   },
   {
    "duration": -159,
    "start_time": "2021-12-28T19:55:55.471Z"
   },
   {
    "duration": -113,
    "start_time": "2021-12-28T19:55:55.475Z"
   },
   {
    "duration": -115,
    "start_time": "2021-12-28T19:55:55.479Z"
   },
   {
    "duration": -118,
    "start_time": "2021-12-28T19:55:55.483Z"
   },
   {
    "duration": -121,
    "start_time": "2021-12-28T19:55:55.487Z"
   },
   {
    "duration": -123,
    "start_time": "2021-12-28T19:55:55.491Z"
   },
   {
    "duration": 15,
    "start_time": "2021-12-28T19:59:41.052Z"
   },
   {
    "duration": 20,
    "start_time": "2021-12-28T19:59:51.580Z"
   },
   {
    "duration": 1267,
    "start_time": "2021-12-28T20:02:25.473Z"
   },
   {
    "duration": 1232,
    "start_time": "2021-12-28T20:03:13.988Z"
   },
   {
    "duration": 26,
    "start_time": "2021-12-28T20:03:25.410Z"
   },
   {
    "duration": 1181,
    "start_time": "2021-12-28T20:03:34.544Z"
   },
   {
    "duration": 8616,
    "start_time": "2021-12-28T20:04:09.921Z"
   },
   {
    "duration": 99,
    "start_time": "2021-12-28T20:10:22.489Z"
   },
   {
    "duration": 7787,
    "start_time": "2021-12-28T20:10:29.929Z"
   },
   {
    "duration": 335,
    "start_time": "2021-12-28T20:12:03.268Z"
   },
   {
    "duration": 2794,
    "start_time": "2021-12-28T20:12:23.237Z"
   },
   {
    "duration": 336,
    "start_time": "2021-12-28T20:12:42.657Z"
   },
   {
    "duration": 292,
    "start_time": "2021-12-28T20:13:11.738Z"
   },
   {
    "duration": 363,
    "start_time": "2021-12-28T20:15:02.218Z"
   },
   {
    "duration": 7967,
    "start_time": "2021-12-28T20:18:21.278Z"
   },
   {
    "duration": 26,
    "start_time": "2021-12-28T20:19:00.586Z"
   },
   {
    "duration": 859,
    "start_time": "2021-12-28T20:19:40.515Z"
   },
   {
    "duration": 108,
    "start_time": "2021-12-28T20:19:41.377Z"
   },
   {
    "duration": 16,
    "start_time": "2021-12-28T20:19:41.488Z"
   },
   {
    "duration": 15,
    "start_time": "2021-12-28T20:19:41.507Z"
   },
   {
    "duration": 137,
    "start_time": "2021-12-28T20:19:41.525Z"
   },
   {
    "duration": 17,
    "start_time": "2021-12-28T20:19:41.666Z"
   },
   {
    "duration": 48,
    "start_time": "2021-12-28T20:19:41.686Z"
   },
   {
    "duration": 125,
    "start_time": "2021-12-28T20:19:41.770Z"
   },
   {
    "duration": 11,
    "start_time": "2021-12-28T20:19:41.897Z"
   },
   {
    "duration": 24,
    "start_time": "2021-12-28T20:19:41.911Z"
   },
   {
    "duration": 30,
    "start_time": "2021-12-28T20:19:41.938Z"
   },
   {
    "duration": 18,
    "start_time": "2021-12-28T20:19:41.972Z"
   },
   {
    "duration": 31,
    "start_time": "2021-12-28T20:19:41.993Z"
   },
   {
    "duration": 78,
    "start_time": "2021-12-28T20:19:42.027Z"
   },
   {
    "duration": 31,
    "start_time": "2021-12-28T20:19:42.108Z"
   },
   {
    "duration": 133,
    "start_time": "2021-12-28T20:19:42.141Z"
   },
   {
    "duration": 42,
    "start_time": "2021-12-28T20:19:42.276Z"
   },
   {
    "duration": 82,
    "start_time": "2021-12-28T20:19:42.321Z"
   },
   {
    "duration": 887,
    "start_time": "2021-12-28T20:19:42.405Z"
   },
   {
    "duration": 38,
    "start_time": "2021-12-28T20:19:43.294Z"
   },
   {
    "duration": 68,
    "start_time": "2021-12-28T20:19:43.334Z"
   },
   {
    "duration": 14,
    "start_time": "2021-12-28T20:19:43.404Z"
   },
   {
    "duration": 759,
    "start_time": "2021-12-28T20:19:43.422Z"
   },
   {
    "duration": 16,
    "start_time": "2021-12-28T20:19:44.188Z"
   },
   {
    "duration": 747,
    "start_time": "2021-12-28T20:19:44.207Z"
   },
   {
    "duration": 617,
    "start_time": "2021-12-28T20:19:44.962Z"
   },
   {
    "duration": 281,
    "start_time": "2021-12-28T20:19:45.582Z"
   },
   {
    "duration": 16,
    "start_time": "2021-12-28T20:19:45.865Z"
   },
   {
    "duration": 579,
    "start_time": "2021-12-28T20:19:45.884Z"
   },
   {
    "duration": 16,
    "start_time": "2021-12-28T20:19:46.465Z"
   },
   {
    "duration": 441,
    "start_time": "2021-12-28T20:19:46.484Z"
   },
   {
    "duration": 14,
    "start_time": "2021-12-28T20:19:46.927Z"
   },
   {
    "duration": 455,
    "start_time": "2021-12-28T20:19:46.943Z"
   },
   {
    "duration": 12,
    "start_time": "2021-12-28T20:19:47.400Z"
   },
   {
    "duration": 73,
    "start_time": "2021-12-28T20:19:47.415Z"
   },
   {
    "duration": 232,
    "start_time": "2021-12-28T20:19:47.490Z"
   },
   {
    "duration": 153,
    "start_time": "2021-12-28T20:19:47.725Z"
   },
   {
    "duration": 152,
    "start_time": "2021-12-28T20:19:47.881Z"
   },
   {
    "duration": 386,
    "start_time": "2021-12-28T20:19:48.035Z"
   },
   {
    "duration": 437,
    "start_time": "2021-12-28T20:19:48.423Z"
   },
   {
    "duration": 356,
    "start_time": "2021-12-28T20:19:48.865Z"
   },
   {
    "duration": 377,
    "start_time": "2021-12-28T20:19:49.224Z"
   },
   {
    "duration": 720,
    "start_time": "2021-12-28T20:19:49.604Z"
   },
   {
    "duration": 335,
    "start_time": "2021-12-28T20:19:50.327Z"
   },
   {
    "duration": 330,
    "start_time": "2021-12-28T20:19:50.671Z"
   },
   {
    "duration": 336,
    "start_time": "2021-12-28T20:19:51.004Z"
   },
   {
    "duration": 52,
    "start_time": "2021-12-28T20:19:51.343Z"
   },
   {
    "duration": 10,
    "start_time": "2021-12-28T20:19:51.398Z"
   },
   {
    "duration": 10,
    "start_time": "2021-12-28T20:19:51.410Z"
   },
   {
    "duration": 4,
    "start_time": "2021-12-28T20:19:51.423Z"
   },
   {
    "duration": 377,
    "start_time": "2021-12-28T20:19:51.430Z"
   },
   {
    "duration": 133,
    "start_time": "2021-12-28T20:19:51.810Z"
   },
   {
    "duration": 342,
    "start_time": "2021-12-28T20:19:51.945Z"
   },
   {
    "duration": 265,
    "start_time": "2021-12-28T20:19:52.290Z"
   },
   {
    "duration": 478,
    "start_time": "2021-12-28T20:19:52.557Z"
   },
   {
    "duration": 314,
    "start_time": "2021-12-28T20:19:53.037Z"
   },
   {
    "duration": 418,
    "start_time": "2021-12-28T20:19:53.355Z"
   },
   {
    "duration": 306,
    "start_time": "2021-12-28T20:19:53.776Z"
   },
   {
    "duration": 400,
    "start_time": "2021-12-28T20:19:54.084Z"
   },
   {
    "duration": 1205,
    "start_time": "2021-12-28T20:20:41.123Z"
   },
   {
    "duration": 107,
    "start_time": "2021-12-28T20:20:42.331Z"
   },
   {
    "duration": 25,
    "start_time": "2021-12-28T20:20:42.442Z"
   },
   {
    "duration": 22,
    "start_time": "2021-12-28T20:20:42.470Z"
   },
   {
    "duration": 142,
    "start_time": "2021-12-28T20:20:42.494Z"
   },
   {
    "duration": 24,
    "start_time": "2021-12-28T20:20:42.638Z"
   },
   {
    "duration": 47,
    "start_time": "2021-12-28T20:20:42.665Z"
   },
   {
    "duration": 141,
    "start_time": "2021-12-28T20:20:42.716Z"
   },
   {
    "duration": 22,
    "start_time": "2021-12-28T20:20:42.864Z"
   },
   {
    "duration": 27,
    "start_time": "2021-12-28T20:20:42.888Z"
   },
   {
    "duration": 9,
    "start_time": "2021-12-28T20:20:42.918Z"
   },
   {
    "duration": 51,
    "start_time": "2021-12-28T20:20:42.930Z"
   },
   {
    "duration": 29,
    "start_time": "2021-12-28T20:20:42.983Z"
   },
   {
    "duration": 66,
    "start_time": "2021-12-28T20:20:43.015Z"
   },
   {
    "duration": 32,
    "start_time": "2021-12-28T20:20:43.084Z"
   },
   {
    "duration": 140,
    "start_time": "2021-12-28T20:20:43.118Z"
   },
   {
    "duration": 43,
    "start_time": "2021-12-28T20:20:43.261Z"
   },
   {
    "duration": 64,
    "start_time": "2021-12-28T20:20:43.306Z"
   },
   {
    "duration": 1369,
    "start_time": "2021-12-28T20:20:43.374Z"
   },
   {
    "duration": 72,
    "start_time": "2021-12-28T20:20:44.746Z"
   },
   {
    "duration": 82,
    "start_time": "2021-12-28T20:20:44.821Z"
   },
   {
    "duration": 13,
    "start_time": "2021-12-28T20:20:44.906Z"
   },
   {
    "duration": 499,
    "start_time": "2021-12-28T20:20:44.925Z"
   },
   {
    "duration": 13,
    "start_time": "2021-12-28T20:20:45.427Z"
   },
   {
    "duration": 529,
    "start_time": "2021-12-28T20:20:45.443Z"
   },
   {
    "duration": 505,
    "start_time": "2021-12-28T20:20:45.976Z"
   },
   {
    "duration": 239,
    "start_time": "2021-12-28T20:20:46.483Z"
   },
   {
    "duration": 12,
    "start_time": "2021-12-28T20:20:46.725Z"
   },
   {
    "duration": 447,
    "start_time": "2021-12-28T20:20:46.740Z"
   },
   {
    "duration": 13,
    "start_time": "2021-12-28T20:20:47.190Z"
   },
   {
    "duration": 461,
    "start_time": "2021-12-28T20:20:47.205Z"
   },
   {
    "duration": 14,
    "start_time": "2021-12-28T20:20:47.672Z"
   },
   {
    "duration": 471,
    "start_time": "2021-12-28T20:20:47.689Z"
   },
   {
    "duration": 19,
    "start_time": "2021-12-28T20:20:48.163Z"
   },
   {
    "duration": 84,
    "start_time": "2021-12-28T20:20:48.185Z"
   },
   {
    "duration": 222,
    "start_time": "2021-12-28T20:20:48.273Z"
   },
   {
    "duration": 146,
    "start_time": "2021-12-28T20:20:48.497Z"
   },
   {
    "duration": 154,
    "start_time": "2021-12-28T20:20:48.646Z"
   },
   {
    "duration": 496,
    "start_time": "2021-12-28T20:20:48.802Z"
   },
   {
    "duration": 483,
    "start_time": "2021-12-28T20:20:49.305Z"
   },
   {
    "duration": 337,
    "start_time": "2021-12-28T20:20:49.791Z"
   },
   {
    "duration": 299,
    "start_time": "2021-12-28T20:20:50.131Z"
   },
   {
    "duration": 690,
    "start_time": "2021-12-28T20:20:50.433Z"
   },
   {
    "duration": 327,
    "start_time": "2021-12-28T20:20:51.126Z"
   },
   {
    "duration": 337,
    "start_time": "2021-12-28T20:20:51.456Z"
   },
   {
    "duration": 341,
    "start_time": "2021-12-28T20:20:51.796Z"
   },
   {
    "duration": 46,
    "start_time": "2021-12-28T20:20:52.139Z"
   },
   {
    "duration": 10,
    "start_time": "2021-12-28T20:20:52.188Z"
   },
   {
    "duration": 12,
    "start_time": "2021-12-28T20:20:52.201Z"
   },
   {
    "duration": 6,
    "start_time": "2021-12-28T20:20:52.215Z"
   },
   {
    "duration": 366,
    "start_time": "2021-12-28T20:20:52.223Z"
   },
   {
    "duration": 160,
    "start_time": "2021-12-28T20:20:52.592Z"
   },
   {
    "duration": 349,
    "start_time": "2021-12-28T20:20:52.754Z"
   },
   {
    "duration": 283,
    "start_time": "2021-12-28T20:20:53.106Z"
   },
   {
    "duration": 524,
    "start_time": "2021-12-28T20:20:53.392Z"
   },
   {
    "duration": 333,
    "start_time": "2021-12-28T20:20:53.919Z"
   },
   {
    "duration": 400,
    "start_time": "2021-12-28T20:20:54.263Z"
   },
   {
    "duration": 303,
    "start_time": "2021-12-28T20:20:54.665Z"
   },
   {
    "duration": 319,
    "start_time": "2021-12-28T20:20:54.971Z"
   },
   {
    "duration": 440,
    "start_time": "2021-12-28T20:31:24.376Z"
   },
   {
    "duration": 510,
    "start_time": "2021-12-28T20:32:30.388Z"
   },
   {
    "duration": 402,
    "start_time": "2021-12-28T20:33:17.665Z"
   },
   {
    "duration": 404,
    "start_time": "2021-12-28T20:33:27.616Z"
   },
   {
    "duration": 439,
    "start_time": "2021-12-28T20:33:38.667Z"
   },
   {
    "duration": 387,
    "start_time": "2021-12-28T20:33:57.696Z"
   },
   {
    "duration": 226,
    "start_time": "2021-12-28T20:35:03.757Z"
   },
   {
    "duration": 510,
    "start_time": "2021-12-28T20:35:27.294Z"
   },
   {
    "duration": 214,
    "start_time": "2021-12-28T20:35:35.886Z"
   },
   {
    "duration": 363,
    "start_time": "2021-12-28T20:36:00.231Z"
   },
   {
    "duration": 368,
    "start_time": "2021-12-28T20:37:33.752Z"
   },
   {
    "duration": 317,
    "start_time": "2021-12-28T20:38:06.851Z"
   },
   {
    "duration": 327,
    "start_time": "2021-12-28T20:40:02.328Z"
   },
   {
    "duration": 305,
    "start_time": "2021-12-28T20:41:20.937Z"
   },
   {
    "duration": 540,
    "start_time": "2021-12-28T20:46:15.596Z"
   },
   {
    "duration": 477,
    "start_time": "2021-12-28T20:46:40.323Z"
   },
   {
    "duration": 952,
    "start_time": "2021-12-28T20:47:25.958Z"
   },
   {
    "duration": 112,
    "start_time": "2021-12-28T20:47:26.912Z"
   },
   {
    "duration": 16,
    "start_time": "2021-12-28T20:47:27.027Z"
   },
   {
    "duration": 52,
    "start_time": "2021-12-28T20:47:27.046Z"
   },
   {
    "duration": 124,
    "start_time": "2021-12-28T20:47:27.102Z"
   },
   {
    "duration": 12,
    "start_time": "2021-12-28T20:47:27.230Z"
   },
   {
    "duration": 64,
    "start_time": "2021-12-28T20:47:27.245Z"
   },
   {
    "duration": 149,
    "start_time": "2021-12-28T20:47:27.313Z"
   },
   {
    "duration": 25,
    "start_time": "2021-12-28T20:47:27.467Z"
   },
   {
    "duration": 26,
    "start_time": "2021-12-28T20:47:27.495Z"
   },
   {
    "duration": 10,
    "start_time": "2021-12-28T20:47:27.524Z"
   },
   {
    "duration": 58,
    "start_time": "2021-12-28T20:47:27.536Z"
   },
   {
    "duration": 31,
    "start_time": "2021-12-28T20:47:27.596Z"
   },
   {
    "duration": 72,
    "start_time": "2021-12-28T20:47:27.629Z"
   },
   {
    "duration": 31,
    "start_time": "2021-12-28T20:47:27.704Z"
   },
   {
    "duration": 133,
    "start_time": "2021-12-28T20:47:27.738Z"
   },
   {
    "duration": 43,
    "start_time": "2021-12-28T20:47:27.873Z"
   },
   {
    "duration": 77,
    "start_time": "2021-12-28T20:47:27.918Z"
   },
   {
    "duration": 947,
    "start_time": "2021-12-28T20:47:27.999Z"
   },
   {
    "duration": 50,
    "start_time": "2021-12-28T20:47:28.948Z"
   },
   {
    "duration": 35,
    "start_time": "2021-12-28T20:47:29.000Z"
   },
   {
    "duration": 36,
    "start_time": "2021-12-28T20:47:29.037Z"
   },
   {
    "duration": 558,
    "start_time": "2021-12-28T20:47:29.081Z"
   },
   {
    "duration": 34,
    "start_time": "2021-12-28T20:47:29.643Z"
   },
   {
    "duration": 552,
    "start_time": "2021-12-28T20:47:29.685Z"
   },
   {
    "duration": 616,
    "start_time": "2021-12-28T20:47:30.240Z"
   },
   {
    "duration": 261,
    "start_time": "2021-12-28T20:47:30.858Z"
   },
   {
    "duration": 11,
    "start_time": "2021-12-28T20:47:31.123Z"
   },
   {
    "duration": 439,
    "start_time": "2021-12-28T20:47:31.137Z"
   },
   {
    "duration": 14,
    "start_time": "2021-12-28T20:47:31.582Z"
   },
   {
    "duration": 452,
    "start_time": "2021-12-28T20:47:31.599Z"
   },
   {
    "duration": 23,
    "start_time": "2021-12-28T20:47:32.054Z"
   },
   {
    "duration": 467,
    "start_time": "2021-12-28T20:47:32.080Z"
   },
   {
    "duration": 20,
    "start_time": "2021-12-28T20:47:32.549Z"
   },
   {
    "duration": 53,
    "start_time": "2021-12-28T20:47:32.573Z"
   },
   {
    "duration": 273,
    "start_time": "2021-12-28T20:47:32.629Z"
   },
   {
    "duration": 150,
    "start_time": "2021-12-28T20:47:32.905Z"
   },
   {
    "duration": 152,
    "start_time": "2021-12-28T20:47:33.061Z"
   },
   {
    "duration": 408,
    "start_time": "2021-12-28T20:47:33.216Z"
   },
   {
    "duration": 466,
    "start_time": "2021-12-28T20:47:33.628Z"
   },
   {
    "duration": 367,
    "start_time": "2021-12-28T20:47:34.096Z"
   },
   {
    "duration": 520,
    "start_time": "2021-12-28T20:47:34.467Z"
   },
   {
    "duration": 949,
    "start_time": "2021-12-28T20:47:34.994Z"
   },
   {
    "duration": 343,
    "start_time": "2021-12-28T20:47:35.946Z"
   },
   {
    "duration": 341,
    "start_time": "2021-12-28T20:47:36.292Z"
   },
   {
    "duration": 365,
    "start_time": "2021-12-28T20:47:36.636Z"
   },
   {
    "duration": 36,
    "start_time": "2021-12-28T20:47:37.003Z"
   },
   {
    "duration": 35,
    "start_time": "2021-12-28T20:47:37.042Z"
   },
   {
    "duration": 14,
    "start_time": "2021-12-28T20:47:37.080Z"
   },
   {
    "duration": 5,
    "start_time": "2021-12-28T20:47:37.097Z"
   },
   {
    "duration": 379,
    "start_time": "2021-12-28T20:47:37.104Z"
   },
   {
    "duration": 131,
    "start_time": "2021-12-28T20:47:37.485Z"
   },
   {
    "duration": 356,
    "start_time": "2021-12-28T20:47:37.619Z"
   },
   {
    "duration": 291,
    "start_time": "2021-12-28T20:47:37.978Z"
   },
   {
    "duration": 476,
    "start_time": "2021-12-28T20:47:38.273Z"
   },
   {
    "duration": 406,
    "start_time": "2021-12-28T20:47:38.753Z"
   },
   {
    "duration": 420,
    "start_time": "2021-12-28T20:47:39.168Z"
   },
   {
    "duration": 319,
    "start_time": "2021-12-28T20:47:39.591Z"
   },
   {
    "duration": 321,
    "start_time": "2021-12-28T20:47:39.912Z"
   },
   {
    "duration": 339,
    "start_time": "2021-12-28T20:49:17.106Z"
   },
   {
    "duration": 304,
    "start_time": "2021-12-28T20:52:57.445Z"
   },
   {
    "duration": 315,
    "start_time": "2021-12-28T20:53:17.186Z"
   },
   {
    "duration": 329,
    "start_time": "2021-12-28T20:53:24.645Z"
   },
   {
    "duration": 310,
    "start_time": "2021-12-28T20:53:36.768Z"
   },
   {
    "duration": 420,
    "start_time": "2021-12-28T21:05:38.189Z"
   },
   {
    "duration": 306,
    "start_time": "2021-12-28T21:05:49.387Z"
   },
   {
    "duration": 329,
    "start_time": "2021-12-28T21:08:51.729Z"
   },
   {
    "duration": 422,
    "start_time": "2021-12-28T21:09:17.128Z"
   },
   {
    "duration": 956,
    "start_time": "2021-12-28T21:13:42.139Z"
   },
   {
    "duration": 110,
    "start_time": "2021-12-28T21:13:43.098Z"
   },
   {
    "duration": 19,
    "start_time": "2021-12-28T21:13:43.211Z"
   },
   {
    "duration": 53,
    "start_time": "2021-12-28T21:13:43.233Z"
   },
   {
    "duration": 144,
    "start_time": "2021-12-28T21:13:43.290Z"
   },
   {
    "duration": 13,
    "start_time": "2021-12-28T21:13:43.436Z"
   },
   {
    "duration": 53,
    "start_time": "2021-12-28T21:13:43.452Z"
   },
   {
    "duration": 151,
    "start_time": "2021-12-28T21:13:43.508Z"
   },
   {
    "duration": 15,
    "start_time": "2021-12-28T21:13:43.664Z"
   },
   {
    "duration": 31,
    "start_time": "2021-12-28T21:13:43.682Z"
   },
   {
    "duration": 10,
    "start_time": "2021-12-28T21:13:43.716Z"
   },
   {
    "duration": 55,
    "start_time": "2021-12-28T21:13:43.728Z"
   },
   {
    "duration": 37,
    "start_time": "2021-12-28T21:13:43.786Z"
   },
   {
    "duration": 77,
    "start_time": "2021-12-28T21:13:43.826Z"
   },
   {
    "duration": 32,
    "start_time": "2021-12-28T21:13:43.906Z"
   },
   {
    "duration": 183,
    "start_time": "2021-12-28T21:13:43.941Z"
   },
   {
    "duration": 57,
    "start_time": "2021-12-28T21:13:44.127Z"
   },
   {
    "duration": 58,
    "start_time": "2021-12-28T21:13:44.187Z"
   },
   {
    "duration": 963,
    "start_time": "2021-12-28T21:13:44.249Z"
   },
   {
    "duration": 52,
    "start_time": "2021-12-28T21:13:45.215Z"
   },
   {
    "duration": 40,
    "start_time": "2021-12-28T21:13:45.272Z"
   },
   {
    "duration": 13,
    "start_time": "2021-12-28T21:13:45.315Z"
   },
   {
    "duration": 532,
    "start_time": "2021-12-28T21:13:45.363Z"
   },
   {
    "duration": 17,
    "start_time": "2021-12-28T21:13:45.900Z"
   },
   {
    "duration": 847,
    "start_time": "2021-12-28T21:13:45.920Z"
   },
   {
    "duration": 542,
    "start_time": "2021-12-28T21:13:46.770Z"
   },
   {
    "duration": 254,
    "start_time": "2021-12-28T21:13:47.314Z"
   },
   {
    "duration": 17,
    "start_time": "2021-12-28T21:13:47.571Z"
   },
   {
    "duration": 637,
    "start_time": "2021-12-28T21:13:47.591Z"
   },
   {
    "duration": 18,
    "start_time": "2021-12-28T21:13:48.232Z"
   },
   {
    "duration": 460,
    "start_time": "2021-12-28T21:13:48.253Z"
   },
   {
    "duration": 12,
    "start_time": "2021-12-28T21:13:48.716Z"
   },
   {
    "duration": 464,
    "start_time": "2021-12-28T21:13:48.731Z"
   },
   {
    "duration": 12,
    "start_time": "2021-12-28T21:13:49.198Z"
   },
   {
    "duration": 80,
    "start_time": "2021-12-28T21:13:49.212Z"
   },
   {
    "duration": 232,
    "start_time": "2021-12-28T21:13:49.295Z"
   },
   {
    "duration": 156,
    "start_time": "2021-12-28T21:13:49.530Z"
   },
   {
    "duration": 151,
    "start_time": "2021-12-28T21:13:49.688Z"
   },
   {
    "duration": 392,
    "start_time": "2021-12-28T21:13:49.841Z"
   },
   {
    "duration": 456,
    "start_time": "2021-12-28T21:13:50.236Z"
   },
   {
    "duration": 368,
    "start_time": "2021-12-28T21:13:50.695Z"
   },
   {
    "duration": 311,
    "start_time": "2021-12-28T21:13:51.065Z"
   },
   {
    "duration": 752,
    "start_time": "2021-12-28T21:13:51.379Z"
   },
   {
    "duration": 323,
    "start_time": "2021-12-28T21:13:52.134Z"
   },
   {
    "duration": 352,
    "start_time": "2021-12-28T21:13:52.459Z"
   },
   {
    "duration": 351,
    "start_time": "2021-12-28T21:13:52.813Z"
   },
   {
    "duration": 339,
    "start_time": "2021-12-28T21:13:53.170Z"
   },
   {
    "duration": 56,
    "start_time": "2021-12-28T21:13:53.511Z"
   },
   {
    "duration": 13,
    "start_time": "2021-12-28T21:13:53.570Z"
   },
   {
    "duration": 11,
    "start_time": "2021-12-28T21:13:53.586Z"
   },
   {
    "duration": 9,
    "start_time": "2021-12-28T21:13:53.599Z"
   },
   {
    "duration": 371,
    "start_time": "2021-12-28T21:13:53.611Z"
   },
   {
    "duration": 144,
    "start_time": "2021-12-28T21:13:53.985Z"
   },
   {
    "duration": 370,
    "start_time": "2021-12-28T21:13:54.132Z"
   },
   {
    "duration": 443,
    "start_time": "2021-12-28T21:13:54.506Z"
   },
   {
    "duration": 823,
    "start_time": "2021-12-28T21:13:54.953Z"
   },
   {
    "duration": 324,
    "start_time": "2021-12-28T21:13:55.778Z"
   },
   {
    "duration": 338,
    "start_time": "2021-12-28T21:13:56.105Z"
   },
   {
    "duration": 312,
    "start_time": "2021-12-28T21:13:56.446Z"
   },
   {
    "duration": 328,
    "start_time": "2021-12-28T21:13:56.763Z"
   },
   {
    "duration": 325,
    "start_time": "2021-12-28T21:13:57.095Z"
   },
   {
    "duration": 334,
    "start_time": "2021-12-28T21:13:57.424Z"
   },
   {
    "duration": 641,
    "start_time": "2021-12-29T08:28:59.843Z"
   },
   {
    "duration": 80,
    "start_time": "2021-12-29T08:29:00.486Z"
   },
   {
    "duration": 24,
    "start_time": "2021-12-29T08:29:00.568Z"
   },
   {
    "duration": 18,
    "start_time": "2021-12-29T08:29:00.594Z"
   },
   {
    "duration": 92,
    "start_time": "2021-12-29T08:29:00.614Z"
   },
   {
    "duration": 9,
    "start_time": "2021-12-29T08:29:00.708Z"
   },
   {
    "duration": 29,
    "start_time": "2021-12-29T08:29:00.719Z"
   },
   {
    "duration": 111,
    "start_time": "2021-12-29T08:29:00.750Z"
   },
   {
    "duration": 8,
    "start_time": "2021-12-29T08:29:00.864Z"
   },
   {
    "duration": 30,
    "start_time": "2021-12-29T08:29:00.874Z"
   },
   {
    "duration": 7,
    "start_time": "2021-12-29T08:29:00.906Z"
   },
   {
    "duration": 15,
    "start_time": "2021-12-29T08:29:00.914Z"
   },
   {
    "duration": 43,
    "start_time": "2021-12-29T08:29:00.932Z"
   },
   {
    "duration": 34,
    "start_time": "2021-12-29T08:29:00.977Z"
   },
   {
    "duration": 22,
    "start_time": "2021-12-29T08:29:01.012Z"
   },
   {
    "duration": 91,
    "start_time": "2021-12-29T08:29:01.035Z"
   },
   {
    "duration": 26,
    "start_time": "2021-12-29T08:29:01.128Z"
   },
   {
    "duration": 53,
    "start_time": "2021-12-29T08:29:01.156Z"
   },
   {
    "duration": 503,
    "start_time": "2021-12-29T08:29:01.211Z"
   },
   {
    "duration": 25,
    "start_time": "2021-12-29T08:29:01.716Z"
   },
   {
    "duration": 25,
    "start_time": "2021-12-29T08:29:01.743Z"
   },
   {
    "duration": 30,
    "start_time": "2021-12-29T08:29:01.770Z"
   },
   {
    "duration": 338,
    "start_time": "2021-12-29T08:29:01.802Z"
   },
   {
    "duration": 10,
    "start_time": "2021-12-29T08:29:02.142Z"
   },
   {
    "duration": 341,
    "start_time": "2021-12-29T08:29:02.154Z"
   },
   {
    "duration": 326,
    "start_time": "2021-12-29T08:29:02.497Z"
   },
   {
    "duration": 152,
    "start_time": "2021-12-29T08:29:02.827Z"
   },
   {
    "duration": 14,
    "start_time": "2021-12-29T08:29:02.981Z"
   },
   {
    "duration": 285,
    "start_time": "2021-12-29T08:29:02.997Z"
   },
   {
    "duration": 14,
    "start_time": "2021-12-29T08:29:03.284Z"
   },
   {
    "duration": 292,
    "start_time": "2021-12-29T08:29:03.300Z"
   },
   {
    "duration": 9,
    "start_time": "2021-12-29T08:29:03.594Z"
   },
   {
    "duration": 297,
    "start_time": "2021-12-29T08:29:03.605Z"
   },
   {
    "duration": 11,
    "start_time": "2021-12-29T08:29:03.904Z"
   },
   {
    "duration": 31,
    "start_time": "2021-12-29T08:29:03.917Z"
   },
   {
    "duration": 179,
    "start_time": "2021-12-29T08:29:03.950Z"
   },
   {
    "duration": 96,
    "start_time": "2021-12-29T08:29:04.131Z"
   },
   {
    "duration": 100,
    "start_time": "2021-12-29T08:29:04.229Z"
   },
   {
    "duration": 242,
    "start_time": "2021-12-29T08:29:04.331Z"
   },
   {
    "duration": 312,
    "start_time": "2021-12-29T08:29:04.575Z"
   },
   {
    "duration": 237,
    "start_time": "2021-12-29T08:29:04.891Z"
   },
   {
    "duration": 203,
    "start_time": "2021-12-29T08:29:05.130Z"
   },
   {
    "duration": 522,
    "start_time": "2021-12-29T08:29:05.335Z"
   },
   {
    "duration": 211,
    "start_time": "2021-12-29T08:29:05.859Z"
   },
   {
    "duration": 220,
    "start_time": "2021-12-29T08:29:06.072Z"
   },
   {
    "duration": 225,
    "start_time": "2021-12-29T08:29:06.294Z"
   },
   {
    "duration": 230,
    "start_time": "2021-12-29T08:29:06.521Z"
   },
   {
    "duration": 38,
    "start_time": "2021-12-29T08:29:06.754Z"
   },
   {
    "duration": 8,
    "start_time": "2021-12-29T08:29:06.795Z"
   },
   {
    "duration": 9,
    "start_time": "2021-12-29T08:29:06.805Z"
   },
   {
    "duration": 6,
    "start_time": "2021-12-29T08:29:06.816Z"
   },
   {
    "duration": 239,
    "start_time": "2021-12-29T08:29:06.824Z"
   },
   {
    "duration": 90,
    "start_time": "2021-12-29T08:29:07.065Z"
   },
   {
    "duration": 223,
    "start_time": "2021-12-29T08:29:07.158Z"
   },
   {
    "duration": 196,
    "start_time": "2021-12-29T08:29:07.383Z"
   },
   {
    "duration": 446,
    "start_time": "2021-12-29T08:29:07.581Z"
   },
   {
    "duration": 204,
    "start_time": "2021-12-29T08:29:08.029Z"
   },
   {
    "duration": 202,
    "start_time": "2021-12-29T08:29:08.234Z"
   },
   {
    "duration": 199,
    "start_time": "2021-12-29T08:29:08.437Z"
   },
   {
    "duration": 201,
    "start_time": "2021-12-29T08:29:08.638Z"
   },
   {
    "duration": 202,
    "start_time": "2021-12-29T08:29:08.841Z"
   },
   {
    "duration": 206,
    "start_time": "2021-12-29T08:29:09.044Z"
   }
  ],
  "kernelspec": {
   "display_name": "Python 3 (ipykernel)",
   "language": "python",
   "name": "python3"
  },
  "language_info": {
   "codemirror_mode": {
    "name": "ipython",
    "version": 3
   },
   "file_extension": ".py",
   "mimetype": "text/x-python",
   "name": "python",
   "nbconvert_exporter": "python",
   "pygments_lexer": "ipython3",
   "version": "3.9.7"
  },
  "toc": {
   "base_numbering": 1,
   "nav_menu": {},
   "number_sections": true,
   "sideBar": true,
   "skip_h1_title": true,
   "title_cell": "Содержание",
   "title_sidebar": "Contents",
   "toc_cell": true,
   "toc_position": {
    "height": "calc(100% - 180px)",
    "left": "10px",
    "top": "150px",
    "width": "270.391px"
   },
   "toc_section_display": true,
   "toc_window_display": true
  }
 },
 "nbformat": 4,
 "nbformat_minor": 2
}
