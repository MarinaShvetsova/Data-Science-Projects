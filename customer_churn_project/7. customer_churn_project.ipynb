{
 "cells": [
  {
   "cell_type": "markdown",
   "metadata": {
    "toc": true
   },
   "source": [
    "<h1>Содержание<span class=\"tocSkip\"></span></h1>\n",
    "<div class=\"toc\"><ul class=\"toc-item\"><li><span><a href=\"#Подготовка-данных\" data-toc-modified-id=\"Подготовка-данных-1\"><span class=\"toc-item-num\">1&nbsp;&nbsp;</span>Подготовка данных</a></span></li><li><span><a href=\"#Исследование-задачи\" data-toc-modified-id=\"Исследование-задачи-2\"><span class=\"toc-item-num\">2&nbsp;&nbsp;</span>Исследование задачи</a></span><ul class=\"toc-item\"><li><span><a href=\"#Кодирование-данных\" data-toc-modified-id=\"Кодирование-данных-2.1\"><span class=\"toc-item-num\">2.1&nbsp;&nbsp;</span>Кодирование данных</a></span></li><li><span><a href=\"#Формирование-выборок\" data-toc-modified-id=\"Формирование-выборок-2.2\"><span class=\"toc-item-num\">2.2&nbsp;&nbsp;</span>Формирование выборок</a></span></li><li><span><a href=\"#Масштабирование-признаков\" data-toc-modified-id=\"Масштабирование-признаков-2.3\"><span class=\"toc-item-num\">2.3&nbsp;&nbsp;</span>Масштабирование признаков</a></span></li><li><span><a href=\"#Деревое-решений\" data-toc-modified-id=\"Деревое-решений-2.4\"><span class=\"toc-item-num\">2.4&nbsp;&nbsp;</span>Деревое решений</a></span></li><li><span><a href=\"#Случайный-лес\" data-toc-modified-id=\"Случайный-лес-2.5\"><span class=\"toc-item-num\">2.5&nbsp;&nbsp;</span>Случайный лес</a></span></li><li><span><a href=\"#Логистическая-регрессия\" data-toc-modified-id=\"Логистическая-регрессия-2.6\"><span class=\"toc-item-num\">2.6&nbsp;&nbsp;</span>Логистическая регрессия</a></span></li><li><span><a href=\"#Проверка-баланса-классов-выборки\" data-toc-modified-id=\"Проверка-баланса-классов-выборки-2.7\"><span class=\"toc-item-num\">2.7&nbsp;&nbsp;</span>Проверка баланса классов выборки</a></span></li><li><span><a href=\"#Матрица-ошибок-для-моделей\" data-toc-modified-id=\"Матрица-ошибок-для-моделей-2.8\"><span class=\"toc-item-num\">2.8&nbsp;&nbsp;</span>Матрица ошибок для моделей</a></span></li><li><span><a href=\"#Вывод\" data-toc-modified-id=\"Вывод-2.9\"><span class=\"toc-item-num\">2.9&nbsp;&nbsp;</span>Вывод</a></span></li></ul></li><li><span><a href=\"#Борьба-с-дисбалансом\" data-toc-modified-id=\"Борьба-с-дисбалансом-3\"><span class=\"toc-item-num\">3&nbsp;&nbsp;</span>Борьба с дисбалансом</a></span><ul class=\"toc-item\"><li><span><a href=\"#Upsampling\" data-toc-modified-id=\"Upsampling-3.1\"><span class=\"toc-item-num\">3.1&nbsp;&nbsp;</span>Upsampling</a></span></li><li><span><a href=\"#Downsampling\" data-toc-modified-id=\"Downsampling-3.2\"><span class=\"toc-item-num\">3.2&nbsp;&nbsp;</span>Downsampling</a></span></li><li><span><a href=\"#class_weight\" data-toc-modified-id=\"class_weight-3.3\"><span class=\"toc-item-num\">3.3&nbsp;&nbsp;</span>class_weight</a></span></li><li><span><a href=\"#Обучение-моделей-на-новой-выборке\" data-toc-modified-id=\"Обучение-моделей-на-новой-выборке-3.4\"><span class=\"toc-item-num\">3.4&nbsp;&nbsp;</span>Обучение моделей на новой выборке</a></span></li><li><span><a href=\"#Адекватность-модели\" data-toc-modified-id=\"Адекватность-модели-3.5\"><span class=\"toc-item-num\">3.5&nbsp;&nbsp;</span>Адекватность модели</a></span></li><li><span><a href=\"#Вывод\" data-toc-modified-id=\"Вывод-3.6\"><span class=\"toc-item-num\">3.6&nbsp;&nbsp;</span>Вывод</a></span></li></ul></li><li><span><a href=\"#Тестирование-модели\" data-toc-modified-id=\"Тестирование-модели-4\"><span class=\"toc-item-num\">4&nbsp;&nbsp;</span>Тестирование модели</a></span></li><li><span><a href=\"#Вывод\" data-toc-modified-id=\"Вывод-5\"><span class=\"toc-item-num\">5&nbsp;&nbsp;</span>Вывод</a></span></li><li><span><a href=\"#Чек-лист-готовности-проекта\" data-toc-modified-id=\"Чек-лист-готовности-проекта-6\"><span class=\"toc-item-num\">6&nbsp;&nbsp;</span>Чек-лист готовности проекта</a></span></li></ul></div>"
   ]
  },
  {
   "cell_type": "markdown",
   "metadata": {},
   "source": [
    "# Прогнозирование оттока клиентов банка"
   ]
  },
  {
   "cell_type": "markdown",
   "metadata": {},
   "source": [
    "Из «Бета-Банка» стали уходить клиенты. Каждый месяц. Немного, но заметно. Банковские маркетологи посчитали: сохранять текущих клиентов дешевле, чем привлекать новых.\n",
    "\n",
    "Нужно спрогнозировать, уйдёт клиент из банка в ближайшее время или нет. Вам предоставлены исторические данные о поведении клиентов и расторжении договоров с банком. \n",
    "\n",
    "Постройте модель с предельно большим значением *F1*-меры. Чтобы сдать проект успешно, нужно довести метрику до 0.59. Проверьте *F1*-меру на тестовой выборке самостоятельно.\n",
    "\n",
    "Дополнительно измеряйте *AUC-ROC*, сравнивайте её значение с *F1*-мерой.\n",
    "\n",
    "Источник данных: [https://www.kaggle.com/barelydedicated/bank-customer-churn-modeling](https://www.kaggle.com/barelydedicated/bank-customer-churn-modeling)"
   ]
  },
  {
   "cell_type": "markdown",
   "metadata": {},
   "source": [
    "# Инструкция к проекту\n",
    "- Загрузить и подготовить данные\n",
    "- Исследовать баланс классов, обучить модель без учёта дисбаланса\n",
    "- Улучшить качество модели, учитывая дисбаланс классов. Обучить разные модели и найти лучшую\n",
    "- Провести финальное тестирование\n",
    "- Сделать выводы"
   ]
  },
  {
   "cell_type": "markdown",
   "metadata": {},
   "source": [
    "## Подготовка данных"
   ]
  },
  {
   "cell_type": "code",
   "execution_count": 1,
   "metadata": {},
   "outputs": [],
   "source": [
    "# загрузим библиотеки, которые пригодятся при анализе и построинии модели\n",
    "\n",
    "import pandas as pd\n",
    "import numpy as np\n",
    "from sklearn.model_selection import train_test_split\n",
    "from sklearn.preprocessing import StandardScaler\n",
    "from sklearn.tree import DecisionTreeClassifier\n",
    "from sklearn.ensemble import RandomForestClassifier\n",
    "from sklearn.linear_model import LogisticRegression\n",
    "from sklearn.utils import shuffle\n",
    "from sklearn.metrics import accuracy_score\n",
    "from sklearn.metrics import confusion_matrix\n",
    "from sklearn.metrics import recall_score\n",
    "from sklearn.metrics import precision_score\n",
    "from sklearn.metrics import f1_score\n",
    "from sklearn.metrics import auc\n",
    "from sklearn.metrics import roc_curve\n",
    "from sklearn.metrics import roc_auc_score\n",
    "import matplotlib.pyplot as plt\n"
   ]
  },
  {
   "cell_type": "code",
   "execution_count": 2,
   "metadata": {},
   "outputs": [],
   "source": [
    "# прочитаем данные и запишем их в переменную data\n",
    "data = pd.read_csv(\"/datasets/Churn.csv\")"
   ]
  },
  {
   "cell_type": "code",
   "execution_count": 3,
   "metadata": {},
   "outputs": [
    {
     "data": {
      "text/html": [
       "<div>\n",
       "<style scoped>\n",
       "    .dataframe tbody tr th:only-of-type {\n",
       "        vertical-align: middle;\n",
       "    }\n",
       "\n",
       "    .dataframe tbody tr th {\n",
       "        vertical-align: top;\n",
       "    }\n",
       "\n",
       "    .dataframe thead th {\n",
       "        text-align: right;\n",
       "    }\n",
       "</style>\n",
       "<table border=\"1\" class=\"dataframe\">\n",
       "  <thead>\n",
       "    <tr style=\"text-align: right;\">\n",
       "      <th></th>\n",
       "      <th>RowNumber</th>\n",
       "      <th>CustomerId</th>\n",
       "      <th>Surname</th>\n",
       "      <th>CreditScore</th>\n",
       "      <th>Geography</th>\n",
       "      <th>Gender</th>\n",
       "      <th>Age</th>\n",
       "      <th>Tenure</th>\n",
       "      <th>Balance</th>\n",
       "      <th>NumOfProducts</th>\n",
       "      <th>HasCrCard</th>\n",
       "      <th>IsActiveMember</th>\n",
       "      <th>EstimatedSalary</th>\n",
       "      <th>Exited</th>\n",
       "    </tr>\n",
       "  </thead>\n",
       "  <tbody>\n",
       "    <tr>\n",
       "      <td>0</td>\n",
       "      <td>1</td>\n",
       "      <td>15634602</td>\n",
       "      <td>Hargrave</td>\n",
       "      <td>619</td>\n",
       "      <td>France</td>\n",
       "      <td>Female</td>\n",
       "      <td>42</td>\n",
       "      <td>2.0</td>\n",
       "      <td>0.00</td>\n",
       "      <td>1</td>\n",
       "      <td>1</td>\n",
       "      <td>1</td>\n",
       "      <td>101348.88</td>\n",
       "      <td>1</td>\n",
       "    </tr>\n",
       "    <tr>\n",
       "      <td>1</td>\n",
       "      <td>2</td>\n",
       "      <td>15647311</td>\n",
       "      <td>Hill</td>\n",
       "      <td>608</td>\n",
       "      <td>Spain</td>\n",
       "      <td>Female</td>\n",
       "      <td>41</td>\n",
       "      <td>1.0</td>\n",
       "      <td>83807.86</td>\n",
       "      <td>1</td>\n",
       "      <td>0</td>\n",
       "      <td>1</td>\n",
       "      <td>112542.58</td>\n",
       "      <td>0</td>\n",
       "    </tr>\n",
       "    <tr>\n",
       "      <td>2</td>\n",
       "      <td>3</td>\n",
       "      <td>15619304</td>\n",
       "      <td>Onio</td>\n",
       "      <td>502</td>\n",
       "      <td>France</td>\n",
       "      <td>Female</td>\n",
       "      <td>42</td>\n",
       "      <td>8.0</td>\n",
       "      <td>159660.80</td>\n",
       "      <td>3</td>\n",
       "      <td>1</td>\n",
       "      <td>0</td>\n",
       "      <td>113931.57</td>\n",
       "      <td>1</td>\n",
       "    </tr>\n",
       "    <tr>\n",
       "      <td>3</td>\n",
       "      <td>4</td>\n",
       "      <td>15701354</td>\n",
       "      <td>Boni</td>\n",
       "      <td>699</td>\n",
       "      <td>France</td>\n",
       "      <td>Female</td>\n",
       "      <td>39</td>\n",
       "      <td>1.0</td>\n",
       "      <td>0.00</td>\n",
       "      <td>2</td>\n",
       "      <td>0</td>\n",
       "      <td>0</td>\n",
       "      <td>93826.63</td>\n",
       "      <td>0</td>\n",
       "    </tr>\n",
       "    <tr>\n",
       "      <td>4</td>\n",
       "      <td>5</td>\n",
       "      <td>15737888</td>\n",
       "      <td>Mitchell</td>\n",
       "      <td>850</td>\n",
       "      <td>Spain</td>\n",
       "      <td>Female</td>\n",
       "      <td>43</td>\n",
       "      <td>2.0</td>\n",
       "      <td>125510.82</td>\n",
       "      <td>1</td>\n",
       "      <td>1</td>\n",
       "      <td>1</td>\n",
       "      <td>79084.10</td>\n",
       "      <td>0</td>\n",
       "    </tr>\n",
       "  </tbody>\n",
       "</table>\n",
       "</div>"
      ],
      "text/plain": [
       "   RowNumber  CustomerId   Surname  CreditScore Geography  Gender  Age  \\\n",
       "0          1    15634602  Hargrave          619    France  Female   42   \n",
       "1          2    15647311      Hill          608     Spain  Female   41   \n",
       "2          3    15619304      Onio          502    France  Female   42   \n",
       "3          4    15701354      Boni          699    France  Female   39   \n",
       "4          5    15737888  Mitchell          850     Spain  Female   43   \n",
       "\n",
       "   Tenure    Balance  NumOfProducts  HasCrCard  IsActiveMember  \\\n",
       "0     2.0       0.00              1          1               1   \n",
       "1     1.0   83807.86              1          0               1   \n",
       "2     8.0  159660.80              3          1               0   \n",
       "3     1.0       0.00              2          0               0   \n",
       "4     2.0  125510.82              1          1               1   \n",
       "\n",
       "   EstimatedSalary  Exited  \n",
       "0        101348.88       1  \n",
       "1        112542.58       0  \n",
       "2        113931.57       1  \n",
       "3         93826.63       0  \n",
       "4         79084.10       0  "
      ]
     },
     "execution_count": 3,
     "metadata": {},
     "output_type": "execute_result"
    }
   ],
   "source": [
    "# посмотрим 5 первых строк данных\n",
    "data.head()"
   ]
  },
  {
   "cell_type": "code",
   "execution_count": 4,
   "metadata": {},
   "outputs": [
    {
     "name": "stdout",
     "output_type": "stream",
     "text": [
      "<class 'pandas.core.frame.DataFrame'>\n",
      "RangeIndex: 10000 entries, 0 to 9999\n",
      "Data columns (total 14 columns):\n",
      "RowNumber          10000 non-null int64\n",
      "CustomerId         10000 non-null int64\n",
      "Surname            10000 non-null object\n",
      "CreditScore        10000 non-null int64\n",
      "Geography          10000 non-null object\n",
      "Gender             10000 non-null object\n",
      "Age                10000 non-null int64\n",
      "Tenure             9091 non-null float64\n",
      "Balance            10000 non-null float64\n",
      "NumOfProducts      10000 non-null int64\n",
      "HasCrCard          10000 non-null int64\n",
      "IsActiveMember     10000 non-null int64\n",
      "EstimatedSalary    10000 non-null float64\n",
      "Exited             10000 non-null int64\n",
      "dtypes: float64(3), int64(8), object(3)\n",
      "memory usage: 1.1+ MB\n"
     ]
    }
   ],
   "source": [
    "# посмотрим общую информацию о данных\n",
    "data.info()"
   ]
  },
  {
   "cell_type": "markdown",
   "metadata": {},
   "source": [
    "1. данные состоят из 10000 строк, 13 столбцов, типы данных: float, int и object\n",
    "2. есть пропущенные данные в столбце `Tenure`\n",
    "3. названия столбцов имеют разный регистр написания"
   ]
  },
  {
   "cell_type": "code",
   "execution_count": 5,
   "metadata": {},
   "outputs": [
    {
     "data": {
      "text/html": [
       "<div>\n",
       "<style scoped>\n",
       "    .dataframe tbody tr th:only-of-type {\n",
       "        vertical-align: middle;\n",
       "    }\n",
       "\n",
       "    .dataframe tbody tr th {\n",
       "        vertical-align: top;\n",
       "    }\n",
       "\n",
       "    .dataframe thead th {\n",
       "        text-align: right;\n",
       "    }\n",
       "</style>\n",
       "<table border=\"1\" class=\"dataframe\">\n",
       "  <thead>\n",
       "    <tr style=\"text-align: right;\">\n",
       "      <th></th>\n",
       "      <th>RowNumber</th>\n",
       "      <th>CustomerId</th>\n",
       "      <th>CreditScore</th>\n",
       "      <th>Age</th>\n",
       "      <th>Tenure</th>\n",
       "      <th>Balance</th>\n",
       "      <th>NumOfProducts</th>\n",
       "      <th>HasCrCard</th>\n",
       "      <th>IsActiveMember</th>\n",
       "      <th>EstimatedSalary</th>\n",
       "      <th>Exited</th>\n",
       "    </tr>\n",
       "  </thead>\n",
       "  <tbody>\n",
       "    <tr>\n",
       "      <td>count</td>\n",
       "      <td>10000.00000</td>\n",
       "      <td>1.000000e+04</td>\n",
       "      <td>10000.000000</td>\n",
       "      <td>10000.000000</td>\n",
       "      <td>9091.000000</td>\n",
       "      <td>10000.000000</td>\n",
       "      <td>10000.000000</td>\n",
       "      <td>10000.00000</td>\n",
       "      <td>10000.000000</td>\n",
       "      <td>10000.000000</td>\n",
       "      <td>10000.000000</td>\n",
       "    </tr>\n",
       "    <tr>\n",
       "      <td>mean</td>\n",
       "      <td>5000.50000</td>\n",
       "      <td>1.569094e+07</td>\n",
       "      <td>650.528800</td>\n",
       "      <td>38.921800</td>\n",
       "      <td>4.997690</td>\n",
       "      <td>76485.889288</td>\n",
       "      <td>1.530200</td>\n",
       "      <td>0.70550</td>\n",
       "      <td>0.515100</td>\n",
       "      <td>100090.239881</td>\n",
       "      <td>0.203700</td>\n",
       "    </tr>\n",
       "    <tr>\n",
       "      <td>std</td>\n",
       "      <td>2886.89568</td>\n",
       "      <td>7.193619e+04</td>\n",
       "      <td>96.653299</td>\n",
       "      <td>10.487806</td>\n",
       "      <td>2.894723</td>\n",
       "      <td>62397.405202</td>\n",
       "      <td>0.581654</td>\n",
       "      <td>0.45584</td>\n",
       "      <td>0.499797</td>\n",
       "      <td>57510.492818</td>\n",
       "      <td>0.402769</td>\n",
       "    </tr>\n",
       "    <tr>\n",
       "      <td>min</td>\n",
       "      <td>1.00000</td>\n",
       "      <td>1.556570e+07</td>\n",
       "      <td>350.000000</td>\n",
       "      <td>18.000000</td>\n",
       "      <td>0.000000</td>\n",
       "      <td>0.000000</td>\n",
       "      <td>1.000000</td>\n",
       "      <td>0.00000</td>\n",
       "      <td>0.000000</td>\n",
       "      <td>11.580000</td>\n",
       "      <td>0.000000</td>\n",
       "    </tr>\n",
       "    <tr>\n",
       "      <td>25%</td>\n",
       "      <td>2500.75000</td>\n",
       "      <td>1.562853e+07</td>\n",
       "      <td>584.000000</td>\n",
       "      <td>32.000000</td>\n",
       "      <td>2.000000</td>\n",
       "      <td>0.000000</td>\n",
       "      <td>1.000000</td>\n",
       "      <td>0.00000</td>\n",
       "      <td>0.000000</td>\n",
       "      <td>51002.110000</td>\n",
       "      <td>0.000000</td>\n",
       "    </tr>\n",
       "    <tr>\n",
       "      <td>50%</td>\n",
       "      <td>5000.50000</td>\n",
       "      <td>1.569074e+07</td>\n",
       "      <td>652.000000</td>\n",
       "      <td>37.000000</td>\n",
       "      <td>5.000000</td>\n",
       "      <td>97198.540000</td>\n",
       "      <td>1.000000</td>\n",
       "      <td>1.00000</td>\n",
       "      <td>1.000000</td>\n",
       "      <td>100193.915000</td>\n",
       "      <td>0.000000</td>\n",
       "    </tr>\n",
       "    <tr>\n",
       "      <td>75%</td>\n",
       "      <td>7500.25000</td>\n",
       "      <td>1.575323e+07</td>\n",
       "      <td>718.000000</td>\n",
       "      <td>44.000000</td>\n",
       "      <td>7.000000</td>\n",
       "      <td>127644.240000</td>\n",
       "      <td>2.000000</td>\n",
       "      <td>1.00000</td>\n",
       "      <td>1.000000</td>\n",
       "      <td>149388.247500</td>\n",
       "      <td>0.000000</td>\n",
       "    </tr>\n",
       "    <tr>\n",
       "      <td>max</td>\n",
       "      <td>10000.00000</td>\n",
       "      <td>1.581569e+07</td>\n",
       "      <td>850.000000</td>\n",
       "      <td>92.000000</td>\n",
       "      <td>10.000000</td>\n",
       "      <td>250898.090000</td>\n",
       "      <td>4.000000</td>\n",
       "      <td>1.00000</td>\n",
       "      <td>1.000000</td>\n",
       "      <td>199992.480000</td>\n",
       "      <td>1.000000</td>\n",
       "    </tr>\n",
       "  </tbody>\n",
       "</table>\n",
       "</div>"
      ],
      "text/plain": [
       "         RowNumber    CustomerId   CreditScore           Age       Tenure  \\\n",
       "count  10000.00000  1.000000e+04  10000.000000  10000.000000  9091.000000   \n",
       "mean    5000.50000  1.569094e+07    650.528800     38.921800     4.997690   \n",
       "std     2886.89568  7.193619e+04     96.653299     10.487806     2.894723   \n",
       "min        1.00000  1.556570e+07    350.000000     18.000000     0.000000   \n",
       "25%     2500.75000  1.562853e+07    584.000000     32.000000     2.000000   \n",
       "50%     5000.50000  1.569074e+07    652.000000     37.000000     5.000000   \n",
       "75%     7500.25000  1.575323e+07    718.000000     44.000000     7.000000   \n",
       "max    10000.00000  1.581569e+07    850.000000     92.000000    10.000000   \n",
       "\n",
       "             Balance  NumOfProducts    HasCrCard  IsActiveMember  \\\n",
       "count   10000.000000   10000.000000  10000.00000    10000.000000   \n",
       "mean    76485.889288       1.530200      0.70550        0.515100   \n",
       "std     62397.405202       0.581654      0.45584        0.499797   \n",
       "min         0.000000       1.000000      0.00000        0.000000   \n",
       "25%         0.000000       1.000000      0.00000        0.000000   \n",
       "50%     97198.540000       1.000000      1.00000        1.000000   \n",
       "75%    127644.240000       2.000000      1.00000        1.000000   \n",
       "max    250898.090000       4.000000      1.00000        1.000000   \n",
       "\n",
       "       EstimatedSalary        Exited  \n",
       "count     10000.000000  10000.000000  \n",
       "mean     100090.239881      0.203700  \n",
       "std       57510.492818      0.402769  \n",
       "min          11.580000      0.000000  \n",
       "25%       51002.110000      0.000000  \n",
       "50%      100193.915000      0.000000  \n",
       "75%      149388.247500      0.000000  \n",
       "max      199992.480000      1.000000  "
      ]
     },
     "execution_count": 5,
     "metadata": {},
     "output_type": "execute_result"
    }
   ],
   "source": [
    "data.describe()"
   ]
  },
  {
   "cell_type": "code",
   "execution_count": 6,
   "metadata": {
    "scrolled": true
   },
   "outputs": [
    {
     "data": {
      "text/plain": [
       "RowNumber            0\n",
       "CustomerId           0\n",
       "Surname              0\n",
       "CreditScore          0\n",
       "Geography            0\n",
       "Gender               0\n",
       "Age                  0\n",
       "Balance              0\n",
       "NumOfProducts        0\n",
       "HasCrCard            0\n",
       "IsActiveMember       0\n",
       "EstimatedSalary      0\n",
       "Exited               0\n",
       "Tenure             909\n",
       "dtype: int64"
      ]
     },
     "execution_count": 6,
     "metadata": {},
     "output_type": "execute_result"
    }
   ],
   "source": [
    "# посчитаем сумму пустых значений методом isna\n",
    "data.isna().sum().sort_values()"
   ]
  },
  {
   "cell_type": "code",
   "execution_count": 7,
   "metadata": {},
   "outputs": [
    {
     "name": "stdout",
     "output_type": "stream",
     "text": [
      "Количесвто дубликатов: 0\n"
     ]
    }
   ],
   "source": [
    "# проверим наличие дубликатов\n",
    "print(\"Количесвто дубликатов:\",data.duplicated().sum())"
   ]
  },
  {
   "cell_type": "code",
   "execution_count": 8,
   "metadata": {},
   "outputs": [
    {
     "data": {
      "text/plain": [
       "Index(['RowNumber', 'CustomerId', 'Surname', 'CreditScore', 'Geography',\n",
       "       'Gender', 'Age', 'Tenure', 'Balance', 'NumOfProducts', 'HasCrCard',\n",
       "       'IsActiveMember', 'EstimatedSalary', 'Exited'],\n",
       "      dtype='object')"
      ]
     },
     "execution_count": 8,
     "metadata": {},
     "output_type": "execute_result"
    }
   ],
   "source": [
    "data.columns # выведем перечень столбцов для наглядности"
   ]
  },
  {
   "cell_type": "code",
   "execution_count": 9,
   "metadata": {},
   "outputs": [],
   "source": [
    " # приведем столбцы к нижнему регистру\n",
    "data.columns = data.columns.str.lower()"
   ]
  },
  {
   "cell_type": "code",
   "execution_count": 10,
   "metadata": {
    "scrolled": false
   },
   "outputs": [
    {
     "data": {
      "text/plain": [
       "Index(['rownumber', 'customerid', 'surname', 'creditscore', 'geography',\n",
       "       'gender', 'age', 'tenure', 'balance', 'numofproducts', 'hascrcard',\n",
       "       'isactivemember', 'estimatedsalary', 'exited'],\n",
       "      dtype='object')"
      ]
     },
     "execution_count": 10,
     "metadata": {},
     "output_type": "execute_result"
    }
   ],
   "source": [
    "data.columns"
   ]
  },
  {
   "cell_type": "markdown",
   "metadata": {},
   "source": [
    "Заполним пропуски данных медианным значением методом fillna"
   ]
  },
  {
   "cell_type": "code",
   "execution_count": 11,
   "metadata": {},
   "outputs": [],
   "source": [
    "data.dropna(subset = [\"tenure\"], axis = 0)\n",
    "data['tenure'] = data[\"tenure\"].fillna(data[\"tenure\"].median())"
   ]
  },
  {
   "cell_type": "markdown",
   "metadata": {},
   "source": [
    "Некоторые столбцы данных можно удалить для оптимизации дальнейшей работы с ними:\n",
    "- `rownumber`, т.к. дублирует информацию 0го столбца;\n",
    "- `customerid` в связи с отсутствием дубликатов;\n",
    "- `surname` — является идентифицирующей пользователя информацией и не несет ценности для дальнейшего анализа."
   ]
  },
  {
   "cell_type": "code",
   "execution_count": 12,
   "metadata": {
    "scrolled": true
   },
   "outputs": [
    {
     "data": {
      "text/html": [
       "<div>\n",
       "<style scoped>\n",
       "    .dataframe tbody tr th:only-of-type {\n",
       "        vertical-align: middle;\n",
       "    }\n",
       "\n",
       "    .dataframe tbody tr th {\n",
       "        vertical-align: top;\n",
       "    }\n",
       "\n",
       "    .dataframe thead th {\n",
       "        text-align: right;\n",
       "    }\n",
       "</style>\n",
       "<table border=\"1\" class=\"dataframe\">\n",
       "  <thead>\n",
       "    <tr style=\"text-align: right;\">\n",
       "      <th></th>\n",
       "      <th>creditscore</th>\n",
       "      <th>geography</th>\n",
       "      <th>gender</th>\n",
       "      <th>age</th>\n",
       "      <th>tenure</th>\n",
       "      <th>balance</th>\n",
       "      <th>numofproducts</th>\n",
       "      <th>hascrcard</th>\n",
       "      <th>isactivemember</th>\n",
       "      <th>estimatedsalary</th>\n",
       "      <th>exited</th>\n",
       "    </tr>\n",
       "  </thead>\n",
       "  <tbody>\n",
       "    <tr>\n",
       "      <td>0</td>\n",
       "      <td>619</td>\n",
       "      <td>France</td>\n",
       "      <td>Female</td>\n",
       "      <td>42</td>\n",
       "      <td>2.0</td>\n",
       "      <td>0.00</td>\n",
       "      <td>1</td>\n",
       "      <td>1</td>\n",
       "      <td>1</td>\n",
       "      <td>101348.88</td>\n",
       "      <td>1</td>\n",
       "    </tr>\n",
       "    <tr>\n",
       "      <td>1</td>\n",
       "      <td>608</td>\n",
       "      <td>Spain</td>\n",
       "      <td>Female</td>\n",
       "      <td>41</td>\n",
       "      <td>1.0</td>\n",
       "      <td>83807.86</td>\n",
       "      <td>1</td>\n",
       "      <td>0</td>\n",
       "      <td>1</td>\n",
       "      <td>112542.58</td>\n",
       "      <td>0</td>\n",
       "    </tr>\n",
       "    <tr>\n",
       "      <td>2</td>\n",
       "      <td>502</td>\n",
       "      <td>France</td>\n",
       "      <td>Female</td>\n",
       "      <td>42</td>\n",
       "      <td>8.0</td>\n",
       "      <td>159660.80</td>\n",
       "      <td>3</td>\n",
       "      <td>1</td>\n",
       "      <td>0</td>\n",
       "      <td>113931.57</td>\n",
       "      <td>1</td>\n",
       "    </tr>\n",
       "    <tr>\n",
       "      <td>3</td>\n",
       "      <td>699</td>\n",
       "      <td>France</td>\n",
       "      <td>Female</td>\n",
       "      <td>39</td>\n",
       "      <td>1.0</td>\n",
       "      <td>0.00</td>\n",
       "      <td>2</td>\n",
       "      <td>0</td>\n",
       "      <td>0</td>\n",
       "      <td>93826.63</td>\n",
       "      <td>0</td>\n",
       "    </tr>\n",
       "    <tr>\n",
       "      <td>4</td>\n",
       "      <td>850</td>\n",
       "      <td>Spain</td>\n",
       "      <td>Female</td>\n",
       "      <td>43</td>\n",
       "      <td>2.0</td>\n",
       "      <td>125510.82</td>\n",
       "      <td>1</td>\n",
       "      <td>1</td>\n",
       "      <td>1</td>\n",
       "      <td>79084.10</td>\n",
       "      <td>0</td>\n",
       "    </tr>\n",
       "  </tbody>\n",
       "</table>\n",
       "</div>"
      ],
      "text/plain": [
       "   creditscore geography  gender  age  tenure    balance  numofproducts  \\\n",
       "0          619    France  Female   42     2.0       0.00              1   \n",
       "1          608     Spain  Female   41     1.0   83807.86              1   \n",
       "2          502    France  Female   42     8.0  159660.80              3   \n",
       "3          699    France  Female   39     1.0       0.00              2   \n",
       "4          850     Spain  Female   43     2.0  125510.82              1   \n",
       "\n",
       "   hascrcard  isactivemember  estimatedsalary  exited  \n",
       "0          1               1        101348.88       1  \n",
       "1          0               1        112542.58       0  \n",
       "2          1               0        113931.57       1  \n",
       "3          0               0         93826.63       0  \n",
       "4          1               1         79084.10       0  "
      ]
     },
     "execution_count": 12,
     "metadata": {},
     "output_type": "execute_result"
    }
   ],
   "source": [
    "data = data.drop([\"rownumber\", \"customerid\",\"surname\"], axis = 1)\n",
    "data.head()"
   ]
  },
  {
   "cell_type": "code",
   "execution_count": 13,
   "metadata": {
    "scrolled": false
   },
   "outputs": [
    {
     "name": "stdout",
     "output_type": "stream",
     "text": [
      "<class 'pandas.core.frame.DataFrame'>\n",
      "RangeIndex: 10000 entries, 0 to 9999\n",
      "Data columns (total 11 columns):\n",
      "creditscore        10000 non-null int64\n",
      "geography          10000 non-null object\n",
      "gender             10000 non-null object\n",
      "age                10000 non-null int64\n",
      "tenure             10000 non-null float64\n",
      "balance            10000 non-null float64\n",
      "numofproducts      10000 non-null int64\n",
      "hascrcard          10000 non-null int64\n",
      "isactivemember     10000 non-null int64\n",
      "estimatedsalary    10000 non-null float64\n",
      "exited             10000 non-null int64\n",
      "dtypes: float64(3), int64(6), object(2)\n",
      "memory usage: 859.5+ KB\n"
     ]
    }
   ],
   "source": [
    "data.info()"
   ]
  },
  {
   "cell_type": "code",
   "execution_count": 14,
   "metadata": {},
   "outputs": [
    {
     "data": {
      "text/html": [
       "<div>\n",
       "<style scoped>\n",
       "    .dataframe tbody tr th:only-of-type {\n",
       "        vertical-align: middle;\n",
       "    }\n",
       "\n",
       "    .dataframe tbody tr th {\n",
       "        vertical-align: top;\n",
       "    }\n",
       "\n",
       "    .dataframe thead th {\n",
       "        text-align: right;\n",
       "    }\n",
       "</style>\n",
       "<table border=\"1\" class=\"dataframe\">\n",
       "  <thead>\n",
       "    <tr style=\"text-align: right;\">\n",
       "      <th></th>\n",
       "      <th>creditscore</th>\n",
       "      <th>geography</th>\n",
       "      <th>gender</th>\n",
       "      <th>age</th>\n",
       "      <th>tenure</th>\n",
       "      <th>balance</th>\n",
       "      <th>numofproducts</th>\n",
       "      <th>hascrcard</th>\n",
       "      <th>isactivemember</th>\n",
       "      <th>estimatedsalary</th>\n",
       "      <th>exited</th>\n",
       "    </tr>\n",
       "  </thead>\n",
       "  <tbody>\n",
       "    <tr>\n",
       "      <td>0</td>\n",
       "      <td>619</td>\n",
       "      <td>France</td>\n",
       "      <td>Female</td>\n",
       "      <td>42</td>\n",
       "      <td>2.0</td>\n",
       "      <td>0.00</td>\n",
       "      <td>1</td>\n",
       "      <td>1</td>\n",
       "      <td>1</td>\n",
       "      <td>101348.88</td>\n",
       "      <td>1</td>\n",
       "    </tr>\n",
       "    <tr>\n",
       "      <td>1</td>\n",
       "      <td>608</td>\n",
       "      <td>Spain</td>\n",
       "      <td>Female</td>\n",
       "      <td>41</td>\n",
       "      <td>1.0</td>\n",
       "      <td>83807.86</td>\n",
       "      <td>1</td>\n",
       "      <td>0</td>\n",
       "      <td>1</td>\n",
       "      <td>112542.58</td>\n",
       "      <td>0</td>\n",
       "    </tr>\n",
       "    <tr>\n",
       "      <td>2</td>\n",
       "      <td>502</td>\n",
       "      <td>France</td>\n",
       "      <td>Female</td>\n",
       "      <td>42</td>\n",
       "      <td>8.0</td>\n",
       "      <td>159660.80</td>\n",
       "      <td>3</td>\n",
       "      <td>1</td>\n",
       "      <td>0</td>\n",
       "      <td>113931.57</td>\n",
       "      <td>1</td>\n",
       "    </tr>\n",
       "    <tr>\n",
       "      <td>3</td>\n",
       "      <td>699</td>\n",
       "      <td>France</td>\n",
       "      <td>Female</td>\n",
       "      <td>39</td>\n",
       "      <td>1.0</td>\n",
       "      <td>0.00</td>\n",
       "      <td>2</td>\n",
       "      <td>0</td>\n",
       "      <td>0</td>\n",
       "      <td>93826.63</td>\n",
       "      <td>0</td>\n",
       "    </tr>\n",
       "    <tr>\n",
       "      <td>4</td>\n",
       "      <td>850</td>\n",
       "      <td>Spain</td>\n",
       "      <td>Female</td>\n",
       "      <td>43</td>\n",
       "      <td>2.0</td>\n",
       "      <td>125510.82</td>\n",
       "      <td>1</td>\n",
       "      <td>1</td>\n",
       "      <td>1</td>\n",
       "      <td>79084.10</td>\n",
       "      <td>0</td>\n",
       "    </tr>\n",
       "  </tbody>\n",
       "</table>\n",
       "</div>"
      ],
      "text/plain": [
       "   creditscore geography  gender  age  tenure    balance  numofproducts  \\\n",
       "0          619    France  Female   42     2.0       0.00              1   \n",
       "1          608     Spain  Female   41     1.0   83807.86              1   \n",
       "2          502    France  Female   42     8.0  159660.80              3   \n",
       "3          699    France  Female   39     1.0       0.00              2   \n",
       "4          850     Spain  Female   43     2.0  125510.82              1   \n",
       "\n",
       "   hascrcard  isactivemember  estimatedsalary  exited  \n",
       "0          1               1        101348.88       1  \n",
       "1          0               1        112542.58       0  \n",
       "2          1               0        113931.57       1  \n",
       "3          0               0         93826.63       0  \n",
       "4          1               1         79084.10       0  "
      ]
     },
     "execution_count": 14,
     "metadata": {},
     "output_type": "execute_result"
    }
   ],
   "source": [
    "data.head()"
   ]
  },
  {
   "cell_type": "markdown",
   "metadata": {},
   "source": [
    "# Выводы"
   ]
  },
  {
   "cell_type": "markdown",
   "metadata": {},
   "source": [
    "- прочитали и изучили данные;\n",
    "- данные содержат 10000 строк;\n",
    "- проверили данные на отсутствие дубликатов;\n",
    "- названия столбцов привели к нижнему регистру;\n",
    "- имеющиеся пропуски в столбце `tenure` в количестве 909 заполнили медианным значением;\n",
    "- удалили 2 столбца, не представляющих интереса."
   ]
  },
  {
   "cell_type": "markdown",
   "metadata": {},
   "source": [
    "## Исследование задачи"
   ]
  },
  {
   "cell_type": "markdown",
   "metadata": {},
   "source": [
    "### Кодирование данных"
   ]
  },
  {
   "cell_type": "markdown",
   "metadata": {},
   "source": [
    "Данные подготовим методом OHE (все признаки сделать количественными), что позволит нам использовать все модели: деревое решений, случайный лес и логистическую регрессию"
   ]
  },
  {
   "cell_type": "code",
   "execution_count": 15,
   "metadata": {
    "scrolled": false
   },
   "outputs": [
    {
     "data": {
      "text/html": [
       "<div>\n",
       "<style scoped>\n",
       "    .dataframe tbody tr th:only-of-type {\n",
       "        vertical-align: middle;\n",
       "    }\n",
       "\n",
       "    .dataframe tbody tr th {\n",
       "        vertical-align: top;\n",
       "    }\n",
       "\n",
       "    .dataframe thead th {\n",
       "        text-align: right;\n",
       "    }\n",
       "</style>\n",
       "<table border=\"1\" class=\"dataframe\">\n",
       "  <thead>\n",
       "    <tr style=\"text-align: right;\">\n",
       "      <th></th>\n",
       "      <th>creditscore</th>\n",
       "      <th>age</th>\n",
       "      <th>tenure</th>\n",
       "      <th>balance</th>\n",
       "      <th>numofproducts</th>\n",
       "      <th>hascrcard</th>\n",
       "      <th>isactivemember</th>\n",
       "      <th>estimatedsalary</th>\n",
       "      <th>exited</th>\n",
       "      <th>geography_Germany</th>\n",
       "      <th>geography_Spain</th>\n",
       "      <th>gender_Male</th>\n",
       "    </tr>\n",
       "  </thead>\n",
       "  <tbody>\n",
       "    <tr>\n",
       "      <td>0</td>\n",
       "      <td>619</td>\n",
       "      <td>42</td>\n",
       "      <td>2.0</td>\n",
       "      <td>0.00</td>\n",
       "      <td>1</td>\n",
       "      <td>1</td>\n",
       "      <td>1</td>\n",
       "      <td>101348.88</td>\n",
       "      <td>1</td>\n",
       "      <td>0</td>\n",
       "      <td>0</td>\n",
       "      <td>0</td>\n",
       "    </tr>\n",
       "    <tr>\n",
       "      <td>1</td>\n",
       "      <td>608</td>\n",
       "      <td>41</td>\n",
       "      <td>1.0</td>\n",
       "      <td>83807.86</td>\n",
       "      <td>1</td>\n",
       "      <td>0</td>\n",
       "      <td>1</td>\n",
       "      <td>112542.58</td>\n",
       "      <td>0</td>\n",
       "      <td>0</td>\n",
       "      <td>1</td>\n",
       "      <td>0</td>\n",
       "    </tr>\n",
       "    <tr>\n",
       "      <td>2</td>\n",
       "      <td>502</td>\n",
       "      <td>42</td>\n",
       "      <td>8.0</td>\n",
       "      <td>159660.80</td>\n",
       "      <td>3</td>\n",
       "      <td>1</td>\n",
       "      <td>0</td>\n",
       "      <td>113931.57</td>\n",
       "      <td>1</td>\n",
       "      <td>0</td>\n",
       "      <td>0</td>\n",
       "      <td>0</td>\n",
       "    </tr>\n",
       "    <tr>\n",
       "      <td>3</td>\n",
       "      <td>699</td>\n",
       "      <td>39</td>\n",
       "      <td>1.0</td>\n",
       "      <td>0.00</td>\n",
       "      <td>2</td>\n",
       "      <td>0</td>\n",
       "      <td>0</td>\n",
       "      <td>93826.63</td>\n",
       "      <td>0</td>\n",
       "      <td>0</td>\n",
       "      <td>0</td>\n",
       "      <td>0</td>\n",
       "    </tr>\n",
       "    <tr>\n",
       "      <td>4</td>\n",
       "      <td>850</td>\n",
       "      <td>43</td>\n",
       "      <td>2.0</td>\n",
       "      <td>125510.82</td>\n",
       "      <td>1</td>\n",
       "      <td>1</td>\n",
       "      <td>1</td>\n",
       "      <td>79084.10</td>\n",
       "      <td>0</td>\n",
       "      <td>0</td>\n",
       "      <td>1</td>\n",
       "      <td>0</td>\n",
       "    </tr>\n",
       "  </tbody>\n",
       "</table>\n",
       "</div>"
      ],
      "text/plain": [
       "   creditscore  age  tenure    balance  numofproducts  hascrcard  \\\n",
       "0          619   42     2.0       0.00              1          1   \n",
       "1          608   41     1.0   83807.86              1          0   \n",
       "2          502   42     8.0  159660.80              3          1   \n",
       "3          699   39     1.0       0.00              2          0   \n",
       "4          850   43     2.0  125510.82              1          1   \n",
       "\n",
       "   isactivemember  estimatedsalary  exited  geography_Germany  \\\n",
       "0               1        101348.88       1                  0   \n",
       "1               1        112542.58       0                  0   \n",
       "2               0        113931.57       1                  0   \n",
       "3               0         93826.63       0                  0   \n",
       "4               1         79084.10       0                  0   \n",
       "\n",
       "   geography_Spain  gender_Male  \n",
       "0                0            0  \n",
       "1                1            0  \n",
       "2                0            0  \n",
       "3                0            0  \n",
       "4                1            0  "
      ]
     },
     "execution_count": 15,
     "metadata": {},
     "output_type": "execute_result"
    }
   ],
   "source": [
    "data = pd.get_dummies(data, drop_first=True)\n",
    "data.head()"
   ]
  },
  {
   "cell_type": "code",
   "execution_count": 16,
   "metadata": {
    "scrolled": false
   },
   "outputs": [
    {
     "data": {
      "text/plain": [
       "(10000, 12)"
      ]
     },
     "execution_count": 16,
     "metadata": {},
     "output_type": "execute_result"
    }
   ],
   "source": [
    "# посмотрим размер данных\n",
    "data.shape"
   ]
  },
  {
   "cell_type": "markdown",
   "metadata": {},
   "source": [
    "В новых данных - 12 столбцов.\n",
    "<br> Столбец `geography` ранее содержал 3 класса (Germany, Spain и France), `gender` 2 класса (Female и Male).\n",
    "<br> В результате кодирования методом OHE получили только 2 по столбцу `geograhy` и 1 по `gender` соответственно, что позволяет избежать дамми-ловушки за счет сбрасывания первого столбца."
   ]
  },
  {
   "cell_type": "markdown",
   "metadata": {},
   "source": [
    "### Формирование выборок"
   ]
  },
  {
   "cell_type": "markdown",
   "metadata": {},
   "source": [
    "Спрятанной тестовой выборки нет, значит данные будем разбивать на 3 выборки:\n",
    "- обучающую (60%)\n",
    "- тестовую (20%)\n",
    "- валидационную (20%)"
   ]
  },
  {
   "cell_type": "code",
   "execution_count": 17,
   "metadata": {},
   "outputs": [],
   "source": [
    "# разделим данные на 2 набора: обучающий (60%) и тестовый (40%)\n",
    "train, test = train_test_split(data, test_size=0.4, random_state=12345)"
   ]
  },
  {
   "cell_type": "code",
   "execution_count": 18,
   "metadata": {},
   "outputs": [],
   "source": [
    "features_train = train.drop('exited', axis=1)  # выделим в обучающих данных признаки\n",
    "target_train = train['exited'] # выделим из обучающих данных целевой признак"
   ]
  },
  {
   "cell_type": "code",
   "execution_count": 19,
   "metadata": {},
   "outputs": [],
   "source": [
    "features = test.drop('exited', axis=1) # выделим в тестовых данных признаки\n",
    "target = test['exited'] # выделим из данных целевой признак - столбец с тарифом"
   ]
  },
  {
   "cell_type": "code",
   "execution_count": 20,
   "metadata": {},
   "outputs": [],
   "source": [
    "# разделим тестовый набор данных, полученный ранее, еще на 2 набора: вылидационный и тестовый, 50% от 40% присвоенных ранее (т.е. будет по 20% для выборок)\n",
    "features_valid, features_test, target_valid, target_test = train_test_split(\n",
    "    features, target, test_size=0.5, random_state=12345)\n"
   ]
  },
  {
   "cell_type": "code",
   "execution_count": 21,
   "metadata": {},
   "outputs": [
    {
     "data": {
      "text/plain": [
       "((6000, 11), (2000, 11), (2000, 11))"
      ]
     },
     "execution_count": 21,
     "metadata": {},
     "output_type": "execute_result"
    }
   ],
   "source": [
    "# проверим размеры данных\n",
    "features_train.shape, features_test.shape, features_valid.shape "
   ]
  },
  {
   "cell_type": "code",
   "execution_count": 22,
   "metadata": {},
   "outputs": [
    {
     "name": "stdout",
     "output_type": "stream",
     "text": [
      "train = 60.0%\n",
      "valid = 20.0%\n",
      "test = 20.0%\n"
     ]
    }
   ],
   "source": [
    "# проверим распределение данных по выборкам в %\n",
    "print(f\"train = {100*len(train)/len(data):.1f}%\")\n",
    "print(f\"valid = {100*len(features_valid)/len(data):.1f}%\")\n",
    "print(f\"test = {100*len(features_test)/len(data):.1f}%\")"
   ]
  },
  {
   "cell_type": "markdown",
   "metadata": {},
   "source": [
    "**Вывод**\n",
    "<br> разбили данные на следующие выборки:\n",
    "- features_train, target_train - обучающая выборка - 60% данных\n",
    "- features_test, target_test - тестовая выборка - 20% данных\n",
    "- features_valid, target_valid - валидационная выборка - 20% данных"
   ]
  },
  {
   "cell_type": "markdown",
   "metadata": {},
   "source": [
    "### Масштабирование признаков"
   ]
  },
  {
   "cell_type": "code",
   "execution_count": 23,
   "metadata": {},
   "outputs": [
    {
     "data": {
      "text/html": [
       "<div>\n",
       "<style scoped>\n",
       "    .dataframe tbody tr th:only-of-type {\n",
       "        vertical-align: middle;\n",
       "    }\n",
       "\n",
       "    .dataframe tbody tr th {\n",
       "        vertical-align: top;\n",
       "    }\n",
       "\n",
       "    .dataframe thead th {\n",
       "        text-align: right;\n",
       "    }\n",
       "</style>\n",
       "<table border=\"1\" class=\"dataframe\">\n",
       "  <thead>\n",
       "    <tr style=\"text-align: right;\">\n",
       "      <th></th>\n",
       "      <th>creditscore</th>\n",
       "      <th>age</th>\n",
       "      <th>tenure</th>\n",
       "      <th>balance</th>\n",
       "      <th>numofproducts</th>\n",
       "      <th>hascrcard</th>\n",
       "      <th>isactivemember</th>\n",
       "      <th>estimatedsalary</th>\n",
       "      <th>geography_Germany</th>\n",
       "      <th>geography_Spain</th>\n",
       "      <th>gender_Male</th>\n",
       "    </tr>\n",
       "  </thead>\n",
       "  <tbody>\n",
       "    <tr>\n",
       "      <td>7479</td>\n",
       "      <td>567</td>\n",
       "      <td>35</td>\n",
       "      <td>8.0</td>\n",
       "      <td>153137.74</td>\n",
       "      <td>1</td>\n",
       "      <td>1</td>\n",
       "      <td>0</td>\n",
       "      <td>88659.07</td>\n",
       "      <td>0</td>\n",
       "      <td>1</td>\n",
       "      <td>1</td>\n",
       "    </tr>\n",
       "    <tr>\n",
       "      <td>3411</td>\n",
       "      <td>711</td>\n",
       "      <td>37</td>\n",
       "      <td>8.0</td>\n",
       "      <td>113899.92</td>\n",
       "      <td>1</td>\n",
       "      <td>0</td>\n",
       "      <td>0</td>\n",
       "      <td>80215.20</td>\n",
       "      <td>0</td>\n",
       "      <td>0</td>\n",
       "      <td>0</td>\n",
       "    </tr>\n",
       "    <tr>\n",
       "      <td>6027</td>\n",
       "      <td>850</td>\n",
       "      <td>44</td>\n",
       "      <td>3.0</td>\n",
       "      <td>140393.65</td>\n",
       "      <td>2</td>\n",
       "      <td>0</td>\n",
       "      <td>1</td>\n",
       "      <td>186285.52</td>\n",
       "      <td>1</td>\n",
       "      <td>0</td>\n",
       "      <td>1</td>\n",
       "    </tr>\n",
       "    <tr>\n",
       "      <td>1247</td>\n",
       "      <td>512</td>\n",
       "      <td>24</td>\n",
       "      <td>6.0</td>\n",
       "      <td>0.00</td>\n",
       "      <td>2</td>\n",
       "      <td>1</td>\n",
       "      <td>0</td>\n",
       "      <td>37654.31</td>\n",
       "      <td>0</td>\n",
       "      <td>0</td>\n",
       "      <td>1</td>\n",
       "    </tr>\n",
       "    <tr>\n",
       "      <td>3716</td>\n",
       "      <td>665</td>\n",
       "      <td>27</td>\n",
       "      <td>2.0</td>\n",
       "      <td>147435.96</td>\n",
       "      <td>1</td>\n",
       "      <td>0</td>\n",
       "      <td>0</td>\n",
       "      <td>187508.06</td>\n",
       "      <td>1</td>\n",
       "      <td>0</td>\n",
       "      <td>0</td>\n",
       "    </tr>\n",
       "  </tbody>\n",
       "</table>\n",
       "</div>"
      ],
      "text/plain": [
       "      creditscore  age  tenure    balance  numofproducts  hascrcard  \\\n",
       "7479          567   35     8.0  153137.74              1          1   \n",
       "3411          711   37     8.0  113899.92              1          0   \n",
       "6027          850   44     3.0  140393.65              2          0   \n",
       "1247          512   24     6.0       0.00              2          1   \n",
       "3716          665   27     2.0  147435.96              1          0   \n",
       "\n",
       "      isactivemember  estimatedsalary  geography_Germany  geography_Spain  \\\n",
       "7479               0         88659.07                  0                1   \n",
       "3411               0         80215.20                  0                0   \n",
       "6027               1        186285.52                  1                0   \n",
       "1247               0         37654.31                  0                0   \n",
       "3716               0        187508.06                  1                0   \n",
       "\n",
       "      gender_Male  \n",
       "7479            1  \n",
       "3411            0  \n",
       "6027            1  \n",
       "1247            1  \n",
       "3716            0  "
      ]
     },
     "execution_count": 23,
     "metadata": {},
     "output_type": "execute_result"
    }
   ],
   "source": [
    "features_train.head()"
   ]
  },
  {
   "cell_type": "code",
   "execution_count": 24,
   "metadata": {},
   "outputs": [],
   "source": [
    "# для масштабирования зафиксируем численные признаки \n",
    "numeric = ['creditscore', 'age', 'tenure', 'balance', 'numofproducts', 'estimatedsalary']"
   ]
  },
  {
   "cell_type": "code",
   "execution_count": 25,
   "metadata": {},
   "outputs": [
    {
     "data": {
      "text/html": [
       "<div>\n",
       "<style scoped>\n",
       "    .dataframe tbody tr th:only-of-type {\n",
       "        vertical-align: middle;\n",
       "    }\n",
       "\n",
       "    .dataframe tbody tr th {\n",
       "        vertical-align: top;\n",
       "    }\n",
       "\n",
       "    .dataframe thead th {\n",
       "        text-align: right;\n",
       "    }\n",
       "</style>\n",
       "<table border=\"1\" class=\"dataframe\">\n",
       "  <thead>\n",
       "    <tr style=\"text-align: right;\">\n",
       "      <th></th>\n",
       "      <th>creditscore</th>\n",
       "      <th>age</th>\n",
       "      <th>tenure</th>\n",
       "      <th>balance</th>\n",
       "      <th>numofproducts</th>\n",
       "      <th>hascrcard</th>\n",
       "      <th>isactivemember</th>\n",
       "      <th>estimatedsalary</th>\n",
       "      <th>geography_Germany</th>\n",
       "      <th>geography_Spain</th>\n",
       "      <th>gender_Male</th>\n",
       "    </tr>\n",
       "  </thead>\n",
       "  <tbody>\n",
       "    <tr>\n",
       "      <td>7479</td>\n",
       "      <td>-0.886751</td>\n",
       "      <td>-0.373192</td>\n",
       "      <td>1.082277</td>\n",
       "      <td>1.232271</td>\n",
       "      <td>-0.891560</td>\n",
       "      <td>1</td>\n",
       "      <td>0</td>\n",
       "      <td>-0.187705</td>\n",
       "      <td>0</td>\n",
       "      <td>1</td>\n",
       "      <td>1</td>\n",
       "    </tr>\n",
       "    <tr>\n",
       "      <td>3411</td>\n",
       "      <td>0.608663</td>\n",
       "      <td>-0.183385</td>\n",
       "      <td>1.082277</td>\n",
       "      <td>0.600563</td>\n",
       "      <td>-0.891560</td>\n",
       "      <td>0</td>\n",
       "      <td>0</td>\n",
       "      <td>-0.333945</td>\n",
       "      <td>0</td>\n",
       "      <td>0</td>\n",
       "      <td>0</td>\n",
       "    </tr>\n",
       "    <tr>\n",
       "      <td>6027</td>\n",
       "      <td>2.052152</td>\n",
       "      <td>0.480939</td>\n",
       "      <td>-0.737696</td>\n",
       "      <td>1.027098</td>\n",
       "      <td>0.830152</td>\n",
       "      <td>0</td>\n",
       "      <td>1</td>\n",
       "      <td>1.503095</td>\n",
       "      <td>1</td>\n",
       "      <td>0</td>\n",
       "      <td>1</td>\n",
       "    </tr>\n",
       "    <tr>\n",
       "      <td>1247</td>\n",
       "      <td>-1.457915</td>\n",
       "      <td>-1.417129</td>\n",
       "      <td>0.354288</td>\n",
       "      <td>-1.233163</td>\n",
       "      <td>0.830152</td>\n",
       "      <td>1</td>\n",
       "      <td>0</td>\n",
       "      <td>-1.071061</td>\n",
       "      <td>0</td>\n",
       "      <td>0</td>\n",
       "      <td>1</td>\n",
       "    </tr>\n",
       "    <tr>\n",
       "      <td>3716</td>\n",
       "      <td>0.130961</td>\n",
       "      <td>-1.132419</td>\n",
       "      <td>-1.101690</td>\n",
       "      <td>1.140475</td>\n",
       "      <td>-0.891560</td>\n",
       "      <td>0</td>\n",
       "      <td>0</td>\n",
       "      <td>1.524268</td>\n",
       "      <td>1</td>\n",
       "      <td>0</td>\n",
       "      <td>0</td>\n",
       "    </tr>\n",
       "  </tbody>\n",
       "</table>\n",
       "</div>"
      ],
      "text/plain": [
       "      creditscore       age    tenure   balance  numofproducts  hascrcard  \\\n",
       "7479    -0.886751 -0.373192  1.082277  1.232271      -0.891560          1   \n",
       "3411     0.608663 -0.183385  1.082277  0.600563      -0.891560          0   \n",
       "6027     2.052152  0.480939 -0.737696  1.027098       0.830152          0   \n",
       "1247    -1.457915 -1.417129  0.354288 -1.233163       0.830152          1   \n",
       "3716     0.130961 -1.132419 -1.101690  1.140475      -0.891560          0   \n",
       "\n",
       "      isactivemember  estimatedsalary  geography_Germany  geography_Spain  \\\n",
       "7479               0        -0.187705                  0                1   \n",
       "3411               0        -0.333945                  0                0   \n",
       "6027               1         1.503095                  1                0   \n",
       "1247               0        -1.071061                  0                0   \n",
       "3716               0         1.524268                  1                0   \n",
       "\n",
       "      gender_Male  \n",
       "7479            1  \n",
       "3411            0  \n",
       "6027            1  \n",
       "1247            1  \n",
       "3716            0  "
      ]
     },
     "metadata": {},
     "output_type": "display_data"
    },
    {
     "data": {
      "text/html": [
       "<div>\n",
       "<style scoped>\n",
       "    .dataframe tbody tr th:only-of-type {\n",
       "        vertical-align: middle;\n",
       "    }\n",
       "\n",
       "    .dataframe tbody tr th {\n",
       "        vertical-align: top;\n",
       "    }\n",
       "\n",
       "    .dataframe thead th {\n",
       "        text-align: right;\n",
       "    }\n",
       "</style>\n",
       "<table border=\"1\" class=\"dataframe\">\n",
       "  <thead>\n",
       "    <tr style=\"text-align: right;\">\n",
       "      <th></th>\n",
       "      <th>creditscore</th>\n",
       "      <th>age</th>\n",
       "      <th>tenure</th>\n",
       "      <th>balance</th>\n",
       "      <th>numofproducts</th>\n",
       "      <th>hascrcard</th>\n",
       "      <th>isactivemember</th>\n",
       "      <th>estimatedsalary</th>\n",
       "      <th>geography_Germany</th>\n",
       "      <th>geography_Spain</th>\n",
       "      <th>gender_Male</th>\n",
       "    </tr>\n",
       "  </thead>\n",
       "  <tbody>\n",
       "    <tr>\n",
       "      <td>8532</td>\n",
       "      <td>-0.699824</td>\n",
       "      <td>-0.373192</td>\n",
       "      <td>-1.101690</td>\n",
       "      <td>-1.233163</td>\n",
       "      <td>0.830152</td>\n",
       "      <td>1</td>\n",
       "      <td>0</td>\n",
       "      <td>-0.015173</td>\n",
       "      <td>0</td>\n",
       "      <td>0</td>\n",
       "      <td>0</td>\n",
       "    </tr>\n",
       "    <tr>\n",
       "      <td>5799</td>\n",
       "      <td>-0.284431</td>\n",
       "      <td>0.575842</td>\n",
       "      <td>-0.737696</td>\n",
       "      <td>-1.233163</td>\n",
       "      <td>-0.891560</td>\n",
       "      <td>1</td>\n",
       "      <td>1</td>\n",
       "      <td>1.471724</td>\n",
       "      <td>0</td>\n",
       "      <td>0</td>\n",
       "      <td>0</td>\n",
       "    </tr>\n",
       "    <tr>\n",
       "      <td>5511</td>\n",
       "      <td>0.151731</td>\n",
       "      <td>-0.657902</td>\n",
       "      <td>-1.829679</td>\n",
       "      <td>0.438711</td>\n",
       "      <td>-0.891560</td>\n",
       "      <td>1</td>\n",
       "      <td>0</td>\n",
       "      <td>-1.367107</td>\n",
       "      <td>1</td>\n",
       "      <td>0</td>\n",
       "      <td>1</td>\n",
       "    </tr>\n",
       "    <tr>\n",
       "      <td>7365</td>\n",
       "      <td>-0.876366</td>\n",
       "      <td>-0.278288</td>\n",
       "      <td>1.810266</td>\n",
       "      <td>1.239884</td>\n",
       "      <td>-0.891560</td>\n",
       "      <td>1</td>\n",
       "      <td>1</td>\n",
       "      <td>-0.786517</td>\n",
       "      <td>0</td>\n",
       "      <td>1</td>\n",
       "      <td>0</td>\n",
       "    </tr>\n",
       "    <tr>\n",
       "      <td>7367</td>\n",
       "      <td>-0.481743</td>\n",
       "      <td>0.291132</td>\n",
       "      <td>1.810266</td>\n",
       "      <td>-1.233163</td>\n",
       "      <td>0.830152</td>\n",
       "      <td>1</td>\n",
       "      <td>0</td>\n",
       "      <td>1.358533</td>\n",
       "      <td>0</td>\n",
       "      <td>1</td>\n",
       "      <td>1</td>\n",
       "    </tr>\n",
       "  </tbody>\n",
       "</table>\n",
       "</div>"
      ],
      "text/plain": [
       "      creditscore       age    tenure   balance  numofproducts  hascrcard  \\\n",
       "8532    -0.699824 -0.373192 -1.101690 -1.233163       0.830152          1   \n",
       "5799    -0.284431  0.575842 -0.737696 -1.233163      -0.891560          1   \n",
       "5511     0.151731 -0.657902 -1.829679  0.438711      -0.891560          1   \n",
       "7365    -0.876366 -0.278288  1.810266  1.239884      -0.891560          1   \n",
       "7367    -0.481743  0.291132  1.810266 -1.233163       0.830152          1   \n",
       "\n",
       "      isactivemember  estimatedsalary  geography_Germany  geography_Spain  \\\n",
       "8532               0        -0.015173                  0                0   \n",
       "5799               1         1.471724                  0                0   \n",
       "5511               0        -1.367107                  1                0   \n",
       "7365               1        -0.786517                  0                1   \n",
       "7367               0         1.358533                  0                1   \n",
       "\n",
       "      gender_Male  \n",
       "8532            0  \n",
       "5799            0  \n",
       "5511            1  \n",
       "7365            0  \n",
       "7367            1  "
      ]
     },
     "metadata": {},
     "output_type": "display_data"
    },
    {
     "data": {
      "text/html": [
       "<div>\n",
       "<style scoped>\n",
       "    .dataframe tbody tr th:only-of-type {\n",
       "        vertical-align: middle;\n",
       "    }\n",
       "\n",
       "    .dataframe tbody tr th {\n",
       "        vertical-align: top;\n",
       "    }\n",
       "\n",
       "    .dataframe thead th {\n",
       "        text-align: right;\n",
       "    }\n",
       "</style>\n",
       "<table border=\"1\" class=\"dataframe\">\n",
       "  <thead>\n",
       "    <tr style=\"text-align: right;\">\n",
       "      <th></th>\n",
       "      <th>creditscore</th>\n",
       "      <th>age</th>\n",
       "      <th>tenure</th>\n",
       "      <th>balance</th>\n",
       "      <th>numofproducts</th>\n",
       "      <th>hascrcard</th>\n",
       "      <th>isactivemember</th>\n",
       "      <th>estimatedsalary</th>\n",
       "      <th>geography_Germany</th>\n",
       "      <th>geography_Spain</th>\n",
       "      <th>gender_Male</th>\n",
       "    </tr>\n",
       "  </thead>\n",
       "  <tbody>\n",
       "    <tr>\n",
       "      <td>7041</td>\n",
       "      <td>-2.226392</td>\n",
       "      <td>-0.088482</td>\n",
       "      <td>-1.101690</td>\n",
       "      <td>-1.233163</td>\n",
       "      <td>0.830152</td>\n",
       "      <td>1</td>\n",
       "      <td>0</td>\n",
       "      <td>0.647083</td>\n",
       "      <td>0</td>\n",
       "      <td>0</td>\n",
       "      <td>1</td>\n",
       "    </tr>\n",
       "    <tr>\n",
       "      <td>5709</td>\n",
       "      <td>-0.087120</td>\n",
       "      <td>0.006422</td>\n",
       "      <td>1.446272</td>\n",
       "      <td>-1.233163</td>\n",
       "      <td>-0.891560</td>\n",
       "      <td>1</td>\n",
       "      <td>0</td>\n",
       "      <td>-1.658410</td>\n",
       "      <td>0</td>\n",
       "      <td>0</td>\n",
       "      <td>0</td>\n",
       "    </tr>\n",
       "    <tr>\n",
       "      <td>7117</td>\n",
       "      <td>-0.917905</td>\n",
       "      <td>-0.752805</td>\n",
       "      <td>-0.009707</td>\n",
       "      <td>0.722307</td>\n",
       "      <td>-0.891560</td>\n",
       "      <td>1</td>\n",
       "      <td>1</td>\n",
       "      <td>-1.369334</td>\n",
       "      <td>0</td>\n",
       "      <td>1</td>\n",
       "      <td>1</td>\n",
       "    </tr>\n",
       "    <tr>\n",
       "      <td>7775</td>\n",
       "      <td>-0.253277</td>\n",
       "      <td>0.101325</td>\n",
       "      <td>1.810266</td>\n",
       "      <td>-1.233163</td>\n",
       "      <td>0.830152</td>\n",
       "      <td>1</td>\n",
       "      <td>0</td>\n",
       "      <td>0.075086</td>\n",
       "      <td>0</td>\n",
       "      <td>1</td>\n",
       "      <td>1</td>\n",
       "    </tr>\n",
       "    <tr>\n",
       "      <td>8735</td>\n",
       "      <td>0.785204</td>\n",
       "      <td>-0.847708</td>\n",
       "      <td>1.810266</td>\n",
       "      <td>0.615625</td>\n",
       "      <td>-0.891560</td>\n",
       "      <td>0</td>\n",
       "      <td>1</td>\n",
       "      <td>-1.070919</td>\n",
       "      <td>0</td>\n",
       "      <td>0</td>\n",
       "      <td>1</td>\n",
       "    </tr>\n",
       "  </tbody>\n",
       "</table>\n",
       "</div>"
      ],
      "text/plain": [
       "      creditscore       age    tenure   balance  numofproducts  hascrcard  \\\n",
       "7041    -2.226392 -0.088482 -1.101690 -1.233163       0.830152          1   \n",
       "5709    -0.087120  0.006422  1.446272 -1.233163      -0.891560          1   \n",
       "7117    -0.917905 -0.752805 -0.009707  0.722307      -0.891560          1   \n",
       "7775    -0.253277  0.101325  1.810266 -1.233163       0.830152          1   \n",
       "8735     0.785204 -0.847708  1.810266  0.615625      -0.891560          0   \n",
       "\n",
       "      isactivemember  estimatedsalary  geography_Germany  geography_Spain  \\\n",
       "7041               0         0.647083                  0                0   \n",
       "5709               0        -1.658410                  0                0   \n",
       "7117               1        -1.369334                  0                1   \n",
       "7775               0         0.075086                  0                1   \n",
       "8735               1        -1.070919                  0                0   \n",
       "\n",
       "      gender_Male  \n",
       "7041            1  \n",
       "5709            0  \n",
       "7117            1  \n",
       "7775            1  \n",
       "8735            1  "
      ]
     },
     "metadata": {},
     "output_type": "display_data"
    }
   ],
   "source": [
    "# масштабируем данные\n",
    "pd.options.mode.chained_assignment = None\n",
    "scaler = StandardScaler()\n",
    "scaler.fit(features_train[numeric])\n",
    "features_train[numeric] = scaler.transform(features_train[numeric]) # масштабируем численные признаки обучающей выборки \n",
    "features_valid[numeric] = scaler.transform(features_valid[numeric]) # масштабируем численные признаки валидационной выборки \n",
    "features_test[numeric] = scaler.transform(features_test[numeric]) # масштабируем численные признаки тестовой выборки \n",
    "\n",
    "display(features_train.head())\n",
    "display(features_valid.head())\n",
    "display(features_test.head())\n"
   ]
  },
  {
   "cell_type": "markdown",
   "metadata": {},
   "source": [
    "**Вывод**\n",
    "\n",
    "В результате мы получили масштабированные признаки для трех выборок. \n",
    "\n",
    "Перейдем к исследованию задачи по 3м моделям: дерево решений, случайный лес и логистическая регрессия."
   ]
  },
  {
   "cell_type": "markdown",
   "metadata": {},
   "source": [
    "### Деревое решений"
   ]
  },
  {
   "cell_type": "code",
   "execution_count": 26,
   "metadata": {},
   "outputs": [
    {
     "name": "stdout",
     "output_type": "stream",
     "text": [
      "Глубина дерева: 6  Точность модели: 0.858\n"
     ]
    }
   ],
   "source": [
    "best_result = 0 # счетчик точности модели\n",
    "best_depth = 0 # счетчик глубины дерева\n",
    "# создадим цикл для max_depth от 1 до 20\n",
    "for depth in range(1,20):\n",
    "    model = DecisionTreeClassifier(max_depth=depth, splitter='best', random_state=12345, min_samples_split=2) # создаем объект дерева решений\n",
    "    model.fit(features_train, target_train) # обучим модель на тренировочной выборке\n",
    "    result = model.score(features_valid, target_valid) # получим предсказания модели на валидационной выборке\n",
    "    if result > best_result:\n",
    "        best_result = result\n",
    "        best_depth = depth\n",
    "print(\"Глубина дерева:\", best_depth, \" Точность модели:\", best_result)\n"
   ]
  },
  {
   "cell_type": "markdown",
   "metadata": {},
   "source": [
    "### Случайный лес"
   ]
  },
  {
   "cell_type": "code",
   "execution_count": 27,
   "metadata": {},
   "outputs": [
    {
     "name": "stdout",
     "output_type": "stream",
     "text": [
      "Глубина дерева: 8  Количество деревьев: 60  Качество: 0.8655\n"
     ]
    }
   ],
   "source": [
    "# проверим модель на алгоритме случайного леса (параметры глубины дерева от 1 до 10, леса: кол-во деревьев от 10 до 70 с шагом 10)\n",
    "best_result = 0\n",
    "best_depth = 0\n",
    "for depth in range(1,10):\n",
    "    for est in range(10,70,10):\n",
    "        model = RandomForestClassifier(max_depth=depth, n_estimators=est, random_state=12345)\n",
    "        model.fit(features_train, target_train)\n",
    "        result = model.score(features_valid, target_valid)\n",
    "        if result > best_result:\n",
    "            best_result = result\n",
    "            best_depth = depth\n",
    "            best_est = est\n",
    "print(\"Глубина дерева:\", best_depth, \" Количество деревьев:\", best_est, \" Качество:\", best_result)\n"
   ]
  },
  {
   "cell_type": "markdown",
   "metadata": {},
   "source": [
    "### Логистическая регрессия"
   ]
  },
  {
   "cell_type": "code",
   "execution_count": 28,
   "metadata": {},
   "outputs": [
    {
     "name": "stdout",
     "output_type": "stream",
     "text": [
      "Точность модели: 0.802\n"
     ]
    }
   ],
   "source": [
    "# проверим модель алгоритмом логистической регрессии\n",
    "model = LogisticRegression(random_state=12345, solver='liblinear') # инициализируем модель логистической регрессии с параметром random_state=12345\n",
    "model.fit(features_train, target_train) # обучим модель на тренировочной выборке\n",
    "result = model.score(features_valid, target_valid) # получим метрику качества модели на валидационной выборке\n",
    "\n",
    "print(\"Точность модели:\", result)\n"
   ]
  },
  {
   "cell_type": "markdown",
   "metadata": {},
   "source": [
    "### Проверка баланса классов выборки"
   ]
  },
  {
   "cell_type": "markdown",
   "metadata": {},
   "source": [
    "Проверим отношение классов \"0\" и \"1\" по каждой выборке"
   ]
  },
  {
   "cell_type": "code",
   "execution_count": 29,
   "metadata": {},
   "outputs": [
    {
     "data": {
      "text/plain": [
       "0    0.800667\n",
       "1    0.199333\n",
       "Name: exited, dtype: float64"
      ]
     },
     "execution_count": 29,
     "metadata": {},
     "output_type": "execute_result"
    }
   ],
   "source": [
    "target_train.value_counts(normalize = 1)"
   ]
  },
  {
   "cell_type": "code",
   "execution_count": 30,
   "metadata": {},
   "outputs": [
    {
     "data": {
      "text/plain": [
       "0    0.791\n",
       "1    0.209\n",
       "Name: exited, dtype: float64"
      ]
     },
     "execution_count": 30,
     "metadata": {},
     "output_type": "execute_result"
    }
   ],
   "source": [
    "target_valid.value_counts(normalize = 1)"
   ]
  },
  {
   "cell_type": "code",
   "execution_count": 31,
   "metadata": {},
   "outputs": [
    {
     "data": {
      "text/plain": [
       "0    0.7885\n",
       "1    0.2115\n",
       "Name: exited, dtype: float64"
      ]
     },
     "execution_count": 31,
     "metadata": {},
     "output_type": "execute_result"
    }
   ],
   "source": [
    "target_test.value_counts(normalize = 1)"
   ]
  },
  {
   "cell_type": "markdown",
   "metadata": {},
   "source": [
    "Наблюдается дисбаланс классов во всех трех выборках: отрицательные ответы - порядка 80%, положительные ответы - порядка 20%.\n",
    "\n",
    "Результаты предсказаний могут склоняться к одному варианту ответа.\n",
    "\n",
    "Необходмо увеличить количество положительных ответов для достижения баланса."
   ]
  },
  {
   "cell_type": "markdown",
   "metadata": {},
   "source": [
    "### Матрица ошибок для моделей"
   ]
  },
  {
   "cell_type": "markdown",
   "metadata": {},
   "source": [
    "Посмотрим матрицу ошибок для каждой модели"
   ]
  },
  {
   "cell_type": "code",
   "execution_count": 32,
   "metadata": {
    "scrolled": true
   },
   "outputs": [
    {
     "data": {
      "text/plain": [
       "array([[1528,   54],\n",
       "       [ 230,  188]])"
      ]
     },
     "execution_count": 32,
     "metadata": {},
     "output_type": "execute_result"
    }
   ],
   "source": [
    "# матрица ошибок для модели \"Дерево решений\"\n",
    "model_DTC = DecisionTreeClassifier(random_state=12345, max_depth=6)\n",
    "model_DTC.fit(features_train, target_train)\n",
    "DTC_prediction = model_DTC.predict(features_valid)\n",
    "confusion_matrix(target_valid, DTC_prediction)\n"
   ]
  },
  {
   "cell_type": "markdown",
   "metadata": {},
   "source": [
    "Дерево решений имеет высокое значение ложноотрицательных ответов (FN = 230), и небольшое значение ложноположительных значений (FP = 54)\n",
    "\n",
    "Изучим полноту, точность и F1-меру модели"
   ]
  },
  {
   "cell_type": "code",
   "execution_count": 33,
   "metadata": {
    "scrolled": true
   },
   "outputs": [],
   "source": [
    "# запишем функцию для расчета качественных метрик моделий\n",
    "def rec_prec_f1(target_valid, prediction, probabilities_one_valid):\n",
    "    print(\"Полнота\" , recall_score(target_valid, prediction))\n",
    "    print(\"Точность\", precision_score(target_valid, prediction))\n",
    "    print(\"F1-мера\", f1_score(target_valid, prediction))\n",
    "    print(\"AUC-ROC\", roc_auc_score(target_valid, probabilities_one_valid))\n"
   ]
  },
  {
   "cell_type": "code",
   "execution_count": 34,
   "metadata": {},
   "outputs": [
    {
     "name": "stdout",
     "output_type": "stream",
     "text": [
      "Полнота 0.44976076555023925\n",
      "Точность 0.7768595041322314\n",
      "F1-мера 0.5696969696969697\n",
      "AUC-ROC 0.8164631712023421\n"
     ]
    }
   ],
   "source": [
    "# применим функцию к \"Дереву решений\"\n",
    "DTC_probabilities_one_valid = model_DTC.predict_proba(features_valid)[:, 1]\n",
    "rec_prec_f1(target_valid, DTC_prediction, DTC_probabilities_one_valid)"
   ]
  },
  {
   "cell_type": "markdown",
   "metadata": {},
   "source": [
    "Низкое значние F1- меры = 57% говорит о низком качестве модели, проблема в точности, что может быть связано как раз с дисбалансом классов"
   ]
  },
  {
   "cell_type": "code",
   "execution_count": 35,
   "metadata": {},
   "outputs": [
    {
     "data": {
      "text/plain": [
       "array([[1552,   30],\n",
       "       [ 239,  179]])"
      ]
     },
     "execution_count": 35,
     "metadata": {},
     "output_type": "execute_result"
    }
   ],
   "source": [
    "# матрица ошибок для модели \"Случайный лес\" на лучших параметрах, найденых ранее\n",
    "model_RFC = RandomForestClassifier(random_state=12345, max_depth=8, n_estimators = 60)\n",
    "model_RFC.fit(features_train, target_train)\n",
    "RFC_prediction = model_RFC.predict(features_valid)\n",
    "confusion_matrix(target_valid, RFC_prediction)\n"
   ]
  },
  {
   "cell_type": "markdown",
   "metadata": {},
   "source": [
    "Случайный лес примерно похож на дерево решений, ложноотрицательных ответов (FN = 239), и небольшое значение ложноположительных значений (FP = 30)"
   ]
  },
  {
   "cell_type": "code",
   "execution_count": 36,
   "metadata": {},
   "outputs": [
    {
     "name": "stdout",
     "output_type": "stream",
     "text": [
      "Полнота 0.42822966507177035\n",
      "Точность 0.8564593301435407\n",
      "F1-мера 0.5709728867623605\n",
      "AUC-ROC 0.8509729674145138\n"
     ]
    }
   ],
   "source": [
    "# метрики для \"Случайного леса\"\n",
    "RFC_probabilities_one_valid = model_RFC.predict_proba(features_valid)[:, 1]\n",
    "rec_prec_f1(target_valid, RFC_prediction, RFC_probabilities_one_valid)"
   ]
  },
  {
   "cell_type": "markdown",
   "metadata": {},
   "source": [
    "Также низкое значние F1- меры = 57% говорит о низком качестве модели"
   ]
  },
  {
   "cell_type": "code",
   "execution_count": 37,
   "metadata": {},
   "outputs": [
    {
     "data": {
      "text/plain": [
       "array([[1506,   76],\n",
       "       [ 320,   98]])"
      ]
     },
     "execution_count": 37,
     "metadata": {},
     "output_type": "execute_result"
    }
   ],
   "source": [
    "# матрица ошибок для модели \"Логистическая регрессия\"\n",
    "model_LR = LogisticRegression(solver = 'liblinear')\n",
    "model_LR.fit(features_train, target_train)\n",
    "LR_prediction = model_LR.predict(features_valid)\n",
    "confusion_matrix(target_valid, LR_prediction)"
   ]
  },
  {
   "cell_type": "code",
   "execution_count": 38,
   "metadata": {
    "scrolled": true
   },
   "outputs": [
    {
     "name": "stdout",
     "output_type": "stream",
     "text": [
      "Полнота 0.23444976076555024\n",
      "Точность 0.5632183908045977\n",
      "F1-мера 0.33108108108108103\n",
      "AUC-ROC 0.7587512627102753\n"
     ]
    }
   ],
   "source": [
    "LR_probabilities_one_valid = model_LR.predict_proba(features_valid)[:, 1]\n",
    "rec_prec_f1(target_valid, LR_prediction, LR_probabilities_one_valid)"
   ]
  },
  {
   "cell_type": "markdown",
   "metadata": {},
   "source": [
    "Самое низкое значние F1- меры = 33%"
   ]
  },
  {
   "cell_type": "markdown",
   "metadata": {},
   "source": [
    "### Вывод"
   ]
  },
  {
   "cell_type": "markdown",
   "metadata": {},
   "source": [
    "В ходе этапа сделали следующее:\n",
    "- исключили возможность возникновения дамми-ловушек за счет кодирования данных\n",
    "- сформировали выборки (обучающая-60% данных, тестовая и валидационная - по 20%)\n",
    "- провели масштабирование признаков\n",
    "- построили и обучили 3 модели: дерево решений, случайный лес и логистическая регрессия (наибольшую точность показала модель случайного леса 86%)\n",
    "- определили дисбаланс классов - положительные ответы выборки - 80%, отрицательные - 20%, что негативно может влиять на качество моделей в виду склонности к одному ответу\n",
    "- построили матрицу ошибок моделей и расчитали качественные метрики каждой модели\n",
    "- все модели имеют низкое значение F1-меры, что говорит о низком качестве моделей, которое может быть связано с дисбалансом классов. Исправим это далее."
   ]
  },
  {
   "cell_type": "markdown",
   "metadata": {},
   "source": [
    "## Борьба с дисбалансом"
   ]
  },
  {
   "cell_type": "markdown",
   "metadata": {},
   "source": [
    "В нашей выборке отрицательных ответов = 80% , положитительных = 20%\n",
    "Для устранения дисбаланса классов в моделях необходимо увеличить количество положительных ответов в 4 раза\n",
    "\n",
    "Существует три инструмента для устранения дисбаланса выборок:\n",
    "- Upsampling - увеличение выборки\n",
    "- Downsampling - уменьшение выборки\n",
    "- Добавить в модель параметр class_weight\n",
    "\n",
    "Посмотрим их ниже."
   ]
  },
  {
   "cell_type": "markdown",
   "metadata": {},
   "source": [
    "### Upsampling"
   ]
  },
  {
   "cell_type": "code",
   "execution_count": 39,
   "metadata": {
    "scrolled": false
   },
   "outputs": [
    {
     "name": "stdout",
     "output_type": "stream",
     "text": [
      "0    0.501043\n",
      "1    0.498957\n",
      "Name: exited, dtype: float64\n",
      "(9588,)\n"
     ]
    }
   ],
   "source": [
    "# создадим функцию для увеличения класса в выборке в 4 раза\n",
    "def upsample(features, target, repeat):\n",
    "    features_zeros = features[target == 0]\n",
    "    features_ones = features[target == 1]\n",
    "    target_zeros = target[target == 0]\n",
    "    target_ones = target[target == 1]\n",
    "\n",
    "    features_upsampled = pd.concat([features_zeros] + [features_ones] * repeat)\n",
    "    target_upsampled = pd.concat([target_zeros] + [target_ones] * repeat)\n",
    "    \n",
    "    features_upsampled, target_upsampled = shuffle(\n",
    "        features_upsampled, target_upsampled, random_state=12345)\n",
    "    \n",
    "    return features_upsampled, target_upsampled\n",
    "\n",
    "features_upsampled, target_upsampled = upsample(features_train, target_train, 4)\n",
    "print(target_upsampled.value_counts(normalize = 1))\n",
    "print(target_upsampled.shape)"
   ]
  },
  {
   "cell_type": "markdown",
   "metadata": {},
   "source": [
    "Выборку сбалансировали за счет увеличения положительных ответов"
   ]
  },
  {
   "cell_type": "code",
   "execution_count": 40,
   "metadata": {
    "scrolled": true
   },
   "outputs": [
    {
     "name": "stdout",
     "output_type": "stream",
     "text": [
      "F1: дерева решений 0.5581835383159887\n",
      "F1: случайного леса 0.6206185567010308\n",
      "F1: логистической регрессии 0.4888507718696398\n"
     ]
    }
   ],
   "source": [
    "# проверим изменение F1-меры на всех моделях с их лучшими параметрами\n",
    "model_DTC = DecisionTreeClassifier(max_depth=6, random_state=12345).fit(features_upsampled, target_upsampled)\n",
    "\n",
    "predicted_valid_DTC = model_DTC.predict(features_valid)\n",
    "\n",
    "model_RFC = RandomForestClassifier(random_state=12345, max_depth=8, n_estimators = 60).fit(features_upsampled, target_upsampled)\n",
    "predicted_valid_RFC = model_RFC.predict(features_valid)\n",
    "\n",
    "model_LR = LogisticRegression(random_state=12345, solver='liblinear').fit(features_upsampled, target_upsampled)\n",
    "predicted_valid_LR = model_LR.predict(features_valid)\n",
    "\n",
    "print(\"F1: дерева решений\", f1_score(target_valid, predicted_valid_DTC))\n",
    "print(\"F1: случайного леса\", f1_score(target_valid, predicted_valid_RFC))\n",
    "print(\"F1: логистической регрессии\", f1_score(target_valid, predicted_valid_LR))\n"
   ]
  },
  {
   "cell_type": "markdown",
   "metadata": {},
   "source": [
    "Качество моделей увеличилось, модель \"Случайный лес\" имеет наибольшее значение 0.62 (что выше условия задачи)"
   ]
  },
  {
   "cell_type": "markdown",
   "metadata": {},
   "source": [
    "### Downsampling"
   ]
  },
  {
   "cell_type": "code",
   "execution_count": 41,
   "metadata": {
    "scrolled": false
   },
   "outputs": [
    {
     "name": "stdout",
     "output_type": "stream",
     "text": [
      "0    0.501043\n",
      "1    0.498957\n",
      "Name: exited, dtype: float64\n",
      "(2397,)\n"
     ]
    }
   ],
   "source": [
    "def downsample(features, target, fraction):\n",
    "    features_zeros = features[target == 0]\n",
    "    features_ones = features[target == 1]\n",
    "    target_zeros = target[target == 0]\n",
    "    target_ones = target[target == 1]\n",
    "\n",
    "    features_downsampled = pd.concat(\n",
    "        [features_zeros.sample(frac=fraction, random_state=12345)] + [features_ones])\n",
    "    target_downsampled = pd.concat(\n",
    "        [target_zeros.sample(frac=fraction, random_state=12345)] + [target_ones])\n",
    "    \n",
    "    features_downsampled, target_downsampled = shuffle(\n",
    "        features_downsampled, target_downsampled, random_state=12345)\n",
    "    \n",
    "    return features_downsampled, target_downsampled\n",
    "\n",
    "features_downsampled, target_downsampled = downsample(features_train, target_train, 0.25)\n",
    "\n",
    "print(target_downsampled.value_counts(normalize = 1))\n",
    "print(target_downsampled.shape)"
   ]
  },
  {
   "cell_type": "markdown",
   "metadata": {},
   "source": [
    "Выборку сбалансировали за счет уменьшения отрицательных ответов"
   ]
  },
  {
   "cell_type": "code",
   "execution_count": 42,
   "metadata": {},
   "outputs": [
    {
     "name": "stdout",
     "output_type": "stream",
     "text": [
      "F1: дерева решений 0.5749525616698292\n",
      "F1: случайного леса 0.5925925925925926\n",
      "F1: логистической регрессии 0.48406546080964685\n"
     ]
    }
   ],
   "source": [
    "model_DTC = DecisionTreeClassifier(max_depth=6, random_state=12345)\n",
    "model_DTC.fit(features_downsampled, target_downsampled)\n",
    "predicted_valid_DTC = model_DTC.predict(features_valid)\n",
    "\n",
    "model_RFC = RandomForestClassifier(random_state=12345, max_depth=8, n_estimators = 60)\n",
    "model_RFC.fit(features_downsampled, target_downsampled)\n",
    "predicted_valid_RFC = model_RFC.predict(features_valid)\n",
    "\n",
    "model_LR = LogisticRegression(random_state=12345, solver='liblinear')\n",
    "model_LR.fit(features_downsampled, target_downsampled)\n",
    "predicted_valid_LR = model_LR.predict(features_valid)\n",
    "\n",
    "print(\"F1: дерева решений\", f1_score(target_valid, predicted_valid_DTC))\n",
    "print(\"F1: случайного леса\", f1_score(target_valid, predicted_valid_RFC))\n",
    "print(\"F1: логистической регрессии\", f1_score(target_valid, predicted_valid_LR))"
   ]
  },
  {
   "cell_type": "markdown",
   "metadata": {},
   "source": [
    "Сделали то же самое методом `downsample`"
   ]
  },
  {
   "cell_type": "markdown",
   "metadata": {},
   "source": [
    "### class_weight"
   ]
  },
  {
   "cell_type": "code",
   "execution_count": 43,
   "metadata": {},
   "outputs": [
    {
     "name": "stdout",
     "output_type": "stream",
     "text": [
      "F1: 0.5581835383159887\n"
     ]
    }
   ],
   "source": [
    "# придадим объектам редкого класса больший вес на примере \"Дерева решений\"\n",
    "model = DecisionTreeClassifier(random_state=12345, max_depth=6, class_weight='balanced')\n",
    "model.fit(features_train, target_train)\n",
    "predicted_valid = model.predict(features_valid)\n",
    "print(\"F1:\", f1_score(target_valid, predicted_valid))"
   ]
  },
  {
   "cell_type": "code",
   "execution_count": 44,
   "metadata": {},
   "outputs": [
    {
     "name": "stdout",
     "output_type": "stream",
     "text": [
      "F1: 0.6169265033407573\n"
     ]
    }
   ],
   "source": [
    "# придадим объектам редкого класса больший вес на примере \"Случайного леса\"\n",
    "model = RandomForestClassifier(random_state=12345, max_depth=8, n_estimators = 60, class_weight='balanced')\n",
    "model.fit(features_train, target_train)\n",
    "predicted_valid = model.predict(features_valid)\n",
    "print(\"F1:\", f1_score(target_valid, predicted_valid))\n"
   ]
  },
  {
   "cell_type": "code",
   "execution_count": 45,
   "metadata": {},
   "outputs": [
    {
     "name": "stdout",
     "output_type": "stream",
     "text": [
      "F1: 0.4888507718696398\n"
     ]
    }
   ],
   "source": [
    "# придадим объектам редкого класса больший вес на примере \"Логистической регрессии\"\n",
    "model = LogisticRegression(random_state=12345, solver='liblinear', class_weight='balanced')\n",
    "model.fit(features_train, target_train)\n",
    "predicted_valid = model.predict(features_valid)\n",
    "print(\"F1:\", f1_score(target_valid, predicted_valid))"
   ]
  },
  {
   "cell_type": "markdown",
   "metadata": {},
   "source": [
    "Сделали то же самое методом `class_weight`\n",
    "\n",
    "Наилучшие результаты получены на методе `Upsampling` его и будем использовать далее"
   ]
  },
  {
   "cell_type": "markdown",
   "metadata": {},
   "source": [
    "### Обучение моделей на новой выборке"
   ]
  },
  {
   "cell_type": "code",
   "execution_count": 46,
   "metadata": {},
   "outputs": [],
   "source": [
    "# напишем функцию для определения точности моделей\n",
    "def all_models_accuracy(features_train, target_train, features_valid, target_valid):\n",
    "    model_DTC = DecisionTreeClassifier(random_state=12345, max_depth=6)\n",
    "    DTC_score = model_DTC.fit(features_train, target_train).score(features_valid, target_valid)\n",
    "    \n",
    "    model_RFC = RandomForestClassifier(random_state=12345, max_depth=8, n_estimators = 60)\n",
    "    RFC_score = model_RFC.fit(features_train, target_train).score(features_valid, target_valid)\n",
    "    \n",
    "    model_LR = LogisticRegression(solver = 'liblinear')\n",
    "    LR_score = model_LR.fit(features_train, target_train).score(features_valid, target_valid)\n",
    "    print(\"Точность:\" \"- дерево решений\", DTC_score)\n",
    "    print(\"Точность:\" \"- случайный лес \", RFC_score)\n",
    "    print(\"Точность:\" \"- логистческая регрессия\", LR_score)\n"
   ]
  },
  {
   "cell_type": "code",
   "execution_count": 47,
   "metadata": {},
   "outputs": [
    {
     "name": "stdout",
     "output_type": "stream",
     "text": [
      "Точность:- дерево решений 0.858\n",
      "Точность:- случайный лес  0.8655\n",
      "Точность:- логистческая регрессия 0.802\n"
     ]
    }
   ],
   "source": [
    "# точность моделей на выборке с дисбалансом\n",
    "all_models_accuracy(features_train, target_train, features_valid, target_valid)"
   ]
  },
  {
   "cell_type": "code",
   "execution_count": 48,
   "metadata": {},
   "outputs": [
    {
     "name": "stdout",
     "output_type": "stream",
     "text": [
      "Точность:- дерево решений 0.7665\n",
      "Точность:- случайный лес  0.816\n",
      "Точность:- логистческая регрессия 0.702\n"
     ]
    }
   ],
   "source": [
    "# точность моделей на сбалансированной выборке\n",
    "all_models_accuracy(features_upsampled, target_upsampled, features_valid, target_valid)"
   ]
  },
  {
   "cell_type": "markdown",
   "metadata": {},
   "source": [
    "Точность предсказаний несколько снизилась\n",
    "\n",
    "Проверим ниже качество всех моделей"
   ]
  },
  {
   "cell_type": "code",
   "execution_count": 49,
   "metadata": {},
   "outputs": [
    {
     "name": "stdout",
     "output_type": "stream",
     "text": [
      "Полнота 0.7057416267942583\n",
      "Точность 0.4616588419405321\n",
      "F1-мера 0.5581835383159887\n",
      "AUC-ROC 0.7999473744699641\n"
     ]
    }
   ],
   "source": [
    "# Решающее дерево\n",
    "model_DTC_new = DecisionTreeClassifier(max_depth=6, random_state=12345)\n",
    "model_DTC_new.fit(features_upsampled, target_upsampled)\n",
    "DTC_prediction_new = model_DTC_new.predict(features_valid)\n",
    "DTC_probabilities_one_valid_new = model_DTC_new.predict_proba(features_valid)[:, 1]\n",
    "rec_prec_f1(target_valid, DTC_prediction_new, DTC_probabilities_one_valid_new)"
   ]
  },
  {
   "cell_type": "code",
   "execution_count": 50,
   "metadata": {},
   "outputs": [
    {
     "name": "stdout",
     "output_type": "stream",
     "text": [
      "Полнота 0.7200956937799043\n",
      "Точность 0.5452898550724637\n",
      "F1-мера 0.6206185567010308\n",
      "AUC-ROC 0.8552011565518783\n"
     ]
    }
   ],
   "source": [
    "# Случайный лес\n",
    "model_RFC_new = RandomForestClassifier(random_state=12345, max_depth=8, n_estimators = 60)\n",
    "model_RFC_new.fit(features_upsampled, target_upsampled)\n",
    "RFC_prediction_new = model_RFC_new.predict(features_valid)\n",
    "RFC_probabilities_one_valid_new = model_RFC_new.predict_proba(features_valid)[:, 1]\n",
    "rec_prec_f1(target_valid, RFC_prediction_new, RFC_probabilities_one_valid_new)"
   ]
  },
  {
   "cell_type": "code",
   "execution_count": 51,
   "metadata": {},
   "outputs": [
    {
     "name": "stdout",
     "output_type": "stream",
     "text": [
      "Полнота 0.6818181818181818\n",
      "Точность 0.3810160427807487\n",
      "F1-мера 0.4888507718696398\n",
      "AUC-ROC 0.7636478565682107\n"
     ]
    }
   ],
   "source": [
    "# Логистическая регрессия\n",
    "model_LR_new = LogisticRegression(solver = 'liblinear')\n",
    "model_LR_new.fit(features_upsampled, target_upsampled)\n",
    "LR_prediction_new = model_LR_new.predict(features_valid)\n",
    "LR_probabilities_one_valid_new = model_LR_new.predict_proba(features_valid)[:, 1]\n",
    "rec_prec_f1(target_valid, LR_prediction_new, LR_probabilities_one_valid_new)"
   ]
  },
  {
   "cell_type": "markdown",
   "metadata": {},
   "source": [
    "Показаели всех моделей улучшились.\n",
    "Лучшие результаты показывает алгоритм случайный лес (RandomForestClassifier) \n",
    "\n",
    "На валидационной выборке RandomForestClassifier уже показывает резульаты F1 меры = 0.62, что выше целевого значения = 0.59"
   ]
  },
  {
   "cell_type": "markdown",
   "metadata": {},
   "source": [
    "### Адекватность модели"
   ]
  },
  {
   "cell_type": "code",
   "execution_count": 52,
   "metadata": {},
   "outputs": [
    {
     "data": {
      "text/plain": [
       "0    2000\n",
       "dtype: int64"
      ]
     },
     "execution_count": 52,
     "metadata": {},
     "output_type": "execute_result"
    }
   ],
   "source": [
    "# создадим константную модель\n",
    "target_predict_constant = pd.Series([0]*len(target_valid))\n",
    "target_predict_constant.value_counts()"
   ]
  },
  {
   "cell_type": "code",
   "execution_count": 53,
   "metadata": {},
   "outputs": [
    {
     "name": "stdout",
     "output_type": "stream",
     "text": [
      "accuracy_score константой модели: 0.791\n",
      "accuracy_score новой модели: 0.816\n",
      "AUC-ROC константой модели: 0.5\n",
      "AUC-ROC новой модели: 0.8552011565518783\n"
     ]
    }
   ],
   "source": [
    "# сравним показатель точности константной модели и новой модели случайного леса\n",
    "print('accuracy_score константой модели:', accuracy_score(target_valid, target_predict_constant))\n",
    "print('accuracy_score новой модели:', accuracy_score(target_valid, RFC_prediction_new))\n",
    "# дополнительно сравним AUC-ROC, т.к. константная модель содержит только негативные ответы\n",
    "print('AUC-ROC константой модели:', roc_auc_score(target_valid, target_predict_constant))\n",
    "print('AUC-ROC новой модели:', roc_auc_score(target_valid, RFC_probabilities_one_valid_new))\n"
   ]
  },
  {
   "cell_type": "markdown",
   "metadata": {},
   "source": [
    "Новая модель показывает результаты лучше, чем константная модель — модель можно считать адекватной!"
   ]
  },
  {
   "cell_type": "markdown",
   "metadata": {},
   "source": [
    "### Вывод"
   ]
  },
  {
   "cell_type": "markdown",
   "metadata": {},
   "source": [
    "В виду того, что в первоначальных выборках наблюдался значительный дисбаланс (80% ответов целевого признака негативные и только 20% - позитивные), качество обученных моделей было низкое (низкие показатели качества и полноты, расчитываемые F1-мерой).\n",
    "\n",
    "На данном шаге мы сбалансировали выборки и добились классов с долями: \"0\" = 0.501043 и \"1\" = 0.498957, применив метод `upsampling`.\n",
    "\n",
    "На новых данных все модели показали результат выше, чем на несбалансированной выборке. Лучшие показатели были у модели случайного леса (наилучшие параметры: глубина - 8, кол-во деревьев - 60)\n",
    "- Полнота 0.72\n",
    "- Точность 0.55\n",
    "- F1-мера 0.62\n",
    "- AUC-ROC 0.86\n",
    "\n",
    "Далее проверили модель на адекватность в сравнении с контантной моделью: \n",
    "1. Точность:\n",
    "- константой модели: 0.791\n",
    "- новой модели: 0.816\n",
    "2. AUC-ROC \n",
    "- константой модели: 0.5\n",
    "- новой модели: 0.86"
   ]
  },
  {
   "cell_type": "markdown",
   "metadata": {},
   "source": [
    "## Тестирование модели"
   ]
  },
  {
   "cell_type": "code",
   "execution_count": 54,
   "metadata": {},
   "outputs": [
    {
     "name": "stdout",
     "output_type": "stream",
     "text": [
      "Полнота 0.723404255319149\n",
      "Точность 0.5387323943661971\n",
      "F1-мера 0.6175580221997982\n",
      "AUC-ROC 0.8587361765089472\n"
     ]
    }
   ],
   "source": [
    "model_RFC_new\n",
    "RFC_prediction_new = model_RFC_new.predict(features_test)\n",
    "RFC_probabilities_one_valid_new = model_RFC_new.predict_proba(features_test)[:, 1]\n",
    "rec_prec_f1(target_test, RFC_prediction_new, RFC_probabilities_one_valid_new)"
   ]
  },
  {
   "cell_type": "code",
   "execution_count": 55,
   "metadata": {},
   "outputs": [
    {
     "data": {
      "image/png": "[encoded data removed]",
      "text/plain": [
       "<Figure size 432x288 with 1 Axes>"
      ]
     },
     "metadata": {
      "needs_background": "light"
     },
     "output_type": "display_data"
    }
   ],
   "source": [
    "new_model_probabilities = model_RFC_new.predict_proba(features_test)[:, 1]\n",
    "\n",
    "fpr, tpr, thresholds = roc_curve(target_test, new_model_probabilities) \n",
    "\n",
    "plt.figure()\n",
    "plt.plot(fpr, tpr)\n",
    "plt.plot([0, 1], [0, 1], linestyle='--')\n",
    "plt.xlim([0.0, 1.0])\n",
    "plt.ylim([0.0, 1.0])\n",
    "plt.xlabel('False Positive Rate')\n",
    "plt.ylabel('True Positive Rate')\n",
    "plt.title('ROC-кривая')\n",
    "plt.show()"
   ]
  },
  {
   "cell_type": "markdown",
   "metadata": {},
   "source": [
    "## Вывод"
   ]
  },
  {
   "cell_type": "markdown",
   "metadata": {},
   "source": [
    "1. Новая модель \"Случайный лес\" на тестовой выборке достигла заданой метрики F1 = 0.62 (F1 > 0.59).\n",
    "2. Лучшие параметры модели: `max_depth` = 8, `n_estimators` = 60\n",
    "3. Модель характеризуется высоким показателем полноты = 0.723 - модель использует большое количество данных\n",
    "4. Показатель точности модели = 0.54 — точно предскажет уход клиента только в 54% случаев\n",
    "\n",
    "Полученная модель поможет точнее определять килентов, которые могут уйти в ближайшее время. \n",
    "\n",
    "Для улучшения модели следует использовать расширенные данные по клиентам (например, увеличить горизонт анализа поведения клиентов)"
   ]
  },
  {
   "cell_type": "code",
   "execution_count": 56,
   "metadata": {},
   "outputs": [
    {
     "data": {
      "text/plain": [
       "RandomForestClassifier(bootstrap=True, class_weight=None, criterion='gini',\n",
       "                       max_depth=8, max_features='auto', max_leaf_nodes=None,\n",
       "                       min_impurity_decrease=0.0, min_impurity_split=None,\n",
       "                       min_samples_leaf=1, min_samples_split=2,\n",
       "                       min_weight_fraction_leaf=0.0, n_estimators=60,\n",
       "                       n_jobs=None, oob_score=False, random_state=12345,\n",
       "                       verbose=0, warm_start=False)"
      ]
     },
     "execution_count": 56,
     "metadata": {},
     "output_type": "execute_result"
    }
   ],
   "source": [
    "feature_names = features.columns\n",
    "forest = RandomForestClassifier(random_state=12345, max_depth=8, n_estimators = 60)\n",
    "forest.fit(features_train, target_train)"
   ]
  },
  {
   "cell_type": "code",
   "execution_count": 57,
   "metadata": {},
   "outputs": [],
   "source": [
    "importances = forest.feature_importances_\n",
    "std = np.std([tree.feature_importances_ for tree in forest.estimators_], axis=0)"
   ]
  },
  {
   "cell_type": "code",
   "execution_count": 58,
   "metadata": {
    "scrolled": true
   },
   "outputs": [
    {
     "data": {
      "image/png": "[encoded data removed]",
      "text/plain": [
       "<Figure size 432x288 with 1 Axes>"
      ]
     },
     "metadata": {
      "needs_background": "light"
     },
     "output_type": "display_data"
    }
   ],
   "source": [
    "forest_importances = pd.Series(importances, index=feature_names)\n",
    "\n",
    "fig, ax = plt.subplots()\n",
    "forest_importances.plot.bar(yerr=std, ax=ax)\n",
    "ax.set_title(\"Feature importances using MDI\")\n",
    "ax.set_ylabel(\"Mean decrease in impurity\")\n",
    "fig.tight_layout()"
   ]
  }
 ],
 "metadata": {
  "ExecuteTimeLog": [
   {
    "duration": 1512,
    "start_time": "2022-02-25T14:28:03.587Z"
   },
   {
    "duration": 48,
    "start_time": "2022-02-25T14:28:06.091Z"
   },
   {
    "duration": 23,
    "start_time": "2022-02-25T14:28:42.265Z"
   },
   {
    "duration": 45,
    "start_time": "2022-02-25T14:34:44.676Z"
   },
   {
    "duration": 18,
    "start_time": "2022-02-25T14:34:45.609Z"
   },
   {
    "duration": 13,
    "start_time": "2022-02-25T14:34:55.504Z"
   },
   {
    "duration": 1731,
    "start_time": "2022-02-25T14:35:08.677Z"
   },
   {
    "duration": 71,
    "start_time": "2022-02-25T14:35:14.972Z"
   },
   {
    "duration": 536,
    "start_time": "2022-02-25T14:36:20.859Z"
   },
   {
    "duration": 126,
    "start_time": "2022-02-25T14:38:16.657Z"
   },
   {
    "duration": 31,
    "start_time": "2022-02-25T14:38:20.163Z"
   },
   {
    "duration": 9,
    "start_time": "2022-02-25T14:38:21.861Z"
   },
   {
    "duration": 37,
    "start_time": "2022-02-25T14:38:31.671Z"
   },
   {
    "duration": 18,
    "start_time": "2022-02-25T14:38:33.383Z"
   },
   {
    "duration": 37,
    "start_time": "2022-02-25T14:39:27.884Z"
   },
   {
    "duration": 18,
    "start_time": "2022-02-25T14:39:28.735Z"
   },
   {
    "duration": 13,
    "start_time": "2022-02-25T14:40:01.240Z"
   },
   {
    "duration": 58,
    "start_time": "2022-02-25T14:40:03.933Z"
   },
   {
    "duration": 16,
    "start_time": "2022-02-25T14:40:53.016Z"
   },
   {
    "duration": 366,
    "start_time": "2022-02-25T14:43:12.620Z"
   },
   {
    "duration": 10,
    "start_time": "2022-02-25T14:43:20.254Z"
   },
   {
    "duration": 1440,
    "start_time": "2022-02-25T14:45:44.135Z"
   },
   {
    "duration": 5,
    "start_time": "2022-02-25T14:45:50.589Z"
   },
   {
    "duration": 500,
    "start_time": "2022-02-25T14:46:24.166Z"
   },
   {
    "duration": 414,
    "start_time": "2022-02-25T14:46:30.526Z"
   },
   {
    "duration": 4,
    "start_time": "2022-02-25T14:46:36.586Z"
   },
   {
    "duration": 6,
    "start_time": "2022-02-25T14:46:47.780Z"
   },
   {
    "duration": 397,
    "start_time": "2022-02-25T14:48:43.443Z"
   },
   {
    "duration": 370,
    "start_time": "2022-02-25T14:50:34.725Z"
   },
   {
    "duration": 11,
    "start_time": "2022-02-25T14:50:41.320Z"
   },
   {
    "duration": 13,
    "start_time": "2022-02-25T14:50:53.222Z"
   },
   {
    "duration": 4,
    "start_time": "2022-02-25T14:53:16.316Z"
   },
   {
    "duration": 73,
    "start_time": "2022-02-26T13:20:11.388Z"
   },
   {
    "duration": 1562,
    "start_time": "2022-02-26T13:20:40.615Z"
   },
   {
    "duration": 103,
    "start_time": "2022-02-26T13:20:42.180Z"
   },
   {
    "duration": 21,
    "start_time": "2022-02-26T13:20:42.285Z"
   },
   {
    "duration": 13,
    "start_time": "2022-02-26T13:20:42.309Z"
   },
   {
    "duration": 69,
    "start_time": "2022-02-26T13:20:42.324Z"
   },
   {
    "duration": 10,
    "start_time": "2022-02-26T13:20:42.395Z"
   },
   {
    "duration": 383,
    "start_time": "2022-02-26T13:20:42.407Z"
   },
   {
    "duration": -47,
    "start_time": "2022-02-26T13:20:42.839Z"
   },
   {
    "duration": -48,
    "start_time": "2022-02-26T13:20:42.842Z"
   },
   {
    "duration": -50,
    "start_time": "2022-02-26T13:20:42.845Z"
   },
   {
    "duration": -51,
    "start_time": "2022-02-26T13:20:42.848Z"
   },
   {
    "duration": -55,
    "start_time": "2022-02-26T13:20:42.854Z"
   },
   {
    "duration": 17,
    "start_time": "2022-02-26T13:20:55.868Z"
   },
   {
    "duration": 1462,
    "start_time": "2022-02-26T13:21:05.874Z"
   },
   {
    "duration": 31,
    "start_time": "2022-02-26T13:21:07.339Z"
   },
   {
    "duration": 30,
    "start_time": "2022-02-26T13:21:07.374Z"
   },
   {
    "duration": 13,
    "start_time": "2022-02-26T13:21:07.407Z"
   },
   {
    "duration": 87,
    "start_time": "2022-02-26T13:21:07.423Z"
   },
   {
    "duration": 11,
    "start_time": "2022-02-26T13:21:07.513Z"
   },
   {
    "duration": 15,
    "start_time": "2022-02-26T13:21:07.526Z"
   },
   {
    "duration": 7,
    "start_time": "2022-02-26T13:21:07.544Z"
   },
   {
    "duration": 4,
    "start_time": "2022-02-26T13:21:07.587Z"
   },
   {
    "duration": 8,
    "start_time": "2022-02-26T13:21:07.594Z"
   },
   {
    "duration": 16,
    "start_time": "2022-02-26T13:21:07.605Z"
   },
   {
    "duration": 20,
    "start_time": "2022-02-26T13:21:07.623Z"
   },
   {
    "duration": 475,
    "start_time": "2022-02-26T13:31:12.230Z"
   },
   {
    "duration": 1666,
    "start_time": "2022-02-26T13:31:51.251Z"
   },
   {
    "duration": 90,
    "start_time": "2022-02-26T13:31:52.921Z"
   },
   {
    "duration": 84,
    "start_time": "2022-02-26T13:31:53.015Z"
   },
   {
    "duration": 12,
    "start_time": "2022-02-26T13:31:53.102Z"
   },
   {
    "duration": 197,
    "start_time": "2022-02-26T13:31:53.117Z"
   },
   {
    "duration": 10,
    "start_time": "2022-02-26T13:31:53.316Z"
   },
   {
    "duration": 65,
    "start_time": "2022-02-26T13:31:53.328Z"
   },
   {
    "duration": 5,
    "start_time": "2022-02-26T13:31:53.396Z"
   },
   {
    "duration": 4,
    "start_time": "2022-02-26T13:31:53.405Z"
   },
   {
    "duration": 8,
    "start_time": "2022-02-26T13:31:53.411Z"
   },
   {
    "duration": 458,
    "start_time": "2022-02-26T13:31:53.421Z"
   },
   {
    "duration": -34,
    "start_time": "2022-02-26T13:31:53.916Z"
   },
   {
    "duration": -43,
    "start_time": "2022-02-26T13:31:53.927Z"
   },
   {
    "duration": 6,
    "start_time": "2022-02-26T13:32:55.700Z"
   },
   {
    "duration": 12,
    "start_time": "2022-02-26T13:33:05.156Z"
   },
   {
    "duration": 10,
    "start_time": "2022-02-26T13:33:05.907Z"
   },
   {
    "duration": 19,
    "start_time": "2022-02-26T13:33:22.660Z"
   },
   {
    "duration": 224,
    "start_time": "2022-02-26T13:34:29.849Z"
   },
   {
    "duration": 20,
    "start_time": "2022-02-26T13:35:20.778Z"
   },
   {
    "duration": 31,
    "start_time": "2022-02-26T13:38:17.166Z"
   },
   {
    "duration": 206,
    "start_time": "2022-02-26T13:38:43.800Z"
   },
   {
    "duration": 28,
    "start_time": "2022-02-26T13:38:59.076Z"
   },
   {
    "duration": 19,
    "start_time": "2022-02-26T13:39:00.326Z"
   },
   {
    "duration": 11,
    "start_time": "2022-02-26T13:39:06.043Z"
   },
   {
    "duration": 1516,
    "start_time": "2022-02-26T13:40:33.505Z"
   },
   {
    "duration": 36,
    "start_time": "2022-02-26T13:40:35.023Z"
   },
   {
    "duration": 27,
    "start_time": "2022-02-26T13:40:35.063Z"
   },
   {
    "duration": 13,
    "start_time": "2022-02-26T13:40:35.093Z"
   },
   {
    "duration": 79,
    "start_time": "2022-02-26T13:40:35.109Z"
   },
   {
    "duration": 13,
    "start_time": "2022-02-26T13:40:35.191Z"
   },
   {
    "duration": 16,
    "start_time": "2022-02-26T13:40:35.206Z"
   },
   {
    "duration": 5,
    "start_time": "2022-02-26T13:40:35.225Z"
   },
   {
    "duration": 5,
    "start_time": "2022-02-26T13:40:35.233Z"
   },
   {
    "duration": 50,
    "start_time": "2022-02-26T13:40:35.240Z"
   },
   {
    "duration": 7,
    "start_time": "2022-02-26T13:40:35.293Z"
   },
   {
    "duration": 16,
    "start_time": "2022-02-26T13:40:35.302Z"
   },
   {
    "duration": 12,
    "start_time": "2022-02-26T13:40:35.320Z"
   },
   {
    "duration": 71,
    "start_time": "2022-02-26T13:40:35.334Z"
   },
   {
    "duration": 371,
    "start_time": "2022-02-26T13:40:35.407Z"
   },
   {
    "duration": 11,
    "start_time": "2022-02-26T13:43:31.274Z"
   },
   {
    "duration": 212,
    "start_time": "2022-02-26T13:43:51.889Z"
   },
   {
    "duration": 10,
    "start_time": "2022-02-26T13:44:34.046Z"
   },
   {
    "duration": 1440,
    "start_time": "2022-02-26T13:44:47.776Z"
   },
   {
    "duration": 32,
    "start_time": "2022-02-26T13:44:49.218Z"
   },
   {
    "duration": 22,
    "start_time": "2022-02-26T13:44:49.253Z"
   },
   {
    "duration": 13,
    "start_time": "2022-02-26T13:44:49.287Z"
   },
   {
    "duration": 85,
    "start_time": "2022-02-26T13:44:49.302Z"
   },
   {
    "duration": 10,
    "start_time": "2022-02-26T13:44:49.389Z"
   },
   {
    "duration": 19,
    "start_time": "2022-02-26T13:44:49.402Z"
   },
   {
    "duration": 6,
    "start_time": "2022-02-26T13:44:49.424Z"
   },
   {
    "duration": 5,
    "start_time": "2022-02-26T13:44:49.434Z"
   },
   {
    "duration": 46,
    "start_time": "2022-02-26T13:44:49.442Z"
   },
   {
    "duration": 16,
    "start_time": "2022-02-26T13:44:49.491Z"
   },
   {
    "duration": 17,
    "start_time": "2022-02-26T13:44:49.509Z"
   },
   {
    "duration": 61,
    "start_time": "2022-02-26T13:44:49.528Z"
   },
   {
    "duration": 622,
    "start_time": "2022-02-26T13:44:49.591Z"
   },
   {
    "duration": 402,
    "start_time": "2022-02-26T13:44:50.215Z"
   },
   {
    "duration": 12,
    "start_time": "2022-02-26T13:45:05.187Z"
   },
   {
    "duration": 1937,
    "start_time": "2022-02-26T13:45:33.351Z"
   },
   {
    "duration": 246,
    "start_time": "2022-02-26T13:45:41.449Z"
   },
   {
    "duration": 218,
    "start_time": "2022-02-26T13:46:48.914Z"
   },
   {
    "duration": 1411,
    "start_time": "2022-02-26T13:46:59.011Z"
   },
   {
    "duration": 35,
    "start_time": "2022-02-26T13:47:00.425Z"
   },
   {
    "duration": 27,
    "start_time": "2022-02-26T13:47:00.463Z"
   },
   {
    "duration": 15,
    "start_time": "2022-02-26T13:47:00.493Z"
   },
   {
    "duration": 84,
    "start_time": "2022-02-26T13:47:00.510Z"
   },
   {
    "duration": 10,
    "start_time": "2022-02-26T13:47:00.596Z"
   },
   {
    "duration": 37,
    "start_time": "2022-02-26T13:47:00.609Z"
   },
   {
    "duration": 5,
    "start_time": "2022-02-26T13:47:00.648Z"
   },
   {
    "duration": 15,
    "start_time": "2022-02-26T13:47:00.656Z"
   },
   {
    "duration": 21,
    "start_time": "2022-02-26T13:47:00.674Z"
   },
   {
    "duration": 15,
    "start_time": "2022-02-26T13:47:00.697Z"
   },
   {
    "duration": 22,
    "start_time": "2022-02-26T13:47:00.715Z"
   },
   {
    "duration": 401,
    "start_time": "2022-02-26T13:47:00.740Z"
   },
   {
    "duration": 3,
    "start_time": "2022-02-26T13:47:01.140Z"
   },
   {
    "duration": 2,
    "start_time": "2022-02-26T13:47:01.143Z"
   },
   {
    "duration": 11,
    "start_time": "2022-02-26T13:47:16.746Z"
   },
   {
    "duration": 5,
    "start_time": "2022-02-26T13:47:25.661Z"
   },
   {
    "duration": 1748,
    "start_time": "2022-02-26T13:47:31.882Z"
   },
   {
    "duration": 33,
    "start_time": "2022-02-26T13:47:33.632Z"
   },
   {
    "duration": 35,
    "start_time": "2022-02-26T13:47:33.669Z"
   },
   {
    "duration": 15,
    "start_time": "2022-02-26T13:47:33.707Z"
   },
   {
    "duration": 87,
    "start_time": "2022-02-26T13:47:33.726Z"
   },
   {
    "duration": 10,
    "start_time": "2022-02-26T13:47:33.815Z"
   },
   {
    "duration": 15,
    "start_time": "2022-02-26T13:47:33.827Z"
   },
   {
    "duration": 6,
    "start_time": "2022-02-26T13:47:33.846Z"
   },
   {
    "duration": 34,
    "start_time": "2022-02-26T13:47:33.854Z"
   },
   {
    "duration": 27,
    "start_time": "2022-02-26T13:47:33.891Z"
   },
   {
    "duration": 23,
    "start_time": "2022-02-26T13:47:33.920Z"
   },
   {
    "duration": 21,
    "start_time": "2022-02-26T13:47:33.946Z"
   },
   {
    "duration": 18,
    "start_time": "2022-02-26T13:47:33.969Z"
   },
   {
    "duration": 31,
    "start_time": "2022-02-26T13:47:33.989Z"
   },
   {
    "duration": 5,
    "start_time": "2022-02-26T13:47:34.022Z"
   },
   {
    "duration": 1385,
    "start_time": "2022-02-26T13:49:16.319Z"
   },
   {
    "duration": 30,
    "start_time": "2022-02-26T13:49:17.707Z"
   },
   {
    "duration": 23,
    "start_time": "2022-02-26T13:49:17.741Z"
   },
   {
    "duration": 25,
    "start_time": "2022-02-26T13:49:17.767Z"
   },
   {
    "duration": 60,
    "start_time": "2022-02-26T13:49:17.794Z"
   },
   {
    "duration": 35,
    "start_time": "2022-02-26T13:49:17.856Z"
   },
   {
    "duration": 19,
    "start_time": "2022-02-26T13:49:17.893Z"
   },
   {
    "duration": 4,
    "start_time": "2022-02-26T13:49:17.914Z"
   },
   {
    "duration": 9,
    "start_time": "2022-02-26T13:49:17.922Z"
   },
   {
    "duration": 11,
    "start_time": "2022-02-26T13:49:17.933Z"
   },
   {
    "duration": 46,
    "start_time": "2022-02-26T13:49:17.946Z"
   },
   {
    "duration": 17,
    "start_time": "2022-02-26T13:49:17.994Z"
   },
   {
    "duration": 19,
    "start_time": "2022-02-26T13:49:18.013Z"
   },
   {
    "duration": 15,
    "start_time": "2022-02-26T13:49:18.034Z"
   },
   {
    "duration": 57,
    "start_time": "2022-02-26T13:49:18.051Z"
   },
   {
    "duration": 5,
    "start_time": "2022-02-26T13:49:18.111Z"
   },
   {
    "duration": 1378,
    "start_time": "2022-02-26T14:06:22.640Z"
   },
   {
    "duration": 37,
    "start_time": "2022-02-26T14:06:24.020Z"
   },
   {
    "duration": 32,
    "start_time": "2022-02-26T14:06:24.061Z"
   },
   {
    "duration": 15,
    "start_time": "2022-02-26T14:06:24.097Z"
   },
   {
    "duration": 85,
    "start_time": "2022-02-26T14:06:24.114Z"
   },
   {
    "duration": 12,
    "start_time": "2022-02-26T14:06:24.201Z"
   },
   {
    "duration": 17,
    "start_time": "2022-02-26T14:06:24.216Z"
   },
   {
    "duration": 5,
    "start_time": "2022-02-26T14:06:24.235Z"
   },
   {
    "duration": 44,
    "start_time": "2022-02-26T14:06:24.244Z"
   },
   {
    "duration": 8,
    "start_time": "2022-02-26T14:06:24.292Z"
   },
   {
    "duration": 11,
    "start_time": "2022-02-26T14:06:24.303Z"
   },
   {
    "duration": 19,
    "start_time": "2022-02-26T14:06:24.317Z"
   },
   {
    "duration": 53,
    "start_time": "2022-02-26T14:06:24.338Z"
   },
   {
    "duration": 17,
    "start_time": "2022-02-26T14:06:24.393Z"
   },
   {
    "duration": 32,
    "start_time": "2022-02-26T14:06:24.413Z"
   },
   {
    "duration": 6,
    "start_time": "2022-02-26T14:06:24.448Z"
   },
   {
    "duration": 8,
    "start_time": "2022-02-26T14:06:24.488Z"
   },
   {
    "duration": 9,
    "start_time": "2022-02-26T14:06:24.498Z"
   },
   {
    "duration": 11,
    "start_time": "2022-02-26T14:06:24.509Z"
   },
   {
    "duration": 10,
    "start_time": "2022-02-26T14:06:24.522Z"
   },
   {
    "duration": 7,
    "start_time": "2022-02-26T14:06:24.535Z"
   },
   {
    "duration": 44,
    "start_time": "2022-02-26T14:06:24.545Z"
   },
   {
    "duration": 10,
    "start_time": "2022-02-26T14:16:45.112Z"
   },
   {
    "duration": 15,
    "start_time": "2022-02-26T14:17:14.182Z"
   },
   {
    "duration": 1432,
    "start_time": "2022-02-26T14:23:22.078Z"
   },
   {
    "duration": 30,
    "start_time": "2022-02-26T14:23:23.512Z"
   },
   {
    "duration": 22,
    "start_time": "2022-02-26T14:23:23.544Z"
   },
   {
    "duration": 11,
    "start_time": "2022-02-26T14:23:23.586Z"
   },
   {
    "duration": 59,
    "start_time": "2022-02-26T14:23:23.600Z"
   },
   {
    "duration": 32,
    "start_time": "2022-02-26T14:23:23.662Z"
   },
   {
    "duration": 19,
    "start_time": "2022-02-26T14:23:23.696Z"
   },
   {
    "duration": 5,
    "start_time": "2022-02-26T14:23:23.718Z"
   },
   {
    "duration": 4,
    "start_time": "2022-02-26T14:23:23.726Z"
   },
   {
    "duration": 7,
    "start_time": "2022-02-26T14:23:23.733Z"
   },
   {
    "duration": 50,
    "start_time": "2022-02-26T14:23:23.742Z"
   },
   {
    "duration": 17,
    "start_time": "2022-02-26T14:23:23.794Z"
   },
   {
    "duration": 11,
    "start_time": "2022-02-26T14:23:23.814Z"
   },
   {
    "duration": 15,
    "start_time": "2022-02-26T14:23:23.827Z"
   },
   {
    "duration": 68,
    "start_time": "2022-02-26T14:23:23.844Z"
   },
   {
    "duration": 4,
    "start_time": "2022-02-26T14:23:23.914Z"
   },
   {
    "duration": 15,
    "start_time": "2022-02-26T14:23:23.920Z"
   },
   {
    "duration": 5,
    "start_time": "2022-02-26T14:23:23.937Z"
   },
   {
    "duration": 6,
    "start_time": "2022-02-26T14:23:23.945Z"
   },
   {
    "duration": 40,
    "start_time": "2022-02-26T14:23:23.953Z"
   },
   {
    "duration": 8,
    "start_time": "2022-02-26T14:23:23.996Z"
   },
   {
    "duration": 7,
    "start_time": "2022-02-26T14:23:24.007Z"
   },
   {
    "duration": 17,
    "start_time": "2022-02-26T14:23:24.017Z"
   },
   {
    "duration": 3,
    "start_time": "2022-02-26T14:23:24.037Z"
   },
   {
    "duration": 119,
    "start_time": "2022-02-26T14:23:24.042Z"
   },
   {
    "duration": 73,
    "start_time": "2022-02-26T14:25:29.828Z"
   },
   {
    "duration": 591,
    "start_time": "2022-02-26T14:25:49.339Z"
   },
   {
    "duration": 528,
    "start_time": "2022-02-26T14:26:19.264Z"
   },
   {
    "duration": 67,
    "start_time": "2022-02-26T14:27:39.440Z"
   },
   {
    "duration": 174,
    "start_time": "2022-02-26T14:32:45.636Z"
   },
   {
    "duration": 5124,
    "start_time": "2022-02-26T14:36:16.684Z"
   },
   {
    "duration": 30,
    "start_time": "2022-02-26T14:37:17.409Z"
   },
   {
    "duration": 11,
    "start_time": "2022-02-26T14:39:30.939Z"
   },
   {
    "duration": 6,
    "start_time": "2022-02-26T14:39:35.835Z"
   },
   {
    "duration": 9,
    "start_time": "2022-02-26T14:39:42.173Z"
   },
   {
    "duration": 9,
    "start_time": "2022-02-26T14:39:54.102Z"
   },
   {
    "duration": 9,
    "start_time": "2022-02-26T14:40:26.573Z"
   },
   {
    "duration": 343,
    "start_time": "2022-02-26T14:52:31.871Z"
   },
   {
    "duration": 339,
    "start_time": "2022-02-26T14:55:23.576Z"
   },
   {
    "duration": 464,
    "start_time": "2022-02-26T14:55:35.528Z"
   },
   {
    "duration": 469,
    "start_time": "2022-02-26T14:56:05.520Z"
   },
   {
    "duration": 80,
    "start_time": "2022-02-26T14:56:41.823Z"
   },
   {
    "duration": 428,
    "start_time": "2022-02-26T14:56:51.265Z"
   },
   {
    "duration": 449,
    "start_time": "2022-02-26T14:57:05.540Z"
   },
   {
    "duration": 9,
    "start_time": "2022-02-26T14:58:27.725Z"
   },
   {
    "duration": 6,
    "start_time": "2022-02-26T14:58:41.762Z"
   },
   {
    "duration": 342,
    "start_time": "2022-02-26T15:07:53.347Z"
   },
   {
    "duration": 343,
    "start_time": "2022-02-26T15:08:56.746Z"
   },
   {
    "duration": 487,
    "start_time": "2022-02-26T15:11:30.200Z"
   },
   {
    "duration": 8,
    "start_time": "2022-02-26T15:13:48.472Z"
   },
   {
    "duration": 283,
    "start_time": "2022-02-26T15:14:00.590Z"
   },
   {
    "duration": 229,
    "start_time": "2022-02-26T15:14:31.612Z"
   },
   {
    "duration": 8,
    "start_time": "2022-02-26T15:14:37.863Z"
   },
   {
    "duration": 7,
    "start_time": "2022-02-26T15:15:34.478Z"
   },
   {
    "duration": 8,
    "start_time": "2022-02-26T15:15:44.770Z"
   },
   {
    "duration": 8,
    "start_time": "2022-02-26T15:16:09.066Z"
   },
   {
    "duration": 8,
    "start_time": "2022-02-26T15:16:25.341Z"
   },
   {
    "duration": 249,
    "start_time": "2022-02-26T15:25:22.010Z"
   },
   {
    "duration": 6,
    "start_time": "2022-02-26T15:26:17.103Z"
   },
   {
    "duration": 38,
    "start_time": "2022-02-26T15:26:17.111Z"
   },
   {
    "duration": 35,
    "start_time": "2022-02-26T15:26:17.152Z"
   },
   {
    "duration": 16,
    "start_time": "2022-02-26T15:26:17.190Z"
   },
   {
    "duration": 81,
    "start_time": "2022-02-26T15:26:17.209Z"
   },
   {
    "duration": 11,
    "start_time": "2022-02-26T15:26:17.293Z"
   },
   {
    "duration": 15,
    "start_time": "2022-02-26T15:26:17.306Z"
   },
   {
    "duration": 5,
    "start_time": "2022-02-26T15:26:17.323Z"
   },
   {
    "duration": 4,
    "start_time": "2022-02-26T15:26:17.333Z"
   },
   {
    "duration": 5,
    "start_time": "2022-02-26T15:26:17.389Z"
   },
   {
    "duration": 11,
    "start_time": "2022-02-26T15:26:17.397Z"
   },
   {
    "duration": 19,
    "start_time": "2022-02-26T15:26:17.411Z"
   },
   {
    "duration": 58,
    "start_time": "2022-02-26T15:26:17.433Z"
   },
   {
    "duration": 25,
    "start_time": "2022-02-26T15:26:17.494Z"
   },
   {
    "duration": 34,
    "start_time": "2022-02-26T15:26:17.522Z"
   },
   {
    "duration": 29,
    "start_time": "2022-02-26T15:26:17.559Z"
   },
   {
    "duration": 10,
    "start_time": "2022-02-26T15:26:17.591Z"
   },
   {
    "duration": 5,
    "start_time": "2022-02-26T15:26:17.604Z"
   },
   {
    "duration": 12,
    "start_time": "2022-02-26T15:26:17.612Z"
   },
   {
    "duration": 10,
    "start_time": "2022-02-26T15:26:17.626Z"
   },
   {
    "duration": 50,
    "start_time": "2022-02-26T15:26:17.638Z"
   },
   {
    "duration": 4,
    "start_time": "2022-02-26T15:26:17.691Z"
   },
   {
    "duration": 18,
    "start_time": "2022-02-26T15:26:17.698Z"
   },
   {
    "duration": 6,
    "start_time": "2022-02-26T15:26:17.718Z"
   },
   {
    "duration": 123,
    "start_time": "2022-02-26T15:26:17.727Z"
   },
   {
    "duration": 198,
    "start_time": "2022-02-26T15:26:17.852Z"
   },
   {
    "duration": 6239,
    "start_time": "2022-02-26T15:26:18.054Z"
   },
   {
    "duration": 95,
    "start_time": "2022-02-26T15:26:24.297Z"
   },
   {
    "duration": 97,
    "start_time": "2022-02-26T15:26:24.395Z"
   },
   {
    "duration": 9,
    "start_time": "2022-02-26T15:26:24.495Z"
   },
   {
    "duration": 12,
    "start_time": "2022-02-26T15:26:24.506Z"
   },
   {
    "duration": 74,
    "start_time": "2022-02-26T15:26:24.588Z"
   },
   {
    "duration": 23,
    "start_time": "2022-02-26T15:26:24.664Z"
   },
   {
    "duration": 358,
    "start_time": "2022-02-26T15:32:10.130Z"
   },
   {
    "duration": 1317,
    "start_time": "2022-02-26T15:35:47.146Z"
   },
   {
    "duration": 36,
    "start_time": "2022-02-26T15:35:48.465Z"
   },
   {
    "duration": 29,
    "start_time": "2022-02-26T15:35:48.504Z"
   },
   {
    "duration": 18,
    "start_time": "2022-02-26T15:35:48.537Z"
   },
   {
    "duration": 93,
    "start_time": "2022-02-26T15:35:48.558Z"
   },
   {
    "duration": 14,
    "start_time": "2022-02-26T15:35:48.654Z"
   },
   {
    "duration": 35,
    "start_time": "2022-02-26T15:35:48.671Z"
   },
   {
    "duration": 7,
    "start_time": "2022-02-26T15:35:48.708Z"
   },
   {
    "duration": 7,
    "start_time": "2022-02-26T15:35:48.721Z"
   },
   {
    "duration": 8,
    "start_time": "2022-02-26T15:35:48.732Z"
   },
   {
    "duration": 54,
    "start_time": "2022-02-26T15:35:48.742Z"
   },
   {
    "duration": 18,
    "start_time": "2022-02-26T15:35:48.799Z"
   },
   {
    "duration": 15,
    "start_time": "2022-02-26T15:35:48.820Z"
   },
   {
    "duration": 57,
    "start_time": "2022-02-26T15:35:48.838Z"
   },
   {
    "duration": 33,
    "start_time": "2022-02-26T15:35:48.898Z"
   },
   {
    "duration": 6,
    "start_time": "2022-02-26T15:35:48.934Z"
   },
   {
    "duration": 44,
    "start_time": "2022-02-26T15:35:48.943Z"
   },
   {
    "duration": 7,
    "start_time": "2022-02-26T15:35:48.991Z"
   },
   {
    "duration": 7,
    "start_time": "2022-02-26T15:35:49.001Z"
   },
   {
    "duration": 9,
    "start_time": "2022-02-26T15:35:49.011Z"
   },
   {
    "duration": 6,
    "start_time": "2022-02-26T15:35:49.023Z"
   },
   {
    "duration": 7,
    "start_time": "2022-02-26T15:35:49.032Z"
   },
   {
    "duration": 57,
    "start_time": "2022-02-26T15:35:49.042Z"
   },
   {
    "duration": 3,
    "start_time": "2022-02-26T15:35:49.102Z"
   },
   {
    "duration": 95,
    "start_time": "2022-02-26T15:35:49.107Z"
   },
   {
    "duration": 190,
    "start_time": "2022-02-26T15:35:49.205Z"
   },
   {
    "duration": 5129,
    "start_time": "2022-02-26T15:35:49.399Z"
   },
   {
    "duration": 66,
    "start_time": "2022-02-26T15:35:54.530Z"
   },
   {
    "duration": 98,
    "start_time": "2022-02-26T15:35:54.600Z"
   },
   {
    "duration": 8,
    "start_time": "2022-02-26T15:35:54.700Z"
   },
   {
    "duration": 9,
    "start_time": "2022-02-26T15:35:54.710Z"
   },
   {
    "duration": 48,
    "start_time": "2022-02-26T15:35:54.787Z"
   },
   {
    "duration": 24,
    "start_time": "2022-02-26T15:35:54.838Z"
   },
   {
    "duration": 11,
    "start_time": "2022-02-26T15:35:54.888Z"
   },
   {
    "duration": 979,
    "start_time": "2022-02-26T15:38:46.380Z"
   },
   {
    "duration": 21,
    "start_time": "2022-02-26T15:41:50.828Z"
   },
   {
    "duration": 34,
    "start_time": "2022-02-26T15:43:39.628Z"
   },
   {
    "duration": 15,
    "start_time": "2022-02-26T15:44:46.012Z"
   },
   {
    "duration": 10,
    "start_time": "2022-02-26T15:45:55.907Z"
   },
   {
    "duration": 96,
    "start_time": "2022-02-26T16:00:50.993Z"
   },
   {
    "duration": 451,
    "start_time": "2022-02-26T16:05:55.743Z"
   },
   {
    "duration": 231,
    "start_time": "2022-02-26T16:07:58.267Z"
   },
   {
    "duration": 2479,
    "start_time": "2022-02-26T16:08:09.310Z"
   },
   {
    "duration": 2382,
    "start_time": "2022-02-26T16:08:34.805Z"
   },
   {
    "duration": 2332,
    "start_time": "2022-02-26T16:08:49.157Z"
   },
   {
    "duration": 2236,
    "start_time": "2022-02-26T16:09:33.853Z"
   },
   {
    "duration": 2297,
    "start_time": "2022-02-26T16:09:43.291Z"
   },
   {
    "duration": 234,
    "start_time": "2022-02-26T16:12:07.999Z"
   },
   {
    "duration": 2277,
    "start_time": "2022-02-26T16:12:13.917Z"
   },
   {
    "duration": 109,
    "start_time": "2022-02-26T16:16:48.778Z"
   },
   {
    "duration": 521,
    "start_time": "2022-02-26T16:18:11.868Z"
   },
   {
    "duration": 1572,
    "start_time": "2022-02-26T16:20:56.117Z"
   },
   {
    "duration": 527,
    "start_time": "2022-02-26T16:21:15.765Z"
   },
   {
    "duration": 1578,
    "start_time": "2022-02-26T16:22:30.012Z"
   },
   {
    "duration": 18,
    "start_time": "2022-02-26T16:23:50.672Z"
   },
   {
    "duration": 219,
    "start_time": "2022-02-26T16:25:09.876Z"
   },
   {
    "duration": 22,
    "start_time": "2022-02-26T16:26:08.463Z"
   },
   {
    "duration": 21,
    "start_time": "2022-02-26T16:29:27.166Z"
   },
   {
    "duration": 20,
    "start_time": "2022-02-26T16:29:32.956Z"
   },
   {
    "duration": 22,
    "start_time": "2022-02-26T16:29:36.202Z"
   },
   {
    "duration": 605,
    "start_time": "2022-02-26T16:30:26.283Z"
   },
   {
    "duration": 1685,
    "start_time": "2022-02-26T16:30:47.909Z"
   },
   {
    "duration": 35,
    "start_time": "2022-02-26T16:32:53.771Z"
   },
   {
    "duration": 6,
    "start_time": "2022-02-26T16:39:11.000Z"
   },
   {
    "duration": 332,
    "start_time": "2022-02-26T16:39:12.290Z"
   },
   {
    "duration": 243,
    "start_time": "2022-02-26T16:39:17.305Z"
   },
   {
    "duration": 464,
    "start_time": "2022-02-26T16:40:12.058Z"
   },
   {
    "duration": 67,
    "start_time": "2022-02-26T16:42:10.781Z"
   },
   {
    "duration": 1524,
    "start_time": "2022-02-26T16:42:45.954Z"
   },
   {
    "duration": 232,
    "start_time": "2022-02-26T16:43:11.457Z"
   },
   {
    "duration": 197,
    "start_time": "2022-02-26T16:43:25.090Z"
   },
   {
    "duration": 68,
    "start_time": "2022-02-26T16:43:42.829Z"
   },
   {
    "duration": 93,
    "start_time": "2022-02-26T16:43:57.303Z"
   },
   {
    "duration": 134,
    "start_time": "2022-02-26T16:48:52.561Z"
   },
   {
    "duration": 130,
    "start_time": "2022-02-26T16:48:56.059Z"
   },
   {
    "duration": 234,
    "start_time": "2022-02-26T16:48:59.654Z"
   },
   {
    "duration": 1396,
    "start_time": "2022-02-26T16:49:11.263Z"
   },
   {
    "duration": 1429,
    "start_time": "2022-02-26T16:49:52.985Z"
   },
   {
    "duration": 10,
    "start_time": "2022-02-26T16:51:07.565Z"
   },
   {
    "duration": 230,
    "start_time": "2022-02-26T16:51:26.312Z"
   },
   {
    "duration": 233,
    "start_time": "2022-02-26T16:51:38.896Z"
   },
   {
    "duration": 14,
    "start_time": "2022-02-26T16:52:35.718Z"
   },
   {
    "duration": 270,
    "start_time": "2022-02-26T16:54:03.626Z"
   },
   {
    "duration": 71,
    "start_time": "2022-02-26T16:54:45.074Z"
   },
   {
    "duration": 68,
    "start_time": "2022-02-26T16:55:16.234Z"
   },
   {
    "duration": 266,
    "start_time": "2022-02-26T16:59:23.519Z"
   },
   {
    "duration": 1420,
    "start_time": "2022-02-26T17:00:00.127Z"
   },
   {
    "duration": 30,
    "start_time": "2022-02-26T17:00:01.550Z"
   },
   {
    "duration": 29,
    "start_time": "2022-02-26T17:00:01.583Z"
   },
   {
    "duration": 64,
    "start_time": "2022-02-26T17:00:01.615Z"
   },
   {
    "duration": 103,
    "start_time": "2022-02-26T17:00:01.681Z"
   },
   {
    "duration": 10,
    "start_time": "2022-02-26T17:00:01.786Z"
   },
   {
    "duration": 77,
    "start_time": "2022-02-26T17:00:01.798Z"
   },
   {
    "duration": 38,
    "start_time": "2022-02-26T17:00:01.877Z"
   },
   {
    "duration": 50,
    "start_time": "2022-02-26T17:00:01.919Z"
   },
   {
    "duration": 47,
    "start_time": "2022-02-26T17:00:01.972Z"
   },
   {
    "duration": 47,
    "start_time": "2022-02-26T17:00:02.021Z"
   },
   {
    "duration": 83,
    "start_time": "2022-02-26T17:00:02.071Z"
   },
   {
    "duration": 51,
    "start_time": "2022-02-26T17:00:02.157Z"
   },
   {
    "duration": 68,
    "start_time": "2022-02-26T17:00:02.210Z"
   },
   {
    "duration": 88,
    "start_time": "2022-02-26T17:00:02.280Z"
   },
   {
    "duration": 113,
    "start_time": "2022-02-26T17:00:02.370Z"
   },
   {
    "duration": 67,
    "start_time": "2022-02-26T17:00:02.485Z"
   },
   {
    "duration": 26,
    "start_time": "2022-02-26T17:00:02.554Z"
   },
   {
    "duration": 31,
    "start_time": "2022-02-26T17:00:02.582Z"
   },
   {
    "duration": 21,
    "start_time": "2022-02-26T17:00:02.615Z"
   },
   {
    "duration": 20,
    "start_time": "2022-02-26T17:00:02.639Z"
   },
   {
    "duration": 10,
    "start_time": "2022-02-26T17:00:02.662Z"
   },
   {
    "duration": 103,
    "start_time": "2022-02-26T17:00:02.674Z"
   },
   {
    "duration": 152,
    "start_time": "2022-02-26T17:00:02.779Z"
   },
   {
    "duration": 135,
    "start_time": "2022-02-26T17:00:02.934Z"
   },
   {
    "duration": 175,
    "start_time": "2022-02-26T17:00:03.071Z"
   },
   {
    "duration": 5506,
    "start_time": "2022-02-26T17:00:03.251Z"
   },
   {
    "duration": 51,
    "start_time": "2022-02-26T17:00:08.761Z"
   },
   {
    "duration": 100,
    "start_time": "2022-02-26T17:00:08.889Z"
   },
   {
    "duration": 8,
    "start_time": "2022-02-26T17:00:08.991Z"
   },
   {
    "duration": 10,
    "start_time": "2022-02-26T17:00:09.002Z"
   },
   {
    "duration": 79,
    "start_time": "2022-02-26T17:00:09.014Z"
   },
   {
    "duration": 15,
    "start_time": "2022-02-26T17:00:09.095Z"
   },
   {
    "duration": 1003,
    "start_time": "2022-02-26T17:00:09.112Z"
   },
   {
    "duration": 14,
    "start_time": "2022-02-26T17:00:10.117Z"
   },
   {
    "duration": 153,
    "start_time": "2022-02-26T17:00:10.134Z"
   },
   {
    "duration": 105,
    "start_time": "2022-02-26T17:00:10.290Z"
   },
   {
    "duration": 13,
    "start_time": "2022-02-26T17:00:10.397Z"
   },
   {
    "duration": 2308,
    "start_time": "2022-02-26T17:00:10.489Z"
   },
   {
    "duration": 25,
    "start_time": "2022-02-26T17:00:12.889Z"
   },
   {
    "duration": 680,
    "start_time": "2022-02-26T17:00:12.916Z"
   },
   {
    "duration": 20,
    "start_time": "2022-02-26T17:00:13.688Z"
   },
   {
    "duration": 79,
    "start_time": "2022-02-26T17:00:13.710Z"
   },
   {
    "duration": 95,
    "start_time": "2022-02-26T17:00:13.792Z"
   },
   {
    "duration": 703,
    "start_time": "2022-02-26T17:00:13.890Z"
   },
   {
    "duration": 592,
    "start_time": "2022-02-26T17:00:14.597Z"
   },
   {
    "duration": 296,
    "start_time": "2022-02-26T17:00:15.193Z"
   },
   {
    "duration": 2013,
    "start_time": "2022-02-26T17:00:15.492Z"
   },
   {
    "duration": 182,
    "start_time": "2022-02-26T17:00:17.507Z"
   },
   {
    "duration": 9,
    "start_time": "2022-02-26T17:00:17.691Z"
   },
   {
    "duration": 18,
    "start_time": "2022-02-26T17:00:17.702Z"
   },
   {
    "duration": 94,
    "start_time": "2022-02-26T17:00:17.723Z"
   },
   {
    "duration": 328,
    "start_time": "2022-02-26T17:00:17.820Z"
   },
   {
    "duration": 647,
    "start_time": "2022-02-26T17:11:24.219Z"
   },
   {
    "duration": 22958,
    "start_time": "2022-02-26T17:12:14.549Z"
   },
   {
    "duration": 30,
    "start_time": "2022-02-26T17:13:22.318Z"
   },
   {
    "duration": 1437,
    "start_time": "2022-02-26T17:17:06.191Z"
   },
   {
    "duration": 38,
    "start_time": "2022-02-26T17:17:07.631Z"
   },
   {
    "duration": 29,
    "start_time": "2022-02-26T17:17:07.672Z"
   },
   {
    "duration": 13,
    "start_time": "2022-02-26T17:17:07.705Z"
   },
   {
    "duration": 91,
    "start_time": "2022-02-26T17:17:07.721Z"
   },
   {
    "duration": 8,
    "start_time": "2022-02-26T17:17:07.814Z"
   },
   {
    "duration": 17,
    "start_time": "2022-02-26T17:17:07.825Z"
   },
   {
    "duration": 5,
    "start_time": "2022-02-26T17:17:07.845Z"
   },
   {
    "duration": 37,
    "start_time": "2022-02-26T17:17:07.852Z"
   },
   {
    "duration": 8,
    "start_time": "2022-02-26T17:17:07.891Z"
   },
   {
    "duration": 13,
    "start_time": "2022-02-26T17:17:07.901Z"
   },
   {
    "duration": 19,
    "start_time": "2022-02-26T17:17:07.917Z"
   },
   {
    "duration": 49,
    "start_time": "2022-02-26T17:17:07.938Z"
   },
   {
    "duration": 17,
    "start_time": "2022-02-26T17:17:07.989Z"
   },
   {
    "duration": 34,
    "start_time": "2022-02-26T17:17:08.008Z"
   },
   {
    "duration": 6,
    "start_time": "2022-02-26T17:17:08.044Z"
   },
   {
    "duration": 42,
    "start_time": "2022-02-26T17:17:08.052Z"
   },
   {
    "duration": 5,
    "start_time": "2022-02-26T17:17:08.096Z"
   },
   {
    "duration": 6,
    "start_time": "2022-02-26T17:17:08.104Z"
   },
   {
    "duration": 10,
    "start_time": "2022-02-26T17:17:08.112Z"
   },
   {
    "duration": 5,
    "start_time": "2022-02-26T17:17:08.124Z"
   },
   {
    "duration": 6,
    "start_time": "2022-02-26T17:17:08.132Z"
   },
   {
    "duration": 16,
    "start_time": "2022-02-26T17:17:08.188Z"
   },
   {
    "duration": 5,
    "start_time": "2022-02-26T17:17:08.208Z"
   },
   {
    "duration": 98,
    "start_time": "2022-02-26T17:17:08.216Z"
   },
   {
    "duration": 558,
    "start_time": "2022-02-26T17:17:08.316Z"
   },
   {
    "duration": 22864,
    "start_time": "2022-02-26T17:17:08.877Z"
   },
   {
    "duration": 143,
    "start_time": "2022-02-26T17:17:31.743Z"
   },
   {
    "duration": 102,
    "start_time": "2022-02-26T17:17:31.890Z"
   },
   {
    "duration": 8,
    "start_time": "2022-02-26T17:17:31.996Z"
   },
   {
    "duration": 11,
    "start_time": "2022-02-26T17:17:32.006Z"
   },
   {
    "duration": 81,
    "start_time": "2022-02-26T17:17:32.019Z"
   },
   {
    "duration": 15,
    "start_time": "2022-02-26T17:17:32.103Z"
   },
   {
    "duration": 997,
    "start_time": "2022-02-26T17:17:32.120Z"
   },
   {
    "duration": 14,
    "start_time": "2022-02-26T17:17:33.119Z"
   },
   {
    "duration": 61,
    "start_time": "2022-02-26T17:17:33.135Z"
   },
   {
    "duration": 102,
    "start_time": "2022-02-26T17:17:33.199Z"
   },
   {
    "duration": 86,
    "start_time": "2022-02-26T17:17:33.304Z"
   },
   {
    "duration": 1705,
    "start_time": "2022-02-26T17:17:33.393Z"
   },
   {
    "duration": 22,
    "start_time": "2022-02-26T17:17:35.188Z"
   },
   {
    "duration": 584,
    "start_time": "2022-02-26T17:17:35.212Z"
   },
   {
    "duration": 112,
    "start_time": "2022-02-26T17:17:35.890Z"
   },
   {
    "duration": 82,
    "start_time": "2022-02-26T17:17:36.004Z"
   },
   {
    "duration": 99,
    "start_time": "2022-02-26T17:17:36.089Z"
   },
   {
    "duration": 396,
    "start_time": "2022-02-26T17:17:36.190Z"
   },
   {
    "duration": 599,
    "start_time": "2022-02-26T17:17:36.590Z"
   },
   {
    "duration": 243,
    "start_time": "2022-02-26T17:17:37.194Z"
   },
   {
    "duration": 1531,
    "start_time": "2022-02-26T17:17:37.439Z"
   },
   {
    "duration": 222,
    "start_time": "2022-02-26T17:17:38.973Z"
   },
   {
    "duration": 9,
    "start_time": "2022-02-26T17:17:39.197Z"
   },
   {
    "duration": 16,
    "start_time": "2022-02-26T17:17:39.208Z"
   },
   {
    "duration": 111,
    "start_time": "2022-02-26T17:17:39.226Z"
   },
   {
    "duration": 335,
    "start_time": "2022-02-26T17:17:39.340Z"
   },
   {
    "duration": 33,
    "start_time": "2022-02-26T17:27:44.993Z"
   },
   {
    "duration": 16,
    "start_time": "2022-02-26T17:28:15.503Z"
   },
   {
    "duration": 374,
    "start_time": "2022-02-26T17:28:28.333Z"
   },
   {
    "duration": 435,
    "start_time": "2022-02-26T17:28:33.946Z"
   },
   {
    "duration": 17,
    "start_time": "2022-02-26T17:28:48.317Z"
   },
   {
    "duration": 88,
    "start_time": "2022-02-26T17:29:11.904Z"
   },
   {
    "duration": 5,
    "start_time": "2022-02-26T17:31:22.772Z"
   },
   {
    "duration": 15,
    "start_time": "2022-02-26T17:31:25.348Z"
   },
   {
    "duration": 17,
    "start_time": "2022-02-26T17:32:21.586Z"
   },
   {
    "duration": 57,
    "start_time": "2022-02-26T17:32:40.433Z"
   },
   {
    "duration": 112,
    "start_time": "2022-02-26T17:32:50.179Z"
   },
   {
    "duration": 15,
    "start_time": "2022-02-26T17:32:54.720Z"
   },
   {
    "duration": 55,
    "start_time": "2022-02-26T17:34:01.934Z"
   },
   {
    "duration": 540,
    "start_time": "2022-02-26T17:56:20.052Z"
   },
   {
    "duration": 1577,
    "start_time": "2022-02-26T17:56:48.518Z"
   },
   {
    "duration": 875,
    "start_time": "2022-02-26T17:59:01.013Z"
   },
   {
    "duration": 424,
    "start_time": "2022-02-26T18:01:28.463Z"
   },
   {
    "duration": 6,
    "start_time": "2022-02-26T18:03:07.501Z"
   },
   {
    "duration": 6,
    "start_time": "2022-02-26T18:03:33.902Z"
   },
   {
    "duration": 495,
    "start_time": "2022-02-26T18:03:37.203Z"
   },
   {
    "duration": 961,
    "start_time": "2022-02-26T18:04:14.032Z"
   },
   {
    "duration": 96,
    "start_time": "2022-02-26T18:05:13.519Z"
   },
   {
    "duration": 1434,
    "start_time": "2022-02-26T18:05:18.440Z"
   },
   {
    "duration": 207,
    "start_time": "2022-02-26T18:05:30.886Z"
   },
   {
    "duration": 86,
    "start_time": "2022-02-26T18:09:23.086Z"
   },
   {
    "duration": 1420,
    "start_time": "2022-02-26T18:09:27.278Z"
   },
   {
    "duration": 73,
    "start_time": "2022-02-26T18:09:33.750Z"
   },
   {
    "duration": 63,
    "start_time": "2022-02-26T18:09:55.235Z"
   },
   {
    "duration": 923,
    "start_time": "2022-02-26T18:10:12.764Z"
   },
   {
    "duration": 67,
    "start_time": "2022-02-26T18:10:58.632Z"
   },
   {
    "duration": 67,
    "start_time": "2022-02-26T18:11:04.801Z"
   },
   {
    "duration": 615,
    "start_time": "2022-02-26T18:11:41.020Z"
   },
   {
    "duration": 94,
    "start_time": "2022-02-26T18:12:01.504Z"
   },
   {
    "duration": 14,
    "start_time": "2022-02-26T18:15:09.330Z"
   },
   {
    "duration": 13,
    "start_time": "2022-02-26T18:28:17.339Z"
   },
   {
    "duration": 42,
    "start_time": "2022-02-26T18:30:25.611Z"
   },
   {
    "duration": 281,
    "start_time": "2022-02-26T18:30:53.922Z"
   },
   {
    "duration": 1409,
    "start_time": "2022-02-26T18:43:05.317Z"
   },
   {
    "duration": 32,
    "start_time": "2022-02-26T18:43:06.728Z"
   },
   {
    "duration": 32,
    "start_time": "2022-02-26T18:43:06.763Z"
   },
   {
    "duration": 13,
    "start_time": "2022-02-26T18:43:06.797Z"
   },
   {
    "duration": 76,
    "start_time": "2022-02-26T18:43:06.813Z"
   },
   {
    "duration": 10,
    "start_time": "2022-02-26T18:43:06.892Z"
   },
   {
    "duration": 28,
    "start_time": "2022-02-26T18:43:06.904Z"
   },
   {
    "duration": 6,
    "start_time": "2022-02-26T18:43:06.934Z"
   },
   {
    "duration": 13,
    "start_time": "2022-02-26T18:43:06.943Z"
   },
   {
    "duration": 29,
    "start_time": "2022-02-26T18:43:06.959Z"
   },
   {
    "duration": 13,
    "start_time": "2022-02-26T18:43:06.990Z"
   },
   {
    "duration": 22,
    "start_time": "2022-02-26T18:43:07.006Z"
   },
   {
    "duration": 12,
    "start_time": "2022-02-26T18:43:07.030Z"
   },
   {
    "duration": 28,
    "start_time": "2022-02-26T18:43:07.044Z"
   },
   {
    "duration": 42,
    "start_time": "2022-02-26T18:43:07.074Z"
   },
   {
    "duration": 5,
    "start_time": "2022-02-26T18:43:07.118Z"
   },
   {
    "duration": 18,
    "start_time": "2022-02-26T18:43:07.125Z"
   },
   {
    "duration": 12,
    "start_time": "2022-02-26T18:43:07.145Z"
   },
   {
    "duration": 29,
    "start_time": "2022-02-26T18:43:07.159Z"
   },
   {
    "duration": 7,
    "start_time": "2022-02-26T18:43:07.190Z"
   },
   {
    "duration": 16,
    "start_time": "2022-02-26T18:43:07.199Z"
   },
   {
    "duration": 5,
    "start_time": "2022-02-26T18:43:07.218Z"
   },
   {
    "duration": 26,
    "start_time": "2022-02-26T18:43:07.226Z"
   },
   {
    "duration": 7,
    "start_time": "2022-02-26T18:43:07.255Z"
   },
   {
    "duration": 89,
    "start_time": "2022-02-26T18:43:07.265Z"
   },
   {
    "duration": 552,
    "start_time": "2022-02-26T18:43:07.357Z"
   },
   {
    "duration": 11033,
    "start_time": "2022-02-26T18:43:07.915Z"
   },
   {
    "duration": 44,
    "start_time": "2022-02-26T18:43:18.952Z"
   },
   {
    "duration": 189,
    "start_time": "2022-02-26T18:43:18.999Z"
   },
   {
    "duration": 8,
    "start_time": "2022-02-26T18:43:19.191Z"
   },
   {
    "duration": 9,
    "start_time": "2022-02-26T18:43:19.201Z"
   },
   {
    "duration": 31,
    "start_time": "2022-02-26T18:43:19.212Z"
   },
   {
    "duration": 4,
    "start_time": "2022-02-26T18:43:19.245Z"
   },
   {
    "duration": 13,
    "start_time": "2022-02-26T18:43:19.287Z"
   },
   {
    "duration": 436,
    "start_time": "2022-02-26T18:43:19.303Z"
   },
   {
    "duration": 14,
    "start_time": "2022-02-26T18:43:19.741Z"
   },
   {
    "duration": 131,
    "start_time": "2022-02-26T18:43:19.757Z"
   },
   {
    "duration": 106,
    "start_time": "2022-02-26T18:43:19.891Z"
   },
   {
    "duration": 21,
    "start_time": "2022-02-26T18:43:20.000Z"
   },
   {
    "duration": 771,
    "start_time": "2022-02-26T18:43:20.024Z"
   },
   {
    "duration": 21,
    "start_time": "2022-02-26T18:43:20.888Z"
   },
   {
    "duration": 380,
    "start_time": "2022-02-26T18:43:20.912Z"
   },
   {
    "duration": 119,
    "start_time": "2022-02-26T18:43:21.296Z"
   },
   {
    "duration": 9,
    "start_time": "2022-02-26T18:43:21.488Z"
   },
   {
    "duration": 501,
    "start_time": "2022-02-26T18:43:21.588Z"
   },
   {
    "duration": 797,
    "start_time": "2022-02-26T18:43:22.093Z"
   },
   {
    "duration": 212,
    "start_time": "2022-02-26T18:43:22.893Z"
   },
   {
    "duration": 624,
    "start_time": "2022-02-26T18:43:23.108Z"
   },
   {
    "duration": 456,
    "start_time": "2022-02-26T18:43:23.735Z"
   },
   {
    "duration": 4,
    "start_time": "2022-02-26T18:43:24.190Z"
   },
   {
    "duration": -21,
    "start_time": "2022-02-26T18:43:24.216Z"
   },
   {
    "duration": -26,
    "start_time": "2022-02-26T18:43:24.223Z"
   },
   {
    "duration": -54,
    "start_time": "2022-02-26T18:43:24.252Z"
   },
   {
    "duration": 533,
    "start_time": "2022-02-26T18:49:42.813Z"
   },
   {
    "duration": 31,
    "start_time": "2022-02-26T18:50:36.271Z"
   },
   {
    "duration": 131,
    "start_time": "2022-02-26T18:52:47.865Z"
   },
   {
    "duration": 1458,
    "start_time": "2022-02-26T18:53:25.289Z"
   },
   {
    "duration": 30,
    "start_time": "2022-02-26T18:53:26.750Z"
   },
   {
    "duration": 22,
    "start_time": "2022-02-26T18:53:26.787Z"
   },
   {
    "duration": 11,
    "start_time": "2022-02-26T18:53:26.812Z"
   },
   {
    "duration": 84,
    "start_time": "2022-02-26T18:53:26.826Z"
   },
   {
    "duration": 10,
    "start_time": "2022-02-26T18:53:26.913Z"
   },
   {
    "duration": 14,
    "start_time": "2022-02-26T18:53:26.926Z"
   },
   {
    "duration": 5,
    "start_time": "2022-02-26T18:53:26.944Z"
   },
   {
    "duration": 4,
    "start_time": "2022-02-26T18:53:26.988Z"
   },
   {
    "duration": 10,
    "start_time": "2022-02-26T18:53:26.995Z"
   },
   {
    "duration": 15,
    "start_time": "2022-02-26T18:53:27.008Z"
   },
   {
    "duration": 24,
    "start_time": "2022-02-26T18:53:27.025Z"
   },
   {
    "duration": 36,
    "start_time": "2022-02-26T18:53:27.051Z"
   },
   {
    "duration": 17,
    "start_time": "2022-02-26T18:53:27.090Z"
   },
   {
    "duration": 33,
    "start_time": "2022-02-26T18:53:27.109Z"
   },
   {
    "duration": 5,
    "start_time": "2022-02-26T18:53:27.144Z"
   },
   {
    "duration": 9,
    "start_time": "2022-02-26T18:53:27.187Z"
   },
   {
    "duration": 7,
    "start_time": "2022-02-26T18:53:27.199Z"
   },
   {
    "duration": 7,
    "start_time": "2022-02-26T18:53:27.208Z"
   },
   {
    "duration": 8,
    "start_time": "2022-02-26T18:53:27.217Z"
   },
   {
    "duration": 9,
    "start_time": "2022-02-26T18:53:27.228Z"
   },
   {
    "duration": 6,
    "start_time": "2022-02-26T18:53:27.239Z"
   },
   {
    "duration": 15,
    "start_time": "2022-02-26T18:53:27.287Z"
   },
   {
    "duration": 5,
    "start_time": "2022-02-26T18:53:27.305Z"
   },
   {
    "duration": 97,
    "start_time": "2022-02-26T18:53:27.312Z"
   },
   {
    "duration": 554,
    "start_time": "2022-02-26T18:53:27.411Z"
   },
   {
    "duration": 10375,
    "start_time": "2022-02-26T18:53:27.968Z"
   },
   {
    "duration": 45,
    "start_time": "2022-02-26T18:53:38.346Z"
   },
   {
    "duration": 95,
    "start_time": "2022-02-26T18:53:38.394Z"
   },
   {
    "duration": 97,
    "start_time": "2022-02-26T18:53:38.492Z"
   },
   {
    "duration": 11,
    "start_time": "2022-02-26T18:53:38.592Z"
   },
   {
    "duration": 34,
    "start_time": "2022-02-26T18:53:38.606Z"
   },
   {
    "duration": 4,
    "start_time": "2022-02-26T18:53:38.643Z"
   },
   {
    "duration": 50,
    "start_time": "2022-02-26T18:53:38.650Z"
   },
   {
    "duration": 447,
    "start_time": "2022-02-26T18:53:38.702Z"
   },
   {
    "duration": 13,
    "start_time": "2022-02-26T18:53:39.152Z"
   },
   {
    "duration": 122,
    "start_time": "2022-02-26T18:53:39.167Z"
   },
   {
    "duration": 107,
    "start_time": "2022-02-26T18:53:39.292Z"
   },
   {
    "duration": 20,
    "start_time": "2022-02-26T18:53:39.402Z"
   },
   {
    "duration": 864,
    "start_time": "2022-02-26T18:53:39.425Z"
   },
   {
    "duration": 111,
    "start_time": "2022-02-26T18:53:40.294Z"
   },
   {
    "duration": 385,
    "start_time": "2022-02-26T18:53:40.407Z"
   },
   {
    "duration": 117,
    "start_time": "2022-02-26T18:53:40.795Z"
   },
   {
    "duration": 451,
    "start_time": "2022-02-26T18:53:40.915Z"
   },
   {
    "duration": 42,
    "start_time": "2022-02-26T18:53:41.368Z"
   },
   {
    "duration": 75,
    "start_time": "2022-02-26T18:53:41.413Z"
   },
   {
    "duration": 597,
    "start_time": "2022-02-26T18:53:41.492Z"
   },
   {
    "duration": 828,
    "start_time": "2022-02-26T18:53:42.095Z"
   },
   {
    "duration": 195,
    "start_time": "2022-02-26T18:53:42.926Z"
   },
   {
    "duration": 646,
    "start_time": "2022-02-26T18:53:43.124Z"
   },
   {
    "duration": 215,
    "start_time": "2022-02-26T18:53:43.772Z"
   },
   {
    "duration": 11,
    "start_time": "2022-02-26T18:53:43.990Z"
   },
   {
    "duration": 20,
    "start_time": "2022-02-26T18:53:44.004Z"
   },
   {
    "duration": 79,
    "start_time": "2022-02-26T18:53:44.027Z"
   },
   {
    "duration": 285,
    "start_time": "2022-02-26T18:53:44.108Z"
   },
   {
    "duration": 1045,
    "start_time": "2022-02-28T08:48:35.922Z"
   },
   {
    "duration": 26,
    "start_time": "2022-02-28T08:48:36.969Z"
   },
   {
    "duration": 11,
    "start_time": "2022-02-28T08:48:36.997Z"
   },
   {
    "duration": 8,
    "start_time": "2022-02-28T08:48:37.010Z"
   },
   {
    "duration": 32,
    "start_time": "2022-02-28T08:48:37.020Z"
   },
   {
    "duration": 6,
    "start_time": "2022-02-28T08:48:37.054Z"
   },
   {
    "duration": 8,
    "start_time": "2022-02-28T08:48:37.061Z"
   },
   {
    "duration": 3,
    "start_time": "2022-02-28T08:48:37.071Z"
   },
   {
    "duration": 2,
    "start_time": "2022-02-28T08:48:37.077Z"
   },
   {
    "duration": 26,
    "start_time": "2022-02-28T08:48:37.081Z"
   },
   {
    "duration": 13,
    "start_time": "2022-02-28T08:48:37.109Z"
   },
   {
    "duration": 28,
    "start_time": "2022-02-28T08:48:37.123Z"
   },
   {
    "duration": 21,
    "start_time": "2022-02-28T08:48:37.153Z"
   },
   {
    "duration": 11,
    "start_time": "2022-02-28T08:48:37.175Z"
   },
   {
    "duration": 21,
    "start_time": "2022-02-28T08:48:37.187Z"
   },
   {
    "duration": 2,
    "start_time": "2022-02-28T08:48:37.210Z"
   },
   {
    "duration": 8,
    "start_time": "2022-02-28T08:48:37.213Z"
   },
   {
    "duration": 9,
    "start_time": "2022-02-28T08:48:37.223Z"
   },
   {
    "duration": 6,
    "start_time": "2022-02-28T08:48:37.234Z"
   },
   {
    "duration": 15,
    "start_time": "2022-02-28T08:48:37.241Z"
   },
   {
    "duration": 4,
    "start_time": "2022-02-28T08:48:37.257Z"
   },
   {
    "duration": 7,
    "start_time": "2022-02-28T08:48:37.262Z"
   },
   {
    "duration": 14,
    "start_time": "2022-02-28T08:48:37.270Z"
   },
   {
    "duration": 5,
    "start_time": "2022-02-28T08:48:37.285Z"
   },
   {
    "duration": 41,
    "start_time": "2022-02-28T08:48:37.291Z"
   },
   {
    "duration": 347,
    "start_time": "2022-02-28T08:48:37.333Z"
   },
   {
    "duration": 6694,
    "start_time": "2022-02-28T08:48:37.683Z"
   },
   {
    "duration": 27,
    "start_time": "2022-02-28T08:48:44.379Z"
   },
   {
    "duration": 7,
    "start_time": "2022-02-28T08:48:44.408Z"
   },
   {
    "duration": 95,
    "start_time": "2022-02-28T08:48:44.416Z"
   },
   {
    "duration": 98,
    "start_time": "2022-02-28T08:48:44.514Z"
   },
   {
    "duration": 23,
    "start_time": "2022-02-28T08:48:44.613Z"
   },
   {
    "duration": 3,
    "start_time": "2022-02-28T08:48:44.637Z"
   },
   {
    "duration": 15,
    "start_time": "2022-02-28T08:48:44.641Z"
   },
   {
    "duration": 272,
    "start_time": "2022-02-28T08:48:44.657Z"
   },
   {
    "duration": 386,
    "start_time": "2022-02-28T08:48:44.930Z"
   },
   {
    "duration": 21,
    "start_time": "2022-02-28T08:48:45.297Z"
   },
   {
    "duration": 16,
    "start_time": "2022-02-28T08:48:45.302Z"
   },
   {
    "duration": 4,
    "start_time": "2022-02-28T08:48:45.315Z"
   },
   {
    "duration": 0,
    "start_time": "2022-02-28T08:48:45.320Z"
   },
   {
    "duration": -4,
    "start_time": "2022-02-28T08:48:45.325Z"
   },
   {
    "duration": -8,
    "start_time": "2022-02-28T08:48:45.330Z"
   },
   {
    "duration": -12,
    "start_time": "2022-02-28T08:48:45.335Z"
   },
   {
    "duration": -16,
    "start_time": "2022-02-28T08:48:45.339Z"
   },
   {
    "duration": -20,
    "start_time": "2022-02-28T08:48:45.344Z"
   },
   {
    "duration": -23,
    "start_time": "2022-02-28T08:48:45.348Z"
   },
   {
    "duration": -28,
    "start_time": "2022-02-28T08:48:45.354Z"
   },
   {
    "duration": -31,
    "start_time": "2022-02-28T08:48:45.358Z"
   },
   {
    "duration": -34,
    "start_time": "2022-02-28T08:48:45.362Z"
   },
   {
    "duration": -37,
    "start_time": "2022-02-28T08:48:45.366Z"
   },
   {
    "duration": -41,
    "start_time": "2022-02-28T08:48:45.371Z"
   },
   {
    "duration": -44,
    "start_time": "2022-02-28T08:48:45.375Z"
   },
   {
    "duration": -48,
    "start_time": "2022-02-28T08:48:45.380Z"
   },
   {
    "duration": -52,
    "start_time": "2022-02-28T08:48:45.384Z"
   },
   {
    "duration": -56,
    "start_time": "2022-02-28T08:48:45.389Z"
   },
   {
    "duration": 26,
    "start_time": "2022-02-28T08:50:37.157Z"
   },
   {
    "duration": 34,
    "start_time": "2022-02-28T08:50:41.580Z"
   },
   {
    "duration": 381,
    "start_time": "2022-02-28T08:50:42.908Z"
   },
   {
    "duration": 78,
    "start_time": "2022-02-28T08:50:58.631Z"
   },
   {
    "duration": 14,
    "start_time": "2022-02-28T08:51:27.027Z"
   },
   {
    "duration": 480,
    "start_time": "2022-02-28T08:51:30.128Z"
   },
   {
    "duration": 14,
    "start_time": "2022-02-28T08:51:36.518Z"
   },
   {
    "duration": 178,
    "start_time": "2022-02-28T08:51:39.430Z"
   },
   {
    "duration": 21,
    "start_time": "2022-02-28T08:51:45.485Z"
   },
   {
    "duration": 278,
    "start_time": "2022-02-28T08:51:47.853Z"
   },
   {
    "duration": 27,
    "start_time": "2022-02-28T08:51:50.946Z"
   },
   {
    "duration": 4,
    "start_time": "2022-02-28T08:52:03.136Z"
   },
   {
    "duration": 283,
    "start_time": "2022-02-28T08:52:07.333Z"
   },
   {
    "duration": 388,
    "start_time": "2022-02-28T08:52:11.021Z"
   },
   {
    "duration": 315,
    "start_time": "2022-02-28T08:52:15.816Z"
   },
   {
    "duration": 32,
    "start_time": "2022-02-28T08:52:51.790Z"
   },
   {
    "duration": 359,
    "start_time": "2022-02-28T08:53:05.885Z"
   },
   {
    "duration": 33,
    "start_time": "2022-02-28T08:53:11.984Z"
   },
   {
    "duration": 31,
    "start_time": "2022-02-28T08:55:41.378Z"
   },
   {
    "duration": 376,
    "start_time": "2022-02-28T08:56:19.205Z"
   },
   {
    "duration": 92,
    "start_time": "2022-02-28T08:56:42.320Z"
   },
   {
    "duration": 275,
    "start_time": "2022-02-28T08:57:25.057Z"
   },
   {
    "duration": 6,
    "start_time": "2022-02-28T08:57:27.236Z"
   },
   {
    "duration": 8,
    "start_time": "2022-02-28T08:57:28.599Z"
   },
   {
    "duration": 29,
    "start_time": "2022-02-28T08:58:05.687Z"
   },
   {
    "duration": 153,
    "start_time": "2022-02-28T08:58:19.089Z"
   },
   {
    "duration": 40,
    "start_time": "2022-02-28T08:59:32.437Z"
   },
   {
    "duration": 1088,
    "start_time": "2022-02-28T08:59:59.690Z"
   },
   {
    "duration": 28,
    "start_time": "2022-02-28T09:00:00.779Z"
   },
   {
    "duration": 13,
    "start_time": "2022-02-28T09:00:00.809Z"
   },
   {
    "duration": 13,
    "start_time": "2022-02-28T09:00:00.824Z"
   },
   {
    "duration": 38,
    "start_time": "2022-02-28T09:00:00.838Z"
   },
   {
    "duration": 6,
    "start_time": "2022-02-28T09:00:00.877Z"
   },
   {
    "duration": 26,
    "start_time": "2022-02-28T09:00:00.885Z"
   },
   {
    "duration": 3,
    "start_time": "2022-02-28T09:00:00.913Z"
   },
   {
    "duration": 13,
    "start_time": "2022-02-28T09:00:00.918Z"
   },
   {
    "duration": 21,
    "start_time": "2022-02-28T09:00:00.932Z"
   },
   {
    "duration": 23,
    "start_time": "2022-02-28T09:00:00.955Z"
   },
   {
    "duration": 33,
    "start_time": "2022-02-28T09:00:00.980Z"
   },
   {
    "duration": 17,
    "start_time": "2022-02-28T09:00:01.015Z"
   },
   {
    "duration": 18,
    "start_time": "2022-02-28T09:00:01.034Z"
   },
   {
    "duration": 28,
    "start_time": "2022-02-28T09:00:01.054Z"
   },
   {
    "duration": 7,
    "start_time": "2022-02-28T09:00:01.083Z"
   },
   {
    "duration": 16,
    "start_time": "2022-02-28T09:00:01.091Z"
   },
   {
    "duration": 27,
    "start_time": "2022-02-28T09:00:01.109Z"
   },
   {
    "duration": 23,
    "start_time": "2022-02-28T09:00:01.137Z"
   },
   {
    "duration": 26,
    "start_time": "2022-02-28T09:00:01.161Z"
   },
   {
    "duration": 11,
    "start_time": "2022-02-28T09:00:01.188Z"
   },
   {
    "duration": 16,
    "start_time": "2022-02-28T09:00:01.200Z"
   },
   {
    "duration": 16,
    "start_time": "2022-02-28T09:00:01.219Z"
   },
   {
    "duration": 18,
    "start_time": "2022-02-28T09:00:01.237Z"
   },
   {
    "duration": 45,
    "start_time": "2022-02-28T09:00:01.257Z"
   },
   {
    "duration": 372,
    "start_time": "2022-02-28T09:00:01.304Z"
   },
   {
    "duration": 6442,
    "start_time": "2022-02-28T09:00:01.678Z"
   },
   {
    "duration": 24,
    "start_time": "2022-02-28T09:00:08.121Z"
   },
   {
    "duration": 102,
    "start_time": "2022-02-28T09:00:08.205Z"
   },
   {
    "duration": 6,
    "start_time": "2022-02-28T09:00:08.309Z"
   },
   {
    "duration": 8,
    "start_time": "2022-02-28T09:00:08.317Z"
   },
   {
    "duration": 20,
    "start_time": "2022-02-28T09:00:08.326Z"
   },
   {
    "duration": 4,
    "start_time": "2022-02-28T09:00:08.347Z"
   },
   {
    "duration": 19,
    "start_time": "2022-02-28T09:00:08.353Z"
   },
   {
    "duration": 285,
    "start_time": "2022-02-28T09:00:08.374Z"
   },
   {
    "duration": 25,
    "start_time": "2022-02-28T09:00:08.661Z"
   },
   {
    "duration": 39,
    "start_time": "2022-02-28T09:00:08.687Z"
   },
   {
    "duration": 106,
    "start_time": "2022-02-28T09:00:08.806Z"
   },
   {
    "duration": 104,
    "start_time": "2022-02-28T09:00:08.914Z"
   },
   {
    "duration": 487,
    "start_time": "2022-02-28T09:00:09.020Z"
   },
   {
    "duration": 104,
    "start_time": "2022-02-28T09:00:09.509Z"
   },
   {
    "duration": 193,
    "start_time": "2022-02-28T09:00:09.615Z"
   },
   {
    "duration": 203,
    "start_time": "2022-02-28T09:00:09.811Z"
   },
   {
    "duration": 274,
    "start_time": "2022-02-28T09:00:10.016Z"
   },
   {
    "duration": 27,
    "start_time": "2022-02-28T09:00:10.292Z"
   },
   {
    "duration": 85,
    "start_time": "2022-02-28T09:00:10.321Z"
   },
   {
    "duration": 399,
    "start_time": "2022-02-28T09:00:10.408Z"
   },
   {
    "duration": 598,
    "start_time": "2022-02-28T09:00:10.809Z"
   },
   {
    "duration": 198,
    "start_time": "2022-02-28T09:00:11.409Z"
   },
   {
    "duration": 379,
    "start_time": "2022-02-28T09:00:11.609Z"
   },
   {
    "duration": 116,
    "start_time": "2022-02-28T09:00:11.990Z"
   },
   {
    "duration": 97,
    "start_time": "2022-02-28T09:00:12.113Z"
   },
   {
    "duration": 9,
    "start_time": "2022-02-28T09:00:12.211Z"
   },
   {
    "duration": 42,
    "start_time": "2022-02-28T09:00:12.221Z"
   },
   {
    "duration": 171,
    "start_time": "2022-02-28T09:00:12.265Z"
   },
   {
    "duration": 64,
    "start_time": "2022-02-28T09:20:06.997Z"
   },
   {
    "duration": 5,
    "start_time": "2022-02-28T09:20:17.308Z"
   },
   {
    "duration": 308,
    "start_time": "2022-02-28T09:20:21.444Z"
   },
   {
    "duration": 63,
    "start_time": "2022-02-28T09:41:06.338Z"
   },
   {
    "duration": 3,
    "start_time": "2022-02-28T09:43:14.019Z"
   },
   {
    "duration": 425,
    "start_time": "2022-02-28T09:43:16.177Z"
   },
   {
    "duration": 244,
    "start_time": "2022-02-28T09:47:22.026Z"
   },
   {
    "duration": 10,
    "start_time": "2022-02-28T09:47:27.204Z"
   },
   {
    "duration": 99,
    "start_time": "2022-02-28T09:47:39.556Z"
   },
   {
    "duration": 276,
    "start_time": "2022-02-28T09:47:43.396Z"
   },
   {
    "duration": 8,
    "start_time": "2022-02-28T09:52:53.728Z"
   },
   {
    "duration": 262,
    "start_time": "2022-02-28T09:52:55.417Z"
   },
   {
    "duration": 2838,
    "start_time": "2022-02-28T09:53:15.739Z"
   },
   {
    "duration": 27,
    "start_time": "2022-02-28T09:53:18.578Z"
   },
   {
    "duration": 14,
    "start_time": "2022-02-28T09:53:18.607Z"
   },
   {
    "duration": 8,
    "start_time": "2022-02-28T09:53:18.622Z"
   },
   {
    "duration": 33,
    "start_time": "2022-02-28T09:53:18.632Z"
   },
   {
    "duration": 6,
    "start_time": "2022-02-28T09:53:18.666Z"
   },
   {
    "duration": 8,
    "start_time": "2022-02-28T09:53:18.674Z"
   },
   {
    "duration": 3,
    "start_time": "2022-02-28T09:53:18.684Z"
   },
   {
    "duration": 5,
    "start_time": "2022-02-28T09:53:18.689Z"
   },
   {
    "duration": 10,
    "start_time": "2022-02-28T09:53:18.696Z"
   },
   {
    "duration": 6,
    "start_time": "2022-02-28T09:53:18.708Z"
   },
   {
    "duration": 9,
    "start_time": "2022-02-28T09:53:18.716Z"
   },
   {
    "duration": 8,
    "start_time": "2022-02-28T09:53:18.726Z"
   },
   {
    "duration": 9,
    "start_time": "2022-02-28T09:53:18.735Z"
   },
   {
    "duration": 19,
    "start_time": "2022-02-28T09:53:18.745Z"
   },
   {
    "duration": 3,
    "start_time": "2022-02-28T09:53:18.765Z"
   },
   {
    "duration": 7,
    "start_time": "2022-02-28T09:53:18.769Z"
   },
   {
    "duration": 3,
    "start_time": "2022-02-28T09:53:18.777Z"
   },
   {
    "duration": 4,
    "start_time": "2022-02-28T09:53:18.782Z"
   },
   {
    "duration": 6,
    "start_time": "2022-02-28T09:53:18.788Z"
   },
   {
    "duration": 4,
    "start_time": "2022-02-28T09:53:18.795Z"
   },
   {
    "duration": 5,
    "start_time": "2022-02-28T09:53:18.801Z"
   },
   {
    "duration": 10,
    "start_time": "2022-02-28T09:53:18.807Z"
   },
   {
    "duration": 6,
    "start_time": "2022-02-28T09:53:18.819Z"
   },
   {
    "duration": 40,
    "start_time": "2022-02-28T09:53:18.827Z"
   },
   {
    "duration": 343,
    "start_time": "2022-02-28T09:53:18.868Z"
   },
   {
    "duration": 6199,
    "start_time": "2022-02-28T09:53:19.214Z"
   },
   {
    "duration": 95,
    "start_time": "2022-02-28T09:53:25.415Z"
   },
   {
    "duration": 96,
    "start_time": "2022-02-28T09:53:25.512Z"
   },
   {
    "duration": 5,
    "start_time": "2022-02-28T09:53:25.609Z"
   },
   {
    "duration": 9,
    "start_time": "2022-02-28T09:53:25.616Z"
   },
   {
    "duration": 20,
    "start_time": "2022-02-28T09:53:25.626Z"
   },
   {
    "duration": 2,
    "start_time": "2022-02-28T09:53:25.648Z"
   },
   {
    "duration": 14,
    "start_time": "2022-02-28T09:53:25.652Z"
   },
   {
    "duration": 283,
    "start_time": "2022-02-28T09:53:25.667Z"
   },
   {
    "duration": 24,
    "start_time": "2022-02-28T09:53:25.951Z"
   },
   {
    "duration": 35,
    "start_time": "2022-02-28T09:53:25.976Z"
   },
   {
    "duration": 193,
    "start_time": "2022-02-28T09:53:26.013Z"
   },
   {
    "duration": 13,
    "start_time": "2022-02-28T09:53:26.208Z"
   },
   {
    "duration": 483,
    "start_time": "2022-02-28T09:53:26.222Z"
   },
   {
    "duration": 106,
    "start_time": "2022-02-28T09:53:26.707Z"
   },
   {
    "duration": 194,
    "start_time": "2022-02-28T09:53:26.815Z"
   },
   {
    "duration": 116,
    "start_time": "2022-02-28T09:53:27.012Z"
   },
   {
    "duration": 315,
    "start_time": "2022-02-28T09:53:27.130Z"
   },
   {
    "duration": 63,
    "start_time": "2022-02-28T09:53:27.447Z"
   },
   {
    "duration": 8,
    "start_time": "2022-02-28T09:53:27.512Z"
   },
   {
    "duration": 511,
    "start_time": "2022-02-28T09:53:27.521Z"
   },
   {
    "duration": 578,
    "start_time": "2022-02-28T09:53:28.034Z"
   },
   {
    "duration": 207,
    "start_time": "2022-02-28T09:53:28.615Z"
   },
   {
    "duration": 387,
    "start_time": "2022-02-28T09:53:28.824Z"
   },
   {
    "duration": 94,
    "start_time": "2022-02-28T09:53:29.212Z"
   },
   {
    "duration": 97,
    "start_time": "2022-02-28T09:53:29.308Z"
   },
   {
    "duration": 8,
    "start_time": "2022-02-28T09:53:29.407Z"
   },
   {
    "duration": 39,
    "start_time": "2022-02-28T09:53:29.416Z"
   },
   {
    "duration": 173,
    "start_time": "2022-02-28T09:53:29.456Z"
   },
   {
    "duration": 245,
    "start_time": "2022-02-28T09:53:29.631Z"
   },
   {
    "duration": 7,
    "start_time": "2022-02-28T09:53:29.878Z"
   },
   {
    "duration": 319,
    "start_time": "2022-02-28T09:53:29.886Z"
   }
  ],
  "kernelspec": {
   "display_name": "Python 3 (ipykernel)",
   "language": "python",
   "name": "python3"
  },
  "language_info": {
   "codemirror_mode": {
    "name": "ipython",
    "version": 3
   },
   "file_extension": ".py",
   "mimetype": "text/x-python",
   "name": "python",
   "nbconvert_exporter": "python",
   "pygments_lexer": "ipython3",
   "version": "3.9.7"
  },
  "toc": {
   "base_numbering": 1,
   "nav_menu": {},
   "number_sections": true,
   "sideBar": true,
   "skip_h1_title": true,
   "title_cell": "Содержание",
   "title_sidebar": "Contents",
   "toc_cell": true,
   "toc_position": {
    "height": "calc(100% - 180px)",
    "left": "10px",
    "top": "150px",
    "width": "270.391px"
   },
   "toc_section_display": true,
   "toc_window_display": true
  }
 },
 "nbformat": 4,
 "nbformat_minor": 2
}
