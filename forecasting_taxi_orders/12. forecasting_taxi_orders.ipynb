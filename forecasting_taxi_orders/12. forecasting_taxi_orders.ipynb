{
 "cells": [
  {
   "cell_type": "markdown",
   "metadata": {
    "toc": true
   },
   "source": [
    "<h1>Содержание<span class=\"tocSkip\"></span></h1>\n",
    "<div class=\"toc\"><ul class=\"toc-item\"><li><span><a href=\"#Подготовка\" data-toc-modified-id=\"Подготовка-1\"><span class=\"toc-item-num\">1&nbsp;&nbsp;</span>Подготовка</a></span></li><li><span><a href=\"#Анализ\" data-toc-modified-id=\"Анализ-2\"><span class=\"toc-item-num\">2&nbsp;&nbsp;</span>Анализ</a></span></li><li><span><a href=\"#Обучение\" data-toc-modified-id=\"Обучение-3\"><span class=\"toc-item-num\">3&nbsp;&nbsp;</span>Обучение</a></span><ul class=\"toc-item\"><li><span><a href=\"#LinearRegression\" data-toc-modified-id=\"LinearRegression-3.1\"><span class=\"toc-item-num\">3.1&nbsp;&nbsp;</span>LinearRegression</a></span></li><li><span><a href=\"#RandomForestRegressor\" data-toc-modified-id=\"RandomForestRegressor-3.2\"><span class=\"toc-item-num\">3.2&nbsp;&nbsp;</span>RandomForestRegressor</a></span></li><li><span><a href=\"#LGBMRegressor\" data-toc-modified-id=\"LGBMRegressor-3.3\"><span class=\"toc-item-num\">3.3&nbsp;&nbsp;</span>LGBMRegressor</a></span></li></ul></li><li><span><a href=\"#Тестирование\" data-toc-modified-id=\"Тестирование-4\"><span class=\"toc-item-num\">4&nbsp;&nbsp;</span>Тестирование</a></span></li><li><span><a href=\"#Вывод\" data-toc-modified-id=\"Вывод-5\"><span class=\"toc-item-num\">5&nbsp;&nbsp;</span>Вывод</a></span></li><li><span><a href=\"#Чек-лист-проверки\" data-toc-modified-id=\"Чек-лист-проверки-6\"><span class=\"toc-item-num\">6&nbsp;&nbsp;</span>Чек-лист проверки</a></span></li></ul></div>"
   ]
  },
  {
   "cell_type": "markdown",
   "metadata": {},
   "source": [
    "#  Прогнозирование заказов такси"
   ]
  },
  {
   "cell_type": "markdown",
   "metadata": {},
   "source": [
    "**Этапы проекта:**\n",
    "\n",
    "1. Загрузить данные и выполнить их ресемплирование по одному часу\n",
    "2. Проанализировать данные\n",
    "3. Обучить разные модели с различными гиперпараметрами. Сделать тестовую выборку размером 10% от исходных данных\n",
    "4. Проверить данные на тестовой выборке и сделать выводы"
   ]
  },
  {
   "cell_type": "markdown",
   "metadata": {},
   "source": [
    "## Подготовка"
   ]
  },
  {
   "cell_type": "markdown",
   "metadata": {},
   "source": [
    "Подключим бибилотеки, которые понадобятся для работы"
   ]
  },
  {
   "cell_type": "code",
   "execution_count": 1,
   "metadata": {},
   "outputs": [],
   "source": [
    "import pandas as pd\n",
    "import numpy as np\n",
    "\n",
    "import matplotlib.pyplot as plt\n",
    "import seaborn as sns\n",
    "\n",
    "from sklearn.metrics import mean_squared_error\n",
    "from statsmodels.tsa.seasonal import seasonal_decompose\n",
    "from sklearn.model_selection import train_test_split, TimeSeriesSplit, GridSearchCV\n",
    "\n",
    "from catboost import CatBoostRegressor\n",
    "from sklearn.ensemble import RandomForestRegressor\n",
    "import lightgbm as lgb\n",
    "from sklearn.linear_model import LinearRegression"
   ]
  },
  {
   "cell_type": "markdown",
   "metadata": {},
   "source": [
    "Загрузим данные и проанализируем их"
   ]
  },
  {
   "cell_type": "code",
   "execution_count": 2,
   "metadata": {},
   "outputs": [],
   "source": [
    "data = pd.read_csv('/datasets/taxi.csv', index_col='datetime', parse_dates=[0])"
   ]
  },
  {
   "cell_type": "code",
   "execution_count": 3,
   "metadata": {
    "scrolled": true
   },
   "outputs": [
    {
     "data": {
      "text/html": [
       "<div>\n",
       "<style scoped>\n",
       "    .dataframe tbody tr th:only-of-type {\n",
       "        vertical-align: middle;\n",
       "    }\n",
       "\n",
       "    .dataframe tbody tr th {\n",
       "        vertical-align: top;\n",
       "    }\n",
       "\n",
       "    .dataframe thead th {\n",
       "        text-align: right;\n",
       "    }\n",
       "</style>\n",
       "<table border=\"1\" class=\"dataframe\">\n",
       "  <thead>\n",
       "    <tr style=\"text-align: right;\">\n",
       "      <th></th>\n",
       "      <th>num_orders</th>\n",
       "    </tr>\n",
       "    <tr>\n",
       "      <th>datetime</th>\n",
       "      <th></th>\n",
       "    </tr>\n",
       "  </thead>\n",
       "  <tbody>\n",
       "    <tr>\n",
       "      <th>2018-03-01 00:00:00</th>\n",
       "      <td>9</td>\n",
       "    </tr>\n",
       "    <tr>\n",
       "      <th>2018-03-01 00:10:00</th>\n",
       "      <td>14</td>\n",
       "    </tr>\n",
       "    <tr>\n",
       "      <th>2018-03-01 00:20:00</th>\n",
       "      <td>28</td>\n",
       "    </tr>\n",
       "    <tr>\n",
       "      <th>2018-03-01 00:30:00</th>\n",
       "      <td>20</td>\n",
       "    </tr>\n",
       "    <tr>\n",
       "      <th>2018-03-01 00:40:00</th>\n",
       "      <td>32</td>\n",
       "    </tr>\n",
       "  </tbody>\n",
       "</table>\n",
       "</div>"
      ],
      "text/plain": [
       "                     num_orders\n",
       "datetime                       \n",
       "2018-03-01 00:00:00           9\n",
       "2018-03-01 00:10:00          14\n",
       "2018-03-01 00:20:00          28\n",
       "2018-03-01 00:30:00          20\n",
       "2018-03-01 00:40:00          32"
      ]
     },
     "execution_count": 3,
     "metadata": {},
     "output_type": "execute_result"
    }
   ],
   "source": [
    "data.head()"
   ]
  },
  {
   "cell_type": "code",
   "execution_count": 4,
   "metadata": {},
   "outputs": [
    {
     "name": "stdout",
     "output_type": "stream",
     "text": [
      "<class 'pandas.core.frame.DataFrame'>\n",
      "DatetimeIndex: 26496 entries, 2018-03-01 00:00:00 to 2018-08-31 23:50:00\n",
      "Data columns (total 1 columns):\n",
      " #   Column      Non-Null Count  Dtype\n",
      "---  ------      --------------  -----\n",
      " 0   num_orders  26496 non-null  int64\n",
      "dtypes: int64(1)\n",
      "memory usage: 414.0 KB\n"
     ]
    }
   ],
   "source": [
    "data.info()"
   ]
  },
  {
   "cell_type": "markdown",
   "metadata": {},
   "source": [
    "ресемплируем данные по 1 часу"
   ]
  },
  {
   "cell_type": "code",
   "execution_count": 5,
   "metadata": {},
   "outputs": [],
   "source": [
    "data = data.sort_index()\n",
    "data = data.resample('1H').sum()"
   ]
  },
  {
   "cell_type": "code",
   "execution_count": 6,
   "metadata": {
    "scrolled": true
   },
   "outputs": [
    {
     "data": {
      "text/html": [
       "<div>\n",
       "<style scoped>\n",
       "    .dataframe tbody tr th:only-of-type {\n",
       "        vertical-align: middle;\n",
       "    }\n",
       "\n",
       "    .dataframe tbody tr th {\n",
       "        vertical-align: top;\n",
       "    }\n",
       "\n",
       "    .dataframe thead th {\n",
       "        text-align: right;\n",
       "    }\n",
       "</style>\n",
       "<table border=\"1\" class=\"dataframe\">\n",
       "  <thead>\n",
       "    <tr style=\"text-align: right;\">\n",
       "      <th></th>\n",
       "      <th>num_orders</th>\n",
       "    </tr>\n",
       "    <tr>\n",
       "      <th>datetime</th>\n",
       "      <th></th>\n",
       "    </tr>\n",
       "  </thead>\n",
       "  <tbody>\n",
       "    <tr>\n",
       "      <th>2018-03-01 00:00:00</th>\n",
       "      <td>124</td>\n",
       "    </tr>\n",
       "    <tr>\n",
       "      <th>2018-03-01 01:00:00</th>\n",
       "      <td>85</td>\n",
       "    </tr>\n",
       "    <tr>\n",
       "      <th>2018-03-01 02:00:00</th>\n",
       "      <td>71</td>\n",
       "    </tr>\n",
       "    <tr>\n",
       "      <th>2018-03-01 03:00:00</th>\n",
       "      <td>66</td>\n",
       "    </tr>\n",
       "    <tr>\n",
       "      <th>2018-03-01 04:00:00</th>\n",
       "      <td>43</td>\n",
       "    </tr>\n",
       "  </tbody>\n",
       "</table>\n",
       "</div>"
      ],
      "text/plain": [
       "                     num_orders\n",
       "datetime                       \n",
       "2018-03-01 00:00:00         124\n",
       "2018-03-01 01:00:00          85\n",
       "2018-03-01 02:00:00          71\n",
       "2018-03-01 03:00:00          66\n",
       "2018-03-01 04:00:00          43"
      ]
     },
     "execution_count": 6,
     "metadata": {},
     "output_type": "execute_result"
    }
   ],
   "source": [
    "data.head()"
   ]
  },
  {
   "cell_type": "code",
   "execution_count": 7,
   "metadata": {},
   "outputs": [
    {
     "data": {
      "text/plain": [
       "(4416, 1)"
      ]
     },
     "execution_count": 7,
     "metadata": {},
     "output_type": "execute_result"
    }
   ],
   "source": [
    "data.shape"
   ]
  },
  {
   "cell_type": "markdown",
   "metadata": {},
   "source": [
    "**Вывод:**\n",
    "- загрузили данные (данные содержат 26496 записей с количеством заказов, период с 01 марта 2018 по 31 августа 2018)\n",
    "- выполнили их ресемплирование по одному часу (кол-во записей по периоду в 1 час составляет 4416 записей)"
   ]
  },
  {
   "cell_type": "markdown",
   "metadata": {},
   "source": [
    "## Анализ"
   ]
  },
  {
   "cell_type": "markdown",
   "metadata": {},
   "source": [
    "Добавим столбцы со скользящим средним и скользящим стандартным отклонением и построим график по данным"
   ]
  },
  {
   "cell_type": "code",
   "execution_count": 8,
   "metadata": {},
   "outputs": [],
   "source": [
    "data[\"rolling_mean\"] = data[\"num_orders\"].rolling(10).mean()\n",
    "data[\"rolling_std\"] = data[\"num_orders\"].rolling(10).std()"
   ]
  },
  {
   "cell_type": "code",
   "execution_count": 9,
   "metadata": {
    "scrolled": true
   },
   "outputs": [
    {
     "data": {
      "image/png": "[encoded data removed]",
      "text/plain": [
       "<Figure size 432x288 with 1 Axes>"
      ]
     },
     "metadata": {
      "needs_background": "light"
     },
     "output_type": "display_data"
    }
   ],
   "source": [
    "data.plot();"
   ]
  },
  {
   "cell_type": "markdown",
   "metadata": {},
   "source": [
    "По графику можно отметить, что волатильность изменений кол-ва заказов к концу лета выше."
   ]
  },
  {
   "cell_type": "markdown",
   "metadata": {},
   "source": [
    "Построим график тренда"
   ]
  },
  {
   "cell_type": "code",
   "execution_count": 10,
   "metadata": {
    "scrolled": true
   },
   "outputs": [
    {
     "data": {
      "text/plain": [
       "Text(0.5, 1.0, 'Trend')"
      ]
     },
     "execution_count": 10,
     "metadata": {},
     "output_type": "execute_result"
    },
    {
     "data": {
      "image/png": "[encoded data removed]",
      "text/plain": [
       "<Figure size 720x360 with 1 Axes>"
      ]
     },
     "metadata": {
      "needs_background": "light"
     },
     "output_type": "display_data"
    }
   ],
   "source": [
    "decomposed = seasonal_decompose(data['num_orders'])\n",
    "plt.figure(figsize=(10, 5))\n",
    "decomposed.trend.plot(ax=plt.gca())\n",
    "plt.title('Trend')"
   ]
  },
  {
   "cell_type": "markdown",
   "metadata": {},
   "source": [
    "Видим линейный тренд увеличения заказов к концу лета, когда многие возвращаются из отпусков к началу учебного года"
   ]
  },
  {
   "cell_type": "markdown",
   "metadata": {},
   "source": [
    "Построим графики по трем составляющим: тренду, сезонности и остатку декомпозиции в периоде одной недели августа"
   ]
  },
  {
   "cell_type": "code",
   "execution_count": 11,
   "metadata": {},
   "outputs": [
    {
     "data": {
      "image/png": "[encoded data removed]",
      "text/plain": [
       "<Figure size 864x864 with 3 Axes>"
      ]
     },
     "metadata": {
      "needs_background": "light"
     },
     "output_type": "display_data"
    }
   ],
   "source": [
    "decomposed = seasonal_decompose(data['2018-08-24':'2018-08-31']['num_orders'])\n",
    "plt.figure(figsize=(12, 12))\n",
    "plt.subplot(311)\n",
    "\n",
    "decomposed.trend.plot(ax=plt.gca())\n",
    "plt.title('Trend')\n",
    "plt.subplot(312)\n",
    "decomposed.seasonal.plot(ax=plt.gca())\n",
    "\n",
    "plt.title('Seasonality')\n",
    "plt.subplot(313)\n",
    "decomposed.resid.plot(ax=plt.gca())\n",
    "\n",
    "plt.title('Residuals')\n",
    "plt.tight_layout()"
   ]
  },
  {
   "cell_type": "markdown",
   "metadata": {},
   "source": [
    "По графику с сезонностью видим изменение в течении одного дня с наибольшим кол-ом заказов к концу дня и наименьшим ночью."
   ]
  },
  {
   "cell_type": "markdown",
   "metadata": {},
   "source": [
    "## Обучение"
   ]
  },
  {
   "cell_type": "markdown",
   "metadata": {},
   "source": [
    "Напишем функцию для создания обучающих признаков. \n",
    "<br> Создадим признаки day, dayofweek, hour, признаки для скользящего среднего rolling_mean (с размером окна rolling_mean_size) и lag для признаков отстающего значения."
   ]
  },
  {
   "cell_type": "code",
   "execution_count": 12,
   "metadata": {},
   "outputs": [],
   "source": [
    "def make_features(data, max_lag, rolling_mean_size):\n",
    "    data['day'] = data.index.day\n",
    "    data['dayofweek'] = data.index.dayofweek\n",
    "    data['hour'] = data.index.hour\n",
    "    \n",
    "    for lag in range(1, max_lag + 1):\n",
    "        data['lag_{}'.format(lag)] = data['num_orders'].shift(lag)\n",
    "    data['rolling_mean'] = data['num_orders'].shift().rolling(rolling_mean_size).mean()\n",
    "    return data"
   ]
  },
  {
   "cell_type": "code",
   "execution_count": 13,
   "metadata": {},
   "outputs": [],
   "source": [
    "data = make_features(data, 2, 24)"
   ]
  },
  {
   "cell_type": "markdown",
   "metadata": {},
   "source": [
    "выделим обучающую и тестовую выборки, с размером тестовой = 10% от данных"
   ]
  },
  {
   "cell_type": "code",
   "execution_count": 14,
   "metadata": {},
   "outputs": [],
   "source": [
    "data = data.drop('rolling_std', axis = 1)"
   ]
  },
  {
   "cell_type": "code",
   "execution_count": 15,
   "metadata": {},
   "outputs": [],
   "source": [
    "train, test = train_test_split(data, shuffle=False, test_size=0.1)\n",
    "train = train.dropna()"
   ]
  },
  {
   "cell_type": "code",
   "execution_count": 16,
   "metadata": {},
   "outputs": [
    {
     "data": {
      "text/html": [
       "<div>\n",
       "<style scoped>\n",
       "    .dataframe tbody tr th:only-of-type {\n",
       "        vertical-align: middle;\n",
       "    }\n",
       "\n",
       "    .dataframe tbody tr th {\n",
       "        vertical-align: top;\n",
       "    }\n",
       "\n",
       "    .dataframe thead th {\n",
       "        text-align: right;\n",
       "    }\n",
       "</style>\n",
       "<table border=\"1\" class=\"dataframe\">\n",
       "  <thead>\n",
       "    <tr style=\"text-align: right;\">\n",
       "      <th></th>\n",
       "      <th>num_orders</th>\n",
       "      <th>rolling_mean</th>\n",
       "      <th>day</th>\n",
       "      <th>dayofweek</th>\n",
       "      <th>hour</th>\n",
       "      <th>lag_1</th>\n",
       "      <th>lag_2</th>\n",
       "    </tr>\n",
       "    <tr>\n",
       "      <th>datetime</th>\n",
       "      <th></th>\n",
       "      <th></th>\n",
       "      <th></th>\n",
       "      <th></th>\n",
       "      <th></th>\n",
       "      <th></th>\n",
       "      <th></th>\n",
       "    </tr>\n",
       "  </thead>\n",
       "  <tbody>\n",
       "    <tr>\n",
       "      <th>2018-03-02 00:00:00</th>\n",
       "      <td>90</td>\n",
       "      <td>56.833333</td>\n",
       "      <td>2</td>\n",
       "      <td>4</td>\n",
       "      <td>0</td>\n",
       "      <td>58.0</td>\n",
       "      <td>113.0</td>\n",
       "    </tr>\n",
       "    <tr>\n",
       "      <th>2018-03-02 01:00:00</th>\n",
       "      <td>120</td>\n",
       "      <td>55.416667</td>\n",
       "      <td>2</td>\n",
       "      <td>4</td>\n",
       "      <td>1</td>\n",
       "      <td>90.0</td>\n",
       "      <td>58.0</td>\n",
       "    </tr>\n",
       "    <tr>\n",
       "      <th>2018-03-02 02:00:00</th>\n",
       "      <td>75</td>\n",
       "      <td>56.875000</td>\n",
       "      <td>2</td>\n",
       "      <td>4</td>\n",
       "      <td>2</td>\n",
       "      <td>120.0</td>\n",
       "      <td>90.0</td>\n",
       "    </tr>\n",
       "    <tr>\n",
       "      <th>2018-03-02 03:00:00</th>\n",
       "      <td>64</td>\n",
       "      <td>57.041667</td>\n",
       "      <td>2</td>\n",
       "      <td>4</td>\n",
       "      <td>3</td>\n",
       "      <td>75.0</td>\n",
       "      <td>120.0</td>\n",
       "    </tr>\n",
       "    <tr>\n",
       "      <th>2018-03-02 04:00:00</th>\n",
       "      <td>20</td>\n",
       "      <td>56.958333</td>\n",
       "      <td>2</td>\n",
       "      <td>4</td>\n",
       "      <td>4</td>\n",
       "      <td>64.0</td>\n",
       "      <td>75.0</td>\n",
       "    </tr>\n",
       "  </tbody>\n",
       "</table>\n",
       "</div>"
      ],
      "text/plain": [
       "                     num_orders  rolling_mean  day  dayofweek  hour  lag_1  \\\n",
       "datetime                                                                     \n",
       "2018-03-02 00:00:00          90     56.833333    2          4     0   58.0   \n",
       "2018-03-02 01:00:00         120     55.416667    2          4     1   90.0   \n",
       "2018-03-02 02:00:00          75     56.875000    2          4     2  120.0   \n",
       "2018-03-02 03:00:00          64     57.041667    2          4     3   75.0   \n",
       "2018-03-02 04:00:00          20     56.958333    2          4     4   64.0   \n",
       "\n",
       "                     lag_2  \n",
       "datetime                    \n",
       "2018-03-02 00:00:00  113.0  \n",
       "2018-03-02 01:00:00   58.0  \n",
       "2018-03-02 02:00:00   90.0  \n",
       "2018-03-02 03:00:00  120.0  \n",
       "2018-03-02 04:00:00   75.0  "
      ]
     },
     "execution_count": 16,
     "metadata": {},
     "output_type": "execute_result"
    }
   ],
   "source": [
    "train.head()"
   ]
  },
  {
   "cell_type": "markdown",
   "metadata": {},
   "source": [
    "выделим в данных признаки"
   ]
  },
  {
   "cell_type": "code",
   "execution_count": 17,
   "metadata": {},
   "outputs": [],
   "source": [
    "features_train = train.drop('num_orders', axis = 1)\n",
    "target_train = train['num_orders']\n",
    "features_test = test.drop('num_orders', axis = 1)\n",
    "target_test = test['num_orders']"
   ]
  },
  {
   "cell_type": "markdown",
   "metadata": {},
   "source": [
    "кросс-валидация для временного ряда"
   ]
  },
  {
   "cell_type": "code",
   "execution_count": 18,
   "metadata": {},
   "outputs": [],
   "source": [
    "tscv = TimeSeriesSplit(n_splits=8)"
   ]
  },
  {
   "cell_type": "markdown",
   "metadata": {},
   "source": [
    "### LinearRegression"
   ]
  },
  {
   "cell_type": "code",
   "execution_count": 19,
   "metadata": {},
   "outputs": [
    {
     "name": "stdout",
     "output_type": "stream",
     "text": [
      "RMSE LinearRegression на обучающей выборке: 30.87996309066125\n"
     ]
    }
   ],
   "source": [
    "lr = LinearRegression()\n",
    "lr.fit(features_train, target_train)\n",
    "pred_lr_train = lr.predict(features_train)\n",
    "print(\"RMSE LinearRegression на обучающей выборке:\", mean_squared_error(target_train, pred_lr_train) ** 0.5)\n",
    "\n"
   ]
  },
  {
   "cell_type": "markdown",
   "metadata": {},
   "source": [
    "### RandomForestRegressor"
   ]
  },
  {
   "cell_type": "code",
   "execution_count": 20,
   "metadata": {},
   "outputs": [],
   "source": [
    "tree_params = {'max_depth': [5, 12, 15, 20],\n",
    "               'min_samples_split': [2, 3, 4, 5]}"
   ]
  },
  {
   "cell_type": "code",
   "execution_count": 21,
   "metadata": {},
   "outputs": [
    {
     "name": "stdout",
     "output_type": "stream",
     "text": [
      "{'max_depth': 15, 'min_samples_split': 2}\n",
      "RMSE RandomForestRegressor на обучающей выборке:  9.786584710529608\n"
     ]
    }
   ],
   "source": [
    "grid_rfr = GridSearchCV(RandomForestRegressor(random_state=12345), \n",
    "                        tree_params, refit=False, cv=tscv, n_jobs=-1, scoring='neg_mean_squared_error') \n",
    "grid_rfr.fit(features_train, target_train)\n",
    "params = grid_rfr.best_params_\n",
    "rfr = RandomForestRegressor(**params, random_state = 12345)\n",
    "rfr.fit(features_train, target_train)\n",
    "pred_rfr_train = rfr.predict(features_train)\n",
    "print(params)\n",
    "print(\"RMSE RandomForestRegressor на обучающей выборке: \", mean_squared_error(target_train, pred_rfr_train) ** 0.5)\n"
   ]
  },
  {
   "cell_type": "markdown",
   "metadata": {},
   "source": [
    "### LGBMRegressor"
   ]
  },
  {
   "cell_type": "code",
   "execution_count": 22,
   "metadata": {},
   "outputs": [],
   "source": [
    "param_grid = {\n",
    "    'n_estimators': [400], \n",
    "    'learning_rate': [0.01, 0.02, 0.15],\n",
    "    'max_depth': [6, 10, 12],\n",
    "    'num_leaves': [6, 12, 25]\n",
    "}"
   ]
  },
  {
   "cell_type": "code",
   "execution_count": 23,
   "metadata": {},
   "outputs": [
    {
     "name": "stdout",
     "output_type": "stream",
     "text": [
      "{'learning_rate': 0.02, 'max_depth': 12, 'n_estimators': 400, 'num_leaves': 25}\n",
      "RMSE LGBMRegressor на обучающей выборке:  17.801719862562326\n"
     ]
    }
   ],
   "source": [
    "grid_lgbm = GridSearchCV(lgb.LGBMRegressor(random_state=12345), \n",
    "                    param_grid, cv=tscv, n_jobs=-1, scoring='neg_mean_squared_error', refit=False) \n",
    "grid_lgbm.fit(features_train, target_train)\n",
    "params = grid_lgbm.best_params_\n",
    "lgbm = lgb.LGBMRegressor(**params, random_state = 12345)\n",
    "lgbm.fit(features_train, target_train)\n",
    "pred_lgbm_train = lgbm.predict(features_train)\n",
    "print(params)\n",
    "print(\"RMSE LGBMRegressor на обучающей выборке: \", mean_squared_error(target_train, pred_lgbm_train) ** 0.5)"
   ]
  },
  {
   "cell_type": "markdown",
   "metadata": {},
   "source": [
    "## Тестирование"
   ]
  },
  {
   "cell_type": "code",
   "execution_count": 24,
   "metadata": {},
   "outputs": [
    {
     "name": "stdout",
     "output_type": "stream",
     "text": [
      "RMSE LR на тестовой выборке:  51.26017029472908\n",
      "RMSE RFR на тестовой выборке:  47.25283831621277\n",
      "RMSE LGBM на тестовой выборке:  44.89313064217499\n"
     ]
    }
   ],
   "source": [
    "pred_lr_test = lr.predict(features_test)\n",
    "pred_rfr_test = rfr.predict(features_test)\n",
    "pred_lgbm_test = lgbm.predict(features_test)\n",
    "print(\"RMSE LR на тестовой выборке: \", mean_squared_error(target_test, pred_lr_test, squared=False))\n",
    "print(\"RMSE RFR на тестовой выборке: \", mean_squared_error(target_test, pred_rfr_test, squared=False))\n",
    "print(\"RMSE LGBM на тестовой выборке: \", mean_squared_error(target_test, pred_lgbm_test, squared=False))"
   ]
  },
  {
   "cell_type": "code",
   "execution_count": 25,
   "metadata": {},
   "outputs": [],
   "source": [
    "true_pred = pd.DataFrame({ \n",
    "    'истинные' : target_test,\n",
    "    'предсказанные' : lgbm.predict(features_test)\n",
    "    })"
   ]
  },
  {
   "cell_type": "code",
   "execution_count": 26,
   "metadata": {
    "scrolled": true
   },
   "outputs": [
    {
     "data": {
      "image/png": "[encoded data removed]",
      "text/plain": [
       "<Figure size 1008x432 with 1 Axes>"
      ]
     },
     "metadata": {
      "needs_background": "light"
     },
     "output_type": "display_data"
    }
   ],
   "source": [
    "true_pred.plot(figsize=(14,6), title='Истинные и предсказанные значения объема заказов');"
   ]
  },
  {
   "cell_type": "markdown",
   "metadata": {},
   "source": [
    "В результате предсказанные значения кол-ва заказов по модели LGBMRegressor на тестовой выборке близки к истинным данным"
   ]
  },
  {
   "cell_type": "markdown",
   "metadata": {},
   "source": [
    "## Вывод"
   ]
  },
  {
   "cell_type": "markdown",
   "metadata": {},
   "source": [
    "В ходе работы по прогнозированию кол-ва заказов такси было проведено:\n",
    "- ресемплирование данных до 1 часа\n",
    "- обнаружен растущий тренд кол-ва заказов к концу лета, что может быть связано с возвращением людей из отпусков к началу учебного года\n",
    "- сезонность можно отметить только в рамках одного дня с наибольшим кол-ом заказов к концу дня и наименьшим ночью\n",
    "- далее были созданы выборки (тестовая размером 10%), признаки и обучены 3 модели для предсказания количества заказов: LinearRegression, RandomForestRegressor и LGBMRegressor\n",
    "\n",
    "<br> В результате тестирования моделей на тестовой выборке лучшее значение RMSE - 44.9 показала модель LGBMRegressor \n",
    "<br> Результат незначительно хуже - 47.3 показала модель RandomForestRegressor\n",
    "<br> И худшее значение RSME - 51.3 получилось на модели  LinearRegression (значение вне допустимого по заданию)\n",
    "\n",
    "<br> В заключении по лучшей модели (LGBMRegressor) был построен график, показывающий сравнение истинного кол-ва заказов и предсказанных на лучшей модели, именно модель LGBMRegressor рекомендуется для дальнейшего применения."
   ]
  }
 ],
 "metadata": {
  "ExecuteTimeLog": [
   {
    "duration": 1792,
    "start_time": "2022-05-03T17:40:45.989Z"
   },
   {
    "duration": 143,
    "start_time": "2022-05-03T17:41:34.657Z"
   },
   {
    "duration": 11,
    "start_time": "2022-05-03T17:41:42.519Z"
   },
   {
    "duration": 13,
    "start_time": "2022-05-03T17:42:10.665Z"
   },
   {
    "duration": 13,
    "start_time": "2022-05-03T17:42:29.285Z"
   },
   {
    "duration": 12,
    "start_time": "2022-05-03T17:45:15.225Z"
   },
   {
    "duration": 6,
    "start_time": "2022-05-03T17:47:29.372Z"
   },
   {
    "duration": 6,
    "start_time": "2022-05-03T17:48:11.685Z"
   },
   {
    "duration": 1683,
    "start_time": "2022-05-03T17:48:40.306Z"
   },
   {
    "duration": 35,
    "start_time": "2022-05-03T17:48:41.992Z"
   },
   {
    "duration": 10,
    "start_time": "2022-05-03T17:48:42.028Z"
   },
   {
    "duration": 8,
    "start_time": "2022-05-03T17:48:42.040Z"
   },
   {
    "duration": 10,
    "start_time": "2022-05-03T17:48:42.050Z"
   },
   {
    "duration": 7,
    "start_time": "2022-05-03T17:48:42.061Z"
   },
   {
    "duration": 5,
    "start_time": "2022-05-03T17:48:59.768Z"
   },
   {
    "duration": 7,
    "start_time": "2022-05-03T17:49:00.561Z"
   },
   {
    "duration": 10,
    "start_time": "2022-05-03T17:51:07.056Z"
   },
   {
    "duration": 102,
    "start_time": "2022-05-03T17:52:10.064Z"
   },
   {
    "duration": 4,
    "start_time": "2022-05-03T17:52:24.441Z"
   },
   {
    "duration": 192,
    "start_time": "2022-05-03T17:56:36.518Z"
   },
   {
    "duration": 242,
    "start_time": "2022-05-03T17:56:40.749Z"
   },
   {
    "duration": 177,
    "start_time": "2022-05-03T17:56:47.453Z"
   },
   {
    "duration": 7,
    "start_time": "2022-05-03T18:00:08.739Z"
   },
   {
    "duration": 225,
    "start_time": "2022-05-03T18:00:09.639Z"
   },
   {
    "duration": 16,
    "start_time": "2022-05-03T18:10:50.949Z"
   },
   {
    "duration": 34,
    "start_time": "2022-05-03T18:11:04.300Z"
   },
   {
    "duration": 21,
    "start_time": "2022-05-03T18:11:24.744Z"
   },
   {
    "duration": 21,
    "start_time": "2022-05-03T18:13:30.814Z"
   },
   {
    "duration": 1054,
    "start_time": "2022-05-03T18:15:18.811Z"
   },
   {
    "duration": 995,
    "start_time": "2022-05-03T18:15:36.782Z"
   },
   {
    "duration": 950,
    "start_time": "2022-05-03T18:16:29.540Z"
   },
   {
    "duration": 836,
    "start_time": "2022-05-03T18:16:46.629Z"
   },
   {
    "duration": 1010,
    "start_time": "2022-05-03T18:17:27.756Z"
   },
   {
    "duration": 774,
    "start_time": "2022-05-03T18:20:15.720Z"
   },
   {
    "duration": 356,
    "start_time": "2022-05-03T18:20:25.945Z"
   },
   {
    "duration": 196,
    "start_time": "2022-05-03T18:21:23.458Z"
   },
   {
    "duration": 287,
    "start_time": "2022-05-03T18:21:36.700Z"
   },
   {
    "duration": 193,
    "start_time": "2022-05-03T18:21:56.445Z"
   },
   {
    "duration": 672,
    "start_time": "2022-05-03T18:23:15.623Z"
   },
   {
    "duration": 0,
    "start_time": "2022-05-03T18:25:41.744Z"
   },
   {
    "duration": 691,
    "start_time": "2022-05-03T18:25:49.062Z"
   },
   {
    "duration": 590,
    "start_time": "2022-05-03T18:26:03.712Z"
   },
   {
    "duration": 486,
    "start_time": "2022-05-03T18:26:45.615Z"
   },
   {
    "duration": 2,
    "start_time": "2022-05-03T18:35:31.047Z"
   },
   {
    "duration": 9,
    "start_time": "2022-05-03T18:36:55.361Z"
   },
   {
    "duration": 7,
    "start_time": "2022-05-03T18:37:04.187Z"
   },
   {
    "duration": 18,
    "start_time": "2022-05-03T18:39:42.915Z"
   },
   {
    "duration": 14,
    "start_time": "2022-05-03T18:40:36.501Z"
   },
   {
    "duration": 15,
    "start_time": "2022-05-03T18:41:00.252Z"
   },
   {
    "duration": 14,
    "start_time": "2022-05-03T18:41:16.394Z"
   },
   {
    "duration": 6,
    "start_time": "2022-05-03T18:41:28.677Z"
   },
   {
    "duration": 14,
    "start_time": "2022-05-03T18:41:31.520Z"
   },
   {
    "duration": 12,
    "start_time": "2022-05-03T18:42:35.127Z"
   },
   {
    "duration": 3,
    "start_time": "2022-05-03T18:47:54.426Z"
   },
   {
    "duration": 9,
    "start_time": "2022-05-03T18:47:55.417Z"
   },
   {
    "duration": 21,
    "start_time": "2022-05-03T18:48:01.529Z"
   },
   {
    "duration": 8,
    "start_time": "2022-05-03T18:48:02.465Z"
   },
   {
    "duration": 22,
    "start_time": "2022-05-03T18:48:03.339Z"
   },
   {
    "duration": 70,
    "start_time": "2022-05-03T18:48:26.629Z"
   },
   {
    "duration": 0,
    "start_time": "2022-05-04T11:30:49.947Z"
   },
   {
    "duration": 0,
    "start_time": "2022-05-04T11:30:49.949Z"
   },
   {
    "duration": 0,
    "start_time": "2022-05-04T11:30:49.951Z"
   },
   {
    "duration": 0,
    "start_time": "2022-05-04T11:30:49.952Z"
   },
   {
    "duration": 0,
    "start_time": "2022-05-04T11:30:49.954Z"
   },
   {
    "duration": 0,
    "start_time": "2022-05-04T11:30:49.956Z"
   },
   {
    "duration": 0,
    "start_time": "2022-05-04T11:30:49.958Z"
   },
   {
    "duration": 0,
    "start_time": "2022-05-04T11:30:49.960Z"
   },
   {
    "duration": 0,
    "start_time": "2022-05-04T11:30:49.962Z"
   },
   {
    "duration": 0,
    "start_time": "2022-05-04T11:30:49.964Z"
   },
   {
    "duration": 0,
    "start_time": "2022-05-04T11:30:49.965Z"
   },
   {
    "duration": 0,
    "start_time": "2022-05-04T11:30:49.967Z"
   },
   {
    "duration": 0,
    "start_time": "2022-05-04T11:30:49.968Z"
   },
   {
    "duration": 0,
    "start_time": "2022-05-04T11:30:49.970Z"
   },
   {
    "duration": 0,
    "start_time": "2022-05-04T11:30:49.972Z"
   },
   {
    "duration": 0,
    "start_time": "2022-05-04T11:30:49.974Z"
   },
   {
    "duration": 0,
    "start_time": "2022-05-04T11:30:49.975Z"
   },
   {
    "duration": 0,
    "start_time": "2022-05-04T11:30:50.033Z"
   },
   {
    "duration": 0,
    "start_time": "2022-05-04T11:30:50.035Z"
   },
   {
    "duration": 5,
    "start_time": "2022-05-04T11:32:50.474Z"
   },
   {
    "duration": 56,
    "start_time": "2022-05-04T11:32:50.482Z"
   },
   {
    "duration": 9,
    "start_time": "2022-05-04T11:32:50.541Z"
   },
   {
    "duration": 18,
    "start_time": "2022-05-04T11:32:50.554Z"
   },
   {
    "duration": 11,
    "start_time": "2022-05-04T11:32:50.575Z"
   },
   {
    "duration": 11,
    "start_time": "2022-05-04T11:32:50.588Z"
   },
   {
    "duration": 12,
    "start_time": "2022-05-04T11:32:50.626Z"
   },
   {
    "duration": 19,
    "start_time": "2022-05-04T11:32:50.640Z"
   },
   {
    "duration": 436,
    "start_time": "2022-05-04T11:32:50.662Z"
   },
   {
    "duration": 385,
    "start_time": "2022-05-04T11:32:51.103Z"
   },
   {
    "duration": 2114,
    "start_time": "2022-05-04T11:32:58.726Z"
   },
   {
    "duration": 42,
    "start_time": "2022-05-04T11:33:00.844Z"
   },
   {
    "duration": 52,
    "start_time": "2022-05-04T11:33:00.888Z"
   },
   {
    "duration": 24,
    "start_time": "2022-05-04T11:33:00.943Z"
   },
   {
    "duration": 63,
    "start_time": "2022-05-04T11:33:00.971Z"
   },
   {
    "duration": 10,
    "start_time": "2022-05-04T11:33:01.036Z"
   },
   {
    "duration": 23,
    "start_time": "2022-05-04T11:33:01.049Z"
   },
   {
    "duration": 64,
    "start_time": "2022-05-04T11:33:01.075Z"
   },
   {
    "duration": 989,
    "start_time": "2022-05-04T11:33:01.147Z"
   },
   {
    "duration": 1013,
    "start_time": "2022-05-04T11:33:02.141Z"
   },
   {
    "duration": 1373,
    "start_time": "2022-05-04T11:33:03.156Z"
   },
   {
    "duration": 8,
    "start_time": "2022-05-04T11:33:04.532Z"
   },
   {
    "duration": 53,
    "start_time": "2022-05-04T11:33:04.542Z"
   },
   {
    "duration": 14,
    "start_time": "2022-05-04T11:33:04.599Z"
   },
   {
    "duration": 52,
    "start_time": "2022-05-04T11:33:04.615Z"
   },
   {
    "duration": 8,
    "start_time": "2022-05-04T11:33:04.670Z"
   },
   {
    "duration": 162,
    "start_time": "2022-05-04T11:33:04.680Z"
   },
   {
    "duration": 1360,
    "start_time": "2022-05-04T11:33:04.846Z"
   },
   {
    "duration": 193,
    "start_time": "2022-05-04T11:33:06.209Z"
   },
   {
    "duration": 7,
    "start_time": "2022-05-04T11:33:49.390Z"
   },
   {
    "duration": 2523,
    "start_time": "2022-05-04T11:34:20.890Z"
   },
   {
    "duration": 2609,
    "start_time": "2022-05-04T11:34:49.270Z"
   },
   {
    "duration": 2577,
    "start_time": "2022-05-04T11:35:00.980Z"
   },
   {
    "duration": 11,
    "start_time": "2022-05-04T11:35:43.032Z"
   },
   {
    "duration": 14,
    "start_time": "2022-05-04T11:35:48.371Z"
   },
   {
    "duration": 8,
    "start_time": "2022-05-04T11:36:36.333Z"
   },
   {
    "duration": 415,
    "start_time": "2022-05-04T11:38:45.620Z"
   },
   {
    "duration": 12,
    "start_time": "2022-05-04T11:38:50.360Z"
   },
   {
    "duration": 3068,
    "start_time": "2022-05-04T11:42:22.443Z"
   },
   {
    "duration": 2867,
    "start_time": "2022-05-04T11:42:33.561Z"
   },
   {
    "duration": 66,
    "start_time": "2022-05-04T11:45:31.011Z"
   },
   {
    "duration": 64,
    "start_time": "2022-05-04T11:46:01.710Z"
   },
   {
    "duration": 150,
    "start_time": "2022-05-04T11:47:16.992Z"
   },
   {
    "duration": 47,
    "start_time": "2022-05-04T11:47:21.854Z"
   },
   {
    "duration": 30,
    "start_time": "2022-05-04T11:47:25.955Z"
   },
   {
    "duration": 71,
    "start_time": "2022-05-04T11:47:29.111Z"
   },
   {
    "duration": 16,
    "start_time": "2022-05-04T11:49:45.172Z"
   },
   {
    "duration": 18,
    "start_time": "2022-05-04T11:50:13.339Z"
   },
   {
    "duration": 14,
    "start_time": "2022-05-04T11:50:28.710Z"
   },
   {
    "duration": 18,
    "start_time": "2022-05-04T11:50:29.392Z"
   },
   {
    "duration": 4,
    "start_time": "2022-05-04T11:50:52.590Z"
   },
   {
    "duration": 23,
    "start_time": "2022-05-04T11:50:53.336Z"
   },
   {
    "duration": 34175,
    "start_time": "2022-05-04T11:51:37.846Z"
   },
   {
    "duration": 127,
    "start_time": "2022-05-04T11:53:00.925Z"
   },
   {
    "duration": 6,
    "start_time": "2022-05-04T11:53:51.709Z"
   },
   {
    "duration": 269843,
    "start_time": "2022-05-04T11:53:57.638Z"
   },
   {
    "duration": 6937,
    "start_time": "2022-05-04T11:58:30.087Z"
   },
   {
    "duration": 3445,
    "start_time": "2022-05-04T11:58:45.940Z"
   },
   {
    "duration": 4383,
    "start_time": "2022-05-04T11:59:04.134Z"
   },
   {
    "duration": 77,
    "start_time": "2022-05-04T11:59:46.831Z"
   },
   {
    "duration": 77,
    "start_time": "2022-05-04T11:59:49.900Z"
   },
   {
    "duration": 65,
    "start_time": "2022-05-04T11:59:56.450Z"
   },
   {
    "duration": 57,
    "start_time": "2022-05-04T12:00:02.560Z"
   },
   {
    "duration": 66,
    "start_time": "2022-05-04T12:00:18.934Z"
   },
   {
    "duration": 389795,
    "start_time": "2022-05-04T12:01:59.019Z"
   },
   {
    "duration": 5,
    "start_time": "2022-05-04T12:08:52.212Z"
   },
   {
    "duration": 132,
    "start_time": "2022-05-04T12:09:05.806Z"
   },
   {
    "duration": 5564,
    "start_time": "2022-05-04T12:10:37.891Z"
   },
   {
    "duration": 140,
    "start_time": "2022-05-04T12:13:56.411Z"
   },
   {
    "duration": 96,
    "start_time": "2022-05-04T12:14:13.131Z"
   },
   {
    "duration": 19,
    "start_time": "2022-05-04T12:22:18.605Z"
   },
   {
    "duration": 18,
    "start_time": "2022-05-04T12:24:16.467Z"
   },
   {
    "duration": 18,
    "start_time": "2022-05-04T12:25:05.921Z"
   },
   {
    "duration": 13,
    "start_time": "2022-05-04T12:26:29.641Z"
   },
   {
    "duration": 17021,
    "start_time": "2022-05-04T12:26:46.121Z"
   },
   {
    "duration": 12,
    "start_time": "2022-05-04T12:27:49.861Z"
   },
   {
    "duration": 63,
    "start_time": "2022-05-04T12:28:01.318Z"
   },
   {
    "duration": 5,
    "start_time": "2022-05-04T12:28:43.562Z"
   },
   {
    "duration": 26,
    "start_time": "2022-05-04T12:30:05.481Z"
   },
   {
    "duration": 6,
    "start_time": "2022-05-04T12:30:07.712Z"
   },
   {
    "duration": 63,
    "start_time": "2022-05-04T12:30:40.862Z"
   },
   {
    "duration": 6,
    "start_time": "2022-05-04T12:30:42.102Z"
   },
   {
    "duration": 17,
    "start_time": "2022-05-04T12:33:35.422Z"
   },
   {
    "duration": 14,
    "start_time": "2022-05-04T12:34:01.642Z"
   },
   {
    "duration": 25775,
    "start_time": "2022-05-04T12:34:45.262Z"
   },
   {
    "duration": 63,
    "start_time": "2022-05-04T12:35:11.039Z"
   },
   {
    "duration": 23,
    "start_time": "2022-05-04T12:35:11.104Z"
   },
   {
    "duration": 15,
    "start_time": "2022-05-04T12:35:46.325Z"
   },
   {
    "duration": 396,
    "start_time": "2022-05-04T12:36:01.402Z"
   },
   {
    "duration": 62,
    "start_time": "2022-05-04T12:36:03.282Z"
   },
   {
    "duration": 6,
    "start_time": "2022-05-04T12:36:04.201Z"
   },
   {
    "duration": 407,
    "start_time": "2022-05-04T12:38:00.622Z"
   },
   {
    "duration": 62,
    "start_time": "2022-05-04T12:38:02.361Z"
   },
   {
    "duration": 5,
    "start_time": "2022-05-04T12:38:03.162Z"
   },
   {
    "duration": 405,
    "start_time": "2022-05-04T12:39:11.982Z"
   },
   {
    "duration": 64,
    "start_time": "2022-05-04T12:39:13.543Z"
   },
   {
    "duration": 6,
    "start_time": "2022-05-04T12:39:15.081Z"
   },
   {
    "duration": 2781,
    "start_time": "2022-05-04T19:59:40.651Z"
   },
   {
    "duration": 37,
    "start_time": "2022-05-04T19:59:43.435Z"
   },
   {
    "duration": 59,
    "start_time": "2022-05-04T19:59:43.474Z"
   },
   {
    "duration": 16,
    "start_time": "2022-05-04T19:59:43.535Z"
   },
   {
    "duration": 71,
    "start_time": "2022-05-04T19:59:43.555Z"
   },
   {
    "duration": 8,
    "start_time": "2022-05-04T19:59:43.628Z"
   },
   {
    "duration": 5,
    "start_time": "2022-05-04T19:59:43.638Z"
   },
   {
    "duration": 7,
    "start_time": "2022-05-04T19:59:43.645Z"
   },
   {
    "duration": 519,
    "start_time": "2022-05-04T19:59:43.654Z"
   },
   {
    "duration": 296,
    "start_time": "2022-05-04T19:59:44.175Z"
   },
   {
    "duration": 675,
    "start_time": "2022-05-04T19:59:44.472Z"
   },
   {
    "duration": 5,
    "start_time": "2022-05-04T19:59:45.150Z"
   },
   {
    "duration": 30,
    "start_time": "2022-05-04T19:59:45.157Z"
   },
   {
    "duration": 10,
    "start_time": "2022-05-04T19:59:45.190Z"
   },
   {
    "duration": 27,
    "start_time": "2022-05-04T19:59:45.202Z"
   },
   {
    "duration": 5,
    "start_time": "2022-05-04T19:59:45.231Z"
   },
   {
    "duration": 9,
    "start_time": "2022-05-04T19:59:45.238Z"
   },
   {
    "duration": 275,
    "start_time": "2022-05-04T19:59:45.249Z"
   },
   {
    "duration": 4,
    "start_time": "2022-05-04T19:59:45.527Z"
   },
   {
    "duration": 222,
    "start_time": "2022-05-04T19:59:45.533Z"
   },
   {
    "duration": 0,
    "start_time": "2022-05-04T19:59:45.757Z"
   },
   {
    "duration": 0,
    "start_time": "2022-05-04T19:59:45.759Z"
   },
   {
    "duration": 0,
    "start_time": "2022-05-04T19:59:45.761Z"
   },
   {
    "duration": 0,
    "start_time": "2022-05-04T19:59:45.762Z"
   },
   {
    "duration": 0,
    "start_time": "2022-05-04T19:59:45.764Z"
   },
   {
    "duration": 0,
    "start_time": "2022-05-04T19:59:45.765Z"
   },
   {
    "duration": 0,
    "start_time": "2022-05-04T19:59:45.767Z"
   },
   {
    "duration": 0,
    "start_time": "2022-05-04T19:59:45.768Z"
   },
   {
    "duration": 0,
    "start_time": "2022-05-04T19:59:45.770Z"
   },
   {
    "duration": 37,
    "start_time": "2022-05-04T20:03:34.917Z"
   },
   {
    "duration": 15178,
    "start_time": "2022-05-04T20:03:43.817Z"
   },
   {
    "duration": 4,
    "start_time": "2022-05-04T20:04:17.299Z"
   },
   {
    "duration": 136521,
    "start_time": "2022-05-04T20:04:19.206Z"
   },
   {
    "duration": 3,
    "start_time": "2022-05-04T20:08:07.656Z"
   },
   {
    "duration": 144115,
    "start_time": "2022-05-04T20:08:08.986Z"
   },
   {
    "duration": 3,
    "start_time": "2022-05-04T20:11:08.321Z"
   },
   {
    "duration": 162994,
    "start_time": "2022-05-04T20:11:09.239Z"
   },
   {
    "duration": 4,
    "start_time": "2022-05-04T20:15:17.786Z"
   },
   {
    "duration": 12,
    "start_time": "2022-05-04T20:15:18.647Z"
   },
   {
    "duration": 813196,
    "start_time": "2022-05-04T20:15:31.037Z"
   },
   {
    "duration": 3,
    "start_time": "2022-05-04T20:29:49.441Z"
   },
   {
    "duration": 0,
    "start_time": "2022-05-04T20:31:50.925Z"
   },
   {
    "duration": 175679,
    "start_time": "2022-05-04T20:32:14.754Z"
   },
   {
    "duration": 170,
    "start_time": "2022-05-04T20:35:14.267Z"
   },
   {
    "duration": 10,
    "start_time": "2022-05-04T20:35:23.834Z"
   },
   {
    "duration": 12,
    "start_time": "2022-05-04T20:37:17.927Z"
   },
   {
    "duration": 22,
    "start_time": "2022-05-04T20:38:14.025Z"
   },
   {
    "duration": 252,
    "start_time": "2022-05-04T20:38:18.724Z"
   },
   {
    "duration": 337,
    "start_time": "2022-05-04T20:39:33.235Z"
   },
   {
    "duration": 10,
    "start_time": "2022-05-04T20:40:21.404Z"
   },
   {
    "duration": 6,
    "start_time": "2022-05-04T20:57:06.916Z"
   },
   {
    "duration": 42,
    "start_time": "2022-05-04T20:57:06.924Z"
   },
   {
    "duration": 7,
    "start_time": "2022-05-04T20:57:06.968Z"
   },
   {
    "duration": 11,
    "start_time": "2022-05-04T20:57:06.977Z"
   },
   {
    "duration": 7,
    "start_time": "2022-05-04T20:57:06.990Z"
   },
   {
    "duration": 6,
    "start_time": "2022-05-04T20:57:06.999Z"
   },
   {
    "duration": 5,
    "start_time": "2022-05-04T20:57:07.023Z"
   },
   {
    "duration": 6,
    "start_time": "2022-05-04T20:57:07.031Z"
   },
   {
    "duration": 277,
    "start_time": "2022-05-04T20:57:07.039Z"
   },
   {
    "duration": 234,
    "start_time": "2022-05-04T20:57:07.318Z"
   },
   {
    "duration": 706,
    "start_time": "2022-05-04T20:57:07.554Z"
   },
   {
    "duration": 4,
    "start_time": "2022-05-04T20:57:08.261Z"
   },
   {
    "duration": 76,
    "start_time": "2022-05-04T20:57:08.267Z"
   },
   {
    "duration": 11,
    "start_time": "2022-05-04T20:57:08.345Z"
   },
   {
    "duration": 94,
    "start_time": "2022-05-04T20:57:08.358Z"
   },
   {
    "duration": 7,
    "start_time": "2022-05-04T20:57:08.455Z"
   },
   {
    "duration": 4,
    "start_time": "2022-05-04T20:57:08.464Z"
   },
   {
    "duration": 202,
    "start_time": "2022-05-04T20:57:08.523Z"
   },
   {
    "duration": 4,
    "start_time": "2022-05-04T20:57:08.728Z"
   },
   {
    "duration": 5621,
    "start_time": "2022-05-04T20:57:08.736Z"
   },
   {
    "duration": 0,
    "start_time": "2022-05-04T20:57:14.360Z"
   },
   {
    "duration": 0,
    "start_time": "2022-05-04T20:57:14.362Z"
   },
   {
    "duration": 0,
    "start_time": "2022-05-04T20:57:14.363Z"
   },
   {
    "duration": 0,
    "start_time": "2022-05-04T20:57:14.364Z"
   },
   {
    "duration": 0,
    "start_time": "2022-05-04T20:57:14.366Z"
   },
   {
    "duration": 4,
    "start_time": "2022-05-04T20:57:18.426Z"
   },
   {
    "duration": 42,
    "start_time": "2022-05-04T20:57:18.433Z"
   },
   {
    "duration": 7,
    "start_time": "2022-05-04T20:57:18.477Z"
   },
   {
    "duration": 12,
    "start_time": "2022-05-04T20:57:18.486Z"
   },
   {
    "duration": 25,
    "start_time": "2022-05-04T20:57:18.500Z"
   },
   {
    "duration": 7,
    "start_time": "2022-05-04T20:57:18.526Z"
   },
   {
    "duration": 5,
    "start_time": "2022-05-04T20:57:18.535Z"
   },
   {
    "duration": 7,
    "start_time": "2022-05-04T20:57:18.542Z"
   },
   {
    "duration": 286,
    "start_time": "2022-05-04T20:57:18.551Z"
   },
   {
    "duration": 334,
    "start_time": "2022-05-04T20:57:18.839Z"
   },
   {
    "duration": 531,
    "start_time": "2022-05-04T20:57:19.175Z"
   },
   {
    "duration": 17,
    "start_time": "2022-05-04T20:57:19.707Z"
   },
   {
    "duration": 29,
    "start_time": "2022-05-04T20:57:19.726Z"
   },
   {
    "duration": 9,
    "start_time": "2022-05-04T20:57:19.758Z"
   },
   {
    "duration": 25,
    "start_time": "2022-05-04T20:57:19.768Z"
   },
   {
    "duration": 28,
    "start_time": "2022-05-04T20:57:19.795Z"
   },
   {
    "duration": 2,
    "start_time": "2022-05-04T20:57:19.825Z"
   },
   {
    "duration": 197,
    "start_time": "2022-05-04T20:57:19.829Z"
   },
   {
    "duration": 5,
    "start_time": "2022-05-04T20:57:20.028Z"
   },
   {
    "duration": 4653,
    "start_time": "2022-05-04T20:57:20.036Z"
   },
   {
    "duration": 0,
    "start_time": "2022-05-04T20:57:24.691Z"
   },
   {
    "duration": 0,
    "start_time": "2022-05-04T20:57:24.692Z"
   },
   {
    "duration": 0,
    "start_time": "2022-05-04T20:57:24.694Z"
   },
   {
    "duration": 0,
    "start_time": "2022-05-04T20:57:24.695Z"
   },
   {
    "duration": 0,
    "start_time": "2022-05-04T20:57:24.696Z"
   },
   {
    "duration": 2051,
    "start_time": "2022-05-04T20:57:36.875Z"
   },
   {
    "duration": 38,
    "start_time": "2022-05-04T20:57:38.928Z"
   },
   {
    "duration": 11,
    "start_time": "2022-05-04T20:57:38.968Z"
   },
   {
    "duration": 15,
    "start_time": "2022-05-04T20:57:39.024Z"
   },
   {
    "duration": 9,
    "start_time": "2022-05-04T20:57:39.041Z"
   },
   {
    "duration": 8,
    "start_time": "2022-05-04T20:57:39.052Z"
   },
   {
    "duration": 63,
    "start_time": "2022-05-04T20:57:39.061Z"
   },
   {
    "duration": 10,
    "start_time": "2022-05-04T20:57:39.126Z"
   },
   {
    "duration": 701,
    "start_time": "2022-05-04T20:57:39.137Z"
   },
   {
    "duration": 313,
    "start_time": "2022-05-04T20:57:39.841Z"
   },
   {
    "duration": 539,
    "start_time": "2022-05-04T20:57:40.156Z"
   },
   {
    "duration": 5,
    "start_time": "2022-05-04T20:57:40.697Z"
   },
   {
    "duration": 27,
    "start_time": "2022-05-04T20:57:40.704Z"
   },
   {
    "duration": 10,
    "start_time": "2022-05-04T20:57:40.732Z"
   },
   {
    "duration": 24,
    "start_time": "2022-05-04T20:57:40.744Z"
   },
   {
    "duration": 6,
    "start_time": "2022-05-04T20:57:40.770Z"
   },
   {
    "duration": 4,
    "start_time": "2022-05-04T20:57:40.778Z"
   },
   {
    "duration": 145,
    "start_time": "2022-05-04T20:57:40.784Z"
   },
   {
    "duration": 93,
    "start_time": "2022-05-04T20:57:40.931Z"
   },
   {
    "duration": 127934,
    "start_time": "2022-05-04T20:57:41.026Z"
   },
   {
    "duration": 4,
    "start_time": "2022-05-04T20:59:48.962Z"
   },
   {
    "duration": 578557,
    "start_time": "2022-05-04T20:59:48.968Z"
   },
   {
    "duration": 202,
    "start_time": "2022-05-04T21:09:27.527Z"
   },
   {
    "duration": 13,
    "start_time": "2022-05-04T21:09:27.731Z"
   },
   {
    "duration": 332,
    "start_time": "2022-05-04T21:09:27.745Z"
   },
   {
    "duration": 2804,
    "start_time": "2022-05-05T17:28:04.417Z"
   },
   {
    "duration": 31,
    "start_time": "2022-05-05T17:28:07.223Z"
   },
   {
    "duration": 10,
    "start_time": "2022-05-05T17:28:07.256Z"
   },
   {
    "duration": 10,
    "start_time": "2022-05-05T17:28:07.268Z"
   },
   {
    "duration": 28,
    "start_time": "2022-05-05T17:28:07.279Z"
   },
   {
    "duration": 7,
    "start_time": "2022-05-05T17:28:07.309Z"
   },
   {
    "duration": 7,
    "start_time": "2022-05-05T17:28:07.317Z"
   },
   {
    "duration": 7,
    "start_time": "2022-05-05T17:28:32.314Z"
   },
   {
    "duration": 333,
    "start_time": "2022-05-05T17:28:32.766Z"
   },
   {
    "duration": 222,
    "start_time": "2022-05-05T17:28:39.087Z"
   },
   {
    "duration": 531,
    "start_time": "2022-05-05T17:28:40.666Z"
   },
   {
    "duration": 5,
    "start_time": "2022-05-05T17:29:12.789Z"
   },
   {
    "duration": 24,
    "start_time": "2022-05-05T17:29:16.104Z"
   },
   {
    "duration": 10,
    "start_time": "2022-05-05T17:30:16.049Z"
   },
   {
    "duration": 26,
    "start_time": "2022-05-05T17:30:16.937Z"
   },
   {
    "duration": 5,
    "start_time": "2022-05-05T17:31:34.664Z"
   },
   {
    "duration": 3,
    "start_time": "2022-05-05T17:31:35.136Z"
   },
   {
    "duration": 113,
    "start_time": "2022-05-05T17:32:03.397Z"
   },
   {
    "duration": 1763,
    "start_time": "2022-05-05T18:49:45.010Z"
   },
   {
    "duration": 56,
    "start_time": "2022-05-05T18:49:49.904Z"
   },
   {
    "duration": 10,
    "start_time": "2022-05-05T18:49:50.558Z"
   },
   {
    "duration": 11,
    "start_time": "2022-05-05T18:49:52.383Z"
   },
   {
    "duration": 10,
    "start_time": "2022-05-05T18:49:55.257Z"
   },
   {
    "duration": 7,
    "start_time": "2022-05-05T18:49:55.966Z"
   },
   {
    "duration": 3,
    "start_time": "2022-05-05T18:49:58.948Z"
   },
   {
    "duration": 11,
    "start_time": "2022-05-05T18:50:10.482Z"
   },
   {
    "duration": 368,
    "start_time": "2022-05-05T18:50:11.065Z"
   },
   {
    "duration": 233,
    "start_time": "2022-05-05T18:50:14.500Z"
   },
   {
    "duration": 615,
    "start_time": "2022-05-05T18:50:18.032Z"
   },
   {
    "duration": 125,
    "start_time": "2022-05-05T18:59:02.512Z"
   },
   {
    "duration": 4,
    "start_time": "2022-05-05T18:59:10.339Z"
   },
   {
    "duration": 8,
    "start_time": "2022-05-05T18:59:12.117Z"
   },
   {
    "duration": 8,
    "start_time": "2022-05-05T18:59:41.964Z"
   },
   {
    "duration": 13,
    "start_time": "2022-05-05T18:59:42.777Z"
   },
   {
    "duration": 4,
    "start_time": "2022-05-05T19:04:18.908Z"
   },
   {
    "duration": 8,
    "start_time": "2022-05-05T19:04:19.841Z"
   },
   {
    "duration": 11,
    "start_time": "2022-05-05T19:04:20.576Z"
   },
   {
    "duration": 6,
    "start_time": "2022-05-05T19:04:38.308Z"
   },
   {
    "duration": 4,
    "start_time": "2022-05-05T19:04:45.008Z"
   },
   {
    "duration": 108,
    "start_time": "2022-05-05T19:05:28.703Z"
   },
   {
    "duration": 3,
    "start_time": "2022-05-05T19:05:34.526Z"
   },
   {
    "duration": 63655,
    "start_time": "2022-05-05T19:05:35.732Z"
   },
   {
    "duration": 29,
    "start_time": "2022-05-05T19:06:46.210Z"
   },
   {
    "duration": 25,
    "start_time": "2022-05-05T19:06:55.281Z"
   },
   {
    "duration": 1497,
    "start_time": "2022-05-05T19:24:24.851Z"
   },
   {
    "duration": 33,
    "start_time": "2022-05-05T19:24:26.350Z"
   },
   {
    "duration": 11,
    "start_time": "2022-05-05T19:24:26.384Z"
   },
   {
    "duration": 17,
    "start_time": "2022-05-05T19:24:26.396Z"
   },
   {
    "duration": 8,
    "start_time": "2022-05-05T19:24:26.416Z"
   },
   {
    "duration": 6,
    "start_time": "2022-05-05T19:24:26.426Z"
   },
   {
    "duration": 5,
    "start_time": "2022-05-05T19:24:26.433Z"
   },
   {
    "duration": 7,
    "start_time": "2022-05-05T19:24:26.440Z"
   },
   {
    "duration": 388,
    "start_time": "2022-05-05T19:24:26.449Z"
   },
   {
    "duration": 243,
    "start_time": "2022-05-05T19:24:26.838Z"
   },
   {
    "duration": 597,
    "start_time": "2022-05-05T19:24:27.083Z"
   },
   {
    "duration": 4,
    "start_time": "2022-05-05T19:24:27.681Z"
   },
   {
    "duration": 11,
    "start_time": "2022-05-05T19:24:27.687Z"
   },
   {
    "duration": 4,
    "start_time": "2022-05-05T19:24:27.701Z"
   },
   {
    "duration": 7,
    "start_time": "2022-05-05T19:24:27.706Z"
   },
   {
    "duration": 10,
    "start_time": "2022-05-05T19:24:27.715Z"
   },
   {
    "duration": 5,
    "start_time": "2022-05-05T19:24:27.727Z"
   },
   {
    "duration": 4,
    "start_time": "2022-05-05T19:24:27.734Z"
   },
   {
    "duration": 12,
    "start_time": "2022-05-05T19:24:27.740Z"
   },
   {
    "duration": 4,
    "start_time": "2022-05-05T19:24:27.810Z"
   },
   {
    "duration": 64169,
    "start_time": "2022-05-05T19:24:27.817Z"
   },
   {
    "duration": 4,
    "start_time": "2022-05-05T19:25:31.988Z"
   },
   {
    "duration": 335419,
    "start_time": "2022-05-05T19:25:31.993Z"
   },
   {
    "duration": 97,
    "start_time": "2022-05-05T19:31:07.414Z"
   },
   {
    "duration": 10,
    "start_time": "2022-05-05T19:31:07.513Z"
   },
   {
    "duration": 345,
    "start_time": "2022-05-05T19:31:07.524Z"
   },
   {
    "duration": 12,
    "start_time": "2022-05-05T19:39:49.193Z"
   },
   {
    "duration": 147,
    "start_time": "2022-05-05T19:39:52.660Z"
   },
   {
    "duration": 8,
    "start_time": "2022-05-05T19:39:59.724Z"
   },
   {
    "duration": 21,
    "start_time": "2022-05-05T19:40:00.985Z"
   },
   {
    "duration": 6,
    "start_time": "2022-05-05T19:40:05.943Z"
   },
   {
    "duration": 3,
    "start_time": "2022-05-05T19:40:08.415Z"
   },
   {
    "duration": 17,
    "start_time": "2022-05-05T19:40:10.823Z"
   },
   {
    "duration": 20,
    "start_time": "2022-05-05T19:40:24.638Z"
   },
   {
    "duration": 9,
    "start_time": "2022-05-05T19:40:28.643Z"
   },
   {
    "duration": 25,
    "start_time": "2022-05-05T19:40:29.297Z"
   },
   {
    "duration": 5,
    "start_time": "2022-05-05T19:40:32.663Z"
   },
   {
    "duration": 3,
    "start_time": "2022-05-05T19:40:35.198Z"
   },
   {
    "duration": 170,
    "start_time": "2022-05-05T19:40:37.839Z"
   },
   {
    "duration": 1525,
    "start_time": "2022-05-05T19:41:00.761Z"
   },
   {
    "duration": 32,
    "start_time": "2022-05-05T19:41:02.288Z"
   },
   {
    "duration": 11,
    "start_time": "2022-05-05T19:41:02.321Z"
   },
   {
    "duration": 11,
    "start_time": "2022-05-05T19:41:02.333Z"
   },
   {
    "duration": 9,
    "start_time": "2022-05-05T19:41:02.346Z"
   },
   {
    "duration": 7,
    "start_time": "2022-05-05T19:41:02.357Z"
   },
   {
    "duration": 6,
    "start_time": "2022-05-05T19:41:02.365Z"
   },
   {
    "duration": 40,
    "start_time": "2022-05-05T19:41:02.373Z"
   },
   {
    "duration": 403,
    "start_time": "2022-05-05T19:41:02.415Z"
   },
   {
    "duration": 264,
    "start_time": "2022-05-05T19:41:02.819Z"
   },
   {
    "duration": 624,
    "start_time": "2022-05-05T19:41:03.084Z"
   },
   {
    "duration": 5,
    "start_time": "2022-05-05T19:41:03.710Z"
   },
   {
    "duration": 13,
    "start_time": "2022-05-05T19:41:03.717Z"
   },
   {
    "duration": 5,
    "start_time": "2022-05-05T19:41:03.732Z"
   },
   {
    "duration": 10,
    "start_time": "2022-05-05T19:41:03.738Z"
   },
   {
    "duration": 11,
    "start_time": "2022-05-05T19:41:03.749Z"
   },
   {
    "duration": 7,
    "start_time": "2022-05-05T19:41:03.762Z"
   },
   {
    "duration": 37,
    "start_time": "2022-05-05T19:41:03.771Z"
   },
   {
    "duration": 97,
    "start_time": "2022-05-05T19:41:03.810Z"
   },
   {
    "duration": 4,
    "start_time": "2022-05-05T19:41:03.910Z"
   },
   {
    "duration": 64464,
    "start_time": "2022-05-05T19:41:03.917Z"
   },
   {
    "duration": 3,
    "start_time": "2022-05-05T19:42:08.382Z"
   },
   {
    "duration": 335821,
    "start_time": "2022-05-05T19:42:08.387Z"
   },
   {
    "duration": 30,
    "start_time": "2022-05-05T19:47:44.211Z"
   },
   {
    "duration": 66,
    "start_time": "2022-05-05T19:47:44.243Z"
   },
   {
    "duration": 308,
    "start_time": "2022-05-05T19:47:44.311Z"
   }
  ],
  "kernelspec": {
   "display_name": "Python 3 (ipykernel)",
   "language": "python",
   "name": "python3"
  },
  "language_info": {
   "codemirror_mode": {
    "name": "ipython",
    "version": 3
   },
   "file_extension": ".py",
   "mimetype": "text/x-python",
   "name": "python",
   "nbconvert_exporter": "python",
   "pygments_lexer": "ipython3",
   "version": "3.9.7"
  },
  "toc": {
   "base_numbering": 1,
   "nav_menu": {},
   "number_sections": true,
   "sideBar": true,
   "skip_h1_title": true,
   "title_cell": "Содержание",
   "title_sidebar": "Contents",
   "toc_cell": true,
   "toc_position": {
    "height": "calc(100% - 180px)",
    "left": "10px",
    "top": "150px",
    "width": "270.391px"
   },
   "toc_section_display": true,
   "toc_window_display": true
  }
 },
 "nbformat": 4,
 "nbformat_minor": 2
}
