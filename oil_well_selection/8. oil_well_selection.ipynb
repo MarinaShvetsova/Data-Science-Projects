{
 "cells": [
  {
   "cell_type": "markdown",
   "metadata": {},
   "source": [
    "# Выбор региона нефтедобычи"
   ]
  },
  {
   "cell_type": "markdown",
   "metadata": {},
   "source": [
    "Шаги для выбора локации:\n",
    "\n",
    "- В избранном регионе ищут месторождения, для каждого определяют значения признаков;\n",
    "- Строят модель и оценивают объём запасов;\n",
    "- Выбирают месторождения с самым высокими оценками значений. Количество месторождений зависит от бюджета компании и стоимости разработки одной скважины;\n",
    "- Прибыль равна суммарной прибыли отобранных месторождений."
   ]
  },
  {
   "cell_type": "markdown",
   "metadata": {},
   "source": [
    "# Условия и этапы проекта"
   ]
  },
  {
   "cell_type": "markdown",
   "metadata": {},
   "source": [
    "**Условия задачи:**\n",
    "<br> Для обучения модели подходит только линейная регрессия (остальные — недостаточно предсказуемые).\n",
    "<br> При разведке региона исследуют 500 точек, из которых с помощью машинного обучения выбирают 200 лучших для разработки.\n",
    "<br> Бюджет на разработку скважин в регионе — 10 млрд. рублей.\n",
    "<br> При нынешних ценах один баррель сырья приносит 450 рублей дохода. Доход с каждой единицы продукта составляет 450 тыс. рублей, поскольку объём указан в тысячах баррелей.\n",
    "<br> После оценки рисков нужно оставить лишь те регионы, в которых вероятность убытков меньше 2.5%. Среди них выбирают регион с наибольшей средней прибылью.\n",
    "<br> Данные синтетические: детали контрактов и характеристики месторождений не разглашаются.\n",
    "\n",
    "**Этапы проекта:**\n",
    " 1. Обзор данных\n",
    " 2. Подготовка и обучение моделей\n",
    " 3. Расчет прибыли месторождений и рисков\n",
    " 4. Выводы"
   ]
  },
  {
   "cell_type": "markdown",
   "metadata": {},
   "source": [
    "## Загрузка и подготовка данных"
   ]
  },
  {
   "cell_type": "code",
   "execution_count": 1,
   "metadata": {},
   "outputs": [],
   "source": [
    "# загрузим библиотеки, которые пригодятся при анализе и построинии модели\n",
    "\n",
    "import pandas as pd\n",
    "import numpy as np\n",
    "from sklearn.model_selection import train_test_split\n",
    "from sklearn.preprocessing import MinMaxScaler\n",
    "from sklearn.linear_model import LinearRegression\n",
    "from sklearn.metrics import mean_squared_error\n",
    "\n",
    "import matplotlib.pyplot as plt"
   ]
  },
  {
   "cell_type": "markdown",
   "metadata": {},
   "source": [
    "Загрузим данные по регионам"
   ]
  },
  {
   "cell_type": "code",
   "execution_count": 2,
   "metadata": {},
   "outputs": [
    {
     "name": "stdout",
     "output_type": "stream",
     "text": [
      "<class 'pandas.core.frame.DataFrame'>\n",
      "RangeIndex: 100000 entries, 0 to 99999\n",
      "Data columns (total 5 columns):\n",
      "id         100000 non-null object\n",
      "f0         100000 non-null float64\n",
      "f1         100000 non-null float64\n",
      "f2         100000 non-null float64\n",
      "product    100000 non-null float64\n",
      "dtypes: float64(4), object(1)\n",
      "memory usage: 3.8+ MB\n"
     ]
    },
    {
     "data": {
      "text/html": [
       "<div>\n",
       "<style scoped>\n",
       "    .dataframe tbody tr th:only-of-type {\n",
       "        vertical-align: middle;\n",
       "    }\n",
       "\n",
       "    .dataframe tbody tr th {\n",
       "        vertical-align: top;\n",
       "    }\n",
       "\n",
       "    .dataframe thead th {\n",
       "        text-align: right;\n",
       "    }\n",
       "</style>\n",
       "<table border=\"1\" class=\"dataframe\">\n",
       "  <thead>\n",
       "    <tr style=\"text-align: right;\">\n",
       "      <th></th>\n",
       "      <th>id</th>\n",
       "      <th>f0</th>\n",
       "      <th>f1</th>\n",
       "      <th>f2</th>\n",
       "      <th>product</th>\n",
       "    </tr>\n",
       "  </thead>\n",
       "  <tbody>\n",
       "    <tr>\n",
       "      <td>0</td>\n",
       "      <td>txEyH</td>\n",
       "      <td>0.705745</td>\n",
       "      <td>-0.497823</td>\n",
       "      <td>1.221170</td>\n",
       "      <td>105.280062</td>\n",
       "    </tr>\n",
       "    <tr>\n",
       "      <td>1</td>\n",
       "      <td>2acmU</td>\n",
       "      <td>1.334711</td>\n",
       "      <td>-0.340164</td>\n",
       "      <td>4.365080</td>\n",
       "      <td>73.037750</td>\n",
       "    </tr>\n",
       "    <tr>\n",
       "      <td>2</td>\n",
       "      <td>409Wp</td>\n",
       "      <td>1.022732</td>\n",
       "      <td>0.151990</td>\n",
       "      <td>1.419926</td>\n",
       "      <td>85.265647</td>\n",
       "    </tr>\n",
       "    <tr>\n",
       "      <td>3</td>\n",
       "      <td>iJLyR</td>\n",
       "      <td>-0.032172</td>\n",
       "      <td>0.139033</td>\n",
       "      <td>2.978566</td>\n",
       "      <td>168.620776</td>\n",
       "    </tr>\n",
       "    <tr>\n",
       "      <td>4</td>\n",
       "      <td>Xdl7t</td>\n",
       "      <td>1.988431</td>\n",
       "      <td>0.155413</td>\n",
       "      <td>4.751769</td>\n",
       "      <td>154.036647</td>\n",
       "    </tr>\n",
       "  </tbody>\n",
       "</table>\n",
       "</div>"
      ],
      "text/plain": [
       "      id        f0        f1        f2     product\n",
       "0  txEyH  0.705745 -0.497823  1.221170  105.280062\n",
       "1  2acmU  1.334711 -0.340164  4.365080   73.037750\n",
       "2  409Wp  1.022732  0.151990  1.419926   85.265647\n",
       "3  iJLyR -0.032172  0.139033  2.978566  168.620776\n",
       "4  Xdl7t  1.988431  0.155413  4.751769  154.036647"
      ]
     },
     "execution_count": 2,
     "metadata": {},
     "output_type": "execute_result"
    }
   ],
   "source": [
    "data_1 = pd.read_csv('/datasets/geo_data_0.csv')\n",
    "data_1.info()\n",
    "data_1.head()"
   ]
  },
  {
   "cell_type": "code",
   "execution_count": 3,
   "metadata": {},
   "outputs": [
    {
     "name": "stdout",
     "output_type": "stream",
     "text": [
      "<class 'pandas.core.frame.DataFrame'>\n",
      "RangeIndex: 100000 entries, 0 to 99999\n",
      "Data columns (total 5 columns):\n",
      "id         100000 non-null object\n",
      "f0         100000 non-null float64\n",
      "f1         100000 non-null float64\n",
      "f2         100000 non-null float64\n",
      "product    100000 non-null float64\n",
      "dtypes: float64(4), object(1)\n",
      "memory usage: 3.8+ MB\n"
     ]
    },
    {
     "data": {
      "text/html": [
       "<div>\n",
       "<style scoped>\n",
       "    .dataframe tbody tr th:only-of-type {\n",
       "        vertical-align: middle;\n",
       "    }\n",
       "\n",
       "    .dataframe tbody tr th {\n",
       "        vertical-align: top;\n",
       "    }\n",
       "\n",
       "    .dataframe thead th {\n",
       "        text-align: right;\n",
       "    }\n",
       "</style>\n",
       "<table border=\"1\" class=\"dataframe\">\n",
       "  <thead>\n",
       "    <tr style=\"text-align: right;\">\n",
       "      <th></th>\n",
       "      <th>id</th>\n",
       "      <th>f0</th>\n",
       "      <th>f1</th>\n",
       "      <th>f2</th>\n",
       "      <th>product</th>\n",
       "    </tr>\n",
       "  </thead>\n",
       "  <tbody>\n",
       "    <tr>\n",
       "      <td>0</td>\n",
       "      <td>kBEdx</td>\n",
       "      <td>-15.001348</td>\n",
       "      <td>-8.276000</td>\n",
       "      <td>-0.005876</td>\n",
       "      <td>3.179103</td>\n",
       "    </tr>\n",
       "    <tr>\n",
       "      <td>1</td>\n",
       "      <td>62mP7</td>\n",
       "      <td>14.272088</td>\n",
       "      <td>-3.475083</td>\n",
       "      <td>0.999183</td>\n",
       "      <td>26.953261</td>\n",
       "    </tr>\n",
       "    <tr>\n",
       "      <td>2</td>\n",
       "      <td>vyE1P</td>\n",
       "      <td>6.263187</td>\n",
       "      <td>-5.948386</td>\n",
       "      <td>5.001160</td>\n",
       "      <td>134.766305</td>\n",
       "    </tr>\n",
       "    <tr>\n",
       "      <td>3</td>\n",
       "      <td>KcrkZ</td>\n",
       "      <td>-13.081196</td>\n",
       "      <td>-11.506057</td>\n",
       "      <td>4.999415</td>\n",
       "      <td>137.945408</td>\n",
       "    </tr>\n",
       "    <tr>\n",
       "      <td>4</td>\n",
       "      <td>AHL4O</td>\n",
       "      <td>12.702195</td>\n",
       "      <td>-8.147433</td>\n",
       "      <td>5.004363</td>\n",
       "      <td>134.766305</td>\n",
       "    </tr>\n",
       "  </tbody>\n",
       "</table>\n",
       "</div>"
      ],
      "text/plain": [
       "      id         f0         f1        f2     product\n",
       "0  kBEdx -15.001348  -8.276000 -0.005876    3.179103\n",
       "1  62mP7  14.272088  -3.475083  0.999183   26.953261\n",
       "2  vyE1P   6.263187  -5.948386  5.001160  134.766305\n",
       "3  KcrkZ -13.081196 -11.506057  4.999415  137.945408\n",
       "4  AHL4O  12.702195  -8.147433  5.004363  134.766305"
      ]
     },
     "execution_count": 3,
     "metadata": {},
     "output_type": "execute_result"
    }
   ],
   "source": [
    "data_2 = pd.read_csv('/datasets/geo_data_1.csv')\n",
    "data_2.info()\n",
    "data_2.head()"
   ]
  },
  {
   "cell_type": "code",
   "execution_count": 4,
   "metadata": {},
   "outputs": [
    {
     "name": "stdout",
     "output_type": "stream",
     "text": [
      "<class 'pandas.core.frame.DataFrame'>\n",
      "RangeIndex: 100000 entries, 0 to 99999\n",
      "Data columns (total 5 columns):\n",
      "id         100000 non-null object\n",
      "f0         100000 non-null float64\n",
      "f1         100000 non-null float64\n",
      "f2         100000 non-null float64\n",
      "product    100000 non-null float64\n",
      "dtypes: float64(4), object(1)\n",
      "memory usage: 3.8+ MB\n"
     ]
    },
    {
     "data": {
      "text/html": [
       "<div>\n",
       "<style scoped>\n",
       "    .dataframe tbody tr th:only-of-type {\n",
       "        vertical-align: middle;\n",
       "    }\n",
       "\n",
       "    .dataframe tbody tr th {\n",
       "        vertical-align: top;\n",
       "    }\n",
       "\n",
       "    .dataframe thead th {\n",
       "        text-align: right;\n",
       "    }\n",
       "</style>\n",
       "<table border=\"1\" class=\"dataframe\">\n",
       "  <thead>\n",
       "    <tr style=\"text-align: right;\">\n",
       "      <th></th>\n",
       "      <th>id</th>\n",
       "      <th>f0</th>\n",
       "      <th>f1</th>\n",
       "      <th>f2</th>\n",
       "      <th>product</th>\n",
       "    </tr>\n",
       "  </thead>\n",
       "  <tbody>\n",
       "    <tr>\n",
       "      <td>0</td>\n",
       "      <td>fwXo0</td>\n",
       "      <td>-1.146987</td>\n",
       "      <td>0.963328</td>\n",
       "      <td>-0.828965</td>\n",
       "      <td>27.758673</td>\n",
       "    </tr>\n",
       "    <tr>\n",
       "      <td>1</td>\n",
       "      <td>WJtFt</td>\n",
       "      <td>0.262778</td>\n",
       "      <td>0.269839</td>\n",
       "      <td>-2.530187</td>\n",
       "      <td>56.069697</td>\n",
       "    </tr>\n",
       "    <tr>\n",
       "      <td>2</td>\n",
       "      <td>ovLUW</td>\n",
       "      <td>0.194587</td>\n",
       "      <td>0.289035</td>\n",
       "      <td>-5.586433</td>\n",
       "      <td>62.871910</td>\n",
       "    </tr>\n",
       "    <tr>\n",
       "      <td>3</td>\n",
       "      <td>q6cA6</td>\n",
       "      <td>2.236060</td>\n",
       "      <td>-0.553760</td>\n",
       "      <td>0.930038</td>\n",
       "      <td>114.572842</td>\n",
       "    </tr>\n",
       "    <tr>\n",
       "      <td>4</td>\n",
       "      <td>WPMUX</td>\n",
       "      <td>-0.515993</td>\n",
       "      <td>1.716266</td>\n",
       "      <td>5.899011</td>\n",
       "      <td>149.600746</td>\n",
       "    </tr>\n",
       "  </tbody>\n",
       "</table>\n",
       "</div>"
      ],
      "text/plain": [
       "      id        f0        f1        f2     product\n",
       "0  fwXo0 -1.146987  0.963328 -0.828965   27.758673\n",
       "1  WJtFt  0.262778  0.269839 -2.530187   56.069697\n",
       "2  ovLUW  0.194587  0.289035 -5.586433   62.871910\n",
       "3  q6cA6  2.236060 -0.553760  0.930038  114.572842\n",
       "4  WPMUX -0.515993  1.716266  5.899011  149.600746"
      ]
     },
     "execution_count": 4,
     "metadata": {},
     "output_type": "execute_result"
    }
   ],
   "source": [
    "data_3 = pd.read_csv('/datasets/geo_data_2.csv')\n",
    "data_3.info()\n",
    "data_3.head()"
   ]
  },
  {
   "cell_type": "code",
   "execution_count": 5,
   "metadata": {},
   "outputs": [],
   "source": [
    "# проверим пропуски и дубликаты в данных\n",
    "def research(data):\n",
    "    print(\"Пропущенные данные:\", data.isna().sum().sum())\n",
    "    print(\"Наличие дубликатов:\", data.duplicated().sum())\n",
    "    data[['f0', 'f1', 'f2', 'product']].hist(bins=25, figsize=(10,8))\n",
    "    plt.show()"
   ]
  },
  {
   "cell_type": "code",
   "execution_count": 6,
   "metadata": {
    "scrolled": true
   },
   "outputs": [
    {
     "name": "stdout",
     "output_type": "stream",
     "text": [
      "Пропущенные данные: 0\n",
      "Наличие дубликатов: 0\n"
     ]
    },
    {
     "data": {
      "image/png": "[encoded data removed]",
      "text/plain": [
       "<Figure size 720x576 with 4 Axes>"
      ]
     },
     "metadata": {
      "needs_background": "light"
     },
     "output_type": "display_data"
    }
   ],
   "source": [
    "research(data_1)"
   ]
  },
  {
   "cell_type": "code",
   "execution_count": 7,
   "metadata": {},
   "outputs": [
    {
     "name": "stdout",
     "output_type": "stream",
     "text": [
      "Пропущенные данные: 0\n",
      "Наличие дубликатов: 0\n"
     ]
    },
    {
     "data": {
      "image/png": "[encoded data removed]",
      "text/plain": [
       "<Figure size 720x576 with 4 Axes>"
      ]
     },
     "metadata": {
      "needs_background": "light"
     },
     "output_type": "display_data"
    }
   ],
   "source": [
    "research(data_2)"
   ]
  },
  {
   "cell_type": "code",
   "execution_count": 8,
   "metadata": {
    "scrolled": true
   },
   "outputs": [
    {
     "name": "stdout",
     "output_type": "stream",
     "text": [
      "Пропущенные данные: 0\n",
      "Наличие дубликатов: 0\n"
     ]
    },
    {
     "data": {
      "image/png": "[encoded data removed]",
      "text/plain": [
       "<Figure size 720x576 with 4 Axes>"
      ]
     },
     "metadata": {
      "needs_background": "light"
     },
     "output_type": "display_data"
    }
   ],
   "source": [
    "research(data_3)"
   ]
  },
  {
   "cell_type": "markdown",
   "metadata": {},
   "source": [
    "**Вывод:**\n",
    "\n",
    "<br> Данные по трем регионам состоят из 100000 записей, пропусков и дубликатов в данных нет.\n",
    "<br> По представленным гистограммам видно, что распределения по первому и третьиму регионы похожи на нормальные, но распределение второго региона отличаются по признаку f2 и объему запасов нефти."
   ]
  },
  {
   "cell_type": "markdown",
   "metadata": {},
   "source": [
    "Проверим кол-во нулевых запасов нефти по каждому региону"
   ]
  },
  {
   "cell_type": "code",
   "execution_count": 9,
   "metadata": {
    "scrolled": true
   },
   "outputs": [
    {
     "data": {
      "text/plain": [
       "id         1\n",
       "f0         1\n",
       "f1         1\n",
       "f2         1\n",
       "product    1\n",
       "dtype: int64"
      ]
     },
     "execution_count": 9,
     "metadata": {},
     "output_type": "execute_result"
    }
   ],
   "source": [
    "data_1[data_1['product'] == 0].count()"
   ]
  },
  {
   "cell_type": "code",
   "execution_count": 10,
   "metadata": {},
   "outputs": [
    {
     "data": {
      "text/plain": [
       "id         8235\n",
       "f0         8235\n",
       "f1         8235\n",
       "f2         8235\n",
       "product    8235\n",
       "dtype: int64"
      ]
     },
     "execution_count": 10,
     "metadata": {},
     "output_type": "execute_result"
    }
   ],
   "source": [
    "data_2[data_2['product'] == 0].count()"
   ]
  },
  {
   "cell_type": "code",
   "execution_count": 11,
   "metadata": {
    "scrolled": true
   },
   "outputs": [
    {
     "data": {
      "text/plain": [
       "id         1\n",
       "f0         1\n",
       "f1         1\n",
       "f2         1\n",
       "product    1\n",
       "dtype: int64"
      ]
     },
     "execution_count": 11,
     "metadata": {},
     "output_type": "execute_result"
    }
   ],
   "source": [
    "data_3[data_3['product'] == 0].count()"
   ]
  },
  {
   "cell_type": "markdown",
   "metadata": {},
   "source": [
    "удалим столбцы `id` в виду бесполезности для проекта"
   ]
  },
  {
   "cell_type": "code",
   "execution_count": 12,
   "metadata": {},
   "outputs": [],
   "source": [
    "data_1 = data_1.drop(['id'], axis=1)\n",
    "data_2 = data_2.drop(['id'], axis=1)\n",
    "data_3 = data_3.drop(['id'], axis=1)"
   ]
  },
  {
   "cell_type": "markdown",
   "metadata": {},
   "source": [
    "**Вывод:**\n",
    "\n",
    "<br> Предыдущие выводы подтвердились, ненормальное распределение по второму региону связано скорее всего с нулевыми значениями по объему запасов скважин - 8235 записей.\n",
    "<br> Данные готовы для работы."
   ]
  },
  {
   "cell_type": "markdown",
   "metadata": {},
   "source": [
    "## Обучение и проверка модели"
   ]
  },
  {
   "cell_type": "markdown",
   "metadata": {},
   "source": [
    "В ходе этапа обучим и проверим модель для каждого региона:\n",
    "- разобъем данные на обучающую и валидационную выборки в соотношении 75:25\n",
    "- обучим модель и сделаем предсказания на валидационной выборке\n",
    "- сохраним предсказания и правильные ответы на валидационной выборке\n",
    "- напечатаем на экране средний запас предсказанного сырья и RMSE модели\n",
    "- сделаем выводы"
   ]
  },
  {
   "cell_type": "code",
   "execution_count": 13,
   "metadata": {},
   "outputs": [],
   "source": [
    "# запишем функцию для расчетов:\n",
    "def my_train_test_split(data):\n",
    "    \n",
    "    features = data.drop([\"product\"], axis=1) # выделим в данных признаки\n",
    "    target = data[\"product\"] # выделим из данных целевой признак\n",
    "    \n",
    "    # разобъем данные на выборки\n",
    "    features_train, features_valid, target_train, target_valid = train_test_split(features, target, test_size=0.25, random_state=1)\n",
    "    \n",
    "    # масштабируем данные\n",
    "    scaler = MinMaxScaler()\n",
    "    features_train = scaler.fit_transform(features_train) # масштабируем численные признаки обучающей выборки\n",
    "    features_valid = scaler.transform(features_valid) # масштабируем численные признаки валидационной выборки\n",
    "    \n",
    "    # обучим модель на линейной регрессии, сделаем предсказания, рассчитаем RMSE и средний объем запаса сырья\n",
    "    model = LinearRegression(normalize=False)\n",
    "    model.fit(features_train, target_train)\n",
    "    predictions = model.predict(features_valid)\n",
    "    predictions = pd.Series(predictions)\n",
    "    RMSE = (mean_squared_error(predictions, target_valid))**0.5\n",
    "    average_product = sum(predictions) / len(predictions)\n",
    "    \n",
    "    print('RMSE модели: {0:.2f}'.format(RMSE))\n",
    "    print('Средний объем запаса сырья: {0:.2f}'.format(average_product))\n",
    "    \n",
    "    return (predictions, target_valid.reset_index(drop=True), RMSE)\n",
    "\n"
   ]
  },
  {
   "cell_type": "markdown",
   "metadata": {},
   "source": [
    "Выведем значения функции с RMSE моделью и средним запасом предсказанного сырья"
   ]
  },
  {
   "cell_type": "code",
   "execution_count": 14,
   "metadata": {
    "scrolled": true
   },
   "outputs": [
    {
     "name": "stdout",
     "output_type": "stream",
     "text": [
      "RMSE модели: 37.74\n",
      "Средний объем запаса сырья: 92.49\n"
     ]
    }
   ],
   "source": [
    "predictions_1, validation_1, RMSE_1 = my_train_test_split(data_1)"
   ]
  },
  {
   "cell_type": "code",
   "execution_count": 15,
   "metadata": {},
   "outputs": [
    {
     "name": "stdout",
     "output_type": "stream",
     "text": [
      "RMSE модели: 0.89\n",
      "Средний объем запаса сырья: 69.12\n"
     ]
    }
   ],
   "source": [
    "predictions_2, validation_2, RMSE_2 = my_train_test_split(data_2)"
   ]
  },
  {
   "cell_type": "code",
   "execution_count": 16,
   "metadata": {},
   "outputs": [
    {
     "name": "stdout",
     "output_type": "stream",
     "text": [
      "RMSE модели: 39.87\n",
      "Средний объем запаса сырья: 94.96\n"
     ]
    }
   ],
   "source": [
    "predictions_3, validation_3, RMSE_3 = my_train_test_split(data_3)"
   ]
  },
  {
   "cell_type": "markdown",
   "metadata": {},
   "source": [
    "**Вывод:**\n",
    "\n",
    "<br> С наибольшим значением RMSE = 0,89 модель предсказала средние объемы запасов сырья **во втором** регионе, но само значение среднего запаса сырья минемальное из всех регионов = 69,12. Это может быть отсылкой к предыдущим выводам о наличии во втором регионе нулевых значений по запасам.\n",
    "Следующий шаг покажет есть ли прибыльность в регионах.\n",
    "<br> Значения по 1му и 2му регионам примерно одинаковые и по RMSE и по средним объемам запасов сырья."
   ]
  },
  {
   "cell_type": "markdown",
   "metadata": {},
   "source": [
    "## Подготовка к расчёту прибыли"
   ]
  },
  {
   "cell_type": "markdown",
   "metadata": {},
   "source": [
    "Подготовка к расчёту прибыли:\n",
    "- все ключевые значения для расчётов сохраним в отдельных переменных\n",
    "- рассчитаем достаточный объём сырья для безубыточной разработки новой скважины\n",
    "- сравним полученный объём сырья со средним запасом в каждом регионе\n",
    "- напишем выводы"
   ]
  },
  {
   "cell_type": "code",
   "execution_count": 17,
   "metadata": {},
   "outputs": [],
   "source": [
    "Total_points = 500\n",
    "Best_points = 200\n",
    "Income_per_K_barrel = 450 # тыс руб за 1 тыс.бар\n",
    "Budget = 10000000 # тыс руб за 1 тыс.бар"
   ]
  },
  {
   "cell_type": "code",
   "execution_count": 18,
   "metadata": {},
   "outputs": [
    {
     "name": "stdout",
     "output_type": "stream",
     "text": [
      "Точка безубыточности: 22222 тыс. баррелей\n"
     ]
    }
   ],
   "source": [
    "# рассчитаем точку безубыточности\n",
    "X = Budget / Income_per_K_barrel\n",
    "print('Точка безубыточности: {0:.0f} тыс. баррелей'.format(X))"
   ]
  },
  {
   "cell_type": "code",
   "execution_count": 19,
   "metadata": {
    "scrolled": true
   },
   "outputs": [
    {
     "name": "stdout",
     "output_type": "stream",
     "text": [
      "Средний объем нефти на скважину: 111 тыс. баррелей\n"
     ]
    }
   ],
   "source": [
    "average_barrels_per_point = X / Best_points\n",
    "print('Средний объем нефти на скважину: {0:.0f} тыс. баррелей'.format(average_barrels_per_point))"
   ]
  },
  {
   "cell_type": "code",
   "execution_count": 20,
   "metadata": {},
   "outputs": [
    {
     "name": "stdout",
     "output_type": "stream",
     "text": [
      "Средний объем запаса сырья на скважину в регионе 1 93 тыс.баррелей\n",
      "Средний объем запаса сырья на скважину в регионе 2 69 тыс.баррелей\n",
      "Средний объем запаса сырья на скважину в регионе 3 95 тыс.баррелей\n"
     ]
    }
   ],
   "source": [
    "# рассчитаем средний объем запаса сырья на скважину в каждом регионе\n",
    "print('Средний объем запаса сырья на скважину в регионе 1 {0:.0f} тыс.баррелей'.format(data_1['product'].mean()))\n",
    "print('Средний объем запаса сырья на скважину в регионе 2 {0:.0f} тыс.баррелей'.format(data_2['product'].mean()))\n",
    "print('Средний объем запаса сырья на скважину в регионе 3 {0:.0f} тыс.баррелей'.format(data_3['product'].mean()))"
   ]
  },
  {
   "cell_type": "code",
   "execution_count": 21,
   "metadata": {},
   "outputs": [
    {
     "name": "stdout",
     "output_type": "stream",
     "text": [
      "Объем запаса сырья в регионе 1 9250000 тыс.баррелей\n",
      "Объем запаса сырья в регионе 2 6882500 тыс.баррелей\n",
      "Объем запаса сырья в регионе 3 9500000 тыс.баррелей\n"
     ]
    }
   ],
   "source": [
    "# рассчитаем объем запаса сырья в каждом регионе\n",
    "print('Объем запаса сырья в регионе 1 {0:.0f} тыс.баррелей'.format(data_1['product'].sum()))\n",
    "print('Объем запаса сырья в регионе 2 {0:.0f} тыс.баррелей'.format(data_2['product'].sum()))\n",
    "print('Объем запаса сырья в регионе 3 {0:.0f} тыс.баррелей'.format(data_3['product'].sum()))"
   ]
  },
  {
   "cell_type": "markdown",
   "metadata": {},
   "source": [
    "**Вывод:** из полученных расчетов видно, что не по одному региону не хватает средних запасов на скважину (если рассматривать 200 точек), но общего объема баррелей по региону достаточно. Это говорит о том, что скважин должно быть больше 200 для достижения безубыточности (диапазон от 234 до 323 для разных регионов)"
   ]
  },
  {
   "cell_type": "markdown",
   "metadata": {},
   "source": [
    "## Расчёт прибыли и рисков "
   ]
  },
  {
   "cell_type": "markdown",
   "metadata": {},
   "source": [
    "Напишим функцию для расчёта прибыли по выбранным скважинам и предсказаниям модели:\n",
    "- выбирем скважины с максимальными значениями предсказаний\n",
    "- просуммируем целевое значение объёма сырья, соответствующее этим предсказаниям\n",
    "- рассчитаем прибыль для полученного объёма сырья\n",
    "\n",
    "Далее посчитаем риски и прибыль для каждого региона:\n",
    "- применим технику Bootstrap с 1000 выборок, чтобы найти распределение прибыли\n",
    "- найдем среднюю прибыль, 95%-й доверительный интервал и риск убытков\n",
    "- сделаем выводы: предложим регион для разработки скважин и обоснуем выбор\n"
   ]
  },
  {
   "cell_type": "code",
   "execution_count": 22,
   "metadata": {},
   "outputs": [],
   "source": [
    "# напишем функцию для расчета прибыли на 200 разведанных точек\n",
    "def profit(predictions, target):\n",
    "    top_predictions = predictions.sort_values(ascending=False)\n",
    "    top_target = target[top_predictions.index][:200]\n",
    "    return top_target.sum() * Income_per_K_barrel - Budget"
   ]
  },
  {
   "cell_type": "code",
   "execution_count": 23,
   "metadata": {},
   "outputs": [],
   "source": [
    "state = np.random.RandomState(12345)"
   ]
  },
  {
   "cell_type": "code",
   "execution_count": 24,
   "metadata": {},
   "outputs": [],
   "source": [
    "# напишем функцию для применения техники Bootstrap с 1000 выборок для определения средней прибыли и рисков убытков\n",
    "def bootstrap_1000(target, predictions):\n",
    "    values = []\n",
    "    loss_risk = 0\n",
    "    for i in range(1000):\n",
    "        target_sample = target.sample(500, replace=True, random_state=state)\n",
    "        predictions_sample = predictions[target_sample.index]\n",
    "        profit_1 = profit(target_sample, predictions_sample)\n",
    "        #if profit_1 < 0:\n",
    "        #    loss_risk += 1\n",
    "        values.append(profit_1)\n",
    "    \n",
    "    values = pd.Series(values)\n",
    "    lower = values.quantile(0.025)\n",
    "    upper = values.quantile(0.975)\n",
    "    average = sum(values) / len(values)\n",
    "    #risk = loss_risk / 1000\n",
    "    risk = (values < 0).mean()\n",
    "    return average, lower, upper, risk"
   ]
  },
  {
   "cell_type": "code",
   "execution_count": 25,
   "metadata": {},
   "outputs": [
    {
     "name": "stdout",
     "output_type": "stream",
     "text": [
      "1й регион:\n",
      "Средняя прибыль по региону = 458.10 млн.руб.\n",
      "95% доверительный интервал от -91.94 до 1015.82 млн.руб.\n",
      "Риск потерь 4.60%\n"
     ]
    }
   ],
   "source": [
    "average_1, lower_1, upper_1, risk_1 = bootstrap_1000(predictions_1, validation_1)\n",
    "print('1й регион:')\n",
    "print('Средняя прибыль по региону = {:.2f} млн.руб.'.format(average_1/1000))\n",
    "print('95% доверительный интервал от {:.2f} до {:.2f} млн.руб.'.format(lower_1/1000, upper_1/1000))\n",
    "print('Риск потерь {:.2%}'.format(risk_1))"
   ]
  },
  {
   "cell_type": "code",
   "execution_count": 26,
   "metadata": {},
   "outputs": [
    {
     "name": "stdout",
     "output_type": "stream",
     "text": [
      "2й регион:\n",
      "Средняя прибыль по региону = 533.06 млн.руб.\n",
      "95% доверительный интервал от 99.43 до 973.06 млн.руб.\n",
      "Риск потерь 0.60%\n"
     ]
    }
   ],
   "source": [
    "average_2, lower_2, upper_2, risk_2 = bootstrap_1000(predictions_2, validation_2)\n",
    "print('2й регион:')\n",
    "print('Средняя прибыль по региону = {:.2f} млн.руб.'.format(average_2/1000))\n",
    "print('95% доверительный интервал от {:.2f} до {:.2f} млн.руб.'.format(lower_2/1000, upper_2/1000))\n",
    "print('Риск потерь {:.2%}'.format(risk_2))"
   ]
  },
  {
   "cell_type": "code",
   "execution_count": 27,
   "metadata": {},
   "outputs": [
    {
     "name": "stdout",
     "output_type": "stream",
     "text": [
      "3й регион:\n",
      "Средняя прибыль по региону = 411.08 млн.руб.\n",
      "95% доверительный интервал от -138.94 до 959.38 млн.руб.\n",
      "Риск потерь 7.20%\n"
     ]
    }
   ],
   "source": [
    "average_3, lower_3, upper_3, risk_3 = bootstrap_1000(predictions_3, \n",
    "                                                     validation_3)\n",
    "print('3й регион:')\n",
    "print('Средняя прибыль по региону = {:.2f} млн.руб.'.format(average_3/1000))\n",
    "print('95% доверительный интервал от {:.2f} до {:.2f} млн.руб.'.format(lower_3/1000, upper_3/1000))\n",
    "print('Риск потерь {:.2%}'.format(risk_3))"
   ]
  },
  {
   "cell_type": "markdown",
   "metadata": {},
   "source": [
    "**Вывод:**\n",
    "\n",
    "Второй регион для реализации проекта является наиболее привлекательным в виду наибольшей средней прибыли = 528 млн. руб. и наименьшего процента риска = менее 1% (требование задачи - менее 2,5%)"
   ]
  },
  {
   "cell_type": "markdown",
   "metadata": {},
   "source": [
    "**Вывод по проекту:**\n",
    "\n",
    "1. Данные были загружены, проверены и приняты в работу.\n",
    "2. Была обучена модель Линейной регрессии с расчетом RSME и средним запасом сырья по скважинам по каждому региону.\n",
    "3. Была расчитана точка безубыточности по проекту - 22 млн.баррелей при инвестициях в 10 млрд.руб.\n",
    "4. Была расчитана средняя прибыль по каждому региону и определен риск возможных потерь.\n",
    "5. Для реализации проекта предлагается второй регион как наиболее прибыльный (527,8 млн.руб - средняя прибыль) с минимальным уровнем риска (менее 1 %)."
   ]
  }
 ],
 "metadata": {
  "ExecuteTimeLog": [
   {
    "duration": 305,
    "start_time": "2022-03-12T11:04:19.649Z"
   },
   {
    "duration": 1447,
    "start_time": "2022-03-12T11:04:26.425Z"
   },
   {
    "duration": 166,
    "start_time": "2022-03-12T11:04:28.845Z"
   },
   {
    "duration": 151,
    "start_time": "2022-03-12T11:04:46.956Z"
   },
   {
    "duration": 169,
    "start_time": "2022-03-12T11:05:17.350Z"
   },
   {
    "duration": 169,
    "start_time": "2022-03-12T11:05:32.538Z"
   },
   {
    "duration": 188,
    "start_time": "2022-03-12T11:06:00.407Z"
   },
   {
    "duration": 14,
    "start_time": "2022-03-12T11:09:58.854Z"
   },
   {
    "duration": 29,
    "start_time": "2022-03-12T11:10:22.327Z"
   },
   {
    "duration": 63,
    "start_time": "2022-03-12T11:10:57.750Z"
   },
   {
    "duration": 59,
    "start_time": "2022-03-12T11:11:43.718Z"
   },
   {
    "duration": 60,
    "start_time": "2022-03-12T11:11:48.706Z"
   },
   {
    "duration": 4,
    "start_time": "2022-03-12T11:18:03.939Z"
   },
   {
    "duration": 70,
    "start_time": "2022-03-12T11:18:30.151Z"
   },
   {
    "duration": 63,
    "start_time": "2022-03-12T11:18:38.316Z"
   },
   {
    "duration": 4,
    "start_time": "2022-03-12T11:18:48.475Z"
   },
   {
    "duration": 69,
    "start_time": "2022-03-12T11:18:49.530Z"
   },
   {
    "duration": 65,
    "start_time": "2022-03-12T11:18:51.590Z"
   },
   {
    "duration": 65,
    "start_time": "2022-03-12T11:18:59.290Z"
   },
   {
    "duration": 6,
    "start_time": "2022-03-12T11:22:41.674Z"
   },
   {
    "duration": 850,
    "start_time": "2022-03-12T11:22:42.421Z"
   },
   {
    "duration": 5,
    "start_time": "2022-03-12T11:23:16.201Z"
   },
   {
    "duration": 858,
    "start_time": "2022-03-12T11:23:17.355Z"
   },
   {
    "duration": 5,
    "start_time": "2022-03-12T11:23:46.280Z"
   },
   {
    "duration": 1347,
    "start_time": "2022-03-12T11:23:47.004Z"
   },
   {
    "duration": 5,
    "start_time": "2022-03-12T11:23:56.601Z"
   },
   {
    "duration": 1306,
    "start_time": "2022-03-12T11:23:59.194Z"
   },
   {
    "duration": 5,
    "start_time": "2022-03-12T11:24:19.350Z"
   },
   {
    "duration": 902,
    "start_time": "2022-03-12T11:24:21.428Z"
   },
   {
    "duration": 7,
    "start_time": "2022-03-12T11:24:30.315Z"
   },
   {
    "duration": 872,
    "start_time": "2022-03-12T11:24:31.163Z"
   },
   {
    "duration": 972,
    "start_time": "2022-03-12T11:24:40.669Z"
   },
   {
    "duration": 882,
    "start_time": "2022-03-12T11:24:42.819Z"
   },
   {
    "duration": 10,
    "start_time": "2022-03-12T11:37:23.034Z"
   },
   {
    "duration": 9,
    "start_time": "2022-03-12T11:38:07.566Z"
   },
   {
    "duration": 12,
    "start_time": "2022-03-12T11:38:15.448Z"
   },
   {
    "duration": 7,
    "start_time": "2022-03-12T12:11:56.297Z"
   },
   {
    "duration": 388,
    "start_time": "2022-03-12T12:13:19.600Z"
   },
   {
    "duration": 572,
    "start_time": "2022-03-12T12:13:53.225Z"
   },
   {
    "duration": 7,
    "start_time": "2022-03-12T12:14:41.428Z"
   },
   {
    "duration": 511,
    "start_time": "2022-03-12T12:14:42.353Z"
   },
   {
    "duration": 7,
    "start_time": "2022-03-12T12:15:44.878Z"
   },
   {
    "duration": 493,
    "start_time": "2022-03-12T12:15:45.587Z"
   },
   {
    "duration": 241,
    "start_time": "2022-03-12T12:16:29.228Z"
   },
   {
    "duration": 862,
    "start_time": "2022-03-12T12:16:44.422Z"
   },
   {
    "duration": 7,
    "start_time": "2022-03-12T12:18:18.576Z"
   },
   {
    "duration": 581,
    "start_time": "2022-03-12T12:18:19.405Z"
   },
   {
    "duration": 278,
    "start_time": "2022-03-12T12:19:52.741Z"
   },
   {
    "duration": 8,
    "start_time": "2022-03-12T12:20:02.672Z"
   },
   {
    "duration": 511,
    "start_time": "2022-03-12T12:20:03.537Z"
   },
   {
    "duration": 8,
    "start_time": "2022-03-12T12:20:49.290Z"
   },
   {
    "duration": 517,
    "start_time": "2022-03-12T12:20:50.384Z"
   },
   {
    "duration": 10,
    "start_time": "2022-03-12T12:22:02.196Z"
   },
   {
    "duration": 532,
    "start_time": "2022-03-12T12:22:03.081Z"
   },
   {
    "duration": 7,
    "start_time": "2022-03-12T12:22:51.317Z"
   },
   {
    "duration": 519,
    "start_time": "2022-03-12T12:22:52.095Z"
   },
   {
    "duration": 1470,
    "start_time": "2022-03-12T12:23:01.413Z"
   },
   {
    "duration": 199,
    "start_time": "2022-03-12T12:23:02.885Z"
   },
   {
    "duration": 310,
    "start_time": "2022-03-12T12:23:03.087Z"
   },
   {
    "duration": 322,
    "start_time": "2022-03-12T12:23:03.453Z"
   },
   {
    "duration": 4,
    "start_time": "2022-03-12T12:23:03.778Z"
   },
   {
    "duration": 842,
    "start_time": "2022-03-12T12:23:03.785Z"
   },
   {
    "duration": 876,
    "start_time": "2022-03-12T12:23:04.629Z"
   },
   {
    "duration": 931,
    "start_time": "2022-03-12T12:23:05.507Z"
   },
   {
    "duration": 15,
    "start_time": "2022-03-12T12:23:06.442Z"
   },
   {
    "duration": 15,
    "start_time": "2022-03-12T12:23:06.460Z"
   },
   {
    "duration": 9,
    "start_time": "2022-03-12T12:23:06.477Z"
   },
   {
    "duration": 8,
    "start_time": "2022-03-12T12:23:06.488Z"
   },
   {
    "duration": 745,
    "start_time": "2022-03-12T12:23:06.498Z"
   },
   {
    "duration": 1400,
    "start_time": "2022-03-12T12:25:33.996Z"
   },
   {
    "duration": 179,
    "start_time": "2022-03-12T12:25:35.398Z"
   },
   {
    "duration": 177,
    "start_time": "2022-03-12T12:25:35.580Z"
   },
   {
    "duration": 174,
    "start_time": "2022-03-12T12:25:35.760Z"
   },
   {
    "duration": 16,
    "start_time": "2022-03-12T12:25:35.936Z"
   },
   {
    "duration": 1319,
    "start_time": "2022-03-12T12:25:35.954Z"
   },
   {
    "duration": 854,
    "start_time": "2022-03-12T12:25:37.275Z"
   },
   {
    "duration": 908,
    "start_time": "2022-03-12T12:25:38.133Z"
   },
   {
    "duration": 14,
    "start_time": "2022-03-12T12:25:39.044Z"
   },
   {
    "duration": 11,
    "start_time": "2022-03-12T12:25:39.060Z"
   },
   {
    "duration": 8,
    "start_time": "2022-03-12T12:25:39.073Z"
   },
   {
    "duration": 8,
    "start_time": "2022-03-12T12:25:39.083Z"
   },
   {
    "duration": 744,
    "start_time": "2022-03-12T12:25:39.093Z"
   },
   {
    "duration": 261,
    "start_time": "2022-03-12T12:26:32.310Z"
   },
   {
    "duration": 538,
    "start_time": "2022-03-12T12:26:48.302Z"
   },
   {
    "duration": 5,
    "start_time": "2022-03-12T12:30:37.555Z"
   },
   {
    "duration": 831,
    "start_time": "2022-03-12T12:30:39.651Z"
   },
   {
    "duration": 832,
    "start_time": "2022-03-12T12:30:42.143Z"
   },
   {
    "duration": 846,
    "start_time": "2022-03-12T12:30:43.245Z"
   },
   {
    "duration": 1416,
    "start_time": "2022-03-12T12:30:50.344Z"
   },
   {
    "duration": 205,
    "start_time": "2022-03-12T12:30:51.764Z"
   },
   {
    "duration": 175,
    "start_time": "2022-03-12T12:30:51.972Z"
   },
   {
    "duration": 176,
    "start_time": "2022-03-12T12:30:52.152Z"
   },
   {
    "duration": 5,
    "start_time": "2022-03-12T12:30:52.331Z"
   },
   {
    "duration": 1651,
    "start_time": "2022-03-12T12:30:52.338Z"
   },
   {
    "duration": 1262,
    "start_time": "2022-03-12T12:30:53.993Z"
   },
   {
    "duration": 996,
    "start_time": "2022-03-12T12:30:55.258Z"
   },
   {
    "duration": 10,
    "start_time": "2022-03-12T12:30:56.258Z"
   },
   {
    "duration": 12,
    "start_time": "2022-03-12T12:30:56.271Z"
   },
   {
    "duration": 10,
    "start_time": "2022-03-12T12:30:56.285Z"
   },
   {
    "duration": 8,
    "start_time": "2022-03-12T12:30:56.298Z"
   },
   {
    "duration": 769,
    "start_time": "2022-03-12T12:30:56.308Z"
   },
   {
    "duration": 85,
    "start_time": "2022-03-12T12:30:56.995Z"
   },
   {
    "duration": 558,
    "start_time": "2022-03-12T12:31:09.228Z"
   },
   {
    "duration": 13,
    "start_time": "2022-03-12T12:31:39.659Z"
   },
   {
    "duration": 5,
    "start_time": "2022-03-12T12:32:04.046Z"
   },
   {
    "duration": 842,
    "start_time": "2022-03-12T12:32:04.983Z"
   },
   {
    "duration": 875,
    "start_time": "2022-03-12T12:32:06.688Z"
   },
   {
    "duration": 845,
    "start_time": "2022-03-12T12:32:07.736Z"
   },
   {
    "duration": 10,
    "start_time": "2022-03-12T12:32:13.093Z"
   },
   {
    "duration": 12,
    "start_time": "2022-03-12T12:32:13.856Z"
   },
   {
    "duration": 9,
    "start_time": "2022-03-12T12:32:15.077Z"
   },
   {
    "duration": 12,
    "start_time": "2022-03-12T12:32:16.521Z"
   },
   {
    "duration": 8,
    "start_time": "2022-03-12T12:32:45.161Z"
   },
   {
    "duration": 14,
    "start_time": "2022-03-12T12:32:46.028Z"
   },
   {
    "duration": 1966,
    "start_time": "2022-03-12T12:35:12.873Z"
   },
   {
    "duration": 191,
    "start_time": "2022-03-12T12:35:14.841Z"
   },
   {
    "duration": 169,
    "start_time": "2022-03-12T12:35:15.036Z"
   },
   {
    "duration": 172,
    "start_time": "2022-03-12T12:35:15.208Z"
   },
   {
    "duration": 5,
    "start_time": "2022-03-12T12:35:15.382Z"
   },
   {
    "duration": 849,
    "start_time": "2022-03-12T12:35:15.389Z"
   },
   {
    "duration": 863,
    "start_time": "2022-03-12T12:35:16.241Z"
   },
   {
    "duration": 930,
    "start_time": "2022-03-12T12:35:17.108Z"
   },
   {
    "duration": 21,
    "start_time": "2022-03-12T12:35:18.041Z"
   },
   {
    "duration": 11,
    "start_time": "2022-03-12T12:35:18.065Z"
   },
   {
    "duration": 9,
    "start_time": "2022-03-12T12:35:18.078Z"
   },
   {
    "duration": 12,
    "start_time": "2022-03-12T12:35:18.089Z"
   },
   {
    "duration": 52,
    "start_time": "2022-03-12T12:35:18.104Z"
   },
   {
    "duration": 7,
    "start_time": "2022-03-12T12:35:18.159Z"
   },
   {
    "duration": 633,
    "start_time": "2022-03-12T12:35:18.169Z"
   },
   {
    "duration": 91,
    "start_time": "2022-03-12T12:35:18.714Z"
   },
   {
    "duration": 1458,
    "start_time": "2022-03-12T12:36:32.108Z"
   },
   {
    "duration": 182,
    "start_time": "2022-03-12T12:36:33.569Z"
   },
   {
    "duration": 173,
    "start_time": "2022-03-12T12:36:33.755Z"
   },
   {
    "duration": 183,
    "start_time": "2022-03-12T12:36:33.932Z"
   },
   {
    "duration": 6,
    "start_time": "2022-03-12T12:36:34.119Z"
   },
   {
    "duration": 1244,
    "start_time": "2022-03-12T12:36:34.129Z"
   },
   {
    "duration": 887,
    "start_time": "2022-03-12T12:36:35.376Z"
   },
   {
    "duration": 930,
    "start_time": "2022-03-12T12:36:36.268Z"
   },
   {
    "duration": 12,
    "start_time": "2022-03-12T12:36:37.202Z"
   },
   {
    "duration": 37,
    "start_time": "2022-03-12T12:36:37.217Z"
   },
   {
    "duration": 10,
    "start_time": "2022-03-12T12:36:37.256Z"
   },
   {
    "duration": 14,
    "start_time": "2022-03-12T12:36:37.268Z"
   },
   {
    "duration": 7,
    "start_time": "2022-03-12T12:36:37.285Z"
   },
   {
    "duration": 909,
    "start_time": "2022-03-12T12:36:37.294Z"
   },
   {
    "duration": 26,
    "start_time": "2022-03-12T12:36:38.179Z"
   },
   {
    "duration": 2039,
    "start_time": "2022-03-12T12:37:16.033Z"
   },
   {
    "duration": 378,
    "start_time": "2022-03-12T12:37:18.076Z"
   },
   {
    "duration": 326,
    "start_time": "2022-03-12T12:37:18.457Z"
   },
   {
    "duration": 328,
    "start_time": "2022-03-12T12:37:18.787Z"
   },
   {
    "duration": 6,
    "start_time": "2022-03-12T12:37:19.118Z"
   },
   {
    "duration": 879,
    "start_time": "2022-03-12T12:37:19.127Z"
   },
   {
    "duration": 893,
    "start_time": "2022-03-12T12:37:20.009Z"
   },
   {
    "duration": 884,
    "start_time": "2022-03-12T12:37:20.905Z"
   },
   {
    "duration": 11,
    "start_time": "2022-03-12T12:37:21.795Z"
   },
   {
    "duration": 43,
    "start_time": "2022-03-12T12:37:21.809Z"
   },
   {
    "duration": 12,
    "start_time": "2022-03-12T12:37:21.854Z"
   },
   {
    "duration": 15,
    "start_time": "2022-03-12T12:37:21.870Z"
   },
   {
    "duration": 11,
    "start_time": "2022-03-12T12:37:21.888Z"
   },
   {
    "duration": 552,
    "start_time": "2022-03-12T12:37:21.902Z"
   },
   {
    "duration": 793,
    "start_time": "2022-03-12T12:37:22.458Z"
   },
   {
    "duration": 7,
    "start_time": "2022-03-12T12:38:31.925Z"
   },
   {
    "duration": 520,
    "start_time": "2022-03-12T12:38:32.634Z"
   },
   {
    "duration": 8,
    "start_time": "2022-03-12T12:39:52.713Z"
   },
   {
    "duration": 538,
    "start_time": "2022-03-12T12:39:53.715Z"
   },
   {
    "duration": 460,
    "start_time": "2022-03-12T12:40:29.607Z"
   },
   {
    "duration": 543,
    "start_time": "2022-03-12T12:41:17.013Z"
   },
   {
    "duration": 113,
    "start_time": "2022-03-12T12:42:05.841Z"
   },
   {
    "duration": 85,
    "start_time": "2022-03-12T12:42:06.773Z"
   },
   {
    "duration": 44,
    "start_time": "2022-03-12T12:42:07.612Z"
   },
   {
    "duration": 4,
    "start_time": "2022-03-12T13:35:46.786Z"
   },
   {
    "duration": 5,
    "start_time": "2022-03-12T13:35:47.588Z"
   },
   {
    "duration": 5,
    "start_time": "2022-03-12T13:37:59.162Z"
   },
   {
    "duration": 5,
    "start_time": "2022-03-12T13:40:42.228Z"
   },
   {
    "duration": 4,
    "start_time": "2022-03-12T13:40:46.319Z"
   },
   {
    "duration": 5,
    "start_time": "2022-03-12T13:41:01.421Z"
   },
   {
    "duration": 10,
    "start_time": "2022-03-12T13:43:54.428Z"
   },
   {
    "duration": 11,
    "start_time": "2022-03-12T13:44:27.582Z"
   },
   {
    "duration": 12,
    "start_time": "2022-03-12T13:48:08.157Z"
   },
   {
    "duration": 7,
    "start_time": "2022-03-12T14:17:17.677Z"
   },
   {
    "duration": 4,
    "start_time": "2022-03-12T14:17:20.392Z"
   },
   {
    "duration": 4,
    "start_time": "2022-03-12T14:17:20.985Z"
   },
   {
    "duration": 7,
    "start_time": "2022-03-12T14:17:21.679Z"
   },
   {
    "duration": 389,
    "start_time": "2022-03-12T14:18:42.426Z"
   },
   {
    "duration": 124,
    "start_time": "2022-03-12T14:25:38.239Z"
   },
   {
    "duration": 106,
    "start_time": "2022-03-12T14:25:39.056Z"
   },
   {
    "duration": 41,
    "start_time": "2022-03-12T14:25:39.923Z"
   },
   {
    "duration": 642,
    "start_time": "2022-03-12T14:26:23.573Z"
   },
   {
    "duration": 269,
    "start_time": "2022-03-12T14:27:05.948Z"
   },
   {
    "duration": 243,
    "start_time": "2022-03-12T14:27:40.368Z"
   },
   {
    "duration": 564,
    "start_time": "2022-03-12T14:28:20.012Z"
   },
   {
    "duration": 680,
    "start_time": "2022-03-12T14:28:53.601Z"
   },
   {
    "duration": 559,
    "start_time": "2022-03-12T14:29:23.280Z"
   },
   {
    "duration": 1413,
    "start_time": "2022-03-12T14:29:42.953Z"
   },
   {
    "duration": 179,
    "start_time": "2022-03-12T14:29:44.369Z"
   },
   {
    "duration": 175,
    "start_time": "2022-03-12T14:29:44.553Z"
   },
   {
    "duration": 181,
    "start_time": "2022-03-12T14:29:44.732Z"
   },
   {
    "duration": 6,
    "start_time": "2022-03-12T14:29:44.916Z"
   },
   {
    "duration": 966,
    "start_time": "2022-03-12T14:29:44.924Z"
   },
   {
    "duration": 1234,
    "start_time": "2022-03-12T14:29:45.892Z"
   },
   {
    "duration": 855,
    "start_time": "2022-03-12T14:29:47.129Z"
   },
   {
    "duration": 10,
    "start_time": "2022-03-12T14:29:47.989Z"
   },
   {
    "duration": 11,
    "start_time": "2022-03-12T14:29:48.002Z"
   },
   {
    "duration": 38,
    "start_time": "2022-03-12T14:29:48.016Z"
   },
   {
    "duration": 17,
    "start_time": "2022-03-12T14:29:48.057Z"
   },
   {
    "duration": 97,
    "start_time": "2022-03-12T14:29:48.076Z"
   },
   {
    "duration": 175,
    "start_time": "2022-03-12T14:29:48.176Z"
   },
   {
    "duration": 100,
    "start_time": "2022-03-12T14:29:48.353Z"
   },
   {
    "duration": 295,
    "start_time": "2022-03-12T14:29:48.456Z"
   },
   {
    "duration": 4,
    "start_time": "2022-03-12T14:29:48.754Z"
   },
   {
    "duration": 14,
    "start_time": "2022-03-12T14:29:48.761Z"
   },
   {
    "duration": 8,
    "start_time": "2022-03-12T14:29:48.778Z"
   },
   {
    "duration": 11,
    "start_time": "2022-03-12T14:29:48.789Z"
   },
   {
    "duration": 54,
    "start_time": "2022-03-12T14:29:48.802Z"
   },
   {
    "duration": 5,
    "start_time": "2022-03-12T14:29:48.859Z"
   },
   {
    "duration": 6,
    "start_time": "2022-03-12T14:29:48.867Z"
   },
   {
    "duration": 8,
    "start_time": "2022-03-12T14:29:48.876Z"
   },
   {
    "duration": 455,
    "start_time": "2022-03-12T14:29:48.887Z"
   },
   {
    "duration": 173,
    "start_time": "2022-03-12T14:29:49.173Z"
   },
   {
    "duration": 1385,
    "start_time": "2022-03-12T14:30:19.781Z"
   },
   {
    "duration": 174,
    "start_time": "2022-03-12T14:30:21.169Z"
   },
   {
    "duration": 168,
    "start_time": "2022-03-12T14:30:21.350Z"
   },
   {
    "duration": 234,
    "start_time": "2022-03-12T14:30:21.521Z"
   },
   {
    "duration": 7,
    "start_time": "2022-03-12T14:30:21.758Z"
   },
   {
    "duration": 1250,
    "start_time": "2022-03-12T14:30:21.768Z"
   },
   {
    "duration": 873,
    "start_time": "2022-03-12T14:30:23.020Z"
   },
   {
    "duration": 842,
    "start_time": "2022-03-12T14:30:23.897Z"
   },
   {
    "duration": 14,
    "start_time": "2022-03-12T14:30:24.742Z"
   },
   {
    "duration": 20,
    "start_time": "2022-03-12T14:30:24.759Z"
   },
   {
    "duration": 9,
    "start_time": "2022-03-12T14:30:24.781Z"
   },
   {
    "duration": 17,
    "start_time": "2022-03-12T14:30:24.792Z"
   },
   {
    "duration": 108,
    "start_time": "2022-03-12T14:30:24.812Z"
   },
   {
    "duration": 133,
    "start_time": "2022-03-12T14:30:24.923Z"
   },
   {
    "duration": 197,
    "start_time": "2022-03-12T14:30:25.059Z"
   },
   {
    "duration": 194,
    "start_time": "2022-03-12T14:30:25.260Z"
   },
   {
    "duration": 94,
    "start_time": "2022-03-12T14:30:25.458Z"
   },
   {
    "duration": 6,
    "start_time": "2022-03-12T14:30:25.555Z"
   },
   {
    "duration": 7,
    "start_time": "2022-03-12T14:30:25.564Z"
   },
   {
    "duration": 8,
    "start_time": "2022-03-12T14:30:25.574Z"
   },
   {
    "duration": 8,
    "start_time": "2022-03-12T14:30:25.585Z"
   },
   {
    "duration": 5,
    "start_time": "2022-03-12T14:30:25.595Z"
   },
   {
    "duration": 4,
    "start_time": "2022-03-12T14:30:25.653Z"
   },
   {
    "duration": 7,
    "start_time": "2022-03-12T14:30:25.660Z"
   },
   {
    "duration": 728,
    "start_time": "2022-03-12T14:30:25.669Z"
   },
   {
    "duration": 179,
    "start_time": "2022-03-12T14:30:26.220Z"
   },
   {
    "duration": 580,
    "start_time": "2022-03-12T14:30:56.313Z"
   },
   {
    "duration": 518,
    "start_time": "2022-03-12T14:31:16.943Z"
   },
   {
    "duration": 1167,
    "start_time": "2022-03-13T11:03:08.877Z"
   },
   {
    "duration": 123,
    "start_time": "2022-03-13T11:03:10.046Z"
   },
   {
    "duration": 118,
    "start_time": "2022-03-13T11:03:10.171Z"
   },
   {
    "duration": 131,
    "start_time": "2022-03-13T11:03:10.291Z"
   },
   {
    "duration": 3,
    "start_time": "2022-03-13T11:03:10.424Z"
   },
   {
    "duration": 496,
    "start_time": "2022-03-13T11:03:10.428Z"
   },
   {
    "duration": 800,
    "start_time": "2022-03-13T11:03:10.926Z"
   },
   {
    "duration": 469,
    "start_time": "2022-03-13T11:03:11.728Z"
   },
   {
    "duration": 10,
    "start_time": "2022-03-13T11:03:12.199Z"
   },
   {
    "duration": 13,
    "start_time": "2022-03-13T11:03:12.211Z"
   },
   {
    "duration": 7,
    "start_time": "2022-03-13T11:03:12.225Z"
   },
   {
    "duration": 11,
    "start_time": "2022-03-13T11:03:12.233Z"
   },
   {
    "duration": 89,
    "start_time": "2022-03-13T11:03:12.245Z"
   },
   {
    "duration": 81,
    "start_time": "2022-03-13T11:03:12.336Z"
   },
   {
    "duration": 191,
    "start_time": "2022-03-13T11:03:12.419Z"
   },
   {
    "duration": 200,
    "start_time": "2022-03-13T11:03:12.612Z"
   },
   {
    "duration": 90,
    "start_time": "2022-03-13T11:03:12.815Z"
   },
   {
    "duration": 5,
    "start_time": "2022-03-13T11:03:12.907Z"
   },
   {
    "duration": 8,
    "start_time": "2022-03-13T11:03:12.913Z"
   },
   {
    "duration": 9,
    "start_time": "2022-03-13T11:03:12.923Z"
   },
   {
    "duration": 6,
    "start_time": "2022-03-13T11:03:12.934Z"
   },
   {
    "duration": 3,
    "start_time": "2022-03-13T11:03:12.942Z"
   },
   {
    "duration": 6,
    "start_time": "2022-03-13T11:03:12.948Z"
   },
   {
    "duration": 4,
    "start_time": "2022-03-13T11:03:12.956Z"
   },
   {
    "duration": 4367,
    "start_time": "2022-03-13T11:03:12.961Z"
   },
   {
    "duration": 73,
    "start_time": "2022-03-13T11:03:17.257Z"
   },
   {
    "duration": 5,
    "start_time": "2022-03-13T11:03:47.477Z"
   },
   {
    "duration": 589,
    "start_time": "2022-03-13T11:03:48.261Z"
   },
   {
    "duration": 4,
    "start_time": "2022-03-13T11:05:21.706Z"
   },
   {
    "duration": 919,
    "start_time": "2022-03-13T11:05:22.445Z"
   },
   {
    "duration": 4,
    "start_time": "2022-03-13T11:14:36.372Z"
   },
   {
    "duration": 3117,
    "start_time": "2022-03-13T11:14:37.578Z"
   },
   {
    "duration": 3154,
    "start_time": "2022-03-13T11:15:07.733Z"
   },
   {
    "duration": 2984,
    "start_time": "2022-03-13T11:15:30.610Z"
   },
   {
    "duration": 4646,
    "start_time": "2022-03-13T11:16:16.706Z"
   },
   {
    "duration": 4770,
    "start_time": "2022-03-13T11:16:49.448Z"
   },
   {
    "duration": 4,
    "start_time": "2022-03-13T11:17:48.751Z"
   },
   {
    "duration": 2955,
    "start_time": "2022-03-13T11:17:49.837Z"
   },
   {
    "duration": 5,
    "start_time": "2022-03-13T11:18:05.156Z"
   },
   {
    "duration": 2950,
    "start_time": "2022-03-13T11:18:07.632Z"
   },
   {
    "duration": 3,
    "start_time": "2022-03-13T11:20:31.750Z"
   },
   {
    "duration": 3,
    "start_time": "2022-03-13T11:20:32.592Z"
   },
   {
    "duration": 4,
    "start_time": "2022-03-13T11:20:33.429Z"
   },
   {
    "duration": 2798,
    "start_time": "2022-03-13T11:20:35.088Z"
   },
   {
    "duration": 3105,
    "start_time": "2022-03-13T11:20:42.402Z"
   },
   {
    "duration": 2831,
    "start_time": "2022-03-13T11:20:47.720Z"
   },
   {
    "duration": 3,
    "start_time": "2022-03-13T11:21:24.755Z"
   },
   {
    "duration": 3,
    "start_time": "2022-03-13T11:21:26.294Z"
   },
   {
    "duration": 4,
    "start_time": "2022-03-13T11:21:27.330Z"
   },
   {
    "duration": 938,
    "start_time": "2022-03-13T11:21:28.210Z"
   },
   {
    "duration": 3,
    "start_time": "2022-03-13T11:22:29.890Z"
   },
   {
    "duration": 3,
    "start_time": "2022-03-13T11:22:31.071Z"
   },
   {
    "duration": 4,
    "start_time": "2022-03-13T11:22:31.907Z"
   },
   {
    "duration": 2826,
    "start_time": "2022-03-13T11:22:34.120Z"
   },
   {
    "duration": 2825,
    "start_time": "2022-03-13T11:22:41.783Z"
   },
   {
    "duration": 2897,
    "start_time": "2022-03-13T11:22:46.227Z"
   },
   {
    "duration": 3,
    "start_time": "2022-03-13T11:23:00.655Z"
   },
   {
    "duration": 3,
    "start_time": "2022-03-13T11:23:01.896Z"
   },
   {
    "duration": 4,
    "start_time": "2022-03-13T11:23:02.750Z"
   },
   {
    "duration": 2895,
    "start_time": "2022-03-13T11:23:03.249Z"
   },
   {
    "duration": 3451,
    "start_time": "2022-03-13T11:23:11.142Z"
   },
   {
    "duration": 2884,
    "start_time": "2022-03-13T11:23:14.900Z"
   },
   {
    "duration": 3,
    "start_time": "2022-03-13T11:23:30.176Z"
   },
   {
    "duration": 3,
    "start_time": "2022-03-13T11:23:31.072Z"
   },
   {
    "duration": 4,
    "start_time": "2022-03-13T11:23:31.864Z"
   },
   {
    "duration": 2889,
    "start_time": "2022-03-13T11:23:32.922Z"
   },
   {
    "duration": 2775,
    "start_time": "2022-03-13T11:23:35.812Z"
   },
   {
    "duration": 2826,
    "start_time": "2022-03-13T11:23:38.588Z"
   },
   {
    "duration": 4,
    "start_time": "2022-03-13T11:25:02.456Z"
   },
   {
    "duration": 3576,
    "start_time": "2022-03-13T11:25:03.445Z"
   },
   {
    "duration": 1078,
    "start_time": "2022-03-13T11:25:40.637Z"
   },
   {
    "duration": 127,
    "start_time": "2022-03-13T11:25:41.717Z"
   },
   {
    "duration": 121,
    "start_time": "2022-03-13T11:25:41.847Z"
   },
   {
    "duration": 124,
    "start_time": "2022-03-13T11:25:41.970Z"
   },
   {
    "duration": 10,
    "start_time": "2022-03-13T11:25:42.096Z"
   },
   {
    "duration": 507,
    "start_time": "2022-03-13T11:25:42.107Z"
   },
   {
    "duration": 668,
    "start_time": "2022-03-13T11:25:42.615Z"
   },
   {
    "duration": 472,
    "start_time": "2022-03-13T11:25:43.286Z"
   },
   {
    "duration": 6,
    "start_time": "2022-03-13T11:25:43.760Z"
   },
   {
    "duration": 11,
    "start_time": "2022-03-13T11:25:43.768Z"
   },
   {
    "duration": 5,
    "start_time": "2022-03-13T11:25:43.780Z"
   },
   {
    "duration": 27,
    "start_time": "2022-03-13T11:25:43.786Z"
   },
   {
    "duration": 64,
    "start_time": "2022-03-13T11:25:43.814Z"
   },
   {
    "duration": 133,
    "start_time": "2022-03-13T11:25:43.879Z"
   },
   {
    "duration": 113,
    "start_time": "2022-03-13T11:25:44.014Z"
   },
   {
    "duration": 192,
    "start_time": "2022-03-13T11:25:44.128Z"
   },
   {
    "duration": 84,
    "start_time": "2022-03-13T11:25:44.322Z"
   },
   {
    "duration": 98,
    "start_time": "2022-03-13T11:25:44.409Z"
   },
   {
    "duration": 6,
    "start_time": "2022-03-13T11:25:44.509Z"
   },
   {
    "duration": 7,
    "start_time": "2022-03-13T11:25:44.517Z"
   },
   {
    "duration": 6,
    "start_time": "2022-03-13T11:25:44.525Z"
   },
   {
    "duration": 3,
    "start_time": "2022-03-13T11:25:44.532Z"
   },
   {
    "duration": 3,
    "start_time": "2022-03-13T11:25:44.538Z"
   },
   {
    "duration": 4,
    "start_time": "2022-03-13T11:25:44.543Z"
   },
   {
    "duration": 2971,
    "start_time": "2022-03-13T11:25:44.548Z"
   },
   {
    "duration": 2815,
    "start_time": "2022-03-13T11:25:47.521Z"
   },
   {
    "duration": 2835,
    "start_time": "2022-03-13T11:25:50.337Z"
   },
   {
    "duration": 4,
    "start_time": "2022-03-13T11:26:24.474Z"
   },
   {
    "duration": 3080,
    "start_time": "2022-03-13T11:26:25.261Z"
   },
   {
    "duration": 4,
    "start_time": "2022-03-13T11:27:36.635Z"
   },
   {
    "duration": 1871,
    "start_time": "2022-03-13T11:27:38.137Z"
   },
   {
    "duration": 1904,
    "start_time": "2022-03-13T11:27:42.336Z"
   },
   {
    "duration": 1869,
    "start_time": "2022-03-13T11:27:45.606Z"
   },
   {
    "duration": 4,
    "start_time": "2022-03-13T11:27:54.260Z"
   },
   {
    "duration": 2851,
    "start_time": "2022-03-13T11:27:55.131Z"
   },
   {
    "duration": 2832,
    "start_time": "2022-03-13T11:27:57.984Z"
   },
   {
    "duration": 2865,
    "start_time": "2022-03-13T11:28:00.817Z"
   },
   {
    "duration": 3,
    "start_time": "2022-03-13T11:32:00.944Z"
   },
   {
    "duration": 2,
    "start_time": "2022-03-13T11:32:01.750Z"
   },
   {
    "duration": 4,
    "start_time": "2022-03-13T11:32:02.823Z"
   },
   {
    "duration": 947,
    "start_time": "2022-03-13T11:32:03.902Z"
   },
   {
    "duration": 3,
    "start_time": "2022-03-13T11:32:18.987Z"
   },
   {
    "duration": 3,
    "start_time": "2022-03-13T11:32:19.780Z"
   },
   {
    "duration": 4,
    "start_time": "2022-03-13T11:32:20.608Z"
   },
   {
    "duration": 2939,
    "start_time": "2022-03-13T11:32:21.658Z"
   },
   {
    "duration": 2918,
    "start_time": "2022-03-13T11:32:32.328Z"
   },
   {
    "duration": 2850,
    "start_time": "2022-03-13T11:32:37.560Z"
   },
   {
    "duration": 4,
    "start_time": "2022-03-13T11:32:54.716Z"
   },
   {
    "duration": 3239,
    "start_time": "2022-03-13T11:32:56.262Z"
   },
   {
    "duration": 2987,
    "start_time": "2022-03-13T11:33:03.605Z"
   },
   {
    "duration": 2989,
    "start_time": "2022-03-13T11:33:08.887Z"
   },
   {
    "duration": 3,
    "start_time": "2022-03-13T11:34:36.273Z"
   },
   {
    "duration": 2,
    "start_time": "2022-03-13T11:34:37.043Z"
   },
   {
    "duration": 4,
    "start_time": "2022-03-13T11:34:37.749Z"
   },
   {
    "duration": 2989,
    "start_time": "2022-03-13T11:34:38.561Z"
   },
   {
    "duration": 2980,
    "start_time": "2022-03-13T11:34:44.745Z"
   },
   {
    "duration": 2867,
    "start_time": "2022-03-13T11:34:52.765Z"
   },
   {
    "duration": 3,
    "start_time": "2022-03-13T11:35:35.465Z"
   },
   {
    "duration": 2,
    "start_time": "2022-03-13T11:35:36.314Z"
   },
   {
    "duration": 4,
    "start_time": "2022-03-13T11:35:36.957Z"
   },
   {
    "duration": 2981,
    "start_time": "2022-03-13T11:35:38.144Z"
   },
   {
    "duration": 2811,
    "start_time": "2022-03-13T11:35:43.769Z"
   },
   {
    "duration": 2837,
    "start_time": "2022-03-13T11:35:47.707Z"
   },
   {
    "duration": 1060,
    "start_time": "2022-03-13T11:36:17.001Z"
   },
   {
    "duration": 130,
    "start_time": "2022-03-13T11:36:18.063Z"
   },
   {
    "duration": 119,
    "start_time": "2022-03-13T11:36:18.195Z"
   },
   {
    "duration": 119,
    "start_time": "2022-03-13T11:36:18.316Z"
   },
   {
    "duration": 3,
    "start_time": "2022-03-13T11:36:18.436Z"
   },
   {
    "duration": 464,
    "start_time": "2022-03-13T11:36:18.441Z"
   },
   {
    "duration": 462,
    "start_time": "2022-03-13T11:36:18.906Z"
   },
   {
    "duration": 465,
    "start_time": "2022-03-13T11:36:19.369Z"
   },
   {
    "duration": 6,
    "start_time": "2022-03-13T11:36:19.837Z"
   },
   {
    "duration": 9,
    "start_time": "2022-03-13T11:36:19.845Z"
   },
   {
    "duration": 5,
    "start_time": "2022-03-13T11:36:19.855Z"
   },
   {
    "duration": 10,
    "start_time": "2022-03-13T11:36:19.861Z"
   },
   {
    "duration": 81,
    "start_time": "2022-03-13T11:36:19.872Z"
   },
   {
    "duration": 59,
    "start_time": "2022-03-13T11:36:19.955Z"
   },
   {
    "duration": 100,
    "start_time": "2022-03-13T11:36:20.106Z"
   },
   {
    "duration": 118,
    "start_time": "2022-03-13T11:36:20.208Z"
   },
   {
    "duration": 4,
    "start_time": "2022-03-13T11:36:20.410Z"
   },
   {
    "duration": 8,
    "start_time": "2022-03-13T11:36:20.506Z"
   },
   {
    "duration": 8,
    "start_time": "2022-03-13T11:36:20.516Z"
   },
   {
    "duration": 15,
    "start_time": "2022-03-13T11:36:20.525Z"
   },
   {
    "duration": 10,
    "start_time": "2022-03-13T11:36:20.541Z"
   },
   {
    "duration": 7,
    "start_time": "2022-03-13T11:36:20.553Z"
   },
   {
    "duration": 6,
    "start_time": "2022-03-13T11:36:20.561Z"
   },
   {
    "duration": 9,
    "start_time": "2022-03-13T11:36:20.569Z"
   },
   {
    "duration": 2801,
    "start_time": "2022-03-13T11:36:20.579Z"
   },
   {
    "duration": 2975,
    "start_time": "2022-03-13T11:36:23.381Z"
   },
   {
    "duration": 2866,
    "start_time": "2022-03-13T11:36:26.358Z"
   },
   {
    "duration": 1022,
    "start_time": "2022-03-13T11:39:57.154Z"
   },
   {
    "duration": 154,
    "start_time": "2022-03-13T11:39:58.178Z"
   },
   {
    "duration": 119,
    "start_time": "2022-03-13T11:39:58.334Z"
   },
   {
    "duration": 167,
    "start_time": "2022-03-13T11:39:58.454Z"
   },
   {
    "duration": 3,
    "start_time": "2022-03-13T11:39:58.622Z"
   },
   {
    "duration": 748,
    "start_time": "2022-03-13T11:39:58.627Z"
   },
   {
    "duration": 468,
    "start_time": "2022-03-13T11:39:59.377Z"
   },
   {
    "duration": 461,
    "start_time": "2022-03-13T11:39:59.847Z"
   },
   {
    "duration": 6,
    "start_time": "2022-03-13T11:40:00.311Z"
   },
   {
    "duration": 14,
    "start_time": "2022-03-13T11:40:00.319Z"
   },
   {
    "duration": 11,
    "start_time": "2022-03-13T11:40:00.335Z"
   },
   {
    "duration": 11,
    "start_time": "2022-03-13T11:40:00.347Z"
   },
   {
    "duration": 72,
    "start_time": "2022-03-13T11:40:00.359Z"
   },
   {
    "duration": 78,
    "start_time": "2022-03-13T11:40:00.432Z"
   },
   {
    "duration": 192,
    "start_time": "2022-03-13T11:40:00.513Z"
   },
   {
    "duration": 197,
    "start_time": "2022-03-13T11:40:00.708Z"
   },
   {
    "duration": 3,
    "start_time": "2022-03-13T11:40:00.907Z"
   },
   {
    "duration": 101,
    "start_time": "2022-03-13T11:40:00.912Z"
   },
   {
    "duration": 9,
    "start_time": "2022-03-13T11:40:01.014Z"
   },
   {
    "duration": 9,
    "start_time": "2022-03-13T11:40:01.025Z"
   },
   {
    "duration": 7,
    "start_time": "2022-03-13T11:40:01.036Z"
   },
   {
    "duration": 3,
    "start_time": "2022-03-13T11:40:01.045Z"
   },
   {
    "duration": 11,
    "start_time": "2022-03-13T11:40:01.049Z"
   },
   {
    "duration": 5,
    "start_time": "2022-03-13T11:40:01.061Z"
   },
   {
    "duration": 2806,
    "start_time": "2022-03-13T11:40:01.068Z"
   },
   {
    "duration": 3041,
    "start_time": "2022-03-13T11:40:03.876Z"
   },
   {
    "duration": 2828,
    "start_time": "2022-03-13T11:40:06.920Z"
   },
   {
    "duration": 1546,
    "start_time": "2022-03-14T17:32:24.795Z"
   },
   {
    "duration": 182,
    "start_time": "2022-03-14T17:32:26.344Z"
   },
   {
    "duration": 416,
    "start_time": "2022-03-14T17:32:26.529Z"
   },
   {
    "duration": 706,
    "start_time": "2022-03-14T17:32:26.948Z"
   },
   {
    "duration": 405,
    "start_time": "2022-03-14T17:32:27.657Z"
   },
   {
    "duration": 1290,
    "start_time": "2022-03-14T17:32:28.065Z"
   },
   {
    "duration": 956,
    "start_time": "2022-03-14T17:32:29.358Z"
   },
   {
    "duration": 1056,
    "start_time": "2022-03-14T17:32:30.318Z"
   },
   {
    "duration": 11,
    "start_time": "2022-03-14T17:32:31.377Z"
   },
   {
    "duration": 568,
    "start_time": "2022-03-14T17:32:31.390Z"
   },
   {
    "duration": 422,
    "start_time": "2022-03-14T17:32:31.961Z"
   },
   {
    "duration": 728,
    "start_time": "2022-03-14T17:32:32.386Z"
   },
   {
    "duration": 1114,
    "start_time": "2022-03-14T17:32:33.116Z"
   },
   {
    "duration": 1619,
    "start_time": "2022-03-14T17:32:34.233Z"
   },
   {
    "duration": 1109,
    "start_time": "2022-03-14T17:32:35.856Z"
   },
   {
    "duration": 998,
    "start_time": "2022-03-14T17:32:37.054Z"
   },
   {
    "duration": 730,
    "start_time": "2022-03-14T17:32:38.055Z"
   },
   {
    "duration": 351,
    "start_time": "2022-03-14T17:32:38.788Z"
   },
   {
    "duration": 441,
    "start_time": "2022-03-14T17:32:39.142Z"
   },
   {
    "duration": 284,
    "start_time": "2022-03-14T17:32:39.586Z"
   },
   {
    "duration": 307,
    "start_time": "2022-03-14T17:32:39.873Z"
   },
   {
    "duration": 335,
    "start_time": "2022-03-14T17:32:40.183Z"
   },
   {
    "duration": 361,
    "start_time": "2022-03-14T17:32:40.522Z"
   },
   {
    "duration": 391,
    "start_time": "2022-03-14T17:32:40.886Z"
   },
   {
    "duration": 5892,
    "start_time": "2022-03-14T17:32:41.280Z"
   },
   {
    "duration": 5339,
    "start_time": "2022-03-14T17:32:47.175Z"
   },
   {
    "duration": 5345,
    "start_time": "2022-03-14T17:32:52.516Z"
   },
   {
    "duration": 108,
    "start_time": "2022-03-14T17:34:45.579Z"
   },
   {
    "duration": 5,
    "start_time": "2022-03-14T17:35:07.157Z"
   },
   {
    "duration": 983,
    "start_time": "2022-03-14T17:35:09.336Z"
   },
   {
    "duration": 6,
    "start_time": "2022-03-14T17:35:24.271Z"
   },
   {
    "duration": 852,
    "start_time": "2022-03-14T17:35:25.162Z"
   },
   {
    "duration": 4,
    "start_time": "2022-03-14T17:37:23.590Z"
   },
   {
    "duration": 6,
    "start_time": "2022-03-14T17:37:53.355Z"
   },
   {
    "duration": 28721,
    "start_time": "2022-03-14T17:37:53.365Z"
   },
   {
    "duration": 1594,
    "start_time": "2022-03-14T17:42:20.564Z"
   },
   {
    "duration": 187,
    "start_time": "2022-03-14T17:42:22.161Z"
   },
   {
    "duration": 902,
    "start_time": "2022-03-14T17:42:22.351Z"
   },
   {
    "duration": 1231,
    "start_time": "2022-03-14T17:42:23.256Z"
   },
   {
    "duration": 337,
    "start_time": "2022-03-14T17:42:24.489Z"
   },
   {
    "duration": 6,
    "start_time": "2022-03-14T17:42:51.545Z"
   },
   {
    "duration": 6,
    "start_time": "2022-03-14T17:42:51.547Z"
   },
   {
    "duration": 5,
    "start_time": "2022-03-14T17:42:51.550Z"
   },
   {
    "duration": 4,
    "start_time": "2022-03-14T17:42:51.553Z"
   },
   {
    "duration": 5,
    "start_time": "2022-03-14T17:42:51.555Z"
   },
   {
    "duration": 4,
    "start_time": "2022-03-14T17:42:51.558Z"
   },
   {
    "duration": 6,
    "start_time": "2022-03-14T17:42:51.559Z"
   },
   {
    "duration": 6,
    "start_time": "2022-03-14T17:42:51.561Z"
   },
   {
    "duration": 6,
    "start_time": "2022-03-14T17:42:51.563Z"
   },
   {
    "duration": 6,
    "start_time": "2022-03-14T17:42:51.565Z"
   },
   {
    "duration": 6,
    "start_time": "2022-03-14T17:42:51.567Z"
   },
   {
    "duration": 5,
    "start_time": "2022-03-14T17:42:51.571Z"
   },
   {
    "duration": 6,
    "start_time": "2022-03-14T17:42:51.572Z"
   },
   {
    "duration": -4,
    "start_time": "2022-03-14T17:42:51.584Z"
   },
   {
    "duration": -5,
    "start_time": "2022-03-14T17:42:51.587Z"
   },
   {
    "duration": -7,
    "start_time": "2022-03-14T17:42:51.591Z"
   },
   {
    "duration": -6,
    "start_time": "2022-03-14T17:42:51.593Z"
   },
   {
    "duration": -6,
    "start_time": "2022-03-14T17:42:51.595Z"
   },
   {
    "duration": -10,
    "start_time": "2022-03-14T17:42:51.601Z"
   },
   {
    "duration": 49,
    "start_time": "2022-03-14T17:42:51.603Z"
   },
   {
    "duration": 47,
    "start_time": "2022-03-14T17:42:51.607Z"
   },
   {
    "duration": 46,
    "start_time": "2022-03-14T17:42:51.610Z"
   },
   {
    "duration": 46,
    "start_time": "2022-03-14T17:42:51.612Z"
   },
   {
    "duration": 5,
    "start_time": "2022-03-14T17:44:32.955Z"
   },
   {
    "duration": 1731,
    "start_time": "2022-03-14T17:44:34.262Z"
   },
   {
    "duration": 6,
    "start_time": "2022-03-14T17:44:45.672Z"
   },
   {
    "duration": 1368,
    "start_time": "2022-03-14T17:44:46.490Z"
   },
   {
    "duration": 6,
    "start_time": "2022-03-14T17:45:09.348Z"
   },
   {
    "duration": 1295,
    "start_time": "2022-03-14T17:45:10.071Z"
   },
   {
    "duration": 5,
    "start_time": "2022-03-14T17:45:22.787Z"
   },
   {
    "duration": 1290,
    "start_time": "2022-03-14T17:45:23.635Z"
   },
   {
    "duration": 1450,
    "start_time": "2022-03-14T17:45:52.120Z"
   },
   {
    "duration": 1336,
    "start_time": "2022-03-14T17:45:53.572Z"
   },
   {
    "duration": 1447,
    "start_time": "2022-03-14T17:47:07.200Z"
   },
   {
    "duration": 182,
    "start_time": "2022-03-14T17:47:08.650Z"
   },
   {
    "duration": 286,
    "start_time": "2022-03-14T17:47:08.836Z"
   },
   {
    "duration": 318,
    "start_time": "2022-03-14T17:47:09.126Z"
   },
   {
    "duration": 226,
    "start_time": "2022-03-14T17:47:09.446Z"
   },
   {
    "duration": 2127,
    "start_time": "2022-03-14T17:47:09.674Z"
   },
   {
    "duration": 1419,
    "start_time": "2022-03-14T17:47:11.804Z"
   },
   {
    "duration": 1459,
    "start_time": "2022-03-14T17:47:13.229Z"
   },
   {
    "duration": 12,
    "start_time": "2022-03-14T17:47:14.692Z"
   },
   {
    "duration": 353,
    "start_time": "2022-03-14T17:47:14.706Z"
   },
   {
    "duration": 270,
    "start_time": "2022-03-14T17:47:15.062Z"
   },
   {
    "duration": 435,
    "start_time": "2022-03-14T17:47:15.335Z"
   },
   {
    "duration": 1476,
    "start_time": "2022-03-14T17:47:15.772Z"
   },
   {
    "duration": 700,
    "start_time": "2022-03-14T17:47:17.251Z"
   },
   {
    "duration": 506,
    "start_time": "2022-03-14T17:47:17.954Z"
   },
   {
    "duration": 1606,
    "start_time": "2022-03-14T17:47:25.303Z"
   },
   {
    "duration": 177,
    "start_time": "2022-03-14T17:47:26.912Z"
   },
   {
    "duration": 669,
    "start_time": "2022-03-14T17:47:27.092Z"
   },
   {
    "duration": 898,
    "start_time": "2022-03-14T17:47:27.765Z"
   },
   {
    "duration": 554,
    "start_time": "2022-03-14T17:47:28.666Z"
   },
   {
    "duration": 2273,
    "start_time": "2022-03-14T17:47:29.222Z"
   },
   {
    "duration": 1358,
    "start_time": "2022-03-14T17:47:31.498Z"
   },
   {
    "duration": 1432,
    "start_time": "2022-03-14T17:47:32.860Z"
   },
   {
    "duration": 12,
    "start_time": "2022-03-14T17:47:34.297Z"
   },
   {
    "duration": 685,
    "start_time": "2022-03-14T17:47:34.312Z"
   },
   {
    "duration": 833,
    "start_time": "2022-03-14T17:47:35.000Z"
   },
   {
    "duration": 722,
    "start_time": "2022-03-14T17:47:35.836Z"
   },
   {
    "duration": 889,
    "start_time": "2022-03-14T17:47:36.560Z"
   },
   {
    "duration": 1000,
    "start_time": "2022-03-14T17:47:37.452Z"
   },
   {
    "duration": 696,
    "start_time": "2022-03-14T17:47:38.456Z"
   },
   {
    "duration": 694,
    "start_time": "2022-03-14T17:47:39.160Z"
   },
   {
    "duration": 585,
    "start_time": "2022-03-14T17:47:39.857Z"
   },
   {
    "duration": 661,
    "start_time": "2022-03-14T17:47:40.444Z"
   },
   {
    "duration": 798,
    "start_time": "2022-03-14T17:47:41.107Z"
   },
   {
    "duration": 589,
    "start_time": "2022-03-14T17:47:41.908Z"
   },
   {
    "duration": 451,
    "start_time": "2022-03-14T17:47:42.500Z"
   },
   {
    "duration": 604,
    "start_time": "2022-03-14T17:47:42.954Z"
   },
   {
    "duration": 645,
    "start_time": "2022-03-14T17:47:43.561Z"
   },
   {
    "duration": 633,
    "start_time": "2022-03-14T17:47:44.209Z"
   },
   {
    "duration": 6036,
    "start_time": "2022-03-14T17:47:44.845Z"
   },
   {
    "duration": 5286,
    "start_time": "2022-03-14T17:47:50.886Z"
   },
   {
    "duration": 5239,
    "start_time": "2022-03-14T17:47:56.174Z"
   },
   {
    "duration": 8,
    "start_time": "2022-03-14T17:51:35.204Z"
   },
   {
    "duration": 53,
    "start_time": "2022-03-14T17:51:44.603Z"
   },
   {
    "duration": 100,
    "start_time": "2022-03-14T17:51:47.957Z"
   },
   {
    "duration": 72,
    "start_time": "2022-03-14T17:51:49.985Z"
   },
   {
    "duration": 5,
    "start_time": "2022-03-14T17:55:36.985Z"
   },
   {
    "duration": 10,
    "start_time": "2022-03-14T17:56:10.637Z"
   },
   {
    "duration": 12,
    "start_time": "2022-03-14T17:57:02.444Z"
   },
   {
    "duration": 9,
    "start_time": "2022-03-14T17:58:32.325Z"
   },
   {
    "duration": 8,
    "start_time": "2022-03-14T17:58:44.488Z"
   },
   {
    "duration": 9,
    "start_time": "2022-03-14T17:58:47.930Z"
   },
   {
    "duration": 9,
    "start_time": "2022-03-14T17:58:59.265Z"
   },
   {
    "duration": 11,
    "start_time": "2022-03-14T17:59:03.906Z"
   },
   {
    "duration": 7,
    "start_time": "2022-03-14T18:04:17.169Z"
   },
   {
    "duration": 5133,
    "start_time": "2022-03-14T18:06:11.668Z"
   },
   {
    "duration": 5556,
    "start_time": "2022-03-14T18:07:15.636Z"
   },
   {
    "duration": 6679,
    "start_time": "2022-03-14T18:08:09.977Z"
   },
   {
    "duration": 1498,
    "start_time": "2022-03-14T18:22:16.678Z"
   },
   {
    "duration": 185,
    "start_time": "2022-03-14T18:22:18.178Z"
   },
   {
    "duration": 575,
    "start_time": "2022-03-14T18:22:18.366Z"
   },
   {
    "duration": 665,
    "start_time": "2022-03-14T18:22:18.944Z"
   },
   {
    "duration": 642,
    "start_time": "2022-03-14T18:22:19.612Z"
   },
   {
    "duration": 1931,
    "start_time": "2022-03-14T18:22:20.257Z"
   },
   {
    "duration": 1364,
    "start_time": "2022-03-14T18:22:22.190Z"
   },
   {
    "duration": 1422,
    "start_time": "2022-03-14T18:22:23.558Z"
   },
   {
    "duration": 11,
    "start_time": "2022-03-14T18:22:24.984Z"
   },
   {
    "duration": 1377,
    "start_time": "2022-03-14T18:22:24.997Z"
   },
   {
    "duration": 946,
    "start_time": "2022-03-14T18:22:26.376Z"
   },
   {
    "duration": 860,
    "start_time": "2022-03-14T18:22:27.325Z"
   },
   {
    "duration": 851,
    "start_time": "2022-03-14T18:22:28.187Z"
   },
   {
    "duration": 613,
    "start_time": "2022-03-14T18:22:29.041Z"
   },
   {
    "duration": 500,
    "start_time": "2022-03-14T18:22:29.657Z"
   },
   {
    "duration": 893,
    "start_time": "2022-03-14T18:22:30.160Z"
   },
   {
    "duration": 784,
    "start_time": "2022-03-14T18:22:31.057Z"
   },
   {
    "duration": 267,
    "start_time": "2022-03-14T18:22:31.843Z"
   },
   {
    "duration": 1195,
    "start_time": "2022-03-14T18:22:32.113Z"
   },
   {
    "duration": 368,
    "start_time": "2022-03-14T18:22:33.311Z"
   },
   {
    "duration": 441,
    "start_time": "2022-03-14T18:22:33.682Z"
   },
   {
    "duration": 646,
    "start_time": "2022-03-14T18:22:34.125Z"
   },
   {
    "duration": 1226,
    "start_time": "2022-03-14T18:22:34.776Z"
   },
   {
    "duration": 545,
    "start_time": "2022-03-14T18:22:36.005Z"
   },
   {
    "duration": 6084,
    "start_time": "2022-03-14T18:22:36.553Z"
   },
   {
    "duration": 5371,
    "start_time": "2022-03-14T18:22:42.640Z"
   },
   {
    "duration": 5378,
    "start_time": "2022-03-14T18:22:48.014Z"
   },
   {
    "duration": 10,
    "start_time": "2022-03-14T18:25:11.943Z"
   },
   {
    "duration": 9,
    "start_time": "2022-03-14T18:25:32.875Z"
   },
   {
    "duration": 10,
    "start_time": "2022-03-14T18:26:13.227Z"
   },
   {
    "duration": 9,
    "start_time": "2022-03-14T18:26:31.558Z"
   },
   {
    "duration": 1430,
    "start_time": "2022-03-14T18:27:09.144Z"
   },
   {
    "duration": 182,
    "start_time": "2022-03-14T18:27:10.577Z"
   },
   {
    "duration": 389,
    "start_time": "2022-03-14T18:27:10.763Z"
   },
   {
    "duration": 509,
    "start_time": "2022-03-14T18:27:11.155Z"
   },
   {
    "duration": 514,
    "start_time": "2022-03-14T18:27:11.667Z"
   },
   {
    "duration": 1951,
    "start_time": "2022-03-14T18:27:12.183Z"
   },
   {
    "duration": 1480,
    "start_time": "2022-03-14T18:27:14.136Z"
   },
   {
    "duration": 1454,
    "start_time": "2022-03-14T18:27:15.622Z"
   },
   {
    "duration": 9,
    "start_time": "2022-03-14T18:27:17.079Z"
   },
   {
    "duration": 796,
    "start_time": "2022-03-14T18:27:17.090Z"
   },
   {
    "duration": 423,
    "start_time": "2022-03-14T18:27:17.889Z"
   },
   {
    "duration": 481,
    "start_time": "2022-03-14T18:27:18.315Z"
   },
   {
    "duration": 1061,
    "start_time": "2022-03-14T18:27:18.799Z"
   },
   {
    "duration": 397,
    "start_time": "2022-03-14T18:27:19.862Z"
   },
   {
    "duration": 495,
    "start_time": "2022-03-14T18:27:20.262Z"
   },
   {
    "duration": 793,
    "start_time": "2022-03-14T18:27:20.760Z"
   },
   {
    "duration": 439,
    "start_time": "2022-03-14T18:27:21.557Z"
   },
   {
    "duration": 1112,
    "start_time": "2022-03-14T18:27:21.998Z"
   },
   {
    "duration": 342,
    "start_time": "2022-03-14T18:27:23.113Z"
   },
   {
    "duration": 529,
    "start_time": "2022-03-14T18:27:23.457Z"
   },
   {
    "duration": 775,
    "start_time": "2022-03-14T18:27:23.988Z"
   },
   {
    "duration": 1349,
    "start_time": "2022-03-14T18:27:24.766Z"
   },
   {
    "duration": 748,
    "start_time": "2022-03-14T18:27:26.120Z"
   },
   {
    "duration": 139,
    "start_time": "2022-03-14T18:27:26.872Z"
   },
   {
    "duration": 6220,
    "start_time": "2022-03-14T18:27:27.013Z"
   },
   {
    "duration": 5338,
    "start_time": "2022-03-14T18:27:33.236Z"
   },
   {
    "duration": 5613,
    "start_time": "2022-03-14T18:27:38.577Z"
   },
   {
    "duration": 1059,
    "start_time": "2022-03-15T05:53:50.009Z"
   },
   {
    "duration": 138,
    "start_time": "2022-03-15T05:53:51.070Z"
   },
   {
    "duration": 120,
    "start_time": "2022-03-15T05:53:51.210Z"
   },
   {
    "duration": 117,
    "start_time": "2022-03-15T05:53:51.331Z"
   },
   {
    "duration": 3,
    "start_time": "2022-03-15T05:53:51.450Z"
   },
   {
    "duration": 677,
    "start_time": "2022-03-15T05:53:51.454Z"
   },
   {
    "duration": 703,
    "start_time": "2022-03-15T05:53:52.132Z"
   },
   {
    "duration": 769,
    "start_time": "2022-03-15T05:53:52.837Z"
   },
   {
    "duration": 5,
    "start_time": "2022-03-15T05:53:53.609Z"
   },
   {
    "duration": 9,
    "start_time": "2022-03-15T05:53:53.616Z"
   },
   {
    "duration": 5,
    "start_time": "2022-03-15T05:53:53.626Z"
   },
   {
    "duration": 9,
    "start_time": "2022-03-15T05:53:53.632Z"
   },
   {
    "duration": 5,
    "start_time": "2022-03-15T05:53:53.643Z"
   },
   {
    "duration": 61,
    "start_time": "2022-03-15T05:53:53.649Z"
   },
   {
    "duration": 198,
    "start_time": "2022-03-15T05:53:53.803Z"
   },
   {
    "duration": 98,
    "start_time": "2022-03-15T05:53:54.003Z"
   },
   {
    "duration": 3,
    "start_time": "2022-03-15T05:53:54.104Z"
   },
   {
    "duration": 94,
    "start_time": "2022-03-15T05:53:54.110Z"
   },
   {
    "duration": 6,
    "start_time": "2022-03-15T05:53:54.206Z"
   },
   {
    "duration": 8,
    "start_time": "2022-03-15T05:53:54.213Z"
   },
   {
    "duration": 6,
    "start_time": "2022-03-15T05:53:54.223Z"
   },
   {
    "duration": 4,
    "start_time": "2022-03-15T05:53:54.230Z"
   },
   {
    "duration": 6,
    "start_time": "2022-03-15T05:53:54.235Z"
   },
   {
    "duration": 8,
    "start_time": "2022-03-15T05:53:54.243Z"
   },
   {
    "duration": 2880,
    "start_time": "2022-03-15T05:53:54.252Z"
   },
   {
    "duration": 2873,
    "start_time": "2022-03-15T05:53:57.134Z"
   },
   {
    "duration": 2887,
    "start_time": "2022-03-15T05:54:00.011Z"
   },
   {
    "duration": 3,
    "start_time": "2022-03-15T05:54:38.500Z"
   },
   {
    "duration": 3,
    "start_time": "2022-03-15T05:59:33.622Z"
   },
   {
    "duration": 140,
    "start_time": "2022-03-15T05:59:33.626Z"
   },
   {
    "duration": 119,
    "start_time": "2022-03-15T05:59:33.767Z"
   },
   {
    "duration": 118,
    "start_time": "2022-03-15T05:59:33.887Z"
   },
   {
    "duration": 3,
    "start_time": "2022-03-15T05:59:34.006Z"
   },
   {
    "duration": 677,
    "start_time": "2022-03-15T05:59:34.010Z"
   },
   {
    "duration": 698,
    "start_time": "2022-03-15T05:59:34.689Z"
   },
   {
    "duration": 800,
    "start_time": "2022-03-15T05:59:35.389Z"
   },
   {
    "duration": 14,
    "start_time": "2022-03-15T05:59:36.190Z"
   },
   {
    "duration": 10,
    "start_time": "2022-03-15T05:59:36.206Z"
   },
   {
    "duration": 6,
    "start_time": "2022-03-15T05:59:36.217Z"
   },
   {
    "duration": 8,
    "start_time": "2022-03-15T05:59:36.224Z"
   },
   {
    "duration": 8,
    "start_time": "2022-03-15T05:59:36.233Z"
   },
   {
    "duration": 66,
    "start_time": "2022-03-15T05:59:36.244Z"
   },
   {
    "duration": 101,
    "start_time": "2022-03-15T05:59:36.403Z"
   },
   {
    "duration": 203,
    "start_time": "2022-03-15T05:59:36.506Z"
   },
   {
    "duration": 3,
    "start_time": "2022-03-15T05:59:36.802Z"
   },
   {
    "duration": 6,
    "start_time": "2022-03-15T05:59:36.807Z"
   },
   {
    "duration": 8,
    "start_time": "2022-03-15T05:59:36.814Z"
   },
   {
    "duration": 6,
    "start_time": "2022-03-15T05:59:36.824Z"
   },
   {
    "duration": 6,
    "start_time": "2022-03-15T05:59:36.832Z"
   },
   {
    "duration": 3,
    "start_time": "2022-03-15T05:59:36.840Z"
   },
   {
    "duration": 8,
    "start_time": "2022-03-15T05:59:36.844Z"
   },
   {
    "duration": 9,
    "start_time": "2022-03-15T05:59:36.853Z"
   },
   {
    "duration": 1048,
    "start_time": "2022-03-15T05:59:44.514Z"
   },
   {
    "duration": 129,
    "start_time": "2022-03-15T05:59:45.563Z"
   },
   {
    "duration": 122,
    "start_time": "2022-03-15T05:59:45.694Z"
   },
   {
    "duration": 121,
    "start_time": "2022-03-15T05:59:45.818Z"
   },
   {
    "duration": 3,
    "start_time": "2022-03-15T05:59:45.941Z"
   },
   {
    "duration": 690,
    "start_time": "2022-03-15T05:59:45.945Z"
   },
   {
    "duration": 699,
    "start_time": "2022-03-15T05:59:46.636Z"
   },
   {
    "duration": 857,
    "start_time": "2022-03-15T05:59:47.337Z"
   },
   {
    "duration": 9,
    "start_time": "2022-03-15T05:59:48.197Z"
   },
   {
    "duration": 9,
    "start_time": "2022-03-15T05:59:48.209Z"
   },
   {
    "duration": 7,
    "start_time": "2022-03-15T05:59:48.220Z"
   },
   {
    "duration": 12,
    "start_time": "2022-03-15T05:59:48.228Z"
   },
   {
    "duration": 6,
    "start_time": "2022-03-15T05:59:48.242Z"
   },
   {
    "duration": 73,
    "start_time": "2022-03-15T05:59:48.250Z"
   },
   {
    "duration": 200,
    "start_time": "2022-03-15T05:59:48.402Z"
   },
   {
    "duration": 198,
    "start_time": "2022-03-15T05:59:48.604Z"
   },
   {
    "duration": 3,
    "start_time": "2022-03-15T05:59:48.804Z"
   },
   {
    "duration": 94,
    "start_time": "2022-03-15T05:59:48.809Z"
   },
   {
    "duration": 10,
    "start_time": "2022-03-15T05:59:48.905Z"
   },
   {
    "duration": 6,
    "start_time": "2022-03-15T05:59:48.916Z"
   },
   {
    "duration": 4,
    "start_time": "2022-03-15T05:59:48.924Z"
   },
   {
    "duration": 2,
    "start_time": "2022-03-15T05:59:48.930Z"
   },
   {
    "duration": 4,
    "start_time": "2022-03-15T05:59:48.934Z"
   },
   {
    "duration": 10,
    "start_time": "2022-03-15T05:59:48.939Z"
   },
   {
    "duration": 2952,
    "start_time": "2022-03-15T05:59:48.950Z"
   },
   {
    "duration": 2882,
    "start_time": "2022-03-15T05:59:51.903Z"
   },
   {
    "duration": 2902,
    "start_time": "2022-03-15T05:59:54.788Z"
   },
   {
    "duration": 4,
    "start_time": "2022-03-15T06:01:06.984Z"
   },
   {
    "duration": 2880,
    "start_time": "2022-03-15T06:01:10.674Z"
   },
   {
    "duration": 2975,
    "start_time": "2022-03-15T06:01:14.955Z"
   },
   {
    "duration": 2929,
    "start_time": "2022-03-15T06:01:19.264Z"
   },
   {
    "duration": 1073,
    "start_time": "2022-03-15T06:01:45.494Z"
   },
   {
    "duration": 134,
    "start_time": "2022-03-15T06:01:46.569Z"
   },
   {
    "duration": 124,
    "start_time": "2022-03-15T06:01:46.705Z"
   },
   {
    "duration": 129,
    "start_time": "2022-03-15T06:01:46.831Z"
   },
   {
    "duration": 3,
    "start_time": "2022-03-15T06:01:46.961Z"
   },
   {
    "duration": 692,
    "start_time": "2022-03-15T06:01:46.966Z"
   },
   {
    "duration": 926,
    "start_time": "2022-03-15T06:01:47.659Z"
   },
   {
    "duration": 774,
    "start_time": "2022-03-15T06:01:48.587Z"
   },
   {
    "duration": 6,
    "start_time": "2022-03-15T06:01:49.364Z"
   },
   {
    "duration": 8,
    "start_time": "2022-03-15T06:01:49.372Z"
   },
   {
    "duration": 8,
    "start_time": "2022-03-15T06:01:49.402Z"
   },
   {
    "duration": 11,
    "start_time": "2022-03-15T06:01:49.412Z"
   },
   {
    "duration": 5,
    "start_time": "2022-03-15T06:01:49.425Z"
   },
   {
    "duration": 78,
    "start_time": "2022-03-15T06:01:49.431Z"
   },
   {
    "duration": 191,
    "start_time": "2022-03-15T06:01:49.511Z"
   },
   {
    "duration": 198,
    "start_time": "2022-03-15T06:01:49.704Z"
   },
   {
    "duration": 3,
    "start_time": "2022-03-15T06:01:49.904Z"
   },
   {
    "duration": 7,
    "start_time": "2022-03-15T06:01:49.909Z"
   },
   {
    "duration": 85,
    "start_time": "2022-03-15T06:01:49.918Z"
   },
   {
    "duration": 11,
    "start_time": "2022-03-15T06:01:50.005Z"
   },
   {
    "duration": 5,
    "start_time": "2022-03-15T06:01:50.018Z"
   },
   {
    "duration": 2,
    "start_time": "2022-03-15T06:01:50.025Z"
   },
   {
    "duration": 4,
    "start_time": "2022-03-15T06:01:50.029Z"
   },
   {
    "duration": 10,
    "start_time": "2022-03-15T06:01:50.035Z"
   },
   {
    "duration": 3049,
    "start_time": "2022-03-15T06:01:50.046Z"
   },
   {
    "duration": 2866,
    "start_time": "2022-03-15T06:01:53.100Z"
   },
   {
    "duration": 2896,
    "start_time": "2022-03-15T06:01:55.968Z"
   }
  ],
  "kernelspec": {
   "display_name": "Python 3 (ipykernel)",
   "language": "python",
   "name": "python3"
  },
  "language_info": {
   "codemirror_mode": {
    "name": "ipython",
    "version": 3
   },
   "file_extension": ".py",
   "mimetype": "text/x-python",
   "name": "python",
   "nbconvert_exporter": "python",
   "pygments_lexer": "ipython3",
   "version": "3.9.7"
  },
  "toc": {
   "base_numbering": 1,
   "nav_menu": {},
   "number_sections": true,
   "sideBar": true,
   "skip_h1_title": true,
   "title_cell": "Table of Contents",
   "title_sidebar": "Contents",
   "toc_cell": false,
   "toc_position": {},
   "toc_section_display": true,
   "toc_window_display": true
  }
 },
 "nbformat": 4,
 "nbformat_minor": 2
}
