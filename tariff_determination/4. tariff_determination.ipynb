{
 "cells": [
  {
   "cell_type": "markdown",
   "metadata": {},
   "source": [
    "# Определение перспективного тарифа для телеком-компании"
   ]
  },
  {
   "cell_type": "markdown",
   "metadata": {},
   "source": [
    "# Описание проекта\n",
    "\n",
    "**«Мегалайн»** — федеральный оператор сотовой связи. Клиентам предлагают два тарифных плана: «Смарт» и «Ультра». Чтобы скорректировать рекламный бюджет, коммерческий департамент хочет понять, какой тариф приносит больше денег.\n",
    "<br>Необходимо сделать предварительный анализ тарифов на небольшой выборке клиентов. \n",
    "<br>В распоряжении данные 500 пользователей «Мегалайна»: кто они, откуда, каким тарифом пользуются, сколько звонков и сообщений каждый отправил за 2018 год. \n",
    "<br>Нужно проанализировать поведение клиентов и сделать вывод — какой тариф лучше."
   ]
  },
  {
   "cell_type": "markdown",
   "metadata": {},
   "source": [
    "# Описание тарифов\n",
    "<b>Тариф «Смарт»</b>\n",
    "<br>Ежемесячная плата: 550 рублей\n",
    "<br>Включено 500 минут разговора, 50 сообщений и 15 Гб интернет-трафика\n",
    "<br>Стоимость услуг сверх тарифного пакета: 1. минута разговора: 3 рубля («Мегалайн» всегда округляет вверх значения минут и мегабайтов. <br>Если пользователь проговорил всего 1 секунду, в тарифе засчитывается целая минута); 2. сообщение: 3 рубля; 3. 1 Гб интернет-трафика: 200 рублей.\n",
    "<br><b>Тариф «Ультра»</b>\n",
    "<br>Ежемесячная плата: 1950 рублей\n",
    "<br>Включено 3000 минут разговора, 1000 сообщений и 30 Гб интернет-трафика\n",
    "<br>Стоимость услуг сверх тарифного пакета: 1. минута разговора: 1 рубль; 2. сообщение: 1 рубль; 3. 1 Гб интернет-трафика: 150 рублей."
   ]
  },
  {
   "cell_type": "markdown",
   "metadata": {},
   "source": [
    "# Описание данных\n",
    "<b>Таблица `users` (информация о пользователях):</b>\n",
    "- user_id — уникальный идентификатор пользователя\n",
    "- first_name — имя пользователя\n",
    "- last_name — фамилия пользователя\n",
    "- age — возраст пользователя (годы)\n",
    "- reg_date — дата подключения тарифа (день, месяц, год)\n",
    "- churn_date — дата прекращения пользования тарифом (если значение пропущено, то тариф ещё действовал на момент выгрузки данных)\n",
    "- city — город проживания пользователя\n",
    "- tarif — название тарифного плана\n",
    "\n",
    "<br><b>Таблица `calls` (информация о звонках):</b>\n",
    "- id — уникальный номер звонка\n",
    "- call_date — дата звонка\n",
    "- duration — длительность звонка в минутах\n",
    "- user_id — идентификатор пользователя, сделавшего звонок\n",
    "\n",
    "<br><b>Таблица `messages` (информация о сообщениях):</b>\n",
    "- id — уникальный номер сообщения\n",
    "- message_date — дата сообщения\n",
    "- user_id — идентификатор пользователя, отправившего сообщение\n",
    "\n",
    "<br><b>Таблица `internet` (информация об интернет-сессиях):</b>\n",
    "- id — уникальный номер сессии\n",
    "- mb_used — объём потраченного за сессию интернет-трафика (в мегабайтах)\n",
    "- session_date — дата интернет-сессии\n",
    "- user_id — идентификатор пользователя\n",
    "\n",
    "<br><b>Таблица `tariffs` (информация о тарифах):</b>\n",
    "- tariff_name — название тарифа\n",
    "- rub_monthly_fee — ежемесячная абонентская плата в рублях\n",
    "- minutes_included — количество минут разговора в месяц, включённых в абонентскую плату\n",
    "- messages_included — количество сообщений в месяц, включённых в абонентскую плату\n",
    "- mb_per_month_included — объём интернет-трафика, включённого в абонентскую плату (в мегабайтах)\n",
    "- rub_per_minute — стоимость минуты разговора сверх тарифного пакета (например, если в тарифе 100 минут разговора в месяц, то со 101 минуты будет взиматься плата)\n",
    "- rub_per_message — стоимость отправки сообщения сверх тарифного пакета\n",
    "- rub_per_gb — стоимость дополнительного гигабайта интернет-трафика сверх тарифного пакета (1 гигабайт = 1024 мегабайта)"
   ]
  },
  {
   "cell_type": "markdown",
   "metadata": {},
   "source": [
    "**Примечание:**\n",
    "<br> «Мегалайн» всегда округляет секунды до минут, а мегабайты — до гигабайт. Каждый звонок округляется отдельно: даже если он длился всего 1 секунду, будет засчитан как 1 минута.\n",
    "<br> Для веб-трафика отдельные сессии не считаются. Вместо этого общая сумма за месяц округляется в бо́льшую сторону. Если абонент использует 1025 мегабайт в этом месяце, с него возьмут плату за 2 гигабайта"
   ]
  },
  {
   "cell_type": "markdown",
   "metadata": {},
   "source": [
    "## Изучение данных из файлов"
   ]
  },
  {
   "cell_type": "markdown",
   "metadata": {},
   "source": [
    "### Открытие файлов"
   ]
  },
  {
   "cell_type": "code",
   "execution_count": 1,
   "metadata": {},
   "outputs": [],
   "source": [
    "import pandas as pd\n",
    "import matplotlib.pyplot as plt\n",
    "import numpy as np\n",
    "from datetime import datetime\n",
    "from scipy import stats as st\n",
    "import math\n",
    "import seaborn as sns"
   ]
  },
  {
   "cell_type": "code",
   "execution_count": 2,
   "metadata": {},
   "outputs": [],
   "source": [
    "#загрузим данные\n",
    "calls = pd.read_csv('/datasets/calls.csv')\n",
    "internet = pd.read_csv('/datasets/internet.csv',index_col=0)\n",
    "messages = pd.read_csv('/datasets/messages.csv')\n",
    "tariffs = pd.read_csv('/datasets/tariffs.csv')\n",
    "users = pd.read_csv('/datasets/users.csv')"
   ]
  },
  {
   "cell_type": "markdown",
   "metadata": {},
   "source": [
    "### Изучение данных"
   ]
  },
  {
   "cell_type": "markdown",
   "metadata": {},
   "source": [
    "#### Таблица `calls`"
   ]
  },
  {
   "cell_type": "markdown",
   "metadata": {},
   "source": [
    "**Изучим общую информацию**"
   ]
  },
  {
   "cell_type": "code",
   "execution_count": 3,
   "metadata": {},
   "outputs": [
    {
     "data": {
      "text/html": [
       "<div>\n",
       "<style scoped>\n",
       "    .dataframe tbody tr th:only-of-type {\n",
       "        vertical-align: middle;\n",
       "    }\n",
       "\n",
       "    .dataframe tbody tr th {\n",
       "        vertical-align: top;\n",
       "    }\n",
       "\n",
       "    .dataframe thead th {\n",
       "        text-align: right;\n",
       "    }\n",
       "</style>\n",
       "<table border=\"1\" class=\"dataframe\">\n",
       "  <thead>\n",
       "    <tr style=\"text-align: right;\">\n",
       "      <th></th>\n",
       "      <th>id</th>\n",
       "      <th>call_date</th>\n",
       "      <th>duration</th>\n",
       "      <th>user_id</th>\n",
       "    </tr>\n",
       "  </thead>\n",
       "  <tbody>\n",
       "    <tr>\n",
       "      <td>0</td>\n",
       "      <td>1000_0</td>\n",
       "      <td>2018-07-25</td>\n",
       "      <td>0.00</td>\n",
       "      <td>1000</td>\n",
       "    </tr>\n",
       "    <tr>\n",
       "      <td>1</td>\n",
       "      <td>1000_1</td>\n",
       "      <td>2018-08-17</td>\n",
       "      <td>0.00</td>\n",
       "      <td>1000</td>\n",
       "    </tr>\n",
       "    <tr>\n",
       "      <td>2</td>\n",
       "      <td>1000_2</td>\n",
       "      <td>2018-06-11</td>\n",
       "      <td>2.85</td>\n",
       "      <td>1000</td>\n",
       "    </tr>\n",
       "    <tr>\n",
       "      <td>3</td>\n",
       "      <td>1000_3</td>\n",
       "      <td>2018-09-21</td>\n",
       "      <td>13.80</td>\n",
       "      <td>1000</td>\n",
       "    </tr>\n",
       "    <tr>\n",
       "      <td>4</td>\n",
       "      <td>1000_4</td>\n",
       "      <td>2018-12-15</td>\n",
       "      <td>5.18</td>\n",
       "      <td>1000</td>\n",
       "    </tr>\n",
       "  </tbody>\n",
       "</table>\n",
       "</div>"
      ],
      "text/plain": [
       "       id   call_date  duration  user_id\n",
       "0  1000_0  2018-07-25      0.00     1000\n",
       "1  1000_1  2018-08-17      0.00     1000\n",
       "2  1000_2  2018-06-11      2.85     1000\n",
       "3  1000_3  2018-09-21     13.80     1000\n",
       "4  1000_4  2018-12-15      5.18     1000"
      ]
     },
     "execution_count": 3,
     "metadata": {},
     "output_type": "execute_result"
    }
   ],
   "source": [
    "calls.head()"
   ]
  },
  {
   "cell_type": "code",
   "execution_count": 4,
   "metadata": {
    "scrolled": true
   },
   "outputs": [
    {
     "name": "stdout",
     "output_type": "stream",
     "text": [
      "<class 'pandas.core.frame.DataFrame'>\n",
      "RangeIndex: 202607 entries, 0 to 202606\n",
      "Data columns (total 4 columns):\n",
      "id           202607 non-null object\n",
      "call_date    202607 non-null object\n",
      "duration     202607 non-null float64\n",
      "user_id      202607 non-null int64\n",
      "dtypes: float64(1), int64(1), object(2)\n",
      "memory usage: 6.2+ MB\n"
     ]
    }
   ],
   "source": [
    "calls.info()"
   ]
  },
  {
   "cell_type": "code",
   "execution_count": 5,
   "metadata": {},
   "outputs": [
    {
     "data": {
      "text/html": [
       "<div>\n",
       "<style scoped>\n",
       "    .dataframe tbody tr th:only-of-type {\n",
       "        vertical-align: middle;\n",
       "    }\n",
       "\n",
       "    .dataframe tbody tr th {\n",
       "        vertical-align: top;\n",
       "    }\n",
       "\n",
       "    .dataframe thead th {\n",
       "        text-align: right;\n",
       "    }\n",
       "</style>\n",
       "<table border=\"1\" class=\"dataframe\">\n",
       "  <thead>\n",
       "    <tr style=\"text-align: right;\">\n",
       "      <th></th>\n",
       "      <th>duration</th>\n",
       "      <th>user_id</th>\n",
       "    </tr>\n",
       "  </thead>\n",
       "  <tbody>\n",
       "    <tr>\n",
       "      <td>count</td>\n",
       "      <td>202607.000000</td>\n",
       "      <td>202607.000000</td>\n",
       "    </tr>\n",
       "    <tr>\n",
       "      <td>mean</td>\n",
       "      <td>6.755887</td>\n",
       "      <td>1253.940619</td>\n",
       "    </tr>\n",
       "    <tr>\n",
       "      <td>std</td>\n",
       "      <td>5.843365</td>\n",
       "      <td>144.722751</td>\n",
       "    </tr>\n",
       "    <tr>\n",
       "      <td>min</td>\n",
       "      <td>0.000000</td>\n",
       "      <td>1000.000000</td>\n",
       "    </tr>\n",
       "    <tr>\n",
       "      <td>25%</td>\n",
       "      <td>1.300000</td>\n",
       "      <td>1126.000000</td>\n",
       "    </tr>\n",
       "    <tr>\n",
       "      <td>50%</td>\n",
       "      <td>6.000000</td>\n",
       "      <td>1260.000000</td>\n",
       "    </tr>\n",
       "    <tr>\n",
       "      <td>75%</td>\n",
       "      <td>10.700000</td>\n",
       "      <td>1379.000000</td>\n",
       "    </tr>\n",
       "    <tr>\n",
       "      <td>max</td>\n",
       "      <td>38.000000</td>\n",
       "      <td>1499.000000</td>\n",
       "    </tr>\n",
       "  </tbody>\n",
       "</table>\n",
       "</div>"
      ],
      "text/plain": [
       "            duration        user_id\n",
       "count  202607.000000  202607.000000\n",
       "mean        6.755887    1253.940619\n",
       "std         5.843365     144.722751\n",
       "min         0.000000    1000.000000\n",
       "25%         1.300000    1126.000000\n",
       "50%         6.000000    1260.000000\n",
       "75%        10.700000    1379.000000\n",
       "max        38.000000    1499.000000"
      ]
     },
     "execution_count": 5,
     "metadata": {},
     "output_type": "execute_result"
    }
   ],
   "source": [
    "calls.describe()"
   ]
  },
  {
   "cell_type": "markdown",
   "metadata": {},
   "source": [
    "В таблице со звонками можно сделать следующее:\n",
    "- привести столбцы к целым числам (тип `int`): `id` и `duration`(оператор округляет звонки до минуты)\n",
    "- привести столбец `call_date` к типу `datetime`"
   ]
  },
  {
   "cell_type": "markdown",
   "metadata": {},
   "source": [
    "#### Таблица `internet`"
   ]
  },
  {
   "cell_type": "code",
   "execution_count": 6,
   "metadata": {},
   "outputs": [
    {
     "data": {
      "text/html": [
       "<div>\n",
       "<style scoped>\n",
       "    .dataframe tbody tr th:only-of-type {\n",
       "        vertical-align: middle;\n",
       "    }\n",
       "\n",
       "    .dataframe tbody tr th {\n",
       "        vertical-align: top;\n",
       "    }\n",
       "\n",
       "    .dataframe thead th {\n",
       "        text-align: right;\n",
       "    }\n",
       "</style>\n",
       "<table border=\"1\" class=\"dataframe\">\n",
       "  <thead>\n",
       "    <tr style=\"text-align: right;\">\n",
       "      <th></th>\n",
       "      <th>id</th>\n",
       "      <th>mb_used</th>\n",
       "      <th>session_date</th>\n",
       "      <th>user_id</th>\n",
       "    </tr>\n",
       "  </thead>\n",
       "  <tbody>\n",
       "    <tr>\n",
       "      <td>0</td>\n",
       "      <td>1000_0</td>\n",
       "      <td>112.95</td>\n",
       "      <td>2018-11-25</td>\n",
       "      <td>1000</td>\n",
       "    </tr>\n",
       "    <tr>\n",
       "      <td>1</td>\n",
       "      <td>1000_1</td>\n",
       "      <td>1052.81</td>\n",
       "      <td>2018-09-07</td>\n",
       "      <td>1000</td>\n",
       "    </tr>\n",
       "    <tr>\n",
       "      <td>2</td>\n",
       "      <td>1000_2</td>\n",
       "      <td>1197.26</td>\n",
       "      <td>2018-06-25</td>\n",
       "      <td>1000</td>\n",
       "    </tr>\n",
       "    <tr>\n",
       "      <td>3</td>\n",
       "      <td>1000_3</td>\n",
       "      <td>550.27</td>\n",
       "      <td>2018-08-22</td>\n",
       "      <td>1000</td>\n",
       "    </tr>\n",
       "    <tr>\n",
       "      <td>4</td>\n",
       "      <td>1000_4</td>\n",
       "      <td>302.56</td>\n",
       "      <td>2018-09-24</td>\n",
       "      <td>1000</td>\n",
       "    </tr>\n",
       "  </tbody>\n",
       "</table>\n",
       "</div>"
      ],
      "text/plain": [
       "       id  mb_used session_date  user_id\n",
       "0  1000_0   112.95   2018-11-25     1000\n",
       "1  1000_1  1052.81   2018-09-07     1000\n",
       "2  1000_2  1197.26   2018-06-25     1000\n",
       "3  1000_3   550.27   2018-08-22     1000\n",
       "4  1000_4   302.56   2018-09-24     1000"
      ]
     },
     "execution_count": 6,
     "metadata": {},
     "output_type": "execute_result"
    }
   ],
   "source": [
    "internet.head()"
   ]
  },
  {
   "cell_type": "code",
   "execution_count": 7,
   "metadata": {},
   "outputs": [
    {
     "name": "stdout",
     "output_type": "stream",
     "text": [
      "<class 'pandas.core.frame.DataFrame'>\n",
      "Int64Index: 149396 entries, 0 to 149395\n",
      "Data columns (total 4 columns):\n",
      "id              149396 non-null object\n",
      "mb_used         149396 non-null float64\n",
      "session_date    149396 non-null object\n",
      "user_id         149396 non-null int64\n",
      "dtypes: float64(1), int64(1), object(2)\n",
      "memory usage: 5.7+ MB\n"
     ]
    }
   ],
   "source": [
    "internet.info()"
   ]
  },
  {
   "cell_type": "code",
   "execution_count": 8,
   "metadata": {},
   "outputs": [
    {
     "data": {
      "text/html": [
       "<div>\n",
       "<style scoped>\n",
       "    .dataframe tbody tr th:only-of-type {\n",
       "        vertical-align: middle;\n",
       "    }\n",
       "\n",
       "    .dataframe tbody tr th {\n",
       "        vertical-align: top;\n",
       "    }\n",
       "\n",
       "    .dataframe thead th {\n",
       "        text-align: right;\n",
       "    }\n",
       "</style>\n",
       "<table border=\"1\" class=\"dataframe\">\n",
       "  <thead>\n",
       "    <tr style=\"text-align: right;\">\n",
       "      <th></th>\n",
       "      <th>mb_used</th>\n",
       "      <th>user_id</th>\n",
       "    </tr>\n",
       "  </thead>\n",
       "  <tbody>\n",
       "    <tr>\n",
       "      <td>count</td>\n",
       "      <td>149396.000000</td>\n",
       "      <td>149396.000000</td>\n",
       "    </tr>\n",
       "    <tr>\n",
       "      <td>mean</td>\n",
       "      <td>370.192426</td>\n",
       "      <td>1252.099842</td>\n",
       "    </tr>\n",
       "    <tr>\n",
       "      <td>std</td>\n",
       "      <td>278.300951</td>\n",
       "      <td>144.050823</td>\n",
       "    </tr>\n",
       "    <tr>\n",
       "      <td>min</td>\n",
       "      <td>0.000000</td>\n",
       "      <td>1000.000000</td>\n",
       "    </tr>\n",
       "    <tr>\n",
       "      <td>25%</td>\n",
       "      <td>138.187500</td>\n",
       "      <td>1130.000000</td>\n",
       "    </tr>\n",
       "    <tr>\n",
       "      <td>50%</td>\n",
       "      <td>348.015000</td>\n",
       "      <td>1251.000000</td>\n",
       "    </tr>\n",
       "    <tr>\n",
       "      <td>75%</td>\n",
       "      <td>559.552500</td>\n",
       "      <td>1380.000000</td>\n",
       "    </tr>\n",
       "    <tr>\n",
       "      <td>max</td>\n",
       "      <td>1724.830000</td>\n",
       "      <td>1499.000000</td>\n",
       "    </tr>\n",
       "  </tbody>\n",
       "</table>\n",
       "</div>"
      ],
      "text/plain": [
       "             mb_used        user_id\n",
       "count  149396.000000  149396.000000\n",
       "mean      370.192426    1252.099842\n",
       "std       278.300951     144.050823\n",
       "min         0.000000    1000.000000\n",
       "25%       138.187500    1130.000000\n",
       "50%       348.015000    1251.000000\n",
       "75%       559.552500    1380.000000\n",
       "max      1724.830000    1499.000000"
      ]
     },
     "execution_count": 8,
     "metadata": {},
     "output_type": "execute_result"
    }
   ],
   "source": [
    "internet.describe()"
   ]
  },
  {
   "cell_type": "markdown",
   "metadata": {},
   "source": [
    "В таблице с интернетом можно сделать следующее:\n",
    "- привести столбцы к целым числам (тип `int`): `id` и `mb_used`\n",
    "- привести столбец `session_date` к типу `datetime`\n",
    "- округлить данные столбца `mb_used` до гигабайтов (округление оператора)"
   ]
  },
  {
   "cell_type": "markdown",
   "metadata": {},
   "source": [
    "#### Таблица `messages`"
   ]
  },
  {
   "cell_type": "code",
   "execution_count": 9,
   "metadata": {},
   "outputs": [
    {
     "data": {
      "text/html": [
       "<div>\n",
       "<style scoped>\n",
       "    .dataframe tbody tr th:only-of-type {\n",
       "        vertical-align: middle;\n",
       "    }\n",
       "\n",
       "    .dataframe tbody tr th {\n",
       "        vertical-align: top;\n",
       "    }\n",
       "\n",
       "    .dataframe thead th {\n",
       "        text-align: right;\n",
       "    }\n",
       "</style>\n",
       "<table border=\"1\" class=\"dataframe\">\n",
       "  <thead>\n",
       "    <tr style=\"text-align: right;\">\n",
       "      <th></th>\n",
       "      <th>id</th>\n",
       "      <th>message_date</th>\n",
       "      <th>user_id</th>\n",
       "    </tr>\n",
       "  </thead>\n",
       "  <tbody>\n",
       "    <tr>\n",
       "      <td>0</td>\n",
       "      <td>1000_0</td>\n",
       "      <td>2018-06-27</td>\n",
       "      <td>1000</td>\n",
       "    </tr>\n",
       "    <tr>\n",
       "      <td>1</td>\n",
       "      <td>1000_1</td>\n",
       "      <td>2018-10-08</td>\n",
       "      <td>1000</td>\n",
       "    </tr>\n",
       "    <tr>\n",
       "      <td>2</td>\n",
       "      <td>1000_2</td>\n",
       "      <td>2018-08-04</td>\n",
       "      <td>1000</td>\n",
       "    </tr>\n",
       "    <tr>\n",
       "      <td>3</td>\n",
       "      <td>1000_3</td>\n",
       "      <td>2018-06-16</td>\n",
       "      <td>1000</td>\n",
       "    </tr>\n",
       "    <tr>\n",
       "      <td>4</td>\n",
       "      <td>1000_4</td>\n",
       "      <td>2018-12-05</td>\n",
       "      <td>1000</td>\n",
       "    </tr>\n",
       "  </tbody>\n",
       "</table>\n",
       "</div>"
      ],
      "text/plain": [
       "       id message_date  user_id\n",
       "0  1000_0   2018-06-27     1000\n",
       "1  1000_1   2018-10-08     1000\n",
       "2  1000_2   2018-08-04     1000\n",
       "3  1000_3   2018-06-16     1000\n",
       "4  1000_4   2018-12-05     1000"
      ]
     },
     "execution_count": 9,
     "metadata": {},
     "output_type": "execute_result"
    }
   ],
   "source": [
    "messages.head()"
   ]
  },
  {
   "cell_type": "code",
   "execution_count": 10,
   "metadata": {},
   "outputs": [
    {
     "name": "stdout",
     "output_type": "stream",
     "text": [
      "<class 'pandas.core.frame.DataFrame'>\n",
      "RangeIndex: 123036 entries, 0 to 123035\n",
      "Data columns (total 3 columns):\n",
      "id              123036 non-null object\n",
      "message_date    123036 non-null object\n",
      "user_id         123036 non-null int64\n",
      "dtypes: int64(1), object(2)\n",
      "memory usage: 2.8+ MB\n"
     ]
    }
   ],
   "source": [
    "messages.info()"
   ]
  },
  {
   "cell_type": "code",
   "execution_count": 11,
   "metadata": {
    "scrolled": true
   },
   "outputs": [
    {
     "data": {
      "text/html": [
       "<div>\n",
       "<style scoped>\n",
       "    .dataframe tbody tr th:only-of-type {\n",
       "        vertical-align: middle;\n",
       "    }\n",
       "\n",
       "    .dataframe tbody tr th {\n",
       "        vertical-align: top;\n",
       "    }\n",
       "\n",
       "    .dataframe thead th {\n",
       "        text-align: right;\n",
       "    }\n",
       "</style>\n",
       "<table border=\"1\" class=\"dataframe\">\n",
       "  <thead>\n",
       "    <tr style=\"text-align: right;\">\n",
       "      <th></th>\n",
       "      <th>user_id</th>\n",
       "    </tr>\n",
       "  </thead>\n",
       "  <tbody>\n",
       "    <tr>\n",
       "      <td>count</td>\n",
       "      <td>123036.000000</td>\n",
       "    </tr>\n",
       "    <tr>\n",
       "      <td>mean</td>\n",
       "      <td>1256.989410</td>\n",
       "    </tr>\n",
       "    <tr>\n",
       "      <td>std</td>\n",
       "      <td>143.523967</td>\n",
       "    </tr>\n",
       "    <tr>\n",
       "      <td>min</td>\n",
       "      <td>1000.000000</td>\n",
       "    </tr>\n",
       "    <tr>\n",
       "      <td>25%</td>\n",
       "      <td>1134.000000</td>\n",
       "    </tr>\n",
       "    <tr>\n",
       "      <td>50%</td>\n",
       "      <td>1271.000000</td>\n",
       "    </tr>\n",
       "    <tr>\n",
       "      <td>75%</td>\n",
       "      <td>1381.000000</td>\n",
       "    </tr>\n",
       "    <tr>\n",
       "      <td>max</td>\n",
       "      <td>1499.000000</td>\n",
       "    </tr>\n",
       "  </tbody>\n",
       "</table>\n",
       "</div>"
      ],
      "text/plain": [
       "             user_id\n",
       "count  123036.000000\n",
       "mean     1256.989410\n",
       "std       143.523967\n",
       "min      1000.000000\n",
       "25%      1134.000000\n",
       "50%      1271.000000\n",
       "75%      1381.000000\n",
       "max      1499.000000"
      ]
     },
     "execution_count": 11,
     "metadata": {},
     "output_type": "execute_result"
    }
   ],
   "source": [
    "messages.describe()"
   ]
  },
  {
   "cell_type": "markdown",
   "metadata": {},
   "source": [
    "В таблице с сообщениями можно сделать следующее:\n",
    "- привести столбец `id` к целым числам (тип `int`)\n",
    "- привести столбец `message_date` к типу `datetime`"
   ]
  },
  {
   "cell_type": "markdown",
   "metadata": {},
   "source": [
    "#### Таблица `tariffs`"
   ]
  },
  {
   "cell_type": "code",
   "execution_count": 12,
   "metadata": {},
   "outputs": [
    {
     "data": {
      "text/html": [
       "<div>\n",
       "<style scoped>\n",
       "    .dataframe tbody tr th:only-of-type {\n",
       "        vertical-align: middle;\n",
       "    }\n",
       "\n",
       "    .dataframe tbody tr th {\n",
       "        vertical-align: top;\n",
       "    }\n",
       "\n",
       "    .dataframe thead th {\n",
       "        text-align: right;\n",
       "    }\n",
       "</style>\n",
       "<table border=\"1\" class=\"dataframe\">\n",
       "  <thead>\n",
       "    <tr style=\"text-align: right;\">\n",
       "      <th></th>\n",
       "      <th>messages_included</th>\n",
       "      <th>mb_per_month_included</th>\n",
       "      <th>minutes_included</th>\n",
       "      <th>rub_monthly_fee</th>\n",
       "      <th>rub_per_gb</th>\n",
       "      <th>rub_per_message</th>\n",
       "      <th>rub_per_minute</th>\n",
       "      <th>tariff_name</th>\n",
       "    </tr>\n",
       "  </thead>\n",
       "  <tbody>\n",
       "    <tr>\n",
       "      <td>0</td>\n",
       "      <td>50</td>\n",
       "      <td>15360</td>\n",
       "      <td>500</td>\n",
       "      <td>550</td>\n",
       "      <td>200</td>\n",
       "      <td>3</td>\n",
       "      <td>3</td>\n",
       "      <td>smart</td>\n",
       "    </tr>\n",
       "    <tr>\n",
       "      <td>1</td>\n",
       "      <td>1000</td>\n",
       "      <td>30720</td>\n",
       "      <td>3000</td>\n",
       "      <td>1950</td>\n",
       "      <td>150</td>\n",
       "      <td>1</td>\n",
       "      <td>1</td>\n",
       "      <td>ultra</td>\n",
       "    </tr>\n",
       "  </tbody>\n",
       "</table>\n",
       "</div>"
      ],
      "text/plain": [
       "   messages_included  mb_per_month_included  minutes_included  \\\n",
       "0                 50                  15360               500   \n",
       "1               1000                  30720              3000   \n",
       "\n",
       "   rub_monthly_fee  rub_per_gb  rub_per_message  rub_per_minute tariff_name  \n",
       "0              550         200                3               3       smart  \n",
       "1             1950         150                1               1       ultra  "
      ]
     },
     "execution_count": 12,
     "metadata": {},
     "output_type": "execute_result"
    }
   ],
   "source": [
    "tariffs.head()"
   ]
  },
  {
   "cell_type": "code",
   "execution_count": 13,
   "metadata": {},
   "outputs": [
    {
     "name": "stdout",
     "output_type": "stream",
     "text": [
      "<class 'pandas.core.frame.DataFrame'>\n",
      "RangeIndex: 2 entries, 0 to 1\n",
      "Data columns (total 8 columns):\n",
      "messages_included        2 non-null int64\n",
      "mb_per_month_included    2 non-null int64\n",
      "minutes_included         2 non-null int64\n",
      "rub_monthly_fee          2 non-null int64\n",
      "rub_per_gb               2 non-null int64\n",
      "rub_per_message          2 non-null int64\n",
      "rub_per_minute           2 non-null int64\n",
      "tariff_name              2 non-null object\n",
      "dtypes: int64(7), object(1)\n",
      "memory usage: 256.0+ bytes\n"
     ]
    }
   ],
   "source": [
    "tariffs.info()"
   ]
  },
  {
   "cell_type": "code",
   "execution_count": 14,
   "metadata": {},
   "outputs": [
    {
     "data": {
      "text/html": [
       "<div>\n",
       "<style scoped>\n",
       "    .dataframe tbody tr th:only-of-type {\n",
       "        vertical-align: middle;\n",
       "    }\n",
       "\n",
       "    .dataframe tbody tr th {\n",
       "        vertical-align: top;\n",
       "    }\n",
       "\n",
       "    .dataframe thead th {\n",
       "        text-align: right;\n",
       "    }\n",
       "</style>\n",
       "<table border=\"1\" class=\"dataframe\">\n",
       "  <thead>\n",
       "    <tr style=\"text-align: right;\">\n",
       "      <th></th>\n",
       "      <th>messages_included</th>\n",
       "      <th>mb_per_month_included</th>\n",
       "      <th>minutes_included</th>\n",
       "      <th>rub_monthly_fee</th>\n",
       "      <th>rub_per_gb</th>\n",
       "      <th>rub_per_message</th>\n",
       "      <th>rub_per_minute</th>\n",
       "    </tr>\n",
       "  </thead>\n",
       "  <tbody>\n",
       "    <tr>\n",
       "      <td>count</td>\n",
       "      <td>2.000000</td>\n",
       "      <td>2.000000</td>\n",
       "      <td>2.000000</td>\n",
       "      <td>2.000000</td>\n",
       "      <td>2.000000</td>\n",
       "      <td>2.000000</td>\n",
       "      <td>2.000000</td>\n",
       "    </tr>\n",
       "    <tr>\n",
       "      <td>mean</td>\n",
       "      <td>525.000000</td>\n",
       "      <td>23040.000000</td>\n",
       "      <td>1750.000000</td>\n",
       "      <td>1250.000000</td>\n",
       "      <td>175.000000</td>\n",
       "      <td>2.000000</td>\n",
       "      <td>2.000000</td>\n",
       "    </tr>\n",
       "    <tr>\n",
       "      <td>std</td>\n",
       "      <td>671.751442</td>\n",
       "      <td>10861.160159</td>\n",
       "      <td>1767.766953</td>\n",
       "      <td>989.949494</td>\n",
       "      <td>35.355339</td>\n",
       "      <td>1.414214</td>\n",
       "      <td>1.414214</td>\n",
       "    </tr>\n",
       "    <tr>\n",
       "      <td>min</td>\n",
       "      <td>50.000000</td>\n",
       "      <td>15360.000000</td>\n",
       "      <td>500.000000</td>\n",
       "      <td>550.000000</td>\n",
       "      <td>150.000000</td>\n",
       "      <td>1.000000</td>\n",
       "      <td>1.000000</td>\n",
       "    </tr>\n",
       "    <tr>\n",
       "      <td>25%</td>\n",
       "      <td>287.500000</td>\n",
       "      <td>19200.000000</td>\n",
       "      <td>1125.000000</td>\n",
       "      <td>900.000000</td>\n",
       "      <td>162.500000</td>\n",
       "      <td>1.500000</td>\n",
       "      <td>1.500000</td>\n",
       "    </tr>\n",
       "    <tr>\n",
       "      <td>50%</td>\n",
       "      <td>525.000000</td>\n",
       "      <td>23040.000000</td>\n",
       "      <td>1750.000000</td>\n",
       "      <td>1250.000000</td>\n",
       "      <td>175.000000</td>\n",
       "      <td>2.000000</td>\n",
       "      <td>2.000000</td>\n",
       "    </tr>\n",
       "    <tr>\n",
       "      <td>75%</td>\n",
       "      <td>762.500000</td>\n",
       "      <td>26880.000000</td>\n",
       "      <td>2375.000000</td>\n",
       "      <td>1600.000000</td>\n",
       "      <td>187.500000</td>\n",
       "      <td>2.500000</td>\n",
       "      <td>2.500000</td>\n",
       "    </tr>\n",
       "    <tr>\n",
       "      <td>max</td>\n",
       "      <td>1000.000000</td>\n",
       "      <td>30720.000000</td>\n",
       "      <td>3000.000000</td>\n",
       "      <td>1950.000000</td>\n",
       "      <td>200.000000</td>\n",
       "      <td>3.000000</td>\n",
       "      <td>3.000000</td>\n",
       "    </tr>\n",
       "  </tbody>\n",
       "</table>\n",
       "</div>"
      ],
      "text/plain": [
       "       messages_included  mb_per_month_included  minutes_included  \\\n",
       "count           2.000000               2.000000          2.000000   \n",
       "mean          525.000000           23040.000000       1750.000000   \n",
       "std           671.751442           10861.160159       1767.766953   \n",
       "min            50.000000           15360.000000        500.000000   \n",
       "25%           287.500000           19200.000000       1125.000000   \n",
       "50%           525.000000           23040.000000       1750.000000   \n",
       "75%           762.500000           26880.000000       2375.000000   \n",
       "max          1000.000000           30720.000000       3000.000000   \n",
       "\n",
       "       rub_monthly_fee  rub_per_gb  rub_per_message  rub_per_minute  \n",
       "count         2.000000    2.000000         2.000000        2.000000  \n",
       "mean       1250.000000  175.000000         2.000000        2.000000  \n",
       "std         989.949494   35.355339         1.414214        1.414214  \n",
       "min         550.000000  150.000000         1.000000        1.000000  \n",
       "25%         900.000000  162.500000         1.500000        1.500000  \n",
       "50%        1250.000000  175.000000         2.000000        2.000000  \n",
       "75%        1600.000000  187.500000         2.500000        2.500000  \n",
       "max        1950.000000  200.000000         3.000000        3.000000  "
      ]
     },
     "execution_count": 14,
     "metadata": {},
     "output_type": "execute_result"
    }
   ],
   "source": [
    "tariffs.describe()"
   ]
  },
  {
   "cell_type": "markdown",
   "metadata": {},
   "source": [
    "Тут все в порядке"
   ]
  },
  {
   "cell_type": "markdown",
   "metadata": {},
   "source": [
    "#### Таблица `users`"
   ]
  },
  {
   "cell_type": "code",
   "execution_count": 15,
   "metadata": {},
   "outputs": [
    {
     "data": {
      "text/html": [
       "<div>\n",
       "<style scoped>\n",
       "    .dataframe tbody tr th:only-of-type {\n",
       "        vertical-align: middle;\n",
       "    }\n",
       "\n",
       "    .dataframe tbody tr th {\n",
       "        vertical-align: top;\n",
       "    }\n",
       "\n",
       "    .dataframe thead th {\n",
       "        text-align: right;\n",
       "    }\n",
       "</style>\n",
       "<table border=\"1\" class=\"dataframe\">\n",
       "  <thead>\n",
       "    <tr style=\"text-align: right;\">\n",
       "      <th></th>\n",
       "      <th>user_id</th>\n",
       "      <th>age</th>\n",
       "      <th>churn_date</th>\n",
       "      <th>city</th>\n",
       "      <th>first_name</th>\n",
       "      <th>last_name</th>\n",
       "      <th>reg_date</th>\n",
       "      <th>tariff</th>\n",
       "    </tr>\n",
       "  </thead>\n",
       "  <tbody>\n",
       "    <tr>\n",
       "      <td>0</td>\n",
       "      <td>1000</td>\n",
       "      <td>52</td>\n",
       "      <td>NaN</td>\n",
       "      <td>Краснодар</td>\n",
       "      <td>Рафаил</td>\n",
       "      <td>Верещагин</td>\n",
       "      <td>2018-05-25</td>\n",
       "      <td>ultra</td>\n",
       "    </tr>\n",
       "    <tr>\n",
       "      <td>1</td>\n",
       "      <td>1001</td>\n",
       "      <td>41</td>\n",
       "      <td>NaN</td>\n",
       "      <td>Москва</td>\n",
       "      <td>Иван</td>\n",
       "      <td>Ежов</td>\n",
       "      <td>2018-11-01</td>\n",
       "      <td>smart</td>\n",
       "    </tr>\n",
       "    <tr>\n",
       "      <td>2</td>\n",
       "      <td>1002</td>\n",
       "      <td>59</td>\n",
       "      <td>NaN</td>\n",
       "      <td>Стерлитамак</td>\n",
       "      <td>Евгений</td>\n",
       "      <td>Абрамович</td>\n",
       "      <td>2018-06-17</td>\n",
       "      <td>smart</td>\n",
       "    </tr>\n",
       "    <tr>\n",
       "      <td>3</td>\n",
       "      <td>1003</td>\n",
       "      <td>23</td>\n",
       "      <td>NaN</td>\n",
       "      <td>Москва</td>\n",
       "      <td>Белла</td>\n",
       "      <td>Белякова</td>\n",
       "      <td>2018-08-17</td>\n",
       "      <td>ultra</td>\n",
       "    </tr>\n",
       "    <tr>\n",
       "      <td>4</td>\n",
       "      <td>1004</td>\n",
       "      <td>68</td>\n",
       "      <td>NaN</td>\n",
       "      <td>Новокузнецк</td>\n",
       "      <td>Татьяна</td>\n",
       "      <td>Авдеенко</td>\n",
       "      <td>2018-05-14</td>\n",
       "      <td>ultra</td>\n",
       "    </tr>\n",
       "  </tbody>\n",
       "</table>\n",
       "</div>"
      ],
      "text/plain": [
       "   user_id  age churn_date         city first_name  last_name    reg_date  \\\n",
       "0     1000   52        NaN    Краснодар     Рафаил  Верещагин  2018-05-25   \n",
       "1     1001   41        NaN       Москва       Иван       Ежов  2018-11-01   \n",
       "2     1002   59        NaN  Стерлитамак    Евгений  Абрамович  2018-06-17   \n",
       "3     1003   23        NaN       Москва      Белла   Белякова  2018-08-17   \n",
       "4     1004   68        NaN  Новокузнецк    Татьяна   Авдеенко  2018-05-14   \n",
       "\n",
       "  tariff  \n",
       "0  ultra  \n",
       "1  smart  \n",
       "2  smart  \n",
       "3  ultra  \n",
       "4  ultra  "
      ]
     },
     "execution_count": 15,
     "metadata": {},
     "output_type": "execute_result"
    }
   ],
   "source": [
    "users.head()"
   ]
  },
  {
   "cell_type": "code",
   "execution_count": 16,
   "metadata": {},
   "outputs": [
    {
     "name": "stdout",
     "output_type": "stream",
     "text": [
      "<class 'pandas.core.frame.DataFrame'>\n",
      "RangeIndex: 500 entries, 0 to 499\n",
      "Data columns (total 8 columns):\n",
      "user_id       500 non-null int64\n",
      "age           500 non-null int64\n",
      "churn_date    38 non-null object\n",
      "city          500 non-null object\n",
      "first_name    500 non-null object\n",
      "last_name     500 non-null object\n",
      "reg_date      500 non-null object\n",
      "tariff        500 non-null object\n",
      "dtypes: int64(2), object(6)\n",
      "memory usage: 31.4+ KB\n"
     ]
    }
   ],
   "source": [
    "users.info()"
   ]
  },
  {
   "cell_type": "code",
   "execution_count": 17,
   "metadata": {},
   "outputs": [
    {
     "data": {
      "text/html": [
       "<div>\n",
       "<style scoped>\n",
       "    .dataframe tbody tr th:only-of-type {\n",
       "        vertical-align: middle;\n",
       "    }\n",
       "\n",
       "    .dataframe tbody tr th {\n",
       "        vertical-align: top;\n",
       "    }\n",
       "\n",
       "    .dataframe thead th {\n",
       "        text-align: right;\n",
       "    }\n",
       "</style>\n",
       "<table border=\"1\" class=\"dataframe\">\n",
       "  <thead>\n",
       "    <tr style=\"text-align: right;\">\n",
       "      <th></th>\n",
       "      <th>user_id</th>\n",
       "      <th>age</th>\n",
       "    </tr>\n",
       "  </thead>\n",
       "  <tbody>\n",
       "    <tr>\n",
       "      <td>count</td>\n",
       "      <td>500.000000</td>\n",
       "      <td>500.00000</td>\n",
       "    </tr>\n",
       "    <tr>\n",
       "      <td>mean</td>\n",
       "      <td>1249.500000</td>\n",
       "      <td>46.58800</td>\n",
       "    </tr>\n",
       "    <tr>\n",
       "      <td>std</td>\n",
       "      <td>144.481833</td>\n",
       "      <td>16.66763</td>\n",
       "    </tr>\n",
       "    <tr>\n",
       "      <td>min</td>\n",
       "      <td>1000.000000</td>\n",
       "      <td>18.00000</td>\n",
       "    </tr>\n",
       "    <tr>\n",
       "      <td>25%</td>\n",
       "      <td>1124.750000</td>\n",
       "      <td>32.00000</td>\n",
       "    </tr>\n",
       "    <tr>\n",
       "      <td>50%</td>\n",
       "      <td>1249.500000</td>\n",
       "      <td>46.00000</td>\n",
       "    </tr>\n",
       "    <tr>\n",
       "      <td>75%</td>\n",
       "      <td>1374.250000</td>\n",
       "      <td>62.00000</td>\n",
       "    </tr>\n",
       "    <tr>\n",
       "      <td>max</td>\n",
       "      <td>1499.000000</td>\n",
       "      <td>75.00000</td>\n",
       "    </tr>\n",
       "  </tbody>\n",
       "</table>\n",
       "</div>"
      ],
      "text/plain": [
       "           user_id        age\n",
       "count   500.000000  500.00000\n",
       "mean   1249.500000   46.58800\n",
       "std     144.481833   16.66763\n",
       "min    1000.000000   18.00000\n",
       "25%    1124.750000   32.00000\n",
       "50%    1249.500000   46.00000\n",
       "75%    1374.250000   62.00000\n",
       "max    1499.000000   75.00000"
      ]
     },
     "execution_count": 17,
     "metadata": {},
     "output_type": "execute_result"
    }
   ],
   "source": [
    "users.describe()"
   ]
  },
  {
   "cell_type": "markdown",
   "metadata": {},
   "source": [
    "В таблице с пользователями можно сделать следующее:\n",
    "- привести столбец `reg_date` к типу `datetime`"
   ]
  },
  {
   "cell_type": "markdown",
   "metadata": {},
   "source": [
    "### Вывод\n",
    "<br> - данные содержат записи о 500 клиентах;\n",
    "<br> - в данных требуется скорректировать типы, округлить звонки и мегабайты по условиям округления оператора;\n",
    "<br> - нулевые данные по звонкам говорят, что звонки были пропущены, соответственно нулевые значения менять не стоит;\n",
    "<br> - необходимо столбцы с тарифом в таблицах `users` и `tariffs` привести к единому имени `tariff`"
   ]
  },
  {
   "cell_type": "code",
   "execution_count": 18,
   "metadata": {
    "scrolled": true
   },
   "outputs": [
    {
     "name": "stdout",
     "output_type": "stream",
     "text": [
      "Количество интернет трафика равным нулю: 19598\n",
      "Количество интернет трафика равным единице: 1\n",
      "Всего записей по интернет трафику: 149396\n"
     ]
    }
   ],
   "source": [
    "print('Количество интернет трафика равным нулю:', internet.loc[internet['mb_used'] == 0, 'mb_used'].value_counts()[0])\n",
    "print('Количество интернет трафика равным единице:', internet.loc[internet['mb_used'] == 1, 'mb_used'].value_counts()[1])\n",
    "print('Всего записей по интернет трафику:', internet['id'].count())"
   ]
  },
  {
   "cell_type": "markdown",
   "metadata": {},
   "source": [
    "## Подготовка данных"
   ]
  },
  {
   "cell_type": "markdown",
   "metadata": {},
   "source": [
    "### Замена типов данных в таблицах"
   ]
  },
  {
   "cell_type": "markdown",
   "metadata": {},
   "source": [
    "Изменим типы данных в таблицах"
   ]
  },
  {
   "cell_type": "code",
   "execution_count": 19,
   "metadata": {},
   "outputs": [],
   "source": [
    "# заменим типы данных в столбцах с датой\n",
    "calls['call_date'] = pd.to_datetime(calls['call_date'], format='%Y-%m-%d')\n",
    "internet['session_date'] = pd.to_datetime(internet['session_date'], format='%Y-%m-%d')\n",
    "messages['message_date'] = pd.to_datetime(messages['message_date'], format='%Y-%m-%d')\n",
    "users['churn_date'] = pd.to_datetime(users['churn_date'], format='%Y-%m-%d')\n",
    "users['reg_date'] = pd.to_datetime(users['reg_date'], format='%Y-%m-%d')"
   ]
  },
  {
   "cell_type": "code",
   "execution_count": 20,
   "metadata": {},
   "outputs": [],
   "source": [
    "# заменим типы данных на целые\n",
    "calls['duration'] = np.ceil(calls['duration']).astype('int')\n",
    "calls['id'] = calls['id'].astype('int')\n",
    "internet['id'] = internet['id'].astype('int')\n",
    "internet['mb_used'] = np.ceil(internet['mb_used']).astype('int')\n",
    "messages['id'] = messages['id'].astype('int')"
   ]
  },
  {
   "cell_type": "code",
   "execution_count": 21,
   "metadata": {},
   "outputs": [
    {
     "data": {
      "text/html": [
       "<div>\n",
       "<style scoped>\n",
       "    .dataframe tbody tr th:only-of-type {\n",
       "        vertical-align: middle;\n",
       "    }\n",
       "\n",
       "    .dataframe tbody tr th {\n",
       "        vertical-align: top;\n",
       "    }\n",
       "\n",
       "    .dataframe thead th {\n",
       "        text-align: right;\n",
       "    }\n",
       "</style>\n",
       "<table border=\"1\" class=\"dataframe\">\n",
       "  <thead>\n",
       "    <tr style=\"text-align: right;\">\n",
       "      <th></th>\n",
       "      <th>id</th>\n",
       "      <th>mb_used</th>\n",
       "      <th>session_date</th>\n",
       "      <th>user_id</th>\n",
       "    </tr>\n",
       "  </thead>\n",
       "  <tbody>\n",
       "    <tr>\n",
       "      <td>0</td>\n",
       "      <td>10000</td>\n",
       "      <td>113</td>\n",
       "      <td>2018-11-25</td>\n",
       "      <td>1000</td>\n",
       "    </tr>\n",
       "    <tr>\n",
       "      <td>1</td>\n",
       "      <td>10001</td>\n",
       "      <td>1053</td>\n",
       "      <td>2018-09-07</td>\n",
       "      <td>1000</td>\n",
       "    </tr>\n",
       "    <tr>\n",
       "      <td>2</td>\n",
       "      <td>10002</td>\n",
       "      <td>1198</td>\n",
       "      <td>2018-06-25</td>\n",
       "      <td>1000</td>\n",
       "    </tr>\n",
       "    <tr>\n",
       "      <td>3</td>\n",
       "      <td>10003</td>\n",
       "      <td>551</td>\n",
       "      <td>2018-08-22</td>\n",
       "      <td>1000</td>\n",
       "    </tr>\n",
       "    <tr>\n",
       "      <td>4</td>\n",
       "      <td>10004</td>\n",
       "      <td>303</td>\n",
       "      <td>2018-09-24</td>\n",
       "      <td>1000</td>\n",
       "    </tr>\n",
       "  </tbody>\n",
       "</table>\n",
       "</div>"
      ],
      "text/plain": [
       "      id  mb_used session_date  user_id\n",
       "0  10000      113   2018-11-25     1000\n",
       "1  10001     1053   2018-09-07     1000\n",
       "2  10002     1198   2018-06-25     1000\n",
       "3  10003      551   2018-08-22     1000\n",
       "4  10004      303   2018-09-24     1000"
      ]
     },
     "execution_count": 21,
     "metadata": {},
     "output_type": "execute_result"
    }
   ],
   "source": [
    "internet.head()"
   ]
  },
  {
   "cell_type": "markdown",
   "metadata": {},
   "source": [
    "Все данные в столбцах были приведены к корректным форматам"
   ]
  },
  {
   "cell_type": "markdown",
   "metadata": {},
   "source": [
    "### Переименование столбцов"
   ]
  },
  {
   "cell_type": "markdown",
   "metadata": {},
   "source": [
    "Приведем столбцы с тарифом в таблицах `users` и `tariffs` к единому имени `tariff`"
   ]
  },
  {
   "cell_type": "code",
   "execution_count": 22,
   "metadata": {},
   "outputs": [
    {
     "data": {
      "text/html": [
       "<div>\n",
       "<style scoped>\n",
       "    .dataframe tbody tr th:only-of-type {\n",
       "        vertical-align: middle;\n",
       "    }\n",
       "\n",
       "    .dataframe tbody tr th {\n",
       "        vertical-align: top;\n",
       "    }\n",
       "\n",
       "    .dataframe thead th {\n",
       "        text-align: right;\n",
       "    }\n",
       "</style>\n",
       "<table border=\"1\" class=\"dataframe\">\n",
       "  <thead>\n",
       "    <tr style=\"text-align: right;\">\n",
       "      <th></th>\n",
       "      <th>messages_included</th>\n",
       "      <th>mb_per_month_included</th>\n",
       "      <th>minutes_included</th>\n",
       "      <th>rub_monthly_fee</th>\n",
       "      <th>rub_per_gb</th>\n",
       "      <th>rub_per_message</th>\n",
       "      <th>rub_per_minute</th>\n",
       "      <th>tariff</th>\n",
       "    </tr>\n",
       "  </thead>\n",
       "  <tbody>\n",
       "    <tr>\n",
       "      <td>0</td>\n",
       "      <td>50</td>\n",
       "      <td>15360</td>\n",
       "      <td>500</td>\n",
       "      <td>550</td>\n",
       "      <td>200</td>\n",
       "      <td>3</td>\n",
       "      <td>3</td>\n",
       "      <td>smart</td>\n",
       "    </tr>\n",
       "    <tr>\n",
       "      <td>1</td>\n",
       "      <td>1000</td>\n",
       "      <td>30720</td>\n",
       "      <td>3000</td>\n",
       "      <td>1950</td>\n",
       "      <td>150</td>\n",
       "      <td>1</td>\n",
       "      <td>1</td>\n",
       "      <td>ultra</td>\n",
       "    </tr>\n",
       "  </tbody>\n",
       "</table>\n",
       "</div>"
      ],
      "text/plain": [
       "   messages_included  mb_per_month_included  minutes_included  \\\n",
       "0                 50                  15360               500   \n",
       "1               1000                  30720              3000   \n",
       "\n",
       "   rub_monthly_fee  rub_per_gb  rub_per_message  rub_per_minute tariff  \n",
       "0              550         200                3               3  smart  \n",
       "1             1950         150                1               1  ultra  "
      ]
     },
     "execution_count": 22,
     "metadata": {},
     "output_type": "execute_result"
    }
   ],
   "source": [
    "tariffs = tariffs.rename(columns={'tariff_name':'tariff'})\n",
    "tariffs.head()"
   ]
  },
  {
   "cell_type": "markdown",
   "metadata": {},
   "source": [
    "### Дополнительные расчеты"
   ]
  },
  {
   "cell_type": "markdown",
   "metadata": {},
   "source": [
    "**Посчитаем для каждого пользователя:**\n",
    "- количество сделанных звонков и израсходованных минут разговора по месяцам;\n",
    "- количество отправленных сообщений по месяцам;\n",
    "- объем израсходованного интернет-трафика по месяцам;\n",
    "- помесячную выручку с каждого пользователя."
   ]
  },
  {
   "cell_type": "markdown",
   "metadata": {},
   "source": [
    "**Расчет кол-ва сделанных звонков и израсходованных минут по месяцам**"
   ]
  },
  {
   "cell_type": "code",
   "execution_count": 23,
   "metadata": {},
   "outputs": [],
   "source": [
    "# добавим столбец с месяцем в таблице `calls`\n",
    "calls['month'] = calls['call_date'].dt.month"
   ]
  },
  {
   "cell_type": "code",
   "execution_count": 24,
   "metadata": {},
   "outputs": [
    {
     "data": {
      "text/html": [
       "<div>\n",
       "<style scoped>\n",
       "    .dataframe tbody tr th:only-of-type {\n",
       "        vertical-align: middle;\n",
       "    }\n",
       "\n",
       "    .dataframe tbody tr th {\n",
       "        vertical-align: top;\n",
       "    }\n",
       "\n",
       "    .dataframe thead th {\n",
       "        text-align: right;\n",
       "    }\n",
       "</style>\n",
       "<table border=\"1\" class=\"dataframe\">\n",
       "  <thead>\n",
       "    <tr style=\"text-align: right;\">\n",
       "      <th></th>\n",
       "      <th></th>\n",
       "      <th>month_calls_duration</th>\n",
       "      <th>month_calls_total</th>\n",
       "    </tr>\n",
       "    <tr>\n",
       "      <th>user_id</th>\n",
       "      <th>month</th>\n",
       "      <th></th>\n",
       "      <th></th>\n",
       "    </tr>\n",
       "  </thead>\n",
       "  <tbody>\n",
       "    <tr>\n",
       "      <td rowspan=\"8\" valign=\"top\">1000</td>\n",
       "      <td>5</td>\n",
       "      <td>159</td>\n",
       "      <td>22</td>\n",
       "    </tr>\n",
       "    <tr>\n",
       "      <td>6</td>\n",
       "      <td>172</td>\n",
       "      <td>43</td>\n",
       "    </tr>\n",
       "    <tr>\n",
       "      <td>7</td>\n",
       "      <td>340</td>\n",
       "      <td>47</td>\n",
       "    </tr>\n",
       "    <tr>\n",
       "      <td>8</td>\n",
       "      <td>408</td>\n",
       "      <td>52</td>\n",
       "    </tr>\n",
       "    <tr>\n",
       "      <td>9</td>\n",
       "      <td>466</td>\n",
       "      <td>58</td>\n",
       "    </tr>\n",
       "    <tr>\n",
       "      <td>10</td>\n",
       "      <td>350</td>\n",
       "      <td>57</td>\n",
       "    </tr>\n",
       "    <tr>\n",
       "      <td>11</td>\n",
       "      <td>338</td>\n",
       "      <td>43</td>\n",
       "    </tr>\n",
       "    <tr>\n",
       "      <td>12</td>\n",
       "      <td>333</td>\n",
       "      <td>46</td>\n",
       "    </tr>\n",
       "    <tr>\n",
       "      <td rowspan=\"2\" valign=\"top\">1001</td>\n",
       "      <td>11</td>\n",
       "      <td>430</td>\n",
       "      <td>59</td>\n",
       "    </tr>\n",
       "    <tr>\n",
       "      <td>12</td>\n",
       "      <td>414</td>\n",
       "      <td>63</td>\n",
       "    </tr>\n",
       "  </tbody>\n",
       "</table>\n",
       "</div>"
      ],
      "text/plain": [
       "               month_calls_duration  month_calls_total\n",
       "user_id month                                         \n",
       "1000    5                       159                 22\n",
       "        6                       172                 43\n",
       "        7                       340                 47\n",
       "        8                       408                 52\n",
       "        9                       466                 58\n",
       "        10                      350                 57\n",
       "        11                      338                 43\n",
       "        12                      333                 46\n",
       "1001    11                      430                 59\n",
       "        12                      414                 63"
      ]
     },
     "execution_count": 24,
     "metadata": {},
     "output_type": "execute_result"
    }
   ],
   "source": [
    "# расчитаем сводную таблицу, сгруппированную по кол-ву звонкам и их продолжительностью в месяц\n",
    "user_calls = calls.pivot_table(index = ['user_id', 'month'], values='duration', aggfunc={'user_id': 'count', 'duration': 'sum'})\n",
    "user_calls.columns = ['month_calls_duration', 'month_calls_total']\n",
    "user_calls.head(10)\n"
   ]
  },
  {
   "cell_type": "markdown",
   "metadata": {},
   "source": [
    "**Расчет кол-ва отправленных сообщений по месяцам**"
   ]
  },
  {
   "cell_type": "code",
   "execution_count": 25,
   "metadata": {},
   "outputs": [],
   "source": [
    "# добавим столбец с месяцем в таблице `messages`\n",
    "messages['month'] = messages['message_date'].dt.month"
   ]
  },
  {
   "cell_type": "code",
   "execution_count": 26,
   "metadata": {},
   "outputs": [
    {
     "data": {
      "text/html": [
       "<div>\n",
       "<style scoped>\n",
       "    .dataframe tbody tr th:only-of-type {\n",
       "        vertical-align: middle;\n",
       "    }\n",
       "\n",
       "    .dataframe tbody tr th {\n",
       "        vertical-align: top;\n",
       "    }\n",
       "\n",
       "    .dataframe thead th {\n",
       "        text-align: right;\n",
       "    }\n",
       "</style>\n",
       "<table border=\"1\" class=\"dataframe\">\n",
       "  <thead>\n",
       "    <tr style=\"text-align: right;\">\n",
       "      <th></th>\n",
       "      <th></th>\n",
       "      <th>month_sms_total</th>\n",
       "    </tr>\n",
       "    <tr>\n",
       "      <th>user_id</th>\n",
       "      <th>month</th>\n",
       "      <th></th>\n",
       "    </tr>\n",
       "  </thead>\n",
       "  <tbody>\n",
       "    <tr>\n",
       "      <td rowspan=\"8\" valign=\"top\">1000</td>\n",
       "      <td>5</td>\n",
       "      <td>22</td>\n",
       "    </tr>\n",
       "    <tr>\n",
       "      <td>6</td>\n",
       "      <td>60</td>\n",
       "    </tr>\n",
       "    <tr>\n",
       "      <td>7</td>\n",
       "      <td>75</td>\n",
       "    </tr>\n",
       "    <tr>\n",
       "      <td>8</td>\n",
       "      <td>81</td>\n",
       "    </tr>\n",
       "    <tr>\n",
       "      <td>9</td>\n",
       "      <td>57</td>\n",
       "    </tr>\n",
       "    <tr>\n",
       "      <td>10</td>\n",
       "      <td>73</td>\n",
       "    </tr>\n",
       "    <tr>\n",
       "      <td>11</td>\n",
       "      <td>58</td>\n",
       "    </tr>\n",
       "    <tr>\n",
       "      <td>12</td>\n",
       "      <td>70</td>\n",
       "    </tr>\n",
       "    <tr>\n",
       "      <td rowspan=\"2\" valign=\"top\">1002</td>\n",
       "      <td>6</td>\n",
       "      <td>4</td>\n",
       "    </tr>\n",
       "    <tr>\n",
       "      <td>7</td>\n",
       "      <td>11</td>\n",
       "    </tr>\n",
       "  </tbody>\n",
       "</table>\n",
       "</div>"
      ],
      "text/plain": [
       "               month_sms_total\n",
       "user_id month                 \n",
       "1000    5                   22\n",
       "        6                   60\n",
       "        7                   75\n",
       "        8                   81\n",
       "        9                   57\n",
       "        10                  73\n",
       "        11                  58\n",
       "        12                  70\n",
       "1002    6                    4\n",
       "        7                   11"
      ]
     },
     "execution_count": 26,
     "metadata": {},
     "output_type": "execute_result"
    }
   ],
   "source": [
    "# расчитаем сводную таблицу, сгруппированную по кол-ву сообщений в месяц\n",
    "user_messages = messages.pivot_table(index = ['user_id', 'month'], values='id', aggfunc= 'count')\n",
    "user_messages.columns = ['month_sms_total']\n",
    "user_messages.head(10)"
   ]
  },
  {
   "cell_type": "markdown",
   "metadata": {},
   "source": [
    "**Расчет израсходованного трафика по месяцам**"
   ]
  },
  {
   "cell_type": "code",
   "execution_count": 27,
   "metadata": {},
   "outputs": [],
   "source": [
    "# добавим столбец с месяцем в таблице `internet`\n",
    "internet['month'] = internet['session_date'].dt.month"
   ]
  },
  {
   "cell_type": "code",
   "execution_count": 28,
   "metadata": {},
   "outputs": [
    {
     "data": {
      "text/html": [
       "<div>\n",
       "<style scoped>\n",
       "    .dataframe tbody tr th:only-of-type {\n",
       "        vertical-align: middle;\n",
       "    }\n",
       "\n",
       "    .dataframe tbody tr th {\n",
       "        vertical-align: top;\n",
       "    }\n",
       "\n",
       "    .dataframe thead th {\n",
       "        text-align: right;\n",
       "    }\n",
       "</style>\n",
       "<table border=\"1\" class=\"dataframe\">\n",
       "  <thead>\n",
       "    <tr style=\"text-align: right;\">\n",
       "      <th></th>\n",
       "      <th></th>\n",
       "      <th>month_mb_total</th>\n",
       "    </tr>\n",
       "    <tr>\n",
       "      <th>user_id</th>\n",
       "      <th>month</th>\n",
       "      <th></th>\n",
       "    </tr>\n",
       "  </thead>\n",
       "  <tbody>\n",
       "    <tr>\n",
       "      <td rowspan=\"8\" valign=\"top\">1000</td>\n",
       "      <td>5</td>\n",
       "      <td>2256</td>\n",
       "    </tr>\n",
       "    <tr>\n",
       "      <td>6</td>\n",
       "      <td>23257</td>\n",
       "    </tr>\n",
       "    <tr>\n",
       "      <td>7</td>\n",
       "      <td>14016</td>\n",
       "    </tr>\n",
       "    <tr>\n",
       "      <td>8</td>\n",
       "      <td>14070</td>\n",
       "    </tr>\n",
       "    <tr>\n",
       "      <td>9</td>\n",
       "      <td>14581</td>\n",
       "    </tr>\n",
       "    <tr>\n",
       "      <td>10</td>\n",
       "      <td>14717</td>\n",
       "    </tr>\n",
       "    <tr>\n",
       "      <td>11</td>\n",
       "      <td>14768</td>\n",
       "    </tr>\n",
       "    <tr>\n",
       "      <td>12</td>\n",
       "      <td>9827</td>\n",
       "    </tr>\n",
       "    <tr>\n",
       "      <td rowspan=\"2\" valign=\"top\">1001</td>\n",
       "      <td>11</td>\n",
       "      <td>18452</td>\n",
       "    </tr>\n",
       "    <tr>\n",
       "      <td>12</td>\n",
       "      <td>14053</td>\n",
       "    </tr>\n",
       "  </tbody>\n",
       "</table>\n",
       "</div>"
      ],
      "text/plain": [
       "               month_mb_total\n",
       "user_id month                \n",
       "1000    5                2256\n",
       "        6               23257\n",
       "        7               14016\n",
       "        8               14070\n",
       "        9               14581\n",
       "        10              14717\n",
       "        11              14768\n",
       "        12               9827\n",
       "1001    11              18452\n",
       "        12              14053"
      ]
     },
     "execution_count": 28,
     "metadata": {},
     "output_type": "execute_result"
    }
   ],
   "source": [
    "# расчитаем сводную таблицу, сгруппированную по кол-ву сообщений в месяц\n",
    "user_internet = internet.pivot_table(index = ['user_id', 'month'], values='mb_used', aggfunc= 'sum')\n",
    "user_internet.columns = ['month_mb_total']\n",
    "user_internet.head(10)"
   ]
  },
  {
   "cell_type": "markdown",
   "metadata": {},
   "source": [
    "**Расчет помесячной выручки с каждого пользователя**"
   ]
  },
  {
   "cell_type": "code",
   "execution_count": 29,
   "metadata": {},
   "outputs": [],
   "source": [
    "# добавим столбец с месяцем в таблице `users`\n",
    "users['month'] = users['reg_date'].dt.month"
   ]
  },
  {
   "cell_type": "code",
   "execution_count": 30,
   "metadata": {},
   "outputs": [
    {
     "data": {
      "text/html": [
       "<div>\n",
       "<style scoped>\n",
       "    .dataframe tbody tr th:only-of-type {\n",
       "        vertical-align: middle;\n",
       "    }\n",
       "\n",
       "    .dataframe tbody tr th {\n",
       "        vertical-align: top;\n",
       "    }\n",
       "\n",
       "    .dataframe thead th {\n",
       "        text-align: right;\n",
       "    }\n",
       "</style>\n",
       "<table border=\"1\" class=\"dataframe\">\n",
       "  <thead>\n",
       "    <tr style=\"text-align: right;\">\n",
       "      <th></th>\n",
       "      <th>user_id</th>\n",
       "      <th>month_calls_duration</th>\n",
       "      <th>month_calls_total</th>\n",
       "      <th>month_sms_total</th>\n",
       "      <th>month_mb_total</th>\n",
       "      <th>city</th>\n",
       "      <th>tariff</th>\n",
       "      <th>messages_included</th>\n",
       "      <th>mb_per_month_included</th>\n",
       "      <th>minutes_included</th>\n",
       "      <th>rub_monthly_fee</th>\n",
       "      <th>rub_per_gb</th>\n",
       "      <th>rub_per_message</th>\n",
       "      <th>rub_per_minute</th>\n",
       "    </tr>\n",
       "  </thead>\n",
       "  <tbody>\n",
       "    <tr>\n",
       "      <td>0</td>\n",
       "      <td>1000</td>\n",
       "      <td>159.0</td>\n",
       "      <td>22.0</td>\n",
       "      <td>22.0</td>\n",
       "      <td>2256.0</td>\n",
       "      <td>Краснодар</td>\n",
       "      <td>ultra</td>\n",
       "      <td>1000</td>\n",
       "      <td>30720</td>\n",
       "      <td>3000</td>\n",
       "      <td>1950</td>\n",
       "      <td>150</td>\n",
       "      <td>1</td>\n",
       "      <td>1</td>\n",
       "    </tr>\n",
       "    <tr>\n",
       "      <td>1</td>\n",
       "      <td>1000</td>\n",
       "      <td>172.0</td>\n",
       "      <td>43.0</td>\n",
       "      <td>60.0</td>\n",
       "      <td>23257.0</td>\n",
       "      <td>Краснодар</td>\n",
       "      <td>ultra</td>\n",
       "      <td>1000</td>\n",
       "      <td>30720</td>\n",
       "      <td>3000</td>\n",
       "      <td>1950</td>\n",
       "      <td>150</td>\n",
       "      <td>1</td>\n",
       "      <td>1</td>\n",
       "    </tr>\n",
       "    <tr>\n",
       "      <td>2</td>\n",
       "      <td>1000</td>\n",
       "      <td>340.0</td>\n",
       "      <td>47.0</td>\n",
       "      <td>75.0</td>\n",
       "      <td>14016.0</td>\n",
       "      <td>Краснодар</td>\n",
       "      <td>ultra</td>\n",
       "      <td>1000</td>\n",
       "      <td>30720</td>\n",
       "      <td>3000</td>\n",
       "      <td>1950</td>\n",
       "      <td>150</td>\n",
       "      <td>1</td>\n",
       "      <td>1</td>\n",
       "    </tr>\n",
       "    <tr>\n",
       "      <td>3</td>\n",
       "      <td>1000</td>\n",
       "      <td>408.0</td>\n",
       "      <td>52.0</td>\n",
       "      <td>81.0</td>\n",
       "      <td>14070.0</td>\n",
       "      <td>Краснодар</td>\n",
       "      <td>ultra</td>\n",
       "      <td>1000</td>\n",
       "      <td>30720</td>\n",
       "      <td>3000</td>\n",
       "      <td>1950</td>\n",
       "      <td>150</td>\n",
       "      <td>1</td>\n",
       "      <td>1</td>\n",
       "    </tr>\n",
       "    <tr>\n",
       "      <td>4</td>\n",
       "      <td>1000</td>\n",
       "      <td>466.0</td>\n",
       "      <td>58.0</td>\n",
       "      <td>57.0</td>\n",
       "      <td>14581.0</td>\n",
       "      <td>Краснодар</td>\n",
       "      <td>ultra</td>\n",
       "      <td>1000</td>\n",
       "      <td>30720</td>\n",
       "      <td>3000</td>\n",
       "      <td>1950</td>\n",
       "      <td>150</td>\n",
       "      <td>1</td>\n",
       "      <td>1</td>\n",
       "    </tr>\n",
       "  </tbody>\n",
       "</table>\n",
       "</div>"
      ],
      "text/plain": [
       "   user_id  month_calls_duration  month_calls_total  month_sms_total  \\\n",
       "0     1000                 159.0               22.0             22.0   \n",
       "1     1000                 172.0               43.0             60.0   \n",
       "2     1000                 340.0               47.0             75.0   \n",
       "3     1000                 408.0               52.0             81.0   \n",
       "4     1000                 466.0               58.0             57.0   \n",
       "\n",
       "   month_mb_total       city tariff  messages_included  mb_per_month_included  \\\n",
       "0          2256.0  Краснодар  ultra               1000                  30720   \n",
       "1         23257.0  Краснодар  ultra               1000                  30720   \n",
       "2         14016.0  Краснодар  ultra               1000                  30720   \n",
       "3         14070.0  Краснодар  ultra               1000                  30720   \n",
       "4         14581.0  Краснодар  ultra               1000                  30720   \n",
       "\n",
       "   minutes_included  rub_monthly_fee  rub_per_gb  rub_per_message  \\\n",
       "0              3000             1950         150                1   \n",
       "1              3000             1950         150                1   \n",
       "2              3000             1950         150                1   \n",
       "3              3000             1950         150                1   \n",
       "4              3000             1950         150                1   \n",
       "\n",
       "   rub_per_minute  \n",
       "0               1  \n",
       "1               1  \n",
       "2               1  \n",
       "3               1  \n",
       "4               1  "
      ]
     },
     "execution_count": 30,
     "metadata": {},
     "output_type": "execute_result"
    }
   ],
   "source": [
    "# соеденим 2 сводные таблицы, созданные выше, в одну\n",
    "df = user_calls.merge(user_messages, on=['user_id','month'], how='outer')\n",
    "# прибавим к df таблицу user_internet\n",
    "df = df.merge(user_internet, on=['user_id','month'], how = 'outer')\n",
    "# прибавим слева данные таблицы users с информацией по пользователям с городом и тарифом\n",
    "df = df.merge(users[['user_id', 'city', 'tariff']], on='user_id', how='left')\n",
    "# прибавим слева данные таблицы по тарифам\n",
    "df = df.merge(tariffs, on='tariff', how='left')\n",
    "df.head()"
   ]
  },
  {
   "cell_type": "code",
   "execution_count": 31,
   "metadata": {},
   "outputs": [
    {
     "data": {
      "text/plain": [
       "user_id                    0\n",
       "city                       0\n",
       "tariff                     0\n",
       "messages_included          0\n",
       "mb_per_month_included      0\n",
       "minutes_included           0\n",
       "rub_monthly_fee            0\n",
       "rub_per_gb                 0\n",
       "rub_per_message            0\n",
       "rub_per_minute             0\n",
       "month_mb_total            11\n",
       "month_calls_duration      40\n",
       "month_calls_total         40\n",
       "month_sms_total          497\n",
       "dtype: int64"
      ]
     },
     "execution_count": 31,
     "metadata": {},
     "output_type": "execute_result"
    }
   ],
   "source": [
    "# проверим наличие пустых значений методом isna\n",
    "df.isna().sum().sort_values()"
   ]
  },
  {
   "cell_type": "code",
   "execution_count": 32,
   "metadata": {},
   "outputs": [
    {
     "name": "stdout",
     "output_type": "stream",
     "text": [
      "<class 'pandas.core.frame.DataFrame'>\n",
      "Int64Index: 3214 entries, 0 to 3213\n",
      "Data columns (total 14 columns):\n",
      "user_id                  3214 non-null int64\n",
      "month_calls_duration     3214 non-null float64\n",
      "month_calls_total        3214 non-null float64\n",
      "month_sms_total          3214 non-null float64\n",
      "month_mb_total           3214 non-null float64\n",
      "city                     3214 non-null object\n",
      "tariff                   3214 non-null object\n",
      "messages_included        3214 non-null int64\n",
      "mb_per_month_included    3214 non-null int64\n",
      "minutes_included         3214 non-null int64\n",
      "rub_monthly_fee          3214 non-null int64\n",
      "rub_per_gb               3214 non-null int64\n",
      "rub_per_message          3214 non-null int64\n",
      "rub_per_minute           3214 non-null int64\n",
      "dtypes: float64(4), int64(8), object(2)\n",
      "memory usage: 376.6+ KB\n"
     ]
    }
   ],
   "source": [
    "# заполним пустые значения в столбцах month_calls_duration, month_calls_total, month_sms_total, month_mb_total\n",
    "columns_list = ['month_calls_duration', 'month_calls_total', 'month_sms_total', 'month_mb_total']\n",
    "for col in columns_list:\n",
    "    df[col] = df[col].fillna(0)\n",
    "df.info()"
   ]
  },
  {
   "cell_type": "code",
   "execution_count": 33,
   "metadata": {},
   "outputs": [
    {
     "name": "stdout",
     "output_type": "stream",
     "text": [
      "Количество дубликатов: 0\n"
     ]
    }
   ],
   "source": [
    "# проверим данные на наличие дубликатов\n",
    "print('Количество дубликатов:', df.duplicated().sum())"
   ]
  },
  {
   "cell_type": "code",
   "execution_count": 34,
   "metadata": {},
   "outputs": [],
   "source": [
    "# создадим функцию для расчета затрат клиента сверх тарифа в месяц\n",
    "\n",
    "def costs_above_tariff(row):\n",
    "    minuts = (row['month_calls_total'] - row['minutes_included']) * row['rub_per_minute']\n",
    "    messages = (row['month_sms_total'] - row['messages_included']) * row['rub_per_message']\n",
    "    mbs = np.ceil((row['month_mb_total'] - row['mb_per_month_included']) * row['rub_per_gb'] / 1024)\n",
    "    total = 0\n",
    "    for i in [messages, minuts, mbs]:\n",
    "        if i > 0:\n",
    "            total += i\n",
    "    return total"
   ]
  },
  {
   "cell_type": "code",
   "execution_count": 35,
   "metadata": {},
   "outputs": [],
   "source": [
    "# добавим столбец с расходами сверх тарифа\n",
    "df['costs_above_tariff'] = df.apply(lambda x: costs_above_tariff(x), axis=1)"
   ]
  },
  {
   "cell_type": "code",
   "execution_count": 36,
   "metadata": {},
   "outputs": [],
   "source": [
    "# добавим столбец с общей выручкой в месяц\n",
    "df['total_paid'] = df['rub_monthly_fee'] + df['costs_above_tariff']"
   ]
  },
  {
   "cell_type": "code",
   "execution_count": 37,
   "metadata": {
    "scrolled": true
   },
   "outputs": [
    {
     "data": {
      "text/html": [
       "<div>\n",
       "<style scoped>\n",
       "    .dataframe tbody tr th:only-of-type {\n",
       "        vertical-align: middle;\n",
       "    }\n",
       "\n",
       "    .dataframe tbody tr th {\n",
       "        vertical-align: top;\n",
       "    }\n",
       "\n",
       "    .dataframe thead th {\n",
       "        text-align: right;\n",
       "    }\n",
       "</style>\n",
       "<table border=\"1\" class=\"dataframe\">\n",
       "  <thead>\n",
       "    <tr style=\"text-align: right;\">\n",
       "      <th></th>\n",
       "      <th>user_id</th>\n",
       "      <th>month_calls_duration</th>\n",
       "      <th>month_calls_total</th>\n",
       "      <th>month_sms_total</th>\n",
       "      <th>month_mb_total</th>\n",
       "      <th>city</th>\n",
       "      <th>tariff</th>\n",
       "      <th>messages_included</th>\n",
       "      <th>mb_per_month_included</th>\n",
       "      <th>minutes_included</th>\n",
       "      <th>rub_monthly_fee</th>\n",
       "      <th>rub_per_gb</th>\n",
       "      <th>rub_per_message</th>\n",
       "      <th>rub_per_minute</th>\n",
       "      <th>costs_above_tariff</th>\n",
       "      <th>total_paid</th>\n",
       "    </tr>\n",
       "  </thead>\n",
       "  <tbody>\n",
       "    <tr>\n",
       "      <td>0</td>\n",
       "      <td>1000</td>\n",
       "      <td>159.0</td>\n",
       "      <td>22.0</td>\n",
       "      <td>22.0</td>\n",
       "      <td>2256.0</td>\n",
       "      <td>Краснодар</td>\n",
       "      <td>ultra</td>\n",
       "      <td>1000</td>\n",
       "      <td>30720</td>\n",
       "      <td>3000</td>\n",
       "      <td>1950</td>\n",
       "      <td>150</td>\n",
       "      <td>1</td>\n",
       "      <td>1</td>\n",
       "      <td>0.0</td>\n",
       "      <td>1950.0</td>\n",
       "    </tr>\n",
       "    <tr>\n",
       "      <td>1</td>\n",
       "      <td>1000</td>\n",
       "      <td>172.0</td>\n",
       "      <td>43.0</td>\n",
       "      <td>60.0</td>\n",
       "      <td>23257.0</td>\n",
       "      <td>Краснодар</td>\n",
       "      <td>ultra</td>\n",
       "      <td>1000</td>\n",
       "      <td>30720</td>\n",
       "      <td>3000</td>\n",
       "      <td>1950</td>\n",
       "      <td>150</td>\n",
       "      <td>1</td>\n",
       "      <td>1</td>\n",
       "      <td>0.0</td>\n",
       "      <td>1950.0</td>\n",
       "    </tr>\n",
       "    <tr>\n",
       "      <td>2</td>\n",
       "      <td>1000</td>\n",
       "      <td>340.0</td>\n",
       "      <td>47.0</td>\n",
       "      <td>75.0</td>\n",
       "      <td>14016.0</td>\n",
       "      <td>Краснодар</td>\n",
       "      <td>ultra</td>\n",
       "      <td>1000</td>\n",
       "      <td>30720</td>\n",
       "      <td>3000</td>\n",
       "      <td>1950</td>\n",
       "      <td>150</td>\n",
       "      <td>1</td>\n",
       "      <td>1</td>\n",
       "      <td>0.0</td>\n",
       "      <td>1950.0</td>\n",
       "    </tr>\n",
       "    <tr>\n",
       "      <td>3</td>\n",
       "      <td>1000</td>\n",
       "      <td>408.0</td>\n",
       "      <td>52.0</td>\n",
       "      <td>81.0</td>\n",
       "      <td>14070.0</td>\n",
       "      <td>Краснодар</td>\n",
       "      <td>ultra</td>\n",
       "      <td>1000</td>\n",
       "      <td>30720</td>\n",
       "      <td>3000</td>\n",
       "      <td>1950</td>\n",
       "      <td>150</td>\n",
       "      <td>1</td>\n",
       "      <td>1</td>\n",
       "      <td>0.0</td>\n",
       "      <td>1950.0</td>\n",
       "    </tr>\n",
       "    <tr>\n",
       "      <td>4</td>\n",
       "      <td>1000</td>\n",
       "      <td>466.0</td>\n",
       "      <td>58.0</td>\n",
       "      <td>57.0</td>\n",
       "      <td>14581.0</td>\n",
       "      <td>Краснодар</td>\n",
       "      <td>ultra</td>\n",
       "      <td>1000</td>\n",
       "      <td>30720</td>\n",
       "      <td>3000</td>\n",
       "      <td>1950</td>\n",
       "      <td>150</td>\n",
       "      <td>1</td>\n",
       "      <td>1</td>\n",
       "      <td>0.0</td>\n",
       "      <td>1950.0</td>\n",
       "    </tr>\n",
       "    <tr>\n",
       "      <td>5</td>\n",
       "      <td>1000</td>\n",
       "      <td>350.0</td>\n",
       "      <td>57.0</td>\n",
       "      <td>73.0</td>\n",
       "      <td>14717.0</td>\n",
       "      <td>Краснодар</td>\n",
       "      <td>ultra</td>\n",
       "      <td>1000</td>\n",
       "      <td>30720</td>\n",
       "      <td>3000</td>\n",
       "      <td>1950</td>\n",
       "      <td>150</td>\n",
       "      <td>1</td>\n",
       "      <td>1</td>\n",
       "      <td>0.0</td>\n",
       "      <td>1950.0</td>\n",
       "    </tr>\n",
       "    <tr>\n",
       "      <td>6</td>\n",
       "      <td>1000</td>\n",
       "      <td>338.0</td>\n",
       "      <td>43.0</td>\n",
       "      <td>58.0</td>\n",
       "      <td>14768.0</td>\n",
       "      <td>Краснодар</td>\n",
       "      <td>ultra</td>\n",
       "      <td>1000</td>\n",
       "      <td>30720</td>\n",
       "      <td>3000</td>\n",
       "      <td>1950</td>\n",
       "      <td>150</td>\n",
       "      <td>1</td>\n",
       "      <td>1</td>\n",
       "      <td>0.0</td>\n",
       "      <td>1950.0</td>\n",
       "    </tr>\n",
       "    <tr>\n",
       "      <td>7</td>\n",
       "      <td>1000</td>\n",
       "      <td>333.0</td>\n",
       "      <td>46.0</td>\n",
       "      <td>70.0</td>\n",
       "      <td>9827.0</td>\n",
       "      <td>Краснодар</td>\n",
       "      <td>ultra</td>\n",
       "      <td>1000</td>\n",
       "      <td>30720</td>\n",
       "      <td>3000</td>\n",
       "      <td>1950</td>\n",
       "      <td>150</td>\n",
       "      <td>1</td>\n",
       "      <td>1</td>\n",
       "      <td>0.0</td>\n",
       "      <td>1950.0</td>\n",
       "    </tr>\n",
       "    <tr>\n",
       "      <td>8</td>\n",
       "      <td>1001</td>\n",
       "      <td>430.0</td>\n",
       "      <td>59.0</td>\n",
       "      <td>0.0</td>\n",
       "      <td>18452.0</td>\n",
       "      <td>Москва</td>\n",
       "      <td>smart</td>\n",
       "      <td>50</td>\n",
       "      <td>15360</td>\n",
       "      <td>500</td>\n",
       "      <td>550</td>\n",
       "      <td>200</td>\n",
       "      <td>3</td>\n",
       "      <td>3</td>\n",
       "      <td>604.0</td>\n",
       "      <td>1154.0</td>\n",
       "    </tr>\n",
       "    <tr>\n",
       "      <td>9</td>\n",
       "      <td>1001</td>\n",
       "      <td>414.0</td>\n",
       "      <td>63.0</td>\n",
       "      <td>0.0</td>\n",
       "      <td>14053.0</td>\n",
       "      <td>Москва</td>\n",
       "      <td>smart</td>\n",
       "      <td>50</td>\n",
       "      <td>15360</td>\n",
       "      <td>500</td>\n",
       "      <td>550</td>\n",
       "      <td>200</td>\n",
       "      <td>3</td>\n",
       "      <td>3</td>\n",
       "      <td>0.0</td>\n",
       "      <td>550.0</td>\n",
       "    </tr>\n",
       "    <tr>\n",
       "      <td>10</td>\n",
       "      <td>1002</td>\n",
       "      <td>117.0</td>\n",
       "      <td>15.0</td>\n",
       "      <td>4.0</td>\n",
       "      <td>10871.0</td>\n",
       "      <td>Стерлитамак</td>\n",
       "      <td>smart</td>\n",
       "      <td>50</td>\n",
       "      <td>15360</td>\n",
       "      <td>500</td>\n",
       "      <td>550</td>\n",
       "      <td>200</td>\n",
       "      <td>3</td>\n",
       "      <td>3</td>\n",
       "      <td>0.0</td>\n",
       "      <td>550.0</td>\n",
       "    </tr>\n",
       "    <tr>\n",
       "      <td>11</td>\n",
       "      <td>1002</td>\n",
       "      <td>214.0</td>\n",
       "      <td>26.0</td>\n",
       "      <td>11.0</td>\n",
       "      <td>17601.0</td>\n",
       "      <td>Стерлитамак</td>\n",
       "      <td>smart</td>\n",
       "      <td>50</td>\n",
       "      <td>15360</td>\n",
       "      <td>500</td>\n",
       "      <td>550</td>\n",
       "      <td>200</td>\n",
       "      <td>3</td>\n",
       "      <td>3</td>\n",
       "      <td>438.0</td>\n",
       "      <td>988.0</td>\n",
       "    </tr>\n",
       "    <tr>\n",
       "      <td>12</td>\n",
       "      <td>1002</td>\n",
       "      <td>289.0</td>\n",
       "      <td>42.0</td>\n",
       "      <td>13.0</td>\n",
       "      <td>20347.0</td>\n",
       "      <td>Стерлитамак</td>\n",
       "      <td>smart</td>\n",
       "      <td>50</td>\n",
       "      <td>15360</td>\n",
       "      <td>500</td>\n",
       "      <td>550</td>\n",
       "      <td>200</td>\n",
       "      <td>3</td>\n",
       "      <td>3</td>\n",
       "      <td>975.0</td>\n",
       "      <td>1525.0</td>\n",
       "    </tr>\n",
       "    <tr>\n",
       "      <td>13</td>\n",
       "      <td>1002</td>\n",
       "      <td>206.0</td>\n",
       "      <td>36.0</td>\n",
       "      <td>4.0</td>\n",
       "      <td>16712.0</td>\n",
       "      <td>Стерлитамак</td>\n",
       "      <td>smart</td>\n",
       "      <td>50</td>\n",
       "      <td>15360</td>\n",
       "      <td>500</td>\n",
       "      <td>550</td>\n",
       "      <td>200</td>\n",
       "      <td>3</td>\n",
       "      <td>3</td>\n",
       "      <td>265.0</td>\n",
       "      <td>815.0</td>\n",
       "    </tr>\n",
       "    <tr>\n",
       "      <td>14</td>\n",
       "      <td>1002</td>\n",
       "      <td>212.0</td>\n",
       "      <td>33.0</td>\n",
       "      <td>10.0</td>\n",
       "      <td>13905.0</td>\n",
       "      <td>Стерлитамак</td>\n",
       "      <td>smart</td>\n",
       "      <td>50</td>\n",
       "      <td>15360</td>\n",
       "      <td>500</td>\n",
       "      <td>550</td>\n",
       "      <td>200</td>\n",
       "      <td>3</td>\n",
       "      <td>3</td>\n",
       "      <td>0.0</td>\n",
       "      <td>550.0</td>\n",
       "    </tr>\n",
       "    <tr>\n",
       "      <td>15</td>\n",
       "      <td>1002</td>\n",
       "      <td>243.0</td>\n",
       "      <td>32.0</td>\n",
       "      <td>16.0</td>\n",
       "      <td>18610.0</td>\n",
       "      <td>Стерлитамак</td>\n",
       "      <td>smart</td>\n",
       "      <td>50</td>\n",
       "      <td>15360</td>\n",
       "      <td>500</td>\n",
       "      <td>550</td>\n",
       "      <td>200</td>\n",
       "      <td>3</td>\n",
       "      <td>3</td>\n",
       "      <td>635.0</td>\n",
       "      <td>1185.0</td>\n",
       "    </tr>\n",
       "    <tr>\n",
       "      <td>16</td>\n",
       "      <td>1002</td>\n",
       "      <td>236.0</td>\n",
       "      <td>33.0</td>\n",
       "      <td>12.0</td>\n",
       "      <td>18137.0</td>\n",
       "      <td>Стерлитамак</td>\n",
       "      <td>smart</td>\n",
       "      <td>50</td>\n",
       "      <td>15360</td>\n",
       "      <td>500</td>\n",
       "      <td>550</td>\n",
       "      <td>200</td>\n",
       "      <td>3</td>\n",
       "      <td>3</td>\n",
       "      <td>543.0</td>\n",
       "      <td>1093.0</td>\n",
       "    </tr>\n",
       "    <tr>\n",
       "      <td>17</td>\n",
       "      <td>1003</td>\n",
       "      <td>380.0</td>\n",
       "      <td>55.0</td>\n",
       "      <td>37.0</td>\n",
       "      <td>8571.0</td>\n",
       "      <td>Москва</td>\n",
       "      <td>ultra</td>\n",
       "      <td>1000</td>\n",
       "      <td>30720</td>\n",
       "      <td>3000</td>\n",
       "      <td>1950</td>\n",
       "      <td>150</td>\n",
       "      <td>1</td>\n",
       "      <td>1</td>\n",
       "      <td>0.0</td>\n",
       "      <td>1950.0</td>\n",
       "    </tr>\n",
       "    <tr>\n",
       "      <td>18</td>\n",
       "      <td>1003</td>\n",
       "      <td>961.0</td>\n",
       "      <td>134.0</td>\n",
       "      <td>91.0</td>\n",
       "      <td>12479.0</td>\n",
       "      <td>Москва</td>\n",
       "      <td>ultra</td>\n",
       "      <td>1000</td>\n",
       "      <td>30720</td>\n",
       "      <td>3000</td>\n",
       "      <td>1950</td>\n",
       "      <td>150</td>\n",
       "      <td>1</td>\n",
       "      <td>1</td>\n",
       "      <td>0.0</td>\n",
       "      <td>1950.0</td>\n",
       "    </tr>\n",
       "    <tr>\n",
       "      <td>19</td>\n",
       "      <td>1003</td>\n",
       "      <td>855.0</td>\n",
       "      <td>108.0</td>\n",
       "      <td>83.0</td>\n",
       "      <td>14779.0</td>\n",
       "      <td>Москва</td>\n",
       "      <td>ultra</td>\n",
       "      <td>1000</td>\n",
       "      <td>30720</td>\n",
       "      <td>3000</td>\n",
       "      <td>1950</td>\n",
       "      <td>150</td>\n",
       "      <td>1</td>\n",
       "      <td>1</td>\n",
       "      <td>0.0</td>\n",
       "      <td>1950.0</td>\n",
       "    </tr>\n",
       "  </tbody>\n",
       "</table>\n",
       "</div>"
      ],
      "text/plain": [
       "    user_id  month_calls_duration  month_calls_total  month_sms_total  \\\n",
       "0      1000                 159.0               22.0             22.0   \n",
       "1      1000                 172.0               43.0             60.0   \n",
       "2      1000                 340.0               47.0             75.0   \n",
       "3      1000                 408.0               52.0             81.0   \n",
       "4      1000                 466.0               58.0             57.0   \n",
       "5      1000                 350.0               57.0             73.0   \n",
       "6      1000                 338.0               43.0             58.0   \n",
       "7      1000                 333.0               46.0             70.0   \n",
       "8      1001                 430.0               59.0              0.0   \n",
       "9      1001                 414.0               63.0              0.0   \n",
       "10     1002                 117.0               15.0              4.0   \n",
       "11     1002                 214.0               26.0             11.0   \n",
       "12     1002                 289.0               42.0             13.0   \n",
       "13     1002                 206.0               36.0              4.0   \n",
       "14     1002                 212.0               33.0             10.0   \n",
       "15     1002                 243.0               32.0             16.0   \n",
       "16     1002                 236.0               33.0             12.0   \n",
       "17     1003                 380.0               55.0             37.0   \n",
       "18     1003                 961.0              134.0             91.0   \n",
       "19     1003                 855.0              108.0             83.0   \n",
       "\n",
       "    month_mb_total         city tariff  messages_included  \\\n",
       "0           2256.0    Краснодар  ultra               1000   \n",
       "1          23257.0    Краснодар  ultra               1000   \n",
       "2          14016.0    Краснодар  ultra               1000   \n",
       "3          14070.0    Краснодар  ultra               1000   \n",
       "4          14581.0    Краснодар  ultra               1000   \n",
       "5          14717.0    Краснодар  ultra               1000   \n",
       "6          14768.0    Краснодар  ultra               1000   \n",
       "7           9827.0    Краснодар  ultra               1000   \n",
       "8          18452.0       Москва  smart                 50   \n",
       "9          14053.0       Москва  smart                 50   \n",
       "10         10871.0  Стерлитамак  smart                 50   \n",
       "11         17601.0  Стерлитамак  smart                 50   \n",
       "12         20347.0  Стерлитамак  smart                 50   \n",
       "13         16712.0  Стерлитамак  smart                 50   \n",
       "14         13905.0  Стерлитамак  smart                 50   \n",
       "15         18610.0  Стерлитамак  smart                 50   \n",
       "16         18137.0  Стерлитамак  smart                 50   \n",
       "17          8571.0       Москва  ultra               1000   \n",
       "18         12479.0       Москва  ultra               1000   \n",
       "19         14779.0       Москва  ultra               1000   \n",
       "\n",
       "    mb_per_month_included  minutes_included  rub_monthly_fee  rub_per_gb  \\\n",
       "0                   30720              3000             1950         150   \n",
       "1                   30720              3000             1950         150   \n",
       "2                   30720              3000             1950         150   \n",
       "3                   30720              3000             1950         150   \n",
       "4                   30720              3000             1950         150   \n",
       "5                   30720              3000             1950         150   \n",
       "6                   30720              3000             1950         150   \n",
       "7                   30720              3000             1950         150   \n",
       "8                   15360               500              550         200   \n",
       "9                   15360               500              550         200   \n",
       "10                  15360               500              550         200   \n",
       "11                  15360               500              550         200   \n",
       "12                  15360               500              550         200   \n",
       "13                  15360               500              550         200   \n",
       "14                  15360               500              550         200   \n",
       "15                  15360               500              550         200   \n",
       "16                  15360               500              550         200   \n",
       "17                  30720              3000             1950         150   \n",
       "18                  30720              3000             1950         150   \n",
       "19                  30720              3000             1950         150   \n",
       "\n",
       "    rub_per_message  rub_per_minute  costs_above_tariff  total_paid  \n",
       "0                 1               1                 0.0      1950.0  \n",
       "1                 1               1                 0.0      1950.0  \n",
       "2                 1               1                 0.0      1950.0  \n",
       "3                 1               1                 0.0      1950.0  \n",
       "4                 1               1                 0.0      1950.0  \n",
       "5                 1               1                 0.0      1950.0  \n",
       "6                 1               1                 0.0      1950.0  \n",
       "7                 1               1                 0.0      1950.0  \n",
       "8                 3               3               604.0      1154.0  \n",
       "9                 3               3                 0.0       550.0  \n",
       "10                3               3                 0.0       550.0  \n",
       "11                3               3               438.0       988.0  \n",
       "12                3               3               975.0      1525.0  \n",
       "13                3               3               265.0       815.0  \n",
       "14                3               3                 0.0       550.0  \n",
       "15                3               3               635.0      1185.0  \n",
       "16                3               3               543.0      1093.0  \n",
       "17                1               1                 0.0      1950.0  \n",
       "18                1               1                 0.0      1950.0  \n",
       "19                1               1                 0.0      1950.0  "
      ]
     },
     "execution_count": 37,
     "metadata": {},
     "output_type": "execute_result"
    }
   ],
   "source": [
    "df.head(20)"
   ]
  },
  {
   "cell_type": "code",
   "execution_count": 38,
   "metadata": {},
   "outputs": [
    {
     "name": "stdout",
     "output_type": "stream",
     "text": [
      "<class 'pandas.core.frame.DataFrame'>\n",
      "Int64Index: 3214 entries, 0 to 3213\n",
      "Data columns (total 16 columns):\n",
      "user_id                  3214 non-null int64\n",
      "month_calls_duration     3214 non-null float64\n",
      "month_calls_total        3214 non-null float64\n",
      "month_sms_total          3214 non-null float64\n",
      "month_mb_total           3214 non-null float64\n",
      "city                     3214 non-null object\n",
      "tariff                   3214 non-null object\n",
      "messages_included        3214 non-null int64\n",
      "mb_per_month_included    3214 non-null int64\n",
      "minutes_included         3214 non-null int64\n",
      "rub_monthly_fee          3214 non-null int64\n",
      "rub_per_gb               3214 non-null int64\n",
      "rub_per_message          3214 non-null int64\n",
      "rub_per_minute           3214 non-null int64\n",
      "costs_above_tariff       3214 non-null float64\n",
      "total_paid               3214 non-null float64\n",
      "dtypes: float64(6), int64(8), object(2)\n",
      "memory usage: 426.9+ KB\n"
     ]
    }
   ],
   "source": [
    "df.info()"
   ]
  },
  {
   "cell_type": "markdown",
   "metadata": {},
   "source": [
    "### Вывод\n",
    "<br> - типы данных были скорректированы\n",
    "<br> - столбцы с названием тарифа были приведены к единообразию\n",
    "<br> - в результате по каждому пользователю была расчитана выручка"
   ]
  },
  {
   "cell_type": "markdown",
   "metadata": {},
   "source": [
    "## Анализ данных"
   ]
  },
  {
   "cell_type": "markdown",
   "metadata": {},
   "source": [
    "**В ходе исследования выполним следующее:**\n",
    "\n",
    "- определим сколько минут разговора, сколько сообщений и какой объём интернет-трафика требуется пользователям каждого тарифав месяц? \n",
    "- посчитаем среднее количество, дисперсию и стандартное отклонение;\n",
    "- построим гистограммы и опишем распределения."
   ]
  },
  {
   "cell_type": "markdown",
   "metadata": {},
   "source": [
    "### Количество минут, смс и Мб в месяц по пользователям для каждого тарифа"
   ]
  },
  {
   "cell_type": "code",
   "execution_count": 39,
   "metadata": {},
   "outputs": [
    {
     "data": {
      "text/html": [
       "<div>\n",
       "<style scoped>\n",
       "    .dataframe tbody tr th:only-of-type {\n",
       "        vertical-align: middle;\n",
       "    }\n",
       "\n",
       "    .dataframe tbody tr th {\n",
       "        vertical-align: top;\n",
       "    }\n",
       "\n",
       "    .dataframe thead th {\n",
       "        text-align: right;\n",
       "    }\n",
       "</style>\n",
       "<table border=\"1\" class=\"dataframe\">\n",
       "  <thead>\n",
       "    <tr style=\"text-align: right;\">\n",
       "      <th></th>\n",
       "      <th>user_id</th>\n",
       "      <th>month_calls_duration</th>\n",
       "      <th>month_calls_total</th>\n",
       "      <th>month_sms_total</th>\n",
       "      <th>month_mb_total</th>\n",
       "      <th>city</th>\n",
       "      <th>tariff</th>\n",
       "      <th>messages_included</th>\n",
       "      <th>mb_per_month_included</th>\n",
       "      <th>minutes_included</th>\n",
       "      <th>rub_monthly_fee</th>\n",
       "      <th>rub_per_gb</th>\n",
       "      <th>rub_per_message</th>\n",
       "      <th>rub_per_minute</th>\n",
       "      <th>costs_above_tariff</th>\n",
       "      <th>total_paid</th>\n",
       "    </tr>\n",
       "  </thead>\n",
       "  <tbody>\n",
       "    <tr>\n",
       "      <td>0</td>\n",
       "      <td>1000</td>\n",
       "      <td>159.0</td>\n",
       "      <td>22.0</td>\n",
       "      <td>22.0</td>\n",
       "      <td>2256.0</td>\n",
       "      <td>Краснодар</td>\n",
       "      <td>ultra</td>\n",
       "      <td>1000</td>\n",
       "      <td>30720</td>\n",
       "      <td>3000</td>\n",
       "      <td>1950</td>\n",
       "      <td>150</td>\n",
       "      <td>1</td>\n",
       "      <td>1</td>\n",
       "      <td>0.0</td>\n",
       "      <td>1950.0</td>\n",
       "    </tr>\n",
       "    <tr>\n",
       "      <td>1</td>\n",
       "      <td>1000</td>\n",
       "      <td>172.0</td>\n",
       "      <td>43.0</td>\n",
       "      <td>60.0</td>\n",
       "      <td>23257.0</td>\n",
       "      <td>Краснодар</td>\n",
       "      <td>ultra</td>\n",
       "      <td>1000</td>\n",
       "      <td>30720</td>\n",
       "      <td>3000</td>\n",
       "      <td>1950</td>\n",
       "      <td>150</td>\n",
       "      <td>1</td>\n",
       "      <td>1</td>\n",
       "      <td>0.0</td>\n",
       "      <td>1950.0</td>\n",
       "    </tr>\n",
       "    <tr>\n",
       "      <td>2</td>\n",
       "      <td>1000</td>\n",
       "      <td>340.0</td>\n",
       "      <td>47.0</td>\n",
       "      <td>75.0</td>\n",
       "      <td>14016.0</td>\n",
       "      <td>Краснодар</td>\n",
       "      <td>ultra</td>\n",
       "      <td>1000</td>\n",
       "      <td>30720</td>\n",
       "      <td>3000</td>\n",
       "      <td>1950</td>\n",
       "      <td>150</td>\n",
       "      <td>1</td>\n",
       "      <td>1</td>\n",
       "      <td>0.0</td>\n",
       "      <td>1950.0</td>\n",
       "    </tr>\n",
       "    <tr>\n",
       "      <td>3</td>\n",
       "      <td>1000</td>\n",
       "      <td>408.0</td>\n",
       "      <td>52.0</td>\n",
       "      <td>81.0</td>\n",
       "      <td>14070.0</td>\n",
       "      <td>Краснодар</td>\n",
       "      <td>ultra</td>\n",
       "      <td>1000</td>\n",
       "      <td>30720</td>\n",
       "      <td>3000</td>\n",
       "      <td>1950</td>\n",
       "      <td>150</td>\n",
       "      <td>1</td>\n",
       "      <td>1</td>\n",
       "      <td>0.0</td>\n",
       "      <td>1950.0</td>\n",
       "    </tr>\n",
       "    <tr>\n",
       "      <td>4</td>\n",
       "      <td>1000</td>\n",
       "      <td>466.0</td>\n",
       "      <td>58.0</td>\n",
       "      <td>57.0</td>\n",
       "      <td>14581.0</td>\n",
       "      <td>Краснодар</td>\n",
       "      <td>ultra</td>\n",
       "      <td>1000</td>\n",
       "      <td>30720</td>\n",
       "      <td>3000</td>\n",
       "      <td>1950</td>\n",
       "      <td>150</td>\n",
       "      <td>1</td>\n",
       "      <td>1</td>\n",
       "      <td>0.0</td>\n",
       "      <td>1950.0</td>\n",
       "    </tr>\n",
       "    <tr>\n",
       "      <td>5</td>\n",
       "      <td>1000</td>\n",
       "      <td>350.0</td>\n",
       "      <td>57.0</td>\n",
       "      <td>73.0</td>\n",
       "      <td>14717.0</td>\n",
       "      <td>Краснодар</td>\n",
       "      <td>ultra</td>\n",
       "      <td>1000</td>\n",
       "      <td>30720</td>\n",
       "      <td>3000</td>\n",
       "      <td>1950</td>\n",
       "      <td>150</td>\n",
       "      <td>1</td>\n",
       "      <td>1</td>\n",
       "      <td>0.0</td>\n",
       "      <td>1950.0</td>\n",
       "    </tr>\n",
       "    <tr>\n",
       "      <td>6</td>\n",
       "      <td>1000</td>\n",
       "      <td>338.0</td>\n",
       "      <td>43.0</td>\n",
       "      <td>58.0</td>\n",
       "      <td>14768.0</td>\n",
       "      <td>Краснодар</td>\n",
       "      <td>ultra</td>\n",
       "      <td>1000</td>\n",
       "      <td>30720</td>\n",
       "      <td>3000</td>\n",
       "      <td>1950</td>\n",
       "      <td>150</td>\n",
       "      <td>1</td>\n",
       "      <td>1</td>\n",
       "      <td>0.0</td>\n",
       "      <td>1950.0</td>\n",
       "    </tr>\n",
       "    <tr>\n",
       "      <td>7</td>\n",
       "      <td>1000</td>\n",
       "      <td>333.0</td>\n",
       "      <td>46.0</td>\n",
       "      <td>70.0</td>\n",
       "      <td>9827.0</td>\n",
       "      <td>Краснодар</td>\n",
       "      <td>ultra</td>\n",
       "      <td>1000</td>\n",
       "      <td>30720</td>\n",
       "      <td>3000</td>\n",
       "      <td>1950</td>\n",
       "      <td>150</td>\n",
       "      <td>1</td>\n",
       "      <td>1</td>\n",
       "      <td>0.0</td>\n",
       "      <td>1950.0</td>\n",
       "    </tr>\n",
       "    <tr>\n",
       "      <td>8</td>\n",
       "      <td>1001</td>\n",
       "      <td>430.0</td>\n",
       "      <td>59.0</td>\n",
       "      <td>0.0</td>\n",
       "      <td>18452.0</td>\n",
       "      <td>Москва</td>\n",
       "      <td>smart</td>\n",
       "      <td>50</td>\n",
       "      <td>15360</td>\n",
       "      <td>500</td>\n",
       "      <td>550</td>\n",
       "      <td>200</td>\n",
       "      <td>3</td>\n",
       "      <td>3</td>\n",
       "      <td>604.0</td>\n",
       "      <td>1154.0</td>\n",
       "    </tr>\n",
       "    <tr>\n",
       "      <td>9</td>\n",
       "      <td>1001</td>\n",
       "      <td>414.0</td>\n",
       "      <td>63.0</td>\n",
       "      <td>0.0</td>\n",
       "      <td>14053.0</td>\n",
       "      <td>Москва</td>\n",
       "      <td>smart</td>\n",
       "      <td>50</td>\n",
       "      <td>15360</td>\n",
       "      <td>500</td>\n",
       "      <td>550</td>\n",
       "      <td>200</td>\n",
       "      <td>3</td>\n",
       "      <td>3</td>\n",
       "      <td>0.0</td>\n",
       "      <td>550.0</td>\n",
       "    </tr>\n",
       "  </tbody>\n",
       "</table>\n",
       "</div>"
      ],
      "text/plain": [
       "   user_id  month_calls_duration  month_calls_total  month_sms_total  \\\n",
       "0     1000                 159.0               22.0             22.0   \n",
       "1     1000                 172.0               43.0             60.0   \n",
       "2     1000                 340.0               47.0             75.0   \n",
       "3     1000                 408.0               52.0             81.0   \n",
       "4     1000                 466.0               58.0             57.0   \n",
       "5     1000                 350.0               57.0             73.0   \n",
       "6     1000                 338.0               43.0             58.0   \n",
       "7     1000                 333.0               46.0             70.0   \n",
       "8     1001                 430.0               59.0              0.0   \n",
       "9     1001                 414.0               63.0              0.0   \n",
       "\n",
       "   month_mb_total       city tariff  messages_included  mb_per_month_included  \\\n",
       "0          2256.0  Краснодар  ultra               1000                  30720   \n",
       "1         23257.0  Краснодар  ultra               1000                  30720   \n",
       "2         14016.0  Краснодар  ultra               1000                  30720   \n",
       "3         14070.0  Краснодар  ultra               1000                  30720   \n",
       "4         14581.0  Краснодар  ultra               1000                  30720   \n",
       "5         14717.0  Краснодар  ultra               1000                  30720   \n",
       "6         14768.0  Краснодар  ultra               1000                  30720   \n",
       "7          9827.0  Краснодар  ultra               1000                  30720   \n",
       "8         18452.0     Москва  smart                 50                  15360   \n",
       "9         14053.0     Москва  smart                 50                  15360   \n",
       "\n",
       "   minutes_included  rub_monthly_fee  rub_per_gb  rub_per_message  \\\n",
       "0              3000             1950         150                1   \n",
       "1              3000             1950         150                1   \n",
       "2              3000             1950         150                1   \n",
       "3              3000             1950         150                1   \n",
       "4              3000             1950         150                1   \n",
       "5              3000             1950         150                1   \n",
       "6              3000             1950         150                1   \n",
       "7              3000             1950         150                1   \n",
       "8               500              550         200                3   \n",
       "9               500              550         200                3   \n",
       "\n",
       "   rub_per_minute  costs_above_tariff  total_paid  \n",
       "0               1                 0.0      1950.0  \n",
       "1               1                 0.0      1950.0  \n",
       "2               1                 0.0      1950.0  \n",
       "3               1                 0.0      1950.0  \n",
       "4               1                 0.0      1950.0  \n",
       "5               1                 0.0      1950.0  \n",
       "6               1                 0.0      1950.0  \n",
       "7               1                 0.0      1950.0  \n",
       "8               3               604.0      1154.0  \n",
       "9               3                 0.0       550.0  "
      ]
     },
     "execution_count": 39,
     "metadata": {},
     "output_type": "execute_result"
    }
   ],
   "source": [
    "df.head(10)"
   ]
  },
  {
   "cell_type": "code",
   "execution_count": 40,
   "metadata": {
    "scrolled": true
   },
   "outputs": [],
   "source": [
    "# создадим сводную таблицу со значениями в месяц минут, мб и смс для каждого тарифа\n",
    "#monthly_sum = df.pivot_table(index = 'user_id', values=['month_calls_duration', 'month_sms_total', 'month_mb_total','total_paid'], aggfunc= 'sum')\n",
    "#for user_id in users['user_id']:\n",
    "#    monthly_sum.loc[user_id, 'tariff'] = users.loc[user_id-1000, 'tariff']\n",
    "#monthly_sum.head(10)\n"
   ]
  },
  {
   "cell_type": "code",
   "execution_count": 41,
   "metadata": {},
   "outputs": [
    {
     "data": {
      "text/html": [
       "<div>\n",
       "<style scoped>\n",
       "    .dataframe tbody tr th:only-of-type {\n",
       "        vertical-align: middle;\n",
       "    }\n",
       "\n",
       "    .dataframe tbody tr th {\n",
       "        vertical-align: top;\n",
       "    }\n",
       "\n",
       "    .dataframe thead tr th {\n",
       "        text-align: left;\n",
       "    }\n",
       "\n",
       "    .dataframe thead tr:last-of-type th {\n",
       "        text-align: right;\n",
       "    }\n",
       "</style>\n",
       "<table border=\"1\" class=\"dataframe\">\n",
       "  <thead>\n",
       "    <tr>\n",
       "      <th></th>\n",
       "      <th colspan=\"4\" halign=\"left\">sum</th>\n",
       "    </tr>\n",
       "    <tr>\n",
       "      <th></th>\n",
       "      <th>month_calls_duration</th>\n",
       "      <th>month_mb_total</th>\n",
       "      <th>month_sms_total</th>\n",
       "      <th>total_paid</th>\n",
       "    </tr>\n",
       "    <tr>\n",
       "      <th>tariff</th>\n",
       "      <th></th>\n",
       "      <th></th>\n",
       "      <th></th>\n",
       "      <th></th>\n",
       "    </tr>\n",
       "  </thead>\n",
       "  <tbody>\n",
       "    <tr>\n",
       "      <td>smart</td>\n",
       "      <td>931577.0</td>\n",
       "      <td>36174861.0</td>\n",
       "      <td>74413.0</td>\n",
       "      <td>2471569.0</td>\n",
       "    </tr>\n",
       "    <tr>\n",
       "      <td>ultra</td>\n",
       "      <td>518724.0</td>\n",
       "      <td>19194598.0</td>\n",
       "      <td>48623.0</td>\n",
       "      <td>2029690.0</td>\n",
       "    </tr>\n",
       "  </tbody>\n",
       "</table>\n",
       "</div>"
      ],
      "text/plain": [
       "                        sum                                          \n",
       "       month_calls_duration month_mb_total month_sms_total total_paid\n",
       "tariff                                                               \n",
       "smart              931577.0     36174861.0         74413.0  2471569.0\n",
       "ultra              518724.0     19194598.0         48623.0  2029690.0"
      ]
     },
     "execution_count": 41,
     "metadata": {},
     "output_type": "execute_result"
    }
   ],
   "source": [
    "df.pivot_table(index = 'tariff', values=['month_calls_duration', 'month_sms_total', 'month_mb_total',\n",
    "                                                           'total_paid'], aggfunc= ['sum'])"
   ]
  },
  {
   "cell_type": "markdown",
   "metadata": {},
   "source": [
    "### Среднее количество, дисперсия и стандартное отклонение"
   ]
  },
  {
   "cell_type": "code",
   "execution_count": 42,
   "metadata": {
    "scrolled": true
   },
   "outputs": [
    {
     "data": {
      "text/html": [
       "<div>\n",
       "<style scoped>\n",
       "    .dataframe tbody tr th:only-of-type {\n",
       "        vertical-align: middle;\n",
       "    }\n",
       "\n",
       "    .dataframe tbody tr th {\n",
       "        vertical-align: top;\n",
       "    }\n",
       "\n",
       "    .dataframe thead tr th {\n",
       "        text-align: left;\n",
       "    }\n",
       "\n",
       "    .dataframe thead tr:last-of-type th {\n",
       "        text-align: right;\n",
       "    }\n",
       "</style>\n",
       "<table border=\"1\" class=\"dataframe\">\n",
       "  <thead>\n",
       "    <tr>\n",
       "      <th></th>\n",
       "      <th colspan=\"3\" halign=\"left\">month_calls_duration</th>\n",
       "      <th colspan=\"3\" halign=\"left\">month_mb_total</th>\n",
       "      <th colspan=\"3\" halign=\"left\">month_sms_total</th>\n",
       "      <th colspan=\"3\" halign=\"left\">total_paid</th>\n",
       "    </tr>\n",
       "    <tr>\n",
       "      <th></th>\n",
       "      <th>median</th>\n",
       "      <th>std</th>\n",
       "      <th>var</th>\n",
       "      <th>median</th>\n",
       "      <th>std</th>\n",
       "      <th>var</th>\n",
       "      <th>median</th>\n",
       "      <th>std</th>\n",
       "      <th>var</th>\n",
       "      <th>median</th>\n",
       "      <th>std</th>\n",
       "      <th>var</th>\n",
       "    </tr>\n",
       "    <tr>\n",
       "      <th>tariff</th>\n",
       "      <th></th>\n",
       "      <th></th>\n",
       "      <th></th>\n",
       "      <th></th>\n",
       "      <th></th>\n",
       "      <th></th>\n",
       "      <th></th>\n",
       "      <th></th>\n",
       "      <th></th>\n",
       "      <th></th>\n",
       "      <th></th>\n",
       "      <th></th>\n",
       "    </tr>\n",
       "  </thead>\n",
       "  <tbody>\n",
       "    <tr>\n",
       "      <td>smart</td>\n",
       "      <td>422.0</td>\n",
       "      <td>190.313730</td>\n",
       "      <td>36219.315784</td>\n",
       "      <td>16531.0</td>\n",
       "      <td>5877.576978</td>\n",
       "      <td>3.454591e+07</td>\n",
       "      <td>28.0</td>\n",
       "      <td>28.227876</td>\n",
       "      <td>796.812958</td>\n",
       "      <td>797.0</td>\n",
       "      <td>708.095669</td>\n",
       "      <td>501399.477137</td>\n",
       "    </tr>\n",
       "    <tr>\n",
       "      <td>ultra</td>\n",
       "      <td>518.0</td>\n",
       "      <td>317.606098</td>\n",
       "      <td>100873.633397</td>\n",
       "      <td>19324.0</td>\n",
       "      <td>10096.317202</td>\n",
       "      <td>1.019356e+08</td>\n",
       "      <td>38.0</td>\n",
       "      <td>47.804457</td>\n",
       "      <td>2285.266143</td>\n",
       "      <td>1950.0</td>\n",
       "      <td>356.455650</td>\n",
       "      <td>127060.630690</td>\n",
       "    </tr>\n",
       "  </tbody>\n",
       "</table>\n",
       "</div>"
      ],
      "text/plain": [
       "       month_calls_duration                            month_mb_total  \\\n",
       "                     median         std            var         median   \n",
       "tariff                                                                  \n",
       "smart                 422.0  190.313730   36219.315784        16531.0   \n",
       "ultra                 518.0  317.606098  100873.633397        19324.0   \n",
       "\n",
       "                                   month_sms_total                          \\\n",
       "                 std           var          median        std          var   \n",
       "tariff                                                                       \n",
       "smart    5877.576978  3.454591e+07            28.0  28.227876   796.812958   \n",
       "ultra   10096.317202  1.019356e+08            38.0  47.804457  2285.266143   \n",
       "\n",
       "       total_paid                             \n",
       "           median         std            var  \n",
       "tariff                                        \n",
       "smart       797.0  708.095669  501399.477137  \n",
       "ultra      1950.0  356.455650  127060.630690  "
      ]
     },
     "execution_count": 42,
     "metadata": {},
     "output_type": "execute_result"
    }
   ],
   "source": [
    "# в сводной таблице расчитаем медианное значение, стандартное отклонение и дисперсию\n",
    "deviations = df.pivot_table(index=['tariff'], values=['month_calls_duration', 'month_mb_total', 'month_sms_total', 'total_paid'], \n",
    "                    aggfunc={'month_calls_duration': [np.median, np.var, np.std],\n",
    "                             'month_mb_total': [np.median, np.var, np.std], \n",
    "                             'month_sms_total': [np.median, np.var, np.std],\n",
    "                             'total_paid': [np.median, np.var, np.std]})\n",
    "deviations\n"
   ]
  },
  {
   "cell_type": "markdown",
   "metadata": {},
   "source": [
    "По тарифу \"Ультра\" минуты разговора, объем потраченного интернет-трафика и число сообщений имеет большие медианы, стандартное отклонение и дисперсию по сравнению с тарифом «Смарт»."
   ]
  },
  {
   "cell_type": "markdown",
   "metadata": {},
   "source": [
    "### Гистограммы"
   ]
  },
  {
   "cell_type": "markdown",
   "metadata": {},
   "source": [
    "Построим матрицу диаграмм рассеивания по тарифу `Smart`"
   ]
  },
  {
   "cell_type": "code",
   "execution_count": 43,
   "metadata": {},
   "outputs": [
    {
     "data": {
      "image/png": "[encoded data removed]",
      "text/plain": [
       "<Figure size 720x720 with 9 Axes>"
      ]
     },
     "metadata": {
      "needs_background": "light"
     },
     "output_type": "display_data"
    }
   ],
   "source": [
    "pd.plotting.scatter_matrix(df[df['tariff'] == 'smart']\n",
    "                           [['month_calls_duration', 'month_mb_total', 'month_sms_total']],\n",
    "                           alpha = 0.3, figsize = (10,10));"
   ]
  },
  {
   "cell_type": "markdown",
   "metadata": {},
   "source": [
    "Построим матрицу диаграмм рассеивания по тарифу `Ultra`"
   ]
  },
  {
   "cell_type": "code",
   "execution_count": 44,
   "metadata": {},
   "outputs": [
    {
     "data": {
      "image/png": "[encoded data removed]",
      "text/plain": [
       "<Figure size 720x720 with 9 Axes>"
      ]
     },
     "metadata": {
      "needs_background": "light"
     },
     "output_type": "display_data"
    }
   ],
   "source": [
    "pd.plotting.scatter_matrix(df[df['tariff'] == 'ultra']\n",
    "                           [['month_calls_duration', 'month_mb_total', 'month_sms_total']],\n",
    "                           alpha = 0.3, figsize = (10,10));"
   ]
  },
  {
   "cell_type": "markdown",
   "metadata": {},
   "source": [
    "### Вывод"
   ]
  },
  {
   "cell_type": "markdown",
   "metadata": {},
   "source": [
    "По гистограммам по звонкам и интернет трафику распределения нормальные.\n",
    "<br> По гистограмме сообщений распределение Пуассона.\n",
    "<br> Гистограммы подтверждают предыдущие наблюдения, о том, что дисперсия по тарифу \"Смарт\" меньше, чем по тарифу \"Ультра\" по всем рассматриваемым параметрам: \n",
    "- по длительности разговора;\n",
    "- по объему интернет-трафика;\n",
    "- числу сообщений.\n",
    "\n",
    "Это подтверждает тот факт, что по более дорогому тарифу, размах действий пользователей шире и свободнее по всем показателям."
   ]
  },
  {
   "cell_type": "markdown",
   "metadata": {},
   "source": [
    "## Проверка гипотез"
   ]
  },
  {
   "cell_type": "markdown",
   "metadata": {},
   "source": [
    "**Проверим следующие гипотезы:**\n",
    "- средняя выручка пользователей тарифов «Ультра» и «Смарт» различаются;\n",
    "- средняя выручка пользователей из Москвы отличается от выручки пользователей из других регионов."
   ]
  },
  {
   "cell_type": "markdown",
   "metadata": {},
   "source": [
    "**Сформулируем первую гипотезe:**\n",
    "\n",
    "<br> Гипотеза H1 формируется из задания, соответственно, нулевая гипотеза будет ей противоположна.\n",
    "\n",
    "<br> H0: средняя выручка пользователей тарифов «Ультра» и «Смарт» не различается\n",
    "<br> H1: средняя выручка пользователей тарифов «Ультра» и «Смарт» различается\n",
    "<br> alpha примем равную 5%"
   ]
  },
  {
   "cell_type": "markdown",
   "metadata": {},
   "source": [
    "### Проверка гипотезы о различиях средней выручки тарифов \"Смарт\" и \"Ультра\" "
   ]
  },
  {
   "cell_type": "code",
   "execution_count": 46,
   "metadata": {},
   "outputs": [
    {
     "name": "stdout",
     "output_type": "stream",
     "text": [
      "p-значение: 2.6680337030884488e-284\n",
      "Отвергаем нулевую гипотезу\n"
     ]
    }
   ],
   "source": [
    "# создадим две новые таблицы с выручкой по тарифам\n",
    "ultra = df.query('tariff == \"ultra\"')['total_paid']\n",
    "smart = df.query('tariff == \"smart\"')['total_paid']\n",
    "\n",
    "alpha = .05 # критический уровень статистической значимости\n",
    "# если p-value окажется меньше него - отвегнем гипотезу\n",
    "\n",
    "\n",
    "results = st.ttest_ind(ultra, smart)\n",
    "\n",
    "print('p-значение:', results.pvalue)\n",
    "\n",
    "if (results.pvalue < alpha):\n",
    "    print(\"Отвергаем нулевую гипотезу\")\n",
    "else:\n",
    "    print(\"Не получилось отвергнуть нулевую гипотезу\")"
   ]
  },
  {
   "cell_type": "markdown",
   "metadata": {},
   "source": [
    "Средние значения выручки по тарифам различаются почти в 2 раза (924 по тарифу \"Смарт\" против 1950 руб по тарифу \"Ультра\"). \n",
    "<br> Исходя из этого, можно утверждать, что доходы \"Мегалайна\" по тарифу \"Ультра\" отличаются по сравнению с доходами от тарифа \"Смарт\", а не равны."
   ]
  },
  {
   "cell_type": "markdown",
   "metadata": {},
   "source": [
    "### Проверка гипетозу об отличии средней выручки пользователей Москвы и регионов"
   ]
  },
  {
   "cell_type": "markdown",
   "metadata": {},
   "source": [
    "**Сформулируем вторую гипотезу:**\n",
    "\n",
    "<br> Гипотеза Н1 формируется из задания, соответственно, нулевая гипотеза будет ей противоположна.\n",
    "\n",
    "<br> H0: средняя выручка пользователей из Москвы не отличается от выручки пользователей из других регионов\n",
    "<br> H1: средняя выручка пользователей из Москвы отличается от выручки пользователей из других регионов\n",
    "<br> alpha примем равную 5%"
   ]
  },
  {
   "cell_type": "code",
   "execution_count": 47,
   "metadata": {},
   "outputs": [
    {
     "name": "stdout",
     "output_type": "stream",
     "text": [
      "p-значение: 0.24536086905691057\n",
      "Не получилось отвергнуть нулевую гипотезу\n"
     ]
    }
   ],
   "source": [
    "# создадим две таблицы, с клиентами Москвы и прочими\n",
    "\n",
    "moscow = df.query('city == \"Москва\"')['total_paid']\n",
    "others = df.query('city != \"Москва\"')['total_paid']\n",
    "\n",
    "alpha = .05 # критический уровень статистической значимости\n",
    "# если p-value окажется меньше него - отвегнем гипотезу\n",
    "\n",
    "results = st.ttest_ind(moscow, others)\n",
    "\n",
    "print('p-значение:', results.pvalue)\n",
    "\n",
    "if (results.pvalue < alpha):\n",
    "    print(\"Отвергаем нулевую гипотезу\")\n",
    "else:\n",
    "    print(\"Не получилось отвергнуть нулевую гипотезу\")"
   ]
  },
  {
   "cell_type": "markdown",
   "metadata": {},
   "source": [
    "Данный тест не позволил отвергнуть исходную гипотезу, т.к. с вероятностью примерно 24% доходы от пользователей из Москвы и из других регионов будут равными. Отвергаем альтернативную гипотезу H1."
   ]
  },
  {
   "cell_type": "code",
   "execution_count": 48,
   "metadata": {},
   "outputs": [
    {
     "data": {
      "text/html": [
       "<div>\n",
       "<style scoped>\n",
       "    .dataframe tbody tr th:only-of-type {\n",
       "        vertical-align: middle;\n",
       "    }\n",
       "\n",
       "    .dataframe tbody tr th {\n",
       "        vertical-align: top;\n",
       "    }\n",
       "\n",
       "    .dataframe thead th {\n",
       "        text-align: right;\n",
       "    }\n",
       "</style>\n",
       "<table border=\"1\" class=\"dataframe\">\n",
       "  <thead>\n",
       "    <tr style=\"text-align: right;\">\n",
       "      <th></th>\n",
       "      <th>total_paid</th>\n",
       "    </tr>\n",
       "    <tr>\n",
       "      <th>region</th>\n",
       "      <th></th>\n",
       "    </tr>\n",
       "  </thead>\n",
       "  <tbody>\n",
       "    <tr>\n",
       "      <td>Другой</td>\n",
       "      <td>1374.0</td>\n",
       "    </tr>\n",
       "    <tr>\n",
       "      <td>Москва</td>\n",
       "      <td>1597.0</td>\n",
       "    </tr>\n",
       "  </tbody>\n",
       "</table>\n",
       "</div>"
      ],
      "text/plain": [
       "        total_paid\n",
       "region            \n",
       "Другой      1374.0\n",
       "Москва      1597.0"
      ]
     },
     "execution_count": 48,
     "metadata": {},
     "output_type": "execute_result"
    }
   ],
   "source": [
    "def region(city):\n",
    "    if city == 'Москва': return 'Москва'\n",
    "    else: return 'Другой'\n",
    "    \n",
    "df['region'] = df['city'].apply(region)\n",
    "df.pivot_table(index='region', values='total_paid', aggfunc='median')"
   ]
  },
  {
   "cell_type": "code",
   "execution_count": 49,
   "metadata": {},
   "outputs": [
    {
     "data": {
      "text/html": [
       "<div>\n",
       "<style scoped>\n",
       "    .dataframe tbody tr th:only-of-type {\n",
       "        vertical-align: middle;\n",
       "    }\n",
       "\n",
       "    .dataframe tbody tr th {\n",
       "        vertical-align: top;\n",
       "    }\n",
       "\n",
       "    .dataframe thead th {\n",
       "        text-align: right;\n",
       "    }\n",
       "</style>\n",
       "<table border=\"1\" class=\"dataframe\">\n",
       "  <thead>\n",
       "    <tr style=\"text-align: right;\">\n",
       "      <th></th>\n",
       "      <th>user_id</th>\n",
       "      <th>month_calls_duration</th>\n",
       "      <th>month_calls_total</th>\n",
       "      <th>month_sms_total</th>\n",
       "      <th>month_mb_total</th>\n",
       "      <th>messages_included</th>\n",
       "      <th>mb_per_month_included</th>\n",
       "      <th>minutes_included</th>\n",
       "      <th>rub_monthly_fee</th>\n",
       "      <th>rub_per_gb</th>\n",
       "      <th>rub_per_message</th>\n",
       "      <th>rub_per_minute</th>\n",
       "      <th>costs_above_tariff</th>\n",
       "      <th>total_paid</th>\n",
       "    </tr>\n",
       "  </thead>\n",
       "  <tbody>\n",
       "    <tr>\n",
       "      <td>count</td>\n",
       "      <td>3214.000000</td>\n",
       "      <td>3214.000000</td>\n",
       "      <td>3214.000000</td>\n",
       "      <td>3214.000000</td>\n",
       "      <td>3214.000000</td>\n",
       "      <td>3214.000000</td>\n",
       "      <td>3214.000000</td>\n",
       "      <td>3214.000000</td>\n",
       "      <td>3214.000000</td>\n",
       "      <td>3214.000000</td>\n",
       "      <td>3214.000000</td>\n",
       "      <td>3214.000000</td>\n",
       "      <td>3214.000000</td>\n",
       "      <td>3214.000000</td>\n",
       "    </tr>\n",
       "    <tr>\n",
       "      <td>mean</td>\n",
       "      <td>1251.590230</td>\n",
       "      <td>451.244866</td>\n",
       "      <td>63.038892</td>\n",
       "      <td>38.281269</td>\n",
       "      <td>17227.585252</td>\n",
       "      <td>341.148102</td>\n",
       "      <td>20067.405103</td>\n",
       "      <td>1266.179216</td>\n",
       "      <td>979.060361</td>\n",
       "      <td>184.676416</td>\n",
       "      <td>2.387057</td>\n",
       "      <td>2.387057</td>\n",
       "      <td>421.455818</td>\n",
       "      <td>1400.516179</td>\n",
       "    </tr>\n",
       "    <tr>\n",
       "      <td>std</td>\n",
       "      <td>144.659172</td>\n",
       "      <td>241.909978</td>\n",
       "      <td>33.236368</td>\n",
       "      <td>36.148326</td>\n",
       "      <td>7578.261501</td>\n",
       "      <td>438.044726</td>\n",
       "      <td>7082.491569</td>\n",
       "      <td>1152.749279</td>\n",
       "      <td>645.539596</td>\n",
       "      <td>23.054986</td>\n",
       "      <td>0.922199</td>\n",
       "      <td>0.922199</td>\n",
       "      <td>655.221442</td>\n",
       "      <td>761.052426</td>\n",
       "    </tr>\n",
       "    <tr>\n",
       "      <td>min</td>\n",
       "      <td>1000.000000</td>\n",
       "      <td>0.000000</td>\n",
       "      <td>0.000000</td>\n",
       "      <td>0.000000</td>\n",
       "      <td>0.000000</td>\n",
       "      <td>50.000000</td>\n",
       "      <td>15360.000000</td>\n",
       "      <td>500.000000</td>\n",
       "      <td>550.000000</td>\n",
       "      <td>150.000000</td>\n",
       "      <td>1.000000</td>\n",
       "      <td>1.000000</td>\n",
       "      <td>0.000000</td>\n",
       "      <td>550.000000</td>\n",
       "    </tr>\n",
       "    <tr>\n",
       "      <td>25%</td>\n",
       "      <td>1125.000000</td>\n",
       "      <td>282.000000</td>\n",
       "      <td>40.000000</td>\n",
       "      <td>9.000000</td>\n",
       "      <td>12505.250000</td>\n",
       "      <td>50.000000</td>\n",
       "      <td>15360.000000</td>\n",
       "      <td>500.000000</td>\n",
       "      <td>550.000000</td>\n",
       "      <td>150.000000</td>\n",
       "      <td>1.000000</td>\n",
       "      <td>1.000000</td>\n",
       "      <td>0.000000</td>\n",
       "      <td>582.250000</td>\n",
       "    </tr>\n",
       "    <tr>\n",
       "      <td>50%</td>\n",
       "      <td>1253.000000</td>\n",
       "      <td>443.000000</td>\n",
       "      <td>62.000000</td>\n",
       "      <td>30.000000</td>\n",
       "      <td>16966.500000</td>\n",
       "      <td>50.000000</td>\n",
       "      <td>15360.000000</td>\n",
       "      <td>500.000000</td>\n",
       "      <td>550.000000</td>\n",
       "      <td>200.000000</td>\n",
       "      <td>3.000000</td>\n",
       "      <td>3.000000</td>\n",
       "      <td>15.000000</td>\n",
       "      <td>1396.000000</td>\n",
       "    </tr>\n",
       "    <tr>\n",
       "      <td>75%</td>\n",
       "      <td>1378.750000</td>\n",
       "      <td>589.000000</td>\n",
       "      <td>82.000000</td>\n",
       "      <td>57.000000</td>\n",
       "      <td>21450.000000</td>\n",
       "      <td>1000.000000</td>\n",
       "      <td>30720.000000</td>\n",
       "      <td>3000.000000</td>\n",
       "      <td>1950.000000</td>\n",
       "      <td>200.000000</td>\n",
       "      <td>3.000000</td>\n",
       "      <td>3.000000</td>\n",
       "      <td>698.000000</td>\n",
       "      <td>1950.000000</td>\n",
       "    </tr>\n",
       "    <tr>\n",
       "      <td>max</td>\n",
       "      <td>1499.000000</td>\n",
       "      <td>1673.000000</td>\n",
       "      <td>244.000000</td>\n",
       "      <td>224.000000</td>\n",
       "      <td>49789.000000</td>\n",
       "      <td>1000.000000</td>\n",
       "      <td>30720.000000</td>\n",
       "      <td>3000.000000</td>\n",
       "      <td>1950.000000</td>\n",
       "      <td>200.000000</td>\n",
       "      <td>3.000000</td>\n",
       "      <td>3.000000</td>\n",
       "      <td>4641.000000</td>\n",
       "      <td>5191.000000</td>\n",
       "    </tr>\n",
       "  </tbody>\n",
       "</table>\n",
       "</div>"
      ],
      "text/plain": [
       "           user_id  month_calls_duration  month_calls_total  month_sms_total  \\\n",
       "count  3214.000000           3214.000000        3214.000000      3214.000000   \n",
       "mean   1251.590230            451.244866          63.038892        38.281269   \n",
       "std     144.659172            241.909978          33.236368        36.148326   \n",
       "min    1000.000000              0.000000           0.000000         0.000000   \n",
       "25%    1125.000000            282.000000          40.000000         9.000000   \n",
       "50%    1253.000000            443.000000          62.000000        30.000000   \n",
       "75%    1378.750000            589.000000          82.000000        57.000000   \n",
       "max    1499.000000           1673.000000         244.000000       224.000000   \n",
       "\n",
       "       month_mb_total  messages_included  mb_per_month_included  \\\n",
       "count     3214.000000        3214.000000            3214.000000   \n",
       "mean     17227.585252         341.148102           20067.405103   \n",
       "std       7578.261501         438.044726            7082.491569   \n",
       "min          0.000000          50.000000           15360.000000   \n",
       "25%      12505.250000          50.000000           15360.000000   \n",
       "50%      16966.500000          50.000000           15360.000000   \n",
       "75%      21450.000000        1000.000000           30720.000000   \n",
       "max      49789.000000        1000.000000           30720.000000   \n",
       "\n",
       "       minutes_included  rub_monthly_fee   rub_per_gb  rub_per_message  \\\n",
       "count       3214.000000      3214.000000  3214.000000      3214.000000   \n",
       "mean        1266.179216       979.060361   184.676416         2.387057   \n",
       "std         1152.749279       645.539596    23.054986         0.922199   \n",
       "min          500.000000       550.000000   150.000000         1.000000   \n",
       "25%          500.000000       550.000000   150.000000         1.000000   \n",
       "50%          500.000000       550.000000   200.000000         3.000000   \n",
       "75%         3000.000000      1950.000000   200.000000         3.000000   \n",
       "max         3000.000000      1950.000000   200.000000         3.000000   \n",
       "\n",
       "       rub_per_minute  costs_above_tariff   total_paid  \n",
       "count     3214.000000         3214.000000  3214.000000  \n",
       "mean         2.387057          421.455818  1400.516179  \n",
       "std          0.922199          655.221442   761.052426  \n",
       "min          1.000000            0.000000   550.000000  \n",
       "25%          1.000000            0.000000   582.250000  \n",
       "50%          3.000000           15.000000  1396.000000  \n",
       "75%          3.000000          698.000000  1950.000000  \n",
       "max          3.000000         4641.000000  5191.000000  "
      ]
     },
     "execution_count": 49,
     "metadata": {},
     "output_type": "execute_result"
    }
   ],
   "source": [
    "df.describe()"
   ]
  },
  {
   "cell_type": "code",
   "execution_count": 50,
   "metadata": {
    "scrolled": true
   },
   "outputs": [
    {
     "data": {
      "text/html": [
       "<div>\n",
       "<style scoped>\n",
       "    .dataframe tbody tr th:only-of-type {\n",
       "        vertical-align: middle;\n",
       "    }\n",
       "\n",
       "    .dataframe tbody tr th {\n",
       "        vertical-align: top;\n",
       "    }\n",
       "\n",
       "    .dataframe thead th {\n",
       "        text-align: right;\n",
       "    }\n",
       "</style>\n",
       "<table border=\"1\" class=\"dataframe\">\n",
       "  <thead>\n",
       "    <tr style=\"text-align: right;\">\n",
       "      <th></th>\n",
       "      <th>total_paid</th>\n",
       "    </tr>\n",
       "    <tr>\n",
       "      <th>tariff</th>\n",
       "      <th></th>\n",
       "    </tr>\n",
       "  </thead>\n",
       "  <tbody>\n",
       "    <tr>\n",
       "      <td>smart</td>\n",
       "      <td>797.0</td>\n",
       "    </tr>\n",
       "    <tr>\n",
       "      <td>ultra</td>\n",
       "      <td>1950.0</td>\n",
       "    </tr>\n",
       "  </tbody>\n",
       "</table>\n",
       "</div>"
      ],
      "text/plain": [
       "        total_paid\n",
       "tariff            \n",
       "smart        797.0\n",
       "ultra       1950.0"
      ]
     },
     "execution_count": 50,
     "metadata": {},
     "output_type": "execute_result"
    }
   ],
   "source": [
    "df.pivot_table(index='tariff', values='total_paid', aggfunc='median')"
   ]
  },
  {
   "cell_type": "markdown",
   "metadata": {},
   "source": [
    "### Вывод"
   ]
  },
  {
   "cell_type": "markdown",
   "metadata": {},
   "source": [
    "1. По результатам проведенного анализа можно сделать вывод, что доходы **\"Мегалайн\"** от тарифа `Ультра` больше, чем от тарифа `Смарт` в 2,4 раза (соответственнно, он более выгодный для компании).\n",
    "\n",
    "<br> Особенности использования тарифов пользователями:\n",
    "\n",
    "- По тарифу `Смарт` не хватает включенных базовых услуг в рамках тарифного пакета: кроме абонентской платы пользователи в среднем доплачивают еще к абонентской плате 274 рублей в месяц.\n",
    "- По тарифу `Ультра`, наоборот, пользователям всего хватает и они не превышают лимиты свыше включенных в абонентскую плату.\n",
    "\n",
    "2. Средние доходы от пользователей в Москве не отличаются от доходов в других регионах. Разница здесь может составлять 16%  по средней выручке(незначительна в сравнении с первой гипотезой, где разница выручки отличается в 2 раза): \n",
    "- Москва - 1597 руб, \n",
    "- другой регион - 1374 руб.\n"
   ]
  }
 ],
 "metadata": {
  "ExecuteTimeLog": [
   {
    "duration": 4,
    "start_time": "2022-01-16T16:02:22.152Z"
   },
   {
    "duration": 3,
    "start_time": "2022-01-16T16:02:25.813Z"
   },
   {
    "duration": 950,
    "start_time": "2022-01-16T16:17:28.480Z"
   },
   {
    "duration": 546,
    "start_time": "2022-01-16T16:22:58.384Z"
   },
   {
    "duration": 4,
    "start_time": "2022-01-16T16:23:28.564Z"
   },
   {
    "duration": 69,
    "start_time": "2022-01-16T16:23:44.793Z"
   },
   {
    "duration": 100,
    "start_time": "2022-01-16T16:24:46.949Z"
   },
   {
    "duration": 760,
    "start_time": "2022-01-16T16:25:10.562Z"
   },
   {
    "duration": 28,
    "start_time": "2022-01-16T16:27:37.371Z"
   },
   {
    "duration": 435,
    "start_time": "2022-01-16T16:28:45.421Z"
   },
   {
    "duration": 40,
    "start_time": "2022-01-16T16:28:55.333Z"
   },
   {
    "duration": 15,
    "start_time": "2022-01-16T16:29:09.904Z"
   },
   {
    "duration": 13,
    "start_time": "2022-01-16T16:36:54.163Z"
   },
   {
    "duration": 22,
    "start_time": "2022-01-16T16:37:08.641Z"
   },
   {
    "duration": 38,
    "start_time": "2022-01-16T16:37:24.639Z"
   },
   {
    "duration": 14,
    "start_time": "2022-01-16T16:44:46.997Z"
   },
   {
    "duration": 21,
    "start_time": "2022-01-16T16:44:50.276Z"
   },
   {
    "duration": 20,
    "start_time": "2022-01-16T16:44:53.417Z"
   },
   {
    "duration": 11,
    "start_time": "2022-01-16T16:46:47.467Z"
   },
   {
    "duration": 19,
    "start_time": "2022-01-16T16:46:48.724Z"
   },
   {
    "duration": 24,
    "start_time": "2022-01-16T16:46:49.741Z"
   },
   {
    "duration": 11,
    "start_time": "2022-01-16T16:47:25.075Z"
   },
   {
    "duration": 10,
    "start_time": "2022-01-16T16:47:27.582Z"
   },
   {
    "duration": 41,
    "start_time": "2022-01-16T16:47:30.138Z"
   },
   {
    "duration": 16,
    "start_time": "2022-01-16T16:49:02.134Z"
   },
   {
    "duration": 9,
    "start_time": "2022-01-16T16:49:03.155Z"
   },
   {
    "duration": 29,
    "start_time": "2022-01-16T16:49:03.961Z"
   },
   {
    "duration": 88,
    "start_time": "2022-01-16T17:17:11.127Z"
   },
   {
    "duration": 10,
    "start_time": "2022-01-16T17:17:13.209Z"
   },
   {
    "duration": 21,
    "start_time": "2022-01-16T17:17:22.687Z"
   },
   {
    "duration": 550,
    "start_time": "2022-01-16T17:20:14.341Z"
   },
   {
    "duration": 526,
    "start_time": "2022-01-16T17:20:14.893Z"
   },
   {
    "duration": 12,
    "start_time": "2022-01-16T17:20:15.422Z"
   },
   {
    "duration": 29,
    "start_time": "2022-01-16T17:20:15.438Z"
   },
   {
    "duration": 74,
    "start_time": "2022-01-16T17:20:15.470Z"
   },
   {
    "duration": 12,
    "start_time": "2022-01-16T17:20:15.547Z"
   },
   {
    "duration": 60,
    "start_time": "2022-01-16T17:20:15.562Z"
   },
   {
    "duration": 37,
    "start_time": "2022-01-16T17:20:15.625Z"
   },
   {
    "duration": 11,
    "start_time": "2022-01-16T17:20:15.666Z"
   },
   {
    "duration": 54,
    "start_time": "2022-01-16T17:20:15.679Z"
   },
   {
    "duration": 19,
    "start_time": "2022-01-16T17:20:15.736Z"
   },
   {
    "duration": 11,
    "start_time": "2022-01-16T17:20:15.758Z"
   },
   {
    "duration": 51,
    "start_time": "2022-01-16T17:20:15.773Z"
   },
   {
    "duration": 44,
    "start_time": "2022-01-16T17:20:15.827Z"
   },
   {
    "duration": 48,
    "start_time": "2022-01-16T17:20:15.873Z"
   },
   {
    "duration": 10,
    "start_time": "2022-01-16T17:20:15.923Z"
   },
   {
    "duration": 24,
    "start_time": "2022-01-16T17:20:15.935Z"
   },
   {
    "duration": 131,
    "start_time": "2022-01-16T17:20:15.962Z"
   },
   {
    "duration": 1398,
    "start_time": "2022-01-16T17:20:27.680Z"
   },
   {
    "duration": 511,
    "start_time": "2022-01-16T17:20:29.081Z"
   },
   {
    "duration": 20,
    "start_time": "2022-01-16T17:20:29.596Z"
   },
   {
    "duration": 32,
    "start_time": "2022-01-16T17:20:29.620Z"
   },
   {
    "duration": 74,
    "start_time": "2022-01-16T17:20:29.655Z"
   },
   {
    "duration": 12,
    "start_time": "2022-01-16T17:20:29.731Z"
   },
   {
    "duration": 23,
    "start_time": "2022-01-16T17:20:29.745Z"
   },
   {
    "duration": 74,
    "start_time": "2022-01-16T17:20:29.771Z"
   },
   {
    "duration": 10,
    "start_time": "2022-01-16T17:20:29.851Z"
   },
   {
    "duration": 60,
    "start_time": "2022-01-16T17:20:29.864Z"
   },
   {
    "duration": 19,
    "start_time": "2022-01-16T17:20:29.926Z"
   },
   {
    "duration": 12,
    "start_time": "2022-01-16T17:20:29.948Z"
   },
   {
    "duration": 19,
    "start_time": "2022-01-16T17:20:29.963Z"
   },
   {
    "duration": 74,
    "start_time": "2022-01-16T17:20:29.984Z"
   },
   {
    "duration": 17,
    "start_time": "2022-01-16T17:20:30.061Z"
   },
   {
    "duration": 49,
    "start_time": "2022-01-16T17:20:30.081Z"
   },
   {
    "duration": 36,
    "start_time": "2022-01-16T17:20:30.133Z"
   },
   {
    "duration": 128,
    "start_time": "2022-01-16T17:20:30.172Z"
   },
   {
    "duration": 6521,
    "start_time": "2022-01-16T17:20:30.317Z"
   },
   {
    "duration": 6371,
    "start_time": "2022-01-16T17:21:18.113Z"
   },
   {
    "duration": 7,
    "start_time": "2022-01-16T17:22:04.013Z"
   },
   {
    "duration": 35,
    "start_time": "2022-01-16T17:22:29.086Z"
   },
   {
    "duration": 17,
    "start_time": "2022-01-16T17:22:31.592Z"
   },
   {
    "duration": 10,
    "start_time": "2022-01-16T17:22:43.812Z"
   },
   {
    "duration": 40,
    "start_time": "2022-01-16T17:25:37.577Z"
   },
   {
    "duration": 12,
    "start_time": "2022-01-16T17:25:39.768Z"
   },
   {
    "duration": 14,
    "start_time": "2022-01-16T17:25:55.079Z"
   },
   {
    "duration": 15,
    "start_time": "2022-01-16T17:25:56.658Z"
   },
   {
    "duration": 11,
    "start_time": "2022-01-16T17:26:40.157Z"
   },
   {
    "duration": 12,
    "start_time": "2022-01-16T17:26:41.933Z"
   },
   {
    "duration": 36,
    "start_time": "2022-01-16T17:30:10.030Z"
   },
   {
    "duration": 47,
    "start_time": "2022-01-16T17:30:10.974Z"
   },
   {
    "duration": 15,
    "start_time": "2022-01-16T17:30:12.163Z"
   },
   {
    "duration": 1528,
    "start_time": "2022-01-16T17:30:19.932Z"
   },
   {
    "duration": 529,
    "start_time": "2022-01-16T17:30:21.463Z"
   },
   {
    "duration": 17,
    "start_time": "2022-01-16T17:30:21.995Z"
   },
   {
    "duration": 32,
    "start_time": "2022-01-16T17:30:22.016Z"
   },
   {
    "duration": 70,
    "start_time": "2022-01-16T17:30:22.051Z"
   },
   {
    "duration": 14,
    "start_time": "2022-01-16T17:30:22.124Z"
   },
   {
    "duration": 28,
    "start_time": "2022-01-16T17:30:22.141Z"
   },
   {
    "duration": 78,
    "start_time": "2022-01-16T17:30:22.173Z"
   },
   {
    "duration": 11,
    "start_time": "2022-01-16T17:30:22.255Z"
   },
   {
    "duration": 61,
    "start_time": "2022-01-16T17:30:22.269Z"
   },
   {
    "duration": 21,
    "start_time": "2022-01-16T17:30:22.333Z"
   },
   {
    "duration": 59,
    "start_time": "2022-01-16T17:30:22.358Z"
   },
   {
    "duration": 12,
    "start_time": "2022-01-16T17:30:22.421Z"
   },
   {
    "duration": 91,
    "start_time": "2022-01-16T17:30:22.436Z"
   },
   {
    "duration": 14,
    "start_time": "2022-01-16T17:30:22.530Z"
   },
   {
    "duration": 10,
    "start_time": "2022-01-16T17:30:22.546Z"
   },
   {
    "duration": 72,
    "start_time": "2022-01-16T17:30:22.559Z"
   },
   {
    "duration": 151,
    "start_time": "2022-01-16T17:30:22.635Z"
   },
   {
    "duration": 91,
    "start_time": "2022-01-16T17:30:22.789Z"
   },
   {
    "duration": 13,
    "start_time": "2022-01-16T17:30:22.883Z"
   },
   {
    "duration": 13,
    "start_time": "2022-01-16T17:35:48.986Z"
   },
   {
    "duration": 15,
    "start_time": "2022-01-16T17:35:50.258Z"
   },
   {
    "duration": 12,
    "start_time": "2022-01-16T17:35:56.355Z"
   },
   {
    "duration": 11,
    "start_time": "2022-01-16T17:35:57.254Z"
   },
   {
    "duration": 12,
    "start_time": "2022-01-16T17:36:14.713Z"
   },
   {
    "duration": 12,
    "start_time": "2022-01-16T17:36:15.998Z"
   },
   {
    "duration": 18,
    "start_time": "2022-01-16T17:36:21.944Z"
   },
   {
    "duration": 13,
    "start_time": "2022-01-16T17:36:23.502Z"
   },
   {
    "duration": 10,
    "start_time": "2022-01-16T17:36:41.748Z"
   },
   {
    "duration": 12,
    "start_time": "2022-01-16T17:36:42.562Z"
   },
   {
    "duration": 1377,
    "start_time": "2022-01-16T17:36:52.905Z"
   },
   {
    "duration": 533,
    "start_time": "2022-01-16T17:36:54.285Z"
   },
   {
    "duration": 16,
    "start_time": "2022-01-16T17:36:54.821Z"
   },
   {
    "duration": 34,
    "start_time": "2022-01-16T17:36:54.840Z"
   },
   {
    "duration": 67,
    "start_time": "2022-01-16T17:36:54.876Z"
   },
   {
    "duration": 13,
    "start_time": "2022-01-16T17:36:54.946Z"
   },
   {
    "duration": 62,
    "start_time": "2022-01-16T17:36:54.961Z"
   },
   {
    "duration": 39,
    "start_time": "2022-01-16T17:36:55.026Z"
   },
   {
    "duration": 11,
    "start_time": "2022-01-16T17:36:55.069Z"
   },
   {
    "duration": 53,
    "start_time": "2022-01-16T17:36:55.083Z"
   },
   {
    "duration": 20,
    "start_time": "2022-01-16T17:36:55.139Z"
   },
   {
    "duration": 56,
    "start_time": "2022-01-16T17:36:55.162Z"
   },
   {
    "duration": 12,
    "start_time": "2022-01-16T17:36:55.221Z"
   },
   {
    "duration": 83,
    "start_time": "2022-01-16T17:36:55.236Z"
   },
   {
    "duration": 16,
    "start_time": "2022-01-16T17:36:55.321Z"
   },
   {
    "duration": 17,
    "start_time": "2022-01-16T17:36:55.340Z"
   },
   {
    "duration": 59,
    "start_time": "2022-01-16T17:36:55.360Z"
   },
   {
    "duration": 117,
    "start_time": "2022-01-16T17:36:55.422Z"
   },
   {
    "duration": 82,
    "start_time": "2022-01-16T17:36:55.541Z"
   },
   {
    "duration": 11,
    "start_time": "2022-01-16T17:36:55.626Z"
   },
   {
    "duration": 86,
    "start_time": "2022-01-16T17:38:48.136Z"
   },
   {
    "duration": 85,
    "start_time": "2022-01-16T17:38:55.952Z"
   },
   {
    "duration": 382,
    "start_time": "2022-01-16T17:40:08.076Z"
   },
   {
    "duration": 15,
    "start_time": "2022-01-16T17:41:36.722Z"
   },
   {
    "duration": 12,
    "start_time": "2022-01-16T17:41:44.205Z"
   },
   {
    "duration": 15,
    "start_time": "2022-01-16T17:42:02.771Z"
   },
   {
    "duration": 12,
    "start_time": "2022-01-16T17:42:03.997Z"
   },
   {
    "duration": 1635,
    "start_time": "2022-01-16T17:42:25.246Z"
   },
   {
    "duration": 736,
    "start_time": "2022-01-16T17:42:26.885Z"
   },
   {
    "duration": 20,
    "start_time": "2022-01-16T17:42:27.624Z"
   },
   {
    "duration": 29,
    "start_time": "2022-01-16T17:42:27.647Z"
   },
   {
    "duration": 78,
    "start_time": "2022-01-16T17:42:27.680Z"
   },
   {
    "duration": 14,
    "start_time": "2022-01-16T17:42:27.761Z"
   },
   {
    "duration": 62,
    "start_time": "2022-01-16T17:42:27.778Z"
   },
   {
    "duration": 44,
    "start_time": "2022-01-16T17:42:27.843Z"
   },
   {
    "duration": 35,
    "start_time": "2022-01-16T17:42:27.891Z"
   },
   {
    "duration": 21,
    "start_time": "2022-01-16T17:42:27.929Z"
   },
   {
    "duration": 19,
    "start_time": "2022-01-16T17:42:27.952Z"
   },
   {
    "duration": 12,
    "start_time": "2022-01-16T17:42:28.018Z"
   },
   {
    "duration": 16,
    "start_time": "2022-01-16T17:42:28.032Z"
   },
   {
    "duration": 101,
    "start_time": "2022-01-16T17:42:28.050Z"
   },
   {
    "duration": 74,
    "start_time": "2022-01-16T17:42:28.154Z"
   },
   {
    "duration": 14,
    "start_time": "2022-01-16T17:42:28.231Z"
   },
   {
    "duration": 89,
    "start_time": "2022-01-16T17:42:28.248Z"
   },
   {
    "duration": 302,
    "start_time": "2022-01-16T17:42:28.340Z"
   },
   {
    "duration": 181,
    "start_time": "2022-01-16T17:42:28.645Z"
   },
   {
    "duration": 12,
    "start_time": "2022-01-16T17:42:28.828Z"
   },
   {
    "duration": 427,
    "start_time": "2022-01-16T17:44:02.280Z"
   },
   {
    "duration": 1444,
    "start_time": "2022-01-16T17:44:17.993Z"
   },
   {
    "duration": 680,
    "start_time": "2022-01-16T17:44:19.440Z"
   },
   {
    "duration": 16,
    "start_time": "2022-01-16T17:44:20.123Z"
   },
   {
    "duration": 29,
    "start_time": "2022-01-16T17:44:20.142Z"
   },
   {
    "duration": 74,
    "start_time": "2022-01-16T17:44:20.174Z"
   },
   {
    "duration": 12,
    "start_time": "2022-01-16T17:44:20.250Z"
   },
   {
    "duration": 64,
    "start_time": "2022-01-16T17:44:20.264Z"
   },
   {
    "duration": 39,
    "start_time": "2022-01-16T17:44:20.331Z"
   },
   {
    "duration": 10,
    "start_time": "2022-01-16T17:44:20.373Z"
   },
   {
    "duration": 26,
    "start_time": "2022-01-16T17:44:20.418Z"
   },
   {
    "duration": 23,
    "start_time": "2022-01-16T17:44:20.447Z"
   },
   {
    "duration": 55,
    "start_time": "2022-01-16T17:44:20.473Z"
   },
   {
    "duration": 9,
    "start_time": "2022-01-16T17:44:20.531Z"
   },
   {
    "duration": 80,
    "start_time": "2022-01-16T17:44:20.542Z"
   },
   {
    "duration": 15,
    "start_time": "2022-01-16T17:44:20.625Z"
   },
   {
    "duration": 13,
    "start_time": "2022-01-16T17:44:20.642Z"
   },
   {
    "duration": 60,
    "start_time": "2022-01-16T17:44:20.658Z"
   },
   {
    "duration": 115,
    "start_time": "2022-01-16T17:44:20.721Z"
   },
   {
    "duration": 512,
    "start_time": "2022-01-16T17:44:20.838Z"
   },
   {
    "duration": 57,
    "start_time": "2022-01-16T17:44:21.296Z"
   },
   {
    "duration": 260,
    "start_time": "2022-01-16T17:44:33.933Z"
   },
   {
    "duration": 93,
    "start_time": "2022-01-16T17:45:03.558Z"
   },
   {
    "duration": 47,
    "start_time": "2022-01-16T17:45:37.609Z"
   },
   {
    "duration": 17,
    "start_time": "2022-01-16T17:45:39.610Z"
   },
   {
    "duration": 339,
    "start_time": "2022-01-16T17:46:15.444Z"
   },
   {
    "duration": 19,
    "start_time": "2022-01-16T17:46:28.418Z"
   },
   {
    "duration": 16,
    "start_time": "2022-01-16T17:46:31.055Z"
   },
   {
    "duration": 324,
    "start_time": "2022-01-16T17:46:45.742Z"
   },
   {
    "duration": 445,
    "start_time": "2022-01-16T17:46:58.727Z"
   },
   {
    "duration": 13,
    "start_time": "2022-01-16T17:47:12.665Z"
   },
   {
    "duration": 13,
    "start_time": "2022-01-16T17:47:14.996Z"
   },
   {
    "duration": 1379,
    "start_time": "2022-01-16T17:47:26.996Z"
   },
   {
    "duration": 546,
    "start_time": "2022-01-16T17:47:28.378Z"
   },
   {
    "duration": 19,
    "start_time": "2022-01-16T17:47:28.927Z"
   },
   {
    "duration": 32,
    "start_time": "2022-01-16T17:47:28.950Z"
   },
   {
    "duration": 73,
    "start_time": "2022-01-16T17:47:28.985Z"
   },
   {
    "duration": 15,
    "start_time": "2022-01-16T17:47:29.061Z"
   },
   {
    "duration": 27,
    "start_time": "2022-01-16T17:47:29.118Z"
   },
   {
    "duration": 79,
    "start_time": "2022-01-16T17:47:29.148Z"
   },
   {
    "duration": 11,
    "start_time": "2022-01-16T17:47:29.233Z"
   },
   {
    "duration": 26,
    "start_time": "2022-01-16T17:47:29.247Z"
   },
   {
    "duration": 55,
    "start_time": "2022-01-16T17:47:29.276Z"
   },
   {
    "duration": 12,
    "start_time": "2022-01-16T17:47:29.334Z"
   },
   {
    "duration": 11,
    "start_time": "2022-01-16T17:47:29.348Z"
   },
   {
    "duration": 93,
    "start_time": "2022-01-16T17:47:29.361Z"
   },
   {
    "duration": 14,
    "start_time": "2022-01-16T17:47:29.456Z"
   },
   {
    "duration": 46,
    "start_time": "2022-01-16T17:47:29.473Z"
   },
   {
    "duration": 28,
    "start_time": "2022-01-16T17:47:29.521Z"
   },
   {
    "duration": 180,
    "start_time": "2022-01-16T17:47:29.552Z"
   },
   {
    "duration": 163,
    "start_time": "2022-01-16T17:47:29.735Z"
   },
   {
    "duration": 20,
    "start_time": "2022-01-16T17:47:29.901Z"
   },
   {
    "duration": 1687,
    "start_time": "2022-01-16T17:49:15.162Z"
   },
   {
    "duration": 722,
    "start_time": "2022-01-16T17:49:16.852Z"
   },
   {
    "duration": 16,
    "start_time": "2022-01-16T17:49:17.576Z"
   },
   {
    "duration": 28,
    "start_time": "2022-01-16T17:49:17.595Z"
   },
   {
    "duration": 41,
    "start_time": "2022-01-16T17:49:17.625Z"
   },
   {
    "duration": 11,
    "start_time": "2022-01-16T17:49:17.669Z"
   },
   {
    "duration": 50,
    "start_time": "2022-01-16T17:49:17.683Z"
   },
   {
    "duration": 38,
    "start_time": "2022-01-16T17:49:17.736Z"
   },
   {
    "duration": 42,
    "start_time": "2022-01-16T17:49:17.778Z"
   },
   {
    "duration": 21,
    "start_time": "2022-01-16T17:49:17.823Z"
   },
   {
    "duration": 19,
    "start_time": "2022-01-16T17:49:17.846Z"
   },
   {
    "duration": 52,
    "start_time": "2022-01-16T17:49:17.867Z"
   },
   {
    "duration": 10,
    "start_time": "2022-01-16T17:49:17.921Z"
   },
   {
    "duration": 42,
    "start_time": "2022-01-16T17:49:17.934Z"
   },
   {
    "duration": 52,
    "start_time": "2022-01-16T17:49:17.978Z"
   },
   {
    "duration": 13,
    "start_time": "2022-01-16T17:49:18.032Z"
   },
   {
    "duration": 28,
    "start_time": "2022-01-16T17:49:18.048Z"
   },
   {
    "duration": 196,
    "start_time": "2022-01-16T17:49:18.079Z"
   },
   {
    "duration": 159,
    "start_time": "2022-01-16T17:49:18.278Z"
   },
   {
    "duration": 15,
    "start_time": "2022-01-16T17:49:18.440Z"
   },
   {
    "duration": 100,
    "start_time": "2022-01-16T18:30:00.930Z"
   },
   {
    "duration": 492,
    "start_time": "2022-01-16T18:38:57.771Z"
   },
   {
    "duration": 377,
    "start_time": "2022-01-16T18:39:35.253Z"
   },
   {
    "duration": 424,
    "start_time": "2022-01-16T18:39:52.008Z"
   },
   {
    "duration": 41,
    "start_time": "2022-01-16T18:42:53.685Z"
   },
   {
    "duration": 42,
    "start_time": "2022-01-16T18:43:06.132Z"
   },
   {
    "duration": 52,
    "start_time": "2022-01-16T18:43:29.026Z"
   },
   {
    "duration": 38,
    "start_time": "2022-01-16T18:44:02.341Z"
   },
   {
    "duration": 42,
    "start_time": "2022-01-16T18:44:19.773Z"
   },
   {
    "duration": 40,
    "start_time": "2022-01-16T18:44:39.171Z"
   },
   {
    "duration": 44,
    "start_time": "2022-01-16T18:45:06.484Z"
   },
   {
    "duration": 58,
    "start_time": "2022-01-16T18:45:24.039Z"
   },
   {
    "duration": 268,
    "start_time": "2022-01-16T18:56:18.832Z"
   },
   {
    "duration": 66,
    "start_time": "2022-01-16T18:56:34.950Z"
   },
   {
    "duration": 55,
    "start_time": "2022-01-16T18:56:45.422Z"
   },
   {
    "duration": 57,
    "start_time": "2022-01-16T18:57:34.615Z"
   },
   {
    "duration": 57,
    "start_time": "2022-01-16T18:57:46.721Z"
   },
   {
    "duration": 57,
    "start_time": "2022-01-16T18:57:53.411Z"
   },
   {
    "duration": 6251,
    "start_time": "2022-01-16T18:59:05.574Z"
   },
   {
    "duration": -105,
    "start_time": "2022-01-16T18:59:11.933Z"
   },
   {
    "duration": 228,
    "start_time": "2022-01-16T18:59:51.043Z"
   },
   {
    "duration": 56,
    "start_time": "2022-01-16T18:59:54.302Z"
   },
   {
    "duration": 55,
    "start_time": "2022-01-16T19:04:13.405Z"
   },
   {
    "duration": 426,
    "start_time": "2022-01-16T19:04:51.541Z"
   },
   {
    "duration": 288,
    "start_time": "2022-01-16T19:05:14.444Z"
   },
   {
    "duration": 40,
    "start_time": "2022-01-16T19:05:51.510Z"
   },
   {
    "duration": 42,
    "start_time": "2022-01-16T19:06:25.871Z"
   },
   {
    "duration": 274,
    "start_time": "2022-01-16T19:08:41.864Z"
   },
   {
    "duration": 66,
    "start_time": "2022-01-16T19:08:50.643Z"
   },
   {
    "duration": 46,
    "start_time": "2022-01-16T19:08:54.070Z"
   },
   {
    "duration": 18,
    "start_time": "2022-01-16T19:19:21.088Z"
   },
   {
    "duration": 27,
    "start_time": "2022-01-16T19:19:52.228Z"
   },
   {
    "duration": 36,
    "start_time": "2022-01-16T19:20:56.245Z"
   },
   {
    "duration": 40,
    "start_time": "2022-01-16T19:21:19.945Z"
   },
   {
    "duration": 34,
    "start_time": "2022-01-16T19:21:32.720Z"
   },
   {
    "duration": 51,
    "start_time": "2022-01-16T19:23:43.755Z"
   },
   {
    "duration": 288,
    "start_time": "2022-01-16T19:24:52.850Z"
   },
   {
    "duration": 362,
    "start_time": "2022-01-16T19:25:29.323Z"
   },
   {
    "duration": 555,
    "start_time": "2022-01-16T19:25:57.495Z"
   },
   {
    "duration": 50,
    "start_time": "2022-01-16T19:27:39.311Z"
   },
   {
    "duration": 13,
    "start_time": "2022-01-16T19:31:26.609Z"
   },
   {
    "duration": 1352,
    "start_time": "2022-01-16T19:31:35.425Z"
   },
   {
    "duration": 514,
    "start_time": "2022-01-16T19:31:36.780Z"
   },
   {
    "duration": 16,
    "start_time": "2022-01-16T19:31:37.297Z"
   },
   {
    "duration": 33,
    "start_time": "2022-01-16T19:31:37.316Z"
   },
   {
    "duration": 39,
    "start_time": "2022-01-16T19:31:37.352Z"
   },
   {
    "duration": 29,
    "start_time": "2022-01-16T19:31:37.393Z"
   },
   {
    "duration": 23,
    "start_time": "2022-01-16T19:31:37.424Z"
   },
   {
    "duration": 72,
    "start_time": "2022-01-16T19:31:37.451Z"
   },
   {
    "duration": 11,
    "start_time": "2022-01-16T19:31:37.526Z"
   },
   {
    "duration": 19,
    "start_time": "2022-01-16T19:31:37.540Z"
   },
   {
    "duration": 56,
    "start_time": "2022-01-16T19:31:37.562Z"
   },
   {
    "duration": 14,
    "start_time": "2022-01-16T19:31:37.621Z"
   },
   {
    "duration": 10,
    "start_time": "2022-01-16T19:31:37.638Z"
   },
   {
    "duration": 90,
    "start_time": "2022-01-16T19:31:37.650Z"
   },
   {
    "duration": 15,
    "start_time": "2022-01-16T19:31:37.742Z"
   },
   {
    "duration": 10,
    "start_time": "2022-01-16T19:31:37.760Z"
   },
   {
    "duration": 62,
    "start_time": "2022-01-16T19:31:37.772Z"
   },
   {
    "duration": 129,
    "start_time": "2022-01-16T19:31:37.837Z"
   },
   {
    "duration": 88,
    "start_time": "2022-01-16T19:31:37.969Z"
   },
   {
    "duration": 12,
    "start_time": "2022-01-16T19:31:38.059Z"
   },
   {
    "duration": 13,
    "start_time": "2022-01-16T19:31:38.074Z"
   },
   {
    "duration": 406,
    "start_time": "2022-01-16T19:31:38.118Z"
   },
   {
    "duration": 60,
    "start_time": "2022-01-16T19:31:38.467Z"
   },
   {
    "duration": 57,
    "start_time": "2022-01-16T19:31:38.471Z"
   },
   {
    "duration": 57,
    "start_time": "2022-01-16T19:31:38.473Z"
   },
   {
    "duration": 52,
    "start_time": "2022-01-16T19:31:38.479Z"
   },
   {
    "duration": 47,
    "start_time": "2022-01-16T19:31:38.486Z"
   },
   {
    "duration": 44,
    "start_time": "2022-01-16T19:31:38.490Z"
   },
   {
    "duration": 33,
    "start_time": "2022-01-16T19:32:46.085Z"
   },
   {
    "duration": 1311,
    "start_time": "2022-01-16T19:33:04.968Z"
   },
   {
    "duration": 529,
    "start_time": "2022-01-16T19:33:06.282Z"
   },
   {
    "duration": 16,
    "start_time": "2022-01-16T19:33:06.815Z"
   },
   {
    "duration": 29,
    "start_time": "2022-01-16T19:33:06.834Z"
   },
   {
    "duration": 77,
    "start_time": "2022-01-16T19:33:06.865Z"
   },
   {
    "duration": 13,
    "start_time": "2022-01-16T19:33:06.944Z"
   },
   {
    "duration": 31,
    "start_time": "2022-01-16T19:33:06.959Z"
   },
   {
    "duration": 40,
    "start_time": "2022-01-16T19:33:07.018Z"
   },
   {
    "duration": 10,
    "start_time": "2022-01-16T19:33:07.063Z"
   },
   {
    "duration": 52,
    "start_time": "2022-01-16T19:33:07.076Z"
   },
   {
    "duration": 21,
    "start_time": "2022-01-16T19:33:07.131Z"
   },
   {
    "duration": 14,
    "start_time": "2022-01-16T19:33:07.154Z"
   },
   {
    "duration": 57,
    "start_time": "2022-01-16T19:33:07.170Z"
   },
   {
    "duration": 41,
    "start_time": "2022-01-16T19:33:07.230Z"
   },
   {
    "duration": 48,
    "start_time": "2022-01-16T19:33:07.275Z"
   },
   {
    "duration": 9,
    "start_time": "2022-01-16T19:33:07.326Z"
   },
   {
    "duration": 22,
    "start_time": "2022-01-16T19:33:07.337Z"
   },
   {
    "duration": 150,
    "start_time": "2022-01-16T19:33:07.361Z"
   },
   {
    "duration": 79,
    "start_time": "2022-01-16T19:33:07.513Z"
   },
   {
    "duration": 32,
    "start_time": "2022-01-16T19:33:07.594Z"
   },
   {
    "duration": 22,
    "start_time": "2022-01-16T19:33:07.629Z"
   },
   {
    "duration": 71,
    "start_time": "2022-01-16T19:33:07.654Z"
   },
   {
    "duration": 53,
    "start_time": "2022-01-16T19:33:07.727Z"
   },
   {
    "duration": 46,
    "start_time": "2022-01-16T19:33:07.782Z"
   },
   {
    "duration": 36,
    "start_time": "2022-01-16T19:33:07.830Z"
   },
   {
    "duration": 64,
    "start_time": "2022-01-16T19:33:07.868Z"
   },
   {
    "duration": 39,
    "start_time": "2022-01-16T19:33:07.936Z"
   },
   {
    "duration": 90,
    "start_time": "2022-01-16T19:33:07.977Z"
   },
   {
    "duration": 34,
    "start_time": "2022-01-16T19:35:08.692Z"
   },
   {
    "duration": 24,
    "start_time": "2022-01-16T19:35:16.484Z"
   },
   {
    "duration": 38,
    "start_time": "2022-01-16T19:35:40.892Z"
   },
   {
    "duration": 47,
    "start_time": "2022-01-16T19:35:46.203Z"
   },
   {
    "duration": 54,
    "start_time": "2022-01-16T19:37:17.550Z"
   },
   {
    "duration": 433,
    "start_time": "2022-01-16T19:37:49.203Z"
   },
   {
    "duration": 55,
    "start_time": "2022-01-16T19:38:38.463Z"
   },
   {
    "duration": 63,
    "start_time": "2022-01-16T19:39:55.531Z"
   },
   {
    "duration": 10,
    "start_time": "2022-01-16T19:41:11.162Z"
   },
   {
    "duration": 15,
    "start_time": "2022-01-16T19:44:51.443Z"
   },
   {
    "duration": 13,
    "start_time": "2022-01-16T19:45:30.335Z"
   },
   {
    "duration": 10,
    "start_time": "2022-01-16T19:46:10.244Z"
   },
   {
    "duration": 16,
    "start_time": "2022-01-16T19:46:37.032Z"
   },
   {
    "duration": 5,
    "start_time": "2022-01-16T20:03:32.963Z"
   },
   {
    "duration": 489,
    "start_time": "2022-01-16T20:06:06.864Z"
   },
   {
    "duration": 346,
    "start_time": "2022-01-16T20:06:23.364Z"
   },
   {
    "duration": 6622,
    "start_time": "2022-01-16T20:06:26.118Z"
   },
   {
    "duration": 20,
    "start_time": "2022-01-16T20:06:35.523Z"
   },
   {
    "duration": 40,
    "start_time": "2022-01-16T20:06:37.653Z"
   },
   {
    "duration": 42,
    "start_time": "2022-01-16T20:06:51.851Z"
   },
   {
    "duration": 12,
    "start_time": "2022-01-16T20:09:07.932Z"
   },
   {
    "duration": 66,
    "start_time": "2022-01-16T20:09:39.731Z"
   },
   {
    "duration": 1405,
    "start_time": "2022-01-16T20:11:14.675Z"
   },
   {
    "duration": 529,
    "start_time": "2022-01-16T20:11:16.083Z"
   },
   {
    "duration": 17,
    "start_time": "2022-01-16T20:11:16.616Z"
   },
   {
    "duration": 27,
    "start_time": "2022-01-16T20:11:16.635Z"
   },
   {
    "duration": 39,
    "start_time": "2022-01-16T20:11:16.664Z"
   },
   {
    "duration": 14,
    "start_time": "2022-01-16T20:11:16.705Z"
   },
   {
    "duration": 23,
    "start_time": "2022-01-16T20:11:16.722Z"
   },
   {
    "duration": 37,
    "start_time": "2022-01-16T20:11:16.748Z"
   },
   {
    "duration": 9,
    "start_time": "2022-01-16T20:11:16.788Z"
   },
   {
    "duration": 28,
    "start_time": "2022-01-16T20:11:16.799Z"
   },
   {
    "duration": 18,
    "start_time": "2022-01-16T20:11:16.830Z"
   },
   {
    "duration": 12,
    "start_time": "2022-01-16T20:11:16.850Z"
   },
   {
    "duration": 9,
    "start_time": "2022-01-16T20:11:16.864Z"
   },
   {
    "duration": 66,
    "start_time": "2022-01-16T20:11:16.876Z"
   },
   {
    "duration": 15,
    "start_time": "2022-01-16T20:11:16.944Z"
   },
   {
    "duration": 9,
    "start_time": "2022-01-16T20:11:16.961Z"
   },
   {
    "duration": 58,
    "start_time": "2022-01-16T20:11:16.973Z"
   },
   {
    "duration": 116,
    "start_time": "2022-01-16T20:11:17.034Z"
   },
   {
    "duration": 121,
    "start_time": "2022-01-16T20:11:17.152Z"
   },
   {
    "duration": 11,
    "start_time": "2022-01-16T20:11:17.276Z"
   },
   {
    "duration": 35,
    "start_time": "2022-01-16T20:11:17.289Z"
   },
   {
    "duration": 97,
    "start_time": "2022-01-16T20:11:17.326Z"
   },
   {
    "duration": 73,
    "start_time": "2022-01-16T20:11:17.429Z"
   },
   {
    "duration": 59,
    "start_time": "2022-01-16T20:11:17.504Z"
   },
   {
    "duration": 45,
    "start_time": "2022-01-16T20:11:17.566Z"
   },
   {
    "duration": 112,
    "start_time": "2022-01-16T20:11:17.613Z"
   },
   {
    "duration": 111,
    "start_time": "2022-01-16T20:11:17.729Z"
   },
   {
    "duration": 6,
    "start_time": "2022-01-16T20:11:17.842Z"
   },
   {
    "duration": 178,
    "start_time": "2022-01-16T20:11:17.850Z"
   },
   {
    "duration": 14,
    "start_time": "2022-01-16T20:11:18.031Z"
   },
   {
    "duration": 75,
    "start_time": "2022-01-16T20:11:18.048Z"
   },
   {
    "duration": 18,
    "start_time": "2022-01-16T20:11:18.126Z"
   },
   {
    "duration": 7,
    "start_time": "2022-01-16T20:11:18.147Z"
   },
   {
    "duration": 413,
    "start_time": "2022-01-16T20:11:18.157Z"
   },
   {
    "duration": 10,
    "start_time": "2022-01-16T20:11:18.573Z"
   },
   {
    "duration": 59,
    "start_time": "2022-01-16T20:11:18.586Z"
   },
   {
    "duration": 17,
    "start_time": "2022-01-16T20:11:18.648Z"
   },
   {
    "duration": 73,
    "start_time": "2022-01-16T20:11:49.917Z"
   },
   {
    "duration": 1371,
    "start_time": "2022-01-16T20:12:28.307Z"
   },
   {
    "duration": 516,
    "start_time": "2022-01-16T20:12:29.680Z"
   },
   {
    "duration": 20,
    "start_time": "2022-01-16T20:12:30.199Z"
   },
   {
    "duration": 31,
    "start_time": "2022-01-16T20:12:30.222Z"
   },
   {
    "duration": 61,
    "start_time": "2022-01-16T20:12:30.256Z"
   },
   {
    "duration": 12,
    "start_time": "2022-01-16T20:12:30.320Z"
   },
   {
    "duration": 31,
    "start_time": "2022-01-16T20:12:30.334Z"
   },
   {
    "duration": 71,
    "start_time": "2022-01-16T20:12:30.367Z"
   },
   {
    "duration": 10,
    "start_time": "2022-01-16T20:12:30.442Z"
   },
   {
    "duration": 21,
    "start_time": "2022-01-16T20:12:30.455Z"
   },
   {
    "duration": 52,
    "start_time": "2022-01-16T20:12:30.478Z"
   },
   {
    "duration": 11,
    "start_time": "2022-01-16T20:12:30.532Z"
   },
   {
    "duration": 15,
    "start_time": "2022-01-16T20:12:30.546Z"
   },
   {
    "duration": 77,
    "start_time": "2022-01-16T20:12:30.563Z"
   },
   {
    "duration": 14,
    "start_time": "2022-01-16T20:12:30.642Z"
   },
   {
    "duration": 10,
    "start_time": "2022-01-16T20:12:30.659Z"
   },
   {
    "duration": 60,
    "start_time": "2022-01-16T20:12:30.671Z"
   },
   {
    "duration": 115,
    "start_time": "2022-01-16T20:12:30.734Z"
   },
   {
    "duration": 90,
    "start_time": "2022-01-16T20:12:30.851Z"
   },
   {
    "duration": 16,
    "start_time": "2022-01-16T20:12:30.944Z"
   },
   {
    "duration": 16,
    "start_time": "2022-01-16T20:12:30.963Z"
   },
   {
    "duration": 59,
    "start_time": "2022-01-16T20:12:30.982Z"
   },
   {
    "duration": 74,
    "start_time": "2022-01-16T20:12:31.044Z"
   },
   {
    "duration": 22,
    "start_time": "2022-01-16T20:12:31.121Z"
   },
   {
    "duration": 70,
    "start_time": "2022-01-16T20:12:31.146Z"
   },
   {
    "duration": 27,
    "start_time": "2022-01-16T20:12:31.219Z"
   },
   {
    "duration": 74,
    "start_time": "2022-01-16T20:12:31.252Z"
   },
   {
    "duration": 7,
    "start_time": "2022-01-16T20:12:31.330Z"
   },
   {
    "duration": 103,
    "start_time": "2022-01-16T20:12:31.340Z"
   },
   {
    "duration": 10,
    "start_time": "2022-01-16T20:12:31.446Z"
   },
   {
    "duration": 15,
    "start_time": "2022-01-16T20:12:31.459Z"
   },
   {
    "duration": 46,
    "start_time": "2022-01-16T20:12:31.476Z"
   },
   {
    "duration": 6,
    "start_time": "2022-01-16T20:12:31.525Z"
   },
   {
    "duration": 598,
    "start_time": "2022-01-16T20:12:31.534Z"
   },
   {
    "duration": 9,
    "start_time": "2022-01-16T20:12:32.134Z"
   },
   {
    "duration": 95,
    "start_time": "2022-01-16T20:12:32.146Z"
   },
   {
    "duration": 13,
    "start_time": "2022-01-16T20:12:32.244Z"
   },
   {
    "duration": 1390,
    "start_time": "2022-01-16T20:14:16.994Z"
   },
   {
    "duration": 514,
    "start_time": "2022-01-16T20:14:18.387Z"
   },
   {
    "duration": 16,
    "start_time": "2022-01-16T20:14:18.904Z"
   },
   {
    "duration": 27,
    "start_time": "2022-01-16T20:14:18.923Z"
   },
   {
    "duration": 74,
    "start_time": "2022-01-16T20:14:18.953Z"
   },
   {
    "duration": 12,
    "start_time": "2022-01-16T20:14:19.030Z"
   },
   {
    "duration": 22,
    "start_time": "2022-01-16T20:14:19.044Z"
   },
   {
    "duration": 70,
    "start_time": "2022-01-16T20:14:19.069Z"
   },
   {
    "duration": 9,
    "start_time": "2022-01-16T20:14:19.143Z"
   },
   {
    "duration": 20,
    "start_time": "2022-01-16T20:14:19.155Z"
   },
   {
    "duration": 58,
    "start_time": "2022-01-16T20:14:19.177Z"
   },
   {
    "duration": 12,
    "start_time": "2022-01-16T20:14:19.238Z"
   },
   {
    "duration": 13,
    "start_time": "2022-01-16T20:14:19.253Z"
   },
   {
    "duration": 84,
    "start_time": "2022-01-16T20:14:19.269Z"
   },
   {
    "duration": 14,
    "start_time": "2022-01-16T20:14:19.355Z"
   },
   {
    "duration": 12,
    "start_time": "2022-01-16T20:14:19.371Z"
   },
   {
    "duration": 53,
    "start_time": "2022-01-16T20:14:19.385Z"
   },
   {
    "duration": 120,
    "start_time": "2022-01-16T20:14:19.440Z"
   },
   {
    "duration": 87,
    "start_time": "2022-01-16T20:14:19.562Z"
   },
   {
    "duration": 11,
    "start_time": "2022-01-16T20:14:19.651Z"
   },
   {
    "duration": 24,
    "start_time": "2022-01-16T20:14:19.665Z"
   },
   {
    "duration": 53,
    "start_time": "2022-01-16T20:14:19.691Z"
   },
   {
    "duration": 51,
    "start_time": "2022-01-16T20:14:19.746Z"
   },
   {
    "duration": 32,
    "start_time": "2022-01-16T20:14:19.799Z"
   },
   {
    "duration": 35,
    "start_time": "2022-01-16T20:14:19.833Z"
   },
   {
    "duration": 60,
    "start_time": "2022-01-16T20:14:19.870Z"
   },
   {
    "duration": 37,
    "start_time": "2022-01-16T20:14:19.934Z"
   },
   {
    "duration": 5,
    "start_time": "2022-01-16T20:14:19.974Z"
   },
   {
    "duration": 98,
    "start_time": "2022-01-16T20:14:19.981Z"
   },
   {
    "duration": 34,
    "start_time": "2022-01-16T20:14:20.082Z"
   },
   {
    "duration": 17,
    "start_time": "2022-01-16T20:14:20.118Z"
   },
   {
    "duration": 14,
    "start_time": "2022-01-16T20:14:20.138Z"
   },
   {
    "duration": 6,
    "start_time": "2022-01-16T20:14:20.154Z"
   },
   {
    "duration": 506,
    "start_time": "2022-01-16T20:14:20.162Z"
   },
   {
    "duration": 9,
    "start_time": "2022-01-16T20:14:20.671Z"
   },
   {
    "duration": 59,
    "start_time": "2022-01-16T20:14:20.682Z"
   },
   {
    "duration": 13,
    "start_time": "2022-01-16T20:14:20.743Z"
   },
   {
    "duration": 65,
    "start_time": "2022-01-16T20:14:51.687Z"
   },
   {
    "duration": 10,
    "start_time": "2022-01-16T20:15:08.736Z"
   },
   {
    "duration": 51,
    "start_time": "2022-01-16T20:15:29.808Z"
   },
   {
    "duration": 47,
    "start_time": "2022-01-16T20:16:45.453Z"
   },
   {
    "duration": 46,
    "start_time": "2022-01-16T20:17:35.148Z"
   },
   {
    "duration": 60,
    "start_time": "2022-01-16T20:17:53.734Z"
   },
   {
    "duration": 1428,
    "start_time": "2022-01-16T20:18:16.466Z"
   },
   {
    "duration": 661,
    "start_time": "2022-01-16T20:18:17.897Z"
   },
   {
    "duration": 15,
    "start_time": "2022-01-16T20:18:18.561Z"
   },
   {
    "duration": 29,
    "start_time": "2022-01-16T20:18:18.579Z"
   },
   {
    "duration": 43,
    "start_time": "2022-01-16T20:18:18.610Z"
   },
   {
    "duration": 13,
    "start_time": "2022-01-16T20:18:18.655Z"
   },
   {
    "duration": 63,
    "start_time": "2022-01-16T20:18:18.670Z"
   },
   {
    "duration": 38,
    "start_time": "2022-01-16T20:18:18.736Z"
   },
   {
    "duration": 38,
    "start_time": "2022-01-16T20:18:18.780Z"
   },
   {
    "duration": 21,
    "start_time": "2022-01-16T20:18:18.822Z"
   },
   {
    "duration": 21,
    "start_time": "2022-01-16T20:18:18.845Z"
   },
   {
    "duration": 53,
    "start_time": "2022-01-16T20:18:18.869Z"
   },
   {
    "duration": 10,
    "start_time": "2022-01-16T20:18:18.925Z"
   },
   {
    "duration": 85,
    "start_time": "2022-01-16T20:18:18.938Z"
   },
   {
    "duration": 19,
    "start_time": "2022-01-16T20:18:19.026Z"
   },
   {
    "duration": 15,
    "start_time": "2022-01-16T20:18:19.048Z"
   },
   {
    "duration": 71,
    "start_time": "2022-01-16T20:18:19.066Z"
   },
   {
    "duration": 128,
    "start_time": "2022-01-16T20:18:19.139Z"
   },
   {
    "duration": 103,
    "start_time": "2022-01-16T20:18:19.269Z"
   },
   {
    "duration": 14,
    "start_time": "2022-01-16T20:18:19.374Z"
   },
   {
    "duration": 39,
    "start_time": "2022-01-16T20:18:19.391Z"
   },
   {
    "duration": 41,
    "start_time": "2022-01-16T20:18:19.433Z"
   },
   {
    "duration": 114,
    "start_time": "2022-01-16T20:18:19.478Z"
   },
   {
    "duration": 42,
    "start_time": "2022-01-16T20:18:19.595Z"
   },
   {
    "duration": 55,
    "start_time": "2022-01-16T20:18:19.641Z"
   },
   {
    "duration": 24,
    "start_time": "2022-01-16T20:18:19.717Z"
   },
   {
    "duration": 75,
    "start_time": "2022-01-16T20:18:19.746Z"
   },
   {
    "duration": 6,
    "start_time": "2022-01-16T20:18:19.823Z"
   },
   {
    "duration": 98,
    "start_time": "2022-01-16T20:18:19.832Z"
   },
   {
    "duration": 11,
    "start_time": "2022-01-16T20:18:19.932Z"
   },
   {
    "duration": 18,
    "start_time": "2022-01-16T20:18:19.945Z"
   },
   {
    "duration": 63,
    "start_time": "2022-01-16T20:18:19.965Z"
   },
   {
    "duration": 7,
    "start_time": "2022-01-16T20:18:20.031Z"
   },
   {
    "duration": 406,
    "start_time": "2022-01-16T20:18:20.040Z"
   },
   {
    "duration": 12,
    "start_time": "2022-01-16T20:18:20.449Z"
   },
   {
    "duration": 91,
    "start_time": "2022-01-16T20:18:20.464Z"
   },
   {
    "duration": 63,
    "start_time": "2022-01-16T20:18:20.558Z"
   },
   {
    "duration": 10,
    "start_time": "2022-01-16T20:20:27.082Z"
   },
   {
    "duration": 415,
    "start_time": "2022-01-16T20:20:47.498Z"
   },
   {
    "duration": 12,
    "start_time": "2022-01-16T20:23:52.602Z"
   },
   {
    "duration": 3,
    "start_time": "2022-01-16T20:25:00.046Z"
   },
   {
    "duration": 392,
    "start_time": "2022-01-17T17:16:56.425Z"
   },
   {
    "duration": 1746,
    "start_time": "2022-01-17T17:17:05.227Z"
   },
   {
    "duration": 595,
    "start_time": "2022-01-17T17:17:06.976Z"
   },
   {
    "duration": 15,
    "start_time": "2022-01-17T17:17:07.574Z"
   },
   {
    "duration": 29,
    "start_time": "2022-01-17T17:17:07.591Z"
   },
   {
    "duration": 40,
    "start_time": "2022-01-17T17:17:07.622Z"
   },
   {
    "duration": 14,
    "start_time": "2022-01-17T17:17:07.665Z"
   },
   {
    "duration": 67,
    "start_time": "2022-01-17T17:17:07.682Z"
   },
   {
    "duration": 38,
    "start_time": "2022-01-17T17:17:07.753Z"
   },
   {
    "duration": 29,
    "start_time": "2022-01-17T17:17:07.794Z"
   },
   {
    "duration": 28,
    "start_time": "2022-01-17T17:17:07.826Z"
   },
   {
    "duration": 21,
    "start_time": "2022-01-17T17:17:07.857Z"
   },
   {
    "duration": 44,
    "start_time": "2022-01-17T17:17:07.881Z"
   },
   {
    "duration": 10,
    "start_time": "2022-01-17T17:17:07.928Z"
   },
   {
    "duration": 87,
    "start_time": "2022-01-17T17:17:07.941Z"
   },
   {
    "duration": 17,
    "start_time": "2022-01-17T17:17:08.031Z"
   },
   {
    "duration": 16,
    "start_time": "2022-01-17T17:17:08.050Z"
   },
   {
    "duration": 56,
    "start_time": "2022-01-17T17:17:08.069Z"
   },
   {
    "duration": 154,
    "start_time": "2022-01-17T17:17:08.128Z"
   },
   {
    "duration": 166,
    "start_time": "2022-01-17T17:17:08.285Z"
   },
   {
    "duration": 15,
    "start_time": "2022-01-17T17:17:08.454Z"
   },
   {
    "duration": 17,
    "start_time": "2022-01-17T17:17:08.472Z"
   },
   {
    "duration": 68,
    "start_time": "2022-01-17T17:17:08.491Z"
   },
   {
    "duration": 64,
    "start_time": "2022-01-17T17:17:08.564Z"
   },
   {
    "duration": 21,
    "start_time": "2022-01-17T17:17:08.631Z"
   },
   {
    "duration": 35,
    "start_time": "2022-01-17T17:17:08.655Z"
   },
   {
    "duration": 48,
    "start_time": "2022-01-17T17:17:08.693Z"
   },
   {
    "duration": 42,
    "start_time": "2022-01-17T17:17:08.744Z"
   },
   {
    "duration": 5,
    "start_time": "2022-01-17T17:17:08.788Z"
   },
   {
    "duration": 63,
    "start_time": "2022-01-17T17:17:08.824Z"
   },
   {
    "duration": 39,
    "start_time": "2022-01-17T17:17:08.889Z"
   },
   {
    "duration": 21,
    "start_time": "2022-01-17T17:17:08.932Z"
   },
   {
    "duration": 22,
    "start_time": "2022-01-17T17:17:08.956Z"
   },
   {
    "duration": 8,
    "start_time": "2022-01-17T17:17:08.980Z"
   },
   {
    "duration": 602,
    "start_time": "2022-01-17T17:17:08.990Z"
   },
   {
    "duration": 12,
    "start_time": "2022-01-17T17:17:09.595Z"
   },
   {
    "duration": 64,
    "start_time": "2022-01-17T17:17:09.610Z"
   },
   {
    "duration": 13,
    "start_time": "2022-01-17T17:17:09.676Z"
   },
   {
    "duration": 50,
    "start_time": "2022-01-17T17:17:09.691Z"
   },
   {
    "duration": 25,
    "start_time": "2022-01-17T17:18:15.204Z"
   },
   {
    "duration": 27,
    "start_time": "2022-01-17T17:18:33.060Z"
   },
   {
    "duration": 25,
    "start_time": "2022-01-17T17:18:45.661Z"
   },
   {
    "duration": 382,
    "start_time": "2022-01-17T17:19:24.135Z"
   },
   {
    "duration": 383,
    "start_time": "2022-01-17T17:19:30.962Z"
   },
   {
    "duration": 500,
    "start_time": "2022-01-17T17:21:51.261Z"
   },
   {
    "duration": 396,
    "start_time": "2022-01-17T17:22:01.518Z"
   },
   {
    "duration": 92,
    "start_time": "2022-01-17T17:23:49.933Z"
   },
   {
    "duration": 421,
    "start_time": "2022-01-17T17:23:55.533Z"
   },
   {
    "duration": 388,
    "start_time": "2022-01-17T17:24:51.180Z"
   },
   {
    "duration": 759,
    "start_time": "2022-01-17T17:25:53.750Z"
   },
   {
    "duration": 989,
    "start_time": "2022-01-17T17:26:34.251Z"
   },
   {
    "duration": 402,
    "start_time": "2022-01-17T17:26:50.269Z"
   },
   {
    "duration": 7749,
    "start_time": "2022-01-17T17:27:02.578Z"
   },
   {
    "duration": 418,
    "start_time": "2022-01-17T17:27:21.309Z"
   },
   {
    "duration": 314,
    "start_time": "2022-01-17T17:37:06.125Z"
   },
   {
    "duration": 297,
    "start_time": "2022-01-17T17:37:36.584Z"
   },
   {
    "duration": 49,
    "start_time": "2022-01-17T17:38:10.328Z"
   },
   {
    "duration": 66,
    "start_time": "2022-01-17T17:39:01.470Z"
   },
   {
    "duration": 46,
    "start_time": "2022-01-17T17:39:09.777Z"
   },
   {
    "duration": 376,
    "start_time": "2022-01-17T17:44:42.492Z"
   },
   {
    "duration": 284,
    "start_time": "2022-01-17T17:47:14.634Z"
   },
   {
    "duration": 1460,
    "start_time": "2022-01-17T17:49:10.428Z"
   },
   {
    "duration": 1113,
    "start_time": "2022-01-17T17:49:11.890Z"
   },
   {
    "duration": 15,
    "start_time": "2022-01-17T17:49:13.006Z"
   },
   {
    "duration": 28,
    "start_time": "2022-01-17T17:49:13.024Z"
   },
   {
    "duration": 36,
    "start_time": "2022-01-17T17:49:13.055Z"
   },
   {
    "duration": 37,
    "start_time": "2022-01-17T17:49:13.093Z"
   },
   {
    "duration": 25,
    "start_time": "2022-01-17T17:49:13.132Z"
   },
   {
    "duration": 75,
    "start_time": "2022-01-17T17:49:13.160Z"
   },
   {
    "duration": 13,
    "start_time": "2022-01-17T17:49:13.241Z"
   },
   {
    "duration": 21,
    "start_time": "2022-01-17T17:49:13.257Z"
   },
   {
    "duration": 53,
    "start_time": "2022-01-17T17:49:13.280Z"
   },
   {
    "duration": 12,
    "start_time": "2022-01-17T17:49:13.336Z"
   },
   {
    "duration": 10,
    "start_time": "2022-01-17T17:49:13.350Z"
   },
   {
    "duration": 73,
    "start_time": "2022-01-17T17:49:13.363Z"
   },
   {
    "duration": 14,
    "start_time": "2022-01-17T17:49:13.438Z"
   },
   {
    "duration": 10,
    "start_time": "2022-01-17T17:49:13.454Z"
   },
   {
    "duration": 26,
    "start_time": "2022-01-17T17:49:13.467Z"
   },
   {
    "duration": 91,
    "start_time": "2022-01-17T17:49:13.523Z"
   },
   {
    "duration": 71,
    "start_time": "2022-01-17T17:49:13.623Z"
   },
   {
    "duration": 12,
    "start_time": "2022-01-17T17:49:13.696Z"
   },
   {
    "duration": 12,
    "start_time": "2022-01-17T17:49:13.724Z"
   },
   {
    "duration": 32,
    "start_time": "2022-01-17T17:49:13.738Z"
   },
   {
    "duration": 80,
    "start_time": "2022-01-17T17:49:13.772Z"
   },
   {
    "duration": 19,
    "start_time": "2022-01-17T17:49:13.855Z"
   },
   {
    "duration": 54,
    "start_time": "2022-01-17T17:49:13.877Z"
   },
   {
    "duration": 24,
    "start_time": "2022-01-17T17:49:13.933Z"
   },
   {
    "duration": 37,
    "start_time": "2022-01-17T17:49:13.962Z"
   },
   {
    "duration": 6,
    "start_time": "2022-01-17T17:49:14.022Z"
   },
   {
    "duration": 61,
    "start_time": "2022-01-17T17:49:14.030Z"
   },
   {
    "duration": 34,
    "start_time": "2022-01-17T17:49:14.094Z"
   },
   {
    "duration": 21,
    "start_time": "2022-01-17T17:49:14.130Z"
   },
   {
    "duration": 17,
    "start_time": "2022-01-17T17:49:14.154Z"
   },
   {
    "duration": 7,
    "start_time": "2022-01-17T17:49:14.173Z"
   },
   {
    "duration": 381,
    "start_time": "2022-01-17T17:49:14.183Z"
   },
   {
    "duration": 11,
    "start_time": "2022-01-17T17:49:14.567Z"
   },
   {
    "duration": 53,
    "start_time": "2022-01-17T17:49:14.580Z"
   },
   {
    "duration": 14,
    "start_time": "2022-01-17T17:49:14.635Z"
   },
   {
    "duration": 420,
    "start_time": "2022-01-17T17:49:14.652Z"
   },
   {
    "duration": 62,
    "start_time": "2022-01-17T17:49:15.075Z"
   },
   {
    "duration": 512,
    "start_time": "2022-01-17T17:49:15.140Z"
   },
   {
    "duration": -51,
    "start_time": "2022-01-17T17:49:15.706Z"
   },
   {
    "duration": 7938,
    "start_time": "2022-01-17T17:49:18.079Z"
   },
   {
    "duration": 559,
    "start_time": "2022-01-17T17:49:43.613Z"
   },
   {
    "duration": 605,
    "start_time": "2022-01-17T17:50:29.671Z"
   },
   {
    "duration": 488,
    "start_time": "2022-01-17T17:51:10.330Z"
   },
   {
    "duration": 1560,
    "start_time": "2022-01-17T17:51:37.845Z"
   },
   {
    "duration": 1614,
    "start_time": "2022-01-17T17:51:45.976Z"
   },
   {
    "duration": 1442,
    "start_time": "2022-01-17T17:55:24.941Z"
   },
   {
    "duration": 1941,
    "start_time": "2022-01-17T17:56:40.155Z"
   },
   {
    "duration": 1673,
    "start_time": "2022-01-17T17:56:45.968Z"
   },
   {
    "duration": 1531,
    "start_time": "2022-01-17T17:57:08.027Z"
   },
   {
    "duration": 1591,
    "start_time": "2022-01-17T17:57:12.561Z"
   },
   {
    "duration": 1608,
    "start_time": "2022-01-17T17:57:18.535Z"
   },
   {
    "duration": 2056,
    "start_time": "2022-01-17T17:57:43.997Z"
   },
   {
    "duration": 1699,
    "start_time": "2022-01-17T17:58:36.286Z"
   },
   {
    "duration": 1589,
    "start_time": "2022-01-17T17:59:17.564Z"
   },
   {
    "duration": 16,
    "start_time": "2022-01-17T18:19:06.120Z"
   },
   {
    "duration": 18,
    "start_time": "2022-01-17T18:19:17.104Z"
   },
   {
    "duration": 21,
    "start_time": "2022-01-17T18:20:00.487Z"
   },
   {
    "duration": 18,
    "start_time": "2022-01-17T18:20:26.121Z"
   },
   {
    "duration": 16,
    "start_time": "2022-01-17T18:20:52.591Z"
   },
   {
    "duration": 94,
    "start_time": "2022-01-17T18:21:08.392Z"
   },
   {
    "duration": 21,
    "start_time": "2022-01-17T18:21:12.348Z"
   },
   {
    "duration": 16,
    "start_time": "2022-01-17T18:21:16.624Z"
   },
   {
    "duration": 67,
    "start_time": "2022-01-17T18:23:53.045Z"
   },
   {
    "duration": 52,
    "start_time": "2022-01-17T18:24:35.132Z"
   },
   {
    "duration": 315,
    "start_time": "2022-01-17T18:37:30.027Z"
   },
   {
    "duration": 16,
    "start_time": "2022-01-17T18:37:39.745Z"
   },
   {
    "duration": 20,
    "start_time": "2022-01-17T18:53:35.670Z"
   },
   {
    "duration": 21,
    "start_time": "2022-01-17T18:53:38.558Z"
   },
   {
    "duration": 22,
    "start_time": "2022-01-17T18:56:34.014Z"
   },
   {
    "duration": 1562,
    "start_time": "2022-01-17T19:04:16.165Z"
   },
   {
    "duration": 489,
    "start_time": "2022-01-17T19:04:17.730Z"
   },
   {
    "duration": 20,
    "start_time": "2022-01-17T19:04:18.223Z"
   },
   {
    "duration": 40,
    "start_time": "2022-01-17T19:04:18.247Z"
   },
   {
    "duration": 62,
    "start_time": "2022-01-17T19:04:18.289Z"
   },
   {
    "duration": 12,
    "start_time": "2022-01-17T19:04:18.353Z"
   },
   {
    "duration": 23,
    "start_time": "2022-01-17T19:04:18.367Z"
   },
   {
    "duration": 63,
    "start_time": "2022-01-17T19:04:18.392Z"
   },
   {
    "duration": 9,
    "start_time": "2022-01-17T19:04:18.459Z"
   },
   {
    "duration": 20,
    "start_time": "2022-01-17T19:04:18.471Z"
   },
   {
    "duration": 48,
    "start_time": "2022-01-17T19:04:18.494Z"
   },
   {
    "duration": 12,
    "start_time": "2022-01-17T19:04:18.544Z"
   },
   {
    "duration": 9,
    "start_time": "2022-01-17T19:04:18.559Z"
   },
   {
    "duration": 73,
    "start_time": "2022-01-17T19:04:18.570Z"
   },
   {
    "duration": 15,
    "start_time": "2022-01-17T19:04:18.645Z"
   },
   {
    "duration": 13,
    "start_time": "2022-01-17T19:04:18.663Z"
   },
   {
    "duration": 47,
    "start_time": "2022-01-17T19:04:18.678Z"
   },
   {
    "duration": 105,
    "start_time": "2022-01-17T19:04:18.728Z"
   },
   {
    "duration": 71,
    "start_time": "2022-01-17T19:04:18.835Z"
   },
   {
    "duration": 23,
    "start_time": "2022-01-17T19:04:18.909Z"
   },
   {
    "duration": 25,
    "start_time": "2022-01-17T19:04:18.935Z"
   },
   {
    "duration": 48,
    "start_time": "2022-01-17T19:04:18.962Z"
   },
   {
    "duration": 49,
    "start_time": "2022-01-17T19:04:19.013Z"
   },
   {
    "duration": 22,
    "start_time": "2022-01-17T19:04:19.065Z"
   },
   {
    "duration": 59,
    "start_time": "2022-01-17T19:04:19.090Z"
   },
   {
    "duration": 23,
    "start_time": "2022-01-17T19:04:19.152Z"
   },
   {
    "duration": 53,
    "start_time": "2022-01-17T19:04:19.180Z"
   },
   {
    "duration": 5,
    "start_time": "2022-01-17T19:04:19.236Z"
   },
   {
    "duration": 79,
    "start_time": "2022-01-17T19:04:19.244Z"
   },
   {
    "duration": 11,
    "start_time": "2022-01-17T19:04:19.325Z"
   },
   {
    "duration": 15,
    "start_time": "2022-01-17T19:04:19.339Z"
   },
   {
    "duration": 14,
    "start_time": "2022-01-17T19:04:19.357Z"
   },
   {
    "duration": 5,
    "start_time": "2022-01-17T19:04:19.373Z"
   },
   {
    "duration": 402,
    "start_time": "2022-01-17T19:04:19.380Z"
   },
   {
    "duration": 10,
    "start_time": "2022-01-17T19:04:19.785Z"
   },
   {
    "duration": 45,
    "start_time": "2022-01-17T19:04:19.797Z"
   },
   {
    "duration": 12,
    "start_time": "2022-01-17T19:04:19.844Z"
   },
   {
    "duration": 377,
    "start_time": "2022-01-17T19:04:19.858Z"
   },
   {
    "duration": 50,
    "start_time": "2022-01-17T19:04:20.238Z"
   },
   {
    "duration": 1546,
    "start_time": "2022-01-17T19:04:20.291Z"
   },
   {
    "duration": 1540,
    "start_time": "2022-01-17T19:04:21.839Z"
   },
   {
    "duration": 16,
    "start_time": "2022-01-17T19:04:23.381Z"
   },
   {
    "duration": 32,
    "start_time": "2022-01-17T19:04:23.399Z"
   },
   {
    "duration": 23,
    "start_time": "2022-01-17T19:04:23.433Z"
   },
   {
    "duration": 1468,
    "start_time": "2022-01-17T19:07:30.905Z"
   },
   {
    "duration": 498,
    "start_time": "2022-01-17T19:07:32.376Z"
   },
   {
    "duration": 16,
    "start_time": "2022-01-17T19:07:32.877Z"
   },
   {
    "duration": 33,
    "start_time": "2022-01-17T19:07:32.896Z"
   },
   {
    "duration": 43,
    "start_time": "2022-01-17T19:07:32.932Z"
   },
   {
    "duration": 11,
    "start_time": "2022-01-17T19:07:32.978Z"
   },
   {
    "duration": 25,
    "start_time": "2022-01-17T19:07:33.024Z"
   },
   {
    "duration": 39,
    "start_time": "2022-01-17T19:07:33.054Z"
   },
   {
    "duration": 36,
    "start_time": "2022-01-17T19:07:33.096Z"
   },
   {
    "duration": 44,
    "start_time": "2022-01-17T19:07:33.135Z"
   },
   {
    "duration": 26,
    "start_time": "2022-01-17T19:07:33.182Z"
   },
   {
    "duration": 22,
    "start_time": "2022-01-17T19:07:33.210Z"
   },
   {
    "duration": 36,
    "start_time": "2022-01-17T19:07:33.235Z"
   },
   {
    "duration": 62,
    "start_time": "2022-01-17T19:07:33.273Z"
   },
   {
    "duration": 14,
    "start_time": "2022-01-17T19:07:33.338Z"
   },
   {
    "duration": 8,
    "start_time": "2022-01-17T19:07:33.355Z"
   },
   {
    "duration": 24,
    "start_time": "2022-01-17T19:07:33.366Z"
   },
   {
    "duration": 105,
    "start_time": "2022-01-17T19:07:33.424Z"
   },
   {
    "duration": 73,
    "start_time": "2022-01-17T19:07:33.531Z"
   },
   {
    "duration": 23,
    "start_time": "2022-01-17T19:07:33.607Z"
   },
   {
    "duration": 16,
    "start_time": "2022-01-17T19:07:33.632Z"
   },
   {
    "duration": 34,
    "start_time": "2022-01-17T19:07:33.651Z"
   },
   {
    "duration": 52,
    "start_time": "2022-01-17T19:07:33.728Z"
   },
   {
    "duration": 40,
    "start_time": "2022-01-17T19:07:33.784Z"
   },
   {
    "duration": 35,
    "start_time": "2022-01-17T19:07:33.826Z"
   },
   {
    "duration": 23,
    "start_time": "2022-01-17T19:07:33.863Z"
   },
   {
    "duration": 57,
    "start_time": "2022-01-17T19:07:33.888Z"
   },
   {
    "duration": 7,
    "start_time": "2022-01-17T19:07:33.948Z"
   },
   {
    "duration": 88,
    "start_time": "2022-01-17T19:07:33.958Z"
   },
   {
    "duration": 12,
    "start_time": "2022-01-17T19:07:34.048Z"
   },
   {
    "duration": 16,
    "start_time": "2022-01-17T19:07:34.063Z"
   },
   {
    "duration": 53,
    "start_time": "2022-01-17T19:07:34.081Z"
   },
   {
    "duration": 6,
    "start_time": "2022-01-17T19:07:34.137Z"
   },
   {
    "duration": 369,
    "start_time": "2022-01-17T19:07:34.146Z"
   },
   {
    "duration": 12,
    "start_time": "2022-01-17T19:07:34.518Z"
   },
   {
    "duration": 43,
    "start_time": "2022-01-17T19:07:34.533Z"
   },
   {
    "duration": 12,
    "start_time": "2022-01-17T19:07:34.579Z"
   },
   {
    "duration": 389,
    "start_time": "2022-01-17T19:07:34.593Z"
   },
   {
    "duration": 59,
    "start_time": "2022-01-17T19:07:34.984Z"
   },
   {
    "duration": 1634,
    "start_time": "2022-01-17T19:07:35.046Z"
   },
   {
    "duration": 1488,
    "start_time": "2022-01-17T19:07:36.682Z"
   },
   {
    "duration": 15,
    "start_time": "2022-01-17T19:07:38.173Z"
   },
   {
    "duration": 45,
    "start_time": "2022-01-17T19:07:38.192Z"
   },
   {
    "duration": 24,
    "start_time": "2022-01-17T19:07:38.240Z"
   },
   {
    "duration": 1139,
    "start_time": "2022-01-21T05:33:55.717Z"
   },
   {
    "duration": 475,
    "start_time": "2022-01-21T05:33:56.858Z"
   },
   {
    "duration": 11,
    "start_time": "2022-01-21T05:33:57.335Z"
   },
   {
    "duration": 23,
    "start_time": "2022-01-21T05:33:57.347Z"
   },
   {
    "duration": 76,
    "start_time": "2022-01-21T05:33:57.372Z"
   },
   {
    "duration": 8,
    "start_time": "2022-01-21T05:33:57.449Z"
   },
   {
    "duration": 76,
    "start_time": "2022-01-21T05:33:57.458Z"
   },
   {
    "duration": 82,
    "start_time": "2022-01-21T05:33:57.536Z"
   },
   {
    "duration": 14,
    "start_time": "2022-01-21T05:33:57.622Z"
   },
   {
    "duration": 14,
    "start_time": "2022-01-21T05:33:57.638Z"
   },
   {
    "duration": 68,
    "start_time": "2022-01-21T05:33:57.653Z"
   },
   {
    "duration": 7,
    "start_time": "2022-01-21T05:33:57.724Z"
   },
   {
    "duration": 9,
    "start_time": "2022-01-21T05:33:57.733Z"
   },
   {
    "duration": 27,
    "start_time": "2022-01-21T05:33:57.744Z"
   },
   {
    "duration": 9,
    "start_time": "2022-01-21T05:33:57.772Z"
   },
   {
    "duration": 29,
    "start_time": "2022-01-21T05:33:57.782Z"
   },
   {
    "duration": 20,
    "start_time": "2022-01-21T05:33:57.813Z"
   },
   {
    "duration": 82,
    "start_time": "2022-01-21T05:33:57.835Z"
   },
   {
    "duration": 53,
    "start_time": "2022-01-21T05:33:57.920Z"
   },
   {
    "duration": 8,
    "start_time": "2022-01-21T05:33:57.974Z"
   },
   {
    "duration": 34,
    "start_time": "2022-01-21T05:33:57.984Z"
   },
   {
    "duration": 26,
    "start_time": "2022-01-21T05:33:58.020Z"
   },
   {
    "duration": 37,
    "start_time": "2022-01-21T05:33:58.047Z"
   },
   {
    "duration": 30,
    "start_time": "2022-01-21T05:33:58.086Z"
   },
   {
    "duration": 31,
    "start_time": "2022-01-21T05:33:58.118Z"
   },
   {
    "duration": 18,
    "start_time": "2022-01-21T05:33:58.151Z"
   },
   {
    "duration": 62,
    "start_time": "2022-01-21T05:33:58.173Z"
   },
   {
    "duration": 4,
    "start_time": "2022-01-21T05:33:58.237Z"
   },
   {
    "duration": 39,
    "start_time": "2022-01-21T05:33:58.243Z"
   },
   {
    "duration": 29,
    "start_time": "2022-01-21T05:33:58.284Z"
   },
   {
    "duration": 15,
    "start_time": "2022-01-21T05:33:58.316Z"
   },
   {
    "duration": 9,
    "start_time": "2022-01-21T05:33:58.332Z"
   },
   {
    "duration": 4,
    "start_time": "2022-01-21T05:33:58.342Z"
   },
   {
    "duration": 254,
    "start_time": "2022-01-21T05:33:58.347Z"
   },
   {
    "duration": 4,
    "start_time": "2022-01-21T05:33:58.603Z"
   },
   {
    "duration": 30,
    "start_time": "2022-01-21T05:33:58.613Z"
   },
   {
    "duration": 7,
    "start_time": "2022-01-21T05:33:58.645Z"
   },
   {
    "duration": 228,
    "start_time": "2022-01-21T05:33:58.654Z"
   },
   {
    "duration": 45,
    "start_time": "2022-01-21T05:33:58.884Z"
   },
   {
    "duration": 1068,
    "start_time": "2022-01-21T05:33:58.931Z"
   },
   {
    "duration": 1116,
    "start_time": "2022-01-21T05:34:00.001Z"
   },
   {
    "duration": 15,
    "start_time": "2022-01-21T05:34:01.119Z"
   },
   {
    "duration": 12,
    "start_time": "2022-01-21T05:34:01.135Z"
   },
   {
    "duration": 13,
    "start_time": "2022-01-21T05:34:01.148Z"
   },
   {
    "duration": 5,
    "start_time": "2022-01-21T05:34:51.222Z"
   },
   {
    "duration": 381,
    "start_time": "2022-01-21T05:34:51.229Z"
   },
   {
    "duration": 9,
    "start_time": "2022-01-21T05:34:51.612Z"
   },
   {
    "duration": 24,
    "start_time": "2022-01-21T05:34:51.624Z"
   },
   {
    "duration": 23,
    "start_time": "2022-01-21T05:34:51.649Z"
   },
   {
    "duration": 7,
    "start_time": "2022-01-21T05:34:51.673Z"
   },
   {
    "duration": 50,
    "start_time": "2022-01-21T05:34:51.681Z"
   },
   {
    "duration": 23,
    "start_time": "2022-01-21T05:34:51.733Z"
   },
   {
    "duration": 6,
    "start_time": "2022-01-21T05:34:51.759Z"
   },
   {
    "duration": 13,
    "start_time": "2022-01-21T05:34:51.766Z"
   },
   {
    "duration": 38,
    "start_time": "2022-01-21T05:34:51.780Z"
   },
   {
    "duration": 10,
    "start_time": "2022-01-21T05:34:51.821Z"
   },
   {
    "duration": 7,
    "start_time": "2022-01-21T05:34:51.832Z"
   },
   {
    "duration": 25,
    "start_time": "2022-01-21T05:34:51.841Z"
   },
   {
    "duration": 8,
    "start_time": "2022-01-21T05:34:51.867Z"
   },
   {
    "duration": 38,
    "start_time": "2022-01-21T05:34:51.876Z"
   },
   {
    "duration": 17,
    "start_time": "2022-01-21T05:34:51.916Z"
   },
   {
    "duration": 51,
    "start_time": "2022-01-21T05:34:51.934Z"
   },
   {
    "duration": 75,
    "start_time": "2022-01-21T05:34:51.986Z"
   },
   {
    "duration": 7,
    "start_time": "2022-01-21T05:34:52.063Z"
   },
   {
    "duration": 10,
    "start_time": "2022-01-21T05:34:52.071Z"
   },
   {
    "duration": 36,
    "start_time": "2022-01-21T05:34:52.082Z"
   },
   {
    "duration": 33,
    "start_time": "2022-01-21T05:34:52.120Z"
   },
   {
    "duration": 13,
    "start_time": "2022-01-21T05:34:52.154Z"
   },
   {
    "duration": 18,
    "start_time": "2022-01-21T05:34:52.169Z"
   },
   {
    "duration": 35,
    "start_time": "2022-01-21T05:34:52.188Z"
   },
   {
    "duration": 23,
    "start_time": "2022-01-21T05:34:52.226Z"
   },
   {
    "duration": 3,
    "start_time": "2022-01-21T05:34:52.251Z"
   },
   {
    "duration": 58,
    "start_time": "2022-01-21T05:34:52.255Z"
   },
   {
    "duration": 9,
    "start_time": "2022-01-21T05:34:52.315Z"
   },
   {
    "duration": 10,
    "start_time": "2022-01-21T05:34:52.328Z"
   },
   {
    "duration": 8,
    "start_time": "2022-01-21T05:34:52.339Z"
   },
   {
    "duration": 4,
    "start_time": "2022-01-21T05:34:52.348Z"
   },
   {
    "duration": 225,
    "start_time": "2022-01-21T05:34:52.353Z"
   },
   {
    "duration": 3,
    "start_time": "2022-01-21T05:34:52.580Z"
   },
   {
    "duration": 30,
    "start_time": "2022-01-21T05:34:52.584Z"
   },
   {
    "duration": 11,
    "start_time": "2022-01-21T05:34:52.623Z"
   },
   {
    "duration": 236,
    "start_time": "2022-01-21T05:34:52.635Z"
   },
   {
    "duration": 42,
    "start_time": "2022-01-21T05:34:52.873Z"
   },
   {
    "duration": 906,
    "start_time": "2022-01-21T05:34:52.917Z"
   },
   {
    "duration": 897,
    "start_time": "2022-01-21T05:34:53.826Z"
   },
   {
    "duration": 13,
    "start_time": "2022-01-21T05:34:54.725Z"
   },
   {
    "duration": 9,
    "start_time": "2022-01-21T05:34:54.740Z"
   },
   {
    "duration": 14,
    "start_time": "2022-01-21T05:34:54.751Z"
   },
   {
    "duration": 465,
    "start_time": "2022-01-21T05:41:52.407Z"
   },
   {
    "duration": 1251,
    "start_time": "2022-01-21T07:57:38.395Z"
   },
   {
    "duration": 389,
    "start_time": "2022-01-21T07:57:39.649Z"
   },
   {
    "duration": 10,
    "start_time": "2022-01-21T07:57:40.040Z"
   },
   {
    "duration": 19,
    "start_time": "2022-01-21T07:57:40.052Z"
   },
   {
    "duration": 27,
    "start_time": "2022-01-21T07:57:40.073Z"
   },
   {
    "duration": 399,
    "start_time": "2022-01-21T07:57:40.101Z"
   },
   {
    "duration": -3,
    "start_time": "2022-01-21T07:57:40.505Z"
   },
   {
    "duration": -8,
    "start_time": "2022-01-21T07:57:40.511Z"
   },
   {
    "duration": -13,
    "start_time": "2022-01-21T07:57:40.517Z"
   },
   {
    "duration": -15,
    "start_time": "2022-01-21T07:57:40.520Z"
   },
   {
    "duration": -18,
    "start_time": "2022-01-21T07:57:40.524Z"
   },
   {
    "duration": -21,
    "start_time": "2022-01-21T07:57:40.527Z"
   },
   {
    "duration": -23,
    "start_time": "2022-01-21T07:57:40.530Z"
   },
   {
    "duration": -25,
    "start_time": "2022-01-21T07:57:40.533Z"
   },
   {
    "duration": -28,
    "start_time": "2022-01-21T07:57:40.537Z"
   },
   {
    "duration": -29,
    "start_time": "2022-01-21T07:57:40.540Z"
   },
   {
    "duration": -31,
    "start_time": "2022-01-21T07:57:40.543Z"
   },
   {
    "duration": -34,
    "start_time": "2022-01-21T07:57:40.547Z"
   },
   {
    "duration": -37,
    "start_time": "2022-01-21T07:57:40.550Z"
   },
   {
    "duration": -39,
    "start_time": "2022-01-21T07:57:40.553Z"
   },
   {
    "duration": -41,
    "start_time": "2022-01-21T07:57:40.556Z"
   },
   {
    "duration": -43,
    "start_time": "2022-01-21T07:57:40.559Z"
   },
   {
    "duration": -45,
    "start_time": "2022-01-21T07:57:40.562Z"
   },
   {
    "duration": -46,
    "start_time": "2022-01-21T07:57:40.564Z"
   },
   {
    "duration": -49,
    "start_time": "2022-01-21T07:57:40.567Z"
   },
   {
    "duration": -50,
    "start_time": "2022-01-21T07:57:40.569Z"
   },
   {
    "duration": -52,
    "start_time": "2022-01-21T07:57:40.572Z"
   },
   {
    "duration": -62,
    "start_time": "2022-01-21T07:57:40.583Z"
   },
   {
    "duration": -64,
    "start_time": "2022-01-21T07:57:40.586Z"
   },
   {
    "duration": -65,
    "start_time": "2022-01-21T07:57:40.588Z"
   },
   {
    "duration": -68,
    "start_time": "2022-01-21T07:57:40.592Z"
   },
   {
    "duration": -70,
    "start_time": "2022-01-21T07:57:40.595Z"
   },
   {
    "duration": -71,
    "start_time": "2022-01-21T07:57:40.597Z"
   },
   {
    "duration": -73,
    "start_time": "2022-01-21T07:57:40.600Z"
   },
   {
    "duration": -76,
    "start_time": "2022-01-21T07:57:40.604Z"
   },
   {
    "duration": -78,
    "start_time": "2022-01-21T07:57:40.607Z"
   },
   {
    "duration": -80,
    "start_time": "2022-01-21T07:57:40.610Z"
   },
   {
    "duration": -81,
    "start_time": "2022-01-21T07:57:40.612Z"
   },
   {
    "duration": -84,
    "start_time": "2022-01-21T07:57:40.615Z"
   },
   {
    "duration": -84,
    "start_time": "2022-01-21T07:57:40.617Z"
   },
   {
    "duration": -86,
    "start_time": "2022-01-21T07:57:40.620Z"
   },
   {
    "duration": -88,
    "start_time": "2022-01-21T07:57:40.623Z"
   },
   {
    "duration": -90,
    "start_time": "2022-01-21T07:57:40.626Z"
   },
   {
    "duration": -91,
    "start_time": "2022-01-21T07:57:40.628Z"
   },
   {
    "duration": -93,
    "start_time": "2022-01-21T07:57:40.631Z"
   },
   {
    "duration": 315,
    "start_time": "2022-01-21T07:58:24.672Z"
   },
   {
    "duration": 3,
    "start_time": "2022-01-21T07:58:42.749Z"
   },
   {
    "duration": 1134,
    "start_time": "2022-01-21T07:59:28.801Z"
   },
   {
    "duration": 404,
    "start_time": "2022-01-21T07:59:29.936Z"
   },
   {
    "duration": 10,
    "start_time": "2022-01-21T07:59:30.342Z"
   },
   {
    "duration": 21,
    "start_time": "2022-01-21T07:59:30.355Z"
   },
   {
    "duration": 29,
    "start_time": "2022-01-21T07:59:30.377Z"
   },
   {
    "duration": 7,
    "start_time": "2022-01-21T07:59:30.408Z"
   },
   {
    "duration": 34,
    "start_time": "2022-01-21T07:59:30.417Z"
   },
   {
    "duration": 22,
    "start_time": "2022-01-21T07:59:30.454Z"
   },
   {
    "duration": 5,
    "start_time": "2022-01-21T07:59:30.478Z"
   },
   {
    "duration": 16,
    "start_time": "2022-01-21T07:59:30.485Z"
   },
   {
    "duration": 30,
    "start_time": "2022-01-21T07:59:30.503Z"
   },
   {
    "duration": 7,
    "start_time": "2022-01-21T07:59:30.534Z"
   },
   {
    "duration": 8,
    "start_time": "2022-01-21T07:59:30.542Z"
   },
   {
    "duration": 27,
    "start_time": "2022-01-21T07:59:30.552Z"
   },
   {
    "duration": 8,
    "start_time": "2022-01-21T07:59:30.580Z"
   },
   {
    "duration": 9,
    "start_time": "2022-01-21T07:59:30.589Z"
   },
   {
    "duration": 33,
    "start_time": "2022-01-21T07:59:30.600Z"
   },
   {
    "duration": 72,
    "start_time": "2022-01-21T07:59:30.634Z"
   },
   {
    "duration": 49,
    "start_time": "2022-01-21T07:59:30.707Z"
   },
   {
    "duration": 7,
    "start_time": "2022-01-21T07:59:30.757Z"
   },
   {
    "duration": 11,
    "start_time": "2022-01-21T07:59:30.766Z"
   },
   {
    "duration": 29,
    "start_time": "2022-01-21T07:59:30.778Z"
   },
   {
    "duration": 43,
    "start_time": "2022-01-21T07:59:30.809Z"
   },
   {
    "duration": 14,
    "start_time": "2022-01-21T07:59:30.853Z"
   },
   {
    "duration": 23,
    "start_time": "2022-01-21T07:59:30.868Z"
   },
   {
    "duration": 35,
    "start_time": "2022-01-21T07:59:30.892Z"
   },
   {
    "duration": 25,
    "start_time": "2022-01-21T07:59:30.929Z"
   },
   {
    "duration": 3,
    "start_time": "2022-01-21T07:59:30.956Z"
   },
   {
    "duration": 43,
    "start_time": "2022-01-21T07:59:30.960Z"
   },
   {
    "duration": 25,
    "start_time": "2022-01-21T07:59:31.005Z"
   },
   {
    "duration": 10,
    "start_time": "2022-01-21T07:59:31.031Z"
   },
   {
    "duration": 17,
    "start_time": "2022-01-21T07:59:31.042Z"
   },
   {
    "duration": 10,
    "start_time": "2022-01-21T07:59:31.061Z"
   },
   {
    "duration": 196,
    "start_time": "2022-01-21T07:59:31.072Z"
   },
   {
    "duration": 7,
    "start_time": "2022-01-21T07:59:31.270Z"
   },
   {
    "duration": 27,
    "start_time": "2022-01-21T07:59:31.278Z"
   },
   {
    "duration": 7,
    "start_time": "2022-01-21T07:59:31.307Z"
   },
   {
    "duration": 222,
    "start_time": "2022-01-21T07:59:31.316Z"
   },
   {
    "duration": 28,
    "start_time": "2022-01-21T07:59:31.539Z"
   },
   {
    "duration": 893,
    "start_time": "2022-01-21T07:59:31.568Z"
   },
   {
    "duration": 1132,
    "start_time": "2022-01-21T07:59:32.462Z"
   },
   {
    "duration": 402,
    "start_time": "2022-01-21T07:59:33.596Z"
   },
   {
    "duration": 9,
    "start_time": "2022-01-21T07:59:34.000Z"
   },
   {
    "duration": 22,
    "start_time": "2022-01-21T07:59:34.011Z"
   },
   {
    "duration": 13,
    "start_time": "2022-01-21T07:59:34.036Z"
   },
   {
    "duration": 8,
    "start_time": "2022-01-21T08:06:04.324Z"
   },
   {
    "duration": 7,
    "start_time": "2022-01-21T08:13:00.902Z"
   },
   {
    "duration": 107,
    "start_time": "2022-01-21T08:14:06.280Z"
   },
   {
    "duration": 608,
    "start_time": "2022-01-21T08:14:09.431Z"
   },
   {
    "duration": 18,
    "start_time": "2022-01-21T08:14:46.965Z"
   },
   {
    "duration": 7,
    "start_time": "2022-01-21T08:15:06.654Z"
   },
   {
    "duration": 108,
    "start_time": "2022-01-21T08:16:26.862Z"
   },
   {
    "duration": 110,
    "start_time": "2022-01-21T08:16:35.602Z"
   },
   {
    "duration": 10,
    "start_time": "2022-01-21T08:17:07.730Z"
   },
   {
    "duration": 7,
    "start_time": "2022-01-21T08:17:23.674Z"
   },
   {
    "duration": 99,
    "start_time": "2022-01-21T08:17:55.742Z"
   },
   {
    "duration": 9,
    "start_time": "2022-01-21T08:22:54.228Z"
   },
   {
    "duration": 9,
    "start_time": "2022-01-21T08:23:07.996Z"
   },
   {
    "duration": 9,
    "start_time": "2022-01-21T08:28:32.831Z"
   },
   {
    "duration": 9,
    "start_time": "2022-01-21T08:28:36.100Z"
   },
   {
    "duration": 11,
    "start_time": "2022-01-21T08:28:51.311Z"
   },
   {
    "duration": 10,
    "start_time": "2022-01-21T08:29:22.515Z"
   },
   {
    "duration": 1178,
    "start_time": "2022-01-21T08:29:36.487Z"
   },
   {
    "duration": 379,
    "start_time": "2022-01-21T08:29:37.666Z"
   },
   {
    "duration": 10,
    "start_time": "2022-01-21T08:29:38.047Z"
   },
   {
    "duration": 19,
    "start_time": "2022-01-21T08:29:38.059Z"
   },
   {
    "duration": 27,
    "start_time": "2022-01-21T08:29:38.080Z"
   },
   {
    "duration": 7,
    "start_time": "2022-01-21T08:29:38.108Z"
   },
   {
    "duration": 27,
    "start_time": "2022-01-21T08:29:38.117Z"
   },
   {
    "duration": 22,
    "start_time": "2022-01-21T08:29:38.147Z"
   },
   {
    "duration": 6,
    "start_time": "2022-01-21T08:29:38.171Z"
   },
   {
    "duration": 15,
    "start_time": "2022-01-21T08:29:38.179Z"
   },
   {
    "duration": 31,
    "start_time": "2022-01-21T08:29:38.196Z"
   },
   {
    "duration": 8,
    "start_time": "2022-01-21T08:29:38.229Z"
   },
   {
    "duration": 7,
    "start_time": "2022-01-21T08:29:38.239Z"
   },
   {
    "duration": 28,
    "start_time": "2022-01-21T08:29:38.247Z"
   },
   {
    "duration": 8,
    "start_time": "2022-01-21T08:29:38.276Z"
   },
   {
    "duration": 7,
    "start_time": "2022-01-21T08:29:38.285Z"
   },
   {
    "duration": 38,
    "start_time": "2022-01-21T08:29:38.294Z"
   },
   {
    "duration": 12,
    "start_time": "2022-01-21T08:29:38.334Z"
   },
   {
    "duration": 57,
    "start_time": "2022-01-21T08:29:38.348Z"
   },
   {
    "duration": 63,
    "start_time": "2022-01-21T08:29:38.407Z"
   },
   {
    "duration": 7,
    "start_time": "2022-01-21T08:29:38.471Z"
   },
   {
    "duration": 8,
    "start_time": "2022-01-21T08:29:38.480Z"
   },
   {
    "duration": 36,
    "start_time": "2022-01-21T08:29:38.491Z"
   },
   {
    "duration": 32,
    "start_time": "2022-01-21T08:29:38.529Z"
   },
   {
    "duration": 14,
    "start_time": "2022-01-21T08:29:38.562Z"
   },
   {
    "duration": 22,
    "start_time": "2022-01-21T08:29:38.577Z"
   },
   {
    "duration": 36,
    "start_time": "2022-01-21T08:29:38.600Z"
   },
   {
    "duration": 24,
    "start_time": "2022-01-21T08:29:38.637Z"
   },
   {
    "duration": 3,
    "start_time": "2022-01-21T08:29:38.663Z"
   },
   {
    "duration": 37,
    "start_time": "2022-01-21T08:29:38.668Z"
   },
   {
    "duration": 23,
    "start_time": "2022-01-21T08:29:38.706Z"
   },
   {
    "duration": 8,
    "start_time": "2022-01-21T08:29:38.731Z"
   },
   {
    "duration": 8,
    "start_time": "2022-01-21T08:29:38.740Z"
   },
   {
    "duration": 4,
    "start_time": "2022-01-21T08:29:38.750Z"
   },
   {
    "duration": 213,
    "start_time": "2022-01-21T08:29:38.755Z"
   },
   {
    "duration": 12,
    "start_time": "2022-01-21T08:29:38.970Z"
   },
   {
    "duration": 23,
    "start_time": "2022-01-21T08:29:38.983Z"
   },
   {
    "duration": 19,
    "start_time": "2022-01-21T08:29:39.008Z"
   },
   {
    "duration": 221,
    "start_time": "2022-01-21T08:29:39.028Z"
   },
   {
    "duration": 30,
    "start_time": "2022-01-21T08:29:39.250Z"
   },
   {
    "duration": 914,
    "start_time": "2022-01-21T08:29:39.282Z"
   },
   {
    "duration": 1263,
    "start_time": "2022-01-21T08:29:40.198Z"
   },
   {
    "duration": 328,
    "start_time": "2022-01-21T08:29:41.462Z"
   },
   {
    "duration": 10,
    "start_time": "2022-01-21T08:29:41.791Z"
   },
   {
    "duration": 10,
    "start_time": "2022-01-21T08:29:41.802Z"
   },
   {
    "duration": 25,
    "start_time": "2022-01-21T08:29:41.813Z"
   },
   {
    "duration": 8,
    "start_time": "2022-01-21T08:30:08.799Z"
   },
   {
    "duration": 9,
    "start_time": "2022-01-21T08:30:54.296Z"
   },
   {
    "duration": 1151,
    "start_time": "2022-01-21T08:31:25.908Z"
   },
   {
    "duration": 385,
    "start_time": "2022-01-21T08:31:27.061Z"
   },
   {
    "duration": 10,
    "start_time": "2022-01-21T08:31:27.448Z"
   },
   {
    "duration": 20,
    "start_time": "2022-01-21T08:31:27.459Z"
   },
   {
    "duration": 27,
    "start_time": "2022-01-21T08:31:27.481Z"
   },
   {
    "duration": 6,
    "start_time": "2022-01-21T08:31:27.510Z"
   },
   {
    "duration": 21,
    "start_time": "2022-01-21T08:31:27.517Z"
   },
   {
    "duration": 20,
    "start_time": "2022-01-21T08:31:27.540Z"
   },
   {
    "duration": 7,
    "start_time": "2022-01-21T08:31:27.562Z"
   },
   {
    "duration": 14,
    "start_time": "2022-01-21T08:31:27.570Z"
   },
   {
    "duration": 18,
    "start_time": "2022-01-21T08:31:27.585Z"
   },
   {
    "duration": 29,
    "start_time": "2022-01-21T08:31:27.604Z"
   },
   {
    "duration": 11,
    "start_time": "2022-01-21T08:31:27.634Z"
   },
   {
    "duration": 28,
    "start_time": "2022-01-21T08:31:27.646Z"
   },
   {
    "duration": 8,
    "start_time": "2022-01-21T08:31:27.676Z"
   },
   {
    "duration": 7,
    "start_time": "2022-01-21T08:31:27.686Z"
   },
   {
    "duration": 34,
    "start_time": "2022-01-21T08:31:27.694Z"
   },
   {
    "duration": 13,
    "start_time": "2022-01-21T08:31:27.730Z"
   },
   {
    "duration": 58,
    "start_time": "2022-01-21T08:31:27.744Z"
   },
   {
    "duration": 62,
    "start_time": "2022-01-21T08:31:27.804Z"
   },
   {
    "duration": 8,
    "start_time": "2022-01-21T08:31:27.867Z"
   },
   {
    "duration": 10,
    "start_time": "2022-01-21T08:31:27.876Z"
   },
   {
    "duration": 23,
    "start_time": "2022-01-21T08:31:27.887Z"
   },
   {
    "duration": 47,
    "start_time": "2022-01-21T08:31:27.911Z"
   },
   {
    "duration": 14,
    "start_time": "2022-01-21T08:31:27.960Z"
   },
   {
    "duration": 21,
    "start_time": "2022-01-21T08:31:27.975Z"
   },
   {
    "duration": 36,
    "start_time": "2022-01-21T08:31:27.999Z"
   },
   {
    "duration": 24,
    "start_time": "2022-01-21T08:31:28.037Z"
   },
   {
    "duration": 3,
    "start_time": "2022-01-21T08:31:28.062Z"
   },
   {
    "duration": 35,
    "start_time": "2022-01-21T08:31:28.067Z"
   },
   {
    "duration": 6,
    "start_time": "2022-01-21T08:31:28.127Z"
   },
   {
    "duration": 8,
    "start_time": "2022-01-21T08:31:28.135Z"
   },
   {
    "duration": 8,
    "start_time": "2022-01-21T08:31:28.145Z"
   },
   {
    "duration": 3,
    "start_time": "2022-01-21T08:31:28.154Z"
   },
   {
    "duration": 214,
    "start_time": "2022-01-21T08:31:28.158Z"
   },
   {
    "duration": 7,
    "start_time": "2022-01-21T08:31:28.373Z"
   },
   {
    "duration": 21,
    "start_time": "2022-01-21T08:31:28.382Z"
   },
   {
    "duration": 25,
    "start_time": "2022-01-21T08:31:28.405Z"
   },
   {
    "duration": 204,
    "start_time": "2022-01-21T08:31:28.432Z"
   },
   {
    "duration": 28,
    "start_time": "2022-01-21T08:31:28.638Z"
   },
   {
    "duration": 880,
    "start_time": "2022-01-21T08:31:28.668Z"
   },
   {
    "duration": 892,
    "start_time": "2022-01-21T08:31:29.550Z"
   },
   {
    "duration": 320,
    "start_time": "2022-01-21T08:31:30.444Z"
   },
   {
    "duration": 9,
    "start_time": "2022-01-21T08:31:30.766Z"
   },
   {
    "duration": 13,
    "start_time": "2022-01-21T08:31:30.777Z"
   },
   {
    "duration": 22,
    "start_time": "2022-01-21T08:31:30.792Z"
   },
   {
    "duration": 8,
    "start_time": "2022-01-21T08:31:58.585Z"
   },
   {
    "duration": 9,
    "start_time": "2022-01-21T08:32:16.287Z"
   },
   {
    "duration": 1154,
    "start_time": "2022-01-21T08:32:44.309Z"
   },
   {
    "duration": 382,
    "start_time": "2022-01-21T08:32:45.465Z"
   },
   {
    "duration": 9,
    "start_time": "2022-01-21T08:32:45.849Z"
   },
   {
    "duration": 19,
    "start_time": "2022-01-21T08:32:45.860Z"
   },
   {
    "duration": 26,
    "start_time": "2022-01-21T08:32:45.880Z"
   },
   {
    "duration": 6,
    "start_time": "2022-01-21T08:32:45.908Z"
   },
   {
    "duration": 21,
    "start_time": "2022-01-21T08:32:45.915Z"
   },
   {
    "duration": 21,
    "start_time": "2022-01-21T08:32:45.938Z"
   },
   {
    "duration": 7,
    "start_time": "2022-01-21T08:32:45.961Z"
   },
   {
    "duration": 15,
    "start_time": "2022-01-21T08:32:45.970Z"
   },
   {
    "duration": 13,
    "start_time": "2022-01-21T08:32:45.987Z"
   },
   {
    "duration": 31,
    "start_time": "2022-01-21T08:32:46.002Z"
   },
   {
    "duration": 7,
    "start_time": "2022-01-21T08:32:46.035Z"
   },
   {
    "duration": 25,
    "start_time": "2022-01-21T08:32:46.043Z"
   },
   {
    "duration": 8,
    "start_time": "2022-01-21T08:32:46.069Z"
   },
   {
    "duration": 8,
    "start_time": "2022-01-21T08:32:46.079Z"
   },
   {
    "duration": 39,
    "start_time": "2022-01-21T08:32:46.088Z"
   },
   {
    "duration": 13,
    "start_time": "2022-01-21T08:32:46.128Z"
   },
   {
    "duration": 60,
    "start_time": "2022-01-21T08:32:46.142Z"
   },
   {
    "duration": 63,
    "start_time": "2022-01-21T08:32:46.203Z"
   },
   {
    "duration": 7,
    "start_time": "2022-01-21T08:32:46.267Z"
   },
   {
    "duration": 11,
    "start_time": "2022-01-21T08:32:46.275Z"
   },
   {
    "duration": 30,
    "start_time": "2022-01-21T08:32:46.288Z"
   },
   {
    "duration": 38,
    "start_time": "2022-01-21T08:32:46.319Z"
   },
   {
    "duration": 13,
    "start_time": "2022-01-21T08:32:46.359Z"
   },
   {
    "duration": 22,
    "start_time": "2022-01-21T08:32:46.373Z"
   },
   {
    "duration": 35,
    "start_time": "2022-01-21T08:32:46.398Z"
   },
   {
    "duration": 24,
    "start_time": "2022-01-21T08:32:46.435Z"
   },
   {
    "duration": 4,
    "start_time": "2022-01-21T08:32:46.460Z"
   },
   {
    "duration": 38,
    "start_time": "2022-01-21T08:32:46.465Z"
   },
   {
    "duration": 23,
    "start_time": "2022-01-21T08:32:46.505Z"
   },
   {
    "duration": 10,
    "start_time": "2022-01-21T08:32:46.529Z"
   },
   {
    "duration": 8,
    "start_time": "2022-01-21T08:32:46.540Z"
   },
   {
    "duration": 4,
    "start_time": "2022-01-21T08:32:46.549Z"
   },
   {
    "duration": 212,
    "start_time": "2022-01-21T08:32:46.555Z"
   },
   {
    "duration": 7,
    "start_time": "2022-01-21T08:32:46.769Z"
   },
   {
    "duration": 22,
    "start_time": "2022-01-21T08:32:46.777Z"
   },
   {
    "duration": 8,
    "start_time": "2022-01-21T08:32:46.801Z"
   },
   {
    "duration": 184,
    "start_time": "2022-01-21T08:32:46.827Z"
   },
   {
    "duration": 38,
    "start_time": "2022-01-21T08:32:47.013Z"
   },
   {
    "duration": 898,
    "start_time": "2022-01-21T08:32:47.053Z"
   },
   {
    "duration": 994,
    "start_time": "2022-01-21T08:32:47.953Z"
   },
   {
    "duration": 324,
    "start_time": "2022-01-21T08:32:48.949Z"
   },
   {
    "duration": 12,
    "start_time": "2022-01-21T08:32:49.275Z"
   },
   {
    "duration": 13,
    "start_time": "2022-01-21T08:32:49.288Z"
   },
   {
    "duration": 31,
    "start_time": "2022-01-21T08:32:49.302Z"
   },
   {
    "duration": 9,
    "start_time": "2022-01-21T08:33:04.348Z"
   },
   {
    "duration": 7,
    "start_time": "2022-01-21T08:33:07.259Z"
   },
   {
    "duration": 9,
    "start_time": "2022-01-21T08:33:19.142Z"
   },
   {
    "duration": 8,
    "start_time": "2022-01-21T08:33:22.871Z"
   },
   {
    "duration": 9,
    "start_time": "2022-01-21T08:33:33.378Z"
   },
   {
    "duration": 8,
    "start_time": "2022-01-21T08:33:36.227Z"
   },
   {
    "duration": 1167,
    "start_time": "2022-01-21T08:34:01.298Z"
   },
   {
    "duration": 387,
    "start_time": "2022-01-21T08:34:02.466Z"
   },
   {
    "duration": 9,
    "start_time": "2022-01-21T08:34:02.855Z"
   },
   {
    "duration": 24,
    "start_time": "2022-01-21T08:34:02.865Z"
   },
   {
    "duration": 27,
    "start_time": "2022-01-21T08:34:02.890Z"
   },
   {
    "duration": 7,
    "start_time": "2022-01-21T08:34:02.919Z"
   },
   {
    "duration": 20,
    "start_time": "2022-01-21T08:34:02.928Z"
   },
   {
    "duration": 23,
    "start_time": "2022-01-21T08:34:02.949Z"
   },
   {
    "duration": 6,
    "start_time": "2022-01-21T08:34:02.976Z"
   },
   {
    "duration": 22,
    "start_time": "2022-01-21T08:34:02.984Z"
   },
   {
    "duration": 26,
    "start_time": "2022-01-21T08:34:03.008Z"
   },
   {
    "duration": 21,
    "start_time": "2022-01-21T08:34:03.036Z"
   },
   {
    "duration": 17,
    "start_time": "2022-01-21T08:34:03.059Z"
   },
   {
    "duration": 46,
    "start_time": "2022-01-21T08:34:03.077Z"
   },
   {
    "duration": 8,
    "start_time": "2022-01-21T08:34:03.125Z"
   },
   {
    "duration": 19,
    "start_time": "2022-01-21T08:34:03.135Z"
   },
   {
    "duration": 22,
    "start_time": "2022-01-21T08:34:03.156Z"
   },
   {
    "duration": 16,
    "start_time": "2022-01-21T08:34:03.179Z"
   },
   {
    "duration": 67,
    "start_time": "2022-01-21T08:34:03.196Z"
   },
   {
    "duration": 48,
    "start_time": "2022-01-21T08:34:03.264Z"
   },
   {
    "duration": 16,
    "start_time": "2022-01-21T08:34:03.314Z"
   },
   {
    "duration": 12,
    "start_time": "2022-01-21T08:34:03.332Z"
   },
   {
    "duration": 23,
    "start_time": "2022-01-21T08:34:03.345Z"
   },
   {
    "duration": 34,
    "start_time": "2022-01-21T08:34:03.369Z"
   },
   {
    "duration": 34,
    "start_time": "2022-01-21T08:34:03.405Z"
   },
   {
    "duration": 21,
    "start_time": "2022-01-21T08:34:03.440Z"
   },
   {
    "duration": 16,
    "start_time": "2022-01-21T08:34:03.464Z"
   },
   {
    "duration": 47,
    "start_time": "2022-01-21T08:34:03.481Z"
   },
   {
    "duration": 3,
    "start_time": "2022-01-21T08:34:03.530Z"
   },
   {
    "duration": 42,
    "start_time": "2022-01-21T08:34:03.534Z"
   },
   {
    "duration": 6,
    "start_time": "2022-01-21T08:34:03.578Z"
   },
   {
    "duration": 8,
    "start_time": "2022-01-21T08:34:03.586Z"
   },
   {
    "duration": 8,
    "start_time": "2022-01-21T08:34:03.596Z"
   },
   {
    "duration": 24,
    "start_time": "2022-01-21T08:34:03.605Z"
   },
   {
    "duration": 258,
    "start_time": "2022-01-21T08:34:03.630Z"
   },
   {
    "duration": 8,
    "start_time": "2022-01-21T08:34:03.890Z"
   },
   {
    "duration": 31,
    "start_time": "2022-01-21T08:34:03.899Z"
   },
   {
    "duration": 10,
    "start_time": "2022-01-21T08:34:03.931Z"
   },
   {
    "duration": 287,
    "start_time": "2022-01-21T08:34:03.942Z"
   },
   {
    "duration": 37,
    "start_time": "2022-01-21T08:34:04.231Z"
   },
   {
    "duration": 882,
    "start_time": "2022-01-21T08:34:04.270Z"
   },
   {
    "duration": 1285,
    "start_time": "2022-01-21T08:34:05.153Z"
   },
   {
    "duration": 328,
    "start_time": "2022-01-21T08:34:06.440Z"
   },
   {
    "duration": 11,
    "start_time": "2022-01-21T08:34:06.770Z"
   },
   {
    "duration": 9,
    "start_time": "2022-01-21T08:34:06.783Z"
   },
   {
    "duration": 16,
    "start_time": "2022-01-21T08:34:06.793Z"
   },
   {
    "duration": 1078,
    "start_time": "2022-01-21T08:34:30.188Z"
   },
   {
    "duration": 386,
    "start_time": "2022-01-21T08:34:31.267Z"
   },
   {
    "duration": 10,
    "start_time": "2022-01-21T08:34:31.655Z"
   },
   {
    "duration": 22,
    "start_time": "2022-01-21T08:34:31.667Z"
   },
   {
    "duration": 28,
    "start_time": "2022-01-21T08:34:31.690Z"
   },
   {
    "duration": 6,
    "start_time": "2022-01-21T08:34:31.720Z"
   },
   {
    "duration": 29,
    "start_time": "2022-01-21T08:34:31.727Z"
   },
   {
    "duration": 22,
    "start_time": "2022-01-21T08:34:31.759Z"
   },
   {
    "duration": 6,
    "start_time": "2022-01-21T08:34:31.782Z"
   },
   {
    "duration": 15,
    "start_time": "2022-01-21T08:34:31.789Z"
   },
   {
    "duration": 12,
    "start_time": "2022-01-21T08:34:31.805Z"
   },
   {
    "duration": 7,
    "start_time": "2022-01-21T08:34:31.827Z"
   },
   {
    "duration": 6,
    "start_time": "2022-01-21T08:34:31.835Z"
   },
   {
    "duration": 25,
    "start_time": "2022-01-21T08:34:31.842Z"
   },
   {
    "duration": 8,
    "start_time": "2022-01-21T08:34:31.868Z"
   },
   {
    "duration": 7,
    "start_time": "2022-01-21T08:34:31.878Z"
   },
   {
    "duration": 14,
    "start_time": "2022-01-21T08:34:31.886Z"
   },
   {
    "duration": 13,
    "start_time": "2022-01-21T08:34:31.927Z"
   },
   {
    "duration": 59,
    "start_time": "2022-01-21T08:34:31.941Z"
   },
   {
    "duration": 67,
    "start_time": "2022-01-21T08:34:32.001Z"
   },
   {
    "duration": 7,
    "start_time": "2022-01-21T08:34:32.070Z"
   },
   {
    "duration": 10,
    "start_time": "2022-01-21T08:34:32.078Z"
   },
   {
    "duration": 38,
    "start_time": "2022-01-21T08:34:32.091Z"
   },
   {
    "duration": 33,
    "start_time": "2022-01-21T08:34:32.131Z"
   },
   {
    "duration": 13,
    "start_time": "2022-01-21T08:34:32.166Z"
   },
   {
    "duration": 21,
    "start_time": "2022-01-21T08:34:32.181Z"
   },
   {
    "duration": 35,
    "start_time": "2022-01-21T08:34:32.204Z"
   },
   {
    "duration": 24,
    "start_time": "2022-01-21T08:34:32.241Z"
   },
   {
    "duration": 3,
    "start_time": "2022-01-21T08:34:32.266Z"
   },
   {
    "duration": 36,
    "start_time": "2022-01-21T08:34:32.271Z"
   },
   {
    "duration": 22,
    "start_time": "2022-01-21T08:34:32.309Z"
   },
   {
    "duration": 8,
    "start_time": "2022-01-21T08:34:32.333Z"
   },
   {
    "duration": 7,
    "start_time": "2022-01-21T08:34:32.342Z"
   },
   {
    "duration": 6,
    "start_time": "2022-01-21T08:34:32.351Z"
   },
   {
    "duration": 220,
    "start_time": "2022-01-21T08:34:32.358Z"
   },
   {
    "duration": 7,
    "start_time": "2022-01-21T08:34:32.580Z"
   },
   {
    "duration": 20,
    "start_time": "2022-01-21T08:34:32.588Z"
   },
   {
    "duration": 19,
    "start_time": "2022-01-21T08:34:32.610Z"
   },
   {
    "duration": 194,
    "start_time": "2022-01-21T08:34:32.630Z"
   },
   {
    "duration": 28,
    "start_time": "2022-01-21T08:34:32.827Z"
   },
   {
    "duration": 980,
    "start_time": "2022-01-21T08:34:32.857Z"
   },
   {
    "duration": 929,
    "start_time": "2022-01-21T08:34:33.839Z"
   },
   {
    "duration": 530,
    "start_time": "2022-01-21T08:34:34.769Z"
   },
   {
    "duration": 9,
    "start_time": "2022-01-21T08:34:35.301Z"
   },
   {
    "duration": 20,
    "start_time": "2022-01-21T08:34:35.311Z"
   },
   {
    "duration": 12,
    "start_time": "2022-01-21T08:34:35.333Z"
   },
   {
    "duration": 29,
    "start_time": "2022-01-21T08:36:18.708Z"
   },
   {
    "duration": 461,
    "start_time": "2022-01-21T08:37:19.574Z"
   },
   {
    "duration": 339,
    "start_time": "2022-01-21T08:38:10.886Z"
   },
   {
    "duration": 386,
    "start_time": "2022-01-21T08:38:28.132Z"
   },
   {
    "duration": 342,
    "start_time": "2022-01-21T08:38:52.860Z"
   },
   {
    "duration": 29,
    "start_time": "2022-01-21T08:39:12.533Z"
   },
   {
    "duration": 8217,
    "start_time": "2022-01-21T08:40:00.283Z"
   },
   {
    "duration": 8654,
    "start_time": "2022-01-21T08:41:11.828Z"
   },
   {
    "duration": 421,
    "start_time": "2022-01-21T08:41:38.552Z"
   },
   {
    "duration": 369,
    "start_time": "2022-01-21T08:41:56.655Z"
   },
   {
    "duration": 338,
    "start_time": "2022-01-21T08:42:13.454Z"
   },
   {
    "duration": 111,
    "start_time": "2022-01-21T08:45:36.969Z"
   },
   {
    "duration": 448,
    "start_time": "2022-01-21T08:45:42.303Z"
   },
   {
    "duration": 424,
    "start_time": "2022-01-21T08:45:58.649Z"
   },
   {
    "duration": 26,
    "start_time": "2022-01-21T08:46:17.660Z"
   },
   {
    "duration": 361,
    "start_time": "2022-01-21T08:50:34.808Z"
   },
   {
    "duration": 194,
    "start_time": "2022-01-21T08:53:10.696Z"
   },
   {
    "duration": 332,
    "start_time": "2022-01-21T08:53:39.928Z"
   },
   {
    "duration": 196,
    "start_time": "2022-01-21T08:53:44.985Z"
   },
   {
    "duration": 10,
    "start_time": "2022-01-21T08:54:37.260Z"
   },
   {
    "duration": 1154,
    "start_time": "2022-01-21T08:57:28.263Z"
   },
   {
    "duration": 402,
    "start_time": "2022-01-21T08:57:29.418Z"
   },
   {
    "duration": 11,
    "start_time": "2022-01-21T08:57:29.822Z"
   },
   {
    "duration": 32,
    "start_time": "2022-01-21T08:57:29.835Z"
   },
   {
    "duration": 28,
    "start_time": "2022-01-21T08:57:29.869Z"
   },
   {
    "duration": 7,
    "start_time": "2022-01-21T08:57:29.898Z"
   },
   {
    "duration": 33,
    "start_time": "2022-01-21T08:57:29.906Z"
   },
   {
    "duration": 23,
    "start_time": "2022-01-21T08:57:29.941Z"
   },
   {
    "duration": 6,
    "start_time": "2022-01-21T08:57:29.966Z"
   },
   {
    "duration": 14,
    "start_time": "2022-01-21T08:57:29.974Z"
   },
   {
    "duration": 13,
    "start_time": "2022-01-21T08:57:29.989Z"
   },
   {
    "duration": 29,
    "start_time": "2022-01-21T08:57:30.003Z"
   },
   {
    "duration": 9,
    "start_time": "2022-01-21T08:57:30.034Z"
   },
   {
    "duration": 30,
    "start_time": "2022-01-21T08:57:30.044Z"
   },
   {
    "duration": 8,
    "start_time": "2022-01-21T08:57:30.075Z"
   },
   {
    "duration": 8,
    "start_time": "2022-01-21T08:57:30.085Z"
   },
   {
    "duration": 17,
    "start_time": "2022-01-21T08:57:30.094Z"
   },
   {
    "duration": 15,
    "start_time": "2022-01-21T08:57:30.136Z"
   },
   {
    "duration": 64,
    "start_time": "2022-01-21T08:57:30.152Z"
   },
   {
    "duration": 67,
    "start_time": "2022-01-21T08:57:30.218Z"
   },
   {
    "duration": 7,
    "start_time": "2022-01-21T08:57:30.286Z"
   },
   {
    "duration": 10,
    "start_time": "2022-01-21T08:57:30.294Z"
   },
   {
    "duration": 40,
    "start_time": "2022-01-21T08:57:30.305Z"
   },
   {
    "duration": 38,
    "start_time": "2022-01-21T08:57:30.347Z"
   },
   {
    "duration": 14,
    "start_time": "2022-01-21T08:57:30.387Z"
   },
   {
    "duration": 45,
    "start_time": "2022-01-21T08:57:30.403Z"
   },
   {
    "duration": 16,
    "start_time": "2022-01-21T08:57:30.452Z"
   },
   {
    "duration": 28,
    "start_time": "2022-01-21T08:57:30.470Z"
   },
   {
    "duration": 29,
    "start_time": "2022-01-21T08:57:30.500Z"
   },
   {
    "duration": 29,
    "start_time": "2022-01-21T08:57:30.530Z"
   },
   {
    "duration": 5,
    "start_time": "2022-01-21T08:57:30.560Z"
   },
   {
    "duration": 7,
    "start_time": "2022-01-21T08:57:30.567Z"
   },
   {
    "duration": 5,
    "start_time": "2022-01-21T08:57:30.576Z"
   },
   {
    "duration": 4,
    "start_time": "2022-01-21T08:57:30.582Z"
   },
   {
    "duration": 11267,
    "start_time": "2022-01-21T08:57:30.587Z"
   },
   {
    "duration": -133,
    "start_time": "2022-01-21T08:57:41.989Z"
   },
   {
    "duration": -135,
    "start_time": "2022-01-21T08:57:41.992Z"
   },
   {
    "duration": -148,
    "start_time": "2022-01-21T08:57:42.006Z"
   },
   {
    "duration": -159,
    "start_time": "2022-01-21T08:57:42.018Z"
   },
   {
    "duration": -165,
    "start_time": "2022-01-21T08:57:42.025Z"
   },
   {
    "duration": -180,
    "start_time": "2022-01-21T08:57:42.041Z"
   },
   {
    "duration": -196,
    "start_time": "2022-01-21T08:57:42.058Z"
   },
   {
    "duration": -208,
    "start_time": "2022-01-21T08:57:42.071Z"
   },
   {
    "duration": -210,
    "start_time": "2022-01-21T08:57:42.074Z"
   },
   {
    "duration": -222,
    "start_time": "2022-01-21T08:57:42.087Z"
   },
   {
    "duration": -224,
    "start_time": "2022-01-21T08:57:42.090Z"
   },
   {
    "duration": -227,
    "start_time": "2022-01-21T08:57:42.094Z"
   },
   {
    "duration": 29,
    "start_time": "2022-01-21T08:59:59.458Z"
   },
   {
    "duration": 352,
    "start_time": "2022-01-21T09:54:46.105Z"
   },
   {
    "duration": 1109,
    "start_time": "2022-01-21T09:55:01.263Z"
   },
   {
    "duration": 539,
    "start_time": "2022-01-21T09:55:02.374Z"
   },
   {
    "duration": 12,
    "start_time": "2022-01-21T09:55:02.915Z"
   },
   {
    "duration": 20,
    "start_time": "2022-01-21T09:55:02.929Z"
   },
   {
    "duration": 29,
    "start_time": "2022-01-21T09:55:02.950Z"
   },
   {
    "duration": 7,
    "start_time": "2022-01-21T09:55:02.980Z"
   },
   {
    "duration": 18,
    "start_time": "2022-01-21T09:55:02.989Z"
   },
   {
    "duration": 41,
    "start_time": "2022-01-21T09:55:03.008Z"
   },
   {
    "duration": 6,
    "start_time": "2022-01-21T09:55:03.051Z"
   },
   {
    "duration": 14,
    "start_time": "2022-01-21T09:55:03.060Z"
   },
   {
    "duration": 15,
    "start_time": "2022-01-21T09:55:03.075Z"
   },
   {
    "duration": 37,
    "start_time": "2022-01-21T09:55:03.092Z"
   },
   {
    "duration": 8,
    "start_time": "2022-01-21T09:55:03.130Z"
   },
   {
    "duration": 25,
    "start_time": "2022-01-21T09:55:03.140Z"
   },
   {
    "duration": 8,
    "start_time": "2022-01-21T09:55:03.167Z"
   },
   {
    "duration": 7,
    "start_time": "2022-01-21T09:55:03.176Z"
   },
   {
    "duration": 15,
    "start_time": "2022-01-21T09:55:03.184Z"
   },
   {
    "duration": 40,
    "start_time": "2022-01-21T09:55:03.200Z"
   },
   {
    "duration": 66,
    "start_time": "2022-01-21T09:55:03.241Z"
   },
   {
    "duration": 67,
    "start_time": "2022-01-21T09:55:03.309Z"
   },
   {
    "duration": 8,
    "start_time": "2022-01-21T09:55:03.378Z"
   },
   {
    "duration": 10,
    "start_time": "2022-01-21T09:55:03.387Z"
   },
   {
    "duration": 47,
    "start_time": "2022-01-21T09:55:03.398Z"
   },
   {
    "duration": 36,
    "start_time": "2022-01-21T09:55:03.447Z"
   },
   {
    "duration": 13,
    "start_time": "2022-01-21T09:55:03.485Z"
   },
   {
    "duration": 43,
    "start_time": "2022-01-21T09:55:03.500Z"
   },
   {
    "duration": 15,
    "start_time": "2022-01-21T09:55:03.546Z"
   },
   {
    "duration": 25,
    "start_time": "2022-01-21T09:55:03.563Z"
   },
   {
    "duration": 3,
    "start_time": "2022-01-21T09:55:03.589Z"
   },
   {
    "duration": 452,
    "start_time": "2022-01-21T09:55:03.594Z"
   },
   {
    "duration": -68,
    "start_time": "2022-01-21T09:55:04.117Z"
   },
   {
    "duration": -71,
    "start_time": "2022-01-21T09:55:04.121Z"
   },
   {
    "duration": -74,
    "start_time": "2022-01-21T09:55:04.125Z"
   },
   {
    "duration": -79,
    "start_time": "2022-01-21T09:55:04.131Z"
   },
   {
    "duration": -81,
    "start_time": "2022-01-21T09:55:04.134Z"
   },
   {
    "duration": -83,
    "start_time": "2022-01-21T09:55:04.137Z"
   },
   {
    "duration": -85,
    "start_time": "2022-01-21T09:55:04.140Z"
   },
   {
    "duration": -87,
    "start_time": "2022-01-21T09:55:04.143Z"
   },
   {
    "duration": -89,
    "start_time": "2022-01-21T09:55:04.146Z"
   },
   {
    "duration": -91,
    "start_time": "2022-01-21T09:55:04.149Z"
   },
   {
    "duration": -93,
    "start_time": "2022-01-21T09:55:04.152Z"
   },
   {
    "duration": -96,
    "start_time": "2022-01-21T09:55:04.155Z"
   },
   {
    "duration": -98,
    "start_time": "2022-01-21T09:55:04.158Z"
   },
   {
    "duration": -100,
    "start_time": "2022-01-21T09:55:04.161Z"
   },
   {
    "duration": -102,
    "start_time": "2022-01-21T09:55:04.164Z"
   },
   {
    "duration": -104,
    "start_time": "2022-01-21T09:55:04.167Z"
   },
   {
    "duration": -106,
    "start_time": "2022-01-21T09:55:04.170Z"
   },
   {
    "duration": 345,
    "start_time": "2022-01-21T09:55:22.292Z"
   },
   {
    "duration": 36,
    "start_time": "2022-01-21T09:55:58.928Z"
   },
   {
    "duration": 35,
    "start_time": "2022-01-21T09:56:35.740Z"
   },
   {
    "duration": 1080,
    "start_time": "2022-01-21T09:57:13.679Z"
   },
   {
    "duration": 388,
    "start_time": "2022-01-21T09:57:14.761Z"
   },
   {
    "duration": 10,
    "start_time": "2022-01-21T09:57:15.151Z"
   },
   {
    "duration": 20,
    "start_time": "2022-01-21T09:57:15.163Z"
   },
   {
    "duration": 28,
    "start_time": "2022-01-21T09:57:15.185Z"
   },
   {
    "duration": 7,
    "start_time": "2022-01-21T09:57:15.214Z"
   },
   {
    "duration": 18,
    "start_time": "2022-01-21T09:57:15.222Z"
   },
   {
    "duration": 22,
    "start_time": "2022-01-21T09:57:15.242Z"
   },
   {
    "duration": 6,
    "start_time": "2022-01-21T09:57:15.266Z"
   },
   {
    "duration": 13,
    "start_time": "2022-01-21T09:57:15.274Z"
   },
   {
    "duration": 12,
    "start_time": "2022-01-21T09:57:15.289Z"
   },
   {
    "duration": 7,
    "start_time": "2022-01-21T09:57:15.327Z"
   },
   {
    "duration": 6,
    "start_time": "2022-01-21T09:57:15.335Z"
   },
   {
    "duration": 24,
    "start_time": "2022-01-21T09:57:15.343Z"
   },
   {
    "duration": 9,
    "start_time": "2022-01-21T09:57:15.369Z"
   },
   {
    "duration": 7,
    "start_time": "2022-01-21T09:57:15.379Z"
   },
   {
    "duration": 40,
    "start_time": "2022-01-21T09:57:15.388Z"
   },
   {
    "duration": 14,
    "start_time": "2022-01-21T09:57:15.429Z"
   },
   {
    "duration": 60,
    "start_time": "2022-01-21T09:57:15.444Z"
   },
   {
    "duration": 59,
    "start_time": "2022-01-21T09:57:15.506Z"
   },
   {
    "duration": 7,
    "start_time": "2022-01-21T09:57:15.567Z"
   },
   {
    "duration": 8,
    "start_time": "2022-01-21T09:57:15.576Z"
   },
   {
    "duration": 40,
    "start_time": "2022-01-21T09:57:15.587Z"
   },
   {
    "duration": 36,
    "start_time": "2022-01-21T09:57:15.629Z"
   },
   {
    "duration": 13,
    "start_time": "2022-01-21T09:57:15.666Z"
   },
   {
    "duration": 23,
    "start_time": "2022-01-21T09:57:15.681Z"
   },
   {
    "duration": 35,
    "start_time": "2022-01-21T09:57:15.705Z"
   },
   {
    "duration": 24,
    "start_time": "2022-01-21T09:57:15.742Z"
   },
   {
    "duration": 3,
    "start_time": "2022-01-21T09:57:15.767Z"
   },
   {
    "duration": 33,
    "start_time": "2022-01-21T09:57:15.772Z"
   },
   {
    "duration": 22,
    "start_time": "2022-01-21T09:57:15.806Z"
   },
   {
    "duration": 8,
    "start_time": "2022-01-21T09:57:15.829Z"
   },
   {
    "duration": 10,
    "start_time": "2022-01-21T09:57:15.838Z"
   },
   {
    "duration": 7,
    "start_time": "2022-01-21T09:57:15.849Z"
   },
   {
    "duration": 190,
    "start_time": "2022-01-21T09:57:15.857Z"
   },
   {
    "duration": 7,
    "start_time": "2022-01-21T09:57:16.049Z"
   },
   {
    "duration": 16,
    "start_time": "2022-01-21T09:57:16.058Z"
   },
   {
    "duration": 8,
    "start_time": "2022-01-21T09:57:16.075Z"
   },
   {
    "duration": 14,
    "start_time": "2022-01-21T09:57:16.084Z"
   },
   {
    "duration": 252,
    "start_time": "2022-01-21T09:57:16.099Z"
   },
   {
    "duration": 405,
    "start_time": "2022-01-21T09:57:16.352Z"
   },
   {
    "duration": -127,
    "start_time": "2022-01-21T09:57:16.886Z"
   },
   {
    "duration": -129,
    "start_time": "2022-01-21T09:57:16.890Z"
   },
   {
    "duration": -151,
    "start_time": "2022-01-21T09:57:16.913Z"
   },
   {
    "duration": -154,
    "start_time": "2022-01-21T09:57:16.917Z"
   },
   {
    "duration": -159,
    "start_time": "2022-01-21T09:57:16.923Z"
   },
   {
    "duration": -161,
    "start_time": "2022-01-21T09:57:16.927Z"
   },
   {
    "duration": 199,
    "start_time": "2022-01-21T09:58:13.188Z"
   },
   {
    "duration": 205,
    "start_time": "2022-01-21T09:59:17.650Z"
   },
   {
    "duration": 31,
    "start_time": "2022-01-21T09:59:32.108Z"
   },
   {
    "duration": 884,
    "start_time": "2022-01-21T10:00:00.990Z"
   },
   {
    "duration": 918,
    "start_time": "2022-01-21T10:00:04.987Z"
   },
   {
    "duration": 315,
    "start_time": "2022-01-21T10:00:17.612Z"
   },
   {
    "duration": 10,
    "start_time": "2022-01-21T10:00:26.731Z"
   },
   {
    "duration": 10,
    "start_time": "2022-01-21T10:00:37.700Z"
   },
   {
    "duration": 14,
    "start_time": "2022-01-21T10:00:54.611Z"
   },
   {
    "duration": 1082,
    "start_time": "2022-01-21T10:01:10.375Z"
   },
   {
    "duration": 392,
    "start_time": "2022-01-21T10:01:11.459Z"
   },
   {
    "duration": 10,
    "start_time": "2022-01-21T10:01:11.852Z"
   },
   {
    "duration": 21,
    "start_time": "2022-01-21T10:01:11.863Z"
   },
   {
    "duration": 27,
    "start_time": "2022-01-21T10:01:11.885Z"
   },
   {
    "duration": 6,
    "start_time": "2022-01-21T10:01:11.914Z"
   },
   {
    "duration": 18,
    "start_time": "2022-01-21T10:01:11.922Z"
   },
   {
    "duration": 21,
    "start_time": "2022-01-21T10:01:11.942Z"
   },
   {
    "duration": 6,
    "start_time": "2022-01-21T10:01:11.964Z"
   },
   {
    "duration": 14,
    "start_time": "2022-01-21T10:01:11.972Z"
   },
   {
    "duration": 12,
    "start_time": "2022-01-21T10:01:11.988Z"
   },
   {
    "duration": 32,
    "start_time": "2022-01-21T10:01:12.001Z"
   },
   {
    "duration": 7,
    "start_time": "2022-01-21T10:01:12.035Z"
   },
   {
    "duration": 23,
    "start_time": "2022-01-21T10:01:12.044Z"
   },
   {
    "duration": 8,
    "start_time": "2022-01-21T10:01:12.069Z"
   },
   {
    "duration": 6,
    "start_time": "2022-01-21T10:01:12.078Z"
   },
   {
    "duration": 42,
    "start_time": "2022-01-21T10:01:12.086Z"
   },
   {
    "duration": 13,
    "start_time": "2022-01-21T10:01:12.130Z"
   },
   {
    "duration": 61,
    "start_time": "2022-01-21T10:01:12.145Z"
   },
   {
    "duration": 66,
    "start_time": "2022-01-21T10:01:12.207Z"
   },
   {
    "duration": 9,
    "start_time": "2022-01-21T10:01:12.275Z"
   },
   {
    "duration": 10,
    "start_time": "2022-01-21T10:01:12.285Z"
   },
   {
    "duration": 43,
    "start_time": "2022-01-21T10:01:12.299Z"
   },
   {
    "duration": 36,
    "start_time": "2022-01-21T10:01:12.344Z"
   },
   {
    "duration": 13,
    "start_time": "2022-01-21T10:01:12.382Z"
   },
   {
    "duration": 40,
    "start_time": "2022-01-21T10:01:12.397Z"
   },
   {
    "duration": 16,
    "start_time": "2022-01-21T10:01:12.439Z"
   },
   {
    "duration": 25,
    "start_time": "2022-01-21T10:01:12.457Z"
   },
   {
    "duration": 4,
    "start_time": "2022-01-21T10:01:12.484Z"
   },
   {
    "duration": 60,
    "start_time": "2022-01-21T10:01:12.489Z"
   },
   {
    "duration": 7,
    "start_time": "2022-01-21T10:01:12.551Z"
   },
   {
    "duration": 9,
    "start_time": "2022-01-21T10:01:12.560Z"
   },
   {
    "duration": 7,
    "start_time": "2022-01-21T10:01:12.570Z"
   },
   {
    "duration": 4,
    "start_time": "2022-01-21T10:01:12.578Z"
   },
   {
    "duration": 207,
    "start_time": "2022-01-21T10:01:12.583Z"
   },
   {
    "duration": 7,
    "start_time": "2022-01-21T10:01:12.791Z"
   },
   {
    "duration": 20,
    "start_time": "2022-01-21T10:01:12.800Z"
   },
   {
    "duration": 12,
    "start_time": "2022-01-21T10:01:12.822Z"
   },
   {
    "duration": 14,
    "start_time": "2022-01-21T10:01:12.835Z"
   },
   {
    "duration": 214,
    "start_time": "2022-01-21T10:01:12.851Z"
   },
   {
    "duration": 32,
    "start_time": "2022-01-21T10:01:13.066Z"
   },
   {
    "duration": 1085,
    "start_time": "2022-01-21T10:01:13.100Z"
   },
   {
    "duration": 927,
    "start_time": "2022-01-21T10:01:14.187Z"
   },
   {
    "duration": 321,
    "start_time": "2022-01-21T10:01:15.116Z"
   },
   {
    "duration": 10,
    "start_time": "2022-01-21T10:01:15.438Z"
   },
   {
    "duration": 8,
    "start_time": "2022-01-21T10:01:15.449Z"
   },
   {
    "duration": 15,
    "start_time": "2022-01-21T10:01:15.458Z"
   },
   {
    "duration": 1456,
    "start_time": "2022-01-21T10:08:46.947Z"
   },
   {
    "duration": 568,
    "start_time": "2022-01-21T10:08:48.405Z"
   },
   {
    "duration": 13,
    "start_time": "2022-01-21T10:08:48.976Z"
   },
   {
    "duration": 19,
    "start_time": "2022-01-21T10:08:48.990Z"
   },
   {
    "duration": 28,
    "start_time": "2022-01-21T10:08:49.011Z"
   },
   {
    "duration": 8,
    "start_time": "2022-01-21T10:08:49.041Z"
   },
   {
    "duration": 18,
    "start_time": "2022-01-21T10:08:49.052Z"
   },
   {
    "duration": 28,
    "start_time": "2022-01-21T10:08:49.073Z"
   },
   {
    "duration": 10,
    "start_time": "2022-01-21T10:08:49.127Z"
   },
   {
    "duration": 22,
    "start_time": "2022-01-21T10:08:49.139Z"
   },
   {
    "duration": 19,
    "start_time": "2022-01-21T10:08:49.163Z"
   },
   {
    "duration": 9,
    "start_time": "2022-01-21T10:08:49.184Z"
   },
   {
    "duration": 35,
    "start_time": "2022-01-21T10:08:49.195Z"
   },
   {
    "duration": 25,
    "start_time": "2022-01-21T10:08:49.232Z"
   },
   {
    "duration": 9,
    "start_time": "2022-01-21T10:08:49.258Z"
   },
   {
    "duration": 9,
    "start_time": "2022-01-21T10:08:49.268Z"
   },
   {
    "duration": 15,
    "start_time": "2022-01-21T10:08:49.278Z"
   },
   {
    "duration": 41,
    "start_time": "2022-01-21T10:08:49.294Z"
   },
   {
    "duration": 59,
    "start_time": "2022-01-21T10:08:49.337Z"
   },
   {
    "duration": 58,
    "start_time": "2022-01-21T10:08:49.397Z"
   },
   {
    "duration": 7,
    "start_time": "2022-01-21T10:08:49.457Z"
   },
   {
    "duration": 8,
    "start_time": "2022-01-21T10:08:49.466Z"
   },
   {
    "duration": 23,
    "start_time": "2022-01-21T10:08:49.477Z"
   },
   {
    "duration": 52,
    "start_time": "2022-01-21T10:08:49.503Z"
   },
   {
    "duration": 13,
    "start_time": "2022-01-21T10:08:49.557Z"
   },
   {
    "duration": 24,
    "start_time": "2022-01-21T10:08:49.571Z"
   },
   {
    "duration": 36,
    "start_time": "2022-01-21T10:08:49.597Z"
   },
   {
    "duration": 25,
    "start_time": "2022-01-21T10:08:49.635Z"
   },
   {
    "duration": 3,
    "start_time": "2022-01-21T10:08:49.662Z"
   },
   {
    "duration": 33,
    "start_time": "2022-01-21T10:08:49.667Z"
   },
   {
    "duration": 27,
    "start_time": "2022-01-21T10:08:49.702Z"
   },
   {
    "duration": 8,
    "start_time": "2022-01-21T10:08:49.731Z"
   },
   {
    "duration": 10,
    "start_time": "2022-01-21T10:08:49.741Z"
   },
   {
    "duration": 3,
    "start_time": "2022-01-21T10:08:49.753Z"
   },
   {
    "duration": 198,
    "start_time": "2022-01-21T10:08:49.758Z"
   },
   {
    "duration": 7,
    "start_time": "2022-01-21T10:08:49.958Z"
   },
   {
    "duration": 17,
    "start_time": "2022-01-21T10:08:49.967Z"
   },
   {
    "duration": 8,
    "start_time": "2022-01-21T10:08:49.985Z"
   },
   {
    "duration": 14,
    "start_time": "2022-01-21T10:08:49.995Z"
   },
   {
    "duration": 227,
    "start_time": "2022-01-21T10:08:50.027Z"
   },
   {
    "duration": 29,
    "start_time": "2022-01-21T10:08:50.255Z"
   },
   {
    "duration": 1022,
    "start_time": "2022-01-21T10:08:50.285Z"
   },
   {
    "duration": 912,
    "start_time": "2022-01-21T10:08:51.308Z"
   },
   {
    "duration": 316,
    "start_time": "2022-01-21T10:08:52.222Z"
   },
   {
    "duration": 9,
    "start_time": "2022-01-21T10:08:52.540Z"
   },
   {
    "duration": 8,
    "start_time": "2022-01-21T10:08:52.551Z"
   },
   {
    "duration": 17,
    "start_time": "2022-01-21T10:08:52.560Z"
   },
   {
    "duration": 13,
    "start_time": "2022-01-21T10:13:55.542Z"
   },
   {
    "duration": 14,
    "start_time": "2022-01-21T10:14:15.823Z"
   },
   {
    "duration": 12,
    "start_time": "2022-01-21T10:15:29.705Z"
   },
   {
    "duration": 12,
    "start_time": "2022-01-21T10:15:35.575Z"
   },
   {
    "duration": 12,
    "start_time": "2022-01-21T10:18:07.092Z"
   },
   {
    "duration": 450,
    "start_time": "2022-01-21T10:18:29.468Z"
   },
   {
    "duration": 412,
    "start_time": "2022-01-21T10:22:13.308Z"
   },
   {
    "duration": 11,
    "start_time": "2022-01-21T10:22:34.665Z"
   },
   {
    "duration": 332,
    "start_time": "2022-01-21T10:22:52.383Z"
   },
   {
    "duration": 25,
    "start_time": "2022-01-21T10:26:59.838Z"
   },
   {
    "duration": 15,
    "start_time": "2022-01-21T10:29:06.701Z"
   },
   {
    "duration": 345,
    "start_time": "2022-01-21T10:29:40.321Z"
   },
   {
    "duration": 409,
    "start_time": "2022-01-21T10:30:03.498Z"
   },
   {
    "duration": 20,
    "start_time": "2022-01-21T10:30:13.315Z"
   },
   {
    "duration": 11,
    "start_time": "2022-01-21T10:30:28.866Z"
   },
   {
    "duration": 11,
    "start_time": "2022-01-21T10:30:36.462Z"
   },
   {
    "duration": 28,
    "start_time": "2022-01-21T10:32:22.837Z"
   },
   {
    "duration": 11,
    "start_time": "2022-01-21T10:33:00.149Z"
   },
   {
    "duration": 332,
    "start_time": "2022-01-21T10:34:12.466Z"
   },
   {
    "duration": 13,
    "start_time": "2022-01-21T10:34:32.908Z"
   },
   {
    "duration": 12,
    "start_time": "2022-01-21T10:35:13.314Z"
   },
   {
    "duration": 39,
    "start_time": "2022-01-21T10:35:57.419Z"
   },
   {
    "duration": 199,
    "start_time": "2022-01-21T10:37:30.055Z"
   },
   {
    "duration": 14,
    "start_time": "2022-01-21T10:38:30.887Z"
   },
   {
    "duration": 1092,
    "start_time": "2022-01-21T10:38:47.676Z"
   },
   {
    "duration": 383,
    "start_time": "2022-01-21T10:38:48.770Z"
   },
   {
    "duration": 11,
    "start_time": "2022-01-21T10:38:49.155Z"
   },
   {
    "duration": 21,
    "start_time": "2022-01-21T10:38:49.168Z"
   },
   {
    "duration": 28,
    "start_time": "2022-01-21T10:38:49.191Z"
   },
   {
    "duration": 7,
    "start_time": "2022-01-21T10:38:49.221Z"
   },
   {
    "duration": 23,
    "start_time": "2022-01-21T10:38:49.230Z"
   },
   {
    "duration": 29,
    "start_time": "2022-01-21T10:38:49.255Z"
   },
   {
    "duration": 8,
    "start_time": "2022-01-21T10:38:49.287Z"
   },
   {
    "duration": 33,
    "start_time": "2022-01-21T10:38:49.297Z"
   },
   {
    "duration": 14,
    "start_time": "2022-01-21T10:38:49.332Z"
   },
   {
    "duration": 6,
    "start_time": "2022-01-21T10:38:49.348Z"
   },
   {
    "duration": 8,
    "start_time": "2022-01-21T10:38:49.355Z"
   },
   {
    "duration": 25,
    "start_time": "2022-01-21T10:38:49.364Z"
   },
   {
    "duration": 7,
    "start_time": "2022-01-21T10:38:49.391Z"
   },
   {
    "duration": 31,
    "start_time": "2022-01-21T10:38:49.400Z"
   },
   {
    "duration": 17,
    "start_time": "2022-01-21T10:38:49.432Z"
   },
   {
    "duration": 13,
    "start_time": "2022-01-21T10:38:49.451Z"
   },
   {
    "duration": 73,
    "start_time": "2022-01-21T10:38:49.465Z"
   },
   {
    "duration": 50,
    "start_time": "2022-01-21T10:38:49.540Z"
   },
   {
    "duration": 7,
    "start_time": "2022-01-21T10:38:49.591Z"
   },
   {
    "duration": 9,
    "start_time": "2022-01-21T10:38:49.599Z"
   },
   {
    "duration": 34,
    "start_time": "2022-01-21T10:38:49.610Z"
   },
   {
    "duration": 38,
    "start_time": "2022-01-21T10:38:49.645Z"
   },
   {
    "duration": 13,
    "start_time": "2022-01-21T10:38:49.685Z"
   },
   {
    "duration": 43,
    "start_time": "2022-01-21T10:38:49.699Z"
   },
   {
    "duration": 16,
    "start_time": "2022-01-21T10:38:49.745Z"
   },
   {
    "duration": 25,
    "start_time": "2022-01-21T10:38:49.763Z"
   },
   {
    "duration": 3,
    "start_time": "2022-01-21T10:38:49.789Z"
   },
   {
    "duration": 50,
    "start_time": "2022-01-21T10:38:49.794Z"
   },
   {
    "duration": 7,
    "start_time": "2022-01-21T10:38:49.845Z"
   },
   {
    "duration": 8,
    "start_time": "2022-01-21T10:38:49.854Z"
   },
   {
    "duration": 7,
    "start_time": "2022-01-21T10:38:49.864Z"
   },
   {
    "duration": 3,
    "start_time": "2022-01-21T10:38:49.872Z"
   },
   {
    "duration": 213,
    "start_time": "2022-01-21T10:38:49.877Z"
   },
   {
    "duration": 6,
    "start_time": "2022-01-21T10:38:50.092Z"
   },
   {
    "duration": 15,
    "start_time": "2022-01-21T10:38:50.100Z"
   },
   {
    "duration": 17,
    "start_time": "2022-01-21T10:38:50.116Z"
   },
   {
    "duration": 14,
    "start_time": "2022-01-21T10:38:50.134Z"
   },
   {
    "duration": 202,
    "start_time": "2022-01-21T10:38:50.149Z"
   },
   {
    "duration": 13,
    "start_time": "2022-01-21T10:38:50.353Z"
   },
   {
    "duration": 27,
    "start_time": "2022-01-21T10:38:50.367Z"
   },
   {
    "duration": 1078,
    "start_time": "2022-01-21T10:38:50.395Z"
   },
   {
    "duration": 1059,
    "start_time": "2022-01-21T10:38:51.474Z"
   },
   {
    "duration": 318,
    "start_time": "2022-01-21T10:38:52.534Z"
   },
   {
    "duration": 9,
    "start_time": "2022-01-21T10:38:52.854Z"
   },
   {
    "duration": 10,
    "start_time": "2022-01-21T10:38:52.864Z"
   },
   {
    "duration": 14,
    "start_time": "2022-01-21T10:38:52.875Z"
   },
   {
    "duration": 58,
    "start_time": "2022-01-21T10:38:52.891Z"
   },
   {
    "duration": 10,
    "start_time": "2022-01-21T10:38:52.950Z"
   },
   {
    "duration": 22,
    "start_time": "2022-01-21T10:41:17.849Z"
   },
   {
    "duration": 1127,
    "start_time": "2022-01-21T10:43:26.636Z"
   },
   {
    "duration": 386,
    "start_time": "2022-01-21T10:43:27.765Z"
   },
   {
    "duration": 10,
    "start_time": "2022-01-21T10:43:28.153Z"
   },
   {
    "duration": 18,
    "start_time": "2022-01-21T10:43:28.165Z"
   },
   {
    "duration": 28,
    "start_time": "2022-01-21T10:43:28.185Z"
   },
   {
    "duration": 6,
    "start_time": "2022-01-21T10:43:28.215Z"
   },
   {
    "duration": 18,
    "start_time": "2022-01-21T10:43:28.222Z"
   },
   {
    "duration": 21,
    "start_time": "2022-01-21T10:43:28.241Z"
   },
   {
    "duration": 6,
    "start_time": "2022-01-21T10:43:28.264Z"
   },
   {
    "duration": 15,
    "start_time": "2022-01-21T10:43:28.272Z"
   },
   {
    "duration": 12,
    "start_time": "2022-01-21T10:43:28.288Z"
   },
   {
    "duration": 30,
    "start_time": "2022-01-21T10:43:28.302Z"
   },
   {
    "duration": 8,
    "start_time": "2022-01-21T10:43:28.333Z"
   },
   {
    "duration": 24,
    "start_time": "2022-01-21T10:43:28.343Z"
   },
   {
    "duration": 8,
    "start_time": "2022-01-21T10:43:28.368Z"
   },
   {
    "duration": 7,
    "start_time": "2022-01-21T10:43:28.378Z"
   },
   {
    "duration": 14,
    "start_time": "2022-01-21T10:43:28.386Z"
   },
   {
    "duration": 37,
    "start_time": "2022-01-21T10:43:28.401Z"
   },
   {
    "duration": 61,
    "start_time": "2022-01-21T10:43:28.439Z"
   },
   {
    "duration": 67,
    "start_time": "2022-01-21T10:43:28.502Z"
   },
   {
    "duration": 7,
    "start_time": "2022-01-21T10:43:28.570Z"
   },
   {
    "duration": 13,
    "start_time": "2022-01-21T10:43:28.579Z"
   },
   {
    "duration": 34,
    "start_time": "2022-01-21T10:43:28.594Z"
   },
   {
    "duration": 37,
    "start_time": "2022-01-21T10:43:28.629Z"
   },
   {
    "duration": 14,
    "start_time": "2022-01-21T10:43:28.667Z"
   },
   {
    "duration": 24,
    "start_time": "2022-01-21T10:43:28.682Z"
   },
   {
    "duration": 32,
    "start_time": "2022-01-21T10:43:28.709Z"
   },
   {
    "duration": 24,
    "start_time": "2022-01-21T10:43:28.742Z"
   },
   {
    "duration": 3,
    "start_time": "2022-01-21T10:43:28.768Z"
   },
   {
    "duration": 31,
    "start_time": "2022-01-21T10:43:28.773Z"
   },
   {
    "duration": 5,
    "start_time": "2022-01-21T10:43:28.827Z"
   },
   {
    "duration": 7,
    "start_time": "2022-01-21T10:43:28.834Z"
   },
   {
    "duration": 6,
    "start_time": "2022-01-21T10:43:28.843Z"
   },
   {
    "duration": 3,
    "start_time": "2022-01-21T10:43:28.851Z"
   },
   {
    "duration": 198,
    "start_time": "2022-01-21T10:43:28.856Z"
   },
   {
    "duration": 7,
    "start_time": "2022-01-21T10:43:29.056Z"
   },
   {
    "duration": 18,
    "start_time": "2022-01-21T10:43:29.065Z"
   },
   {
    "duration": 6,
    "start_time": "2022-01-21T10:43:29.084Z"
   },
   {
    "duration": 12,
    "start_time": "2022-01-21T10:43:29.092Z"
   },
   {
    "duration": 212,
    "start_time": "2022-01-21T10:43:29.127Z"
   },
   {
    "duration": 22,
    "start_time": "2022-01-21T10:43:29.340Z"
   },
   {
    "duration": 28,
    "start_time": "2022-01-21T10:43:29.364Z"
   },
   {
    "duration": 870,
    "start_time": "2022-01-21T10:43:29.394Z"
   },
   {
    "duration": 923,
    "start_time": "2022-01-21T10:43:30.266Z"
   },
   {
    "duration": 382,
    "start_time": "2022-01-21T10:43:31.190Z"
   },
   {
    "duration": 62,
    "start_time": "2022-01-21T10:43:31.574Z"
   },
   {
    "duration": 22,
    "start_time": "2022-01-21T10:43:31.638Z"
   },
   {
    "duration": 66,
    "start_time": "2022-01-21T10:43:31.662Z"
   },
   {
    "duration": 40,
    "start_time": "2022-01-21T10:43:31.730Z"
   },
   {
    "duration": 63,
    "start_time": "2022-01-21T10:43:31.771Z"
   },
   {
    "duration": 1066,
    "start_time": "2022-01-21T10:45:55.404Z"
   },
   {
    "duration": 387,
    "start_time": "2022-01-21T10:45:56.472Z"
   },
   {
    "duration": 10,
    "start_time": "2022-01-21T10:45:56.861Z"
   },
   {
    "duration": 18,
    "start_time": "2022-01-21T10:45:56.873Z"
   },
   {
    "duration": 28,
    "start_time": "2022-01-21T10:45:56.892Z"
   },
   {
    "duration": 6,
    "start_time": "2022-01-21T10:45:56.921Z"
   },
   {
    "duration": 15,
    "start_time": "2022-01-21T10:45:56.929Z"
   },
   {
    "duration": 22,
    "start_time": "2022-01-21T10:45:56.945Z"
   },
   {
    "duration": 6,
    "start_time": "2022-01-21T10:45:56.969Z"
   },
   {
    "duration": 13,
    "start_time": "2022-01-21T10:45:56.977Z"
   },
   {
    "duration": 37,
    "start_time": "2022-01-21T10:45:56.991Z"
   },
   {
    "duration": 7,
    "start_time": "2022-01-21T10:45:57.029Z"
   },
   {
    "duration": 8,
    "start_time": "2022-01-21T10:45:57.037Z"
   },
   {
    "duration": 25,
    "start_time": "2022-01-21T10:45:57.046Z"
   },
   {
    "duration": 8,
    "start_time": "2022-01-21T10:45:57.073Z"
   },
   {
    "duration": 8,
    "start_time": "2022-01-21T10:45:57.082Z"
   },
   {
    "duration": 36,
    "start_time": "2022-01-21T10:45:57.092Z"
   },
   {
    "duration": 13,
    "start_time": "2022-01-21T10:45:57.129Z"
   },
   {
    "duration": 61,
    "start_time": "2022-01-21T10:45:57.144Z"
   },
   {
    "duration": 65,
    "start_time": "2022-01-21T10:45:57.207Z"
   },
   {
    "duration": 7,
    "start_time": "2022-01-21T10:45:57.274Z"
   },
   {
    "duration": 11,
    "start_time": "2022-01-21T10:45:57.283Z"
   },
   {
    "duration": 34,
    "start_time": "2022-01-21T10:45:57.295Z"
   },
   {
    "duration": 36,
    "start_time": "2022-01-21T10:45:57.330Z"
   },
   {
    "duration": 13,
    "start_time": "2022-01-21T10:45:57.368Z"
   },
   {
    "duration": 23,
    "start_time": "2022-01-21T10:45:57.382Z"
   },
   {
    "duration": 32,
    "start_time": "2022-01-21T10:45:57.408Z"
   },
   {
    "duration": 25,
    "start_time": "2022-01-21T10:45:57.442Z"
   },
   {
    "duration": 3,
    "start_time": "2022-01-21T10:45:57.469Z"
   },
   {
    "duration": 54,
    "start_time": "2022-01-21T10:45:57.474Z"
   },
   {
    "duration": 6,
    "start_time": "2022-01-21T10:45:57.530Z"
   },
   {
    "duration": 9,
    "start_time": "2022-01-21T10:45:57.537Z"
   },
   {
    "duration": 6,
    "start_time": "2022-01-21T10:45:57.548Z"
   },
   {
    "duration": 6,
    "start_time": "2022-01-21T10:45:57.555Z"
   },
   {
    "duration": 196,
    "start_time": "2022-01-21T10:45:57.562Z"
   },
   {
    "duration": 7,
    "start_time": "2022-01-21T10:45:57.759Z"
   },
   {
    "duration": 15,
    "start_time": "2022-01-21T10:45:57.768Z"
   },
   {
    "duration": 8,
    "start_time": "2022-01-21T10:45:57.785Z"
   },
   {
    "duration": 13,
    "start_time": "2022-01-21T10:45:57.794Z"
   },
   {
    "duration": 208,
    "start_time": "2022-01-21T10:45:57.808Z"
   },
   {
    "duration": 25,
    "start_time": "2022-01-21T10:45:58.017Z"
   },
   {
    "duration": 27,
    "start_time": "2022-01-21T10:45:58.043Z"
   },
   {
    "duration": 881,
    "start_time": "2022-01-21T10:45:58.071Z"
   },
   {
    "duration": 947,
    "start_time": "2022-01-21T10:45:58.954Z"
   },
   {
    "duration": 317,
    "start_time": "2022-01-21T10:45:59.903Z"
   },
   {
    "duration": 9,
    "start_time": "2022-01-21T10:46:00.227Z"
   },
   {
    "duration": 10,
    "start_time": "2022-01-21T10:46:00.237Z"
   },
   {
    "duration": 21,
    "start_time": "2022-01-21T10:46:00.248Z"
   },
   {
    "duration": 39,
    "start_time": "2022-01-21T10:46:00.271Z"
   },
   {
    "duration": 22,
    "start_time": "2022-01-21T10:46:00.312Z"
   },
   {
    "duration": 269,
    "start_time": "2022-01-21T18:40:08.197Z"
   },
   {
    "duration": 1089,
    "start_time": "2022-01-21T18:40:19.801Z"
   },
   {
    "duration": 388,
    "start_time": "2022-01-21T18:40:20.891Z"
   },
   {
    "duration": 10,
    "start_time": "2022-01-21T18:40:21.281Z"
   },
   {
    "duration": 40,
    "start_time": "2022-01-21T18:40:21.292Z"
   },
   {
    "duration": 36,
    "start_time": "2022-01-21T18:40:21.334Z"
   },
   {
    "duration": 7,
    "start_time": "2022-01-21T18:40:21.371Z"
   },
   {
    "duration": 31,
    "start_time": "2022-01-21T18:40:21.379Z"
   },
   {
    "duration": 21,
    "start_time": "2022-01-21T18:40:21.412Z"
   },
   {
    "duration": 10,
    "start_time": "2022-01-21T18:40:21.435Z"
   },
   {
    "duration": 24,
    "start_time": "2022-01-21T18:40:21.446Z"
   },
   {
    "duration": 19,
    "start_time": "2022-01-21T18:40:21.472Z"
   },
   {
    "duration": 18,
    "start_time": "2022-01-21T18:40:21.493Z"
   },
   {
    "duration": 29,
    "start_time": "2022-01-21T18:40:21.512Z"
   },
   {
    "duration": 40,
    "start_time": "2022-01-21T18:40:21.543Z"
   },
   {
    "duration": 17,
    "start_time": "2022-01-21T18:40:21.584Z"
   },
   {
    "duration": 18,
    "start_time": "2022-01-21T18:40:21.602Z"
   },
   {
    "duration": 21,
    "start_time": "2022-01-21T18:40:21.622Z"
   },
   {
    "duration": 23,
    "start_time": "2022-01-21T18:40:21.645Z"
   },
   {
    "duration": 61,
    "start_time": "2022-01-21T18:40:21.669Z"
   },
   {
    "duration": 53,
    "start_time": "2022-01-21T18:40:21.732Z"
   },
   {
    "duration": 7,
    "start_time": "2022-01-21T18:40:21.787Z"
   },
   {
    "duration": 17,
    "start_time": "2022-01-21T18:40:21.796Z"
   },
   {
    "duration": 42,
    "start_time": "2022-01-21T18:40:21.815Z"
   },
   {
    "duration": 41,
    "start_time": "2022-01-21T18:40:21.859Z"
   },
   {
    "duration": 14,
    "start_time": "2022-01-21T18:40:21.902Z"
   },
   {
    "duration": 38,
    "start_time": "2022-01-21T18:40:21.917Z"
   },
   {
    "duration": 16,
    "start_time": "2022-01-21T18:40:21.958Z"
   },
   {
    "duration": 28,
    "start_time": "2022-01-21T18:40:21.976Z"
   },
   {
    "duration": 3,
    "start_time": "2022-01-21T18:40:22.006Z"
   },
   {
    "duration": 45,
    "start_time": "2022-01-21T18:40:22.011Z"
   },
   {
    "duration": 5,
    "start_time": "2022-01-21T18:40:22.057Z"
   },
   {
    "duration": 29,
    "start_time": "2022-01-21T18:40:22.063Z"
   },
   {
    "duration": 12,
    "start_time": "2022-01-21T18:40:22.093Z"
   },
   {
    "duration": 12,
    "start_time": "2022-01-21T18:40:22.107Z"
   },
   {
    "duration": 216,
    "start_time": "2022-01-21T18:40:22.120Z"
   },
   {
    "duration": 7,
    "start_time": "2022-01-21T18:40:22.338Z"
   },
   {
    "duration": 34,
    "start_time": "2022-01-21T18:40:22.347Z"
   },
   {
    "duration": 17,
    "start_time": "2022-01-21T18:40:22.382Z"
   },
   {
    "duration": 39,
    "start_time": "2022-01-21T18:40:22.400Z"
   },
   {
    "duration": 238,
    "start_time": "2022-01-21T18:40:22.441Z"
   },
   {
    "duration": 23,
    "start_time": "2022-01-21T18:40:22.680Z"
   },
   {
    "duration": 59,
    "start_time": "2022-01-21T18:40:22.705Z"
   },
   {
    "duration": 842,
    "start_time": "2022-01-21T18:40:22.766Z"
   },
   {
    "duration": 1377,
    "start_time": "2022-01-21T18:40:23.610Z"
   },
   {
    "duration": 321,
    "start_time": "2022-01-21T18:40:24.989Z"
   },
   {
    "duration": 10,
    "start_time": "2022-01-21T18:40:25.312Z"
   },
   {
    "duration": 32,
    "start_time": "2022-01-21T18:40:25.324Z"
   },
   {
    "duration": 49,
    "start_time": "2022-01-21T18:40:25.358Z"
   },
   {
    "duration": 56,
    "start_time": "2022-01-21T18:40:25.409Z"
   },
   {
    "duration": 12,
    "start_time": "2022-01-21T18:40:25.467Z"
   },
   {
    "duration": 1120,
    "start_time": "2022-01-21T18:40:47.756Z"
   },
   {
    "duration": 1091,
    "start_time": "2022-01-21T18:41:01.485Z"
   },
   {
    "duration": 79,
    "start_time": "2022-01-21T18:47:59.264Z"
   },
   {
    "duration": 3,
    "start_time": "2022-01-21T18:48:15.528Z"
   },
   {
    "duration": 20,
    "start_time": "2022-01-21T18:56:19.368Z"
   },
   {
    "duration": 1039,
    "start_time": "2022-01-21T18:58:56.766Z"
   },
   {
    "duration": 404,
    "start_time": "2022-01-21T18:58:57.807Z"
   },
   {
    "duration": 10,
    "start_time": "2022-01-21T18:58:58.213Z"
   },
   {
    "duration": 41,
    "start_time": "2022-01-21T18:58:58.225Z"
   },
   {
    "duration": 28,
    "start_time": "2022-01-21T18:58:58.268Z"
   },
   {
    "duration": 7,
    "start_time": "2022-01-21T18:58:58.298Z"
   },
   {
    "duration": 19,
    "start_time": "2022-01-21T18:58:58.306Z"
   },
   {
    "duration": 33,
    "start_time": "2022-01-21T18:58:58.327Z"
   },
   {
    "duration": 6,
    "start_time": "2022-01-21T18:58:58.363Z"
   },
   {
    "duration": 15,
    "start_time": "2022-01-21T18:58:58.371Z"
   },
   {
    "duration": 17,
    "start_time": "2022-01-21T18:58:58.387Z"
   },
   {
    "duration": 37,
    "start_time": "2022-01-21T18:58:58.405Z"
   },
   {
    "duration": 6,
    "start_time": "2022-01-21T18:58:58.444Z"
   },
   {
    "duration": 26,
    "start_time": "2022-01-21T18:58:58.451Z"
   },
   {
    "duration": 9,
    "start_time": "2022-01-21T18:58:58.478Z"
   },
   {
    "duration": 7,
    "start_time": "2022-01-21T18:58:58.488Z"
   },
   {
    "duration": 14,
    "start_time": "2022-01-21T18:58:58.496Z"
   },
   {
    "duration": 38,
    "start_time": "2022-01-21T18:58:58.512Z"
   },
   {
    "duration": 91,
    "start_time": "2022-01-21T18:58:58.552Z"
   },
   {
    "duration": 50,
    "start_time": "2022-01-21T18:58:58.645Z"
   },
   {
    "duration": 7,
    "start_time": "2022-01-21T18:58:58.696Z"
   },
   {
    "duration": 13,
    "start_time": "2022-01-21T18:58:58.704Z"
   },
   {
    "duration": 37,
    "start_time": "2022-01-21T18:58:58.718Z"
   },
   {
    "duration": 35,
    "start_time": "2022-01-21T18:58:58.757Z"
   },
   {
    "duration": 13,
    "start_time": "2022-01-21T18:58:58.793Z"
   },
   {
    "duration": 39,
    "start_time": "2022-01-21T18:58:58.808Z"
   },
   {
    "duration": 15,
    "start_time": "2022-01-21T18:58:58.851Z"
   },
   {
    "duration": 25,
    "start_time": "2022-01-21T18:58:58.868Z"
   },
   {
    "duration": 4,
    "start_time": "2022-01-21T18:58:58.894Z"
   },
   {
    "duration": 54,
    "start_time": "2022-01-21T18:58:58.899Z"
   },
   {
    "duration": 6,
    "start_time": "2022-01-21T18:58:58.954Z"
   },
   {
    "duration": 8,
    "start_time": "2022-01-21T18:58:58.962Z"
   },
   {
    "duration": 7,
    "start_time": "2022-01-21T18:58:58.971Z"
   },
   {
    "duration": 4,
    "start_time": "2022-01-21T18:58:58.979Z"
   },
   {
    "duration": 201,
    "start_time": "2022-01-21T18:58:58.984Z"
   },
   {
    "duration": 7,
    "start_time": "2022-01-21T18:58:59.187Z"
   },
   {
    "duration": 16,
    "start_time": "2022-01-21T18:58:59.196Z"
   },
   {
    "duration": 9,
    "start_time": "2022-01-21T18:58:59.214Z"
   },
   {
    "duration": 28,
    "start_time": "2022-01-21T18:58:59.225Z"
   },
   {
    "duration": 4,
    "start_time": "2022-01-21T18:58:59.254Z"
   },
   {
    "duration": 16,
    "start_time": "2022-01-21T18:58:59.259Z"
   },
   {
    "duration": 26,
    "start_time": "2022-01-21T18:58:59.277Z"
   },
   {
    "duration": 1012,
    "start_time": "2022-01-21T18:58:59.304Z"
   },
   {
    "duration": 1064,
    "start_time": "2022-01-21T18:59:00.317Z"
   },
   {
    "duration": 473,
    "start_time": "2022-01-21T18:59:01.383Z"
   },
   {
    "duration": 10,
    "start_time": "2022-01-21T18:59:01.858Z"
   },
   {
    "duration": 9,
    "start_time": "2022-01-21T18:59:01.870Z"
   },
   {
    "duration": 15,
    "start_time": "2022-01-21T18:59:01.881Z"
   },
   {
    "duration": 71,
    "start_time": "2022-01-21T18:59:01.898Z"
   },
   {
    "duration": 11,
    "start_time": "2022-01-21T18:59:01.971Z"
   }
  ],
  "kernelspec": {
   "display_name": "Python 3 (ipykernel)",
   "language": "python",
   "name": "python3"
  },
  "language_info": {
   "codemirror_mode": {
    "name": "ipython",
    "version": 3
   },
   "file_extension": ".py",
   "mimetype": "text/x-python",
   "name": "python",
   "nbconvert_exporter": "python",
   "pygments_lexer": "ipython3",
   "version": "3.9.7"
  },
  "toc": {
   "base_numbering": 1,
   "nav_menu": {},
   "number_sections": true,
   "sideBar": true,
   "skip_h1_title": true,
   "title_cell": "Table of Contents",
   "title_sidebar": "Contents",
   "toc_cell": false,
   "toc_position": {
    "height": "calc(100% - 180px)",
    "left": "10px",
    "top": "150px",
    "width": "270px"
   },
   "toc_section_display": true,
   "toc_window_display": true
  }
 },
 "nbformat": 4,
 "nbformat_minor": 2
}
